{
 "cells": [
  {
   "cell_type": "code",
   "execution_count": null,
   "id": "d0895981",
   "metadata": {},
   "outputs": [
    {
     "name": "stderr",
     "output_type": "stream",
     "text": [
      "  0%|          | 1/1500 [00:01<39:25,  1.58s/it]"
     ]
    },
    {
     "name": "stdout",
     "output_type": "stream",
     "text": [
      "Saved 10ㆍ27법난 피해자의 명예회복 등에 관한 법률 to 법령별 csv 저장\n"
     ]
    },
    {
     "name": "stderr",
     "output_type": "stream",
     "text": [
      "  0%|          | 2/1500 [00:03<50:52,  2.04s/it]"
     ]
    },
    {
     "name": "stdout",
     "output_type": "stream",
     "text": [
      "Saved 10ㆍ29이태원참사 피해자 권리보장과 진상규명 및 재발방지를 위한 특별법 to 법령별 csv 저장\n"
     ]
    },
    {
     "name": "stderr",
     "output_type": "stream",
     "text": [
      "  0%|          | 3/1500 [00:05<48:39,  1.95s/it]"
     ]
    },
    {
     "name": "stdout",
     "output_type": "stream",
     "text": [
      "Saved 112신고의 운영 및 처리에 관한 법률 to 법령별 csv 저장\n"
     ]
    },
    {
     "name": "stderr",
     "output_type": "stream",
     "text": [
      "  0%|          | 4/1500 [00:07<42:28,  1.70s/it]"
     ]
    },
    {
     "name": "stdout",
     "output_type": "stream",
     "text": [
      "Saved 119구조ㆍ구급에 관한 법률 to 법령별 csv 저장\n"
     ]
    },
    {
     "name": "stderr",
     "output_type": "stream",
     "text": [
      "  0%|          | 5/1500 [00:08<39:12,  1.57s/it]"
     ]
    },
    {
     "name": "stdout",
     "output_type": "stream",
     "text": [
      "Saved 119긴급신고의 관리 및 운영에 관한 법률 to 법령별 csv 저장\n"
     ]
    },
    {
     "name": "stderr",
     "output_type": "stream",
     "text": [
      "  0%|          | 6/1500 [00:09<37:37,  1.51s/it]"
     ]
    },
    {
     "name": "stdout",
     "output_type": "stream",
     "text": [
      "Saved 12ㆍ29여객기참사 피해구제 및 지원 등을 위한 특별법 to 법령별 csv 저장\n"
     ]
    },
    {
     "name": "stderr",
     "output_type": "stream",
     "text": [
      "  0%|          | 7/1500 [00:11<35:43,  1.44s/it]"
     ]
    },
    {
     "name": "stdout",
     "output_type": "stream",
     "text": [
      "Saved 1959년 12월 31일 이전에 퇴직한 군인의 퇴직급여금지급에 관한 특별법 to 법령별 csv 저장\n"
     ]
    },
    {
     "name": "stderr",
     "output_type": "stream",
     "text": [
      "  1%|          | 8/1500 [00:12<33:01,  1.33s/it]"
     ]
    },
    {
     "name": "stdout",
     "output_type": "stream",
     "text": [
      "Saved 1980년해직공무원의보상등에관한특별조치법 to 법령별 csv 저장\n"
     ]
    },
    {
     "name": "stderr",
     "output_type": "stream",
     "text": [
      "  1%|          | 9/1500 [00:13<36:08,  1.45s/it]"
     ]
    },
    {
     "name": "stdout",
     "output_type": "stream",
     "text": [
      "Saved 1인 창조기업 육성에 관한 법률 to 법령별 csv 저장\n"
     ]
    },
    {
     "name": "stderr",
     "output_type": "stream",
     "text": [
      "  1%|          | 10/1500 [00:15<40:03,  1.61s/it]"
     ]
    },
    {
     "name": "stdout",
     "output_type": "stream",
     "text": [
      "Saved 2018 평창 동계올림픽대회 및 동계패럴림픽대회 지원 등에 관한 특별법 to 법령별 csv 저장\n"
     ]
    },
    {
     "name": "stderr",
     "output_type": "stream",
     "text": [
      "  1%|          | 11/1500 [00:17<37:05,  1.49s/it]"
     ]
    },
    {
     "name": "stdout",
     "output_type": "stream",
     "text": [
      "Saved 2025 경주 아시아태평양경제협력체 정상회의 지원 특별법 to 법령별 csv 저장\n"
     ]
    },
    {
     "name": "stderr",
     "output_type": "stream",
     "text": [
      "  1%|          | 12/1500 [00:18<35:36,  1.44s/it]"
     ]
    },
    {
     "name": "stdout",
     "output_type": "stream",
     "text": [
      "Saved 30개월 이상 복무한 상등병 만기전역자의 특별진급을 위한 특별법 to 법령별 csv 저장\n"
     ]
    },
    {
     "name": "stderr",
     "output_type": "stream",
     "text": [
      "  1%|          | 13/1500 [00:19<34:26,  1.39s/it]"
     ]
    },
    {
     "name": "stdout",
     "output_type": "stream",
     "text": [
      "Saved 3ㆍ15의거 참여자의 명예회복 등에 관한 법률 to 법령별 csv 저장\n"
     ]
    },
    {
     "name": "stderr",
     "output_type": "stream",
     "text": [
      "  1%|          | 14/1500 [00:21<36:03,  1.46s/it]"
     ]
    },
    {
     "name": "stdout",
     "output_type": "stream",
     "text": [
      "Saved 4ㆍ16세월호참사 진상규명 및 안전사회 건설 등을 위한 특별법 to 법령별 csv 저장\n"
     ]
    },
    {
     "name": "stderr",
     "output_type": "stream",
     "text": [
      "  1%|          | 15/1500 [00:22<36:15,  1.47s/it]"
     ]
    },
    {
     "name": "stdout",
     "output_type": "stream",
     "text": [
      "Saved 4ㆍ16세월호참사 피해구제 및 지원 등을 위한 특별법 to 법령별 csv 저장\n"
     ]
    },
    {
     "name": "stderr",
     "output_type": "stream",
     "text": [
      "  1%|          | 16/1500 [00:24<40:42,  1.65s/it]"
     ]
    },
    {
     "name": "stdout",
     "output_type": "stream",
     "text": [
      "Saved 5ㆍ18민주유공자예우 및 단체설립에 관한 법률 to 법령별 csv 저장\n"
     ]
    },
    {
     "name": "stderr",
     "output_type": "stream",
     "text": [
      "  1%|          | 17/1500 [00:26<39:20,  1.59s/it]"
     ]
    },
    {
     "name": "stdout",
     "output_type": "stream",
     "text": [
      "Saved 5ㆍ18민주화운동 관련자 보상 등에 관한 법률 to 법령별 csv 저장\n"
     ]
    },
    {
     "name": "stderr",
     "output_type": "stream",
     "text": [
      "  1%|          | 18/1500 [00:27<37:14,  1.51s/it]"
     ]
    },
    {
     "name": "stdout",
     "output_type": "stream",
     "text": [
      "Saved 5ㆍ18민주화운동 등에 관한 특별법 to 법령별 csv 저장\n"
     ]
    },
    {
     "name": "stderr",
     "output_type": "stream",
     "text": [
      "  1%|▏         | 19/1500 [00:29<39:15,  1.59s/it]"
     ]
    },
    {
     "name": "stdout",
     "output_type": "stream",
     "text": [
      "Saved 5ㆍ18민주화운동 진상규명을 위한 특별법 to 법령별 csv 저장\n"
     ]
    },
    {
     "name": "stderr",
     "output_type": "stream",
     "text": [
      "  1%|▏         | 20/1500 [00:30<37:44,  1.53s/it]"
     ]
    },
    {
     "name": "stdout",
     "output_type": "stream",
     "text": [
      "Saved 6ㆍ25 전사자유해의 발굴 등에 관한 법률 to 법령별 csv 저장\n"
     ]
    },
    {
     "name": "stderr",
     "output_type": "stream",
     "text": [
      "  1%|▏         | 21/1500 [00:32<35:17,  1.43s/it]"
     ]
    },
    {
     "name": "stdout",
     "output_type": "stream",
     "text": [
      "Saved 6ㆍ25전쟁 납북피해 진상규명 및 납북피해자 명예회복에 관한 법률 to 법령별 csv 저장\n"
     ]
    },
    {
     "name": "stderr",
     "output_type": "stream",
     "text": [
      "  1%|▏         | 22/1500 [00:33<33:02,  1.34s/it]"
     ]
    },
    {
     "name": "stdout",
     "output_type": "stream",
     "text": [
      "Saved 6ㆍ25전쟁 무공훈장 수여 등에 관한 법률 to 법령별 csv 저장\n"
     ]
    },
    {
     "name": "stderr",
     "output_type": "stream",
     "text": [
      "  2%|▏         | 23/1500 [00:34<35:38,  1.45s/it]"
     ]
    },
    {
     "name": "stdout",
     "output_type": "stream",
     "text": [
      "Saved 6ㆍ25전쟁 전후 적 지역에서 활동한 비정규군 공로자 보상에 관한 법률 to 법령별 csv 저장\n"
     ]
    },
    {
     "name": "stderr",
     "output_type": "stream",
     "text": [
      "  2%|▏         | 24/1500 [00:36<35:53,  1.46s/it]"
     ]
    },
    {
     "name": "stdout",
     "output_type": "stream",
     "text": [
      "Saved 가덕도신공항건설공단법 to 법령별 csv 저장\n"
     ]
    },
    {
     "name": "stderr",
     "output_type": "stream",
     "text": [
      "  2%|▏         | 25/1500 [00:37<35:56,  1.46s/it]"
     ]
    },
    {
     "name": "stdout",
     "output_type": "stream",
     "text": [
      "Saved 가덕도신공항 건설을 위한 특별법 to 법령별 csv 저장\n"
     ]
    },
    {
     "name": "stderr",
     "output_type": "stream",
     "text": [
      "  2%|▏         | 26/1500 [00:39<35:39,  1.45s/it]"
     ]
    },
    {
     "name": "stdout",
     "output_type": "stream",
     "text": [
      "Saved 가등기담보 등에 관한 법률 to 법령별 csv 저장\n"
     ]
    },
    {
     "name": "stderr",
     "output_type": "stream",
     "text": [
      "  2%|▏         | 27/1500 [00:41<39:23,  1.60s/it]"
     ]
    },
    {
     "name": "stdout",
     "output_type": "stream",
     "text": [
      "Saved 가맹사업거래의 공정화에 관한 법률 to 법령별 csv 저장\n"
     ]
    },
    {
     "name": "stderr",
     "output_type": "stream",
     "text": [
      "  2%|▏         | 28/1500 [00:42<35:46,  1.46s/it]"
     ]
    },
    {
     "name": "stdout",
     "output_type": "stream",
     "text": [
      "Saved 가맹사업 진흥에 관한 법률 to 법령별 csv 저장\n"
     ]
    },
    {
     "name": "stderr",
     "output_type": "stream",
     "text": [
      "  2%|▏         | 29/1500 [00:43<34:23,  1.40s/it]"
     ]
    },
    {
     "name": "stdout",
     "output_type": "stream",
     "text": [
      "Saved 가사근로자의 고용개선 등에 관한 법률 to 법령별 csv 저장\n"
     ]
    },
    {
     "name": "stderr",
     "output_type": "stream",
     "text": [
      "  2%|▏         | 30/1500 [00:45<38:54,  1.59s/it]"
     ]
    },
    {
     "name": "stdout",
     "output_type": "stream",
     "text": [
      "Saved 가사소송법 to 법령별 csv 저장\n"
     ]
    },
    {
     "name": "stderr",
     "output_type": "stream",
     "text": [
      "  2%|▏         | 31/1500 [00:47<39:01,  1.59s/it]"
     ]
    },
    {
     "name": "stdout",
     "output_type": "stream",
     "text": [
      "Saved 가상융합산업 진흥법 to 법령별 csv 저장\n"
     ]
    },
    {
     "name": "stderr",
     "output_type": "stream",
     "text": [
      "  2%|▏         | 32/1500 [00:48<38:11,  1.56s/it]"
     ]
    },
    {
     "name": "stdout",
     "output_type": "stream",
     "text": [
      "Saved 가상자산 이용자 보호 등에 관한 법률 to 법령별 csv 저장\n"
     ]
    },
    {
     "name": "stderr",
     "output_type": "stream",
     "text": [
      "  2%|▏         | 33/1500 [00:50<42:44,  1.75s/it]"
     ]
    },
    {
     "name": "stdout",
     "output_type": "stream",
     "text": [
      "Saved 가습기살균제 피해구제를 위한 특별법 to 법령별 csv 저장\n"
     ]
    },
    {
     "name": "stderr",
     "output_type": "stream",
     "text": [
      "  2%|▏         | 34/1500 [00:52<43:02,  1.76s/it]"
     ]
    },
    {
     "name": "stdout",
     "output_type": "stream",
     "text": [
      "Saved 가정폭력방지 및 피해자보호 등에 관한 법률 to 법령별 csv 저장\n"
     ]
    },
    {
     "name": "stderr",
     "output_type": "stream",
     "text": [
      "  2%|▏         | 35/1500 [00:54<45:51,  1.88s/it]"
     ]
    },
    {
     "name": "stdout",
     "output_type": "stream",
     "text": [
      "Saved 가정폭력범죄의 처벌 등에 관한 특례법 to 법령별 csv 저장\n"
     ]
    },
    {
     "name": "stderr",
     "output_type": "stream",
     "text": [
      "  2%|▏         | 36/1500 [00:57<48:38,  1.99s/it]"
     ]
    },
    {
     "name": "stdout",
     "output_type": "stream",
     "text": [
      "Saved 가족관계의 등록 등에 관한 법률 to 법령별 csv 저장\n"
     ]
    },
    {
     "name": "stderr",
     "output_type": "stream",
     "text": [
      "  2%|▏         | 37/1500 [00:58<47:29,  1.95s/it]"
     ]
    },
    {
     "name": "stdout",
     "output_type": "stream",
     "text": [
      "Saved 가족친화 사회환경의 조성 촉진에 관한 법률 to 법령별 csv 저장\n"
     ]
    },
    {
     "name": "stderr",
     "output_type": "stream",
     "text": [
      "  3%|▎         | 38/1500 [01:00<46:24,  1.90s/it]"
     ]
    },
    {
     "name": "stdout",
     "output_type": "stream",
     "text": [
      "Saved 가축 및 축산물 이력관리에 관한 법률 to 법령별 csv 저장\n"
     ]
    },
    {
     "name": "stderr",
     "output_type": "stream",
     "text": [
      "  3%|▎         | 39/1500 [01:02<48:47,  2.00s/it]"
     ]
    },
    {
     "name": "stdout",
     "output_type": "stream",
     "text": [
      "Saved 가축분뇨의 관리 및 이용에 관한 법률 to 법령별 csv 저장\n"
     ]
    },
    {
     "name": "stderr",
     "output_type": "stream",
     "text": [
      "  3%|▎         | 40/1500 [01:08<1:14:15,  3.05s/it]"
     ]
    },
    {
     "name": "stdout",
     "output_type": "stream",
     "text": [
      "Saved 가축전염병 예방법 to 법령별 csv 저장\n"
     ]
    },
    {
     "name": "stderr",
     "output_type": "stream",
     "text": [
      "  3%|▎         | 41/1500 [01:11<1:15:40,  3.11s/it]"
     ]
    },
    {
     "name": "stdout",
     "output_type": "stream",
     "text": [
      "Saved 각급 법원의 설치와 관할구역에 관한 법률 to 법령별 csv 저장\n"
     ]
    },
    {
     "name": "stderr",
     "output_type": "stream",
     "text": [
      "  3%|▎         | 42/1500 [01:13<1:06:02,  2.72s/it]"
     ]
    },
    {
     "name": "stdout",
     "output_type": "stream",
     "text": [
      "Saved 각급 법원 판사 정원법 to 법령별 csv 저장\n"
     ]
    },
    {
     "name": "stderr",
     "output_type": "stream",
     "text": [
      "  3%|▎         | 43/1500 [01:15<57:05,  2.35s/it]  "
     ]
    },
    {
     "name": "stdout",
     "output_type": "stream",
     "text": [
      "Saved 간선급행버스체계의 건설 및 운영에 관한 특별법 to 법령별 csv 저장\n"
     ]
    },
    {
     "name": "stderr",
     "output_type": "stream",
     "text": [
      "  3%|▎         | 44/1500 [01:16<51:39,  2.13s/it]"
     ]
    },
    {
     "name": "stdout",
     "output_type": "stream",
     "text": [
      "Saved 간척지의 농어업적 이용 및 관리에 관한 법률 to 법령별 csv 저장\n"
     ]
    },
    {
     "name": "stderr",
     "output_type": "stream",
     "text": [
      "  3%|▎         | 45/1500 [01:18<48:39,  2.01s/it]"
     ]
    },
    {
     "name": "stdout",
     "output_type": "stream",
     "text": [
      "Saved 간호법 to 법령별 csv 저장\n"
     ]
    },
    {
     "name": "stderr",
     "output_type": "stream",
     "text": [
      "  3%|▎         | 46/1500 [01:19<45:41,  1.89s/it]"
     ]
    },
    {
     "name": "stdout",
     "output_type": "stream",
     "text": [
      "Saved 감사원법 to 법령별 csv 저장\n"
     ]
    },
    {
     "name": "stderr",
     "output_type": "stream",
     "text": [
      "  3%|▎         | 47/1500 [01:24<1:03:58,  2.64s/it]"
     ]
    },
    {
     "name": "stdout",
     "output_type": "stream",
     "text": [
      "Saved 감염병의 예방 및 관리에 관한 법률 to 법령별 csv 저장\n"
     ]
    },
    {
     "name": "stderr",
     "output_type": "stream",
     "text": [
      "  3%|▎         | 48/1500 [01:26<59:29,  2.46s/it]  "
     ]
    },
    {
     "name": "stdout",
     "output_type": "stream",
     "text": [
      "Saved 감정평가 및 감정평가사에 관한 법률 to 법령별 csv 저장\n"
     ]
    },
    {
     "name": "stderr",
     "output_type": "stream",
     "text": [
      "  3%|▎         | 49/1500 [01:28<54:35,  2.26s/it]"
     ]
    },
    {
     "name": "stdout",
     "output_type": "stream",
     "text": [
      "Saved 강원특별자치도 설치 및 미래산업글로벌도시 조성을 위한 특별법 to 법령별 csv 저장\n"
     ]
    },
    {
     "name": "stderr",
     "output_type": "stream",
     "text": [
      "  3%|▎         | 50/1500 [01:30<51:57,  2.15s/it]"
     ]
    },
    {
     "name": "stdout",
     "output_type": "stream",
     "text": [
      "Saved 개발도상국 산림을 통한 온실가스 배출 감축 및 탄소 축적 증진 지원에 관한 법률 to 법령별 csv 저장\n"
     ]
    },
    {
     "name": "stderr",
     "output_type": "stream",
     "text": [
      "  3%|▎         | 51/1500 [01:31<48:26,  2.01s/it]"
     ]
    },
    {
     "name": "stdout",
     "output_type": "stream",
     "text": [
      "Saved 개발이익 환수에 관한 법률 to 법령별 csv 저장\n"
     ]
    },
    {
     "name": "stderr",
     "output_type": "stream",
     "text": [
      "  3%|▎         | 52/1500 [01:33<47:09,  1.95s/it]"
     ]
    },
    {
     "name": "stdout",
     "output_type": "stream",
     "text": [
      "Saved 개발제한구역의 지정 및 관리에 관한 특별조치법 to 법령별 csv 저장\n"
     ]
    },
    {
     "name": "stderr",
     "output_type": "stream",
     "text": [
      "  4%|▎         | 53/1500 [01:35<48:48,  2.02s/it]"
     ]
    },
    {
     "name": "stdout",
     "output_type": "stream",
     "text": [
      "Saved 개별소비세법 to 법령별 csv 저장\n"
     ]
    },
    {
     "name": "stderr",
     "output_type": "stream",
     "text": [
      "  4%|▎         | 54/1500 [01:37<45:53,  1.90s/it]"
     ]
    },
    {
     "name": "stdout",
     "output_type": "stream",
     "text": [
      "Saved 개성공업지구 지원에 관한 법률 to 법령별 csv 저장\n"
     ]
    },
    {
     "name": "stderr",
     "output_type": "stream",
     "text": [
      "  4%|▎         | 55/1500 [01:38<40:30,  1.68s/it]"
     ]
    },
    {
     "name": "stdout",
     "output_type": "stream",
     "text": [
      "Saved 개의 식용 목적의 사육ㆍ도살 및 유통 등 종식에 관한 특별법 to 법령별 csv 저장\n"
     ]
    },
    {
     "name": "stderr",
     "output_type": "stream",
     "text": [
      "  4%|▎         | 56/1500 [01:39<38:33,  1.60s/it]"
     ]
    },
    {
     "name": "stdout",
     "output_type": "stream",
     "text": [
      "Saved 개인금융채권의 관리 및 개인금융채무자의 보호에 관한 법률 to 법령별 csv 저장\n"
     ]
    },
    {
     "name": "stderr",
     "output_type": "stream",
     "text": [
      "  4%|▍         | 57/1500 [01:42<42:58,  1.79s/it]"
     ]
    },
    {
     "name": "stdout",
     "output_type": "stream",
     "text": [
      "Saved 개인정보 보호법 to 법령별 csv 저장\n"
     ]
    },
    {
     "name": "stderr",
     "output_type": "stream",
     "text": [
      "  4%|▍         | 58/1500 [01:44<44:28,  1.85s/it]"
     ]
    },
    {
     "name": "stdout",
     "output_type": "stream",
     "text": [
      "Saved 갯벌 및 그 주변지역의 지속가능한 관리와 복원에 관한 법률 to 법령별 csv 저장\n"
     ]
    },
    {
     "name": "stderr",
     "output_type": "stream",
     "text": [
      "  4%|▍         | 59/1500 [01:45<40:14,  1.68s/it]"
     ]
    },
    {
     "name": "stdout",
     "output_type": "stream",
     "text": [
      "Saved 거창사건등 관련자의 명예회복에 관한 특별조치법 to 법령별 csv 저장\n"
     ]
    },
    {
     "name": "stderr",
     "output_type": "stream",
     "text": [
      "  4%|▍         | 60/1500 [01:46<38:04,  1.59s/it]"
     ]
    },
    {
     "name": "stdout",
     "output_type": "stream",
     "text": [
      "Saved 건강가정기본법 to 법령별 csv 저장\n"
     ]
    },
    {
     "name": "stderr",
     "output_type": "stream",
     "text": [
      "  4%|▍         | 61/1500 [01:49<43:37,  1.82s/it]"
     ]
    },
    {
     "name": "stdout",
     "output_type": "stream",
     "text": [
      "Saved 건강검진기본법 to 법령별 csv 저장\n"
     ]
    },
    {
     "name": "stderr",
     "output_type": "stream",
     "text": [
      "  4%|▍         | 62/1500 [01:51<44:11,  1.84s/it]"
     ]
    },
    {
     "name": "stdout",
     "output_type": "stream",
     "text": [
      "Saved 건강기능식품에 관한 법률 to 법령별 csv 저장\n"
     ]
    },
    {
     "name": "stderr",
     "output_type": "stream",
     "text": [
      "  4%|▍         | 63/1500 [01:52<40:21,  1.69s/it]"
     ]
    },
    {
     "name": "stdout",
     "output_type": "stream",
     "text": [
      "Saved 건널목 개량촉진법 to 법령별 csv 저장\n"
     ]
    },
    {
     "name": "stderr",
     "output_type": "stream",
     "text": [
      "  4%|▍         | 64/1500 [01:54<39:45,  1.66s/it]"
     ]
    },
    {
     "name": "stdout",
     "output_type": "stream",
     "text": [
      "Saved 건설근로자의 고용개선 등에 관한 법률 to 법령별 csv 저장\n"
     ]
    },
    {
     "name": "stderr",
     "output_type": "stream",
     "text": [
      "  4%|▍         | 65/1500 [01:56<46:01,  1.92s/it]"
     ]
    },
    {
     "name": "stdout",
     "output_type": "stream",
     "text": [
      "Saved 건설기계관리법 to 법령별 csv 저장\n"
     ]
    },
    {
     "name": "stderr",
     "output_type": "stream",
     "text": [
      "  4%|▍         | 66/1500 [01:58<49:03,  2.05s/it]"
     ]
    },
    {
     "name": "stdout",
     "output_type": "stream",
     "text": [
      "Saved 건설기술 진흥법 to 법령별 csv 저장\n"
     ]
    },
    {
     "name": "stderr",
     "output_type": "stream",
     "text": [
      "  4%|▍         | 67/1500 [02:01<53:47,  2.25s/it]"
     ]
    },
    {
     "name": "stdout",
     "output_type": "stream",
     "text": [
      "Saved 건설산업기본법 to 법령별 csv 저장\n"
     ]
    },
    {
     "name": "stderr",
     "output_type": "stream",
     "text": [
      "  5%|▍         | 68/1500 [02:03<52:11,  2.19s/it]"
     ]
    },
    {
     "name": "stdout",
     "output_type": "stream",
     "text": [
      "Saved 건설폐기물의 재활용촉진에 관한 법률 to 법령별 csv 저장\n"
     ]
    },
    {
     "name": "stderr",
     "output_type": "stream",
     "text": [
      "  5%|▍         | 69/1500 [02:05<47:34,  1.99s/it]"
     ]
    },
    {
     "name": "stdout",
     "output_type": "stream",
     "text": [
      "Saved 건전가정의례의 정착 및 지원에 관한 법률 to 법령별 csv 저장\n"
     ]
    },
    {
     "name": "stderr",
     "output_type": "stream",
     "text": [
      "  5%|▍         | 70/1500 [02:06<42:19,  1.78s/it]"
     ]
    },
    {
     "name": "stdout",
     "output_type": "stream",
     "text": [
      "Saved 건축기본법 to 법령별 csv 저장\n"
     ]
    },
    {
     "name": "stderr",
     "output_type": "stream",
     "text": [
      "  5%|▍         | 71/1500 [02:08<45:26,  1.91s/it]"
     ]
    },
    {
     "name": "stdout",
     "output_type": "stream",
     "text": [
      "Saved 건축물관리법 to 법령별 csv 저장\n"
     ]
    },
    {
     "name": "stderr",
     "output_type": "stream",
     "text": [
      "  5%|▍         | 72/1500 [02:10<43:20,  1.82s/it]"
     ]
    },
    {
     "name": "stdout",
     "output_type": "stream",
     "text": [
      "Saved 건축물의 분양에 관한 법률 to 법령별 csv 저장\n"
     ]
    },
    {
     "name": "stderr",
     "output_type": "stream",
     "text": [
      "  5%|▍         | 73/1500 [02:13<51:31,  2.17s/it]"
     ]
    },
    {
     "name": "stdout",
     "output_type": "stream",
     "text": [
      "Saved 건축법 to 법령별 csv 저장\n"
     ]
    },
    {
     "name": "stderr",
     "output_type": "stream",
     "text": [
      "  5%|▍         | 74/1500 [02:15<49:00,  2.06s/it]"
     ]
    },
    {
     "name": "stdout",
     "output_type": "stream",
     "text": [
      "Saved 건축사법 to 법령별 csv 저장\n"
     ]
    },
    {
     "name": "stderr",
     "output_type": "stream",
     "text": [
      "  5%|▌         | 75/1500 [02:16<44:45,  1.88s/it]"
     ]
    },
    {
     "name": "stdout",
     "output_type": "stream",
     "text": [
      "Saved 건축서비스산업 진흥법 to 법령별 csv 저장\n"
     ]
    },
    {
     "name": "stderr",
     "output_type": "stream",
     "text": [
      "  5%|▌         | 76/1500 [02:17<40:11,  1.69s/it]"
     ]
    },
    {
     "name": "stdout",
     "output_type": "stream",
     "text": [
      "Saved 검사의 보수에 관한 법률 to 법령별 csv 저장\n"
     ]
    },
    {
     "name": "stderr",
     "output_type": "stream",
     "text": [
      "  5%|▌         | 77/1500 [02:19<38:27,  1.62s/it]"
     ]
    },
    {
     "name": "stdout",
     "output_type": "stream",
     "text": [
      "Saved 검사정원법 to 법령별 csv 저장\n"
     ]
    },
    {
     "name": "stderr",
     "output_type": "stream",
     "text": [
      "  5%|▌         | 78/1500 [02:22<47:08,  1.99s/it]"
     ]
    },
    {
     "name": "stdout",
     "output_type": "stream",
     "text": [
      "Saved 검사징계법 to 법령별 csv 저장\n"
     ]
    },
    {
     "name": "stderr",
     "output_type": "stream",
     "text": [
      "  5%|▌         | 79/1500 [02:24<47:23,  2.00s/it]"
     ]
    },
    {
     "name": "stdout",
     "output_type": "stream",
     "text": [
      "Saved 검역법 to 법령별 csv 저장\n"
     ]
    },
    {
     "name": "stderr",
     "output_type": "stream",
     "text": [
      "  5%|▌         | 80/1500 [02:25<46:01,  1.94s/it]"
     ]
    },
    {
     "name": "stdout",
     "output_type": "stream",
     "text": [
      "Saved 검찰청법 to 법령별 csv 저장\n"
     ]
    },
    {
     "name": "stderr",
     "output_type": "stream",
     "text": [
      "  5%|▌         | 81/1500 [02:27<45:43,  1.93s/it]"
     ]
    },
    {
     "name": "stdout",
     "output_type": "stream",
     "text": [
      "Saved 게임산업진흥에 관한 법률 to 법령별 csv 저장\n"
     ]
    },
    {
     "name": "stderr",
     "output_type": "stream",
     "text": [
      "  5%|▌         | 82/1500 [02:29<41:30,  1.76s/it]"
     ]
    },
    {
     "name": "stdout",
     "output_type": "stream",
     "text": [
      "Saved 겨레말큰사전남북공동편찬사업회법 to 법령별 csv 저장\n"
     ]
    },
    {
     "name": "stderr",
     "output_type": "stream",
     "text": [
      "  6%|▌         | 83/1500 [02:30<41:19,  1.75s/it]"
     ]
    },
    {
     "name": "stdout",
     "output_type": "stream",
     "text": [
      "Saved 결핵예방법 to 법령별 csv 저장\n"
     ]
    },
    {
     "name": "stderr",
     "output_type": "stream",
     "text": [
      "  6%|▌         | 84/1500 [02:32<41:04,  1.74s/it]"
     ]
    },
    {
     "name": "stdout",
     "output_type": "stream",
     "text": [
      "Saved 결혼중개업의 관리에 관한 법률 to 법령별 csv 저장\n"
     ]
    },
    {
     "name": "stderr",
     "output_type": "stream",
     "text": [
      "  6%|▌         | 85/1500 [02:34<38:47,  1.64s/it]"
     ]
    },
    {
     "name": "stdout",
     "output_type": "stream",
     "text": [
      "Saved 경관법 to 법령별 csv 저장\n"
     ]
    },
    {
     "name": "stderr",
     "output_type": "stream",
     "text": [
      "  6%|▌         | 86/1500 [02:35<38:10,  1.62s/it]"
     ]
    },
    {
     "name": "stdout",
     "output_type": "stream",
     "text": [
      "Saved 경륜ㆍ경정법 to 법령별 csv 저장\n"
     ]
    },
    {
     "name": "stderr",
     "output_type": "stream",
     "text": [
      "  6%|▌         | 87/1500 [02:36<35:52,  1.52s/it]"
     ]
    },
    {
     "name": "stdout",
     "output_type": "stream",
     "text": [
      "Saved 경범죄 처벌법 to 법령별 csv 저장\n"
     ]
    },
    {
     "name": "stderr",
     "output_type": "stream",
     "text": [
      "  6%|▌         | 88/1500 [02:37<31:49,  1.35s/it]"
     ]
    },
    {
     "name": "stdout",
     "output_type": "stream",
     "text": [
      "Saved 경비교도대 폐지에 따른 보상 등에 관한 법률 to 법령별 csv 저장\n"
     ]
    },
    {
     "name": "stderr",
     "output_type": "stream",
     "text": [
      "  6%|▌         | 89/1500 [02:39<33:36,  1.43s/it]"
     ]
    },
    {
     "name": "stdout",
     "output_type": "stream",
     "text": [
      "Saved 경비업법 to 법령별 csv 저장\n"
     ]
    },
    {
     "name": "stderr",
     "output_type": "stream",
     "text": [
      "  6%|▌         | 90/1500 [02:40<32:21,  1.38s/it]"
     ]
    },
    {
     "name": "stdout",
     "output_type": "stream",
     "text": [
      "Saved 경상북도와 대구광역시 간 관할구역 변경에 관한 법률 to 법령별 csv 저장\n"
     ]
    },
    {
     "name": "stderr",
     "output_type": "stream",
     "text": [
      "  6%|▌         | 91/1500 [02:42<32:50,  1.40s/it]"
     ]
    },
    {
     "name": "stdout",
     "output_type": "stream",
     "text": [
      "Saved 경영지도사 및 기술지도사에 관한 법률 to 법령별 csv 저장\n"
     ]
    },
    {
     "name": "stderr",
     "output_type": "stream",
     "text": [
      "  6%|▌         | 92/1500 [02:43<32:32,  1.39s/it]"
     ]
    },
    {
     "name": "stdout",
     "output_type": "stream",
     "text": [
      "Saved 경제교육지원법 to 법령별 csv 저장\n"
     ]
    },
    {
     "name": "stderr",
     "output_type": "stream",
     "text": [
      "  6%|▌         | 93/1500 [02:44<31:19,  1.34s/it]"
     ]
    },
    {
     "name": "stdout",
     "output_type": "stream",
     "text": [
      "Saved 경제사회노동위원회법 to 법령별 csv 저장\n"
     ]
    },
    {
     "name": "stderr",
     "output_type": "stream",
     "text": [
      "  6%|▋         | 94/1500 [02:46<31:04,  1.33s/it]"
     ]
    },
    {
     "name": "stdout",
     "output_type": "stream",
     "text": [
      "Saved 경제안보를 위한 공급망 안정화 지원 기본법 to 법령별 csv 저장\n"
     ]
    },
    {
     "name": "stderr",
     "output_type": "stream",
     "text": [
      "  6%|▋         | 95/1500 [02:47<30:47,  1.32s/it]"
     ]
    },
    {
     "name": "stdout",
     "output_type": "stream",
     "text": [
      "Saved 경제자유구역 및 제주국제자유도시의 외국교육기관 설립ㆍ운영에 관한 특별법 to 법령별 csv 저장\n"
     ]
    },
    {
     "name": "stderr",
     "output_type": "stream",
     "text": [
      "  6%|▋         | 96/1500 [02:49<37:20,  1.60s/it]"
     ]
    },
    {
     "name": "stdout",
     "output_type": "stream",
     "text": [
      "Saved 경제자유구역의 지정 및 운영에 관한 특별법 to 법령별 csv 저장\n"
     ]
    },
    {
     "name": "stderr",
     "output_type": "stream",
     "text": [
      "  6%|▋         | 97/1500 [02:51<36:13,  1.55s/it]"
     ]
    },
    {
     "name": "stdout",
     "output_type": "stream",
     "text": [
      "Saved 경찰공무원법 to 법령별 csv 저장\n"
     ]
    },
    {
     "name": "stderr",
     "output_type": "stream",
     "text": [
      "  7%|▋         | 98/1500 [02:52<34:24,  1.47s/it]"
     ]
    },
    {
     "name": "stdout",
     "output_type": "stream",
     "text": [
      "Saved 경찰공무원 보건안전 및 복지 기본법 to 법령별 csv 저장\n"
     ]
    },
    {
     "name": "stderr",
     "output_type": "stream",
     "text": [
      "  7%|▋         | 99/1500 [02:53<34:40,  1.49s/it]"
     ]
    },
    {
     "name": "stdout",
     "output_type": "stream",
     "text": [
      "Saved 경찰공제회법 to 법령별 csv 저장\n"
     ]
    },
    {
     "name": "stderr",
     "output_type": "stream",
     "text": [
      "  7%|▋         | 100/1500 [02:55<35:21,  1.52s/it]"
     ]
    },
    {
     "name": "stdout",
     "output_type": "stream",
     "text": [
      "Saved 경찰관 직무집행법 to 법령별 csv 저장\n"
     ]
    },
    {
     "name": "stderr",
     "output_type": "stream",
     "text": [
      "  7%|▋         | 101/1500 [02:56<34:05,  1.46s/it]"
     ]
    },
    {
     "name": "stdout",
     "output_type": "stream",
     "text": [
      "Saved 경찰대학 설치법 to 법령별 csv 저장\n"
     ]
    },
    {
     "name": "stderr",
     "output_type": "stream",
     "text": [
      "  7%|▋         | 102/1500 [02:57<31:47,  1.36s/it]"
     ]
    },
    {
     "name": "stdout",
     "output_type": "stream",
     "text": [
      "Saved 경찰제복 및 경찰장비의 규제에 관한 법률 to 법령별 csv 저장\n"
     ]
    },
    {
     "name": "stderr",
     "output_type": "stream",
     "text": [
      "  7%|▋         | 103/1500 [02:59<31:58,  1.37s/it]"
     ]
    },
    {
     "name": "stdout",
     "output_type": "stream",
     "text": [
      "Saved 경찰직무 응원법 to 법령별 csv 저장\n"
     ]
    },
    {
     "name": "stderr",
     "output_type": "stream",
     "text": [
      "  7%|▋         | 104/1500 [03:00<33:48,  1.45s/it]"
     ]
    },
    {
     "name": "stdout",
     "output_type": "stream",
     "text": [
      "Saved 계량에 관한 법률 to 법령별 csv 저장\n"
     ]
    },
    {
     "name": "stderr",
     "output_type": "stream",
     "text": [
      "  7%|▋         | 105/1500 [03:02<34:52,  1.50s/it]"
     ]
    },
    {
     "name": "stdout",
     "output_type": "stream",
     "text": [
      "Saved 계엄법 to 법령별 csv 저장\n"
     ]
    },
    {
     "name": "stderr",
     "output_type": "stream",
     "text": [
      "  7%|▋         | 106/1500 [03:04<38:43,  1.67s/it]"
     ]
    },
    {
     "name": "stdout",
     "output_type": "stream",
     "text": [
      "Saved 고도 보존 및 육성에 관한 특별법 to 법령별 csv 저장\n"
     ]
    },
    {
     "name": "stderr",
     "output_type": "stream",
     "text": [
      "  7%|▋         | 107/1500 [03:05<35:54,  1.55s/it]"
     ]
    },
    {
     "name": "stdout",
     "output_type": "stream",
     "text": [
      "Saved 고독사 예방 및 관리에 관한 법률 to 법령별 csv 저장\n"
     ]
    },
    {
     "name": "stderr",
     "output_type": "stream",
     "text": [
      "  7%|▋         | 108/1500 [03:08<41:02,  1.77s/it]"
     ]
    },
    {
     "name": "stdout",
     "output_type": "stream",
     "text": [
      "Saved 고등교육법 to 법령별 csv 저장\n"
     ]
    },
    {
     "name": "stderr",
     "output_type": "stream",
     "text": [
      "  7%|▋         | 109/1500 [03:09<36:44,  1.59s/it]"
     ]
    },
    {
     "name": "stdout",
     "output_type": "stream",
     "text": [
      "Saved 고등ㆍ평생교육지원특별회계법 to 법령별 csv 저장\n"
     ]
    },
    {
     "name": "stderr",
     "output_type": "stream",
     "text": [
      "  7%|▋         | 110/1500 [03:10<33:12,  1.43s/it]"
     ]
    },
    {
     "name": "stdout",
     "output_type": "stream",
     "text": [
      "Saved 고려인동포 합법적 체류자격 취득 및 정착 지원을 위한 특별법 to 법령별 csv 저장\n"
     ]
    },
    {
     "name": "stderr",
     "output_type": "stream",
     "text": [
      "  7%|▋         | 111/1500 [03:13<41:54,  1.81s/it]"
     ]
    },
    {
     "name": "stdout",
     "output_type": "stream",
     "text": [
      "Saved 고령친화산업 진흥법 to 법령별 csv 저장\n"
     ]
    },
    {
     "name": "stderr",
     "output_type": "stream",
     "text": [
      "  7%|▋         | 112/1500 [03:15<42:45,  1.85s/it]"
     ]
    },
    {
     "name": "stdout",
     "output_type": "stream",
     "text": [
      "Saved 고압가스 안전관리법 to 법령별 csv 저장\n"
     ]
    },
    {
     "name": "stderr",
     "output_type": "stream",
     "text": [
      "  8%|▊         | 113/1500 [03:16<43:13,  1.87s/it]"
     ]
    },
    {
     "name": "stdout",
     "output_type": "stream",
     "text": [
      "Saved 고엽제후유의증 등 환자지원 및 단체설립에 관한 법률 to 법령별 csv 저장\n"
     ]
    },
    {
     "name": "stderr",
     "output_type": "stream",
     "text": [
      "  8%|▊         | 114/1500 [03:19<44:44,  1.94s/it]"
     ]
    },
    {
     "name": "stdout",
     "output_type": "stream",
     "text": [
      "Saved 고용보험 및 산업재해보상보험의 보험료징수 등에 관한 법률 to 법령별 csv 저장\n"
     ]
    },
    {
     "name": "stderr",
     "output_type": "stream",
     "text": [
      "  8%|▊         | 115/1500 [03:22<54:29,  2.36s/it]"
     ]
    },
    {
     "name": "stdout",
     "output_type": "stream",
     "text": [
      "Saved 고용보험법 to 법령별 csv 저장\n"
     ]
    },
    {
     "name": "stderr",
     "output_type": "stream",
     "text": [
      "  8%|▊         | 116/1500 [03:23<45:46,  1.98s/it]"
     ]
    },
    {
     "name": "stdout",
     "output_type": "stream",
     "text": [
      "Saved 고용보험ㆍ산업재해보상보험의 보험관계 성립신고 등의 촉진을 위한 특별조치법 to 법령별 csv 저장\n"
     ]
    },
    {
     "name": "stderr",
     "output_type": "stream",
     "text": [
      "  8%|▊         | 117/1500 [03:25<43:27,  1.89s/it]"
     ]
    },
    {
     "name": "stdout",
     "output_type": "stream",
     "text": [
      "Saved 고용상 연령차별금지 및 고령자고용촉진에 관한 법률 to 법령별 csv 저장\n"
     ]
    },
    {
     "name": "stderr",
     "output_type": "stream",
     "text": [
      "  8%|▊         | 118/1500 [03:27<43:43,  1.90s/it]"
     ]
    },
    {
     "name": "stdout",
     "output_type": "stream",
     "text": [
      "Saved 고용정책 기본법 to 법령별 csv 저장\n"
     ]
    },
    {
     "name": "stderr",
     "output_type": "stream",
     "text": [
      "  8%|▊         | 119/1500 [03:28<40:31,  1.76s/it]"
     ]
    },
    {
     "name": "stdout",
     "output_type": "stream",
     "text": [
      "Saved 고위공직자범죄수사처 설치 및 운영에 관한 법률 to 법령별 csv 저장\n"
     ]
    },
    {
     "name": "stderr",
     "output_type": "stream",
     "text": [
      "  8%|▊         | 120/1500 [03:29<38:10,  1.66s/it]"
     ]
    },
    {
     "name": "stdout",
     "output_type": "stream",
     "text": [
      "Saved 고향사랑 기부금에 관한 법률 to 법령별 csv 저장\n"
     ]
    },
    {
     "name": "stderr",
     "output_type": "stream",
     "text": [
      "  8%|▊         | 121/1500 [03:32<40:58,  1.78s/it]"
     ]
    },
    {
     "name": "stdout",
     "output_type": "stream",
     "text": [
      "Saved 곤충산업의 육성 및 지원에 관한 법률 to 법령별 csv 저장\n"
     ]
    },
    {
     "name": "stderr",
     "output_type": "stream",
     "text": [
      "  8%|▊         | 122/1500 [03:34<42:59,  1.87s/it]"
     ]
    },
    {
     "name": "stdout",
     "output_type": "stream",
     "text": [
      "Saved 골재채취법 to 법령별 csv 저장\n"
     ]
    },
    {
     "name": "stderr",
     "output_type": "stream",
     "text": [
      "  8%|▊         | 123/1500 [03:35<40:03,  1.75s/it]"
     ]
    },
    {
     "name": "stdout",
     "output_type": "stream",
     "text": [
      "Saved 공간정보산업 진흥법 to 법령별 csv 저장\n"
     ]
    },
    {
     "name": "stderr",
     "output_type": "stream",
     "text": [
      "  8%|▊         | 124/1500 [03:37<42:46,  1.87s/it]"
     ]
    },
    {
     "name": "stdout",
     "output_type": "stream",
     "text": [
      "Saved 공간정보의 구축 및 관리 등에 관한 법률 to 법령별 csv 저장\n"
     ]
    },
    {
     "name": "stderr",
     "output_type": "stream",
     "text": [
      "  8%|▊         | 125/1500 [03:39<39:46,  1.74s/it]"
     ]
    },
    {
     "name": "stdout",
     "output_type": "stream",
     "text": [
      "Saved 공공감사에 관한 법률 to 법령별 csv 저장\n"
     ]
    },
    {
     "name": "stderr",
     "output_type": "stream",
     "text": [
      "  8%|▊         | 126/1500 [03:40<40:16,  1.76s/it]"
     ]
    },
    {
     "name": "stdout",
     "output_type": "stream",
     "text": [
      "Saved 공공기관의 운영에 관한 법률 to 법령별 csv 저장\n"
     ]
    },
    {
     "name": "stderr",
     "output_type": "stream",
     "text": [
      "  8%|▊         | 127/1500 [03:42<38:46,  1.69s/it]"
     ]
    },
    {
     "name": "stdout",
     "output_type": "stream",
     "text": [
      "Saved 공공기관의 정보공개에 관한 법률 to 법령별 csv 저장\n"
     ]
    },
    {
     "name": "stderr",
     "output_type": "stream",
     "text": [
      "  9%|▊         | 128/1500 [03:44<38:16,  1.67s/it]"
     ]
    },
    {
     "name": "stdout",
     "output_type": "stream",
     "text": [
      "Saved 공공기록물 관리에 관한 법률 to 법령별 csv 저장\n"
     ]
    },
    {
     "name": "stderr",
     "output_type": "stream",
     "text": [
      "  9%|▊         | 129/1500 [03:45<38:45,  1.70s/it]"
     ]
    },
    {
     "name": "stdout",
     "output_type": "stream",
     "text": [
      "Saved 공공단체등 위탁선거에 관한 법률 to 법령별 csv 저장\n"
     ]
    },
    {
     "name": "stderr",
     "output_type": "stream",
     "text": [
      "  9%|▊         | 130/1500 [03:47<36:28,  1.60s/it]"
     ]
    },
    {
     "name": "stdout",
     "output_type": "stream",
     "text": [
      "Saved 공공데이터의 제공 및 이용 활성화에 관한 법률 to 법령별 csv 저장\n"
     ]
    },
    {
     "name": "stderr",
     "output_type": "stream",
     "text": [
      "  9%|▊         | 131/1500 [03:48<34:46,  1.52s/it]"
     ]
    },
    {
     "name": "stdout",
     "output_type": "stream",
     "text": [
      "Saved 공공디자인의 진흥에 관한 법률 to 법령별 csv 저장\n"
     ]
    },
    {
     "name": "stderr",
     "output_type": "stream",
     "text": [
      "  9%|▉         | 132/1500 [03:50<34:49,  1.53s/it]"
     ]
    },
    {
     "name": "stdout",
     "output_type": "stream",
     "text": [
      "Saved 공공보건의료에 관한 법률 to 법령별 csv 저장\n"
     ]
    },
    {
     "name": "stderr",
     "output_type": "stream",
     "text": [
      "  9%|▉         | 133/1500 [03:51<32:29,  1.43s/it]"
     ]
    },
    {
     "name": "stdout",
     "output_type": "stream",
     "text": [
      "Saved 공공외교법 to 법령별 csv 저장\n"
     ]
    },
    {
     "name": "stderr",
     "output_type": "stream",
     "text": [
      "  9%|▉         | 134/1500 [03:52<31:41,  1.39s/it]"
     ]
    },
    {
     "name": "stdout",
     "output_type": "stream",
     "text": [
      "Saved 공공자금관리기금법 to 법령별 csv 저장\n"
     ]
    },
    {
     "name": "stderr",
     "output_type": "stream",
     "text": [
      "  9%|▉         | 135/1500 [03:54<33:08,  1.46s/it]"
     ]
    },
    {
     "name": "stdout",
     "output_type": "stream",
     "text": [
      "Saved 공공재정 부정청구 금지 및 부정이익 환수 등에 관한 법률 to 법령별 csv 저장\n"
     ]
    },
    {
     "name": "stderr",
     "output_type": "stream",
     "text": [
      "  9%|▉         | 136/1500 [03:56<39:55,  1.76s/it]"
     ]
    },
    {
     "name": "stdout",
     "output_type": "stream",
     "text": [
      "Saved 공공주택 특별법 to 법령별 csv 저장\n"
     ]
    },
    {
     "name": "stderr",
     "output_type": "stream",
     "text": [
      "  9%|▉         | 137/1500 [03:58<37:30,  1.65s/it]"
     ]
    },
    {
     "name": "stdout",
     "output_type": "stream",
     "text": [
      "Saved 공공차관의 도입 및 관리에 관한 법률 to 법령별 csv 저장\n"
     ]
    },
    {
     "name": "stderr",
     "output_type": "stream",
     "text": [
      "  9%|▉         | 138/1500 [03:59<37:04,  1.63s/it]"
     ]
    },
    {
     "name": "stdout",
     "output_type": "stream",
     "text": [
      "Saved 공공토지의 비축에 관한 법률 to 법령별 csv 저장\n"
     ]
    },
    {
     "name": "stderr",
     "output_type": "stream",
     "text": [
      "  9%|▉         | 139/1500 [04:01<36:42,  1.62s/it]"
     ]
    },
    {
     "name": "stdout",
     "output_type": "stream",
     "text": [
      "Saved 공공폐자원관리시설의 설치ㆍ운영 및 주민지원 등에 관한 특별법 to 법령별 csv 저장\n"
     ]
    },
    {
     "name": "stderr",
     "output_type": "stream",
     "text": [
      "  9%|▉         | 140/1500 [04:02<36:58,  1.63s/it]"
     ]
    },
    {
     "name": "stdout",
     "output_type": "stream",
     "text": [
      "Saved 공교육 정상화 촉진 및 선행교육 규제에 관한 특별법 to 법령별 csv 저장\n"
     ]
    },
    {
     "name": "stderr",
     "output_type": "stream",
     "text": [
      "  9%|▉         | 141/1500 [04:05<44:47,  1.98s/it]"
     ]
    },
    {
     "name": "stdout",
     "output_type": "stream",
     "text": [
      "Saved 공군 20전투비행단 이예람 중사 사망 사건 관련 군 내 성폭력 및 2차 피해 등의 진상규명을 위한 특별검사 임명 등에 관한 법률 to 법령별 csv 저장\n"
     ]
    },
    {
     "name": "stderr",
     "output_type": "stream",
     "text": [
      "  9%|▉         | 142/1500 [04:07<44:09,  1.95s/it]"
     ]
    },
    {
     "name": "stdout",
     "output_type": "stream",
     "text": [
      "Saved 공군항공과학고등학교 설치법 to 법령별 csv 저장\n"
     ]
    },
    {
     "name": "stderr",
     "output_type": "stream",
     "text": [
      " 10%|▉         | 143/1500 [04:08<39:09,  1.73s/it]"
     ]
    },
    {
     "name": "stdout",
     "output_type": "stream",
     "text": [
      "Saved 공기업의 경영구조개선 및 민영화에 관한 법률 to 법령별 csv 저장\n"
     ]
    },
    {
     "name": "stderr",
     "output_type": "stream",
     "text": [
      " 10%|▉         | 144/1500 [04:11<48:42,  2.16s/it]"
     ]
    },
    {
     "name": "stdout",
     "output_type": "stream",
     "text": [
      "Saved 공동주택관리법 to 법령별 csv 저장\n"
     ]
    },
    {
     "name": "stderr",
     "output_type": "stream",
     "text": [
      " 10%|▉         | 145/1500 [04:13<41:49,  1.85s/it]"
     ]
    },
    {
     "name": "stdout",
     "output_type": "stream",
     "text": [
      "Saved 공무원 노동조합 관련 해직공무원등의 복직 등에 관한 특별법 to 법령별 csv 저장\n"
     ]
    },
    {
     "name": "stderr",
     "output_type": "stream",
     "text": [
      " 10%|▉         | 146/1500 [04:14<39:46,  1.76s/it]"
     ]
    },
    {
     "name": "stdout",
     "output_type": "stream",
     "text": [
      "Saved 공무원범죄에 관한 몰수 특례법 to 법령별 csv 저장\n"
     ]
    },
    {
     "name": "stderr",
     "output_type": "stream",
     "text": [
      " 10%|▉         | 147/1500 [04:16<40:05,  1.78s/it]"
     ]
    },
    {
     "name": "stdout",
     "output_type": "stream",
     "text": [
      "Saved 공무원연금법 to 법령별 csv 저장\n"
     ]
    },
    {
     "name": "stderr",
     "output_type": "stream",
     "text": [
      " 10%|▉         | 148/1500 [04:18<41:03,  1.82s/it]"
     ]
    },
    {
     "name": "stdout",
     "output_type": "stream",
     "text": [
      "Saved 공무원의 노동조합 설립 및 운영 등에 관한 법률 to 법령별 csv 저장\n"
     ]
    },
    {
     "name": "stderr",
     "output_type": "stream",
     "text": [
      " 10%|▉         | 149/1500 [04:19<37:32,  1.67s/it]"
     ]
    },
    {
     "name": "stdout",
     "output_type": "stream",
     "text": [
      "Saved 공무원 인재개발법 to 법령별 csv 저장\n"
     ]
    },
    {
     "name": "stderr",
     "output_type": "stream",
     "text": [
      " 10%|█         | 150/1500 [04:21<38:32,  1.71s/it]"
     ]
    },
    {
     "name": "stdout",
     "output_type": "stream",
     "text": [
      "Saved 공무원 재해보상법 to 법령별 csv 저장\n"
     ]
    },
    {
     "name": "stderr",
     "output_type": "stream",
     "text": [
      " 10%|█         | 151/1500 [04:23<40:23,  1.80s/it]"
     ]
    },
    {
     "name": "stdout",
     "output_type": "stream",
     "text": [
      "Saved 공무원직장협의회의 설립ㆍ운영에 관한 법률 to 법령별 csv 저장\n"
     ]
    },
    {
     "name": "stderr",
     "output_type": "stream",
     "text": [
      " 10%|█         | 152/1500 [04:25<39:09,  1.74s/it]"
     ]
    },
    {
     "name": "stdout",
     "output_type": "stream",
     "text": [
      "Saved 공사중단 장기방치 건축물의 정비 등에 관한 특별조치법 to 법령별 csv 저장\n"
     ]
    },
    {
     "name": "stderr",
     "output_type": "stream",
     "text": [
      " 10%|█         | 153/1500 [04:27<39:46,  1.77s/it]"
     ]
    },
    {
     "name": "stdout",
     "output_type": "stream",
     "text": [
      "Saved 공연법 to 법령별 csv 저장\n"
     ]
    },
    {
     "name": "stderr",
     "output_type": "stream",
     "text": [
      " 10%|█         | 154/1500 [04:28<37:12,  1.66s/it]"
     ]
    },
    {
     "name": "stdout",
     "output_type": "stream",
     "text": [
      "Saved 공예문화산업 진흥법 to 법령별 csv 저장\n"
     ]
    },
    {
     "name": "stderr",
     "output_type": "stream",
     "text": [
      " 10%|█         | 155/1500 [04:30<37:58,  1.69s/it]"
     ]
    },
    {
     "name": "stdout",
     "output_type": "stream",
     "text": [
      "Saved 공유수면 관리 및 매립에 관한 법률 to 법령별 csv 저장\n"
     ]
    },
    {
     "name": "stderr",
     "output_type": "stream",
     "text": [
      " 10%|█         | 156/1500 [04:33<47:28,  2.12s/it]"
     ]
    },
    {
     "name": "stdout",
     "output_type": "stream",
     "text": [
      "Saved 공유재산 및 물품 관리법 to 법령별 csv 저장\n"
     ]
    },
    {
     "name": "stderr",
     "output_type": "stream",
     "text": [
      " 10%|█         | 157/1500 [04:35<47:40,  2.13s/it]"
     ]
    },
    {
     "name": "stdout",
     "output_type": "stream",
     "text": [
      "Saved 공익법무관에 관한 법률 to 법령별 csv 저장\n"
     ]
    },
    {
     "name": "stderr",
     "output_type": "stream",
     "text": [
      " 11%|█         | 158/1500 [04:36<41:25,  1.85s/it]"
     ]
    },
    {
     "name": "stdout",
     "output_type": "stream",
     "text": [
      "Saved 공익법인의 설립ㆍ운영에 관한 법률 to 법령별 csv 저장\n"
     ]
    },
    {
     "name": "stderr",
     "output_type": "stream",
     "text": [
      " 11%|█         | 159/1500 [04:38<43:52,  1.96s/it]"
     ]
    },
    {
     "name": "stdout",
     "output_type": "stream",
     "text": [
      "Saved 공익사업을 위한 토지 등의 취득 및 보상에 관한 법률 to 법령별 csv 저장\n"
     ]
    },
    {
     "name": "stderr",
     "output_type": "stream",
     "text": [
      " 11%|█         | 160/1500 [04:40<43:26,  1.95s/it]"
     ]
    },
    {
     "name": "stdout",
     "output_type": "stream",
     "text": [
      "Saved 공익신고자 보호법 to 법령별 csv 저장\n"
     ]
    },
    {
     "name": "stderr",
     "output_type": "stream",
     "text": [
      " 11%|█         | 161/1500 [04:42<39:22,  1.76s/it]"
     ]
    },
    {
     "name": "stdout",
     "output_type": "stream",
     "text": [
      "Saved 공익신탁법 to 법령별 csv 저장\n"
     ]
    },
    {
     "name": "stderr",
     "output_type": "stream",
     "text": [
      " 11%|█         | 162/1500 [04:43<38:48,  1.74s/it]"
     ]
    },
    {
     "name": "stdout",
     "output_type": "stream",
     "text": [
      "Saved 공인노무사법 to 법령별 csv 저장\n"
     ]
    },
    {
     "name": "stderr",
     "output_type": "stream",
     "text": [
      " 11%|█         | 163/1500 [04:45<39:06,  1.76s/it]"
     ]
    },
    {
     "name": "stdout",
     "output_type": "stream",
     "text": [
      "Saved 공인중개사법 to 법령별 csv 저장\n"
     ]
    },
    {
     "name": "stderr",
     "output_type": "stream",
     "text": [
      " 11%|█         | 164/1500 [04:47<41:56,  1.88s/it]"
     ]
    },
    {
     "name": "stdout",
     "output_type": "stream",
     "text": [
      "Saved 공인회계사법 to 법령별 csv 저장\n"
     ]
    },
    {
     "name": "stderr",
     "output_type": "stream",
     "text": [
      " 11%|█         | 165/1500 [04:49<37:48,  1.70s/it]"
     ]
    },
    {
     "name": "stdout",
     "output_type": "stream",
     "text": [
      "Saved 공장 및 광업재단 저당법 to 법령별 csv 저장\n"
     ]
    },
    {
     "name": "stderr",
     "output_type": "stream",
     "text": [
      " 11%|█         | 166/1500 [04:50<35:23,  1.59s/it]"
     ]
    },
    {
     "name": "stdout",
     "output_type": "stream",
     "text": [
      "Saved 공적자금관리 특별법 to 법령별 csv 저장\n"
     ]
    },
    {
     "name": "stderr",
     "output_type": "stream",
     "text": [
      " 11%|█         | 167/1500 [04:51<32:56,  1.48s/it]"
     ]
    },
    {
     "name": "stdout",
     "output_type": "stream",
     "text": [
      "Saved 공적자금상환기금법 to 법령별 csv 저장\n"
     ]
    },
    {
     "name": "stderr",
     "output_type": "stream",
     "text": [
      " 11%|█         | 168/1500 [04:52<31:22,  1.41s/it]"
     ]
    },
    {
     "name": "stdout",
     "output_type": "stream",
     "text": [
      "Saved 공중 등 협박목적 및 대량살상무기확산을 위한 자금조달행위의 금지에 관한 법률 to 법령별 csv 저장\n"
     ]
    },
    {
     "name": "stderr",
     "output_type": "stream",
     "text": [
      " 11%|█▏        | 169/1500 [04:54<30:10,  1.36s/it]"
     ]
    },
    {
     "name": "stdout",
     "output_type": "stream",
     "text": [
      "Saved 공중방역수의사에 관한 법률 to 법령별 csv 저장\n"
     ]
    },
    {
     "name": "stderr",
     "output_type": "stream",
     "text": [
      " 11%|█▏        | 170/1500 [04:55<30:59,  1.40s/it]"
     ]
    },
    {
     "name": "stdout",
     "output_type": "stream",
     "text": [
      "Saved 공중보건 위기대응 의료제품의 개발 촉진 및 긴급 공급을 위한 특별법 to 법령별 csv 저장\n"
     ]
    },
    {
     "name": "stderr",
     "output_type": "stream",
     "text": [
      " 11%|█▏        | 171/1500 [04:56<29:10,  1.32s/it]"
     ]
    },
    {
     "name": "stdout",
     "output_type": "stream",
     "text": [
      "Saved 공중보건장학을 위한 특례법 to 법령별 csv 저장\n"
     ]
    },
    {
     "name": "stderr",
     "output_type": "stream",
     "text": [
      " 11%|█▏        | 172/1500 [04:58<33:39,  1.52s/it]"
     ]
    },
    {
     "name": "stdout",
     "output_type": "stream",
     "text": [
      "Saved 공중위생관리법 to 법령별 csv 저장\n"
     ]
    },
    {
     "name": "stderr",
     "output_type": "stream",
     "text": [
      " 12%|█▏        | 173/1500 [05:00<32:13,  1.46s/it]"
     ]
    },
    {
     "name": "stdout",
     "output_type": "stream",
     "text": [
      "Saved 공중화장실 등에 관한 법률 to 법령별 csv 저장\n"
     ]
    },
    {
     "name": "stderr",
     "output_type": "stream",
     "text": [
      " 12%|█▏        | 174/1500 [05:02<36:13,  1.64s/it]"
     ]
    },
    {
     "name": "stdout",
     "output_type": "stream",
     "text": [
      "Saved 공증인법 to 법령별 csv 저장\n"
     ]
    },
    {
     "name": "stderr",
     "output_type": "stream",
     "text": [
      " 12%|█▏        | 175/1500 [05:07<58:02,  2.63s/it]"
     ]
    },
    {
     "name": "stdout",
     "output_type": "stream",
     "text": [
      "Saved 공직선거법 to 법령별 csv 저장\n"
     ]
    },
    {
     "name": "stderr",
     "output_type": "stream",
     "text": [
      " 12%|█▏        | 176/1500 [05:08<49:45,  2.25s/it]"
     ]
    },
    {
     "name": "stdout",
     "output_type": "stream",
     "text": [
      "Saved 공직자 등의 병역사항 신고 및 공개에 관한 법률 to 법령별 csv 저장\n"
     ]
    },
    {
     "name": "stderr",
     "output_type": "stream",
     "text": [
      " 12%|█▏        | 177/1500 [05:10<50:28,  2.29s/it]"
     ]
    },
    {
     "name": "stdout",
     "output_type": "stream",
     "text": [
      "Saved 공직자윤리법 to 법령별 csv 저장\n"
     ]
    },
    {
     "name": "stderr",
     "output_type": "stream",
     "text": [
      " 12%|█▏        | 178/1500 [05:12<44:59,  2.04s/it]"
     ]
    },
    {
     "name": "stdout",
     "output_type": "stream",
     "text": [
      "Saved 공직자의 이해충돌 방지법 to 법령별 csv 저장\n"
     ]
    },
    {
     "name": "stderr",
     "output_type": "stream",
     "text": [
      " 12%|█▏        | 179/1500 [05:14<43:25,  1.97s/it]"
     ]
    },
    {
     "name": "stdout",
     "output_type": "stream",
     "text": [
      "Saved 공탁법 to 법령별 csv 저장\n"
     ]
    },
    {
     "name": "stderr",
     "output_type": "stream",
     "text": [
      " 12%|█▏        | 180/1500 [05:15<39:37,  1.80s/it]"
     ]
    },
    {
     "name": "stdout",
     "output_type": "stream",
     "text": [
      "Saved 공항소음 방지 및 소음대책지역 지원에 관한 법률 to 법령별 csv 저장\n"
     ]
    },
    {
     "name": "stderr",
     "output_type": "stream",
     "text": [
      " 12%|█▏        | 181/1500 [05:17<44:10,  2.01s/it]"
     ]
    },
    {
     "name": "stdout",
     "output_type": "stream",
     "text": [
      "Saved 공항시설법 to 법령별 csv 저장\n"
     ]
    },
    {
     "name": "stderr",
     "output_type": "stream",
     "text": [
      " 12%|█▏        | 182/1500 [05:19<38:26,  1.75s/it]"
     ]
    },
    {
     "name": "stdout",
     "output_type": "stream",
     "text": [
      "Saved 공휴일에 관한 법률 to 법령별 csv 저장\n"
     ]
    },
    {
     "name": "stderr",
     "output_type": "stream",
     "text": [
      " 12%|█▏        | 183/1500 [05:21<40:50,  1.86s/it]"
     ]
    },
    {
     "name": "stdout",
     "output_type": "stream",
     "text": [
      "Saved 과세자료의 제출 및 관리에 관한 법률 to 법령별 csv 저장\n"
     ]
    },
    {
     "name": "stderr",
     "output_type": "stream",
     "text": [
      " 12%|█▏        | 184/1500 [05:23<41:00,  1.87s/it]"
     ]
    },
    {
     "name": "stdout",
     "output_type": "stream",
     "text": [
      "Saved 과학관의 설립ㆍ운영 및 육성에 관한 법률 to 법령별 csv 저장\n"
     ]
    },
    {
     "name": "stderr",
     "output_type": "stream",
     "text": [
      " 12%|█▏        | 185/1500 [05:25<43:10,  1.97s/it]"
     ]
    },
    {
     "name": "stdout",
     "output_type": "stream",
     "text": [
      "Saved 과학기술기본법 to 법령별 csv 저장\n"
     ]
    },
    {
     "name": "stderr",
     "output_type": "stream",
     "text": [
      " 12%|█▏        | 186/1500 [05:27<41:48,  1.91s/it]"
     ]
    },
    {
     "name": "stdout",
     "output_type": "stream",
     "text": [
      "Saved 과학기술분야 정부출연연구기관 등의 설립ㆍ운영 및 육성에 관한 법률 to 법령별 csv 저장\n"
     ]
    },
    {
     "name": "stderr",
     "output_type": "stream",
     "text": [
      " 12%|█▏        | 187/1500 [05:28<39:36,  1.81s/it]"
     ]
    },
    {
     "name": "stdout",
     "output_type": "stream",
     "text": [
      "Saved 과학기술유공자 예우 및 지원에 관한 법률 to 법령별 csv 저장\n"
     ]
    },
    {
     "name": "stderr",
     "output_type": "stream",
     "text": [
      " 13%|█▎        | 188/1500 [05:30<39:28,  1.81s/it]"
     ]
    },
    {
     "name": "stdout",
     "output_type": "stream",
     "text": [
      "Saved 과학기술인공제회법 to 법령별 csv 저장\n"
     ]
    },
    {
     "name": "stderr",
     "output_type": "stream",
     "text": [
      " 13%|█▎        | 189/1500 [05:31<35:30,  1.62s/it]"
     ]
    },
    {
     "name": "stdout",
     "output_type": "stream",
     "text": [
      "Saved 과학ㆍ수학ㆍ정보 교육 진흥법 to 법령별 csv 저장\n"
     ]
    },
    {
     "name": "stderr",
     "output_type": "stream",
     "text": [
      " 13%|█▎        | 190/1500 [05:33<34:39,  1.59s/it]"
     ]
    },
    {
     "name": "stdout",
     "output_type": "stream",
     "text": [
      "Saved 관광기본법 to 법령별 csv 저장\n"
     ]
    },
    {
     "name": "stderr",
     "output_type": "stream",
     "text": [
      " 13%|█▎        | 191/1500 [05:34<33:33,  1.54s/it]"
     ]
    },
    {
     "name": "stdout",
     "output_type": "stream",
     "text": [
      "Saved 관광진흥개발기금법 to 법령별 csv 저장\n"
     ]
    },
    {
     "name": "stderr",
     "output_type": "stream",
     "text": [
      " 13%|█▎        | 192/1500 [05:37<41:32,  1.91s/it]"
     ]
    },
    {
     "name": "stdout",
     "output_type": "stream",
     "text": [
      "Saved 관광진흥법 to 법령별 csv 저장\n"
     ]
    },
    {
     "name": "stderr",
     "output_type": "stream",
     "text": [
      " 13%|█▎        | 193/1500 [05:38<39:11,  1.80s/it]"
     ]
    },
    {
     "name": "stdout",
     "output_type": "stream",
     "text": [
      "Saved 관상어산업의 육성 및 지원에 관한 법률 to 법령별 csv 저장\n"
     ]
    },
    {
     "name": "stderr",
     "output_type": "stream",
     "text": [
      " 13%|█▎        | 194/1500 [05:43<59:01,  2.71s/it]"
     ]
    },
    {
     "name": "stdout",
     "output_type": "stream",
     "text": [
      "Saved 관세법 to 법령별 csv 저장\n"
     ]
    },
    {
     "name": "stderr",
     "output_type": "stream",
     "text": [
      " 13%|█▎        | 195/1500 [05:45<52:42,  2.42s/it]"
     ]
    },
    {
     "name": "stdout",
     "output_type": "stream",
     "text": [
      "Saved 관세사법 to 법령별 csv 저장\n"
     ]
    },
    {
     "name": "stderr",
     "output_type": "stream",
     "text": [
      " 13%|█▎        | 196/1500 [05:46<46:45,  2.15s/it]"
     ]
    },
    {
     "name": "stdout",
     "output_type": "stream",
     "text": [
      "Saved 광산안전법 to 법령별 csv 저장\n"
     ]
    },
    {
     "name": "stderr",
     "output_type": "stream",
     "text": [
      " 13%|█▎        | 197/1500 [05:48<43:28,  2.00s/it]"
     ]
    },
    {
     "name": "stdout",
     "output_type": "stream",
     "text": [
      "Saved 광산피해의 방지 및 복구에 관한 법률 to 법령별 csv 저장\n"
     ]
    },
    {
     "name": "stderr",
     "output_type": "stream",
     "text": [
      " 13%|█▎        | 198/1500 [05:50<42:19,  1.95s/it]"
     ]
    },
    {
     "name": "stdout",
     "output_type": "stream",
     "text": [
      "Saved 광업법 to 법령별 csv 저장\n"
     ]
    },
    {
     "name": "stderr",
     "output_type": "stream",
     "text": [
      " 13%|█▎        | 199/1500 [05:51<37:50,  1.75s/it]"
     ]
    },
    {
     "name": "stdout",
     "output_type": "stream",
     "text": [
      "Saved 광융합기술 개발 및 기반조성 지원에 관한 법률 to 법령별 csv 저장\n"
     ]
    },
    {
     "name": "stderr",
     "output_type": "stream",
     "text": [
      " 13%|█▎        | 200/1500 [05:53<35:06,  1.62s/it]"
     ]
    },
    {
     "name": "stdout",
     "output_type": "stream",
     "text": [
      "Saved 광주과학기술원법 to 법령별 csv 저장\n"
     ]
    },
    {
     "name": "stderr",
     "output_type": "stream",
     "text": [
      " 13%|█▎        | 201/1500 [05:54<34:10,  1.58s/it]"
     ]
    },
    {
     "name": "stdout",
     "output_type": "stream",
     "text": [
      "Saved 광주 군 공항 이전 및 종전부지 개발 등에 관한 특별법 to 법령별 csv 저장\n"
     ]
    },
    {
     "name": "stderr",
     "output_type": "stream",
     "text": [
      " 13%|█▎        | 202/1500 [05:55<31:55,  1.48s/it]"
     ]
    },
    {
     "name": "stdout",
     "output_type": "stream",
     "text": [
      "Saved 교도작업의 운영 및 특별회계에 관한 법률 to 법령별 csv 저장\n"
     ]
    },
    {
     "name": "stderr",
     "output_type": "stream",
     "text": [
      " 14%|█▎        | 203/1500 [05:57<31:10,  1.44s/it]"
     ]
    },
    {
     "name": "stdout",
     "output_type": "stream",
     "text": [
      "Saved 교원의 노동조합 설립 및 운영 등에 관한 법률 to 법령별 csv 저장\n"
     ]
    },
    {
     "name": "stderr",
     "output_type": "stream",
     "text": [
      " 14%|█▎        | 204/1500 [05:58<32:54,  1.52s/it]"
     ]
    },
    {
     "name": "stdout",
     "output_type": "stream",
     "text": [
      "Saved 교원의 지위 향상 및 교육활동 보호를 위한 특별법 to 법령별 csv 저장\n"
     ]
    },
    {
     "name": "stderr",
     "output_type": "stream",
     "text": [
      " 14%|█▎        | 205/1500 [06:00<36:10,  1.68s/it]"
     ]
    },
    {
     "name": "stdout",
     "output_type": "stream",
     "text": [
      "Saved 교육공무원법 to 법령별 csv 저장\n"
     ]
    },
    {
     "name": "stderr",
     "output_type": "stream",
     "text": [
      " 14%|█▎        | 206/1500 [06:02<34:49,  1.61s/it]"
     ]
    },
    {
     "name": "stdout",
     "output_type": "stream",
     "text": [
      "Saved 교육관련기관의 정보공개에 관한 특례법 to 법령별 csv 저장\n"
     ]
    },
    {
     "name": "stderr",
     "output_type": "stream",
     "text": [
      " 14%|█▍        | 207/1500 [06:03<33:01,  1.53s/it]"
     ]
    },
    {
     "name": "stdout",
     "output_type": "stream",
     "text": [
      "Saved 교육국제화특구의 지정ㆍ운영 및 육성에 관한 특별법 to 법령별 csv 저장\n"
     ]
    },
    {
     "name": "stderr",
     "output_type": "stream",
     "text": [
      " 14%|█▍        | 208/1500 [06:05<32:59,  1.53s/it]"
     ]
    },
    {
     "name": "stdout",
     "output_type": "stream",
     "text": [
      "Saved 교육기본법 to 법령별 csv 저장\n"
     ]
    },
    {
     "name": "stderr",
     "output_type": "stream",
     "text": [
      " 14%|█▍        | 209/1500 [06:06<33:40,  1.56s/it]"
     ]
    },
    {
     "name": "stdout",
     "output_type": "stream",
     "text": [
      "Saved 교육세법 to 법령별 csv 저장\n"
     ]
    },
    {
     "name": "stderr",
     "output_type": "stream",
     "text": [
      " 14%|█▍        | 210/1500 [06:10<49:15,  2.29s/it]"
     ]
    },
    {
     "name": "stdout",
     "output_type": "stream",
     "text": [
      "Saved 교육시설 등의 안전 및 유지관리 등에 관한 법률 to 법령별 csv 저장\n"
     ]
    },
    {
     "name": "stderr",
     "output_type": "stream",
     "text": [
      " 14%|█▍        | 211/1500 [06:12<43:57,  2.05s/it]"
     ]
    },
    {
     "name": "stdout",
     "output_type": "stream",
     "text": [
      "Saved 교육환경 보호에 관한 법률 to 법령별 csv 저장\n"
     ]
    },
    {
     "name": "stderr",
     "output_type": "stream",
     "text": [
      " 14%|█▍        | 212/1500 [06:13<39:53,  1.86s/it]"
     ]
    },
    {
     "name": "stdout",
     "output_type": "stream",
     "text": [
      "Saved 교정공제회법 to 법령별 csv 저장\n"
     ]
    },
    {
     "name": "stderr",
     "output_type": "stream",
     "text": [
      " 14%|█▍        | 213/1500 [06:15<37:25,  1.75s/it]"
     ]
    },
    {
     "name": "stdout",
     "output_type": "stream",
     "text": [
      "Saved 교통사고처리 특례법 to 법령별 csv 저장\n"
     ]
    },
    {
     "name": "stderr",
     "output_type": "stream",
     "text": [
      " 14%|█▍        | 214/1500 [06:16<37:07,  1.73s/it]"
     ]
    },
    {
     "name": "stdout",
     "output_type": "stream",
     "text": [
      "Saved 교통시설특별회계법 to 법령별 csv 저장\n"
     ]
    },
    {
     "name": "stderr",
     "output_type": "stream",
     "text": [
      " 14%|█▍        | 215/1500 [06:18<38:06,  1.78s/it]"
     ]
    },
    {
     "name": "stdout",
     "output_type": "stream",
     "text": [
      "Saved 교통안전법 to 법령별 csv 저장\n"
     ]
    },
    {
     "name": "stderr",
     "output_type": "stream",
     "text": [
      " 14%|█▍        | 216/1500 [06:20<36:53,  1.72s/it]"
     ]
    },
    {
     "name": "stdout",
     "output_type": "stream",
     "text": [
      "Saved 교통약자의 이동편의 증진법 to 법령별 csv 저장\n"
     ]
    },
    {
     "name": "stderr",
     "output_type": "stream",
     "text": [
      " 14%|█▍        | 217/1500 [06:21<35:31,  1.66s/it]"
     ]
    },
    {
     "name": "stdout",
     "output_type": "stream",
     "text": [
      "Saved 교통ㆍ에너지ㆍ환경세법 to 법령별 csv 저장\n"
     ]
    },
    {
     "name": "stderr",
     "output_type": "stream",
     "text": [
      " 15%|█▍        | 218/1500 [06:23<36:03,  1.69s/it]"
     ]
    },
    {
     "name": "stdout",
     "output_type": "stream",
     "text": [
      "Saved 구강보건법 to 법령별 csv 저장\n"
     ]
    },
    {
     "name": "stderr",
     "output_type": "stream",
     "text": [
      " 15%|█▍        | 219/1500 [06:25<34:57,  1.64s/it]"
     ]
    },
    {
     "name": "stdout",
     "output_type": "stream",
     "text": [
      "Saved 구직자 취업촉진 및 생활안정지원에 관한 법률 to 법령별 csv 저장\n"
     ]
    },
    {
     "name": "stderr",
     "output_type": "stream",
     "text": [
      " 15%|█▍        | 220/1500 [06:27<38:50,  1.82s/it]"
     ]
    },
    {
     "name": "stdout",
     "output_type": "stream",
     "text": [
      "Saved 국가경찰과 자치경찰의 조직 및 운영에 관한 법률 to 법령별 csv 저장\n"
     ]
    },
    {
     "name": "stderr",
     "output_type": "stream",
     "text": [
      " 15%|█▍        | 221/1500 [06:28<36:27,  1.71s/it]"
     ]
    },
    {
     "name": "stdout",
     "output_type": "stream",
     "text": [
      "Saved 국가공간정보 기본법 to 법령별 csv 저장\n"
     ]
    },
    {
     "name": "stderr",
     "output_type": "stream",
     "text": [
      " 15%|█▍        | 222/1500 [06:31<43:34,  2.05s/it]"
     ]
    },
    {
     "name": "stdout",
     "output_type": "stream",
     "text": [
      "Saved 국가공무원법 to 법령별 csv 저장\n"
     ]
    },
    {
     "name": "stderr",
     "output_type": "stream",
     "text": [
      " 15%|█▍        | 223/1500 [06:33<40:26,  1.90s/it]"
     ]
    },
    {
     "name": "stdout",
     "output_type": "stream",
     "text": [
      "Saved 국가과학기술 경쟁력 강화를 위한 이공계지원 특별법 to 법령별 csv 저장\n"
     ]
    },
    {
     "name": "stderr",
     "output_type": "stream",
     "text": [
      " 15%|█▍        | 224/1500 [06:34<37:45,  1.78s/it]"
     ]
    },
    {
     "name": "stdout",
     "output_type": "stream",
     "text": [
      "Saved 국가과학기술자문회의법 to 법령별 csv 저장\n"
     ]
    },
    {
     "name": "stderr",
     "output_type": "stream",
     "text": [
      " 15%|█▌        | 225/1500 [06:36<34:58,  1.65s/it]"
     ]
    },
    {
     "name": "stdout",
     "output_type": "stream",
     "text": [
      "Saved 국가교육위원회 설치 및 운영에 관한 법률 to 법령별 csv 저장\n"
     ]
    },
    {
     "name": "stderr",
     "output_type": "stream",
     "text": [
      " 15%|█▌        | 226/1500 [06:37<33:39,  1.59s/it]"
     ]
    },
    {
     "name": "stdout",
     "output_type": "stream",
     "text": [
      "Saved 국가기술자격법 to 법령별 csv 저장\n"
     ]
    },
    {
     "name": "stderr",
     "output_type": "stream",
     "text": [
      " 15%|█▌        | 227/1500 [06:39<33:03,  1.56s/it]"
     ]
    },
    {
     "name": "stdout",
     "output_type": "stream",
     "text": [
      "Saved 국가를 당사자로 하는 계약에 관한 법률 to 법령별 csv 저장\n"
     ]
    },
    {
     "name": "stderr",
     "output_type": "stream",
     "text": [
      " 15%|█▌        | 228/1500 [06:40<32:27,  1.53s/it]"
     ]
    },
    {
     "name": "stdout",
     "output_type": "stream",
     "text": [
      "Saved 국가를 당사자로 하는 소송에 관한 법률 to 법령별 csv 저장\n"
     ]
    },
    {
     "name": "stderr",
     "output_type": "stream",
     "text": [
      " 15%|█▌        | 229/1500 [06:41<30:20,  1.43s/it]"
     ]
    },
    {
     "name": "stdout",
     "output_type": "stream",
     "text": [
      "Saved 국가배상법 to 법령별 csv 저장\n"
     ]
    },
    {
     "name": "stderr",
     "output_type": "stream",
     "text": [
      " 15%|█▌        | 230/1500 [06:43<30:32,  1.44s/it]"
     ]
    },
    {
     "name": "stdout",
     "output_type": "stream",
     "text": [
      "Saved 국가보안법 to 법령별 csv 저장\n"
     ]
    },
    {
     "name": "stderr",
     "output_type": "stream",
     "text": [
      " 15%|█▌        | 231/1500 [06:44<28:48,  1.36s/it]"
     ]
    },
    {
     "name": "stdout",
     "output_type": "stream",
     "text": [
      "Saved 국가보위에 관한 특별조치법 제5조제4항에 의한 동원대상지역 내의 토지의 수용ㆍ사용에 관한 특별조치령에 의하여 수용ㆍ사용된 토지의 정리에 관한 특별조치법 to 법령별 csv 저장\n"
     ]
    },
    {
     "name": "stderr",
     "output_type": "stream",
     "text": [
      " 15%|█▌        | 232/1500 [06:45<28:22,  1.34s/it]"
     ]
    },
    {
     "name": "stdout",
     "output_type": "stream",
     "text": [
      "Saved 국가보훈 기본법 to 법령별 csv 저장\n"
     ]
    },
    {
     "name": "stderr",
     "output_type": "stream",
     "text": [
      " 16%|█▌        | 233/1500 [06:47<28:16,  1.34s/it]"
     ]
    },
    {
     "name": "stdout",
     "output_type": "stream",
     "text": [
      "Saved 국가안전보장회의법 to 법령별 csv 저장\n"
     ]
    },
    {
     "name": "stderr",
     "output_type": "stream",
     "text": [
      " 16%|█▌        | 234/1500 [06:48<26:22,  1.25s/it]"
     ]
    },
    {
     "name": "stdout",
     "output_type": "stream",
     "text": [
      "Saved 국가에 귀속하는 상속재산 이전에 관한 법률 to 법령별 csv 저장\n"
     ]
    },
    {
     "name": "stderr",
     "output_type": "stream",
     "text": [
      " 16%|█▌        | 235/1500 [06:49<29:08,  1.38s/it]"
     ]
    },
    {
     "name": "stdout",
     "output_type": "stream",
     "text": [
      "Saved 국가연구개발사업 등의 성과평가 및 성과관리에 관한 법률 to 법령별 csv 저장\n"
     ]
    },
    {
     "name": "stderr",
     "output_type": "stream",
     "text": [
      " 16%|█▌        | 236/1500 [06:51<30:39,  1.46s/it]"
     ]
    },
    {
     "name": "stdout",
     "output_type": "stream",
     "text": [
      "Saved 국가연구개발혁신법 to 법령별 csv 저장\n"
     ]
    },
    {
     "name": "stderr",
     "output_type": "stream",
     "text": [
      " 16%|█▌        | 237/1500 [06:52<30:48,  1.46s/it]"
     ]
    },
    {
     "name": "stdout",
     "output_type": "stream",
     "text": [
      "Saved 국가유공자 등 단체 설립에 관한 법률 to 법령별 csv 저장\n"
     ]
    },
    {
     "name": "stderr",
     "output_type": "stream",
     "text": [
      " 16%|█▌        | 238/1500 [06:55<38:00,  1.81s/it]"
     ]
    },
    {
     "name": "stdout",
     "output_type": "stream",
     "text": [
      "Saved 국가유공자 등 예우 및 지원에 관한 법률 to 법령별 csv 저장\n"
     ]
    },
    {
     "name": "stderr",
     "output_type": "stream",
     "text": [
      " 16%|█▌        | 239/1500 [06:56<35:44,  1.70s/it]"
     ]
    },
    {
     "name": "stdout",
     "output_type": "stream",
     "text": [
      "Saved 국가유산기본법 to 법령별 csv 저장\n"
     ]
    },
    {
     "name": "stderr",
     "output_type": "stream",
     "text": [
      " 16%|█▌        | 240/1500 [06:58<32:34,  1.55s/it]"
     ]
    },
    {
     "name": "stdout",
     "output_type": "stream",
     "text": [
      "Saved 국가유산보호기금법 to 법령별 csv 저장\n"
     ]
    },
    {
     "name": "stderr",
     "output_type": "stream",
     "text": [
      " 16%|█▌        | 241/1500 [06:59<34:12,  1.63s/it]"
     ]
    },
    {
     "name": "stdout",
     "output_type": "stream",
     "text": [
      "Saved 국가유산수리 등에 관한 법률 to 법령별 csv 저장\n"
     ]
    },
    {
     "name": "stderr",
     "output_type": "stream",
     "text": [
      " 16%|█▌        | 242/1500 [07:01<32:17,  1.54s/it]"
     ]
    },
    {
     "name": "stdout",
     "output_type": "stream",
     "text": [
      "Saved 국가유산영향진단법 to 법령별 csv 저장\n"
     ]
    },
    {
     "name": "stderr",
     "output_type": "stream",
     "text": [
      " 16%|█▌        | 243/1500 [07:03<33:40,  1.61s/it]"
     ]
    },
    {
     "name": "stdout",
     "output_type": "stream",
     "text": [
      "Saved 국가인권위원회법 to 법령별 csv 저장\n"
     ]
    },
    {
     "name": "stderr",
     "output_type": "stream",
     "text": [
      " 16%|█▋        | 244/1500 [07:04<33:45,  1.61s/it]"
     ]
    },
    {
     "name": "stdout",
     "output_type": "stream",
     "text": [
      "Saved 국가자원안보 특별법 to 법령별 csv 저장\n"
     ]
    },
    {
     "name": "stderr",
     "output_type": "stream",
     "text": [
      " 16%|█▋        | 245/1500 [07:06<32:38,  1.56s/it]"
     ]
    },
    {
     "name": "stdout",
     "output_type": "stream",
     "text": [
      "Saved 국가장법 to 법령별 csv 저장\n"
     ]
    },
    {
     "name": "stderr",
     "output_type": "stream",
     "text": [
      " 16%|█▋        | 246/1500 [07:08<38:05,  1.82s/it]"
     ]
    },
    {
     "name": "stdout",
     "output_type": "stream",
     "text": [
      "Saved 국가재정법 to 법령별 csv 저장\n"
     ]
    },
    {
     "name": "stderr",
     "output_type": "stream",
     "text": [
      " 16%|█▋        | 247/1500 [07:10<38:00,  1.82s/it]"
     ]
    },
    {
     "name": "stdout",
     "output_type": "stream",
     "text": [
      "Saved 국가전략기술 육성에 관한 특별법 to 법령별 csv 저장\n"
     ]
    },
    {
     "name": "stderr",
     "output_type": "stream",
     "text": [
      " 17%|█▋        | 248/1500 [07:11<34:42,  1.66s/it]"
     ]
    },
    {
     "name": "stdout",
     "output_type": "stream",
     "text": [
      "Saved 국가정보원법 to 법령별 csv 저장\n"
     ]
    },
    {
     "name": "stderr",
     "output_type": "stream",
     "text": [
      " 17%|█▋        | 249/1500 [07:13<34:07,  1.64s/it]"
     ]
    },
    {
     "name": "stdout",
     "output_type": "stream",
     "text": [
      "Saved 국가정보원직원법 to 법령별 csv 저장\n"
     ]
    },
    {
     "name": "stderr",
     "output_type": "stream",
     "text": [
      " 17%|█▋        | 250/1500 [07:15<36:52,  1.77s/it]"
     ]
    },
    {
     "name": "stdout",
     "output_type": "stream",
     "text": [
      "Saved 국가지식정보 연계 및 활용 촉진에 관한 법률 to 법령별 csv 저장\n"
     ]
    },
    {
     "name": "stderr",
     "output_type": "stream",
     "text": [
      " 17%|█▋        | 251/1500 [07:17<36:54,  1.77s/it]"
     ]
    },
    {
     "name": "stdout",
     "output_type": "stream",
     "text": [
      "Saved 국가채권 관리법 to 법령별 csv 저장\n"
     ]
    },
    {
     "name": "stderr",
     "output_type": "stream",
     "text": [
      " 17%|█▋        | 252/1500 [07:19<38:18,  1.84s/it]"
     ]
    },
    {
     "name": "stdout",
     "output_type": "stream",
     "text": [
      "Saved 국가철도공단법 to 법령별 csv 저장\n"
     ]
    },
    {
     "name": "stderr",
     "output_type": "stream",
     "text": [
      " 17%|█▋        | 253/1500 [07:20<37:54,  1.82s/it]"
     ]
    },
    {
     "name": "stdout",
     "output_type": "stream",
     "text": [
      "Saved 국가첨단전략산업 경쟁력 강화 및 보호에 관한 특별조치법 to 법령별 csv 저장\n"
     ]
    },
    {
     "name": "stderr",
     "output_type": "stream",
     "text": [
      " 17%|█▋        | 254/1500 [07:22<36:25,  1.75s/it]"
     ]
    },
    {
     "name": "stdout",
     "output_type": "stream",
     "text": [
      "Saved 국가초고성능컴퓨터 활용 및 육성에 관한 법률 to 법령별 csv 저장\n"
     ]
    },
    {
     "name": "stderr",
     "output_type": "stream",
     "text": [
      " 17%|█▋        | 255/1500 [07:25<42:06,  2.03s/it]"
     ]
    },
    {
     "name": "stdout",
     "output_type": "stream",
     "text": [
      "Saved 국가통합교통체계효율화법 to 법령별 csv 저장\n"
     ]
    },
    {
     "name": "stderr",
     "output_type": "stream",
     "text": [
      " 17%|█▋        | 256/1500 [07:26<41:13,  1.99s/it]"
     ]
    },
    {
     "name": "stdout",
     "output_type": "stream",
     "text": [
      "Saved 국가표준기본법 to 법령별 csv 저장\n"
     ]
    },
    {
     "name": "stderr",
     "output_type": "stream",
     "text": [
      " 17%|█▋        | 257/1500 [07:28<36:47,  1.78s/it]"
     ]
    },
    {
     "name": "stdout",
     "output_type": "stream",
     "text": [
      "Saved 국가회계법 to 법령별 csv 저장\n"
     ]
    },
    {
     "name": "stderr",
     "output_type": "stream",
     "text": [
      " 17%|█▋        | 258/1500 [07:29<33:17,  1.61s/it]"
     ]
    },
    {
     "name": "stdout",
     "output_type": "stream",
     "text": [
      "Saved 국경일에 관한 법률 to 법령별 csv 저장\n"
     ]
    },
    {
     "name": "stderr",
     "output_type": "stream",
     "text": [
      " 17%|█▋        | 259/1500 [07:34<54:13,  2.62s/it]"
     ]
    },
    {
     "name": "stdout",
     "output_type": "stream",
     "text": [
      "Saved 국고금 관리법 to 법령별 csv 저장\n"
     ]
    },
    {
     "name": "stderr",
     "output_type": "stream",
     "text": [
      " 17%|█▋        | 260/1500 [07:35<45:17,  2.19s/it]"
     ]
    },
    {
     "name": "stdout",
     "output_type": "stream",
     "text": [
      "Saved 국ㆍ공유 부동산의 등기 촉탁에 관한 법률 to 법령별 csv 저장\n"
     ]
    },
    {
     "name": "stderr",
     "output_type": "stream",
     "text": [
      " 17%|█▋        | 261/1500 [07:36<39:46,  1.93s/it]"
     ]
    },
    {
     "name": "stdout",
     "output_type": "stream",
     "text": [
      "Saved 국군간호사관학교 설치법 to 법령별 csv 저장\n"
     ]
    },
    {
     "name": "stderr",
     "output_type": "stream",
     "text": [
      " 17%|█▋        | 262/1500 [07:38<37:45,  1.83s/it]"
     ]
    },
    {
     "name": "stdout",
     "output_type": "stream",
     "text": [
      "Saved 국군조직법 to 법령별 csv 저장\n"
     ]
    },
    {
     "name": "stderr",
     "output_type": "stream",
     "text": [
      " 18%|█▊        | 263/1500 [07:39<34:40,  1.68s/it]"
     ]
    },
    {
     "name": "stdout",
     "output_type": "stream",
     "text": [
      "Saved 국군포로의 송환 및 대우 등에 관한 법률 to 법령별 csv 저장\n"
     ]
    },
    {
     "name": "stderr",
     "output_type": "stream",
     "text": [
      " 18%|█▊        | 264/1500 [07:41<33:09,  1.61s/it]"
     ]
    },
    {
     "name": "stdout",
     "output_type": "stream",
     "text": [
      "Saved 국내입양에 관한 특별법 to 법령별 csv 저장\n"
     ]
    },
    {
     "name": "stderr",
     "output_type": "stream",
     "text": [
      " 18%|█▊        | 265/1500 [07:42<31:04,  1.51s/it]"
     ]
    },
    {
     "name": "stdout",
     "output_type": "stream",
     "text": [
      "Saved 국내재산 도피 방지법 to 법령별 csv 저장\n"
     ]
    },
    {
     "name": "stderr",
     "output_type": "stream",
     "text": [
      " 18%|█▊        | 266/1500 [07:44<30:10,  1.47s/it]"
     ]
    },
    {
     "name": "stdout",
     "output_type": "stream",
     "text": [
      "Saved 국립공원공단법 to 법령별 csv 저장\n"
     ]
    },
    {
     "name": "stderr",
     "output_type": "stream",
     "text": [
      " 18%|█▊        | 267/1500 [07:45<29:25,  1.43s/it]"
     ]
    },
    {
     "name": "stdout",
     "output_type": "stream",
     "text": [
      "Saved 국립국가폭력트라우마치유센터의 설립 및 운영에 관한 법률 to 법령별 csv 저장\n"
     ]
    },
    {
     "name": "stderr",
     "output_type": "stream",
     "text": [
      " 18%|█▊        | 268/1500 [07:46<27:42,  1.35s/it]"
     ]
    },
    {
     "name": "stdout",
     "output_type": "stream",
     "text": [
      "Saved 국립농업박물관법 to 법령별 csv 저장\n"
     ]
    },
    {
     "name": "stderr",
     "output_type": "stream",
     "text": [
      " 18%|█▊        | 269/1500 [07:47<28:25,  1.39s/it]"
     ]
    },
    {
     "name": "stdout",
     "output_type": "stream",
     "text": [
      "Saved 국립대학법인 서울대학교 설립ㆍ운영에 관한 법률 to 법령별 csv 저장\n"
     ]
    },
    {
     "name": "stderr",
     "output_type": "stream",
     "text": [
      " 18%|█▊        | 270/1500 [07:50<32:22,  1.58s/it]"
     ]
    },
    {
     "name": "stdout",
     "output_type": "stream",
     "text": [
      "Saved 국립대학법인 인천대학교 설립ㆍ운영에 관한 법률 to 법령별 csv 저장\n"
     ]
    },
    {
     "name": "stderr",
     "output_type": "stream",
     "text": [
      " 18%|█▊        | 271/1500 [07:51<31:18,  1.53s/it]"
     ]
    },
    {
     "name": "stdout",
     "output_type": "stream",
     "text": [
      "Saved 국립대학병원 설치법 to 법령별 csv 저장\n"
     ]
    },
    {
     "name": "stderr",
     "output_type": "stream",
     "text": [
      " 18%|█▊        | 272/1500 [07:52<30:29,  1.49s/it]"
     ]
    },
    {
     "name": "stdout",
     "output_type": "stream",
     "text": [
      "Saved 국립대학의 회계 설치 및 재정 운영에 관한 법률 to 법령별 csv 저장\n"
     ]
    },
    {
     "name": "stderr",
     "output_type": "stream",
     "text": [
      " 18%|█▊        | 273/1500 [07:54<29:00,  1.42s/it]"
     ]
    },
    {
     "name": "stdout",
     "output_type": "stream",
     "text": [
      "Saved 국립대학치과병원 설치법 to 법령별 csv 저장\n"
     ]
    },
    {
     "name": "stderr",
     "output_type": "stream",
     "text": [
      " 18%|█▊        | 274/1500 [07:55<30:04,  1.47s/it]"
     ]
    },
    {
     "name": "stdout",
     "output_type": "stream",
     "text": [
      "Saved 국립묘지의 설치 및 운영에 관한 법률 to 법령별 csv 저장\n"
     ]
    },
    {
     "name": "stderr",
     "output_type": "stream",
     "text": [
      " 18%|█▊        | 275/1500 [07:57<29:10,  1.43s/it]"
     ]
    },
    {
     "name": "stdout",
     "output_type": "stream",
     "text": [
      "Saved 국립생태원의 설립 및 운영에 관한 법률 to 법령별 csv 저장\n"
     ]
    },
    {
     "name": "stderr",
     "output_type": "stream",
     "text": [
      " 18%|█▊        | 276/1500 [07:58<30:14,  1.48s/it]"
     ]
    },
    {
     "name": "stdout",
     "output_type": "stream",
     "text": [
      "Saved 국립소방병원의 설립 및 운영에 관한 법률 to 법령별 csv 저장\n"
     ]
    },
    {
     "name": "stderr",
     "output_type": "stream",
     "text": [
      " 18%|█▊        | 277/1500 [07:59<27:55,  1.37s/it]"
     ]
    },
    {
     "name": "stdout",
     "output_type": "stream",
     "text": [
      "Saved 국립외교원법 to 법령별 csv 저장\n"
     ]
    },
    {
     "name": "stderr",
     "output_type": "stream",
     "text": [
      " 19%|█▊        | 278/1500 [08:00<27:22,  1.34s/it]"
     ]
    },
    {
     "name": "stdout",
     "output_type": "stream",
     "text": [
      "Saved 국립중앙의료원의 설립 및 운영에 관한 법률 to 법령별 csv 저장\n"
     ]
    },
    {
     "name": "stderr",
     "output_type": "stream",
     "text": [
      " 19%|█▊        | 279/1500 [08:02<28:17,  1.39s/it]"
     ]
    },
    {
     "name": "stdout",
     "output_type": "stream",
     "text": [
      "Saved 국립항공박물관법 to 법령별 csv 저장\n"
     ]
    },
    {
     "name": "stderr",
     "output_type": "stream",
     "text": [
      " 19%|█▊        | 280/1500 [08:03<27:49,  1.37s/it]"
     ]
    },
    {
     "name": "stdout",
     "output_type": "stream",
     "text": [
      "Saved 국립해양과학관의 설립 및 운영에 관한 법률 to 법령별 csv 저장\n"
     ]
    },
    {
     "name": "stderr",
     "output_type": "stream",
     "text": [
      " 19%|█▊        | 281/1500 [08:05<28:00,  1.38s/it]"
     ]
    },
    {
     "name": "stdout",
     "output_type": "stream",
     "text": [
      "Saved 국립해양박물관 등의 설립 및 운영에 관한 법률 to 법령별 csv 저장\n"
     ]
    },
    {
     "name": "stderr",
     "output_type": "stream",
     "text": [
      " 19%|█▉        | 282/1500 [08:06<26:37,  1.31s/it]"
     ]
    },
    {
     "name": "stdout",
     "output_type": "stream",
     "text": [
      "Saved 국립해양생물자원관의 설립 및 운영에 관한 법률 to 법령별 csv 저장\n"
     ]
    },
    {
     "name": "stderr",
     "output_type": "stream",
     "text": [
      " 19%|█▉        | 283/1500 [08:08<33:37,  1.66s/it]"
     ]
    },
    {
     "name": "stdout",
     "output_type": "stream",
     "text": [
      "Saved 국민건강보험법 to 법령별 csv 저장\n"
     ]
    },
    {
     "name": "stderr",
     "output_type": "stream",
     "text": [
      " 19%|█▉        | 284/1500 [08:10<34:25,  1.70s/it]"
     ]
    },
    {
     "name": "stdout",
     "output_type": "stream",
     "text": [
      "Saved 국민건강증진법 to 법령별 csv 저장\n"
     ]
    },
    {
     "name": "stderr",
     "output_type": "stream",
     "text": [
      " 19%|█▉        | 285/1500 [08:11<31:15,  1.54s/it]"
     ]
    },
    {
     "name": "stdout",
     "output_type": "stream",
     "text": [
      "Saved 국민경제자문회의법 to 법령별 csv 저장\n"
     ]
    },
    {
     "name": "stderr",
     "output_type": "stream",
     "text": [
      " 19%|█▉        | 286/1500 [08:13<34:16,  1.69s/it]"
     ]
    },
    {
     "name": "stdout",
     "output_type": "stream",
     "text": [
      "Saved 국민기초생활 보장법 to 법령별 csv 저장\n"
     ]
    },
    {
     "name": "stderr",
     "output_type": "stream",
     "text": [
      " 19%|█▉        | 287/1500 [08:15<31:08,  1.54s/it]"
     ]
    },
    {
     "name": "stdout",
     "output_type": "stream",
     "text": [
      "Saved 국민보호와 공공안전을 위한 테러방지법 to 법령별 csv 저장\n"
     ]
    },
    {
     "name": "stderr",
     "output_type": "stream",
     "text": [
      " 19%|█▉        | 288/1500 [08:16<29:12,  1.45s/it]"
     ]
    },
    {
     "name": "stdout",
     "output_type": "stream",
     "text": [
      "Saved 국민 안전교육 진흥 기본법 to 법령별 csv 저장\n"
     ]
    },
    {
     "name": "stderr",
     "output_type": "stream",
     "text": [
      " 19%|█▉        | 289/1500 [08:17<27:24,  1.36s/it]"
     ]
    },
    {
     "name": "stdout",
     "output_type": "stream",
     "text": [
      "Saved 국민여가활성화기본법 to 법령별 csv 저장\n"
     ]
    },
    {
     "name": "stderr",
     "output_type": "stream",
     "text": [
      " 19%|█▉        | 290/1500 [08:19<30:37,  1.52s/it]"
     ]
    },
    {
     "name": "stdout",
     "output_type": "stream",
     "text": [
      "Saved 국민연금과 직역연금의 연계에 관한 법률 to 법령별 csv 저장\n"
     ]
    },
    {
     "name": "stderr",
     "output_type": "stream",
     "text": [
      " 19%|█▉        | 291/1500 [08:22<37:59,  1.89s/it]"
     ]
    },
    {
     "name": "stdout",
     "output_type": "stream",
     "text": [
      "Saved 국민연금법 to 법령별 csv 저장\n"
     ]
    },
    {
     "name": "stderr",
     "output_type": "stream",
     "text": [
      " 19%|█▉        | 292/1500 [08:23<36:19,  1.80s/it]"
     ]
    },
    {
     "name": "stdout",
     "output_type": "stream",
     "text": [
      "Saved 국민영양관리법 to 법령별 csv 저장\n"
     ]
    },
    {
     "name": "stderr",
     "output_type": "stream",
     "text": [
      " 20%|█▉        | 293/1500 [08:25<35:03,  1.74s/it]"
     ]
    },
    {
     "name": "stdout",
     "output_type": "stream",
     "text": [
      "Saved 국민의 형사재판 참여에 관한 법률 to 법령별 csv 저장\n"
     ]
    },
    {
     "name": "stderr",
     "output_type": "stream",
     "text": [
      " 20%|█▉        | 294/1500 [08:27<36:43,  1.83s/it]"
     ]
    },
    {
     "name": "stdout",
     "output_type": "stream",
     "text": [
      "Saved 국민체육진흥법 to 법령별 csv 저장\n"
     ]
    },
    {
     "name": "stderr",
     "output_type": "stream",
     "text": [
      " 20%|█▉        | 295/1500 [08:29<39:32,  1.97s/it]"
     ]
    },
    {
     "name": "stdout",
     "output_type": "stream",
     "text": [
      "Saved 국민투표법 to 법령별 csv 저장\n"
     ]
    },
    {
     "name": "stderr",
     "output_type": "stream",
     "text": [
      " 20%|█▉        | 296/1500 [08:31<40:38,  2.02s/it]"
     ]
    },
    {
     "name": "stdout",
     "output_type": "stream",
     "text": [
      "Saved 국민 평생 직업능력 개발법 to 법령별 csv 저장\n"
     ]
    },
    {
     "name": "stderr",
     "output_type": "stream",
     "text": [
      " 20%|█▉        | 297/1500 [08:32<35:11,  1.76s/it]"
     ]
    },
    {
     "name": "stdout",
     "output_type": "stream",
     "text": [
      "Saved 국방개혁에 관한 법률 to 법령별 csv 저장\n"
     ]
    },
    {
     "name": "stderr",
     "output_type": "stream",
     "text": [
      " 20%|█▉        | 298/1500 [08:34<32:04,  1.60s/it]"
     ]
    },
    {
     "name": "stdout",
     "output_type": "stream",
     "text": [
      "Saved 국방과학기술혁신 촉진법 to 법령별 csv 저장\n"
     ]
    },
    {
     "name": "stderr",
     "output_type": "stream",
     "text": [
      " 20%|█▉        | 299/1500 [08:35<30:36,  1.53s/it]"
     ]
    },
    {
     "name": "stdout",
     "output_type": "stream",
     "text": [
      "Saved 국방과학연구소법 to 법령별 csv 저장\n"
     ]
    },
    {
     "name": "stderr",
     "output_type": "stream",
     "text": [
      " 20%|██        | 300/1500 [08:37<31:28,  1.57s/it]"
     ]
    },
    {
     "name": "stdout",
     "output_type": "stream",
     "text": [
      "Saved 국방ㆍ군사시설 사업에 관한 법률 to 법령별 csv 저장\n"
     ]
    },
    {
     "name": "stderr",
     "output_type": "stream",
     "text": [
      " 20%|██        | 301/1500 [08:38<29:36,  1.48s/it]"
     ]
    },
    {
     "name": "stdout",
     "output_type": "stream",
     "text": [
      "Saved 국방ㆍ군사시설이전 특별회계법 to 법령별 csv 저장\n"
     ]
    },
    {
     "name": "stderr",
     "output_type": "stream",
     "text": [
      " 20%|██        | 302/1500 [08:39<29:08,  1.46s/it]"
     ]
    },
    {
     "name": "stdout",
     "output_type": "stream",
     "text": [
      "Saved 국방대학교 설치법 to 법령별 csv 저장\n"
     ]
    },
    {
     "name": "stderr",
     "output_type": "stream",
     "text": [
      " 20%|██        | 303/1500 [08:41<28:23,  1.42s/it]"
     ]
    },
    {
     "name": "stdout",
     "output_type": "stream",
     "text": [
      "Saved 국방전직교육원법 to 법령별 csv 저장\n"
     ]
    },
    {
     "name": "stderr",
     "output_type": "stream",
     "text": [
      " 20%|██        | 304/1500 [08:42<27:26,  1.38s/it]"
     ]
    },
    {
     "name": "stdout",
     "output_type": "stream",
     "text": [
      "Saved 국방정보화 기반조성 및 국방정보자원관리에 관한 법률 to 법령별 csv 저장\n"
     ]
    },
    {
     "name": "stderr",
     "output_type": "stream",
     "text": [
      " 20%|██        | 305/1500 [08:45<39:22,  1.98s/it]"
     ]
    },
    {
     "name": "stdout",
     "output_type": "stream",
     "text": [
      "Saved 국세기본법 to 법령별 csv 저장\n"
     ]
    },
    {
     "name": "stderr",
     "output_type": "stream",
     "text": [
      " 20%|██        | 306/1500 [08:47<36:07,  1.82s/it]"
     ]
    },
    {
     "name": "stdout",
     "output_type": "stream",
     "text": [
      "Saved 국세와 지방세의 조정 등에 관한 법률 to 법령별 csv 저장\n"
     ]
    },
    {
     "name": "stderr",
     "output_type": "stream",
     "text": [
      " 20%|██        | 307/1500 [08:49<37:05,  1.87s/it]"
     ]
    },
    {
     "name": "stdout",
     "output_type": "stream",
     "text": [
      "Saved 국세징수법 to 법령별 csv 저장\n"
     ]
    },
    {
     "name": "stderr",
     "output_type": "stream",
     "text": [
      " 21%|██        | 308/1500 [08:50<33:06,  1.67s/it]"
     ]
    },
    {
     "name": "stdout",
     "output_type": "stream",
     "text": [
      "Saved 국악진흥법 to 법령별 csv 저장\n"
     ]
    },
    {
     "name": "stderr",
     "output_type": "stream",
     "text": [
      " 21%|██        | 309/1500 [08:51<30:47,  1.55s/it]"
     ]
    },
    {
     "name": "stdout",
     "output_type": "stream",
     "text": [
      "Saved 국어기본법 to 법령별 csv 저장\n"
     ]
    },
    {
     "name": "stderr",
     "output_type": "stream",
     "text": [
      " 21%|██        | 310/1500 [08:53<31:02,  1.56s/it]"
     ]
    },
    {
     "name": "stdout",
     "output_type": "stream",
     "text": [
      "Saved 국유림의 경영 및 관리에 관한 법률 to 법령별 csv 저장\n"
     ]
    },
    {
     "name": "stderr",
     "output_type": "stream",
     "text": [
      " 21%|██        | 311/1500 [08:55<34:36,  1.75s/it]"
     ]
    },
    {
     "name": "stdout",
     "output_type": "stream",
     "text": [
      "Saved 국유재산법 to 법령별 csv 저장\n"
     ]
    },
    {
     "name": "stderr",
     "output_type": "stream",
     "text": [
      " 21%|██        | 312/1500 [08:56<32:48,  1.66s/it]"
     ]
    },
    {
     "name": "stdout",
     "output_type": "stream",
     "text": [
      "Saved 국유재산특례제한법 to 법령별 csv 저장\n"
     ]
    },
    {
     "name": "stderr",
     "output_type": "stream",
     "text": [
      " 21%|██        | 313/1500 [08:58<30:56,  1.56s/it]"
     ]
    },
    {
     "name": "stdout",
     "output_type": "stream",
     "text": [
      "Saved 국적법 to 법령별 csv 저장\n"
     ]
    },
    {
     "name": "stderr",
     "output_type": "stream",
     "text": [
      " 21%|██        | 314/1500 [09:00<31:52,  1.61s/it]"
     ]
    },
    {
     "name": "stdout",
     "output_type": "stream",
     "text": [
      "Saved 국정감사 및 조사에 관한 법률 to 법령별 csv 저장\n"
     ]
    },
    {
     "name": "stderr",
     "output_type": "stream",
     "text": [
      " 21%|██        | 315/1500 [09:01<31:08,  1.58s/it]"
     ]
    },
    {
     "name": "stdout",
     "output_type": "stream",
     "text": [
      "Saved 국제개발협력기본법 to 법령별 csv 저장\n"
     ]
    },
    {
     "name": "stderr",
     "output_type": "stream",
     "text": [
      " 21%|██        | 316/1500 [09:04<38:36,  1.96s/it]"
     ]
    },
    {
     "name": "stdout",
     "output_type": "stream",
     "text": [
      "Saved 국제경기대회 지원법 to 법령별 csv 저장\n"
     ]
    },
    {
     "name": "stderr",
     "output_type": "stream",
     "text": [
      " 21%|██        | 317/1500 [09:06<37:16,  1.89s/it]"
     ]
    },
    {
     "name": "stdout",
     "output_type": "stream",
     "text": [
      "Saved 국제과학비즈니스벨트 조성 및 지원에 관한 특별법 to 법령별 csv 저장\n"
     ]
    },
    {
     "name": "stderr",
     "output_type": "stream",
     "text": [
      " 21%|██        | 318/1500 [09:07<33:57,  1.72s/it]"
     ]
    },
    {
     "name": "stdout",
     "output_type": "stream",
     "text": [
      "Saved 국제금융기구에의 가입조치에 관한 법률 to 법령별 csv 저장\n"
     ]
    },
    {
     "name": "stderr",
     "output_type": "stream",
     "text": [
      " 21%|██▏       | 319/1500 [09:08<31:04,  1.58s/it]"
     ]
    },
    {
     "name": "stdout",
     "output_type": "stream",
     "text": [
      "Saved 국제기구 분담금 관리에 관한 법률 to 법령별 csv 저장\n"
     ]
    },
    {
     "name": "stderr",
     "output_type": "stream",
     "text": [
      " 21%|██▏       | 320/1500 [09:10<30:05,  1.53s/it]"
     ]
    },
    {
     "name": "stdout",
     "output_type": "stream",
     "text": [
      "Saved 국제문화교류 진흥법 to 법령별 csv 저장\n"
     ]
    },
    {
     "name": "stderr",
     "output_type": "stream",
     "text": [
      " 21%|██▏       | 321/1500 [09:11<28:49,  1.47s/it]"
     ]
    },
    {
     "name": "stdout",
     "output_type": "stream",
     "text": [
      "Saved 국제민사사법공조법 to 법령별 csv 저장\n"
     ]
    },
    {
     "name": "stderr",
     "output_type": "stream",
     "text": [
      " 21%|██▏       | 322/1500 [09:13<29:44,  1.51s/it]"
     ]
    },
    {
     "name": "stdout",
     "output_type": "stream",
     "text": [
      "Saved 국제사법 to 법령별 csv 저장\n"
     ]
    },
    {
     "name": "stderr",
     "output_type": "stream",
     "text": [
      " 22%|██▏       | 323/1500 [09:14<28:41,  1.46s/it]"
     ]
    },
    {
     "name": "stdout",
     "output_type": "stream",
     "text": [
      "Saved 국제상거래에 있어서 외국공무원에 대한 뇌물방지법 to 법령별 csv 저장\n"
     ]
    },
    {
     "name": "stderr",
     "output_type": "stream",
     "text": [
      " 22%|██▏       | 324/1500 [09:15<28:05,  1.43s/it]"
     ]
    },
    {
     "name": "stdout",
     "output_type": "stream",
     "text": [
      "Saved 국제선박등록법 to 법령별 csv 저장\n"
     ]
    },
    {
     "name": "stderr",
     "output_type": "stream",
     "text": [
      " 22%|██▏       | 325/1500 [09:17<28:07,  1.44s/it]"
     ]
    },
    {
     "name": "stdout",
     "output_type": "stream",
     "text": [
      "Saved 국제수형자이송법 to 법령별 csv 저장\n"
     ]
    },
    {
     "name": "stderr",
     "output_type": "stream",
     "text": [
      " 22%|██▏       | 326/1500 [09:18<26:41,  1.36s/it]"
     ]
    },
    {
     "name": "stdout",
     "output_type": "stream",
     "text": [
      "Saved 국제연합 평화유지활동 참여에 관한 법률 to 법령별 csv 저장\n"
     ]
    },
    {
     "name": "stderr",
     "output_type": "stream",
     "text": [
      " 22%|██▏       | 327/1500 [09:19<28:05,  1.44s/it]"
     ]
    },
    {
     "name": "stdout",
     "output_type": "stream",
     "text": [
      "Saved 국제입양에 관한 법률 to 법령별 csv 저장\n"
     ]
    },
    {
     "name": "stderr",
     "output_type": "stream",
     "text": [
      " 22%|██▏       | 328/1500 [09:22<32:16,  1.65s/it]"
     ]
    },
    {
     "name": "stdout",
     "output_type": "stream",
     "text": [
      "Saved 국제조세조정에 관한 법률 to 법령별 csv 저장\n"
     ]
    },
    {
     "name": "stderr",
     "output_type": "stream",
     "text": [
      " 22%|██▏       | 329/1500 [09:23<29:43,  1.52s/it]"
     ]
    },
    {
     "name": "stdout",
     "output_type": "stream",
     "text": [
      "Saved 국제항공 탄소 배출량 관리에 관한 법률 to 법령별 csv 저장\n"
     ]
    },
    {
     "name": "stderr",
     "output_type": "stream",
     "text": [
      " 22%|██▏       | 330/1500 [09:25<31:50,  1.63s/it]"
     ]
    },
    {
     "name": "stdout",
     "output_type": "stream",
     "text": [
      "Saved 국제항해선박 등에 대한 해적행위 피해예방에 관한 법률 to 법령별 csv 저장\n"
     ]
    },
    {
     "name": "stderr",
     "output_type": "stream",
     "text": [
      " 22%|██▏       | 331/1500 [09:27<33:35,  1.72s/it]"
     ]
    },
    {
     "name": "stdout",
     "output_type": "stream",
     "text": [
      "Saved 국제항해선박 및 항만시설의 보안에 관한 법률 to 법령별 csv 저장\n"
     ]
    },
    {
     "name": "stderr",
     "output_type": "stream",
     "text": [
      " 22%|██▏       | 332/1500 [09:28<31:40,  1.63s/it]"
     ]
    },
    {
     "name": "stdout",
     "output_type": "stream",
     "text": [
      "Saved 국제협력요원 제도 폐지에 따른 순직 심사 등에 관한 법률 to 법령별 csv 저장\n"
     ]
    },
    {
     "name": "stderr",
     "output_type": "stream",
     "text": [
      " 22%|██▏       | 333/1500 [09:30<31:46,  1.63s/it]"
     ]
    },
    {
     "name": "stdout",
     "output_type": "stream",
     "text": [
      "Saved 국제형사사법 공조법 to 법령별 csv 저장\n"
     ]
    },
    {
     "name": "stderr",
     "output_type": "stream",
     "text": [
      " 22%|██▏       | 334/1500 [09:31<30:42,  1.58s/it]"
     ]
    },
    {
     "name": "stdout",
     "output_type": "stream",
     "text": [
      "Saved 국제형사재판소 관할 범죄의 처벌 등에 관한 법률 to 법령별 csv 저장\n"
     ]
    },
    {
     "name": "stderr",
     "output_type": "stream",
     "text": [
      " 22%|██▏       | 335/1500 [09:33<30:11,  1.55s/it]"
     ]
    },
    {
     "name": "stdout",
     "output_type": "stream",
     "text": [
      "Saved 국제회의산업 육성에 관한 법률 to 법령별 csv 저장\n"
     ]
    },
    {
     "name": "stderr",
     "output_type": "stream",
     "text": [
      " 22%|██▏       | 336/1500 [09:34<30:34,  1.58s/it]"
     ]
    },
    {
     "name": "stdout",
     "output_type": "stream",
     "text": [
      "Saved 국채법 to 법령별 csv 저장\n"
     ]
    },
    {
     "name": "stderr",
     "output_type": "stream",
     "text": [
      " 22%|██▏       | 337/1500 [09:36<29:15,  1.51s/it]"
     ]
    },
    {
     "name": "stdout",
     "output_type": "stream",
     "text": [
      "Saved 국토교통과학기술 육성법 to 법령별 csv 저장\n"
     ]
    },
    {
     "name": "stderr",
     "output_type": "stream",
     "text": [
      " 23%|██▎       | 338/1500 [09:37<29:04,  1.50s/it]"
     ]
    },
    {
     "name": "stdout",
     "output_type": "stream",
     "text": [
      "Saved 국토기본법 to 법령별 csv 저장\n"
     ]
    },
    {
     "name": "stderr",
     "output_type": "stream",
     "text": [
      " 23%|██▎       | 339/1500 [09:38<28:06,  1.45s/it]"
     ]
    },
    {
     "name": "stdout",
     "output_type": "stream",
     "text": [
      "Saved 국토안전관리원법 to 법령별 csv 저장\n"
     ]
    },
    {
     "name": "stderr",
     "output_type": "stream",
     "text": [
      " 23%|██▎       | 340/1500 [09:42<40:37,  2.10s/it]"
     ]
    },
    {
     "name": "stdout",
     "output_type": "stream",
     "text": [
      "Saved 국토의 계획 및 이용에 관한 법률 to 법령별 csv 저장\n"
     ]
    },
    {
     "name": "stderr",
     "output_type": "stream",
     "text": [
      " 23%|██▎       | 341/1500 [09:44<38:10,  1.98s/it]"
     ]
    },
    {
     "name": "stdout",
     "output_type": "stream",
     "text": [
      "Saved 국회도서관법 to 법령별 csv 저장\n"
     ]
    },
    {
     "name": "stderr",
     "output_type": "stream",
     "text": [
      " 23%|██▎       | 342/1500 [09:45<34:50,  1.81s/it]"
     ]
    },
    {
     "name": "stdout",
     "output_type": "stream",
     "text": [
      "Saved 국회미래연구원법 to 법령별 csv 저장\n"
     ]
    },
    {
     "name": "stderr",
     "output_type": "stream",
     "text": [
      " 23%|██▎       | 343/1500 [09:49<44:45,  2.32s/it]"
     ]
    },
    {
     "name": "stdout",
     "output_type": "stream",
     "text": [
      "Saved 국회법 to 법령별 csv 저장\n"
     ]
    },
    {
     "name": "stderr",
     "output_type": "stream",
     "text": [
      " 23%|██▎       | 344/1500 [09:50<38:11,  1.98s/it]"
     ]
    },
    {
     "name": "stdout",
     "output_type": "stream",
     "text": [
      "Saved 국회사무처법 to 법령별 csv 저장\n"
     ]
    },
    {
     "name": "stderr",
     "output_type": "stream",
     "text": [
      " 23%|██▎       | 345/1500 [09:52<36:25,  1.89s/it]"
     ]
    },
    {
     "name": "stdout",
     "output_type": "stream",
     "text": [
      "Saved 국회에서의 증언ㆍ감정 등에 관한 법률 to 법령별 csv 저장\n"
     ]
    },
    {
     "name": "stderr",
     "output_type": "stream",
     "text": [
      " 23%|██▎       | 346/1500 [09:53<32:09,  1.67s/it]"
     ]
    },
    {
     "name": "stdout",
     "output_type": "stream",
     "text": [
      "Saved 국회예산정책처법 to 법령별 csv 저장\n"
     ]
    },
    {
     "name": "stderr",
     "output_type": "stream",
     "text": [
      " 23%|██▎       | 347/1500 [09:54<31:52,  1.66s/it]"
     ]
    },
    {
     "name": "stdout",
     "output_type": "stream",
     "text": [
      "Saved 국회의원의 보좌직원과 수당 등에 관한 법률 to 법령별 csv 저장\n"
     ]
    },
    {
     "name": "stderr",
     "output_type": "stream",
     "text": [
      " 23%|██▎       | 348/1500 [09:56<30:29,  1.59s/it]"
     ]
    },
    {
     "name": "stdout",
     "output_type": "stream",
     "text": [
      "Saved 국회입법조사처법 to 법령별 csv 저장\n"
     ]
    },
    {
     "name": "stderr",
     "output_type": "stream",
     "text": [
      " 23%|██▎       | 349/1500 [09:57<29:26,  1.54s/it]"
     ]
    },
    {
     "name": "stdout",
     "output_type": "stream",
     "text": [
      "Saved 군 공항 이전 및 지원에 관한 특별법 to 법령별 csv 저장\n"
     ]
    },
    {
     "name": "stderr",
     "output_type": "stream",
     "text": [
      " 23%|██▎       | 350/1500 [09:59<30:34,  1.59s/it]"
     ]
    },
    {
     "name": "stdout",
     "output_type": "stream",
     "text": [
      "Saved 군무원인사법 to 법령별 csv 저장\n"
     ]
    },
    {
     "name": "stderr",
     "output_type": "stream",
     "text": [
      " 23%|██▎       | 351/1500 [10:00<27:51,  1.45s/it]"
     ]
    },
    {
     "name": "stdout",
     "output_type": "stream",
     "text": [
      "Saved 군법무관 임용 등에 관한 법률 to 법령별 csv 저장\n"
     ]
    },
    {
     "name": "stderr",
     "output_type": "stream",
     "text": [
      " 23%|██▎       | 352/1500 [10:02<27:46,  1.45s/it]"
     ]
    },
    {
     "name": "stdout",
     "output_type": "stream",
     "text": [
      "Saved 군보건의료에 관한 법률 to 법령별 csv 저장\n"
     ]
    },
    {
     "name": "stderr",
     "output_type": "stream",
     "text": [
      " 24%|██▎       | 353/1500 [10:03<26:33,  1.39s/it]"
     ]
    },
    {
     "name": "stdout",
     "output_type": "stream",
     "text": [
      "Saved 군복 및 군용장구의 단속에 관한 법률 to 법령별 csv 저장\n"
     ]
    },
    {
     "name": "stderr",
     "output_type": "stream",
     "text": [
      " 24%|██▎       | 354/1500 [10:04<27:33,  1.44s/it]"
     ]
    },
    {
     "name": "stdout",
     "output_type": "stream",
     "text": [
      "Saved 군사경찰의 직무수행에 관한 법률 to 법령별 csv 저장\n"
     ]
    },
    {
     "name": "stderr",
     "output_type": "stream",
     "text": [
      " 24%|██▎       | 355/1500 [10:06<27:05,  1.42s/it]"
     ]
    },
    {
     "name": "stdout",
     "output_type": "stream",
     "text": [
      "Saved 군사기밀 보호법 to 법령별 csv 저장\n"
     ]
    },
    {
     "name": "stderr",
     "output_type": "stream",
     "text": [
      " 24%|██▎       | 356/1500 [10:07<28:34,  1.50s/it]"
     ]
    },
    {
     "name": "stdout",
     "output_type": "stream",
     "text": [
      "Saved 군사기지 및 군사시설 보호법 to 법령별 csv 저장\n"
     ]
    },
    {
     "name": "stderr",
     "output_type": "stream",
     "text": [
      " 24%|██▍       | 357/1500 [10:14<55:17,  2.90s/it]"
     ]
    },
    {
     "name": "stdout",
     "output_type": "stream",
     "text": [
      "Saved 군사법원법 to 법령별 csv 저장\n"
     ]
    },
    {
     "name": "stderr",
     "output_type": "stream",
     "text": [
      " 24%|██▍       | 358/1500 [10:15<47:11,  2.48s/it]"
     ]
    },
    {
     "name": "stdout",
     "output_type": "stream",
     "text": [
      "Saved 군사정전에 관한 협정 체결 이후 납북피해자의 보상 및 지원에 관한 법률 to 법령별 csv 저장\n"
     ]
    },
    {
     "name": "stderr",
     "output_type": "stream",
     "text": [
      " 24%|██▍       | 359/1500 [10:17<42:35,  2.24s/it]"
     ]
    },
    {
     "name": "stdout",
     "output_type": "stream",
     "text": [
      "Saved 군수품관리법 to 법령별 csv 저장\n"
     ]
    },
    {
     "name": "stderr",
     "output_type": "stream",
     "text": [
      " 24%|██▍       | 360/1500 [10:19<41:30,  2.18s/it]"
     ]
    },
    {
     "name": "stdout",
     "output_type": "stream",
     "text": [
      "Saved 군에서의 형의 집행 및 군수용자의 처우에 관한 법률 to 법령별 csv 저장\n"
     ]
    },
    {
     "name": "stderr",
     "output_type": "stream",
     "text": [
      " 24%|██▍       | 361/1500 [10:20<37:18,  1.97s/it]"
     ]
    },
    {
     "name": "stdout",
     "output_type": "stream",
     "text": [
      "Saved 군용물 등 범죄에 관한 특별조치법 to 법령별 csv 저장\n"
     ]
    },
    {
     "name": "stderr",
     "output_type": "stream",
     "text": [
      " 24%|██▍       | 362/1500 [10:23<40:47,  2.15s/it]"
     ]
    },
    {
     "name": "stdout",
     "output_type": "stream",
     "text": [
      "Saved 군용비행장ㆍ군사격장 소음 방지 및 피해 보상에 관한 법률 to 법령별 csv 저장\n"
     ]
    },
    {
     "name": "stderr",
     "output_type": "stream",
     "text": [
      " 24%|██▍       | 363/1500 [10:24<37:05,  1.96s/it]"
     ]
    },
    {
     "name": "stdout",
     "output_type": "stream",
     "text": [
      "Saved 군용전기통신법 to 법령별 csv 저장\n"
     ]
    },
    {
     "name": "stderr",
     "output_type": "stream",
     "text": [
      " 24%|██▍       | 364/1500 [10:26<36:09,  1.91s/it]"
     ]
    },
    {
     "name": "stdout",
     "output_type": "stream",
     "text": [
      "Saved 군용항공기 비행안전성 인증에 관한 법률 to 법령별 csv 저장\n"
     ]
    },
    {
     "name": "stderr",
     "output_type": "stream",
     "text": [
      " 24%|██▍       | 365/1500 [10:28<33:32,  1.77s/it]"
     ]
    },
    {
     "name": "stdout",
     "output_type": "stream",
     "text": [
      "Saved 군용항공기 운용 등에 관한 법률 to 법령별 csv 저장\n"
     ]
    },
    {
     "name": "stderr",
     "output_type": "stream",
     "text": [
      " 24%|██▍       | 366/1500 [10:29<31:04,  1.64s/it]"
     ]
    },
    {
     "name": "stdout",
     "output_type": "stream",
     "text": [
      "Saved 군인공제회법 to 법령별 csv 저장\n"
     ]
    },
    {
     "name": "stderr",
     "output_type": "stream",
     "text": [
      " 24%|██▍       | 367/1500 [10:31<31:06,  1.65s/it]"
     ]
    },
    {
     "name": "stdout",
     "output_type": "stream",
     "text": [
      "Saved 군인보수법 to 법령별 csv 저장\n"
     ]
    },
    {
     "name": "stderr",
     "output_type": "stream",
     "text": [
      " 25%|██▍       | 368/1500 [10:32<30:15,  1.60s/it]"
     ]
    },
    {
     "name": "stdout",
     "output_type": "stream",
     "text": [
      "Saved 군인복지기금법 to 법령별 csv 저장\n"
     ]
    },
    {
     "name": "stderr",
     "output_type": "stream",
     "text": [
      " 25%|██▍       | 369/1500 [10:34<29:26,  1.56s/it]"
     ]
    },
    {
     "name": "stdout",
     "output_type": "stream",
     "text": [
      "Saved 군인복지기본법 to 법령별 csv 저장\n"
     ]
    },
    {
     "name": "stderr",
     "output_type": "stream",
     "text": [
      " 25%|██▍       | 370/1500 [10:36<34:25,  1.83s/it]"
     ]
    },
    {
     "name": "stdout",
     "output_type": "stream",
     "text": [
      "Saved 군인사법 to 법령별 csv 저장\n"
     ]
    },
    {
     "name": "stderr",
     "output_type": "stream",
     "text": [
      " 25%|██▍       | 371/1500 [10:38<34:03,  1.81s/it]"
     ]
    },
    {
     "name": "stdout",
     "output_type": "stream",
     "text": [
      "Saved 군인연금법 to 법령별 csv 저장\n"
     ]
    },
    {
     "name": "stderr",
     "output_type": "stream",
     "text": [
      " 25%|██▍       | 372/1500 [10:40<34:24,  1.83s/it]"
     ]
    },
    {
     "name": "stdout",
     "output_type": "stream",
     "text": [
      "Saved 군인의 지위 및 복무에 관한 기본법 to 법령별 csv 저장\n"
     ]
    },
    {
     "name": "stderr",
     "output_type": "stream",
     "text": [
      " 25%|██▍       | 373/1500 [10:41<33:49,  1.80s/it]"
     ]
    },
    {
     "name": "stdout",
     "output_type": "stream",
     "text": [
      "Saved 군인 재해보상법 to 법령별 csv 저장\n"
     ]
    },
    {
     "name": "stderr",
     "output_type": "stream",
     "text": [
      " 25%|██▍       | 374/1500 [10:43<32:36,  1.74s/it]"
     ]
    },
    {
     "name": "stdout",
     "output_type": "stream",
     "text": [
      "Saved 군 책임운영기관의 지정ㆍ운영에 관한 법률 to 법령별 csv 저장\n"
     ]
    },
    {
     "name": "stderr",
     "output_type": "stream",
     "text": [
      " 25%|██▌       | 375/1500 [10:45<34:15,  1.83s/it]"
     ]
    },
    {
     "name": "stdout",
     "output_type": "stream",
     "text": [
      "Saved 군형법 to 법령별 csv 저장\n"
     ]
    },
    {
     "name": "stderr",
     "output_type": "stream",
     "text": [
      " 25%|██▌       | 376/1500 [10:46<32:21,  1.73s/it]"
     ]
    },
    {
     "name": "stdout",
     "output_type": "stream",
     "text": [
      "Saved 궤도운송법 to 법령별 csv 저장\n"
     ]
    },
    {
     "name": "stderr",
     "output_type": "stream",
     "text": [
      " 25%|██▌       | 377/1500 [10:48<31:01,  1.66s/it]"
     ]
    },
    {
     "name": "stdout",
     "output_type": "stream",
     "text": [
      "Saved 귀농어ㆍ귀촌 활성화 및 지원에 관한 법률 to 법령별 csv 저장\n"
     ]
    },
    {
     "name": "stderr",
     "output_type": "stream",
     "text": [
      " 25%|██▌       | 378/1500 [10:51<36:20,  1.94s/it]"
     ]
    },
    {
     "name": "stdout",
     "output_type": "stream",
     "text": [
      "Saved 귀속재산처리법 to 법령별 csv 저장\n"
     ]
    },
    {
     "name": "stderr",
     "output_type": "stream",
     "text": [
      " 25%|██▌       | 379/1500 [10:54<42:15,  2.26s/it]"
     ]
    },
    {
     "name": "stdout",
     "output_type": "stream",
     "text": [
      "Saved 규제자유특구 및 지역특화발전특구에 관한 규제특례법 to 법령별 csv 저장\n"
     ]
    },
    {
     "name": "stderr",
     "output_type": "stream",
     "text": [
      " 25%|██▌       | 380/1500 [10:55<38:33,  2.07s/it]"
     ]
    },
    {
     "name": "stdout",
     "output_type": "stream",
     "text": [
      "Saved 그린바이오산업 육성에 관한 법률 to 법령별 csv 저장\n"
     ]
    },
    {
     "name": "stderr",
     "output_type": "stream",
     "text": [
      " 25%|██▌       | 381/1500 [10:56<33:22,  1.79s/it]"
     ]
    },
    {
     "name": "stdout",
     "output_type": "stream",
     "text": [
      "Saved 극지활동 진흥법 to 법령별 csv 저장\n"
     ]
    },
    {
     "name": "stderr",
     "output_type": "stream",
     "text": [
      " 25%|██▌       | 382/1500 [10:58<34:48,  1.87s/it]"
     ]
    },
    {
     "name": "stdout",
     "output_type": "stream",
     "text": [
      "Saved 근로기준법 to 법령별 csv 저장\n"
     ]
    },
    {
     "name": "stderr",
     "output_type": "stream",
     "text": [
      " 26%|██▌       | 383/1500 [11:01<40:47,  2.19s/it]"
     ]
    },
    {
     "name": "stdout",
     "output_type": "stream",
     "text": [
      "Saved 근로복지기본법 to 법령별 csv 저장\n"
     ]
    },
    {
     "name": "stderr",
     "output_type": "stream",
     "text": [
      " 26%|██▌       | 384/1500 [11:03<35:30,  1.91s/it]"
     ]
    },
    {
     "name": "stdout",
     "output_type": "stream",
     "text": [
      "Saved 근로자의 날 제정에 관한 법률 to 법령별 csv 저장\n"
     ]
    },
    {
     "name": "stderr",
     "output_type": "stream",
     "text": [
      " 26%|██▌       | 385/1500 [11:04<33:26,  1.80s/it]"
     ]
    },
    {
     "name": "stdout",
     "output_type": "stream",
     "text": [
      "Saved 근로자참여 및 협력증진에 관한 법률 to 법령별 csv 저장\n"
     ]
    },
    {
     "name": "stderr",
     "output_type": "stream",
     "text": [
      " 26%|██▌       | 386/1500 [11:07<41:49,  2.25s/it]"
     ]
    },
    {
     "name": "stdout",
     "output_type": "stream",
     "text": [
      "Saved 근로자퇴직급여 보장법 to 법령별 csv 저장\n"
     ]
    },
    {
     "name": "stderr",
     "output_type": "stream",
     "text": [
      " 26%|██▌       | 387/1500 [11:10<45:08,  2.43s/it]"
     ]
    },
    {
     "name": "stdout",
     "output_type": "stream",
     "text": [
      "Saved 근현대문화유산의 보존 및 활용에 관한 법률 to 법령별 csv 저장\n"
     ]
    },
    {
     "name": "stderr",
     "output_type": "stream",
     "text": [
      " 26%|██▌       | 388/1500 [11:12<42:35,  2.30s/it]"
     ]
    },
    {
     "name": "stdout",
     "output_type": "stream",
     "text": [
      "Saved 금강수계 물관리 및 주민지원 등에 관한 법률 to 법령별 csv 저장\n"
     ]
    },
    {
     "name": "stderr",
     "output_type": "stream",
     "text": [
      " 26%|██▌       | 389/1500 [11:14<39:51,  2.15s/it]"
     ]
    },
    {
     "name": "stdout",
     "output_type": "stream",
     "text": [
      "Saved 금융거래지표의 관리에 관한 법률 to 법령별 csv 저장\n"
     ]
    },
    {
     "name": "stderr",
     "output_type": "stream",
     "text": [
      " 26%|██▌       | 390/1500 [11:16<36:28,  1.97s/it]"
     ]
    },
    {
     "name": "stdout",
     "output_type": "stream",
     "text": [
      "Saved 금융복합기업집단의 감독에 관한 법률 to 법령별 csv 저장\n"
     ]
    },
    {
     "name": "stderr",
     "output_type": "stream",
     "text": [
      " 26%|██▌       | 391/1500 [11:17<35:22,  1.91s/it]"
     ]
    },
    {
     "name": "stdout",
     "output_type": "stream",
     "text": [
      "Saved 금융산업의 구조개선에 관한 법률 to 법령별 csv 저장\n"
     ]
    },
    {
     "name": "stderr",
     "output_type": "stream",
     "text": [
      " 26%|██▌       | 392/1500 [11:19<34:40,  1.88s/it]"
     ]
    },
    {
     "name": "stdout",
     "output_type": "stream",
     "text": [
      "Saved 금융소비자 보호에 관한 법률 to 법령별 csv 저장\n"
     ]
    },
    {
     "name": "stderr",
     "output_type": "stream",
     "text": [
      " 26%|██▌       | 393/1500 [11:21<32:03,  1.74s/it]"
     ]
    },
    {
     "name": "stdout",
     "output_type": "stream",
     "text": [
      "Saved 금융실명거래 및 비밀보장에 관한 법률 to 법령별 csv 저장\n"
     ]
    },
    {
     "name": "stderr",
     "output_type": "stream",
     "text": [
      " 26%|██▋       | 394/1500 [11:23<37:10,  2.02s/it]"
     ]
    },
    {
     "name": "stdout",
     "output_type": "stream",
     "text": [
      "Saved 금융위원회의 설치 등에 관한 법률 to 법령별 csv 저장\n"
     ]
    },
    {
     "name": "stderr",
     "output_type": "stream",
     "text": [
      " 26%|██▋       | 395/1500 [11:25<33:00,  1.79s/it]"
     ]
    },
    {
     "name": "stdout",
     "output_type": "stream",
     "text": [
      "Saved 금융중심지의 조성과 발전에 관한 법률 to 법령별 csv 저장\n"
     ]
    },
    {
     "name": "stderr",
     "output_type": "stream",
     "text": [
      " 26%|██▋       | 396/1500 [11:27<37:38,  2.05s/it]"
     ]
    },
    {
     "name": "stdout",
     "output_type": "stream",
     "text": [
      "Saved 금융지주회사법 to 법령별 csv 저장\n"
     ]
    },
    {
     "name": "stderr",
     "output_type": "stream",
     "text": [
      " 26%|██▋       | 397/1500 [11:29<35:00,  1.90s/it]"
     ]
    },
    {
     "name": "stdout",
     "output_type": "stream",
     "text": [
      "Saved 금융혁신지원 특별법 to 법령별 csv 저장\n"
     ]
    },
    {
     "name": "stderr",
     "output_type": "stream",
     "text": [
      " 27%|██▋       | 398/1500 [11:31<39:16,  2.14s/it]"
     ]
    },
    {
     "name": "stdout",
     "output_type": "stream",
     "text": [
      "Saved 금융회사의 지배구조에 관한 법률 to 법령별 csv 저장\n"
     ]
    },
    {
     "name": "stderr",
     "output_type": "stream",
     "text": [
      " 27%|██▋       | 399/1500 [11:33<36:38,  2.00s/it]"
     ]
    },
    {
     "name": "stdout",
     "output_type": "stream",
     "text": [
      "Saved 급경사지 재해예방에 관한 법률 to 법령별 csv 저장\n"
     ]
    },
    {
     "name": "stderr",
     "output_type": "stream",
     "text": [
      " 27%|██▋       | 400/1500 [11:35<33:18,  1.82s/it]"
     ]
    },
    {
     "name": "stdout",
     "output_type": "stream",
     "text": [
      "Saved 기간제 및 단시간근로자 보호 등에 관한 법률 to 법령별 csv 저장\n"
     ]
    },
    {
     "name": "stderr",
     "output_type": "stream",
     "text": [
      " 27%|██▋       | 401/1500 [11:36<31:14,  1.71s/it]"
     ]
    },
    {
     "name": "stdout",
     "output_type": "stream",
     "text": [
      "Saved 기계설비법 to 법령별 csv 저장\n"
     ]
    },
    {
     "name": "stderr",
     "output_type": "stream",
     "text": [
      " 27%|██▋       | 402/1500 [11:37<28:50,  1.58s/it]"
     ]
    },
    {
     "name": "stdout",
     "output_type": "stream",
     "text": [
      "Saved 기능성 양잠산업 육성 및 지원에 관한 법률 to 법령별 csv 저장\n"
     ]
    },
    {
     "name": "stderr",
     "output_type": "stream",
     "text": [
      " 27%|██▋       | 403/1500 [11:39<28:33,  1.56s/it]"
     ]
    },
    {
     "name": "stdout",
     "output_type": "stream",
     "text": [
      "Saved 기부금품의 모집ㆍ사용 및 기부문화 활성화에 관한 법률 to 법령별 csv 저장\n"
     ]
    },
    {
     "name": "stderr",
     "output_type": "stream",
     "text": [
      " 27%|██▋       | 404/1500 [11:41<30:32,  1.67s/it]"
     ]
    },
    {
     "name": "stdout",
     "output_type": "stream",
     "text": [
      "Saved 기상관측표준화법 to 법령별 csv 저장\n"
     ]
    },
    {
     "name": "stderr",
     "output_type": "stream",
     "text": [
      " 27%|██▋       | 405/1500 [11:42<30:18,  1.66s/it]"
     ]
    },
    {
     "name": "stdout",
     "output_type": "stream",
     "text": [
      "Saved 기상법 to 법령별 csv 저장\n"
     ]
    },
    {
     "name": "stderr",
     "output_type": "stream",
     "text": [
      " 27%|██▋       | 406/1500 [11:44<29:17,  1.61s/it]"
     ]
    },
    {
     "name": "stdout",
     "output_type": "stream",
     "text": [
      "Saved 기상산업진흥법 to 법령별 csv 저장\n"
     ]
    },
    {
     "name": "stderr",
     "output_type": "stream",
     "text": [
      " 27%|██▋       | 407/1500 [11:46<30:48,  1.69s/it]"
     ]
    },
    {
     "name": "stdout",
     "output_type": "stream",
     "text": [
      "Saved 기술보증기금법 to 법령별 csv 저장\n"
     ]
    },
    {
     "name": "stderr",
     "output_type": "stream",
     "text": [
      " 27%|██▋       | 408/1500 [11:47<29:50,  1.64s/it]"
     ]
    },
    {
     "name": "stdout",
     "output_type": "stream",
     "text": [
      "Saved 기술사법 to 법령별 csv 저장\n"
     ]
    },
    {
     "name": "stderr",
     "output_type": "stream",
     "text": [
      " 27%|██▋       | 409/1500 [11:49<29:12,  1.61s/it]"
     ]
    },
    {
     "name": "stdout",
     "output_type": "stream",
     "text": [
      "Saved 기술의 이전 및 사업화 촉진에 관한 법률 to 법령별 csv 저장\n"
     ]
    },
    {
     "name": "stderr",
     "output_type": "stream",
     "text": [
      " 27%|██▋       | 410/1500 [11:50<28:27,  1.57s/it]"
     ]
    },
    {
     "name": "stdout",
     "output_type": "stream",
     "text": [
      "Saved 기업구조조정 촉진법 to 법령별 csv 저장\n"
     ]
    },
    {
     "name": "stderr",
     "output_type": "stream",
     "text": [
      " 27%|██▋       | 411/1500 [11:52<28:23,  1.56s/it]"
     ]
    },
    {
     "name": "stdout",
     "output_type": "stream",
     "text": [
      "Saved 기업구조조정투자회사법 to 법령별 csv 저장\n"
     ]
    },
    {
     "name": "stderr",
     "output_type": "stream",
     "text": [
      " 27%|██▋       | 412/1500 [11:54<31:29,  1.74s/it]"
     ]
    },
    {
     "name": "stdout",
     "output_type": "stream",
     "text": [
      "Saved 기업도시개발 특별법 to 법령별 csv 저장\n"
     ]
    },
    {
     "name": "stderr",
     "output_type": "stream",
     "text": [
      " 28%|██▊       | 413/1500 [11:56<35:47,  1.98s/it]"
     ]
    },
    {
     "name": "stdout",
     "output_type": "stream",
     "text": [
      "Saved 기업활동 규제완화에 관한 특별조치법 to 법령별 csv 저장\n"
     ]
    },
    {
     "name": "stderr",
     "output_type": "stream",
     "text": [
      " 28%|██▊       | 414/1500 [11:58<33:21,  1.84s/it]"
     ]
    },
    {
     "name": "stdout",
     "output_type": "stream",
     "text": [
      "Saved 기업 활력 제고를 위한 특별법 to 법령별 csv 저장\n"
     ]
    },
    {
     "name": "stderr",
     "output_type": "stream",
     "text": [
      " 28%|██▊       | 415/1500 [11:59<30:31,  1.69s/it]"
     ]
    },
    {
     "name": "stdout",
     "output_type": "stream",
     "text": [
      "Saved 기초연구진흥 및 기술개발지원에 관한 법률 to 법령별 csv 저장\n"
     ]
    },
    {
     "name": "stderr",
     "output_type": "stream",
     "text": [
      " 28%|██▊       | 416/1500 [12:01<28:38,  1.59s/it]"
     ]
    },
    {
     "name": "stdout",
     "output_type": "stream",
     "text": [
      "Saved 기초연금법 to 법령별 csv 저장\n"
     ]
    },
    {
     "name": "stderr",
     "output_type": "stream",
     "text": [
      " 28%|██▊       | 417/1500 [12:02<25:27,  1.41s/it]"
     ]
    },
    {
     "name": "stdout",
     "output_type": "stream",
     "text": [
      "Saved 기초학력 보장법 to 법령별 csv 저장\n"
     ]
    },
    {
     "name": "stderr",
     "output_type": "stream",
     "text": [
      " 28%|██▊       | 418/1500 [12:03<24:41,  1.37s/it]"
     ]
    },
    {
     "name": "stdout",
     "output_type": "stream",
     "text": [
      "Saved 기후ㆍ기후변화 감시 및 예측 등에 관한 법률 to 법령별 csv 저장\n"
     ]
    },
    {
     "name": "stderr",
     "output_type": "stream",
     "text": [
      " 28%|██▊       | 419/1500 [12:04<23:55,  1.33s/it]"
     ]
    },
    {
     "name": "stdout",
     "output_type": "stream",
     "text": [
      "Saved 기후변화대응 기술개발 촉진법 to 법령별 csv 저장\n"
     ]
    },
    {
     "name": "stderr",
     "output_type": "stream",
     "text": [
      " 28%|██▊       | 420/1500 [12:11<53:43,  2.98s/it]"
     ]
    },
    {
     "name": "stdout",
     "output_type": "stream",
     "text": [
      "Saved 기후위기 대응을 위한 탄소중립ㆍ녹색성장 기본법 to 법령별 csv 저장\n"
     ]
    },
    {
     "name": "stderr",
     "output_type": "stream",
     "text": [
      " 28%|██▊       | 421/1500 [12:13<47:30,  2.64s/it]"
     ]
    },
    {
     "name": "stdout",
     "output_type": "stream",
     "text": [
      "Saved 긴급복지지원법 to 법령별 csv 저장\n"
     ]
    },
    {
     "name": "stderr",
     "output_type": "stream",
     "text": [
      " 28%|██▊       | 422/1500 [12:14<41:20,  2.30s/it]"
     ]
    },
    {
     "name": "stdout",
     "output_type": "stream",
     "text": [
      "Saved 김건희와 명태균ㆍ건진법사 관련 국정농단 및 불법 선거 개입 사건 등 진상규명을 위한 특별검사 임명 등에 관한 법률 to 법령별 csv 저장\n"
     ]
    },
    {
     "name": "stderr",
     "output_type": "stream",
     "text": [
      " 28%|██▊       | 423/1500 [12:16<36:02,  2.01s/it]"
     ]
    },
    {
     "name": "stdout",
     "output_type": "stream",
     "text": [
      "Saved 김산업의 육성 및 지원에 관한 법률 to 법령별 csv 저장\n"
     ]
    },
    {
     "name": "stderr",
     "output_type": "stream",
     "text": [
      " 28%|██▊       | 424/1500 [12:17<32:51,  1.83s/it]"
     ]
    },
    {
     "name": "stdout",
     "output_type": "stream",
     "text": [
      "Saved 김치산업 진흥법 to 법령별 csv 저장\n"
     ]
    },
    {
     "name": "stderr",
     "output_type": "stream",
     "text": [
      " 28%|██▊       | 425/1500 [12:18<29:56,  1.67s/it]"
     ]
    },
    {
     "name": "stdout",
     "output_type": "stream",
     "text": [
      "Saved 나노기술개발 촉진법 to 법령별 csv 저장\n"
     ]
    },
    {
     "name": "stderr",
     "output_type": "stream",
     "text": [
      " 28%|██▊       | 426/1500 [12:20<27:46,  1.55s/it]"
     ]
    },
    {
     "name": "stdout",
     "output_type": "stream",
     "text": [
      "Saved 낙농진흥법 to 법령별 csv 저장\n"
     ]
    },
    {
     "name": "stderr",
     "output_type": "stream",
     "text": [
      " 28%|██▊       | 427/1500 [12:21<28:02,  1.57s/it]"
     ]
    },
    {
     "name": "stdout",
     "output_type": "stream",
     "text": [
      "Saved 낙동강수계 물관리 및 주민지원 등에 관한 법률 to 법령별 csv 저장\n"
     ]
    },
    {
     "name": "stderr",
     "output_type": "stream",
     "text": [
      " 29%|██▊       | 428/1500 [12:23<28:02,  1.57s/it]"
     ]
    },
    {
     "name": "stdout",
     "output_type": "stream",
     "text": [
      "Saved 낚시 관리 및 육성법 to 법령별 csv 저장\n"
     ]
    },
    {
     "name": "stderr",
     "output_type": "stream",
     "text": [
      " 29%|██▊       | 429/1500 [12:25<29:40,  1.66s/it]"
     ]
    },
    {
     "name": "stdout",
     "output_type": "stream",
     "text": [
      "Saved 난민법 to 법령별 csv 저장\n"
     ]
    },
    {
     "name": "stderr",
     "output_type": "stream",
     "text": [
      " 29%|██▊       | 430/1500 [12:26<29:15,  1.64s/it]"
     ]
    },
    {
     "name": "stdout",
     "output_type": "stream",
     "text": [
      "Saved 남극활동 및 환경보호에 관한 법률 to 법령별 csv 저장\n"
     ]
    },
    {
     "name": "stderr",
     "output_type": "stream",
     "text": [
      " 29%|██▊       | 431/1500 [12:28<29:52,  1.68s/it]"
     ]
    },
    {
     "name": "stdout",
     "output_type": "stream",
     "text": [
      "Saved 남녀고용평등과 일ㆍ가정 양립 지원에 관한 법률 to 법령별 csv 저장\n"
     ]
    },
    {
     "name": "stderr",
     "output_type": "stream",
     "text": [
      " 29%|██▉       | 432/1500 [12:30<30:31,  1.71s/it]"
     ]
    },
    {
     "name": "stdout",
     "output_type": "stream",
     "text": [
      "Saved 남북관계 발전에 관한 법률 to 법령별 csv 저장\n"
     ]
    },
    {
     "name": "stderr",
     "output_type": "stream",
     "text": [
      " 29%|██▉       | 433/1500 [12:31<28:58,  1.63s/it]"
     ]
    },
    {
     "name": "stdout",
     "output_type": "stream",
     "text": [
      "Saved 남북교류협력에 관한 법률 to 법령별 csv 저장\n"
     ]
    },
    {
     "name": "stderr",
     "output_type": "stream",
     "text": [
      " 29%|██▉       | 434/1500 [12:33<27:00,  1.52s/it]"
     ]
    },
    {
     "name": "stdout",
     "output_type": "stream",
     "text": [
      "Saved 남북 이산가족 생사확인 및 교류 촉진에 관한 법률 to 법령별 csv 저장\n"
     ]
    },
    {
     "name": "stderr",
     "output_type": "stream",
     "text": [
      " 29%|██▉       | 435/1500 [12:34<25:46,  1.45s/it]"
     ]
    },
    {
     "name": "stdout",
     "output_type": "stream",
     "text": [
      "Saved 남북 주민 사이의 가족관계와 상속 등에 관한 특례법 to 법령별 csv 저장\n"
     ]
    },
    {
     "name": "stderr",
     "output_type": "stream",
     "text": [
      " 29%|██▉       | 436/1500 [12:35<24:20,  1.37s/it]"
     ]
    },
    {
     "name": "stdout",
     "output_type": "stream",
     "text": [
      "Saved 남북협력기금법 to 법령별 csv 저장\n"
     ]
    },
    {
     "name": "stderr",
     "output_type": "stream",
     "text": [
      " 29%|██▉       | 437/1500 [12:36<24:12,  1.37s/it]"
     ]
    },
    {
     "name": "stdout",
     "output_type": "stream",
     "text": [
      "Saved 내수면 가두리양식어업 면허기간 연장불허에 따른 손실보상에 관한 특별법 to 법령별 csv 저장\n"
     ]
    },
    {
     "name": "stderr",
     "output_type": "stream",
     "text": [
      " 29%|██▉       | 438/1500 [12:38<24:22,  1.38s/it]"
     ]
    },
    {
     "name": "stdout",
     "output_type": "stream",
     "text": [
      "Saved 내수면어업법 to 법령별 csv 저장\n"
     ]
    },
    {
     "name": "stderr",
     "output_type": "stream",
     "text": [
      " 29%|██▉       | 439/1500 [12:39<24:08,  1.37s/it]"
     ]
    },
    {
     "name": "stdout",
     "output_type": "stream",
     "text": [
      "Saved 노근리사건 희생자심사 및 명예회복에 관한 특별법 to 법령별 csv 저장\n"
     ]
    },
    {
     "name": "stderr",
     "output_type": "stream",
     "text": [
      " 29%|██▉       | 440/1500 [12:41<24:46,  1.40s/it]"
     ]
    },
    {
     "name": "stdout",
     "output_type": "stream",
     "text": [
      "Saved 노동위원회법 to 법령별 csv 저장\n"
     ]
    },
    {
     "name": "stderr",
     "output_type": "stream",
     "text": [
      " 29%|██▉       | 441/1500 [12:43<28:02,  1.59s/it]"
     ]
    },
    {
     "name": "stdout",
     "output_type": "stream",
     "text": [
      "Saved 노동조합 및 노동관계조정법 to 법령별 csv 저장\n"
     ]
    },
    {
     "name": "stderr",
     "output_type": "stream",
     "text": [
      " 29%|██▉       | 442/1500 [12:44<26:41,  1.51s/it]"
     ]
    },
    {
     "name": "stdout",
     "output_type": "stream",
     "text": [
      "Saved 노사관계 발전 지원에 관한 법률 to 법령별 csv 저장\n"
     ]
    },
    {
     "name": "stderr",
     "output_type": "stream",
     "text": [
      " 30%|██▉       | 443/1500 [12:45<26:09,  1.48s/it]"
     ]
    },
    {
     "name": "stdout",
     "output_type": "stream",
     "text": [
      "Saved 노숙인 등의 복지 및 자립지원에 관한 법률 to 법령별 csv 저장\n"
     ]
    },
    {
     "name": "stderr",
     "output_type": "stream",
     "text": [
      " 30%|██▉       | 444/1500 [12:48<31:45,  1.80s/it]"
     ]
    },
    {
     "name": "stdout",
     "output_type": "stream",
     "text": [
      "Saved 노인복지법 to 법령별 csv 저장\n"
     ]
    },
    {
     "name": "stderr",
     "output_type": "stream",
     "text": [
      " 30%|██▉       | 445/1500 [12:49<29:45,  1.69s/it]"
     ]
    },
    {
     "name": "stdout",
     "output_type": "stream",
     "text": [
      "Saved 노인 일자리 및 사회활동 지원에 관한 법률 to 법령별 csv 저장\n"
     ]
    },
    {
     "name": "stderr",
     "output_type": "stream",
     "text": [
      " 30%|██▉       | 446/1500 [12:52<33:45,  1.92s/it]"
     ]
    },
    {
     "name": "stdout",
     "output_type": "stream",
     "text": [
      "Saved 노인장기요양보험법 to 법령별 csv 저장\n"
     ]
    },
    {
     "name": "stderr",
     "output_type": "stream",
     "text": [
      " 30%|██▉       | 447/1500 [12:53<30:13,  1.72s/it]"
     ]
    },
    {
     "name": "stdout",
     "output_type": "stream",
     "text": [
      "Saved 노인ㆍ장애인 등 사회복지시설의 급식안전 지원에 관한 법률 to 법령별 csv 저장\n"
     ]
    },
    {
     "name": "stderr",
     "output_type": "stream",
     "text": [
      " 30%|██▉       | 448/1500 [12:55<29:18,  1.67s/it]"
     ]
    },
    {
     "name": "stdout",
     "output_type": "stream",
     "text": [
      "Saved 노후거점산업단지의 활력증진 및 경쟁력강화를 위한 특별법 to 법령별 csv 저장\n"
     ]
    },
    {
     "name": "stderr",
     "output_type": "stream",
     "text": [
      " 30%|██▉       | 449/1500 [12:56<28:24,  1.62s/it]"
     ]
    },
    {
     "name": "stdout",
     "output_type": "stream",
     "text": [
      "Saved 노후계획도시 정비 및 지원에 관한 특별법 to 법령별 csv 저장\n"
     ]
    },
    {
     "name": "stderr",
     "output_type": "stream",
     "text": [
      " 30%|███       | 450/1500 [12:57<26:03,  1.49s/it]"
     ]
    },
    {
     "name": "stdout",
     "output_type": "stream",
     "text": [
      "Saved 노후준비 지원법 to 법령별 csv 저장\n"
     ]
    },
    {
     "name": "stderr",
     "output_type": "stream",
     "text": [
      " 30%|███       | 451/1500 [12:59<27:53,  1.60s/it]"
     ]
    },
    {
     "name": "stdout",
     "output_type": "stream",
     "text": [
      "Saved 녹색건축물 조성 지원법 to 법령별 csv 저장\n"
     ]
    },
    {
     "name": "stderr",
     "output_type": "stream",
     "text": [
      " 30%|███       | 452/1500 [13:01<27:04,  1.55s/it]"
     ]
    },
    {
     "name": "stdout",
     "output_type": "stream",
     "text": [
      "Saved 녹색기후기금의 운영지원에 관한 법률 to 법령별 csv 저장\n"
     ]
    },
    {
     "name": "stderr",
     "output_type": "stream",
     "text": [
      " 30%|███       | 453/1500 [13:02<26:14,  1.50s/it]"
     ]
    },
    {
     "name": "stdout",
     "output_type": "stream",
     "text": [
      "Saved 녹색융합클러스터의 조성 및 육성에 관한 법률 to 법령별 csv 저장\n"
     ]
    },
    {
     "name": "stderr",
     "output_type": "stream",
     "text": [
      " 30%|███       | 454/1500 [13:03<25:56,  1.49s/it]"
     ]
    },
    {
     "name": "stdout",
     "output_type": "stream",
     "text": [
      "Saved 녹색제품 구매촉진에 관한 법률 to 법령별 csv 저장\n"
     ]
    },
    {
     "name": "stderr",
     "output_type": "stream",
     "text": [
      " 30%|███       | 455/1500 [13:05<25:44,  1.48s/it]"
     ]
    },
    {
     "name": "stdout",
     "output_type": "stream",
     "text": [
      "Saved 농림수산식품투자조합 결성 및 운용에 관한 법률 to 법령별 csv 저장\n"
     ]
    },
    {
     "name": "stderr",
     "output_type": "stream",
     "text": [
      " 30%|███       | 456/1500 [13:07<27:34,  1.58s/it]"
     ]
    },
    {
     "name": "stdout",
     "output_type": "stream",
     "text": [
      "Saved 농림수산업자 신용보증법 to 법령별 csv 저장\n"
     ]
    },
    {
     "name": "stderr",
     "output_type": "stream",
     "text": [
      " 30%|███       | 457/1500 [13:08<26:47,  1.54s/it]"
     ]
    },
    {
     "name": "stdout",
     "output_type": "stream",
     "text": [
      "Saved 농림식품과학기술 육성법 to 법령별 csv 저장\n"
     ]
    },
    {
     "name": "stderr",
     "output_type": "stream",
     "text": [
      " 31%|███       | 458/1500 [13:11<35:41,  2.06s/it]"
     ]
    },
    {
     "name": "stdout",
     "output_type": "stream",
     "text": [
      "Saved 농수산물 유통 및 가격안정에 관한 법률 to 법령별 csv 저장\n"
     ]
    },
    {
     "name": "stderr",
     "output_type": "stream",
     "text": [
      " 31%|███       | 459/1500 [13:13<31:45,  1.83s/it]"
     ]
    },
    {
     "name": "stdout",
     "output_type": "stream",
     "text": [
      "Saved 농수산물의 원산지 표시 등에 관한 법률 to 법령별 csv 저장\n"
     ]
    },
    {
     "name": "stderr",
     "output_type": "stream",
     "text": [
      " 31%|███       | 460/1500 [13:15<32:22,  1.87s/it]"
     ]
    },
    {
     "name": "stdout",
     "output_type": "stream",
     "text": [
      "Saved 농수산물 품질관리법 to 법령별 csv 저장\n"
     ]
    },
    {
     "name": "stderr",
     "output_type": "stream",
     "text": [
      " 31%|███       | 461/1500 [13:16<29:37,  1.71s/it]"
     ]
    },
    {
     "name": "stdout",
     "output_type": "stream",
     "text": [
      "Saved 농수산자조금의 조성 및 운용에 관한 법률 to 법령별 csv 저장\n"
     ]
    },
    {
     "name": "stderr",
     "output_type": "stream",
     "text": [
      " 31%|███       | 462/1500 [13:18<30:31,  1.76s/it]"
     ]
    },
    {
     "name": "stdout",
     "output_type": "stream",
     "text": [
      "Saved 농약관리법 to 법령별 csv 저장\n"
     ]
    },
    {
     "name": "stderr",
     "output_type": "stream",
     "text": [
      " 31%|███       | 463/1500 [13:19<27:46,  1.61s/it]"
     ]
    },
    {
     "name": "stdout",
     "output_type": "stream",
     "text": [
      "Saved 농어가목돈마련저축에 관한 법률 to 법령별 csv 저장\n"
     ]
    },
    {
     "name": "stderr",
     "output_type": "stream",
     "text": [
      " 31%|███       | 464/1500 [13:21<28:36,  1.66s/it]"
     ]
    },
    {
     "name": "stdout",
     "output_type": "stream",
     "text": [
      "Saved 농어업경영체 육성 및 지원에 관한 법률 to 법령별 csv 저장\n"
     ]
    },
    {
     "name": "stderr",
     "output_type": "stream",
     "text": [
      " 31%|███       | 465/1500 [13:22<26:34,  1.54s/it]"
     ]
    },
    {
     "name": "stdout",
     "output_type": "stream",
     "text": [
      "Saved 농어업고용인력 지원 특별법 to 법령별 csv 저장\n"
     ]
    },
    {
     "name": "stderr",
     "output_type": "stream",
     "text": [
      " 31%|███       | 466/1500 [13:24<25:26,  1.48s/it]"
     ]
    },
    {
     "name": "stdout",
     "output_type": "stream",
     "text": [
      "Saved 농어업ㆍ농어촌특별위원회 설치 및 운영에 관한 법률 to 법령별 csv 저장\n"
     ]
    },
    {
     "name": "stderr",
     "output_type": "stream",
     "text": [
      " 31%|███       | 467/1500 [13:25<24:48,  1.44s/it]"
     ]
    },
    {
     "name": "stdout",
     "output_type": "stream",
     "text": [
      "Saved 농어업인 부채경감에 관한 특별조치법 to 법령별 csv 저장\n"
     ]
    },
    {
     "name": "stderr",
     "output_type": "stream",
     "text": [
      " 31%|███       | 468/1500 [13:27<27:50,  1.62s/it]"
     ]
    },
    {
     "name": "stdout",
     "output_type": "stream",
     "text": [
      "Saved 농어업인 삶의 질 향상 및 농어촌지역 개발촉진에 관한 특별법 to 법령별 csv 저장\n"
     ]
    },
    {
     "name": "stderr",
     "output_type": "stream",
     "text": [
      " 31%|███▏      | 469/1500 [13:29<27:32,  1.60s/it]"
     ]
    },
    {
     "name": "stdout",
     "output_type": "stream",
     "text": [
      "Saved 농어업인의 안전보험 및 안전재해예방에 관한 법률 to 법령별 csv 저장\n"
     ]
    },
    {
     "name": "stderr",
     "output_type": "stream",
     "text": [
      " 31%|███▏      | 470/1500 [13:30<25:49,  1.50s/it]"
     ]
    },
    {
     "name": "stdout",
     "output_type": "stream",
     "text": [
      "Saved 농어업재해대책법 to 법령별 csv 저장\n"
     ]
    },
    {
     "name": "stderr",
     "output_type": "stream",
     "text": [
      " 31%|███▏      | 471/1500 [13:31<26:06,  1.52s/it]"
     ]
    },
    {
     "name": "stdout",
     "output_type": "stream",
     "text": [
      "Saved 농어업재해보험법 to 법령별 csv 저장\n"
     ]
    },
    {
     "name": "stderr",
     "output_type": "stream",
     "text": [
      " 31%|███▏      | 472/1500 [13:33<25:02,  1.46s/it]"
     ]
    },
    {
     "name": "stdout",
     "output_type": "stream",
     "text": [
      "Saved 농어촌구조개선 특별회계법 to 법령별 csv 저장\n"
     ]
    },
    {
     "name": "stderr",
     "output_type": "stream",
     "text": [
      " 32%|███▏      | 473/1500 [13:35<31:49,  1.86s/it]"
     ]
    },
    {
     "name": "stdout",
     "output_type": "stream",
     "text": [
      "Saved 농어촌도로 정비법 to 법령별 csv 저장\n"
     ]
    },
    {
     "name": "stderr",
     "output_type": "stream",
     "text": [
      " 32%|███▏      | 474/1500 [13:37<31:27,  1.84s/it]"
     ]
    },
    {
     "name": "stdout",
     "output_type": "stream",
     "text": [
      "Saved 농어촌 등 보건의료를 위한 특별조치법 to 법령별 csv 저장\n"
     ]
    },
    {
     "name": "stderr",
     "output_type": "stream",
     "text": [
      " 32%|███▏      | 475/1500 [13:39<30:41,  1.80s/it]"
     ]
    },
    {
     "name": "stdout",
     "output_type": "stream",
     "text": [
      "Saved 농어촌마을 주거환경 개선 및 리모델링 촉진을 위한 특별법 to 법령별 csv 저장\n"
     ]
    },
    {
     "name": "stderr",
     "output_type": "stream",
     "text": [
      " 32%|███▏      | 476/1500 [13:40<28:39,  1.68s/it]"
     ]
    },
    {
     "name": "stdout",
     "output_type": "stream",
     "text": [
      "Saved 농어촌 전기공급사업 촉진법 to 법령별 csv 저장\n"
     ]
    },
    {
     "name": "stderr",
     "output_type": "stream",
     "text": [
      " 32%|███▏      | 477/1500 [13:43<32:29,  1.91s/it]"
     ]
    },
    {
     "name": "stdout",
     "output_type": "stream",
     "text": [
      "Saved 농어촌정비법 to 법령별 csv 저장\n"
     ]
    },
    {
     "name": "stderr",
     "output_type": "stream",
     "text": [
      " 32%|███▏      | 478/1500 [13:44<30:53,  1.81s/it]"
     ]
    },
    {
     "name": "stdout",
     "output_type": "stream",
     "text": [
      "Saved 농어촌주민의 보건복지 증진을 위한 특별법 to 법령별 csv 저장\n"
     ]
    },
    {
     "name": "stderr",
     "output_type": "stream",
     "text": [
      " 32%|███▏      | 479/1500 [13:46<29:07,  1.71s/it]"
     ]
    },
    {
     "name": "stdout",
     "output_type": "stream",
     "text": [
      "Saved 농어촌특별세법 to 법령별 csv 저장\n"
     ]
    },
    {
     "name": "stderr",
     "output_type": "stream",
     "text": [
      " 32%|███▏      | 480/1500 [13:47<27:55,  1.64s/it]"
     ]
    },
    {
     "name": "stdout",
     "output_type": "stream",
     "text": [
      "Saved 농업과학기술정보서비스의 제공 및 이용 활성화에 관한 법률 to 법령별 csv 저장\n"
     ]
    },
    {
     "name": "stderr",
     "output_type": "stream",
     "text": [
      " 32%|███▏      | 481/1500 [13:49<26:54,  1.58s/it]"
     ]
    },
    {
     "name": "stdout",
     "output_type": "stream",
     "text": [
      "Saved 농업기계화 촉진법 to 법령별 csv 저장\n"
     ]
    },
    {
     "name": "stderr",
     "output_type": "stream",
     "text": [
      " 32%|███▏      | 482/1500 [13:50<26:30,  1.56s/it]"
     ]
    },
    {
     "name": "stdout",
     "output_type": "stream",
     "text": [
      "Saved 농업ㆍ농촌 공익기능 증진 직접지불제도 운영에 관한 법률 to 법령별 csv 저장\n"
     ]
    },
    {
     "name": "stderr",
     "output_type": "stream",
     "text": [
      " 32%|███▏      | 483/1500 [13:52<27:37,  1.63s/it]"
     ]
    },
    {
     "name": "stdout",
     "output_type": "stream",
     "text": [
      "Saved 농업ㆍ농촌 및 식품산업 기본법 to 법령별 csv 저장\n"
     ]
    },
    {
     "name": "stderr",
     "output_type": "stream",
     "text": [
      " 32%|███▏      | 484/1500 [13:54<27:12,  1.61s/it]"
     ]
    },
    {
     "name": "stdout",
     "output_type": "stream",
     "text": [
      "Saved 농업생명자원의 보존ㆍ관리 및 이용에 관한 법률 to 법령별 csv 저장\n"
     ]
    },
    {
     "name": "stderr",
     "output_type": "stream",
     "text": [
      " 32%|███▏      | 485/1500 [13:55<25:47,  1.52s/it]"
     ]
    },
    {
     "name": "stdout",
     "output_type": "stream",
     "text": [
      "Saved 농업생산기반시설 및 주변지역 활용에 관한 특별법 to 법령별 csv 저장\n"
     ]
    },
    {
     "name": "stderr",
     "output_type": "stream",
     "text": [
      " 32%|███▏      | 486/1500 [13:56<24:53,  1.47s/it]"
     ]
    },
    {
     "name": "stdout",
     "output_type": "stream",
     "text": [
      "Saved 농업인등의 농외소득 활동 지원에 관한 법률 to 법령별 csv 저장\n"
     ]
    },
    {
     "name": "stderr",
     "output_type": "stream",
     "text": [
      " 32%|███▏      | 487/1500 [14:00<34:01,  2.01s/it]"
     ]
    },
    {
     "name": "stdout",
     "output_type": "stream",
     "text": [
      "Saved 농업협동조합법 to 법령별 csv 저장\n"
     ]
    },
    {
     "name": "stderr",
     "output_type": "stream",
     "text": [
      " 33%|███▎      | 488/1500 [14:01<31:05,  1.84s/it]"
     ]
    },
    {
     "name": "stdout",
     "output_type": "stream",
     "text": [
      "Saved 농업협동조합의 구조개선에 관한 법률 to 법령별 csv 저장\n"
     ]
    },
    {
     "name": "stderr",
     "output_type": "stream",
     "text": [
      " 33%|███▎      | 489/1500 [14:03<32:01,  1.90s/it]"
     ]
    },
    {
     "name": "stdout",
     "output_type": "stream",
     "text": [
      "Saved 농지법 to 법령별 csv 저장\n"
     ]
    },
    {
     "name": "stderr",
     "output_type": "stream",
     "text": [
      " 33%|███▎      | 490/1500 [14:05<30:17,  1.80s/it]"
     ]
    },
    {
     "name": "stdout",
     "output_type": "stream",
     "text": [
      "Saved 농촌공간 재구조화 및 재생지원에 관한 법률 to 법령별 csv 저장\n"
     ]
    },
    {
     "name": "stderr",
     "output_type": "stream",
     "text": [
      " 33%|███▎      | 491/1500 [14:06<28:18,  1.68s/it]"
     ]
    },
    {
     "name": "stdout",
     "output_type": "stream",
     "text": [
      "Saved 농촌융복합산업 육성 및 지원에 관한 법률 to 법령별 csv 저장\n"
     ]
    },
    {
     "name": "stderr",
     "output_type": "stream",
     "text": [
      " 33%|███▎      | 492/1500 [14:07<25:48,  1.54s/it]"
     ]
    },
    {
     "name": "stdout",
     "output_type": "stream",
     "text": [
      "Saved 농촌 지역 공동체 기반 경제ㆍ사회 서비스 활성화에 관한 법률 to 법령별 csv 저장\n"
     ]
    },
    {
     "name": "stderr",
     "output_type": "stream",
     "text": [
      " 33%|███▎      | 493/1500 [14:09<25:28,  1.52s/it]"
     ]
    },
    {
     "name": "stdout",
     "output_type": "stream",
     "text": [
      "Saved 농촌진흥법 to 법령별 csv 저장\n"
     ]
    },
    {
     "name": "stderr",
     "output_type": "stream",
     "text": [
      " 33%|███▎      | 494/1500 [14:10<24:37,  1.47s/it]"
     ]
    },
    {
     "name": "stdout",
     "output_type": "stream",
     "text": [
      "Saved 뇌연구 촉진법 to 법령별 csv 저장\n"
     ]
    },
    {
     "name": "stderr",
     "output_type": "stream",
     "text": [
      " 33%|███▎      | 495/1500 [14:12<24:57,  1.49s/it]"
     ]
    },
    {
     "name": "stdout",
     "output_type": "stream",
     "text": [
      "Saved 뉴스통신 진흥에 관한 법률 to 법령별 csv 저장\n"
     ]
    },
    {
     "name": "stderr",
     "output_type": "stream",
     "text": [
      " 33%|███▎      | 496/1500 [14:13<23:42,  1.42s/it]"
     ]
    },
    {
     "name": "stdout",
     "output_type": "stream",
     "text": [
      "Saved 다문화가족지원법 to 법령별 csv 저장\n"
     ]
    },
    {
     "name": "stderr",
     "output_type": "stream",
     "text": [
      " 33%|███▎      | 497/1500 [14:15<25:35,  1.53s/it]"
     ]
    },
    {
     "name": "stdout",
     "output_type": "stream",
     "text": [
      "Saved 다중이용업소의 안전관리에 관한 특별법 to 법령별 csv 저장\n"
     ]
    },
    {
     "name": "stderr",
     "output_type": "stream",
     "text": [
      " 33%|███▎      | 498/1500 [14:17<29:24,  1.76s/it]"
     ]
    },
    {
     "name": "stdout",
     "output_type": "stream",
     "text": [
      "Saved 달빛철도 건설을 위한 특별법 to 법령별 csv 저장\n"
     ]
    },
    {
     "name": "stderr",
     "output_type": "stream",
     "text": [
      " 33%|███▎      | 499/1500 [14:19<28:50,  1.73s/it]"
     ]
    },
    {
     "name": "stdout",
     "output_type": "stream",
     "text": [
      "Saved 담배사업법 to 법령별 csv 저장\n"
     ]
    },
    {
     "name": "stderr",
     "output_type": "stream",
     "text": [
      " 33%|███▎      | 500/1500 [14:21<29:56,  1.80s/it]"
     ]
    },
    {
     "name": "stdout",
     "output_type": "stream",
     "text": [
      "Saved 담보부사채신탁법 to 법령별 csv 저장\n"
     ]
    },
    {
     "name": "stderr",
     "output_type": "stream",
     "text": [
      " 33%|███▎      | 501/1500 [14:22<28:25,  1.71s/it]"
     ]
    },
    {
     "name": "stdout",
     "output_type": "stream",
     "text": [
      "Saved 대구경북과학기술원법 to 법령별 csv 저장\n"
     ]
    },
    {
     "name": "stderr",
     "output_type": "stream",
     "text": [
      " 33%|███▎      | 502/1500 [14:24<27:04,  1.63s/it]"
     ]
    },
    {
     "name": "stdout",
     "output_type": "stream",
     "text": [
      "Saved 대구경북통합신공항 건설을 위한 특별법 to 법령별 csv 저장\n"
     ]
    },
    {
     "name": "stderr",
     "output_type": "stream",
     "text": [
      " 34%|███▎      | 503/1500 [14:25<26:18,  1.58s/it]"
     ]
    },
    {
     "name": "stdout",
     "output_type": "stream",
     "text": [
      "Saved 대규모유통업에서의 거래 공정화에 관한 법률 to 법령별 csv 저장\n"
     ]
    },
    {
     "name": "stderr",
     "output_type": "stream",
     "text": [
      " 34%|███▎      | 504/1500 [14:27<25:52,  1.56s/it]"
     ]
    },
    {
     "name": "stdout",
     "output_type": "stream",
     "text": [
      "Saved 대기관리권역의 대기환경개선에 관한 특별법 to 법령별 csv 저장\n"
     ]
    },
    {
     "name": "stderr",
     "output_type": "stream",
     "text": [
      " 34%|███▎      | 505/1500 [14:29<31:27,  1.90s/it]"
     ]
    },
    {
     "name": "stdout",
     "output_type": "stream",
     "text": [
      "Saved 대기환경보전법 to 법령별 csv 저장\n"
     ]
    },
    {
     "name": "stderr",
     "output_type": "stream",
     "text": [
      " 34%|███▎      | 506/1500 [14:31<30:09,  1.82s/it]"
     ]
    },
    {
     "name": "stdout",
     "output_type": "stream",
     "text": [
      "Saved 대도시권 광역교통 관리에 관한 특별법 to 법령별 csv 저장\n"
     ]
    },
    {
     "name": "stderr",
     "output_type": "stream",
     "text": [
      " 34%|███▍      | 507/1500 [14:32<28:43,  1.74s/it]"
     ]
    },
    {
     "name": "stdout",
     "output_type": "stream",
     "text": [
      "Saved 대리점거래의 공정화에 관한 법률 to 법령별 csv 저장\n"
     ]
    },
    {
     "name": "stderr",
     "output_type": "stream",
     "text": [
      " 34%|███▍      | 508/1500 [14:34<28:25,  1.72s/it]"
     ]
    },
    {
     "name": "stdout",
     "output_type": "stream",
     "text": [
      "Saved 대부업 등의 등록 및 금융이용자 보호에 관한 법률 to 법령별 csv 저장\n"
     ]
    },
    {
     "name": "stderr",
     "output_type": "stream",
     "text": [
      " 34%|███▍      | 509/1500 [14:35<25:43,  1.56s/it]"
     ]
    },
    {
     "name": "stdout",
     "output_type": "stream",
     "text": [
      "Saved 대안교육기관에 관한 법률 to 법령별 csv 저장\n"
     ]
    },
    {
     "name": "stderr",
     "output_type": "stream",
     "text": [
      " 34%|███▍      | 510/1500 [14:36<24:02,  1.46s/it]"
     ]
    },
    {
     "name": "stdout",
     "output_type": "stream",
     "text": [
      "Saved 대외경제협력기금법 to 법령별 csv 저장\n"
     ]
    },
    {
     "name": "stderr",
     "output_type": "stream",
     "text": [
      " 34%|███▍      | 511/1500 [14:38<26:26,  1.60s/it]"
     ]
    },
    {
     "name": "stdout",
     "output_type": "stream",
     "text": [
      "Saved 대외무역법 to 법령별 csv 저장\n"
     ]
    },
    {
     "name": "stderr",
     "output_type": "stream",
     "text": [
      " 34%|███▍      | 512/1500 [14:40<24:53,  1.51s/it]"
     ]
    },
    {
     "name": "stdout",
     "output_type": "stream",
     "text": [
      "Saved 대일항쟁기 강제동원 피해조사 및 국외강제동원 희생자 등 지원에 관한 특별법 to 법령별 csv 저장\n"
     ]
    },
    {
     "name": "stderr",
     "output_type": "stream",
     "text": [
      " 34%|███▍      | 513/1500 [14:41<25:37,  1.56s/it]"
     ]
    },
    {
     "name": "stdout",
     "output_type": "stream",
     "text": [
      "Saved 대중교통의 육성 및 이용촉진에 관한 법률 to 법령별 csv 저장\n"
     ]
    },
    {
     "name": "stderr",
     "output_type": "stream",
     "text": [
      " 34%|███▍      | 514/1500 [14:43<24:42,  1.50s/it]"
     ]
    },
    {
     "name": "stdout",
     "output_type": "stream",
     "text": [
      "Saved 대중문화예술산업발전법 to 법령별 csv 저장\n"
     ]
    },
    {
     "name": "stderr",
     "output_type": "stream",
     "text": [
      " 34%|███▍      | 515/1500 [14:45<26:21,  1.61s/it]"
     ]
    },
    {
     "name": "stdout",
     "output_type": "stream",
     "text": [
      "Saved 대ㆍ중소기업 상생협력 촉진에 관한 법률 to 법령별 csv 저장\n"
     ]
    },
    {
     "name": "stderr",
     "output_type": "stream",
     "text": [
      " 34%|███▍      | 516/1500 [14:46<26:11,  1.60s/it]"
     ]
    },
    {
     "name": "stdout",
     "output_type": "stream",
     "text": [
      "Saved 대체역의 편입 및 복무 등에 관한 법률 to 법령별 csv 저장\n"
     ]
    },
    {
     "name": "stderr",
     "output_type": "stream",
     "text": [
      " 34%|███▍      | 517/1500 [14:48<25:48,  1.58s/it]"
     ]
    },
    {
     "name": "stdout",
     "output_type": "stream",
     "text": [
      "Saved 대통령기록물 관리에 관한 법률 to 법령별 csv 저장\n"
     ]
    },
    {
     "name": "stderr",
     "output_type": "stream",
     "text": [
      " 35%|███▍      | 518/1500 [14:50<28:41,  1.75s/it]"
     ]
    },
    {
     "name": "stdout",
     "output_type": "stream",
     "text": [
      "Saved 대통령 등의 경호에 관한 법률 to 법령별 csv 저장\n"
     ]
    },
    {
     "name": "stderr",
     "output_type": "stream",
     "text": [
      " 35%|███▍      | 519/1500 [14:51<25:47,  1.58s/it]"
     ]
    },
    {
     "name": "stdout",
     "output_type": "stream",
     "text": [
      "Saved 대통령직 인수에 관한 법률 to 법령별 csv 저장\n"
     ]
    },
    {
     "name": "stderr",
     "output_type": "stream",
     "text": [
      " 35%|███▍      | 520/1500 [14:52<23:32,  1.44s/it]"
     ]
    },
    {
     "name": "stdout",
     "output_type": "stream",
     "text": [
      "Saved 대학교원 기간임용제 탈락자 구제를 위한 특별법 to 법령별 csv 저장\n"
     ]
    },
    {
     "name": "stderr",
     "output_type": "stream",
     "text": [
      " 35%|███▍      | 521/1500 [14:53<22:04,  1.35s/it]"
     ]
    },
    {
     "name": "stdout",
     "output_type": "stream",
     "text": [
      "Saved 대학도서관진흥법 to 법령별 csv 저장\n"
     ]
    },
    {
     "name": "stderr",
     "output_type": "stream",
     "text": [
      " 35%|███▍      | 522/1500 [14:55<21:34,  1.32s/it]"
     ]
    },
    {
     "name": "stdout",
     "output_type": "stream",
     "text": [
      "Saved 대한노인회 지원에 관한 법률 to 법령별 csv 저장\n"
     ]
    },
    {
     "name": "stderr",
     "output_type": "stream",
     "text": [
      " 35%|███▍      | 523/1500 [14:56<21:50,  1.34s/it]"
     ]
    },
    {
     "name": "stdout",
     "output_type": "stream",
     "text": [
      "Saved 대한무역투자진흥공사법 to 법령별 csv 저장\n"
     ]
    },
    {
     "name": "stderr",
     "output_type": "stream",
     "text": [
      " 35%|███▍      | 524/1500 [14:57<22:02,  1.35s/it]"
     ]
    },
    {
     "name": "stdout",
     "output_type": "stream",
     "text": [
      "Saved 대한민국과 아메리카합중국 간의 상호방위조약 제4조에 의한 시설과 구역 및 대한민국에서의 합중국군대의 지위에 관한 협정의 실시에 따른 관세법 등의 임시특례에 관한 법률 to 법령별 csv 저장\n"
     ]
    },
    {
     "name": "stderr",
     "output_type": "stream",
     "text": [
      " 35%|███▌      | 525/1500 [14:59<21:24,  1.32s/it]"
     ]
    },
    {
     "name": "stdout",
     "output_type": "stream",
     "text": [
      "Saved 대한민국과 아메리카합중국 간의 상호방위조약 제4조에 의한 시설과 구역 및 대한민국에서의 합중국 군대의 지위에 관한 협정의 시행에 따른 국가 및 지방자치단체의 재산의 관리와 처분에 관한 법률 to 법령별 csv 저장\n"
     ]
    },
    {
     "name": "stderr",
     "output_type": "stream",
     "text": [
      " 35%|███▌      | 526/1500 [15:00<20:24,  1.26s/it]"
     ]
    },
    {
     "name": "stdout",
     "output_type": "stream",
     "text": [
      "Saved 대한민국과 아메리카합중국 간의 상호방위조약 제4조에 의한 시설과 구역 및 대한민국에서의 합중국 군대의 지위에 관한 협정의 시행에 관한 형사특별법 to 법령별 csv 저장\n"
     ]
    },
    {
     "name": "stderr",
     "output_type": "stream",
     "text": [
      " 35%|███▌      | 527/1500 [15:01<19:43,  1.22s/it]"
     ]
    },
    {
     "name": "stdout",
     "output_type": "stream",
     "text": [
      "Saved 대한민국과 아메리카합중국 간의 상호방위조약 제4조에 의한 시설과 구역 및 대한민국에서의 합중국 군대의 지위에 관한 협정의 시행에 관한 민사특별법 to 법령별 csv 저장\n"
     ]
    },
    {
     "name": "stderr",
     "output_type": "stream",
     "text": [
      " 35%|███▌      | 528/1500 [15:02<20:13,  1.25s/it]"
     ]
    },
    {
     "name": "stdout",
     "output_type": "stream",
     "text": [
      "Saved 대한민국국기법 to 법령별 csv 저장\n"
     ]
    },
    {
     "name": "stderr",
     "output_type": "stream",
     "text": [
      " 35%|███▌      | 529/1500 [15:03<19:56,  1.23s/it]"
     ]
    },
    {
     "name": "stdout",
     "output_type": "stream",
     "text": [
      "Saved 대한민국예술원법 to 법령별 csv 저장\n"
     ]
    },
    {
     "name": "stderr",
     "output_type": "stream",
     "text": [
      " 35%|███▌      | 530/1500 [15:05<21:20,  1.32s/it]"
     ]
    },
    {
     "name": "stdout",
     "output_type": "stream",
     "text": [
      "Saved 대한민국 재외공관 설치법 to 법령별 csv 저장\n"
     ]
    },
    {
     "name": "stderr",
     "output_type": "stream",
     "text": [
      " 35%|███▌      | 531/1500 [15:06<20:43,  1.28s/it]"
     ]
    },
    {
     "name": "stdout",
     "output_type": "stream",
     "text": [
      "Saved 대한민국재향경우회법 to 법령별 csv 저장\n"
     ]
    },
    {
     "name": "stderr",
     "output_type": "stream",
     "text": [
      " 35%|███▌      | 532/1500 [15:08<22:11,  1.38s/it]"
     ]
    },
    {
     "name": "stdout",
     "output_type": "stream",
     "text": [
      "Saved 대한민국재향교정동우회법 to 법령별 csv 저장\n"
     ]
    },
    {
     "name": "stderr",
     "output_type": "stream",
     "text": [
      " 36%|███▌      | 533/1500 [15:10<24:39,  1.53s/it]"
     ]
    },
    {
     "name": "stdout",
     "output_type": "stream",
     "text": [
      "Saved 대한민국재향군인회법 to 법령별 csv 저장\n"
     ]
    },
    {
     "name": "stderr",
     "output_type": "stream",
     "text": [
      " 36%|███▌      | 534/1500 [15:11<23:25,  1.46s/it]"
     ]
    },
    {
     "name": "stdout",
     "output_type": "stream",
     "text": [
      "Saved 대한민국재향소방동우회법 to 법령별 csv 저장\n"
     ]
    },
    {
     "name": "stderr",
     "output_type": "stream",
     "text": [
      " 36%|███▌      | 535/1500 [15:12<23:51,  1.48s/it]"
     ]
    },
    {
     "name": "stdout",
     "output_type": "stream",
     "text": [
      "Saved 대한민국학술원법 to 법령별 csv 저장\n"
     ]
    },
    {
     "name": "stderr",
     "output_type": "stream",
     "text": [
      " 36%|███▌      | 536/1500 [15:14<22:26,  1.40s/it]"
     ]
    },
    {
     "name": "stdout",
     "output_type": "stream",
     "text": [
      "Saved 대한민국헌정회 육성법 to 법령별 csv 저장\n"
     ]
    },
    {
     "name": "stderr",
     "output_type": "stream",
     "text": [
      " 36%|███▌      | 537/1500 [15:15<22:29,  1.40s/it]"
     ]
    },
    {
     "name": "stdout",
     "output_type": "stream",
     "text": [
      "Saved 대한석탄공사법 to 법령별 csv 저장\n"
     ]
    },
    {
     "name": "stderr",
     "output_type": "stream",
     "text": [
      " 36%|███▌      | 538/1500 [15:17<25:10,  1.57s/it]"
     ]
    },
    {
     "name": "stdout",
     "output_type": "stream",
     "text": [
      "Saved 대한소방공제회법 to 법령별 csv 저장\n"
     ]
    },
    {
     "name": "stderr",
     "output_type": "stream",
     "text": [
      " 36%|███▌      | 539/1500 [15:18<23:42,  1.48s/it]"
     ]
    },
    {
     "name": "stdout",
     "output_type": "stream",
     "text": [
      "Saved 대한적십자사 조직법 to 법령별 csv 저장\n"
     ]
    },
    {
     "name": "stderr",
     "output_type": "stream",
     "text": [
      " 36%|███▌      | 540/1500 [15:20<24:04,  1.50s/it]"
     ]
    },
    {
     "name": "stdout",
     "output_type": "stream",
     "text": [
      "Saved 대한지방행정공제회법 to 법령별 csv 저장\n"
     ]
    },
    {
     "name": "stderr",
     "output_type": "stream",
     "text": [
      " 36%|███▌      | 541/1500 [15:22<26:36,  1.66s/it]"
     ]
    },
    {
     "name": "stdout",
     "output_type": "stream",
     "text": [
      "Saved 댐건설ㆍ관리 및 주변지역지원 등에 관한 법률 to 법령별 csv 저장\n"
     ]
    },
    {
     "name": "stderr",
     "output_type": "stream",
     "text": [
      " 36%|███▌      | 542/1500 [15:24<29:52,  1.87s/it]"
     ]
    },
    {
     "name": "stdout",
     "output_type": "stream",
     "text": [
      "Saved 댐 주변지역 친환경 보전 및 활용에 관한 특별법 to 법령별 csv 저장\n"
     ]
    },
    {
     "name": "stderr",
     "output_type": "stream",
     "text": [
      " 36%|███▌      | 543/1500 [15:26<29:04,  1.82s/it]"
     ]
    },
    {
     "name": "stdout",
     "output_type": "stream",
     "text": [
      "Saved 데이터기반행정 활성화에 관한 법률 to 법령별 csv 저장\n"
     ]
    },
    {
     "name": "stderr",
     "output_type": "stream",
     "text": [
      " 36%|███▋      | 544/1500 [15:27<28:10,  1.77s/it]"
     ]
    },
    {
     "name": "stdout",
     "output_type": "stream",
     "text": [
      "Saved 데이터 산업진흥 및 이용촉진에 관한 기본법 to 법령별 csv 저장\n"
     ]
    },
    {
     "name": "stderr",
     "output_type": "stream",
     "text": [
      " 36%|███▋      | 545/1500 [15:31<34:17,  2.15s/it]"
     ]
    },
    {
     "name": "stdout",
     "output_type": "stream",
     "text": [
      "Saved 도로교통법 to 법령별 csv 저장\n"
     ]
    },
    {
     "name": "stderr",
     "output_type": "stream",
     "text": [
      " 36%|███▋      | 546/1500 [15:33<35:41,  2.24s/it]"
     ]
    },
    {
     "name": "stdout",
     "output_type": "stream",
     "text": [
      "Saved 도로명주소법 to 법령별 csv 저장\n"
     ]
    },
    {
     "name": "stderr",
     "output_type": "stream",
     "text": [
      " 36%|███▋      | 547/1500 [15:35<36:11,  2.28s/it]"
     ]
    },
    {
     "name": "stdout",
     "output_type": "stream",
     "text": [
      "Saved 도로법 to 법령별 csv 저장\n"
     ]
    },
    {
     "name": "stderr",
     "output_type": "stream",
     "text": [
      " 37%|███▋      | 548/1500 [15:37<31:57,  2.01s/it]"
     ]
    },
    {
     "name": "stdout",
     "output_type": "stream",
     "text": [
      "Saved 도서관법 to 법령별 csv 저장\n"
     ]
    },
    {
     "name": "stderr",
     "output_type": "stream",
     "text": [
      " 37%|███▋      | 549/1500 [15:38<27:44,  1.75s/it]"
     ]
    },
    {
     "name": "stdout",
     "output_type": "stream",
     "text": [
      "Saved 도서ㆍ벽지 교육진흥법 to 법령별 csv 저장\n"
     ]
    },
    {
     "name": "stderr",
     "output_type": "stream",
     "text": [
      " 37%|███▋      | 550/1500 [15:39<26:38,  1.68s/it]"
     ]
    },
    {
     "name": "stdout",
     "output_type": "stream",
     "text": [
      "Saved 도선법 to 법령별 csv 저장\n"
     ]
    },
    {
     "name": "stderr",
     "output_type": "stream",
     "text": [
      " 37%|███▋      | 551/1500 [15:42<29:55,  1.89s/it]"
     ]
    },
    {
     "name": "stdout",
     "output_type": "stream",
     "text": [
      "Saved 도시가스사업법 to 법령별 csv 저장\n"
     ]
    },
    {
     "name": "stderr",
     "output_type": "stream",
     "text": [
      " 37%|███▋      | 552/1500 [15:44<33:26,  2.12s/it]"
     ]
    },
    {
     "name": "stdout",
     "output_type": "stream",
     "text": [
      "Saved 도시개발법 to 법령별 csv 저장\n"
     ]
    },
    {
     "name": "stderr",
     "output_type": "stream",
     "text": [
      " 37%|███▋      | 553/1500 [15:46<31:13,  1.98s/it]"
     ]
    },
    {
     "name": "stdout",
     "output_type": "stream",
     "text": [
      "Saved 도시 공업지역의 관리 및 활성화에 관한 특별법 to 법령별 csv 저장\n"
     ]
    },
    {
     "name": "stderr",
     "output_type": "stream",
     "text": [
      " 37%|███▋      | 554/1500 [15:48<29:12,  1.85s/it]"
     ]
    },
    {
     "name": "stdout",
     "output_type": "stream",
     "text": [
      "Saved 도시공원 및 녹지 등에 관한 법률 to 법령별 csv 저장\n"
     ]
    },
    {
     "name": "stderr",
     "output_type": "stream",
     "text": [
      " 37%|███▋      | 555/1500 [15:50<30:41,  1.95s/it]"
     ]
    },
    {
     "name": "stdout",
     "output_type": "stream",
     "text": [
      "Saved 도시교통정비 촉진법 to 법령별 csv 저장\n"
     ]
    },
    {
     "name": "stderr",
     "output_type": "stream",
     "text": [
      " 37%|███▋      | 556/1500 [15:52<29:48,  1.90s/it]"
     ]
    },
    {
     "name": "stdout",
     "output_type": "stream",
     "text": [
      "Saved 도시농업의 육성 및 지원에 관한 법률 to 법령별 csv 저장\n"
     ]
    },
    {
     "name": "stderr",
     "output_type": "stream",
     "text": [
      " 37%|███▋      | 557/1500 [15:55<35:32,  2.26s/it]"
     ]
    },
    {
     "name": "stdout",
     "output_type": "stream",
     "text": [
      "Saved 도시 및 주거환경정비법 to 법령별 csv 저장\n"
     ]
    },
    {
     "name": "stderr",
     "output_type": "stream",
     "text": [
      " 37%|███▋      | 558/1500 [15:56<31:10,  1.99s/it]"
     ]
    },
    {
     "name": "stdout",
     "output_type": "stream",
     "text": [
      "Saved 도시숲 등의 조성 및 관리에 관한 법률 to 법령별 csv 저장\n"
     ]
    },
    {
     "name": "stderr",
     "output_type": "stream",
     "text": [
      " 37%|███▋      | 559/1500 [15:58<28:52,  1.84s/it]"
     ]
    },
    {
     "name": "stdout",
     "output_type": "stream",
     "text": [
      "Saved 도시와 농어촌 간의 교류촉진에 관한 법률 to 법령별 csv 저장\n"
     ]
    },
    {
     "name": "stderr",
     "output_type": "stream",
     "text": [
      " 37%|███▋      | 560/1500 [16:00<29:49,  1.90s/it]"
     ]
    },
    {
     "name": "stdout",
     "output_type": "stream",
     "text": [
      "Saved 도시재생 활성화 및 지원에 관한 특별법 to 법령별 csv 저장\n"
     ]
    },
    {
     "name": "stderr",
     "output_type": "stream",
     "text": [
      " 37%|███▋      | 561/1500 [16:02<29:47,  1.90s/it]"
     ]
    },
    {
     "name": "stdout",
     "output_type": "stream",
     "text": [
      "Saved 도시재정비 촉진을 위한 특별법 to 법령별 csv 저장\n"
     ]
    },
    {
     "name": "stderr",
     "output_type": "stream",
     "text": [
      " 37%|███▋      | 562/1500 [16:03<30:00,  1.92s/it]"
     ]
    },
    {
     "name": "stdout",
     "output_type": "stream",
     "text": [
      "Saved 도시철도법 to 법령별 csv 저장\n"
     ]
    },
    {
     "name": "stderr",
     "output_type": "stream",
     "text": [
      " 38%|███▊      | 563/1500 [16:05<26:07,  1.67s/it]"
     ]
    },
    {
     "name": "stdout",
     "output_type": "stream",
     "text": [
      "Saved 도시하천유역 침수피해방지대책법 to 법령별 csv 저장\n"
     ]
    },
    {
     "name": "stderr",
     "output_type": "stream",
     "text": [
      " 38%|███▊      | 564/1500 [16:06<24:09,  1.55s/it]"
     ]
    },
    {
     "name": "stdout",
     "output_type": "stream",
     "text": [
      "Saved 도시형소공인 지원에 관한 특별법 to 법령별 csv 저장\n"
     ]
    },
    {
     "name": "stderr",
     "output_type": "stream",
     "text": [
      " 38%|███▊      | 565/1500 [16:07<24:31,  1.57s/it]"
     ]
    },
    {
     "name": "stdout",
     "output_type": "stream",
     "text": [
      "Saved 도심 복합개발 지원에 관한 법률 to 법령별 csv 저장\n"
     ]
    },
    {
     "name": "stderr",
     "output_type": "stream",
     "text": [
      " 38%|███▊      | 566/1500 [16:09<26:05,  1.68s/it]"
     ]
    },
    {
     "name": "stdout",
     "output_type": "stream",
     "text": [
      "Saved 도심융합특구 조성 및 육성에 관한 특별법 to 법령별 csv 저장\n"
     ]
    },
    {
     "name": "stderr",
     "output_type": "stream",
     "text": [
      " 38%|███▊      | 567/1500 [16:11<24:52,  1.60s/it]"
     ]
    },
    {
     "name": "stdout",
     "output_type": "stream",
     "text": [
      "Saved 도심항공교통 활용 촉진 및 지원에 관한 법률 to 법령별 csv 저장\n"
     ]
    },
    {
     "name": "stderr",
     "output_type": "stream",
     "text": [
      " 38%|███▊      | 568/1500 [16:12<24:42,  1.59s/it]"
     ]
    },
    {
     "name": "stdout",
     "output_type": "stream",
     "text": [
      "Saved 도청이전을 위한 도시건설 및 지원에 관한 특별법 to 법령별 csv 저장\n"
     ]
    },
    {
     "name": "stderr",
     "output_type": "stream",
     "text": [
      " 38%|███▊      | 569/1500 [16:14<23:42,  1.53s/it]"
     ]
    },
    {
     "name": "stdout",
     "output_type": "stream",
     "text": [
      "Saved 독도 등 도서지역의 생태계 보전에 관한 특별법 to 법령별 csv 저장\n"
     ]
    },
    {
     "name": "stderr",
     "output_type": "stream",
     "text": [
      " 38%|███▊      | 570/1500 [16:15<22:11,  1.43s/it]"
     ]
    },
    {
     "name": "stdout",
     "output_type": "stream",
     "text": [
      "Saved 독도의용수비대 지원법 to 법령별 csv 저장\n"
     ]
    },
    {
     "name": "stderr",
     "output_type": "stream",
     "text": [
      " 38%|███▊      | 571/1500 [16:16<21:02,  1.36s/it]"
     ]
    },
    {
     "name": "stdout",
     "output_type": "stream",
     "text": [
      "Saved 독도의 지속가능한 이용에 관한 법률 to 법령별 csv 저장\n"
     ]
    },
    {
     "name": "stderr",
     "output_type": "stream",
     "text": [
      " 38%|███▊      | 572/1500 [16:17<20:24,  1.32s/it]"
     ]
    },
    {
     "name": "stdout",
     "output_type": "stream",
     "text": [
      "Saved 독립공채상환에 관한 특별조치법 to 법령별 csv 저장\n"
     ]
    },
    {
     "name": "stderr",
     "output_type": "stream",
     "text": [
      " 38%|███▊      | 573/1500 [16:19<20:36,  1.33s/it]"
     ]
    },
    {
     "name": "stdout",
     "output_type": "stream",
     "text": [
      "Saved 독립기념관법 to 법령별 csv 저장\n"
     ]
    },
    {
     "name": "stderr",
     "output_type": "stream",
     "text": [
      " 38%|███▊      | 574/1500 [16:20<21:55,  1.42s/it]"
     ]
    },
    {
     "name": "stdout",
     "output_type": "stream",
     "text": [
      "Saved 독립유공자예우에 관한 법률 to 법령별 csv 저장\n"
     ]
    },
    {
     "name": "stderr",
     "output_type": "stream",
     "text": [
      " 38%|███▊      | 575/1500 [16:22<21:09,  1.37s/it]"
     ]
    },
    {
     "name": "stdout",
     "output_type": "stream",
     "text": [
      "Saved 독서문화진흥법 to 법령별 csv 저장\n"
     ]
    },
    {
     "name": "stderr",
     "output_type": "stream",
     "text": [
      " 38%|███▊      | 576/1500 [16:24<24:47,  1.61s/it]"
     ]
    },
    {
     "name": "stdout",
     "output_type": "stream",
     "text": [
      "Saved 독점규제 및 공정거래에 관한 법률 to 법령별 csv 저장\n"
     ]
    },
    {
     "name": "stderr",
     "output_type": "stream",
     "text": [
      " 38%|███▊      | 577/1500 [16:25<24:08,  1.57s/it]"
     ]
    },
    {
     "name": "stdout",
     "output_type": "stream",
     "text": [
      "Saved 독학에 의한 학위취득에 관한 법률 to 법령별 csv 저장\n"
     ]
    },
    {
     "name": "stderr",
     "output_type": "stream",
     "text": [
      " 39%|███▊      | 578/1500 [16:27<26:57,  1.75s/it]"
     ]
    },
    {
     "name": "stdout",
     "output_type": "stream",
     "text": [
      "Saved 동물보호법 to 법령별 csv 저장\n"
     ]
    },
    {
     "name": "stderr",
     "output_type": "stream",
     "text": [
      " 39%|███▊      | 579/1500 [16:29<26:37,  1.73s/it]"
     ]
    },
    {
     "name": "stdout",
     "output_type": "stream",
     "text": [
      "Saved 동물원 및 수족관의 관리에 관한 법률 to 법령별 csv 저장\n"
     ]
    },
    {
     "name": "stderr",
     "output_type": "stream",
     "text": [
      " 39%|███▊      | 580/1500 [16:30<24:49,  1.62s/it]"
     ]
    },
    {
     "name": "stdout",
     "output_type": "stream",
     "text": [
      "Saved 동물위생시험소법 to 법령별 csv 저장\n"
     ]
    },
    {
     "name": "stderr",
     "output_type": "stream",
     "text": [
      " 39%|███▊      | 581/1500 [16:32<22:55,  1.50s/it]"
     ]
    },
    {
     "name": "stdout",
     "output_type": "stream",
     "text": [
      "Saved 동북아역사재단 설립ㆍ운영에 관한 법률 to 법령별 csv 저장\n"
     ]
    },
    {
     "name": "stderr",
     "output_type": "stream",
     "text": [
      " 39%|███▉      | 582/1500 [16:33<24:13,  1.58s/it]"
     ]
    },
    {
     "name": "stdout",
     "output_type": "stream",
     "text": [
      "Saved 동산ㆍ채권 등의 담보에 관한 법률 to 법령별 csv 저장\n"
     ]
    },
    {
     "name": "stderr",
     "output_type": "stream",
     "text": [
      " 39%|███▉      | 583/1500 [16:36<26:42,  1.75s/it]"
     ]
    },
    {
     "name": "stdout",
     "output_type": "stream",
     "text": [
      "Saved 동ㆍ서ㆍ남해안 및 내륙권 발전 특별법 to 법령별 csv 저장\n"
     ]
    },
    {
     "name": "stderr",
     "output_type": "stream",
     "text": [
      " 39%|███▉      | 584/1500 [16:37<24:24,  1.60s/it]"
     ]
    },
    {
     "name": "stdout",
     "output_type": "stream",
     "text": [
      "Saved 동의대 사건 희생자의 명예회복 및 보상에 관한 법률 to 법령별 csv 저장\n"
     ]
    },
    {
     "name": "stderr",
     "output_type": "stream",
     "text": [
      " 39%|███▉      | 585/1500 [16:38<23:23,  1.53s/it]"
     ]
    },
    {
     "name": "stdout",
     "output_type": "stream",
     "text": [
      "Saved 동학농민혁명 참여자 등의 명예회복에 관한 특별법 to 법령별 csv 저장\n"
     ]
    },
    {
     "name": "stderr",
     "output_type": "stream",
     "text": [
      " 39%|███▉      | 586/1500 [16:40<22:48,  1.50s/it]"
     ]
    },
    {
     "name": "stdout",
     "output_type": "stream",
     "text": [
      "Saved 드론 활용의 촉진 및 기반조성에 관한 법률 to 법령별 csv 저장\n"
     ]
    },
    {
     "name": "stderr",
     "output_type": "stream",
     "text": [
      " 39%|███▉      | 587/1500 [16:41<22:07,  1.45s/it]"
     ]
    },
    {
     "name": "stdout",
     "output_type": "stream",
     "text": [
      "Saved 드루킹의 인터넷상 불법 댓글 조작 사건과 관련된 진상규명을 위한 특별검사의 임명 등에 관한 법률 to 법령별 csv 저장\n"
     ]
    },
    {
     "name": "stderr",
     "output_type": "stream",
     "text": [
      " 39%|███▉      | 588/1500 [16:42<22:16,  1.47s/it]"
     ]
    },
    {
     "name": "stdout",
     "output_type": "stream",
     "text": [
      "Saved 등기특별회계법 to 법령별 csv 저장\n"
     ]
    },
    {
     "name": "stderr",
     "output_type": "stream",
     "text": [
      " 39%|███▉      | 589/1500 [16:44<22:09,  1.46s/it]"
     ]
    },
    {
     "name": "stdout",
     "output_type": "stream",
     "text": [
      "Saved 등대유산 보존 및 활용에 관한 법률 to 법령별 csv 저장\n"
     ]
    },
    {
     "name": "stderr",
     "output_type": "stream",
     "text": [
      " 39%|███▉      | 590/1500 [16:45<21:51,  1.44s/it]"
     ]
    },
    {
     "name": "stdout",
     "output_type": "stream",
     "text": [
      "Saved 디엔에이신원확인정보의 이용 및 보호에 관한 법률 to 법령별 csv 저장\n"
     ]
    },
    {
     "name": "stderr",
     "output_type": "stream",
     "text": [
      " 39%|███▉      | 591/1500 [16:48<28:05,  1.85s/it]"
     ]
    },
    {
     "name": "stdout",
     "output_type": "stream",
     "text": [
      "Saved 디자인보호법 to 법령별 csv 저장\n"
     ]
    },
    {
     "name": "stderr",
     "output_type": "stream",
     "text": [
      " 39%|███▉      | 592/1500 [16:50<25:57,  1.72s/it]"
     ]
    },
    {
     "name": "stdout",
     "output_type": "stream",
     "text": [
      "Saved 디지털 기반의 원격교육 활성화 기본법 to 법령별 csv 저장\n"
     ]
    },
    {
     "name": "stderr",
     "output_type": "stream",
     "text": [
      " 40%|███▉      | 593/1500 [16:51<25:59,  1.72s/it]"
     ]
    },
    {
     "name": "stdout",
     "output_type": "stream",
     "text": [
      "Saved 디지털의료제품법 to 법령별 csv 저장\n"
     ]
    },
    {
     "name": "stderr",
     "output_type": "stream",
     "text": [
      " 40%|███▉      | 594/1500 [16:53<25:50,  1.71s/it]"
     ]
    },
    {
     "name": "stdout",
     "output_type": "stream",
     "text": [
      "Saved 마리나항만의 조성 및 관리 등에 관한 법률 to 법령별 csv 저장\n"
     ]
    },
    {
     "name": "stderr",
     "output_type": "stream",
     "text": [
      " 40%|███▉      | 595/1500 [16:55<27:52,  1.85s/it]"
     ]
    },
    {
     "name": "stdout",
     "output_type": "stream",
     "text": [
      "Saved 마약류 관리에 관한 법률 to 법령별 csv 저장\n"
     ]
    },
    {
     "name": "stderr",
     "output_type": "stream",
     "text": [
      " 40%|███▉      | 596/1500 [16:57<26:57,  1.79s/it]"
     ]
    },
    {
     "name": "stdout",
     "output_type": "stream",
     "text": [
      "Saved 마약류 불법거래 방지에 관한 특례법 to 법령별 csv 저장\n"
     ]
    },
    {
     "name": "stderr",
     "output_type": "stream",
     "text": [
      " 40%|███▉      | 597/1500 [16:58<24:40,  1.64s/it]"
     ]
    },
    {
     "name": "stdout",
     "output_type": "stream",
     "text": [
      "Saved 만화진흥에 관한 법률 to 법령별 csv 저장\n"
     ]
    },
    {
     "name": "stderr",
     "output_type": "stream",
     "text": [
      " 40%|███▉      | 598/1500 [16:59<23:23,  1.56s/it]"
     ]
    },
    {
     "name": "stdout",
     "output_type": "stream",
     "text": [
      "Saved 말산업 육성법 to 법령별 csv 저장\n"
     ]
    },
    {
     "name": "stderr",
     "output_type": "stream",
     "text": [
      " 40%|███▉      | 599/1500 [17:01<24:05,  1.60s/it]"
     ]
    },
    {
     "name": "stdout",
     "output_type": "stream",
     "text": [
      "Saved 매장유산 보호 및 조사에 관한 법률 to 법령별 csv 저장\n"
     ]
    },
    {
     "name": "stderr",
     "output_type": "stream",
     "text": [
      " 40%|████      | 600/1500 [17:03<25:07,  1.68s/it]"
     ]
    },
    {
     "name": "stdout",
     "output_type": "stream",
     "text": [
      "Saved 먹는물관리법 to 법령별 csv 저장\n"
     ]
    },
    {
     "name": "stderr",
     "output_type": "stream",
     "text": [
      " 40%|████      | 601/1500 [17:05<25:36,  1.71s/it]"
     ]
    },
    {
     "name": "stdout",
     "output_type": "stream",
     "text": [
      "Saved 모빌리티 혁신 및 활성화 지원에 관한 법률 to 법령별 csv 저장\n"
     ]
    },
    {
     "name": "stderr",
     "output_type": "stream",
     "text": [
      " 40%|████      | 602/1500 [17:06<25:22,  1.70s/it]"
     ]
    },
    {
     "name": "stdout",
     "output_type": "stream",
     "text": [
      "Saved 모자보건법 to 법령별 csv 저장\n"
     ]
    },
    {
     "name": "stderr",
     "output_type": "stream",
     "text": [
      " 40%|████      | 603/1500 [17:08<25:22,  1.70s/it]"
     ]
    },
    {
     "name": "stdout",
     "output_type": "stream",
     "text": [
      "Saved 목재의 지속가능한 이용에 관한 법률 to 법령별 csv 저장\n"
     ]
    },
    {
     "name": "stderr",
     "output_type": "stream",
     "text": [
      " 40%|████      | 604/1500 [17:09<22:34,  1.51s/it]"
     ]
    },
    {
     "name": "stdout",
     "output_type": "stream",
     "text": [
      "Saved 몰수금품 등 처리에 관한 임시특례법 to 법령별 csv 저장\n"
     ]
    },
    {
     "name": "stderr",
     "output_type": "stream",
     "text": [
      " 40%|████      | 605/1500 [17:11<22:53,  1.53s/it]"
     ]
    },
    {
     "name": "stdout",
     "output_type": "stream",
     "text": [
      "Saved 무역거래기반 조성에 관한 법률 to 법령별 csv 저장\n"
     ]
    },
    {
     "name": "stderr",
     "output_type": "stream",
     "text": [
      " 40%|████      | 606/1500 [17:13<26:44,  1.79s/it]"
     ]
    },
    {
     "name": "stdout",
     "output_type": "stream",
     "text": [
      "Saved 무역보험법 to 법령별 csv 저장\n"
     ]
    },
    {
     "name": "stderr",
     "output_type": "stream",
     "text": [
      " 40%|████      | 607/1500 [17:15<27:38,  1.86s/it]"
     ]
    },
    {
     "name": "stdout",
     "output_type": "stream",
     "text": [
      "Saved 무인도서의 보전 및 관리에 관한 법률 to 법령별 csv 저장\n"
     ]
    },
    {
     "name": "stderr",
     "output_type": "stream",
     "text": [
      " 41%|████      | 608/1500 [17:17<26:47,  1.80s/it]"
     ]
    },
    {
     "name": "stdout",
     "output_type": "stream",
     "text": [
      "Saved 무형유산의 보전 및 진흥에 관한 법률 to 법령별 csv 저장\n"
     ]
    },
    {
     "name": "stderr",
     "output_type": "stream",
     "text": [
      " 41%|████      | 609/1500 [17:18<24:28,  1.65s/it]"
     ]
    },
    {
     "name": "stdout",
     "output_type": "stream",
     "text": [
      "Saved 문학진흥법 to 법령별 csv 저장\n"
     ]
    },
    {
     "name": "stderr",
     "output_type": "stream",
     "text": [
      " 41%|████      | 610/1500 [17:20<26:03,  1.76s/it]"
     ]
    },
    {
     "name": "stdout",
     "output_type": "stream",
     "text": [
      "Saved 문화기본법 to 법령별 csv 저장\n"
     ]
    },
    {
     "name": "stderr",
     "output_type": "stream",
     "text": [
      " 41%|████      | 611/1500 [17:22<24:02,  1.62s/it]"
     ]
    },
    {
     "name": "stdout",
     "output_type": "stream",
     "text": [
      "Saved 문화다양성의 보호와 증진에 관한 법률 to 법령별 csv 저장\n"
     ]
    },
    {
     "name": "stderr",
     "output_type": "stream",
     "text": [
      " 41%|████      | 612/1500 [17:24<25:54,  1.75s/it]"
     ]
    },
    {
     "name": "stdout",
     "output_type": "stream",
     "text": [
      "Saved 문화산업진흥 기본법 to 법령별 csv 저장\n"
     ]
    },
    {
     "name": "stderr",
     "output_type": "stream",
     "text": [
      " 41%|████      | 613/1500 [17:25<24:30,  1.66s/it]"
     ]
    },
    {
     "name": "stdout",
     "output_type": "stream",
     "text": [
      "Saved 문화예술교육 지원법 to 법령별 csv 저장\n"
     ]
    },
    {
     "name": "stderr",
     "output_type": "stream",
     "text": [
      " 41%|████      | 614/1500 [17:27<25:08,  1.70s/it]"
     ]
    },
    {
     "name": "stdout",
     "output_type": "stream",
     "text": [
      "Saved 문화예술진흥법 to 법령별 csv 저장\n"
     ]
    },
    {
     "name": "stderr",
     "output_type": "stream",
     "text": [
      " 41%|████      | 615/1500 [17:28<23:01,  1.56s/it]"
     ]
    },
    {
     "name": "stdout",
     "output_type": "stream",
     "text": [
      "Saved 문화예술후원 활성화에 관한 법률 to 법령별 csv 저장\n"
     ]
    },
    {
     "name": "stderr",
     "output_type": "stream",
     "text": [
      " 41%|████      | 616/1500 [17:29<22:07,  1.50s/it]"
     ]
    },
    {
     "name": "stdout",
     "output_type": "stream",
     "text": [
      "Saved 문화유산과 자연환경자산에 관한 국민신탁법 to 법령별 csv 저장\n"
     ]
    },
    {
     "name": "stderr",
     "output_type": "stream",
     "text": [
      " 41%|████      | 617/1500 [17:32<24:54,  1.69s/it]"
     ]
    },
    {
     "name": "stdout",
     "output_type": "stream",
     "text": [
      "Saved 문화유산의 보존 및 활용에 관한 법률 to 법령별 csv 저장\n"
     ]
    },
    {
     "name": "stderr",
     "output_type": "stream",
     "text": [
      " 41%|████      | 618/1500 [17:33<23:32,  1.60s/it]"
     ]
    },
    {
     "name": "stdout",
     "output_type": "stream",
     "text": [
      "Saved 물가안정에 관한 법률 to 법령별 csv 저장\n"
     ]
    },
    {
     "name": "stderr",
     "output_type": "stream",
     "text": [
      " 41%|████▏     | 619/1500 [17:34<22:07,  1.51s/it]"
     ]
    },
    {
     "name": "stdout",
     "output_type": "stream",
     "text": [
      "Saved 물관리기본법 to 법령별 csv 저장\n"
     ]
    },
    {
     "name": "stderr",
     "output_type": "stream",
     "text": [
      " 41%|████▏     | 620/1500 [17:36<21:15,  1.45s/it]"
     ]
    },
    {
     "name": "stdout",
     "output_type": "stream",
     "text": [
      "Saved 물관리기술 발전 및 물산업 진흥에 관한 법률 to 법령별 csv 저장\n"
     ]
    },
    {
     "name": "stderr",
     "output_type": "stream",
     "text": [
      " 41%|████▏     | 621/1500 [17:38<24:51,  1.70s/it]"
     ]
    },
    {
     "name": "stdout",
     "output_type": "stream",
     "text": [
      "Saved 물류시설의 개발 및 운영에 관한 법률 to 법령별 csv 저장\n"
     ]
    },
    {
     "name": "stderr",
     "output_type": "stream",
     "text": [
      " 41%|████▏     | 622/1500 [17:40<29:10,  1.99s/it]"
     ]
    },
    {
     "name": "stdout",
     "output_type": "stream",
     "text": [
      "Saved 물류정책기본법 to 법령별 csv 저장\n"
     ]
    },
    {
     "name": "stderr",
     "output_type": "stream",
     "text": [
      " 42%|████▏     | 623/1500 [17:42<26:15,  1.80s/it]"
     ]
    },
    {
     "name": "stdout",
     "output_type": "stream",
     "text": [
      "Saved 물순환 촉진 및 지원에 관한 법률 to 법령별 csv 저장\n"
     ]
    },
    {
     "name": "stderr",
     "output_type": "stream",
     "text": [
      " 42%|████▏     | 624/1500 [17:44<27:23,  1.88s/it]"
     ]
    },
    {
     "name": "stdout",
     "output_type": "stream",
     "text": [
      "Saved 물의 재이용 촉진 및 지원에 관한 법률 to 법령별 csv 저장\n"
     ]
    },
    {
     "name": "stderr",
     "output_type": "stream",
     "text": [
      " 42%|████▏     | 625/1500 [17:45<25:43,  1.76s/it]"
     ]
    },
    {
     "name": "stdout",
     "output_type": "stream",
     "text": [
      "Saved 물품관리법 to 법령별 csv 저장\n"
     ]
    },
    {
     "name": "stderr",
     "output_type": "stream",
     "text": [
      " 42%|████▏     | 626/1500 [17:47<24:16,  1.67s/it]"
     ]
    },
    {
     "name": "stdout",
     "output_type": "stream",
     "text": [
      "Saved 물품목록정보의 관리 및 이용에 관한 법률 to 법령별 csv 저장\n"
     ]
    },
    {
     "name": "stderr",
     "output_type": "stream",
     "text": [
      " 42%|████▏     | 627/1500 [17:50<29:27,  2.02s/it]"
     ]
    },
    {
     "name": "stdout",
     "output_type": "stream",
     "text": [
      "Saved 물환경보전법 to 법령별 csv 저장\n"
     ]
    },
    {
     "name": "stderr",
     "output_type": "stream",
     "text": [
      " 42%|████▏     | 628/1500 [17:51<26:48,  1.84s/it]"
     ]
    },
    {
     "name": "stdout",
     "output_type": "stream",
     "text": [
      "Saved 미래자동차 부품산업의 전환촉진 및 생태계 육성에 관한 특별법 to 법령별 csv 저장\n"
     ]
    },
    {
     "name": "stderr",
     "output_type": "stream",
     "text": [
      " 42%|████▏     | 629/1500 [17:52<24:34,  1.69s/it]"
     ]
    },
    {
     "name": "stdout",
     "output_type": "stream",
     "text": [
      "Saved 미세먼지 저감 및 관리에 관한 특별법 to 법령별 csv 저장\n"
     ]
    },
    {
     "name": "stderr",
     "output_type": "stream",
     "text": [
      " 42%|████▏     | 630/1500 [17:54<22:42,  1.57s/it]"
     ]
    },
    {
     "name": "stdout",
     "output_type": "stream",
     "text": [
      "Saved 미술진흥법 to 법령별 csv 저장\n"
     ]
    },
    {
     "name": "stderr",
     "output_type": "stream",
     "text": [
      " 42%|████▏     | 631/1500 [17:55<21:56,  1.51s/it]"
     ]
    },
    {
     "name": "stdout",
     "output_type": "stream",
     "text": [
      "Saved 민간인 통제선 이북지역의 산지관리에 관한 특별법 to 법령별 csv 저장\n"
     ]
    },
    {
     "name": "stderr",
     "output_type": "stream",
     "text": [
      " 42%|████▏     | 632/1500 [17:57<24:31,  1.69s/it]"
     ]
    },
    {
     "name": "stdout",
     "output_type": "stream",
     "text": [
      "Saved 민간임대주택에 관한 특별법 to 법령별 csv 저장\n"
     ]
    },
    {
     "name": "stderr",
     "output_type": "stream",
     "text": [
      " 42%|████▏     | 633/1500 [17:59<22:54,  1.59s/it]"
     ]
    },
    {
     "name": "stdout",
     "output_type": "stream",
     "text": [
      "Saved 민ㆍ군기술협력사업 촉진법 to 법령별 csv 저장\n"
     ]
    },
    {
     "name": "stderr",
     "output_type": "stream",
     "text": [
      " 42%|████▏     | 634/1500 [18:00<22:02,  1.53s/it]"
     ]
    },
    {
     "name": "stdout",
     "output_type": "stream",
     "text": [
      "Saved 민방위기본법 to 법령별 csv 저장\n"
     ]
    },
    {
     "name": "stderr",
     "output_type": "stream",
     "text": [
      " 42%|████▏     | 635/1500 [18:07<44:34,  3.09s/it]"
     ]
    },
    {
     "name": "stdout",
     "output_type": "stream",
     "text": [
      "Saved 민법 to 법령별 csv 저장\n"
     ]
    },
    {
     "name": "stderr",
     "output_type": "stream",
     "text": [
      " 42%|████▏     | 636/1500 [18:08<37:00,  2.57s/it]"
     ]
    },
    {
     "name": "stdout",
     "output_type": "stream",
     "text": [
      "Saved 민사소송 등에서의 전자문서 이용 등에 관한 법률 to 법령별 csv 저장\n"
     ]
    },
    {
     "name": "stderr",
     "output_type": "stream",
     "text": [
      " 42%|████▏     | 637/1500 [18:09<31:44,  2.21s/it]"
     ]
    },
    {
     "name": "stdout",
     "output_type": "stream",
     "text": [
      "Saved 민사소송 등 인지법 to 법령별 csv 저장\n"
     ]
    },
    {
     "name": "stderr",
     "output_type": "stream",
     "text": [
      " 43%|████▎     | 638/1500 [18:13<36:05,  2.51s/it]"
     ]
    },
    {
     "name": "stdout",
     "output_type": "stream",
     "text": [
      "Saved 민사소송법 to 법령별 csv 저장\n"
     ]
    },
    {
     "name": "stderr",
     "output_type": "stream",
     "text": [
      " 43%|████▎     | 639/1500 [18:14<31:06,  2.17s/it]"
     ]
    },
    {
     "name": "stdout",
     "output_type": "stream",
     "text": [
      "Saved 민사소송비용법 to 법령별 csv 저장\n"
     ]
    },
    {
     "name": "stderr",
     "output_type": "stream",
     "text": [
      " 43%|████▎     | 640/1500 [18:16<29:26,  2.05s/it]"
     ]
    },
    {
     "name": "stdout",
     "output_type": "stream",
     "text": [
      "Saved 민사조정법 to 법령별 csv 저장\n"
     ]
    },
    {
     "name": "stderr",
     "output_type": "stream",
     "text": [
      " 43%|████▎     | 641/1500 [18:18<31:10,  2.18s/it]"
     ]
    },
    {
     "name": "stdout",
     "output_type": "stream",
     "text": [
      "Saved 민사집행법 to 법령별 csv 저장\n"
     ]
    },
    {
     "name": "stderr",
     "output_type": "stream",
     "text": [
      " 43%|████▎     | 642/1500 [18:20<28:13,  1.97s/it]"
     ]
    },
    {
     "name": "stdout",
     "output_type": "stream",
     "text": [
      "Saved 민영교도소 등의 설치ㆍ운영에 관한 법률 to 법령별 csv 저장\n"
     ]
    },
    {
     "name": "stderr",
     "output_type": "stream",
     "text": [
      " 43%|████▎     | 643/1500 [18:21<25:18,  1.77s/it]"
     ]
    },
    {
     "name": "stdout",
     "output_type": "stream",
     "text": [
      "Saved 민원 처리에 관한 법률 to 법령별 csv 저장\n"
     ]
    },
    {
     "name": "stderr",
     "output_type": "stream",
     "text": [
      " 43%|████▎     | 644/1500 [18:22<23:41,  1.66s/it]"
     ]
    },
    {
     "name": "stdout",
     "output_type": "stream",
     "text": [
      "Saved 민주평화통일자문회의법 to 법령별 csv 저장\n"
     ]
    },
    {
     "name": "stderr",
     "output_type": "stream",
     "text": [
      " 43%|████▎     | 645/1500 [18:24<21:35,  1.52s/it]"
     ]
    },
    {
     "name": "stdout",
     "output_type": "stream",
     "text": [
      "Saved 민주화운동 관련자 명예회복 및 보상 등에 관한 법률 to 법령별 csv 저장\n"
     ]
    },
    {
     "name": "stderr",
     "output_type": "stream",
     "text": [
      " 43%|████▎     | 646/1500 [18:25<21:16,  1.50s/it]"
     ]
    },
    {
     "name": "stdout",
     "output_type": "stream",
     "text": [
      "Saved 민주화운동기념사업회법 to 법령별 csv 저장\n"
     ]
    },
    {
     "name": "stderr",
     "output_type": "stream",
     "text": [
      " 43%|████▎     | 647/1500 [18:26<19:57,  1.40s/it]"
     ]
    },
    {
     "name": "stdout",
     "output_type": "stream",
     "text": [
      "Saved 밀산업 육성법 to 법령별 csv 저장\n"
     ]
    },
    {
     "name": "stderr",
     "output_type": "stream",
     "text": [
      " 43%|████▎     | 648/1500 [18:28<20:03,  1.41s/it]"
     ]
    },
    {
     "name": "stdout",
     "output_type": "stream",
     "text": [
      "Saved 밀항단속법 to 법령별 csv 저장\n"
     ]
    },
    {
     "name": "stderr",
     "output_type": "stream",
     "text": [
      " 43%|████▎     | 649/1500 [18:29<19:36,  1.38s/it]"
     ]
    },
    {
     "name": "stdout",
     "output_type": "stream",
     "text": [
      "Saved 바둑 진흥법 to 법령별 csv 저장\n"
     ]
    },
    {
     "name": "stderr",
     "output_type": "stream",
     "text": [
      " 43%|████▎     | 650/1500 [18:30<18:34,  1.31s/it]"
     ]
    },
    {
     "name": "stdout",
     "output_type": "stream",
     "text": [
      "Saved 바르게살기운동조직 육성법 to 법령별 csv 저장\n"
     ]
    },
    {
     "name": "stderr",
     "output_type": "stream",
     "text": [
      " 43%|████▎     | 651/1500 [18:32<20:20,  1.44s/it]"
     ]
    },
    {
     "name": "stdout",
     "output_type": "stream",
     "text": [
      "Saved 박근혜 정부의 최순실 등 민간인에 의한 국정농단 의혹 사건 규명을 위한 특별검사의 임명 등에 관한 법률 to 법령별 csv 저장\n"
     ]
    },
    {
     "name": "stderr",
     "output_type": "stream",
     "text": [
      " 43%|████▎     | 652/1500 [18:34<22:46,  1.61s/it]"
     ]
    },
    {
     "name": "stdout",
     "output_type": "stream",
     "text": [
      "Saved 박물관 및 미술관 진흥법 to 법령별 csv 저장\n"
     ]
    },
    {
     "name": "stderr",
     "output_type": "stream",
     "text": [
      " 44%|████▎     | 653/1500 [18:35<21:22,  1.51s/it]"
     ]
    },
    {
     "name": "stdout",
     "output_type": "stream",
     "text": [
      "Saved 반도체집적회로의 배치설계에 관한 법률 to 법령별 csv 저장\n"
     ]
    },
    {
     "name": "stderr",
     "output_type": "stream",
     "text": [
      " 44%|████▎     | 654/1500 [18:37<20:33,  1.46s/it]"
     ]
    },
    {
     "name": "stdout",
     "output_type": "stream",
     "text": [
      "Saved 발달장애인 권리보장 및 지원에 관한 법률 to 법령별 csv 저장\n"
     ]
    },
    {
     "name": "stderr",
     "output_type": "stream",
     "text": [
      " 44%|████▎     | 655/1500 [18:38<19:45,  1.40s/it]"
     ]
    },
    {
     "name": "stdout",
     "output_type": "stream",
     "text": [
      "Saved 발명교육의 활성화 및 지원에 관한 법률 to 법령별 csv 저장\n"
     ]
    },
    {
     "name": "stderr",
     "output_type": "stream",
     "text": [
      " 44%|████▎     | 656/1500 [18:40<22:51,  1.62s/it]"
     ]
    },
    {
     "name": "stdout",
     "output_type": "stream",
     "text": [
      "Saved 발명진흥법 to 법령별 csv 저장\n"
     ]
    },
    {
     "name": "stderr",
     "output_type": "stream",
     "text": [
      " 44%|████▍     | 657/1500 [18:41<22:06,  1.57s/it]"
     ]
    },
    {
     "name": "stdout",
     "output_type": "stream",
     "text": [
      "Saved 발전소주변지역 지원에 관한 법률 to 법령별 csv 저장\n"
     ]
    },
    {
     "name": "stderr",
     "output_type": "stream",
     "text": [
      " 44%|████▍     | 658/1500 [18:43<22:11,  1.58s/it]"
     ]
    },
    {
     "name": "stdout",
     "output_type": "stream",
     "text": [
      "Saved 방문판매 등에 관한 법률 to 법령별 csv 저장\n"
     ]
    },
    {
     "name": "stderr",
     "output_type": "stream",
     "text": [
      " 44%|████▍     | 659/1500 [18:44<20:53,  1.49s/it]"
     ]
    },
    {
     "name": "stdout",
     "output_type": "stream",
     "text": [
      "Saved 방사선 및 방사성동위원소 이용진흥법 to 법령별 csv 저장\n"
     ]
    },
    {
     "name": "stderr",
     "output_type": "stream",
     "text": [
      " 44%|████▍     | 660/1500 [18:46<20:17,  1.45s/it]"
     ]
    },
    {
     "name": "stdout",
     "output_type": "stream",
     "text": [
      "Saved 방사성폐기물 관리법 to 법령별 csv 저장\n"
     ]
    },
    {
     "name": "stderr",
     "output_type": "stream",
     "text": [
      " 44%|████▍     | 661/1500 [18:47<19:59,  1.43s/it]"
     ]
    },
    {
     "name": "stdout",
     "output_type": "stream",
     "text": [
      "Saved 방송광고판매대행 등에 관한 법률 to 법령별 csv 저장\n"
     ]
    },
    {
     "name": "stderr",
     "output_type": "stream",
     "text": [
      " 44%|████▍     | 662/1500 [18:48<18:55,  1.36s/it]"
     ]
    },
    {
     "name": "stdout",
     "output_type": "stream",
     "text": [
      "Saved 방송문화진흥회법 to 법령별 csv 저장\n"
     ]
    },
    {
     "name": "stderr",
     "output_type": "stream",
     "text": [
      " 44%|████▍     | 663/1500 [18:51<24:00,  1.72s/it]"
     ]
    },
    {
     "name": "stdout",
     "output_type": "stream",
     "text": [
      "Saved 방송법 to 법령별 csv 저장\n"
     ]
    },
    {
     "name": "stderr",
     "output_type": "stream",
     "text": [
      " 44%|████▍     | 664/1500 [18:52<23:58,  1.72s/it]"
     ]
    },
    {
     "name": "stdout",
     "output_type": "stream",
     "text": [
      "Saved 방송통신발전 기본법 to 법령별 csv 저장\n"
     ]
    },
    {
     "name": "stderr",
     "output_type": "stream",
     "text": [
      " 44%|████▍     | 665/1500 [18:54<22:48,  1.64s/it]"
     ]
    },
    {
     "name": "stdout",
     "output_type": "stream",
     "text": [
      "Saved 방송통신위원회의 설치 및 운영에 관한 법률 to 법령별 csv 저장\n"
     ]
    },
    {
     "name": "stderr",
     "output_type": "stream",
     "text": [
      " 44%|████▍     | 666/1500 [18:56<23:02,  1.66s/it]"
     ]
    },
    {
     "name": "stdout",
     "output_type": "stream",
     "text": [
      "Saved 방어해면법 to 법령별 csv 저장\n"
     ]
    },
    {
     "name": "stderr",
     "output_type": "stream",
     "text": [
      " 44%|████▍     | 667/1500 [18:57<23:09,  1.67s/it]"
     ]
    },
    {
     "name": "stdout",
     "output_type": "stream",
     "text": [
      "Saved 방위사업법 to 법령별 csv 저장\n"
     ]
    },
    {
     "name": "stderr",
     "output_type": "stream",
     "text": [
      " 45%|████▍     | 668/1500 [18:59<22:19,  1.61s/it]"
     ]
    },
    {
     "name": "stdout",
     "output_type": "stream",
     "text": [
      "Saved 방위산업기술 보호법 to 법령별 csv 저장\n"
     ]
    },
    {
     "name": "stderr",
     "output_type": "stream",
     "text": [
      " 45%|████▍     | 669/1500 [19:00<21:56,  1.58s/it]"
     ]
    },
    {
     "name": "stdout",
     "output_type": "stream",
     "text": [
      "Saved 방위산업 발전 및 지원에 관한 법률 to 법령별 csv 저장\n"
     ]
    },
    {
     "name": "stderr",
     "output_type": "stream",
     "text": [
      " 45%|████▍     | 670/1500 [19:02<20:32,  1.48s/it]"
     ]
    },
    {
     "name": "stdout",
     "output_type": "stream",
     "text": [
      "Saved 방조제 관리법 to 법령별 csv 저장\n"
     ]
    },
    {
     "name": "stderr",
     "output_type": "stream",
     "text": [
      " 45%|████▍     | 671/1500 [19:03<20:27,  1.48s/it]"
     ]
    },
    {
     "name": "stdout",
     "output_type": "stream",
     "text": [
      "Saved 배타적 경제수역 및 대륙붕에 관한 법률 to 법령별 csv 저장\n"
     ]
    },
    {
     "name": "stderr",
     "output_type": "stream",
     "text": [
      " 45%|████▍     | 672/1500 [19:04<20:06,  1.46s/it]"
     ]
    },
    {
     "name": "stdout",
     "output_type": "stream",
     "text": [
      "Saved 배타적 경제수역에서의 외국인어업 등에 대한 주권적 권리의 행사에 관한 법률 to 법령별 csv 저장\n"
     ]
    },
    {
     "name": "stderr",
     "output_type": "stream",
     "text": [
      " 45%|████▍     | 673/1500 [19:06<19:25,  1.41s/it]"
     ]
    },
    {
     "name": "stdout",
     "output_type": "stream",
     "text": [
      "Saved 백두대간 보호에 관한 법률 to 법령별 csv 저장\n"
     ]
    },
    {
     "name": "stderr",
     "output_type": "stream",
     "text": [
      " 45%|████▍     | 674/1500 [19:07<18:00,  1.31s/it]"
     ]
    },
    {
     "name": "stdout",
     "output_type": "stream",
     "text": [
      "Saved 벌금 등 임시조치법 to 법령별 csv 저장\n"
     ]
    },
    {
     "name": "stderr",
     "output_type": "stream",
     "text": [
      " 45%|████▌     | 675/1500 [19:08<17:23,  1.26s/it]"
     ]
    },
    {
     "name": "stdout",
     "output_type": "stream",
     "text": [
      "Saved 벌금 미납자의 사회봉사 집행에 관한 특례법 to 법령별 csv 저장\n"
     ]
    },
    {
     "name": "stderr",
     "output_type": "stream",
     "text": [
      " 45%|████▌     | 676/1500 [19:09<17:33,  1.28s/it]"
     ]
    },
    {
     "name": "stdout",
     "output_type": "stream",
     "text": [
      "Saved 범죄수익은닉의 규제 및 처벌 등에 관한 법률 to 법령별 csv 저장\n"
     ]
    },
    {
     "name": "stderr",
     "output_type": "stream",
     "text": [
      " 45%|████▌     | 677/1500 [19:11<18:18,  1.34s/it]"
     ]
    },
    {
     "name": "stdout",
     "output_type": "stream",
     "text": [
      "Saved 범죄인 인도법 to 법령별 csv 저장\n"
     ]
    },
    {
     "name": "stderr",
     "output_type": "stream",
     "text": [
      " 45%|████▌     | 678/1500 [19:12<17:57,  1.31s/it]"
     ]
    },
    {
     "name": "stdout",
     "output_type": "stream",
     "text": [
      "Saved 범죄피해자보호기금법 to 법령별 csv 저장\n"
     ]
    },
    {
     "name": "stderr",
     "output_type": "stream",
     "text": [
      " 45%|████▌     | 679/1500 [19:14<20:39,  1.51s/it]"
     ]
    },
    {
     "name": "stdout",
     "output_type": "stream",
     "text": [
      "Saved 범죄피해자 보호법 to 법령별 csv 저장\n"
     ]
    },
    {
     "name": "stderr",
     "output_type": "stream",
     "text": [
      " 45%|████▌     | 680/1500 [19:15<19:01,  1.39s/it]"
     ]
    },
    {
     "name": "stdout",
     "output_type": "stream",
     "text": [
      "Saved 법관의 보수에 관한 법률 to 법령별 csv 저장\n"
     ]
    },
    {
     "name": "stderr",
     "output_type": "stream",
     "text": [
      " 45%|████▌     | 681/1500 [19:17<19:41,  1.44s/it]"
     ]
    },
    {
     "name": "stdout",
     "output_type": "stream",
     "text": [
      "Saved 법관징계법 to 법령별 csv 저장\n"
     ]
    },
    {
     "name": "stderr",
     "output_type": "stream",
     "text": [
      " 45%|████▌     | 682/1500 [19:18<18:20,  1.34s/it]"
     ]
    },
    {
     "name": "stdout",
     "output_type": "stream",
     "text": [
      "Saved 법교육지원법 to 법령별 csv 저장\n"
     ]
    },
    {
     "name": "stderr",
     "output_type": "stream",
     "text": [
      " 46%|████▌     | 683/1500 [19:19<17:58,  1.32s/it]"
     ]
    },
    {
     "name": "stdout",
     "output_type": "stream",
     "text": [
      "Saved 법령 등 공포에 관한 법률 to 법령별 csv 저장\n"
     ]
    },
    {
     "name": "stderr",
     "output_type": "stream",
     "text": [
      " 46%|████▌     | 684/1500 [19:21<19:38,  1.44s/it]"
     ]
    },
    {
     "name": "stdout",
     "output_type": "stream",
     "text": [
      "Saved 법령정보의 관리 및 제공에 관한 법률 to 법령별 csv 저장\n"
     ]
    },
    {
     "name": "stderr",
     "output_type": "stream",
     "text": [
      " 46%|████▌     | 685/1500 [19:22<18:56,  1.39s/it]"
     ]
    },
    {
     "name": "stdout",
     "output_type": "stream",
     "text": [
      "Saved 법률구조법 to 법령별 csv 저장\n"
     ]
    },
    {
     "name": "stderr",
     "output_type": "stream",
     "text": [
      " 46%|████▌     | 686/1500 [19:24<20:18,  1.50s/it]"
     ]
    },
    {
     "name": "stdout",
     "output_type": "stream",
     "text": [
      "Saved 법무사법 to 법령별 csv 저장\n"
     ]
    },
    {
     "name": "stderr",
     "output_type": "stream",
     "text": [
      " 46%|████▌     | 687/1500 [19:25<18:45,  1.38s/it]"
     ]
    },
    {
     "name": "stdout",
     "output_type": "stream",
     "text": [
      "Saved 법원재난에 기인한 민형사사건 임시조치법 to 법령별 csv 저장\n"
     ]
    },
    {
     "name": "stderr",
     "output_type": "stream",
     "text": [
      " 46%|████▌     | 688/1500 [19:27<21:41,  1.60s/it]"
     ]
    },
    {
     "name": "stdout",
     "output_type": "stream",
     "text": [
      "Saved 법원조직법 to 법령별 csv 저장\n"
     ]
    },
    {
     "name": "stderr",
     "output_type": "stream",
     "text": [
      " 46%|████▌     | 689/1500 [19:30<28:28,  2.11s/it]"
     ]
    },
    {
     "name": "stdout",
     "output_type": "stream",
     "text": [
      "Saved 법인세법 to 법령별 csv 저장\n"
     ]
    },
    {
     "name": "stderr",
     "output_type": "stream",
     "text": [
      " 46%|████▌     | 690/1500 [19:32<25:08,  1.86s/it]"
     ]
    },
    {
     "name": "stdout",
     "output_type": "stream",
     "text": [
      "Saved 법인의 등기사항 등에 관한 특례법 to 법령별 csv 저장\n"
     ]
    },
    {
     "name": "stderr",
     "output_type": "stream",
     "text": [
      " 46%|████▌     | 691/1500 [19:33<23:23,  1.73s/it]"
     ]
    },
    {
     "name": "stdout",
     "output_type": "stream",
     "text": [
      "Saved 법학전문대학원 설치ㆍ운영에 관한 법률 to 법령별 csv 저장\n"
     ]
    },
    {
     "name": "stderr",
     "output_type": "stream",
     "text": [
      " 46%|████▌     | 692/1500 [19:35<24:54,  1.85s/it]"
     ]
    },
    {
     "name": "stdout",
     "output_type": "stream",
     "text": [
      "Saved 벤처기업육성에 관한 특별법 to 법령별 csv 저장\n"
     ]
    },
    {
     "name": "stderr",
     "output_type": "stream",
     "text": [
      " 46%|████▌     | 693/1500 [19:37<25:45,  1.92s/it]"
     ]
    },
    {
     "name": "stdout",
     "output_type": "stream",
     "text": [
      "Saved 벤처투자 촉진에 관한 법률 to 법령별 csv 저장\n"
     ]
    },
    {
     "name": "stderr",
     "output_type": "stream",
     "text": [
      " 46%|████▋     | 694/1500 [19:39<23:53,  1.78s/it]"
     ]
    },
    {
     "name": "stdout",
     "output_type": "stream",
     "text": [
      "Saved 변리사법 to 법령별 csv 저장\n"
     ]
    },
    {
     "name": "stderr",
     "output_type": "stream",
     "text": [
      " 46%|████▋     | 695/1500 [19:41<24:17,  1.81s/it]"
     ]
    },
    {
     "name": "stdout",
     "output_type": "stream",
     "text": [
      "Saved 변호사법 to 법령별 csv 저장\n"
     ]
    },
    {
     "name": "stderr",
     "output_type": "stream",
     "text": [
      " 46%|████▋     | 696/1500 [19:42<22:15,  1.66s/it]"
     ]
    },
    {
     "name": "stdout",
     "output_type": "stream",
     "text": [
      "Saved 변호사시험법 to 법령별 csv 저장\n"
     ]
    },
    {
     "name": "stderr",
     "output_type": "stream",
     "text": [
      " 46%|████▋     | 697/1500 [19:44<23:36,  1.76s/it]"
     ]
    },
    {
     "name": "stdout",
     "output_type": "stream",
     "text": [
      "Saved 별정우체국법 to 법령별 csv 저장\n"
     ]
    },
    {
     "name": "stderr",
     "output_type": "stream",
     "text": [
      " 47%|████▋     | 698/1500 [19:48<31:21,  2.35s/it]"
     ]
    },
    {
     "name": "stdout",
     "output_type": "stream",
     "text": [
      "Saved 병역법 to 법령별 csv 저장\n"
     ]
    },
    {
     "name": "stderr",
     "output_type": "stream",
     "text": [
      " 47%|████▋     | 699/1500 [19:49<27:25,  2.05s/it]"
     ]
    },
    {
     "name": "stdout",
     "output_type": "stream",
     "text": [
      "Saved 병원체자원의 수집ㆍ관리 및 활용 촉진에 관한 법률 to 법령별 csv 저장\n"
     ]
    },
    {
     "name": "stderr",
     "output_type": "stream",
     "text": [
      " 47%|████▋     | 700/1500 [19:50<24:17,  1.82s/it]"
     ]
    },
    {
     "name": "stdout",
     "output_type": "stream",
     "text": [
      "Saved 보건범죄 단속에 관한 특별조치법 to 법령별 csv 저장\n"
     ]
    },
    {
     "name": "stderr",
     "output_type": "stream",
     "text": [
      " 47%|████▋     | 701/1500 [19:52<23:02,  1.73s/it]"
     ]
    },
    {
     "name": "stdout",
     "output_type": "stream",
     "text": [
      "Saved 보건의료기본법 to 법령별 csv 저장\n"
     ]
    },
    {
     "name": "stderr",
     "output_type": "stream",
     "text": [
      " 47%|████▋     | 702/1500 [19:53<22:20,  1.68s/it]"
     ]
    },
    {
     "name": "stdout",
     "output_type": "stream",
     "text": [
      "Saved 보건의료기술 진흥법 to 법령별 csv 저장\n"
     ]
    },
    {
     "name": "stderr",
     "output_type": "stream",
     "text": [
      " 47%|████▋     | 703/1500 [19:54<20:17,  1.53s/it]"
     ]
    },
    {
     "name": "stdout",
     "output_type": "stream",
     "text": [
      "Saved 보건의료인력지원법 to 법령별 csv 저장\n"
     ]
    },
    {
     "name": "stderr",
     "output_type": "stream",
     "text": [
      " 47%|████▋     | 704/1500 [19:56<19:20,  1.46s/it]"
     ]
    },
    {
     "name": "stdout",
     "output_type": "stream",
     "text": [
      "Saved 보건환경연구원법 to 법령별 csv 저장\n"
     ]
    },
    {
     "name": "stderr",
     "output_type": "stream",
     "text": [
      " 47%|████▋     | 705/1500 [19:57<18:03,  1.36s/it]"
     ]
    },
    {
     "name": "stdout",
     "output_type": "stream",
     "text": [
      "Saved 보안관찰법 to 법령별 csv 저장\n"
     ]
    },
    {
     "name": "stderr",
     "output_type": "stream",
     "text": [
      " 47%|████▋     | 706/1500 [19:59<19:47,  1.50s/it]"
     ]
    },
    {
     "name": "stdout",
     "output_type": "stream",
     "text": [
      "Saved 보조금 관리에 관한 법률 to 법령별 csv 저장\n"
     ]
    },
    {
     "name": "stderr",
     "output_type": "stream",
     "text": [
      " 47%|████▋     | 707/1500 [20:00<18:12,  1.38s/it]"
     ]
    },
    {
     "name": "stdout",
     "output_type": "stream",
     "text": [
      "Saved 보증인 보호를 위한 특별법 to 법령별 csv 저장\n"
     ]
    },
    {
     "name": "stderr",
     "output_type": "stream",
     "text": [
      " 47%|████▋     | 708/1500 [20:01<18:47,  1.42s/it]"
     ]
    },
    {
     "name": "stdout",
     "output_type": "stream",
     "text": [
      "Saved 보행안전 및 편의증진에 관한 법률 to 법령별 csv 저장\n"
     ]
    },
    {
     "name": "stderr",
     "output_type": "stream",
     "text": [
      " 47%|████▋     | 709/1500 [20:03<18:24,  1.40s/it]"
     ]
    },
    {
     "name": "stdout",
     "output_type": "stream",
     "text": [
      "Saved 보험사기방지 특별법 to 법령별 csv 저장\n"
     ]
    },
    {
     "name": "stderr",
     "output_type": "stream",
     "text": [
      " 47%|████▋     | 710/1500 [20:05<22:34,  1.71s/it]"
     ]
    },
    {
     "name": "stdout",
     "output_type": "stream",
     "text": [
      "Saved 보험업법 to 법령별 csv 저장\n"
     ]
    },
    {
     "name": "stderr",
     "output_type": "stream",
     "text": [
      " 47%|████▋     | 711/1500 [20:08<25:17,  1.92s/it]"
     ]
    },
    {
     "name": "stdout",
     "output_type": "stream",
     "text": [
      "Saved 보호관찰 등에 관한 법률 to 법령별 csv 저장\n"
     ]
    },
    {
     "name": "stderr",
     "output_type": "stream",
     "text": [
      " 47%|████▋     | 712/1500 [20:09<23:53,  1.82s/it]"
     ]
    },
    {
     "name": "stdout",
     "output_type": "stream",
     "text": [
      "Saved 보호소년 등의 처우에 관한 법률 to 법령별 csv 저장\n"
     ]
    },
    {
     "name": "stderr",
     "output_type": "stream",
     "text": [
      " 48%|████▊     | 713/1500 [20:10<21:33,  1.64s/it]"
     ]
    },
    {
     "name": "stdout",
     "output_type": "stream",
     "text": [
      "Saved 보호시설에 있는 미성년자의 후견 직무에 관한 법률 to 법령별 csv 저장\n"
     ]
    },
    {
     "name": "stderr",
     "output_type": "stream",
     "text": [
      " 48%|████▊     | 714/1500 [20:12<21:06,  1.61s/it]"
     ]
    },
    {
     "name": "stdout",
     "output_type": "stream",
     "text": [
      "Saved 보훈기금법 to 법령별 csv 저장\n"
     ]
    },
    {
     "name": "stderr",
     "output_type": "stream",
     "text": [
      " 48%|████▊     | 715/1500 [20:14<21:41,  1.66s/it]"
     ]
    },
    {
     "name": "stdout",
     "output_type": "stream",
     "text": [
      "Saved 보훈보상대상자 지원에 관한 법률 to 법령별 csv 저장\n"
     ]
    },
    {
     "name": "stderr",
     "output_type": "stream",
     "text": [
      " 48%|████▊     | 716/1500 [20:15<20:56,  1.60s/it]"
     ]
    },
    {
     "name": "stdout",
     "output_type": "stream",
     "text": [
      "Saved 복권 및 복권기금법 to 법령별 csv 저장\n"
     ]
    },
    {
     "name": "stderr",
     "output_type": "stream",
     "text": [
      " 48%|████▊     | 717/1500 [20:16<19:16,  1.48s/it]"
     ]
    },
    {
     "name": "stdout",
     "output_type": "stream",
     "text": [
      "Saved 본인서명사실 확인 등에 관한 법률 to 법령별 csv 저장\n"
     ]
    },
    {
     "name": "stderr",
     "output_type": "stream",
     "text": [
      " 48%|████▊     | 718/1500 [20:19<25:04,  1.92s/it]"
     ]
    },
    {
     "name": "stdout",
     "output_type": "stream",
     "text": [
      "Saved 부가가치세법 to 법령별 csv 저장\n"
     ]
    },
    {
     "name": "stderr",
     "output_type": "stream",
     "text": [
      " 48%|████▊     | 719/1500 [20:21<24:18,  1.87s/it]"
     ]
    },
    {
     "name": "stdout",
     "output_type": "stream",
     "text": [
      "Saved 부담금관리 기본법 to 법령별 csv 저장\n"
     ]
    },
    {
     "name": "stderr",
     "output_type": "stream",
     "text": [
      " 48%|████▊     | 720/1500 [20:22<21:33,  1.66s/it]"
     ]
    },
    {
     "name": "stdout",
     "output_type": "stream",
     "text": [
      "Saved 부도공공건설임대주택 임차인 보호를 위한 특별법 to 법령별 csv 저장\n"
     ]
    },
    {
     "name": "stderr",
     "output_type": "stream",
     "text": [
      " 48%|████▊     | 721/1500 [20:23<20:02,  1.54s/it]"
     ]
    },
    {
     "name": "stdout",
     "output_type": "stream",
     "text": [
      "Saved 부동산 가격공시에 관한 법률 to 법령별 csv 저장\n"
     ]
    },
    {
     "name": "stderr",
     "output_type": "stream",
     "text": [
      " 48%|████▊     | 722/1500 [20:25<19:46,  1.52s/it]"
     ]
    },
    {
     "name": "stdout",
     "output_type": "stream",
     "text": [
      "Saved 부동산개발업의 관리 및 육성에 관한 법률 to 법령별 csv 저장\n"
     ]
    },
    {
     "name": "stderr",
     "output_type": "stream",
     "text": [
      " 48%|████▊     | 723/1500 [20:26<19:41,  1.52s/it]"
     ]
    },
    {
     "name": "stdout",
     "output_type": "stream",
     "text": [
      "Saved 부동산 거래신고 등에 관한 법률 to 법령별 csv 저장\n"
     ]
    },
    {
     "name": "stderr",
     "output_type": "stream",
     "text": [
      " 48%|████▊     | 724/1500 [20:29<21:50,  1.69s/it]"
     ]
    },
    {
     "name": "stdout",
     "output_type": "stream",
     "text": [
      "Saved 부동산등기법 to 법령별 csv 저장\n"
     ]
    },
    {
     "name": "stderr",
     "output_type": "stream",
     "text": [
      " 48%|████▊     | 725/1500 [20:30<20:09,  1.56s/it]"
     ]
    },
    {
     "name": "stdout",
     "output_type": "stream",
     "text": [
      "Saved 부동산등기 특별조치법 to 법령별 csv 저장\n"
     ]
    },
    {
     "name": "stderr",
     "output_type": "stream",
     "text": [
      " 48%|████▊     | 726/1500 [20:31<20:29,  1.59s/it]"
     ]
    },
    {
     "name": "stdout",
     "output_type": "stream",
     "text": [
      "Saved 부동산서비스산업 진흥법 to 법령별 csv 저장\n"
     ]
    },
    {
     "name": "stderr",
     "output_type": "stream",
     "text": [
      " 48%|████▊     | 727/1500 [20:33<18:44,  1.46s/it]"
     ]
    },
    {
     "name": "stdout",
     "output_type": "stream",
     "text": [
      "Saved 부동산 실권리자명의 등기에 관한 법률 to 법령별 csv 저장\n"
     ]
    },
    {
     "name": "stderr",
     "output_type": "stream",
     "text": [
      " 49%|████▊     | 728/1500 [20:35<22:19,  1.74s/it]"
     ]
    },
    {
     "name": "stdout",
     "output_type": "stream",
     "text": [
      "Saved 부동산투자회사법 to 법령별 csv 저장\n"
     ]
    },
    {
     "name": "stderr",
     "output_type": "stream",
     "text": [
      " 49%|████▊     | 729/1500 [20:36<20:32,  1.60s/it]"
     ]
    },
    {
     "name": "stdout",
     "output_type": "stream",
     "text": [
      "Saved 부마민주항쟁 관련자의 명예회복 및 보상 등에 관한 법률 to 법령별 csv 저장\n"
     ]
    },
    {
     "name": "stderr",
     "output_type": "stream",
     "text": [
      " 49%|████▊     | 730/1500 [20:38<19:15,  1.50s/it]"
     ]
    },
    {
     "name": "stdout",
     "output_type": "stream",
     "text": [
      "Saved 부재선고에 관한 특별조치법 to 법령별 csv 저장\n"
     ]
    },
    {
     "name": "stderr",
     "output_type": "stream",
     "text": [
      " 49%|████▊     | 731/1500 [20:39<19:05,  1.49s/it]"
     ]
    },
    {
     "name": "stdout",
     "output_type": "stream",
     "text": [
      "Saved 부정경쟁방지 및 영업비밀보호에 관한 법률 to 법령별 csv 저장\n"
     ]
    },
    {
     "name": "stderr",
     "output_type": "stream",
     "text": [
      " 49%|████▉     | 732/1500 [20:40<17:54,  1.40s/it]"
     ]
    },
    {
     "name": "stdout",
     "output_type": "stream",
     "text": [
      "Saved 부정수표 단속법 to 법령별 csv 저장\n"
     ]
    },
    {
     "name": "stderr",
     "output_type": "stream",
     "text": [
      " 49%|████▉     | 733/1500 [20:42<19:13,  1.50s/it]"
     ]
    },
    {
     "name": "stdout",
     "output_type": "stream",
     "text": [
      "Saved 부정청탁 및 금품등 수수의 금지에 관한 법률 to 법령별 csv 저장\n"
     ]
    },
    {
     "name": "stderr",
     "output_type": "stream",
     "text": [
      " 49%|████▉     | 734/1500 [20:44<20:02,  1.57s/it]"
     ]
    },
    {
     "name": "stdout",
     "output_type": "stream",
     "text": [
      "Saved 부패방지 및 국민권익위원회의 설치와 운영에 관한 법률 to 법령별 csv 저장\n"
     ]
    },
    {
     "name": "stderr",
     "output_type": "stream",
     "text": [
      " 49%|████▉     | 735/1500 [20:45<18:40,  1.46s/it]"
     ]
    },
    {
     "name": "stdout",
     "output_type": "stream",
     "text": [
      "Saved 부패재산의 몰수 및 회복에 관한 특례법 to 법령별 csv 저장\n"
     ]
    },
    {
     "name": "stderr",
     "output_type": "stream",
     "text": [
      " 49%|████▉     | 736/1500 [20:46<18:49,  1.48s/it]"
     ]
    },
    {
     "name": "stdout",
     "output_type": "stream",
     "text": [
      "Saved 북한이탈주민의 보호 및 정착지원에 관한 법률 to 법령별 csv 저장\n"
     ]
    },
    {
     "name": "stderr",
     "output_type": "stream",
     "text": [
      " 49%|████▉     | 737/1500 [20:48<17:57,  1.41s/it]"
     ]
    },
    {
     "name": "stdout",
     "output_type": "stream",
     "text": [
      "Saved 북한인권법 to 법령별 csv 저장\n"
     ]
    },
    {
     "name": "stderr",
     "output_type": "stream",
     "text": [
      " 49%|████▉     | 738/1500 [20:49<17:45,  1.40s/it]"
     ]
    },
    {
     "name": "stdout",
     "output_type": "stream",
     "text": [
      "Saved 분산에너지 활성화 특별법 to 법령별 csv 저장\n"
     ]
    },
    {
     "name": "stderr",
     "output_type": "stream",
     "text": [
      " 49%|████▉     | 739/1500 [20:50<17:42,  1.40s/it]"
     ]
    },
    {
     "name": "stdout",
     "output_type": "stream",
     "text": [
      "Saved 불공정무역행위 조사 및 산업피해구제에 관한 법률 to 법령별 csv 저장\n"
     ]
    },
    {
     "name": "stderr",
     "output_type": "stream",
     "text": [
      " 49%|████▉     | 740/1500 [20:52<17:30,  1.38s/it]"
     ]
    },
    {
     "name": "stdout",
     "output_type": "stream",
     "text": [
      "Saved 불법정치자금 등의 몰수에 관한 특례법 to 법령별 csv 저장\n"
     ]
    },
    {
     "name": "stderr",
     "output_type": "stream",
     "text": [
      " 49%|████▉     | 741/1500 [20:53<18:41,  1.48s/it]"
     ]
    },
    {
     "name": "stdout",
     "output_type": "stream",
     "text": [
      "Saved 비료관리법 to 법령별 csv 저장\n"
     ]
    },
    {
     "name": "stderr",
     "output_type": "stream",
     "text": [
      " 49%|████▉     | 742/1500 [20:55<18:30,  1.46s/it]"
     ]
    },
    {
     "name": "stdout",
     "output_type": "stream",
     "text": [
      "Saved 비상대비에 관한 법률 to 법령별 csv 저장\n"
     ]
    },
    {
     "name": "stderr",
     "output_type": "stream",
     "text": [
      " 50%|████▉     | 743/1500 [20:56<18:33,  1.47s/it]"
     ]
    },
    {
     "name": "stdout",
     "output_type": "stream",
     "text": [
      "Saved 비상사태등에 대비하기 위한 해운 및 항만 기능 유지에 관한 법률 to 법령별 csv 저장\n"
     ]
    },
    {
     "name": "stderr",
     "output_type": "stream",
     "text": [
      " 50%|████▉     | 744/1500 [20:59<22:25,  1.78s/it]"
     ]
    },
    {
     "name": "stdout",
     "output_type": "stream",
     "text": [
      "Saved 비송사건절차법 to 법령별 csv 저장\n"
     ]
    },
    {
     "name": "stderr",
     "output_type": "stream",
     "text": [
      " 50%|████▉     | 745/1500 [21:00<19:58,  1.59s/it]"
     ]
    },
    {
     "name": "stdout",
     "output_type": "stream",
     "text": [
      "Saved 비영리민간단체 지원법 to 법령별 csv 저장\n"
     ]
    },
    {
     "name": "stderr",
     "output_type": "stream",
     "text": [
      " 50%|████▉     | 746/1500 [21:01<18:21,  1.46s/it]"
     ]
    },
    {
     "name": "stdout",
     "output_type": "stream",
     "text": [
      "Saved 비영리법인의 임원 처벌에 관한 법률 to 법령별 csv 저장\n"
     ]
    },
    {
     "name": "stderr",
     "output_type": "stream",
     "text": [
      " 50%|████▉     | 747/1500 [21:03<20:26,  1.63s/it]"
     ]
    },
    {
     "name": "stdout",
     "output_type": "stream",
     "text": [
      "Saved 비파괴검사기술의 진흥 및 관리에 관한 법률 to 법령별 csv 저장\n"
     ]
    },
    {
     "name": "stderr",
     "output_type": "stream",
     "text": [
      " 50%|████▉     | 748/1500 [21:05<21:41,  1.73s/it]"
     ]
    },
    {
     "name": "stdout",
     "output_type": "stream",
     "text": [
      "Saved 빈집 및 소규모주택 정비에 관한 특례법 to 법령별 csv 저장\n"
     ]
    },
    {
     "name": "stderr",
     "output_type": "stream",
     "text": [
      " 50%|████▉     | 749/1500 [21:06<19:46,  1.58s/it]"
     ]
    },
    {
     "name": "stdout",
     "output_type": "stream",
     "text": [
      "Saved 뿌리산업 진흥과 첨단화에 관한 법률 to 법령별 csv 저장\n"
     ]
    },
    {
     "name": "stderr",
     "output_type": "stream",
     "text": [
      " 50%|█████     | 750/1500 [21:08<18:25,  1.47s/it]"
     ]
    },
    {
     "name": "stdout",
     "output_type": "stream",
     "text": [
      "Saved 사격 및 사격장 안전관리에 관한 법률 to 법령별 csv 저장\n"
     ]
    },
    {
     "name": "stderr",
     "output_type": "stream",
     "text": [
      " 50%|█████     | 751/1500 [21:09<18:12,  1.46s/it]"
     ]
    },
    {
     "name": "stdout",
     "output_type": "stream",
     "text": [
      "Saved 사관학교 설치법 to 법령별 csv 저장\n"
     ]
    },
    {
     "name": "stderr",
     "output_type": "stream",
     "text": [
      " 50%|█████     | 752/1500 [21:11<18:20,  1.47s/it]"
     ]
    },
    {
     "name": "stdout",
     "output_type": "stream",
     "text": [
      "Saved 사도법 to 법령별 csv 저장\n"
     ]
    },
    {
     "name": "stderr",
     "output_type": "stream",
     "text": [
      " 50%|█████     | 753/1500 [21:13<20:04,  1.61s/it]"
     ]
    },
    {
     "name": "stdout",
     "output_type": "stream",
     "text": [
      "Saved 사료관리법 to 법령별 csv 저장\n"
     ]
    },
    {
     "name": "stderr",
     "output_type": "stream",
     "text": [
      " 50%|█████     | 754/1500 [21:14<18:39,  1.50s/it]"
     ]
    },
    {
     "name": "stdout",
     "output_type": "stream",
     "text": [
      "Saved 사료의 수집ㆍ편찬 및 한국사의 보급 등에 관한 법률 to 법령별 csv 저장\n"
     ]
    },
    {
     "name": "stderr",
     "output_type": "stream",
     "text": [
      " 50%|█████     | 755/1500 [21:16<20:33,  1.66s/it]"
     ]
    },
    {
     "name": "stdout",
     "output_type": "stream",
     "text": [
      "Saved 사립학교교직원 연금법 to 법령별 csv 저장\n"
     ]
    },
    {
     "name": "stderr",
     "output_type": "stream",
     "text": [
      " 50%|█████     | 756/1500 [21:20<28:25,  2.29s/it]"
     ]
    },
    {
     "name": "stdout",
     "output_type": "stream",
     "text": [
      "Saved 사립학교법 to 법령별 csv 저장\n"
     ]
    },
    {
     "name": "stderr",
     "output_type": "stream",
     "text": [
      " 50%|█████     | 757/1500 [21:21<25:17,  2.04s/it]"
     ]
    },
    {
     "name": "stdout",
     "output_type": "stream",
     "text": [
      "Saved 사면법 to 법령별 csv 저장\n"
     ]
    },
    {
     "name": "stderr",
     "output_type": "stream",
     "text": [
      " 51%|█████     | 758/1500 [21:23<23:21,  1.89s/it]"
     ]
    },
    {
     "name": "stdout",
     "output_type": "stream",
     "text": [
      "Saved 사방사업법 to 법령별 csv 저장\n"
     ]
    },
    {
     "name": "stderr",
     "output_type": "stream",
     "text": [
      " 51%|█████     | 759/1500 [21:25<26:20,  2.13s/it]"
     ]
    },
    {
     "name": "stdout",
     "output_type": "stream",
     "text": [
      "Saved 사법경찰관리의 직무를 수행할 자와 그 직무범위에 관한 법률 to 법령별 csv 저장\n"
     ]
    },
    {
     "name": "stderr",
     "output_type": "stream",
     "text": [
      " 51%|█████     | 760/1500 [21:26<22:52,  1.85s/it]"
     ]
    },
    {
     "name": "stdout",
     "output_type": "stream",
     "text": [
      "Saved 사할린동포 지원에 관한 특별법 to 법령별 csv 저장\n"
     ]
    },
    {
     "name": "stderr",
     "output_type": "stream",
     "text": [
      " 51%|█████     | 761/1500 [21:28<21:38,  1.76s/it]"
     ]
    },
    {
     "name": "stdout",
     "output_type": "stream",
     "text": [
      "Saved 사행산업통합감독위원회법 to 법령별 csv 저장\n"
     ]
    },
    {
     "name": "stderr",
     "output_type": "stream",
     "text": [
      " 51%|█████     | 762/1500 [21:29<20:19,  1.65s/it]"
     ]
    },
    {
     "name": "stdout",
     "output_type": "stream",
     "text": [
      "Saved 사행행위 등 규제 및 처벌 특례법 to 법령별 csv 저장\n"
     ]
    },
    {
     "name": "stderr",
     "output_type": "stream",
     "text": [
      " 51%|█████     | 763/1500 [21:32<22:33,  1.84s/it]"
     ]
    },
    {
     "name": "stdout",
     "output_type": "stream",
     "text": [
      "Saved 사회기반시설에 대한 민간투자법 to 법령별 csv 저장\n"
     ]
    },
    {
     "name": "stderr",
     "output_type": "stream",
     "text": [
      " 51%|█████     | 764/1500 [21:34<23:01,  1.88s/it]"
     ]
    },
    {
     "name": "stdout",
     "output_type": "stream",
     "text": [
      "Saved 사회보장급여의 이용ㆍ제공 및 수급권자 발굴에 관한 법률 to 법령별 csv 저장\n"
     ]
    },
    {
     "name": "stderr",
     "output_type": "stream",
     "text": [
      " 51%|█████     | 765/1500 [21:35<21:17,  1.74s/it]"
     ]
    },
    {
     "name": "stdout",
     "output_type": "stream",
     "text": [
      "Saved 사회보장기본법 to 법령별 csv 저장\n"
     ]
    },
    {
     "name": "stderr",
     "output_type": "stream",
     "text": [
      " 51%|█████     | 766/1500 [21:37<20:38,  1.69s/it]"
     ]
    },
    {
     "name": "stdout",
     "output_type": "stream",
     "text": [
      "Saved 사회복지공동모금회법 to 법령별 csv 저장\n"
     ]
    },
    {
     "name": "stderr",
     "output_type": "stream",
     "text": [
      " 51%|█████     | 767/1500 [21:38<19:36,  1.60s/it]"
     ]
    },
    {
     "name": "stdout",
     "output_type": "stream",
     "text": [
      "Saved 사회복지사 등의 처우 및 지위 향상을 위한 법률 to 법령별 csv 저장\n"
     ]
    },
    {
     "name": "stderr",
     "output_type": "stream",
     "text": [
      " 51%|█████     | 768/1500 [21:40<21:06,  1.73s/it]"
     ]
    },
    {
     "name": "stdout",
     "output_type": "stream",
     "text": [
      "Saved 사회복지사업법 to 법령별 csv 저장\n"
     ]
    },
    {
     "name": "stderr",
     "output_type": "stream",
     "text": [
      " 51%|█████▏    | 769/1500 [21:41<19:44,  1.62s/it]"
     ]
    },
    {
     "name": "stdout",
     "output_type": "stream",
     "text": [
      "Saved 사회서비스 이용 및 이용권 관리에 관한 법률 to 법령별 csv 저장\n"
     ]
    },
    {
     "name": "stderr",
     "output_type": "stream",
     "text": [
      " 51%|█████▏    | 770/1500 [21:43<20:57,  1.72s/it]"
     ]
    },
    {
     "name": "stdout",
     "output_type": "stream",
     "text": [
      "Saved 사회서비스 지원 및 사회서비스원 설립ㆍ운영에 관한 법률 to 법령별 csv 저장\n"
     ]
    },
    {
     "name": "stderr",
     "output_type": "stream",
     "text": [
      " 51%|█████▏    | 771/1500 [21:45<19:13,  1.58s/it]"
     ]
    },
    {
     "name": "stdout",
     "output_type": "stream",
     "text": [
      "Saved 사회적기업 육성법 to 법령별 csv 저장\n"
     ]
    },
    {
     "name": "stderr",
     "output_type": "stream",
     "text": [
      " 51%|█████▏    | 772/1500 [21:46<19:31,  1.61s/it]"
     ]
    },
    {
     "name": "stdout",
     "output_type": "stream",
     "text": [
      "Saved 사회적 참사의 진상규명 및 안전사회 건설 등을 위한 특별법 to 법령별 csv 저장\n"
     ]
    },
    {
     "name": "stderr",
     "output_type": "stream",
     "text": [
      " 52%|█████▏    | 773/1500 [21:48<18:14,  1.51s/it]"
     ]
    },
    {
     "name": "stdout",
     "output_type": "stream",
     "text": [
      "Saved 산림교육의 활성화에 관한 법률 to 법령별 csv 저장\n"
     ]
    },
    {
     "name": "stderr",
     "output_type": "stream",
     "text": [
      " 52%|█████▏    | 774/1500 [21:49<18:12,  1.50s/it]"
     ]
    },
    {
     "name": "stdout",
     "output_type": "stream",
     "text": [
      "Saved 산림기본법 to 법령별 csv 저장\n"
     ]
    },
    {
     "name": "stderr",
     "output_type": "stream",
     "text": [
      " 52%|█████▏    | 775/1500 [21:50<17:45,  1.47s/it]"
     ]
    },
    {
     "name": "stdout",
     "output_type": "stream",
     "text": [
      "Saved 산림기술 진흥 및 관리에 관한 법률 to 법령별 csv 저장\n"
     ]
    },
    {
     "name": "stderr",
     "output_type": "stream",
     "text": [
      " 52%|█████▏    | 776/1500 [21:52<18:01,  1.49s/it]"
     ]
    },
    {
     "name": "stdout",
     "output_type": "stream",
     "text": [
      "Saved 산림문화ㆍ휴양에 관한 법률 to 법령별 csv 저장\n"
     ]
    },
    {
     "name": "stderr",
     "output_type": "stream",
     "text": [
      " 52%|█████▏    | 777/1500 [21:54<19:59,  1.66s/it]"
     ]
    },
    {
     "name": "stdout",
     "output_type": "stream",
     "text": [
      "Saved 산림보호법 to 법령별 csv 저장\n"
     ]
    },
    {
     "name": "stderr",
     "output_type": "stream",
     "text": [
      " 52%|█████▏    | 778/1500 [21:56<20:00,  1.66s/it]"
     ]
    },
    {
     "name": "stdout",
     "output_type": "stream",
     "text": [
      "Saved 산림복지 진흥에 관한 법률 to 법령별 csv 저장\n"
     ]
    },
    {
     "name": "stderr",
     "output_type": "stream",
     "text": [
      " 52%|█████▏    | 779/1500 [21:58<21:08,  1.76s/it]"
     ]
    },
    {
     "name": "stdout",
     "output_type": "stream",
     "text": [
      "Saved 산림자원의 조성 및 관리에 관한 법률 to 법령별 csv 저장\n"
     ]
    },
    {
     "name": "stderr",
     "output_type": "stream",
     "text": [
      " 52%|█████▏    | 780/1500 [22:00<23:53,  1.99s/it]"
     ]
    },
    {
     "name": "stdout",
     "output_type": "stream",
     "text": [
      "Saved 산림조합법 to 법령별 csv 저장\n"
     ]
    },
    {
     "name": "stderr",
     "output_type": "stream",
     "text": [
      " 52%|█████▏    | 781/1500 [22:02<22:12,  1.85s/it]"
     ]
    },
    {
     "name": "stdout",
     "output_type": "stream",
     "text": [
      "Saved 산림조합의 구조개선에 관한 법률 to 법령별 csv 저장\n"
     ]
    },
    {
     "name": "stderr",
     "output_type": "stream",
     "text": [
      " 52%|█████▏    | 782/1500 [22:04<22:01,  1.84s/it]"
     ]
    },
    {
     "name": "stdout",
     "output_type": "stream",
     "text": [
      "Saved 산업교육진흥 및 산학연협력촉진에 관한 법률 to 법령별 csv 저장\n"
     ]
    },
    {
     "name": "stderr",
     "output_type": "stream",
     "text": [
      " 52%|█████▏    | 783/1500 [22:05<20:48,  1.74s/it]"
     ]
    },
    {
     "name": "stdout",
     "output_type": "stream",
     "text": [
      "Saved 산업기술단지 지원에 관한 특례법 to 법령별 csv 저장\n"
     ]
    },
    {
     "name": "stderr",
     "output_type": "stream",
     "text": [
      " 52%|█████▏    | 784/1500 [22:06<19:02,  1.60s/it]"
     ]
    },
    {
     "name": "stdout",
     "output_type": "stream",
     "text": [
      "Saved 산업기술연구조합 육성법 to 법령별 csv 저장\n"
     ]
    },
    {
     "name": "stderr",
     "output_type": "stream",
     "text": [
      " 52%|█████▏    | 785/1500 [22:09<22:28,  1.89s/it]"
     ]
    },
    {
     "name": "stdout",
     "output_type": "stream",
     "text": [
      "Saved 산업기술의 유출방지 및 보호에 관한 법률 to 법령별 csv 저장\n"
     ]
    },
    {
     "name": "stderr",
     "output_type": "stream",
     "text": [
      " 52%|█████▏    | 786/1500 [22:11<22:45,  1.91s/it]"
     ]
    },
    {
     "name": "stdout",
     "output_type": "stream",
     "text": [
      "Saved 산업기술혁신 촉진법 to 법령별 csv 저장\n"
     ]
    },
    {
     "name": "stderr",
     "output_type": "stream",
     "text": [
      " 52%|█████▏    | 787/1500 [22:12<20:34,  1.73s/it]"
     ]
    },
    {
     "name": "stdout",
     "output_type": "stream",
     "text": [
      "Saved 산업단지 인ㆍ허가 절차 간소화를 위한 특례법 to 법령별 csv 저장\n"
     ]
    },
    {
     "name": "stderr",
     "output_type": "stream",
     "text": [
      " 53%|█████▎    | 788/1500 [22:13<18:55,  1.60s/it]"
     ]
    },
    {
     "name": "stdout",
     "output_type": "stream",
     "text": [
      "Saved 산업디자인진흥법 to 법령별 csv 저장\n"
     ]
    },
    {
     "name": "stderr",
     "output_type": "stream",
     "text": [
      " 53%|█████▎    | 789/1500 [22:15<17:10,  1.45s/it]"
     ]
    },
    {
     "name": "stdout",
     "output_type": "stream",
     "text": [
      "Saved 산업 디지털 전환 촉진법 to 법령별 csv 저장\n"
     ]
    },
    {
     "name": "stderr",
     "output_type": "stream",
     "text": [
      " 53%|█████▎    | 790/1500 [22:16<17:20,  1.47s/it]"
     ]
    },
    {
     "name": "stdout",
     "output_type": "stream",
     "text": [
      "Saved 산업발전법 to 법령별 csv 저장\n"
     ]
    },
    {
     "name": "stderr",
     "output_type": "stream",
     "text": [
      " 53%|█████▎    | 791/1500 [22:18<19:20,  1.64s/it]"
     ]
    },
    {
     "name": "stdout",
     "output_type": "stream",
     "text": [
      "Saved 산업안전보건법 to 법령별 csv 저장\n"
     ]
    },
    {
     "name": "stderr",
     "output_type": "stream",
     "text": [
      " 53%|█████▎    | 792/1500 [22:20<19:00,  1.61s/it]"
     ]
    },
    {
     "name": "stdout",
     "output_type": "stream",
     "text": [
      "Saved 산업융합 촉진법 to 법령별 csv 저장\n"
     ]
    },
    {
     "name": "stderr",
     "output_type": "stream",
     "text": [
      " 53%|█████▎    | 793/1500 [22:22<21:29,  1.82s/it]"
     ]
    },
    {
     "name": "stdout",
     "output_type": "stream",
     "text": [
      "Saved 산업입지 및 개발에 관한 법률 to 법령별 csv 저장\n"
     ]
    },
    {
     "name": "stderr",
     "output_type": "stream",
     "text": [
      " 53%|█████▎    | 794/1500 [22:23<19:49,  1.68s/it]"
     ]
    },
    {
     "name": "stdout",
     "output_type": "stream",
     "text": [
      "Saved 산업재산 정보의 관리 및 활용 촉진에 관한 법률 to 법령별 csv 저장\n"
     ]
    },
    {
     "name": "stderr",
     "output_type": "stream",
     "text": [
      " 53%|█████▎    | 795/1500 [22:26<22:40,  1.93s/it]"
     ]
    },
    {
     "name": "stdout",
     "output_type": "stream",
     "text": [
      "Saved 산업재해보상보험법 to 법령별 csv 저장\n"
     ]
    },
    {
     "name": "stderr",
     "output_type": "stream",
     "text": [
      " 53%|█████▎    | 796/1500 [22:27<20:01,  1.71s/it]"
     ]
    },
    {
     "name": "stdout",
     "output_type": "stream",
     "text": [
      "Saved 산업전환에 따른 고용안정 지원 등에 관한 법률 to 법령별 csv 저장\n"
     ]
    },
    {
     "name": "stderr",
     "output_type": "stream",
     "text": [
      " 53%|█████▎    | 797/1500 [22:31<27:40,  2.36s/it]"
     ]
    },
    {
     "name": "stdout",
     "output_type": "stream",
     "text": [
      "Saved 산업집적활성화 및 공장설립에 관한 법률 to 법령별 csv 저장\n"
     ]
    },
    {
     "name": "stderr",
     "output_type": "stream",
     "text": [
      " 53%|█████▎    | 798/1500 [22:32<24:43,  2.11s/it]"
     ]
    },
    {
     "name": "stdout",
     "output_type": "stream",
     "text": [
      "Saved 산업표준화법 to 법령별 csv 저장\n"
     ]
    },
    {
     "name": "stderr",
     "output_type": "stream",
     "text": [
      " 53%|█████▎    | 799/1500 [22:34<21:47,  1.86s/it]"
     ]
    },
    {
     "name": "stdout",
     "output_type": "stream",
     "text": [
      "Saved 산업현장 일학습병행 지원에 관한 법률 to 법령별 csv 저장\n"
     ]
    },
    {
     "name": "stderr",
     "output_type": "stream",
     "text": [
      " 53%|█████▎    | 800/1500 [22:36<21:36,  1.85s/it]"
     ]
    },
    {
     "name": "stdout",
     "output_type": "stream",
     "text": [
      "Saved 산지관리법 to 법령별 csv 저장\n"
     ]
    },
    {
     "name": "stderr",
     "output_type": "stream",
     "text": [
      " 53%|█████▎    | 801/1500 [22:37<19:22,  1.66s/it]"
     ]
    },
    {
     "name": "stdout",
     "output_type": "stream",
     "text": [
      "Saved 삼차원프린팅산업 진흥법 to 법령별 csv 저장\n"
     ]
    },
    {
     "name": "stderr",
     "output_type": "stream",
     "text": [
      " 53%|█████▎    | 802/1500 [22:38<18:23,  1.58s/it]"
     ]
    },
    {
     "name": "stdout",
     "output_type": "stream",
     "text": [
      "Saved 삼청교육피해자의 명예회복 및 보상에 관한 법률 to 법령별 csv 저장\n"
     ]
    },
    {
     "name": "stderr",
     "output_type": "stream",
     "text": [
      " 54%|█████▎    | 803/1500 [22:40<17:32,  1.51s/it]"
     ]
    },
    {
     "name": "stdout",
     "output_type": "stream",
     "text": [
      "Saved 상가건물 임대차보호법 to 법령별 csv 저장\n"
     ]
    },
    {
     "name": "stderr",
     "output_type": "stream",
     "text": [
      " 54%|█████▎    | 804/1500 [22:41<16:43,  1.44s/it]"
     ]
    },
    {
     "name": "stdout",
     "output_type": "stream",
     "text": [
      "Saved 상고심절차에 관한 특례법 to 법령별 csv 저장\n"
     ]
    },
    {
     "name": "stderr",
     "output_type": "stream",
     "text": [
      " 54%|█████▎    | 805/1500 [22:42<16:43,  1.44s/it]"
     ]
    },
    {
     "name": "stdout",
     "output_type": "stream",
     "text": [
      "Saved 상공회의소법 to 법령별 csv 저장\n"
     ]
    },
    {
     "name": "stderr",
     "output_type": "stream",
     "text": [
      " 54%|█████▎    | 806/1500 [22:49<36:49,  3.18s/it]"
     ]
    },
    {
     "name": "stdout",
     "output_type": "stream",
     "text": [
      "Saved 상법 to 법령별 csv 저장\n"
     ]
    },
    {
     "name": "stderr",
     "output_type": "stream",
     "text": [
      " 54%|█████▍    | 807/1500 [22:51<29:49,  2.58s/it]"
     ]
    },
    {
     "name": "stdout",
     "output_type": "stream",
     "text": [
      "Saved 상법시행법 to 법령별 csv 저장\n"
     ]
    },
    {
     "name": "stderr",
     "output_type": "stream",
     "text": [
      " 54%|█████▍    | 808/1500 [22:53<28:55,  2.51s/it]"
     ]
    },
    {
     "name": "stdout",
     "output_type": "stream",
     "text": [
      "Saved 상속세 및 증여세법 to 법령별 csv 저장\n"
     ]
    },
    {
     "name": "stderr",
     "output_type": "stream",
     "text": [
      " 54%|█████▍    | 809/1500 [22:55<25:33,  2.22s/it]"
     ]
    },
    {
     "name": "stdout",
     "output_type": "stream",
     "text": [
      "Saved 상업등기법 to 법령별 csv 저장\n"
     ]
    },
    {
     "name": "stderr",
     "output_type": "stream",
     "text": [
      " 54%|█████▍    | 810/1500 [22:57<27:44,  2.41s/it]"
     ]
    },
    {
     "name": "stdout",
     "output_type": "stream",
     "text": [
      "Saved 상표법 to 법령별 csv 저장\n"
     ]
    },
    {
     "name": "stderr",
     "output_type": "stream",
     "text": [
      " 54%|█████▍    | 811/1500 [22:59<26:07,  2.27s/it]"
     ]
    },
    {
     "name": "stdout",
     "output_type": "stream",
     "text": [
      "Saved 상호저축은행법 to 법령별 csv 저장\n"
     ]
    },
    {
     "name": "stderr",
     "output_type": "stream",
     "text": [
      " 54%|█████▍    | 812/1500 [23:01<23:26,  2.04s/it]"
     ]
    },
    {
     "name": "stdout",
     "output_type": "stream",
     "text": [
      "Saved 상훈법 to 법령별 csv 저장\n"
     ]
    },
    {
     "name": "stderr",
     "output_type": "stream",
     "text": [
      " 54%|█████▍    | 813/1500 [23:03<23:17,  2.03s/it]"
     ]
    },
    {
     "name": "stdout",
     "output_type": "stream",
     "text": [
      "Saved 새마을금고법 to 법령별 csv 저장\n"
     ]
    },
    {
     "name": "stderr",
     "output_type": "stream",
     "text": [
      " 54%|█████▍    | 814/1500 [23:04<20:20,  1.78s/it]"
     ]
    },
    {
     "name": "stdout",
     "output_type": "stream",
     "text": [
      "Saved 새마을운동조직 육성법 to 법령별 csv 저장\n"
     ]
    },
    {
     "name": "stderr",
     "output_type": "stream",
     "text": [
      " 54%|█████▍    | 815/1500 [23:06<21:06,  1.85s/it]"
     ]
    },
    {
     "name": "stdout",
     "output_type": "stream",
     "text": [
      "Saved 새만금사업 추진 및 지원에 관한 특별법 to 법령별 csv 저장\n"
     ]
    },
    {
     "name": "stderr",
     "output_type": "stream",
     "text": [
      " 54%|█████▍    | 816/1500 [23:08<19:48,  1.74s/it]"
     ]
    },
    {
     "name": "stdout",
     "output_type": "stream",
     "text": [
      "Saved 생명공학육성법 to 법령별 csv 저장\n"
     ]
    },
    {
     "name": "stderr",
     "output_type": "stream",
     "text": [
      " 54%|█████▍    | 817/1500 [23:09<18:09,  1.59s/it]"
     ]
    },
    {
     "name": "stdout",
     "output_type": "stream",
     "text": [
      "Saved 생명연구자원의 확보ㆍ관리 및 활용에 관한 법률 to 법령별 csv 저장\n"
     ]
    },
    {
     "name": "stderr",
     "output_type": "stream",
     "text": [
      " 55%|█████▍    | 818/1500 [23:11<18:41,  1.64s/it]"
     ]
    },
    {
     "name": "stdout",
     "output_type": "stream",
     "text": [
      "Saved 생명윤리 및 안전에 관한 법률 to 법령별 csv 저장\n"
     ]
    },
    {
     "name": "stderr",
     "output_type": "stream",
     "text": [
      " 55%|█████▍    | 819/1500 [23:12<18:15,  1.61s/it]"
     ]
    },
    {
     "name": "stdout",
     "output_type": "stream",
     "text": [
      "Saved 생물다양성 보전 및 이용에 관한 법률 to 법령별 csv 저장\n"
     ]
    },
    {
     "name": "stderr",
     "output_type": "stream",
     "text": [
      " 55%|█████▍    | 820/1500 [23:13<17:04,  1.51s/it]"
     ]
    },
    {
     "name": "stdout",
     "output_type": "stream",
     "text": [
      "Saved 생물자원관의 설립 및 운영에 관한 법률 to 법령별 csv 저장\n"
     ]
    },
    {
     "name": "stderr",
     "output_type": "stream",
     "text": [
      " 55%|█████▍    | 821/1500 [23:15<17:11,  1.52s/it]"
     ]
    },
    {
     "name": "stdout",
     "output_type": "stream",
     "text": [
      "Saved 생활물류서비스산업발전법 to 법령별 csv 저장\n"
     ]
    },
    {
     "name": "stderr",
     "output_type": "stream",
     "text": [
      " 55%|█████▍    | 822/1500 [23:16<16:52,  1.49s/it]"
     ]
    },
    {
     "name": "stdout",
     "output_type": "stream",
     "text": [
      "Saved 생활주변방사선 안전관리법 to 법령별 csv 저장\n"
     ]
    },
    {
     "name": "stderr",
     "output_type": "stream",
     "text": [
      " 55%|█████▍    | 823/1500 [23:18<16:33,  1.47s/it]"
     ]
    },
    {
     "name": "stdout",
     "output_type": "stream",
     "text": [
      "Saved 생활체육진흥법 to 법령별 csv 저장\n"
     ]
    },
    {
     "name": "stderr",
     "output_type": "stream",
     "text": [
      " 55%|█████▍    | 824/1500 [23:20<19:20,  1.72s/it]"
     ]
    },
    {
     "name": "stdout",
     "output_type": "stream",
     "text": [
      "Saved 생활화학제품 및 살생물제의 안전관리에 관한 법률 to 법령별 csv 저장\n"
     ]
    },
    {
     "name": "stderr",
     "output_type": "stream",
     "text": [
      " 55%|█████▌    | 825/1500 [23:22<18:37,  1.66s/it]"
     ]
    },
    {
     "name": "stdout",
     "output_type": "stream",
     "text": [
      "Saved 서민의 금융생활 지원에 관한 법률 to 법령별 csv 저장\n"
     ]
    },
    {
     "name": "stderr",
     "output_type": "stream",
     "text": [
      " 55%|█████▌    | 826/1500 [23:23<17:42,  1.58s/it]"
     ]
    },
    {
     "name": "stdout",
     "output_type": "stream",
     "text": [
      "Saved 서예진흥에 관한 법률 to 법령별 csv 저장\n"
     ]
    },
    {
     "name": "stderr",
     "output_type": "stream",
     "text": [
      " 55%|█████▌    | 827/1500 [23:24<16:43,  1.49s/it]"
     ]
    },
    {
     "name": "stdout",
     "output_type": "stream",
     "text": [
      "Saved 서울대학교병원 설치법 to 법령별 csv 저장\n"
     ]
    },
    {
     "name": "stderr",
     "output_type": "stream",
     "text": [
      " 55%|█████▌    | 828/1500 [23:26<16:12,  1.45s/it]"
     ]
    },
    {
     "name": "stdout",
     "output_type": "stream",
     "text": [
      "Saved 서울대학교치과병원 설치법 to 법령별 csv 저장\n"
     ]
    },
    {
     "name": "stderr",
     "output_type": "stream",
     "text": [
      " 55%|█████▌    | 829/1500 [23:27<15:17,  1.37s/it]"
     ]
    },
    {
     "name": "stdout",
     "output_type": "stream",
     "text": [
      "Saved 서울특별시 행정특례에 관한 법률 to 법령별 csv 저장\n"
     ]
    },
    {
     "name": "stderr",
     "output_type": "stream",
     "text": [
      " 55%|█████▌    | 830/1500 [23:28<15:19,  1.37s/it]"
     ]
    },
    {
     "name": "stdout",
     "output_type": "stream",
     "text": [
      "Saved 서해 5도 지원 특별법 to 법령별 csv 저장\n"
     ]
    },
    {
     "name": "stderr",
     "output_type": "stream",
     "text": [
      " 55%|█████▌    | 831/1500 [23:30<15:40,  1.41s/it]"
     ]
    },
    {
     "name": "stdout",
     "output_type": "stream",
     "text": [
      "Saved 석면안전관리법 to 법령별 csv 저장\n"
     ]
    },
    {
     "name": "stderr",
     "output_type": "stream",
     "text": [
      " 55%|█████▌    | 832/1500 [23:32<17:21,  1.56s/it]"
     ]
    },
    {
     "name": "stdout",
     "output_type": "stream",
     "text": [
      "Saved 석면피해구제법 to 법령별 csv 저장\n"
     ]
    },
    {
     "name": "stderr",
     "output_type": "stream",
     "text": [
      " 56%|█████▌    | 833/1500 [23:33<17:50,  1.60s/it]"
     ]
    },
    {
     "name": "stdout",
     "output_type": "stream",
     "text": [
      "Saved 석유 및 석유대체연료 사업법 to 법령별 csv 저장\n"
     ]
    },
    {
     "name": "stderr",
     "output_type": "stream",
     "text": [
      " 56%|█████▌    | 834/1500 [23:35<16:38,  1.50s/it]"
     ]
    },
    {
     "name": "stdout",
     "output_type": "stream",
     "text": [
      "Saved 석재산업 진흥에 관한 법률 to 법령별 csv 저장\n"
     ]
    },
    {
     "name": "stderr",
     "output_type": "stream",
     "text": [
      " 56%|█████▌    | 835/1500 [23:36<16:39,  1.50s/it]"
     ]
    },
    {
     "name": "stdout",
     "output_type": "stream",
     "text": [
      "Saved 석탄산업법 to 법령별 csv 저장\n"
     ]
    },
    {
     "name": "stderr",
     "output_type": "stream",
     "text": [
      " 56%|█████▌    | 836/1500 [23:38<16:37,  1.50s/it]"
     ]
    },
    {
     "name": "stdout",
     "output_type": "stream",
     "text": [
      "Saved 선거관리위원회법 to 법령별 csv 저장\n"
     ]
    },
    {
     "name": "stderr",
     "output_type": "stream",
     "text": [
      " 56%|█████▌    | 837/1500 [23:39<15:15,  1.38s/it]"
     ]
    },
    {
     "name": "stdout",
     "output_type": "stream",
     "text": [
      "Saved 선박관리산업발전법 to 법령별 csv 저장\n"
     ]
    },
    {
     "name": "stderr",
     "output_type": "stream",
     "text": [
      " 56%|█████▌    | 838/1500 [23:40<14:49,  1.34s/it]"
     ]
    },
    {
     "name": "stdout",
     "output_type": "stream",
     "text": [
      "Saved 선박교통관제에 관한 법률 to 법령별 csv 저장\n"
     ]
    },
    {
     "name": "stderr",
     "output_type": "stream",
     "text": [
      " 56%|█████▌    | 839/1500 [23:41<14:26,  1.31s/it]"
     ]
    },
    {
     "name": "stdout",
     "output_type": "stream",
     "text": [
      "Saved 선박등기법 to 법령별 csv 저장\n"
     ]
    },
    {
     "name": "stderr",
     "output_type": "stream",
     "text": [
      " 56%|█████▌    | 840/1500 [23:42<13:48,  1.25s/it]"
     ]
    },
    {
     "name": "stdout",
     "output_type": "stream",
     "text": [
      "Saved 선박 및 해상구조물에 대한 위해행위의 처벌 등에 관한 법률 to 법령별 csv 저장\n"
     ]
    },
    {
     "name": "stderr",
     "output_type": "stream",
     "text": [
      " 56%|█████▌    | 841/1500 [23:44<14:30,  1.32s/it]"
     ]
    },
    {
     "name": "stdout",
     "output_type": "stream",
     "text": [
      "Saved 선박법 to 법령별 csv 저장\n"
     ]
    },
    {
     "name": "stderr",
     "output_type": "stream",
     "text": [
      " 56%|█████▌    | 842/1500 [23:45<15:52,  1.45s/it]"
     ]
    },
    {
     "name": "stdout",
     "output_type": "stream",
     "text": [
      "Saved 선박소유자 등의 책임제한절차에 관한 법률 to 법령별 csv 저장\n"
     ]
    },
    {
     "name": "stderr",
     "output_type": "stream",
     "text": [
      " 56%|█████▌    | 843/1500 [23:47<17:03,  1.56s/it]"
     ]
    },
    {
     "name": "stdout",
     "output_type": "stream",
     "text": [
      "Saved 선박안전법 to 법령별 csv 저장\n"
     ]
    },
    {
     "name": "stderr",
     "output_type": "stream",
     "text": [
      " 56%|█████▋    | 844/1500 [23:49<17:57,  1.64s/it]"
     ]
    },
    {
     "name": "stdout",
     "output_type": "stream",
     "text": [
      "Saved 선박의 입항 및 출항 등에 관한 법률 to 법령별 csv 저장\n"
     ]
    },
    {
     "name": "stderr",
     "output_type": "stream",
     "text": [
      " 56%|█████▋    | 845/1500 [23:51<17:14,  1.58s/it]"
     ]
    },
    {
     "name": "stdout",
     "output_type": "stream",
     "text": [
      "Saved 선박직원법 to 법령별 csv 저장\n"
     ]
    },
    {
     "name": "stderr",
     "output_type": "stream",
     "text": [
      " 56%|█████▋    | 846/1500 [23:52<17:05,  1.57s/it]"
     ]
    },
    {
     "name": "stdout",
     "output_type": "stream",
     "text": [
      "Saved 선박투자회사법 to 법령별 csv 저장\n"
     ]
    },
    {
     "name": "stderr",
     "output_type": "stream",
     "text": [
      " 56%|█████▋    | 847/1500 [23:54<17:12,  1.58s/it]"
     ]
    },
    {
     "name": "stdout",
     "output_type": "stream",
     "text": [
      "Saved 선박평형수(船舶平衡水) 관리법 to 법령별 csv 저장\n"
     ]
    },
    {
     "name": "stderr",
     "output_type": "stream",
     "text": [
      " 57%|█████▋    | 848/1500 [23:56<20:51,  1.92s/it]"
     ]
    },
    {
     "name": "stdout",
     "output_type": "stream",
     "text": [
      "Saved 선원법 to 법령별 csv 저장\n"
     ]
    },
    {
     "name": "stderr",
     "output_type": "stream",
     "text": [
      " 57%|█████▋    | 849/1500 [23:58<20:00,  1.84s/it]"
     ]
    },
    {
     "name": "stdout",
     "output_type": "stream",
     "text": [
      "Saved 선주상호보험조합법 to 법령별 csv 저장\n"
     ]
    },
    {
     "name": "stderr",
     "output_type": "stream",
     "text": [
      " 57%|█████▋    | 850/1500 [24:00<19:04,  1.76s/it]"
     ]
    },
    {
     "name": "stdout",
     "output_type": "stream",
     "text": [
      "Saved 섬 발전 촉진법 to 법령별 csv 저장\n"
     ]
    },
    {
     "name": "stderr",
     "output_type": "stream",
     "text": [
      " 57%|█████▋    | 851/1500 [24:01<17:02,  1.58s/it]"
     ]
    },
    {
     "name": "stdout",
     "output_type": "stream",
     "text": [
      "Saved 성균관ㆍ향교ㆍ서원전통문화의 계승ㆍ발전 및 지원에 관한 법률 to 법령별 csv 저장\n"
     ]
    },
    {
     "name": "stderr",
     "output_type": "stream",
     "text": [
      " 57%|█████▋    | 852/1500 [24:02<16:33,  1.53s/it]"
     ]
    },
    {
     "name": "stdout",
     "output_type": "stream",
     "text": [
      "Saved 성매매방지 및 피해자보호 등에 관한 법률 to 법령별 csv 저장\n"
     ]
    },
    {
     "name": "stderr",
     "output_type": "stream",
     "text": [
      " 57%|█████▋    | 853/1500 [24:04<15:57,  1.48s/it]"
     ]
    },
    {
     "name": "stdout",
     "output_type": "stream",
     "text": [
      "Saved 성매매알선 등 행위의 처벌에 관한 법률 to 법령별 csv 저장\n"
     ]
    },
    {
     "name": "stderr",
     "output_type": "stream",
     "text": [
      " 57%|█████▋    | 854/1500 [24:05<15:19,  1.42s/it]"
     ]
    },
    {
     "name": "stdout",
     "output_type": "stream",
     "text": [
      "Saved 성별영향평가법 to 법령별 csv 저장\n"
     ]
    },
    {
     "name": "stderr",
     "output_type": "stream",
     "text": [
      " 57%|█████▋    | 855/1500 [24:06<15:34,  1.45s/it]"
     ]
    },
    {
     "name": "stdout",
     "output_type": "stream",
     "text": [
      "Saved 성폭력방지 및 피해자보호 등에 관한 법률 to 법령별 csv 저장\n"
     ]
    },
    {
     "name": "stderr",
     "output_type": "stream",
     "text": [
      " 57%|█████▋    | 856/1500 [24:08<16:28,  1.54s/it]"
     ]
    },
    {
     "name": "stdout",
     "output_type": "stream",
     "text": [
      "Saved 성폭력범죄의 처벌 등에 관한 특례법 to 법령별 csv 저장\n"
     ]
    },
    {
     "name": "stderr",
     "output_type": "stream",
     "text": [
      " 57%|█████▋    | 857/1500 [24:10<16:22,  1.53s/it]"
     ]
    },
    {
     "name": "stdout",
     "output_type": "stream",
     "text": [
      "Saved 성폭력범죄자의 성충동 약물치료에 관한 법률 to 법령별 csv 저장\n"
     ]
    },
    {
     "name": "stderr",
     "output_type": "stream",
     "text": [
      " 57%|█████▋    | 858/1500 [24:11<15:23,  1.44s/it]"
     ]
    },
    {
     "name": "stdout",
     "output_type": "stream",
     "text": [
      "Saved 세계무역기구협정의 이행에 관한 특별법 to 법령별 csv 저장\n"
     ]
    },
    {
     "name": "stderr",
     "output_type": "stream",
     "text": [
      " 57%|█████▋    | 859/1500 [24:12<14:18,  1.34s/it]"
     ]
    },
    {
     "name": "stdout",
     "output_type": "stream",
     "text": [
      "Saved 세계선거기관협의회 지원에 관한 법률 to 법령별 csv 저장\n"
     ]
    },
    {
     "name": "stderr",
     "output_type": "stream",
     "text": [
      " 57%|█████▋    | 860/1500 [24:13<13:42,  1.28s/it]"
     ]
    },
    {
     "name": "stdout",
     "output_type": "stream",
     "text": [
      "Saved 세계유산의 보존ㆍ관리 및 활용에 관한 특별법 to 법령별 csv 저장\n"
     ]
    },
    {
     "name": "stderr",
     "output_type": "stream",
     "text": [
      " 57%|█████▋    | 861/1500 [24:15<15:45,  1.48s/it]"
     ]
    },
    {
     "name": "stdout",
     "output_type": "stream",
     "text": [
      "Saved 세무사법 to 법령별 csv 저장\n"
     ]
    },
    {
     "name": "stderr",
     "output_type": "stream",
     "text": [
      " 57%|█████▋    | 862/1500 [24:16<15:21,  1.44s/it]"
     ]
    },
    {
     "name": "stdout",
     "output_type": "stream",
     "text": [
      "Saved 세월호 선체조사위원회의 설치 및 운영에 관한 특별법 to 법령별 csv 저장\n"
     ]
    },
    {
     "name": "stderr",
     "output_type": "stream",
     "text": [
      " 58%|█████▊    | 863/1500 [24:18<15:41,  1.48s/it]"
     ]
    },
    {
     "name": "stdout",
     "output_type": "stream",
     "text": [
      "Saved 세종특별자치시 설치 등에 관한 특별법 to 법령별 csv 저장\n"
     ]
    },
    {
     "name": "stderr",
     "output_type": "stream",
     "text": [
      " 58%|█████▊    | 864/1500 [24:20<15:55,  1.50s/it]"
     ]
    },
    {
     "name": "stdout",
     "output_type": "stream",
     "text": [
      "Saved 소규모 공공시설 안전관리 등에 관한 법률 to 법령별 csv 저장\n"
     ]
    },
    {
     "name": "stderr",
     "output_type": "stream",
     "text": [
      " 58%|█████▊    | 865/1500 [24:22<19:01,  1.80s/it]"
     ]
    },
    {
     "name": "stdout",
     "output_type": "stream",
     "text": [
      "Saved 소금산업 진흥법 to 법령별 csv 저장\n"
     ]
    },
    {
     "name": "stderr",
     "output_type": "stream",
     "text": [
      " 58%|█████▊    | 866/1500 [24:23<17:14,  1.63s/it]"
     ]
    },
    {
     "name": "stdout",
     "output_type": "stream",
     "text": [
      "Saved 소나무재선충병 방제특별법 to 법령별 csv 저장\n"
     ]
    },
    {
     "name": "stderr",
     "output_type": "stream",
     "text": [
      " 58%|█████▊    | 867/1500 [24:25<16:47,  1.59s/it]"
     ]
    },
    {
     "name": "stdout",
     "output_type": "stream",
     "text": [
      "Saved 소년법 to 법령별 csv 저장\n"
     ]
    },
    {
     "name": "stderr",
     "output_type": "stream",
     "text": [
      " 58%|█████▊    | 868/1500 [24:29<23:30,  2.23s/it]"
     ]
    },
    {
     "name": "stdout",
     "output_type": "stream",
     "text": [
      "Saved 소득세법 to 법령별 csv 저장\n"
     ]
    },
    {
     "name": "stderr",
     "output_type": "stream",
     "text": [
      " 58%|█████▊    | 869/1500 [24:30<20:51,  1.98s/it]"
     ]
    },
    {
     "name": "stdout",
     "output_type": "stream",
     "text": [
      "Saved 소방공무원법 to 법령별 csv 저장\n"
     ]
    },
    {
     "name": "stderr",
     "output_type": "stream",
     "text": [
      " 58%|█████▊    | 870/1500 [24:31<18:47,  1.79s/it]"
     ]
    },
    {
     "name": "stdout",
     "output_type": "stream",
     "text": [
      "Saved 소방공무원 보건안전 및 복지 기본법 to 법령별 csv 저장\n"
     ]
    },
    {
     "name": "stderr",
     "output_type": "stream",
     "text": [
      " 58%|█████▊    | 871/1500 [24:33<18:10,  1.73s/it]"
     ]
    },
    {
     "name": "stdout",
     "output_type": "stream",
     "text": [
      "Saved 소방기본법 to 법령별 csv 저장\n"
     ]
    },
    {
     "name": "stderr",
     "output_type": "stream",
     "text": [
      " 58%|█████▊    | 872/1500 [24:34<17:01,  1.63s/it]"
     ]
    },
    {
     "name": "stdout",
     "output_type": "stream",
     "text": [
      "Saved 소방산업의 진흥에 관한 법률 to 법령별 csv 저장\n"
     ]
    },
    {
     "name": "stderr",
     "output_type": "stream",
     "text": [
      " 58%|█████▊    | 873/1500 [24:36<16:29,  1.58s/it]"
     ]
    },
    {
     "name": "stdout",
     "output_type": "stream",
     "text": [
      "Saved 소방시설공사업법 to 법령별 csv 저장\n"
     ]
    },
    {
     "name": "stderr",
     "output_type": "stream",
     "text": [
      " 58%|█████▊    | 874/1500 [24:37<15:56,  1.53s/it]"
     ]
    },
    {
     "name": "stdout",
     "output_type": "stream",
     "text": [
      "Saved 소방시설 설치 및 관리에 관한 법률 to 법령별 csv 저장\n"
     ]
    },
    {
     "name": "stderr",
     "output_type": "stream",
     "text": [
      " 58%|█████▊    | 875/1500 [24:38<15:08,  1.45s/it]"
     ]
    },
    {
     "name": "stdout",
     "output_type": "stream",
     "text": [
      "Saved 소방의 화재조사에 관한 법률 to 법령별 csv 저장\n"
     ]
    },
    {
     "name": "stderr",
     "output_type": "stream",
     "text": [
      " 58%|█████▊    | 876/1500 [24:40<15:30,  1.49s/it]"
     ]
    },
    {
     "name": "stdout",
     "output_type": "stream",
     "text": [
      "Saved 소방장비관리법 to 법령별 csv 저장\n"
     ]
    },
    {
     "name": "stderr",
     "output_type": "stream",
     "text": [
      " 58%|█████▊    | 877/1500 [24:41<14:43,  1.42s/it]"
     ]
    },
    {
     "name": "stdout",
     "output_type": "stream",
     "text": [
      "Saved 소방재정지원 및 시ㆍ도 소방특별회계 설치법 to 법령별 csv 저장\n"
     ]
    },
    {
     "name": "stderr",
     "output_type": "stream",
     "text": [
      " 59%|█████▊    | 878/1500 [24:44<18:15,  1.76s/it]"
     ]
    },
    {
     "name": "stdout",
     "output_type": "stream",
     "text": [
      "Saved 소비자기본법 to 법령별 csv 저장\n"
     ]
    },
    {
     "name": "stderr",
     "output_type": "stream",
     "text": [
      " 59%|█████▊    | 879/1500 [24:46<18:27,  1.78s/it]"
     ]
    },
    {
     "name": "stdout",
     "output_type": "stream",
     "text": [
      "Saved 소비자생활협동조합법 to 법령별 csv 저장\n"
     ]
    },
    {
     "name": "stderr",
     "output_type": "stream",
     "text": [
      " 59%|█████▊    | 880/1500 [24:47<16:54,  1.64s/it]"
     ]
    },
    {
     "name": "stdout",
     "output_type": "stream",
     "text": [
      "Saved 소상공인기본법 to 법령별 csv 저장\n"
     ]
    },
    {
     "name": "stderr",
     "output_type": "stream",
     "text": [
      " 59%|█████▊    | 881/1500 [24:48<16:45,  1.63s/it]"
     ]
    },
    {
     "name": "stdout",
     "output_type": "stream",
     "text": [
      "Saved 소상공인 보호 및 지원에 관한 법률 to 법령별 csv 저장\n"
     ]
    },
    {
     "name": "stderr",
     "output_type": "stream",
     "text": [
      " 59%|█████▉    | 882/1500 [24:50<15:27,  1.50s/it]"
     ]
    },
    {
     "name": "stdout",
     "output_type": "stream",
     "text": [
      "Saved 소상공인 생계형 적합업종 지정에 관한 특별법 to 법령별 csv 저장\n"
     ]
    },
    {
     "name": "stderr",
     "output_type": "stream",
     "text": [
      " 59%|█████▉    | 883/1500 [24:51<14:51,  1.44s/it]"
     ]
    },
    {
     "name": "stdout",
     "output_type": "stream",
     "text": [
      "Saved 소송촉진 등에 관한 특례법 to 법령별 csv 저장\n"
     ]
    },
    {
     "name": "stderr",
     "output_type": "stream",
     "text": [
      " 59%|█████▉    | 884/1500 [24:52<14:42,  1.43s/it]"
     ]
    },
    {
     "name": "stdout",
     "output_type": "stream",
     "text": [
      "Saved 소액사건심판법 to 법령별 csv 저장\n"
     ]
    },
    {
     "name": "stderr",
     "output_type": "stream",
     "text": [
      " 59%|█████▉    | 885/1500 [24:54<15:54,  1.55s/it]"
     ]
    },
    {
     "name": "stdout",
     "output_type": "stream",
     "text": [
      "Saved 소음ㆍ진동관리법 to 법령별 csv 저장\n"
     ]
    },
    {
     "name": "stderr",
     "output_type": "stream",
     "text": [
      " 59%|█████▉    | 886/1500 [24:56<17:23,  1.70s/it]"
     ]
    },
    {
     "name": "stdout",
     "output_type": "stream",
     "text": [
      "Saved 소재ㆍ부품ㆍ장비산업 경쟁력 강화 및 공급망 안정화를 위한 특별조치법 to 법령별 csv 저장\n"
     ]
    },
    {
     "name": "stderr",
     "output_type": "stream",
     "text": [
      " 59%|█████▉    | 887/1500 [24:58<17:28,  1.71s/it]"
     ]
    },
    {
     "name": "stdout",
     "output_type": "stream",
     "text": [
      "Saved 소프트웨어 진흥법 to 법령별 csv 저장\n"
     ]
    },
    {
     "name": "stderr",
     "output_type": "stream",
     "text": [
      " 59%|█████▉    | 888/1500 [24:59<16:07,  1.58s/it]"
     ]
    },
    {
     "name": "stdout",
     "output_type": "stream",
     "text": [
      "Saved 소하천정비법 to 법령별 csv 저장\n"
     ]
    },
    {
     "name": "stderr",
     "output_type": "stream",
     "text": [
      " 59%|█████▉    | 889/1500 [25:00<14:19,  1.41s/it]"
     ]
    },
    {
     "name": "stdout",
     "output_type": "stream",
     "text": [
      "Saved 손상 예방 및 관리에 관한 법률 to 법령별 csv 저장\n"
     ]
    },
    {
     "name": "stderr",
     "output_type": "stream",
     "text": [
      " 59%|█████▉    | 890/1500 [25:02<14:04,  1.38s/it]"
     ]
    },
    {
     "name": "stdout",
     "output_type": "stream",
     "text": [
      "Saved 송ㆍ변전설비 주변지역의 보상 및 지원에 관한 법률 to 법령별 csv 저장\n"
     ]
    },
    {
     "name": "stderr",
     "output_type": "stream",
     "text": [
      " 59%|█████▉    | 891/1500 [25:03<14:18,  1.41s/it]"
     ]
    },
    {
     "name": "stdout",
     "output_type": "stream",
     "text": [
      "Saved 송유관 안전관리법 to 법령별 csv 저장\n"
     ]
    },
    {
     "name": "stderr",
     "output_type": "stream",
     "text": [
      " 59%|█████▉    | 892/1500 [25:05<15:52,  1.57s/it]"
     ]
    },
    {
     "name": "stdout",
     "output_type": "stream",
     "text": [
      "Saved 수도권매립지관리공사의 설립 및 운영 등에 관한 법률 to 법령별 csv 저장\n"
     ]
    },
    {
     "name": "stderr",
     "output_type": "stream",
     "text": [
      " 60%|█████▉    | 893/1500 [25:06<15:11,  1.50s/it]"
     ]
    },
    {
     "name": "stdout",
     "output_type": "stream",
     "text": [
      "Saved 수도권정비계획법 to 법령별 csv 저장\n"
     ]
    },
    {
     "name": "stderr",
     "output_type": "stream",
     "text": [
      " 60%|█████▉    | 894/1500 [25:08<16:59,  1.68s/it]"
     ]
    },
    {
     "name": "stdout",
     "output_type": "stream",
     "text": [
      "Saved 수도법 to 법령별 csv 저장\n"
     ]
    },
    {
     "name": "stderr",
     "output_type": "stream",
     "text": [
      " 60%|█████▉    | 895/1500 [25:11<18:18,  1.82s/it]"
     ]
    },
    {
     "name": "stdout",
     "output_type": "stream",
     "text": [
      "Saved 수목원ㆍ정원의 조성 및 진흥에 관한 법률 to 법령별 csv 저장\n"
     ]
    },
    {
     "name": "stderr",
     "output_type": "stream",
     "text": [
      " 60%|█████▉    | 896/1500 [25:12<16:21,  1.63s/it]"
     ]
    },
    {
     "name": "stdout",
     "output_type": "stream",
     "text": [
      "Saved 수복지역내소유자미복구토지의복구등록과보존등기등에관한특별조치법 to 법령별 csv 저장\n"
     ]
    },
    {
     "name": "stderr",
     "output_type": "stream",
     "text": [
      " 60%|█████▉    | 897/1500 [25:13<15:35,  1.55s/it]"
     ]
    },
    {
     "name": "stdout",
     "output_type": "stream",
     "text": [
      "Saved 수산과학기술진흥을 위한 시험연구 등에 관한 법률 to 법령별 csv 저장\n"
     ]
    },
    {
     "name": "stderr",
     "output_type": "stream",
     "text": [
      " 60%|█████▉    | 898/1500 [25:15<15:45,  1.57s/it]"
     ]
    },
    {
     "name": "stdout",
     "output_type": "stream",
     "text": [
      "Saved 수산물 유통의 관리 및 지원에 관한 법률 to 법령별 csv 저장\n"
     ]
    },
    {
     "name": "stderr",
     "output_type": "stream",
     "text": [
      " 60%|█████▉    | 899/1500 [25:16<15:16,  1.53s/it]"
     ]
    },
    {
     "name": "stdout",
     "output_type": "stream",
     "text": [
      "Saved 수산부산물 재활용 촉진에 관한 법률 to 법령별 csv 저장\n"
     ]
    },
    {
     "name": "stderr",
     "output_type": "stream",
     "text": [
      " 60%|██████    | 900/1500 [25:18<15:13,  1.52s/it]"
     ]
    },
    {
     "name": "stdout",
     "output_type": "stream",
     "text": [
      "Saved 수산생물질병 관리법 to 법령별 csv 저장\n"
     ]
    },
    {
     "name": "stderr",
     "output_type": "stream",
     "text": [
      " 60%|██████    | 901/1500 [25:19<15:35,  1.56s/it]"
     ]
    },
    {
     "name": "stdout",
     "output_type": "stream",
     "text": [
      "Saved 수산식품산업의 육성 및 지원에 관한 법률 to 법령별 csv 저장\n"
     ]
    },
    {
     "name": "stderr",
     "output_type": "stream",
     "text": [
      " 60%|██████    | 902/1500 [25:21<16:54,  1.70s/it]"
     ]
    },
    {
     "name": "stdout",
     "output_type": "stream",
     "text": [
      "Saved 수산업법 to 법령별 csv 저장\n"
     ]
    },
    {
     "name": "stderr",
     "output_type": "stream",
     "text": [
      " 60%|██████    | 903/1500 [25:23<16:18,  1.64s/it]"
     ]
    },
    {
     "name": "stdout",
     "output_type": "stream",
     "text": [
      "Saved 수산업ㆍ어촌 공익기능 증진을 위한 직접지불제도 운영에 관한 법률 to 법령별 csv 저장\n"
     ]
    },
    {
     "name": "stderr",
     "output_type": "stream",
     "text": [
      " 60%|██████    | 904/1500 [25:24<15:37,  1.57s/it]"
     ]
    },
    {
     "name": "stdout",
     "output_type": "stream",
     "text": [
      "Saved 수산업ㆍ어촌 발전 기본법 to 법령별 csv 저장\n"
     ]
    },
    {
     "name": "stderr",
     "output_type": "stream",
     "text": [
      " 60%|██████    | 905/1500 [25:28<21:12,  2.14s/it]"
     ]
    },
    {
     "name": "stdout",
     "output_type": "stream",
     "text": [
      "Saved 수산업협동조합법 to 법령별 csv 저장\n"
     ]
    },
    {
     "name": "stderr",
     "output_type": "stream",
     "text": [
      " 60%|██████    | 906/1500 [25:29<19:47,  2.00s/it]"
     ]
    },
    {
     "name": "stdout",
     "output_type": "stream",
     "text": [
      "Saved 수산업협동조합의 부실예방 및 구조개선에 관한 법률 to 법령별 csv 저장\n"
     ]
    },
    {
     "name": "stderr",
     "output_type": "stream",
     "text": [
      " 60%|██████    | 907/1500 [25:31<19:42,  1.99s/it]"
     ]
    },
    {
     "name": "stdout",
     "output_type": "stream",
     "text": [
      "Saved 수산자원관리법 to 법령별 csv 저장\n"
     ]
    },
    {
     "name": "stderr",
     "output_type": "stream",
     "text": [
      " 61%|██████    | 908/1500 [25:33<18:09,  1.84s/it]"
     ]
    },
    {
     "name": "stdout",
     "output_type": "stream",
     "text": [
      "Saved 수산종자산업육성법 to 법령별 csv 저장\n"
     ]
    },
    {
     "name": "stderr",
     "output_type": "stream",
     "text": [
      " 61%|██████    | 909/1500 [25:34<16:42,  1.70s/it]"
     ]
    },
    {
     "name": "stdout",
     "output_type": "stream",
     "text": [
      "Saved 수상레저기구의 등록 및 검사에 관한 법률 to 법령별 csv 저장\n"
     ]
    },
    {
     "name": "stderr",
     "output_type": "stream",
     "text": [
      " 61%|██████    | 910/1500 [25:36<16:22,  1.67s/it]"
     ]
    },
    {
     "name": "stdout",
     "output_type": "stream",
     "text": [
      "Saved 수상레저안전법 to 법령별 csv 저장\n"
     ]
    },
    {
     "name": "stderr",
     "output_type": "stream",
     "text": [
      " 61%|██████    | 911/1500 [25:37<15:57,  1.63s/it]"
     ]
    },
    {
     "name": "stdout",
     "output_type": "stream",
     "text": [
      "Saved 수상에서의 수색ㆍ구조 등에 관한 법률 to 법령별 csv 저장\n"
     ]
    },
    {
     "name": "stderr",
     "output_type": "stream",
     "text": [
      " 61%|██████    | 912/1500 [25:39<16:31,  1.69s/it]"
     ]
    },
    {
     "name": "stdout",
     "output_type": "stream",
     "text": [
      "Saved 수소경제 육성 및 수소 안전관리에 관한 법률 to 법령별 csv 저장\n"
     ]
    },
    {
     "name": "stderr",
     "output_type": "stream",
     "text": [
      " 61%|██████    | 913/1500 [25:41<16:08,  1.65s/it]"
     ]
    },
    {
     "name": "stdout",
     "output_type": "stream",
     "text": [
      "Saved 수의사법 to 법령별 csv 저장\n"
     ]
    },
    {
     "name": "stderr",
     "output_type": "stream",
     "text": [
      " 61%|██████    | 914/1500 [25:42<15:42,  1.61s/it]"
     ]
    },
    {
     "name": "stdout",
     "output_type": "stream",
     "text": [
      "Saved 수입식품안전관리 특별법 to 법령별 csv 저장\n"
     ]
    },
    {
     "name": "stderr",
     "output_type": "stream",
     "text": [
      " 61%|██████    | 915/1500 [25:44<14:57,  1.53s/it]"
     ]
    },
    {
     "name": "stdout",
     "output_type": "stream",
     "text": [
      "Saved 수입인지에 관한 법률 to 법령별 csv 저장\n"
     ]
    },
    {
     "name": "stderr",
     "output_type": "stream",
     "text": [
      " 61%|██████    | 916/1500 [25:45<14:14,  1.46s/it]"
     ]
    },
    {
     "name": "stdout",
     "output_type": "stream",
     "text": [
      "Saved 수자원의 조사ㆍ계획 및 관리에 관한 법률 to 법령별 csv 저장\n"
     ]
    },
    {
     "name": "stderr",
     "output_type": "stream",
     "text": [
      " 61%|██████    | 917/1500 [25:46<14:22,  1.48s/it]"
     ]
    },
    {
     "name": "stdout",
     "output_type": "stream",
     "text": [
      "Saved 수중레저활동의 안전 및 활성화 등에 관한 법률 to 법령별 csv 저장\n"
     ]
    },
    {
     "name": "stderr",
     "output_type": "stream",
     "text": [
      " 61%|██████    | 918/1500 [25:48<13:51,  1.43s/it]"
     ]
    },
    {
     "name": "stdout",
     "output_type": "stream",
     "text": [
      "Saved 수출용 원재료에 대한 관세 등 환급에 관한 특례법 to 법령별 csv 저장\n"
     ]
    },
    {
     "name": "stderr",
     "output_type": "stream",
     "text": [
      " 61%|██████▏   | 919/1500 [25:49<13:21,  1.38s/it]"
     ]
    },
    {
     "name": "stdout",
     "output_type": "stream",
     "text": [
      "Saved 수표법 to 법령별 csv 저장\n"
     ]
    },
    {
     "name": "stderr",
     "output_type": "stream",
     "text": [
      " 61%|██████▏   | 920/1500 [25:50<13:03,  1.35s/it]"
     ]
    },
    {
     "name": "stdout",
     "output_type": "stream",
     "text": [
      "Saved 숙련기술장려법 to 법령별 csv 저장\n"
     ]
    },
    {
     "name": "stderr",
     "output_type": "stream",
     "text": [
      " 61%|██████▏   | 921/1500 [25:52<13:16,  1.38s/it]"
     ]
    },
    {
     "name": "stdout",
     "output_type": "stream",
     "text": [
      "Saved 순직 해병 수사 방해 및 사건 은폐 등의 진상규명을 위한 특별검사의 임명 등에 관한 법률 to 법령별 csv 저장\n"
     ]
    },
    {
     "name": "stderr",
     "output_type": "stream",
     "text": [
      " 61%|██████▏   | 922/1500 [25:53<13:47,  1.43s/it]"
     ]
    },
    {
     "name": "stdout",
     "output_type": "stream",
     "text": [
      "Saved 순환경제사회 전환 촉진법 to 법령별 csv 저장\n"
     ]
    },
    {
     "name": "stderr",
     "output_type": "stream",
     "text": [
      " 62%|██████▏   | 923/1500 [25:55<13:17,  1.38s/it]"
     ]
    },
    {
     "name": "stdout",
     "output_type": "stream",
     "text": [
      "Saved 스마트농업 육성 및 지원에 관한 법률 to 법령별 csv 저장\n"
     ]
    },
    {
     "name": "stderr",
     "output_type": "stream",
     "text": [
      " 62%|██████▏   | 924/1500 [25:56<14:27,  1.51s/it]"
     ]
    },
    {
     "name": "stdout",
     "output_type": "stream",
     "text": [
      "Saved 스마트도시 조성 및 산업진흥 등에 관한 법률 to 법령별 csv 저장\n"
     ]
    },
    {
     "name": "stderr",
     "output_type": "stream",
     "text": [
      " 62%|██████▏   | 925/1500 [25:58<13:28,  1.41s/it]"
     ]
    },
    {
     "name": "stdout",
     "output_type": "stream",
     "text": [
      "Saved 스카우트활동 육성에 관한 법률 to 법령별 csv 저장\n"
     ]
    },
    {
     "name": "stderr",
     "output_type": "stream",
     "text": [
      " 62%|██████▏   | 926/1500 [25:59<12:49,  1.34s/it]"
     ]
    },
    {
     "name": "stdout",
     "output_type": "stream",
     "text": [
      "Saved 스토킹방지 및 피해자보호 등에 관한 법률 to 법령별 csv 저장\n"
     ]
    },
    {
     "name": "stderr",
     "output_type": "stream",
     "text": [
      " 62%|██████▏   | 927/1500 [26:00<12:51,  1.35s/it]"
     ]
    },
    {
     "name": "stdout",
     "output_type": "stream",
     "text": [
      "Saved 스토킹범죄의 처벌 등에 관한 법률 to 법령별 csv 저장\n"
     ]
    },
    {
     "name": "stderr",
     "output_type": "stream",
     "text": [
      " 62%|██████▏   | 928/1500 [26:02<13:08,  1.38s/it]"
     ]
    },
    {
     "name": "stdout",
     "output_type": "stream",
     "text": [
      "Saved 스포츠기본법 to 법령별 csv 저장\n"
     ]
    },
    {
     "name": "stderr",
     "output_type": "stream",
     "text": [
      " 62%|██████▏   | 929/1500 [26:03<12:24,  1.30s/it]"
     ]
    },
    {
     "name": "stdout",
     "output_type": "stream",
     "text": [
      "Saved 스포츠산업 진흥법 to 법령별 csv 저장\n"
     ]
    },
    {
     "name": "stderr",
     "output_type": "stream",
     "text": [
      " 62%|██████▏   | 930/1500 [26:04<11:56,  1.26s/it]"
     ]
    },
    {
     "name": "stdout",
     "output_type": "stream",
     "text": [
      "Saved 스포츠클럽법 to 법령별 csv 저장\n"
     ]
    },
    {
     "name": "stderr",
     "output_type": "stream",
     "text": [
      " 62%|██████▏   | 931/1500 [26:07<15:57,  1.68s/it]"
     ]
    },
    {
     "name": "stdout",
     "output_type": "stream",
     "text": [
      "Saved 습지보전법 to 법령별 csv 저장\n"
     ]
    },
    {
     "name": "stderr",
     "output_type": "stream",
     "text": [
      " 62%|██████▏   | 932/1500 [26:09<17:08,  1.81s/it]"
     ]
    },
    {
     "name": "stdout",
     "output_type": "stream",
     "text": [
      "Saved 승강기산업 진흥법 to 법령별 csv 저장\n"
     ]
    },
    {
     "name": "stderr",
     "output_type": "stream",
     "text": [
      " 62%|██████▏   | 933/1500 [26:11<18:16,  1.93s/it]"
     ]
    },
    {
     "name": "stdout",
     "output_type": "stream",
     "text": [
      "Saved 승강기 안전관리법 to 법령별 csv 저장\n"
     ]
    },
    {
     "name": "stderr",
     "output_type": "stream",
     "text": [
      " 62%|██████▏   | 934/1500 [26:12<16:03,  1.70s/it]"
     ]
    },
    {
     "name": "stdout",
     "output_type": "stream",
     "text": [
      "Saved 시국사건관련 임용제외 교원의 피해회복을 위한 조치에 관한 특별법 to 법령별 csv 저장\n"
     ]
    },
    {
     "name": "stderr",
     "output_type": "stream",
     "text": [
      " 62%|██████▏   | 935/1500 [26:14<15:59,  1.70s/it]"
     ]
    },
    {
     "name": "stdout",
     "output_type": "stream",
     "text": [
      "Saved 시설물의 안전 및 유지관리에 관한 특별법 to 법령별 csv 저장\n"
     ]
    },
    {
     "name": "stderr",
     "output_type": "stream",
     "text": [
      " 62%|██████▏   | 936/1500 [26:15<15:11,  1.62s/it]"
     ]
    },
    {
     "name": "stdout",
     "output_type": "stream",
     "text": [
      "Saved 시체 해부 및 보존 등에 관한 법률 to 법령별 csv 저장\n"
     ]
    },
    {
     "name": "stderr",
     "output_type": "stream",
     "text": [
      " 62%|██████▏   | 937/1500 [26:17<16:46,  1.79s/it]"
     ]
    },
    {
     "name": "stdout",
     "output_type": "stream",
     "text": [
      "Saved 식물방역법 to 법령별 csv 저장\n"
     ]
    },
    {
     "name": "stderr",
     "output_type": "stream",
     "text": [
      " 63%|██████▎   | 938/1500 [26:20<17:57,  1.92s/it]"
     ]
    },
    {
     "name": "stdout",
     "output_type": "stream",
     "text": [
      "Saved 식물신품종 보호법 to 법령별 csv 저장\n"
     ]
    },
    {
     "name": "stderr",
     "output_type": "stream",
     "text": [
      " 63%|██████▎   | 939/1500 [26:21<16:06,  1.72s/it]"
     ]
    },
    {
     "name": "stdout",
     "output_type": "stream",
     "text": [
      "Saved 식생활교육지원법 to 법령별 csv 저장\n"
     ]
    },
    {
     "name": "stderr",
     "output_type": "stream",
     "text": [
      " 63%|██████▎   | 940/1500 [26:22<14:43,  1.58s/it]"
     ]
    },
    {
     "name": "stdout",
     "output_type": "stream",
     "text": [
      "Saved 식품등 기부 활성화에 관한 법률 to 법령별 csv 저장\n"
     ]
    },
    {
     "name": "stderr",
     "output_type": "stream",
     "text": [
      " 63%|██████▎   | 941/1500 [26:23<13:56,  1.50s/it]"
     ]
    },
    {
     "name": "stdout",
     "output_type": "stream",
     "text": [
      "Saved 식품 등의 표시ㆍ광고에 관한 법률 to 법령별 csv 저장\n"
     ]
    },
    {
     "name": "stderr",
     "output_type": "stream",
     "text": [
      " 63%|██████▎   | 942/1500 [26:25<14:00,  1.51s/it]"
     ]
    },
    {
     "name": "stdout",
     "output_type": "stream",
     "text": [
      "Saved 식품산업진흥법 to 법령별 csv 저장\n"
     ]
    },
    {
     "name": "stderr",
     "output_type": "stream",
     "text": [
      " 63%|██████▎   | 943/1500 [26:26<13:29,  1.45s/it]"
     ]
    },
    {
     "name": "stdout",
     "output_type": "stream",
     "text": [
      "Saved 식품안전기본법 to 법령별 csv 저장\n"
     ]
    },
    {
     "name": "stderr",
     "output_type": "stream",
     "text": [
      " 63%|██████▎   | 944/1500 [26:29<17:17,  1.87s/it]"
     ]
    },
    {
     "name": "stdout",
     "output_type": "stream",
     "text": [
      "Saved 식품위생법 to 법령별 csv 저장\n"
     ]
    },
    {
     "name": "stderr",
     "output_type": "stream",
     "text": [
      " 63%|██████▎   | 945/1500 [26:30<15:35,  1.69s/it]"
     ]
    },
    {
     "name": "stdout",
     "output_type": "stream",
     "text": [
      "Saved 식품ㆍ의약품 등의 안전 및 제품화 지원에 관한 규제과학혁신법 to 법령별 csv 저장\n"
     ]
    },
    {
     "name": "stderr",
     "output_type": "stream",
     "text": [
      " 63%|██████▎   | 946/1500 [26:32<14:39,  1.59s/it]"
     ]
    },
    {
     "name": "stdout",
     "output_type": "stream",
     "text": [
      "Saved 식품ㆍ의약품분야 시험ㆍ검사 등에 관한 법률 to 법령별 csv 저장\n"
     ]
    },
    {
     "name": "stderr",
     "output_type": "stream",
     "text": [
      " 63%|██████▎   | 947/1500 [26:33<14:33,  1.58s/it]"
     ]
    },
    {
     "name": "stdout",
     "output_type": "stream",
     "text": [
      "Saved 신라왕경 핵심유적 복원ㆍ정비에 관한 특별법 to 법령별 csv 저장\n"
     ]
    },
    {
     "name": "stderr",
     "output_type": "stream",
     "text": [
      " 63%|██████▎   | 948/1500 [26:35<14:44,  1.60s/it]"
     ]
    },
    {
     "name": "stdout",
     "output_type": "stream",
     "text": [
      "Saved 신문 등의 진흥에 관한 법률 to 법령별 csv 저장\n"
     ]
    },
    {
     "name": "stderr",
     "output_type": "stream",
     "text": [
      " 63%|██████▎   | 949/1500 [26:37<14:49,  1.61s/it]"
     ]
    },
    {
     "name": "stdout",
     "output_type": "stream",
     "text": [
      "Saved 신에너지 및 재생에너지 개발ㆍ이용ㆍ보급 촉진법 to 법령별 csv 저장\n"
     ]
    },
    {
     "name": "stderr",
     "output_type": "stream",
     "text": [
      " 63%|██████▎   | 950/1500 [26:38<14:52,  1.62s/it]"
     ]
    },
    {
     "name": "stdout",
     "output_type": "stream",
     "text": [
      "Saved 신용보증기금법 to 법령별 csv 저장\n"
     ]
    },
    {
     "name": "stderr",
     "output_type": "stream",
     "text": [
      " 63%|██████▎   | 951/1500 [26:40<15:52,  1.74s/it]"
     ]
    },
    {
     "name": "stdout",
     "output_type": "stream",
     "text": [
      "Saved 신용정보의 이용 및 보호에 관한 법률 to 법령별 csv 저장\n"
     ]
    },
    {
     "name": "stderr",
     "output_type": "stream",
     "text": [
      " 63%|██████▎   | 952/1500 [26:42<16:29,  1.81s/it]"
     ]
    },
    {
     "name": "stdout",
     "output_type": "stream",
     "text": [
      "Saved 신용협동조합법 to 법령별 csv 저장\n"
     ]
    },
    {
     "name": "stderr",
     "output_type": "stream",
     "text": [
      " 64%|██████▎   | 953/1500 [26:43<14:53,  1.63s/it]"
     ]
    },
    {
     "name": "stdout",
     "output_type": "stream",
     "text": [
      "Saved 신원보증법 to 법령별 csv 저장\n"
     ]
    },
    {
     "name": "stderr",
     "output_type": "stream",
     "text": [
      " 64%|██████▎   | 954/1500 [26:45<14:57,  1.64s/it]"
     ]
    },
    {
     "name": "stdout",
     "output_type": "stream",
     "text": [
      "Saved 신탁법 to 법령별 csv 저장\n"
     ]
    },
    {
     "name": "stderr",
     "output_type": "stream",
     "text": [
      " 64%|██████▎   | 955/1500 [26:47<14:48,  1.63s/it]"
     ]
    },
    {
     "name": "stdout",
     "output_type": "stream",
     "text": [
      "Saved 신항만건설 촉진법 to 법령별 csv 저장\n"
     ]
    },
    {
     "name": "stderr",
     "output_type": "stream",
     "text": [
      " 64%|██████▎   | 956/1500 [26:49<16:07,  1.78s/it]"
     ]
    },
    {
     "name": "stdout",
     "output_type": "stream",
     "text": [
      "Saved 신행정수도 후속대책을 위한 연기ㆍ공주지역 행정중심복합도시 건설을 위한 특별법 to 법령별 csv 저장\n"
     ]
    },
    {
     "name": "stderr",
     "output_type": "stream",
     "text": [
      " 64%|██████▍   | 957/1500 [26:50<15:23,  1.70s/it]"
     ]
    },
    {
     "name": "stdout",
     "output_type": "stream",
     "text": [
      "Saved 실내공기질 관리법 to 법령별 csv 저장\n"
     ]
    },
    {
     "name": "stderr",
     "output_type": "stream",
     "text": [
      " 64%|██████▍   | 958/1500 [26:52<15:06,  1.67s/it]"
     ]
    },
    {
     "name": "stdout",
     "output_type": "stream",
     "text": [
      "Saved 실용신안법 to 법령별 csv 저장\n"
     ]
    },
    {
     "name": "stderr",
     "output_type": "stream",
     "text": [
      " 64%|██████▍   | 959/1500 [26:53<14:12,  1.58s/it]"
     ]
    },
    {
     "name": "stdout",
     "output_type": "stream",
     "text": [
      "Saved 실종아동등의 보호 및 지원에 관한 법률 to 법령별 csv 저장\n"
     ]
    },
    {
     "name": "stderr",
     "output_type": "stream",
     "text": [
      " 64%|██████▍   | 960/1500 [26:55<13:40,  1.52s/it]"
     ]
    },
    {
     "name": "stdout",
     "output_type": "stream",
     "text": [
      "Saved 실험동물에 관한 법률 to 법령별 csv 저장\n"
     ]
    },
    {
     "name": "stderr",
     "output_type": "stream",
     "text": [
      " 64%|██████▍   | 961/1500 [26:56<12:57,  1.44s/it]"
     ]
    },
    {
     "name": "stdout",
     "output_type": "stream",
     "text": [
      "Saved 실화책임에 관한 법률 to 법령별 csv 저장\n"
     ]
    },
    {
     "name": "stderr",
     "output_type": "stream",
     "text": [
      " 64%|██████▍   | 962/1500 [26:58<13:23,  1.49s/it]"
     ]
    },
    {
     "name": "stdout",
     "output_type": "stream",
     "text": [
      "Saved 심뇌혈관질환의 예방 및 관리에 관한 법률 to 법령별 csv 저장\n"
     ]
    },
    {
     "name": "stderr",
     "output_type": "stream",
     "text": [
      " 64%|██████▍   | 963/1500 [26:59<12:29,  1.40s/it]"
     ]
    },
    {
     "name": "stdout",
     "output_type": "stream",
     "text": [
      "Saved 쌀가공산업 육성 및 쌀 이용 촉진에 관한 법률 to 법령별 csv 저장\n"
     ]
    },
    {
     "name": "stderr",
     "output_type": "stream",
     "text": [
      " 64%|██████▍   | 964/1500 [27:00<11:35,  1.30s/it]"
     ]
    },
    {
     "name": "stdout",
     "output_type": "stream",
     "text": [
      "Saved 씨름 진흥법 to 법령별 csv 저장\n"
     ]
    },
    {
     "name": "stderr",
     "output_type": "stream",
     "text": [
      " 64%|██████▍   | 965/1500 [27:01<12:41,  1.42s/it]"
     ]
    },
    {
     "name": "stdout",
     "output_type": "stream",
     "text": [
      "Saved 아동복지법 to 법령별 csv 저장\n"
     ]
    },
    {
     "name": "stderr",
     "output_type": "stream",
     "text": [
      " 64%|██████▍   | 966/1500 [27:03<12:33,  1.41s/it]"
     ]
    },
    {
     "name": "stdout",
     "output_type": "stream",
     "text": [
      "Saved 아동수당법 to 법령별 csv 저장\n"
     ]
    },
    {
     "name": "stderr",
     "output_type": "stream",
     "text": [
      " 64%|██████▍   | 967/1500 [27:04<11:52,  1.34s/it]"
     ]
    },
    {
     "name": "stdout",
     "output_type": "stream",
     "text": [
      "Saved 아동의 빈곤예방 및 지원 등에 관한 법률 to 법령별 csv 저장\n"
     ]
    },
    {
     "name": "stderr",
     "output_type": "stream",
     "text": [
      " 65%|██████▍   | 968/1500 [27:06<12:29,  1.41s/it]"
     ]
    },
    {
     "name": "stdout",
     "output_type": "stream",
     "text": [
      "Saved 아동ㆍ청소년의 성보호에 관한 법률 to 법령별 csv 저장\n"
     ]
    },
    {
     "name": "stderr",
     "output_type": "stream",
     "text": [
      " 65%|██████▍   | 969/1500 [27:07<12:42,  1.44s/it]"
     ]
    },
    {
     "name": "stdout",
     "output_type": "stream",
     "text": [
      "Saved 아동학대범죄의 처벌 등에 관한 특례법 to 법령별 csv 저장\n"
     ]
    }
   ],
   "source": [
    "import pandas as pd\n",
    "import re\n",
    "import os\n",
    "import xml.etree.ElementTree as ET\n",
    "from urllib.request import urlopen\n",
    "from tqdm import trange\n",
    "\n",
    "# 디렉토리 생성(없으면)\n",
    "output_dir = '법령별 csv 저장'\n",
    "if not os.path.exists(output_dir):\n",
    "    os.makedirs(output_dir)\n",
    "\n",
    "# CSV 파일 로드\n",
    "law_list = pd.read_csv(\"법령검색목록.csv\") #여기 파일 이름 지정\n",
    "\n",
    "def remove_tag(content):\n",
    "    \"\"\"XML에서 사용된 특수문자 제거용 함수\"\"\"\n",
    "    return re.sub('<.*?>', '', content)\n",
    "\n",
    "### {mst_value}를 바꿔가면서 사용할 베이스 url\n",
    "### OC 파트 반드시 확인!\n",
    "url_template = \"https://www.law.go.kr/DRF/lawService.do?OC=silverbreak&target=law&MST={mst_value}&type=XML\"\n",
    "\n",
    "\n",
    "# 법령 목록에 있는 각 항목에 대해 반복 처리_1500개 제한이 있는 거 같으니 1500까지만 지정\n",
    "for i in trange(1500):\n",
    "    mst_value = law_list.loc[i, '법령MST']  # MST 값: 각 법령을 식별하는 고유 ID\n",
    "    법령명 = law_list.loc[i, '법령명'].strip()  # 법령명: 법령의 이름\n",
    "    url = url_template.format(mst_value=mst_value)  # MST 값을 사용하여 URL 생성\n",
    "    \n",
    "    try:\n",
    "        # URL에서 XML 데이터 요청 및 읽기\n",
    "        response = urlopen(url).read()  # URL로부터 응답 데이터 읽기\n",
    "        response = response.decode('utf-8', errors='ignore')  # UTF-8로 디코딩하여 문자열로 변환\n",
    "        response = re.sub(r'<script.*?/>', '', response)  # <script/> 태그 제거 (불필요한 내용 정리)\n",
    "        \n",
    "        # 응답이 XML 형식인지 확인\n",
    "        if response.strip().startswith('<?xml'):\n",
    "            root = ET.fromstring(response)  # XML 파싱하여 ElementTree 객체로 변환\n",
    "        else:\n",
    "            # 응답이 XML 형식이 아닐 경우 경고 메시지를 출력하고 다음 법령으로 넘어감\n",
    "            print(f\"Non-XML response received for {법령명}\")\n",
    "            continue\n",
    "\n",
    "        all_rows = []  # 수집된 모든 법령 데이터를 저장할 리스트 초기화\n",
    "\n",
    "        # XML에서 <조문단위> 태그를 모두 찾아서 반복 처리\n",
    "        for clause in root.findall(\".//조문단위\"):\n",
    "            조문제목 = clause.find('조문제목')  # 조문제목 태그 찾기\n",
    "\n",
    "            # 기본 조문 정보 수집\n",
    "            조문정보 = {\n",
    "                '법령명': 법령명,\n",
    "                '조문번호': clause.find('조문번호').text if clause.find('조문번호') is not None else '',  # 조문번호가 없는 경우 빈 문자열 처리\n",
    "                '조문제목': remove_tag(조문제목.text) if 조문제목 is not None else '',  # 조문제목 태그가 있는 경우 태그 제거 후 추가\n",
    "                '조문내용': remove_tag(clause.find('조문내용').text) if clause.find('조문내용') is not None else '',  # 조문내용 태그가 있는 경우 태그 제거 후 추가\n",
    "                '조문시행일자': clause.find('조문시행일자').text if clause.find('조문시행일자') is not None else '',  # 시행일자가 없는 경우 빈 문자열 처리\n",
    "                '조문변경여부': clause.find('조문변경여부').text if clause.find('조문변경여부') is not None else ''  # 변경여부가 없는 경우 빈 문자열 처리\n",
    "            }\n",
    "\n",
    "            # 조문내용이 있는 경우만 기본 조문 정보를 추가\n",
    "            if 조문정보['조문내용']:\n",
    "                all_rows.append({**조문정보, '항': '', '호': '', '목': ''})\n",
    "\n",
    "            # <항> 태그를 찾아서 반복 처리\n",
    "            for depth1 in clause.findall('항'):\n",
    "                항내용 = depth1.find('항내용').text.strip() if depth1.find('항내용') is not None else ''  # 항내용 태그가 없는 경우 빈 문자열 처리\n",
    "                항_row = {**조문정보, '항': 항내용, '호': '', '목': ''}  # 항 정보를 포함한 새로운 행 생성\n",
    "                all_rows.append(항_row)  # 항 정보를 추가\n",
    "\n",
    "                # <호> 태그를 찾아서 반복 처리\n",
    "                for depth2 in depth1.findall('호'):\n",
    "                    호번호 = depth2.find('호번호').text.strip() if depth2.find('호번호') is not None else ''  # 호번호가 없는 경우 빈 문자열 처리\n",
    "                    호내용 = depth2.find('호내용').text.strip() if depth2.find('호내용') is not None else ''  # 호내용이 없는 경우 빈 문자열 처리\n",
    "                    호_row = {**항_row, '호': f\"{호번호} {호내용}\", '목': ''}  # 호 정보를 포함한 새로운 행 생성\n",
    "                    all_rows.append(호_row)  # 호 정보를 추가\n",
    "\n",
    "                    # <목> 태그를 찾아서 반복 처리\n",
    "                    for depth3 in depth2.findall('목'):\n",
    "                        목내용 = depth3.find('목내용').text.strip() if depth3.find('목내용') is not None else ''  # 목내용이 없는 경우 빈 문자열 처리\n",
    "                        목_row = {**호_row, '목': 목내용}  # 목 정보를 포함한 새로운 행 생성\n",
    "                        all_rows.append(목_row)  # 목 정보를 추가\n",
    "\n",
    "        # 수집한 데이터를 CSV 파일로 저장\n",
    "        if all_rows:\n",
    "            file_path = os.path.join(output_dir, f\"{법령명}.csv\")  # 저장할 파일 경로 지정\n",
    "            pd.DataFrame(all_rows).to_csv(file_path, index=False, encoding='utf-8-sig', sep='\\t')  # CSV 파일로 저장\n",
    "            print(f\"Saved {법령명} to {output_dir}\")\n",
    "        else:\n",
    "            # 수집된 데이터가 없을 경우 경고 메시지 출력\n",
    "            print(f\"No data found for {법령명}\")\n",
    "\n",
    "    except Exception as e:\n",
    "        # 에러 발생 시 에러 메시지와 원본 응답 출력 후 루프 종료\n",
    "        print(f\"Error fetching or parsing XML for {법령명} (MST: {mst_value}): {e}\")\n",
    "        print(\"Raw response:\")\n",
    "        print(response)  # 에러 발생 시 원본 응답 출력\n",
    "        break  # 루프 종료"
   ]
  },
  {
   "cell_type": "code",
   "execution_count": null,
   "id": "534bc257",
   "metadata": {},
   "outputs": [
    {
     "name": "stdout",
     "output_type": "stream",
     "text": [
      "Processing : 법령별 csv 저장\\10ㆍ27법난 피해자의 명예회복 등에 관한 법률.csv\n",
      "Updated file saved to: 법령별 csv 저장 중복제거\\10ㆍ27법난 피해자의 명예회복 등에 관한 법률.csv\n",
      "Processing : 법령별 csv 저장\\10ㆍ29이태원참사 피해자 권리보장과 진상규명 및 재발방지를 위한 특별법.csv\n",
      "Updated file saved to: 법령별 csv 저장 중복제거\\10ㆍ29이태원참사 피해자 권리보장과 진상규명 및 재발방지를 위한 특별법.csv\n",
      "Processing : 법령별 csv 저장\\112신고의 운영 및 처리에 관한 법률.csv\n",
      "Updated file saved to: 법령별 csv 저장 중복제거\\112신고의 운영 및 처리에 관한 법률.csv\n",
      "Processing : 법령별 csv 저장\\119구조ㆍ구급에 관한 법률.csv\n",
      "Updated file saved to: 법령별 csv 저장 중복제거\\119구조ㆍ구급에 관한 법률.csv\n",
      "Processing : 법령별 csv 저장\\119긴급신고의 관리 및 운영에 관한 법률.csv\n",
      "Updated file saved to: 법령별 csv 저장 중복제거\\119긴급신고의 관리 및 운영에 관한 법률.csv\n",
      "Processing : 법령별 csv 저장\\12ㆍ29여객기참사 피해구제 및 지원 등을 위한 특별법.csv\n",
      "Updated file saved to: 법령별 csv 저장 중복제거\\12ㆍ29여객기참사 피해구제 및 지원 등을 위한 특별법.csv\n",
      "Processing : 법령별 csv 저장\\1959년 12월 31일 이전에 퇴직한 군인의 퇴직급여금지급에 관한 특별법.csv\n",
      "Updated file saved to: 법령별 csv 저장 중복제거\\1959년 12월 31일 이전에 퇴직한 군인의 퇴직급여금지급에 관한 특별법.csv\n",
      "Processing : 법령별 csv 저장\\1980년해직공무원의보상등에관한특별조치법.csv\n",
      "Updated file saved to: 법령별 csv 저장 중복제거\\1980년해직공무원의보상등에관한특별조치법.csv\n",
      "Processing : 법령별 csv 저장\\1인 창조기업 육성에 관한 법률.csv\n",
      "Updated file saved to: 법령별 csv 저장 중복제거\\1인 창조기업 육성에 관한 법률.csv\n",
      "Processing : 법령별 csv 저장\\2018 평창 동계올림픽대회 및 동계패럴림픽대회 지원 등에 관한 특별법.csv\n",
      "Updated file saved to: 법령별 csv 저장 중복제거\\2018 평창 동계올림픽대회 및 동계패럴림픽대회 지원 등에 관한 특별법.csv\n",
      "Processing : 법령별 csv 저장\\2025 경주 아시아태평양경제협력체 정상회의 지원 특별법.csv\n",
      "Updated file saved to: 법령별 csv 저장 중복제거\\2025 경주 아시아태평양경제협력체 정상회의 지원 특별법.csv\n",
      "Processing : 법령별 csv 저장\\30개월 이상 복무한 상등병 만기전역자의 특별진급을 위한 특별법.csv\n",
      "Updated file saved to: 법령별 csv 저장 중복제거\\30개월 이상 복무한 상등병 만기전역자의 특별진급을 위한 특별법.csv\n",
      "Processing : 법령별 csv 저장\\3ㆍ15의거 참여자의 명예회복 등에 관한 법률.csv\n",
      "Updated file saved to: 법령별 csv 저장 중복제거\\3ㆍ15의거 참여자의 명예회복 등에 관한 법률.csv\n",
      "Processing : 법령별 csv 저장\\4ㆍ16세월호참사 진상규명 및 안전사회 건설 등을 위한 특별법.csv\n",
      "Updated file saved to: 법령별 csv 저장 중복제거\\4ㆍ16세월호참사 진상규명 및 안전사회 건설 등을 위한 특별법.csv\n",
      "Processing : 법령별 csv 저장\\4ㆍ16세월호참사 피해구제 및 지원 등을 위한 특별법.csv\n",
      "Updated file saved to: 법령별 csv 저장 중복제거\\4ㆍ16세월호참사 피해구제 및 지원 등을 위한 특별법.csv\n",
      "Processing : 법령별 csv 저장\\5ㆍ18민주유공자예우 및 단체설립에 관한 법률.csv\n",
      "Updated file saved to: 법령별 csv 저장 중복제거\\5ㆍ18민주유공자예우 및 단체설립에 관한 법률.csv\n",
      "Processing : 법령별 csv 저장\\5ㆍ18민주화운동 관련자 보상 등에 관한 법률.csv\n",
      "Updated file saved to: 법령별 csv 저장 중복제거\\5ㆍ18민주화운동 관련자 보상 등에 관한 법률.csv\n",
      "Processing : 법령별 csv 저장\\5ㆍ18민주화운동 등에 관한 특별법.csv\n",
      "Updated file saved to: 법령별 csv 저장 중복제거\\5ㆍ18민주화운동 등에 관한 특별법.csv\n",
      "Processing : 법령별 csv 저장\\5ㆍ18민주화운동 진상규명을 위한 특별법.csv\n",
      "Updated file saved to: 법령별 csv 저장 중복제거\\5ㆍ18민주화운동 진상규명을 위한 특별법.csv\n",
      "Processing : 법령별 csv 저장\\6ㆍ25 전사자유해의 발굴 등에 관한 법률.csv\n",
      "Updated file saved to: 법령별 csv 저장 중복제거\\6ㆍ25 전사자유해의 발굴 등에 관한 법률.csv\n",
      "Processing : 법령별 csv 저장\\6ㆍ25전쟁 납북피해 진상규명 및 납북피해자 명예회복에 관한 법률.csv\n",
      "Updated file saved to: 법령별 csv 저장 중복제거\\6ㆍ25전쟁 납북피해 진상규명 및 납북피해자 명예회복에 관한 법률.csv\n",
      "Processing : 법령별 csv 저장\\6ㆍ25전쟁 무공훈장 수여 등에 관한 법률.csv\n",
      "Updated file saved to: 법령별 csv 저장 중복제거\\6ㆍ25전쟁 무공훈장 수여 등에 관한 법률.csv\n",
      "Processing : 법령별 csv 저장\\6ㆍ25전쟁 전후 적 지역에서 활동한 비정규군 공로자 보상에 관한 법률.csv\n",
      "Updated file saved to: 법령별 csv 저장 중복제거\\6ㆍ25전쟁 전후 적 지역에서 활동한 비정규군 공로자 보상에 관한 법률.csv\n",
      "Processing : 법령별 csv 저장\\가덕도신공항건설공단법.csv\n",
      "Updated file saved to: 법령별 csv 저장 중복제거\\가덕도신공항건설공단법.csv\n",
      "Processing : 법령별 csv 저장\\가덕도신공항 건설을 위한 특별법.csv\n",
      "Updated file saved to: 법령별 csv 저장 중복제거\\가덕도신공항 건설을 위한 특별법.csv\n",
      "Processing : 법령별 csv 저장\\가등기담보 등에 관한 법률.csv\n",
      "Updated file saved to: 법령별 csv 저장 중복제거\\가등기담보 등에 관한 법률.csv\n",
      "Processing : 법령별 csv 저장\\가맹사업거래의 공정화에 관한 법률.csv\n",
      "Updated file saved to: 법령별 csv 저장 중복제거\\가맹사업거래의 공정화에 관한 법률.csv\n",
      "Processing : 법령별 csv 저장\\가맹사업 진흥에 관한 법률.csv\n",
      "Updated file saved to: 법령별 csv 저장 중복제거\\가맹사업 진흥에 관한 법률.csv\n",
      "Processing : 법령별 csv 저장\\가사근로자의 고용개선 등에 관한 법률.csv\n",
      "Updated file saved to: 법령별 csv 저장 중복제거\\가사근로자의 고용개선 등에 관한 법률.csv\n",
      "Processing : 법령별 csv 저장\\가사소송법.csv\n",
      "Updated file saved to: 법령별 csv 저장 중복제거\\가사소송법.csv\n",
      "Processing : 법령별 csv 저장\\가상융합산업 진흥법.csv\n",
      "Updated file saved to: 법령별 csv 저장 중복제거\\가상융합산업 진흥법.csv\n",
      "Processing : 법령별 csv 저장\\가상자산 이용자 보호 등에 관한 법률.csv\n",
      "Updated file saved to: 법령별 csv 저장 중복제거\\가상자산 이용자 보호 등에 관한 법률.csv\n",
      "Processing : 법령별 csv 저장\\가습기살균제 피해구제를 위한 특별법.csv\n",
      "Updated file saved to: 법령별 csv 저장 중복제거\\가습기살균제 피해구제를 위한 특별법.csv\n",
      "Processing : 법령별 csv 저장\\가정폭력방지 및 피해자보호 등에 관한 법률.csv\n",
      "Updated file saved to: 법령별 csv 저장 중복제거\\가정폭력방지 및 피해자보호 등에 관한 법률.csv\n",
      "Processing : 법령별 csv 저장\\가정폭력범죄의 처벌 등에 관한 특례법.csv\n",
      "Updated file saved to: 법령별 csv 저장 중복제거\\가정폭력범죄의 처벌 등에 관한 특례법.csv\n",
      "Processing : 법령별 csv 저장\\가족관계의 등록 등에 관한 법률.csv\n",
      "Updated file saved to: 법령별 csv 저장 중복제거\\가족관계의 등록 등에 관한 법률.csv\n",
      "Processing : 법령별 csv 저장\\가족친화 사회환경의 조성 촉진에 관한 법률.csv\n",
      "Updated file saved to: 법령별 csv 저장 중복제거\\가족친화 사회환경의 조성 촉진에 관한 법률.csv\n",
      "Processing : 법령별 csv 저장\\가축 및 축산물 이력관리에 관한 법률.csv\n",
      "Updated file saved to: 법령별 csv 저장 중복제거\\가축 및 축산물 이력관리에 관한 법률.csv\n",
      "Processing : 법령별 csv 저장\\가축분뇨의 관리 및 이용에 관한 법률.csv\n",
      "Updated file saved to: 법령별 csv 저장 중복제거\\가축분뇨의 관리 및 이용에 관한 법률.csv\n",
      "Processing : 법령별 csv 저장\\가축전염병 예방법.csv\n",
      "Updated file saved to: 법령별 csv 저장 중복제거\\가축전염병 예방법.csv\n",
      "Processing : 법령별 csv 저장\\각급 법원의 설치와 관할구역에 관한 법률.csv\n",
      "Updated file saved to: 법령별 csv 저장 중복제거\\각급 법원의 설치와 관할구역에 관한 법률.csv\n",
      "Processing : 법령별 csv 저장\\각급 법원 판사 정원법.csv\n",
      "Updated file saved to: 법령별 csv 저장 중복제거\\각급 법원 판사 정원법.csv\n",
      "Processing : 법령별 csv 저장\\간선급행버스체계의 건설 및 운영에 관한 특별법.csv\n",
      "Updated file saved to: 법령별 csv 저장 중복제거\\간선급행버스체계의 건설 및 운영에 관한 특별법.csv\n",
      "Processing : 법령별 csv 저장\\간척지의 농어업적 이용 및 관리에 관한 법률.csv\n",
      "Updated file saved to: 법령별 csv 저장 중복제거\\간척지의 농어업적 이용 및 관리에 관한 법률.csv\n",
      "Processing : 법령별 csv 저장\\간호법.csv\n",
      "Updated file saved to: 법령별 csv 저장 중복제거\\간호법.csv\n",
      "Processing : 법령별 csv 저장\\감사원법.csv\n",
      "Updated file saved to: 법령별 csv 저장 중복제거\\감사원법.csv\n",
      "Processing : 법령별 csv 저장\\감염병의 예방 및 관리에 관한 법률.csv\n",
      "Updated file saved to: 법령별 csv 저장 중복제거\\감염병의 예방 및 관리에 관한 법률.csv\n",
      "Processing : 법령별 csv 저장\\감정평가 및 감정평가사에 관한 법률.csv\n",
      "Updated file saved to: 법령별 csv 저장 중복제거\\감정평가 및 감정평가사에 관한 법률.csv\n",
      "Processing : 법령별 csv 저장\\강원특별자치도 설치 및 미래산업글로벌도시 조성을 위한 특별법.csv\n",
      "Updated file saved to: 법령별 csv 저장 중복제거\\강원특별자치도 설치 및 미래산업글로벌도시 조성을 위한 특별법.csv\n",
      "Processing : 법령별 csv 저장\\개발도상국 산림을 통한 온실가스 배출 감축 및 탄소 축적 증진 지원에 관한 법률.csv\n",
      "Updated file saved to: 법령별 csv 저장 중복제거\\개발도상국 산림을 통한 온실가스 배출 감축 및 탄소 축적 증진 지원에 관한 법률.csv\n",
      "Processing : 법령별 csv 저장\\개발이익 환수에 관한 법률.csv\n",
      "Updated file saved to: 법령별 csv 저장 중복제거\\개발이익 환수에 관한 법률.csv\n",
      "Processing : 법령별 csv 저장\\개발제한구역의 지정 및 관리에 관한 특별조치법.csv\n",
      "Updated file saved to: 법령별 csv 저장 중복제거\\개발제한구역의 지정 및 관리에 관한 특별조치법.csv\n",
      "Processing : 법령별 csv 저장\\개별소비세법.csv\n",
      "Updated file saved to: 법령별 csv 저장 중복제거\\개별소비세법.csv\n",
      "Processing : 법령별 csv 저장\\개성공업지구 지원에 관한 법률.csv\n",
      "Updated file saved to: 법령별 csv 저장 중복제거\\개성공업지구 지원에 관한 법률.csv\n",
      "Processing : 법령별 csv 저장\\개의 식용 목적의 사육ㆍ도살 및 유통 등 종식에 관한 특별법.csv\n",
      "Updated file saved to: 법령별 csv 저장 중복제거\\개의 식용 목적의 사육ㆍ도살 및 유통 등 종식에 관한 특별법.csv\n",
      "Processing : 법령별 csv 저장\\개인금융채권의 관리 및 개인금융채무자의 보호에 관한 법률.csv\n",
      "Updated file saved to: 법령별 csv 저장 중복제거\\개인금융채권의 관리 및 개인금융채무자의 보호에 관한 법률.csv\n",
      "Processing : 법령별 csv 저장\\개인정보 보호법.csv\n",
      "Updated file saved to: 법령별 csv 저장 중복제거\\개인정보 보호법.csv\n",
      "Processing : 법령별 csv 저장\\갯벌 및 그 주변지역의 지속가능한 관리와 복원에 관한 법률.csv\n",
      "Updated file saved to: 법령별 csv 저장 중복제거\\갯벌 및 그 주변지역의 지속가능한 관리와 복원에 관한 법률.csv\n",
      "Processing : 법령별 csv 저장\\거창사건등 관련자의 명예회복에 관한 특별조치법.csv\n",
      "Updated file saved to: 법령별 csv 저장 중복제거\\거창사건등 관련자의 명예회복에 관한 특별조치법.csv\n",
      "Processing : 법령별 csv 저장\\건강가정기본법.csv\n",
      "Updated file saved to: 법령별 csv 저장 중복제거\\건강가정기본법.csv\n",
      "Processing : 법령별 csv 저장\\건강검진기본법.csv\n",
      "Updated file saved to: 법령별 csv 저장 중복제거\\건강검진기본법.csv\n",
      "Processing : 법령별 csv 저장\\건강기능식품에 관한 법률.csv\n",
      "Updated file saved to: 법령별 csv 저장 중복제거\\건강기능식품에 관한 법률.csv\n",
      "Processing : 법령별 csv 저장\\건널목 개량촉진법.csv\n",
      "Updated file saved to: 법령별 csv 저장 중복제거\\건널목 개량촉진법.csv\n",
      "Processing : 법령별 csv 저장\\건설근로자의 고용개선 등에 관한 법률.csv\n",
      "Updated file saved to: 법령별 csv 저장 중복제거\\건설근로자의 고용개선 등에 관한 법률.csv\n",
      "Processing : 법령별 csv 저장\\건설기계관리법.csv\n",
      "Updated file saved to: 법령별 csv 저장 중복제거\\건설기계관리법.csv\n",
      "Processing : 법령별 csv 저장\\건설기술 진흥법.csv\n",
      "Updated file saved to: 법령별 csv 저장 중복제거\\건설기술 진흥법.csv\n",
      "Processing : 법령별 csv 저장\\건설산업기본법.csv\n",
      "Updated file saved to: 법령별 csv 저장 중복제거\\건설산업기본법.csv\n",
      "Processing : 법령별 csv 저장\\건설폐기물의 재활용촉진에 관한 법률.csv\n",
      "Updated file saved to: 법령별 csv 저장 중복제거\\건설폐기물의 재활용촉진에 관한 법률.csv\n",
      "Processing : 법령별 csv 저장\\건전가정의례의 정착 및 지원에 관한 법률.csv\n",
      "Updated file saved to: 법령별 csv 저장 중복제거\\건전가정의례의 정착 및 지원에 관한 법률.csv\n",
      "Processing : 법령별 csv 저장\\건축기본법.csv\n",
      "Updated file saved to: 법령별 csv 저장 중복제거\\건축기본법.csv\n",
      "Processing : 법령별 csv 저장\\건축물관리법.csv\n",
      "Updated file saved to: 법령별 csv 저장 중복제거\\건축물관리법.csv\n",
      "Processing : 법령별 csv 저장\\건축물의 분양에 관한 법률.csv\n",
      "Updated file saved to: 법령별 csv 저장 중복제거\\건축물의 분양에 관한 법률.csv\n",
      "Processing : 법령별 csv 저장\\건축법.csv\n",
      "Updated file saved to: 법령별 csv 저장 중복제거\\건축법.csv\n",
      "Processing : 법령별 csv 저장\\건축사법.csv\n",
      "Updated file saved to: 법령별 csv 저장 중복제거\\건축사법.csv\n",
      "Processing : 법령별 csv 저장\\건축서비스산업 진흥법.csv\n",
      "Updated file saved to: 법령별 csv 저장 중복제거\\건축서비스산업 진흥법.csv\n",
      "Processing : 법령별 csv 저장\\검사의 보수에 관한 법률.csv\n",
      "Updated file saved to: 법령별 csv 저장 중복제거\\검사의 보수에 관한 법률.csv\n",
      "Processing : 법령별 csv 저장\\검사정원법.csv\n",
      "Updated file saved to: 법령별 csv 저장 중복제거\\검사정원법.csv\n",
      "Processing : 법령별 csv 저장\\검사징계법.csv\n",
      "Updated file saved to: 법령별 csv 저장 중복제거\\검사징계법.csv\n",
      "Processing : 법령별 csv 저장\\검역법.csv\n",
      "Updated file saved to: 법령별 csv 저장 중복제거\\검역법.csv\n",
      "Processing : 법령별 csv 저장\\검찰청법.csv\n",
      "Updated file saved to: 법령별 csv 저장 중복제거\\검찰청법.csv\n",
      "Processing : 법령별 csv 저장\\게임산업진흥에 관한 법률.csv\n",
      "Updated file saved to: 법령별 csv 저장 중복제거\\게임산업진흥에 관한 법률.csv\n",
      "Processing : 법령별 csv 저장\\겨레말큰사전남북공동편찬사업회법.csv\n",
      "Updated file saved to: 법령별 csv 저장 중복제거\\겨레말큰사전남북공동편찬사업회법.csv\n",
      "Processing : 법령별 csv 저장\\결핵예방법.csv\n",
      "Updated file saved to: 법령별 csv 저장 중복제거\\결핵예방법.csv\n",
      "Processing : 법령별 csv 저장\\결혼중개업의 관리에 관한 법률.csv\n",
      "Updated file saved to: 법령별 csv 저장 중복제거\\결혼중개업의 관리에 관한 법률.csv\n",
      "Processing : 법령별 csv 저장\\경관법.csv\n",
      "Updated file saved to: 법령별 csv 저장 중복제거\\경관법.csv\n",
      "Processing : 법령별 csv 저장\\경륜ㆍ경정법.csv\n",
      "Updated file saved to: 법령별 csv 저장 중복제거\\경륜ㆍ경정법.csv\n",
      "Processing : 법령별 csv 저장\\경범죄 처벌법.csv\n",
      "Updated file saved to: 법령별 csv 저장 중복제거\\경범죄 처벌법.csv\n",
      "Processing : 법령별 csv 저장\\경비교도대 폐지에 따른 보상 등에 관한 법률.csv\n",
      "Updated file saved to: 법령별 csv 저장 중복제거\\경비교도대 폐지에 따른 보상 등에 관한 법률.csv\n",
      "Processing : 법령별 csv 저장\\경비업법.csv\n",
      "Updated file saved to: 법령별 csv 저장 중복제거\\경비업법.csv\n",
      "Processing : 법령별 csv 저장\\경상북도와 대구광역시 간 관할구역 변경에 관한 법률.csv\n",
      "Updated file saved to: 법령별 csv 저장 중복제거\\경상북도와 대구광역시 간 관할구역 변경에 관한 법률.csv\n",
      "Processing : 법령별 csv 저장\\경영지도사 및 기술지도사에 관한 법률.csv\n",
      "Updated file saved to: 법령별 csv 저장 중복제거\\경영지도사 및 기술지도사에 관한 법률.csv\n",
      "Processing : 법령별 csv 저장\\경제교육지원법.csv\n",
      "Updated file saved to: 법령별 csv 저장 중복제거\\경제교육지원법.csv\n",
      "Processing : 법령별 csv 저장\\경제사회노동위원회법.csv\n",
      "Updated file saved to: 법령별 csv 저장 중복제거\\경제사회노동위원회법.csv\n",
      "Processing : 법령별 csv 저장\\경제안보를 위한 공급망 안정화 지원 기본법.csv\n",
      "Updated file saved to: 법령별 csv 저장 중복제거\\경제안보를 위한 공급망 안정화 지원 기본법.csv\n",
      "Processing : 법령별 csv 저장\\경제자유구역 및 제주국제자유도시의 외국교육기관 설립ㆍ운영에 관한 특별법.csv\n",
      "Updated file saved to: 법령별 csv 저장 중복제거\\경제자유구역 및 제주국제자유도시의 외국교육기관 설립ㆍ운영에 관한 특별법.csv\n",
      "Processing : 법령별 csv 저장\\경제자유구역의 지정 및 운영에 관한 특별법.csv\n",
      "Updated file saved to: 법령별 csv 저장 중복제거\\경제자유구역의 지정 및 운영에 관한 특별법.csv\n",
      "Processing : 법령별 csv 저장\\경찰공무원법.csv\n",
      "Updated file saved to: 법령별 csv 저장 중복제거\\경찰공무원법.csv\n",
      "Processing : 법령별 csv 저장\\경찰공무원 보건안전 및 복지 기본법.csv\n",
      "Updated file saved to: 법령별 csv 저장 중복제거\\경찰공무원 보건안전 및 복지 기본법.csv\n",
      "Processing : 법령별 csv 저장\\경찰공제회법.csv\n",
      "Updated file saved to: 법령별 csv 저장 중복제거\\경찰공제회법.csv\n",
      "Processing : 법령별 csv 저장\\경찰관 직무집행법.csv\n",
      "Updated file saved to: 법령별 csv 저장 중복제거\\경찰관 직무집행법.csv\n",
      "Processing : 법령별 csv 저장\\경찰대학 설치법.csv\n",
      "Updated file saved to: 법령별 csv 저장 중복제거\\경찰대학 설치법.csv\n",
      "Processing : 법령별 csv 저장\\경찰제복 및 경찰장비의 규제에 관한 법률.csv\n",
      "Updated file saved to: 법령별 csv 저장 중복제거\\경찰제복 및 경찰장비의 규제에 관한 법률.csv\n",
      "Processing : 법령별 csv 저장\\경찰직무 응원법.csv\n",
      "Updated file saved to: 법령별 csv 저장 중복제거\\경찰직무 응원법.csv\n",
      "Processing : 법령별 csv 저장\\계량에 관한 법률.csv\n",
      "Updated file saved to: 법령별 csv 저장 중복제거\\계량에 관한 법률.csv\n",
      "Processing : 법령별 csv 저장\\계엄법.csv\n",
      "Updated file saved to: 법령별 csv 저장 중복제거\\계엄법.csv\n",
      "Processing : 법령별 csv 저장\\고도 보존 및 육성에 관한 특별법.csv\n",
      "Updated file saved to: 법령별 csv 저장 중복제거\\고도 보존 및 육성에 관한 특별법.csv\n",
      "Processing : 법령별 csv 저장\\고독사 예방 및 관리에 관한 법률.csv\n",
      "Updated file saved to: 법령별 csv 저장 중복제거\\고독사 예방 및 관리에 관한 법률.csv\n",
      "Processing : 법령별 csv 저장\\고등교육법.csv\n",
      "Updated file saved to: 법령별 csv 저장 중복제거\\고등교육법.csv\n",
      "Processing : 법령별 csv 저장\\고등ㆍ평생교육지원특별회계법.csv\n",
      "Updated file saved to: 법령별 csv 저장 중복제거\\고등ㆍ평생교육지원특별회계법.csv\n",
      "Processing : 법령별 csv 저장\\고려인동포 합법적 체류자격 취득 및 정착 지원을 위한 특별법.csv\n",
      "Updated file saved to: 법령별 csv 저장 중복제거\\고려인동포 합법적 체류자격 취득 및 정착 지원을 위한 특별법.csv\n",
      "Processing : 법령별 csv 저장\\고령친화산업 진흥법.csv\n",
      "Updated file saved to: 법령별 csv 저장 중복제거\\고령친화산업 진흥법.csv\n",
      "Processing : 법령별 csv 저장\\고압가스 안전관리법.csv\n",
      "Updated file saved to: 법령별 csv 저장 중복제거\\고압가스 안전관리법.csv\n",
      "Processing : 법령별 csv 저장\\고엽제후유의증 등 환자지원 및 단체설립에 관한 법률.csv\n",
      "Updated file saved to: 법령별 csv 저장 중복제거\\고엽제후유의증 등 환자지원 및 단체설립에 관한 법률.csv\n",
      "Processing : 법령별 csv 저장\\고용보험 및 산업재해보상보험의 보험료징수 등에 관한 법률.csv\n",
      "Updated file saved to: 법령별 csv 저장 중복제거\\고용보험 및 산업재해보상보험의 보험료징수 등에 관한 법률.csv\n",
      "Processing : 법령별 csv 저장\\고용보험법.csv\n",
      "Updated file saved to: 법령별 csv 저장 중복제거\\고용보험법.csv\n",
      "Processing : 법령별 csv 저장\\고용보험ㆍ산업재해보상보험의 보험관계 성립신고 등의 촉진을 위한 특별조치법.csv\n",
      "Updated file saved to: 법령별 csv 저장 중복제거\\고용보험ㆍ산업재해보상보험의 보험관계 성립신고 등의 촉진을 위한 특별조치법.csv\n",
      "Processing : 법령별 csv 저장\\고용상 연령차별금지 및 고령자고용촉진에 관한 법률.csv\n",
      "Updated file saved to: 법령별 csv 저장 중복제거\\고용상 연령차별금지 및 고령자고용촉진에 관한 법률.csv\n",
      "Processing : 법령별 csv 저장\\고용정책 기본법.csv\n",
      "Updated file saved to: 법령별 csv 저장 중복제거\\고용정책 기본법.csv\n",
      "Processing : 법령별 csv 저장\\고위공직자범죄수사처 설치 및 운영에 관한 법률.csv\n",
      "Updated file saved to: 법령별 csv 저장 중복제거\\고위공직자범죄수사처 설치 및 운영에 관한 법률.csv\n",
      "Processing : 법령별 csv 저장\\고향사랑 기부금에 관한 법률.csv\n",
      "Updated file saved to: 법령별 csv 저장 중복제거\\고향사랑 기부금에 관한 법률.csv\n",
      "Processing : 법령별 csv 저장\\곤충산업의 육성 및 지원에 관한 법률.csv\n",
      "Updated file saved to: 법령별 csv 저장 중복제거\\곤충산업의 육성 및 지원에 관한 법률.csv\n",
      "Processing : 법령별 csv 저장\\골재채취법.csv\n",
      "Updated file saved to: 법령별 csv 저장 중복제거\\골재채취법.csv\n",
      "Processing : 법령별 csv 저장\\공간정보산업 진흥법.csv\n",
      "Updated file saved to: 법령별 csv 저장 중복제거\\공간정보산업 진흥법.csv\n",
      "Processing : 법령별 csv 저장\\공간정보의 구축 및 관리 등에 관한 법률.csv\n",
      "Updated file saved to: 법령별 csv 저장 중복제거\\공간정보의 구축 및 관리 등에 관한 법률.csv\n",
      "Processing : 법령별 csv 저장\\공공감사에 관한 법률.csv\n",
      "Updated file saved to: 법령별 csv 저장 중복제거\\공공감사에 관한 법률.csv\n",
      "Processing : 법령별 csv 저장\\공공기관의 운영에 관한 법률.csv\n",
      "Updated file saved to: 법령별 csv 저장 중복제거\\공공기관의 운영에 관한 법률.csv\n",
      "Processing : 법령별 csv 저장\\공공기관의 정보공개에 관한 법률.csv\n",
      "Updated file saved to: 법령별 csv 저장 중복제거\\공공기관의 정보공개에 관한 법률.csv\n",
      "Processing : 법령별 csv 저장\\공공기록물 관리에 관한 법률.csv\n",
      "Updated file saved to: 법령별 csv 저장 중복제거\\공공기록물 관리에 관한 법률.csv\n",
      "Processing : 법령별 csv 저장\\공공단체등 위탁선거에 관한 법률.csv\n",
      "Updated file saved to: 법령별 csv 저장 중복제거\\공공단체등 위탁선거에 관한 법률.csv\n",
      "Processing : 법령별 csv 저장\\공공데이터의 제공 및 이용 활성화에 관한 법률.csv\n",
      "Updated file saved to: 법령별 csv 저장 중복제거\\공공데이터의 제공 및 이용 활성화에 관한 법률.csv\n",
      "Processing : 법령별 csv 저장\\공공디자인의 진흥에 관한 법률.csv\n",
      "Updated file saved to: 법령별 csv 저장 중복제거\\공공디자인의 진흥에 관한 법률.csv\n",
      "Processing : 법령별 csv 저장\\공공보건의료에 관한 법률.csv\n",
      "Updated file saved to: 법령별 csv 저장 중복제거\\공공보건의료에 관한 법률.csv\n",
      "Processing : 법령별 csv 저장\\공공외교법.csv\n",
      "Updated file saved to: 법령별 csv 저장 중복제거\\공공외교법.csv\n",
      "Processing : 법령별 csv 저장\\공공자금관리기금법.csv\n",
      "Updated file saved to: 법령별 csv 저장 중복제거\\공공자금관리기금법.csv\n",
      "Processing : 법령별 csv 저장\\공공재정 부정청구 금지 및 부정이익 환수 등에 관한 법률.csv\n",
      "Updated file saved to: 법령별 csv 저장 중복제거\\공공재정 부정청구 금지 및 부정이익 환수 등에 관한 법률.csv\n",
      "Processing : 법령별 csv 저장\\공공주택 특별법.csv\n",
      "Updated file saved to: 법령별 csv 저장 중복제거\\공공주택 특별법.csv\n",
      "Processing : 법령별 csv 저장\\공공차관의 도입 및 관리에 관한 법률.csv\n",
      "Updated file saved to: 법령별 csv 저장 중복제거\\공공차관의 도입 및 관리에 관한 법률.csv\n",
      "Processing : 법령별 csv 저장\\공공토지의 비축에 관한 법률.csv\n",
      "Updated file saved to: 법령별 csv 저장 중복제거\\공공토지의 비축에 관한 법률.csv\n",
      "Processing : 법령별 csv 저장\\공공폐자원관리시설의 설치ㆍ운영 및 주민지원 등에 관한 특별법.csv\n",
      "Updated file saved to: 법령별 csv 저장 중복제거\\공공폐자원관리시설의 설치ㆍ운영 및 주민지원 등에 관한 특별법.csv\n",
      "Processing : 법령별 csv 저장\\공교육 정상화 촉진 및 선행교육 규제에 관한 특별법.csv\n",
      "Updated file saved to: 법령별 csv 저장 중복제거\\공교육 정상화 촉진 및 선행교육 규제에 관한 특별법.csv\n",
      "Processing : 법령별 csv 저장\\공군 20전투비행단 이예람 중사 사망 사건 관련 군 내 성폭력 및 2차 피해 등의 진상규명을 위한 특별검사 임명 등에 관한 법률.csv\n",
      "Updated file saved to: 법령별 csv 저장 중복제거\\공군 20전투비행단 이예람 중사 사망 사건 관련 군 내 성폭력 및 2차 피해 등의 진상규명을 위한 특별검사 임명 등에 관한 법률.csv\n",
      "Processing : 법령별 csv 저장\\공군항공과학고등학교 설치법.csv\n",
      "Updated file saved to: 법령별 csv 저장 중복제거\\공군항공과학고등학교 설치법.csv\n",
      "Processing : 법령별 csv 저장\\공기업의 경영구조개선 및 민영화에 관한 법률.csv\n",
      "Updated file saved to: 법령별 csv 저장 중복제거\\공기업의 경영구조개선 및 민영화에 관한 법률.csv\n",
      "Processing : 법령별 csv 저장\\공동주택관리법.csv\n",
      "Updated file saved to: 법령별 csv 저장 중복제거\\공동주택관리법.csv\n",
      "Processing : 법령별 csv 저장\\공무원 노동조합 관련 해직공무원등의 복직 등에 관한 특별법.csv\n",
      "Updated file saved to: 법령별 csv 저장 중복제거\\공무원 노동조합 관련 해직공무원등의 복직 등에 관한 특별법.csv\n",
      "Processing : 법령별 csv 저장\\공무원범죄에 관한 몰수 특례법.csv\n",
      "Updated file saved to: 법령별 csv 저장 중복제거\\공무원범죄에 관한 몰수 특례법.csv\n",
      "Processing : 법령별 csv 저장\\공무원연금법.csv\n",
      "Updated file saved to: 법령별 csv 저장 중복제거\\공무원연금법.csv\n",
      "Processing : 법령별 csv 저장\\공무원의 노동조합 설립 및 운영 등에 관한 법률.csv\n",
      "Updated file saved to: 법령별 csv 저장 중복제거\\공무원의 노동조합 설립 및 운영 등에 관한 법률.csv\n",
      "Processing : 법령별 csv 저장\\공무원 인재개발법.csv\n",
      "Updated file saved to: 법령별 csv 저장 중복제거\\공무원 인재개발법.csv\n",
      "Processing : 법령별 csv 저장\\공무원 재해보상법.csv\n",
      "Updated file saved to: 법령별 csv 저장 중복제거\\공무원 재해보상법.csv\n",
      "Processing : 법령별 csv 저장\\공무원직장협의회의 설립ㆍ운영에 관한 법률.csv\n",
      "Updated file saved to: 법령별 csv 저장 중복제거\\공무원직장협의회의 설립ㆍ운영에 관한 법률.csv\n",
      "Processing : 법령별 csv 저장\\공사중단 장기방치 건축물의 정비 등에 관한 특별조치법.csv\n",
      "Updated file saved to: 법령별 csv 저장 중복제거\\공사중단 장기방치 건축물의 정비 등에 관한 특별조치법.csv\n",
      "Processing : 법령별 csv 저장\\공연법.csv\n",
      "Updated file saved to: 법령별 csv 저장 중복제거\\공연법.csv\n",
      "Processing : 법령별 csv 저장\\공예문화산업 진흥법.csv\n",
      "Updated file saved to: 법령별 csv 저장 중복제거\\공예문화산업 진흥법.csv\n",
      "Processing : 법령별 csv 저장\\공유수면 관리 및 매립에 관한 법률.csv\n",
      "Updated file saved to: 법령별 csv 저장 중복제거\\공유수면 관리 및 매립에 관한 법률.csv\n",
      "Processing : 법령별 csv 저장\\공유재산 및 물품 관리법.csv\n",
      "Updated file saved to: 법령별 csv 저장 중복제거\\공유재산 및 물품 관리법.csv\n",
      "Processing : 법령별 csv 저장\\공익법무관에 관한 법률.csv\n",
      "Updated file saved to: 법령별 csv 저장 중복제거\\공익법무관에 관한 법률.csv\n",
      "Processing : 법령별 csv 저장\\공익법인의 설립ㆍ운영에 관한 법률.csv\n",
      "Updated file saved to: 법령별 csv 저장 중복제거\\공익법인의 설립ㆍ운영에 관한 법률.csv\n",
      "Processing : 법령별 csv 저장\\공익사업을 위한 토지 등의 취득 및 보상에 관한 법률.csv\n",
      "Updated file saved to: 법령별 csv 저장 중복제거\\공익사업을 위한 토지 등의 취득 및 보상에 관한 법률.csv\n",
      "Processing : 법령별 csv 저장\\공익신고자 보호법.csv\n",
      "Updated file saved to: 법령별 csv 저장 중복제거\\공익신고자 보호법.csv\n",
      "Processing : 법령별 csv 저장\\공익신탁법.csv\n",
      "Updated file saved to: 법령별 csv 저장 중복제거\\공익신탁법.csv\n",
      "Processing : 법령별 csv 저장\\공인노무사법.csv\n",
      "Updated file saved to: 법령별 csv 저장 중복제거\\공인노무사법.csv\n",
      "Processing : 법령별 csv 저장\\공인중개사법.csv\n",
      "Updated file saved to: 법령별 csv 저장 중복제거\\공인중개사법.csv\n",
      "Processing : 법령별 csv 저장\\공인회계사법.csv\n",
      "Updated file saved to: 법령별 csv 저장 중복제거\\공인회계사법.csv\n",
      "Processing : 법령별 csv 저장\\공장 및 광업재단 저당법.csv\n",
      "Updated file saved to: 법령별 csv 저장 중복제거\\공장 및 광업재단 저당법.csv\n",
      "Processing : 법령별 csv 저장\\공적자금관리 특별법.csv\n",
      "Updated file saved to: 법령별 csv 저장 중복제거\\공적자금관리 특별법.csv\n",
      "Processing : 법령별 csv 저장\\공적자금상환기금법.csv\n",
      "Updated file saved to: 법령별 csv 저장 중복제거\\공적자금상환기금법.csv\n",
      "Processing : 법령별 csv 저장\\공중 등 협박목적 및 대량살상무기확산을 위한 자금조달행위의 금지에 관한 법률.csv\n",
      "Updated file saved to: 법령별 csv 저장 중복제거\\공중 등 협박목적 및 대량살상무기확산을 위한 자금조달행위의 금지에 관한 법률.csv\n",
      "Processing : 법령별 csv 저장\\공중방역수의사에 관한 법률.csv\n",
      "Updated file saved to: 법령별 csv 저장 중복제거\\공중방역수의사에 관한 법률.csv\n",
      "Processing : 법령별 csv 저장\\공중보건 위기대응 의료제품의 개발 촉진 및 긴급 공급을 위한 특별법.csv\n",
      "Updated file saved to: 법령별 csv 저장 중복제거\\공중보건 위기대응 의료제품의 개발 촉진 및 긴급 공급을 위한 특별법.csv\n",
      "Processing : 법령별 csv 저장\\공중보건장학을 위한 특례법.csv\n",
      "Updated file saved to: 법령별 csv 저장 중복제거\\공중보건장학을 위한 특례법.csv\n",
      "Processing : 법령별 csv 저장\\공중위생관리법.csv\n",
      "Updated file saved to: 법령별 csv 저장 중복제거\\공중위생관리법.csv\n",
      "Processing : 법령별 csv 저장\\공중화장실 등에 관한 법률.csv\n",
      "Updated file saved to: 법령별 csv 저장 중복제거\\공중화장실 등에 관한 법률.csv\n",
      "Processing : 법령별 csv 저장\\공증인법.csv\n",
      "Updated file saved to: 법령별 csv 저장 중복제거\\공증인법.csv\n",
      "Processing : 법령별 csv 저장\\공직선거법.csv\n",
      "Updated file saved to: 법령별 csv 저장 중복제거\\공직선거법.csv\n",
      "Processing : 법령별 csv 저장\\공직자 등의 병역사항 신고 및 공개에 관한 법률.csv\n",
      "Updated file saved to: 법령별 csv 저장 중복제거\\공직자 등의 병역사항 신고 및 공개에 관한 법률.csv\n",
      "Processing : 법령별 csv 저장\\공직자윤리법.csv\n",
      "Updated file saved to: 법령별 csv 저장 중복제거\\공직자윤리법.csv\n",
      "Processing : 법령별 csv 저장\\공직자의 이해충돌 방지법.csv\n",
      "Updated file saved to: 법령별 csv 저장 중복제거\\공직자의 이해충돌 방지법.csv\n",
      "Processing : 법령별 csv 저장\\공탁법.csv\n",
      "Updated file saved to: 법령별 csv 저장 중복제거\\공탁법.csv\n",
      "Processing : 법령별 csv 저장\\공항소음 방지 및 소음대책지역 지원에 관한 법률.csv\n",
      "Updated file saved to: 법령별 csv 저장 중복제거\\공항소음 방지 및 소음대책지역 지원에 관한 법률.csv\n",
      "Processing : 법령별 csv 저장\\공항시설법.csv\n",
      "Updated file saved to: 법령별 csv 저장 중복제거\\공항시설법.csv\n",
      "Processing : 법령별 csv 저장\\공휴일에 관한 법률.csv\n",
      "Updated file saved to: 법령별 csv 저장 중복제거\\공휴일에 관한 법률.csv\n",
      "Processing : 법령별 csv 저장\\과세자료의 제출 및 관리에 관한 법률.csv\n",
      "Updated file saved to: 법령별 csv 저장 중복제거\\과세자료의 제출 및 관리에 관한 법률.csv\n",
      "Processing : 법령별 csv 저장\\과학관의 설립ㆍ운영 및 육성에 관한 법률.csv\n",
      "Updated file saved to: 법령별 csv 저장 중복제거\\과학관의 설립ㆍ운영 및 육성에 관한 법률.csv\n",
      "Processing : 법령별 csv 저장\\과학기술기본법.csv\n",
      "Updated file saved to: 법령별 csv 저장 중복제거\\과학기술기본법.csv\n",
      "Processing : 법령별 csv 저장\\과학기술분야 정부출연연구기관 등의 설립ㆍ운영 및 육성에 관한 법률.csv\n",
      "Updated file saved to: 법령별 csv 저장 중복제거\\과학기술분야 정부출연연구기관 등의 설립ㆍ운영 및 육성에 관한 법률.csv\n",
      "Processing : 법령별 csv 저장\\과학기술유공자 예우 및 지원에 관한 법률.csv\n",
      "Updated file saved to: 법령별 csv 저장 중복제거\\과학기술유공자 예우 및 지원에 관한 법률.csv\n",
      "Processing : 법령별 csv 저장\\과학기술인공제회법.csv\n",
      "Updated file saved to: 법령별 csv 저장 중복제거\\과학기술인공제회법.csv\n",
      "Processing : 법령별 csv 저장\\과학ㆍ수학ㆍ정보 교육 진흥법.csv\n",
      "Updated file saved to: 법령별 csv 저장 중복제거\\과학ㆍ수학ㆍ정보 교육 진흥법.csv\n",
      "Processing : 법령별 csv 저장\\관광기본법.csv\n",
      "Updated file saved to: 법령별 csv 저장 중복제거\\관광기본법.csv\n",
      "Processing : 법령별 csv 저장\\관광진흥개발기금법.csv\n",
      "Updated file saved to: 법령별 csv 저장 중복제거\\관광진흥개발기금법.csv\n",
      "Processing : 법령별 csv 저장\\관광진흥법.csv\n",
      "Updated file saved to: 법령별 csv 저장 중복제거\\관광진흥법.csv\n",
      "Processing : 법령별 csv 저장\\관상어산업의 육성 및 지원에 관한 법률.csv\n",
      "Updated file saved to: 법령별 csv 저장 중복제거\\관상어산업의 육성 및 지원에 관한 법률.csv\n",
      "Processing : 법령별 csv 저장\\관세법.csv\n",
      "Updated file saved to: 법령별 csv 저장 중복제거\\관세법.csv\n",
      "Processing : 법령별 csv 저장\\관세사법.csv\n",
      "Updated file saved to: 법령별 csv 저장 중복제거\\관세사법.csv\n",
      "Processing : 법령별 csv 저장\\광산안전법.csv\n",
      "Updated file saved to: 법령별 csv 저장 중복제거\\광산안전법.csv\n",
      "Processing : 법령별 csv 저장\\광산피해의 방지 및 복구에 관한 법률.csv\n",
      "Updated file saved to: 법령별 csv 저장 중복제거\\광산피해의 방지 및 복구에 관한 법률.csv\n",
      "Processing : 법령별 csv 저장\\광업법.csv\n",
      "Updated file saved to: 법령별 csv 저장 중복제거\\광업법.csv\n",
      "Processing : 법령별 csv 저장\\광융합기술 개발 및 기반조성 지원에 관한 법률.csv\n",
      "Updated file saved to: 법령별 csv 저장 중복제거\\광융합기술 개발 및 기반조성 지원에 관한 법률.csv\n",
      "Processing : 법령별 csv 저장\\광주과학기술원법.csv\n",
      "Updated file saved to: 법령별 csv 저장 중복제거\\광주과학기술원법.csv\n",
      "Processing : 법령별 csv 저장\\광주 군 공항 이전 및 종전부지 개발 등에 관한 특별법.csv\n",
      "Updated file saved to: 법령별 csv 저장 중복제거\\광주 군 공항 이전 및 종전부지 개발 등에 관한 특별법.csv\n",
      "Processing : 법령별 csv 저장\\교도작업의 운영 및 특별회계에 관한 법률.csv\n",
      "Updated file saved to: 법령별 csv 저장 중복제거\\교도작업의 운영 및 특별회계에 관한 법률.csv\n",
      "Processing : 법령별 csv 저장\\교원의 노동조합 설립 및 운영 등에 관한 법률.csv\n",
      "Updated file saved to: 법령별 csv 저장 중복제거\\교원의 노동조합 설립 및 운영 등에 관한 법률.csv\n",
      "Processing : 법령별 csv 저장\\교원의 지위 향상 및 교육활동 보호를 위한 특별법.csv\n",
      "Updated file saved to: 법령별 csv 저장 중복제거\\교원의 지위 향상 및 교육활동 보호를 위한 특별법.csv\n",
      "Processing : 법령별 csv 저장\\교육공무원법.csv\n",
      "Updated file saved to: 법령별 csv 저장 중복제거\\교육공무원법.csv\n",
      "Processing : 법령별 csv 저장\\교육관련기관의 정보공개에 관한 특례법.csv\n",
      "Updated file saved to: 법령별 csv 저장 중복제거\\교육관련기관의 정보공개에 관한 특례법.csv\n",
      "Processing : 법령별 csv 저장\\교육국제화특구의 지정ㆍ운영 및 육성에 관한 특별법.csv\n",
      "Updated file saved to: 법령별 csv 저장 중복제거\\교육국제화특구의 지정ㆍ운영 및 육성에 관한 특별법.csv\n",
      "Processing : 법령별 csv 저장\\교육기본법.csv\n",
      "Updated file saved to: 법령별 csv 저장 중복제거\\교육기본법.csv\n",
      "Processing : 법령별 csv 저장\\교육세법.csv\n",
      "Updated file saved to: 법령별 csv 저장 중복제거\\교육세법.csv\n",
      "Processing : 법령별 csv 저장\\교육시설 등의 안전 및 유지관리 등에 관한 법률.csv\n",
      "Updated file saved to: 법령별 csv 저장 중복제거\\교육시설 등의 안전 및 유지관리 등에 관한 법률.csv\n",
      "Processing : 법령별 csv 저장\\교육환경 보호에 관한 법률.csv\n",
      "Updated file saved to: 법령별 csv 저장 중복제거\\교육환경 보호에 관한 법률.csv\n",
      "Processing : 법령별 csv 저장\\교정공제회법.csv\n",
      "Updated file saved to: 법령별 csv 저장 중복제거\\교정공제회법.csv\n",
      "Processing : 법령별 csv 저장\\교통사고처리 특례법.csv\n",
      "Updated file saved to: 법령별 csv 저장 중복제거\\교통사고처리 특례법.csv\n",
      "Processing : 법령별 csv 저장\\교통시설특별회계법.csv\n",
      "Updated file saved to: 법령별 csv 저장 중복제거\\교통시설특별회계법.csv\n",
      "Processing : 법령별 csv 저장\\교통안전법.csv\n",
      "Updated file saved to: 법령별 csv 저장 중복제거\\교통안전법.csv\n",
      "Processing : 법령별 csv 저장\\교통약자의 이동편의 증진법.csv\n",
      "Updated file saved to: 법령별 csv 저장 중복제거\\교통약자의 이동편의 증진법.csv\n",
      "Processing : 법령별 csv 저장\\교통ㆍ에너지ㆍ환경세법.csv\n",
      "Updated file saved to: 법령별 csv 저장 중복제거\\교통ㆍ에너지ㆍ환경세법.csv\n",
      "Processing : 법령별 csv 저장\\구강보건법.csv\n",
      "Updated file saved to: 법령별 csv 저장 중복제거\\구강보건법.csv\n",
      "Processing : 법령별 csv 저장\\구직자 취업촉진 및 생활안정지원에 관한 법률.csv\n",
      "Updated file saved to: 법령별 csv 저장 중복제거\\구직자 취업촉진 및 생활안정지원에 관한 법률.csv\n",
      "Processing : 법령별 csv 저장\\국가경찰과 자치경찰의 조직 및 운영에 관한 법률.csv\n",
      "Updated file saved to: 법령별 csv 저장 중복제거\\국가경찰과 자치경찰의 조직 및 운영에 관한 법률.csv\n",
      "Processing : 법령별 csv 저장\\국가공간정보 기본법.csv\n",
      "Updated file saved to: 법령별 csv 저장 중복제거\\국가공간정보 기본법.csv\n",
      "Processing : 법령별 csv 저장\\국가공무원법.csv\n",
      "Updated file saved to: 법령별 csv 저장 중복제거\\국가공무원법.csv\n",
      "Processing : 법령별 csv 저장\\국가과학기술 경쟁력 강화를 위한 이공계지원 특별법.csv\n",
      "Updated file saved to: 법령별 csv 저장 중복제거\\국가과학기술 경쟁력 강화를 위한 이공계지원 특별법.csv\n",
      "Processing : 법령별 csv 저장\\국가과학기술자문회의법.csv\n",
      "Updated file saved to: 법령별 csv 저장 중복제거\\국가과학기술자문회의법.csv\n",
      "Processing : 법령별 csv 저장\\국가교육위원회 설치 및 운영에 관한 법률.csv\n",
      "Updated file saved to: 법령별 csv 저장 중복제거\\국가교육위원회 설치 및 운영에 관한 법률.csv\n",
      "Processing : 법령별 csv 저장\\국가기술자격법.csv\n",
      "Updated file saved to: 법령별 csv 저장 중복제거\\국가기술자격법.csv\n",
      "Processing : 법령별 csv 저장\\국가를 당사자로 하는 계약에 관한 법률.csv\n",
      "Updated file saved to: 법령별 csv 저장 중복제거\\국가를 당사자로 하는 계약에 관한 법률.csv\n",
      "Processing : 법령별 csv 저장\\국가를 당사자로 하는 소송에 관한 법률.csv\n",
      "Updated file saved to: 법령별 csv 저장 중복제거\\국가를 당사자로 하는 소송에 관한 법률.csv\n",
      "Processing : 법령별 csv 저장\\국가배상법.csv\n",
      "Updated file saved to: 법령별 csv 저장 중복제거\\국가배상법.csv\n",
      "Processing : 법령별 csv 저장\\국가보안법.csv\n",
      "Updated file saved to: 법령별 csv 저장 중복제거\\국가보안법.csv\n",
      "Processing : 법령별 csv 저장\\국가보위에 관한 특별조치법 제5조제4항에 의한 동원대상지역 내의 토지의 수용ㆍ사용에 관한 특별조치령에 의하여 수용ㆍ사용된 토지의 정리에 관한 특별조치법.csv\n",
      "Updated file saved to: 법령별 csv 저장 중복제거\\국가보위에 관한 특별조치법 제5조제4항에 의한 동원대상지역 내의 토지의 수용ㆍ사용에 관한 특별조치령에 의하여 수용ㆍ사용된 토지의 정리에 관한 특별조치법.csv\n",
      "Processing : 법령별 csv 저장\\국가보훈 기본법.csv\n",
      "Updated file saved to: 법령별 csv 저장 중복제거\\국가보훈 기본법.csv\n",
      "Processing : 법령별 csv 저장\\국가안전보장회의법.csv\n",
      "Updated file saved to: 법령별 csv 저장 중복제거\\국가안전보장회의법.csv\n",
      "Processing : 법령별 csv 저장\\국가에 귀속하는 상속재산 이전에 관한 법률.csv\n",
      "Updated file saved to: 법령별 csv 저장 중복제거\\국가에 귀속하는 상속재산 이전에 관한 법률.csv\n",
      "Processing : 법령별 csv 저장\\국가연구개발사업 등의 성과평가 및 성과관리에 관한 법률.csv\n",
      "Updated file saved to: 법령별 csv 저장 중복제거\\국가연구개발사업 등의 성과평가 및 성과관리에 관한 법률.csv\n",
      "Processing : 법령별 csv 저장\\국가연구개발혁신법.csv\n",
      "Updated file saved to: 법령별 csv 저장 중복제거\\국가연구개발혁신법.csv\n",
      "Processing : 법령별 csv 저장\\국가유공자 등 단체 설립에 관한 법률.csv\n",
      "Updated file saved to: 법령별 csv 저장 중복제거\\국가유공자 등 단체 설립에 관한 법률.csv\n",
      "Processing : 법령별 csv 저장\\국가유공자 등 예우 및 지원에 관한 법률.csv\n",
      "Updated file saved to: 법령별 csv 저장 중복제거\\국가유공자 등 예우 및 지원에 관한 법률.csv\n",
      "Processing : 법령별 csv 저장\\국가유산기본법.csv\n",
      "Updated file saved to: 법령별 csv 저장 중복제거\\국가유산기본법.csv\n",
      "Processing : 법령별 csv 저장\\국가유산보호기금법.csv\n",
      "Updated file saved to: 법령별 csv 저장 중복제거\\국가유산보호기금법.csv\n",
      "Processing : 법령별 csv 저장\\국가유산수리 등에 관한 법률.csv\n",
      "Updated file saved to: 법령별 csv 저장 중복제거\\국가유산수리 등에 관한 법률.csv\n",
      "Processing : 법령별 csv 저장\\국가유산영향진단법.csv\n",
      "Updated file saved to: 법령별 csv 저장 중복제거\\국가유산영향진단법.csv\n",
      "Processing : 법령별 csv 저장\\국가인권위원회법.csv\n",
      "Updated file saved to: 법령별 csv 저장 중복제거\\국가인권위원회법.csv\n",
      "Processing : 법령별 csv 저장\\국가자원안보 특별법.csv\n",
      "Updated file saved to: 법령별 csv 저장 중복제거\\국가자원안보 특별법.csv\n",
      "Processing : 법령별 csv 저장\\국가장법.csv\n",
      "Updated file saved to: 법령별 csv 저장 중복제거\\국가장법.csv\n",
      "Processing : 법령별 csv 저장\\국가재정법.csv\n",
      "Updated file saved to: 법령별 csv 저장 중복제거\\국가재정법.csv\n",
      "Processing : 법령별 csv 저장\\국가전략기술 육성에 관한 특별법.csv\n",
      "Updated file saved to: 법령별 csv 저장 중복제거\\국가전략기술 육성에 관한 특별법.csv\n",
      "Processing : 법령별 csv 저장\\국가정보원법.csv\n",
      "Updated file saved to: 법령별 csv 저장 중복제거\\국가정보원법.csv\n",
      "Processing : 법령별 csv 저장\\국가정보원직원법.csv\n",
      "Updated file saved to: 법령별 csv 저장 중복제거\\국가정보원직원법.csv\n",
      "Processing : 법령별 csv 저장\\국가지식정보 연계 및 활용 촉진에 관한 법률.csv\n",
      "Updated file saved to: 법령별 csv 저장 중복제거\\국가지식정보 연계 및 활용 촉진에 관한 법률.csv\n",
      "Processing : 법령별 csv 저장\\국가채권 관리법.csv\n",
      "Updated file saved to: 법령별 csv 저장 중복제거\\국가채권 관리법.csv\n",
      "Processing : 법령별 csv 저장\\국가철도공단법.csv\n",
      "Updated file saved to: 법령별 csv 저장 중복제거\\국가철도공단법.csv\n",
      "Processing : 법령별 csv 저장\\국가첨단전략산업 경쟁력 강화 및 보호에 관한 특별조치법.csv\n",
      "Updated file saved to: 법령별 csv 저장 중복제거\\국가첨단전략산업 경쟁력 강화 및 보호에 관한 특별조치법.csv\n",
      "Processing : 법령별 csv 저장\\국가초고성능컴퓨터 활용 및 육성에 관한 법률.csv\n",
      "Updated file saved to: 법령별 csv 저장 중복제거\\국가초고성능컴퓨터 활용 및 육성에 관한 법률.csv\n",
      "Processing : 법령별 csv 저장\\국가통합교통체계효율화법.csv\n",
      "Updated file saved to: 법령별 csv 저장 중복제거\\국가통합교통체계효율화법.csv\n",
      "Processing : 법령별 csv 저장\\국가표준기본법.csv\n",
      "Updated file saved to: 법령별 csv 저장 중복제거\\국가표준기본법.csv\n",
      "Processing : 법령별 csv 저장\\국가회계법.csv\n",
      "Updated file saved to: 법령별 csv 저장 중복제거\\국가회계법.csv\n",
      "Processing : 법령별 csv 저장\\국경일에 관한 법률.csv\n",
      "Updated file saved to: 법령별 csv 저장 중복제거\\국경일에 관한 법률.csv\n",
      "Processing : 법령별 csv 저장\\국고금 관리법.csv\n",
      "Updated file saved to: 법령별 csv 저장 중복제거\\국고금 관리법.csv\n",
      "Processing : 법령별 csv 저장\\국ㆍ공유 부동산의 등기 촉탁에 관한 법률.csv\n",
      "Updated file saved to: 법령별 csv 저장 중복제거\\국ㆍ공유 부동산의 등기 촉탁에 관한 법률.csv\n",
      "Processing : 법령별 csv 저장\\국군간호사관학교 설치법.csv\n",
      "Updated file saved to: 법령별 csv 저장 중복제거\\국군간호사관학교 설치법.csv\n",
      "Processing : 법령별 csv 저장\\국군조직법.csv\n",
      "Updated file saved to: 법령별 csv 저장 중복제거\\국군조직법.csv\n",
      "Processing : 법령별 csv 저장\\국군포로의 송환 및 대우 등에 관한 법률.csv\n",
      "Updated file saved to: 법령별 csv 저장 중복제거\\국군포로의 송환 및 대우 등에 관한 법률.csv\n",
      "Processing : 법령별 csv 저장\\국내입양에 관한 특별법.csv\n",
      "Updated file saved to: 법령별 csv 저장 중복제거\\국내입양에 관한 특별법.csv\n",
      "Processing : 법령별 csv 저장\\국내재산 도피 방지법.csv\n",
      "Updated file saved to: 법령별 csv 저장 중복제거\\국내재산 도피 방지법.csv\n",
      "Processing : 법령별 csv 저장\\국립공원공단법.csv\n",
      "Updated file saved to: 법령별 csv 저장 중복제거\\국립공원공단법.csv\n",
      "Processing : 법령별 csv 저장\\국립국가폭력트라우마치유센터의 설립 및 운영에 관한 법률.csv\n",
      "Updated file saved to: 법령별 csv 저장 중복제거\\국립국가폭력트라우마치유센터의 설립 및 운영에 관한 법률.csv\n",
      "Processing : 법령별 csv 저장\\국립농업박물관법.csv\n",
      "Updated file saved to: 법령별 csv 저장 중복제거\\국립농업박물관법.csv\n",
      "Processing : 법령별 csv 저장\\국립대학법인 서울대학교 설립ㆍ운영에 관한 법률.csv\n",
      "Updated file saved to: 법령별 csv 저장 중복제거\\국립대학법인 서울대학교 설립ㆍ운영에 관한 법률.csv\n",
      "Processing : 법령별 csv 저장\\국립대학법인 인천대학교 설립ㆍ운영에 관한 법률.csv\n",
      "Updated file saved to: 법령별 csv 저장 중복제거\\국립대학법인 인천대학교 설립ㆍ운영에 관한 법률.csv\n",
      "Processing : 법령별 csv 저장\\국립대학병원 설치법.csv\n",
      "Updated file saved to: 법령별 csv 저장 중복제거\\국립대학병원 설치법.csv\n",
      "Processing : 법령별 csv 저장\\국립대학의 회계 설치 및 재정 운영에 관한 법률.csv\n",
      "Updated file saved to: 법령별 csv 저장 중복제거\\국립대학의 회계 설치 및 재정 운영에 관한 법률.csv\n",
      "Processing : 법령별 csv 저장\\국립대학치과병원 설치법.csv\n",
      "Updated file saved to: 법령별 csv 저장 중복제거\\국립대학치과병원 설치법.csv\n",
      "Processing : 법령별 csv 저장\\국립묘지의 설치 및 운영에 관한 법률.csv\n",
      "Updated file saved to: 법령별 csv 저장 중복제거\\국립묘지의 설치 및 운영에 관한 법률.csv\n",
      "Processing : 법령별 csv 저장\\국립생태원의 설립 및 운영에 관한 법률.csv\n",
      "Updated file saved to: 법령별 csv 저장 중복제거\\국립생태원의 설립 및 운영에 관한 법률.csv\n",
      "Processing : 법령별 csv 저장\\국립소방병원의 설립 및 운영에 관한 법률.csv\n",
      "Updated file saved to: 법령별 csv 저장 중복제거\\국립소방병원의 설립 및 운영에 관한 법률.csv\n",
      "Processing : 법령별 csv 저장\\국립외교원법.csv\n",
      "Updated file saved to: 법령별 csv 저장 중복제거\\국립외교원법.csv\n",
      "Processing : 법령별 csv 저장\\국립중앙의료원의 설립 및 운영에 관한 법률.csv\n",
      "Updated file saved to: 법령별 csv 저장 중복제거\\국립중앙의료원의 설립 및 운영에 관한 법률.csv\n",
      "Processing : 법령별 csv 저장\\국립항공박물관법.csv\n",
      "Updated file saved to: 법령별 csv 저장 중복제거\\국립항공박물관법.csv\n",
      "Processing : 법령별 csv 저장\\국립해양과학관의 설립 및 운영에 관한 법률.csv\n",
      "Updated file saved to: 법령별 csv 저장 중복제거\\국립해양과학관의 설립 및 운영에 관한 법률.csv\n",
      "Processing : 법령별 csv 저장\\국립해양박물관 등의 설립 및 운영에 관한 법률.csv\n",
      "Updated file saved to: 법령별 csv 저장 중복제거\\국립해양박물관 등의 설립 및 운영에 관한 법률.csv\n",
      "Processing : 법령별 csv 저장\\국립해양생물자원관의 설립 및 운영에 관한 법률.csv\n",
      "Updated file saved to: 법령별 csv 저장 중복제거\\국립해양생물자원관의 설립 및 운영에 관한 법률.csv\n",
      "Processing : 법령별 csv 저장\\국민건강보험법.csv\n",
      "Updated file saved to: 법령별 csv 저장 중복제거\\국민건강보험법.csv\n",
      "Processing : 법령별 csv 저장\\국민건강증진법.csv\n",
      "Updated file saved to: 법령별 csv 저장 중복제거\\국민건강증진법.csv\n",
      "Processing : 법령별 csv 저장\\국민경제자문회의법.csv\n",
      "Updated file saved to: 법령별 csv 저장 중복제거\\국민경제자문회의법.csv\n",
      "Processing : 법령별 csv 저장\\국민기초생활 보장법.csv\n",
      "Updated file saved to: 법령별 csv 저장 중복제거\\국민기초생활 보장법.csv\n",
      "Processing : 법령별 csv 저장\\국민보호와 공공안전을 위한 테러방지법.csv\n",
      "Updated file saved to: 법령별 csv 저장 중복제거\\국민보호와 공공안전을 위한 테러방지법.csv\n",
      "Processing : 법령별 csv 저장\\국민 안전교육 진흥 기본법.csv\n",
      "Updated file saved to: 법령별 csv 저장 중복제거\\국민 안전교육 진흥 기본법.csv\n",
      "Processing : 법령별 csv 저장\\국민여가활성화기본법.csv\n",
      "Updated file saved to: 법령별 csv 저장 중복제거\\국민여가활성화기본법.csv\n",
      "Processing : 법령별 csv 저장\\국민연금과 직역연금의 연계에 관한 법률.csv\n",
      "Updated file saved to: 법령별 csv 저장 중복제거\\국민연금과 직역연금의 연계에 관한 법률.csv\n",
      "Processing : 법령별 csv 저장\\국민연금법.csv\n",
      "Updated file saved to: 법령별 csv 저장 중복제거\\국민연금법.csv\n",
      "Processing : 법령별 csv 저장\\국민영양관리법.csv\n",
      "Updated file saved to: 법령별 csv 저장 중복제거\\국민영양관리법.csv\n",
      "Processing : 법령별 csv 저장\\국민의 형사재판 참여에 관한 법률.csv\n",
      "Updated file saved to: 법령별 csv 저장 중복제거\\국민의 형사재판 참여에 관한 법률.csv\n",
      "Processing : 법령별 csv 저장\\국민체육진흥법.csv\n",
      "Updated file saved to: 법령별 csv 저장 중복제거\\국민체육진흥법.csv\n",
      "Processing : 법령별 csv 저장\\국민투표법.csv\n",
      "Updated file saved to: 법령별 csv 저장 중복제거\\국민투표법.csv\n",
      "Processing : 법령별 csv 저장\\국민 평생 직업능력 개발법.csv\n",
      "Updated file saved to: 법령별 csv 저장 중복제거\\국민 평생 직업능력 개발법.csv\n",
      "Processing : 법령별 csv 저장\\국방개혁에 관한 법률.csv\n",
      "Updated file saved to: 법령별 csv 저장 중복제거\\국방개혁에 관한 법률.csv\n",
      "Processing : 법령별 csv 저장\\국방과학기술혁신 촉진법.csv\n",
      "Updated file saved to: 법령별 csv 저장 중복제거\\국방과학기술혁신 촉진법.csv\n",
      "Processing : 법령별 csv 저장\\국방과학연구소법.csv\n",
      "Updated file saved to: 법령별 csv 저장 중복제거\\국방과학연구소법.csv\n",
      "Processing : 법령별 csv 저장\\국방ㆍ군사시설 사업에 관한 법률.csv\n",
      "Updated file saved to: 법령별 csv 저장 중복제거\\국방ㆍ군사시설 사업에 관한 법률.csv\n",
      "Processing : 법령별 csv 저장\\국방ㆍ군사시설이전 특별회계법.csv\n",
      "Updated file saved to: 법령별 csv 저장 중복제거\\국방ㆍ군사시설이전 특별회계법.csv\n",
      "Processing : 법령별 csv 저장\\국방대학교 설치법.csv\n",
      "Updated file saved to: 법령별 csv 저장 중복제거\\국방대학교 설치법.csv\n",
      "Processing : 법령별 csv 저장\\국방전직교육원법.csv\n",
      "Updated file saved to: 법령별 csv 저장 중복제거\\국방전직교육원법.csv\n",
      "Processing : 법령별 csv 저장\\국방정보화 기반조성 및 국방정보자원관리에 관한 법률.csv\n",
      "Updated file saved to: 법령별 csv 저장 중복제거\\국방정보화 기반조성 및 국방정보자원관리에 관한 법률.csv\n",
      "Processing : 법령별 csv 저장\\국세기본법.csv\n",
      "Updated file saved to: 법령별 csv 저장 중복제거\\국세기본법.csv\n",
      "Processing : 법령별 csv 저장\\국세와 지방세의 조정 등에 관한 법률.csv\n",
      "Updated file saved to: 법령별 csv 저장 중복제거\\국세와 지방세의 조정 등에 관한 법률.csv\n",
      "Processing : 법령별 csv 저장\\국세징수법.csv\n",
      "Updated file saved to: 법령별 csv 저장 중복제거\\국세징수법.csv\n",
      "Processing : 법령별 csv 저장\\국악진흥법.csv\n",
      "Updated file saved to: 법령별 csv 저장 중복제거\\국악진흥법.csv\n",
      "Processing : 법령별 csv 저장\\국어기본법.csv\n",
      "Updated file saved to: 법령별 csv 저장 중복제거\\국어기본법.csv\n",
      "Processing : 법령별 csv 저장\\국유림의 경영 및 관리에 관한 법률.csv\n",
      "Updated file saved to: 법령별 csv 저장 중복제거\\국유림의 경영 및 관리에 관한 법률.csv\n",
      "Processing : 법령별 csv 저장\\국유재산법.csv\n",
      "Updated file saved to: 법령별 csv 저장 중복제거\\국유재산법.csv\n",
      "Processing : 법령별 csv 저장\\국유재산특례제한법.csv\n",
      "Updated file saved to: 법령별 csv 저장 중복제거\\국유재산특례제한법.csv\n",
      "Processing : 법령별 csv 저장\\국적법.csv\n",
      "Updated file saved to: 법령별 csv 저장 중복제거\\국적법.csv\n",
      "Processing : 법령별 csv 저장\\국정감사 및 조사에 관한 법률.csv\n",
      "Updated file saved to: 법령별 csv 저장 중복제거\\국정감사 및 조사에 관한 법률.csv\n",
      "Processing : 법령별 csv 저장\\국제개발협력기본법.csv\n",
      "Updated file saved to: 법령별 csv 저장 중복제거\\국제개발협력기본법.csv\n",
      "Processing : 법령별 csv 저장\\국제경기대회 지원법.csv\n",
      "Updated file saved to: 법령별 csv 저장 중복제거\\국제경기대회 지원법.csv\n",
      "Processing : 법령별 csv 저장\\국제과학비즈니스벨트 조성 및 지원에 관한 특별법.csv\n",
      "Updated file saved to: 법령별 csv 저장 중복제거\\국제과학비즈니스벨트 조성 및 지원에 관한 특별법.csv\n",
      "Processing : 법령별 csv 저장\\국제금융기구에의 가입조치에 관한 법률.csv\n",
      "Updated file saved to: 법령별 csv 저장 중복제거\\국제금융기구에의 가입조치에 관한 법률.csv\n",
      "Processing : 법령별 csv 저장\\국제기구 분담금 관리에 관한 법률.csv\n",
      "Updated file saved to: 법령별 csv 저장 중복제거\\국제기구 분담금 관리에 관한 법률.csv\n",
      "Processing : 법령별 csv 저장\\국제문화교류 진흥법.csv\n",
      "Updated file saved to: 법령별 csv 저장 중복제거\\국제문화교류 진흥법.csv\n",
      "Processing : 법령별 csv 저장\\국제민사사법공조법.csv\n",
      "Updated file saved to: 법령별 csv 저장 중복제거\\국제민사사법공조법.csv\n",
      "Processing : 법령별 csv 저장\\국제사법.csv\n",
      "Updated file saved to: 법령별 csv 저장 중복제거\\국제사법.csv\n",
      "Processing : 법령별 csv 저장\\국제상거래에 있어서 외국공무원에 대한 뇌물방지법.csv\n",
      "Updated file saved to: 법령별 csv 저장 중복제거\\국제상거래에 있어서 외국공무원에 대한 뇌물방지법.csv\n",
      "Processing : 법령별 csv 저장\\국제선박등록법.csv\n",
      "Updated file saved to: 법령별 csv 저장 중복제거\\국제선박등록법.csv\n",
      "Processing : 법령별 csv 저장\\국제수형자이송법.csv\n",
      "Updated file saved to: 법령별 csv 저장 중복제거\\국제수형자이송법.csv\n",
      "Processing : 법령별 csv 저장\\국제연합 평화유지활동 참여에 관한 법률.csv\n",
      "Updated file saved to: 법령별 csv 저장 중복제거\\국제연합 평화유지활동 참여에 관한 법률.csv\n",
      "Processing : 법령별 csv 저장\\국제입양에 관한 법률.csv\n",
      "Updated file saved to: 법령별 csv 저장 중복제거\\국제입양에 관한 법률.csv\n",
      "Processing : 법령별 csv 저장\\국제조세조정에 관한 법률.csv\n",
      "Updated file saved to: 법령별 csv 저장 중복제거\\국제조세조정에 관한 법률.csv\n",
      "Processing : 법령별 csv 저장\\국제항공 탄소 배출량 관리에 관한 법률.csv\n",
      "Updated file saved to: 법령별 csv 저장 중복제거\\국제항공 탄소 배출량 관리에 관한 법률.csv\n",
      "Processing : 법령별 csv 저장\\국제항해선박 등에 대한 해적행위 피해예방에 관한 법률.csv\n",
      "Updated file saved to: 법령별 csv 저장 중복제거\\국제항해선박 등에 대한 해적행위 피해예방에 관한 법률.csv\n",
      "Processing : 법령별 csv 저장\\국제항해선박 및 항만시설의 보안에 관한 법률.csv\n",
      "Updated file saved to: 법령별 csv 저장 중복제거\\국제항해선박 및 항만시설의 보안에 관한 법률.csv\n",
      "Processing : 법령별 csv 저장\\국제협력요원 제도 폐지에 따른 순직 심사 등에 관한 법률.csv\n",
      "Updated file saved to: 법령별 csv 저장 중복제거\\국제협력요원 제도 폐지에 따른 순직 심사 등에 관한 법률.csv\n",
      "Processing : 법령별 csv 저장\\국제형사사법 공조법.csv\n",
      "Updated file saved to: 법령별 csv 저장 중복제거\\국제형사사법 공조법.csv\n",
      "Processing : 법령별 csv 저장\\국제형사재판소 관할 범죄의 처벌 등에 관한 법률.csv\n",
      "Updated file saved to: 법령별 csv 저장 중복제거\\국제형사재판소 관할 범죄의 처벌 등에 관한 법률.csv\n",
      "Processing : 법령별 csv 저장\\국제회의산업 육성에 관한 법률.csv\n",
      "Updated file saved to: 법령별 csv 저장 중복제거\\국제회의산업 육성에 관한 법률.csv\n",
      "Processing : 법령별 csv 저장\\국채법.csv\n",
      "Updated file saved to: 법령별 csv 저장 중복제거\\국채법.csv\n",
      "Processing : 법령별 csv 저장\\국토교통과학기술 육성법.csv\n",
      "Updated file saved to: 법령별 csv 저장 중복제거\\국토교통과학기술 육성법.csv\n",
      "Processing : 법령별 csv 저장\\국토기본법.csv\n",
      "Updated file saved to: 법령별 csv 저장 중복제거\\국토기본법.csv\n",
      "Processing : 법령별 csv 저장\\국토안전관리원법.csv\n",
      "Updated file saved to: 법령별 csv 저장 중복제거\\국토안전관리원법.csv\n",
      "Processing : 법령별 csv 저장\\국토의 계획 및 이용에 관한 법률.csv\n",
      "Updated file saved to: 법령별 csv 저장 중복제거\\국토의 계획 및 이용에 관한 법률.csv\n",
      "Processing : 법령별 csv 저장\\국회도서관법.csv\n",
      "Updated file saved to: 법령별 csv 저장 중복제거\\국회도서관법.csv\n",
      "Processing : 법령별 csv 저장\\국회미래연구원법.csv\n",
      "Updated file saved to: 법령별 csv 저장 중복제거\\국회미래연구원법.csv\n",
      "Processing : 법령별 csv 저장\\국회법.csv\n",
      "Updated file saved to: 법령별 csv 저장 중복제거\\국회법.csv\n",
      "Processing : 법령별 csv 저장\\국회사무처법.csv\n",
      "Updated file saved to: 법령별 csv 저장 중복제거\\국회사무처법.csv\n",
      "Processing : 법령별 csv 저장\\국회에서의 증언ㆍ감정 등에 관한 법률.csv\n",
      "Updated file saved to: 법령별 csv 저장 중복제거\\국회에서의 증언ㆍ감정 등에 관한 법률.csv\n",
      "Processing : 법령별 csv 저장\\국회예산정책처법.csv\n",
      "Updated file saved to: 법령별 csv 저장 중복제거\\국회예산정책처법.csv\n",
      "Processing : 법령별 csv 저장\\국회의원의 보좌직원과 수당 등에 관한 법률.csv\n",
      "Updated file saved to: 법령별 csv 저장 중복제거\\국회의원의 보좌직원과 수당 등에 관한 법률.csv\n",
      "Processing : 법령별 csv 저장\\국회입법조사처법.csv\n",
      "Updated file saved to: 법령별 csv 저장 중복제거\\국회입법조사처법.csv\n",
      "Processing : 법령별 csv 저장\\군 공항 이전 및 지원에 관한 특별법.csv\n",
      "Updated file saved to: 법령별 csv 저장 중복제거\\군 공항 이전 및 지원에 관한 특별법.csv\n",
      "Processing : 법령별 csv 저장\\군무원인사법.csv\n",
      "Updated file saved to: 법령별 csv 저장 중복제거\\군무원인사법.csv\n",
      "Processing : 법령별 csv 저장\\군법무관 임용 등에 관한 법률.csv\n",
      "Updated file saved to: 법령별 csv 저장 중복제거\\군법무관 임용 등에 관한 법률.csv\n",
      "Processing : 법령별 csv 저장\\군보건의료에 관한 법률.csv\n",
      "Updated file saved to: 법령별 csv 저장 중복제거\\군보건의료에 관한 법률.csv\n",
      "Processing : 법령별 csv 저장\\군복 및 군용장구의 단속에 관한 법률.csv\n",
      "Updated file saved to: 법령별 csv 저장 중복제거\\군복 및 군용장구의 단속에 관한 법률.csv\n",
      "Processing : 법령별 csv 저장\\군사경찰의 직무수행에 관한 법률.csv\n",
      "Updated file saved to: 법령별 csv 저장 중복제거\\군사경찰의 직무수행에 관한 법률.csv\n",
      "Processing : 법령별 csv 저장\\군사기밀 보호법.csv\n",
      "Updated file saved to: 법령별 csv 저장 중복제거\\군사기밀 보호법.csv\n",
      "Processing : 법령별 csv 저장\\군사기지 및 군사시설 보호법.csv\n",
      "Updated file saved to: 법령별 csv 저장 중복제거\\군사기지 및 군사시설 보호법.csv\n",
      "Processing : 법령별 csv 저장\\군사법원법.csv\n",
      "Updated file saved to: 법령별 csv 저장 중복제거\\군사법원법.csv\n",
      "Processing : 법령별 csv 저장\\군사정전에 관한 협정 체결 이후 납북피해자의 보상 및 지원에 관한 법률.csv\n",
      "Updated file saved to: 법령별 csv 저장 중복제거\\군사정전에 관한 협정 체결 이후 납북피해자의 보상 및 지원에 관한 법률.csv\n",
      "Processing : 법령별 csv 저장\\군수품관리법.csv\n",
      "Updated file saved to: 법령별 csv 저장 중복제거\\군수품관리법.csv\n",
      "Processing : 법령별 csv 저장\\군에서의 형의 집행 및 군수용자의 처우에 관한 법률.csv\n",
      "Updated file saved to: 법령별 csv 저장 중복제거\\군에서의 형의 집행 및 군수용자의 처우에 관한 법률.csv\n",
      "Processing : 법령별 csv 저장\\군용물 등 범죄에 관한 특별조치법.csv\n",
      "Updated file saved to: 법령별 csv 저장 중복제거\\군용물 등 범죄에 관한 특별조치법.csv\n",
      "Processing : 법령별 csv 저장\\군용비행장ㆍ군사격장 소음 방지 및 피해 보상에 관한 법률.csv\n",
      "Updated file saved to: 법령별 csv 저장 중복제거\\군용비행장ㆍ군사격장 소음 방지 및 피해 보상에 관한 법률.csv\n",
      "Processing : 법령별 csv 저장\\군용전기통신법.csv\n",
      "Updated file saved to: 법령별 csv 저장 중복제거\\군용전기통신법.csv\n",
      "Processing : 법령별 csv 저장\\군용항공기 비행안전성 인증에 관한 법률.csv\n",
      "Updated file saved to: 법령별 csv 저장 중복제거\\군용항공기 비행안전성 인증에 관한 법률.csv\n",
      "Processing : 법령별 csv 저장\\군용항공기 운용 등에 관한 법률.csv\n",
      "Updated file saved to: 법령별 csv 저장 중복제거\\군용항공기 운용 등에 관한 법률.csv\n",
      "Processing : 법령별 csv 저장\\군인공제회법.csv\n",
      "Updated file saved to: 법령별 csv 저장 중복제거\\군인공제회법.csv\n",
      "Processing : 법령별 csv 저장\\군인보수법.csv\n",
      "Updated file saved to: 법령별 csv 저장 중복제거\\군인보수법.csv\n",
      "Processing : 법령별 csv 저장\\군인복지기금법.csv\n",
      "Updated file saved to: 법령별 csv 저장 중복제거\\군인복지기금법.csv\n",
      "Processing : 법령별 csv 저장\\군인복지기본법.csv\n",
      "Updated file saved to: 법령별 csv 저장 중복제거\\군인복지기본법.csv\n",
      "Processing : 법령별 csv 저장\\군인사법.csv\n",
      "Updated file saved to: 법령별 csv 저장 중복제거\\군인사법.csv\n",
      "Processing : 법령별 csv 저장\\군인연금법.csv\n",
      "Updated file saved to: 법령별 csv 저장 중복제거\\군인연금법.csv\n",
      "Processing : 법령별 csv 저장\\군인의 지위 및 복무에 관한 기본법.csv\n",
      "Updated file saved to: 법령별 csv 저장 중복제거\\군인의 지위 및 복무에 관한 기본법.csv\n",
      "Processing : 법령별 csv 저장\\군인 재해보상법.csv\n",
      "Updated file saved to: 법령별 csv 저장 중복제거\\군인 재해보상법.csv\n",
      "Processing : 법령별 csv 저장\\군 책임운영기관의 지정ㆍ운영에 관한 법률.csv\n",
      "Updated file saved to: 법령별 csv 저장 중복제거\\군 책임운영기관의 지정ㆍ운영에 관한 법률.csv\n",
      "Processing : 법령별 csv 저장\\군형법.csv\n",
      "Updated file saved to: 법령별 csv 저장 중복제거\\군형법.csv\n",
      "Processing : 법령별 csv 저장\\궤도운송법.csv\n",
      "Updated file saved to: 법령별 csv 저장 중복제거\\궤도운송법.csv\n",
      "Processing : 법령별 csv 저장\\귀농어ㆍ귀촌 활성화 및 지원에 관한 법률.csv\n",
      "Updated file saved to: 법령별 csv 저장 중복제거\\귀농어ㆍ귀촌 활성화 및 지원에 관한 법률.csv\n",
      "Processing : 법령별 csv 저장\\귀속재산처리법.csv\n",
      "Updated file saved to: 법령별 csv 저장 중복제거\\귀속재산처리법.csv\n",
      "Processing : 법령별 csv 저장\\규제자유특구 및 지역특화발전특구에 관한 규제특례법.csv\n",
      "Updated file saved to: 법령별 csv 저장 중복제거\\규제자유특구 및 지역특화발전특구에 관한 규제특례법.csv\n",
      "Processing : 법령별 csv 저장\\그린바이오산업 육성에 관한 법률.csv\n",
      "Updated file saved to: 법령별 csv 저장 중복제거\\그린바이오산업 육성에 관한 법률.csv\n",
      "Processing : 법령별 csv 저장\\극지활동 진흥법.csv\n",
      "Updated file saved to: 법령별 csv 저장 중복제거\\극지활동 진흥법.csv\n",
      "Processing : 법령별 csv 저장\\근로기준법.csv\n",
      "Updated file saved to: 법령별 csv 저장 중복제거\\근로기준법.csv\n",
      "Processing : 법령별 csv 저장\\근로복지기본법.csv\n",
      "Updated file saved to: 법령별 csv 저장 중복제거\\근로복지기본법.csv\n",
      "Processing : 법령별 csv 저장\\근로자의 날 제정에 관한 법률.csv\n",
      "Updated file saved to: 법령별 csv 저장 중복제거\\근로자의 날 제정에 관한 법률.csv\n",
      "Processing : 법령별 csv 저장\\근로자참여 및 협력증진에 관한 법률.csv\n",
      "Updated file saved to: 법령별 csv 저장 중복제거\\근로자참여 및 협력증진에 관한 법률.csv\n",
      "Processing : 법령별 csv 저장\\근로자퇴직급여 보장법.csv\n",
      "Updated file saved to: 법령별 csv 저장 중복제거\\근로자퇴직급여 보장법.csv\n",
      "Processing : 법령별 csv 저장\\근현대문화유산의 보존 및 활용에 관한 법률.csv\n",
      "Updated file saved to: 법령별 csv 저장 중복제거\\근현대문화유산의 보존 및 활용에 관한 법률.csv\n",
      "Processing : 법령별 csv 저장\\금강수계 물관리 및 주민지원 등에 관한 법률.csv\n",
      "Updated file saved to: 법령별 csv 저장 중복제거\\금강수계 물관리 및 주민지원 등에 관한 법률.csv\n",
      "Processing : 법령별 csv 저장\\금융거래지표의 관리에 관한 법률.csv\n",
      "Updated file saved to: 법령별 csv 저장 중복제거\\금융거래지표의 관리에 관한 법률.csv\n",
      "Processing : 법령별 csv 저장\\금융복합기업집단의 감독에 관한 법률.csv\n",
      "Updated file saved to: 법령별 csv 저장 중복제거\\금융복합기업집단의 감독에 관한 법률.csv\n",
      "Processing : 법령별 csv 저장\\금융산업의 구조개선에 관한 법률.csv\n",
      "Updated file saved to: 법령별 csv 저장 중복제거\\금융산업의 구조개선에 관한 법률.csv\n",
      "Processing : 법령별 csv 저장\\금융소비자 보호에 관한 법률.csv\n",
      "Updated file saved to: 법령별 csv 저장 중복제거\\금융소비자 보호에 관한 법률.csv\n",
      "Processing : 법령별 csv 저장\\금융실명거래 및 비밀보장에 관한 법률.csv\n",
      "Updated file saved to: 법령별 csv 저장 중복제거\\금융실명거래 및 비밀보장에 관한 법률.csv\n",
      "Processing : 법령별 csv 저장\\금융위원회의 설치 등에 관한 법률.csv\n",
      "Updated file saved to: 법령별 csv 저장 중복제거\\금융위원회의 설치 등에 관한 법률.csv\n",
      "Processing : 법령별 csv 저장\\금융중심지의 조성과 발전에 관한 법률.csv\n",
      "Updated file saved to: 법령별 csv 저장 중복제거\\금융중심지의 조성과 발전에 관한 법률.csv\n",
      "Processing : 법령별 csv 저장\\금융지주회사법.csv\n",
      "Updated file saved to: 법령별 csv 저장 중복제거\\금융지주회사법.csv\n",
      "Processing : 법령별 csv 저장\\금융혁신지원 특별법.csv\n",
      "Updated file saved to: 법령별 csv 저장 중복제거\\금융혁신지원 특별법.csv\n",
      "Processing : 법령별 csv 저장\\금융회사의 지배구조에 관한 법률.csv\n",
      "Updated file saved to: 법령별 csv 저장 중복제거\\금융회사의 지배구조에 관한 법률.csv\n",
      "Processing : 법령별 csv 저장\\급경사지 재해예방에 관한 법률.csv\n",
      "Updated file saved to: 법령별 csv 저장 중복제거\\급경사지 재해예방에 관한 법률.csv\n",
      "Processing : 법령별 csv 저장\\기간제 및 단시간근로자 보호 등에 관한 법률.csv\n",
      "Updated file saved to: 법령별 csv 저장 중복제거\\기간제 및 단시간근로자 보호 등에 관한 법률.csv\n",
      "Processing : 법령별 csv 저장\\기계설비법.csv\n",
      "Updated file saved to: 법령별 csv 저장 중복제거\\기계설비법.csv\n",
      "Processing : 법령별 csv 저장\\기능성 양잠산업 육성 및 지원에 관한 법률.csv\n",
      "Updated file saved to: 법령별 csv 저장 중복제거\\기능성 양잠산업 육성 및 지원에 관한 법률.csv\n",
      "Processing : 법령별 csv 저장\\기부금품의 모집ㆍ사용 및 기부문화 활성화에 관한 법률.csv\n",
      "Updated file saved to: 법령별 csv 저장 중복제거\\기부금품의 모집ㆍ사용 및 기부문화 활성화에 관한 법률.csv\n",
      "Processing : 법령별 csv 저장\\기상관측표준화법.csv\n",
      "Updated file saved to: 법령별 csv 저장 중복제거\\기상관측표준화법.csv\n",
      "Processing : 법령별 csv 저장\\기상법.csv\n",
      "Updated file saved to: 법령별 csv 저장 중복제거\\기상법.csv\n",
      "Processing : 법령별 csv 저장\\기상산업진흥법.csv\n",
      "Updated file saved to: 법령별 csv 저장 중복제거\\기상산업진흥법.csv\n",
      "Processing : 법령별 csv 저장\\기술보증기금법.csv\n",
      "Updated file saved to: 법령별 csv 저장 중복제거\\기술보증기금법.csv\n",
      "Processing : 법령별 csv 저장\\기술사법.csv\n",
      "Updated file saved to: 법령별 csv 저장 중복제거\\기술사법.csv\n",
      "Processing : 법령별 csv 저장\\기술의 이전 및 사업화 촉진에 관한 법률.csv\n",
      "Updated file saved to: 법령별 csv 저장 중복제거\\기술의 이전 및 사업화 촉진에 관한 법률.csv\n",
      "Processing : 법령별 csv 저장\\기업구조조정 촉진법.csv\n",
      "Updated file saved to: 법령별 csv 저장 중복제거\\기업구조조정 촉진법.csv\n",
      "Processing : 법령별 csv 저장\\기업구조조정투자회사법.csv\n",
      "Updated file saved to: 법령별 csv 저장 중복제거\\기업구조조정투자회사법.csv\n",
      "Processing : 법령별 csv 저장\\기업도시개발 특별법.csv\n",
      "Updated file saved to: 법령별 csv 저장 중복제거\\기업도시개발 특별법.csv\n",
      "Processing : 법령별 csv 저장\\기업활동 규제완화에 관한 특별조치법.csv\n",
      "Updated file saved to: 법령별 csv 저장 중복제거\\기업활동 규제완화에 관한 특별조치법.csv\n",
      "Processing : 법령별 csv 저장\\기업 활력 제고를 위한 특별법.csv\n",
      "Updated file saved to: 법령별 csv 저장 중복제거\\기업 활력 제고를 위한 특별법.csv\n",
      "Processing : 법령별 csv 저장\\기초연구진흥 및 기술개발지원에 관한 법률.csv\n",
      "Updated file saved to: 법령별 csv 저장 중복제거\\기초연구진흥 및 기술개발지원에 관한 법률.csv\n",
      "Processing : 법령별 csv 저장\\기초연금법.csv\n",
      "Updated file saved to: 법령별 csv 저장 중복제거\\기초연금법.csv\n",
      "Processing : 법령별 csv 저장\\기초학력 보장법.csv\n",
      "Updated file saved to: 법령별 csv 저장 중복제거\\기초학력 보장법.csv\n",
      "Processing : 법령별 csv 저장\\기후ㆍ기후변화 감시 및 예측 등에 관한 법률.csv\n",
      "Updated file saved to: 법령별 csv 저장 중복제거\\기후ㆍ기후변화 감시 및 예측 등에 관한 법률.csv\n",
      "Processing : 법령별 csv 저장\\기후변화대응 기술개발 촉진법.csv\n",
      "Updated file saved to: 법령별 csv 저장 중복제거\\기후변화대응 기술개발 촉진법.csv\n",
      "Processing : 법령별 csv 저장\\기후위기 대응을 위한 탄소중립ㆍ녹색성장 기본법.csv\n",
      "Updated file saved to: 법령별 csv 저장 중복제거\\기후위기 대응을 위한 탄소중립ㆍ녹색성장 기본법.csv\n",
      "Processing : 법령별 csv 저장\\긴급복지지원법.csv\n",
      "Updated file saved to: 법령별 csv 저장 중복제거\\긴급복지지원법.csv\n",
      "Processing : 법령별 csv 저장\\김건희와 명태균ㆍ건진법사 관련 국정농단 및 불법 선거 개입 사건 등 진상규명을 위한 특별검사 임명 등에 관한 법률.csv\n",
      "Updated file saved to: 법령별 csv 저장 중복제거\\김건희와 명태균ㆍ건진법사 관련 국정농단 및 불법 선거 개입 사건 등 진상규명을 위한 특별검사 임명 등에 관한 법률.csv\n",
      "Processing : 법령별 csv 저장\\김산업의 육성 및 지원에 관한 법률.csv\n",
      "Updated file saved to: 법령별 csv 저장 중복제거\\김산업의 육성 및 지원에 관한 법률.csv\n",
      "Processing : 법령별 csv 저장\\김치산업 진흥법.csv\n",
      "Updated file saved to: 법령별 csv 저장 중복제거\\김치산업 진흥법.csv\n",
      "Processing : 법령별 csv 저장\\나노기술개발 촉진법.csv\n",
      "Updated file saved to: 법령별 csv 저장 중복제거\\나노기술개발 촉진법.csv\n",
      "Processing : 법령별 csv 저장\\낙농진흥법.csv\n",
      "Updated file saved to: 법령별 csv 저장 중복제거\\낙농진흥법.csv\n",
      "Processing : 법령별 csv 저장\\낙동강수계 물관리 및 주민지원 등에 관한 법률.csv\n",
      "Updated file saved to: 법령별 csv 저장 중복제거\\낙동강수계 물관리 및 주민지원 등에 관한 법률.csv\n",
      "Processing : 법령별 csv 저장\\낚시 관리 및 육성법.csv\n",
      "Updated file saved to: 법령별 csv 저장 중복제거\\낚시 관리 및 육성법.csv\n",
      "Processing : 법령별 csv 저장\\난민법.csv\n",
      "Updated file saved to: 법령별 csv 저장 중복제거\\난민법.csv\n",
      "Processing : 법령별 csv 저장\\남극활동 및 환경보호에 관한 법률.csv\n",
      "Updated file saved to: 법령별 csv 저장 중복제거\\남극활동 및 환경보호에 관한 법률.csv\n",
      "Processing : 법령별 csv 저장\\남녀고용평등과 일ㆍ가정 양립 지원에 관한 법률.csv\n",
      "Updated file saved to: 법령별 csv 저장 중복제거\\남녀고용평등과 일ㆍ가정 양립 지원에 관한 법률.csv\n",
      "Processing : 법령별 csv 저장\\남북관계 발전에 관한 법률.csv\n",
      "Updated file saved to: 법령별 csv 저장 중복제거\\남북관계 발전에 관한 법률.csv\n",
      "Processing : 법령별 csv 저장\\남북교류협력에 관한 법률.csv\n",
      "Updated file saved to: 법령별 csv 저장 중복제거\\남북교류협력에 관한 법률.csv\n",
      "Processing : 법령별 csv 저장\\남북 이산가족 생사확인 및 교류 촉진에 관한 법률.csv\n",
      "Updated file saved to: 법령별 csv 저장 중복제거\\남북 이산가족 생사확인 및 교류 촉진에 관한 법률.csv\n",
      "Processing : 법령별 csv 저장\\남북 주민 사이의 가족관계와 상속 등에 관한 특례법.csv\n",
      "Updated file saved to: 법령별 csv 저장 중복제거\\남북 주민 사이의 가족관계와 상속 등에 관한 특례법.csv\n",
      "Processing : 법령별 csv 저장\\남북협력기금법.csv\n",
      "Updated file saved to: 법령별 csv 저장 중복제거\\남북협력기금법.csv\n",
      "Processing : 법령별 csv 저장\\내수면 가두리양식어업 면허기간 연장불허에 따른 손실보상에 관한 특별법.csv\n",
      "Updated file saved to: 법령별 csv 저장 중복제거\\내수면 가두리양식어업 면허기간 연장불허에 따른 손실보상에 관한 특별법.csv\n",
      "Processing : 법령별 csv 저장\\내수면어업법.csv\n",
      "Updated file saved to: 법령별 csv 저장 중복제거\\내수면어업법.csv\n",
      "Processing : 법령별 csv 저장\\노근리사건 희생자심사 및 명예회복에 관한 특별법.csv\n",
      "Updated file saved to: 법령별 csv 저장 중복제거\\노근리사건 희생자심사 및 명예회복에 관한 특별법.csv\n",
      "Processing : 법령별 csv 저장\\노동위원회법.csv\n",
      "Updated file saved to: 법령별 csv 저장 중복제거\\노동위원회법.csv\n",
      "Processing : 법령별 csv 저장\\노동조합 및 노동관계조정법.csv\n",
      "Updated file saved to: 법령별 csv 저장 중복제거\\노동조합 및 노동관계조정법.csv\n",
      "Processing : 법령별 csv 저장\\노사관계 발전 지원에 관한 법률.csv\n",
      "Updated file saved to: 법령별 csv 저장 중복제거\\노사관계 발전 지원에 관한 법률.csv\n",
      "Processing : 법령별 csv 저장\\노숙인 등의 복지 및 자립지원에 관한 법률.csv\n",
      "Updated file saved to: 법령별 csv 저장 중복제거\\노숙인 등의 복지 및 자립지원에 관한 법률.csv\n",
      "Processing : 법령별 csv 저장\\노인복지법.csv\n",
      "Updated file saved to: 법령별 csv 저장 중복제거\\노인복지법.csv\n",
      "Processing : 법령별 csv 저장\\노인 일자리 및 사회활동 지원에 관한 법률.csv\n",
      "Updated file saved to: 법령별 csv 저장 중복제거\\노인 일자리 및 사회활동 지원에 관한 법률.csv\n",
      "Processing : 법령별 csv 저장\\노인장기요양보험법.csv\n",
      "Updated file saved to: 법령별 csv 저장 중복제거\\노인장기요양보험법.csv\n",
      "Processing : 법령별 csv 저장\\노인ㆍ장애인 등 사회복지시설의 급식안전 지원에 관한 법률.csv\n",
      "Updated file saved to: 법령별 csv 저장 중복제거\\노인ㆍ장애인 등 사회복지시설의 급식안전 지원에 관한 법률.csv\n",
      "Processing : 법령별 csv 저장\\노후거점산업단지의 활력증진 및 경쟁력강화를 위한 특별법.csv\n",
      "Updated file saved to: 법령별 csv 저장 중복제거\\노후거점산업단지의 활력증진 및 경쟁력강화를 위한 특별법.csv\n",
      "Processing : 법령별 csv 저장\\노후계획도시 정비 및 지원에 관한 특별법.csv\n",
      "Updated file saved to: 법령별 csv 저장 중복제거\\노후계획도시 정비 및 지원에 관한 특별법.csv\n",
      "Processing : 법령별 csv 저장\\노후준비 지원법.csv\n",
      "Updated file saved to: 법령별 csv 저장 중복제거\\노후준비 지원법.csv\n",
      "Processing : 법령별 csv 저장\\녹색건축물 조성 지원법.csv\n",
      "Updated file saved to: 법령별 csv 저장 중복제거\\녹색건축물 조성 지원법.csv\n",
      "Processing : 법령별 csv 저장\\녹색기후기금의 운영지원에 관한 법률.csv\n",
      "Updated file saved to: 법령별 csv 저장 중복제거\\녹색기후기금의 운영지원에 관한 법률.csv\n",
      "Processing : 법령별 csv 저장\\녹색융합클러스터의 조성 및 육성에 관한 법률.csv\n",
      "Updated file saved to: 법령별 csv 저장 중복제거\\녹색융합클러스터의 조성 및 육성에 관한 법률.csv\n",
      "Processing : 법령별 csv 저장\\녹색제품 구매촉진에 관한 법률.csv\n",
      "Updated file saved to: 법령별 csv 저장 중복제거\\녹색제품 구매촉진에 관한 법률.csv\n",
      "Processing : 법령별 csv 저장\\농림수산식품투자조합 결성 및 운용에 관한 법률.csv\n",
      "Updated file saved to: 법령별 csv 저장 중복제거\\농림수산식품투자조합 결성 및 운용에 관한 법률.csv\n",
      "Processing : 법령별 csv 저장\\농림수산업자 신용보증법.csv\n",
      "Updated file saved to: 법령별 csv 저장 중복제거\\농림수산업자 신용보증법.csv\n",
      "Processing : 법령별 csv 저장\\농림식품과학기술 육성법.csv\n",
      "Updated file saved to: 법령별 csv 저장 중복제거\\농림식품과학기술 육성법.csv\n",
      "Processing : 법령별 csv 저장\\농수산물 유통 및 가격안정에 관한 법률.csv\n",
      "Updated file saved to: 법령별 csv 저장 중복제거\\농수산물 유통 및 가격안정에 관한 법률.csv\n",
      "Processing : 법령별 csv 저장\\농수산물의 원산지 표시 등에 관한 법률.csv\n",
      "Updated file saved to: 법령별 csv 저장 중복제거\\농수산물의 원산지 표시 등에 관한 법률.csv\n",
      "Processing : 법령별 csv 저장\\농수산물 품질관리법.csv\n",
      "Updated file saved to: 법령별 csv 저장 중복제거\\농수산물 품질관리법.csv\n",
      "Processing : 법령별 csv 저장\\농수산자조금의 조성 및 운용에 관한 법률.csv\n",
      "Updated file saved to: 법령별 csv 저장 중복제거\\농수산자조금의 조성 및 운용에 관한 법률.csv\n",
      "Processing : 법령별 csv 저장\\농약관리법.csv\n",
      "Updated file saved to: 법령별 csv 저장 중복제거\\농약관리법.csv\n",
      "Processing : 법령별 csv 저장\\농어가목돈마련저축에 관한 법률.csv\n",
      "Updated file saved to: 법령별 csv 저장 중복제거\\농어가목돈마련저축에 관한 법률.csv\n",
      "Processing : 법령별 csv 저장\\농어업경영체 육성 및 지원에 관한 법률.csv\n",
      "Updated file saved to: 법령별 csv 저장 중복제거\\농어업경영체 육성 및 지원에 관한 법률.csv\n",
      "Processing : 법령별 csv 저장\\농어업고용인력 지원 특별법.csv\n",
      "Updated file saved to: 법령별 csv 저장 중복제거\\농어업고용인력 지원 특별법.csv\n",
      "Processing : 법령별 csv 저장\\농어업ㆍ농어촌특별위원회 설치 및 운영에 관한 법률.csv\n",
      "Updated file saved to: 법령별 csv 저장 중복제거\\농어업ㆍ농어촌특별위원회 설치 및 운영에 관한 법률.csv\n",
      "Processing : 법령별 csv 저장\\농어업인 부채경감에 관한 특별조치법.csv\n",
      "Updated file saved to: 법령별 csv 저장 중복제거\\농어업인 부채경감에 관한 특별조치법.csv\n",
      "Processing : 법령별 csv 저장\\농어업인 삶의 질 향상 및 농어촌지역 개발촉진에 관한 특별법.csv\n",
      "Updated file saved to: 법령별 csv 저장 중복제거\\농어업인 삶의 질 향상 및 농어촌지역 개발촉진에 관한 특별법.csv\n",
      "Processing : 법령별 csv 저장\\농어업인의 안전보험 및 안전재해예방에 관한 법률.csv\n",
      "Updated file saved to: 법령별 csv 저장 중복제거\\농어업인의 안전보험 및 안전재해예방에 관한 법률.csv\n",
      "Processing : 법령별 csv 저장\\농어업재해대책법.csv\n",
      "Updated file saved to: 법령별 csv 저장 중복제거\\농어업재해대책법.csv\n",
      "Processing : 법령별 csv 저장\\농어업재해보험법.csv\n",
      "Updated file saved to: 법령별 csv 저장 중복제거\\농어업재해보험법.csv\n",
      "Processing : 법령별 csv 저장\\농어촌구조개선 특별회계법.csv\n",
      "Updated file saved to: 법령별 csv 저장 중복제거\\농어촌구조개선 특별회계법.csv\n",
      "Processing : 법령별 csv 저장\\농어촌도로 정비법.csv\n",
      "Updated file saved to: 법령별 csv 저장 중복제거\\농어촌도로 정비법.csv\n",
      "Processing : 법령별 csv 저장\\농어촌 등 보건의료를 위한 특별조치법.csv\n",
      "Updated file saved to: 법령별 csv 저장 중복제거\\농어촌 등 보건의료를 위한 특별조치법.csv\n",
      "Processing : 법령별 csv 저장\\농어촌마을 주거환경 개선 및 리모델링 촉진을 위한 특별법.csv\n",
      "Updated file saved to: 법령별 csv 저장 중복제거\\농어촌마을 주거환경 개선 및 리모델링 촉진을 위한 특별법.csv\n",
      "Processing : 법령별 csv 저장\\농어촌 전기공급사업 촉진법.csv\n",
      "Updated file saved to: 법령별 csv 저장 중복제거\\농어촌 전기공급사업 촉진법.csv\n",
      "Processing : 법령별 csv 저장\\농어촌정비법.csv\n",
      "Updated file saved to: 법령별 csv 저장 중복제거\\농어촌정비법.csv\n",
      "Processing : 법령별 csv 저장\\농어촌주민의 보건복지 증진을 위한 특별법.csv\n",
      "Updated file saved to: 법령별 csv 저장 중복제거\\농어촌주민의 보건복지 증진을 위한 특별법.csv\n",
      "Processing : 법령별 csv 저장\\농어촌특별세법.csv\n",
      "Updated file saved to: 법령별 csv 저장 중복제거\\농어촌특별세법.csv\n",
      "Processing : 법령별 csv 저장\\농업과학기술정보서비스의 제공 및 이용 활성화에 관한 법률.csv\n",
      "Updated file saved to: 법령별 csv 저장 중복제거\\농업과학기술정보서비스의 제공 및 이용 활성화에 관한 법률.csv\n",
      "Processing : 법령별 csv 저장\\농업기계화 촉진법.csv\n",
      "Updated file saved to: 법령별 csv 저장 중복제거\\농업기계화 촉진법.csv\n",
      "Processing : 법령별 csv 저장\\농업ㆍ농촌 공익기능 증진 직접지불제도 운영에 관한 법률.csv\n",
      "Updated file saved to: 법령별 csv 저장 중복제거\\농업ㆍ농촌 공익기능 증진 직접지불제도 운영에 관한 법률.csv\n",
      "Processing : 법령별 csv 저장\\농업ㆍ농촌 및 식품산업 기본법.csv\n",
      "Updated file saved to: 법령별 csv 저장 중복제거\\농업ㆍ농촌 및 식품산업 기본법.csv\n",
      "Processing : 법령별 csv 저장\\농업생명자원의 보존ㆍ관리 및 이용에 관한 법률.csv\n",
      "Updated file saved to: 법령별 csv 저장 중복제거\\농업생명자원의 보존ㆍ관리 및 이용에 관한 법률.csv\n",
      "Processing : 법령별 csv 저장\\농업생산기반시설 및 주변지역 활용에 관한 특별법.csv\n",
      "Updated file saved to: 법령별 csv 저장 중복제거\\농업생산기반시설 및 주변지역 활용에 관한 특별법.csv\n",
      "Processing : 법령별 csv 저장\\농업인등의 농외소득 활동 지원에 관한 법률.csv\n",
      "Updated file saved to: 법령별 csv 저장 중복제거\\농업인등의 농외소득 활동 지원에 관한 법률.csv\n",
      "Processing : 법령별 csv 저장\\농업협동조합법.csv\n",
      "Updated file saved to: 법령별 csv 저장 중복제거\\농업협동조합법.csv\n",
      "Processing : 법령별 csv 저장\\농업협동조합의 구조개선에 관한 법률.csv\n",
      "Updated file saved to: 법령별 csv 저장 중복제거\\농업협동조합의 구조개선에 관한 법률.csv\n",
      "Processing : 법령별 csv 저장\\농지법.csv\n",
      "Updated file saved to: 법령별 csv 저장 중복제거\\농지법.csv\n",
      "Processing : 법령별 csv 저장\\농촌공간 재구조화 및 재생지원에 관한 법률.csv\n",
      "Updated file saved to: 법령별 csv 저장 중복제거\\농촌공간 재구조화 및 재생지원에 관한 법률.csv\n",
      "Processing : 법령별 csv 저장\\농촌융복합산업 육성 및 지원에 관한 법률.csv\n",
      "Updated file saved to: 법령별 csv 저장 중복제거\\농촌융복합산업 육성 및 지원에 관한 법률.csv\n",
      "Processing : 법령별 csv 저장\\농촌 지역 공동체 기반 경제ㆍ사회 서비스 활성화에 관한 법률.csv\n",
      "Updated file saved to: 법령별 csv 저장 중복제거\\농촌 지역 공동체 기반 경제ㆍ사회 서비스 활성화에 관한 법률.csv\n",
      "Processing : 법령별 csv 저장\\농촌진흥법.csv\n",
      "Updated file saved to: 법령별 csv 저장 중복제거\\농촌진흥법.csv\n",
      "Processing : 법령별 csv 저장\\뇌연구 촉진법.csv\n",
      "Updated file saved to: 법령별 csv 저장 중복제거\\뇌연구 촉진법.csv\n",
      "Processing : 법령별 csv 저장\\뉴스통신 진흥에 관한 법률.csv\n",
      "Updated file saved to: 법령별 csv 저장 중복제거\\뉴스통신 진흥에 관한 법률.csv\n",
      "Processing : 법령별 csv 저장\\다문화가족지원법.csv\n",
      "Updated file saved to: 법령별 csv 저장 중복제거\\다문화가족지원법.csv\n",
      "Processing : 법령별 csv 저장\\다중이용업소의 안전관리에 관한 특별법.csv\n",
      "Updated file saved to: 법령별 csv 저장 중복제거\\다중이용업소의 안전관리에 관한 특별법.csv\n",
      "Processing : 법령별 csv 저장\\달빛철도 건설을 위한 특별법.csv\n",
      "Updated file saved to: 법령별 csv 저장 중복제거\\달빛철도 건설을 위한 특별법.csv\n",
      "Processing : 법령별 csv 저장\\담배사업법.csv\n",
      "Updated file saved to: 법령별 csv 저장 중복제거\\담배사업법.csv\n",
      "Processing : 법령별 csv 저장\\담보부사채신탁법.csv\n",
      "Updated file saved to: 법령별 csv 저장 중복제거\\담보부사채신탁법.csv\n",
      "Processing : 법령별 csv 저장\\대구경북과학기술원법.csv\n",
      "Updated file saved to: 법령별 csv 저장 중복제거\\대구경북과학기술원법.csv\n",
      "Processing : 법령별 csv 저장\\대구경북통합신공항 건설을 위한 특별법.csv\n",
      "Updated file saved to: 법령별 csv 저장 중복제거\\대구경북통합신공항 건설을 위한 특별법.csv\n",
      "Processing : 법령별 csv 저장\\대규모유통업에서의 거래 공정화에 관한 법률.csv\n",
      "Updated file saved to: 법령별 csv 저장 중복제거\\대규모유통업에서의 거래 공정화에 관한 법률.csv\n",
      "Processing : 법령별 csv 저장\\대기관리권역의 대기환경개선에 관한 특별법.csv\n",
      "Updated file saved to: 법령별 csv 저장 중복제거\\대기관리권역의 대기환경개선에 관한 특별법.csv\n",
      "Processing : 법령별 csv 저장\\대기환경보전법.csv\n",
      "Updated file saved to: 법령별 csv 저장 중복제거\\대기환경보전법.csv\n",
      "Processing : 법령별 csv 저장\\대도시권 광역교통 관리에 관한 특별법.csv\n",
      "Updated file saved to: 법령별 csv 저장 중복제거\\대도시권 광역교통 관리에 관한 특별법.csv\n",
      "Processing : 법령별 csv 저장\\대리점거래의 공정화에 관한 법률.csv\n",
      "Updated file saved to: 법령별 csv 저장 중복제거\\대리점거래의 공정화에 관한 법률.csv\n",
      "Processing : 법령별 csv 저장\\대부업 등의 등록 및 금융이용자 보호에 관한 법률.csv\n",
      "Updated file saved to: 법령별 csv 저장 중복제거\\대부업 등의 등록 및 금융이용자 보호에 관한 법률.csv\n",
      "Processing : 법령별 csv 저장\\대안교육기관에 관한 법률.csv\n",
      "Updated file saved to: 법령별 csv 저장 중복제거\\대안교육기관에 관한 법률.csv\n",
      "Processing : 법령별 csv 저장\\대외경제협력기금법.csv\n",
      "Updated file saved to: 법령별 csv 저장 중복제거\\대외경제협력기금법.csv\n",
      "Processing : 법령별 csv 저장\\대외무역법.csv\n",
      "Updated file saved to: 법령별 csv 저장 중복제거\\대외무역법.csv\n",
      "Processing : 법령별 csv 저장\\대일항쟁기 강제동원 피해조사 및 국외강제동원 희생자 등 지원에 관한 특별법.csv\n",
      "Updated file saved to: 법령별 csv 저장 중복제거\\대일항쟁기 강제동원 피해조사 및 국외강제동원 희생자 등 지원에 관한 특별법.csv\n",
      "Processing : 법령별 csv 저장\\대중교통의 육성 및 이용촉진에 관한 법률.csv\n",
      "Updated file saved to: 법령별 csv 저장 중복제거\\대중교통의 육성 및 이용촉진에 관한 법률.csv\n",
      "Processing : 법령별 csv 저장\\대중문화예술산업발전법.csv\n",
      "Updated file saved to: 법령별 csv 저장 중복제거\\대중문화예술산업발전법.csv\n",
      "Processing : 법령별 csv 저장\\대ㆍ중소기업 상생협력 촉진에 관한 법률.csv\n",
      "Updated file saved to: 법령별 csv 저장 중복제거\\대ㆍ중소기업 상생협력 촉진에 관한 법률.csv\n",
      "Processing : 법령별 csv 저장\\대체역의 편입 및 복무 등에 관한 법률.csv\n",
      "Updated file saved to: 법령별 csv 저장 중복제거\\대체역의 편입 및 복무 등에 관한 법률.csv\n",
      "Processing : 법령별 csv 저장\\대통령기록물 관리에 관한 법률.csv\n",
      "Updated file saved to: 법령별 csv 저장 중복제거\\대통령기록물 관리에 관한 법률.csv\n",
      "Processing : 법령별 csv 저장\\대통령 등의 경호에 관한 법률.csv\n",
      "Updated file saved to: 법령별 csv 저장 중복제거\\대통령 등의 경호에 관한 법률.csv\n",
      "Processing : 법령별 csv 저장\\대통령직 인수에 관한 법률.csv\n",
      "Updated file saved to: 법령별 csv 저장 중복제거\\대통령직 인수에 관한 법률.csv\n",
      "Processing : 법령별 csv 저장\\대학교원 기간임용제 탈락자 구제를 위한 특별법.csv\n",
      "Updated file saved to: 법령별 csv 저장 중복제거\\대학교원 기간임용제 탈락자 구제를 위한 특별법.csv\n",
      "Processing : 법령별 csv 저장\\대학도서관진흥법.csv\n",
      "Updated file saved to: 법령별 csv 저장 중복제거\\대학도서관진흥법.csv\n",
      "Processing : 법령별 csv 저장\\대한노인회 지원에 관한 법률.csv\n",
      "Updated file saved to: 법령별 csv 저장 중복제거\\대한노인회 지원에 관한 법률.csv\n",
      "Processing : 법령별 csv 저장\\대한무역투자진흥공사법.csv\n",
      "Updated file saved to: 법령별 csv 저장 중복제거\\대한무역투자진흥공사법.csv\n",
      "Processing : 법령별 csv 저장\\대한민국과 아메리카합중국 간의 상호방위조약 제4조에 의한 시설과 구역 및 대한민국에서의 합중국군대의 지위에 관한 협정의 실시에 따른 관세법 등의 임시특례에 관한 법률.csv\n",
      "Updated file saved to: 법령별 csv 저장 중복제거\\대한민국과 아메리카합중국 간의 상호방위조약 제4조에 의한 시설과 구역 및 대한민국에서의 합중국군대의 지위에 관한 협정의 실시에 따른 관세법 등의 임시특례에 관한 법률.csv\n",
      "Processing : 법령별 csv 저장\\대한민국과 아메리카합중국 간의 상호방위조약 제4조에 의한 시설과 구역 및 대한민국에서의 합중국 군대의 지위에 관한 협정의 시행에 따른 국가 및 지방자치단체의 재산의 관리와 처분에 관한 법률.csv\n",
      "Updated file saved to: 법령별 csv 저장 중복제거\\대한민국과 아메리카합중국 간의 상호방위조약 제4조에 의한 시설과 구역 및 대한민국에서의 합중국 군대의 지위에 관한 협정의 시행에 따른 국가 및 지방자치단체의 재산의 관리와 처분에 관한 법률.csv\n",
      "Processing : 법령별 csv 저장\\대한민국과 아메리카합중국 간의 상호방위조약 제4조에 의한 시설과 구역 및 대한민국에서의 합중국 군대의 지위에 관한 협정의 시행에 관한 형사특별법.csv\n",
      "Updated file saved to: 법령별 csv 저장 중복제거\\대한민국과 아메리카합중국 간의 상호방위조약 제4조에 의한 시설과 구역 및 대한민국에서의 합중국 군대의 지위에 관한 협정의 시행에 관한 형사특별법.csv\n",
      "Processing : 법령별 csv 저장\\대한민국과 아메리카합중국 간의 상호방위조약 제4조에 의한 시설과 구역 및 대한민국에서의 합중국 군대의 지위에 관한 협정의 시행에 관한 민사특별법.csv\n",
      "Updated file saved to: 법령별 csv 저장 중복제거\\대한민국과 아메리카합중국 간의 상호방위조약 제4조에 의한 시설과 구역 및 대한민국에서의 합중국 군대의 지위에 관한 협정의 시행에 관한 민사특별법.csv\n",
      "Processing : 법령별 csv 저장\\대한민국국기법.csv\n",
      "Updated file saved to: 법령별 csv 저장 중복제거\\대한민국국기법.csv\n",
      "Processing : 법령별 csv 저장\\대한민국예술원법.csv\n",
      "Updated file saved to: 법령별 csv 저장 중복제거\\대한민국예술원법.csv\n",
      "Processing : 법령별 csv 저장\\대한민국 재외공관 설치법.csv\n",
      "Updated file saved to: 법령별 csv 저장 중복제거\\대한민국 재외공관 설치법.csv\n",
      "Processing : 법령별 csv 저장\\대한민국재향경우회법.csv\n",
      "Updated file saved to: 법령별 csv 저장 중복제거\\대한민국재향경우회법.csv\n",
      "Processing : 법령별 csv 저장\\대한민국재향교정동우회법.csv\n",
      "Updated file saved to: 법령별 csv 저장 중복제거\\대한민국재향교정동우회법.csv\n",
      "Processing : 법령별 csv 저장\\대한민국재향군인회법.csv\n",
      "Updated file saved to: 법령별 csv 저장 중복제거\\대한민국재향군인회법.csv\n",
      "Processing : 법령별 csv 저장\\대한민국재향소방동우회법.csv\n",
      "Updated file saved to: 법령별 csv 저장 중복제거\\대한민국재향소방동우회법.csv\n",
      "Processing : 법령별 csv 저장\\대한민국학술원법.csv\n",
      "Updated file saved to: 법령별 csv 저장 중복제거\\대한민국학술원법.csv\n",
      "Processing : 법령별 csv 저장\\대한민국헌정회 육성법.csv\n",
      "Updated file saved to: 법령별 csv 저장 중복제거\\대한민국헌정회 육성법.csv\n",
      "Processing : 법령별 csv 저장\\대한석탄공사법.csv\n",
      "Updated file saved to: 법령별 csv 저장 중복제거\\대한석탄공사법.csv\n",
      "Processing : 법령별 csv 저장\\대한소방공제회법.csv\n",
      "Updated file saved to: 법령별 csv 저장 중복제거\\대한소방공제회법.csv\n",
      "Processing : 법령별 csv 저장\\대한적십자사 조직법.csv\n",
      "Updated file saved to: 법령별 csv 저장 중복제거\\대한적십자사 조직법.csv\n",
      "Processing : 법령별 csv 저장\\대한지방행정공제회법.csv\n",
      "Updated file saved to: 법령별 csv 저장 중복제거\\대한지방행정공제회법.csv\n",
      "Processing : 법령별 csv 저장\\댐건설ㆍ관리 및 주변지역지원 등에 관한 법률.csv\n",
      "Updated file saved to: 법령별 csv 저장 중복제거\\댐건설ㆍ관리 및 주변지역지원 등에 관한 법률.csv\n",
      "Processing : 법령별 csv 저장\\댐 주변지역 친환경 보전 및 활용에 관한 특별법.csv\n",
      "Updated file saved to: 법령별 csv 저장 중복제거\\댐 주변지역 친환경 보전 및 활용에 관한 특별법.csv\n",
      "Processing : 법령별 csv 저장\\데이터기반행정 활성화에 관한 법률.csv\n",
      "Updated file saved to: 법령별 csv 저장 중복제거\\데이터기반행정 활성화에 관한 법률.csv\n",
      "Processing : 법령별 csv 저장\\데이터 산업진흥 및 이용촉진에 관한 기본법.csv\n",
      "Updated file saved to: 법령별 csv 저장 중복제거\\데이터 산업진흥 및 이용촉진에 관한 기본법.csv\n",
      "Processing : 법령별 csv 저장\\도로교통법.csv\n",
      "Updated file saved to: 법령별 csv 저장 중복제거\\도로교통법.csv\n",
      "Processing : 법령별 csv 저장\\도로명주소법.csv\n",
      "Updated file saved to: 법령별 csv 저장 중복제거\\도로명주소법.csv\n",
      "Processing : 법령별 csv 저장\\도로법.csv\n",
      "Updated file saved to: 법령별 csv 저장 중복제거\\도로법.csv\n",
      "Processing : 법령별 csv 저장\\도서관법.csv\n",
      "Updated file saved to: 법령별 csv 저장 중복제거\\도서관법.csv\n",
      "Processing : 법령별 csv 저장\\도서ㆍ벽지 교육진흥법.csv\n",
      "Updated file saved to: 법령별 csv 저장 중복제거\\도서ㆍ벽지 교육진흥법.csv\n",
      "Processing : 법령별 csv 저장\\도선법.csv\n",
      "Updated file saved to: 법령별 csv 저장 중복제거\\도선법.csv\n",
      "Processing : 법령별 csv 저장\\도시가스사업법.csv\n",
      "Updated file saved to: 법령별 csv 저장 중복제거\\도시가스사업법.csv\n",
      "Processing : 법령별 csv 저장\\도시개발법.csv\n",
      "Updated file saved to: 법령별 csv 저장 중복제거\\도시개발법.csv\n",
      "Processing : 법령별 csv 저장\\도시 공업지역의 관리 및 활성화에 관한 특별법.csv\n",
      "Updated file saved to: 법령별 csv 저장 중복제거\\도시 공업지역의 관리 및 활성화에 관한 특별법.csv\n",
      "Processing : 법령별 csv 저장\\도시공원 및 녹지 등에 관한 법률.csv\n",
      "Updated file saved to: 법령별 csv 저장 중복제거\\도시공원 및 녹지 등에 관한 법률.csv\n",
      "Processing : 법령별 csv 저장\\도시교통정비 촉진법.csv\n",
      "Updated file saved to: 법령별 csv 저장 중복제거\\도시교통정비 촉진법.csv\n",
      "Processing : 법령별 csv 저장\\도시농업의 육성 및 지원에 관한 법률.csv\n",
      "Updated file saved to: 법령별 csv 저장 중복제거\\도시농업의 육성 및 지원에 관한 법률.csv\n",
      "Processing : 법령별 csv 저장\\도시 및 주거환경정비법.csv\n",
      "Updated file saved to: 법령별 csv 저장 중복제거\\도시 및 주거환경정비법.csv\n",
      "Processing : 법령별 csv 저장\\도시숲 등의 조성 및 관리에 관한 법률.csv\n",
      "Updated file saved to: 법령별 csv 저장 중복제거\\도시숲 등의 조성 및 관리에 관한 법률.csv\n",
      "Processing : 법령별 csv 저장\\도시와 농어촌 간의 교류촉진에 관한 법률.csv\n",
      "Updated file saved to: 법령별 csv 저장 중복제거\\도시와 농어촌 간의 교류촉진에 관한 법률.csv\n",
      "Processing : 법령별 csv 저장\\도시재생 활성화 및 지원에 관한 특별법.csv\n",
      "Updated file saved to: 법령별 csv 저장 중복제거\\도시재생 활성화 및 지원에 관한 특별법.csv\n",
      "Processing : 법령별 csv 저장\\도시재정비 촉진을 위한 특별법.csv\n",
      "Updated file saved to: 법령별 csv 저장 중복제거\\도시재정비 촉진을 위한 특별법.csv\n",
      "Processing : 법령별 csv 저장\\도시철도법.csv\n",
      "Updated file saved to: 법령별 csv 저장 중복제거\\도시철도법.csv\n",
      "Processing : 법령별 csv 저장\\도시하천유역 침수피해방지대책법.csv\n",
      "Updated file saved to: 법령별 csv 저장 중복제거\\도시하천유역 침수피해방지대책법.csv\n",
      "Processing : 법령별 csv 저장\\도시형소공인 지원에 관한 특별법.csv\n",
      "Updated file saved to: 법령별 csv 저장 중복제거\\도시형소공인 지원에 관한 특별법.csv\n",
      "Processing : 법령별 csv 저장\\도심 복합개발 지원에 관한 법률.csv\n",
      "Updated file saved to: 법령별 csv 저장 중복제거\\도심 복합개발 지원에 관한 법률.csv\n",
      "Processing : 법령별 csv 저장\\도심융합특구 조성 및 육성에 관한 특별법.csv\n",
      "Updated file saved to: 법령별 csv 저장 중복제거\\도심융합특구 조성 및 육성에 관한 특별법.csv\n",
      "Processing : 법령별 csv 저장\\도심항공교통 활용 촉진 및 지원에 관한 법률.csv\n",
      "Updated file saved to: 법령별 csv 저장 중복제거\\도심항공교통 활용 촉진 및 지원에 관한 법률.csv\n",
      "Processing : 법령별 csv 저장\\도청이전을 위한 도시건설 및 지원에 관한 특별법.csv\n",
      "Updated file saved to: 법령별 csv 저장 중복제거\\도청이전을 위한 도시건설 및 지원에 관한 특별법.csv\n",
      "Processing : 법령별 csv 저장\\독도 등 도서지역의 생태계 보전에 관한 특별법.csv\n",
      "Updated file saved to: 법령별 csv 저장 중복제거\\독도 등 도서지역의 생태계 보전에 관한 특별법.csv\n",
      "Processing : 법령별 csv 저장\\독도의용수비대 지원법.csv\n",
      "Updated file saved to: 법령별 csv 저장 중복제거\\독도의용수비대 지원법.csv\n",
      "Processing : 법령별 csv 저장\\독도의 지속가능한 이용에 관한 법률.csv\n",
      "Updated file saved to: 법령별 csv 저장 중복제거\\독도의 지속가능한 이용에 관한 법률.csv\n",
      "Processing : 법령별 csv 저장\\독립공채상환에 관한 특별조치법.csv\n",
      "Updated file saved to: 법령별 csv 저장 중복제거\\독립공채상환에 관한 특별조치법.csv\n",
      "Processing : 법령별 csv 저장\\독립기념관법.csv\n",
      "Updated file saved to: 법령별 csv 저장 중복제거\\독립기념관법.csv\n",
      "Processing : 법령별 csv 저장\\독립유공자예우에 관한 법률.csv\n",
      "Updated file saved to: 법령별 csv 저장 중복제거\\독립유공자예우에 관한 법률.csv\n",
      "Processing : 법령별 csv 저장\\독서문화진흥법.csv\n",
      "Updated file saved to: 법령별 csv 저장 중복제거\\독서문화진흥법.csv\n",
      "Processing : 법령별 csv 저장\\독점규제 및 공정거래에 관한 법률.csv\n",
      "Updated file saved to: 법령별 csv 저장 중복제거\\독점규제 및 공정거래에 관한 법률.csv\n",
      "Processing : 법령별 csv 저장\\독학에 의한 학위취득에 관한 법률.csv\n",
      "Updated file saved to: 법령별 csv 저장 중복제거\\독학에 의한 학위취득에 관한 법률.csv\n",
      "Processing : 법령별 csv 저장\\동물보호법.csv\n",
      "Updated file saved to: 법령별 csv 저장 중복제거\\동물보호법.csv\n",
      "Processing : 법령별 csv 저장\\동물원 및 수족관의 관리에 관한 법률.csv\n",
      "Updated file saved to: 법령별 csv 저장 중복제거\\동물원 및 수족관의 관리에 관한 법률.csv\n",
      "Processing : 법령별 csv 저장\\동물위생시험소법.csv\n",
      "Updated file saved to: 법령별 csv 저장 중복제거\\동물위생시험소법.csv\n",
      "Processing : 법령별 csv 저장\\동북아역사재단 설립ㆍ운영에 관한 법률.csv\n",
      "Updated file saved to: 법령별 csv 저장 중복제거\\동북아역사재단 설립ㆍ운영에 관한 법률.csv\n",
      "Processing : 법령별 csv 저장\\동산ㆍ채권 등의 담보에 관한 법률.csv\n",
      "Updated file saved to: 법령별 csv 저장 중복제거\\동산ㆍ채권 등의 담보에 관한 법률.csv\n",
      "Processing : 법령별 csv 저장\\동ㆍ서ㆍ남해안 및 내륙권 발전 특별법.csv\n",
      "Updated file saved to: 법령별 csv 저장 중복제거\\동ㆍ서ㆍ남해안 및 내륙권 발전 특별법.csv\n",
      "Processing : 법령별 csv 저장\\동의대 사건 희생자의 명예회복 및 보상에 관한 법률.csv\n",
      "Updated file saved to: 법령별 csv 저장 중복제거\\동의대 사건 희생자의 명예회복 및 보상에 관한 법률.csv\n",
      "Processing : 법령별 csv 저장\\동학농민혁명 참여자 등의 명예회복에 관한 특별법.csv\n",
      "Updated file saved to: 법령별 csv 저장 중복제거\\동학농민혁명 참여자 등의 명예회복에 관한 특별법.csv\n",
      "Processing : 법령별 csv 저장\\드론 활용의 촉진 및 기반조성에 관한 법률.csv\n",
      "Updated file saved to: 법령별 csv 저장 중복제거\\드론 활용의 촉진 및 기반조성에 관한 법률.csv\n",
      "Processing : 법령별 csv 저장\\드루킹의 인터넷상 불법 댓글 조작 사건과 관련된 진상규명을 위한 특별검사의 임명 등에 관한 법률.csv\n",
      "Updated file saved to: 법령별 csv 저장 중복제거\\드루킹의 인터넷상 불법 댓글 조작 사건과 관련된 진상규명을 위한 특별검사의 임명 등에 관한 법률.csv\n",
      "Processing : 법령별 csv 저장\\등기특별회계법.csv\n",
      "Updated file saved to: 법령별 csv 저장 중복제거\\등기특별회계법.csv\n",
      "Processing : 법령별 csv 저장\\등대유산 보존 및 활용에 관한 법률.csv\n",
      "Updated file saved to: 법령별 csv 저장 중복제거\\등대유산 보존 및 활용에 관한 법률.csv\n",
      "Processing : 법령별 csv 저장\\디엔에이신원확인정보의 이용 및 보호에 관한 법률.csv\n",
      "Updated file saved to: 법령별 csv 저장 중복제거\\디엔에이신원확인정보의 이용 및 보호에 관한 법률.csv\n",
      "Processing : 법령별 csv 저장\\디자인보호법.csv\n",
      "Updated file saved to: 법령별 csv 저장 중복제거\\디자인보호법.csv\n",
      "Processing : 법령별 csv 저장\\디지털 기반의 원격교육 활성화 기본법.csv\n",
      "Updated file saved to: 법령별 csv 저장 중복제거\\디지털 기반의 원격교육 활성화 기본법.csv\n",
      "Processing : 법령별 csv 저장\\디지털의료제품법.csv\n",
      "Updated file saved to: 법령별 csv 저장 중복제거\\디지털의료제품법.csv\n",
      "Processing : 법령별 csv 저장\\마리나항만의 조성 및 관리 등에 관한 법률.csv\n",
      "Updated file saved to: 법령별 csv 저장 중복제거\\마리나항만의 조성 및 관리 등에 관한 법률.csv\n",
      "Processing : 법령별 csv 저장\\마약류 관리에 관한 법률.csv\n",
      "Updated file saved to: 법령별 csv 저장 중복제거\\마약류 관리에 관한 법률.csv\n",
      "Processing : 법령별 csv 저장\\마약류 불법거래 방지에 관한 특례법.csv\n",
      "Updated file saved to: 법령별 csv 저장 중복제거\\마약류 불법거래 방지에 관한 특례법.csv\n",
      "Processing : 법령별 csv 저장\\만화진흥에 관한 법률.csv\n",
      "Updated file saved to: 법령별 csv 저장 중복제거\\만화진흥에 관한 법률.csv\n",
      "Processing : 법령별 csv 저장\\말산업 육성법.csv\n",
      "Updated file saved to: 법령별 csv 저장 중복제거\\말산업 육성법.csv\n",
      "Processing : 법령별 csv 저장\\매장유산 보호 및 조사에 관한 법률.csv\n",
      "Updated file saved to: 법령별 csv 저장 중복제거\\매장유산 보호 및 조사에 관한 법률.csv\n",
      "Processing : 법령별 csv 저장\\먹는물관리법.csv\n",
      "Updated file saved to: 법령별 csv 저장 중복제거\\먹는물관리법.csv\n",
      "Processing : 법령별 csv 저장\\모빌리티 혁신 및 활성화 지원에 관한 법률.csv\n",
      "Updated file saved to: 법령별 csv 저장 중복제거\\모빌리티 혁신 및 활성화 지원에 관한 법률.csv\n",
      "Processing : 법령별 csv 저장\\모자보건법.csv\n",
      "Updated file saved to: 법령별 csv 저장 중복제거\\모자보건법.csv\n",
      "Processing : 법령별 csv 저장\\목재의 지속가능한 이용에 관한 법률.csv\n",
      "Updated file saved to: 법령별 csv 저장 중복제거\\목재의 지속가능한 이용에 관한 법률.csv\n",
      "Processing : 법령별 csv 저장\\몰수금품 등 처리에 관한 임시특례법.csv\n",
      "Updated file saved to: 법령별 csv 저장 중복제거\\몰수금품 등 처리에 관한 임시특례법.csv\n",
      "Processing : 법령별 csv 저장\\무역거래기반 조성에 관한 법률.csv\n",
      "Updated file saved to: 법령별 csv 저장 중복제거\\무역거래기반 조성에 관한 법률.csv\n",
      "Processing : 법령별 csv 저장\\무역보험법.csv\n",
      "Updated file saved to: 법령별 csv 저장 중복제거\\무역보험법.csv\n",
      "Processing : 법령별 csv 저장\\무인도서의 보전 및 관리에 관한 법률.csv\n",
      "Updated file saved to: 법령별 csv 저장 중복제거\\무인도서의 보전 및 관리에 관한 법률.csv\n",
      "Processing : 법령별 csv 저장\\무형유산의 보전 및 진흥에 관한 법률.csv\n",
      "Updated file saved to: 법령별 csv 저장 중복제거\\무형유산의 보전 및 진흥에 관한 법률.csv\n",
      "Processing : 법령별 csv 저장\\문학진흥법.csv\n",
      "Updated file saved to: 법령별 csv 저장 중복제거\\문학진흥법.csv\n",
      "Processing : 법령별 csv 저장\\문화기본법.csv\n",
      "Updated file saved to: 법령별 csv 저장 중복제거\\문화기본법.csv\n",
      "Processing : 법령별 csv 저장\\문화다양성의 보호와 증진에 관한 법률.csv\n",
      "Updated file saved to: 법령별 csv 저장 중복제거\\문화다양성의 보호와 증진에 관한 법률.csv\n",
      "Processing : 법령별 csv 저장\\문화산업진흥 기본법.csv\n",
      "Updated file saved to: 법령별 csv 저장 중복제거\\문화산업진흥 기본법.csv\n",
      "Processing : 법령별 csv 저장\\문화예술교육 지원법.csv\n",
      "Updated file saved to: 법령별 csv 저장 중복제거\\문화예술교육 지원법.csv\n",
      "Processing : 법령별 csv 저장\\문화예술진흥법.csv\n",
      "Updated file saved to: 법령별 csv 저장 중복제거\\문화예술진흥법.csv\n",
      "Processing : 법령별 csv 저장\\문화예술후원 활성화에 관한 법률.csv\n",
      "Updated file saved to: 법령별 csv 저장 중복제거\\문화예술후원 활성화에 관한 법률.csv\n",
      "Processing : 법령별 csv 저장\\문화유산과 자연환경자산에 관한 국민신탁법.csv\n",
      "Updated file saved to: 법령별 csv 저장 중복제거\\문화유산과 자연환경자산에 관한 국민신탁법.csv\n",
      "Processing : 법령별 csv 저장\\문화유산의 보존 및 활용에 관한 법률.csv\n",
      "Updated file saved to: 법령별 csv 저장 중복제거\\문화유산의 보존 및 활용에 관한 법률.csv\n",
      "Processing : 법령별 csv 저장\\물가안정에 관한 법률.csv\n",
      "Updated file saved to: 법령별 csv 저장 중복제거\\물가안정에 관한 법률.csv\n",
      "Processing : 법령별 csv 저장\\물관리기본법.csv\n",
      "Updated file saved to: 법령별 csv 저장 중복제거\\물관리기본법.csv\n",
      "Processing : 법령별 csv 저장\\물관리기술 발전 및 물산업 진흥에 관한 법률.csv\n",
      "Updated file saved to: 법령별 csv 저장 중복제거\\물관리기술 발전 및 물산업 진흥에 관한 법률.csv\n",
      "Processing : 법령별 csv 저장\\물류시설의 개발 및 운영에 관한 법률.csv\n",
      "Updated file saved to: 법령별 csv 저장 중복제거\\물류시설의 개발 및 운영에 관한 법률.csv\n",
      "Processing : 법령별 csv 저장\\물류정책기본법.csv\n",
      "Updated file saved to: 법령별 csv 저장 중복제거\\물류정책기본법.csv\n",
      "Processing : 법령별 csv 저장\\물순환 촉진 및 지원에 관한 법률.csv\n",
      "Updated file saved to: 법령별 csv 저장 중복제거\\물순환 촉진 및 지원에 관한 법률.csv\n",
      "Processing : 법령별 csv 저장\\물의 재이용 촉진 및 지원에 관한 법률.csv\n",
      "Updated file saved to: 법령별 csv 저장 중복제거\\물의 재이용 촉진 및 지원에 관한 법률.csv\n",
      "Processing : 법령별 csv 저장\\물품관리법.csv\n",
      "Updated file saved to: 법령별 csv 저장 중복제거\\물품관리법.csv\n",
      "Processing : 법령별 csv 저장\\물품목록정보의 관리 및 이용에 관한 법률.csv\n",
      "Updated file saved to: 법령별 csv 저장 중복제거\\물품목록정보의 관리 및 이용에 관한 법률.csv\n",
      "Processing : 법령별 csv 저장\\물환경보전법.csv\n",
      "Updated file saved to: 법령별 csv 저장 중복제거\\물환경보전법.csv\n",
      "Processing : 법령별 csv 저장\\미래자동차 부품산업의 전환촉진 및 생태계 육성에 관한 특별법.csv\n",
      "Updated file saved to: 법령별 csv 저장 중복제거\\미래자동차 부품산업의 전환촉진 및 생태계 육성에 관한 특별법.csv\n",
      "Processing : 법령별 csv 저장\\미세먼지 저감 및 관리에 관한 특별법.csv\n",
      "Updated file saved to: 법령별 csv 저장 중복제거\\미세먼지 저감 및 관리에 관한 특별법.csv\n",
      "Processing : 법령별 csv 저장\\미술진흥법.csv\n",
      "Updated file saved to: 법령별 csv 저장 중복제거\\미술진흥법.csv\n",
      "Processing : 법령별 csv 저장\\민간인 통제선 이북지역의 산지관리에 관한 특별법.csv\n",
      "Updated file saved to: 법령별 csv 저장 중복제거\\민간인 통제선 이북지역의 산지관리에 관한 특별법.csv\n",
      "Processing : 법령별 csv 저장\\민간임대주택에 관한 특별법.csv\n",
      "Updated file saved to: 법령별 csv 저장 중복제거\\민간임대주택에 관한 특별법.csv\n",
      "Processing : 법령별 csv 저장\\민ㆍ군기술협력사업 촉진법.csv\n",
      "Updated file saved to: 법령별 csv 저장 중복제거\\민ㆍ군기술협력사업 촉진법.csv\n",
      "Processing : 법령별 csv 저장\\민방위기본법.csv\n",
      "Updated file saved to: 법령별 csv 저장 중복제거\\민방위기본법.csv\n",
      "Processing : 법령별 csv 저장\\민법.csv\n",
      "Updated file saved to: 법령별 csv 저장 중복제거\\민법.csv\n",
      "Processing : 법령별 csv 저장\\민사소송 등에서의 전자문서 이용 등에 관한 법률.csv\n",
      "Updated file saved to: 법령별 csv 저장 중복제거\\민사소송 등에서의 전자문서 이용 등에 관한 법률.csv\n",
      "Processing : 법령별 csv 저장\\민사소송 등 인지법.csv\n",
      "Updated file saved to: 법령별 csv 저장 중복제거\\민사소송 등 인지법.csv\n",
      "Processing : 법령별 csv 저장\\민사소송법.csv\n",
      "Updated file saved to: 법령별 csv 저장 중복제거\\민사소송법.csv\n",
      "Processing : 법령별 csv 저장\\민사소송비용법.csv\n",
      "Updated file saved to: 법령별 csv 저장 중복제거\\민사소송비용법.csv\n",
      "Processing : 법령별 csv 저장\\민사조정법.csv\n",
      "Updated file saved to: 법령별 csv 저장 중복제거\\민사조정법.csv\n",
      "Processing : 법령별 csv 저장\\민사집행법.csv\n",
      "Updated file saved to: 법령별 csv 저장 중복제거\\민사집행법.csv\n",
      "Processing : 법령별 csv 저장\\민영교도소 등의 설치ㆍ운영에 관한 법률.csv\n",
      "Updated file saved to: 법령별 csv 저장 중복제거\\민영교도소 등의 설치ㆍ운영에 관한 법률.csv\n",
      "Processing : 법령별 csv 저장\\민원 처리에 관한 법률.csv\n",
      "Updated file saved to: 법령별 csv 저장 중복제거\\민원 처리에 관한 법률.csv\n",
      "Processing : 법령별 csv 저장\\민주평화통일자문회의법.csv\n",
      "Updated file saved to: 법령별 csv 저장 중복제거\\민주평화통일자문회의법.csv\n",
      "Processing : 법령별 csv 저장\\민주화운동 관련자 명예회복 및 보상 등에 관한 법률.csv\n",
      "Updated file saved to: 법령별 csv 저장 중복제거\\민주화운동 관련자 명예회복 및 보상 등에 관한 법률.csv\n",
      "Processing : 법령별 csv 저장\\민주화운동기념사업회법.csv\n",
      "Updated file saved to: 법령별 csv 저장 중복제거\\민주화운동기념사업회법.csv\n",
      "Processing : 법령별 csv 저장\\밀산업 육성법.csv\n",
      "Updated file saved to: 법령별 csv 저장 중복제거\\밀산업 육성법.csv\n",
      "Processing : 법령별 csv 저장\\밀항단속법.csv\n",
      "Updated file saved to: 법령별 csv 저장 중복제거\\밀항단속법.csv\n",
      "Processing : 법령별 csv 저장\\바둑 진흥법.csv\n",
      "Updated file saved to: 법령별 csv 저장 중복제거\\바둑 진흥법.csv\n",
      "Processing : 법령별 csv 저장\\바르게살기운동조직 육성법.csv\n",
      "Updated file saved to: 법령별 csv 저장 중복제거\\바르게살기운동조직 육성법.csv\n",
      "Processing : 법령별 csv 저장\\박근혜 정부의 최순실 등 민간인에 의한 국정농단 의혹 사건 규명을 위한 특별검사의 임명 등에 관한 법률.csv\n",
      "Updated file saved to: 법령별 csv 저장 중복제거\\박근혜 정부의 최순실 등 민간인에 의한 국정농단 의혹 사건 규명을 위한 특별검사의 임명 등에 관한 법률.csv\n",
      "Processing : 법령별 csv 저장\\박물관 및 미술관 진흥법.csv\n",
      "Updated file saved to: 법령별 csv 저장 중복제거\\박물관 및 미술관 진흥법.csv\n",
      "Processing : 법령별 csv 저장\\반도체집적회로의 배치설계에 관한 법률.csv\n",
      "Updated file saved to: 법령별 csv 저장 중복제거\\반도체집적회로의 배치설계에 관한 법률.csv\n",
      "Processing : 법령별 csv 저장\\발달장애인 권리보장 및 지원에 관한 법률.csv\n",
      "Updated file saved to: 법령별 csv 저장 중복제거\\발달장애인 권리보장 및 지원에 관한 법률.csv\n",
      "Processing : 법령별 csv 저장\\발명교육의 활성화 및 지원에 관한 법률.csv\n",
      "Updated file saved to: 법령별 csv 저장 중복제거\\발명교육의 활성화 및 지원에 관한 법률.csv\n",
      "Processing : 법령별 csv 저장\\발명진흥법.csv\n",
      "Updated file saved to: 법령별 csv 저장 중복제거\\발명진흥법.csv\n",
      "Processing : 법령별 csv 저장\\발전소주변지역 지원에 관한 법률.csv\n",
      "Updated file saved to: 법령별 csv 저장 중복제거\\발전소주변지역 지원에 관한 법률.csv\n",
      "Processing : 법령별 csv 저장\\방문판매 등에 관한 법률.csv\n",
      "Updated file saved to: 법령별 csv 저장 중복제거\\방문판매 등에 관한 법률.csv\n",
      "Processing : 법령별 csv 저장\\방사선 및 방사성동위원소 이용진흥법.csv\n",
      "Updated file saved to: 법령별 csv 저장 중복제거\\방사선 및 방사성동위원소 이용진흥법.csv\n",
      "Processing : 법령별 csv 저장\\방사성폐기물 관리법.csv\n",
      "Updated file saved to: 법령별 csv 저장 중복제거\\방사성폐기물 관리법.csv\n",
      "Processing : 법령별 csv 저장\\방송광고판매대행 등에 관한 법률.csv\n",
      "Updated file saved to: 법령별 csv 저장 중복제거\\방송광고판매대행 등에 관한 법률.csv\n",
      "Processing : 법령별 csv 저장\\방송문화진흥회법.csv\n",
      "Updated file saved to: 법령별 csv 저장 중복제거\\방송문화진흥회법.csv\n",
      "Processing : 법령별 csv 저장\\방송법.csv\n",
      "Updated file saved to: 법령별 csv 저장 중복제거\\방송법.csv\n",
      "Processing : 법령별 csv 저장\\방송통신발전 기본법.csv\n",
      "Updated file saved to: 법령별 csv 저장 중복제거\\방송통신발전 기본법.csv\n",
      "Processing : 법령별 csv 저장\\방송통신위원회의 설치 및 운영에 관한 법률.csv\n",
      "Updated file saved to: 법령별 csv 저장 중복제거\\방송통신위원회의 설치 및 운영에 관한 법률.csv\n",
      "Processing : 법령별 csv 저장\\방어해면법.csv\n",
      "Updated file saved to: 법령별 csv 저장 중복제거\\방어해면법.csv\n",
      "Processing : 법령별 csv 저장\\방위사업법.csv\n",
      "Updated file saved to: 법령별 csv 저장 중복제거\\방위사업법.csv\n",
      "Processing : 법령별 csv 저장\\방위산업기술 보호법.csv\n",
      "Updated file saved to: 법령별 csv 저장 중복제거\\방위산업기술 보호법.csv\n",
      "Processing : 법령별 csv 저장\\방위산업 발전 및 지원에 관한 법률.csv\n",
      "Updated file saved to: 법령별 csv 저장 중복제거\\방위산업 발전 및 지원에 관한 법률.csv\n",
      "Processing : 법령별 csv 저장\\방조제 관리법.csv\n",
      "Updated file saved to: 법령별 csv 저장 중복제거\\방조제 관리법.csv\n",
      "Processing : 법령별 csv 저장\\배타적 경제수역 및 대륙붕에 관한 법률.csv\n",
      "Updated file saved to: 법령별 csv 저장 중복제거\\배타적 경제수역 및 대륙붕에 관한 법률.csv\n",
      "Processing : 법령별 csv 저장\\배타적 경제수역에서의 외국인어업 등에 대한 주권적 권리의 행사에 관한 법률.csv\n",
      "Updated file saved to: 법령별 csv 저장 중복제거\\배타적 경제수역에서의 외국인어업 등에 대한 주권적 권리의 행사에 관한 법률.csv\n",
      "Processing : 법령별 csv 저장\\백두대간 보호에 관한 법률.csv\n",
      "Updated file saved to: 법령별 csv 저장 중복제거\\백두대간 보호에 관한 법률.csv\n",
      "Processing : 법령별 csv 저장\\벌금 등 임시조치법.csv\n",
      "Updated file saved to: 법령별 csv 저장 중복제거\\벌금 등 임시조치법.csv\n",
      "Processing : 법령별 csv 저장\\벌금 미납자의 사회봉사 집행에 관한 특례법.csv\n",
      "Updated file saved to: 법령별 csv 저장 중복제거\\벌금 미납자의 사회봉사 집행에 관한 특례법.csv\n",
      "Processing : 법령별 csv 저장\\범죄수익은닉의 규제 및 처벌 등에 관한 법률.csv\n",
      "Updated file saved to: 법령별 csv 저장 중복제거\\범죄수익은닉의 규제 및 처벌 등에 관한 법률.csv\n",
      "Processing : 법령별 csv 저장\\범죄인 인도법.csv\n",
      "Updated file saved to: 법령별 csv 저장 중복제거\\범죄인 인도법.csv\n",
      "Processing : 법령별 csv 저장\\범죄피해자보호기금법.csv\n",
      "Updated file saved to: 법령별 csv 저장 중복제거\\범죄피해자보호기금법.csv\n",
      "Processing : 법령별 csv 저장\\범죄피해자 보호법.csv\n",
      "Updated file saved to: 법령별 csv 저장 중복제거\\범죄피해자 보호법.csv\n",
      "Processing : 법령별 csv 저장\\법관의 보수에 관한 법률.csv\n",
      "Updated file saved to: 법령별 csv 저장 중복제거\\법관의 보수에 관한 법률.csv\n",
      "Processing : 법령별 csv 저장\\법관징계법.csv\n",
      "Updated file saved to: 법령별 csv 저장 중복제거\\법관징계법.csv\n",
      "Processing : 법령별 csv 저장\\법교육지원법.csv\n",
      "Updated file saved to: 법령별 csv 저장 중복제거\\법교육지원법.csv\n",
      "Processing : 법령별 csv 저장\\법령 등 공포에 관한 법률.csv\n",
      "Updated file saved to: 법령별 csv 저장 중복제거\\법령 등 공포에 관한 법률.csv\n",
      "Processing : 법령별 csv 저장\\법령정보의 관리 및 제공에 관한 법률.csv\n",
      "Updated file saved to: 법령별 csv 저장 중복제거\\법령정보의 관리 및 제공에 관한 법률.csv\n",
      "Processing : 법령별 csv 저장\\법률구조법.csv\n",
      "Updated file saved to: 법령별 csv 저장 중복제거\\법률구조법.csv\n",
      "Processing : 법령별 csv 저장\\법무사법.csv\n",
      "Updated file saved to: 법령별 csv 저장 중복제거\\법무사법.csv\n",
      "Processing : 법령별 csv 저장\\법원재난에 기인한 민형사사건 임시조치법.csv\n",
      "Updated file saved to: 법령별 csv 저장 중복제거\\법원재난에 기인한 민형사사건 임시조치법.csv\n",
      "Processing : 법령별 csv 저장\\법원조직법.csv\n",
      "Updated file saved to: 법령별 csv 저장 중복제거\\법원조직법.csv\n",
      "Processing : 법령별 csv 저장\\법인세법.csv\n",
      "Updated file saved to: 법령별 csv 저장 중복제거\\법인세법.csv\n",
      "Processing : 법령별 csv 저장\\법인의 등기사항 등에 관한 특례법.csv\n",
      "Updated file saved to: 법령별 csv 저장 중복제거\\법인의 등기사항 등에 관한 특례법.csv\n",
      "Processing : 법령별 csv 저장\\법학전문대학원 설치ㆍ운영에 관한 법률.csv\n",
      "Updated file saved to: 법령별 csv 저장 중복제거\\법학전문대학원 설치ㆍ운영에 관한 법률.csv\n",
      "Processing : 법령별 csv 저장\\벤처기업육성에 관한 특별법.csv\n",
      "Updated file saved to: 법령별 csv 저장 중복제거\\벤처기업육성에 관한 특별법.csv\n",
      "Processing : 법령별 csv 저장\\벤처투자 촉진에 관한 법률.csv\n",
      "Updated file saved to: 법령별 csv 저장 중복제거\\벤처투자 촉진에 관한 법률.csv\n",
      "Processing : 법령별 csv 저장\\변리사법.csv\n",
      "Updated file saved to: 법령별 csv 저장 중복제거\\변리사법.csv\n",
      "Processing : 법령별 csv 저장\\변호사법.csv\n",
      "Updated file saved to: 법령별 csv 저장 중복제거\\변호사법.csv\n",
      "Processing : 법령별 csv 저장\\변호사시험법.csv\n",
      "Updated file saved to: 법령별 csv 저장 중복제거\\변호사시험법.csv\n",
      "Processing : 법령별 csv 저장\\별정우체국법.csv\n",
      "Updated file saved to: 법령별 csv 저장 중복제거\\별정우체국법.csv\n",
      "Processing : 법령별 csv 저장\\병역법.csv\n",
      "Updated file saved to: 법령별 csv 저장 중복제거\\병역법.csv\n",
      "Processing : 법령별 csv 저장\\병원체자원의 수집ㆍ관리 및 활용 촉진에 관한 법률.csv\n",
      "Updated file saved to: 법령별 csv 저장 중복제거\\병원체자원의 수집ㆍ관리 및 활용 촉진에 관한 법률.csv\n",
      "Processing : 법령별 csv 저장\\보건범죄 단속에 관한 특별조치법.csv\n",
      "Updated file saved to: 법령별 csv 저장 중복제거\\보건범죄 단속에 관한 특별조치법.csv\n",
      "Processing : 법령별 csv 저장\\보건의료기본법.csv\n",
      "Updated file saved to: 법령별 csv 저장 중복제거\\보건의료기본법.csv\n",
      "Processing : 법령별 csv 저장\\보건의료기술 진흥법.csv\n",
      "Updated file saved to: 법령별 csv 저장 중복제거\\보건의료기술 진흥법.csv\n",
      "Processing : 법령별 csv 저장\\보건의료인력지원법.csv\n",
      "Updated file saved to: 법령별 csv 저장 중복제거\\보건의료인력지원법.csv\n",
      "Processing : 법령별 csv 저장\\보건환경연구원법.csv\n",
      "Updated file saved to: 법령별 csv 저장 중복제거\\보건환경연구원법.csv\n",
      "Processing : 법령별 csv 저장\\보안관찰법.csv\n",
      "Updated file saved to: 법령별 csv 저장 중복제거\\보안관찰법.csv\n",
      "Processing : 법령별 csv 저장\\보조금 관리에 관한 법률.csv\n",
      "Updated file saved to: 법령별 csv 저장 중복제거\\보조금 관리에 관한 법률.csv\n",
      "Processing : 법령별 csv 저장\\보증인 보호를 위한 특별법.csv\n",
      "Updated file saved to: 법령별 csv 저장 중복제거\\보증인 보호를 위한 특별법.csv\n",
      "Processing : 법령별 csv 저장\\보행안전 및 편의증진에 관한 법률.csv\n",
      "Updated file saved to: 법령별 csv 저장 중복제거\\보행안전 및 편의증진에 관한 법률.csv\n",
      "Processing : 법령별 csv 저장\\보험사기방지 특별법.csv\n",
      "Updated file saved to: 법령별 csv 저장 중복제거\\보험사기방지 특별법.csv\n",
      "Processing : 법령별 csv 저장\\보험업법.csv\n",
      "Updated file saved to: 법령별 csv 저장 중복제거\\보험업법.csv\n",
      "Processing : 법령별 csv 저장\\보호관찰 등에 관한 법률.csv\n",
      "Updated file saved to: 법령별 csv 저장 중복제거\\보호관찰 등에 관한 법률.csv\n",
      "Processing : 법령별 csv 저장\\보호소년 등의 처우에 관한 법률.csv\n",
      "Updated file saved to: 법령별 csv 저장 중복제거\\보호소년 등의 처우에 관한 법률.csv\n",
      "Processing : 법령별 csv 저장\\보호시설에 있는 미성년자의 후견 직무에 관한 법률.csv\n",
      "Updated file saved to: 법령별 csv 저장 중복제거\\보호시설에 있는 미성년자의 후견 직무에 관한 법률.csv\n",
      "Processing : 법령별 csv 저장\\보훈기금법.csv\n",
      "Updated file saved to: 법령별 csv 저장 중복제거\\보훈기금법.csv\n",
      "Processing : 법령별 csv 저장\\보훈보상대상자 지원에 관한 법률.csv\n",
      "Updated file saved to: 법령별 csv 저장 중복제거\\보훈보상대상자 지원에 관한 법률.csv\n",
      "Processing : 법령별 csv 저장\\복권 및 복권기금법.csv\n",
      "Updated file saved to: 법령별 csv 저장 중복제거\\복권 및 복권기금법.csv\n",
      "Processing : 법령별 csv 저장\\본인서명사실 확인 등에 관한 법률.csv\n",
      "Updated file saved to: 법령별 csv 저장 중복제거\\본인서명사실 확인 등에 관한 법률.csv\n",
      "Processing : 법령별 csv 저장\\부가가치세법.csv\n",
      "Updated file saved to: 법령별 csv 저장 중복제거\\부가가치세법.csv\n",
      "Processing : 법령별 csv 저장\\부담금관리 기본법.csv\n",
      "Updated file saved to: 법령별 csv 저장 중복제거\\부담금관리 기본법.csv\n",
      "Processing : 법령별 csv 저장\\부도공공건설임대주택 임차인 보호를 위한 특별법.csv\n",
      "Updated file saved to: 법령별 csv 저장 중복제거\\부도공공건설임대주택 임차인 보호를 위한 특별법.csv\n",
      "Processing : 법령별 csv 저장\\부동산 가격공시에 관한 법률.csv\n",
      "Updated file saved to: 법령별 csv 저장 중복제거\\부동산 가격공시에 관한 법률.csv\n",
      "Processing : 법령별 csv 저장\\부동산개발업의 관리 및 육성에 관한 법률.csv\n",
      "Updated file saved to: 법령별 csv 저장 중복제거\\부동산개발업의 관리 및 육성에 관한 법률.csv\n",
      "Processing : 법령별 csv 저장\\부동산 거래신고 등에 관한 법률.csv\n",
      "Updated file saved to: 법령별 csv 저장 중복제거\\부동산 거래신고 등에 관한 법률.csv\n",
      "Processing : 법령별 csv 저장\\부동산등기법.csv\n",
      "Updated file saved to: 법령별 csv 저장 중복제거\\부동산등기법.csv\n",
      "Processing : 법령별 csv 저장\\부동산등기 특별조치법.csv\n",
      "Updated file saved to: 법령별 csv 저장 중복제거\\부동산등기 특별조치법.csv\n",
      "Processing : 법령별 csv 저장\\부동산서비스산업 진흥법.csv\n",
      "Updated file saved to: 법령별 csv 저장 중복제거\\부동산서비스산업 진흥법.csv\n",
      "Processing : 법령별 csv 저장\\부동산 실권리자명의 등기에 관한 법률.csv\n",
      "Updated file saved to: 법령별 csv 저장 중복제거\\부동산 실권리자명의 등기에 관한 법률.csv\n",
      "Processing : 법령별 csv 저장\\부동산투자회사법.csv\n",
      "Updated file saved to: 법령별 csv 저장 중복제거\\부동산투자회사법.csv\n",
      "Processing : 법령별 csv 저장\\부마민주항쟁 관련자의 명예회복 및 보상 등에 관한 법률.csv\n",
      "Updated file saved to: 법령별 csv 저장 중복제거\\부마민주항쟁 관련자의 명예회복 및 보상 등에 관한 법률.csv\n",
      "Processing : 법령별 csv 저장\\부재선고에 관한 특별조치법.csv\n",
      "Updated file saved to: 법령별 csv 저장 중복제거\\부재선고에 관한 특별조치법.csv\n",
      "Processing : 법령별 csv 저장\\부정경쟁방지 및 영업비밀보호에 관한 법률.csv\n",
      "Updated file saved to: 법령별 csv 저장 중복제거\\부정경쟁방지 및 영업비밀보호에 관한 법률.csv\n",
      "Processing : 법령별 csv 저장\\부정수표 단속법.csv\n",
      "Updated file saved to: 법령별 csv 저장 중복제거\\부정수표 단속법.csv\n",
      "Processing : 법령별 csv 저장\\부정청탁 및 금품등 수수의 금지에 관한 법률.csv\n",
      "Updated file saved to: 법령별 csv 저장 중복제거\\부정청탁 및 금품등 수수의 금지에 관한 법률.csv\n",
      "Processing : 법령별 csv 저장\\부패방지 및 국민권익위원회의 설치와 운영에 관한 법률.csv\n",
      "Updated file saved to: 법령별 csv 저장 중복제거\\부패방지 및 국민권익위원회의 설치와 운영에 관한 법률.csv\n",
      "Processing : 법령별 csv 저장\\부패재산의 몰수 및 회복에 관한 특례법.csv\n",
      "Updated file saved to: 법령별 csv 저장 중복제거\\부패재산의 몰수 및 회복에 관한 특례법.csv\n",
      "Processing : 법령별 csv 저장\\북한이탈주민의 보호 및 정착지원에 관한 법률.csv\n",
      "Updated file saved to: 법령별 csv 저장 중복제거\\북한이탈주민의 보호 및 정착지원에 관한 법률.csv\n",
      "Processing : 법령별 csv 저장\\북한인권법.csv\n",
      "Updated file saved to: 법령별 csv 저장 중복제거\\북한인권법.csv\n",
      "Processing : 법령별 csv 저장\\분산에너지 활성화 특별법.csv\n",
      "Updated file saved to: 법령별 csv 저장 중복제거\\분산에너지 활성화 특별법.csv\n",
      "Processing : 법령별 csv 저장\\불공정무역행위 조사 및 산업피해구제에 관한 법률.csv\n",
      "Updated file saved to: 법령별 csv 저장 중복제거\\불공정무역행위 조사 및 산업피해구제에 관한 법률.csv\n",
      "Processing : 법령별 csv 저장\\불법정치자금 등의 몰수에 관한 특례법.csv\n",
      "Updated file saved to: 법령별 csv 저장 중복제거\\불법정치자금 등의 몰수에 관한 특례법.csv\n",
      "Processing : 법령별 csv 저장\\비료관리법.csv\n",
      "Updated file saved to: 법령별 csv 저장 중복제거\\비료관리법.csv\n",
      "Processing : 법령별 csv 저장\\비상대비에 관한 법률.csv\n",
      "Updated file saved to: 법령별 csv 저장 중복제거\\비상대비에 관한 법률.csv\n",
      "Processing : 법령별 csv 저장\\비상사태등에 대비하기 위한 해운 및 항만 기능 유지에 관한 법률.csv\n",
      "Updated file saved to: 법령별 csv 저장 중복제거\\비상사태등에 대비하기 위한 해운 및 항만 기능 유지에 관한 법률.csv\n",
      "Processing : 법령별 csv 저장\\비송사건절차법.csv\n",
      "Updated file saved to: 법령별 csv 저장 중복제거\\비송사건절차법.csv\n",
      "Processing : 법령별 csv 저장\\비영리민간단체 지원법.csv\n",
      "Updated file saved to: 법령별 csv 저장 중복제거\\비영리민간단체 지원법.csv\n",
      "Processing : 법령별 csv 저장\\비영리법인의 임원 처벌에 관한 법률.csv\n",
      "Updated file saved to: 법령별 csv 저장 중복제거\\비영리법인의 임원 처벌에 관한 법률.csv\n",
      "Processing : 법령별 csv 저장\\비파괴검사기술의 진흥 및 관리에 관한 법률.csv\n",
      "Updated file saved to: 법령별 csv 저장 중복제거\\비파괴검사기술의 진흥 및 관리에 관한 법률.csv\n",
      "Processing : 법령별 csv 저장\\빈집 및 소규모주택 정비에 관한 특례법.csv\n",
      "Updated file saved to: 법령별 csv 저장 중복제거\\빈집 및 소규모주택 정비에 관한 특례법.csv\n",
      "Processing : 법령별 csv 저장\\뿌리산업 진흥과 첨단화에 관한 법률.csv\n",
      "Updated file saved to: 법령별 csv 저장 중복제거\\뿌리산업 진흥과 첨단화에 관한 법률.csv\n",
      "Processing : 법령별 csv 저장\\사격 및 사격장 안전관리에 관한 법률.csv\n",
      "Updated file saved to: 법령별 csv 저장 중복제거\\사격 및 사격장 안전관리에 관한 법률.csv\n",
      "Processing : 법령별 csv 저장\\사관학교 설치법.csv\n",
      "Updated file saved to: 법령별 csv 저장 중복제거\\사관학교 설치법.csv\n",
      "Processing : 법령별 csv 저장\\사도법.csv\n",
      "Updated file saved to: 법령별 csv 저장 중복제거\\사도법.csv\n",
      "Processing : 법령별 csv 저장\\사료관리법.csv\n",
      "Updated file saved to: 법령별 csv 저장 중복제거\\사료관리법.csv\n",
      "Processing : 법령별 csv 저장\\사료의 수집ㆍ편찬 및 한국사의 보급 등에 관한 법률.csv\n",
      "Updated file saved to: 법령별 csv 저장 중복제거\\사료의 수집ㆍ편찬 및 한국사의 보급 등에 관한 법률.csv\n",
      "Processing : 법령별 csv 저장\\사립학교교직원 연금법.csv\n",
      "Updated file saved to: 법령별 csv 저장 중복제거\\사립학교교직원 연금법.csv\n",
      "Processing : 법령별 csv 저장\\사립학교법.csv\n",
      "Updated file saved to: 법령별 csv 저장 중복제거\\사립학교법.csv\n",
      "Processing : 법령별 csv 저장\\사면법.csv\n",
      "Updated file saved to: 법령별 csv 저장 중복제거\\사면법.csv\n",
      "Processing : 법령별 csv 저장\\사방사업법.csv\n",
      "Updated file saved to: 법령별 csv 저장 중복제거\\사방사업법.csv\n",
      "Processing : 법령별 csv 저장\\사법경찰관리의 직무를 수행할 자와 그 직무범위에 관한 법률.csv\n",
      "Updated file saved to: 법령별 csv 저장 중복제거\\사법경찰관리의 직무를 수행할 자와 그 직무범위에 관한 법률.csv\n",
      "Processing : 법령별 csv 저장\\사할린동포 지원에 관한 특별법.csv\n",
      "Updated file saved to: 법령별 csv 저장 중복제거\\사할린동포 지원에 관한 특별법.csv\n",
      "Processing : 법령별 csv 저장\\사행산업통합감독위원회법.csv\n",
      "Updated file saved to: 법령별 csv 저장 중복제거\\사행산업통합감독위원회법.csv\n",
      "Processing : 법령별 csv 저장\\사행행위 등 규제 및 처벌 특례법.csv\n",
      "Updated file saved to: 법령별 csv 저장 중복제거\\사행행위 등 규제 및 처벌 특례법.csv\n",
      "Processing : 법령별 csv 저장\\사회기반시설에 대한 민간투자법.csv\n",
      "Updated file saved to: 법령별 csv 저장 중복제거\\사회기반시설에 대한 민간투자법.csv\n",
      "Processing : 법령별 csv 저장\\사회보장급여의 이용ㆍ제공 및 수급권자 발굴에 관한 법률.csv\n",
      "Updated file saved to: 법령별 csv 저장 중복제거\\사회보장급여의 이용ㆍ제공 및 수급권자 발굴에 관한 법률.csv\n",
      "Processing : 법령별 csv 저장\\사회보장기본법.csv\n",
      "Updated file saved to: 법령별 csv 저장 중복제거\\사회보장기본법.csv\n",
      "Processing : 법령별 csv 저장\\사회복지공동모금회법.csv\n",
      "Updated file saved to: 법령별 csv 저장 중복제거\\사회복지공동모금회법.csv\n",
      "Processing : 법령별 csv 저장\\사회복지사 등의 처우 및 지위 향상을 위한 법률.csv\n",
      "Updated file saved to: 법령별 csv 저장 중복제거\\사회복지사 등의 처우 및 지위 향상을 위한 법률.csv\n",
      "Processing : 법령별 csv 저장\\사회복지사업법.csv\n",
      "Updated file saved to: 법령별 csv 저장 중복제거\\사회복지사업법.csv\n",
      "Processing : 법령별 csv 저장\\사회서비스 이용 및 이용권 관리에 관한 법률.csv\n",
      "Updated file saved to: 법령별 csv 저장 중복제거\\사회서비스 이용 및 이용권 관리에 관한 법률.csv\n",
      "Processing : 법령별 csv 저장\\사회서비스 지원 및 사회서비스원 설립ㆍ운영에 관한 법률.csv\n",
      "Updated file saved to: 법령별 csv 저장 중복제거\\사회서비스 지원 및 사회서비스원 설립ㆍ운영에 관한 법률.csv\n",
      "Processing : 법령별 csv 저장\\사회적기업 육성법.csv\n",
      "Updated file saved to: 법령별 csv 저장 중복제거\\사회적기업 육성법.csv\n",
      "Processing : 법령별 csv 저장\\사회적 참사의 진상규명 및 안전사회 건설 등을 위한 특별법.csv\n",
      "Updated file saved to: 법령별 csv 저장 중복제거\\사회적 참사의 진상규명 및 안전사회 건설 등을 위한 특별법.csv\n",
      "Processing : 법령별 csv 저장\\산림교육의 활성화에 관한 법률.csv\n",
      "Updated file saved to: 법령별 csv 저장 중복제거\\산림교육의 활성화에 관한 법률.csv\n",
      "Processing : 법령별 csv 저장\\산림기본법.csv\n",
      "Updated file saved to: 법령별 csv 저장 중복제거\\산림기본법.csv\n",
      "Processing : 법령별 csv 저장\\산림기술 진흥 및 관리에 관한 법률.csv\n",
      "Updated file saved to: 법령별 csv 저장 중복제거\\산림기술 진흥 및 관리에 관한 법률.csv\n",
      "Processing : 법령별 csv 저장\\산림문화ㆍ휴양에 관한 법률.csv\n",
      "Updated file saved to: 법령별 csv 저장 중복제거\\산림문화ㆍ휴양에 관한 법률.csv\n",
      "Processing : 법령별 csv 저장\\산림보호법.csv\n",
      "Updated file saved to: 법령별 csv 저장 중복제거\\산림보호법.csv\n",
      "Processing : 법령별 csv 저장\\산림복지 진흥에 관한 법률.csv\n",
      "Updated file saved to: 법령별 csv 저장 중복제거\\산림복지 진흥에 관한 법률.csv\n",
      "Processing : 법령별 csv 저장\\산림자원의 조성 및 관리에 관한 법률.csv\n",
      "Updated file saved to: 법령별 csv 저장 중복제거\\산림자원의 조성 및 관리에 관한 법률.csv\n",
      "Processing : 법령별 csv 저장\\산림조합법.csv\n",
      "Updated file saved to: 법령별 csv 저장 중복제거\\산림조합법.csv\n",
      "Processing : 법령별 csv 저장\\산림조합의 구조개선에 관한 법률.csv\n",
      "Updated file saved to: 법령별 csv 저장 중복제거\\산림조합의 구조개선에 관한 법률.csv\n",
      "Processing : 법령별 csv 저장\\산업교육진흥 및 산학연협력촉진에 관한 법률.csv\n",
      "Updated file saved to: 법령별 csv 저장 중복제거\\산업교육진흥 및 산학연협력촉진에 관한 법률.csv\n",
      "Processing : 법령별 csv 저장\\산업기술단지 지원에 관한 특례법.csv\n",
      "Updated file saved to: 법령별 csv 저장 중복제거\\산업기술단지 지원에 관한 특례법.csv\n",
      "Processing : 법령별 csv 저장\\산업기술연구조합 육성법.csv\n",
      "Updated file saved to: 법령별 csv 저장 중복제거\\산업기술연구조합 육성법.csv\n",
      "Processing : 법령별 csv 저장\\산업기술의 유출방지 및 보호에 관한 법률.csv\n",
      "Updated file saved to: 법령별 csv 저장 중복제거\\산업기술의 유출방지 및 보호에 관한 법률.csv\n",
      "Processing : 법령별 csv 저장\\산업기술혁신 촉진법.csv\n",
      "Updated file saved to: 법령별 csv 저장 중복제거\\산업기술혁신 촉진법.csv\n",
      "Processing : 법령별 csv 저장\\산업단지 인ㆍ허가 절차 간소화를 위한 특례법.csv\n",
      "Updated file saved to: 법령별 csv 저장 중복제거\\산업단지 인ㆍ허가 절차 간소화를 위한 특례법.csv\n",
      "Processing : 법령별 csv 저장\\산업디자인진흥법.csv\n",
      "Updated file saved to: 법령별 csv 저장 중복제거\\산업디자인진흥법.csv\n",
      "Processing : 법령별 csv 저장\\산업 디지털 전환 촉진법.csv\n",
      "Updated file saved to: 법령별 csv 저장 중복제거\\산업 디지털 전환 촉진법.csv\n",
      "Processing : 법령별 csv 저장\\산업발전법.csv\n",
      "Updated file saved to: 법령별 csv 저장 중복제거\\산업발전법.csv\n",
      "Processing : 법령별 csv 저장\\산업안전보건법.csv\n",
      "Updated file saved to: 법령별 csv 저장 중복제거\\산업안전보건법.csv\n",
      "Processing : 법령별 csv 저장\\산업융합 촉진법.csv\n",
      "Updated file saved to: 법령별 csv 저장 중복제거\\산업융합 촉진법.csv\n",
      "Processing : 법령별 csv 저장\\산업입지 및 개발에 관한 법률.csv\n",
      "Updated file saved to: 법령별 csv 저장 중복제거\\산업입지 및 개발에 관한 법률.csv\n",
      "Processing : 법령별 csv 저장\\산업재산 정보의 관리 및 활용 촉진에 관한 법률.csv\n",
      "Updated file saved to: 법령별 csv 저장 중복제거\\산업재산 정보의 관리 및 활용 촉진에 관한 법률.csv\n",
      "Processing : 법령별 csv 저장\\산업재해보상보험법.csv\n",
      "Updated file saved to: 법령별 csv 저장 중복제거\\산업재해보상보험법.csv\n",
      "Processing : 법령별 csv 저장\\산업전환에 따른 고용안정 지원 등에 관한 법률.csv\n",
      "Updated file saved to: 법령별 csv 저장 중복제거\\산업전환에 따른 고용안정 지원 등에 관한 법률.csv\n",
      "Processing : 법령별 csv 저장\\산업집적활성화 및 공장설립에 관한 법률.csv\n",
      "Updated file saved to: 법령별 csv 저장 중복제거\\산업집적활성화 및 공장설립에 관한 법률.csv\n",
      "Processing : 법령별 csv 저장\\산업표준화법.csv\n",
      "Updated file saved to: 법령별 csv 저장 중복제거\\산업표준화법.csv\n",
      "Processing : 법령별 csv 저장\\산업현장 일학습병행 지원에 관한 법률.csv\n",
      "Updated file saved to: 법령별 csv 저장 중복제거\\산업현장 일학습병행 지원에 관한 법률.csv\n",
      "Processing : 법령별 csv 저장\\산지관리법.csv\n",
      "Updated file saved to: 법령별 csv 저장 중복제거\\산지관리법.csv\n",
      "Processing : 법령별 csv 저장\\삼차원프린팅산업 진흥법.csv\n",
      "Updated file saved to: 법령별 csv 저장 중복제거\\삼차원프린팅산업 진흥법.csv\n",
      "Processing : 법령별 csv 저장\\삼청교육피해자의 명예회복 및 보상에 관한 법률.csv\n",
      "Updated file saved to: 법령별 csv 저장 중복제거\\삼청교육피해자의 명예회복 및 보상에 관한 법률.csv\n",
      "Processing : 법령별 csv 저장\\상가건물 임대차보호법.csv\n",
      "Updated file saved to: 법령별 csv 저장 중복제거\\상가건물 임대차보호법.csv\n",
      "Processing : 법령별 csv 저장\\상고심절차에 관한 특례법.csv\n",
      "Updated file saved to: 법령별 csv 저장 중복제거\\상고심절차에 관한 특례법.csv\n",
      "Processing : 법령별 csv 저장\\상공회의소법.csv\n",
      "Updated file saved to: 법령별 csv 저장 중복제거\\상공회의소법.csv\n",
      "Processing : 법령별 csv 저장\\상법.csv\n",
      "Updated file saved to: 법령별 csv 저장 중복제거\\상법.csv\n",
      "Processing : 법령별 csv 저장\\상법시행법.csv\n",
      "Updated file saved to: 법령별 csv 저장 중복제거\\상법시행법.csv\n",
      "Processing : 법령별 csv 저장\\상속세 및 증여세법.csv\n",
      "Updated file saved to: 법령별 csv 저장 중복제거\\상속세 및 증여세법.csv\n",
      "Processing : 법령별 csv 저장\\상업등기법.csv\n",
      "Updated file saved to: 법령별 csv 저장 중복제거\\상업등기법.csv\n",
      "Processing : 법령별 csv 저장\\상표법.csv\n",
      "Updated file saved to: 법령별 csv 저장 중복제거\\상표법.csv\n",
      "Processing : 법령별 csv 저장\\상호저축은행법.csv\n",
      "Updated file saved to: 법령별 csv 저장 중복제거\\상호저축은행법.csv\n",
      "Processing : 법령별 csv 저장\\상훈법.csv\n",
      "Updated file saved to: 법령별 csv 저장 중복제거\\상훈법.csv\n",
      "Processing : 법령별 csv 저장\\새마을금고법.csv\n",
      "Updated file saved to: 법령별 csv 저장 중복제거\\새마을금고법.csv\n",
      "Processing : 법령별 csv 저장\\새마을운동조직 육성법.csv\n",
      "Updated file saved to: 법령별 csv 저장 중복제거\\새마을운동조직 육성법.csv\n",
      "Processing : 법령별 csv 저장\\새만금사업 추진 및 지원에 관한 특별법.csv\n",
      "Updated file saved to: 법령별 csv 저장 중복제거\\새만금사업 추진 및 지원에 관한 특별법.csv\n",
      "Processing : 법령별 csv 저장\\생명공학육성법.csv\n",
      "Updated file saved to: 법령별 csv 저장 중복제거\\생명공학육성법.csv\n",
      "Processing : 법령별 csv 저장\\생명연구자원의 확보ㆍ관리 및 활용에 관한 법률.csv\n",
      "Updated file saved to: 법령별 csv 저장 중복제거\\생명연구자원의 확보ㆍ관리 및 활용에 관한 법률.csv\n",
      "Processing : 법령별 csv 저장\\생명윤리 및 안전에 관한 법률.csv\n",
      "Updated file saved to: 법령별 csv 저장 중복제거\\생명윤리 및 안전에 관한 법률.csv\n",
      "Processing : 법령별 csv 저장\\생물다양성 보전 및 이용에 관한 법률.csv\n",
      "Updated file saved to: 법령별 csv 저장 중복제거\\생물다양성 보전 및 이용에 관한 법률.csv\n",
      "Processing : 법령별 csv 저장\\생물자원관의 설립 및 운영에 관한 법률.csv\n",
      "Updated file saved to: 법령별 csv 저장 중복제거\\생물자원관의 설립 및 운영에 관한 법률.csv\n",
      "Processing : 법령별 csv 저장\\생활물류서비스산업발전법.csv\n",
      "Updated file saved to: 법령별 csv 저장 중복제거\\생활물류서비스산업발전법.csv\n",
      "Processing : 법령별 csv 저장\\생활주변방사선 안전관리법.csv\n",
      "Updated file saved to: 법령별 csv 저장 중복제거\\생활주변방사선 안전관리법.csv\n",
      "Processing : 법령별 csv 저장\\생활체육진흥법.csv\n",
      "Updated file saved to: 법령별 csv 저장 중복제거\\생활체육진흥법.csv\n",
      "Processing : 법령별 csv 저장\\생활화학제품 및 살생물제의 안전관리에 관한 법률.csv\n",
      "Updated file saved to: 법령별 csv 저장 중복제거\\생활화학제품 및 살생물제의 안전관리에 관한 법률.csv\n",
      "Processing : 법령별 csv 저장\\서민의 금융생활 지원에 관한 법률.csv\n",
      "Updated file saved to: 법령별 csv 저장 중복제거\\서민의 금융생활 지원에 관한 법률.csv\n",
      "Processing : 법령별 csv 저장\\서예진흥에 관한 법률.csv\n",
      "Updated file saved to: 법령별 csv 저장 중복제거\\서예진흥에 관한 법률.csv\n",
      "Processing : 법령별 csv 저장\\서울대학교병원 설치법.csv\n",
      "Updated file saved to: 법령별 csv 저장 중복제거\\서울대학교병원 설치법.csv\n",
      "Processing : 법령별 csv 저장\\서울대학교치과병원 설치법.csv\n",
      "Updated file saved to: 법령별 csv 저장 중복제거\\서울대학교치과병원 설치법.csv\n",
      "Processing : 법령별 csv 저장\\서울특별시 행정특례에 관한 법률.csv\n",
      "Updated file saved to: 법령별 csv 저장 중복제거\\서울특별시 행정특례에 관한 법률.csv\n",
      "Processing : 법령별 csv 저장\\서해 5도 지원 특별법.csv\n",
      "Updated file saved to: 법령별 csv 저장 중복제거\\서해 5도 지원 특별법.csv\n",
      "Processing : 법령별 csv 저장\\석면안전관리법.csv\n",
      "Updated file saved to: 법령별 csv 저장 중복제거\\석면안전관리법.csv\n",
      "Processing : 법령별 csv 저장\\석면피해구제법.csv\n",
      "Updated file saved to: 법령별 csv 저장 중복제거\\석면피해구제법.csv\n",
      "Processing : 법령별 csv 저장\\석유 및 석유대체연료 사업법.csv\n",
      "Updated file saved to: 법령별 csv 저장 중복제거\\석유 및 석유대체연료 사업법.csv\n",
      "Processing : 법령별 csv 저장\\석재산업 진흥에 관한 법률.csv\n",
      "Updated file saved to: 법령별 csv 저장 중복제거\\석재산업 진흥에 관한 법률.csv\n",
      "Processing : 법령별 csv 저장\\석탄산업법.csv\n",
      "Updated file saved to: 법령별 csv 저장 중복제거\\석탄산업법.csv\n",
      "Processing : 법령별 csv 저장\\선거관리위원회법.csv\n",
      "Updated file saved to: 법령별 csv 저장 중복제거\\선거관리위원회법.csv\n",
      "Processing : 법령별 csv 저장\\선박관리산업발전법.csv\n",
      "Updated file saved to: 법령별 csv 저장 중복제거\\선박관리산업발전법.csv\n",
      "Processing : 법령별 csv 저장\\선박교통관제에 관한 법률.csv\n",
      "Updated file saved to: 법령별 csv 저장 중복제거\\선박교통관제에 관한 법률.csv\n",
      "Processing : 법령별 csv 저장\\선박등기법.csv\n",
      "Updated file saved to: 법령별 csv 저장 중복제거\\선박등기법.csv\n",
      "Processing : 법령별 csv 저장\\선박 및 해상구조물에 대한 위해행위의 처벌 등에 관한 법률.csv\n",
      "Updated file saved to: 법령별 csv 저장 중복제거\\선박 및 해상구조물에 대한 위해행위의 처벌 등에 관한 법률.csv\n",
      "Processing : 법령별 csv 저장\\선박법.csv\n",
      "Updated file saved to: 법령별 csv 저장 중복제거\\선박법.csv\n",
      "Processing : 법령별 csv 저장\\선박소유자 등의 책임제한절차에 관한 법률.csv\n",
      "Updated file saved to: 법령별 csv 저장 중복제거\\선박소유자 등의 책임제한절차에 관한 법률.csv\n",
      "Processing : 법령별 csv 저장\\선박안전법.csv\n",
      "Updated file saved to: 법령별 csv 저장 중복제거\\선박안전법.csv\n",
      "Processing : 법령별 csv 저장\\선박의 입항 및 출항 등에 관한 법률.csv\n",
      "Updated file saved to: 법령별 csv 저장 중복제거\\선박의 입항 및 출항 등에 관한 법률.csv\n",
      "Processing : 법령별 csv 저장\\선박직원법.csv\n",
      "Updated file saved to: 법령별 csv 저장 중복제거\\선박직원법.csv\n",
      "Processing : 법령별 csv 저장\\선박투자회사법.csv\n",
      "Updated file saved to: 법령별 csv 저장 중복제거\\선박투자회사법.csv\n",
      "Processing : 법령별 csv 저장\\선박평형수(船舶平衡水) 관리법.csv\n",
      "Updated file saved to: 법령별 csv 저장 중복제거\\선박평형수(船舶平衡水) 관리법.csv\n",
      "Processing : 법령별 csv 저장\\선원법.csv\n",
      "Updated file saved to: 법령별 csv 저장 중복제거\\선원법.csv\n",
      "Processing : 법령별 csv 저장\\선주상호보험조합법.csv\n",
      "Updated file saved to: 법령별 csv 저장 중복제거\\선주상호보험조합법.csv\n",
      "Processing : 법령별 csv 저장\\섬 발전 촉진법.csv\n",
      "Updated file saved to: 법령별 csv 저장 중복제거\\섬 발전 촉진법.csv\n",
      "Processing : 법령별 csv 저장\\성균관ㆍ향교ㆍ서원전통문화의 계승ㆍ발전 및 지원에 관한 법률.csv\n",
      "Updated file saved to: 법령별 csv 저장 중복제거\\성균관ㆍ향교ㆍ서원전통문화의 계승ㆍ발전 및 지원에 관한 법률.csv\n",
      "Processing : 법령별 csv 저장\\성매매방지 및 피해자보호 등에 관한 법률.csv\n",
      "Updated file saved to: 법령별 csv 저장 중복제거\\성매매방지 및 피해자보호 등에 관한 법률.csv\n",
      "Processing : 법령별 csv 저장\\성매매알선 등 행위의 처벌에 관한 법률.csv\n",
      "Updated file saved to: 법령별 csv 저장 중복제거\\성매매알선 등 행위의 처벌에 관한 법률.csv\n",
      "Processing : 법령별 csv 저장\\성별영향평가법.csv\n",
      "Updated file saved to: 법령별 csv 저장 중복제거\\성별영향평가법.csv\n",
      "Processing : 법령별 csv 저장\\성폭력방지 및 피해자보호 등에 관한 법률.csv\n",
      "Updated file saved to: 법령별 csv 저장 중복제거\\성폭력방지 및 피해자보호 등에 관한 법률.csv\n",
      "Processing : 법령별 csv 저장\\성폭력범죄의 처벌 등에 관한 특례법.csv\n",
      "Updated file saved to: 법령별 csv 저장 중복제거\\성폭력범죄의 처벌 등에 관한 특례법.csv\n",
      "Processing : 법령별 csv 저장\\성폭력범죄자의 성충동 약물치료에 관한 법률.csv\n",
      "Updated file saved to: 법령별 csv 저장 중복제거\\성폭력범죄자의 성충동 약물치료에 관한 법률.csv\n",
      "Processing : 법령별 csv 저장\\세계무역기구협정의 이행에 관한 특별법.csv\n",
      "Updated file saved to: 법령별 csv 저장 중복제거\\세계무역기구협정의 이행에 관한 특별법.csv\n",
      "Processing : 법령별 csv 저장\\세계선거기관협의회 지원에 관한 법률.csv\n",
      "Updated file saved to: 법령별 csv 저장 중복제거\\세계선거기관협의회 지원에 관한 법률.csv\n",
      "Processing : 법령별 csv 저장\\세계유산의 보존ㆍ관리 및 활용에 관한 특별법.csv\n",
      "Updated file saved to: 법령별 csv 저장 중복제거\\세계유산의 보존ㆍ관리 및 활용에 관한 특별법.csv\n",
      "Processing : 법령별 csv 저장\\세무사법.csv\n",
      "Updated file saved to: 법령별 csv 저장 중복제거\\세무사법.csv\n",
      "Processing : 법령별 csv 저장\\세월호 선체조사위원회의 설치 및 운영에 관한 특별법.csv\n",
      "Updated file saved to: 법령별 csv 저장 중복제거\\세월호 선체조사위원회의 설치 및 운영에 관한 특별법.csv\n",
      "Processing : 법령별 csv 저장\\세종특별자치시 설치 등에 관한 특별법.csv\n",
      "Updated file saved to: 법령별 csv 저장 중복제거\\세종특별자치시 설치 등에 관한 특별법.csv\n",
      "Processing : 법령별 csv 저장\\소규모 공공시설 안전관리 등에 관한 법률.csv\n",
      "Updated file saved to: 법령별 csv 저장 중복제거\\소규모 공공시설 안전관리 등에 관한 법률.csv\n",
      "Processing : 법령별 csv 저장\\소금산업 진흥법.csv\n",
      "Updated file saved to: 법령별 csv 저장 중복제거\\소금산업 진흥법.csv\n",
      "Processing : 법령별 csv 저장\\소나무재선충병 방제특별법.csv\n",
      "Updated file saved to: 법령별 csv 저장 중복제거\\소나무재선충병 방제특별법.csv\n",
      "Processing : 법령별 csv 저장\\소년법.csv\n",
      "Updated file saved to: 법령별 csv 저장 중복제거\\소년법.csv\n",
      "Processing : 법령별 csv 저장\\소득세법.csv\n",
      "Updated file saved to: 법령별 csv 저장 중복제거\\소득세법.csv\n",
      "Processing : 법령별 csv 저장\\소방공무원법.csv\n",
      "Updated file saved to: 법령별 csv 저장 중복제거\\소방공무원법.csv\n",
      "Processing : 법령별 csv 저장\\소방공무원 보건안전 및 복지 기본법.csv\n",
      "Updated file saved to: 법령별 csv 저장 중복제거\\소방공무원 보건안전 및 복지 기본법.csv\n",
      "Processing : 법령별 csv 저장\\소방기본법.csv\n",
      "Updated file saved to: 법령별 csv 저장 중복제거\\소방기본법.csv\n",
      "Processing : 법령별 csv 저장\\소방산업의 진흥에 관한 법률.csv\n",
      "Updated file saved to: 법령별 csv 저장 중복제거\\소방산업의 진흥에 관한 법률.csv\n",
      "Processing : 법령별 csv 저장\\소방시설공사업법.csv\n",
      "Updated file saved to: 법령별 csv 저장 중복제거\\소방시설공사업법.csv\n",
      "Processing : 법령별 csv 저장\\소방시설 설치 및 관리에 관한 법률.csv\n",
      "Updated file saved to: 법령별 csv 저장 중복제거\\소방시설 설치 및 관리에 관한 법률.csv\n",
      "Processing : 법령별 csv 저장\\소방의 화재조사에 관한 법률.csv\n",
      "Updated file saved to: 법령별 csv 저장 중복제거\\소방의 화재조사에 관한 법률.csv\n",
      "Processing : 법령별 csv 저장\\소방장비관리법.csv\n",
      "Updated file saved to: 법령별 csv 저장 중복제거\\소방장비관리법.csv\n",
      "Processing : 법령별 csv 저장\\소방재정지원 및 시ㆍ도 소방특별회계 설치법.csv\n",
      "Updated file saved to: 법령별 csv 저장 중복제거\\소방재정지원 및 시ㆍ도 소방특별회계 설치법.csv\n",
      "Processing : 법령별 csv 저장\\소비자기본법.csv\n",
      "Updated file saved to: 법령별 csv 저장 중복제거\\소비자기본법.csv\n",
      "Processing : 법령별 csv 저장\\소비자생활협동조합법.csv\n",
      "Updated file saved to: 법령별 csv 저장 중복제거\\소비자생활협동조합법.csv\n",
      "Processing : 법령별 csv 저장\\소상공인기본법.csv\n",
      "Updated file saved to: 법령별 csv 저장 중복제거\\소상공인기본법.csv\n",
      "Processing : 법령별 csv 저장\\소상공인 보호 및 지원에 관한 법률.csv\n",
      "Updated file saved to: 법령별 csv 저장 중복제거\\소상공인 보호 및 지원에 관한 법률.csv\n",
      "Processing : 법령별 csv 저장\\소상공인 생계형 적합업종 지정에 관한 특별법.csv\n",
      "Updated file saved to: 법령별 csv 저장 중복제거\\소상공인 생계형 적합업종 지정에 관한 특별법.csv\n",
      "Processing : 법령별 csv 저장\\소송촉진 등에 관한 특례법.csv\n",
      "Updated file saved to: 법령별 csv 저장 중복제거\\소송촉진 등에 관한 특례법.csv\n",
      "Processing : 법령별 csv 저장\\소액사건심판법.csv\n",
      "Updated file saved to: 법령별 csv 저장 중복제거\\소액사건심판법.csv\n",
      "Processing : 법령별 csv 저장\\소음ㆍ진동관리법.csv\n",
      "Updated file saved to: 법령별 csv 저장 중복제거\\소음ㆍ진동관리법.csv\n",
      "Processing : 법령별 csv 저장\\소재ㆍ부품ㆍ장비산업 경쟁력 강화 및 공급망 안정화를 위한 특별조치법.csv\n",
      "Updated file saved to: 법령별 csv 저장 중복제거\\소재ㆍ부품ㆍ장비산업 경쟁력 강화 및 공급망 안정화를 위한 특별조치법.csv\n",
      "Processing : 법령별 csv 저장\\소프트웨어 진흥법.csv\n",
      "Updated file saved to: 법령별 csv 저장 중복제거\\소프트웨어 진흥법.csv\n",
      "Processing : 법령별 csv 저장\\소하천정비법.csv\n",
      "Updated file saved to: 법령별 csv 저장 중복제거\\소하천정비법.csv\n",
      "Processing : 법령별 csv 저장\\손상 예방 및 관리에 관한 법률.csv\n",
      "Updated file saved to: 법령별 csv 저장 중복제거\\손상 예방 및 관리에 관한 법률.csv\n",
      "Processing : 법령별 csv 저장\\송ㆍ변전설비 주변지역의 보상 및 지원에 관한 법률.csv\n",
      "Updated file saved to: 법령별 csv 저장 중복제거\\송ㆍ변전설비 주변지역의 보상 및 지원에 관한 법률.csv\n",
      "Processing : 법령별 csv 저장\\송유관 안전관리법.csv\n",
      "Updated file saved to: 법령별 csv 저장 중복제거\\송유관 안전관리법.csv\n",
      "Processing : 법령별 csv 저장\\수도권매립지관리공사의 설립 및 운영 등에 관한 법률.csv\n",
      "Updated file saved to: 법령별 csv 저장 중복제거\\수도권매립지관리공사의 설립 및 운영 등에 관한 법률.csv\n",
      "Processing : 법령별 csv 저장\\수도권정비계획법.csv\n",
      "Updated file saved to: 법령별 csv 저장 중복제거\\수도권정비계획법.csv\n",
      "Processing : 법령별 csv 저장\\수도법.csv\n",
      "Updated file saved to: 법령별 csv 저장 중복제거\\수도법.csv\n",
      "Processing : 법령별 csv 저장\\수목원ㆍ정원의 조성 및 진흥에 관한 법률.csv\n",
      "Updated file saved to: 법령별 csv 저장 중복제거\\수목원ㆍ정원의 조성 및 진흥에 관한 법률.csv\n",
      "Processing : 법령별 csv 저장\\수복지역내소유자미복구토지의복구등록과보존등기등에관한특별조치법.csv\n",
      "Updated file saved to: 법령별 csv 저장 중복제거\\수복지역내소유자미복구토지의복구등록과보존등기등에관한특별조치법.csv\n",
      "Processing : 법령별 csv 저장\\수산과학기술진흥을 위한 시험연구 등에 관한 법률.csv\n",
      "Updated file saved to: 법령별 csv 저장 중복제거\\수산과학기술진흥을 위한 시험연구 등에 관한 법률.csv\n",
      "Processing : 법령별 csv 저장\\수산물 유통의 관리 및 지원에 관한 법률.csv\n",
      "Updated file saved to: 법령별 csv 저장 중복제거\\수산물 유통의 관리 및 지원에 관한 법률.csv\n",
      "Processing : 법령별 csv 저장\\수산부산물 재활용 촉진에 관한 법률.csv\n",
      "Updated file saved to: 법령별 csv 저장 중복제거\\수산부산물 재활용 촉진에 관한 법률.csv\n",
      "Processing : 법령별 csv 저장\\수산생물질병 관리법.csv\n",
      "Updated file saved to: 법령별 csv 저장 중복제거\\수산생물질병 관리법.csv\n",
      "Processing : 법령별 csv 저장\\수산식품산업의 육성 및 지원에 관한 법률.csv\n",
      "Updated file saved to: 법령별 csv 저장 중복제거\\수산식품산업의 육성 및 지원에 관한 법률.csv\n",
      "Processing : 법령별 csv 저장\\수산업법.csv\n",
      "Updated file saved to: 법령별 csv 저장 중복제거\\수산업법.csv\n",
      "Processing : 법령별 csv 저장\\수산업ㆍ어촌 공익기능 증진을 위한 직접지불제도 운영에 관한 법률.csv\n",
      "Updated file saved to: 법령별 csv 저장 중복제거\\수산업ㆍ어촌 공익기능 증진을 위한 직접지불제도 운영에 관한 법률.csv\n",
      "Processing : 법령별 csv 저장\\수산업ㆍ어촌 발전 기본법.csv\n",
      "Updated file saved to: 법령별 csv 저장 중복제거\\수산업ㆍ어촌 발전 기본법.csv\n",
      "Processing : 법령별 csv 저장\\수산업협동조합법.csv\n",
      "Updated file saved to: 법령별 csv 저장 중복제거\\수산업협동조합법.csv\n",
      "Processing : 법령별 csv 저장\\수산업협동조합의 부실예방 및 구조개선에 관한 법률.csv\n",
      "Updated file saved to: 법령별 csv 저장 중복제거\\수산업협동조합의 부실예방 및 구조개선에 관한 법률.csv\n",
      "Processing : 법령별 csv 저장\\수산자원관리법.csv\n",
      "Updated file saved to: 법령별 csv 저장 중복제거\\수산자원관리법.csv\n",
      "Processing : 법령별 csv 저장\\수산종자산업육성법.csv\n",
      "Updated file saved to: 법령별 csv 저장 중복제거\\수산종자산업육성법.csv\n",
      "Processing : 법령별 csv 저장\\수상레저기구의 등록 및 검사에 관한 법률.csv\n",
      "Updated file saved to: 법령별 csv 저장 중복제거\\수상레저기구의 등록 및 검사에 관한 법률.csv\n",
      "Processing : 법령별 csv 저장\\수상레저안전법.csv\n",
      "Updated file saved to: 법령별 csv 저장 중복제거\\수상레저안전법.csv\n",
      "Processing : 법령별 csv 저장\\수상에서의 수색ㆍ구조 등에 관한 법률.csv\n",
      "Updated file saved to: 법령별 csv 저장 중복제거\\수상에서의 수색ㆍ구조 등에 관한 법률.csv\n",
      "Processing : 법령별 csv 저장\\수소경제 육성 및 수소 안전관리에 관한 법률.csv\n",
      "Updated file saved to: 법령별 csv 저장 중복제거\\수소경제 육성 및 수소 안전관리에 관한 법률.csv\n",
      "Processing : 법령별 csv 저장\\수의사법.csv\n",
      "Updated file saved to: 법령별 csv 저장 중복제거\\수의사법.csv\n",
      "Processing : 법령별 csv 저장\\수입식품안전관리 특별법.csv\n",
      "Updated file saved to: 법령별 csv 저장 중복제거\\수입식품안전관리 특별법.csv\n",
      "Processing : 법령별 csv 저장\\수입인지에 관한 법률.csv\n",
      "Updated file saved to: 법령별 csv 저장 중복제거\\수입인지에 관한 법률.csv\n",
      "Processing : 법령별 csv 저장\\수자원의 조사ㆍ계획 및 관리에 관한 법률.csv\n",
      "Updated file saved to: 법령별 csv 저장 중복제거\\수자원의 조사ㆍ계획 및 관리에 관한 법률.csv\n",
      "Processing : 법령별 csv 저장\\수중레저활동의 안전 및 활성화 등에 관한 법률.csv\n",
      "Updated file saved to: 법령별 csv 저장 중복제거\\수중레저활동의 안전 및 활성화 등에 관한 법률.csv\n",
      "Processing : 법령별 csv 저장\\수출용 원재료에 대한 관세 등 환급에 관한 특례법.csv\n",
      "Updated file saved to: 법령별 csv 저장 중복제거\\수출용 원재료에 대한 관세 등 환급에 관한 특례법.csv\n",
      "Processing : 법령별 csv 저장\\수표법.csv\n",
      "Updated file saved to: 법령별 csv 저장 중복제거\\수표법.csv\n",
      "Processing : 법령별 csv 저장\\숙련기술장려법.csv\n",
      "Updated file saved to: 법령별 csv 저장 중복제거\\숙련기술장려법.csv\n",
      "Processing : 법령별 csv 저장\\순직 해병 수사 방해 및 사건 은폐 등의 진상규명을 위한 특별검사의 임명 등에 관한 법률.csv\n",
      "Updated file saved to: 법령별 csv 저장 중복제거\\순직 해병 수사 방해 및 사건 은폐 등의 진상규명을 위한 특별검사의 임명 등에 관한 법률.csv\n",
      "Processing : 법령별 csv 저장\\순환경제사회 전환 촉진법.csv\n",
      "Updated file saved to: 법령별 csv 저장 중복제거\\순환경제사회 전환 촉진법.csv\n",
      "Processing : 법령별 csv 저장\\스마트농업 육성 및 지원에 관한 법률.csv\n",
      "Updated file saved to: 법령별 csv 저장 중복제거\\스마트농업 육성 및 지원에 관한 법률.csv\n",
      "Processing : 법령별 csv 저장\\스마트도시 조성 및 산업진흥 등에 관한 법률.csv\n",
      "Updated file saved to: 법령별 csv 저장 중복제거\\스마트도시 조성 및 산업진흥 등에 관한 법률.csv\n",
      "Processing : 법령별 csv 저장\\스카우트활동 육성에 관한 법률.csv\n",
      "Updated file saved to: 법령별 csv 저장 중복제거\\스카우트활동 육성에 관한 법률.csv\n",
      "Processing : 법령별 csv 저장\\스토킹방지 및 피해자보호 등에 관한 법률.csv\n",
      "Updated file saved to: 법령별 csv 저장 중복제거\\스토킹방지 및 피해자보호 등에 관한 법률.csv\n",
      "Processing : 법령별 csv 저장\\스토킹범죄의 처벌 등에 관한 법률.csv\n",
      "Updated file saved to: 법령별 csv 저장 중복제거\\스토킹범죄의 처벌 등에 관한 법률.csv\n",
      "Processing : 법령별 csv 저장\\스포츠기본법.csv\n",
      "Updated file saved to: 법령별 csv 저장 중복제거\\스포츠기본법.csv\n",
      "Processing : 법령별 csv 저장\\스포츠산업 진흥법.csv\n",
      "Updated file saved to: 법령별 csv 저장 중복제거\\스포츠산업 진흥법.csv\n",
      "Processing : 법령별 csv 저장\\스포츠클럽법.csv\n",
      "Updated file saved to: 법령별 csv 저장 중복제거\\스포츠클럽법.csv\n",
      "Processing : 법령별 csv 저장\\습지보전법.csv\n",
      "Updated file saved to: 법령별 csv 저장 중복제거\\습지보전법.csv\n",
      "Processing : 법령별 csv 저장\\승강기산업 진흥법.csv\n",
      "Updated file saved to: 법령별 csv 저장 중복제거\\승강기산업 진흥법.csv\n",
      "Processing : 법령별 csv 저장\\승강기 안전관리법.csv\n",
      "Updated file saved to: 법령별 csv 저장 중복제거\\승강기 안전관리법.csv\n",
      "Processing : 법령별 csv 저장\\시국사건관련 임용제외 교원의 피해회복을 위한 조치에 관한 특별법.csv\n",
      "Updated file saved to: 법령별 csv 저장 중복제거\\시국사건관련 임용제외 교원의 피해회복을 위한 조치에 관한 특별법.csv\n",
      "Processing : 법령별 csv 저장\\시설물의 안전 및 유지관리에 관한 특별법.csv\n",
      "Updated file saved to: 법령별 csv 저장 중복제거\\시설물의 안전 및 유지관리에 관한 특별법.csv\n",
      "Processing : 법령별 csv 저장\\시체 해부 및 보존 등에 관한 법률.csv\n",
      "Updated file saved to: 법령별 csv 저장 중복제거\\시체 해부 및 보존 등에 관한 법률.csv\n",
      "Processing : 법령별 csv 저장\\식물방역법.csv\n",
      "Updated file saved to: 법령별 csv 저장 중복제거\\식물방역법.csv\n",
      "Processing : 법령별 csv 저장\\식물신품종 보호법.csv\n",
      "Updated file saved to: 법령별 csv 저장 중복제거\\식물신품종 보호법.csv\n",
      "Processing : 법령별 csv 저장\\식생활교육지원법.csv\n",
      "Updated file saved to: 법령별 csv 저장 중복제거\\식생활교육지원법.csv\n",
      "Processing : 법령별 csv 저장\\식품등 기부 활성화에 관한 법률.csv\n",
      "Updated file saved to: 법령별 csv 저장 중복제거\\식품등 기부 활성화에 관한 법률.csv\n",
      "Processing : 법령별 csv 저장\\식품 등의 표시ㆍ광고에 관한 법률.csv\n",
      "Updated file saved to: 법령별 csv 저장 중복제거\\식품 등의 표시ㆍ광고에 관한 법률.csv\n",
      "Processing : 법령별 csv 저장\\식품산업진흥법.csv\n",
      "Updated file saved to: 법령별 csv 저장 중복제거\\식품산업진흥법.csv\n",
      "Processing : 법령별 csv 저장\\식품안전기본법.csv\n",
      "Updated file saved to: 법령별 csv 저장 중복제거\\식품안전기본법.csv\n",
      "Processing : 법령별 csv 저장\\식품위생법.csv\n",
      "Updated file saved to: 법령별 csv 저장 중복제거\\식품위생법.csv\n",
      "Processing : 법령별 csv 저장\\식품ㆍ의약품 등의 안전 및 제품화 지원에 관한 규제과학혁신법.csv\n",
      "Updated file saved to: 법령별 csv 저장 중복제거\\식품ㆍ의약품 등의 안전 및 제품화 지원에 관한 규제과학혁신법.csv\n",
      "Processing : 법령별 csv 저장\\식품ㆍ의약품분야 시험ㆍ검사 등에 관한 법률.csv\n",
      "Updated file saved to: 법령별 csv 저장 중복제거\\식품ㆍ의약품분야 시험ㆍ검사 등에 관한 법률.csv\n",
      "Processing : 법령별 csv 저장\\신라왕경 핵심유적 복원ㆍ정비에 관한 특별법.csv\n",
      "Updated file saved to: 법령별 csv 저장 중복제거\\신라왕경 핵심유적 복원ㆍ정비에 관한 특별법.csv\n",
      "Processing : 법령별 csv 저장\\신문 등의 진흥에 관한 법률.csv\n",
      "Updated file saved to: 법령별 csv 저장 중복제거\\신문 등의 진흥에 관한 법률.csv\n",
      "Processing : 법령별 csv 저장\\신에너지 및 재생에너지 개발ㆍ이용ㆍ보급 촉진법.csv\n",
      "Updated file saved to: 법령별 csv 저장 중복제거\\신에너지 및 재생에너지 개발ㆍ이용ㆍ보급 촉진법.csv\n",
      "Processing : 법령별 csv 저장\\신용보증기금법.csv\n",
      "Updated file saved to: 법령별 csv 저장 중복제거\\신용보증기금법.csv\n",
      "Processing : 법령별 csv 저장\\신용정보의 이용 및 보호에 관한 법률.csv\n",
      "Updated file saved to: 법령별 csv 저장 중복제거\\신용정보의 이용 및 보호에 관한 법률.csv\n",
      "Processing : 법령별 csv 저장\\신용협동조합법.csv\n",
      "Updated file saved to: 법령별 csv 저장 중복제거\\신용협동조합법.csv\n",
      "Processing : 법령별 csv 저장\\신원보증법.csv\n",
      "Updated file saved to: 법령별 csv 저장 중복제거\\신원보증법.csv\n",
      "Processing : 법령별 csv 저장\\신탁법.csv\n",
      "Updated file saved to: 법령별 csv 저장 중복제거\\신탁법.csv\n",
      "Processing : 법령별 csv 저장\\신항만건설 촉진법.csv\n",
      "Updated file saved to: 법령별 csv 저장 중복제거\\신항만건설 촉진법.csv\n",
      "Processing : 법령별 csv 저장\\신행정수도 후속대책을 위한 연기ㆍ공주지역 행정중심복합도시 건설을 위한 특별법.csv\n",
      "Updated file saved to: 법령별 csv 저장 중복제거\\신행정수도 후속대책을 위한 연기ㆍ공주지역 행정중심복합도시 건설을 위한 특별법.csv\n",
      "Processing : 법령별 csv 저장\\실내공기질 관리법.csv\n",
      "Updated file saved to: 법령별 csv 저장 중복제거\\실내공기질 관리법.csv\n",
      "Processing : 법령별 csv 저장\\실용신안법.csv\n",
      "Updated file saved to: 법령별 csv 저장 중복제거\\실용신안법.csv\n",
      "Processing : 법령별 csv 저장\\실종아동등의 보호 및 지원에 관한 법률.csv\n",
      "Updated file saved to: 법령별 csv 저장 중복제거\\실종아동등의 보호 및 지원에 관한 법률.csv\n",
      "Processing : 법령별 csv 저장\\실험동물에 관한 법률.csv\n",
      "Updated file saved to: 법령별 csv 저장 중복제거\\실험동물에 관한 법률.csv\n",
      "Processing : 법령별 csv 저장\\실화책임에 관한 법률.csv\n",
      "Updated file saved to: 법령별 csv 저장 중복제거\\실화책임에 관한 법률.csv\n",
      "Processing : 법령별 csv 저장\\심뇌혈관질환의 예방 및 관리에 관한 법률.csv\n",
      "Updated file saved to: 법령별 csv 저장 중복제거\\심뇌혈관질환의 예방 및 관리에 관한 법률.csv\n",
      "Processing : 법령별 csv 저장\\쌀가공산업 육성 및 쌀 이용 촉진에 관한 법률.csv\n",
      "Updated file saved to: 법령별 csv 저장 중복제거\\쌀가공산업 육성 및 쌀 이용 촉진에 관한 법률.csv\n",
      "Processing : 법령별 csv 저장\\씨름 진흥법.csv\n",
      "Updated file saved to: 법령별 csv 저장 중복제거\\씨름 진흥법.csv\n",
      "Processing : 법령별 csv 저장\\아동복지법.csv\n",
      "Updated file saved to: 법령별 csv 저장 중복제거\\아동복지법.csv\n",
      "Processing : 법령별 csv 저장\\아동수당법.csv\n",
      "Updated file saved to: 법령별 csv 저장 중복제거\\아동수당법.csv\n",
      "Processing : 법령별 csv 저장\\아동의 빈곤예방 및 지원 등에 관한 법률.csv\n",
      "Updated file saved to: 법령별 csv 저장 중복제거\\아동의 빈곤예방 및 지원 등에 관한 법률.csv\n",
      "Processing : 법령별 csv 저장\\아동ㆍ청소년의 성보호에 관한 법률.csv\n",
      "Updated file saved to: 법령별 csv 저장 중복제거\\아동ㆍ청소년의 성보호에 관한 법률.csv\n",
      "Processing : 법령별 csv 저장\\아동학대범죄의 처벌 등에 관한 특례법.csv\n",
      "Updated file saved to: 법령별 csv 저장 중복제거\\아동학대범죄의 처벌 등에 관한 특례법.csv\n",
      "Processing : 법령별 csv 저장\\아시아문화중심도시 조성에 관한 특별법.csv\n",
      "Updated file saved to: 법령별 csv 저장 중복제거\\아시아문화중심도시 조성에 관한 특별법.csv\n",
      "Processing : 법령별 csv 저장\\아이돌봄 지원법.csv\n",
      "Updated file saved to: 법령별 csv 저장 중복제거\\아이돌봄 지원법.csv\n",
      "Processing : 법령별 csv 저장\\악취방지법.csv\n",
      "Updated file saved to: 법령별 csv 저장 중복제거\\악취방지법.csv\n",
      "Processing : 법령별 csv 저장\\암관리법.csv\n",
      "Updated file saved to: 법령별 csv 저장 중복제거\\암관리법.csv\n",
      "Processing : 법령별 csv 저장\\애니메이션산업 진흥에 관한 법률.csv\n",
      "Updated file saved to: 법령별 csv 저장 중복제거\\애니메이션산업 진흥에 관한 법률.csv\n",
      "Processing : 법령별 csv 저장\\액화석유가스의 안전관리 및 사업법.csv\n",
      "Updated file saved to: 법령별 csv 저장 중복제거\\액화석유가스의 안전관리 및 사업법.csv\n",
      "Processing : 법령별 csv 저장\\야생생물 보호 및 관리에 관한 법률.csv\n",
      "Updated file saved to: 법령별 csv 저장 중복제거\\야생생물 보호 및 관리에 관한 법률.csv\n",
      "Processing : 법령별 csv 저장\\약관의 규제에 관한 법률.csv\n",
      "Updated file saved to: 법령별 csv 저장 중복제거\\약관의 규제에 관한 법률.csv\n",
      "Processing : 법령별 csv 저장\\약사법.csv\n",
      "Updated file saved to: 법령별 csv 저장 중복제거\\약사법.csv\n",
      "Processing : 법령별 csv 저장\\양곡관리법.csv\n",
      "Updated file saved to: 법령별 csv 저장 중복제거\\양곡관리법.csv\n",
      "Processing : 법령별 csv 저장\\양봉산업의 육성 및 지원에 관한 법률.csv\n",
      "Updated file saved to: 법령별 csv 저장 중복제거\\양봉산업의 육성 및 지원에 관한 법률.csv\n",
      "Processing : 법령별 csv 저장\\양성평등기본법.csv\n",
      "Updated file saved to: 법령별 csv 저장 중복제거\\양성평등기본법.csv\n",
      "Processing : 법령별 csv 저장\\양식산업발전법.csv\n",
      "Updated file saved to: 법령별 csv 저장 중복제거\\양식산업발전법.csv\n",
      "Processing : 법령별 csv 저장\\양육비 이행확보 및 지원에 관한 법률.csv\n",
      "Updated file saved to: 법령별 csv 저장 중복제거\\양육비 이행확보 및 지원에 관한 법률.csv\n",
      "Processing : 법령별 csv 저장\\양자과학기술 및 양자산업 육성에 관한 법률.csv\n",
      "Updated file saved to: 법령별 csv 저장 중복제거\\양자과학기술 및 양자산업 육성에 관한 법률.csv\n",
      "Processing : 법령별 csv 저장\\어린이놀이시설 안전관리법.csv\n",
      "Updated file saved to: 법령별 csv 저장 중복제거\\어린이놀이시설 안전관리법.csv\n",
      "Processing : 법령별 csv 저장\\어린이 식생활안전관리 특별법.csv\n",
      "Updated file saved to: 법령별 csv 저장 중복제거\\어린이 식생활안전관리 특별법.csv\n",
      "Processing : 법령별 csv 저장\\어린이안전관리에 관한 법률.csv\n",
      "Updated file saved to: 법령별 csv 저장 중복제거\\어린이안전관리에 관한 법률.csv\n",
      "Processing : 법령별 csv 저장\\어린이제품 안전 특별법.csv\n",
      "Updated file saved to: 법령별 csv 저장 중복제거\\어린이제품 안전 특별법.csv\n",
      "Processing : 법령별 csv 저장\\어선법.csv\n",
      "Updated file saved to: 법령별 csv 저장 중복제거\\어선법.csv\n",
      "Processing : 법령별 csv 저장\\어선안전조업 및 어선원의 안전ㆍ보건 증진 등에 관한 법률.csv\n",
      "Updated file saved to: 법령별 csv 저장 중복제거\\어선안전조업 및 어선원의 안전ㆍ보건 증진 등에 관한 법률.csv\n",
      "Processing : 법령별 csv 저장\\어선원 및 어선 재해보상보험법.csv\n",
      "Updated file saved to: 법령별 csv 저장 중복제거\\어선원 및 어선 재해보상보험법.csv\n",
      "Processing : 법령별 csv 저장\\어업자원보호법.csv\n",
      "Updated file saved to: 법령별 csv 저장 중복제거\\어업자원보호법.csv\n",
      "Processing : 법령별 csv 저장\\어음법.csv\n",
      "Updated file saved to: 법령별 csv 저장 중복제거\\어음법.csv\n",
      "Processing : 법령별 csv 저장\\어장관리법.csv\n",
      "Updated file saved to: 법령별 csv 저장 중복제거\\어장관리법.csv\n",
      "Processing : 법령별 csv 저장\\어촌ㆍ어항법.csv\n",
      "Updated file saved to: 법령별 csv 저장 중복제거\\어촌ㆍ어항법.csv\n",
      "Processing : 법령별 csv 저장\\어촌특화발전 지원 특별법.csv\n",
      "Updated file saved to: 법령별 csv 저장 중복제거\\어촌특화발전 지원 특별법.csv\n",
      "Processing : 법령별 csv 저장\\언론중재 및 피해구제 등에 관한 법률.csv\n",
      "Updated file saved to: 법령별 csv 저장 중복제거\\언론중재 및 피해구제 등에 관한 법률.csv\n",
      "Processing : 법령별 csv 저장\\에너지 및 자원사업 특별회계법.csv\n",
      "Updated file saved to: 법령별 csv 저장 중복제거\\에너지 및 자원사업 특별회계법.csv\n",
      "Processing : 법령별 csv 저장\\에너지법.csv\n",
      "Updated file saved to: 법령별 csv 저장 중복제거\\에너지법.csv\n",
      "Processing : 법령별 csv 저장\\에너지산업융복합단지의 지정 및 육성에 관한 특별법.csv\n",
      "Updated file saved to: 법령별 csv 저장 중복제거\\에너지산업융복합단지의 지정 및 육성에 관한 특별법.csv\n",
      "Processing : 법령별 csv 저장\\에너지이용 합리화법.csv\n",
      "Updated file saved to: 법령별 csv 저장 중복제거\\에너지이용 합리화법.csv\n",
      "Processing : 법령별 csv 저장\\엔지니어링산업 진흥법.csv\n",
      "Updated file saved to: 법령별 csv 저장 중복제거\\엔지니어링산업 진흥법.csv\n",
      "Processing : 법령별 csv 저장\\여객자동차 운수사업법.csv\n",
      "Updated file saved to: 법령별 csv 저장 중복제거\\여객자동차 운수사업법.csv\n",
      "Processing : 법령별 csv 저장\\여권법.csv\n",
      "Updated file saved to: 법령별 csv 저장 중복제거\\여권법.csv\n",
      "Processing : 법령별 csv 저장\\여성과학기술인 육성 및 지원에 관한 법률.csv\n",
      "Updated file saved to: 법령별 csv 저장 중복제거\\여성과학기술인 육성 및 지원에 관한 법률.csv\n",
      "Processing : 법령별 csv 저장\\여성기업지원에 관한 법률.csv\n",
      "Updated file saved to: 법령별 csv 저장 중복제거\\여성기업지원에 관한 법률.csv\n",
      "Processing : 법령별 csv 저장\\여성농어업인 육성법.csv\n",
      "Updated file saved to: 법령별 csv 저장 중복제거\\여성농어업인 육성법.csv\n",
      "Processing : 법령별 csv 저장\\여성의 경제활동 촉진과 경력단절 예방법.csv\n",
      "Updated file saved to: 법령별 csv 저장 중복제거\\여성의 경제활동 촉진과 경력단절 예방법.csv\n",
      "Processing : 법령별 csv 저장\\여성폭력방지기본법.csv\n",
      "Updated file saved to: 법령별 csv 저장 중복제거\\여성폭력방지기본법.csv\n",
      "Processing : 법령별 csv 저장\\여수세계박람회 기념 및 사후활용에 관한 특별법.csv\n",
      "Updated file saved to: 법령별 csv 저장 중복제거\\여수세계박람회 기념 및 사후활용에 관한 특별법.csv\n",
      "Processing : 법령별 csv 저장\\여수ㆍ순천 10ㆍ19사건 진상규명 및 희생자 명예회복에 관한 특별법.csv\n",
      "Updated file saved to: 법령별 csv 저장 중복제거\\여수ㆍ순천 10ㆍ19사건 진상규명 및 희생자 명예회복에 관한 특별법.csv\n",
      "Processing : 법령별 csv 저장\\여신전문금융업법.csv\n",
      "Updated file saved to: 법령별 csv 저장 중복제거\\여신전문금융업법.csv\n",
      "Processing : 법령별 csv 저장\\역사문화권 정비 등에 관한 특별법.csv\n",
      "Updated file saved to: 법령별 csv 저장 중복제거\\역사문화권 정비 등에 관한 특별법.csv\n",
      "Processing : 법령별 csv 저장\\역세권의 개발 및 이용에 관한 법률.csv\n",
      "Updated file saved to: 법령별 csv 저장 중복제거\\역세권의 개발 및 이용에 관한 법률.csv\n",
      "Processing : 법령별 csv 저장\\연구개발특구의 육성에 관한 특별법.csv\n",
      "Updated file saved to: 법령별 csv 저장 중복제거\\연구개발특구의 육성에 관한 특별법.csv\n",
      "Processing : 법령별 csv 저장\\연구산업진흥법.csv\n",
      "Updated file saved to: 법령별 csv 저장 중복제거\\연구산업진흥법.csv\n",
      "Processing : 법령별 csv 저장\\연구실 안전환경 조성에 관한 법률.csv\n",
      "Updated file saved to: 법령별 csv 저장 중복제거\\연구실 안전환경 조성에 관한 법률.csv\n",
      "Processing : 법령별 csv 저장\\연근해어업의 구조개선 및 지원에 관한 법률.csv\n",
      "Updated file saved to: 법령별 csv 저장 중복제거\\연근해어업의 구조개선 및 지원에 관한 법률.csv\n",
      "Processing : 법령별 csv 저장\\연안관리법.csv\n",
      "Updated file saved to: 법령별 csv 저장 중복제거\\연안관리법.csv\n",
      "Processing : 법령별 csv 저장\\연안사고 예방에 관한 법률.csv\n",
      "Updated file saved to: 법령별 csv 저장 중복제거\\연안사고 예방에 관한 법률.csv\n",
      "Processing : 법령별 csv 저장\\연호에 관한 법률.csv\n",
      "Updated file saved to: 법령별 csv 저장 중복제거\\연호에 관한 법률.csv\n",
      "Processing : 법령별 csv 저장\\염업조합법.csv\n",
      "Updated file saved to: 법령별 csv 저장 중복제거\\염업조합법.csv\n",
      "Processing : 법령별 csv 저장\\엽연초생산협동조합법.csv\n",
      "Updated file saved to: 법령별 csv 저장 중복제거\\엽연초생산협동조합법.csv\n",
      "Processing : 법령별 csv 저장\\영산강ㆍ섬진강수계 물관리 및 주민지원 등에 관한 법률.csv\n",
      "Updated file saved to: 법령별 csv 저장 중복제거\\영산강ㆍ섬진강수계 물관리 및 주민지원 등에 관한 법률.csv\n",
      "Processing : 법령별 csv 저장\\영상진흥기본법.csv\n",
      "Updated file saved to: 법령별 csv 저장 중복제거\\영상진흥기본법.csv\n",
      "Processing : 법령별 csv 저장\\영유아보육법.csv\n",
      "Updated file saved to: 법령별 csv 저장 중복제거\\영유아보육법.csv\n",
      "Processing : 법령별 csv 저장\\영재교육 진흥법.csv\n",
      "Updated file saved to: 법령별 csv 저장 중복제거\\영재교육 진흥법.csv\n",
      "Processing : 법령별 csv 저장\\영해 및 접속수역법.csv\n",
      "Updated file saved to: 법령별 csv 저장 중복제거\\영해 및 접속수역법.csv\n",
      "Processing : 법령별 csv 저장\\영화 및 비디오물의 진흥에 관한 법률.csv\n",
      "Updated file saved to: 법령별 csv 저장 중복제거\\영화 및 비디오물의 진흥에 관한 법률.csv\n",
      "Processing : 법령별 csv 저장\\예금자보호법.csv\n",
      "Updated file saved to: 법령별 csv 저장 중복제거\\예금자보호법.csv\n",
      "Processing : 법령별 csv 저장\\예비군법.csv\n",
      "Updated file saved to: 법령별 csv 저장 중복제거\\예비군법.csv\n",
      "Processing : 법령별 csv 저장\\예산회계에관한특례법.csv\n",
      "Updated file saved to: 법령별 csv 저장 중복제거\\예산회계에관한특례법.csv\n",
      "Processing : 법령별 csv 저장\\예술인 복지법.csv\n",
      "Updated file saved to: 법령별 csv 저장 중복제거\\예술인 복지법.csv\n",
      "Processing : 법령별 csv 저장\\예술인의 지위와 권리의 보장에 관한 법률.csv\n",
      "Updated file saved to: 법령별 csv 저장 중복제거\\예술인의 지위와 권리의 보장에 관한 법률.csv\n",
      "Processing : 법령별 csv 저장\\오존층 보호 등을 위한 특정물질의 관리에 관한 법률.csv\n",
      "Updated file saved to: 법령별 csv 저장 중복제거\\오존층 보호 등을 위한 특정물질의 관리에 관한 법률.csv\n",
      "Processing : 법령별 csv 저장\\옥외광고물 등의 관리와 옥외광고산업 진흥에 관한 법률.csv\n",
      "Updated file saved to: 법령별 csv 저장 중복제거\\옥외광고물 등의 관리와 옥외광고산업 진흥에 관한 법률.csv\n",
      "Processing : 법령별 csv 저장\\온라인투자연계금융업 및 이용자 보호에 관한 법률.csv\n",
      "Updated file saved to: 법령별 csv 저장 중복제거\\온라인투자연계금융업 및 이용자 보호에 관한 법률.csv\n",
      "Processing : 법령별 csv 저장\\온실가스 배출권의 할당 및 거래에 관한 법률.csv\n",
      "Updated file saved to: 법령별 csv 저장 중복제거\\온실가스 배출권의 할당 및 거래에 관한 법률.csv\n",
      "Processing : 법령별 csv 저장\\온천법.csv\n",
      "Updated file saved to: 법령별 csv 저장 중복제거\\온천법.csv\n",
      "Processing : 법령별 csv 저장\\외국법자문사법.csv\n",
      "Updated file saved to: 법령별 csv 저장 중복제거\\외국법자문사법.csv\n",
      "Processing : 법령별 csv 저장\\외국인근로자의 고용 등에 관한 법률.csv\n",
      "Updated file saved to: 법령별 csv 저장 중복제거\\외국인근로자의 고용 등에 관한 법률.csv\n",
      "Processing : 법령별 csv 저장\\외국인의 서명날인에 관한 법률.csv\n",
      "Updated file saved to: 법령별 csv 저장 중복제거\\외국인의 서명날인에 관한 법률.csv\n",
      "Processing : 법령별 csv 저장\\외국인투자 촉진법.csv\n",
      "Updated file saved to: 법령별 csv 저장 중복제거\\외국인투자 촉진법.csv\n",
      "Processing : 법령별 csv 저장\\외국환거래법.csv\n",
      "Updated file saved to: 법령별 csv 저장 중복제거\\외국환거래법.csv\n",
      "Processing : 법령별 csv 저장\\외무공무원법.csv\n",
      "Updated file saved to: 법령별 csv 저장 중복제거\\외무공무원법.csv\n",
      "Processing : 법령별 csv 저장\\외식산업 진흥법.csv\n",
      "Updated file saved to: 법령별 csv 저장 중복제거\\외식산업 진흥법.csv\n",
      "Processing : 법령별 csv 저장\\용산공원 조성 특별법.csv\n",
      "Updated file saved to: 법령별 csv 저장 중복제거\\용산공원 조성 특별법.csv\n",
      "Processing : 법령별 csv 저장\\우정사업 운영에 관한 특례법.csv\n",
      "Updated file saved to: 법령별 csv 저장 중복제거\\우정사업 운영에 관한 특례법.csv\n",
      "Processing : 법령별 csv 저장\\우주개발 진흥법.csv\n",
      "Updated file saved to: 법령별 csv 저장 중복제거\\우주개발 진흥법.csv\n",
      "Processing : 법령별 csv 저장\\우주손해배상법.csv\n",
      "Updated file saved to: 법령별 csv 저장 중복제거\\우주손해배상법.csv\n",
      "Processing : 법령별 csv 저장\\우주항공청의 설치 및 운영에 관한 특별법.csv\n",
      "Updated file saved to: 법령별 csv 저장 중복제거\\우주항공청의 설치 및 운영에 관한 특별법.csv\n",
      "Processing : 법령별 csv 저장\\우체국보험특별회계법.csv\n",
      "Updated file saved to: 법령별 csv 저장 중복제거\\우체국보험특별회계법.csv\n",
      "Processing : 법령별 csv 저장\\우체국예금ㆍ보험에 관한 법률.csv\n",
      "Updated file saved to: 법령별 csv 저장 중복제거\\우체국예금ㆍ보험에 관한 법률.csv\n",
      "Processing : 법령별 csv 저장\\우체국창구업무의 위탁에 관한 법률.csv\n",
      "Updated file saved to: 법령별 csv 저장 중복제거\\우체국창구업무의 위탁에 관한 법률.csv\n",
      "Processing : 법령별 csv 저장\\우편대체법.csv\n",
      "Updated file saved to: 법령별 csv 저장 중복제거\\우편대체법.csv\n",
      "Processing : 법령별 csv 저장\\우편법.csv\n",
      "Updated file saved to: 법령별 csv 저장 중복제거\\우편법.csv\n",
      "Processing : 법령별 csv 저장\\우편환법.csv\n",
      "Updated file saved to: 법령별 csv 저장 중복제거\\우편환법.csv\n",
      "Processing : 법령별 csv 저장\\울릉도ㆍ흑산도 등 국토외곽 먼섬 지원 특별법.csv\n",
      "Updated file saved to: 법령별 csv 저장 중복제거\\울릉도ㆍ흑산도 등 국토외곽 먼섬 지원 특별법.csv\n",
      "Processing : 법령별 csv 저장\\울산과학기술원법.csv\n",
      "Updated file saved to: 법령별 csv 저장 중복제거\\울산과학기술원법.csv\n",
      "Processing : 법령별 csv 저장\\원격영상재판에 관한 특례법.csv\n",
      "Updated file saved to: 법령별 csv 저장 중복제거\\원격영상재판에 관한 특례법.csv\n",
      "Processing : 법령별 csv 저장\\원양산업발전법.csv\n",
      "Updated file saved to: 법령별 csv 저장 중복제거\\원양산업발전법.csv\n",
      "Processing : 법령별 csv 저장\\원자력 손해배상법.csv\n",
      "Updated file saved to: 법령별 csv 저장 중복제거\\원자력 손해배상법.csv\n",
      "Processing : 법령별 csv 저장\\원자력손해배상 보상계약에 관한 법률.csv\n",
      "Updated file saved to: 법령별 csv 저장 중복제거\\원자력손해배상 보상계약에 관한 법률.csv\n",
      "Processing : 법령별 csv 저장\\원자력시설 등의 방호 및 방사능 방재 대책법.csv\n",
      "Updated file saved to: 법령별 csv 저장 중복제거\\원자력시설 등의 방호 및 방사능 방재 대책법.csv\n",
      "Processing : 법령별 csv 저장\\원자력안전법.csv\n",
      "Updated file saved to: 법령별 csv 저장 중복제거\\원자력안전법.csv\n",
      "Processing : 법령별 csv 저장\\원자력안전위원회의 설치 및 운영에 관한 법률.csv\n",
      "Updated file saved to: 법령별 csv 저장 중복제거\\원자력안전위원회의 설치 및 운영에 관한 법률.csv\n",
      "Processing : 법령별 csv 저장\\원자력안전 정보공개 및 소통에 관한 법률.csv\n",
      "Updated file saved to: 법령별 csv 저장 중복제거\\원자력안전 정보공개 및 소통에 관한 법률.csv\n",
      "Processing : 법령별 csv 저장\\원자력 진흥법.csv\n",
      "Updated file saved to: 법령별 csv 저장 중복제거\\원자력 진흥법.csv\n",
      "Processing : 법령별 csv 저장\\원전비리 방지를 위한 원자력발전사업자등의 관리ㆍ감독에 관한 법률.csv\n",
      "Updated file saved to: 법령별 csv 저장 중복제거\\원전비리 방지를 위한 원자력발전사업자등의 관리ㆍ감독에 관한 법률.csv\n",
      "Processing : 법령별 csv 저장\\원호재산특별처리법.csv\n",
      "Updated file saved to: 법령별 csv 저장 중복제거\\원호재산특별처리법.csv\n",
      "Processing : 법령별 csv 저장\\위기 임신 및 보호출산 지원과 아동 보호에 관한 특별법.csv\n",
      "Updated file saved to: 법령별 csv 저장 중복제거\\위기 임신 및 보호출산 지원과 아동 보호에 관한 특별법.csv\n",
      "Processing : 법령별 csv 저장\\위생용품 관리법.csv\n",
      "Updated file saved to: 법령별 csv 저장 중복제거\\위생용품 관리법.csv\n",
      "Processing : 법령별 csv 저장\\위치정보의 보호 및 이용 등에 관한 법률.csv\n",
      "Updated file saved to: 법령별 csv 저장 중복제거\\위치정보의 보호 및 이용 등에 관한 법률.csv\n",
      "Processing : 법령별 csv 저장\\위험물안전관리법.csv\n",
      "Updated file saved to: 법령별 csv 저장 중복제거\\위험물안전관리법.csv\n",
      "Processing : 법령별 csv 저장\\유기성 폐자원을 활용한 바이오가스의 생산 및 이용 촉진법.csv\n",
      "Updated file saved to: 법령별 csv 저장 중복제거\\유기성 폐자원을 활용한 바이오가스의 생산 및 이용 촉진법.csv\n",
      "Processing : 법령별 csv 저장\\유네스코 활동에 관한 법률.csv\n",
      "Updated file saved to: 법령별 csv 저장 중복제거\\유네스코 활동에 관한 법률.csv\n",
      "Processing : 법령별 csv 저장\\유료도로법.csv\n",
      "Updated file saved to: 법령별 csv 저장 중복제거\\유료도로법.csv\n",
      "Processing : 법령별 csv 저장\\유류오염손해배상 보장법.csv\n",
      "Updated file saved to: 법령별 csv 저장 중복제거\\유류오염손해배상 보장법.csv\n",
      "Processing : 법령별 csv 저장\\유사수신행위의 규제에 관한 법률.csv\n",
      "Updated file saved to: 법령별 csv 저장 중복제거\\유사수신행위의 규제에 관한 법률.csv\n",
      "Processing : 법령별 csv 저장\\유선 및 도선 사업법.csv\n",
      "Updated file saved to: 법령별 csv 저장 중복제거\\유선 및 도선 사업법.csv\n",
      "Processing : 법령별 csv 저장\\유실물법.csv\n",
      "Updated file saved to: 법령별 csv 저장 중복제거\\유실물법.csv\n",
      "Processing : 법령별 csv 저장\\유아교육법.csv\n",
      "Updated file saved to: 법령별 csv 저장 중복제거\\유아교육법.csv\n",
      "Processing : 법령별 csv 저장\\유아교육지원특별회계법.csv\n",
      "Updated file saved to: 법령별 csv 저장 중복제거\\유아교육지원특별회계법.csv\n",
      "Processing : 법령별 csv 저장\\유엔참전용사의 명예선양 등에 관한 법률.csv\n",
      "Updated file saved to: 법령별 csv 저장 중복제거\\유엔참전용사의 명예선양 등에 관한 법률.csv\n",
      "Processing : 법령별 csv 저장\\유전자변형생물체의 국가간 이동 등에 관한 법률.csv\n",
      "Updated file saved to: 법령별 csv 저장 중복제거\\유전자변형생물체의 국가간 이동 등에 관한 법률.csv\n",
      "Processing : 법령별 csv 저장\\유전자원의 접근ㆍ이용 및 이익 공유에 관한 법률.csv\n",
      "Updated file saved to: 법령별 csv 저장 중복제거\\유전자원의 접근ㆍ이용 및 이익 공유에 관한 법률.csv\n",
      "Processing : 법령별 csv 저장\\유통산업발전법.csv\n",
      "Updated file saved to: 법령별 csv 저장 중복제거\\유통산업발전법.csv\n",
      "Processing : 법령별 csv 저장\\육군3사관학교 설치법.csv\n",
      "Updated file saved to: 법령별 csv 저장 중복제거\\육군3사관학교 설치법.csv\n",
      "Processing : 법령별 csv 저장\\윤석열 전 대통령 등에 의한 내란ㆍ외환 행위의 진상규명을 위한 특별검사 임명 등에 관한 법률.csv\n",
      "Updated file saved to: 법령별 csv 저장 중복제거\\윤석열 전 대통령 등에 의한 내란ㆍ외환 행위의 진상규명을 위한 특별검사 임명 등에 관한 법률.csv\n",
      "Processing : 법령별 csv 저장\\은행법.csv\n",
      "Updated file saved to: 법령별 csv 저장 중복제거\\은행법.csv\n",
      "Processing : 법령별 csv 저장\\음악산업진흥에 관한 법률.csv\n",
      "Updated file saved to: 법령별 csv 저장 중복제거\\음악산업진흥에 관한 법률.csv\n",
      "Processing : 법령별 csv 저장\\응급의료에 관한 법률.csv\n",
      "Updated file saved to: 법령별 csv 저장 중복제거\\응급의료에 관한 법률.csv\n",
      "Processing : 법령별 csv 저장\\의료급여법.csv\n",
      "Updated file saved to: 법령별 csv 저장 중복제거\\의료급여법.csv\n",
      "Processing : 법령별 csv 저장\\의료기기법.csv\n",
      "Updated file saved to: 법령별 csv 저장 중복제거\\의료기기법.csv\n",
      "Processing : 법령별 csv 저장\\의료기기산업 육성 및 혁신의료기기 지원법.csv\n",
      "Updated file saved to: 법령별 csv 저장 중복제거\\의료기기산업 육성 및 혁신의료기기 지원법.csv\n",
      "Processing : 법령별 csv 저장\\의료기사 등에 관한 법률.csv\n",
      "Updated file saved to: 법령별 csv 저장 중복제거\\의료기사 등에 관한 법률.csv\n",
      "Processing : 법령별 csv 저장\\의료법.csv\n",
      "Updated file saved to: 법령별 csv 저장 중복제거\\의료법.csv\n",
      "Processing : 법령별 csv 저장\\의료사고 피해구제 및 의료분쟁 조정 등에 관한 법률.csv\n",
      "Updated file saved to: 법령별 csv 저장 중복제거\\의료사고 피해구제 및 의료분쟁 조정 등에 관한 법률.csv\n",
      "Processing : 법령별 csv 저장\\의료 해외진출 및 외국인환자 유치 지원에 관한 법률.csv\n",
      "Updated file saved to: 법령별 csv 저장 중복제거\\의료 해외진출 및 외국인환자 유치 지원에 관한 법률.csv\n",
      "Processing : 법령별 csv 저장\\의무경찰대 설치 및 운영에 관한 법률.csv\n",
      "Updated file saved to: 법령별 csv 저장 중복제거\\의무경찰대 설치 및 운영에 관한 법률.csv\n",
      "Processing : 법령별 csv 저장\\의무소방대설치법.csv\n",
      "Updated file saved to: 법령별 csv 저장 중복제거\\의무소방대설치법.csv\n",
      "Processing : 법령별 csv 저장\\의사상자 등 예우 및 지원에 관한 법률.csv\n",
      "Updated file saved to: 법령별 csv 저장 중복제거\\의사상자 등 예우 및 지원에 관한 법률.csv\n",
      "Processing : 법령별 csv 저장\\의용소방대 설치 및 운영에 관한 법률.csv\n",
      "Updated file saved to: 법령별 csv 저장 중복제거\\의용소방대 설치 및 운영에 관한 법률.csv\n",
      "Processing : 법령별 csv 저장\\이러닝(전자학습)산업 발전 및 이러닝 활용 촉진에 관한 법률.csv\n",
      "Updated file saved to: 법령별 csv 저장 중복제거\\이러닝(전자학습)산업 발전 및 이러닝 활용 촉진에 관한 법률.csv\n",
      "Processing : 법령별 csv 저장\\이북5도 등에 관한 특별조치법.csv\n",
      "Updated file saved to: 법령별 csv 저장 중복제거\\이북5도 등에 관한 특별조치법.csv\n",
      "Processing : 법령별 csv 저장\\이산화탄소 포집ㆍ수송ㆍ저장 및 활용에 관한 법률.csv\n",
      "Updated file saved to: 법령별 csv 저장 중복제거\\이산화탄소 포집ㆍ수송ㆍ저장 및 활용에 관한 법률.csv\n",
      "Processing : 법령별 csv 저장\\이스포츠(전자스포츠) 진흥에 관한 법률.csv\n",
      "Updated file saved to: 법령별 csv 저장 중복제거\\이스포츠(전자스포츠) 진흥에 관한 법률.csv\n",
      "Processing : 법령별 csv 저장\\이자제한법.csv\n",
      "Updated file saved to: 법령별 csv 저장 중복제거\\이자제한법.csv\n",
      "Processing : 법령별 csv 저장\\이중상환청구권부 채권 발행에 관한 법률.csv\n",
      "Updated file saved to: 법령별 csv 저장 중복제거\\이중상환청구권부 채권 발행에 관한 법률.csv\n",
      "Processing : 법령별 csv 저장\\인감증명법.csv\n",
      "Updated file saved to: 법령별 csv 저장 중복제거\\인감증명법.csv\n",
      "Processing : 법령별 csv 저장\\인공조명에 의한 빛공해 방지법.csv\n",
      "Updated file saved to: 법령별 csv 저장 중복제거\\인공조명에 의한 빛공해 방지법.csv\n",
      "Processing : 법령별 csv 저장\\인구감소지역 지원 특별법.csv\n",
      "Updated file saved to: 법령별 csv 저장 중복제거\\인구감소지역 지원 특별법.csv\n",
      "Processing : 법령별 csv 저장\\인문학 및 인문정신문화의 진흥에 관한 법률.csv\n",
      "Updated file saved to: 법령별 csv 저장 중복제거\\인문학 및 인문정신문화의 진흥에 관한 법률.csv\n",
      "Processing : 법령별 csv 저장\\인사청문회법.csv\n",
      "Updated file saved to: 법령별 csv 저장 중복제거\\인사청문회법.csv\n",
      "Processing : 법령별 csv 저장\\인삼산업법.csv\n",
      "Updated file saved to: 법령별 csv 저장 중복제거\\인삼산업법.csv\n",
      "Processing : 법령별 csv 저장\\인성교육진흥법.csv\n",
      "Updated file saved to: 법령별 csv 저장 중복제거\\인성교육진흥법.csv\n",
      "Processing : 법령별 csv 저장\\인쇄문화산업 진흥법.csv\n",
      "Updated file saved to: 법령별 csv 저장 중복제거\\인쇄문화산업 진흥법.csv\n",
      "Processing : 법령별 csv 저장\\인신매매등방지 및 피해자보호 등에 관한 법률.csv\n",
      "Updated file saved to: 법령별 csv 저장 중복제거\\인신매매등방지 및 피해자보호 등에 관한 법률.csv\n",
      "Processing : 법령별 csv 저장\\인신보호법.csv\n",
      "Updated file saved to: 법령별 csv 저장 중복제거\\인신보호법.csv\n",
      "Processing : 법령별 csv 저장\\인적자원개발 기본법.csv\n",
      "Updated file saved to: 법령별 csv 저장 중복제거\\인적자원개발 기본법.csv\n",
      "Processing : 법령별 csv 저장\\인지세법.csv\n",
      "Updated file saved to: 법령별 csv 저장 중복제거\\인지세법.csv\n",
      "Processing : 법령별 csv 저장\\인지 첩부·첨부 및 공탁 제공에 관한 특례법.csv\n",
      "Updated file saved to: 법령별 csv 저장 중복제거\\인지 첩부·첨부 및 공탁 제공에 관한 특례법.csv\n",
      "Processing : 법령별 csv 저장\\인천광역시 남구 명칭 변경에 관한 법률.csv\n",
      "Updated file saved to: 법령별 csv 저장 중복제거\\인천광역시 남구 명칭 변경에 관한 법률.csv\n",
      "Processing : 법령별 csv 저장\\인천국제공항공사법.csv\n",
      "Updated file saved to: 법령별 csv 저장 중복제거\\인천국제공항공사법.csv\n",
      "Processing : 법령별 csv 저장\\인체적용제품의 위해성평가에 관한 법률.csv\n",
      "Updated file saved to: 법령별 csv 저장 중복제거\\인체적용제품의 위해성평가에 관한 법률.csv\n",
      "Processing : 법령별 csv 저장\\인체조직안전 및 관리 등에 관한 법률.csv\n",
      "Updated file saved to: 법령별 csv 저장 중복제거\\인체조직안전 및 관리 등에 관한 법률.csv\n",
      "Processing : 법령별 csv 저장\\인터넷 멀티미디어 방송사업법.csv\n",
      "Updated file saved to: 법령별 csv 저장 중복제거\\인터넷 멀티미디어 방송사업법.csv\n",
      "Processing : 법령별 csv 저장\\인터넷전문은행 설립 및 운영에 관한 특례법.csv\n",
      "Updated file saved to: 법령별 csv 저장 중복제거\\인터넷전문은행 설립 및 운영에 관한 특례법.csv\n",
      "Processing : 법령별 csv 저장\\인터넷주소자원에 관한 법률.csv\n",
      "Updated file saved to: 법령별 csv 저장 중복제거\\인터넷주소자원에 관한 법률.csv\n",
      "Processing : 법령별 csv 저장\\일제강점하 반민족행위 진상규명에 관한 특별법.csv\n",
      "Updated file saved to: 법령별 csv 저장 중복제거\\일제강점하 반민족행위 진상규명에 관한 특별법.csv\n",
      "Processing : 법령별 csv 저장\\일제하 일본군위안부 피해자에 대한 보호ㆍ지원 및 기념사업 등에 관한 법률.csv\n",
      "Updated file saved to: 법령별 csv 저장 중복제거\\일제하 일본군위안부 피해자에 대한 보호ㆍ지원 및 기념사업 등에 관한 법률.csv\n",
      "Processing : 법령별 csv 저장\\임금채권보장법.csv\n",
      "Updated file saved to: 법령별 csv 저장 중복제거\\임금채권보장법.csv\n",
      "Processing : 법령별 csv 저장\\임시수입부가세법.csv\n",
      "Updated file saved to: 법령별 csv 저장 중복제거\\임시수입부가세법.csv\n",
      "Processing : 법령별 csv 저장\\임업 및 산촌 진흥촉진에 관한 법률.csv\n",
      "Updated file saved to: 법령별 csv 저장 중복제거\\임업 및 산촌 진흥촉진에 관한 법률.csv\n",
      "Processing : 법령별 csv 저장\\임업ㆍ산림 공익기능 증진을 위한 직접지불제도 운영에 관한 법률.csv\n",
      "Updated file saved to: 법령별 csv 저장 중복제거\\임업ㆍ산림 공익기능 증진을 위한 직접지불제도 운영에 관한 법률.csv\n",
      "Processing : 법령별 csv 저장\\임용결격공무원 등에 대한 퇴직보상금지급 등에 관한 특례법.csv\n",
      "Updated file saved to: 법령별 csv 저장 중복제거\\임용결격공무원 등에 대한 퇴직보상금지급 등에 관한 특례법.csv\n",
      "Processing : 법령별 csv 저장\\입목에 관한 법률.csv\n",
      "Updated file saved to: 법령별 csv 저장 중복제거\\입목에 관한 법률.csv\n",
      "Processing : 법령별 csv 저장\\자격기본법.csv\n",
      "Updated file saved to: 법령별 csv 저장 중복제거\\자격기본법.csv\n",
      "Processing : 법령별 csv 저장\\자동차관리법.csv\n",
      "Updated file saved to: 법령별 csv 저장 중복제거\\자동차관리법.csv\n",
      "Processing : 법령별 csv 저장\\자동차 등 특정동산 저당법.csv\n",
      "Updated file saved to: 법령별 csv 저장 중복제거\\자동차 등 특정동산 저당법.csv\n",
      "Processing : 법령별 csv 저장\\자동차손해배상 보장법.csv\n",
      "Updated file saved to: 법령별 csv 저장 중복제거\\자동차손해배상 보장법.csv\n",
      "Processing : 법령별 csv 저장\\자본시장과 금융투자업에 관한 법률.csv\n",
      "Updated file saved to: 법령별 csv 저장 중복제거\\자본시장과 금융투자업에 관한 법률.csv\n",
      "Processing : 법령별 csv 저장\\자산유동화에 관한 법률.csv\n",
      "Updated file saved to: 법령별 csv 저장 중복제거\\자산유동화에 관한 법률.csv\n",
      "Processing : 법령별 csv 저장\\자산재평가법.csv\n",
      "Updated file saved to: 법령별 csv 저장 중복제거\\자산재평가법.csv\n",
      "Processing : 법령별 csv 저장\\자살예방 및 생명존중문화 조성을 위한 법률.csv\n",
      "Updated file saved to: 법령별 csv 저장 중복제거\\자살예방 및 생명존중문화 조성을 위한 법률.csv\n",
      "Processing : 법령별 csv 저장\\자연공원법.csv\n",
      "Updated file saved to: 법령별 csv 저장 중복제거\\자연공원법.csv\n",
      "Processing : 법령별 csv 저장\\자연유산의 보존 및 활용에 관한 법률.csv\n",
      "Updated file saved to: 법령별 csv 저장 중복제거\\자연유산의 보존 및 활용에 관한 법률.csv\n",
      "Processing : 법령별 csv 저장\\자연재해대책법.csv\n",
      "Updated file saved to: 법령별 csv 저장 중복제거\\자연재해대책법.csv\n",
      "Processing : 법령별 csv 저장\\자연환경보전법.csv\n",
      "Updated file saved to: 법령별 csv 저장 중복제거\\자연환경보전법.csv\n",
      "Processing : 법령별 csv 저장\\자원봉사활동 기본법.csv\n",
      "Updated file saved to: 법령별 csv 저장 중복제거\\자원봉사활동 기본법.csv\n",
      "Processing : 법령별 csv 저장\\자원의 절약과 재활용촉진에 관한 법률.csv\n",
      "Updated file saved to: 법령별 csv 저장 중복제거\\자원의 절약과 재활용촉진에 관한 법률.csv\n",
      "Processing : 법령별 csv 저장\\자유무역지역의 지정 및 운영에 관한 법률.csv\n",
      "Updated file saved to: 법령별 csv 저장 중복제거\\자유무역지역의 지정 및 운영에 관한 법률.csv\n",
      "Processing : 법령별 csv 저장\\자유무역협정의 이행을 위한 관세법의 특례에 관한 법률.csv\n",
      "Updated file saved to: 법령별 csv 저장 중복제거\\자유무역협정의 이행을 위한 관세법의 특례에 관한 법률.csv\n",
      "Processing : 법령별 csv 저장\\자유무역협정 체결에 따른 농어업인 등의 지원에 관한 특별법.csv\n",
      "Updated file saved to: 법령별 csv 저장 중복제거\\자유무역협정 체결에 따른 농어업인 등의 지원에 관한 특별법.csv\n",
      "Processing : 법령별 csv 저장\\자율관리어업 육성 및 지원에 관한 법률.csv\n",
      "Updated file saved to: 법령별 csv 저장 중복제거\\자율관리어업 육성 및 지원에 관한 법률.csv\n",
      "Processing : 법령별 csv 저장\\자율방범대 설치 및 운영에 관한 법률.csv\n",
      "Updated file saved to: 법령별 csv 저장 중복제거\\자율방범대 설치 및 운영에 관한 법률.csv\n",
      "Processing : 법령별 csv 저장\\자율운항선박 개발 및 상용화 촉진에 관한 법률.csv\n",
      "Updated file saved to: 법령별 csv 저장 중복제거\\자율운항선박 개발 및 상용화 촉진에 관한 법률.csv\n",
      "Processing : 법령별 csv 저장\\자율주행자동차 상용화 촉진 및 지원에 관한 법률.csv\n",
      "Updated file saved to: 법령별 csv 저장 중복제거\\자율주행자동차 상용화 촉진 및 지원에 관한 법률.csv\n",
      "Processing : 법령별 csv 저장\\자전거 이용 활성화에 관한 법률.csv\n",
      "Updated file saved to: 법령별 csv 저장 중복제거\\자전거 이용 활성화에 관한 법률.csv\n",
      "Processing : 법령별 csv 저장\\작은도서관 진흥법.csv\n",
      "Updated file saved to: 법령별 csv 저장 중복제거\\작은도서관 진흥법.csv\n",
      "Processing : 법령별 csv 저장\\잔류성오염물질 관리법.csv\n",
      "Updated file saved to: 법령별 csv 저장 중복제거\\잔류성오염물질 관리법.csv\n",
      "Processing : 법령별 csv 저장\\잡지 등 정기간행물의 진흥에 관한 법률.csv\n",
      "Updated file saved to: 법령별 csv 저장 중복제거\\잡지 등 정기간행물의 진흥에 관한 법률.csv\n",
      "Processing : 법령별 csv 저장\\장기공공임대주택 입주자 삶의 질 향상 지원법.csv\n",
      "Updated file saved to: 법령별 csv 저장 중복제거\\장기공공임대주택 입주자 삶의 질 향상 지원법.csv\n",
      "Processing : 법령별 csv 저장\\장기등 이식에 관한 법률.csv\n",
      "Updated file saved to: 법령별 csv 저장 중복제거\\장기등 이식에 관한 법률.csv\n",
      "Processing : 법령별 csv 저장\\장사 등에 관한 법률.csv\n",
      "Updated file saved to: 법령별 csv 저장 중복제거\\장사 등에 관한 법률.csv\n",
      "Processing : 법령별 csv 저장\\장애아동 복지지원법.csv\n",
      "Updated file saved to: 법령별 csv 저장 중복제거\\장애아동 복지지원법.csv\n",
      "Processing : 법령별 csv 저장\\장애예술인 문화예술 활동 지원에 관한 법률.csv\n",
      "Updated file saved to: 법령별 csv 저장 중복제거\\장애예술인 문화예술 활동 지원에 관한 법률.csv\n",
      "Processing : 법령별 csv 저장\\장애인 건강권 및 의료접근성 보장에 관한 법률.csv\n",
      "Updated file saved to: 법령별 csv 저장 중복제거\\장애인 건강권 및 의료접근성 보장에 관한 법률.csv\n",
      "Processing : 법령별 csv 저장\\장애인ㆍ고령자 등 주거약자 지원에 관한 법률.csv\n",
      "Updated file saved to: 법령별 csv 저장 중복제거\\장애인ㆍ고령자 등 주거약자 지원에 관한 법률.csv\n",
      "Processing : 법령별 csv 저장\\장애인고용촉진 및 직업재활법.csv\n",
      "Updated file saved to: 법령별 csv 저장 중복제거\\장애인고용촉진 및 직업재활법.csv\n",
      "Processing : 법령별 csv 저장\\장애인기업활동 촉진법.csv\n",
      "Updated file saved to: 법령별 csv 저장 중복제거\\장애인기업활동 촉진법.csv\n",
      "Processing : 법령별 csv 저장\\장애인ㆍ노인 등을 위한 보조기기 지원 및 활용촉진에 관한 법률.csv\n",
      "Updated file saved to: 법령별 csv 저장 중복제거\\장애인ㆍ노인 등을 위한 보조기기 지원 및 활용촉진에 관한 법률.csv\n",
      "Processing : 법령별 csv 저장\\장애인ㆍ노인ㆍ임산부 등의 편의증진 보장에 관한 법률.csv\n",
      "Updated file saved to: 법령별 csv 저장 중복제거\\장애인ㆍ노인ㆍ임산부 등의 편의증진 보장에 관한 법률.csv\n",
      "Processing : 법령별 csv 저장\\장애인 등에 대한 특수교육법.csv\n",
      "Updated file saved to: 법령별 csv 저장 중복제거\\장애인 등에 대한 특수교육법.csv\n",
      "Processing : 법령별 csv 저장\\장애인복지법.csv\n",
      "Updated file saved to: 법령별 csv 저장 중복제거\\장애인복지법.csv\n",
      "Processing : 법령별 csv 저장\\장애인연금법.csv\n",
      "Updated file saved to: 법령별 csv 저장 중복제거\\장애인연금법.csv\n",
      "Processing : 법령별 csv 저장\\장애인차별금지 및 권리구제 등에 관한 법률.csv\n",
      "Updated file saved to: 법령별 csv 저장 중복제거\\장애인차별금지 및 권리구제 등에 관한 법률.csv\n",
      "Processing : 법령별 csv 저장\\장애인활동 지원에 관한 법률.csv\n",
      "Updated file saved to: 법령별 csv 저장 중복제거\\장애인활동 지원에 관한 법률.csv\n",
      "Processing : 법령별 csv 저장\\재건축초과이익 환수에 관한 법률.csv\n",
      "Updated file saved to: 법령별 csv 저장 중복제거\\재건축초과이익 환수에 관한 법률.csv\n",
      "Processing : 법령별 csv 저장\\재난관리자원의 관리 등에 관한 법률.csv\n",
      "Updated file saved to: 법령별 csv 저장 중복제거\\재난관리자원의 관리 등에 관한 법률.csv\n",
      "Processing : 법령별 csv 저장\\재난 및 안전관리 기본법.csv\n",
      "Updated file saved to: 법령별 csv 저장 중복제거\\재난 및 안전관리 기본법.csv\n",
      "Processing : 법령별 csv 저장\\재난안전산업 진흥법.csv\n",
      "Updated file saved to: 법령별 csv 저장 중복제거\\재난안전산업 진흥법.csv\n",
      "Processing : 법령별 csv 저장\\재난안전통신망법.csv\n",
      "Updated file saved to: 법령별 csv 저장 중복제거\\재난안전통신망법.csv\n",
      "Processing : 법령별 csv 저장\\재난적의료비 지원에 관한 법률.csv\n",
      "Updated file saved to: 법령별 csv 저장 중복제거\\재난적의료비 지원에 관한 법률.csv\n",
      "Processing : 법령별 csv 저장\\재외공관 공증법.csv\n",
      "Updated file saved to: 법령별 csv 저장 중복제거\\재외공관 공증법.csv\n",
      "Processing : 법령별 csv 저장\\재외공관 수입금 등 직접사용에 관한 법률.csv\n",
      "Updated file saved to: 법령별 csv 저장 중복제거\\재외공관 수입금 등 직접사용에 관한 법률.csv\n",
      "Processing : 법령별 csv 저장\\재외공관용 재산의 취득ㆍ관리 등에 관한 특례법.csv\n",
      "Updated file saved to: 법령별 csv 저장 중복제거\\재외공관용 재산의 취득ㆍ관리 등에 관한 특례법.csv\n",
      "Processing : 법령별 csv 저장\\재외국민등록법.csv\n",
      "Updated file saved to: 법령별 csv 저장 중복제거\\재외국민등록법.csv\n",
      "Processing : 법령별 csv 저장\\재외국민보호를 위한 영사조력법.csv\n",
      "Updated file saved to: 법령별 csv 저장 중복제거\\재외국민보호를 위한 영사조력법.csv\n",
      "Processing : 법령별 csv 저장\\재외국민의 가족관계등록 창설, 가족관계등록부 정정 및 가족관계등록부 정리에 관한 특례법.csv\n",
      "Updated file saved to: 법령별 csv 저장 중복제거\\재외국민의 가족관계등록 창설, 가족관계등록부 정정 및 가족관계등록부 정리에 관한 특례법.csv\n",
      "Processing : 법령별 csv 저장\\재외국민의 교육지원 등에 관한 법률.csv\n",
      "Updated file saved to: 법령별 csv 저장 중복제거\\재외국민의 교육지원 등에 관한 법률.csv\n",
      "Processing : 법령별 csv 저장\\재외동포기본법.csv\n",
      "Updated file saved to: 법령별 csv 저장 중복제거\\재외동포기본법.csv\n",
      "Processing : 법령별 csv 저장\\재외동포의 출입국과 법적 지위에 관한 법률.csv\n",
      "Updated file saved to: 법령별 csv 저장 중복제거\\재외동포의 출입국과 법적 지위에 관한 법률.csv\n",
      "Processing : 법령별 csv 저장\\재일교포 북송저지 특수임무수행자 보상에 관한 법률.csv\n",
      "Updated file saved to: 법령별 csv 저장 중복제거\\재일교포 북송저지 특수임무수행자 보상에 관한 법률.csv\n",
      "Processing : 법령별 csv 저장\\재한외국인 처우 기본법.csv\n",
      "Updated file saved to: 법령별 csv 저장 중복제거\\재한외국인 처우 기본법.csv\n",
      "Processing : 법령별 csv 저장\\재해경감을 위한 기업의 자율활동 지원에 관한 법률.csv\n",
      "Updated file saved to: 법령별 csv 저장 중복제거\\재해경감을 위한 기업의 자율활동 지원에 관한 법률.csv\n",
      "Processing : 법령별 csv 저장\\재해구호법.csv\n",
      "Updated file saved to: 법령별 csv 저장 중복제거\\재해구호법.csv\n",
      "Processing : 법령별 csv 저장\\재해위험 개선사업 및 이주대책에 관한 특별법.csv\n",
      "Updated file saved to: 법령별 csv 저장 중복제거\\재해위험 개선사업 및 이주대책에 관한 특별법.csv\n",
      "Processing : 법령별 csv 저장\\저수지ㆍ댐의 안전관리 및 재해예방에 관한 법률.csv\n",
      "Updated file saved to: 법령별 csv 저장 중복제거\\저수지ㆍ댐의 안전관리 및 재해예방에 관한 법률.csv\n",
      "Processing : 법령별 csv 저장\\저작권법.csv\n",
      "Updated file saved to: 법령별 csv 저장 중복제거\\저작권법.csv\n",
      "Processing : 법령별 csv 저장\\저출산ㆍ고령사회기본법.csv\n",
      "Updated file saved to: 법령별 csv 저장 중복제거\\저출산ㆍ고령사회기본법.csv\n",
      "Processing : 법령별 csv 저장\\적합성평가 관리 등에 관한 법률.csv\n",
      "Updated file saved to: 법령별 csv 저장 중복제거\\적합성평가 관리 등에 관한 법률.csv\n",
      "Processing : 법령별 csv 저장\\전공의의 수련환경 개선 및 지위 향상을 위한 법률.csv\n",
      "Updated file saved to: 법령별 csv 저장 중복제거\\전공의의 수련환경 개선 및 지위 향상을 위한 법률.csv\n",
      "Processing : 법령별 csv 저장\\전기공사공제조합법.csv\n",
      "Updated file saved to: 법령별 csv 저장 중복제거\\전기공사공제조합법.csv\n",
      "Processing : 법령별 csv 저장\\전기공사업법.csv\n",
      "Updated file saved to: 법령별 csv 저장 중복제거\\전기공사업법.csv\n",
      "Processing : 법령별 csv 저장\\전기사업법.csv\n",
      "Updated file saved to: 법령별 csv 저장 중복제거\\전기사업법.csv\n",
      "Processing : 법령별 csv 저장\\전기산업발전기본법.csv\n",
      "Updated file saved to: 법령별 csv 저장 중복제거\\전기산업발전기본법.csv\n",
      "Processing : 법령별 csv 저장\\전기안전관리법.csv\n",
      "Updated file saved to: 법령별 csv 저장 중복제거\\전기안전관리법.csv\n",
      "Processing : 법령별 csv 저장\\전기용품 및 생활용품 안전관리법.csv\n",
      "Updated file saved to: 법령별 csv 저장 중복제거\\전기용품 및 생활용품 안전관리법.csv\n",
      "Processing : 법령별 csv 저장\\전기ㆍ전자제품 및 자동차의 자원순환에 관한 법률.csv\n",
      "Updated file saved to: 법령별 csv 저장 중복제거\\전기ㆍ전자제품 및 자동차의 자원순환에 관한 법률.csv\n",
      "Processing : 법령별 csv 저장\\전기통신금융사기 피해 방지 및 피해금 환급에 관한 특별법.csv\n",
      "Updated file saved to: 법령별 csv 저장 중복제거\\전기통신금융사기 피해 방지 및 피해금 환급에 관한 특별법.csv\n",
      "Processing : 법령별 csv 저장\\전기통신기본법.csv\n",
      "Updated file saved to: 법령별 csv 저장 중복제거\\전기통신기본법.csv\n",
      "Processing : 법령별 csv 저장\\전기통신사업법.csv\n",
      "Updated file saved to: 법령별 csv 저장 중복제거\\전기통신사업법.csv\n",
      "Processing : 법령별 csv 저장\\전력기술관리법.csv\n",
      "Updated file saved to: 법령별 csv 저장 중복제거\\전력기술관리법.csv\n",
      "Processing : 법령별 csv 저장\\전북특별자치도 설치 및 글로벌생명경제도시 조성을 위한 특별법.csv\n",
      "Updated file saved to: 법령별 csv 저장 중복제거\\전북특별자치도 설치 및 글로벌생명경제도시 조성을 위한 특별법.csv\n",
      "Processing : 법령별 csv 저장\\전사ㆍ순직한 진급예정자의 진급에 관한 특별법.csv\n",
      "Updated file saved to: 법령별 csv 저장 중복제거\\전사ㆍ순직한 진급예정자의 진급에 관한 특별법.csv\n",
      "Processing : 법령별 csv 저장\\전세사기피해자 지원 및 주거안정에 관한 특별법.csv\n",
      "Updated file saved to: 법령별 csv 저장 중복제거\\전세사기피해자 지원 및 주거안정에 관한 특별법.csv\n",
      "Processing : 법령별 csv 저장\\전시산업발전법.csv\n",
      "Updated file saved to: 법령별 csv 저장 중복제거\\전시산업발전법.csv\n",
      "Processing : 법령별 csv 저장\\전원개발촉진법.csv\n",
      "Updated file saved to: 법령별 csv 저장 중복제거\\전원개발촉진법.csv\n",
      "Processing : 법령별 csv 저장\\전자금융거래법.csv\n",
      "Updated file saved to: 법령별 csv 저장 중복제거\\전자금융거래법.csv\n",
      "Processing : 법령별 csv 저장\\전자무역 촉진에 관한 법률.csv\n",
      "Updated file saved to: 법령별 csv 저장 중복제거\\전자무역 촉진에 관한 법률.csv\n",
      "Processing : 법령별 csv 저장\\전자문서 및 전자거래 기본법.csv\n",
      "Updated file saved to: 법령별 csv 저장 중복제거\\전자문서 및 전자거래 기본법.csv\n",
      "Processing : 법령별 csv 저장\\전자상거래 등에서의 소비자보호에 관한 법률.csv\n",
      "Updated file saved to: 법령별 csv 저장 중복제거\\전자상거래 등에서의 소비자보호에 관한 법률.csv\n",
      "Processing : 법령별 csv 저장\\전자서명법.csv\n",
      "Updated file saved to: 법령별 csv 저장 중복제거\\전자서명법.csv\n",
      "Processing : 법령별 csv 저장\\전자어음의 발행 및 유통에 관한 법률.csv\n",
      "Updated file saved to: 법령별 csv 저장 중복제거\\전자어음의 발행 및 유통에 관한 법률.csv\n",
      "Processing : 법령별 csv 저장\\전자장치 부착 등에 관한 법률.csv\n",
      "Updated file saved to: 법령별 csv 저장 중복제거\\전자장치 부착 등에 관한 법률.csv\n",
      "Processing : 법령별 csv 저장\\전자정부법.csv\n",
      "Updated file saved to: 법령별 csv 저장 중복제거\\전자정부법.csv\n",
      "Processing : 법령별 csv 저장\\전자조달의 이용 및 촉진에 관한 법률.csv\n",
      "Updated file saved to: 법령별 csv 저장 중복제거\\전자조달의 이용 및 촉진에 관한 법률.csv\n",
      "Processing : 법령별 csv 저장\\전쟁기념사업회법.csv\n",
      "Updated file saved to: 법령별 csv 저장 중복제거\\전쟁기념사업회법.csv\n",
      "Processing : 법령별 csv 저장\\전직대통령 예우에 관한 법률.csv\n",
      "Updated file saved to: 법령별 csv 저장 중복제거\\전직대통령 예우에 관한 법률.csv\n",
      "Processing : 법령별 csv 저장\\전통무예진흥법.csv\n",
      "Updated file saved to: 법령별 csv 저장 중복제거\\전통무예진흥법.csv\n",
      "Processing : 법령별 csv 저장\\전통문화산업 진흥법.csv\n",
      "Updated file saved to: 법령별 csv 저장 중복제거\\전통문화산업 진흥법.csv\n",
      "Processing : 법령별 csv 저장\\전통사찰의 보존 및 지원에 관한 법률.csv\n",
      "Updated file saved to: 법령별 csv 저장 중복제거\\전통사찰의 보존 및 지원에 관한 법률.csv\n",
      "Processing : 법령별 csv 저장\\전통 소싸움경기에 관한 법률.csv\n",
      "Updated file saved to: 법령별 csv 저장 중복제거\\전통 소싸움경기에 관한 법률.csv\n",
      "Processing : 법령별 csv 저장\\전통시장 및 상점가 육성을 위한 특별법.csv\n",
      "Updated file saved to: 법령별 csv 저장 중복제거\\전통시장 및 상점가 육성을 위한 특별법.csv\n",
      "Processing : 법령별 csv 저장\\전통주 등의 산업진흥에 관한 법률.csv\n",
      "Updated file saved to: 법령별 csv 저장 중복제거\\전통주 등의 산업진흥에 관한 법률.csv\n",
      "Processing : 법령별 csv 저장\\전파법.csv\n",
      "Updated file saved to: 법령별 csv 저장 중복제거\\전파법.csv\n",
      "Processing : 법령별 csv 저장\\점자법.csv\n",
      "Updated file saved to: 법령별 csv 저장 중복제거\\점자법.csv\n",
      "Processing : 법령별 csv 저장\\접경지역 지원 특별법.csv\n",
      "Updated file saved to: 법령별 csv 저장 중복제거\\접경지역 지원 특별법.csv\n",
      "Processing : 법령별 csv 저장\\정당법.csv\n",
      "Updated file saved to: 법령별 csv 저장 중복제거\\정당법.csv\n",
      "Processing : 법령별 csv 저장\\정보보호산업의 진흥에 관한 법률.csv\n",
      "Updated file saved to: 법령별 csv 저장 중복제거\\정보보호산업의 진흥에 관한 법률.csv\n",
      "Processing : 법령별 csv 저장\\정보통신공사업법.csv\n",
      "Updated file saved to: 법령별 csv 저장 중복제거\\정보통신공사업법.csv\n",
      "Processing : 법령별 csv 저장\\정보통신기반 보호법.csv\n",
      "Updated file saved to: 법령별 csv 저장 중복제거\\정보통신기반 보호법.csv\n",
      "Processing : 법령별 csv 저장\\정보통신망 이용촉진 및 정보보호 등에 관한 법률.csv\n",
      "Updated file saved to: 법령별 csv 저장 중복제거\\정보통신망 이용촉진 및 정보보호 등에 관한 법률.csv\n",
      "Processing : 법령별 csv 저장\\정보통신산업 진흥법.csv\n",
      "Updated file saved to: 법령별 csv 저장 중복제거\\정보통신산업 진흥법.csv\n",
      "Processing : 법령별 csv 저장\\정보통신 진흥 및 융합 활성화 등에 관한 특별법.csv\n",
      "Updated file saved to: 법령별 csv 저장 중복제거\\정보통신 진흥 및 융합 활성화 등에 관한 특별법.csv\n",
      "Processing : 법령별 csv 저장\\정부기관 및 공공법인 등의 광고시행에 관한 법률.csv\n",
      "Updated file saved to: 법령별 csv 저장 중복제거\\정부기관 및 공공법인 등의 광고시행에 관한 법률.csv\n",
      "Processing : 법령별 csv 저장\\정부기업예산법.csv\n",
      "Updated file saved to: 법령별 csv 저장 중복제거\\정부기업예산법.csv\n",
      "Processing : 법령별 csv 저장\\정부대표 및 특별사절의 임명과 권한에 관한 법률.csv\n",
      "Updated file saved to: 법령별 csv 저장 중복제거\\정부대표 및 특별사절의 임명과 권한에 관한 법률.csv\n",
      "Processing : 법령별 csv 저장\\정부법무공단법.csv\n",
      "Updated file saved to: 법령별 csv 저장 중복제거\\정부법무공단법.csv\n",
      "Processing : 법령별 csv 저장\\정부보관금에 관한 법률.csv\n",
      "Updated file saved to: 법령별 csv 저장 중복제거\\정부보관금에 관한 법률.csv\n",
      "Processing : 법령별 csv 저장\\정부업무평가 기본법.csv\n",
      "Updated file saved to: 법령별 csv 저장 중복제거\\정부업무평가 기본법.csv\n",
      "Processing : 법령별 csv 저장\\정부조직법.csv\n",
      "Updated file saved to: 법령별 csv 저장 중복제거\\정부조직법.csv\n",
      "Processing : 법령별 csv 저장\\정부출연연구기관 등의 설립ㆍ운영 및 육성에 관한 법률.csv\n",
      "Updated file saved to: 법령별 csv 저장 중복제거\\정부출연연구기관 등의 설립ㆍ운영 및 육성에 관한 법률.csv\n",
      "Processing : 법령별 csv 저장\\정신건강증진 및 정신질환자 복지서비스 지원에 관한 법률.csv\n",
      "Updated file saved to: 법령별 csv 저장 중복제거\\정신건강증진 및 정신질환자 복지서비스 지원에 관한 법률.csv\n",
      "Processing : 법령별 csv 저장\\정치자금법.csv\n",
      "Updated file saved to: 법령별 csv 저장 중복제거\\정치자금법.csv\n",
      "Processing : 법령별 csv 저장\\제2연평해전 전사자 보상에 관한 특별법.csv\n",
      "Updated file saved to: 법령별 csv 저장 중복제거\\제2연평해전 전사자 보상에 관한 특별법.csv\n",
      "Processing : 법령별 csv 저장\\제대군인지원에 관한 법률.csv\n",
      "Updated file saved to: 법령별 csv 저장 중복제거\\제대군인지원에 관한 법률.csv\n",
      "Processing : 법령별 csv 저장\\제대혈 관리 및 연구에 관한 법률.csv\n",
      "Updated file saved to: 법령별 csv 저장 중복제거\\제대혈 관리 및 연구에 관한 법률.csv\n",
      "Processing : 법령별 csv 저장\\제약산업 육성 및 지원에 관한 특별법.csv\n",
      "Updated file saved to: 법령별 csv 저장 중복제거\\제약산업 육성 및 지원에 관한 특별법.csv\n",
      "Processing : 법령별 csv 저장\\제조물 책임법.csv\n",
      "Updated file saved to: 법령별 csv 저장 중복제거\\제조물 책임법.csv\n",
      "Processing : 법령별 csv 저장\\제주4ㆍ3사건 진상규명 및 희생자 명예회복에 관한 특별법.csv\n",
      "Updated file saved to: 법령별 csv 저장 중복제거\\제주4ㆍ3사건 진상규명 및 희생자 명예회복에 관한 특별법.csv\n",
      "Processing : 법령별 csv 저장\\제주특별자치도 설치 및 국제자유도시 조성을 위한 특별법.csv\n",
      "Updated file saved to: 법령별 csv 저장 중복제거\\제주특별자치도 설치 및 국제자유도시 조성을 위한 특별법.csv\n",
      "Processing : 법령별 csv 저장\\제품안전기본법.csv\n",
      "Updated file saved to: 법령별 csv 저장 중복제거\\제품안전기본법.csv\n",
      "Processing : 법령별 csv 저장\\조경진흥법.csv\n",
      "Updated file saved to: 법령별 csv 저장 중복제거\\조경진흥법.csv\n",
      "Processing : 법령별 csv 저장\\조달사업에 관한 법률.csv\n",
      "Updated file saved to: 법령별 csv 저장 중복제거\\조달사업에 관한 법률.csv\n",
      "Processing : 법령별 csv 저장\\조세범 처벌법.csv\n",
      "Updated file saved to: 법령별 csv 저장 중복제거\\조세범 처벌법.csv\n",
      "Processing : 법령별 csv 저장\\조세범 처벌절차법.csv\n",
      "Updated file saved to: 법령별 csv 저장 중복제거\\조세범 처벌절차법.csv\n",
      "Processing : 법령별 csv 저장\\조세특례제한법.csv\n",
      "Updated file saved to: 법령별 csv 저장 중복제거\\조세특례제한법.csv\n",
      "Processing : 법령별 csv 저장\\종자산업법.csv\n",
      "Updated file saved to: 법령별 csv 저장 중복제거\\종자산업법.csv\n",
      "Processing : 법령별 csv 저장\\종합부동산세법.csv\n",
      "Updated file saved to: 법령별 csv 저장 중복제거\\종합부동산세법.csv\n",
      "Processing : 법령별 csv 저장\\주거급여법.csv\n",
      "Updated file saved to: 법령별 csv 저장 중복제거\\주거급여법.csv\n",
      "Processing : 법령별 csv 저장\\주거기본법.csv\n",
      "Updated file saved to: 법령별 csv 저장 중복제거\\주거기본법.csv\n",
      "Processing : 법령별 csv 저장\\주류 면허 등에 관한 법률.csv\n",
      "Updated file saved to: 법령별 csv 저장 중복제거\\주류 면허 등에 관한 법률.csv\n",
      "Processing : 법령별 csv 저장\\주민등록법.csv\n",
      "Updated file saved to: 법령별 csv 저장 중복제거\\주민등록법.csv\n",
      "Processing : 법령별 csv 저장\\주민소환에 관한 법률.csv\n",
      "Updated file saved to: 법령별 csv 저장 중복제거\\주민소환에 관한 법률.csv\n",
      "Processing : 법령별 csv 저장\\주민조례발안에 관한 법률.csv\n",
      "Updated file saved to: 법령별 csv 저장 중복제거\\주민조례발안에 관한 법률.csv\n",
      "Processing : 법령별 csv 저장\\주민투표법.csv\n",
      "Updated file saved to: 법령별 csv 저장 중복제거\\주민투표법.csv\n",
      "Processing : 법령별 csv 저장\\주세법.csv\n",
      "Updated file saved to: 법령별 csv 저장 중복제거\\주세법.csv\n",
      "Processing : 법령별 csv 저장\\주식ㆍ사채 등의 전자등록에 관한 법률.csv\n",
      "Updated file saved to: 법령별 csv 저장 중복제거\\주식ㆍ사채 등의 전자등록에 관한 법률.csv\n",
      "Processing : 법령별 csv 저장\\주식회사 등의 외부감사에 관한 법률.csv\n",
      "Updated file saved to: 법령별 csv 저장 중복제거\\주식회사 등의 외부감사에 관한 법률.csv\n",
      "Processing : 법령별 csv 저장\\주차장법.csv\n",
      "Updated file saved to: 법령별 csv 저장 중복제거\\주차장법.csv\n",
      "Processing : 법령별 csv 저장\\주타이베이 대한민국 대표부와 주한국 타이베이 대표부 간의 소득에 관한 조세의 이중과세 방지와 탈세 예방을 위한 약정의 이행에 관한 법률.csv\n",
      "Updated file saved to: 법령별 csv 저장 중복제거\\주타이베이 대한민국 대표부와 주한국 타이베이 대표부 간의 소득에 관한 조세의 이중과세 방지와 탈세 예방을 위한 약정의 이행에 관한 법률.csv\n",
      "Processing : 법령별 csv 저장\\주택도시기금법.csv\n",
      "Updated file saved to: 법령별 csv 저장 중복제거\\주택도시기금법.csv\n",
      "Processing : 법령별 csv 저장\\주택법.csv\n",
      "Updated file saved to: 법령별 csv 저장 중복제거\\주택법.csv\n",
      "Processing : 법령별 csv 저장\\주택임대차보호법.csv\n",
      "Updated file saved to: 법령별 csv 저장 중복제거\\주택임대차보호법.csv\n",
      "Processing : 법령별 csv 저장\\주한미군 공여구역주변지역 등 지원 특별법.csv\n",
      "Updated file saved to: 법령별 csv 저장 중복제거\\주한미군 공여구역주변지역 등 지원 특별법.csv\n",
      "Processing : 법령별 csv 저장\\주한미군기지 이전에 따른 평택시 등의 지원 등에 관한 특별법.csv\n",
      "Updated file saved to: 법령별 csv 저장 중복제거\\주한미군기지 이전에 따른 평택시 등의 지원 등에 관한 특별법.csv\n",
      "Processing : 법령별 csv 저장\\주한미군 소속 한국인 근로자의 지원을 위한 특별법.csv\n",
      "Updated file saved to: 법령별 csv 저장 중복제거\\주한미군 소속 한국인 근로자의 지원을 위한 특별법.csv\n",
      "Processing : 법령별 csv 저장\\중견기업 성장촉진 및 경쟁력 강화에 관한 특별법.csv\n",
      "Updated file saved to: 법령별 csv 저장 중복제거\\중견기업 성장촉진 및 경쟁력 강화에 관한 특별법.csv\n",
      "Processing : 법령별 csv 저장\\중대재해 처벌 등에 관한 법률.csv\n",
      "Updated file saved to: 법령별 csv 저장 중복제거\\중대재해 처벌 등에 관한 법률.csv\n",
      "Processing : 법령별 csv 저장\\중부내륙연계발전지역 지원에 관한 특별법.csv\n",
      "Updated file saved to: 법령별 csv 저장 중복제거\\중부내륙연계발전지역 지원에 관한 특별법.csv\n",
      "Processing : 법령별 csv 저장\\중소기업기본법.csv\n",
      "Updated file saved to: 법령별 csv 저장 중복제거\\중소기업기본법.csv\n",
      "Processing : 법령별 csv 저장\\중소기업기술 보호 지원에 관한 법률.csv\n",
      "Updated file saved to: 법령별 csv 저장 중복제거\\중소기업기술 보호 지원에 관한 법률.csv\n",
      "Processing : 법령별 csv 저장\\중소기업 기술혁신 촉진법.csv\n",
      "Updated file saved to: 법령별 csv 저장 중복제거\\중소기업 기술혁신 촉진법.csv\n",
      "Processing : 법령별 csv 저장\\중소기업 사업전환 촉진에 관한 특별법.csv\n",
      "Updated file saved to: 법령별 csv 저장 중복제거\\중소기업 사업전환 촉진에 관한 특별법.csv\n",
      "Processing : 법령별 csv 저장\\중소기업 스마트제조혁신 촉진에 관한 법률.csv\n",
      "Updated file saved to: 법령별 csv 저장 중복제거\\중소기업 스마트제조혁신 촉진에 관한 법률.csv\n",
      "Processing : 법령별 csv 저장\\중소기업은행법.csv\n",
      "Updated file saved to: 법령별 csv 저장 중복제거\\중소기업은행법.csv\n",
      "Processing : 법령별 csv 저장\\중소기업 인력지원 특별법.csv\n",
      "Updated file saved to: 법령별 csv 저장 중복제거\\중소기업 인력지원 특별법.csv\n",
      "Processing : 법령별 csv 저장\\중소기업제품 구매촉진 및 판로지원에 관한 법률.csv\n",
      "Updated file saved to: 법령별 csv 저장 중복제거\\중소기업제품 구매촉진 및 판로지원에 관한 법률.csv\n",
      "Processing : 법령별 csv 저장\\중소기업진흥에 관한 법률.csv\n",
      "Updated file saved to: 법령별 csv 저장 중복제거\\중소기업진흥에 관한 법률.csv\n",
      "Processing : 법령별 csv 저장\\중소기업창업 지원법.csv\n",
      "Updated file saved to: 법령별 csv 저장 중복제거\\중소기업창업 지원법.csv\n",
      "Processing : 법령별 csv 저장\\중소기업협동조합법.csv\n",
      "Updated file saved to: 법령별 csv 저장 중복제거\\중소기업협동조합법.csv\n",
      "Processing : 법령별 csv 저장\\중앙지방협력회의의 구성 및 운영에 관한 법률.csv\n",
      "Updated file saved to: 법령별 csv 저장 중복제거\\중앙지방협력회의의 구성 및 운영에 관한 법률.csv\n",
      "Processing : 법령별 csv 저장\\중재법.csv\n",
      "Updated file saved to: 법령별 csv 저장 중복제거\\중재법.csv\n",
      "Processing : 법령별 csv 저장\\중재산업 진흥에 관한 법률.csv\n",
      "Updated file saved to: 법령별 csv 저장 중복제거\\중재산업 진흥에 관한 법률.csv\n",
      "Processing : 법령별 csv 저장\\중ㆍ저준위 방사성폐기물 처분시설의 유치지역지원에 관한 특별법.csv\n",
      "Updated file saved to: 법령별 csv 저장 중복제거\\중ㆍ저준위 방사성폐기물 처분시설의 유치지역지원에 관한 특별법.csv\n",
      "Processing : 법령별 csv 저장\\중증장애인생산품 우선구매 특별법.csv\n",
      "Updated file saved to: 법령별 csv 저장 중복제거\\중증장애인생산품 우선구매 특별법.csv\n",
      "Processing : 법령별 csv 저장\\즉결심판에 관한 절차법.csv\n",
      "Updated file saved to: 법령별 csv 저장 중복제거\\즉결심판에 관한 절차법.csv\n",
      "Processing : 법령별 csv 저장\\증권거래세법.csv\n",
      "Updated file saved to: 법령별 csv 저장 중복제거\\증권거래세법.csv\n",
      "Processing : 법령별 csv 저장\\증권관련 집단소송법.csv\n",
      "Updated file saved to: 법령별 csv 저장 중복제거\\증권관련 집단소송법.csv\n",
      "Processing : 법령별 csv 저장\\증권에 의한 세입납부에 관한 법률.csv\n",
      "Updated file saved to: 법령별 csv 저장 중복제거\\증권에 의한 세입납부에 관한 법률.csv\n",
      "Processing : 법령별 csv 저장\\지능정보화 기본법.csv\n",
      "Updated file saved to: 법령별 csv 저장 중복제거\\지능정보화 기본법.csv\n",
      "Processing : 법령별 csv 저장\\지능형 로봇 개발 및 보급 촉진법.csv\n",
      "Updated file saved to: 법령별 csv 저장 중복제거\\지능형 로봇 개발 및 보급 촉진법.csv\n",
      "Processing : 법령별 csv 저장\\지능형전력망의 구축 및 이용촉진에 관한 법률.csv\n",
      "Updated file saved to: 법령별 csv 저장 중복제거\\지능형전력망의 구축 및 이용촉진에 관한 법률.csv\n",
      "Processing : 법령별 csv 저장\\지능형 해상교통정보서비스의 제공 및 이용 활성화에 관한 법률.csv\n",
      "Updated file saved to: 법령별 csv 저장 중복제거\\지능형 해상교통정보서비스의 제공 및 이용 활성화에 관한 법률.csv\n",
      "Processing : 법령별 csv 저장\\지뢰 등 특정 재래식무기 사용 및 이전의 규제에 관한 법률.csv\n",
      "Updated file saved to: 법령별 csv 저장 중복제거\\지뢰 등 특정 재래식무기 사용 및 이전의 규제에 관한 법률.csv\n",
      "Processing : 법령별 csv 저장\\지뢰의 제거 등 지뢰대응활동에 관한 법률.csv\n",
      "Updated file saved to: 법령별 csv 저장 중복제거\\지뢰의 제거 등 지뢰대응활동에 관한 법률.csv\n",
      "Processing : 법령별 csv 저장\\지뢰피해자 지원에 관한 특별법.csv\n",
      "Updated file saved to: 법령별 csv 저장 중복제거\\지뢰피해자 지원에 관한 특별법.csv\n",
      "Processing : 법령별 csv 저장\\지방공기업법.csv\n",
      "Updated file saved to: 법령별 csv 저장 중복제거\\지방공기업법.csv\n",
      "Processing : 법령별 csv 저장\\지방공무원 교육훈련법.csv\n",
      "Updated file saved to: 법령별 csv 저장 중복제거\\지방공무원 교육훈련법.csv\n",
      "Processing : 법령별 csv 저장\\지방공무원법.csv\n",
      "Updated file saved to: 법령별 csv 저장 중복제거\\지방공무원법.csv\n",
      "Processing : 법령별 csv 저장\\지방교부세법.csv\n",
      "Updated file saved to: 법령별 csv 저장 중복제거\\지방교부세법.csv\n",
      "Processing : 법령별 csv 저장\\지방교육자치에 관한 법률.csv\n",
      "Updated file saved to: 법령별 csv 저장 중복제거\\지방교육자치에 관한 법률.csv\n",
      "Processing : 법령별 csv 저장\\지방교육재정교부금법.csv\n",
      "Updated file saved to: 법령별 csv 저장 중복제거\\지방교육재정교부금법.csv\n",
      "Processing : 법령별 csv 저장\\지방대학 및 지역균형인재 육성에 관한 법률.csv\n",
      "Updated file saved to: 법령별 csv 저장 중복제거\\지방대학 및 지역균형인재 육성에 관한 법률.csv\n",
      "Processing : 법령별 csv 저장\\지방문화원진흥법.csv\n",
      "Updated file saved to: 법령별 csv 저장 중복제거\\지방문화원진흥법.csv\n",
      "Processing : 법령별 csv 저장\\지방세기본법.csv\n",
      "Updated file saved to: 법령별 csv 저장 중복제거\\지방세기본법.csv\n",
      "Processing : 법령별 csv 저장\\지방세법.csv\n",
      "Updated file saved to: 법령별 csv 저장 중복제거\\지방세법.csv\n",
      "Processing : 법령별 csv 저장\\지방세징수법.csv\n",
      "Updated file saved to: 법령별 csv 저장 중복제거\\지방세징수법.csv\n",
      "Processing : 법령별 csv 저장\\지방세특례제한법.csv\n",
      "Updated file saved to: 법령별 csv 저장 중복제거\\지방세특례제한법.csv\n",
      "Processing : 법령별 csv 저장\\지방소도읍 육성 지원법.csv\n",
      "Updated file saved to: 법령별 csv 저장 중복제거\\지방소도읍 육성 지원법.csv\n",
      "Processing : 법령별 csv 저장\\지방의료원의 설립 및 운영에 관한 법률.csv\n",
      "Updated file saved to: 법령별 csv 저장 중복제거\\지방의료원의 설립 및 운영에 관한 법률.csv\n",
      "Processing : 법령별 csv 저장\\지방자치단체 기금관리기본법.csv\n",
      "Updated file saved to: 법령별 csv 저장 중복제거\\지방자치단체 기금관리기본법.csv\n",
      "Processing : 법령별 csv 저장\\지방자치단체를 당사자로 하는 계약에 관한 법률.csv\n",
      "Updated file saved to: 법령별 csv 저장 중복제거\\지방자치단체를 당사자로 하는 계약에 관한 법률.csv\n",
      "Processing : 법령별 csv 저장\\지방자치단체 보조금 관리에 관한 법률.csv\n",
      "Updated file saved to: 법령별 csv 저장 중복제거\\지방자치단체 보조금 관리에 관한 법률.csv\n",
      "Processing : 법령별 csv 저장\\지방자치단체에 두는 국가공무원의 정원에 관한 법률.csv\n",
      "Updated file saved to: 법령별 csv 저장 중복제거\\지방자치단체에 두는 국가공무원의 정원에 관한 법률.csv\n",
      "Processing : 법령별 csv 저장\\지방자치단체출연 연구원의 설립 및 운영에 관한 법률.csv\n",
      "Updated file saved to: 법령별 csv 저장 중복제거\\지방자치단체출연 연구원의 설립 및 운영에 관한 법률.csv\n",
      "Processing : 법령별 csv 저장\\지방자치단체 출자ㆍ출연 기관의 운영에 관한 법률.csv\n",
      "Updated file saved to: 법령별 csv 저장 중복제거\\지방자치단체 출자ㆍ출연 기관의 운영에 관한 법률.csv\n",
      "Processing : 법령별 csv 저장\\지방자치법.csv\n",
      "Updated file saved to: 법령별 csv 저장 중복제거\\지방자치법.csv\n",
      "Processing : 법령별 csv 저장\\지방자치분권 및 지역균형발전에 관한 특별법.csv\n",
      "Updated file saved to: 법령별 csv 저장 중복제거\\지방자치분권 및 지역균형발전에 관한 특별법.csv\n",
      "Processing : 법령별 csv 저장\\지방재정법.csv\n",
      "Updated file saved to: 법령별 csv 저장 중복제거\\지방재정법.csv\n",
      "Processing : 법령별 csv 저장\\지방행정동우회법.csv\n",
      "Updated file saved to: 법령별 csv 저장 중복제거\\지방행정동우회법.csv\n",
      "Processing : 법령별 csv 저장\\지방행정제재ㆍ부과금의 징수 등에 관한 법률.csv\n",
      "Updated file saved to: 법령별 csv 저장 중복제거\\지방행정제재ㆍ부과금의 징수 등에 관한 법률.csv\n",
      "Processing : 법령별 csv 저장\\지방회계법.csv\n",
      "Updated file saved to: 법령별 csv 저장 중복제거\\지방회계법.csv\n",
      "Processing : 법령별 csv 저장\\지속가능 교통물류 발전법.csv\n",
      "Updated file saved to: 법령별 csv 저장 중복제거\\지속가능 교통물류 발전법.csv\n",
      "Processing : 법령별 csv 저장\\지속가능발전 기본법.csv\n",
      "Updated file saved to: 법령별 csv 저장 중복제거\\지속가능발전 기본법.csv\n",
      "Processing : 법령별 csv 저장\\지속가능한 기반시설 관리 기본법.csv\n",
      "Updated file saved to: 법령별 csv 저장 중복제거\\지속가능한 기반시설 관리 기본법.csv\n",
      "Processing : 법령별 csv 저장\\지식재산 기본법.csv\n",
      "Updated file saved to: 법령별 csv 저장 중복제거\\지식재산 기본법.csv\n",
      "Processing : 법령별 csv 저장\\지역 개발 및 지원에 관한 법률.csv\n",
      "Updated file saved to: 법령별 csv 저장 중복제거\\지역 개발 및 지원에 관한 법률.csv\n",
      "Processing : 법령별 csv 저장\\지역농림어업 발전사업 협력 촉진에 관한 법률.csv\n",
      "Updated file saved to: 법령별 csv 저장 중복제거\\지역농림어업 발전사업 협력 촉진에 관한 법률.csv\n",
      "Processing : 법령별 csv 저장\\지역농산물 이용촉진 등 농산물 직거래 활성화에 관한 법률.csv\n",
      "Updated file saved to: 법령별 csv 저장 중복제거\\지역농산물 이용촉진 등 농산물 직거래 활성화에 관한 법률.csv\n",
      "Processing : 법령별 csv 저장\\지역문화진흥법.csv\n",
      "Updated file saved to: 법령별 csv 저장 중복제거\\지역문화진흥법.csv\n",
      "Processing : 법령별 csv 저장\\지역방송발전지원 특별법.csv\n",
      "Updated file saved to: 법령별 csv 저장 중복제거\\지역방송발전지원 특별법.csv\n",
      "Processing : 법령별 csv 저장\\지역보건법.csv\n",
      "Updated file saved to: 법령별 csv 저장 중복제거\\지역보건법.csv\n",
      "Processing : 법령별 csv 저장\\지역사랑상품권 이용 활성화에 관한 법률.csv\n",
      "Updated file saved to: 법령별 csv 저장 중복제거\\지역사랑상품권 이용 활성화에 관한 법률.csv\n",
      "Processing : 법령별 csv 저장\\지역 산업위기 대응 및 지역경제 회복을 위한 특별법.csv\n",
      "Updated file saved to: 법령별 csv 저장 중복제거\\지역 산업위기 대응 및 지역경제 회복을 위한 특별법.csv\n",
      "Processing : 법령별 csv 저장\\지역상권 상생 및 활성화에 관한 법률.csv\n",
      "Updated file saved to: 법령별 csv 저장 중복제거\\지역상권 상생 및 활성화에 관한 법률.csv\n",
      "Processing : 법령별 csv 저장\\지역신문발전지원 특별법.csv\n",
      "Updated file saved to: 법령별 csv 저장 중복제거\\지역신문발전지원 특별법.csv\n",
      "Processing : 법령별 csv 저장\\지역신용보증재단법.csv\n",
      "Updated file saved to: 법령별 csv 저장 중복제거\\지역신용보증재단법.csv\n",
      "Processing : 법령별 csv 저장\\지역중소기업 육성 및 혁신촉진 등에 관한 법률.csv\n",
      "Updated file saved to: 법령별 csv 저장 중복제거\\지역중소기업 육성 및 혁신촉진 등에 관한 법률.csv\n",
      "Processing : 법령별 csv 저장\\지역특화작목 연구개발 및 육성에 관한 법률.csv\n",
      "Updated file saved to: 법령별 csv 저장 중복제거\\지역특화작목 연구개발 및 육성에 관한 법률.csv\n",
      "Processing : 법령별 csv 저장\\지적재조사에 관한 특별법.csv\n",
      "Updated file saved to: 법령별 csv 저장 중복제거\\지적재조사에 관한 특별법.csv\n",
      "Processing : 법령별 csv 저장\\지진ㆍ지진해일ㆍ화산의 관측 및 경보에 관한 법률.csv\n",
      "Updated file saved to: 법령별 csv 저장 중복제거\\지진ㆍ지진해일ㆍ화산의 관측 및 경보에 관한 법률.csv\n",
      "Processing : 법령별 csv 저장\\지진ㆍ화산재해대책법.csv\n",
      "Updated file saved to: 법령별 csv 저장 중복제거\\지진ㆍ화산재해대책법.csv\n",
      "Processing : 법령별 csv 저장\\지하수법.csv\n",
      "Updated file saved to: 법령별 csv 저장 중복제거\\지하수법.csv\n",
      "Processing : 법령별 csv 저장\\지하안전관리에 관한 특별법.csv\n",
      "Updated file saved to: 법령별 csv 저장 중복제거\\지하안전관리에 관한 특별법.csv\n",
      "Processing : 법령별 csv 저장\\직능인 경제활동 지원에 관한 법률.csv\n",
      "Updated file saved to: 법령별 csv 저장 중복제거\\직능인 경제활동 지원에 관한 법률.csv\n",
      "Processing : 법령별 csv 저장\\직업교육훈련 촉진법.csv\n",
      "Updated file saved to: 법령별 csv 저장 중복제거\\직업교육훈련 촉진법.csv\n",
      "Processing : 법령별 csv 저장\\직업안정법.csv\n",
      "Updated file saved to: 법령별 csv 저장 중복제거\\직업안정법.csv\n",
      "Processing : 법령별 csv 저장\\진로교육법.csv\n",
      "Updated file saved to: 법령별 csv 저장 중복제거\\진로교육법.csv\n",
      "Processing : 법령별 csv 저장\\진실ㆍ화해를 위한 과거사정리 기본법.csv\n",
      "Updated file saved to: 법령별 csv 저장 중복제거\\진실ㆍ화해를 위한 과거사정리 기본법.csv\n",
      "Processing : 법령별 csv 저장\\진폐의 예방과 진폐근로자의 보호 등에 관한 법률.csv\n",
      "Updated file saved to: 법령별 csv 저장 중복제거\\진폐의 예방과 진폐근로자의 보호 등에 관한 법률.csv\n",
      "Processing : 법령별 csv 저장\\질서위반행위규제법.csv\n",
      "Updated file saved to: 법령별 csv 저장 중복제거\\질서위반행위규제법.csv\n",
      "Processing : 법령별 csv 저장\\집단에너지사업법.csv\n",
      "Updated file saved to: 법령별 csv 저장 중복제거\\집단에너지사업법.csv\n",
      "Processing : 법령별 csv 저장\\집합건물의 소유 및 관리에 관한 법률.csv\n",
      "Updated file saved to: 법령별 csv 저장 중복제거\\집합건물의 소유 및 관리에 관한 법률.csv\n",
      "Processing : 법령별 csv 저장\\집행관법.csv\n",
      "Updated file saved to: 법령별 csv 저장 중복제거\\집행관법.csv\n",
      "Processing : 법령별 csv 저장\\집회 및 시위에 관한 법률.csv\n",
      "Updated file saved to: 법령별 csv 저장 중복제거\\집회 및 시위에 관한 법률.csv\n",
      "Processing : 법령별 csv 저장\\징발법.csv\n",
      "Updated file saved to: 법령별 csv 저장 중복제거\\징발법.csv\n",
      "Processing : 법령별 csv 저장\\징발재산 정리에 관한 특별조치법.csv\n",
      "Updated file saved to: 법령별 csv 저장 중복제거\\징발재산 정리에 관한 특별조치법.csv\n",
      "Processing : 법령별 csv 저장\\차산업 발전 및 차문화 진흥에 관한 법률.csv\n",
      "Updated file saved to: 법령별 csv 저장 중복제거\\차산업 발전 및 차문화 진흥에 관한 법률.csv\n",
      "Processing : 법령별 csv 저장\\참전유공자 예우 및 단체설립에 관한 법률.csv\n",
      "Updated file saved to: 법령별 csv 저장 중복제거\\참전유공자 예우 및 단체설립에 관한 법률.csv\n",
      "Processing : 법령별 csv 저장\\채권의 공정한 추심에 관한 법률.csv\n",
      "Updated file saved to: 법령별 csv 저장 중복제거\\채권의 공정한 추심에 관한 법률.csv\n",
      "Processing : 법령별 csv 저장\\채무자 회생 및 파산에 관한 법률.csv\n",
      "Updated file saved to: 법령별 csv 저장 중복제거\\채무자 회생 및 파산에 관한 법률.csv\n",
      "Processing : 법령별 csv 저장\\채용절차의 공정화에 관한 법률.csv\n",
      "Updated file saved to: 법령별 csv 저장 중복제거\\채용절차의 공정화에 관한 법률.csv\n",
      "Processing : 법령별 csv 저장\\책임운영기관의 설치ㆍ운영에 관한 법률.csv\n",
      "Updated file saved to: 법령별 csv 저장 중복제거\\책임운영기관의 설치ㆍ운영에 관한 법률.csv\n",
      "Processing : 법령별 csv 저장\\천문법.csv\n",
      "Updated file saved to: 법령별 csv 저장 중복제거\\천문법.csv\n",
      "Processing : 법령별 csv 저장\\천안함 피격사건 피해구제 및 지원 등을 위한 특별법.csv\n",
      "Updated file saved to: 법령별 csv 저장 중복제거\\천안함 피격사건 피해구제 및 지원 등을 위한 특별법.csv\n",
      "Processing : 법령별 csv 저장\\천연물신약 연구개발 촉진법.csv\n",
      "Updated file saved to: 법령별 csv 저장 중복제거\\천연물신약 연구개발 촉진법.csv\n",
      "Processing : 법령별 csv 저장\\철도물류산업의 육성 및 지원에 관한 법률.csv\n",
      "Updated file saved to: 법령별 csv 저장 중복제거\\철도물류산업의 육성 및 지원에 관한 법률.csv\n",
      "Processing : 법령별 csv 저장\\철도사업법.csv\n",
      "Updated file saved to: 법령별 csv 저장 중복제거\\철도사업법.csv\n",
      "Processing : 법령별 csv 저장\\철도산업발전기본법.csv\n",
      "Updated file saved to: 법령별 csv 저장 중복제거\\철도산업발전기본법.csv\n",
      "Processing : 법령별 csv 저장\\철도안전법.csv\n",
      "Updated file saved to: 법령별 csv 저장 중복제거\\철도안전법.csv\n",
      "Processing : 법령별 csv 저장\\철도의 건설 및 철도시설 유지관리에 관한 법률.csv\n",
      "Updated file saved to: 법령별 csv 저장 중복제거\\철도의 건설 및 철도시설 유지관리에 관한 법률.csv\n",
      "Processing : 법령별 csv 저장\\철도지하화 및 철도부지 통합개발에 관한 특별법.csv\n",
      "Updated file saved to: 법령별 csv 저장 중복제거\\철도지하화 및 철도부지 통합개발에 관한 특별법.csv\n",
      "Processing : 법령별 csv 저장\\첨단산업 인재혁신 특별법.csv\n",
      "Updated file saved to: 법령별 csv 저장 중복제거\\첨단산업 인재혁신 특별법.csv\n",
      "Processing : 법령별 csv 저장\\첨단의료복합단지 육성에 관한 특별법.csv\n",
      "Updated file saved to: 법령별 csv 저장 중복제거\\첨단의료복합단지 육성에 관한 특별법.csv\n",
      "Processing : 법령별 csv 저장\\첨단재생의료 및 첨단바이오의약품 안전 및 지원에 관한 법률.csv\n",
      "Updated file saved to: 법령별 csv 저장 중복제거\\첨단재생의료 및 첨단바이오의약품 안전 및 지원에 관한 법률.csv\n",
      "Processing : 법령별 csv 저장\\청년고용촉진 특별법.csv\n",
      "Updated file saved to: 법령별 csv 저장 중복제거\\청년고용촉진 특별법.csv\n",
      "Processing : 법령별 csv 저장\\청년기본법.csv\n",
      "Updated file saved to: 법령별 csv 저장 중복제거\\청년기본법.csv\n",
      "Processing : 법령별 csv 저장\\청소년 기본법.csv\n",
      "Updated file saved to: 법령별 csv 저장 중복제거\\청소년 기본법.csv\n",
      "Processing : 법령별 csv 저장\\청소년 보호법.csv\n",
      "Updated file saved to: 법령별 csv 저장 중복제거\\청소년 보호법.csv\n",
      "Processing : 법령별 csv 저장\\청소년복지 지원법.csv\n",
      "Updated file saved to: 법령별 csv 저장 중복제거\\청소년복지 지원법.csv\n",
      "Processing : 법령별 csv 저장\\청소년활동 진흥법.csv\n",
      "Updated file saved to: 법령별 csv 저장 중복제거\\청소년활동 진흥법.csv\n",
      "Processing : 법령별 csv 저장\\청원경찰법.csv\n",
      "Updated file saved to: 법령별 csv 저장 중복제거\\청원경찰법.csv\n",
      "Processing : 법령별 csv 저장\\청원법.csv\n",
      "Updated file saved to: 법령별 csv 저장 중복제거\\청원법.csv\n",
      "Processing : 법령별 csv 저장\\청원산림보호직원 배치에 관한 법률.csv\n",
      "Updated file saved to: 법령별 csv 저장 중복제거\\청원산림보호직원 배치에 관한 법률.csv\n",
      "Processing : 법령별 csv 저장\\체외진단의료기기법.csv\n",
      "Updated file saved to: 법령별 csv 저장 중복제거\\체외진단의료기기법.csv\n",
      "Processing : 법령별 csv 저장\\체육시설의 설치ㆍ이용에 관한 법률.csv\n",
      "Updated file saved to: 법령별 csv 저장 중복제거\\체육시설의 설치ㆍ이용에 관한 법률.csv\n",
      "Processing : 법령별 csv 저장\\체육인 복지법.csv\n",
      "Updated file saved to: 법령별 csv 저장 중복제거\\체육인 복지법.csv\n",
      "Processing : 법령별 csv 저장\\초고층 및 지하연계 복합건축물 재난관리에 관한 특별법.csv\n",
      "Updated file saved to: 법령별 csv 저장 중복제거\\초고층 및 지하연계 복합건축물 재난관리에 관한 특별법.csv\n",
      "Processing : 법령별 csv 저장\\초ㆍ중등교육법.csv\n",
      "Updated file saved to: 법령별 csv 저장 중복제거\\초ㆍ중등교육법.csv\n",
      "Processing : 법령별 csv 저장\\초지법.csv\n",
      "Updated file saved to: 법령별 csv 저장 중복제거\\초지법.csv\n",
      "Processing : 법령별 csv 저장\\총포ㆍ도검ㆍ화약류 등의 안전관리에 관한 법률.csv\n",
      "Updated file saved to: 법령별 csv 저장 중복제거\\총포ㆍ도검ㆍ화약류 등의 안전관리에 관한 법률.csv\n",
      "Processing : 법령별 csv 저장\\최저임금법.csv\n",
      "Updated file saved to: 법령별 csv 저장 중복제거\\최저임금법.csv\n",
      "Processing : 법령별 csv 저장\\축사의 부동산등기에 관한 특례법.csv\n",
      "Updated file saved to: 법령별 csv 저장 중복제거\\축사의 부동산등기에 관한 특례법.csv\n",
      "Processing : 법령별 csv 저장\\축산계열화사업에 관한 법률.csv\n",
      "Updated file saved to: 법령별 csv 저장 중복제거\\축산계열화사업에 관한 법률.csv\n",
      "Processing : 법령별 csv 저장\\축산물 위생관리법.csv\n",
      "Updated file saved to: 법령별 csv 저장 중복제거\\축산물 위생관리법.csv\n",
      "Processing : 법령별 csv 저장\\축산법.csv\n",
      "Updated file saved to: 법령별 csv 저장 중복제거\\축산법.csv\n",
      "Processing : 법령별 csv 저장\\축산자조금의 조성 및 운용에 관한 법률.csv\n",
      "Updated file saved to: 법령별 csv 저장 중복제거\\축산자조금의 조성 및 운용에 관한 법률.csv\n",
      "Processing : 법령별 csv 저장\\출입국관리법.csv\n",
      "Updated file saved to: 법령별 csv 저장 중복제거\\출입국관리법.csv\n",
      "Processing : 법령별 csv 저장\\출판문화산업 진흥법.csv\n",
      "Updated file saved to: 법령별 csv 저장 중복제거\\출판문화산업 진흥법.csv\n",
      "Processing : 법령별 csv 저장\\충청북도 청주시 설치 및 지원특례에 관한 법률.csv\n",
      "Updated file saved to: 법령별 csv 저장 중복제거\\충청북도 청주시 설치 및 지원특례에 관한 법률.csv\n",
      "Processing : 법령별 csv 저장\\취업 후 학자금 상환 특별법.csv\n",
      "Updated file saved to: 법령별 csv 저장 중복제거\\취업 후 학자금 상환 특별법.csv\n",
      "Processing : 법령별 csv 저장\\치료감호 등에 관한 법률.csv\n",
      "Updated file saved to: 법령별 csv 저장 중복제거\\치료감호 등에 관한 법률.csv\n",
      "Processing : 법령별 csv 저장\\치매관리법.csv\n",
      "Updated file saved to: 법령별 csv 저장 중복제거\\치매관리법.csv\n",
      "Processing : 법령별 csv 저장\\치유농업 연구개발 및 육성에 관한 법률.csv\n",
      "Updated file saved to: 법령별 csv 저장 중복제거\\치유농업 연구개발 및 육성에 관한 법률.csv\n",
      "Processing : 법령별 csv 저장\\친수구역 활용에 관한 특별법.csv\n",
      "Updated file saved to: 법령별 csv 저장 중복제거\\친수구역 활용에 관한 특별법.csv\n",
      "Processing : 법령별 csv 저장\\친일반민족행위자 재산의 국가귀속에 관한 특별법.csv\n",
      "Updated file saved to: 법령별 csv 저장 중복제거\\친일반민족행위자 재산의 국가귀속에 관한 특별법.csv\n",
      "Processing : 법령별 csv 저장\\친환경농어업 육성 및 유기식품 등의 관리ㆍ지원에 관한 법률.csv\n",
      "Updated file saved to: 법령별 csv 저장 중복제거\\친환경농어업 육성 및 유기식품 등의 관리ㆍ지원에 관한 법률.csv\n",
      "Processing : 법령별 csv 저장\\콘텐츠산업 진흥법.csv\n",
      "Updated file saved to: 법령별 csv 저장 중복제거\\콘텐츠산업 진흥법.csv\n",
      "Processing : 법령별 csv 저장\\크루즈산업의 육성 및 지원에 관한 법률.csv\n",
      "Updated file saved to: 법령별 csv 저장 중복제거\\크루즈산업의 육성 및 지원에 관한 법률.csv\n",
      "Processing : 법령별 csv 저장\\클라우드컴퓨팅 발전 및 이용자 보호에 관한 법률.csv\n",
      "Updated file saved to: 법령별 csv 저장 중복제거\\클라우드컴퓨팅 발전 및 이용자 보호에 관한 법률.csv\n",
      "Processing : 법령별 csv 저장\\탄소소재 융복합기술 개발 및 기반 조성 지원에 관한 법률.csv\n",
      "Updated file saved to: 법령별 csv 저장 중복제거\\탄소소재 융복합기술 개발 및 기반 조성 지원에 관한 법률.csv\n",
      "Processing : 법령별 csv 저장\\탄소흡수원 유지 및 증진에 관한 법률.csv\n",
      "Updated file saved to: 법령별 csv 저장 중복제거\\탄소흡수원 유지 및 증진에 관한 법률.csv\n",
      "Processing : 법령별 csv 저장\\태권도 진흥 및 태권도공원 조성 등에 관한 법률.csv\n",
      "Updated file saved to: 법령별 csv 저장 중복제거\\태권도 진흥 및 태권도공원 조성 등에 관한 법률.csv\n",
      "Processing : 법령별 csv 저장\\택시운송사업의 발전에 관한 법률.csv\n",
      "Updated file saved to: 법령별 csv 저장 중복제거\\택시운송사업의 발전에 관한 법률.csv\n",
      "Processing : 법령별 csv 저장\\택지개발촉진법.csv\n",
      "Updated file saved to: 법령별 csv 저장 중복제거\\택지개발촉진법.csv\n",
      "Processing : 법령별 csv 저장\\토양환경보전법.csv\n",
      "Updated file saved to: 법령별 csv 저장 중복제거\\토양환경보전법.csv\n",
      "Processing : 법령별 csv 저장\\토지이용규제 기본법.csv\n",
      "Updated file saved to: 법령별 csv 저장 중복제거\\토지이용규제 기본법.csv\n",
      "Processing : 법령별 csv 저장\\토지이용 인ㆍ허가 절차 간소화를 위한 특별법.csv\n",
      "Updated file saved to: 법령별 csv 저장 중복제거\\토지이용 인ㆍ허가 절차 간소화를 위한 특별법.csv\n",
      "Processing : 법령별 csv 저장\\통계법.csv\n",
      "Updated file saved to: 법령별 csv 저장 중복제거\\통계법.csv\n",
      "Processing : 법령별 csv 저장\\통상조약의 체결절차 및 이행에 관한 법률.csv\n",
      "Updated file saved to: 법령별 csv 저장 중복제거\\통상조약의 체결절차 및 이행에 관한 법률.csv\n",
      "Processing : 법령별 csv 저장\\통상환경변화 대응 및 지원 등에 관한 법률.csv\n",
      "Updated file saved to: 법령별 csv 저장 중복제거\\통상환경변화 대응 및 지원 등에 관한 법률.csv\n",
      "Processing : 법령별 csv 저장\\통신비밀보호법.csv\n",
      "Updated file saved to: 법령별 csv 저장 중복제거\\통신비밀보호법.csv\n",
      "Processing : 법령별 csv 저장\\통일교육 지원법.csv\n",
      "Updated file saved to: 법령별 csv 저장 중복제거\\통일교육 지원법.csv\n",
      "Processing : 법령별 csv 저장\\통합방위법.csv\n",
      "Updated file saved to: 법령별 csv 저장 중복제거\\통합방위법.csv\n",
      "Processing : 법령별 csv 저장\\퇴직교원 평생교육활동 지원법.csv\n",
      "Updated file saved to: 법령별 csv 저장 중복제거\\퇴직교원 평생교육활동 지원법.csv\n",
      "Processing : 법령별 csv 저장\\특별감찰관법.csv\n",
      "Updated file saved to: 법령별 csv 저장 중복제거\\특별감찰관법.csv\n",
      "Processing : 법령별 csv 저장\\특별검사의 임명 등에 관한 법률.csv\n",
      "Updated file saved to: 법령별 csv 저장 중복제거\\특별검사의 임명 등에 관한 법률.csv\n",
      "Processing : 법령별 csv 저장\\특수외국어 교육 진흥에 관한 법률.csv\n",
      "Updated file saved to: 법령별 csv 저장 중복제거\\특수외국어 교육 진흥에 관한 법률.csv\n",
      "Processing : 법령별 csv 저장\\특수임무수행자 보상에 관한 법률.csv\n",
      "Updated file saved to: 법령별 csv 저장 중복제거\\특수임무수행자 보상에 관한 법률.csv\n",
      "Processing : 법령별 csv 저장\\특수임무유공자 예우 및 단체설립에 관한 법률.csv\n",
      "Updated file saved to: 법령별 csv 저장 중복제거\\특수임무유공자 예우 및 단체설립에 관한 법률.csv\n",
      "Processing : 법령별 csv 저장\\특정강력범죄의 처벌에 관한 특례법.csv\n",
      "Updated file saved to: 법령별 csv 저장 중복제거\\특정강력범죄의 처벌에 관한 특례법.csv\n",
      "Processing : 법령별 csv 저장\\특정경제범죄 가중처벌 등에 관한 법률.csv\n",
      "Updated file saved to: 법령별 csv 저장 중복제거\\특정경제범죄 가중처벌 등에 관한 법률.csv\n",
      "Processing : 법령별 csv 저장\\특정 금융거래정보의 보고 및 이용 등에 관한 법률.csv\n",
      "Updated file saved to: 법령별 csv 저장 중복제거\\특정 금융거래정보의 보고 및 이용 등에 관한 법률.csv\n",
      "Processing : 법령별 csv 저장\\특정범죄 가중처벌 등에 관한 법률.csv\n",
      "Updated file saved to: 법령별 csv 저장 중복제거\\특정범죄 가중처벌 등에 관한 법률.csv\n",
      "Processing : 법령별 csv 저장\\특정범죄신고자 등 보호법.csv\n",
      "Updated file saved to: 법령별 csv 저장 중복제거\\특정범죄신고자 등 보호법.csv\n",
      "Processing : 법령별 csv 저장\\특정연구기관 육성법.csv\n",
      "Updated file saved to: 법령별 csv 저장 중복제거\\특정연구기관 육성법.csv\n",
      "Processing : 법령별 csv 저장\\특정중대범죄 피의자 등 신상정보 공개에 관한 법률.csv\n",
      "Updated file saved to: 법령별 csv 저장 중복제거\\특정중대범죄 피의자 등 신상정보 공개에 관한 법률.csv\n",
      "Processing : 법령별 csv 저장\\특허법.csv\n",
      "Updated file saved to: 법령별 csv 저장 중복제거\\특허법.csv\n",
      "Processing : 법령별 csv 저장\\파견근로자 보호 등에 관한 법률.csv\n",
      "Updated file saved to: 법령별 csv 저장 중복제거\\파견근로자 보호 등에 관한 법률.csv\n",
      "Processing : 법령별 csv 저장\\파독 광부ㆍ간호사ㆍ간호조무사에 대한 지원 및 기념사업에 관한 법률.csv\n",
      "Updated file saved to: 법령별 csv 저장 중복제거\\파독 광부ㆍ간호사ㆍ간호조무사에 대한 지원 및 기념사업에 관한 법률.csv\n",
      "Processing : 법령별 csv 저장\\평생교육법.csv\n",
      "Updated file saved to: 법령별 csv 저장 중복제거\\평생교육법.csv\n",
      "Processing : 법령별 csv 저장\\평화경제특별구역의 지정 및 운영에 관한 법률.csv\n",
      "Updated file saved to: 법령별 csv 저장 중복제거\\평화경제특별구역의 지정 및 운영에 관한 법률.csv\n",
      "Processing : 법령별 csv 저장\\폐광지역 개발 지원에 관한 특별법.csv\n",
      "Updated file saved to: 법령별 csv 저장 중복제거\\폐광지역 개발 지원에 관한 특별법.csv\n",
      "Processing : 법령별 csv 저장\\폐교재산의 활용촉진을 위한 특별법.csv\n",
      "Updated file saved to: 법령별 csv 저장 중복제거\\폐교재산의 활용촉진을 위한 특별법.csv\n",
      "Processing : 법령별 csv 저장\\폐기물관리법.csv\n",
      "Updated file saved to: 법령별 csv 저장 중복제거\\폐기물관리법.csv\n",
      "Processing : 법령별 csv 저장\\폐기물의 국가 간 이동 및 그 처리에 관한 법률.csv\n",
      "Updated file saved to: 법령별 csv 저장 중복제거\\폐기물의 국가 간 이동 및 그 처리에 관한 법률.csv\n",
      "Processing : 법령별 csv 저장\\폐기물처리시설 설치촉진 및 주변지역지원 등에 관한 법률.csv\n",
      "Updated file saved to: 법령별 csv 저장 중복제거\\폐기물처리시설 설치촉진 및 주변지역지원 등에 관한 법률.csv\n",
      "Processing : 법령별 csv 저장\\포항지진의 진상조사 및 피해구제 등을 위한 특별법.csv\n",
      "Updated file saved to: 법령별 csv 저장 중복제거\\포항지진의 진상조사 및 피해구제 등을 위한 특별법.csv\n",
      "Processing : 법령별 csv 저장\\폭력행위 등 처벌에 관한 법률.csv\n",
      "Updated file saved to: 법령별 csv 저장 중복제거\\폭력행위 등 처벌에 관한 법률.csv\n",
      "Processing : 법령별 csv 저장\\표시ㆍ광고의 공정화에 관한 법률.csv\n",
      "Updated file saved to: 법령별 csv 저장 중복제거\\표시ㆍ광고의 공정화에 관한 법률.csv\n",
      "Processing : 법령별 csv 저장\\표준시에 관한 법률.csv\n",
      "Updated file saved to: 법령별 csv 저장 중복제거\\표준시에 관한 법률.csv\n",
      "Processing : 법령별 csv 저장\\풍납토성 보존 및 관리에 관한 특별법.csv\n",
      "Updated file saved to: 법령별 csv 저장 중복제거\\풍납토성 보존 및 관리에 관한 특별법.csv\n",
      "Processing : 법령별 csv 저장\\풍속영업의 규제에 관한 법률.csv\n",
      "Updated file saved to: 법령별 csv 저장 중복제거\\풍속영업의 규제에 관한 법률.csv\n",
      "Processing : 법령별 csv 저장\\풍수해ㆍ지진재해보험법.csv\n",
      "Updated file saved to: 법령별 csv 저장 중복제거\\풍수해ㆍ지진재해보험법.csv\n",
      "Processing : 법령별 csv 저장\\필수업무 지정 및 종사자 보호ㆍ지원에 관한 법률.csv\n",
      "Updated file saved to: 법령별 csv 저장 중복제거\\필수업무 지정 및 종사자 보호ㆍ지원에 관한 법률.csv\n",
      "Processing : 법령별 csv 저장\\하도급거래 공정화에 관한 법률.csv\n",
      "Updated file saved to: 법령별 csv 저장 중복제거\\하도급거래 공정화에 관한 법률.csv\n",
      "Processing : 법령별 csv 저장\\하수도법.csv\n",
      "Updated file saved to: 법령별 csv 저장 중복제거\\하수도법.csv\n",
      "Processing : 법령별 csv 저장\\하천법.csv\n",
      "Updated file saved to: 법령별 csv 저장 중복제거\\하천법.csv\n",
      "Processing : 법령별 csv 저장\\하천편입토지 보상 등에 관한 특별조치법.csv\n",
      "Updated file saved to: 법령별 csv 저장 중복제거\\하천편입토지 보상 등에 관한 특별조치법.csv\n",
      "Processing : 법령별 csv 저장\\학교급식법.csv\n",
      "Updated file saved to: 법령별 csv 저장 중복제거\\학교급식법.csv\n",
      "Processing : 법령별 csv 저장\\학교도서관진흥법.csv\n",
      "Updated file saved to: 법령별 csv 저장 중복제거\\학교도서관진흥법.csv\n",
      "Processing : 법령별 csv 저장\\학교 밖 청소년 지원에 관한 법률.csv\n",
      "Updated file saved to: 법령별 csv 저장 중복제거\\학교 밖 청소년 지원에 관한 법률.csv\n",
      "Processing : 법령별 csv 저장\\학교보건법.csv\n",
      "Updated file saved to: 법령별 csv 저장 중복제거\\학교보건법.csv\n",
      "Processing : 법령별 csv 저장\\학교복합시설 설치 및 운영ㆍ관리에 관한 법률.csv\n",
      "Updated file saved to: 법령별 csv 저장 중복제거\\학교복합시설 설치 및 운영ㆍ관리에 관한 법률.csv\n",
      "Processing : 법령별 csv 저장\\학교시설사업 촉진법.csv\n",
      "Updated file saved to: 법령별 csv 저장 중복제거\\학교시설사업 촉진법.csv\n",
      "Processing : 법령별 csv 저장\\학교안전사고 예방 및 보상에 관한 법률.csv\n",
      "Updated file saved to: 법령별 csv 저장 중복제거\\학교안전사고 예방 및 보상에 관한 법률.csv\n",
      "Processing : 법령별 csv 저장\\학교용지 확보 등에 관한 특례법.csv\n",
      "Updated file saved to: 법령별 csv 저장 중복제거\\학교용지 확보 등에 관한 특례법.csv\n",
      "Processing : 법령별 csv 저장\\학교체육 진흥법.csv\n",
      "Updated file saved to: 법령별 csv 저장 중복제거\\학교체육 진흥법.csv\n",
      "Processing : 법령별 csv 저장\\학교폭력예방 및 대책에 관한 법률.csv\n",
      "Updated file saved to: 법령별 csv 저장 중복제거\\학교폭력예방 및 대책에 관한 법률.csv\n",
      "Processing : 법령별 csv 저장\\학술진흥법.csv\n",
      "Updated file saved to: 법령별 csv 저장 중복제거\\학술진흥법.csv\n",
      "Processing : 법령별 csv 저장\\학원의 설립ㆍ운영 및 과외교습에 관한 법률.csv\n",
      "Updated file saved to: 법령별 csv 저장 중복제거\\학원의 설립ㆍ운영 및 과외교습에 관한 법률.csv\n",
      "Processing : 법령별 csv 저장\\학점인정 등에 관한 법률.csv\n",
      "Updated file saved to: 법령별 csv 저장 중복제거\\학점인정 등에 관한 법률.csv\n",
      "Processing : 법령별 csv 저장\\한강수계 상수원수질개선 및 주민지원 등에 관한 법률.csv\n",
      "Updated file saved to: 법령별 csv 저장 중복제거\\한강수계 상수원수질개선 및 주민지원 등에 관한 법률.csv\n",
      "Processing : 법령별 csv 저장\\한국4에이치활동 지원법.csv\n",
      "Updated file saved to: 법령별 csv 저장 중복제거\\한국4에이치활동 지원법.csv\n",
      "Processing : 법령별 csv 저장\\한국가스공사법.csv\n",
      "Updated file saved to: 법령별 csv 저장 중복제거\\한국가스공사법.csv\n",
      "Processing : 법령별 csv 저장\\한국고용노동교육원법.csv\n",
      "Updated file saved to: 법령별 csv 저장 중복제거\\한국고용노동교육원법.csv\n",
      "Processing : 법령별 csv 저장\\한국고전번역원법.csv\n",
      "Updated file saved to: 법령별 csv 저장 중복제거\\한국고전번역원법.csv\n"
     ]
    }
   ],
   "source": [
    "import pandas as pd\n",
    "import os\n",
    "\n",
    "def process_files(folder_path, target_folder):\n",
    "    # Ensure target directory exists\n",
    "    if not os.path.exists(target_folder):\n",
    "        os.makedirs(target_folder)\n",
    "    \n",
    "    # Process each file in the folder\n",
    "    for file_name in os.listdir(folder_path):\n",
    "        try:\n",
    "            if file_name.endswith('.csv'):\n",
    "                file_path = os.path.join(folder_path, file_name)\n",
    "                df = pd.read_csv(file_path, encoding='utf-8-sig', sep='\\t')\n",
    "                print(f\"Processing : {file_path}\")\n",
    "                # Remove duplicate cell contents and replace NaN values with ' '\n",
    "                df = remove_duplicate_cell_contents(df, ['조문내용', '항', '호', '목'])\n",
    "                \n",
    "                # Replace NaN values with ''\n",
    "                df = df.fillna('')\n",
    "\n",
    "                # Save the updated file to the target folder with the same name\n",
    "                target_file_path = os.path.join(target_folder, file_name)\n",
    "                df.to_csv(target_file_path, index=False, encoding='utf-8-sig', sep='\\t')\n",
    "                print(f\"Updated file saved to: {target_file_path}\")\n",
    "        except Exception as e:\n",
    "            print(f\"Error processing file {file_name}: {e}\")\n",
    "            continue\n",
    "\n",
    "def remove_duplicate_cell_contents(df, columns):\n",
    "    # Remove duplicates in specified columns\n",
    "    for column in columns:\n",
    "        last_seen = None\n",
    "        for idx in df.index:\n",
    "            current_value = df.at[idx, column]\n",
    "            if current_value == last_seen:\n",
    "                df.at[idx, column] = ''\n",
    "            else:\n",
    "                last_seen = current_value\n",
    "    return df\n",
    "\n",
    "# Set source and target folder paths\n",
    "folder_path = '법령별 csv 저장'\n",
    "target_folder = '법령별 csv 저장 중복제거'\n",
    "process_files(folder_path, target_folder)\n"
   ]
  },
  {
   "cell_type": "markdown",
   "id": "dcd648ca",
   "metadata": {},
   "source": [
    "### 1501번째 행부터 리트라이   "
   ]
  },
  {
   "cell_type": "code",
   "execution_count": 1,
   "id": "dfcf126a",
   "metadata": {},
   "outputs": [
    {
     "name": "stderr",
     "output_type": "stream",
     "text": [
      "  1%|          | 1/182 [00:01<05:22,  1.78s/it]"
     ]
    },
    {
     "name": "stdout",
     "output_type": "stream",
     "text": [
      "Saved 한국과학기술원법 to 법령별 csv 저장\n"
     ]
    },
    {
     "name": "stderr",
     "output_type": "stream",
     "text": [
      "  1%|          | 2/182 [00:02<04:08,  1.38s/it]"
     ]
    },
    {
     "name": "stdout",
     "output_type": "stream",
     "text": [
      "Saved 한국과학우주청소년단 육성에 관한 법률 to 법령별 csv 저장\n"
     ]
    },
    {
     "name": "stderr",
     "output_type": "stream",
     "text": [
      "  2%|▏         | 3/182 [00:04<03:47,  1.27s/it]"
     ]
    },
    {
     "name": "stdout",
     "output_type": "stream",
     "text": [
      "Saved 한국관광공사법 to 법령별 csv 저장\n"
     ]
    },
    {
     "name": "stderr",
     "output_type": "stream",
     "text": [
      "  2%|▏         | 4/182 [00:05<04:08,  1.40s/it]"
     ]
    },
    {
     "name": "stdout",
     "output_type": "stream",
     "text": [
      "Saved 한국광해광업공단법 to 법령별 csv 저장\n"
     ]
    },
    {
     "name": "stderr",
     "output_type": "stream",
     "text": [
      "  3%|▎         | 5/182 [00:07<04:12,  1.43s/it]"
     ]
    },
    {
     "name": "stdout",
     "output_type": "stream",
     "text": [
      "Saved 한국교육방송공사법 to 법령별 csv 저장\n"
     ]
    },
    {
     "name": "stderr",
     "output_type": "stream",
     "text": [
      "  3%|▎         | 6/182 [00:08<04:02,  1.38s/it]"
     ]
    },
    {
     "name": "stdout",
     "output_type": "stream",
     "text": [
      "Saved 한국교육학술정보원법 to 법령별 csv 저장\n"
     ]
    },
    {
     "name": "stderr",
     "output_type": "stream",
     "text": [
      "  4%|▍         | 7/182 [00:09<03:49,  1.31s/it]"
     ]
    },
    {
     "name": "stdout",
     "output_type": "stream",
     "text": [
      "Saved 한국교직원공제회법 to 법령별 csv 저장\n"
     ]
    },
    {
     "name": "stderr",
     "output_type": "stream",
     "text": [
      "  4%|▍         | 8/182 [00:12<05:44,  1.98s/it]"
     ]
    },
    {
     "name": "stdout",
     "output_type": "stream",
     "text": [
      "Saved 한국교통안전공단법 to 법령별 csv 저장\n"
     ]
    },
    {
     "name": "stderr",
     "output_type": "stream",
     "text": [
      "  5%|▍         | 9/182 [00:14<05:03,  1.76s/it]"
     ]
    },
    {
     "name": "stdout",
     "output_type": "stream",
     "text": [
      "Saved 한국국방연구원법 to 법령별 csv 저장\n"
     ]
    },
    {
     "name": "stderr",
     "output_type": "stream",
     "text": [
      "  5%|▌         | 10/182 [00:15<04:56,  1.72s/it]"
     ]
    },
    {
     "name": "stdout",
     "output_type": "stream",
     "text": [
      "Saved 한국국제교류재단법 to 법령별 csv 저장\n"
     ]
    },
    {
     "name": "stderr",
     "output_type": "stream",
     "text": [
      "  6%|▌         | 11/182 [00:17<04:32,  1.60s/it]"
     ]
    },
    {
     "name": "stdout",
     "output_type": "stream",
     "text": [
      "Saved 한국국제보건의료재단법 to 법령별 csv 저장\n"
     ]
    },
    {
     "name": "stderr",
     "output_type": "stream",
     "text": [
      "  7%|▋         | 12/182 [00:18<04:27,  1.57s/it]"
     ]
    },
    {
     "name": "stdout",
     "output_type": "stream",
     "text": [
      "Saved 한국국제협력단법 to 법령별 csv 저장\n"
     ]
    },
    {
     "name": "stderr",
     "output_type": "stream",
     "text": [
      "  7%|▋         | 13/182 [00:20<04:15,  1.51s/it]"
     ]
    },
    {
     "name": "stdout",
     "output_type": "stream",
     "text": [
      "Saved 한국국토정보공사법 to 법령별 csv 저장\n"
     ]
    },
    {
     "name": "stderr",
     "output_type": "stream",
     "text": [
      "  8%|▊         | 14/182 [00:21<04:12,  1.50s/it]"
     ]
    },
    {
     "name": "stdout",
     "output_type": "stream",
     "text": [
      "Saved 한국농수산대학교 설치법 to 법령별 csv 저장\n"
     ]
    },
    {
     "name": "stderr",
     "output_type": "stream",
     "text": [
      "  8%|▊         | 15/182 [00:22<03:49,  1.38s/it]"
     ]
    },
    {
     "name": "stdout",
     "output_type": "stream",
     "text": [
      "Saved 한국농수산식품유통공사법 to 법령별 csv 저장\n"
     ]
    },
    {
     "name": "stderr",
     "output_type": "stream",
     "text": [
      "  9%|▉         | 16/182 [00:24<04:22,  1.58s/it]"
     ]
    },
    {
     "name": "stdout",
     "output_type": "stream",
     "text": [
      "Saved 한국농어촌공사 및 농지관리기금법 to 법령별 csv 저장\n"
     ]
    },
    {
     "name": "stderr",
     "output_type": "stream",
     "text": [
      "  9%|▉         | 17/182 [00:26<04:28,  1.63s/it]"
     ]
    },
    {
     "name": "stdout",
     "output_type": "stream",
     "text": [
      "Saved 한국대학교육협의회법 to 법령별 csv 저장\n"
     ]
    },
    {
     "name": "stderr",
     "output_type": "stream",
     "text": [
      " 10%|▉         | 18/182 [00:30<06:51,  2.51s/it]"
     ]
    },
    {
     "name": "stdout",
     "output_type": "stream",
     "text": [
      "Saved 한국도로공사법 to 법령별 csv 저장\n"
     ]
    },
    {
     "name": "stderr",
     "output_type": "stream",
     "text": [
      " 10%|█         | 19/182 [00:32<05:49,  2.14s/it]"
     ]
    },
    {
     "name": "stdout",
     "output_type": "stream",
     "text": [
      "Saved 한국도로교통공단법 to 법령별 csv 저장\n"
     ]
    },
    {
     "name": "stderr",
     "output_type": "stream",
     "text": [
      " 11%|█         | 20/182 [00:34<05:42,  2.12s/it]"
     ]
    },
    {
     "name": "stdout",
     "output_type": "stream",
     "text": [
      "Saved 한국마사회법 to 법령별 csv 저장\n"
     ]
    },
    {
     "name": "stderr",
     "output_type": "stream",
     "text": [
      " 12%|█▏        | 21/182 [00:35<04:53,  1.82s/it]"
     ]
    },
    {
     "name": "stdout",
     "output_type": "stream",
     "text": [
      "Saved 한국방송통신대학교 설립 및 운영에 관한 법률 to 법령별 csv 저장\n"
     ]
    },
    {
     "name": "stderr",
     "output_type": "stream",
     "text": [
      " 12%|█▏        | 22/182 [00:36<04:28,  1.68s/it]"
     ]
    },
    {
     "name": "stdout",
     "output_type": "stream",
     "text": [
      "Saved 한국법학원 육성법 to 법령별 csv 저장\n"
     ]
    },
    {
     "name": "stderr",
     "output_type": "stream",
     "text": [
      " 13%|█▎        | 23/182 [00:38<04:06,  1.55s/it]"
     ]
    },
    {
     "name": "stdout",
     "output_type": "stream",
     "text": [
      "Saved 한국보건복지인재원법 to 법령별 csv 저장\n"
     ]
    },
    {
     "name": "stderr",
     "output_type": "stream",
     "text": [
      " 13%|█▎        | 24/182 [00:39<04:02,  1.53s/it]"
     ]
    },
    {
     "name": "stdout",
     "output_type": "stream",
     "text": [
      "Saved 한국보건산업진흥원법 to 법령별 csv 저장\n"
     ]
    },
    {
     "name": "stderr",
     "output_type": "stream",
     "text": [
      " 14%|█▎        | 25/182 [00:41<03:59,  1.53s/it]"
     ]
    },
    {
     "name": "stdout",
     "output_type": "stream",
     "text": [
      "Saved 한국보건의료인국가시험원법 to 법령별 csv 저장\n"
     ]
    },
    {
     "name": "stderr",
     "output_type": "stream",
     "text": [
      " 14%|█▍        | 26/182 [00:42<03:56,  1.52s/it]"
     ]
    },
    {
     "name": "stdout",
     "output_type": "stream",
     "text": [
      "Saved 한국보훈복지의료공단법 to 법령별 csv 저장\n"
     ]
    },
    {
     "name": "stderr",
     "output_type": "stream",
     "text": [
      " 15%|█▍        | 27/182 [00:45<05:06,  1.98s/it]"
     ]
    },
    {
     "name": "stdout",
     "output_type": "stream",
     "text": [
      "Saved 한국부동산원법 to 법령별 csv 저장\n"
     ]
    },
    {
     "name": "stderr",
     "output_type": "stream",
     "text": [
      " 15%|█▌        | 28/182 [00:47<04:42,  1.84s/it]"
     ]
    },
    {
     "name": "stdout",
     "output_type": "stream",
     "text": [
      "Saved 한국사학진흥재단법 to 법령별 csv 저장\n"
     ]
    },
    {
     "name": "stderr",
     "output_type": "stream",
     "text": [
      " 16%|█▌        | 29/182 [00:48<04:42,  1.85s/it]"
     ]
    },
    {
     "name": "stdout",
     "output_type": "stream",
     "text": [
      "Saved 한국산업안전보건공단법 to 법령별 csv 저장\n"
     ]
    },
    {
     "name": "stderr",
     "output_type": "stream",
     "text": [
      " 16%|█▋        | 30/182 [00:51<05:08,  2.03s/it]"
     ]
    },
    {
     "name": "stdout",
     "output_type": "stream",
     "text": [
      "Saved 한국산업은행법 to 법령별 csv 저장\n"
     ]
    },
    {
     "name": "stderr",
     "output_type": "stream",
     "text": [
      " 17%|█▋        | 31/182 [00:52<04:43,  1.87s/it]"
     ]
    },
    {
     "name": "stdout",
     "output_type": "stream",
     "text": [
      "Saved 한국산업인력공단법 to 법령별 csv 저장\n"
     ]
    },
    {
     "name": "stderr",
     "output_type": "stream",
     "text": [
      " 18%|█▊        | 32/182 [00:54<04:22,  1.75s/it]"
     ]
    },
    {
     "name": "stdout",
     "output_type": "stream",
     "text": [
      "Saved 한국석유공사법 to 법령별 csv 저장\n"
     ]
    },
    {
     "name": "stderr",
     "output_type": "stream",
     "text": [
      " 18%|█▊        | 33/182 [00:56<04:31,  1.82s/it]"
     ]
    },
    {
     "name": "stdout",
     "output_type": "stream",
     "text": [
      "Saved 한국수자원공사법 to 법령별 csv 저장\n"
     ]
    },
    {
     "name": "stderr",
     "output_type": "stream",
     "text": [
      " 19%|█▊        | 34/182 [00:59<05:40,  2.30s/it]"
     ]
    },
    {
     "name": "stdout",
     "output_type": "stream",
     "text": [
      "Saved 한국수출입은행법 to 법령별 csv 저장\n"
     ]
    },
    {
     "name": "stderr",
     "output_type": "stream",
     "text": [
      " 19%|█▉        | 35/182 [01:00<04:45,  1.95s/it]"
     ]
    },
    {
     "name": "stdout",
     "output_type": "stream",
     "text": [
      "Saved 한국수화언어법 to 법령별 csv 저장\n"
     ]
    },
    {
     "name": "stderr",
     "output_type": "stream",
     "text": [
      " 20%|█▉        | 36/182 [01:02<04:10,  1.72s/it]"
     ]
    },
    {
     "name": "stdout",
     "output_type": "stream",
     "text": [
      "Saved 한국식품안전관리인증원의 설립 및 운영에 관한 법률 to 법령별 csv 저장\n"
     ]
    },
    {
     "name": "stderr",
     "output_type": "stream",
     "text": [
      " 20%|██        | 37/182 [01:03<03:49,  1.58s/it]"
     ]
    },
    {
     "name": "stdout",
     "output_type": "stream",
     "text": [
      "Saved 한국에너지공과대학교법 to 법령별 csv 저장\n"
     ]
    },
    {
     "name": "stderr",
     "output_type": "stream",
     "text": [
      " 21%|██        | 38/182 [01:04<03:32,  1.48s/it]"
     ]
    },
    {
     "name": "stdout",
     "output_type": "stream",
     "text": [
      "Saved 한국연구재단법 to 법령별 csv 저장\n"
     ]
    },
    {
     "name": "stderr",
     "output_type": "stream",
     "text": [
      " 21%|██▏       | 39/182 [01:06<03:30,  1.48s/it]"
     ]
    },
    {
     "name": "stdout",
     "output_type": "stream",
     "text": [
      "Saved 한국원자력안전기술원법 to 법령별 csv 저장\n"
     ]
    },
    {
     "name": "stderr",
     "output_type": "stream",
     "text": [
      " 22%|██▏       | 40/182 [01:07<03:45,  1.59s/it]"
     ]
    },
    {
     "name": "stdout",
     "output_type": "stream",
     "text": [
      "Saved 한국은행법 to 법령별 csv 저장\n"
     ]
    },
    {
     "name": "stderr",
     "output_type": "stream",
     "text": [
      " 23%|██▎       | 41/182 [01:09<03:34,  1.52s/it]"
     ]
    },
    {
     "name": "stdout",
     "output_type": "stream",
     "text": [
      "Saved 한국은행 통화안정증권법 to 법령별 csv 저장\n"
     ]
    },
    {
     "name": "stderr",
     "output_type": "stream",
     "text": [
      " 23%|██▎       | 42/182 [01:10<03:22,  1.44s/it]"
     ]
    },
    {
     "name": "stdout",
     "output_type": "stream",
     "text": [
      "Saved 한국인 원자폭탄 피해자 지원을 위한 특별법 to 법령별 csv 저장\n"
     ]
    },
    {
     "name": "stderr",
     "output_type": "stream",
     "text": [
      " 24%|██▎       | 43/182 [01:12<03:29,  1.51s/it]"
     ]
    },
    {
     "name": "stdout",
     "output_type": "stream",
     "text": [
      "Saved 한국자산관리공사 설립 등에 관한 법률 to 법령별 csv 저장\n"
     ]
    },
    {
     "name": "stderr",
     "output_type": "stream",
     "text": [
      " 24%|██▍       | 44/182 [01:13<03:15,  1.42s/it]"
     ]
    },
    {
     "name": "stdout",
     "output_type": "stream",
     "text": [
      "Saved 한국자유총연맹 육성에 관한 법률 to 법령별 csv 저장\n"
     ]
    },
    {
     "name": "stderr",
     "output_type": "stream",
     "text": [
      " 25%|██▍       | 45/182 [01:15<03:54,  1.71s/it]"
     ]
    },
    {
     "name": "stdout",
     "output_type": "stream",
     "text": [
      "Saved 한국장학재단 설립 등에 관한 법률 to 법령별 csv 저장\n"
     ]
    },
    {
     "name": "stderr",
     "output_type": "stream",
     "text": [
      " 25%|██▌       | 46/182 [01:17<03:34,  1.58s/it]"
     ]
    },
    {
     "name": "stdout",
     "output_type": "stream",
     "text": [
      "Saved 한국재정정보원법 to 법령별 csv 저장\n"
     ]
    },
    {
     "name": "stderr",
     "output_type": "stream",
     "text": [
      " 26%|██▌       | 47/182 [01:18<03:22,  1.50s/it]"
     ]
    },
    {
     "name": "stdout",
     "output_type": "stream",
     "text": [
      "Saved 한국전력공사법 to 법령별 csv 저장\n"
     ]
    },
    {
     "name": "stderr",
     "output_type": "stream",
     "text": [
      " 26%|██▋       | 48/182 [01:19<03:10,  1.42s/it]"
     ]
    },
    {
     "name": "stdout",
     "output_type": "stream",
     "text": [
      "Saved 한국전문대학교육협의회법 to 법령별 csv 저장\n"
     ]
    },
    {
     "name": "stderr",
     "output_type": "stream",
     "text": [
      " 27%|██▋       | 49/182 [01:21<03:42,  1.67s/it]"
     ]
    },
    {
     "name": "stdout",
     "output_type": "stream",
     "text": [
      "Saved 한국전통문화대학교 설치법 to 법령별 csv 저장\n"
     ]
    },
    {
     "name": "stderr",
     "output_type": "stream",
     "text": [
      " 27%|██▋       | 50/182 [01:23<03:20,  1.52s/it]"
     ]
    },
    {
     "name": "stdout",
     "output_type": "stream",
     "text": [
      "Saved 한국조폐공사법 to 법령별 csv 저장\n"
     ]
    },
    {
     "name": "stderr",
     "output_type": "stream",
     "text": [
      " 28%|██▊       | 51/182 [01:25<04:07,  1.89s/it]"
     ]
    },
    {
     "name": "stdout",
     "output_type": "stream",
     "text": [
      "Saved 한국주택금융공사법 to 법령별 csv 저장\n"
     ]
    },
    {
     "name": "stderr",
     "output_type": "stream",
     "text": [
      " 29%|██▊       | 52/182 [01:27<04:03,  1.88s/it]"
     ]
    },
    {
     "name": "stdout",
     "output_type": "stream",
     "text": [
      "Saved 한국지방재정공제회법 to 법령별 csv 저장\n"
     ]
    },
    {
     "name": "stderr",
     "output_type": "stream",
     "text": [
      " 29%|██▉       | 53/182 [01:28<03:39,  1.70s/it]"
     ]
    },
    {
     "name": "stdout",
     "output_type": "stream",
     "text": [
      "Saved 한국지방행정연구원 육성법 to 법령별 csv 저장\n"
     ]
    },
    {
     "name": "stderr",
     "output_type": "stream",
     "text": [
      " 30%|██▉       | 54/182 [01:30<03:32,  1.66s/it]"
     ]
    },
    {
     "name": "stdout",
     "output_type": "stream",
     "text": [
      "Saved 한국진도개 보호ㆍ육성법 to 법령별 csv 저장\n"
     ]
    },
    {
     "name": "stderr",
     "output_type": "stream",
     "text": [
      " 30%|███       | 55/182 [01:32<03:51,  1.82s/it]"
     ]
    },
    {
     "name": "stdout",
     "output_type": "stream",
     "text": [
      "Saved 한국철도공사법 to 법령별 csv 저장\n"
     ]
    },
    {
     "name": "stderr",
     "output_type": "stream",
     "text": [
      " 31%|███       | 56/182 [01:33<03:17,  1.56s/it]"
     ]
    },
    {
     "name": "stdout",
     "output_type": "stream",
     "text": [
      "Saved 한국청소년연맹 육성에 관한 법률 to 법령별 csv 저장\n"
     ]
    },
    {
     "name": "stderr",
     "output_type": "stream",
     "text": [
      " 31%|███▏      | 57/182 [01:34<03:01,  1.45s/it]"
     ]
    },
    {
     "name": "stdout",
     "output_type": "stream",
     "text": [
      "Saved 한국토지주택공사법 to 법령별 csv 저장\n"
     ]
    },
    {
     "name": "stderr",
     "output_type": "stream",
     "text": [
      " 32%|███▏      | 58/182 [01:36<03:16,  1.58s/it]"
     ]
    },
    {
     "name": "stdout",
     "output_type": "stream",
     "text": [
      "Saved 한국투자공사법 to 법령별 csv 저장\n"
     ]
    },
    {
     "name": "stderr",
     "output_type": "stream",
     "text": [
      " 32%|███▏      | 59/182 [01:38<03:04,  1.50s/it]"
     ]
    },
    {
     "name": "stdout",
     "output_type": "stream",
     "text": [
      "Saved 한국학중앙연구원 육성법 to 법령별 csv 저장\n"
     ]
    },
    {
     "name": "stderr",
     "output_type": "stream",
     "text": [
      " 33%|███▎      | 60/182 [01:39<03:06,  1.53s/it]"
     ]
    },
    {
     "name": "stdout",
     "output_type": "stream",
     "text": [
      "Saved 한국해양과학기술원법 to 법령별 csv 저장\n"
     ]
    },
    {
     "name": "stderr",
     "output_type": "stream",
     "text": [
      " 34%|███▎      | 61/182 [01:41<03:00,  1.49s/it]"
     ]
    },
    {
     "name": "stdout",
     "output_type": "stream",
     "text": [
      "Saved 한국해양교통안전공단법 to 법령별 csv 저장\n"
     ]
    },
    {
     "name": "stderr",
     "output_type": "stream",
     "text": [
      " 34%|███▍      | 62/182 [01:42<02:52,  1.43s/it]"
     ]
    },
    {
     "name": "stdout",
     "output_type": "stream",
     "text": [
      "Saved 한국해양소년단연맹 육성에 관한 법률 to 법령별 csv 저장\n"
     ]
    },
    {
     "name": "stderr",
     "output_type": "stream",
     "text": [
      " 35%|███▍      | 63/182 [01:43<02:50,  1.43s/it]"
     ]
    },
    {
     "name": "stdout",
     "output_type": "stream",
     "text": [
      "Saved 한국해양수산연수원법 to 법령별 csv 저장\n"
     ]
    },
    {
     "name": "stderr",
     "output_type": "stream",
     "text": [
      " 35%|███▌      | 64/182 [01:45<03:03,  1.56s/it]"
     ]
    },
    {
     "name": "stdout",
     "output_type": "stream",
     "text": [
      "Saved 한국해양진흥공사법 to 법령별 csv 저장\n"
     ]
    },
    {
     "name": "stderr",
     "output_type": "stream",
     "text": [
      " 36%|███▌      | 65/182 [01:47<03:04,  1.57s/it]"
     ]
    },
    {
     "name": "stdout",
     "output_type": "stream",
     "text": [
      "Saved 한국해운조합법 to 법령별 csv 저장\n"
     ]
    },
    {
     "name": "stderr",
     "output_type": "stream",
     "text": [
      " 36%|███▋      | 66/182 [01:48<02:59,  1.55s/it]"
     ]
    },
    {
     "name": "stdout",
     "output_type": "stream",
     "text": [
      "Saved 한국환경공단법 to 법령별 csv 저장\n"
     ]
    },
    {
     "name": "stderr",
     "output_type": "stream",
     "text": [
      " 37%|███▋      | 67/182 [01:50<02:54,  1.52s/it]"
     ]
    },
    {
     "name": "stdout",
     "output_type": "stream",
     "text": [
      "Saved 한국환경산업기술원법 to 법령별 csv 저장\n"
     ]
    },
    {
     "name": "stderr",
     "output_type": "stream",
     "text": [
      " 37%|███▋      | 68/182 [01:51<02:42,  1.42s/it]"
     ]
    },
    {
     "name": "stdout",
     "output_type": "stream",
     "text": [
      "Saved 한류산업진흥 기본법 to 법령별 csv 저장\n"
     ]
    },
    {
     "name": "stderr",
     "output_type": "stream",
     "text": [
      " 38%|███▊      | 69/182 [01:52<02:44,  1.46s/it]"
     ]
    },
    {
     "name": "stdout",
     "output_type": "stream",
     "text": [
      "Saved 한부모가족지원법 to 법령별 csv 저장\n"
     ]
    },
    {
     "name": "stderr",
     "output_type": "stream",
     "text": [
      " 38%|███▊      | 70/182 [01:54<02:47,  1.49s/it]"
     ]
    },
    {
     "name": "stdout",
     "output_type": "stream",
     "text": [
      "Saved 한센인피해사건의 진상규명 및 피해자 지원 등에 관한 법률 to 법령별 csv 저장\n"
     ]
    },
    {
     "name": "stderr",
     "output_type": "stream",
     "text": [
      " 39%|███▉      | 71/182 [01:55<02:38,  1.43s/it]"
     ]
    },
    {
     "name": "stdout",
     "output_type": "stream",
     "text": [
      "Saved 한식진흥법 to 법령별 csv 저장\n"
     ]
    },
    {
     "name": "stderr",
     "output_type": "stream",
     "text": [
      " 40%|███▉      | 72/182 [01:56<02:30,  1.36s/it]"
     ]
    },
    {
     "name": "stdout",
     "output_type": "stream",
     "text": [
      "Saved 한ㆍ아프리카재단법 to 법령별 csv 저장\n"
     ]
    },
    {
     "name": "stderr",
     "output_type": "stream",
     "text": [
      " 40%|████      | 73/182 [01:58<02:36,  1.43s/it]"
     ]
    },
    {
     "name": "stdout",
     "output_type": "stream",
     "text": [
      "Saved 한옥 등 건축자산의 진흥에 관한 법률 to 법령별 csv 저장\n"
     ]
    },
    {
     "name": "stderr",
     "output_type": "stream",
     "text": [
      " 41%|████      | 74/182 [01:59<02:25,  1.34s/it]"
     ]
    },
    {
     "name": "stdout",
     "output_type": "stream",
     "text": [
      "Saved 한의약 육성법 to 법령별 csv 저장\n"
     ]
    },
    {
     "name": "stderr",
     "output_type": "stream",
     "text": [
      " 41%|████      | 75/182 [02:01<02:30,  1.41s/it]"
     ]
    },
    {
     "name": "stdout",
     "output_type": "stream",
     "text": [
      "Saved 할부거래에 관한 법률 to 법령별 csv 저장\n"
     ]
    },
    {
     "name": "stderr",
     "output_type": "stream",
     "text": [
      " 42%|████▏     | 76/182 [02:03<02:48,  1.59s/it]"
     ]
    },
    {
     "name": "stdout",
     "output_type": "stream",
     "text": [
      "Saved 항공보안법 to 법령별 csv 저장\n"
     ]
    },
    {
     "name": "stderr",
     "output_type": "stream",
     "text": [
      " 42%|████▏     | 77/182 [02:07<03:54,  2.23s/it]"
     ]
    },
    {
     "name": "stdout",
     "output_type": "stream",
     "text": [
      "Saved 항공사업법 to 법령별 csv 저장\n"
     ]
    },
    {
     "name": "stderr",
     "output_type": "stream",
     "text": [
      " 43%|████▎     | 78/182 [02:08<03:18,  1.91s/it]"
     ]
    },
    {
     "name": "stdout",
     "output_type": "stream",
     "text": [
      "Saved 항공안전기술원법 to 법령별 csv 저장\n"
     ]
    },
    {
     "name": "stderr",
     "output_type": "stream",
     "text": [
      " 43%|████▎     | 79/182 [02:11<04:12,  2.45s/it]"
     ]
    },
    {
     "name": "stdout",
     "output_type": "stream",
     "text": [
      "Saved 항공안전법 to 법령별 csv 저장\n"
     ]
    },
    {
     "name": "stderr",
     "output_type": "stream",
     "text": [
      " 44%|████▍     | 80/182 [02:13<03:39,  2.16s/it]"
     ]
    },
    {
     "name": "stdout",
     "output_type": "stream",
     "text": [
      "Saved 항공우주산업개발 촉진법 to 법령별 csv 저장\n"
     ]
    },
    {
     "name": "stderr",
     "output_type": "stream",
     "text": [
      " 45%|████▍     | 81/182 [02:14<03:15,  1.94s/it]"
     ]
    },
    {
     "name": "stdout",
     "output_type": "stream",
     "text": [
      "Saved 항공ㆍ철도 사고조사에 관한 법률 to 법령별 csv 저장\n"
     ]
    },
    {
     "name": "stderr",
     "output_type": "stream",
     "text": [
      " 45%|████▌     | 82/182 [02:16<03:05,  1.86s/it]"
     ]
    },
    {
     "name": "stdout",
     "output_type": "stream",
     "text": [
      "Saved 항로표지법 to 법령별 csv 저장\n"
     ]
    },
    {
     "name": "stderr",
     "output_type": "stream",
     "text": [
      " 46%|████▌     | 83/182 [02:17<02:51,  1.73s/it]"
     ]
    },
    {
     "name": "stdout",
     "output_type": "stream",
     "text": [
      "Saved 항만공사법 to 법령별 csv 저장\n"
     ]
    },
    {
     "name": "stderr",
     "output_type": "stream",
     "text": [
      " 46%|████▌     | 84/182 [02:19<02:34,  1.58s/it]"
     ]
    },
    {
     "name": "stdout",
     "output_type": "stream",
     "text": [
      "Saved 항만기술산업의 육성 및 지원에 관한 법률 to 법령별 csv 저장\n"
     ]
    },
    {
     "name": "stderr",
     "output_type": "stream",
     "text": [
      " 47%|████▋     | 85/182 [02:21<02:54,  1.80s/it]"
     ]
    },
    {
     "name": "stdout",
     "output_type": "stream",
     "text": [
      "Saved 항만법 to 법령별 csv 저장\n"
     ]
    },
    {
     "name": "stderr",
     "output_type": "stream",
     "text": [
      " 47%|████▋     | 86/182 [02:22<02:30,  1.57s/it]"
     ]
    },
    {
     "name": "stdout",
     "output_type": "stream",
     "text": [
      "Saved 항만안전특별법 to 법령별 csv 저장\n"
     ]
    },
    {
     "name": "stderr",
     "output_type": "stream",
     "text": [
      " 48%|████▊     | 87/182 [02:25<03:11,  2.01s/it]"
     ]
    },
    {
     "name": "stdout",
     "output_type": "stream",
     "text": [
      "Saved 항만운송사업법 to 법령별 csv 저장\n"
     ]
    },
    {
     "name": "stderr",
     "output_type": "stream",
     "text": [
      " 48%|████▊     | 88/182 [02:26<02:42,  1.73s/it]"
     ]
    },
    {
     "name": "stdout",
     "output_type": "stream",
     "text": [
      "Saved 항만인력공급체제의 개편을 위한 지원특별법 to 법령별 csv 저장\n"
     ]
    },
    {
     "name": "stderr",
     "output_type": "stream",
     "text": [
      " 49%|████▉     | 89/182 [02:27<02:31,  1.63s/it]"
     ]
    },
    {
     "name": "stdout",
     "output_type": "stream",
     "text": [
      "Saved 항만 재개발 및 주변지역 발전에 관한 법률 to 법령별 csv 저장\n"
     ]
    },
    {
     "name": "stderr",
     "output_type": "stream",
     "text": [
      " 49%|████▉     | 90/182 [02:29<02:36,  1.70s/it]"
     ]
    },
    {
     "name": "stdout",
     "output_type": "stream",
     "text": [
      "Saved 항만지역등 대기질 개선에 관한 특별법 to 법령별 csv 저장\n"
     ]
    },
    {
     "name": "stderr",
     "output_type": "stream",
     "text": [
      " 50%|█████     | 91/182 [02:31<02:33,  1.69s/it]"
     ]
    },
    {
     "name": "stdout",
     "output_type": "stream",
     "text": [
      "Saved 해사안전기본법 to 법령별 csv 저장\n"
     ]
    },
    {
     "name": "stderr",
     "output_type": "stream",
     "text": [
      " 51%|█████     | 92/182 [02:33<02:39,  1.77s/it]"
     ]
    },
    {
     "name": "stdout",
     "output_type": "stream",
     "text": [
      "Saved 해상교통안전법 to 법령별 csv 저장\n"
     ]
    },
    {
     "name": "stderr",
     "output_type": "stream",
     "text": [
      " 51%|█████     | 93/182 [02:35<02:36,  1.76s/it]"
     ]
    },
    {
     "name": "stdout",
     "output_type": "stream",
     "text": [
      "Saved 해수욕장의 이용 및 관리에 관한 법률 to 법령별 csv 저장\n"
     ]
    },
    {
     "name": "stderr",
     "output_type": "stream",
     "text": [
      " 52%|█████▏    | 94/182 [02:36<02:24,  1.64s/it]"
     ]
    },
    {
     "name": "stdout",
     "output_type": "stream",
     "text": [
      "Saved 해양경비법 to 법령별 csv 저장\n"
     ]
    },
    {
     "name": "stderr",
     "output_type": "stream",
     "text": [
      " 52%|█████▏    | 95/182 [02:37<02:12,  1.52s/it]"
     ]
    },
    {
     "name": "stdout",
     "output_type": "stream",
     "text": [
      "Saved 해양경찰법 to 법령별 csv 저장\n"
     ]
    },
    {
     "name": "stderr",
     "output_type": "stream",
     "text": [
      " 53%|█████▎    | 96/182 [02:39<02:03,  1.44s/it]"
     ]
    },
    {
     "name": "stdout",
     "output_type": "stream",
     "text": [
      "Saved 해양경찰장비 도입 및 관리에 관한 법률 to 법령별 csv 저장\n"
     ]
    },
    {
     "name": "stderr",
     "output_type": "stream",
     "text": [
      " 53%|█████▎    | 97/182 [02:40<01:58,  1.40s/it]"
     ]
    },
    {
     "name": "stdout",
     "output_type": "stream",
     "text": [
      "Saved 해양공간계획 및 관리에 관한 법률 to 법령별 csv 저장\n"
     ]
    },
    {
     "name": "stderr",
     "output_type": "stream",
     "text": [
      " 54%|█████▍    | 98/182 [02:42<02:10,  1.55s/it]"
     ]
    },
    {
     "name": "stdout",
     "output_type": "stream",
     "text": [
      "Saved 해양과학조사법 to 법령별 csv 저장\n"
     ]
    },
    {
     "name": "stderr",
     "output_type": "stream",
     "text": [
      " 54%|█████▍    | 99/182 [02:43<02:07,  1.54s/it]"
     ]
    },
    {
     "name": "stdout",
     "output_type": "stream",
     "text": [
      "Saved 해양교육 및 해양문화의 활성화에 관한 법률 to 법령별 csv 저장\n"
     ]
    },
    {
     "name": "stderr",
     "output_type": "stream",
     "text": [
      " 55%|█████▍    | 100/182 [02:44<01:55,  1.41s/it]"
     ]
    },
    {
     "name": "stdout",
     "output_type": "stream",
     "text": [
      "Saved 해양레저관광진흥법 to 법령별 csv 저장\n"
     ]
    },
    {
     "name": "stderr",
     "output_type": "stream",
     "text": [
      " 55%|█████▌    | 101/182 [02:47<02:29,  1.85s/it]"
     ]
    },
    {
     "name": "stdout",
     "output_type": "stream",
     "text": [
      "Saved 해양사고의 조사 및 심판에 관한 법률 to 법령별 csv 저장\n"
     ]
    },
    {
     "name": "stderr",
     "output_type": "stream",
     "text": [
      " 56%|█████▌    | 102/182 [02:50<02:39,  1.99s/it]"
     ]
    },
    {
     "name": "stdout",
     "output_type": "stream",
     "text": [
      "Saved 해양산업클러스터의 지정 및 육성 등에 관한 특별법 to 법령별 csv 저장\n"
     ]
    },
    {
     "name": "stderr",
     "output_type": "stream",
     "text": [
      " 57%|█████▋    | 103/182 [02:51<02:34,  1.95s/it]"
     ]
    },
    {
     "name": "stdout",
     "output_type": "stream",
     "text": [
      "Saved 해양생태계의 보전 및 관리에 관한 법률 to 법령별 csv 저장\n"
     ]
    },
    {
     "name": "stderr",
     "output_type": "stream",
     "text": [
      " 57%|█████▋    | 104/182 [02:53<02:16,  1.75s/it]"
     ]
    },
    {
     "name": "stdout",
     "output_type": "stream",
     "text": [
      "Saved 해양수산과학기술 육성법 to 법령별 csv 저장\n"
     ]
    },
    {
     "name": "stderr",
     "output_type": "stream",
     "text": [
      " 58%|█████▊    | 105/182 [02:54<02:13,  1.74s/it]"
     ]
    },
    {
     "name": "stdout",
     "output_type": "stream",
     "text": [
      "Saved 해양수산발전 기본법 to 법령별 csv 저장\n"
     ]
    },
    {
     "name": "stderr",
     "output_type": "stream",
     "text": [
      " 58%|█████▊    | 106/182 [02:56<02:12,  1.74s/it]"
     ]
    },
    {
     "name": "stdout",
     "output_type": "stream",
     "text": [
      "Saved 해양수산생명자원의 확보ㆍ관리 및 이용 등에 관한 법률 to 법령별 csv 저장\n"
     ]
    },
    {
     "name": "stderr",
     "output_type": "stream",
     "text": [
      " 59%|█████▉    | 107/182 [02:58<02:14,  1.79s/it]"
     ]
    },
    {
     "name": "stdout",
     "output_type": "stream",
     "text": [
      "Saved 해양심층수의 개발 및 관리에 관한 법률 to 법령별 csv 저장\n"
     ]
    },
    {
     "name": "stderr",
     "output_type": "stream",
     "text": [
      " 59%|█████▉    | 108/182 [03:00<02:14,  1.82s/it]"
     ]
    },
    {
     "name": "stdout",
     "output_type": "stream",
     "text": [
      "Saved 해양이용영향평가법 to 법령별 csv 저장\n"
     ]
    },
    {
     "name": "stderr",
     "output_type": "stream",
     "text": [
      " 60%|█████▉    | 109/182 [03:01<01:58,  1.62s/it]"
     ]
    },
    {
     "name": "stdout",
     "output_type": "stream",
     "text": [
      "Saved 해양재난구조대의 설치 및 운영에 관한 법률 to 법령별 csv 저장\n"
     ]
    },
    {
     "name": "stderr",
     "output_type": "stream",
     "text": [
      " 60%|██████    | 110/182 [03:03<01:57,  1.63s/it]"
     ]
    },
    {
     "name": "stdout",
     "output_type": "stream",
     "text": [
      "Saved 해양조사와 해양정보 활용에 관한 법률 to 법령별 csv 저장\n"
     ]
    },
    {
     "name": "stderr",
     "output_type": "stream",
     "text": [
      " 61%|██████    | 111/182 [03:04<01:48,  1.52s/it]"
     ]
    },
    {
     "name": "stdout",
     "output_type": "stream",
     "text": [
      "Saved 해양치유자원의 관리 및 활용에 관한 법률 to 법령별 csv 저장\n"
     ]
    },
    {
     "name": "stderr",
     "output_type": "stream",
     "text": [
      " 62%|██████▏   | 112/182 [03:06<02:00,  1.72s/it]"
     ]
    },
    {
     "name": "stdout",
     "output_type": "stream",
     "text": [
      "Saved 해양폐기물 및 해양오염퇴적물 관리법 to 법령별 csv 저장\n"
     ]
    },
    {
     "name": "stderr",
     "output_type": "stream",
     "text": [
      " 62%|██████▏   | 113/182 [03:11<02:54,  2.53s/it]"
     ]
    },
    {
     "name": "stdout",
     "output_type": "stream",
     "text": [
      "Saved 해양환경관리법 to 법령별 csv 저장\n"
     ]
    },
    {
     "name": "stderr",
     "output_type": "stream",
     "text": [
      " 63%|██████▎   | 114/182 [03:12<02:36,  2.29s/it]"
     ]
    },
    {
     "name": "stdout",
     "output_type": "stream",
     "text": [
      "Saved 해양환경 보전 및 활용에 관한 법률 to 법령별 csv 저장\n"
     ]
    },
    {
     "name": "stderr",
     "output_type": "stream",
     "text": [
      " 63%|██████▎   | 115/182 [03:14<02:27,  2.20s/it]"
     ]
    },
    {
     "name": "stdout",
     "output_type": "stream",
     "text": [
      "Saved 해외건설 촉진법 to 법령별 csv 저장\n"
     ]
    },
    {
     "name": "stderr",
     "output_type": "stream",
     "text": [
      " 64%|██████▎   | 116/182 [03:17<02:33,  2.32s/it]"
     ]
    },
    {
     "name": "stdout",
     "output_type": "stream",
     "text": [
      "Saved 해외긴급구호에 관한 법률 to 법령별 csv 저장\n"
     ]
    },
    {
     "name": "stderr",
     "output_type": "stream",
     "text": [
      " 64%|██████▍   | 117/182 [03:20<02:34,  2.38s/it]"
     ]
    },
    {
     "name": "stdout",
     "output_type": "stream",
     "text": [
      "Saved 해외농업ㆍ산림자원 개발협력법 to 법령별 csv 저장\n"
     ]
    },
    {
     "name": "stderr",
     "output_type": "stream",
     "text": [
      " 65%|██████▍   | 118/182 [03:22<02:38,  2.47s/it]"
     ]
    },
    {
     "name": "stdout",
     "output_type": "stream",
     "text": [
      "Saved 해외이주법 to 법령별 csv 저장\n"
     ]
    },
    {
     "name": "stderr",
     "output_type": "stream",
     "text": [
      " 65%|██████▌   | 119/182 [03:24<02:16,  2.17s/it]"
     ]
    },
    {
     "name": "stdout",
     "output_type": "stream",
     "text": [
      "Saved 해외자원개발 사업법 to 법령별 csv 저장\n"
     ]
    },
    {
     "name": "stderr",
     "output_type": "stream",
     "text": [
      " 66%|██████▌   | 120/182 [03:26<02:11,  2.12s/it]"
     ]
    },
    {
     "name": "stdout",
     "output_type": "stream",
     "text": [
      "Saved 해외진출기업의 국내복귀 지원에 관한 법률 to 법령별 csv 저장\n"
     ]
    },
    {
     "name": "stderr",
     "output_type": "stream",
     "text": [
      " 66%|██████▋   | 121/182 [03:29<02:23,  2.36s/it]"
     ]
    },
    {
     "name": "stdout",
     "output_type": "stream",
     "text": [
      "Saved 해운법 to 법령별 csv 저장\n"
     ]
    },
    {
     "name": "stderr",
     "output_type": "stream",
     "text": [
      " 67%|██████▋   | 122/182 [03:32<02:42,  2.70s/it]"
     ]
    },
    {
     "name": "stdout",
     "output_type": "stream",
     "text": [
      "Saved 해저광물자원 개발법 to 법령별 csv 저장\n"
     ]
    },
    {
     "name": "stderr",
     "output_type": "stream",
     "text": [
      " 68%|██████▊   | 123/182 [03:34<02:25,  2.46s/it]"
     ]
    },
    {
     "name": "stdout",
     "output_type": "stream",
     "text": [
      "Saved 핵융합에너지 개발진흥법 to 법령별 csv 저장\n"
     ]
    },
    {
     "name": "stderr",
     "output_type": "stream",
     "text": [
      " 68%|██████▊   | 124/182 [03:36<02:14,  2.33s/it]"
     ]
    },
    {
     "name": "stdout",
     "output_type": "stream",
     "text": [
      "Saved 행정규제기본법 to 법령별 csv 저장\n"
     ]
    },
    {
     "name": "stderr",
     "output_type": "stream",
     "text": [
      " 69%|██████▊   | 125/182 [03:37<01:55,  2.03s/it]"
     ]
    },
    {
     "name": "stdout",
     "output_type": "stream",
     "text": [
      "Saved 행정기관 소속 위원회의 설치ㆍ운영에 관한 법률 to 법령별 csv 저장\n"
     ]
    },
    {
     "name": "stderr",
     "output_type": "stream",
     "text": [
      " 69%|██████▉   | 126/182 [03:39<01:51,  2.00s/it]"
     ]
    },
    {
     "name": "stdout",
     "output_type": "stream",
     "text": [
      "Saved 행정기본법 to 법령별 csv 저장\n"
     ]
    },
    {
     "name": "stderr",
     "output_type": "stream",
     "text": [
      " 70%|██████▉   | 127/182 [03:41<01:42,  1.86s/it]"
     ]
    },
    {
     "name": "stdout",
     "output_type": "stream",
     "text": [
      "Saved 행정대집행법 to 법령별 csv 저장\n"
     ]
    },
    {
     "name": "stderr",
     "output_type": "stream",
     "text": [
      " 70%|███████   | 128/182 [03:43<01:45,  1.95s/it]"
     ]
    },
    {
     "name": "stdout",
     "output_type": "stream",
     "text": [
      "Saved 행정사법 to 법령별 csv 저장\n"
     ]
    },
    {
     "name": "stderr",
     "output_type": "stream",
     "text": [
      " 71%|███████   | 129/182 [03:45<01:40,  1.89s/it]"
     ]
    },
    {
     "name": "stdout",
     "output_type": "stream",
     "text": [
      "Saved 행정소송법 to 법령별 csv 저장\n"
     ]
    },
    {
     "name": "stderr",
     "output_type": "stream",
     "text": [
      " 71%|███████▏  | 130/182 [03:47<01:45,  2.03s/it]"
     ]
    },
    {
     "name": "stdout",
     "output_type": "stream",
     "text": [
      "Saved 행정심판법 to 법령별 csv 저장\n"
     ]
    },
    {
     "name": "stderr",
     "output_type": "stream",
     "text": [
      " 72%|███████▏  | 131/182 [03:49<01:46,  2.10s/it]"
     ]
    },
    {
     "name": "stdout",
     "output_type": "stream",
     "text": [
      "Saved 행정절차법 to 법령별 csv 저장\n"
     ]
    },
    {
     "name": "stderr",
     "output_type": "stream",
     "text": [
      " 73%|███████▎  | 132/182 [03:51<01:32,  1.85s/it]"
     ]
    },
    {
     "name": "stdout",
     "output_type": "stream",
     "text": [
      "Saved 행정조사기본법 to 법령별 csv 저장\n"
     ]
    },
    {
     "name": "stderr",
     "output_type": "stream",
     "text": [
      " 73%|███████▎  | 133/182 [03:52<01:25,  1.75s/it]"
     ]
    },
    {
     "name": "stdout",
     "output_type": "stream",
     "text": [
      "Saved 행정중심복합도시 국립박물관단지 운영 및 지원에 관한 법률 to 법령별 csv 저장\n"
     ]
    },
    {
     "name": "stderr",
     "output_type": "stream",
     "text": [
      " 74%|███████▎  | 134/182 [03:54<01:21,  1.69s/it]"
     ]
    },
    {
     "name": "stdout",
     "output_type": "stream",
     "text": [
      "Saved 향교재산법 to 법령별 csv 저장\n"
     ]
    },
    {
     "name": "stderr",
     "output_type": "stream",
     "text": [
      " 74%|███████▍  | 135/182 [03:55<01:17,  1.65s/it]"
     ]
    },
    {
     "name": "stdout",
     "output_type": "stream",
     "text": [
      "Saved 허베이 스피리트호 유류오염사고 피해주민의 지원 및 해양환경의 복원 등에 관한 특별법 to 법령별 csv 저장\n"
     ]
    },
    {
     "name": "stderr",
     "output_type": "stream",
     "text": [
      " 75%|███████▍  | 136/182 [03:57<01:18,  1.71s/it]"
     ]
    },
    {
     "name": "stdout",
     "output_type": "stream",
     "text": [
      "Saved 헌법재판소법 to 법령별 csv 저장\n"
     ]
    },
    {
     "name": "stderr",
     "output_type": "stream",
     "text": [
      " 75%|███████▌  | 137/182 [03:59<01:14,  1.66s/it]"
     ]
    },
    {
     "name": "stdout",
     "output_type": "stream",
     "text": [
      "Saved 헌정질서 파괴범죄의 공소시효 등에 관한 특례법 to 법령별 csv 저장\n"
     ]
    },
    {
     "name": "stderr",
     "output_type": "stream",
     "text": [
      " 76%|███████▌  | 138/182 [04:00<01:08,  1.56s/it]"
     ]
    },
    {
     "name": "stdout",
     "output_type": "stream",
     "text": [
      "Saved 헤이그 국제아동탈취협약 이행에 관한 법률 to 법령별 csv 저장\n"
     ]
    },
    {
     "name": "stderr",
     "output_type": "stream",
     "text": [
      " 76%|███████▋  | 139/182 [04:02<01:12,  1.68s/it]"
     ]
    },
    {
     "name": "stdout",
     "output_type": "stream",
     "text": [
      "Saved 혁신도시 조성 및 발전에 관한 특별법 to 법령별 csv 저장\n"
     ]
    },
    {
     "name": "stderr",
     "output_type": "stream",
     "text": [
      " 77%|███████▋  | 140/182 [04:04<01:19,  1.89s/it]"
     ]
    },
    {
     "name": "stdout",
     "output_type": "stream",
     "text": [
      "Saved 혈액관리법 to 법령별 csv 저장\n"
     ]
    },
    {
     "name": "stderr",
     "output_type": "stream",
     "text": [
      " 77%|███████▋  | 141/182 [04:06<01:14,  1.82s/it]"
     ]
    },
    {
     "name": "stdout",
     "output_type": "stream",
     "text": [
      "Saved 협동연구개발촉진법 to 법령별 csv 저장\n"
     ]
    },
    {
     "name": "stderr",
     "output_type": "stream",
     "text": [
      " 78%|███████▊  | 142/182 [04:09<01:22,  2.07s/it]"
     ]
    },
    {
     "name": "stdout",
     "output_type": "stream",
     "text": [
      "Saved 협동조합 기본법 to 법령별 csv 저장\n"
     ]
    },
    {
     "name": "stderr",
     "output_type": "stream",
     "text": [
      " 79%|███████▊  | 143/182 [04:13<01:42,  2.63s/it]"
     ]
    },
    {
     "name": "stdout",
     "output_type": "stream",
     "text": [
      "Saved 형법 to 법령별 csv 저장\n"
     ]
    },
    {
     "name": "stderr",
     "output_type": "stream",
     "text": [
      " 79%|███████▉  | 144/182 [04:15<01:36,  2.55s/it]"
     ]
    },
    {
     "name": "stdout",
     "output_type": "stream",
     "text": [
      "Saved 형사보상 및 명예회복에 관한 법률 to 법령별 csv 저장\n"
     ]
    },
    {
     "name": "stderr",
     "output_type": "stream",
     "text": [
      " 80%|███████▉  | 145/182 [04:16<01:18,  2.12s/it]"
     ]
    },
    {
     "name": "stdout",
     "output_type": "stream",
     "text": [
      "Saved 형사사법절차에서의 전자문서 이용 등에 관한 법률 to 법령별 csv 저장\n"
     ]
    },
    {
     "name": "stderr",
     "output_type": "stream",
     "text": [
      " 80%|████████  | 146/182 [04:17<01:05,  1.81s/it]"
     ]
    },
    {
     "name": "stdout",
     "output_type": "stream",
     "text": [
      "Saved 형사사법절차 전자화 촉진법 to 법령별 csv 저장\n"
     ]
    },
    {
     "name": "stderr",
     "output_type": "stream",
     "text": [
      " 81%|████████  | 147/182 [04:22<01:33,  2.66s/it]"
     ]
    },
    {
     "name": "stdout",
     "output_type": "stream",
     "text": [
      "Saved 형사소송법 to 법령별 csv 저장\n"
     ]
    },
    {
     "name": "stderr",
     "output_type": "stream",
     "text": [
      " 81%|████████▏ | 148/182 [04:24<01:22,  2.42s/it]"
     ]
    },
    {
     "name": "stdout",
     "output_type": "stream",
     "text": [
      "Saved 형사소송비용 등에 관한 법률 to 법령별 csv 저장\n"
     ]
    },
    {
     "name": "stderr",
     "output_type": "stream",
     "text": [
      " 82%|████████▏ | 149/182 [04:26<01:19,  2.41s/it]"
     ]
    },
    {
     "name": "stdout",
     "output_type": "stream",
     "text": [
      "Saved 형의 실효 등에 관한 법률 to 법령별 csv 저장\n"
     ]
    },
    {
     "name": "stderr",
     "output_type": "stream",
     "text": [
      " 82%|████████▏ | 150/182 [04:31<01:38,  3.08s/it]"
     ]
    },
    {
     "name": "stdout",
     "output_type": "stream",
     "text": [
      "Saved 형의 집행 및 수용자의 처우에 관한 법률 to 법령별 csv 저장\n"
     ]
    },
    {
     "name": "stderr",
     "output_type": "stream",
     "text": [
      " 83%|████████▎ | 151/182 [04:32<01:21,  2.62s/it]"
     ]
    },
    {
     "name": "stdout",
     "output_type": "stream",
     "text": [
      "Saved 호스피스ㆍ완화의료 및 임종과정에 있는 환자의 연명의료결정에 관한 법률 to 법령별 csv 저장\n"
     ]
    },
    {
     "name": "stderr",
     "output_type": "stream",
     "text": [
      " 84%|████████▎ | 152/182 [04:34<01:10,  2.36s/it]"
     ]
    },
    {
     "name": "stdout",
     "output_type": "stream",
     "text": [
      "Saved 혼인신고특례법 to 법령별 csv 저장\n"
     ]
    },
    {
     "name": "stderr",
     "output_type": "stream",
     "text": [
      " 84%|████████▍ | 153/182 [04:36<01:10,  2.43s/it]"
     ]
    },
    {
     "name": "stdout",
     "output_type": "stream",
     "text": [
      "Saved 화물자동차 운수사업법 to 법령별 csv 저장\n"
     ]
    },
    {
     "name": "stderr",
     "output_type": "stream",
     "text": [
      " 85%|████████▍ | 154/182 [04:38<00:59,  2.11s/it]"
     ]
    },
    {
     "name": "stdout",
     "output_type": "stream",
     "text": [
      "Saved 화염병 사용 등의 처벌에 관한 법률 to 법령별 csv 저장\n"
     ]
    },
    {
     "name": "stderr",
     "output_type": "stream",
     "text": [
      " 85%|████████▌ | 155/182 [04:40<00:53,  2.00s/it]"
     ]
    },
    {
     "name": "stdout",
     "output_type": "stream",
     "text": [
      "Saved 화장품법 to 법령별 csv 저장\n"
     ]
    },
    {
     "name": "stderr",
     "output_type": "stream",
     "text": [
      " 86%|████████▌ | 156/182 [04:41<00:47,  1.82s/it]"
     ]
    },
    {
     "name": "stdout",
     "output_type": "stream",
     "text": [
      "Saved 화재로 인한 재해보상과 보험가입에 관한 법률 to 법령별 csv 저장\n"
     ]
    },
    {
     "name": "stderr",
     "output_type": "stream",
     "text": [
      " 86%|████████▋ | 157/182 [04:43<00:45,  1.80s/it]"
     ]
    },
    {
     "name": "stdout",
     "output_type": "stream",
     "text": [
      "Saved 화재의 예방 및 안전관리에 관한 법률 to 법령별 csv 저장\n"
     ]
    },
    {
     "name": "stderr",
     "output_type": "stream",
     "text": [
      " 87%|████████▋ | 158/182 [04:44<00:41,  1.74s/it]"
     ]
    },
    {
     "name": "stdout",
     "output_type": "stream",
     "text": [
      "Saved 화학무기ㆍ생물무기의 금지와 특정화학물질ㆍ생물작용제 등의 제조ㆍ수출입 규제 등에 관한 법률 to 법령별 csv 저장\n"
     ]
    },
    {
     "name": "stderr",
     "output_type": "stream",
     "text": [
      " 87%|████████▋ | 159/182 [04:47<00:44,  1.95s/it]"
     ]
    },
    {
     "name": "stdout",
     "output_type": "stream",
     "text": [
      "Saved 화학물질관리법 to 법령별 csv 저장\n"
     ]
    },
    {
     "name": "stderr",
     "output_type": "stream",
     "text": [
      " 88%|████████▊ | 160/182 [04:49<00:47,  2.15s/it]"
     ]
    },
    {
     "name": "stdout",
     "output_type": "stream",
     "text": [
      "Saved 화학물질의 등록 및 평가 등에 관한 법률 to 법령별 csv 저장\n"
     ]
    },
    {
     "name": "stderr",
     "output_type": "stream",
     "text": [
      " 88%|████████▊ | 161/182 [04:51<00:41,  1.97s/it]"
     ]
    },
    {
     "name": "stdout",
     "output_type": "stream",
     "text": [
      "Saved 화훼산업 발전 및 화훼문화 진흥에 관한 법률 to 법령별 csv 저장\n"
     ]
    },
    {
     "name": "stderr",
     "output_type": "stream",
     "text": [
      " 89%|████████▉ | 162/182 [04:53<00:37,  1.85s/it]"
     ]
    },
    {
     "name": "stdout",
     "output_type": "stream",
     "text": [
      "Saved 환경개선비용 부담법 to 법령별 csv 저장\n"
     ]
    },
    {
     "name": "stderr",
     "output_type": "stream",
     "text": [
      " 90%|████████▉ | 163/182 [04:54<00:33,  1.75s/it]"
     ]
    },
    {
     "name": "stdout",
     "output_type": "stream",
     "text": [
      "Saved 환경교육의 활성화 및 지원에 관한 법률 to 법령별 csv 저장\n"
     ]
    },
    {
     "name": "stderr",
     "output_type": "stream",
     "text": [
      " 90%|█████████ | 164/182 [04:56<00:32,  1.83s/it]"
     ]
    },
    {
     "name": "stdout",
     "output_type": "stream",
     "text": [
      "Saved 환경기술 및 환경산업 지원법 to 법령별 csv 저장\n"
     ]
    },
    {
     "name": "stderr",
     "output_type": "stream",
     "text": [
      " 91%|█████████ | 165/182 [04:59<00:35,  2.11s/it]"
     ]
    },
    {
     "name": "stdout",
     "output_type": "stream",
     "text": [
      "Saved 환경범죄 등의 단속 및 가중처벌에 관한 법률 to 법령별 csv 저장\n"
     ]
    },
    {
     "name": "stderr",
     "output_type": "stream",
     "text": [
      " 91%|█████████ | 166/182 [05:01<00:33,  2.08s/it]"
     ]
    },
    {
     "name": "stdout",
     "output_type": "stream",
     "text": [
      "Saved 환경보건법 to 법령별 csv 저장\n"
     ]
    },
    {
     "name": "stderr",
     "output_type": "stream",
     "text": [
      " 92%|█████████▏| 167/182 [05:02<00:29,  1.94s/it]"
     ]
    },
    {
     "name": "stdout",
     "output_type": "stream",
     "text": [
      "Saved 환경분야 시험ㆍ검사 등에 관한 법률 to 법령별 csv 저장\n"
     ]
    },
    {
     "name": "stderr",
     "output_type": "stream",
     "text": [
      " 92%|█████████▏| 168/182 [05:04<00:25,  1.83s/it]"
     ]
    },
    {
     "name": "stdout",
     "output_type": "stream",
     "text": [
      "Saved 환경분쟁 조정 및 환경피해 구제 등에 관한 법률 to 법령별 csv 저장\n"
     ]
    },
    {
     "name": "stderr",
     "output_type": "stream",
     "text": [
      " 93%|█████████▎| 169/182 [05:06<00:24,  1.86s/it]"
     ]
    },
    {
     "name": "stdout",
     "output_type": "stream",
     "text": [
      "Saved 환경영향평가법 to 법령별 csv 저장\n"
     ]
    },
    {
     "name": "stderr",
     "output_type": "stream",
     "text": [
      " 93%|█████████▎| 170/182 [05:08<00:22,  1.85s/it]"
     ]
    },
    {
     "name": "stdout",
     "output_type": "stream",
     "text": [
      "Saved 환경오염시설의 통합관리에 관한 법률 to 법령별 csv 저장\n"
     ]
    },
    {
     "name": "stderr",
     "output_type": "stream",
     "text": [
      " 94%|█████████▍| 171/182 [05:09<00:19,  1.75s/it]"
     ]
    },
    {
     "name": "stdout",
     "output_type": "stream",
     "text": [
      "Saved 환경오염피해 배상책임 및 구제에 관한 법률 to 법령별 csv 저장\n"
     ]
    },
    {
     "name": "stderr",
     "output_type": "stream",
     "text": [
      " 95%|█████████▍| 172/182 [05:11<00:18,  1.81s/it]"
     ]
    },
    {
     "name": "stdout",
     "output_type": "stream",
     "text": [
      "Saved 환경정책기본법 to 법령별 csv 저장\n"
     ]
    },
    {
     "name": "stderr",
     "output_type": "stream",
     "text": [
      " 95%|█████████▌| 173/182 [05:13<00:15,  1.76s/it]"
     ]
    },
    {
     "name": "stdout",
     "output_type": "stream",
     "text": [
      "Saved 환경친화적 산업구조로의 전환촉진에 관한 법률 to 법령별 csv 저장\n"
     ]
    },
    {
     "name": "stderr",
     "output_type": "stream",
     "text": [
      " 96%|█████████▌| 174/182 [05:14<00:12,  1.60s/it]"
     ]
    },
    {
     "name": "stdout",
     "output_type": "stream",
     "text": [
      "Saved 환경친화적 선박의 개발 및 보급 촉진에 관한 법률 to 법령별 csv 저장\n"
     ]
    },
    {
     "name": "stderr",
     "output_type": "stream",
     "text": [
      " 96%|█████████▌| 175/182 [05:16<00:11,  1.62s/it]"
     ]
    },
    {
     "name": "stdout",
     "output_type": "stream",
     "text": [
      "Saved 환경친화적 자동차의 개발 및 보급 촉진에 관한 법률 to 법령별 csv 저장\n"
     ]
    },
    {
     "name": "stderr",
     "output_type": "stream",
     "text": [
      " 97%|█████████▋| 176/182 [05:17<00:09,  1.52s/it]"
     ]
    },
    {
     "name": "stdout",
     "output_type": "stream",
     "text": [
      "Saved 환자안전법 to 법령별 csv 저장\n"
     ]
    },
    {
     "name": "stderr",
     "output_type": "stream",
     "text": [
      " 97%|█████████▋| 177/182 [05:19<00:07,  1.54s/it]"
     ]
    },
    {
     "name": "stdout",
     "output_type": "stream",
     "text": [
      "Saved 회계관계직원 등의 책임에 관한 법률 to 법령별 csv 저장\n"
     ]
    },
    {
     "name": "stderr",
     "output_type": "stream",
     "text": [
      " 98%|█████████▊| 178/182 [05:21<00:07,  1.76s/it]"
     ]
    },
    {
     "name": "stdout",
     "output_type": "stream",
     "text": [
      "Saved 효행 장려 및 지원에 관한 법률 to 법령별 csv 저장\n"
     ]
    },
    {
     "name": "stderr",
     "output_type": "stream",
     "text": [
      " 98%|█████████▊| 179/182 [05:23<00:05,  1.95s/it]"
     ]
    },
    {
     "name": "stdout",
     "output_type": "stream",
     "text": [
      "Saved 후견등기에 관한 법률 to 법령별 csv 저장\n"
     ]
    },
    {
     "name": "stderr",
     "output_type": "stream",
     "text": [
      " 99%|█████████▉| 180/182 [05:24<00:03,  1.72s/it]"
     ]
    },
    {
     "name": "stdout",
     "output_type": "stream",
     "text": [
      "Saved 후계농어업인 및 청년농어업인 육성ㆍ지원에 관한 법률 to 법령별 csv 저장\n"
     ]
    },
    {
     "name": "stderr",
     "output_type": "stream",
     "text": [
      " 99%|█████████▉| 181/182 [05:26<00:01,  1.63s/it]"
     ]
    },
    {
     "name": "stdout",
     "output_type": "stream",
     "text": [
      "Saved 후천성면역결핍증 예방법 to 법령별 csv 저장\n"
     ]
    },
    {
     "name": "stderr",
     "output_type": "stream",
     "text": [
      "100%|██████████| 182/182 [05:27<00:00,  1.80s/it]"
     ]
    },
    {
     "name": "stdout",
     "output_type": "stream",
     "text": [
      "Saved 희귀질환관리법 to 법령별 csv 저장\n"
     ]
    },
    {
     "name": "stderr",
     "output_type": "stream",
     "text": [
      "\n"
     ]
    }
   ],
   "source": [
    "import pandas as pd\n",
    "import re\n",
    "import os\n",
    "import xml.etree.ElementTree as ET\n",
    "from urllib.request import urlopen\n",
    "from tqdm import trange\n",
    "\n",
    "# 디렉토리 생성(없으면)\n",
    "output_dir = '법령별 csv 저장'\n",
    "if not os.path.exists(output_dir):\n",
    "    os.makedirs(output_dir)\n",
    "\n",
    "# CSV 파일 로드\n",
    "law_list = pd.read_csv(\"법령검색목록.csv\") #여기 파일 이름 지정\n",
    "\n",
    "def remove_tag(content):\n",
    "    \"\"\"XML에서 사용된 특수문자 제거용 함수\"\"\"\n",
    "    return re.sub('<.*?>', '', content)\n",
    "\n",
    "### {mst_value}를 바꿔가면서 사용할 베이스 url\n",
    "### OC 파트 반드시 확인!\n",
    "url_template = \"https://www.law.go.kr/DRF/lawService.do?OC=silverbreak&target=law&MST={mst_value}&type=XML\"\n",
    "\n",
    "\n",
    "# 법령 목록에 있는 각 항목에 대해 반복 처리\n",
    "for i in trange(1501, len(law_list)):\n",
    "    mst_value = law_list.loc[i, '법령MST']  # MST 값: 각 법령을 식별하는 고유 ID\n",
    "    법령명 = law_list.loc[i, '법령명'].strip()  # 법령명: 법령의 이름\n",
    "    url = url_template.format(mst_value=mst_value)  # MST 값을 사용하여 URL 생성\n",
    "    \n",
    "    try:\n",
    "        # URL에서 XML 데이터 요청 및 읽기\n",
    "        response = urlopen(url).read()  # URL로부터 응답 데이터 읽기\n",
    "        response = response.decode('utf-8', errors='ignore')  # UTF-8로 디코딩하여 문자열로 변환\n",
    "        response = re.sub(r'<script.*?/>', '', response)  # <script/> 태그 제거 (불필요한 내용 정리)\n",
    "        \n",
    "        # 응답이 XML 형식인지 확인\n",
    "        if response.strip().startswith('<?xml'):\n",
    "            root = ET.fromstring(response)  # XML 파싱하여 ElementTree 객체로 변환\n",
    "        else:\n",
    "            # 응답이 XML 형식이 아닐 경우 경고 메시지를 출력하고 다음 법령으로 넘어감\n",
    "            print(f\"Non-XML response received for {법령명}\")\n",
    "            continue\n",
    "\n",
    "        all_rows = []  # 수집된 모든 법령 데이터를 저장할 리스트 초기화\n",
    "\n",
    "        # XML에서 <조문단위> 태그를 모두 찾아서 반복 처리\n",
    "        for clause in root.findall(\".//조문단위\"):\n",
    "            조문제목 = clause.find('조문제목')  # 조문제목 태그 찾기\n",
    "\n",
    "            # 기본 조문 정보 수집\n",
    "            조문정보 = {\n",
    "                '법령명': 법령명,\n",
    "                '조문번호': clause.find('조문번호').text if clause.find('조문번호') is not None else '',  # 조문번호가 없는 경우 빈 문자열 처리\n",
    "                '조문제목': remove_tag(조문제목.text) if 조문제목 is not None else '',  # 조문제목 태그가 있는 경우 태그 제거 후 추가\n",
    "                '조문내용': remove_tag(clause.find('조문내용').text) if clause.find('조문내용') is not None else '',  # 조문내용 태그가 있는 경우 태그 제거 후 추가\n",
    "                '조문시행일자': clause.find('조문시행일자').text if clause.find('조문시행일자') is not None else '',  # 시행일자가 없는 경우 빈 문자열 처리\n",
    "                '조문변경여부': clause.find('조문변경여부').text if clause.find('조문변경여부') is not None else ''  # 변경여부가 없는 경우 빈 문자열 처리\n",
    "            }\n",
    "\n",
    "            # 조문내용이 있는 경우만 기본 조문 정보를 추가\n",
    "            if 조문정보['조문내용']:\n",
    "                all_rows.append({**조문정보, '항': '', '호': '', '목': ''})\n",
    "\n",
    "            # <항> 태그를 찾아서 반복 처리\n",
    "            for depth1 in clause.findall('항'):\n",
    "                항내용 = depth1.find('항내용').text.strip() if depth1.find('항내용') is not None else ''  # 항내용 태그가 없는 경우 빈 문자열 처리\n",
    "                항_row = {**조문정보, '항': 항내용, '호': '', '목': ''}  # 항 정보를 포함한 새로운 행 생성\n",
    "                all_rows.append(항_row)  # 항 정보를 추가\n",
    "\n",
    "                # <호> 태그를 찾아서 반복 처리\n",
    "                for depth2 in depth1.findall('호'):\n",
    "                    호번호 = depth2.find('호번호').text.strip() if depth2.find('호번호') is not None else ''  # 호번호가 없는 경우 빈 문자열 처리\n",
    "                    호내용 = depth2.find('호내용').text.strip() if depth2.find('호내용') is not None else ''  # 호내용이 없는 경우 빈 문자열 처리\n",
    "                    호_row = {**항_row, '호': f\"{호번호} {호내용}\", '목': ''}  # 호 정보를 포함한 새로운 행 생성\n",
    "                    all_rows.append(호_row)  # 호 정보를 추가\n",
    "\n",
    "                    # <목> 태그를 찾아서 반복 처리\n",
    "                    for depth3 in depth2.findall('목'):\n",
    "                        목내용 = depth3.find('목내용').text.strip() if depth3.find('목내용') is not None else ''  # 목내용이 없는 경우 빈 문자열 처리\n",
    "                        목_row = {**호_row, '목': 목내용}  # 목 정보를 포함한 새로운 행 생성\n",
    "                        all_rows.append(목_row)  # 목 정보를 추가\n",
    "\n",
    "        # 수집한 데이터를 CSV 파일로 저장\n",
    "        if all_rows:\n",
    "            file_path = os.path.join(output_dir, f\"{법령명}.csv\")  # 저장할 파일 경로 지정\n",
    "            pd.DataFrame(all_rows).to_csv(file_path, index=False, encoding='utf-8-sig', sep='\\t')  # CSV 파일로 저장\n",
    "            print(f\"Saved {법령명} to {output_dir}\")\n",
    "        else:\n",
    "            # 수집된 데이터가 없을 경우 경고 메시지 출력\n",
    "            print(f\"No data found for {법령명}\")\n",
    "\n",
    "    except Exception as e:\n",
    "        # 에러 발생 시 에러 메시지와 원본 응답 출력 후 루프 종료\n",
    "        print(f\"Error fetching or parsing XML for {법령명} (MST: {mst_value}): {e}\")\n",
    "        print(\"Raw response:\")\n",
    "        print(response)  # 에러 발생 시 원본 응답 출력\n",
    "        break  # 루프 종료"
   ]
  },
  {
   "cell_type": "code",
   "execution_count": null,
   "id": "b0ece947",
   "metadata": {},
   "outputs": [],
   "source": [
    "import pandas as pd\n",
    "import os\n",
    "\n",
    "def process_files(folder_path, target_folder):\n",
    "    # Ensure target directory exists\n",
    "    if not os.path.exists(target_folder):\n",
    "        os.makedirs(target_folder)\n",
    "    \n",
    "    # Process each file in the folder\n",
    "    for file_name in os.listdir(folder_path):\n",
    "        try:\n",
    "            if file_name.endswith('.csv'):\n",
    "                file_path = os.path.join(folder_path, file_name)\n",
    "                df = pd.read_csv(file_path, encoding='utf-8-sig', sep='\\t')\n",
    "                print(f\"Processing : {file_path}\")\n",
    "                # Remove duplicate cell contents and replace NaN values with ' '\n",
    "                df = remove_duplicate_cell_contents(df, ['조문내용', '항', '호', '목'])\n",
    "                \n",
    "                # Replace NaN values with ''\n",
    "                df = df.fillna('')\n",
    "\n",
    "                # Save the updated file to the target folder with the same name\n",
    "                target_file_path = os.path.join(target_folder, file_name)\n",
    "                df.to_csv(target_file_path, index=False, encoding='utf-8-sig', sep='\\t')\n",
    "                print(f\"Updated file saved to: {target_file_path}\")\n",
    "        except Exception as e:\n",
    "            print(f\"Error processing file {file_name}: {e}\")\n",
    "            continue\n",
    "\n",
    "def remove_duplicate_cell_contents(df, columns):\n",
    "    # Remove duplicates in specified columns\n",
    "    for column in columns:\n",
    "        last_seen = None\n",
    "        for idx in df.index:\n",
    "            current_value = df.at[idx, column]\n",
    "            if current_value == last_seen:\n",
    "                df.at[idx, column] = ''\n",
    "            else:\n",
    "                last_seen = current_value\n",
    "    return df\n",
    "\n",
    "# Set source and target folder paths\n",
    "folder_path = '법령별 csv 저장'\n",
    "target_folder = '법령별 csv 저장 중복제거'\n",
    "process_files(folder_path, target_folder)\n"
   ]
  }
 ],
 "metadata": {
  "kernelspec": {
   "display_name": "bylaw",
   "language": "python",
   "name": "python3"
  },
  "language_info": {
   "codemirror_mode": {
    "name": "ipython",
    "version": 3
   },
   "file_extension": ".py",
   "mimetype": "text/x-python",
   "name": "python",
   "nbconvert_exporter": "python",
   "pygments_lexer": "ipython3",
   "version": "3.10.16"
  }
 },
 "nbformat": 4,
 "nbformat_minor": 5
}
