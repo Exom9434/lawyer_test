{
 "cells": [
  {
   "cell_type": "code",
   "execution_count": 2,
   "metadata": {},
   "outputs": [],
   "source": [
    "import pandas as pd\n",
    "import xml.etree.ElementTree as ET\n",
    "from urllib.request import urlopen\n",
    "from tqdm import trange\n",
    "import os\n",
    "import pandas as pd\n",
    "from openpyxl import load_workbook\n",
    "import re\n",
    "from urllib.parse import quote\n"
   ]
  },
  {
   "cell_type": "code",
   "execution_count": 3,
   "metadata": {},
   "outputs": [
    {
     "ename": "NameError",
     "evalue": "name 'totalCnt' is not defined",
     "output_type": "error",
     "traceback": [
      "\u001b[1;31m---------------------------------------------------------------------------\u001b[0m",
      "\u001b[1;31mNameError\u001b[0m                                 Traceback (most recent call last)",
      "Cell \u001b[1;32mIn[3], line 1\u001b[0m\n\u001b[1;32m----> 1\u001b[0m \u001b[38;5;28mprint\u001b[39m(\u001b[43mtotalCnt\u001b[49m)\n",
      "\u001b[1;31mNameError\u001b[0m: name 'totalCnt' is not defined"
     ]
    }
   ],
   "source": [
    "print(totalCnt)"
   ]
  },
  {
   "cell_type": "code",
   "execution_count": 4,
   "metadata": {},
   "outputs": [
    {
     "ename": "NameError",
     "evalue": "name 'response' is not defined",
     "output_type": "error",
     "traceback": [
      "\u001b[1;31m---------------------------------------------------------------------------\u001b[0m",
      "\u001b[1;31mNameError\u001b[0m                                 Traceback (most recent call last)",
      "Cell \u001b[1;32mIn[4], line 1\u001b[0m\n\u001b[1;32m----> 1\u001b[0m \u001b[38;5;28mprint\u001b[39m(\u001b[43mresponse\u001b[49m)\n",
      "\u001b[1;31mNameError\u001b[0m: name 'response' is not defined"
     ]
    }
   ],
   "source": [
    "print(response)"
   ]
  },
  {
   "cell_type": "code",
   "execution_count": 5,
   "metadata": {},
   "outputs": [
    {
     "ename": "NameError",
     "evalue": "name 'xtree' is not defined",
     "output_type": "error",
     "traceback": [
      "\u001b[1;31m---------------------------------------------------------------------------\u001b[0m",
      "\u001b[1;31mNameError\u001b[0m                                 Traceback (most recent call last)",
      "Cell \u001b[1;32mIn[5], line 1\u001b[0m\n\u001b[1;32m----> 1\u001b[0m \u001b[38;5;28mprint\u001b[39m(\u001b[43mxtree\u001b[49m)\n",
      "\u001b[1;31mNameError\u001b[0m: name 'xtree' is not defined"
     ]
    }
   ],
   "source": [
    "print(xtree)"
   ]
  },
  {
   "cell_type": "code",
   "execution_count": 6,
   "metadata": {},
   "outputs": [
    {
     "ename": "NameError",
     "evalue": "name 'xtree' is not defined",
     "output_type": "error",
     "traceback": [
      "\u001b[1;31m---------------------------------------------------------------------------\u001b[0m",
      "\u001b[1;31mNameError\u001b[0m                                 Traceback (most recent call last)",
      "Cell \u001b[1;32mIn[6], line 2\u001b[0m\n\u001b[0;32m      1\u001b[0m \u001b[38;5;66;03m# Print the root element's tag and attributes\u001b[39;00m\n\u001b[1;32m----> 2\u001b[0m \u001b[38;5;28mprint\u001b[39m(\u001b[38;5;124m\"\u001b[39m\u001b[38;5;124mRoot element:\u001b[39m\u001b[38;5;124m\"\u001b[39m, \u001b[43mxtree\u001b[49m\u001b[38;5;241m.\u001b[39mtag)\n\u001b[0;32m      3\u001b[0m \u001b[38;5;28;01mfor\u001b[39;00m attribute \u001b[38;5;129;01min\u001b[39;00m xtree\u001b[38;5;241m.\u001b[39mattrib:\n\u001b[0;32m      4\u001b[0m     \u001b[38;5;28mprint\u001b[39m(\u001b[38;5;124mf\u001b[39m\u001b[38;5;124m\"\u001b[39m\u001b[38;5;124mAttribute - \u001b[39m\u001b[38;5;132;01m{\u001b[39;00mattribute\u001b[38;5;132;01m}\u001b[39;00m\u001b[38;5;124m: \u001b[39m\u001b[38;5;132;01m{\u001b[39;00mxtree\u001b[38;5;241m.\u001b[39mattrib[attribute]\u001b[38;5;132;01m}\u001b[39;00m\u001b[38;5;124m\"\u001b[39m)\n",
      "\u001b[1;31mNameError\u001b[0m: name 'xtree' is not defined"
     ]
    }
   ],
   "source": [
    "# Print the root element's tag and attributes\n",
    "print(\"Root element:\", xtree.tag)\n",
    "for attribute in xtree.attrib:\n",
    "    print(f\"Attribute - {attribute}: {xtree.attrib[attribute]}\")\n",
    "\n",
    "# Function to print a simple view of XML structure\n",
    "def print_xml_structure(element, indent=\"\"):\n",
    "    \"\"\"Recursively print the structure of the XML.\"\"\"\n",
    "    print(indent + f\"Element: {element.tag}, Attributes: {element.attrib}\")\n",
    "    if element.text is not None and element.text.strip():\n",
    "        print(indent + \"   Text:\", element.text.strip())\n",
    "    for child in element:\n",
    "        print_xml_structure(child, indent + \"   \")\n",
    "\n",
    "# Print the structure of the first few elements to avoid too much output\n",
    "for child in list(xtree)[:5]:  # Adjust the slice as needed\n",
    "    print_xml_structure(child)\n"
   ]
  },
  {
   "cell_type": "code",
   "execution_count": 7,
   "metadata": {},
   "outputs": [],
   "source": [
    "import math"
   ]
  },
  {
   "cell_type": "code",
   "execution_count": 8,
   "metadata": {},
   "outputs": [
    {
     "ename": "NameError",
     "evalue": "name 'totalCnt' is not defined",
     "output_type": "error",
     "traceback": [
      "\u001b[1;31m---------------------------------------------------------------------------\u001b[0m",
      "\u001b[1;31mNameError\u001b[0m                                 Traceback (most recent call last)",
      "Cell \u001b[1;32mIn[8], line 2\u001b[0m\n\u001b[0;32m      1\u001b[0m laws_data \u001b[38;5;241m=\u001b[39m []\n\u001b[1;32m----> 2\u001b[0m \u001b[38;5;28;01mfor\u001b[39;00m i \u001b[38;5;129;01min\u001b[39;00m \u001b[38;5;28mrange\u001b[39m(\u001b[38;5;241m1\u001b[39m, math\u001b[38;5;241m.\u001b[39mceil(\u001b[43mtotalCnt\u001b[49m \u001b[38;5;241m/\u001b[39m \u001b[38;5;241m20\u001b[39m) \u001b[38;5;241m+\u001b[39m \u001b[38;5;241m1\u001b[39m):\n\u001b[0;32m      3\u001b[0m     url \u001b[38;5;241m=\u001b[39m \u001b[38;5;124mf\u001b[39m\u001b[38;5;124m\"\u001b[39m\u001b[38;5;124mhttp://www.law.go.kr/DRF/lawSearch.do?OC=silverbreak&target=law&type=XML&page=\u001b[39m\u001b[38;5;132;01m{\u001b[39;00mi\u001b[38;5;132;01m}\u001b[39;00m\u001b[38;5;124m\"\u001b[39m\n\u001b[0;32m      4\u001b[0m         \u001b[38;5;66;03m# Iterate over each law element found in the XML\u001b[39;00m\n",
      "\u001b[1;31mNameError\u001b[0m: name 'totalCnt' is not defined"
     ]
    }
   ],
   "source": [
    "laws_data = []\n",
    "for i in range(1, math.ceil(totalCnt / 20) + 1):\n",
    "    url = f\"http://www.law.go.kr/DRF/lawSearch.do?OC=silverbreak&target=law&type=XML&page={i}\"\n",
    "        # Iterate over each law element found in the XML\n",
    "    response = urlopen(url).read()\n",
    "    # ET.fromstring을 통해 전체 불러오기\n",
    "    xtree = ET.fromstring(response)\n",
    "    for law in xtree.findall('law'):\n",
    "        law_data = {\n",
    "            '법령명한글': law.find('법령명한글').text if law.find('법령명한글') is not None else None,\n",
    "            '법령일련번호': law.find('법령일련번호').text if law.find('법령일련번호') is not None else None,\n",
    "            '현행연혁코드': law.find('현행연혁코드').text if law.find('현행연혁코드') is not None else None,\n",
    "            '법령명한글': law.find('법령명한글').text.strip() if law.find('법령명한글') is not None and law.find('법령명한글').text is not None else None,\n",
    "            '법령약칭명': law.find('법령약칭명').text.strip() if law.find('법령약칭명') is not None and law.find('법령약칭명').text is not None else None,\n",
    "            '법령ID': law.find('법령ID').text if law.find('법령ID') is not None else None,\n",
    "            '공포일자': law.find('공포일자').text if law.find('공포일자') is not None else None,\n",
    "            '공포번호': law.find('공포번호').text if law.find('공포번호') is not None else None,\n",
    "            '제개정구분명': law.find('제개정구분명').text if law.find('제개정구분명') is not None else None,\n",
    "            '소관부처코드': law.find('소관부처코드').text if law.find('소관부처코드') is not None else None,\n",
    "            '소관부처명': law.find('소관부처명').text if law.find('소관부처명') is not None else None,\n",
    "            '법령구분명': law.find('법령구분명').text if law.find('법령구분명') is not None else None,\n",
    "            '시행일자': law.find('시행일자').text if law.find('시행일자') is not None else None,\n",
    "            '법령상세링크': law.find('법령상세링크').text if law.find('법령상세링크') is not None else None\n",
    "        }\n",
    "        # Append this law's data to the list\n",
    "        laws_data.append(law_data)\n",
    "\n",
    "# Convert the list of dictionaries to a DataFrame\n",
    "df = pd.DataFrame(laws_data)"
   ]
  },
  {
   "cell_type": "code",
   "execution_count": 9,
   "metadata": {},
   "outputs": [
    {
     "ename": "NameError",
     "evalue": "name 'df' is not defined",
     "output_type": "error",
     "traceback": [
      "\u001b[1;31m---------------------------------------------------------------------------\u001b[0m",
      "\u001b[1;31mNameError\u001b[0m                                 Traceback (most recent call last)",
      "Cell \u001b[1;32mIn[9], line 1\u001b[0m\n\u001b[1;32m----> 1\u001b[0m \u001b[43mdf\u001b[49m\u001b[38;5;241m.\u001b[39mto_csv(\u001b[38;5;124m\"\u001b[39m\u001b[38;5;124m모든_법령_목록.csv\u001b[39m\u001b[38;5;124m\"\u001b[39m)\n",
      "\u001b[1;31mNameError\u001b[0m: name 'df' is not defined"
     ]
    }
   ],
   "source": [
    "df.to_csv(\"모든_법령_목록.csv\")"
   ]
  },
  {
   "cell_type": "markdown",
   "metadata": {},
   "source": [
    "### 이 밑으로 내용 크롤링"
   ]
  },
  {
   "cell_type": "code",
   "execution_count": null,
   "metadata": {},
   "outputs": [],
   "source": [
    "import pandas as pd"
   ]
  },
  {
   "cell_type": "code",
   "execution_count": null,
   "metadata": {},
   "outputs": [],
   "source": [
    "all_df = pd.read_excel(\"법령검색목록.xlsx\") #직접 다운로드 받은 법령 검색 목록\n",
    "all_df.to_csv(\"법령목록.csv\") # 다시 CSV 파일로 저장"
   ]
  },
  {
   "cell_type": "code",
   "execution_count": null,
   "metadata": {},
   "outputs": [],
   "source": [
    "api_df = pd.read_csv(\"모든_법령_목록.csv\")# api 다운받은 모든 현행 법령 목록"
   ]
  },
  {
   "cell_type": "code",
   "execution_count": null,
   "metadata": {},
   "outputs": [],
   "source": [
    "merged_df = pd.merge(api_df, all_df, left_on='법령명한글', right_on='법령명', how='inner')"
   ]
  },
  {
   "cell_type": "code",
   "execution_count": null,
   "metadata": {},
   "outputs": [
    {
     "data": {
      "text/html": [
       "<div>\n",
       "<style scoped>\n",
       "    .dataframe tbody tr th:only-of-type {\n",
       "        vertical-align: middle;\n",
       "    }\n",
       "\n",
       "    .dataframe tbody tr th {\n",
       "        vertical-align: top;\n",
       "    }\n",
       "\n",
       "    .dataframe thead th {\n",
       "        text-align: right;\n",
       "    }\n",
       "</style>\n",
       "<table border=\"1\" class=\"dataframe\">\n",
       "  <thead>\n",
       "    <tr style=\"text-align: right;\">\n",
       "      <th></th>\n",
       "      <th>Unnamed: 0</th>\n",
       "      <th>법령명한글</th>\n",
       "      <th>법령일련번호</th>\n",
       "      <th>현행연혁코드</th>\n",
       "      <th>법령약칭명</th>\n",
       "      <th>법령ID_x</th>\n",
       "      <th>공포일자_x</th>\n",
       "      <th>공포번호_x</th>\n",
       "      <th>제개정구분명</th>\n",
       "      <th>소관부처코드_x</th>\n",
       "      <th>...</th>\n",
       "      <th>소관부처명_y</th>\n",
       "      <th>법령ID_y</th>\n",
       "      <th>법령명</th>\n",
       "      <th>공포일자_y</th>\n",
       "      <th>공포번호_y</th>\n",
       "      <th>시행일자_y</th>\n",
       "      <th>법령구분코드</th>\n",
       "      <th>법령구분명_y</th>\n",
       "      <th>법령분야코드</th>\n",
       "      <th>법령분야명</th>\n",
       "    </tr>\n",
       "  </thead>\n",
       "  <tbody>\n",
       "    <tr>\n",
       "      <th>0</th>\n",
       "      <td>0</td>\n",
       "      <td>10ㆍ27법난 피해자의 명예회복 등에 관한 법률</td>\n",
       "      <td>253527</td>\n",
       "      <td>현행</td>\n",
       "      <td>10ㆍ27법난법</td>\n",
       "      <td>10719</td>\n",
       "      <td>20230808</td>\n",
       "      <td>19592</td>\n",
       "      <td>타법개정</td>\n",
       "      <td>1371000</td>\n",
       "      <td>...</td>\n",
       "      <td>문화체육관광부</td>\n",
       "      <td>10719</td>\n",
       "      <td>10ㆍ27법난 피해자의 명예회복 등에 관한 법률</td>\n",
       "      <td>2023-08-08</td>\n",
       "      <td>제19592호</td>\n",
       "      <td>2023-08-08</td>\n",
       "      <td>A0002</td>\n",
       "      <td>법률</td>\n",
       "      <td>13030000</td>\n",
       "      <td>第3章 賞勳·禮式·補償</td>\n",
       "    </tr>\n",
       "    <tr>\n",
       "      <th>1</th>\n",
       "      <td>2</td>\n",
       "      <td>10ㆍ29이태원참사 피해자 권리보장과 진상규명 및 재발방지를 위한 특별법</td>\n",
       "      <td>262693</td>\n",
       "      <td>현행</td>\n",
       "      <td>NaN</td>\n",
       "      <td>14656</td>\n",
       "      <td>20240521</td>\n",
       "      <td>20427</td>\n",
       "      <td>제정</td>\n",
       "      <td>1741000</td>\n",
       "      <td>...</td>\n",
       "      <td>행정안전부</td>\n",
       "      <td>14656</td>\n",
       "      <td>10ㆍ29이태원참사 피해자 권리보장과 진상규명 및 재발방지를 위한 특별법</td>\n",
       "      <td>2024-05-21</td>\n",
       "      <td>제20427호</td>\n",
       "      <td>2024-05-21</td>\n",
       "      <td>A0002</td>\n",
       "      <td>법률</td>\n",
       "      <td>4020000</td>\n",
       "      <td>第2章 行政作用一般</td>\n",
       "    </tr>\n",
       "    <tr>\n",
       "      <th>2</th>\n",
       "      <td>3</td>\n",
       "      <td>112신고의 운영 및 처리에 관한 법률</td>\n",
       "      <td>257787</td>\n",
       "      <td>현행</td>\n",
       "      <td>112신고처리법</td>\n",
       "      <td>14565</td>\n",
       "      <td>20240102</td>\n",
       "      <td>19870</td>\n",
       "      <td>제정</td>\n",
       "      <td>1320000</td>\n",
       "      <td>...</td>\n",
       "      <td>경찰청</td>\n",
       "      <td>14565</td>\n",
       "      <td>112신고의 운영 및 처리에 관한 법률</td>\n",
       "      <td>2024-01-02</td>\n",
       "      <td>제19870호</td>\n",
       "      <td>2024-07-03</td>\n",
       "      <td>A0002</td>\n",
       "      <td>법률</td>\n",
       "      <td>11010000</td>\n",
       "      <td>第1章 行政組織·通則</td>\n",
       "    </tr>\n",
       "    <tr>\n",
       "      <th>3</th>\n",
       "      <td>5</td>\n",
       "      <td>119구조ㆍ구급에 관한 법률</td>\n",
       "      <td>257789</td>\n",
       "      <td>현행</td>\n",
       "      <td>119법</td>\n",
       "      <td>11349</td>\n",
       "      <td>20240102</td>\n",
       "      <td>19871</td>\n",
       "      <td>일부개정</td>\n",
       "      <td>1661000</td>\n",
       "      <td>...</td>\n",
       "      <td>소방청</td>\n",
       "      <td>11349</td>\n",
       "      <td>119구조ㆍ구급에 관한 법률</td>\n",
       "      <td>2024-01-02</td>\n",
       "      <td>제19871호</td>\n",
       "      <td>2024-07-03</td>\n",
       "      <td>A0002</td>\n",
       "      <td>법률</td>\n",
       "      <td>12020300</td>\n",
       "      <td>第3節 消 防</td>\n",
       "    </tr>\n",
       "    <tr>\n",
       "      <th>4</th>\n",
       "      <td>8</td>\n",
       "      <td>119긴급신고의 관리 및 운영에 관한 법률</td>\n",
       "      <td>257743</td>\n",
       "      <td>현행</td>\n",
       "      <td>119긴급신고법</td>\n",
       "      <td>14566</td>\n",
       "      <td>20240102</td>\n",
       "      <td>19872</td>\n",
       "      <td>제정</td>\n",
       "      <td>1661000</td>\n",
       "      <td>...</td>\n",
       "      <td>소방청</td>\n",
       "      <td>14566</td>\n",
       "      <td>119긴급신고의 관리 및 운영에 관한 법률</td>\n",
       "      <td>2024-01-02</td>\n",
       "      <td>제19872호</td>\n",
       "      <td>2024-07-03</td>\n",
       "      <td>A0002</td>\n",
       "      <td>법률</td>\n",
       "      <td>12020100</td>\n",
       "      <td>第1節 行政組織·通則</td>\n",
       "    </tr>\n",
       "  </tbody>\n",
       "</table>\n",
       "<p>5 rows × 27 columns</p>\n",
       "</div>"
      ],
      "text/plain": [
       "   Unnamed: 0                                     법령명한글  법령일련번호 현행연혁코드  \\\n",
       "0           0                10ㆍ27법난 피해자의 명예회복 등에 관한 법률  253527     현행   \n",
       "1           2  10ㆍ29이태원참사 피해자 권리보장과 진상규명 및 재발방지를 위한 특별법  262693     현행   \n",
       "2           3                     112신고의 운영 및 처리에 관한 법률  257787     현행   \n",
       "3           5                           119구조ㆍ구급에 관한 법률  257789     현행   \n",
       "4           8                   119긴급신고의 관리 및 운영에 관한 법률  257743     현행   \n",
       "\n",
       "      법령약칭명  법령ID_x    공포일자_x  공포번호_x 제개정구분명 소관부처코드_x  ...  소관부처명_y 법령ID_y  \\\n",
       "0  10ㆍ27법난법   10719  20230808   19592   타법개정  1371000  ...  문화체육관광부  10719   \n",
       "1       NaN   14656  20240521   20427     제정  1741000  ...    행정안전부  14656   \n",
       "2  112신고처리법   14565  20240102   19870     제정  1320000  ...      경찰청  14565   \n",
       "3      119법   11349  20240102   19871   일부개정  1661000  ...      소방청  11349   \n",
       "4  119긴급신고법   14566  20240102   19872     제정  1661000  ...      소방청  14566   \n",
       "\n",
       "                                        법령명     공포일자_y   공포번호_y     시행일자_y  \\\n",
       "0                10ㆍ27법난 피해자의 명예회복 등에 관한 법률 2023-08-08  제19592호 2023-08-08   \n",
       "1  10ㆍ29이태원참사 피해자 권리보장과 진상규명 및 재발방지를 위한 특별법 2024-05-21  제20427호 2024-05-21   \n",
       "2                     112신고의 운영 및 처리에 관한 법률 2024-01-02  제19870호 2024-07-03   \n",
       "3                           119구조ㆍ구급에 관한 법률 2024-01-02  제19871호 2024-07-03   \n",
       "4                   119긴급신고의 관리 및 운영에 관한 법률 2024-01-02  제19872호 2024-07-03   \n",
       "\n",
       "  법령구분코드 법령구분명_y    법령분야코드         법령분야명  \n",
       "0  A0002      법률  13030000  第3章 賞勳·禮式·補償  \n",
       "1  A0002      법률   4020000    第2章 行政作用一般  \n",
       "2  A0002      법률  11010000   第1章 行政組織·通則  \n",
       "3  A0002      법률  12020300       第3節 消 防  \n",
       "4  A0002      법률  12020100   第1節 行政組織·通則  \n",
       "\n",
       "[5 rows x 27 columns]"
      ]
     },
     "execution_count": 22,
     "metadata": {},
     "output_type": "execute_result"
    }
   ],
   "source": [
    "merged_df[:5]"
   ]
  },
  {
   "cell_type": "code",
   "execution_count": null,
   "metadata": {},
   "outputs": [],
   "source": [
    "merged_df.to_csv(\"법령목록_정보통합.csv\")"
   ]
  },
  {
   "cell_type": "code",
   "execution_count": null,
   "metadata": {},
   "outputs": [
    {
     "ename": "NameError",
     "evalue": "name 'df_raw' is not defined",
     "output_type": "error",
     "traceback": [
      "\u001b[0;31m---------------------------------------------------------------------------\u001b[0m",
      "\u001b[0;31mNameError\u001b[0m                                 Traceback (most recent call last)",
      "Cell \u001b[0;32mIn[24], line 6\u001b[0m\n\u001b[1;32m      1\u001b[0m \u001b[38;5;28;01mimport\u001b[39;00m \u001b[38;5;21;01mpandas\u001b[39;00m \u001b[38;5;28;01mas\u001b[39;00m \u001b[38;5;21;01mpd\u001b[39;00m\n\u001b[1;32m      3\u001b[0m \u001b[38;5;66;03m# Load the CSV file into a DataFrame\u001b[39;00m\n\u001b[1;32m      4\u001b[0m \n\u001b[1;32m      5\u001b[0m \u001b[38;5;66;03m# Filter the DataFrame to only include rows where '법령구분명' is '법'\u001b[39;00m\n\u001b[0;32m----> 6\u001b[0m filtered_df \u001b[38;5;241m=\u001b[39m df_raw[df_raw[\u001b[38;5;124m'\u001b[39m\u001b[38;5;124m법령구분명\u001b[39m\u001b[38;5;124m'\u001b[39m] \u001b[38;5;241m==\u001b[39m \u001b[38;5;124m'\u001b[39m\u001b[38;5;124m법률\u001b[39m\u001b[38;5;124m'\u001b[39m]\n\u001b[1;32m      8\u001b[0m \u001b[38;5;66;03m# Save the filtered DataFrame to a new CSV file\u001b[39;00m\n\u001b[1;32m      9\u001b[0m filtered_df\u001b[38;5;241m.\u001b[39mto_csv(\u001b[38;5;124mf\u001b[39m\u001b[38;5;124m'\u001b[39m\u001b[38;5;132;01m{\u001b[39;00mgoal\u001b[38;5;132;01m}\u001b[39;00m\u001b[38;5;124m_법률만.csv\u001b[39m\u001b[38;5;124m'\u001b[39m, index\u001b[38;5;241m=\u001b[39m\u001b[38;5;28;01mFalse\u001b[39;00m, encoding\u001b[38;5;241m=\u001b[39m\u001b[38;5;124m'\u001b[39m\u001b[38;5;124mutf-8\u001b[39m\u001b[38;5;124m'\u001b[39m)\n",
      "\u001b[0;31mNameError\u001b[0m: name 'df_raw' is not defined"
     ]
    }
   ],
   "source": [
    "import pandas as pd\n",
    "\n",
    "# Load the CSV file into a DataFrame\n",
    "\n",
    "# Filter the DataFrame to only include rows where '법령구분명' is '법'\n",
    "filtered_df = df_raw[df_raw['법령구분명'] == '법률']\n",
    "\n",
    "# Save the filtered DataFrame to a new CSV file\n",
    "filtered_df.to_csv(f'{goal}_법률만.csv', index=False, encoding='utf-8')\n",
    "\n",
    "print(f\"Filtered data has been saved to '{goal}_법률만csv'\")\n"
   ]
  },
  {
   "cell_type": "code",
   "execution_count": null,
   "metadata": {},
   "outputs": [
    {
     "ename": "FileNotFoundError",
     "evalue": "[Errno 2] No such file or directory: '법령목록_통합_정보통합.csv'",
     "output_type": "error",
     "traceback": [
      "\u001b[0;31m---------------------------------------------------------------------------\u001b[0m",
      "\u001b[0;31mFileNotFoundError\u001b[0m                         Traceback (most recent call last)",
      "Cell \u001b[0;32mIn[25], line 13\u001b[0m\n\u001b[1;32m     10\u001b[0m     os\u001b[38;5;241m.\u001b[39mmakedirs(\u001b[38;5;124m'\u001b[39m\u001b[38;5;124m법령별\u001b[39m\u001b[38;5;124m'\u001b[39m)\n\u001b[1;32m     12\u001b[0m \u001b[38;5;66;03m# CSV 파일 로드\u001b[39;00m\n\u001b[0;32m---> 13\u001b[0m law_list \u001b[38;5;241m=\u001b[39m pd\u001b[38;5;241m.\u001b[39mread_csv(\u001b[38;5;124m\"\u001b[39m\u001b[38;5;124m법령목록_통합_정보통합.csv\u001b[39m\u001b[38;5;124m\"\u001b[39m)\n\u001b[1;32m     15\u001b[0m \u001b[38;5;28;01mdef\u001b[39;00m \u001b[38;5;21mremove_tag\u001b[39m(content):\n\u001b[1;32m     16\u001b[0m     \u001b[38;5;28;01mreturn\u001b[39;00m re\u001b[38;5;241m.\u001b[39msub(\u001b[38;5;124m'\u001b[39m\u001b[38;5;124m<.*?>\u001b[39m\u001b[38;5;124m'\u001b[39m, \u001b[38;5;124m'\u001b[39m\u001b[38;5;124m'\u001b[39m, content)\n",
      "File \u001b[0;32m~/anaconda3/envs/nlp_learning/lib/python3.11/site-packages/pandas/io/parsers/readers.py:912\u001b[0m, in \u001b[0;36mread_csv\u001b[0;34m(filepath_or_buffer, sep, delimiter, header, names, index_col, usecols, dtype, engine, converters, true_values, false_values, skipinitialspace, skiprows, skipfooter, nrows, na_values, keep_default_na, na_filter, verbose, skip_blank_lines, parse_dates, infer_datetime_format, keep_date_col, date_parser, date_format, dayfirst, cache_dates, iterator, chunksize, compression, thousands, decimal, lineterminator, quotechar, quoting, doublequote, escapechar, comment, encoding, encoding_errors, dialect, on_bad_lines, delim_whitespace, low_memory, memory_map, float_precision, storage_options, dtype_backend)\u001b[0m\n\u001b[1;32m    899\u001b[0m kwds_defaults \u001b[38;5;241m=\u001b[39m _refine_defaults_read(\n\u001b[1;32m    900\u001b[0m     dialect,\n\u001b[1;32m    901\u001b[0m     delimiter,\n\u001b[0;32m   (...)\u001b[0m\n\u001b[1;32m    908\u001b[0m     dtype_backend\u001b[38;5;241m=\u001b[39mdtype_backend,\n\u001b[1;32m    909\u001b[0m )\n\u001b[1;32m    910\u001b[0m kwds\u001b[38;5;241m.\u001b[39mupdate(kwds_defaults)\n\u001b[0;32m--> 912\u001b[0m \u001b[38;5;28;01mreturn\u001b[39;00m _read(filepath_or_buffer, kwds)\n",
      "File \u001b[0;32m~/anaconda3/envs/nlp_learning/lib/python3.11/site-packages/pandas/io/parsers/readers.py:577\u001b[0m, in \u001b[0;36m_read\u001b[0;34m(filepath_or_buffer, kwds)\u001b[0m\n\u001b[1;32m    574\u001b[0m _validate_names(kwds\u001b[38;5;241m.\u001b[39mget(\u001b[38;5;124m\"\u001b[39m\u001b[38;5;124mnames\u001b[39m\u001b[38;5;124m\"\u001b[39m, \u001b[38;5;28;01mNone\u001b[39;00m))\n\u001b[1;32m    576\u001b[0m \u001b[38;5;66;03m# Create the parser.\u001b[39;00m\n\u001b[0;32m--> 577\u001b[0m parser \u001b[38;5;241m=\u001b[39m TextFileReader(filepath_or_buffer, \u001b[38;5;241m*\u001b[39m\u001b[38;5;241m*\u001b[39mkwds)\n\u001b[1;32m    579\u001b[0m \u001b[38;5;28;01mif\u001b[39;00m chunksize \u001b[38;5;129;01mor\u001b[39;00m iterator:\n\u001b[1;32m    580\u001b[0m     \u001b[38;5;28;01mreturn\u001b[39;00m parser\n",
      "File \u001b[0;32m~/anaconda3/envs/nlp_learning/lib/python3.11/site-packages/pandas/io/parsers/readers.py:1407\u001b[0m, in \u001b[0;36mTextFileReader.__init__\u001b[0;34m(self, f, engine, **kwds)\u001b[0m\n\u001b[1;32m   1404\u001b[0m     \u001b[38;5;28mself\u001b[39m\u001b[38;5;241m.\u001b[39moptions[\u001b[38;5;124m\"\u001b[39m\u001b[38;5;124mhas_index_names\u001b[39m\u001b[38;5;124m\"\u001b[39m] \u001b[38;5;241m=\u001b[39m kwds[\u001b[38;5;124m\"\u001b[39m\u001b[38;5;124mhas_index_names\u001b[39m\u001b[38;5;124m\"\u001b[39m]\n\u001b[1;32m   1406\u001b[0m \u001b[38;5;28mself\u001b[39m\u001b[38;5;241m.\u001b[39mhandles: IOHandles \u001b[38;5;241m|\u001b[39m \u001b[38;5;28;01mNone\u001b[39;00m \u001b[38;5;241m=\u001b[39m \u001b[38;5;28;01mNone\u001b[39;00m\n\u001b[0;32m-> 1407\u001b[0m \u001b[38;5;28mself\u001b[39m\u001b[38;5;241m.\u001b[39m_engine \u001b[38;5;241m=\u001b[39m \u001b[38;5;28mself\u001b[39m\u001b[38;5;241m.\u001b[39m_make_engine(f, \u001b[38;5;28mself\u001b[39m\u001b[38;5;241m.\u001b[39mengine)\n",
      "File \u001b[0;32m~/anaconda3/envs/nlp_learning/lib/python3.11/site-packages/pandas/io/parsers/readers.py:1661\u001b[0m, in \u001b[0;36mTextFileReader._make_engine\u001b[0;34m(self, f, engine)\u001b[0m\n\u001b[1;32m   1659\u001b[0m     \u001b[38;5;28;01mif\u001b[39;00m \u001b[38;5;124m\"\u001b[39m\u001b[38;5;124mb\u001b[39m\u001b[38;5;124m\"\u001b[39m \u001b[38;5;129;01mnot\u001b[39;00m \u001b[38;5;129;01min\u001b[39;00m mode:\n\u001b[1;32m   1660\u001b[0m         mode \u001b[38;5;241m+\u001b[39m\u001b[38;5;241m=\u001b[39m \u001b[38;5;124m\"\u001b[39m\u001b[38;5;124mb\u001b[39m\u001b[38;5;124m\"\u001b[39m\n\u001b[0;32m-> 1661\u001b[0m \u001b[38;5;28mself\u001b[39m\u001b[38;5;241m.\u001b[39mhandles \u001b[38;5;241m=\u001b[39m get_handle(\n\u001b[1;32m   1662\u001b[0m     f,\n\u001b[1;32m   1663\u001b[0m     mode,\n\u001b[1;32m   1664\u001b[0m     encoding\u001b[38;5;241m=\u001b[39m\u001b[38;5;28mself\u001b[39m\u001b[38;5;241m.\u001b[39moptions\u001b[38;5;241m.\u001b[39mget(\u001b[38;5;124m\"\u001b[39m\u001b[38;5;124mencoding\u001b[39m\u001b[38;5;124m\"\u001b[39m, \u001b[38;5;28;01mNone\u001b[39;00m),\n\u001b[1;32m   1665\u001b[0m     compression\u001b[38;5;241m=\u001b[39m\u001b[38;5;28mself\u001b[39m\u001b[38;5;241m.\u001b[39moptions\u001b[38;5;241m.\u001b[39mget(\u001b[38;5;124m\"\u001b[39m\u001b[38;5;124mcompression\u001b[39m\u001b[38;5;124m\"\u001b[39m, \u001b[38;5;28;01mNone\u001b[39;00m),\n\u001b[1;32m   1666\u001b[0m     memory_map\u001b[38;5;241m=\u001b[39m\u001b[38;5;28mself\u001b[39m\u001b[38;5;241m.\u001b[39moptions\u001b[38;5;241m.\u001b[39mget(\u001b[38;5;124m\"\u001b[39m\u001b[38;5;124mmemory_map\u001b[39m\u001b[38;5;124m\"\u001b[39m, \u001b[38;5;28;01mFalse\u001b[39;00m),\n\u001b[1;32m   1667\u001b[0m     is_text\u001b[38;5;241m=\u001b[39mis_text,\n\u001b[1;32m   1668\u001b[0m     errors\u001b[38;5;241m=\u001b[39m\u001b[38;5;28mself\u001b[39m\u001b[38;5;241m.\u001b[39moptions\u001b[38;5;241m.\u001b[39mget(\u001b[38;5;124m\"\u001b[39m\u001b[38;5;124mencoding_errors\u001b[39m\u001b[38;5;124m\"\u001b[39m, \u001b[38;5;124m\"\u001b[39m\u001b[38;5;124mstrict\u001b[39m\u001b[38;5;124m\"\u001b[39m),\n\u001b[1;32m   1669\u001b[0m     storage_options\u001b[38;5;241m=\u001b[39m\u001b[38;5;28mself\u001b[39m\u001b[38;5;241m.\u001b[39moptions\u001b[38;5;241m.\u001b[39mget(\u001b[38;5;124m\"\u001b[39m\u001b[38;5;124mstorage_options\u001b[39m\u001b[38;5;124m\"\u001b[39m, \u001b[38;5;28;01mNone\u001b[39;00m),\n\u001b[1;32m   1670\u001b[0m )\n\u001b[1;32m   1671\u001b[0m \u001b[38;5;28;01massert\u001b[39;00m \u001b[38;5;28mself\u001b[39m\u001b[38;5;241m.\u001b[39mhandles \u001b[38;5;129;01mis\u001b[39;00m \u001b[38;5;129;01mnot\u001b[39;00m \u001b[38;5;28;01mNone\u001b[39;00m\n\u001b[1;32m   1672\u001b[0m f \u001b[38;5;241m=\u001b[39m \u001b[38;5;28mself\u001b[39m\u001b[38;5;241m.\u001b[39mhandles\u001b[38;5;241m.\u001b[39mhandle\n",
      "File \u001b[0;32m~/anaconda3/envs/nlp_learning/lib/python3.11/site-packages/pandas/io/common.py:859\u001b[0m, in \u001b[0;36mget_handle\u001b[0;34m(path_or_buf, mode, encoding, compression, memory_map, is_text, errors, storage_options)\u001b[0m\n\u001b[1;32m    854\u001b[0m \u001b[38;5;28;01melif\u001b[39;00m \u001b[38;5;28misinstance\u001b[39m(handle, \u001b[38;5;28mstr\u001b[39m):\n\u001b[1;32m    855\u001b[0m     \u001b[38;5;66;03m# Check whether the filename is to be opened in binary mode.\u001b[39;00m\n\u001b[1;32m    856\u001b[0m     \u001b[38;5;66;03m# Binary mode does not support 'encoding' and 'newline'.\u001b[39;00m\n\u001b[1;32m    857\u001b[0m     \u001b[38;5;28;01mif\u001b[39;00m ioargs\u001b[38;5;241m.\u001b[39mencoding \u001b[38;5;129;01mand\u001b[39;00m \u001b[38;5;124m\"\u001b[39m\u001b[38;5;124mb\u001b[39m\u001b[38;5;124m\"\u001b[39m \u001b[38;5;129;01mnot\u001b[39;00m \u001b[38;5;129;01min\u001b[39;00m ioargs\u001b[38;5;241m.\u001b[39mmode:\n\u001b[1;32m    858\u001b[0m         \u001b[38;5;66;03m# Encoding\u001b[39;00m\n\u001b[0;32m--> 859\u001b[0m         handle \u001b[38;5;241m=\u001b[39m \u001b[38;5;28mopen\u001b[39m(\n\u001b[1;32m    860\u001b[0m             handle,\n\u001b[1;32m    861\u001b[0m             ioargs\u001b[38;5;241m.\u001b[39mmode,\n\u001b[1;32m    862\u001b[0m             encoding\u001b[38;5;241m=\u001b[39mioargs\u001b[38;5;241m.\u001b[39mencoding,\n\u001b[1;32m    863\u001b[0m             errors\u001b[38;5;241m=\u001b[39merrors,\n\u001b[1;32m    864\u001b[0m             newline\u001b[38;5;241m=\u001b[39m\u001b[38;5;124m\"\u001b[39m\u001b[38;5;124m\"\u001b[39m,\n\u001b[1;32m    865\u001b[0m         )\n\u001b[1;32m    866\u001b[0m     \u001b[38;5;28;01melse\u001b[39;00m:\n\u001b[1;32m    867\u001b[0m         \u001b[38;5;66;03m# Binary mode\u001b[39;00m\n\u001b[1;32m    868\u001b[0m         handle \u001b[38;5;241m=\u001b[39m \u001b[38;5;28mopen\u001b[39m(handle, ioargs\u001b[38;5;241m.\u001b[39mmode)\n",
      "\u001b[0;31mFileNotFoundError\u001b[0m: [Errno 2] No such file or directory: '법령목록_통합_정보통합.csv'"
     ]
    }
   ],
   "source": [
    "import pandas as pd\n",
    "import re\n",
    "import os\n",
    "import xml.etree.ElementTree as ET\n",
    "from urllib.request import urlopen\n",
    "from tqdm import trange\n",
    "\n",
    "# '법령별' 디렉터리 생성 확인\n",
    "if not os.path.exists('법령별'):\n",
    "    os.makedirs('법령별')\n",
    "\n",
    "# CSV 파일 로드\n",
    "law_list = pd.read_csv(\"법령목록_정보통합.csv\")\n",
    "\n",
    "def remove_tag(content):\n",
    "    return re.sub('<.*?>', '', content)\n",
    "\n",
    "all_rows = []  # 모든 법령의 모든 조문, 항, 호, 목 데이터를 저장할 리스트\n",
    "\n",
    "for i in trange(len(law_list)):\n",
    "    url = \"https://www.law.go.kr\"\n",
    "    link = law_list.loc[i]['법령상세링크'].replace('HTML', 'XML')\n",
    "    url += link\n",
    "    response = urlopen(url).read()\n",
    "    root = ET.fromstring(response)\n",
    "\n",
    "    법령명한글 = law_list.loc[i]['법령명한글'].strip()\n",
    "\n",
    "    for n in range(len(root[1])):\n",
    "        # <조문제목>이 <![CDATA[ 정의 ]]>인지 확인\n",
    "        조문제목 = root[1][n].find('조문제목')\n",
    "        if 조문제목 is not None and remove_tag(조문제목.text.strip()) == '정의':\n",
    "            # 조문 공통 정보\n",
    "            조문정보 = {'법령명한글': 법령명한글}\n",
    "            for content in ['조문번호', '조문가지번호', '조문여부', '조문제목', '조문시행일자', '조문이동이전', '조문이동이후', '조문변경여부', '조문제개정유형', '조문내용', '조문참고자료']:\n",
    "                element = root[1][n].find(content)\n",
    "                if element is not None and element.text:\n",
    "                    조문정보[content] = remove_tag(element.text.strip())\n",
    "            \n",
    "            # 각 '항'을 독립된 행으로 처리\n",
    "            for depth1 in root[1][n].findall('항'):\n",
    "                항내용 = depth1.find('항내용').text.strip() if depth1.find('항내용') is not None else ''\n",
    "                if not any(d.get('항', '') == 항내용 for d in all_rows):\n",
    "                    항_row = {'항': 항내용, '호': '', '목': ''}\n",
    "                    all_rows.append({**조문정보, **항_row})\n",
    "\n",
    "                for depth2 in depth1.findall('호'):\n",
    "                    호내용 = depth2.find('호내용').text.strip() if depth2.find('호내용') is not None else ''\n",
    "                    if not any(d.get('호', '') == 호내용 and d.get('항', '') == 항내용 for d in all_rows):\n",
    "                        호_row = {'항': 항내용, '호': 호내용, '목': ''}\n",
    "                        all_rows.append({**조문정보, **호_row})\n",
    "\n",
    "                    for depth3 in depth2.findall('목'):\n",
    "                        목내용 = depth3.find('목내용').text.strip() if depth3.find('목내용') is not None else ''\n",
    "                        if not any(d.get('목', '') == 목내용 and d.get('호', '') == 호내용 and d.get('항', '') == 항내용 for d in all_rows):\n",
    "                            목_row = {'항': 항내용, '호': 호내용, '목': 목내용}\n",
    "                            all_rows.append({**조문정보, **목_row})\n",
    "\n",
    "    # 각 법령의 모든 데이터 수집 후 CSV 파일로 저장\n",
    "    file_name = 법령명한글\n",
    "    file_path = f'./법령별/{file_name}.csv'\n",
    "    pd.DataFrame(all_rows).to_csv(file_path, index=False, encoding='utf-8-sig',sep='\\t')\n",
    "    all_rows = []  # 다음 법령을 위해 리스트 초기화\n"
   ]
  },
  {
   "cell_type": "code",
   "execution_count": null,
   "metadata": {},
   "outputs": [],
   "source": [
    "# import pandas as pd\n",
    "# import re\n",
    "# import os\n",
    "# import xml.etree.ElementTree as ET\n",
    "# from urllib.request import urlopen\n",
    "# from tqdm import trange\n",
    "\n",
    "# # '법령별' 디렉터리 생성 확인\n",
    "# if not os.path.exists('법령별2트'):\n",
    "#     os.makedirs('법령별2트')\n",
    "\n",
    "# # CSV 파일 로드\n",
    "# law_list = pd.read_csv(\"법령목록_정보통합.csv\")\n",
    "\n",
    "# def remove_tag(content):\n",
    "#     return re.sub('<.*?>', '', content)\n",
    "\n",
    "# all_rows = []  # 모든 법령의 모든 조문, 항, 호, 목 데이터를 저장할 리스트\n",
    "\n",
    "# for i in trange(len(law_list)):\n",
    "#     url = \"https://www.law.go.kr\"\n",
    "#     link = law_list.loc[i]['법령상세링크'].replace('HTML', 'XML')\n",
    "#     url += link\n",
    "#     try:\n",
    "#         response = urlopen(url).read()\n",
    "#         root = ET.fromstring(response)\n",
    "#     except Exception as e:\n",
    "#         print(f\"Error fetching or parsing XML for {law_list.loc[i]['법령명한글']}: {e}\")\n",
    "#         continue\n",
    "\n",
    "#     법령명한글 = law_list.loc[i]['법령명한글'].strip()\n",
    "\n",
    "#     for n in range(len(root[1])):\n",
    "#         # <조문제목>이 <![CDATA[ 정의 ]]>인지 확인\n",
    "#         조문제목 = root[1][n].find('조문제목')\n",
    "#         if 조문제목 is not None and remove_tag(조문제목.text.strip()) == '정의':\n",
    "#             # 조문 공통 정보\n",
    "#             조문정보 = {'법령명한글': 법령명한글}\n",
    "#             for content in ['조문번호', '조문가지번호', '조문여부', '조문제목', '조문시행일자', '조문이동이전', '조문이동이후', '조문변경여부', '조문제개정유형', '조문내용', '조문참고자료']:\n",
    "#                 element = root[1][n].find(content)\n",
    "#                 if element is not None and element.text:\n",
    "#                     조문정보[content] = remove_tag(element.text.strip())\n",
    "#                 else:\n",
    "#                     조문정보[content] = ''\n",
    "\n",
    "#             # '조문내용'이 있을 경우 저장\n",
    "#             if 조문정보.get('조문내용', ''):\n",
    "#                 all_rows.append({**조문정보, '항': '', '호': '', '목': ''})\n",
    "\n",
    "#             # 각 '항'을 독립된 행으로 처리\n",
    "#             for depth1 in root[1][n].findall('항'):\n",
    "#                 항내용 = depth1.find('항내용').text.strip() if depth1.find('항내용') is not None else ''\n",
    "#                 if not any(d.get('항', '') == 항내용 for d in all_rows):\n",
    "#                     항_row = {'항': 항내용, '호': '', '목': ''}\n",
    "#                     all_rows.append({**조문정보, **항_row})\n",
    "\n",
    "#                 for depth2 in depth1.findall('호'):\n",
    "#                     호내용 = depth2.find('호내용').text.strip() if depth2.find('호내용') is not None else ''\n",
    "#                     if not any(d.get('호', '') == 호내용 and d.get('항', '') == 항내용 for d in all_rows):\n",
    "#                         호_row = {'항': 항내용, '호': 호내용, '목': ''}\n",
    "#                         all_rows.append({**조문정보, **호_row})\n",
    "\n",
    "#                     for depth3 in depth2.findall('목'):\n",
    "#                         목내용 = depth3.find('목내용').text.strip() if depth3.find('목내용') is not None else ''\n",
    "#                         if not any(d.get('목', '') == 목내용 and d.get('호', '') == 호내용 and d.get('항', '') == 항내용 for d in all_rows):\n",
    "#                             목_row = {'항': 항내용, '호': 호내용, '목': 목내용}\n",
    "#                             all_rows.append({**조문정보, **목_row})\n",
    "\n",
    "#     # 각 법령의 모든 데이터 수집 후 CSV 파일로 저장\n",
    "#     if all_rows:  # 데이터가 있을 경우에만 저장\n",
    "#         file_name = 법령명한글\n",
    "#         file_path = f'./법령별2트/{file_name}.csv'\n",
    "#         pd.DataFrame(all_rows).to_csv(file_path, index=False, encoding='utf-8-sig')\n",
    "#         print(f\"Saved {file_name} to 법령별 2트 directory\")\n",
    "#     else:\n",
    "#         print(f\"No data found for {법령명한글}\")\n",
    "\n",
    "#     all_rows = []  # 다음 법령을 위해 리스트 초기화\n"
   ]
  },
  {
   "cell_type": "code",
   "execution_count": null,
   "metadata": {},
   "outputs": [
    {
     "name": "stderr",
     "output_type": "stream",
     "text": [
      "  0%|          | 1/1654 [00:01<42:41,  1.55s/it]"
     ]
    },
    {
     "name": "stdout",
     "output_type": "stream",
     "text": [
      "Saved 10ㆍ27법난 피해자의 명예회복 등에 관한 법률 to 법령별 directory\n"
     ]
    },
    {
     "name": "stderr",
     "output_type": "stream",
     "text": [
      "  0%|          | 2/1654 [00:02<39:41,  1.44s/it]"
     ]
    },
    {
     "name": "stdout",
     "output_type": "stream",
     "text": [
      "Saved 10ㆍ29이태원참사 피해자 권리보장과 진상규명 및 재발방지를 위한 특별법 to 법령별 directory\n"
     ]
    },
    {
     "name": "stderr",
     "output_type": "stream",
     "text": [
      "  0%|          | 3/1654 [00:03<34:33,  1.26s/it]"
     ]
    },
    {
     "name": "stdout",
     "output_type": "stream",
     "text": [
      "Saved 112신고의 운영 및 처리에 관한 법률 to 법령별 directory\n"
     ]
    },
    {
     "name": "stderr",
     "output_type": "stream",
     "text": [
      "  0%|          | 4/1654 [00:05<35:10,  1.28s/it]"
     ]
    },
    {
     "name": "stdout",
     "output_type": "stream",
     "text": [
      "Saved 119구조ㆍ구급에 관한 법률 to 법령별 directory\n"
     ]
    },
    {
     "name": "stderr",
     "output_type": "stream",
     "text": [
      "  0%|          | 5/1654 [00:06<32:57,  1.20s/it]"
     ]
    },
    {
     "name": "stdout",
     "output_type": "stream",
     "text": [
      "Saved 119긴급신고의 관리 및 운영에 관한 법률 to 법령별 directory\n"
     ]
    },
    {
     "name": "stderr",
     "output_type": "stream",
     "text": [
      "  0%|          | 6/1654 [00:08<38:25,  1.40s/it]"
     ]
    },
    {
     "name": "stdout",
     "output_type": "stream",
     "text": [
      "Saved 1959년 12월 31일 이전에 퇴직한 군인의 퇴직급여금지급에 관한 특별법 to 법령별 directory\n"
     ]
    },
    {
     "name": "stderr",
     "output_type": "stream",
     "text": [
      "  0%|          | 7/1654 [00:08<32:58,  1.20s/it]"
     ]
    },
    {
     "name": "stdout",
     "output_type": "stream",
     "text": [
      "No data found for 1980년해직공무원의보상등에관한특별조치법\n"
     ]
    },
    {
     "name": "stderr",
     "output_type": "stream",
     "text": [
      "  0%|          | 8/1654 [00:10<32:33,  1.19s/it]"
     ]
    },
    {
     "name": "stdout",
     "output_type": "stream",
     "text": [
      "Saved 1인 창조기업 육성에 관한 법률 to 법령별 directory\n"
     ]
    },
    {
     "name": "stderr",
     "output_type": "stream",
     "text": [
      "  1%|          | 9/1654 [00:11<35:58,  1.31s/it]"
     ]
    },
    {
     "name": "stdout",
     "output_type": "stream",
     "text": [
      "Saved 2018 평창 동계올림픽대회 및 동계패럴림픽대회 지원 등에 관한 특별법 to 법령별 directory\n"
     ]
    },
    {
     "name": "stderr",
     "output_type": "stream",
     "text": [
      "  1%|          | 10/1654 [00:12<34:50,  1.27s/it]"
     ]
    },
    {
     "name": "stdout",
     "output_type": "stream",
     "text": [
      "Saved 2023 새만금 세계스카우트잼버리 지원 특별법 to 법령별 directory\n"
     ]
    },
    {
     "name": "stderr",
     "output_type": "stream",
     "text": [
      "  1%|          | 11/1654 [00:14<34:47,  1.27s/it]"
     ]
    },
    {
     "name": "stdout",
     "output_type": "stream",
     "text": [
      "Saved 2023 순천만국제정원박람회 지원 및 사후활용에 관한 특별법 to 법령별 directory\n"
     ]
    },
    {
     "name": "stderr",
     "output_type": "stream",
     "text": [
      "  1%|          | 12/1654 [00:15<33:04,  1.21s/it]"
     ]
    },
    {
     "name": "stdout",
     "output_type": "stream",
     "text": [
      "Saved 30개월 이상 복무한 상등병 만기전역자의 특별진급을 위한 특별법 to 법령별 directory\n"
     ]
    },
    {
     "name": "stderr",
     "output_type": "stream",
     "text": [
      "  1%|          | 13/1654 [00:16<32:12,  1.18s/it]"
     ]
    },
    {
     "name": "stdout",
     "output_type": "stream",
     "text": [
      "Saved 3ㆍ15의거 참여자의 명예회복 등에 관한 법률 to 법령별 directory\n"
     ]
    },
    {
     "name": "stderr",
     "output_type": "stream",
     "text": [
      "  1%|          | 14/1654 [00:17<32:50,  1.20s/it]"
     ]
    },
    {
     "name": "stdout",
     "output_type": "stream",
     "text": [
      "Saved 4ㆍ16세월호참사 진상규명 및 안전사회 건설 등을 위한 특별법 to 법령별 directory\n"
     ]
    },
    {
     "name": "stderr",
     "output_type": "stream",
     "text": [
      "  1%|          | 15/1654 [00:18<33:10,  1.21s/it]"
     ]
    },
    {
     "name": "stdout",
     "output_type": "stream",
     "text": [
      "Saved 4ㆍ16세월호참사 피해구제 및 지원 등을 위한 특별법 to 법령별 directory\n"
     ]
    },
    {
     "name": "stderr",
     "output_type": "stream",
     "text": [
      "  1%|          | 16/1654 [00:20<39:44,  1.46s/it]"
     ]
    },
    {
     "name": "stdout",
     "output_type": "stream",
     "text": [
      "No data found for 5ㆍ18민주유공자예우 및 단체설립에 관한 법률\n"
     ]
    },
    {
     "name": "stderr",
     "output_type": "stream",
     "text": [
      "  1%|          | 17/1654 [00:22<39:23,  1.44s/it]"
     ]
    },
    {
     "name": "stdout",
     "output_type": "stream",
     "text": [
      "Saved 5ㆍ18민주화운동 관련자 보상 등에 관한 법률 to 법령별 directory\n"
     ]
    },
    {
     "name": "stderr",
     "output_type": "stream",
     "text": [
      "  1%|          | 18/1654 [00:23<34:30,  1.27s/it]"
     ]
    },
    {
     "name": "stdout",
     "output_type": "stream",
     "text": [
      "Saved 5ㆍ18민주화운동 등에 관한 특별법 to 법령별 directory\n"
     ]
    },
    {
     "name": "stderr",
     "output_type": "stream",
     "text": [
      "  1%|          | 19/1654 [00:24<33:38,  1.23s/it]"
     ]
    },
    {
     "name": "stdout",
     "output_type": "stream",
     "text": [
      "Saved 5ㆍ18민주화운동 진상규명을 위한 특별법 to 법령별 directory\n"
     ]
    },
    {
     "name": "stderr",
     "output_type": "stream",
     "text": [
      "  1%|          | 20/1654 [00:25<31:26,  1.15s/it]"
     ]
    },
    {
     "name": "stdout",
     "output_type": "stream",
     "text": [
      "Saved 6ㆍ25 전사자유해의 발굴 등에 관한 법률 to 법령별 directory\n"
     ]
    },
    {
     "name": "stderr",
     "output_type": "stream",
     "text": [
      "  1%|▏         | 21/1654 [00:26<30:16,  1.11s/it]"
     ]
    },
    {
     "name": "stdout",
     "output_type": "stream",
     "text": [
      "No data found for 6ㆍ25전쟁 납북피해 진상규명 및 납북피해자 명예회복에 관한 법률\n"
     ]
    },
    {
     "name": "stderr",
     "output_type": "stream",
     "text": [
      "  1%|▏         | 22/1654 [00:27<28:54,  1.06s/it]"
     ]
    },
    {
     "name": "stdout",
     "output_type": "stream",
     "text": [
      "Saved 6ㆍ25전쟁 무공훈장 수여 등에 관한 법률 to 법령별 directory\n"
     ]
    },
    {
     "name": "stderr",
     "output_type": "stream",
     "text": [
      "  1%|▏         | 23/1654 [00:28<27:14,  1.00s/it]"
     ]
    },
    {
     "name": "stdout",
     "output_type": "stream",
     "text": [
      "Saved 6ㆍ25전쟁 전후 적 지역에서 활동한 비정규군 공로자 보상에 관한 법률 to 법령별 directory\n"
     ]
    },
    {
     "name": "stderr",
     "output_type": "stream",
     "text": [
      "  1%|▏         | 24/1654 [00:29<30:28,  1.12s/it]"
     ]
    },
    {
     "name": "stdout",
     "output_type": "stream",
     "text": [
      "Saved 가덕도신공항건설공단법 to 법령별 directory\n"
     ]
    },
    {
     "name": "stderr",
     "output_type": "stream",
     "text": [
      "  2%|▏         | 25/1654 [00:30<29:46,  1.10s/it]"
     ]
    },
    {
     "name": "stdout",
     "output_type": "stream",
     "text": [
      "Saved 가덕도신공항 건설을 위한 특별법 to 법령별 directory\n"
     ]
    },
    {
     "name": "stderr",
     "output_type": "stream",
     "text": [
      "  2%|▏         | 26/1654 [00:31<29:04,  1.07s/it]"
     ]
    },
    {
     "name": "stdout",
     "output_type": "stream",
     "text": [
      "Saved 가등기담보 등에 관한 법률 to 법령별 directory\n"
     ]
    },
    {
     "name": "stderr",
     "output_type": "stream",
     "text": [
      "  2%|▏         | 27/1654 [00:32<30:28,  1.12s/it]"
     ]
    },
    {
     "name": "stdout",
     "output_type": "stream",
     "text": [
      "Saved 가맹사업거래의 공정화에 관한 법률 to 법령별 directory\n"
     ]
    },
    {
     "name": "stderr",
     "output_type": "stream",
     "text": [
      "  2%|▏         | 28/1654 [00:33<28:56,  1.07s/it]"
     ]
    },
    {
     "name": "stdout",
     "output_type": "stream",
     "text": [
      "Saved 가맹사업 진흥에 관한 법률 to 법령별 directory\n"
     ]
    },
    {
     "name": "stderr",
     "output_type": "stream",
     "text": [
      "  2%|▏         | 29/1654 [00:34<28:37,  1.06s/it]"
     ]
    },
    {
     "name": "stdout",
     "output_type": "stream",
     "text": [
      "Saved 가사근로자의 고용개선 등에 관한 법률 to 법령별 directory\n"
     ]
    },
    {
     "name": "stderr",
     "output_type": "stream",
     "text": [
      "  2%|▏         | 30/1654 [00:36<31:11,  1.15s/it]"
     ]
    },
    {
     "name": "stdout",
     "output_type": "stream",
     "text": [
      "No data found for 가사소송법\n"
     ]
    },
    {
     "name": "stderr",
     "output_type": "stream",
     "text": [
      "  2%|▏         | 31/1654 [00:37<30:41,  1.13s/it]"
     ]
    },
    {
     "name": "stdout",
     "output_type": "stream",
     "text": [
      "Saved 가상융합산업 진흥법 to 법령별 directory\n"
     ]
    },
    {
     "name": "stderr",
     "output_type": "stream",
     "text": [
      "  2%|▏         | 32/1654 [00:38<29:22,  1.09s/it]"
     ]
    },
    {
     "name": "stdout",
     "output_type": "stream",
     "text": [
      "Saved 가상자산 이용자 보호 등에 관한 법률 to 법령별 directory\n"
     ]
    },
    {
     "name": "stderr",
     "output_type": "stream",
     "text": [
      "  2%|▏         | 33/1654 [00:39<29:53,  1.11s/it]"
     ]
    },
    {
     "name": "stdout",
     "output_type": "stream",
     "text": [
      "Saved 가습기살균제 피해구제를 위한 특별법 to 법령별 directory\n"
     ]
    },
    {
     "name": "stderr",
     "output_type": "stream",
     "text": [
      "  2%|▏         | 34/1654 [00:40<29:16,  1.08s/it]"
     ]
    },
    {
     "name": "stdout",
     "output_type": "stream",
     "text": [
      "Saved 가정폭력방지 및 피해자보호 등에 관한 법률 to 법령별 directory\n"
     ]
    },
    {
     "name": "stderr",
     "output_type": "stream",
     "text": [
      "  2%|▏         | 35/1654 [00:41<31:12,  1.16s/it]"
     ]
    },
    {
     "name": "stdout",
     "output_type": "stream",
     "text": [
      "Saved 가정폭력범죄의 처벌 등에 관한 특례법 to 법령별 directory\n"
     ]
    },
    {
     "name": "stderr",
     "output_type": "stream",
     "text": [
      "  2%|▏         | 36/1654 [00:43<33:51,  1.26s/it]"
     ]
    },
    {
     "name": "stdout",
     "output_type": "stream",
     "text": [
      "No data found for 가족관계의 등록 등에 관한 법률\n"
     ]
    },
    {
     "name": "stderr",
     "output_type": "stream",
     "text": [
      "  2%|▏         | 37/1654 [00:44<31:20,  1.16s/it]"
     ]
    },
    {
     "name": "stdout",
     "output_type": "stream",
     "text": [
      "Saved 가족친화 사회환경의 조성 촉진에 관한 법률 to 법령별 directory\n"
     ]
    },
    {
     "name": "stderr",
     "output_type": "stream",
     "text": [
      "  2%|▏         | 38/1654 [00:45<31:04,  1.15s/it]"
     ]
    },
    {
     "name": "stdout",
     "output_type": "stream",
     "text": [
      "Saved 가축 및 축산물 이력관리에 관한 법률 to 법령별 directory\n"
     ]
    },
    {
     "name": "stderr",
     "output_type": "stream",
     "text": [
      "  2%|▏         | 39/1654 [00:46<34:29,  1.28s/it]"
     ]
    },
    {
     "name": "stdout",
     "output_type": "stream",
     "text": [
      "Saved 가축분뇨의 관리 및 이용에 관한 법률 to 법령별 directory\n"
     ]
    },
    {
     "name": "stderr",
     "output_type": "stream",
     "text": [
      "  2%|▏         | 40/1654 [00:48<40:23,  1.50s/it]"
     ]
    },
    {
     "name": "stdout",
     "output_type": "stream",
     "text": [
      "Saved 가축전염병 예방법 to 법령별 directory\n"
     ]
    },
    {
     "name": "stderr",
     "output_type": "stream",
     "text": [
      "  2%|▏         | 41/1654 [00:50<38:10,  1.42s/it]"
     ]
    },
    {
     "name": "stdout",
     "output_type": "stream",
     "text": [
      "No data found for 각급 법원의 설치와 관할구역에 관한 법률\n"
     ]
    },
    {
     "name": "stderr",
     "output_type": "stream",
     "text": [
      "  3%|▎         | 42/1654 [00:50<33:44,  1.26s/it]"
     ]
    },
    {
     "name": "stdout",
     "output_type": "stream",
     "text": [
      "No data found for 각급 법원 판사 정원법\n"
     ]
    },
    {
     "name": "stderr",
     "output_type": "stream",
     "text": [
      "  3%|▎         | 43/1654 [00:51<32:25,  1.21s/it]"
     ]
    },
    {
     "name": "stdout",
     "output_type": "stream",
     "text": [
      "Saved 간선급행버스체계의 건설 및 운영에 관한 특별법 to 법령별 directory\n"
     ]
    },
    {
     "name": "stderr",
     "output_type": "stream",
     "text": [
      "  3%|▎         | 44/1654 [00:53<32:06,  1.20s/it]"
     ]
    },
    {
     "name": "stdout",
     "output_type": "stream",
     "text": [
      "Saved 간척지의 농어업적 이용 및 관리에 관한 법률 to 법령별 directory\n"
     ]
    },
    {
     "name": "stderr",
     "output_type": "stream",
     "text": [
      "  3%|▎         | 45/1654 [00:54<32:43,  1.22s/it]"
     ]
    },
    {
     "name": "stdout",
     "output_type": "stream",
     "text": [
      "No data found for 감사원법\n"
     ]
    },
    {
     "name": "stderr",
     "output_type": "stream",
     "text": [
      "  3%|▎         | 46/1654 [00:56<39:49,  1.49s/it]"
     ]
    },
    {
     "name": "stdout",
     "output_type": "stream",
     "text": [
      "Saved 감염병의 예방 및 관리에 관한 법률 to 법령별 directory\n"
     ]
    },
    {
     "name": "stderr",
     "output_type": "stream",
     "text": [
      "  3%|▎         | 47/1654 [00:57<38:59,  1.46s/it]"
     ]
    },
    {
     "name": "stdout",
     "output_type": "stream",
     "text": [
      "Saved 감정평가 및 감정평가사에 관한 법률 to 법령별 directory\n"
     ]
    },
    {
     "name": "stderr",
     "output_type": "stream",
     "text": [
      "  3%|▎         | 48/1654 [00:59<38:46,  1.45s/it]"
     ]
    },
    {
     "name": "stdout",
     "output_type": "stream",
     "text": [
      "Saved 강원특별자치도 설치 및 미래산업글로벌도시 조성을 위한 특별법 to 법령별 directory\n"
     ]
    },
    {
     "name": "stderr",
     "output_type": "stream",
     "text": [
      "  3%|▎         | 49/1654 [01:00<35:46,  1.34s/it]"
     ]
    },
    {
     "name": "stdout",
     "output_type": "stream",
     "text": [
      "Saved 개발도상국 산림을 통한 온실가스 배출 감축 및 탄소 축적 증진 지원에 관한 법률 to 법령별 directory\n"
     ]
    },
    {
     "name": "stderr",
     "output_type": "stream",
     "text": [
      "  3%|▎         | 50/1654 [01:01<34:25,  1.29s/it]"
     ]
    },
    {
     "name": "stdout",
     "output_type": "stream",
     "text": [
      "Saved 개발이익 환수에 관한 법률 to 법령별 directory\n"
     ]
    },
    {
     "name": "stderr",
     "output_type": "stream",
     "text": [
      "  3%|▎         | 51/1654 [01:02<34:45,  1.30s/it]"
     ]
    },
    {
     "name": "stdout",
     "output_type": "stream",
     "text": [
      "No data found for 개발제한구역의 지정 및 관리에 관한 특별조치법\n"
     ]
    },
    {
     "name": "stderr",
     "output_type": "stream",
     "text": [
      "  3%|▎         | 52/1654 [01:04<35:25,  1.33s/it]"
     ]
    },
    {
     "name": "stdout",
     "output_type": "stream",
     "text": [
      "No data found for 개별소비세법\n"
     ]
    },
    {
     "name": "stderr",
     "output_type": "stream",
     "text": [
      "  3%|▎         | 53/1654 [01:05<35:33,  1.33s/it]"
     ]
    },
    {
     "name": "stdout",
     "output_type": "stream",
     "text": [
      "Saved 개성공업지구 지원에 관한 법률 to 법령별 directory\n"
     ]
    },
    {
     "name": "stderr",
     "output_type": "stream",
     "text": [
      "  3%|▎         | 54/1654 [01:06<33:15,  1.25s/it]"
     ]
    },
    {
     "name": "stdout",
     "output_type": "stream",
     "text": [
      "Saved 개의 식용 목적의 사육ㆍ도살 및 유통 등 종식에 관한 특별법 to 법령별 directory\n"
     ]
    },
    {
     "name": "stderr",
     "output_type": "stream",
     "text": [
      "  3%|▎         | 55/1654 [01:08<35:59,  1.35s/it]"
     ]
    },
    {
     "name": "stdout",
     "output_type": "stream",
     "text": [
      "Saved 개인정보 보호법 to 법령별 directory\n"
     ]
    },
    {
     "name": "stderr",
     "output_type": "stream",
     "text": [
      "  3%|▎         | 56/1654 [01:09<34:25,  1.29s/it]"
     ]
    },
    {
     "name": "stdout",
     "output_type": "stream",
     "text": [
      "Saved 갯벌 및 그 주변지역의 지속가능한 관리와 복원에 관한 법률 to 법령별 directory\n"
     ]
    },
    {
     "name": "stderr",
     "output_type": "stream",
     "text": [
      "  3%|▎         | 57/1654 [01:10<32:03,  1.20s/it]"
     ]
    },
    {
     "name": "stdout",
     "output_type": "stream",
     "text": [
      "Saved 거창사건등 관련자의 명예회복에 관한 특별조치법 to 법령별 directory\n"
     ]
    },
    {
     "name": "stderr",
     "output_type": "stream",
     "text": [
      "  4%|▎         | 58/1654 [01:11<31:09,  1.17s/it]"
     ]
    },
    {
     "name": "stdout",
     "output_type": "stream",
     "text": [
      "Saved 건강가정기본법 to 법령별 directory\n"
     ]
    },
    {
     "name": "stderr",
     "output_type": "stream",
     "text": [
      "  4%|▎         | 59/1654 [01:12<30:20,  1.14s/it]"
     ]
    },
    {
     "name": "stdout",
     "output_type": "stream",
     "text": [
      "Saved 건강검진기본법 to 법령별 directory\n"
     ]
    },
    {
     "name": "stderr",
     "output_type": "stream",
     "text": [
      "  4%|▎         | 60/1654 [01:13<31:29,  1.19s/it]"
     ]
    },
    {
     "name": "stdout",
     "output_type": "stream",
     "text": [
      "Saved 건강기능식품에 관한 법률 to 법령별 directory\n"
     ]
    },
    {
     "name": "stderr",
     "output_type": "stream",
     "text": [
      "  4%|▎         | 61/1654 [01:14<29:31,  1.11s/it]"
     ]
    },
    {
     "name": "stdout",
     "output_type": "stream",
     "text": [
      "No data found for 건널목 개량촉진법\n"
     ]
    },
    {
     "name": "stderr",
     "output_type": "stream",
     "text": [
      "  4%|▎         | 62/1654 [01:16<30:05,  1.13s/it]"
     ]
    },
    {
     "name": "stdout",
     "output_type": "stream",
     "text": [
      "Saved 건설근로자의 고용개선 등에 관한 법률 to 법령별 directory\n"
     ]
    },
    {
     "name": "stderr",
     "output_type": "stream",
     "text": [
      "  4%|▍         | 63/1654 [01:17<31:48,  1.20s/it]"
     ]
    },
    {
     "name": "stdout",
     "output_type": "stream",
     "text": [
      "No data found for 건설기계관리법\n"
     ]
    },
    {
     "name": "stderr",
     "output_type": "stream",
     "text": [
      "  4%|▍         | 64/1654 [01:19<36:13,  1.37s/it]"
     ]
    },
    {
     "name": "stdout",
     "output_type": "stream",
     "text": [
      "Saved 건설기술 진흥법 to 법령별 directory\n"
     ]
    },
    {
     "name": "stderr",
     "output_type": "stream",
     "text": [
      "  4%|▍         | 65/1654 [01:21<40:57,  1.55s/it]"
     ]
    },
    {
     "name": "stdout",
     "output_type": "stream",
     "text": [
      "Saved 건설산업기본법 to 법령별 directory\n"
     ]
    },
    {
     "name": "stderr",
     "output_type": "stream",
     "text": [
      "  4%|▍         | 66/1654 [01:22<39:49,  1.50s/it]"
     ]
    },
    {
     "name": "stdout",
     "output_type": "stream",
     "text": [
      "Saved 건설폐기물의 재활용촉진에 관한 법률 to 법령별 directory\n"
     ]
    },
    {
     "name": "stderr",
     "output_type": "stream",
     "text": [
      "  4%|▍         | 67/1654 [01:23<34:10,  1.29s/it]"
     ]
    },
    {
     "name": "stdout",
     "output_type": "stream",
     "text": [
      "No data found for 건전가정의례의 정착 및 지원에 관한 법률\n"
     ]
    },
    {
     "name": "stderr",
     "output_type": "stream",
     "text": [
      "  4%|▍         | 68/1654 [01:24<31:40,  1.20s/it]"
     ]
    },
    {
     "name": "stdout",
     "output_type": "stream",
     "text": [
      "Saved 건축기본법 to 법령별 directory\n"
     ]
    },
    {
     "name": "stderr",
     "output_type": "stream",
     "text": [
      "  4%|▍         | 69/1654 [01:25<32:34,  1.23s/it]"
     ]
    },
    {
     "name": "stdout",
     "output_type": "stream",
     "text": [
      "Saved 건축물관리법 to 법령별 directory\n"
     ]
    },
    {
     "name": "stderr",
     "output_type": "stream",
     "text": [
      "  4%|▍         | 70/1654 [01:26<29:47,  1.13s/it]"
     ]
    },
    {
     "name": "stdout",
     "output_type": "stream",
     "text": [
      "Saved 건축물의 분양에 관한 법률 to 법령별 directory\n"
     ]
    },
    {
     "name": "stderr",
     "output_type": "stream",
     "text": [
      "  4%|▍         | 71/1654 [01:29<40:45,  1.55s/it]"
     ]
    },
    {
     "name": "stdout",
     "output_type": "stream",
     "text": [
      "Saved 건축법 to 법령별 directory\n"
     ]
    },
    {
     "name": "stderr",
     "output_type": "stream",
     "text": [
      "  4%|▍         | 72/1654 [01:30<40:50,  1.55s/it]"
     ]
    },
    {
     "name": "stdout",
     "output_type": "stream",
     "text": [
      "Saved 건축사법 to 법령별 directory\n"
     ]
    },
    {
     "name": "stderr",
     "output_type": "stream",
     "text": [
      "  4%|▍         | 73/1654 [01:31<37:47,  1.43s/it]"
     ]
    },
    {
     "name": "stdout",
     "output_type": "stream",
     "text": [
      "Saved 건축서비스산업 진흥법 to 법령별 directory\n"
     ]
    },
    {
     "name": "stderr",
     "output_type": "stream",
     "text": [
      "  4%|▍         | 74/1654 [01:32<33:37,  1.28s/it]"
     ]
    },
    {
     "name": "stdout",
     "output_type": "stream",
     "text": [
      "No data found for 검사의 보수에 관한 법률\n"
     ]
    },
    {
     "name": "stderr",
     "output_type": "stream",
     "text": [
      "  5%|▍         | 75/1654 [01:33<30:43,  1.17s/it]"
     ]
    },
    {
     "name": "stdout",
     "output_type": "stream",
     "text": [
      "No data found for 검사정원법\n"
     ]
    },
    {
     "name": "stderr",
     "output_type": "stream",
     "text": [
      "  5%|▍         | 76/1654 [01:34<29:10,  1.11s/it]"
     ]
    },
    {
     "name": "stdout",
     "output_type": "stream",
     "text": [
      "No data found for 검사징계법\n"
     ]
    },
    {
     "name": "stderr",
     "output_type": "stream",
     "text": [
      "  5%|▍         | 77/1654 [01:35<29:32,  1.12s/it]"
     ]
    },
    {
     "name": "stdout",
     "output_type": "stream",
     "text": [
      "Saved 검역법 to 법령별 directory\n"
     ]
    },
    {
     "name": "stderr",
     "output_type": "stream",
     "text": [
      "  5%|▍         | 78/1654 [01:36<30:43,  1.17s/it]"
     ]
    },
    {
     "name": "stdout",
     "output_type": "stream",
     "text": [
      "No data found for 검찰청법\n"
     ]
    },
    {
     "name": "stderr",
     "output_type": "stream",
     "text": [
      "  5%|▍         | 79/1654 [01:38<33:28,  1.28s/it]"
     ]
    },
    {
     "name": "stdout",
     "output_type": "stream",
     "text": [
      "Saved 게임산업진흥에 관한 법률 to 법령별 directory\n"
     ]
    },
    {
     "name": "stderr",
     "output_type": "stream",
     "text": [
      "  5%|▍         | 80/1654 [01:39<30:59,  1.18s/it]"
     ]
    },
    {
     "name": "stdout",
     "output_type": "stream",
     "text": [
      "Saved 겨레말큰사전남북공동편찬사업회법 to 법령별 directory\n"
     ]
    },
    {
     "name": "stderr",
     "output_type": "stream",
     "text": [
      "  5%|▍         | 81/1654 [01:40<30:29,  1.16s/it]"
     ]
    },
    {
     "name": "stdout",
     "output_type": "stream",
     "text": [
      "Saved 결핵예방법 to 법령별 directory\n"
     ]
    },
    {
     "name": "stderr",
     "output_type": "stream",
     "text": [
      "  5%|▍         | 82/1654 [01:41<29:30,  1.13s/it]"
     ]
    },
    {
     "name": "stdout",
     "output_type": "stream",
     "text": [
      "Saved 결혼중개업의 관리에 관한 법률 to 법령별 directory\n"
     ]
    },
    {
     "name": "stderr",
     "output_type": "stream",
     "text": [
      "  5%|▌         | 83/1654 [01:42<29:09,  1.11s/it]"
     ]
    },
    {
     "name": "stdout",
     "output_type": "stream",
     "text": [
      "No data found for 경관법\n"
     ]
    },
    {
     "name": "stderr",
     "output_type": "stream",
     "text": [
      "  5%|▌         | 84/1654 [01:43<29:57,  1.14s/it]"
     ]
    },
    {
     "name": "stdout",
     "output_type": "stream",
     "text": [
      "Saved 경륜ㆍ경정법 to 법령별 directory\n"
     ]
    },
    {
     "name": "stderr",
     "output_type": "stream",
     "text": [
      "  5%|▌         | 85/1654 [01:44<28:31,  1.09s/it]"
     ]
    },
    {
     "name": "stdout",
     "output_type": "stream",
     "text": [
      "Saved 경범죄 처벌법 to 법령별 directory\n"
     ]
    },
    {
     "name": "stderr",
     "output_type": "stream",
     "text": [
      "  5%|▌         | 86/1654 [01:45<27:03,  1.04s/it]"
     ]
    },
    {
     "name": "stdout",
     "output_type": "stream",
     "text": [
      "Saved 경비교도대 폐지에 따른 보상 등에 관한 법률 to 법령별 directory\n"
     ]
    },
    {
     "name": "stderr",
     "output_type": "stream",
     "text": [
      "  5%|▌         | 87/1654 [01:46<28:17,  1.08s/it]"
     ]
    },
    {
     "name": "stdout",
     "output_type": "stream",
     "text": [
      "Saved 경비업법 to 법령별 directory\n"
     ]
    },
    {
     "name": "stderr",
     "output_type": "stream",
     "text": [
      "  5%|▌         | 88/1654 [01:48<30:06,  1.15s/it]"
     ]
    },
    {
     "name": "stdout",
     "output_type": "stream",
     "text": [
      "No data found for 경상북도와 대구광역시 간 관할구역 변경에 관한 법률\n"
     ]
    },
    {
     "name": "stderr",
     "output_type": "stream",
     "text": [
      "  5%|▌         | 89/1654 [01:49<29:02,  1.11s/it]"
     ]
    },
    {
     "name": "stdout",
     "output_type": "stream",
     "text": [
      "No data found for 경영지도사 및 기술지도사에 관한 법률\n"
     ]
    },
    {
     "name": "stderr",
     "output_type": "stream",
     "text": [
      "  5%|▌         | 90/1654 [01:50<27:26,  1.05s/it]"
     ]
    },
    {
     "name": "stdout",
     "output_type": "stream",
     "text": [
      "No data found for 경제교육지원법\n"
     ]
    },
    {
     "name": "stderr",
     "output_type": "stream",
     "text": [
      "  6%|▌         | 91/1654 [01:51<26:57,  1.03s/it]"
     ]
    },
    {
     "name": "stdout",
     "output_type": "stream",
     "text": [
      "No data found for 경제사회노동위원회법\n"
     ]
    },
    {
     "name": "stderr",
     "output_type": "stream",
     "text": [
      "  6%|▌         | 92/1654 [01:52<27:22,  1.05s/it]"
     ]
    },
    {
     "name": "stdout",
     "output_type": "stream",
     "text": [
      "Saved 경제안보를 위한 공급망 안정화 지원 기본법 to 법령별 directory\n"
     ]
    },
    {
     "name": "stderr",
     "output_type": "stream",
     "text": [
      "  6%|▌         | 93/1654 [01:53<27:37,  1.06s/it]"
     ]
    },
    {
     "name": "stdout",
     "output_type": "stream",
     "text": [
      "Saved 경제자유구역 및 제주국제자유도시의 외국교육기관 설립ㆍ운영에 관한 특별법 to 법령별 directory\n"
     ]
    },
    {
     "name": "stderr",
     "output_type": "stream",
     "text": [
      "  6%|▌         | 94/1654 [01:55<31:47,  1.22s/it]"
     ]
    },
    {
     "name": "stdout",
     "output_type": "stream",
     "text": [
      "Saved 경제자유구역의 지정 및 운영에 관한 특별법 to 법령별 directory\n"
     ]
    },
    {
     "name": "stderr",
     "output_type": "stream",
     "text": [
      "  6%|▌         | 95/1654 [01:56<31:17,  1.20s/it]"
     ]
    },
    {
     "name": "stdout",
     "output_type": "stream",
     "text": [
      "Saved 경찰공무원법 to 법령별 directory\n"
     ]
    },
    {
     "name": "stderr",
     "output_type": "stream",
     "text": [
      "  6%|▌         | 96/1654 [01:57<30:34,  1.18s/it]"
     ]
    },
    {
     "name": "stdout",
     "output_type": "stream",
     "text": [
      "Saved 경찰공무원 보건안전 및 복지 기본법 to 법령별 directory\n"
     ]
    },
    {
     "name": "stderr",
     "output_type": "stream",
     "text": [
      "  6%|▌         | 97/1654 [01:58<29:25,  1.13s/it]"
     ]
    },
    {
     "name": "stdout",
     "output_type": "stream",
     "text": [
      "No data found for 경찰공제회법\n"
     ]
    },
    {
     "name": "stderr",
     "output_type": "stream",
     "text": [
      "  6%|▌         | 98/1654 [01:59<29:59,  1.16s/it]"
     ]
    },
    {
     "name": "stdout",
     "output_type": "stream",
     "text": [
      "No data found for 경찰관 직무집행법\n"
     ]
    },
    {
     "name": "stderr",
     "output_type": "stream",
     "text": [
      "  6%|▌         | 99/1654 [02:00<28:56,  1.12s/it]"
     ]
    },
    {
     "name": "stdout",
     "output_type": "stream",
     "text": [
      "No data found for 경찰대학 설치법\n"
     ]
    },
    {
     "name": "stderr",
     "output_type": "stream",
     "text": [
      "  6%|▌         | 100/1654 [02:01<29:02,  1.12s/it]"
     ]
    },
    {
     "name": "stdout",
     "output_type": "stream",
     "text": [
      "Saved 경찰제복 및 경찰장비의 규제에 관한 법률 to 법령별 directory\n"
     ]
    },
    {
     "name": "stderr",
     "output_type": "stream",
     "text": [
      "  6%|▌         | 101/1654 [02:02<27:24,  1.06s/it]"
     ]
    },
    {
     "name": "stdout",
     "output_type": "stream",
     "text": [
      "No data found for 경찰직무 응원법\n"
     ]
    },
    {
     "name": "stderr",
     "output_type": "stream",
     "text": [
      "  6%|▌         | 102/1654 [02:04<30:39,  1.19s/it]"
     ]
    },
    {
     "name": "stdout",
     "output_type": "stream",
     "text": [
      "Saved 계량에 관한 법률 to 법령별 directory\n"
     ]
    },
    {
     "name": "stderr",
     "output_type": "stream",
     "text": [
      "  6%|▌         | 103/1654 [02:05<29:05,  1.13s/it]"
     ]
    },
    {
     "name": "stdout",
     "output_type": "stream",
     "text": [
      "No data found for 계엄법\n"
     ]
    },
    {
     "name": "stderr",
     "output_type": "stream",
     "text": [
      "  6%|▋         | 104/1654 [02:06<30:24,  1.18s/it]"
     ]
    },
    {
     "name": "stdout",
     "output_type": "stream",
     "text": [
      "Saved 고도 보존 및 육성에 관한 특별법 to 법령별 directory\n"
     ]
    },
    {
     "name": "stderr",
     "output_type": "stream",
     "text": [
      "  6%|▋         | 105/1654 [02:07<28:06,  1.09s/it]"
     ]
    },
    {
     "name": "stdout",
     "output_type": "stream",
     "text": [
      "Saved 고독사 예방 및 관리에 관한 법률 to 법령별 directory\n"
     ]
    },
    {
     "name": "stderr",
     "output_type": "stream",
     "text": [
      "  6%|▋         | 106/1654 [02:09<36:08,  1.40s/it]"
     ]
    },
    {
     "name": "stdout",
     "output_type": "stream",
     "text": [
      "No data found for 고등교육법\n"
     ]
    },
    {
     "name": "stderr",
     "output_type": "stream",
     "text": [
      "  6%|▋         | 107/1654 [02:10<33:03,  1.28s/it]"
     ]
    },
    {
     "name": "stdout",
     "output_type": "stream",
     "text": [
      "Saved 고등ㆍ평생교육지원특별회계법 to 법령별 directory\n"
     ]
    },
    {
     "name": "stderr",
     "output_type": "stream",
     "text": [
      "  7%|▋         | 108/1654 [02:11<31:02,  1.20s/it]"
     ]
    },
    {
     "name": "stdout",
     "output_type": "stream",
     "text": [
      "Saved 고려인동포 합법적 체류자격 취득 및 정착 지원을 위한 특별법 to 법령별 directory\n"
     ]
    },
    {
     "name": "stderr",
     "output_type": "stream",
     "text": [
      "  7%|▋         | 109/1654 [02:12<29:41,  1.15s/it]"
     ]
    },
    {
     "name": "stdout",
     "output_type": "stream",
     "text": [
      "Saved 고령친화산업 진흥법 to 법령별 directory\n"
     ]
    },
    {
     "name": "stderr",
     "output_type": "stream",
     "text": [
      "  7%|▋         | 110/1654 [02:13<32:29,  1.26s/it]"
     ]
    },
    {
     "name": "stdout",
     "output_type": "stream",
     "text": [
      "Saved 고압가스 안전관리법 to 법령별 directory\n"
     ]
    },
    {
     "name": "stderr",
     "output_type": "stream",
     "text": [
      "  7%|▋         | 111/1654 [02:15<34:22,  1.34s/it]"
     ]
    },
    {
     "name": "stdout",
     "output_type": "stream",
     "text": [
      "Saved 고엽제후유의증 등 환자지원 및 단체설립에 관한 법률 to 법령별 directory\n"
     ]
    },
    {
     "name": "stderr",
     "output_type": "stream",
     "text": [
      "  7%|▋         | 112/1654 [02:17<36:41,  1.43s/it]"
     ]
    },
    {
     "name": "stdout",
     "output_type": "stream",
     "text": [
      "Saved 고용보험 및 산업재해보상보험의 보험료징수 등에 관한 법률 to 법령별 directory\n"
     ]
    },
    {
     "name": "stderr",
     "output_type": "stream",
     "text": [
      "  7%|▋         | 113/1654 [02:18<39:14,  1.53s/it]"
     ]
    },
    {
     "name": "stdout",
     "output_type": "stream",
     "text": [
      "Saved 고용보험법 to 법령별 directory\n"
     ]
    },
    {
     "name": "stderr",
     "output_type": "stream",
     "text": [
      "  7%|▋         | 114/1654 [02:19<34:43,  1.35s/it]"
     ]
    },
    {
     "name": "stdout",
     "output_type": "stream",
     "text": [
      "No data found for 고용보험ㆍ산업재해보상보험의 보험관계 성립신고 등의 촉진을 위한 특별조치법\n"
     ]
    },
    {
     "name": "stderr",
     "output_type": "stream",
     "text": [
      "  7%|▋         | 115/1654 [02:20<33:04,  1.29s/it]"
     ]
    },
    {
     "name": "stdout",
     "output_type": "stream",
     "text": [
      "Saved 고용상 연령차별금지 및 고령자고용촉진에 관한 법률 to 법령별 directory\n"
     ]
    },
    {
     "name": "stderr",
     "output_type": "stream",
     "text": [
      "  7%|▋         | 116/1654 [02:22<33:02,  1.29s/it]"
     ]
    },
    {
     "name": "stdout",
     "output_type": "stream",
     "text": [
      "Saved 고용정책 기본법 to 법령별 directory\n"
     ]
    },
    {
     "name": "stderr",
     "output_type": "stream",
     "text": [
      "  7%|▋         | 117/1654 [02:23<32:05,  1.25s/it]"
     ]
    },
    {
     "name": "stdout",
     "output_type": "stream",
     "text": [
      "Saved 고위공직자범죄수사처 설치 및 운영에 관한 법률 to 법령별 directory\n"
     ]
    },
    {
     "name": "stderr",
     "output_type": "stream",
     "text": [
      "  7%|▋         | 118/1654 [02:24<29:58,  1.17s/it]"
     ]
    },
    {
     "name": "stdout",
     "output_type": "stream",
     "text": [
      "Saved 고향사랑 기부금에 관한 법률 to 법령별 directory\n"
     ]
    },
    {
     "name": "stderr",
     "output_type": "stream",
     "text": [
      "  7%|▋         | 119/1654 [02:25<27:53,  1.09s/it]"
     ]
    },
    {
     "name": "stdout",
     "output_type": "stream",
     "text": [
      "Saved 곤충산업의 육성 및 지원에 관한 법률 to 법령별 directory\n"
     ]
    },
    {
     "name": "stderr",
     "output_type": "stream",
     "text": [
      "  7%|▋         | 120/1654 [02:26<29:49,  1.17s/it]"
     ]
    },
    {
     "name": "stdout",
     "output_type": "stream",
     "text": [
      "Saved 골재채취법 to 법령별 directory\n"
     ]
    },
    {
     "name": "stderr",
     "output_type": "stream",
     "text": [
      "  7%|▋         | 121/1654 [02:27<28:22,  1.11s/it]"
     ]
    },
    {
     "name": "stdout",
     "output_type": "stream",
     "text": [
      "Saved 공간정보산업 진흥법 to 법령별 directory\n"
     ]
    },
    {
     "name": "stderr",
     "output_type": "stream",
     "text": [
      "  7%|▋         | 122/1654 [02:29<37:17,  1.46s/it]"
     ]
    },
    {
     "name": "stdout",
     "output_type": "stream",
     "text": [
      "Saved 공간정보의 구축 및 관리 등에 관한 법률 to 법령별 directory\n"
     ]
    },
    {
     "name": "stderr",
     "output_type": "stream",
     "text": [
      "  7%|▋         | 123/1654 [02:31<36:01,  1.41s/it]"
     ]
    },
    {
     "name": "stdout",
     "output_type": "stream",
     "text": [
      "Saved 공공감사에 관한 법률 to 법령별 directory\n"
     ]
    },
    {
     "name": "stderr",
     "output_type": "stream",
     "text": [
      "  7%|▋         | 124/1654 [02:32<35:21,  1.39s/it]"
     ]
    },
    {
     "name": "stdout",
     "output_type": "stream",
     "text": [
      "No data found for 공공기관의 운영에 관한 법률\n"
     ]
    },
    {
     "name": "stderr",
     "output_type": "stream",
     "text": [
      "  8%|▊         | 125/1654 [02:33<32:18,  1.27s/it]"
     ]
    },
    {
     "name": "stdout",
     "output_type": "stream",
     "text": [
      "Saved 공공기관의 정보공개에 관한 법률 to 법령별 directory\n"
     ]
    },
    {
     "name": "stderr",
     "output_type": "stream",
     "text": [
      "  8%|▊         | 126/1654 [02:34<31:58,  1.26s/it]"
     ]
    },
    {
     "name": "stdout",
     "output_type": "stream",
     "text": [
      "Saved 공공기록물 관리에 관한 법률 to 법령별 directory\n"
     ]
    },
    {
     "name": "stderr",
     "output_type": "stream",
     "text": [
      "  8%|▊         | 127/1654 [02:36<33:06,  1.30s/it]"
     ]
    },
    {
     "name": "stdout",
     "output_type": "stream",
     "text": [
      "Saved 공공단체등 위탁선거에 관한 법률 to 법령별 directory\n"
     ]
    },
    {
     "name": "stderr",
     "output_type": "stream",
     "text": [
      "  8%|▊         | 128/1654 [02:37<31:37,  1.24s/it]"
     ]
    },
    {
     "name": "stdout",
     "output_type": "stream",
     "text": [
      "Saved 공공데이터의 제공 및 이용 활성화에 관한 법률 to 법령별 directory\n"
     ]
    },
    {
     "name": "stderr",
     "output_type": "stream",
     "text": [
      "  8%|▊         | 129/1654 [02:38<28:54,  1.14s/it]"
     ]
    },
    {
     "name": "stdout",
     "output_type": "stream",
     "text": [
      "Saved 공공디자인의 진흥에 관한 법률 to 법령별 directory\n"
     ]
    },
    {
     "name": "stderr",
     "output_type": "stream",
     "text": [
      "  8%|▊         | 130/1654 [02:39<27:31,  1.08s/it]"
     ]
    },
    {
     "name": "stdout",
     "output_type": "stream",
     "text": [
      "Saved 공공보건의료에 관한 법률 to 법령별 directory\n"
     ]
    },
    {
     "name": "stderr",
     "output_type": "stream",
     "text": [
      "  8%|▊         | 131/1654 [02:40<26:43,  1.05s/it]"
     ]
    },
    {
     "name": "stdout",
     "output_type": "stream",
     "text": [
      "Saved 공공외교법 to 법령별 directory\n"
     ]
    },
    {
     "name": "stderr",
     "output_type": "stream",
     "text": [
      "  8%|▊         | 132/1654 [02:41<26:37,  1.05s/it]"
     ]
    },
    {
     "name": "stdout",
     "output_type": "stream",
     "text": [
      "Saved 공공자금관리기금법 to 법령별 directory\n"
     ]
    },
    {
     "name": "stderr",
     "output_type": "stream",
     "text": [
      "  8%|▊         | 133/1654 [02:42<26:30,  1.05s/it]"
     ]
    },
    {
     "name": "stdout",
     "output_type": "stream",
     "text": [
      "Saved 공공재정 부정청구 금지 및 부정이익 환수 등에 관한 법률 to 법령별 directory\n"
     ]
    },
    {
     "name": "stderr",
     "output_type": "stream",
     "text": [
      "  8%|▊         | 134/1654 [02:44<33:15,  1.31s/it]"
     ]
    },
    {
     "name": "stdout",
     "output_type": "stream",
     "text": [
      "Saved 공공주택 특별법 to 법령별 directory\n"
     ]
    },
    {
     "name": "stderr",
     "output_type": "stream",
     "text": [
      "  8%|▊         | 135/1654 [02:45<31:00,  1.22s/it]"
     ]
    },
    {
     "name": "stdout",
     "output_type": "stream",
     "text": [
      "Saved 공공차관의 도입 및 관리에 관한 법률 to 법령별 directory\n"
     ]
    },
    {
     "name": "stderr",
     "output_type": "stream",
     "text": [
      "  8%|▊         | 136/1654 [02:46<30:05,  1.19s/it]"
     ]
    },
    {
     "name": "stdout",
     "output_type": "stream",
     "text": [
      "Saved 공공토지의 비축에 관한 법률 to 법령별 directory\n"
     ]
    },
    {
     "name": "stderr",
     "output_type": "stream",
     "text": [
      "  8%|▊         | 137/1654 [02:47<28:30,  1.13s/it]"
     ]
    },
    {
     "name": "stdout",
     "output_type": "stream",
     "text": [
      "Saved 공공폐자원관리시설의 설치ㆍ운영 및 주민지원 등에 관한 특별법 to 법령별 directory\n"
     ]
    },
    {
     "name": "stderr",
     "output_type": "stream",
     "text": [
      "  8%|▊         | 138/1654 [02:48<27:22,  1.08s/it]"
     ]
    },
    {
     "name": "stdout",
     "output_type": "stream",
     "text": [
      "Saved 공교육 정상화 촉진 및 선행교육 규제에 관한 특별법 to 법령별 directory\n"
     ]
    },
    {
     "name": "stderr",
     "output_type": "stream",
     "text": [
      "  8%|▊         | 139/1654 [02:49<29:21,  1.16s/it]"
     ]
    },
    {
     "name": "stdout",
     "output_type": "stream",
     "text": [
      "No data found for 공군 20전투비행단 이예람 중사 사망 사건 관련 군 내 성폭력 및 2차 피해 등의 진상규명을 위한 특별검사 임명 등에 관한 법률\n"
     ]
    },
    {
     "name": "stderr",
     "output_type": "stream",
     "text": [
      "  8%|▊         | 140/1654 [02:50<27:52,  1.10s/it]"
     ]
    },
    {
     "name": "stdout",
     "output_type": "stream",
     "text": [
      "No data found for 공군항공과학고등학교 설치법\n"
     ]
    },
    {
     "name": "stderr",
     "output_type": "stream",
     "text": [
      "  9%|▊         | 141/1654 [02:51<26:23,  1.05s/it]"
     ]
    },
    {
     "name": "stdout",
     "output_type": "stream",
     "text": [
      "No data found for 공기업의 경영구조개선 및 민영화에 관한 법률\n"
     ]
    },
    {
     "name": "stderr",
     "output_type": "stream",
     "text": [
      "  9%|▊         | 142/1654 [02:53<30:42,  1.22s/it]"
     ]
    },
    {
     "name": "stdout",
     "output_type": "stream",
     "text": [
      "Saved 공동주택관리법 to 법령별 directory\n"
     ]
    },
    {
     "name": "stderr",
     "output_type": "stream",
     "text": [
      "  9%|▊         | 143/1654 [02:54<28:59,  1.15s/it]"
     ]
    },
    {
     "name": "stdout",
     "output_type": "stream",
     "text": [
      "Saved 공무원 노동조합 관련 해직공무원등의 복직 등에 관한 특별법 to 법령별 directory\n"
     ]
    },
    {
     "name": "stderr",
     "output_type": "stream",
     "text": [
      "  9%|▊         | 144/1654 [02:55<29:43,  1.18s/it]"
     ]
    },
    {
     "name": "stdout",
     "output_type": "stream",
     "text": [
      "Saved 공무원범죄에 관한 몰수 특례법 to 법령별 directory\n"
     ]
    },
    {
     "name": "stderr",
     "output_type": "stream",
     "text": [
      "  9%|▉         | 145/1654 [02:56<31:47,  1.26s/it]"
     ]
    },
    {
     "name": "stdout",
     "output_type": "stream",
     "text": [
      "Saved 공무원연금법 to 법령별 directory\n"
     ]
    },
    {
     "name": "stderr",
     "output_type": "stream",
     "text": [
      "  9%|▉         | 146/1654 [02:57<29:17,  1.17s/it]"
     ]
    },
    {
     "name": "stdout",
     "output_type": "stream",
     "text": [
      "Saved 공무원의 노동조합 설립 및 운영 등에 관한 법률 to 법령별 directory\n"
     ]
    },
    {
     "name": "stderr",
     "output_type": "stream",
     "text": [
      "  9%|▉         | 147/1654 [02:58<28:07,  1.12s/it]"
     ]
    },
    {
     "name": "stdout",
     "output_type": "stream",
     "text": [
      "No data found for 공무원 인재개발법\n"
     ]
    },
    {
     "name": "stderr",
     "output_type": "stream",
     "text": [
      "  9%|▉         | 148/1654 [03:00<29:59,  1.19s/it]"
     ]
    },
    {
     "name": "stdout",
     "output_type": "stream",
     "text": [
      "Saved 공무원 재해보상법 to 법령별 directory\n"
     ]
    },
    {
     "name": "stderr",
     "output_type": "stream",
     "text": [
      "  9%|▉         | 149/1654 [03:00<27:41,  1.10s/it]"
     ]
    },
    {
     "name": "stdout",
     "output_type": "stream",
     "text": [
      "No data found for 공무원직장협의회의 설립ㆍ운영에 관한 법률\n"
     ]
    },
    {
     "name": "stderr",
     "output_type": "stream",
     "text": [
      "  9%|▉         | 150/1654 [03:02<29:00,  1.16s/it]"
     ]
    },
    {
     "name": "stdout",
     "output_type": "stream",
     "text": [
      "Saved 공사중단 장기방치 건축물의 정비 등에 관한 특별조치법 to 법령별 directory\n"
     ]
    },
    {
     "name": "stderr",
     "output_type": "stream",
     "text": [
      "  9%|▉         | 151/1654 [03:03<29:37,  1.18s/it]"
     ]
    },
    {
     "name": "stdout",
     "output_type": "stream",
     "text": [
      "Saved 공연법 to 법령별 directory\n"
     ]
    },
    {
     "name": "stderr",
     "output_type": "stream",
     "text": [
      "  9%|▉         | 152/1654 [03:04<26:58,  1.08s/it]"
     ]
    },
    {
     "name": "stdout",
     "output_type": "stream",
     "text": [
      "Saved 공예문화산업 진흥법 to 법령별 directory\n"
     ]
    },
    {
     "name": "stderr",
     "output_type": "stream",
     "text": [
      "  9%|▉         | 153/1654 [03:05<29:09,  1.17s/it]"
     ]
    },
    {
     "name": "stdout",
     "output_type": "stream",
     "text": [
      "Saved 공유수면 관리 및 매립에 관한 법률 to 법령별 directory\n"
     ]
    },
    {
     "name": "stderr",
     "output_type": "stream",
     "text": [
      "  9%|▉         | 154/1654 [03:07<34:50,  1.39s/it]"
     ]
    },
    {
     "name": "stdout",
     "output_type": "stream",
     "text": [
      "Saved 공유재산 및 물품 관리법 to 법령별 directory\n"
     ]
    },
    {
     "name": "stderr",
     "output_type": "stream",
     "text": [
      "  9%|▉         | 155/1654 [03:08<32:37,  1.31s/it]"
     ]
    },
    {
     "name": "stdout",
     "output_type": "stream",
     "text": [
      "Saved 공익법무관에 관한 법률 to 법령별 directory\n"
     ]
    },
    {
     "name": "stderr",
     "output_type": "stream",
     "text": [
      "  9%|▉         | 156/1654 [03:09<29:59,  1.20s/it]"
     ]
    },
    {
     "name": "stdout",
     "output_type": "stream",
     "text": [
      "No data found for 공익법인의 설립ㆍ운영에 관한 법률\n"
     ]
    },
    {
     "name": "stderr",
     "output_type": "stream",
     "text": [
      "  9%|▉         | 157/1654 [03:11<32:59,  1.32s/it]"
     ]
    },
    {
     "name": "stdout",
     "output_type": "stream",
     "text": [
      "Saved 공익사업을 위한 토지 등의 취득 및 보상에 관한 법률 to 법령별 directory\n"
     ]
    },
    {
     "name": "stderr",
     "output_type": "stream",
     "text": [
      " 10%|▉         | 158/1654 [03:12<32:33,  1.31s/it]"
     ]
    },
    {
     "name": "stdout",
     "output_type": "stream",
     "text": [
      "Saved 공익신고자 보호법 to 법령별 directory\n"
     ]
    },
    {
     "name": "stderr",
     "output_type": "stream",
     "text": [
      " 10%|▉         | 159/1654 [03:13<31:19,  1.26s/it]"
     ]
    },
    {
     "name": "stdout",
     "output_type": "stream",
     "text": [
      "No data found for 공익신탁법\n"
     ]
    },
    {
     "name": "stderr",
     "output_type": "stream",
     "text": [
      " 10%|▉         | 160/1654 [03:14<31:00,  1.25s/it]"
     ]
    },
    {
     "name": "stdout",
     "output_type": "stream",
     "text": [
      "No data found for 공인노무사법\n"
     ]
    },
    {
     "name": "stderr",
     "output_type": "stream",
     "text": [
      " 10%|▉         | 161/1654 [03:16<32:55,  1.32s/it]"
     ]
    },
    {
     "name": "stdout",
     "output_type": "stream",
     "text": [
      "Saved 공인중개사법 to 법령별 directory\n"
     ]
    },
    {
     "name": "stderr",
     "output_type": "stream",
     "text": [
      " 10%|▉         | 162/1654 [03:17<34:00,  1.37s/it]"
     ]
    },
    {
     "name": "stdout",
     "output_type": "stream",
     "text": [
      "Saved 공인회계사법 to 법령별 directory\n"
     ]
    },
    {
     "name": "stderr",
     "output_type": "stream",
     "text": [
      " 10%|▉         | 163/1654 [03:19<32:26,  1.31s/it]"
     ]
    },
    {
     "name": "stdout",
     "output_type": "stream",
     "text": [
      "Saved 공장 및 광업재단 저당법 to 법령별 directory\n"
     ]
    },
    {
     "name": "stderr",
     "output_type": "stream",
     "text": [
      " 10%|▉         | 164/1654 [03:19<29:52,  1.20s/it]"
     ]
    },
    {
     "name": "stdout",
     "output_type": "stream",
     "text": [
      "Saved 공적자금관리 특별법 to 법령별 directory\n"
     ]
    },
    {
     "name": "stderr",
     "output_type": "stream",
     "text": [
      " 10%|▉         | 165/1654 [03:20<28:26,  1.15s/it]"
     ]
    },
    {
     "name": "stdout",
     "output_type": "stream",
     "text": [
      "Saved 공적자금상환기금법 to 법령별 directory\n"
     ]
    },
    {
     "name": "stderr",
     "output_type": "stream",
     "text": [
      " 10%|█         | 166/1654 [03:21<27:15,  1.10s/it]"
     ]
    },
    {
     "name": "stdout",
     "output_type": "stream",
     "text": [
      "Saved 공중 등 협박목적 및 대량살상무기확산을 위한 자금조달행위의 금지에 관한 법률 to 법령별 directory\n"
     ]
    },
    {
     "name": "stderr",
     "output_type": "stream",
     "text": [
      " 10%|█         | 167/1654 [03:22<26:12,  1.06s/it]"
     ]
    },
    {
     "name": "stdout",
     "output_type": "stream",
     "text": [
      "Saved 공중방역수의사에 관한 법률 to 법령별 directory\n"
     ]
    },
    {
     "name": "stderr",
     "output_type": "stream",
     "text": [
      " 10%|█         | 168/1654 [03:24<26:50,  1.08s/it]"
     ]
    },
    {
     "name": "stdout",
     "output_type": "stream",
     "text": [
      "Saved 공중보건 위기대응 의료제품의 개발 촉진 및 긴급 공급을 위한 특별법 to 법령별 directory\n"
     ]
    },
    {
     "name": "stderr",
     "output_type": "stream",
     "text": [
      " 10%|█         | 169/1654 [03:24<24:59,  1.01s/it]"
     ]
    },
    {
     "name": "stdout",
     "output_type": "stream",
     "text": [
      "No data found for 공중보건장학을 위한 특례법\n"
     ]
    },
    {
     "name": "stderr",
     "output_type": "stream",
     "text": [
      " 10%|█         | 170/1654 [03:26<26:31,  1.07s/it]"
     ]
    },
    {
     "name": "stdout",
     "output_type": "stream",
     "text": [
      "Saved 공중위생관리법 to 법령별 directory\n"
     ]
    },
    {
     "name": "stderr",
     "output_type": "stream",
     "text": [
      " 10%|█         | 171/1654 [03:27<26:04,  1.05s/it]"
     ]
    },
    {
     "name": "stdout",
     "output_type": "stream",
     "text": [
      "Saved 공중화장실 등에 관한 법률 to 법령별 directory\n"
     ]
    },
    {
     "name": "stderr",
     "output_type": "stream",
     "text": [
      " 10%|█         | 172/1654 [03:28<30:00,  1.21s/it]"
     ]
    },
    {
     "name": "stdout",
     "output_type": "stream",
     "text": [
      "No data found for 공증인법\n"
     ]
    },
    {
     "name": "stderr",
     "output_type": "stream",
     "text": [
      " 10%|█         | 173/1654 [03:32<47:55,  1.94s/it]"
     ]
    },
    {
     "name": "stdout",
     "output_type": "stream",
     "text": [
      "No data found for 공직선거법\n"
     ]
    },
    {
     "name": "stderr",
     "output_type": "stream",
     "text": [
      " 11%|█         | 174/1654 [03:33<40:43,  1.65s/it]"
     ]
    },
    {
     "name": "stdout",
     "output_type": "stream",
     "text": [
      "No data found for 공직자 등의 병역사항 신고 및 공개에 관한 법률\n"
     ]
    },
    {
     "name": "stderr",
     "output_type": "stream",
     "text": [
      " 11%|█         | 175/1654 [03:35<42:03,  1.71s/it]"
     ]
    },
    {
     "name": "stdout",
     "output_type": "stream",
     "text": [
      "No data found for 공직자윤리법\n"
     ]
    },
    {
     "name": "stderr",
     "output_type": "stream",
     "text": [
      " 11%|█         | 176/1654 [03:36<36:54,  1.50s/it]"
     ]
    },
    {
     "name": "stdout",
     "output_type": "stream",
     "text": [
      "Saved 공직자의 이해충돌 방지법 to 법령별 directory\n"
     ]
    },
    {
     "name": "stderr",
     "output_type": "stream",
     "text": [
      " 11%|█         | 177/1654 [03:37<33:10,  1.35s/it]"
     ]
    },
    {
     "name": "stdout",
     "output_type": "stream",
     "text": [
      "No data found for 공탁법\n"
     ]
    },
    {
     "name": "stderr",
     "output_type": "stream",
     "text": [
      " 11%|█         | 178/1654 [03:38<30:09,  1.23s/it]"
     ]
    },
    {
     "name": "stdout",
     "output_type": "stream",
     "text": [
      "Saved 공항소음 방지 및 소음대책지역 지원에 관한 법률 to 법령별 directory\n"
     ]
    },
    {
     "name": "stderr",
     "output_type": "stream",
     "text": [
      " 11%|█         | 179/1654 [03:39<32:24,  1.32s/it]"
     ]
    },
    {
     "name": "stdout",
     "output_type": "stream",
     "text": [
      "Saved 공항시설법 to 법령별 directory\n"
     ]
    },
    {
     "name": "stderr",
     "output_type": "stream",
     "text": [
      " 11%|█         | 180/1654 [03:40<29:19,  1.19s/it]"
     ]
    },
    {
     "name": "stdout",
     "output_type": "stream",
     "text": [
      "No data found for 공휴일에 관한 법률\n"
     ]
    },
    {
     "name": "stderr",
     "output_type": "stream",
     "text": [
      " 11%|█         | 181/1654 [03:41<27:29,  1.12s/it]"
     ]
    },
    {
     "name": "stdout",
     "output_type": "stream",
     "text": [
      "Saved 과세자료의 제출 및 관리에 관한 법률 to 법령별 directory\n"
     ]
    },
    {
     "name": "stderr",
     "output_type": "stream",
     "text": [
      " 11%|█         | 182/1654 [03:42<27:31,  1.12s/it]"
     ]
    },
    {
     "name": "stdout",
     "output_type": "stream",
     "text": [
      "Saved 과학관의 설립ㆍ운영 및 육성에 관한 법률 to 법령별 directory\n"
     ]
    },
    {
     "name": "stderr",
     "output_type": "stream",
     "text": [
      " 11%|█         | 183/1654 [03:44<29:13,  1.19s/it]"
     ]
    },
    {
     "name": "stdout",
     "output_type": "stream",
     "text": [
      "No data found for 과학기술기본법\n"
     ]
    },
    {
     "name": "stderr",
     "output_type": "stream",
     "text": [
      " 11%|█         | 184/1654 [03:45<29:33,  1.21s/it]"
     ]
    },
    {
     "name": "stdout",
     "output_type": "stream",
     "text": [
      "Saved 과학기술분야 정부출연연구기관 등의 설립ㆍ운영 및 육성에 관한 법률 to 법령별 directory\n"
     ]
    },
    {
     "name": "stderr",
     "output_type": "stream",
     "text": [
      " 11%|█         | 185/1654 [03:46<27:13,  1.11s/it]"
     ]
    },
    {
     "name": "stdout",
     "output_type": "stream",
     "text": [
      "Saved 과학기술유공자 예우 및 지원에 관한 법률 to 법령별 directory\n"
     ]
    },
    {
     "name": "stderr",
     "output_type": "stream",
     "text": [
      " 11%|█         | 186/1654 [03:47<26:29,  1.08s/it]"
     ]
    },
    {
     "name": "stdout",
     "output_type": "stream",
     "text": [
      "No data found for 과학기술인공제회법\n"
     ]
    },
    {
     "name": "stderr",
     "output_type": "stream",
     "text": [
      " 11%|█▏        | 187/1654 [03:48<25:22,  1.04s/it]"
     ]
    },
    {
     "name": "stdout",
     "output_type": "stream",
     "text": [
      "Saved 과학ㆍ수학ㆍ정보 교육 진흥법 to 법령별 directory\n"
     ]
    },
    {
     "name": "stderr",
     "output_type": "stream",
     "text": [
      " 11%|█▏        | 188/1654 [03:49<28:43,  1.18s/it]"
     ]
    },
    {
     "name": "stdout",
     "output_type": "stream",
     "text": [
      "No data found for 관광기본법\n"
     ]
    },
    {
     "name": "stderr",
     "output_type": "stream",
     "text": [
      " 11%|█▏        | 189/1654 [03:50<27:22,  1.12s/it]"
     ]
    },
    {
     "name": "stdout",
     "output_type": "stream",
     "text": [
      "No data found for 관광진흥개발기금법\n"
     ]
    },
    {
     "name": "stderr",
     "output_type": "stream",
     "text": [
      " 11%|█▏        | 190/1654 [03:52<33:37,  1.38s/it]"
     ]
    },
    {
     "name": "stdout",
     "output_type": "stream",
     "text": [
      "Saved 관광진흥법 to 법령별 directory\n"
     ]
    },
    {
     "name": "stderr",
     "output_type": "stream",
     "text": [
      " 12%|█▏        | 191/1654 [03:53<31:14,  1.28s/it]"
     ]
    },
    {
     "name": "stdout",
     "output_type": "stream",
     "text": [
      "Saved 관상어산업의 육성 및 지원에 관한 법률 to 법령별 directory\n"
     ]
    },
    {
     "name": "stderr",
     "output_type": "stream",
     "text": [
      " 12%|█▏        | 192/1654 [03:57<46:47,  1.92s/it]"
     ]
    },
    {
     "name": "stdout",
     "output_type": "stream",
     "text": [
      "Saved 관세법 to 법령별 directory\n"
     ]
    },
    {
     "name": "stderr",
     "output_type": "stream",
     "text": [
      " 12%|█▏        | 193/1654 [03:58<41:43,  1.71s/it]"
     ]
    },
    {
     "name": "stdout",
     "output_type": "stream",
     "text": [
      "No data found for 관세사법\n"
     ]
    },
    {
     "name": "stderr",
     "output_type": "stream",
     "text": [
      " 12%|█▏        | 194/1654 [03:59<36:17,  1.49s/it]"
     ]
    },
    {
     "name": "stdout",
     "output_type": "stream",
     "text": [
      "Saved 광산안전법 to 법령별 directory\n"
     ]
    },
    {
     "name": "stderr",
     "output_type": "stream",
     "text": [
      " 12%|█▏        | 195/1654 [04:00<33:37,  1.38s/it]"
     ]
    },
    {
     "name": "stdout",
     "output_type": "stream",
     "text": [
      "Saved 광산피해의 방지 및 복구에 관한 법률 to 법령별 directory\n"
     ]
    },
    {
     "name": "stderr",
     "output_type": "stream",
     "text": [
      " 12%|█▏        | 196/1654 [04:01<33:13,  1.37s/it]"
     ]
    },
    {
     "name": "stdout",
     "output_type": "stream",
     "text": [
      "Saved 광업법 to 법령별 directory\n"
     ]
    },
    {
     "name": "stderr",
     "output_type": "stream",
     "text": [
      " 12%|█▏        | 197/1654 [04:02<30:11,  1.24s/it]"
     ]
    },
    {
     "name": "stdout",
     "output_type": "stream",
     "text": [
      "No data found for 광융합기술 개발 및 기반조성 지원에 관한 법률\n"
     ]
    },
    {
     "name": "stderr",
     "output_type": "stream",
     "text": [
      " 12%|█▏        | 198/1654 [04:03<29:33,  1.22s/it]"
     ]
    },
    {
     "name": "stdout",
     "output_type": "stream",
     "text": [
      "No data found for 광주과학기술원법\n"
     ]
    },
    {
     "name": "stderr",
     "output_type": "stream",
     "text": [
      " 12%|█▏        | 199/1654 [04:04<26:29,  1.09s/it]"
     ]
    },
    {
     "name": "stdout",
     "output_type": "stream",
     "text": [
      "Saved 광주 군 공항 이전 및 종전부지 개발 등에 관한 특별법 to 법령별 directory\n"
     ]
    },
    {
     "name": "stderr",
     "output_type": "stream",
     "text": [
      " 12%|█▏        | 200/1654 [04:06<32:16,  1.33s/it]"
     ]
    },
    {
     "name": "stdout",
     "output_type": "stream",
     "text": [
      "Saved 교도작업의 운영 및 특별회계에 관한 법률 to 법령별 directory\n"
     ]
    },
    {
     "name": "stderr",
     "output_type": "stream",
     "text": [
      " 12%|█▏        | 201/1654 [04:07<30:09,  1.25s/it]"
     ]
    },
    {
     "name": "stdout",
     "output_type": "stream",
     "text": [
      "Saved 교원의 노동조합 설립 및 운영 등에 관한 법률 to 법령별 directory\n"
     ]
    },
    {
     "name": "stderr",
     "output_type": "stream",
     "text": [
      " 12%|█▏        | 202/1654 [04:08<29:29,  1.22s/it]"
     ]
    },
    {
     "name": "stdout",
     "output_type": "stream",
     "text": [
      "No data found for 교원의 지위 향상 및 교육활동 보호를 위한 특별법\n"
     ]
    },
    {
     "name": "stderr",
     "output_type": "stream",
     "text": [
      " 12%|█▏        | 203/1654 [04:11<38:25,  1.59s/it]"
     ]
    },
    {
     "name": "stdout",
     "output_type": "stream",
     "text": [
      "Saved 교육공무원법 to 법령별 directory\n"
     ]
    },
    {
     "name": "stderr",
     "output_type": "stream",
     "text": [
      " 12%|█▏        | 204/1654 [04:12<34:51,  1.44s/it]"
     ]
    },
    {
     "name": "stdout",
     "output_type": "stream",
     "text": [
      "Saved 교육관련기관의 정보공개에 관한 특례법 to 법령별 directory\n"
     ]
    },
    {
     "name": "stderr",
     "output_type": "stream",
     "text": [
      " 12%|█▏        | 205/1654 [04:13<31:02,  1.29s/it]"
     ]
    },
    {
     "name": "stdout",
     "output_type": "stream",
     "text": [
      "Saved 교육국제화특구의 지정ㆍ운영 및 육성에 관한 특별법 to 법령별 directory\n"
     ]
    },
    {
     "name": "stderr",
     "output_type": "stream",
     "text": [
      " 12%|█▏        | 206/1654 [04:14<29:48,  1.24s/it]"
     ]
    },
    {
     "name": "stdout",
     "output_type": "stream",
     "text": [
      "No data found for 교육기본법\n"
     ]
    },
    {
     "name": "stderr",
     "output_type": "stream",
     "text": [
      " 13%|█▎        | 207/1654 [04:15<30:09,  1.25s/it]"
     ]
    },
    {
     "name": "stdout",
     "output_type": "stream",
     "text": [
      "Saved 교육세법 to 법령별 directory\n"
     ]
    },
    {
     "name": "stderr",
     "output_type": "stream",
     "text": [
      " 13%|█▎        | 208/1654 [04:17<34:09,  1.42s/it]"
     ]
    },
    {
     "name": "stdout",
     "output_type": "stream",
     "text": [
      "Saved 교육시설 등의 안전 및 유지관리 등에 관한 법률 to 법령별 directory\n"
     ]
    },
    {
     "name": "stderr",
     "output_type": "stream",
     "text": [
      " 13%|█▎        | 209/1654 [04:18<31:59,  1.33s/it]"
     ]
    },
    {
     "name": "stdout",
     "output_type": "stream",
     "text": [
      "Saved 교육환경 보호에 관한 법률 to 법령별 directory\n"
     ]
    },
    {
     "name": "stderr",
     "output_type": "stream",
     "text": [
      " 13%|█▎        | 210/1654 [04:19<29:38,  1.23s/it]"
     ]
    },
    {
     "name": "stdout",
     "output_type": "stream",
     "text": [
      "No data found for 교정공제회법\n"
     ]
    },
    {
     "name": "stderr",
     "output_type": "stream",
     "text": [
      " 13%|█▎        | 211/1654 [04:20<27:07,  1.13s/it]"
     ]
    },
    {
     "name": "stdout",
     "output_type": "stream",
     "text": [
      "Saved 교통사고처리 특례법 to 법령별 directory\n"
     ]
    },
    {
     "name": "stderr",
     "output_type": "stream",
     "text": [
      " 13%|█▎        | 212/1654 [04:21<27:33,  1.15s/it]"
     ]
    },
    {
     "name": "stdout",
     "output_type": "stream",
     "text": [
      "Saved 교통시설특별회계법 to 법령별 directory\n"
     ]
    },
    {
     "name": "stderr",
     "output_type": "stream",
     "text": [
      " 13%|█▎        | 213/1654 [04:22<28:08,  1.17s/it]"
     ]
    },
    {
     "name": "stdout",
     "output_type": "stream",
     "text": [
      "Saved 교통안전법 to 법령별 directory\n"
     ]
    },
    {
     "name": "stderr",
     "output_type": "stream",
     "text": [
      " 13%|█▎        | 214/1654 [04:24<29:12,  1.22s/it]"
     ]
    },
    {
     "name": "stdout",
     "output_type": "stream",
     "text": [
      "Saved 교통약자의 이동편의 증진법 to 법령별 directory\n"
     ]
    },
    {
     "name": "stderr",
     "output_type": "stream",
     "text": [
      " 13%|█▎        | 215/1654 [04:25<29:15,  1.22s/it]"
     ]
    },
    {
     "name": "stdout",
     "output_type": "stream",
     "text": [
      "No data found for 교통ㆍ에너지ㆍ환경세법\n"
     ]
    },
    {
     "name": "stderr",
     "output_type": "stream",
     "text": [
      " 13%|█▎        | 216/1654 [04:26<28:27,  1.19s/it]"
     ]
    },
    {
     "name": "stdout",
     "output_type": "stream",
     "text": [
      "Saved 구강보건법 to 법령별 directory\n"
     ]
    },
    {
     "name": "stderr",
     "output_type": "stream",
     "text": [
      " 13%|█▎        | 217/1654 [04:27<28:13,  1.18s/it]"
     ]
    },
    {
     "name": "stdout",
     "output_type": "stream",
     "text": [
      "Saved 구직자 취업촉진 및 생활안정지원에 관한 법률 to 법령별 directory\n"
     ]
    },
    {
     "name": "stderr",
     "output_type": "stream",
     "text": [
      " 13%|█▎        | 218/1654 [04:28<27:09,  1.13s/it]"
     ]
    },
    {
     "name": "stdout",
     "output_type": "stream",
     "text": [
      "No data found for 국가경찰과 자치경찰의 조직 및 운영에 관한 법률\n"
     ]
    },
    {
     "name": "stderr",
     "output_type": "stream",
     "text": [
      " 13%|█▎        | 219/1654 [04:29<26:47,  1.12s/it]"
     ]
    },
    {
     "name": "stdout",
     "output_type": "stream",
     "text": [
      "Saved 국가공간정보 기본법 to 법령별 directory\n"
     ]
    },
    {
     "name": "stderr",
     "output_type": "stream",
     "text": [
      " 13%|█▎        | 220/1654 [04:31<32:40,  1.37s/it]"
     ]
    },
    {
     "name": "stdout",
     "output_type": "stream",
     "text": [
      "Saved 국가공무원법 to 법령별 directory\n"
     ]
    },
    {
     "name": "stderr",
     "output_type": "stream",
     "text": [
      " 13%|█▎        | 221/1654 [04:32<31:35,  1.32s/it]"
     ]
    },
    {
     "name": "stdout",
     "output_type": "stream",
     "text": [
      "Saved 국가과학기술 경쟁력 강화를 위한 이공계지원 특별법 to 법령별 directory\n"
     ]
    },
    {
     "name": "stderr",
     "output_type": "stream",
     "text": [
      " 13%|█▎        | 222/1654 [04:33<28:02,  1.17s/it]"
     ]
    },
    {
     "name": "stdout",
     "output_type": "stream",
     "text": [
      "No data found for 국가과학기술자문회의법\n"
     ]
    },
    {
     "name": "stderr",
     "output_type": "stream",
     "text": [
      " 13%|█▎        | 223/1654 [04:34<27:01,  1.13s/it]"
     ]
    },
    {
     "name": "stdout",
     "output_type": "stream",
     "text": [
      "No data found for 국가교육위원회 설치 및 운영에 관한 법률\n"
     ]
    },
    {
     "name": "stderr",
     "output_type": "stream",
     "text": [
      " 14%|█▎        | 224/1654 [04:35<26:18,  1.10s/it]"
     ]
    },
    {
     "name": "stdout",
     "output_type": "stream",
     "text": [
      "Saved 국가기술자격법 to 법령별 directory\n"
     ]
    },
    {
     "name": "stderr",
     "output_type": "stream",
     "text": [
      " 14%|█▎        | 225/1654 [04:37<27:07,  1.14s/it]"
     ]
    },
    {
     "name": "stdout",
     "output_type": "stream",
     "text": [
      "No data found for 국가를 당사자로 하는 계약에 관한 법률\n"
     ]
    },
    {
     "name": "stderr",
     "output_type": "stream",
     "text": [
      " 14%|█▎        | 226/1654 [04:37<25:36,  1.08s/it]"
     ]
    },
    {
     "name": "stdout",
     "output_type": "stream",
     "text": [
      "No data found for 국가를 당사자로 하는 소송에 관한 법률\n"
     ]
    },
    {
     "name": "stderr",
     "output_type": "stream",
     "text": [
      " 14%|█▎        | 227/1654 [04:39<29:29,  1.24s/it]"
     ]
    },
    {
     "name": "stdout",
     "output_type": "stream",
     "text": [
      "No data found for 국가배상법\n"
     ]
    },
    {
     "name": "stderr",
     "output_type": "stream",
     "text": [
      " 14%|█▍        | 228/1654 [04:40<27:36,  1.16s/it]"
     ]
    },
    {
     "name": "stdout",
     "output_type": "stream",
     "text": [
      "Saved 국가보안법 to 법령별 directory\n"
     ]
    },
    {
     "name": "stderr",
     "output_type": "stream",
     "text": [
      " 14%|█▍        | 229/1654 [04:41<25:15,  1.06s/it]"
     ]
    },
    {
     "name": "stdout",
     "output_type": "stream",
     "text": [
      "No data found for 국가보위에 관한 특별조치법 제5조제4항에 의한 동원대상지역 내의 토지의 수용ㆍ사용에 관한 특별조치령에 의하여 수용ㆍ사용된 토지의 정리에 관한 특별조치법\n"
     ]
    },
    {
     "name": "stderr",
     "output_type": "stream",
     "text": [
      " 14%|█▍        | 230/1654 [04:42<25:13,  1.06s/it]"
     ]
    },
    {
     "name": "stdout",
     "output_type": "stream",
     "text": [
      "Saved 국가보훈 기본법 to 법령별 directory\n"
     ]
    },
    {
     "name": "stderr",
     "output_type": "stream",
     "text": [
      " 14%|█▍        | 231/1654 [04:43<23:43,  1.00s/it]"
     ]
    },
    {
     "name": "stdout",
     "output_type": "stream",
     "text": [
      "No data found for 국가안전보장회의법\n"
     ]
    },
    {
     "name": "stderr",
     "output_type": "stream",
     "text": [
      " 14%|█▍        | 232/1654 [04:44<21:52,  1.08it/s]"
     ]
    },
    {
     "name": "stdout",
     "output_type": "stream",
     "text": [
      "No data found for 국가에 귀속하는 상속재산 이전에 관한 법률\n"
     ]
    },
    {
     "name": "stderr",
     "output_type": "stream",
     "text": [
      " 14%|█▍        | 233/1654 [04:45<22:19,  1.06it/s]"
     ]
    },
    {
     "name": "stdout",
     "output_type": "stream",
     "text": [
      "Saved 국가연구개발사업 등의 성과평가 및 성과관리에 관한 법률 to 법령별 directory\n"
     ]
    },
    {
     "name": "stderr",
     "output_type": "stream",
     "text": [
      " 14%|█▍        | 234/1654 [04:46<23:58,  1.01s/it]"
     ]
    },
    {
     "name": "stdout",
     "output_type": "stream",
     "text": [
      "Saved 국가연구개발혁신법 to 법령별 directory\n"
     ]
    },
    {
     "name": "stderr",
     "output_type": "stream",
     "text": [
      " 14%|█▍        | 235/1654 [04:47<24:06,  1.02s/it]"
     ]
    },
    {
     "name": "stdout",
     "output_type": "stream",
     "text": [
      "No data found for 국가유공자 등 단체 설립에 관한 법률\n"
     ]
    },
    {
     "name": "stderr",
     "output_type": "stream",
     "text": [
      " 14%|█▍        | 236/1654 [04:49<31:19,  1.33s/it]"
     ]
    },
    {
     "name": "stdout",
     "output_type": "stream",
     "text": [
      "No data found for 국가유공자 등 예우 및 지원에 관한 법률\n"
     ]
    },
    {
     "name": "stderr",
     "output_type": "stream",
     "text": [
      " 14%|█▍        | 237/1654 [04:50<29:27,  1.25s/it]"
     ]
    },
    {
     "name": "stdout",
     "output_type": "stream",
     "text": [
      "Saved 국가유산기본법 to 법령별 directory\n"
     ]
    },
    {
     "name": "stderr",
     "output_type": "stream",
     "text": [
      " 14%|█▍        | 238/1654 [04:51<27:38,  1.17s/it]"
     ]
    },
    {
     "name": "stdout",
     "output_type": "stream",
     "text": [
      "Saved 국가유산보호기금법 to 법령별 directory\n"
     ]
    },
    {
     "name": "stderr",
     "output_type": "stream",
     "text": [
      " 14%|█▍        | 239/1654 [04:52<28:54,  1.23s/it]"
     ]
    },
    {
     "name": "stdout",
     "output_type": "stream",
     "text": [
      "Saved 국가유산수리 등에 관한 법률 to 법령별 directory\n"
     ]
    },
    {
     "name": "stderr",
     "output_type": "stream",
     "text": [
      " 15%|█▍        | 240/1654 [04:53<28:58,  1.23s/it]"
     ]
    },
    {
     "name": "stdout",
     "output_type": "stream",
     "text": [
      "Saved 국가인권위원회법 to 법령별 directory\n"
     ]
    },
    {
     "name": "stderr",
     "output_type": "stream",
     "text": [
      " 15%|█▍        | 241/1654 [04:54<26:04,  1.11s/it]"
     ]
    },
    {
     "name": "stdout",
     "output_type": "stream",
     "text": [
      "No data found for 국가장법\n"
     ]
    },
    {
     "name": "stderr",
     "output_type": "stream",
     "text": [
      " 15%|█▍        | 242/1654 [04:56<30:38,  1.30s/it]"
     ]
    },
    {
     "name": "stdout",
     "output_type": "stream",
     "text": [
      "No data found for 국가재정법\n"
     ]
    },
    {
     "name": "stderr",
     "output_type": "stream",
     "text": [
      " 15%|█▍        | 243/1654 [04:57<28:32,  1.21s/it]"
     ]
    },
    {
     "name": "stdout",
     "output_type": "stream",
     "text": [
      "Saved 국가전략기술 육성에 관한 특별법 to 법령별 directory\n"
     ]
    },
    {
     "name": "stderr",
     "output_type": "stream",
     "text": [
      " 15%|█▍        | 244/1654 [04:58<26:49,  1.14s/it]"
     ]
    },
    {
     "name": "stdout",
     "output_type": "stream",
     "text": [
      "No data found for 국가정보원법\n"
     ]
    },
    {
     "name": "stderr",
     "output_type": "stream",
     "text": [
      " 15%|█▍        | 245/1654 [04:59<27:02,  1.15s/it]"
     ]
    },
    {
     "name": "stdout",
     "output_type": "stream",
     "text": [
      "Saved 국가정보원직원법 to 법령별 directory\n"
     ]
    },
    {
     "name": "stderr",
     "output_type": "stream",
     "text": [
      " 15%|█▍        | 246/1654 [05:00<25:48,  1.10s/it]"
     ]
    },
    {
     "name": "stdout",
     "output_type": "stream",
     "text": [
      "Saved 국가지식정보 연계 및 활용 촉진에 관한 법률 to 법령별 directory\n"
     ]
    },
    {
     "name": "stderr",
     "output_type": "stream",
     "text": [
      " 15%|█▍        | 247/1654 [05:01<26:22,  1.12s/it]"
     ]
    },
    {
     "name": "stdout",
     "output_type": "stream",
     "text": [
      "Saved 국가채권 관리법 to 법령별 directory\n"
     ]
    },
    {
     "name": "stderr",
     "output_type": "stream",
     "text": [
      " 15%|█▍        | 248/1654 [05:02<26:21,  1.13s/it]"
     ]
    },
    {
     "name": "stdout",
     "output_type": "stream",
     "text": [
      "Saved 국가철도공단법 to 법령별 directory\n"
     ]
    },
    {
     "name": "stderr",
     "output_type": "stream",
     "text": [
      " 15%|█▌        | 249/1654 [05:04<26:59,  1.15s/it]"
     ]
    },
    {
     "name": "stdout",
     "output_type": "stream",
     "text": [
      "Saved 국가첨단전략산업 경쟁력 강화 및 보호에 관한 특별조치법 to 법령별 directory\n"
     ]
    },
    {
     "name": "stderr",
     "output_type": "stream",
     "text": [
      " 15%|█▌        | 250/1654 [05:05<26:38,  1.14s/it]"
     ]
    },
    {
     "name": "stdout",
     "output_type": "stream",
     "text": [
      "Saved 국가초고성능컴퓨터 활용 및 육성에 관한 법률 to 법령별 directory\n"
     ]
    },
    {
     "name": "stderr",
     "output_type": "stream",
     "text": [
      " 15%|█▌        | 251/1654 [05:07<32:31,  1.39s/it]"
     ]
    },
    {
     "name": "stdout",
     "output_type": "stream",
     "text": [
      "Saved 국가통합교통체계효율화법 to 법령별 directory\n"
     ]
    },
    {
     "name": "stderr",
     "output_type": "stream",
     "text": [
      " 15%|█▌        | 252/1654 [05:08<30:58,  1.33s/it]"
     ]
    },
    {
     "name": "stdout",
     "output_type": "stream",
     "text": [
      "No data found for 국가표준기본법\n"
     ]
    },
    {
     "name": "stderr",
     "output_type": "stream",
     "text": [
      " 15%|█▌        | 253/1654 [05:09<28:29,  1.22s/it]"
     ]
    },
    {
     "name": "stdout",
     "output_type": "stream",
     "text": [
      "Saved 국가회계법 to 법령별 directory\n"
     ]
    },
    {
     "name": "stderr",
     "output_type": "stream",
     "text": [
      " 15%|█▌        | 254/1654 [05:10<25:49,  1.11s/it]"
     ]
    },
    {
     "name": "stdout",
     "output_type": "stream",
     "text": [
      "No data found for 국경일에 관한 법률\n"
     ]
    },
    {
     "name": "stderr",
     "output_type": "stream",
     "text": [
      " 15%|█▌        | 255/1654 [05:11<26:44,  1.15s/it]"
     ]
    },
    {
     "name": "stdout",
     "output_type": "stream",
     "text": [
      "Saved 국고금 관리법 to 법령별 directory\n"
     ]
    },
    {
     "name": "stderr",
     "output_type": "stream",
     "text": [
      " 15%|█▌        | 256/1654 [05:12<24:53,  1.07s/it]"
     ]
    },
    {
     "name": "stdout",
     "output_type": "stream",
     "text": [
      "No data found for 국ㆍ공유 부동산의 등기 촉탁에 관한 법률\n"
     ]
    },
    {
     "name": "stderr",
     "output_type": "stream",
     "text": [
      " 16%|█▌        | 257/1654 [05:13<25:08,  1.08s/it]"
     ]
    },
    {
     "name": "stdout",
     "output_type": "stream",
     "text": [
      "No data found for 국군간호사관학교 설치법\n"
     ]
    },
    {
     "name": "stderr",
     "output_type": "stream",
     "text": [
      " 16%|█▌        | 258/1654 [05:14<25:09,  1.08s/it]"
     ]
    },
    {
     "name": "stdout",
     "output_type": "stream",
     "text": [
      "No data found for 국군조직법\n"
     ]
    },
    {
     "name": "stderr",
     "output_type": "stream",
     "text": [
      " 16%|█▌        | 259/1654 [05:15<25:51,  1.11s/it]"
     ]
    },
    {
     "name": "stdout",
     "output_type": "stream",
     "text": [
      "Saved 국군포로의 송환 및 대우 등에 관한 법률 to 법령별 directory\n"
     ]
    },
    {
     "name": "stderr",
     "output_type": "stream",
     "text": [
      " 16%|█▌        | 260/1654 [05:16<23:37,  1.02s/it]"
     ]
    },
    {
     "name": "stdout",
     "output_type": "stream",
     "text": [
      "No data found for 국내재산 도피 방지법\n"
     ]
    },
    {
     "name": "stderr",
     "output_type": "stream",
     "text": [
      " 16%|█▌        | 261/1654 [05:17<23:46,  1.02s/it]"
     ]
    },
    {
     "name": "stdout",
     "output_type": "stream",
     "text": [
      "No data found for 국립공원공단법\n"
     ]
    },
    {
     "name": "stderr",
     "output_type": "stream",
     "text": [
      " 16%|█▌        | 262/1654 [05:18<24:10,  1.04s/it]"
     ]
    },
    {
     "name": "stdout",
     "output_type": "stream",
     "text": [
      "Saved 국립국가폭력트라우마치유센터의 설립 및 운영에 관한 법률 to 법령별 directory\n"
     ]
    },
    {
     "name": "stderr",
     "output_type": "stream",
     "text": [
      " 16%|█▌        | 263/1654 [05:19<23:24,  1.01s/it]"
     ]
    },
    {
     "name": "stdout",
     "output_type": "stream",
     "text": [
      "No data found for 국립농업박물관법\n"
     ]
    },
    {
     "name": "stderr",
     "output_type": "stream",
     "text": [
      " 16%|█▌        | 264/1654 [05:20<24:15,  1.05s/it]"
     ]
    },
    {
     "name": "stdout",
     "output_type": "stream",
     "text": [
      "No data found for 국립대학법인 서울대학교 설립ㆍ운영에 관한 법률\n"
     ]
    },
    {
     "name": "stderr",
     "output_type": "stream",
     "text": [
      " 16%|█▌        | 265/1654 [05:21<24:25,  1.05s/it]"
     ]
    },
    {
     "name": "stdout",
     "output_type": "stream",
     "text": [
      "No data found for 국립대학법인 인천대학교 설립ㆍ운영에 관한 법률\n"
     ]
    },
    {
     "name": "stderr",
     "output_type": "stream",
     "text": [
      " 16%|█▌        | 266/1654 [05:23<26:41,  1.15s/it]"
     ]
    },
    {
     "name": "stdout",
     "output_type": "stream",
     "text": [
      "No data found for 국립대학병원 설치법\n"
     ]
    },
    {
     "name": "stderr",
     "output_type": "stream",
     "text": [
      " 16%|█▌        | 267/1654 [05:24<25:28,  1.10s/it]"
     ]
    },
    {
     "name": "stdout",
     "output_type": "stream",
     "text": [
      "No data found for 국립대학의 회계 설치 및 재정 운영에 관한 법률\n"
     ]
    },
    {
     "name": "stderr",
     "output_type": "stream",
     "text": [
      " 16%|█▌        | 268/1654 [05:25<24:55,  1.08s/it]"
     ]
    },
    {
     "name": "stdout",
     "output_type": "stream",
     "text": [
      "No data found for 국립대학치과병원 설치법\n"
     ]
    },
    {
     "name": "stderr",
     "output_type": "stream",
     "text": [
      " 16%|█▋        | 269/1654 [05:26<25:37,  1.11s/it]"
     ]
    },
    {
     "name": "stdout",
     "output_type": "stream",
     "text": [
      "Saved 국립묘지의 설치 및 운영에 관한 법률 to 법령별 directory\n"
     ]
    },
    {
     "name": "stderr",
     "output_type": "stream",
     "text": [
      " 16%|█▋        | 270/1654 [05:27<24:48,  1.08s/it]"
     ]
    },
    {
     "name": "stdout",
     "output_type": "stream",
     "text": [
      "No data found for 국립생태원의 설립 및 운영에 관한 법률\n"
     ]
    },
    {
     "name": "stderr",
     "output_type": "stream",
     "text": [
      " 16%|█▋        | 271/1654 [05:28<23:55,  1.04s/it]"
     ]
    },
    {
     "name": "stdout",
     "output_type": "stream",
     "text": [
      "No data found for 국립소방병원의 설립 및 운영에 관한 법률\n"
     ]
    },
    {
     "name": "stderr",
     "output_type": "stream",
     "text": [
      " 16%|█▋        | 272/1654 [05:29<22:36,  1.02it/s]"
     ]
    },
    {
     "name": "stdout",
     "output_type": "stream",
     "text": [
      "No data found for 국립외교원법\n"
     ]
    },
    {
     "name": "stderr",
     "output_type": "stream",
     "text": [
      " 17%|█▋        | 273/1654 [05:30<23:26,  1.02s/it]"
     ]
    },
    {
     "name": "stdout",
     "output_type": "stream",
     "text": [
      "No data found for 국립중앙의료원의 설립 및 운영에 관한 법률\n"
     ]
    },
    {
     "name": "stderr",
     "output_type": "stream",
     "text": [
      " 17%|█▋        | 274/1654 [05:31<22:52,  1.01it/s]"
     ]
    },
    {
     "name": "stdout",
     "output_type": "stream",
     "text": [
      "No data found for 국립항공박물관법\n"
     ]
    },
    {
     "name": "stderr",
     "output_type": "stream",
     "text": [
      " 17%|█▋        | 275/1654 [05:32<23:30,  1.02s/it]"
     ]
    },
    {
     "name": "stdout",
     "output_type": "stream",
     "text": [
      "No data found for 국립해양과학관의 설립 및 운영에 관한 법률\n"
     ]
    },
    {
     "name": "stderr",
     "output_type": "stream",
     "text": [
      " 17%|█▋        | 276/1654 [05:33<23:05,  1.01s/it]"
     ]
    },
    {
     "name": "stdout",
     "output_type": "stream",
     "text": [
      "No data found for 국립해양박물관 등의 설립 및 운영에 관한 법률\n"
     ]
    },
    {
     "name": "stderr",
     "output_type": "stream",
     "text": [
      " 17%|█▋        | 277/1654 [05:34<22:31,  1.02it/s]"
     ]
    },
    {
     "name": "stdout",
     "output_type": "stream",
     "text": [
      "No data found for 국립해양생물자원관의 설립 및 운영에 관한 법률\n"
     ]
    },
    {
     "name": "stderr",
     "output_type": "stream",
     "text": [
      " 17%|█▋        | 278/1654 [05:36<28:09,  1.23s/it]"
     ]
    },
    {
     "name": "stdout",
     "output_type": "stream",
     "text": [
      "Saved 국민건강보험법 to 법령별 directory\n"
     ]
    },
    {
     "name": "stderr",
     "output_type": "stream",
     "text": [
      " 17%|█▋        | 279/1654 [05:37<30:21,  1.33s/it]"
     ]
    },
    {
     "name": "stdout",
     "output_type": "stream",
     "text": [
      "Saved 국민건강증진법 to 법령별 directory\n"
     ]
    },
    {
     "name": "stderr",
     "output_type": "stream",
     "text": [
      " 17%|█▋        | 280/1654 [05:38<26:57,  1.18s/it]"
     ]
    },
    {
     "name": "stdout",
     "output_type": "stream",
     "text": [
      "No data found for 국민경제자문회의법\n"
     ]
    },
    {
     "name": "stderr",
     "output_type": "stream",
     "text": [
      " 17%|█▋        | 281/1654 [05:39<29:08,  1.27s/it]"
     ]
    },
    {
     "name": "stdout",
     "output_type": "stream",
     "text": [
      "Saved 국민기초생활 보장법 to 법령별 directory\n"
     ]
    },
    {
     "name": "stderr",
     "output_type": "stream",
     "text": [
      " 17%|█▋        | 282/1654 [05:40<26:21,  1.15s/it]"
     ]
    },
    {
     "name": "stdout",
     "output_type": "stream",
     "text": [
      "Saved 국민보호와 공공안전을 위한 테러방지법 to 법령별 directory\n"
     ]
    },
    {
     "name": "stderr",
     "output_type": "stream",
     "text": [
      " 17%|█▋        | 283/1654 [05:41<24:53,  1.09s/it]"
     ]
    },
    {
     "name": "stdout",
     "output_type": "stream",
     "text": [
      "Saved 국민 안전교육 진흥 기본법 to 법령별 directory\n"
     ]
    },
    {
     "name": "stderr",
     "output_type": "stream",
     "text": [
      " 17%|█▋        | 284/1654 [05:43<27:24,  1.20s/it]"
     ]
    },
    {
     "name": "stdout",
     "output_type": "stream",
     "text": [
      "Saved 국민여가활성화기본법 to 법령별 directory\n"
     ]
    },
    {
     "name": "stderr",
     "output_type": "stream",
     "text": [
      " 17%|█▋        | 285/1654 [05:44<26:45,  1.17s/it]"
     ]
    },
    {
     "name": "stdout",
     "output_type": "stream",
     "text": [
      "Saved 국민연금과 직역연금의 연계에 관한 법률 to 법령별 directory\n"
     ]
    },
    {
     "name": "stderr",
     "output_type": "stream",
     "text": [
      " 17%|█▋        | 286/1654 [05:46<31:05,  1.36s/it]"
     ]
    },
    {
     "name": "stdout",
     "output_type": "stream",
     "text": [
      "No data found for 국민연금법\n"
     ]
    },
    {
     "name": "stderr",
     "output_type": "stream",
     "text": [
      " 17%|█▋        | 287/1654 [05:47<28:47,  1.26s/it]"
     ]
    },
    {
     "name": "stdout",
     "output_type": "stream",
     "text": [
      "Saved 국민영양관리법 to 법령별 directory\n"
     ]
    },
    {
     "name": "stderr",
     "output_type": "stream",
     "text": [
      " 17%|█▋        | 288/1654 [05:48<28:53,  1.27s/it]"
     ]
    },
    {
     "name": "stdout",
     "output_type": "stream",
     "text": [
      "Saved 국민의 형사재판 참여에 관한 법률 to 법령별 directory\n"
     ]
    },
    {
     "name": "stderr",
     "output_type": "stream",
     "text": [
      " 17%|█▋        | 289/1654 [05:49<30:56,  1.36s/it]"
     ]
    },
    {
     "name": "stdout",
     "output_type": "stream",
     "text": [
      "Saved 국민체육진흥법 to 법령별 directory\n"
     ]
    },
    {
     "name": "stderr",
     "output_type": "stream",
     "text": [
      " 18%|█▊        | 290/1654 [05:51<32:34,  1.43s/it]"
     ]
    },
    {
     "name": "stdout",
     "output_type": "stream",
     "text": [
      "Saved 국민투표법 to 법령별 directory\n"
     ]
    },
    {
     "name": "stderr",
     "output_type": "stream",
     "text": [
      " 18%|█▊        | 291/1654 [05:53<35:29,  1.56s/it]"
     ]
    },
    {
     "name": "stdout",
     "output_type": "stream",
     "text": [
      "Saved 국민 평생 직업능력 개발법 to 법령별 directory\n"
     ]
    },
    {
     "name": "stderr",
     "output_type": "stream",
     "text": [
      " 18%|█▊        | 292/1654 [05:54<32:13,  1.42s/it]"
     ]
    },
    {
     "name": "stdout",
     "output_type": "stream",
     "text": [
      "Saved 국방개혁에 관한 법률 to 법령별 directory\n"
     ]
    },
    {
     "name": "stderr",
     "output_type": "stream",
     "text": [
      " 18%|█▊        | 293/1654 [05:55<28:53,  1.27s/it]"
     ]
    },
    {
     "name": "stdout",
     "output_type": "stream",
     "text": [
      "Saved 국방과학기술혁신 촉진법 to 법령별 directory\n"
     ]
    },
    {
     "name": "stderr",
     "output_type": "stream",
     "text": [
      " 18%|█▊        | 294/1654 [05:56<27:02,  1.19s/it]"
     ]
    },
    {
     "name": "stdout",
     "output_type": "stream",
     "text": [
      "No data found for 국방과학연구소법\n"
     ]
    },
    {
     "name": "stderr",
     "output_type": "stream",
     "text": [
      " 18%|█▊        | 295/1654 [05:57<25:17,  1.12s/it]"
     ]
    },
    {
     "name": "stdout",
     "output_type": "stream",
     "text": [
      "Saved 국방ㆍ군사시설 사업에 관한 법률 to 법령별 directory\n"
     ]
    },
    {
     "name": "stderr",
     "output_type": "stream",
     "text": [
      " 18%|█▊        | 296/1654 [05:58<23:58,  1.06s/it]"
     ]
    },
    {
     "name": "stdout",
     "output_type": "stream",
     "text": [
      "Saved 국방ㆍ군사시설이전 특별회계법 to 법령별 directory\n"
     ]
    },
    {
     "name": "stderr",
     "output_type": "stream",
     "text": [
      " 18%|█▊        | 297/1654 [05:59<22:53,  1.01s/it]"
     ]
    },
    {
     "name": "stdout",
     "output_type": "stream",
     "text": [
      "No data found for 국방대학교 설치법\n"
     ]
    },
    {
     "name": "stderr",
     "output_type": "stream",
     "text": [
      " 18%|█▊        | 298/1654 [06:00<22:51,  1.01s/it]"
     ]
    },
    {
     "name": "stdout",
     "output_type": "stream",
     "text": [
      "No data found for 국방전직교육원법\n"
     ]
    },
    {
     "name": "stderr",
     "output_type": "stream",
     "text": [
      " 18%|█▊        | 299/1654 [06:01<23:44,  1.05s/it]"
     ]
    },
    {
     "name": "stdout",
     "output_type": "stream",
     "text": [
      "Saved 국방정보화 기반조성 및 국방정보자원관리에 관한 법률 to 법령별 directory\n"
     ]
    },
    {
     "name": "stderr",
     "output_type": "stream",
     "text": [
      " 18%|█▊        | 300/1654 [06:03<30:55,  1.37s/it]"
     ]
    },
    {
     "name": "stdout",
     "output_type": "stream",
     "text": [
      "Saved 국세기본법 to 법령별 directory\n"
     ]
    },
    {
     "name": "stderr",
     "output_type": "stream",
     "text": [
      " 18%|█▊        | 301/1654 [06:04<27:55,  1.24s/it]"
     ]
    },
    {
     "name": "stdout",
     "output_type": "stream",
     "text": [
      "No data found for 국세와 지방세의 조정 등에 관한 법률\n"
     ]
    },
    {
     "name": "stderr",
     "output_type": "stream",
     "text": [
      " 18%|█▊        | 302/1654 [06:05<29:46,  1.32s/it]"
     ]
    },
    {
     "name": "stdout",
     "output_type": "stream",
     "text": [
      "Saved 국세징수법 to 법령별 directory\n"
     ]
    },
    {
     "name": "stderr",
     "output_type": "stream",
     "text": [
      " 18%|█▊        | 303/1654 [06:06<26:45,  1.19s/it]"
     ]
    },
    {
     "name": "stdout",
     "output_type": "stream",
     "text": [
      "Saved 국악진흥법 to 법령별 directory\n"
     ]
    },
    {
     "name": "stderr",
     "output_type": "stream",
     "text": [
      " 18%|█▊        | 304/1654 [06:07<25:48,  1.15s/it]"
     ]
    },
    {
     "name": "stdout",
     "output_type": "stream",
     "text": [
      "Saved 국어기본법 to 법령별 directory\n"
     ]
    },
    {
     "name": "stderr",
     "output_type": "stream",
     "text": [
      " 18%|█▊        | 305/1654 [06:09<29:38,  1.32s/it]"
     ]
    },
    {
     "name": "stdout",
     "output_type": "stream",
     "text": [
      "Saved 국유림의 경영 및 관리에 관한 법률 to 법령별 directory\n"
     ]
    },
    {
     "name": "stderr",
     "output_type": "stream",
     "text": [
      " 19%|█▊        | 306/1654 [06:11<31:47,  1.42s/it]"
     ]
    },
    {
     "name": "stdout",
     "output_type": "stream",
     "text": [
      "Saved 국유재산법 to 법령별 directory\n"
     ]
    },
    {
     "name": "stderr",
     "output_type": "stream",
     "text": [
      " 19%|█▊        | 307/1654 [06:12<28:55,  1.29s/it]"
     ]
    },
    {
     "name": "stdout",
     "output_type": "stream",
     "text": [
      "Saved 국유재산특례제한법 to 법령별 directory\n"
     ]
    },
    {
     "name": "stderr",
     "output_type": "stream",
     "text": [
      " 19%|█▊        | 308/1654 [06:13<27:43,  1.24s/it]"
     ]
    },
    {
     "name": "stdout",
     "output_type": "stream",
     "text": [
      "No data found for 국적법\n"
     ]
    },
    {
     "name": "stderr",
     "output_type": "stream",
     "text": [
      " 19%|█▊        | 309/1654 [06:14<26:18,  1.17s/it]"
     ]
    },
    {
     "name": "stdout",
     "output_type": "stream",
     "text": [
      "No data found for 국정감사 및 조사에 관한 법률\n"
     ]
    },
    {
     "name": "stderr",
     "output_type": "stream",
     "text": [
      " 19%|█▊        | 310/1654 [06:15<25:24,  1.13s/it]"
     ]
    },
    {
     "name": "stdout",
     "output_type": "stream",
     "text": [
      "Saved 국제개발협력기본법 to 법령별 directory\n"
     ]
    },
    {
     "name": "stderr",
     "output_type": "stream",
     "text": [
      " 19%|█▉        | 311/1654 [06:16<25:56,  1.16s/it]"
     ]
    },
    {
     "name": "stdout",
     "output_type": "stream",
     "text": [
      "Saved 국제경기대회 지원법 to 법령별 directory\n"
     ]
    },
    {
     "name": "stderr",
     "output_type": "stream",
     "text": [
      " 19%|█▉        | 312/1654 [06:18<27:36,  1.23s/it]"
     ]
    },
    {
     "name": "stdout",
     "output_type": "stream",
     "text": [
      "Saved 국제과학비즈니스벨트 조성 및 지원에 관한 특별법 to 법령별 directory\n"
     ]
    },
    {
     "name": "stderr",
     "output_type": "stream",
     "text": [
      " 19%|█▉        | 313/1654 [06:18<25:12,  1.13s/it]"
     ]
    },
    {
     "name": "stdout",
     "output_type": "stream",
     "text": [
      "No data found for 국제금융기구에의 가입조치에 관한 법률\n"
     ]
    },
    {
     "name": "stderr",
     "output_type": "stream",
     "text": [
      " 19%|█▉        | 314/1654 [06:19<22:59,  1.03s/it]"
     ]
    },
    {
     "name": "stdout",
     "output_type": "stream",
     "text": [
      "Saved 국제기구 분담금 관리에 관한 법률 to 법령별 directory\n"
     ]
    },
    {
     "name": "stderr",
     "output_type": "stream",
     "text": [
      " 19%|█▉        | 315/1654 [06:21<28:42,  1.29s/it]"
     ]
    },
    {
     "name": "stdout",
     "output_type": "stream",
     "text": [
      "Saved 국제문화교류 진흥법 to 법령별 directory\n"
     ]
    },
    {
     "name": "stderr",
     "output_type": "stream",
     "text": [
      " 19%|█▉        | 316/1654 [06:22<26:21,  1.18s/it]"
     ]
    },
    {
     "name": "stdout",
     "output_type": "stream",
     "text": [
      "No data found for 국제민사사법공조법\n"
     ]
    },
    {
     "name": "stderr",
     "output_type": "stream",
     "text": [
      " 19%|█▉        | 317/1654 [06:23<27:35,  1.24s/it]"
     ]
    },
    {
     "name": "stdout",
     "output_type": "stream",
     "text": [
      "No data found for 국제사법\n"
     ]
    },
    {
     "name": "stderr",
     "output_type": "stream",
     "text": [
      " 19%|█▉        | 318/1654 [06:24<24:54,  1.12s/it]"
     ]
    },
    {
     "name": "stdout",
     "output_type": "stream",
     "text": [
      "No data found for 국제상거래에 있어서 외국공무원에 대한 뇌물방지법\n"
     ]
    },
    {
     "name": "stderr",
     "output_type": "stream",
     "text": [
      " 19%|█▉        | 319/1654 [06:25<23:10,  1.04s/it]"
     ]
    },
    {
     "name": "stdout",
     "output_type": "stream",
     "text": [
      "No data found for 국제선박등록법\n"
     ]
    },
    {
     "name": "stderr",
     "output_type": "stream",
     "text": [
      " 19%|█▉        | 320/1654 [06:26<22:54,  1.03s/it]"
     ]
    },
    {
     "name": "stdout",
     "output_type": "stream",
     "text": [
      "No data found for 국제수형자이송법\n"
     ]
    },
    {
     "name": "stderr",
     "output_type": "stream",
     "text": [
      " 19%|█▉        | 321/1654 [06:28<28:41,  1.29s/it]"
     ]
    },
    {
     "name": "stdout",
     "output_type": "stream",
     "text": [
      "Saved 국제연합 평화유지활동 참여에 관한 법률 to 법령별 directory\n"
     ]
    },
    {
     "name": "stderr",
     "output_type": "stream",
     "text": [
      " 19%|█▉        | 322/1654 [06:30<34:25,  1.55s/it]"
     ]
    },
    {
     "name": "stdout",
     "output_type": "stream",
     "text": [
      "Saved 국제조세조정에 관한 법률 to 법령별 directory\n"
     ]
    },
    {
     "name": "stderr",
     "output_type": "stream",
     "text": [
      " 20%|█▉        | 323/1654 [06:31<29:09,  1.31s/it]"
     ]
    },
    {
     "name": "stdout",
     "output_type": "stream",
     "text": [
      "Saved 국제질병퇴치기금법 to 법령별 directory\n"
     ]
    },
    {
     "name": "stderr",
     "output_type": "stream",
     "text": [
      " 20%|█▉        | 324/1654 [06:32<27:51,  1.26s/it]"
     ]
    },
    {
     "name": "stdout",
     "output_type": "stream",
     "text": [
      "Saved 국제항공 탄소 배출량 관리에 관한 법률 to 법령별 directory\n"
     ]
    },
    {
     "name": "stderr",
     "output_type": "stream",
     "text": [
      " 20%|█▉        | 325/1654 [06:33<26:36,  1.20s/it]"
     ]
    },
    {
     "name": "stdout",
     "output_type": "stream",
     "text": [
      "Saved 국제항해선박 등에 대한 해적행위 피해예방에 관한 법률 to 법령별 directory\n"
     ]
    },
    {
     "name": "stderr",
     "output_type": "stream",
     "text": [
      " 20%|█▉        | 326/1654 [06:34<26:59,  1.22s/it]"
     ]
    },
    {
     "name": "stdout",
     "output_type": "stream",
     "text": [
      "Saved 국제항해선박 및 항만시설의 보안에 관한 법률 to 법령별 directory\n"
     ]
    },
    {
     "name": "stderr",
     "output_type": "stream",
     "text": [
      " 20%|█▉        | 327/1654 [06:35<24:38,  1.11s/it]"
     ]
    },
    {
     "name": "stdout",
     "output_type": "stream",
     "text": [
      "Saved 국제협력요원 제도 폐지에 따른 순직 심사 등에 관한 법률 to 법령별 directory\n"
     ]
    },
    {
     "name": "stderr",
     "output_type": "stream",
     "text": [
      " 20%|█▉        | 328/1654 [06:36<24:38,  1.12s/it]"
     ]
    },
    {
     "name": "stdout",
     "output_type": "stream",
     "text": [
      "Saved 국제형사사법 공조법 to 법령별 directory\n"
     ]
    },
    {
     "name": "stderr",
     "output_type": "stream",
     "text": [
      " 20%|█▉        | 329/1654 [06:37<23:29,  1.06s/it]"
     ]
    },
    {
     "name": "stdout",
     "output_type": "stream",
     "text": [
      "No data found for 국제형사재판소 관할 범죄의 처벌 등에 관한 법률\n"
     ]
    },
    {
     "name": "stderr",
     "output_type": "stream",
     "text": [
      " 20%|█▉        | 330/1654 [06:38<22:51,  1.04s/it]"
     ]
    },
    {
     "name": "stdout",
     "output_type": "stream",
     "text": [
      "Saved 국제회의산업 육성에 관한 법률 to 법령별 directory\n"
     ]
    },
    {
     "name": "stderr",
     "output_type": "stream",
     "text": [
      " 20%|██        | 331/1654 [06:39<21:33,  1.02it/s]"
     ]
    },
    {
     "name": "stdout",
     "output_type": "stream",
     "text": [
      "Saved 국채법 to 법령별 directory\n"
     ]
    },
    {
     "name": "stderr",
     "output_type": "stream",
     "text": [
      " 20%|██        | 332/1654 [06:40<20:29,  1.07it/s]"
     ]
    },
    {
     "name": "stdout",
     "output_type": "stream",
     "text": [
      "No data found for 국토교통과학기술 육성법\n"
     ]
    },
    {
     "name": "stderr",
     "output_type": "stream",
     "text": [
      " 20%|██        | 333/1654 [06:41<21:43,  1.01it/s]"
     ]
    },
    {
     "name": "stdout",
     "output_type": "stream",
     "text": [
      "No data found for 국토기본법\n"
     ]
    },
    {
     "name": "stderr",
     "output_type": "stream",
     "text": [
      " 20%|██        | 334/1654 [06:42<21:02,  1.05it/s]"
     ]
    },
    {
     "name": "stdout",
     "output_type": "stream",
     "text": [
      "No data found for 국토안전관리원법\n"
     ]
    },
    {
     "name": "stderr",
     "output_type": "stream",
     "text": [
      " 20%|██        | 335/1654 [06:44<30:40,  1.40s/it]"
     ]
    },
    {
     "name": "stdout",
     "output_type": "stream",
     "text": [
      "Saved 국토의 계획 및 이용에 관한 법률 to 법령별 directory\n"
     ]
    },
    {
     "name": "stderr",
     "output_type": "stream",
     "text": [
      " 20%|██        | 336/1654 [06:45<27:18,  1.24s/it]"
     ]
    },
    {
     "name": "stdout",
     "output_type": "stream",
     "text": [
      "No data found for 국회도서관법\n"
     ]
    },
    {
     "name": "stderr",
     "output_type": "stream",
     "text": [
      " 20%|██        | 337/1654 [06:46<25:15,  1.15s/it]"
     ]
    },
    {
     "name": "stdout",
     "output_type": "stream",
     "text": [
      "No data found for 국회미래연구원법\n"
     ]
    },
    {
     "name": "stderr",
     "output_type": "stream",
     "text": [
      " 20%|██        | 338/1654 [06:48<30:43,  1.40s/it]"
     ]
    },
    {
     "name": "stdout",
     "output_type": "stream",
     "text": [
      "No data found for 국회법\n"
     ]
    },
    {
     "name": "stderr",
     "output_type": "stream",
     "text": [
      " 20%|██        | 339/1654 [06:49<27:17,  1.24s/it]"
     ]
    },
    {
     "name": "stdout",
     "output_type": "stream",
     "text": [
      "No data found for 국회사무처법\n"
     ]
    },
    {
     "name": "stderr",
     "output_type": "stream",
     "text": [
      " 21%|██        | 340/1654 [06:50<25:43,  1.17s/it]"
     ]
    },
    {
     "name": "stdout",
     "output_type": "stream",
     "text": [
      "No data found for 국회에서의 증언ㆍ감정 등에 관한 법률\n"
     ]
    },
    {
     "name": "stderr",
     "output_type": "stream",
     "text": [
      " 21%|██        | 341/1654 [06:52<29:17,  1.34s/it]"
     ]
    },
    {
     "name": "stdout",
     "output_type": "stream",
     "text": [
      "No data found for 국회예산정책처법\n"
     ]
    },
    {
     "name": "stderr",
     "output_type": "stream",
     "text": [
      " 21%|██        | 342/1654 [06:53<26:32,  1.21s/it]"
     ]
    },
    {
     "name": "stdout",
     "output_type": "stream",
     "text": [
      "No data found for 국회의원의 보좌직원과 수당 등에 관한 법률\n"
     ]
    },
    {
     "name": "stderr",
     "output_type": "stream",
     "text": [
      " 21%|██        | 343/1654 [06:54<24:37,  1.13s/it]"
     ]
    },
    {
     "name": "stdout",
     "output_type": "stream",
     "text": [
      "No data found for 국회입법조사처법\n"
     ]
    },
    {
     "name": "stderr",
     "output_type": "stream",
     "text": [
      " 21%|██        | 344/1654 [06:55<23:33,  1.08s/it]"
     ]
    },
    {
     "name": "stdout",
     "output_type": "stream",
     "text": [
      "Saved 군 공항 이전 및 지원에 관한 특별법 to 법령별 directory\n"
     ]
    },
    {
     "name": "stderr",
     "output_type": "stream",
     "text": [
      " 21%|██        | 345/1654 [06:56<24:24,  1.12s/it]"
     ]
    },
    {
     "name": "stdout",
     "output_type": "stream",
     "text": [
      "No data found for 군무원인사법\n"
     ]
    },
    {
     "name": "stderr",
     "output_type": "stream",
     "text": [
      " 21%|██        | 346/1654 [06:57<22:15,  1.02s/it]"
     ]
    },
    {
     "name": "stdout",
     "output_type": "stream",
     "text": [
      "No data found for 군법무관 임용 등에 관한 법률\n"
     ]
    },
    {
     "name": "stderr",
     "output_type": "stream",
     "text": [
      " 21%|██        | 347/1654 [06:58<21:41,  1.00it/s]"
     ]
    },
    {
     "name": "stdout",
     "output_type": "stream",
     "text": [
      "Saved 군보건의료에 관한 법률 to 법령별 directory\n"
     ]
    },
    {
     "name": "stderr",
     "output_type": "stream",
     "text": [
      " 21%|██        | 348/1654 [06:59<21:31,  1.01it/s]"
     ]
    },
    {
     "name": "stdout",
     "output_type": "stream",
     "text": [
      "Saved 군복 및 군용장구의 단속에 관한 법률 to 법령별 directory\n"
     ]
    },
    {
     "name": "stderr",
     "output_type": "stream",
     "text": [
      " 21%|██        | 349/1654 [07:00<22:24,  1.03s/it]"
     ]
    },
    {
     "name": "stdout",
     "output_type": "stream",
     "text": [
      "Saved 군사경찰의 직무수행에 관한 법률 to 법령별 directory\n"
     ]
    },
    {
     "name": "stderr",
     "output_type": "stream",
     "text": [
      " 21%|██        | 350/1654 [07:01<21:38,  1.00it/s]"
     ]
    },
    {
     "name": "stdout",
     "output_type": "stream",
     "text": [
      "Saved 군사기밀 보호법 to 법령별 directory\n"
     ]
    },
    {
     "name": "stderr",
     "output_type": "stream",
     "text": [
      " 21%|██        | 351/1654 [07:02<22:01,  1.01s/it]"
     ]
    },
    {
     "name": "stdout",
     "output_type": "stream",
     "text": [
      "Saved 군사기지 및 군사시설 보호법 to 법령별 directory\n"
     ]
    },
    {
     "name": "stderr",
     "output_type": "stream",
     "text": [
      " 21%|██▏       | 352/1654 [07:06<41:58,  1.93s/it]"
     ]
    },
    {
     "name": "stdout",
     "output_type": "stream",
     "text": [
      "No data found for 군사법원법\n"
     ]
    },
    {
     "name": "stderr",
     "output_type": "stream",
     "text": [
      " 21%|██▏       | 353/1654 [07:07<36:15,  1.67s/it]"
     ]
    },
    {
     "name": "stdout",
     "output_type": "stream",
     "text": [
      "Saved 군사정전에 관한 협정 체결 이후 납북피해자의 보상 및 지원에 관한 법률 to 법령별 directory\n"
     ]
    },
    {
     "name": "stderr",
     "output_type": "stream",
     "text": [
      " 21%|██▏       | 354/1654 [07:08<32:25,  1.50s/it]"
     ]
    },
    {
     "name": "stdout",
     "output_type": "stream",
     "text": [
      "Saved 군수품관리법 to 법령별 directory\n"
     ]
    },
    {
     "name": "stderr",
     "output_type": "stream",
     "text": [
      " 21%|██▏       | 355/1654 [07:09<31:58,  1.48s/it]"
     ]
    },
    {
     "name": "stdout",
     "output_type": "stream",
     "text": [
      "No data found for 군에서의 형의 집행 및 군수용자의 처우에 관한 법률\n"
     ]
    },
    {
     "name": "stderr",
     "output_type": "stream",
     "text": [
      " 22%|██▏       | 356/1654 [07:10<27:44,  1.28s/it]"
     ]
    },
    {
     "name": "stdout",
     "output_type": "stream",
     "text": [
      "No data found for 군용물 등 범죄에 관한 특별조치법\n"
     ]
    },
    {
     "name": "stderr",
     "output_type": "stream",
     "text": [
      " 22%|██▏       | 357/1654 [07:11<26:05,  1.21s/it]"
     ]
    },
    {
     "name": "stdout",
     "output_type": "stream",
     "text": [
      "Saved 군용비행장ㆍ군사격장 소음 방지 및 피해 보상에 관한 법률 to 법령별 directory\n"
     ]
    },
    {
     "name": "stderr",
     "output_type": "stream",
     "text": [
      " 22%|██▏       | 358/1654 [07:13<28:41,  1.33s/it]"
     ]
    },
    {
     "name": "stdout",
     "output_type": "stream",
     "text": [
      "Saved 군용전기통신법 to 법령별 directory\n"
     ]
    },
    {
     "name": "stderr",
     "output_type": "stream",
     "text": [
      " 22%|██▏       | 359/1654 [07:14<27:34,  1.28s/it]"
     ]
    },
    {
     "name": "stdout",
     "output_type": "stream",
     "text": [
      "Saved 군용항공기 비행안전성 인증에 관한 법률 to 법령별 directory\n"
     ]
    },
    {
     "name": "stderr",
     "output_type": "stream",
     "text": [
      " 22%|██▏       | 360/1654 [07:15<25:28,  1.18s/it]"
     ]
    },
    {
     "name": "stdout",
     "output_type": "stream",
     "text": [
      "Saved 군용항공기 운용 등에 관한 법률 to 법령별 directory\n"
     ]
    },
    {
     "name": "stderr",
     "output_type": "stream",
     "text": [
      " 22%|██▏       | 361/1654 [07:16<24:20,  1.13s/it]"
     ]
    },
    {
     "name": "stdout",
     "output_type": "stream",
     "text": [
      "No data found for 군인공제회법\n"
     ]
    },
    {
     "name": "stderr",
     "output_type": "stream",
     "text": [
      " 22%|██▏       | 362/1654 [07:17<24:24,  1.13s/it]"
     ]
    },
    {
     "name": "stdout",
     "output_type": "stream",
     "text": [
      "No data found for 군인보수법\n"
     ]
    },
    {
     "name": "stderr",
     "output_type": "stream",
     "text": [
      " 22%|██▏       | 363/1654 [07:18<24:07,  1.12s/it]"
     ]
    },
    {
     "name": "stdout",
     "output_type": "stream",
     "text": [
      "No data found for 군인복지기금법\n"
     ]
    },
    {
     "name": "stderr",
     "output_type": "stream",
     "text": [
      " 22%|██▏       | 364/1654 [07:19<23:12,  1.08s/it]"
     ]
    },
    {
     "name": "stdout",
     "output_type": "stream",
     "text": [
      "Saved 군인복지기본법 to 법령별 directory\n"
     ]
    },
    {
     "name": "stderr",
     "output_type": "stream",
     "text": [
      " 22%|██▏       | 365/1654 [07:21<26:54,  1.25s/it]"
     ]
    },
    {
     "name": "stdout",
     "output_type": "stream",
     "text": [
      "No data found for 군인사법\n"
     ]
    },
    {
     "name": "stderr",
     "output_type": "stream",
     "text": [
      " 22%|██▏       | 366/1654 [07:22<28:31,  1.33s/it]"
     ]
    },
    {
     "name": "stdout",
     "output_type": "stream",
     "text": [
      "Saved 군인연금법 to 법령별 directory\n"
     ]
    },
    {
     "name": "stderr",
     "output_type": "stream",
     "text": [
      " 22%|██▏       | 367/1654 [07:23<27:16,  1.27s/it]"
     ]
    },
    {
     "name": "stdout",
     "output_type": "stream",
     "text": [
      "Saved 군인의 지위 및 복무에 관한 기본법 to 법령별 directory\n"
     ]
    },
    {
     "name": "stderr",
     "output_type": "stream",
     "text": [
      " 22%|██▏       | 368/1654 [07:25<26:26,  1.23s/it]"
     ]
    },
    {
     "name": "stdout",
     "output_type": "stream",
     "text": [
      "Saved 군인 재해보상법 to 법령별 directory\n"
     ]
    },
    {
     "name": "stderr",
     "output_type": "stream",
     "text": [
      " 22%|██▏       | 369/1654 [07:26<25:19,  1.18s/it]"
     ]
    },
    {
     "name": "stdout",
     "output_type": "stream",
     "text": [
      "Saved 군 책임운영기관의 지정ㆍ운영에 관한 법률 to 법령별 directory\n"
     ]
    },
    {
     "name": "stderr",
     "output_type": "stream",
     "text": [
      " 22%|██▏       | 370/1654 [07:27<27:38,  1.29s/it]"
     ]
    },
    {
     "name": "stdout",
     "output_type": "stream",
     "text": [
      "No data found for 군형법\n"
     ]
    },
    {
     "name": "stderr",
     "output_type": "stream",
     "text": [
      " 22%|██▏       | 371/1654 [07:28<26:24,  1.24s/it]"
     ]
    },
    {
     "name": "stdout",
     "output_type": "stream",
     "text": [
      "Saved 궤도운송법 to 법령별 directory\n"
     ]
    },
    {
     "name": "stderr",
     "output_type": "stream",
     "text": [
      " 22%|██▏       | 372/1654 [07:29<25:18,  1.18s/it]"
     ]
    },
    {
     "name": "stdout",
     "output_type": "stream",
     "text": [
      "Saved 귀농어ㆍ귀촌 활성화 및 지원에 관한 법률 to 법령별 directory\n"
     ]
    },
    {
     "name": "stderr",
     "output_type": "stream",
     "text": [
      " 23%|██▎       | 373/1654 [07:30<24:48,  1.16s/it]"
     ]
    },
    {
     "name": "stdout",
     "output_type": "stream",
     "text": [
      "No data found for 귀속재산처리법\n"
     ]
    },
    {
     "name": "stderr",
     "output_type": "stream",
     "text": [
      " 23%|██▎       | 374/1654 [07:33<30:50,  1.45s/it]"
     ]
    },
    {
     "name": "stdout",
     "output_type": "stream",
     "text": [
      "Saved 규제자유특구 및 지역특화발전특구에 관한 규제특례법 to 법령별 directory\n"
     ]
    },
    {
     "name": "stderr",
     "output_type": "stream",
     "text": [
      " 23%|██▎       | 375/1654 [07:34<30:28,  1.43s/it]"
     ]
    },
    {
     "name": "stdout",
     "output_type": "stream",
     "text": [
      "Saved 극지활동 진흥법 to 법령별 directory\n"
     ]
    },
    {
     "name": "stderr",
     "output_type": "stream",
     "text": [
      " 23%|██▎       | 376/1654 [07:35<30:30,  1.43s/it]"
     ]
    },
    {
     "name": "stdout",
     "output_type": "stream",
     "text": [
      "Saved 근로기준법 to 법령별 directory\n"
     ]
    },
    {
     "name": "stderr",
     "output_type": "stream",
     "text": [
      " 23%|██▎       | 377/1654 [07:37<31:22,  1.47s/it]"
     ]
    },
    {
     "name": "stdout",
     "output_type": "stream",
     "text": [
      "Saved 근로복지기본법 to 법령별 directory\n"
     ]
    },
    {
     "name": "stderr",
     "output_type": "stream",
     "text": [
      " 23%|██▎       | 378/1654 [07:38<26:34,  1.25s/it]"
     ]
    },
    {
     "name": "stdout",
     "output_type": "stream",
     "text": [
      "No data found for 근로자의 날 제정에 관한 법률\n"
     ]
    },
    {
     "name": "stderr",
     "output_type": "stream",
     "text": [
      " 23%|██▎       | 379/1654 [07:39<24:18,  1.14s/it]"
     ]
    },
    {
     "name": "stdout",
     "output_type": "stream",
     "text": [
      "Saved 근로자참여 및 협력증진에 관한 법률 to 법령별 directory\n"
     ]
    },
    {
     "name": "stderr",
     "output_type": "stream",
     "text": [
      " 23%|██▎       | 380/1654 [07:40<24:28,  1.15s/it]"
     ]
    },
    {
     "name": "stdout",
     "output_type": "stream",
     "text": [
      "Saved 근로자퇴직급여 보장법 to 법령별 directory\n"
     ]
    },
    {
     "name": "stderr",
     "output_type": "stream",
     "text": [
      " 23%|██▎       | 381/1654 [07:41<24:09,  1.14s/it]"
     ]
    },
    {
     "name": "stdout",
     "output_type": "stream",
     "text": [
      "Saved 근현대문화유산의 보존 및 활용에 관한 법률 to 법령별 directory\n"
     ]
    },
    {
     "name": "stderr",
     "output_type": "stream",
     "text": [
      " 23%|██▎       | 382/1654 [07:42<24:36,  1.16s/it]"
     ]
    },
    {
     "name": "stdout",
     "output_type": "stream",
     "text": [
      "Saved 금강수계 물관리 및 주민지원 등에 관한 법률 to 법령별 directory\n"
     ]
    },
    {
     "name": "stderr",
     "output_type": "stream",
     "text": [
      " 23%|██▎       | 383/1654 [07:43<22:20,  1.05s/it]"
     ]
    },
    {
     "name": "stdout",
     "output_type": "stream",
     "text": [
      "Saved 금융거래지표의 관리에 관한 법률 to 법령별 directory\n"
     ]
    },
    {
     "name": "stderr",
     "output_type": "stream",
     "text": [
      " 23%|██▎       | 384/1654 [07:44<22:07,  1.04s/it]"
     ]
    },
    {
     "name": "stdout",
     "output_type": "stream",
     "text": [
      "Saved 금융복합기업집단의 감독에 관한 법률 to 법령별 directory\n"
     ]
    },
    {
     "name": "stderr",
     "output_type": "stream",
     "text": [
      " 23%|██▎       | 385/1654 [07:45<23:14,  1.10s/it]"
     ]
    },
    {
     "name": "stdout",
     "output_type": "stream",
     "text": [
      "Saved 금융산업의 구조개선에 관한 법률 to 법령별 directory\n"
     ]
    },
    {
     "name": "stderr",
     "output_type": "stream",
     "text": [
      " 23%|██▎       | 386/1654 [07:46<24:16,  1.15s/it]"
     ]
    },
    {
     "name": "stdout",
     "output_type": "stream",
     "text": [
      "Saved 금융소비자 보호에 관한 법률 to 법령별 directory\n"
     ]
    },
    {
     "name": "stderr",
     "output_type": "stream",
     "text": [
      " 23%|██▎       | 387/1654 [07:47<23:32,  1.12s/it]"
     ]
    },
    {
     "name": "stdout",
     "output_type": "stream",
     "text": [
      "Saved 금융실명거래 및 비밀보장에 관한 법률 to 법령별 directory\n"
     ]
    },
    {
     "name": "stderr",
     "output_type": "stream",
     "text": [
      " 23%|██▎       | 388/1654 [07:49<24:52,  1.18s/it]"
     ]
    },
    {
     "name": "stdout",
     "output_type": "stream",
     "text": [
      "No data found for 금융위원회의 설치 등에 관한 법률\n"
     ]
    },
    {
     "name": "stderr",
     "output_type": "stream",
     "text": [
      " 24%|██▎       | 389/1654 [07:50<22:58,  1.09s/it]"
     ]
    },
    {
     "name": "stdout",
     "output_type": "stream",
     "text": [
      "No data found for 금융중심지의 조성과 발전에 관한 법률\n"
     ]
    },
    {
     "name": "stderr",
     "output_type": "stream",
     "text": [
      " 24%|██▎       | 390/1654 [07:51<26:44,  1.27s/it]"
     ]
    },
    {
     "name": "stdout",
     "output_type": "stream",
     "text": [
      "Saved 금융지주회사법 to 법령별 directory\n"
     ]
    },
    {
     "name": "stderr",
     "output_type": "stream",
     "text": [
      " 24%|██▎       | 391/1654 [07:53<26:59,  1.28s/it]"
     ]
    },
    {
     "name": "stdout",
     "output_type": "stream",
     "text": [
      "Saved 금융혁신지원 특별법 to 법령별 directory\n"
     ]
    },
    {
     "name": "stderr",
     "output_type": "stream",
     "text": [
      " 24%|██▎       | 392/1654 [07:54<29:30,  1.40s/it]"
     ]
    },
    {
     "name": "stdout",
     "output_type": "stream",
     "text": [
      "Saved 금융회사의 지배구조에 관한 법률 to 법령별 directory\n"
     ]
    },
    {
     "name": "stderr",
     "output_type": "stream",
     "text": [
      " 24%|██▍       | 393/1654 [07:56<28:15,  1.34s/it]"
     ]
    },
    {
     "name": "stdout",
     "output_type": "stream",
     "text": [
      "Saved 급경사지 재해예방에 관한 법률 to 법령별 directory\n"
     ]
    },
    {
     "name": "stderr",
     "output_type": "stream",
     "text": [
      " 24%|██▍       | 394/1654 [07:57<26:23,  1.26s/it]"
     ]
    },
    {
     "name": "stdout",
     "output_type": "stream",
     "text": [
      "Saved 기간제 및 단시간근로자 보호 등에 관한 법률 to 법령별 directory\n"
     ]
    },
    {
     "name": "stderr",
     "output_type": "stream",
     "text": [
      " 24%|██▍       | 395/1654 [07:58<25:53,  1.23s/it]"
     ]
    },
    {
     "name": "stdout",
     "output_type": "stream",
     "text": [
      "Saved 기계설비법 to 법령별 directory\n"
     ]
    },
    {
     "name": "stderr",
     "output_type": "stream",
     "text": [
      " 24%|██▍       | 396/1654 [07:59<23:47,  1.13s/it]"
     ]
    },
    {
     "name": "stdout",
     "output_type": "stream",
     "text": [
      "Saved 기능성 양잠산업 육성 및 지원에 관한 법률 to 법령별 directory\n"
     ]
    },
    {
     "name": "stderr",
     "output_type": "stream",
     "text": [
      " 24%|██▍       | 397/1654 [08:00<23:40,  1.13s/it]"
     ]
    },
    {
     "name": "stdout",
     "output_type": "stream",
     "text": [
      "Saved 기부금품의 모집ㆍ사용 및 기부문화 활성화에 관한 법률 to 법령별 directory\n"
     ]
    },
    {
     "name": "stderr",
     "output_type": "stream",
     "text": [
      " 24%|██▍       | 398/1654 [08:01<23:07,  1.10s/it]"
     ]
    },
    {
     "name": "stdout",
     "output_type": "stream",
     "text": [
      "Saved 기상관측표준화법 to 법령별 directory\n"
     ]
    },
    {
     "name": "stderr",
     "output_type": "stream",
     "text": [
      " 24%|██▍       | 399/1654 [08:02<25:03,  1.20s/it]"
     ]
    },
    {
     "name": "stdout",
     "output_type": "stream",
     "text": [
      "Saved 기상법 to 법령별 directory\n"
     ]
    },
    {
     "name": "stderr",
     "output_type": "stream",
     "text": [
      " 24%|██▍       | 400/1654 [08:03<24:26,  1.17s/it]"
     ]
    },
    {
     "name": "stdout",
     "output_type": "stream",
     "text": [
      "Saved 기상산업진흥법 to 법령별 directory\n"
     ]
    },
    {
     "name": "stderr",
     "output_type": "stream",
     "text": [
      " 24%|██▍       | 401/1654 [08:05<25:47,  1.24s/it]"
     ]
    },
    {
     "name": "stdout",
     "output_type": "stream",
     "text": [
      "Saved 기술보증기금법 to 법령별 directory\n"
     ]
    },
    {
     "name": "stderr",
     "output_type": "stream",
     "text": [
      " 24%|██▍       | 402/1654 [08:06<26:15,  1.26s/it]"
     ]
    },
    {
     "name": "stdout",
     "output_type": "stream",
     "text": [
      "Saved 기술사법 to 법령별 directory\n"
     ]
    },
    {
     "name": "stderr",
     "output_type": "stream",
     "text": [
      " 24%|██▍       | 403/1654 [08:07<26:12,  1.26s/it]"
     ]
    },
    {
     "name": "stdout",
     "output_type": "stream",
     "text": [
      "Saved 기술의 이전 및 사업화 촉진에 관한 법률 to 법령별 directory\n"
     ]
    },
    {
     "name": "stderr",
     "output_type": "stream",
     "text": [
      " 24%|██▍       | 404/1654 [08:08<25:32,  1.23s/it]"
     ]
    },
    {
     "name": "stdout",
     "output_type": "stream",
     "text": [
      "Saved 기업구조조정 촉진법 to 법령별 directory\n"
     ]
    },
    {
     "name": "stderr",
     "output_type": "stream",
     "text": [
      " 24%|██▍       | 405/1654 [08:10<26:16,  1.26s/it]"
     ]
    },
    {
     "name": "stdout",
     "output_type": "stream",
     "text": [
      "Saved 기업구조조정투자회사법 to 법령별 directory\n"
     ]
    },
    {
     "name": "stderr",
     "output_type": "stream",
     "text": [
      " 25%|██▍       | 406/1654 [08:11<28:25,  1.37s/it]"
     ]
    },
    {
     "name": "stdout",
     "output_type": "stream",
     "text": [
      "Saved 기업도시개발 특별법 to 법령별 directory\n"
     ]
    },
    {
     "name": "stderr",
     "output_type": "stream",
     "text": [
      " 25%|██▍       | 407/1654 [08:13<31:13,  1.50s/it]"
     ]
    },
    {
     "name": "stdout",
     "output_type": "stream",
     "text": [
      "Saved 기업활동 규제완화에 관한 특별조치법 to 법령별 directory\n"
     ]
    },
    {
     "name": "stderr",
     "output_type": "stream",
     "text": [
      " 25%|██▍       | 408/1654 [08:14<29:13,  1.41s/it]"
     ]
    },
    {
     "name": "stdout",
     "output_type": "stream",
     "text": [
      "Saved 기업 활력 제고를 위한 특별법 to 법령별 directory\n"
     ]
    },
    {
     "name": "stderr",
     "output_type": "stream",
     "text": [
      " 25%|██▍       | 409/1654 [08:16<27:24,  1.32s/it]"
     ]
    },
    {
     "name": "stdout",
     "output_type": "stream",
     "text": [
      "Saved 기초연구진흥 및 기술개발지원에 관한 법률 to 법령별 directory\n"
     ]
    },
    {
     "name": "stderr",
     "output_type": "stream",
     "text": [
      " 25%|██▍       | 410/1654 [08:17<25:25,  1.23s/it]"
     ]
    },
    {
     "name": "stdout",
     "output_type": "stream",
     "text": [
      "Saved 기초연금법 to 법령별 directory\n"
     ]
    },
    {
     "name": "stderr",
     "output_type": "stream",
     "text": [
      " 25%|██▍       | 411/1654 [08:18<26:21,  1.27s/it]"
     ]
    },
    {
     "name": "stdout",
     "output_type": "stream",
     "text": [
      "Saved 기초학력 보장법 to 법령별 directory\n"
     ]
    },
    {
     "name": "stderr",
     "output_type": "stream",
     "text": [
      " 25%|██▍       | 412/1654 [08:19<24:13,  1.17s/it]"
     ]
    },
    {
     "name": "stdout",
     "output_type": "stream",
     "text": [
      "Saved 기후변화대응 기술개발 촉진법 to 법령별 directory\n"
     ]
    },
    {
     "name": "stderr",
     "output_type": "stream",
     "text": [
      " 25%|██▍       | 413/1654 [08:20<26:12,  1.27s/it]"
     ]
    },
    {
     "name": "stdout",
     "output_type": "stream",
     "text": [
      "Saved 기후위기 대응을 위한 탄소중립ㆍ녹색성장 기본법 to 법령별 directory\n"
     ]
    },
    {
     "name": "stderr",
     "output_type": "stream",
     "text": [
      " 25%|██▌       | 414/1654 [08:21<25:15,  1.22s/it]"
     ]
    },
    {
     "name": "stdout",
     "output_type": "stream",
     "text": [
      "Saved 긴급복지지원법 to 법령별 directory\n"
     ]
    },
    {
     "name": "stderr",
     "output_type": "stream",
     "text": [
      " 25%|██▌       | 415/1654 [08:22<22:58,  1.11s/it]"
     ]
    },
    {
     "name": "stdout",
     "output_type": "stream",
     "text": [
      "Saved 김산업의 육성 및 지원에 관한 법률 to 법령별 directory\n"
     ]
    },
    {
     "name": "stderr",
     "output_type": "stream",
     "text": [
      " 25%|██▌       | 416/1654 [08:23<22:17,  1.08s/it]"
     ]
    },
    {
     "name": "stdout",
     "output_type": "stream",
     "text": [
      "Saved 김치산업 진흥법 to 법령별 directory\n"
     ]
    },
    {
     "name": "stderr",
     "output_type": "stream",
     "text": [
      " 25%|██▌       | 417/1654 [08:24<22:06,  1.07s/it]"
     ]
    },
    {
     "name": "stdout",
     "output_type": "stream",
     "text": [
      "Saved 나노기술개발 촉진법 to 법령별 directory\n"
     ]
    },
    {
     "name": "stderr",
     "output_type": "stream",
     "text": [
      " 25%|██▌       | 418/1654 [08:25<21:32,  1.05s/it]"
     ]
    },
    {
     "name": "stdout",
     "output_type": "stream",
     "text": [
      "Saved 낙농진흥법 to 법령별 directory\n"
     ]
    },
    {
     "name": "stderr",
     "output_type": "stream",
     "text": [
      " 25%|██▌       | 419/1654 [08:27<23:20,  1.13s/it]"
     ]
    },
    {
     "name": "stdout",
     "output_type": "stream",
     "text": [
      "Saved 낙동강수계 물관리 및 주민지원 등에 관한 법률 to 법령별 directory\n"
     ]
    },
    {
     "name": "stderr",
     "output_type": "stream",
     "text": [
      " 25%|██▌       | 420/1654 [08:28<23:31,  1.14s/it]"
     ]
    },
    {
     "name": "stdout",
     "output_type": "stream",
     "text": [
      "Saved 낚시 관리 및 육성법 to 법령별 directory\n"
     ]
    },
    {
     "name": "stderr",
     "output_type": "stream",
     "text": [
      " 25%|██▌       | 421/1654 [08:29<22:33,  1.10s/it]"
     ]
    },
    {
     "name": "stdout",
     "output_type": "stream",
     "text": [
      "Saved 난민법 to 법령별 directory\n"
     ]
    },
    {
     "name": "stderr",
     "output_type": "stream",
     "text": [
      " 26%|██▌       | 422/1654 [08:30<21:57,  1.07s/it]"
     ]
    },
    {
     "name": "stdout",
     "output_type": "stream",
     "text": [
      "Saved 남극활동 및 환경보호에 관한 법률 to 법령별 directory\n"
     ]
    },
    {
     "name": "stderr",
     "output_type": "stream",
     "text": [
      " 26%|██▌       | 423/1654 [08:31<23:01,  1.12s/it]"
     ]
    },
    {
     "name": "stdout",
     "output_type": "stream",
     "text": [
      "Saved 남녀고용평등과 일ㆍ가정 양립 지원에 관한 법률 to 법령별 directory\n"
     ]
    },
    {
     "name": "stderr",
     "output_type": "stream",
     "text": [
      " 26%|██▌       | 424/1654 [08:32<21:23,  1.04s/it]"
     ]
    },
    {
     "name": "stdout",
     "output_type": "stream",
     "text": [
      "Saved 남북관계 발전에 관한 법률 to 법령별 directory\n"
     ]
    },
    {
     "name": "stderr",
     "output_type": "stream",
     "text": [
      " 26%|██▌       | 425/1654 [08:33<20:56,  1.02s/it]"
     ]
    },
    {
     "name": "stdout",
     "output_type": "stream",
     "text": [
      "Saved 남북교류협력에 관한 법률 to 법령별 directory\n"
     ]
    },
    {
     "name": "stderr",
     "output_type": "stream",
     "text": [
      " 26%|██▌       | 426/1654 [08:34<19:59,  1.02it/s]"
     ]
    },
    {
     "name": "stdout",
     "output_type": "stream",
     "text": [
      "Saved 남북 이산가족 생사확인 및 교류 촉진에 관한 법률 to 법령별 directory\n"
     ]
    },
    {
     "name": "stderr",
     "output_type": "stream",
     "text": [
      " 26%|██▌       | 427/1654 [08:35<19:33,  1.05it/s]"
     ]
    },
    {
     "name": "stdout",
     "output_type": "stream",
     "text": [
      "No data found for 남북 주민 사이의 가족관계와 상속 등에 관한 특례법\n"
     ]
    },
    {
     "name": "stderr",
     "output_type": "stream",
     "text": [
      " 26%|██▌       | 428/1654 [08:36<19:08,  1.07it/s]"
     ]
    },
    {
     "name": "stdout",
     "output_type": "stream",
     "text": [
      "Saved 남북협력기금법 to 법령별 directory\n"
     ]
    },
    {
     "name": "stderr",
     "output_type": "stream",
     "text": [
      " 26%|██▌       | 429/1654 [08:37<21:53,  1.07s/it]"
     ]
    },
    {
     "name": "stdout",
     "output_type": "stream",
     "text": [
      "Saved 내수면 가두리양식어업 면허기간 연장불허에 따른 손실보상에 관한 특별법 to 법령별 directory\n"
     ]
    },
    {
     "name": "stderr",
     "output_type": "stream",
     "text": [
      " 26%|██▌       | 430/1654 [08:38<22:15,  1.09s/it]"
     ]
    },
    {
     "name": "stdout",
     "output_type": "stream",
     "text": [
      "Saved 내수면어업법 to 법령별 directory\n"
     ]
    },
    {
     "name": "stderr",
     "output_type": "stream",
     "text": [
      " 26%|██▌       | 431/1654 [08:39<21:20,  1.05s/it]"
     ]
    },
    {
     "name": "stdout",
     "output_type": "stream",
     "text": [
      "Saved 노근리사건 희생자심사 및 명예회복에 관한 특별법 to 법령별 directory\n"
     ]
    },
    {
     "name": "stderr",
     "output_type": "stream",
     "text": [
      " 26%|██▌       | 432/1654 [08:40<21:34,  1.06s/it]"
     ]
    },
    {
     "name": "stdout",
     "output_type": "stream",
     "text": [
      "No data found for 노동위원회법\n"
     ]
    },
    {
     "name": "stderr",
     "output_type": "stream",
     "text": [
      " 26%|██▌       | 433/1654 [08:42<23:50,  1.17s/it]"
     ]
    },
    {
     "name": "stdout",
     "output_type": "stream",
     "text": [
      "Saved 노동조합 및 노동관계조정법 to 법령별 directory\n"
     ]
    },
    {
     "name": "stderr",
     "output_type": "stream",
     "text": [
      " 26%|██▌       | 434/1654 [08:42<22:07,  1.09s/it]"
     ]
    },
    {
     "name": "stdout",
     "output_type": "stream",
     "text": [
      "No data found for 노사관계 발전 지원에 관한 법률\n"
     ]
    },
    {
     "name": "stderr",
     "output_type": "stream",
     "text": [
      " 26%|██▋       | 435/1654 [08:43<21:25,  1.05s/it]"
     ]
    },
    {
     "name": "stdout",
     "output_type": "stream",
     "text": [
      "Saved 노숙인 등의 복지 및 자립지원에 관한 법률 to 법령별 directory\n"
     ]
    },
    {
     "name": "stderr",
     "output_type": "stream",
     "text": [
      " 26%|██▋       | 436/1654 [08:45<23:46,  1.17s/it]"
     ]
    },
    {
     "name": "stdout",
     "output_type": "stream",
     "text": [
      "Saved 노인복지법 to 법령별 directory\n"
     ]
    },
    {
     "name": "stderr",
     "output_type": "stream",
     "text": [
      " 26%|██▋       | 437/1654 [08:46<25:02,  1.23s/it]"
     ]
    },
    {
     "name": "stdout",
     "output_type": "stream",
     "text": [
      "Saved 노인장기요양보험법 to 법령별 directory\n"
     ]
    },
    {
     "name": "stderr",
     "output_type": "stream",
     "text": [
      " 26%|██▋       | 438/1654 [08:47<22:43,  1.12s/it]"
     ]
    },
    {
     "name": "stdout",
     "output_type": "stream",
     "text": [
      "Saved 노인ㆍ장애인 등 사회복지시설의 급식안전 지원에 관한 법률 to 법령별 directory\n"
     ]
    },
    {
     "name": "stderr",
     "output_type": "stream",
     "text": [
      " 27%|██▋       | 439/1654 [08:48<22:24,  1.11s/it]"
     ]
    },
    {
     "name": "stdout",
     "output_type": "stream",
     "text": [
      "Saved 노후거점산업단지의 활력증진 및 경쟁력강화를 위한 특별법 to 법령별 directory\n"
     ]
    },
    {
     "name": "stderr",
     "output_type": "stream",
     "text": [
      " 27%|██▋       | 440/1654 [08:49<22:16,  1.10s/it]"
     ]
    },
    {
     "name": "stdout",
     "output_type": "stream",
     "text": [
      "Saved 노후계획도시 정비 및 지원에 관한 특별법 to 법령별 directory\n"
     ]
    },
    {
     "name": "stderr",
     "output_type": "stream",
     "text": [
      " 27%|██▋       | 441/1654 [08:51<23:40,  1.17s/it]"
     ]
    },
    {
     "name": "stdout",
     "output_type": "stream",
     "text": [
      "Saved 노후준비 지원법 to 법령별 directory\n"
     ]
    },
    {
     "name": "stderr",
     "output_type": "stream",
     "text": [
      " 27%|██▋       | 442/1654 [08:52<23:28,  1.16s/it]"
     ]
    },
    {
     "name": "stdout",
     "output_type": "stream",
     "text": [
      "Saved 녹색건축물 조성 지원법 to 법령별 directory\n"
     ]
    },
    {
     "name": "stderr",
     "output_type": "stream",
     "text": [
      " 27%|██▋       | 443/1654 [08:53<20:49,  1.03s/it]"
     ]
    },
    {
     "name": "stdout",
     "output_type": "stream",
     "text": [
      "No data found for 녹색기후기금의 운영지원에 관한 법률\n"
     ]
    },
    {
     "name": "stderr",
     "output_type": "stream",
     "text": [
      " 27%|██▋       | 444/1654 [08:53<19:32,  1.03it/s]"
     ]
    },
    {
     "name": "stdout",
     "output_type": "stream",
     "text": [
      "Saved 녹색융합클러스터의 조성 및 육성에 관한 법률 to 법령별 directory\n"
     ]
    },
    {
     "name": "stderr",
     "output_type": "stream",
     "text": [
      " 27%|██▋       | 445/1654 [08:54<20:24,  1.01s/it]"
     ]
    },
    {
     "name": "stdout",
     "output_type": "stream",
     "text": [
      "Saved 녹색제품 구매촉진에 관한 법률 to 법령별 directory\n"
     ]
    },
    {
     "name": "stderr",
     "output_type": "stream",
     "text": [
      " 27%|██▋       | 446/1654 [08:55<20:35,  1.02s/it]"
     ]
    },
    {
     "name": "stdout",
     "output_type": "stream",
     "text": [
      "Saved 농림수산식품투자조합 결성 및 운용에 관한 법률 to 법령별 directory\n"
     ]
    },
    {
     "name": "stderr",
     "output_type": "stream",
     "text": [
      " 27%|██▋       | 447/1654 [08:57<20:49,  1.04s/it]"
     ]
    },
    {
     "name": "stdout",
     "output_type": "stream",
     "text": [
      "Saved 농림수산업자 신용보증법 to 법령별 directory\n"
     ]
    },
    {
     "name": "stderr",
     "output_type": "stream",
     "text": [
      " 27%|██▋       | 448/1654 [08:58<24:18,  1.21s/it]"
     ]
    },
    {
     "name": "stdout",
     "output_type": "stream",
     "text": [
      "Saved 농림식품과학기술 육성법 to 법령별 directory\n"
     ]
    },
    {
     "name": "stderr",
     "output_type": "stream",
     "text": [
      " 27%|██▋       | 449/1654 [09:00<27:47,  1.38s/it]"
     ]
    },
    {
     "name": "stdout",
     "output_type": "stream",
     "text": [
      "Saved 농수산물 유통 및 가격안정에 관한 법률 to 법령별 directory\n"
     ]
    },
    {
     "name": "stderr",
     "output_type": "stream",
     "text": [
      " 27%|██▋       | 450/1654 [09:01<26:05,  1.30s/it]"
     ]
    },
    {
     "name": "stdout",
     "output_type": "stream",
     "text": [
      "Saved 농수산물의 원산지 표시 등에 관한 법률 to 법령별 directory\n"
     ]
    },
    {
     "name": "stderr",
     "output_type": "stream",
     "text": [
      " 27%|██▋       | 451/1654 [09:03<28:14,  1.41s/it]"
     ]
    },
    {
     "name": "stdout",
     "output_type": "stream",
     "text": [
      "Saved 농수산물 품질관리법 to 법령별 directory\n"
     ]
    },
    {
     "name": "stderr",
     "output_type": "stream",
     "text": [
      " 27%|██▋       | 452/1654 [09:04<26:04,  1.30s/it]"
     ]
    },
    {
     "name": "stdout",
     "output_type": "stream",
     "text": [
      "Saved 농수산자조금의 조성 및 운용에 관한 법률 to 법령별 directory\n"
     ]
    },
    {
     "name": "stderr",
     "output_type": "stream",
     "text": [
      " 27%|██▋       | 453/1654 [09:05<27:20,  1.37s/it]"
     ]
    },
    {
     "name": "stdout",
     "output_type": "stream",
     "text": [
      "Saved 농약관리법 to 법령별 directory\n"
     ]
    },
    {
     "name": "stderr",
     "output_type": "stream",
     "text": [
      " 27%|██▋       | 454/1654 [09:06<24:20,  1.22s/it]"
     ]
    },
    {
     "name": "stdout",
     "output_type": "stream",
     "text": [
      "Saved 농어가목돈마련저축에 관한 법률 to 법령별 directory\n"
     ]
    },
    {
     "name": "stderr",
     "output_type": "stream",
     "text": [
      " 28%|██▊       | 455/1654 [09:07<24:26,  1.22s/it]"
     ]
    },
    {
     "name": "stdout",
     "output_type": "stream",
     "text": [
      "Saved 농어업경영체 육성 및 지원에 관한 법률 to 법령별 directory\n"
     ]
    },
    {
     "name": "stderr",
     "output_type": "stream",
     "text": [
      " 28%|██▊       | 456/1654 [09:08<23:38,  1.18s/it]"
     ]
    },
    {
     "name": "stdout",
     "output_type": "stream",
     "text": [
      "Saved 농어업고용인력 지원 특별법 to 법령별 directory\n"
     ]
    },
    {
     "name": "stderr",
     "output_type": "stream",
     "text": [
      " 28%|██▊       | 457/1654 [09:09<22:05,  1.11s/it]"
     ]
    },
    {
     "name": "stdout",
     "output_type": "stream",
     "text": [
      "No data found for 농어업ㆍ농어촌특별위원회 설치 및 운영에 관한 법률\n"
     ]
    },
    {
     "name": "stderr",
     "output_type": "stream",
     "text": [
      " 28%|██▊       | 458/1654 [09:10<21:24,  1.07s/it]"
     ]
    },
    {
     "name": "stdout",
     "output_type": "stream",
     "text": [
      "Saved 농어업인 부채경감에 관한 특별조치법 to 법령별 directory\n"
     ]
    },
    {
     "name": "stderr",
     "output_type": "stream",
     "text": [
      " 28%|██▊       | 459/1654 [09:12<23:38,  1.19s/it]"
     ]
    },
    {
     "name": "stdout",
     "output_type": "stream",
     "text": [
      "Saved 농어업인 삶의 질 향상 및 농어촌지역 개발촉진에 관한 특별법 to 법령별 directory\n"
     ]
    },
    {
     "name": "stderr",
     "output_type": "stream",
     "text": [
      " 28%|██▊       | 460/1654 [09:13<23:24,  1.18s/it]"
     ]
    },
    {
     "name": "stdout",
     "output_type": "stream",
     "text": [
      "Saved 농어업인의 안전보험 및 안전재해예방에 관한 법률 to 법령별 directory\n"
     ]
    },
    {
     "name": "stderr",
     "output_type": "stream",
     "text": [
      " 28%|██▊       | 461/1654 [09:14<22:39,  1.14s/it]"
     ]
    },
    {
     "name": "stdout",
     "output_type": "stream",
     "text": [
      "Saved 농어업재해대책법 to 법령별 directory\n"
     ]
    },
    {
     "name": "stderr",
     "output_type": "stream",
     "text": [
      " 28%|██▊       | 462/1654 [09:15<23:31,  1.18s/it]"
     ]
    },
    {
     "name": "stdout",
     "output_type": "stream",
     "text": [
      "Saved 농어업재해보험법 to 법령별 directory\n"
     ]
    },
    {
     "name": "stderr",
     "output_type": "stream",
     "text": [
      " 28%|██▊       | 463/1654 [09:17<23:21,  1.18s/it]"
     ]
    },
    {
     "name": "stdout",
     "output_type": "stream",
     "text": [
      "No data found for 농어촌구조개선 특별회계법\n"
     ]
    },
    {
     "name": "stderr",
     "output_type": "stream",
     "text": [
      " 28%|██▊       | 464/1654 [09:18<26:04,  1.32s/it]"
     ]
    },
    {
     "name": "stdout",
     "output_type": "stream",
     "text": [
      "Saved 농어촌도로 정비법 to 법령별 directory\n"
     ]
    },
    {
     "name": "stderr",
     "output_type": "stream",
     "text": [
      " 28%|██▊       | 465/1654 [09:20<27:56,  1.41s/it]"
     ]
    },
    {
     "name": "stdout",
     "output_type": "stream",
     "text": [
      "Saved 농어촌 등 보건의료를 위한 특별조치법 to 법령별 directory\n"
     ]
    },
    {
     "name": "stderr",
     "output_type": "stream",
     "text": [
      " 28%|██▊       | 466/1654 [09:21<28:11,  1.42s/it]"
     ]
    },
    {
     "name": "stdout",
     "output_type": "stream",
     "text": [
      "Saved 농어촌마을 주거환경 개선 및 리모델링 촉진을 위한 특별법 to 법령별 directory\n"
     ]
    },
    {
     "name": "stderr",
     "output_type": "stream",
     "text": [
      " 28%|██▊       | 467/1654 [09:22<26:17,  1.33s/it]"
     ]
    },
    {
     "name": "stdout",
     "output_type": "stream",
     "text": [
      "Saved 농어촌 전기공급사업 촉진법 to 법령별 directory\n"
     ]
    },
    {
     "name": "stderr",
     "output_type": "stream",
     "text": [
      " 28%|██▊       | 468/1654 [09:24<29:41,  1.50s/it]"
     ]
    },
    {
     "name": "stdout",
     "output_type": "stream",
     "text": [
      "Saved 농어촌정비법 to 법령별 directory\n"
     ]
    },
    {
     "name": "stderr",
     "output_type": "stream",
     "text": [
      " 28%|██▊       | 469/1654 [09:25<26:22,  1.34s/it]"
     ]
    },
    {
     "name": "stdout",
     "output_type": "stream",
     "text": [
      "Saved 농어촌주민의 보건복지 증진을 위한 특별법 to 법령별 directory\n"
     ]
    },
    {
     "name": "stderr",
     "output_type": "stream",
     "text": [
      " 28%|██▊       | 470/1654 [09:26<24:53,  1.26s/it]"
     ]
    },
    {
     "name": "stdout",
     "output_type": "stream",
     "text": [
      "Saved 농어촌특별세법 to 법령별 directory\n"
     ]
    },
    {
     "name": "stderr",
     "output_type": "stream",
     "text": [
      " 28%|██▊       | 471/1654 [09:27<22:39,  1.15s/it]"
     ]
    },
    {
     "name": "stdout",
     "output_type": "stream",
     "text": [
      "Saved 농업과학기술정보서비스의 제공 및 이용 활성화에 관한 법률 to 법령별 directory\n"
     ]
    },
    {
     "name": "stderr",
     "output_type": "stream",
     "text": [
      " 29%|██▊       | 472/1654 [09:28<22:36,  1.15s/it]"
     ]
    },
    {
     "name": "stdout",
     "output_type": "stream",
     "text": [
      "Saved 농업기계화 촉진법 to 법령별 directory\n"
     ]
    },
    {
     "name": "stderr",
     "output_type": "stream",
     "text": [
      " 29%|██▊       | 473/1654 [09:30<25:59,  1.32s/it]"
     ]
    },
    {
     "name": "stdout",
     "output_type": "stream",
     "text": [
      "Saved 농업ㆍ농촌 공익기능 증진 직접지불제도 운영에 관한 법률 to 법령별 directory\n"
     ]
    },
    {
     "name": "stderr",
     "output_type": "stream",
     "text": [
      " 29%|██▊       | 474/1654 [09:31<25:38,  1.30s/it]"
     ]
    },
    {
     "name": "stdout",
     "output_type": "stream",
     "text": [
      "Saved 농업ㆍ농촌 및 식품산업 기본법 to 법령별 directory\n"
     ]
    },
    {
     "name": "stderr",
     "output_type": "stream",
     "text": [
      " 29%|██▊       | 475/1654 [09:33<24:55,  1.27s/it]"
     ]
    },
    {
     "name": "stdout",
     "output_type": "stream",
     "text": [
      "Saved 농업생명자원의 보존ㆍ관리 및 이용에 관한 법률 to 법령별 directory\n"
     ]
    },
    {
     "name": "stderr",
     "output_type": "stream",
     "text": [
      " 29%|██▉       | 476/1654 [09:34<24:36,  1.25s/it]"
     ]
    },
    {
     "name": "stdout",
     "output_type": "stream",
     "text": [
      "Saved 농업생산기반시설 및 주변지역 활용에 관한 특별법 to 법령별 directory\n"
     ]
    },
    {
     "name": "stderr",
     "output_type": "stream",
     "text": [
      " 29%|██▉       | 477/1654 [09:35<22:33,  1.15s/it]"
     ]
    },
    {
     "name": "stdout",
     "output_type": "stream",
     "text": [
      "Saved 농업인등의 농외소득 활동 지원에 관한 법률 to 법령별 directory\n"
     ]
    },
    {
     "name": "stderr",
     "output_type": "stream",
     "text": [
      " 29%|██▉       | 478/1654 [09:37<29:38,  1.51s/it]"
     ]
    },
    {
     "name": "stdout",
     "output_type": "stream",
     "text": [
      "Saved 농업협동조합법 to 법령별 directory\n"
     ]
    },
    {
     "name": "stderr",
     "output_type": "stream",
     "text": [
      " 29%|██▉       | 479/1654 [09:38<27:15,  1.39s/it]"
     ]
    },
    {
     "name": "stdout",
     "output_type": "stream",
     "text": [
      "Saved 농업협동조합의 구조개선에 관한 법률 to 법령별 directory\n"
     ]
    },
    {
     "name": "stderr",
     "output_type": "stream",
     "text": [
      " 29%|██▉       | 480/1654 [09:40<27:57,  1.43s/it]"
     ]
    },
    {
     "name": "stdout",
     "output_type": "stream",
     "text": [
      "Saved 농지법 to 법령별 directory\n"
     ]
    },
    {
     "name": "stderr",
     "output_type": "stream",
     "text": [
      " 29%|██▉       | 481/1654 [09:41<30:13,  1.55s/it]"
     ]
    },
    {
     "name": "stdout",
     "output_type": "stream",
     "text": [
      "Saved 농촌공간 재구조화 및 재생지원에 관한 법률 to 법령별 directory\n"
     ]
    },
    {
     "name": "stderr",
     "output_type": "stream",
     "text": [
      " 29%|██▉       | 482/1654 [09:43<30:25,  1.56s/it]"
     ]
    },
    {
     "name": "stdout",
     "output_type": "stream",
     "text": [
      "Saved 농촌융복합산업 육성 및 지원에 관한 법률 to 법령별 directory\n"
     ]
    },
    {
     "name": "stderr",
     "output_type": "stream",
     "text": [
      " 29%|██▉       | 483/1654 [09:44<27:17,  1.40s/it]"
     ]
    },
    {
     "name": "stdout",
     "output_type": "stream",
     "text": [
      "Saved 농촌 지역 공동체 기반 경제ㆍ사회 서비스 활성화에 관한 법률 to 법령별 directory\n"
     ]
    },
    {
     "name": "stderr",
     "output_type": "stream",
     "text": [
      " 29%|██▉       | 484/1654 [09:45<25:10,  1.29s/it]"
     ]
    },
    {
     "name": "stdout",
     "output_type": "stream",
     "text": [
      "Saved 농촌진흥법 to 법령별 directory\n"
     ]
    },
    {
     "name": "stderr",
     "output_type": "stream",
     "text": [
      " 29%|██▉       | 485/1654 [09:46<23:15,  1.19s/it]"
     ]
    },
    {
     "name": "stdout",
     "output_type": "stream",
     "text": [
      "Saved 뇌연구 촉진법 to 법령별 directory\n"
     ]
    },
    {
     "name": "stderr",
     "output_type": "stream",
     "text": [
      " 29%|██▉       | 486/1654 [09:47<23:14,  1.19s/it]"
     ]
    },
    {
     "name": "stdout",
     "output_type": "stream",
     "text": [
      "Saved 뉴스통신 진흥에 관한 법률 to 법령별 directory\n"
     ]
    },
    {
     "name": "stderr",
     "output_type": "stream",
     "text": [
      " 29%|██▉       | 487/1654 [09:48<22:29,  1.16s/it]"
     ]
    },
    {
     "name": "stdout",
     "output_type": "stream",
     "text": [
      "Saved 다문화가족지원법 to 법령별 directory\n"
     ]
    },
    {
     "name": "stderr",
     "output_type": "stream",
     "text": [
      " 30%|██▉       | 488/1654 [09:49<22:35,  1.16s/it]"
     ]
    },
    {
     "name": "stdout",
     "output_type": "stream",
     "text": [
      "Saved 다중이용업소의 안전관리에 관한 특별법 to 법령별 directory\n"
     ]
    },
    {
     "name": "stderr",
     "output_type": "stream",
     "text": [
      " 30%|██▉       | 489/1654 [09:50<21:17,  1.10s/it]"
     ]
    },
    {
     "name": "stdout",
     "output_type": "stream",
     "text": [
      "Saved 달빛철도 건설을 위한 특별법 to 법령별 directory\n"
     ]
    },
    {
     "name": "stderr",
     "output_type": "stream",
     "text": [
      " 30%|██▉       | 490/1654 [09:52<21:55,  1.13s/it]"
     ]
    },
    {
     "name": "stdout",
     "output_type": "stream",
     "text": [
      "Saved 담배사업법 to 법령별 directory\n"
     ]
    },
    {
     "name": "stderr",
     "output_type": "stream",
     "text": [
      " 30%|██▉       | 491/1654 [09:53<22:43,  1.17s/it]"
     ]
    },
    {
     "name": "stdout",
     "output_type": "stream",
     "text": [
      "Saved 담보부사채신탁법 to 법령별 directory\n"
     ]
    },
    {
     "name": "stderr",
     "output_type": "stream",
     "text": [
      " 30%|██▉       | 492/1654 [09:54<21:34,  1.11s/it]"
     ]
    },
    {
     "name": "stdout",
     "output_type": "stream",
     "text": [
      "No data found for 대구경북과학기술원법\n"
     ]
    },
    {
     "name": "stderr",
     "output_type": "stream",
     "text": [
      " 30%|██▉       | 493/1654 [09:55<22:31,  1.16s/it]"
     ]
    },
    {
     "name": "stdout",
     "output_type": "stream",
     "text": [
      "Saved 대구경북통합신공항 건설을 위한 특별법 to 법령별 directory\n"
     ]
    },
    {
     "name": "stderr",
     "output_type": "stream",
     "text": [
      " 30%|██▉       | 494/1654 [09:56<21:54,  1.13s/it]"
     ]
    },
    {
     "name": "stdout",
     "output_type": "stream",
     "text": [
      "Saved 대규모유통업에서의 거래 공정화에 관한 법률 to 법령별 directory\n"
     ]
    },
    {
     "name": "stderr",
     "output_type": "stream",
     "text": [
      " 30%|██▉       | 495/1654 [09:57<22:04,  1.14s/it]"
     ]
    },
    {
     "name": "stdout",
     "output_type": "stream",
     "text": [
      "Saved 대기관리권역의 대기환경개선에 관한 특별법 to 법령별 directory\n"
     ]
    },
    {
     "name": "stderr",
     "output_type": "stream",
     "text": [
      " 30%|██▉       | 496/1654 [09:59<26:56,  1.40s/it]"
     ]
    },
    {
     "name": "stdout",
     "output_type": "stream",
     "text": [
      "Saved 대기환경보전법 to 법령별 directory\n"
     ]
    },
    {
     "name": "stderr",
     "output_type": "stream",
     "text": [
      " 30%|███       | 497/1654 [10:01<26:00,  1.35s/it]"
     ]
    },
    {
     "name": "stdout",
     "output_type": "stream",
     "text": [
      "Saved 대도시권 광역교통 관리에 관한 특별법 to 법령별 directory\n"
     ]
    },
    {
     "name": "stderr",
     "output_type": "stream",
     "text": [
      " 30%|███       | 498/1654 [10:02<28:44,  1.49s/it]"
     ]
    },
    {
     "name": "stdout",
     "output_type": "stream",
     "text": [
      "Saved 대리점거래의 공정화에 관한 법률 to 법령별 directory\n"
     ]
    },
    {
     "name": "stderr",
     "output_type": "stream",
     "text": [
      " 30%|███       | 499/1654 [10:04<27:42,  1.44s/it]"
     ]
    },
    {
     "name": "stdout",
     "output_type": "stream",
     "text": [
      "Saved 대부업 등의 등록 및 금융이용자 보호에 관한 법률 to 법령별 directory\n"
     ]
    },
    {
     "name": "stderr",
     "output_type": "stream",
     "text": [
      " 30%|███       | 500/1654 [10:05<24:49,  1.29s/it]"
     ]
    },
    {
     "name": "stdout",
     "output_type": "stream",
     "text": [
      "Saved 대안교육기관에 관한 법률 to 법령별 directory\n"
     ]
    },
    {
     "name": "stderr",
     "output_type": "stream",
     "text": [
      " 30%|███       | 501/1654 [10:06<23:23,  1.22s/it]"
     ]
    },
    {
     "name": "stdout",
     "output_type": "stream",
     "text": [
      "Saved 대외경제협력기금법 to 법령별 directory\n"
     ]
    },
    {
     "name": "stderr",
     "output_type": "stream",
     "text": [
      " 30%|███       | 502/1654 [10:07<24:37,  1.28s/it]"
     ]
    },
    {
     "name": "stdout",
     "output_type": "stream",
     "text": [
      "Saved 대외무역법 to 법령별 directory\n"
     ]
    },
    {
     "name": "stderr",
     "output_type": "stream",
     "text": [
      " 30%|███       | 503/1654 [10:08<22:53,  1.19s/it]"
     ]
    },
    {
     "name": "stdout",
     "output_type": "stream",
     "text": [
      "Saved 대일항쟁기 강제동원 피해조사 및 국외강제동원 희생자 등 지원에 관한 특별법 to 법령별 directory\n"
     ]
    },
    {
     "name": "stderr",
     "output_type": "stream",
     "text": [
      " 30%|███       | 504/1654 [10:09<22:41,  1.18s/it]"
     ]
    },
    {
     "name": "stdout",
     "output_type": "stream",
     "text": [
      "Saved 대중교통의 육성 및 이용촉진에 관한 법률 to 법령별 directory\n"
     ]
    },
    {
     "name": "stderr",
     "output_type": "stream",
     "text": [
      " 31%|███       | 505/1654 [10:11<22:47,  1.19s/it]"
     ]
    },
    {
     "name": "stdout",
     "output_type": "stream",
     "text": [
      "Saved 대중문화예술산업발전법 to 법령별 directory\n"
     ]
    },
    {
     "name": "stderr",
     "output_type": "stream",
     "text": [
      " 31%|███       | 506/1654 [10:12<25:37,  1.34s/it]"
     ]
    },
    {
     "name": "stdout",
     "output_type": "stream",
     "text": [
      "Saved 대ㆍ중소기업 상생협력 촉진에 관한 법률 to 법령별 directory\n"
     ]
    },
    {
     "name": "stderr",
     "output_type": "stream",
     "text": [
      " 31%|███       | 507/1654 [10:13<23:50,  1.25s/it]"
     ]
    },
    {
     "name": "stdout",
     "output_type": "stream",
     "text": [
      "No data found for 대체역의 편입 및 복무 등에 관한 법률\n"
     ]
    },
    {
     "name": "stderr",
     "output_type": "stream",
     "text": [
      " 31%|███       | 508/1654 [10:14<22:58,  1.20s/it]"
     ]
    },
    {
     "name": "stdout",
     "output_type": "stream",
     "text": [
      "Saved 대통령기록물 관리에 관한 법률 to 법령별 directory\n"
     ]
    },
    {
     "name": "stderr",
     "output_type": "stream",
     "text": [
      " 31%|███       | 509/1654 [10:15<21:37,  1.13s/it]"
     ]
    },
    {
     "name": "stdout",
     "output_type": "stream",
     "text": [
      "Saved 대통령 등의 경호에 관한 법률 to 법령별 directory\n"
     ]
    },
    {
     "name": "stderr",
     "output_type": "stream",
     "text": [
      " 31%|███       | 510/1654 [10:16<21:15,  1.11s/it]"
     ]
    },
    {
     "name": "stdout",
     "output_type": "stream",
     "text": [
      "Saved 대통령직 인수에 관한 법률 to 법령별 directory\n"
     ]
    },
    {
     "name": "stderr",
     "output_type": "stream",
     "text": [
      " 31%|███       | 511/1654 [10:17<19:59,  1.05s/it]"
     ]
    },
    {
     "name": "stdout",
     "output_type": "stream",
     "text": [
      "Saved 대학교원 기간임용제 탈락자 구제를 위한 특별법 to 법령별 directory\n"
     ]
    },
    {
     "name": "stderr",
     "output_type": "stream",
     "text": [
      " 31%|███       | 512/1654 [10:18<19:32,  1.03s/it]"
     ]
    },
    {
     "name": "stdout",
     "output_type": "stream",
     "text": [
      "Saved 대학도서관진흥법 to 법령별 directory\n"
     ]
    },
    {
     "name": "stderr",
     "output_type": "stream",
     "text": [
      " 31%|███       | 513/1654 [10:19<18:27,  1.03it/s]"
     ]
    },
    {
     "name": "stdout",
     "output_type": "stream",
     "text": [
      "No data found for 대한노인회 지원에 관한 법률\n"
     ]
    },
    {
     "name": "stderr",
     "output_type": "stream",
     "text": [
      " 31%|███       | 514/1654 [10:20<18:28,  1.03it/s]"
     ]
    },
    {
     "name": "stdout",
     "output_type": "stream",
     "text": [
      "No data found for 대한무역투자진흥공사법\n"
     ]
    },
    {
     "name": "stderr",
     "output_type": "stream",
     "text": [
      " 31%|███       | 515/1654 [10:21<17:57,  1.06it/s]"
     ]
    },
    {
     "name": "stdout",
     "output_type": "stream",
     "text": [
      "Saved 대한민국과 아메리카합중국 간의 상호방위조약 제4조에 의한 시설과 구역 및 대한민국에서의 합중국군대의 지위에 관한 협정의 실시에 따른 관세법 등의 임시특례에 관한 법률 to 법령별 directory\n"
     ]
    },
    {
     "name": "stderr",
     "output_type": "stream",
     "text": [
      " 31%|███       | 516/1654 [10:22<18:17,  1.04it/s]"
     ]
    },
    {
     "name": "stdout",
     "output_type": "stream",
     "text": [
      "No data found for 대한민국과 아메리카합중국 간의 상호방위조약 제4조에 의한 시설과 구역 및 대한민국에서의 합중국 군대의 지위에 관한 협정의 시행에 따른 국가 및 지방자치단체의 재산의 관리와 처분에 관한 법률\n"
     ]
    },
    {
     "name": "stderr",
     "output_type": "stream",
     "text": [
      " 31%|███▏      | 517/1654 [10:23<20:33,  1.08s/it]"
     ]
    },
    {
     "name": "stdout",
     "output_type": "stream",
     "text": [
      "No data found for 대한민국과 아메리카합중국 간의 상호방위조약 제4조에 의한 시설과 구역 및 대한민국에서의 합중국 군대의 지위에 관한 협정의 시행에 관한 형사특별법\n"
     ]
    },
    {
     "name": "stderr",
     "output_type": "stream",
     "text": [
      " 31%|███▏      | 518/1654 [10:24<19:34,  1.03s/it]"
     ]
    },
    {
     "name": "stdout",
     "output_type": "stream",
     "text": [
      "No data found for 대한민국과 아메리카합중국 간의 상호방위조약 제4조에 의한 시설과 구역 및 대한민국에서의 합중국 군대의 지위에 관한 협정의 시행에 관한 민사특별법\n"
     ]
    },
    {
     "name": "stderr",
     "output_type": "stream",
     "text": [
      " 31%|███▏      | 519/1654 [10:25<18:13,  1.04it/s]"
     ]
    },
    {
     "name": "stdout",
     "output_type": "stream",
     "text": [
      "Saved 대한민국국기법 to 법령별 directory\n"
     ]
    },
    {
     "name": "stderr",
     "output_type": "stream",
     "text": [
      " 31%|███▏      | 520/1654 [10:26<18:30,  1.02it/s]"
     ]
    },
    {
     "name": "stdout",
     "output_type": "stream",
     "text": [
      "No data found for 대한민국예술원법\n"
     ]
    },
    {
     "name": "stderr",
     "output_type": "stream",
     "text": [
      " 31%|███▏      | 521/1654 [10:27<18:04,  1.04it/s]"
     ]
    },
    {
     "name": "stdout",
     "output_type": "stream",
     "text": [
      "No data found for 대한민국 재외공관 설치법\n"
     ]
    },
    {
     "name": "stderr",
     "output_type": "stream",
     "text": [
      " 32%|███▏      | 522/1654 [10:28<17:34,  1.07it/s]"
     ]
    },
    {
     "name": "stdout",
     "output_type": "stream",
     "text": [
      "No data found for 대한민국재향경우회법\n"
     ]
    },
    {
     "name": "stderr",
     "output_type": "stream",
     "text": [
      " 32%|███▏      | 523/1654 [10:29<17:06,  1.10it/s]"
     ]
    },
    {
     "name": "stdout",
     "output_type": "stream",
     "text": [
      "No data found for 대한민국재향교정동우회법\n"
     ]
    },
    {
     "name": "stderr",
     "output_type": "stream",
     "text": [
      " 32%|███▏      | 524/1654 [10:30<17:49,  1.06it/s]"
     ]
    },
    {
     "name": "stdout",
     "output_type": "stream",
     "text": [
      "No data found for 대한민국재향군인회법\n"
     ]
    },
    {
     "name": "stderr",
     "output_type": "stream",
     "text": [
      " 32%|███▏      | 525/1654 [10:31<17:12,  1.09it/s]"
     ]
    },
    {
     "name": "stdout",
     "output_type": "stream",
     "text": [
      "No data found for 대한민국재향소방동우회법\n"
     ]
    },
    {
     "name": "stderr",
     "output_type": "stream",
     "text": [
      " 32%|███▏      | 526/1654 [10:31<16:56,  1.11it/s]"
     ]
    },
    {
     "name": "stdout",
     "output_type": "stream",
     "text": [
      "No data found for 대한민국학술원법\n"
     ]
    },
    {
     "name": "stderr",
     "output_type": "stream",
     "text": [
      " 32%|███▏      | 527/1654 [10:32<16:26,  1.14it/s]"
     ]
    },
    {
     "name": "stdout",
     "output_type": "stream",
     "text": [
      "No data found for 대한민국헌정회 육성법\n"
     ]
    },
    {
     "name": "stderr",
     "output_type": "stream",
     "text": [
      " 32%|███▏      | 528/1654 [10:33<16:11,  1.16it/s]"
     ]
    },
    {
     "name": "stdout",
     "output_type": "stream",
     "text": [
      "No data found for 대한석탄공사법\n"
     ]
    },
    {
     "name": "stderr",
     "output_type": "stream",
     "text": [
      " 32%|███▏      | 529/1654 [10:34<16:22,  1.15it/s]"
     ]
    },
    {
     "name": "stdout",
     "output_type": "stream",
     "text": [
      "No data found for 대한소방공제회법\n"
     ]
    },
    {
     "name": "stderr",
     "output_type": "stream",
     "text": [
      " 32%|███▏      | 530/1654 [10:35<16:49,  1.11it/s]"
     ]
    },
    {
     "name": "stdout",
     "output_type": "stream",
     "text": [
      "No data found for 대한적십자사 조직법\n"
     ]
    },
    {
     "name": "stderr",
     "output_type": "stream",
     "text": [
      " 32%|███▏      | 531/1654 [10:36<16:55,  1.11it/s]"
     ]
    },
    {
     "name": "stdout",
     "output_type": "stream",
     "text": [
      "No data found for 대한지방행정공제회법\n"
     ]
    },
    {
     "name": "stderr",
     "output_type": "stream",
     "text": [
      " 32%|███▏      | 532/1654 [10:37<19:41,  1.05s/it]"
     ]
    },
    {
     "name": "stdout",
     "output_type": "stream",
     "text": [
      "Saved 댐건설ㆍ관리 및 주변지역지원 등에 관한 법률 to 법령별 directory\n"
     ]
    },
    {
     "name": "stderr",
     "output_type": "stream",
     "text": [
      " 32%|███▏      | 533/1654 [10:38<19:13,  1.03s/it]"
     ]
    },
    {
     "name": "stdout",
     "output_type": "stream",
     "text": [
      "Saved 댐 주변지역 친환경 보전 및 활용에 관한 특별법 to 법령별 directory\n"
     ]
    },
    {
     "name": "stderr",
     "output_type": "stream",
     "text": [
      " 32%|███▏      | 534/1654 [10:39<18:37,  1.00it/s]"
     ]
    },
    {
     "name": "stdout",
     "output_type": "stream",
     "text": [
      "Saved 데이터기반행정 활성화에 관한 법률 to 법령별 directory\n"
     ]
    },
    {
     "name": "stderr",
     "output_type": "stream",
     "text": [
      " 32%|███▏      | 535/1654 [10:40<19:01,  1.02s/it]"
     ]
    },
    {
     "name": "stdout",
     "output_type": "stream",
     "text": [
      "Saved 데이터 산업진흥 및 이용촉진에 관한 기본법 to 법령별 directory\n"
     ]
    },
    {
     "name": "stderr",
     "output_type": "stream",
     "text": [
      " 32%|███▏      | 536/1654 [10:43<29:45,  1.60s/it]"
     ]
    },
    {
     "name": "stdout",
     "output_type": "stream",
     "text": [
      "Saved 도로교통법 to 법령별 directory\n"
     ]
    },
    {
     "name": "stderr",
     "output_type": "stream",
     "text": [
      " 32%|███▏      | 537/1654 [10:44<26:36,  1.43s/it]"
     ]
    },
    {
     "name": "stdout",
     "output_type": "stream",
     "text": [
      "Saved 도로명주소법 to 법령별 directory\n"
     ]
    },
    {
     "name": "stderr",
     "output_type": "stream",
     "text": [
      " 33%|███▎      | 538/1654 [10:46<27:24,  1.47s/it]"
     ]
    },
    {
     "name": "stdout",
     "output_type": "stream",
     "text": [
      "Saved 도로법 to 법령별 directory\n"
     ]
    },
    {
     "name": "stderr",
     "output_type": "stream",
     "text": [
      " 33%|███▎      | 539/1654 [10:47<24:55,  1.34s/it]"
     ]
    },
    {
     "name": "stdout",
     "output_type": "stream",
     "text": [
      "Saved 도서관법 to 법령별 directory\n"
     ]
    },
    {
     "name": "stderr",
     "output_type": "stream",
     "text": [
      " 33%|███▎      | 540/1654 [10:48<21:59,  1.18s/it]"
     ]
    },
    {
     "name": "stdout",
     "output_type": "stream",
     "text": [
      "Saved 도서ㆍ벽지 교육진흥법 to 법령별 directory\n"
     ]
    },
    {
     "name": "stderr",
     "output_type": "stream",
     "text": [
      " 33%|███▎      | 541/1654 [10:49<25:14,  1.36s/it]"
     ]
    },
    {
     "name": "stdout",
     "output_type": "stream",
     "text": [
      "Saved 도선법 to 법령별 directory\n"
     ]
    },
    {
     "name": "stderr",
     "output_type": "stream",
     "text": [
      " 33%|███▎      | 542/1654 [10:51<27:30,  1.48s/it]"
     ]
    },
    {
     "name": "stdout",
     "output_type": "stream",
     "text": [
      "Saved 도시가스사업법 to 법령별 directory\n"
     ]
    },
    {
     "name": "stderr",
     "output_type": "stream",
     "text": [
      " 33%|███▎      | 543/1654 [10:53<27:38,  1.49s/it]"
     ]
    },
    {
     "name": "stdout",
     "output_type": "stream",
     "text": [
      "Saved 도시개발법 to 법령별 directory\n"
     ]
    },
    {
     "name": "stderr",
     "output_type": "stream",
     "text": [
      " 33%|███▎      | 544/1654 [10:54<26:30,  1.43s/it]"
     ]
    },
    {
     "name": "stdout",
     "output_type": "stream",
     "text": [
      "Saved 도시 공업지역의 관리 및 활성화에 관한 특별법 to 법령별 directory\n"
     ]
    },
    {
     "name": "stderr",
     "output_type": "stream",
     "text": [
      " 33%|███▎      | 545/1654 [10:55<26:23,  1.43s/it]"
     ]
    },
    {
     "name": "stdout",
     "output_type": "stream",
     "text": [
      "Saved 도시공원 및 녹지 등에 관한 법률 to 법령별 directory\n"
     ]
    },
    {
     "name": "stderr",
     "output_type": "stream",
     "text": [
      " 33%|███▎      | 546/1654 [10:57<26:11,  1.42s/it]"
     ]
    },
    {
     "name": "stdout",
     "output_type": "stream",
     "text": [
      "Saved 도시교통정비 촉진법 to 법령별 directory\n"
     ]
    },
    {
     "name": "stderr",
     "output_type": "stream",
     "text": [
      " 33%|███▎      | 547/1654 [10:58<23:26,  1.27s/it]"
     ]
    },
    {
     "name": "stdout",
     "output_type": "stream",
     "text": [
      "Saved 도시농업의 육성 및 지원에 관한 법률 to 법령별 directory\n"
     ]
    },
    {
     "name": "stderr",
     "output_type": "stream",
     "text": [
      " 33%|███▎      | 548/1654 [11:00<28:54,  1.57s/it]"
     ]
    },
    {
     "name": "stdout",
     "output_type": "stream",
     "text": [
      "Saved 도시 및 주거환경정비법 to 법령별 directory\n"
     ]
    },
    {
     "name": "stderr",
     "output_type": "stream",
     "text": [
      " 33%|███▎      | 549/1654 [11:01<25:56,  1.41s/it]"
     ]
    },
    {
     "name": "stdout",
     "output_type": "stream",
     "text": [
      "Saved 도시숲 등의 조성 및 관리에 관한 법률 to 법령별 directory\n"
     ]
    },
    {
     "name": "stderr",
     "output_type": "stream",
     "text": [
      " 33%|███▎      | 550/1654 [11:03<26:54,  1.46s/it]"
     ]
    },
    {
     "name": "stdout",
     "output_type": "stream",
     "text": [
      "Saved 도시와 농어촌 간의 교류촉진에 관한 법률 to 법령별 directory\n"
     ]
    },
    {
     "name": "stderr",
     "output_type": "stream",
     "text": [
      " 33%|███▎      | 551/1654 [11:04<26:20,  1.43s/it]"
     ]
    },
    {
     "name": "stdout",
     "output_type": "stream",
     "text": [
      "Saved 도시재생 활성화 및 지원에 관한 특별법 to 법령별 directory\n"
     ]
    },
    {
     "name": "stderr",
     "output_type": "stream",
     "text": [
      " 33%|███▎      | 552/1654 [11:05<25:29,  1.39s/it]"
     ]
    },
    {
     "name": "stdout",
     "output_type": "stream",
     "text": [
      "Saved 도시재정비 촉진을 위한 특별법 to 법령별 directory\n"
     ]
    },
    {
     "name": "stderr",
     "output_type": "stream",
     "text": [
      " 33%|███▎      | 553/1654 [11:07<25:18,  1.38s/it]"
     ]
    },
    {
     "name": "stdout",
     "output_type": "stream",
     "text": [
      "Saved 도시철도법 to 법령별 directory\n"
     ]
    },
    {
     "name": "stderr",
     "output_type": "stream",
     "text": [
      " 33%|███▎      | 554/1654 [11:07<22:24,  1.22s/it]"
     ]
    },
    {
     "name": "stdout",
     "output_type": "stream",
     "text": [
      "Saved 도시하천유역 침수피해방지대책법 to 법령별 directory\n"
     ]
    },
    {
     "name": "stderr",
     "output_type": "stream",
     "text": [
      " 34%|███▎      | 555/1654 [11:08<21:01,  1.15s/it]"
     ]
    },
    {
     "name": "stdout",
     "output_type": "stream",
     "text": [
      "Saved 도시형소공인 지원에 관한 특별법 to 법령별 directory\n"
     ]
    },
    {
     "name": "stderr",
     "output_type": "stream",
     "text": [
      " 34%|███▎      | 556/1654 [11:10<20:44,  1.13s/it]"
     ]
    },
    {
     "name": "stdout",
     "output_type": "stream",
     "text": [
      "Saved 도심융합특구 조성 및 육성에 관한 특별법 to 법령별 directory\n"
     ]
    },
    {
     "name": "stderr",
     "output_type": "stream",
     "text": [
      " 34%|███▎      | 557/1654 [11:11<20:11,  1.10s/it]"
     ]
    },
    {
     "name": "stdout",
     "output_type": "stream",
     "text": [
      "Saved 도심항공교통 활용 촉진 및 지원에 관한 법률 to 법령별 directory\n"
     ]
    },
    {
     "name": "stderr",
     "output_type": "stream",
     "text": [
      " 34%|███▎      | 558/1654 [11:12<20:39,  1.13s/it]"
     ]
    },
    {
     "name": "stdout",
     "output_type": "stream",
     "text": [
      "Saved 도청이전을 위한 도시건설 및 지원에 관한 특별법 to 법령별 directory\n"
     ]
    },
    {
     "name": "stderr",
     "output_type": "stream",
     "text": [
      " 34%|███▍      | 559/1654 [11:13<19:34,  1.07s/it]"
     ]
    },
    {
     "name": "stdout",
     "output_type": "stream",
     "text": [
      "Saved 독도 등 도서지역의 생태계 보전에 관한 특별법 to 법령별 directory\n"
     ]
    },
    {
     "name": "stderr",
     "output_type": "stream",
     "text": [
      " 34%|███▍      | 560/1654 [11:14<19:49,  1.09s/it]"
     ]
    },
    {
     "name": "stdout",
     "output_type": "stream",
     "text": [
      "Saved 독도의용수비대 지원법 to 법령별 directory\n"
     ]
    },
    {
     "name": "stderr",
     "output_type": "stream",
     "text": [
      " 34%|███▍      | 561/1654 [11:15<18:56,  1.04s/it]"
     ]
    },
    {
     "name": "stdout",
     "output_type": "stream",
     "text": [
      "Saved 독도의 지속가능한 이용에 관한 법률 to 법령별 directory\n"
     ]
    },
    {
     "name": "stderr",
     "output_type": "stream",
     "text": [
      " 34%|███▍      | 562/1654 [11:16<18:46,  1.03s/it]"
     ]
    },
    {
     "name": "stdout",
     "output_type": "stream",
     "text": [
      "Saved 독립공채상환에 관한 특별조치법 to 법령별 directory\n"
     ]
    },
    {
     "name": "stderr",
     "output_type": "stream",
     "text": [
      " 34%|███▍      | 563/1654 [11:17<18:53,  1.04s/it]"
     ]
    },
    {
     "name": "stdout",
     "output_type": "stream",
     "text": [
      "No data found for 독립기념관법\n"
     ]
    },
    {
     "name": "stderr",
     "output_type": "stream",
     "text": [
      " 34%|███▍      | 564/1654 [11:18<20:16,  1.12s/it]"
     ]
    },
    {
     "name": "stdout",
     "output_type": "stream",
     "text": [
      "No data found for 독립유공자예우에 관한 법률\n"
     ]
    },
    {
     "name": "stderr",
     "output_type": "stream",
     "text": [
      " 34%|███▍      | 565/1654 [11:19<19:24,  1.07s/it]"
     ]
    },
    {
     "name": "stdout",
     "output_type": "stream",
     "text": [
      "Saved 독서문화진흥법 to 법령별 directory\n"
     ]
    },
    {
     "name": "stderr",
     "output_type": "stream",
     "text": [
      " 34%|███▍      | 566/1654 [11:21<24:32,  1.35s/it]"
     ]
    },
    {
     "name": "stdout",
     "output_type": "stream",
     "text": [
      "Saved 독점규제 및 공정거래에 관한 법률 to 법령별 directory\n"
     ]
    },
    {
     "name": "stderr",
     "output_type": "stream",
     "text": [
      " 34%|███▍      | 567/1654 [11:22<23:57,  1.32s/it]"
     ]
    },
    {
     "name": "stdout",
     "output_type": "stream",
     "text": [
      "No data found for 독학에 의한 학위취득에 관한 법률\n"
     ]
    },
    {
     "name": "stderr",
     "output_type": "stream",
     "text": [
      " 34%|███▍      | 568/1654 [11:24<24:36,  1.36s/it]"
     ]
    },
    {
     "name": "stdout",
     "output_type": "stream",
     "text": [
      "Saved 동물보호법 to 법령별 directory\n"
     ]
    },
    {
     "name": "stderr",
     "output_type": "stream",
     "text": [
      " 34%|███▍      | 569/1654 [11:25<23:02,  1.27s/it]"
     ]
    },
    {
     "name": "stdout",
     "output_type": "stream",
     "text": [
      "Saved 동물원 및 수족관의 관리에 관한 법률 to 법령별 directory\n"
     ]
    },
    {
     "name": "stderr",
     "output_type": "stream",
     "text": [
      " 34%|███▍      | 570/1654 [11:26<20:32,  1.14s/it]"
     ]
    },
    {
     "name": "stdout",
     "output_type": "stream",
     "text": [
      "No data found for 동물위생시험소법\n"
     ]
    },
    {
     "name": "stderr",
     "output_type": "stream",
     "text": [
      " 35%|███▍      | 571/1654 [11:27<19:36,  1.09s/it]"
     ]
    },
    {
     "name": "stdout",
     "output_type": "stream",
     "text": [
      "No data found for 동북아역사재단 설립ㆍ운영에 관한 법률\n"
     ]
    },
    {
     "name": "stderr",
     "output_type": "stream",
     "text": [
      " 35%|███▍      | 572/1654 [11:28<20:42,  1.15s/it]"
     ]
    },
    {
     "name": "stdout",
     "output_type": "stream",
     "text": [
      "Saved 동산ㆍ채권 등의 담보에 관한 법률 to 법령별 directory\n"
     ]
    },
    {
     "name": "stderr",
     "output_type": "stream",
     "text": [
      " 35%|███▍      | 573/1654 [11:29<21:26,  1.19s/it]"
     ]
    },
    {
     "name": "stdout",
     "output_type": "stream",
     "text": [
      "Saved 동ㆍ서ㆍ남해안 및 내륙권 발전 특별법 to 법령별 directory\n"
     ]
    },
    {
     "name": "stderr",
     "output_type": "stream",
     "text": [
      " 35%|███▍      | 574/1654 [11:30<19:29,  1.08s/it]"
     ]
    },
    {
     "name": "stdout",
     "output_type": "stream",
     "text": [
      "Saved 동의대 사건 희생자의 명예회복 및 보상에 관한 법률 to 법령별 directory\n"
     ]
    },
    {
     "name": "stderr",
     "output_type": "stream",
     "text": [
      " 35%|███▍      | 575/1654 [11:31<18:14,  1.01s/it]"
     ]
    },
    {
     "name": "stdout",
     "output_type": "stream",
     "text": [
      "No data found for 동학농민혁명 참여자 등의 명예회복에 관한 특별법\n"
     ]
    },
    {
     "name": "stderr",
     "output_type": "stream",
     "text": [
      " 35%|███▍      | 576/1654 [11:32<18:28,  1.03s/it]"
     ]
    },
    {
     "name": "stdout",
     "output_type": "stream",
     "text": [
      "Saved 드론 활용의 촉진 및 기반조성에 관한 법률 to 법령별 directory\n"
     ]
    },
    {
     "name": "stderr",
     "output_type": "stream",
     "text": [
      " 35%|███▍      | 577/1654 [11:33<18:27,  1.03s/it]"
     ]
    },
    {
     "name": "stdout",
     "output_type": "stream",
     "text": [
      "No data found for 드루킹의 인터넷상 불법 댓글 조작 사건과 관련된 진상규명을 위한 특별검사의 임명 등에 관한 법률\n"
     ]
    },
    {
     "name": "stderr",
     "output_type": "stream",
     "text": [
      " 35%|███▍      | 578/1654 [11:34<17:54,  1.00it/s]"
     ]
    },
    {
     "name": "stdout",
     "output_type": "stream",
     "text": [
      "No data found for 등기특별회계법\n"
     ]
    },
    {
     "name": "stderr",
     "output_type": "stream",
     "text": [
      " 35%|███▌      | 579/1654 [11:35<18:21,  1.02s/it]"
     ]
    },
    {
     "name": "stdout",
     "output_type": "stream",
     "text": [
      "Saved 디엔에이신원확인정보의 이용 및 보호에 관한 법률 to 법령별 directory\n"
     ]
    },
    {
     "name": "stderr",
     "output_type": "stream",
     "text": [
      " 35%|███▌      | 580/1654 [11:37<23:15,  1.30s/it]"
     ]
    },
    {
     "name": "stdout",
     "output_type": "stream",
     "text": [
      "Saved 디자인보호법 to 법령별 directory\n"
     ]
    },
    {
     "name": "stderr",
     "output_type": "stream",
     "text": [
      " 35%|███▌      | 581/1654 [11:38<21:17,  1.19s/it]"
     ]
    },
    {
     "name": "stdout",
     "output_type": "stream",
     "text": [
      "Saved 디지털 기반의 원격교육 활성화 기본법 to 법령별 directory\n"
     ]
    },
    {
     "name": "stderr",
     "output_type": "stream",
     "text": [
      " 35%|███▌      | 582/1654 [11:39<21:08,  1.18s/it]"
     ]
    },
    {
     "name": "stdout",
     "output_type": "stream",
     "text": [
      "Saved 마리나항만의 조성 및 관리 등에 관한 법률 to 법령별 directory\n"
     ]
    },
    {
     "name": "stderr",
     "output_type": "stream",
     "text": [
      " 35%|███▌      | 583/1654 [11:41<22:54,  1.28s/it]"
     ]
    },
    {
     "name": "stdout",
     "output_type": "stream",
     "text": [
      "Saved 마약류 관리에 관한 법률 to 법령별 directory\n"
     ]
    },
    {
     "name": "stderr",
     "output_type": "stream",
     "text": [
      " 35%|███▌      | 584/1654 [11:42<23:39,  1.33s/it]"
     ]
    },
    {
     "name": "stdout",
     "output_type": "stream",
     "text": [
      "Saved 마약류 불법거래 방지에 관한 특례법 to 법령별 directory\n"
     ]
    },
    {
     "name": "stderr",
     "output_type": "stream",
     "text": [
      " 35%|███▌      | 585/1654 [11:43<21:11,  1.19s/it]"
     ]
    },
    {
     "name": "stdout",
     "output_type": "stream",
     "text": [
      "Saved 만화진흥에 관한 법률 to 법령별 directory\n"
     ]
    },
    {
     "name": "stderr",
     "output_type": "stream",
     "text": [
      " 35%|███▌      | 586/1654 [11:44<19:57,  1.12s/it]"
     ]
    },
    {
     "name": "stdout",
     "output_type": "stream",
     "text": [
      "Saved 말산업 육성법 to 법령별 directory\n"
     ]
    },
    {
     "name": "stderr",
     "output_type": "stream",
     "text": [
      " 35%|███▌      | 587/1654 [11:45<19:10,  1.08s/it]"
     ]
    },
    {
     "name": "stdout",
     "output_type": "stream",
     "text": [
      "Saved 매장유산 보호 및 조사에 관한 법률 to 법령별 directory\n"
     ]
    },
    {
     "name": "stderr",
     "output_type": "stream",
     "text": [
      " 36%|███▌      | 588/1654 [11:46<21:31,  1.21s/it]"
     ]
    },
    {
     "name": "stdout",
     "output_type": "stream",
     "text": [
      "Saved 먹는물관리법 to 법령별 directory\n"
     ]
    },
    {
     "name": "stderr",
     "output_type": "stream",
     "text": [
      " 36%|███▌      | 589/1654 [11:47<20:00,  1.13s/it]"
     ]
    },
    {
     "name": "stdout",
     "output_type": "stream",
     "text": [
      "Saved 모빌리티 혁신 및 활성화 지원에 관한 법률 to 법령별 directory\n"
     ]
    },
    {
     "name": "stderr",
     "output_type": "stream",
     "text": [
      " 36%|███▌      | 590/1654 [11:49<20:27,  1.15s/it]"
     ]
    },
    {
     "name": "stdout",
     "output_type": "stream",
     "text": [
      "Saved 모자보건법 to 법령별 directory\n"
     ]
    },
    {
     "name": "stderr",
     "output_type": "stream",
     "text": [
      " 36%|███▌      | 591/1654 [11:50<21:12,  1.20s/it]"
     ]
    },
    {
     "name": "stdout",
     "output_type": "stream",
     "text": [
      "Saved 목재의 지속가능한 이용에 관한 법률 to 법령별 directory\n"
     ]
    },
    {
     "name": "stderr",
     "output_type": "stream",
     "text": [
      " 36%|███▌      | 592/1654 [11:51<19:17,  1.09s/it]"
     ]
    },
    {
     "name": "stdout",
     "output_type": "stream",
     "text": [
      "No data found for 몰수금품 등 처리에 관한 임시특례법\n"
     ]
    },
    {
     "name": "stderr",
     "output_type": "stream",
     "text": [
      " 36%|███▌      | 593/1654 [11:52<18:38,  1.05s/it]"
     ]
    },
    {
     "name": "stdout",
     "output_type": "stream",
     "text": [
      "Saved 무역거래기반 조성에 관한 법률 to 법령별 directory\n"
     ]
    },
    {
     "name": "stderr",
     "output_type": "stream",
     "text": [
      " 36%|███▌      | 594/1654 [11:53<21:49,  1.24s/it]"
     ]
    },
    {
     "name": "stdout",
     "output_type": "stream",
     "text": [
      "Saved 무역보험법 to 법령별 directory\n"
     ]
    },
    {
     "name": "stderr",
     "output_type": "stream",
     "text": [
      " 36%|███▌      | 595/1654 [11:54<20:13,  1.15s/it]"
     ]
    },
    {
     "name": "stdout",
     "output_type": "stream",
     "text": [
      "Saved 무역조정 지원 등에 관한 법률 to 법령별 directory\n"
     ]
    },
    {
     "name": "stderr",
     "output_type": "stream",
     "text": [
      " 36%|███▌      | 596/1654 [11:56<21:36,  1.23s/it]"
     ]
    },
    {
     "name": "stdout",
     "output_type": "stream",
     "text": [
      "Saved 무인도서의 보전 및 관리에 관한 법률 to 법령별 directory\n"
     ]
    },
    {
     "name": "stderr",
     "output_type": "stream",
     "text": [
      " 36%|███▌      | 597/1654 [11:57<21:22,  1.21s/it]"
     ]
    },
    {
     "name": "stdout",
     "output_type": "stream",
     "text": [
      "Saved 무형유산의 보전 및 진흥에 관한 법률 to 법령별 directory\n"
     ]
    },
    {
     "name": "stderr",
     "output_type": "stream",
     "text": [
      " 36%|███▌      | 598/1654 [11:58<20:01,  1.14s/it]"
     ]
    },
    {
     "name": "stdout",
     "output_type": "stream",
     "text": [
      "Saved 문학진흥법 to 법령별 directory\n"
     ]
    },
    {
     "name": "stderr",
     "output_type": "stream",
     "text": [
      " 36%|███▌      | 599/1654 [11:59<18:49,  1.07s/it]"
     ]
    },
    {
     "name": "stdout",
     "output_type": "stream",
     "text": [
      "Saved 문화기본법 to 법령별 directory\n"
     ]
    },
    {
     "name": "stderr",
     "output_type": "stream",
     "text": [
      " 36%|███▋      | 600/1654 [12:00<17:39,  1.00s/it]"
     ]
    },
    {
     "name": "stdout",
     "output_type": "stream",
     "text": [
      "Saved 문화다양성의 보호와 증진에 관한 법률 to 법령별 directory\n"
     ]
    },
    {
     "name": "stderr",
     "output_type": "stream",
     "text": [
      " 36%|███▋      | 601/1654 [12:01<20:35,  1.17s/it]"
     ]
    },
    {
     "name": "stdout",
     "output_type": "stream",
     "text": [
      "Saved 문화산업진흥 기본법 to 법령별 directory\n"
     ]
    },
    {
     "name": "stderr",
     "output_type": "stream",
     "text": [
      " 36%|███▋      | 602/1654 [12:02<20:17,  1.16s/it]"
     ]
    },
    {
     "name": "stdout",
     "output_type": "stream",
     "text": [
      "Saved 문화예술교육 지원법 to 법령별 directory\n"
     ]
    },
    {
     "name": "stderr",
     "output_type": "stream",
     "text": [
      " 36%|███▋      | 603/1654 [12:03<20:05,  1.15s/it]"
     ]
    },
    {
     "name": "stdout",
     "output_type": "stream",
     "text": [
      "Saved 문화예술진흥법 to 법령별 directory\n"
     ]
    },
    {
     "name": "stderr",
     "output_type": "stream",
     "text": [
      " 37%|███▋      | 604/1654 [12:04<19:09,  1.09s/it]"
     ]
    },
    {
     "name": "stdout",
     "output_type": "stream",
     "text": [
      "Saved 문화예술후원 활성화에 관한 법률 to 법령별 directory\n"
     ]
    },
    {
     "name": "stderr",
     "output_type": "stream",
     "text": [
      " 37%|███▋      | 605/1654 [12:05<19:01,  1.09s/it]"
     ]
    },
    {
     "name": "stdout",
     "output_type": "stream",
     "text": [
      "Saved 문화유산과 자연환경자산에 관한 국민신탁법 to 법령별 directory\n"
     ]
    },
    {
     "name": "stderr",
     "output_type": "stream",
     "text": [
      " 37%|███▋      | 606/1654 [12:07<23:50,  1.37s/it]"
     ]
    },
    {
     "name": "stdout",
     "output_type": "stream",
     "text": [
      "Saved 문화유산의 보존 및 활용에 관한 법률 to 법령별 directory\n"
     ]
    },
    {
     "name": "stderr",
     "output_type": "stream",
     "text": [
      " 37%|███▋      | 607/1654 [12:08<21:57,  1.26s/it]"
     ]
    },
    {
     "name": "stdout",
     "output_type": "stream",
     "text": [
      "No data found for 물가안정에 관한 법률\n"
     ]
    },
    {
     "name": "stderr",
     "output_type": "stream",
     "text": [
      " 37%|███▋      | 608/1654 [12:09<20:57,  1.20s/it]"
     ]
    },
    {
     "name": "stdout",
     "output_type": "stream",
     "text": [
      "Saved 물관리기본법 to 법령별 directory\n"
     ]
    },
    {
     "name": "stderr",
     "output_type": "stream",
     "text": [
      " 37%|███▋      | 609/1654 [12:10<19:51,  1.14s/it]"
     ]
    },
    {
     "name": "stdout",
     "output_type": "stream",
     "text": [
      "Saved 물관리기술 발전 및 물산업 진흥에 관한 법률 to 법령별 directory\n"
     ]
    },
    {
     "name": "stderr",
     "output_type": "stream",
     "text": [
      " 37%|███▋      | 610/1654 [12:12<23:22,  1.34s/it]"
     ]
    },
    {
     "name": "stdout",
     "output_type": "stream",
     "text": [
      "Saved 물류시설의 개발 및 운영에 관한 법률 to 법령별 directory\n"
     ]
    },
    {
     "name": "stderr",
     "output_type": "stream",
     "text": [
      " 37%|███▋      | 611/1654 [12:14<23:41,  1.36s/it]"
     ]
    },
    {
     "name": "stdout",
     "output_type": "stream",
     "text": [
      "Saved 물류정책기본법 to 법령별 directory\n"
     ]
    },
    {
     "name": "stderr",
     "output_type": "stream",
     "text": [
      " 37%|███▋      | 612/1654 [12:15<21:52,  1.26s/it]"
     ]
    },
    {
     "name": "stdout",
     "output_type": "stream",
     "text": [
      "Saved 물의 재이용 촉진 및 지원에 관한 법률 to 법령별 directory\n"
     ]
    },
    {
     "name": "stderr",
     "output_type": "stream",
     "text": [
      " 37%|███▋      | 613/1654 [12:16<21:28,  1.24s/it]"
     ]
    },
    {
     "name": "stdout",
     "output_type": "stream",
     "text": [
      "Saved 물품관리법 to 법령별 directory\n"
     ]
    },
    {
     "name": "stderr",
     "output_type": "stream",
     "text": [
      " 37%|███▋      | 614/1654 [12:17<19:47,  1.14s/it]"
     ]
    },
    {
     "name": "stdout",
     "output_type": "stream",
     "text": [
      "Saved 물품목록정보의 관리 및 이용에 관한 법률 to 법령별 directory\n"
     ]
    },
    {
     "name": "stderr",
     "output_type": "stream",
     "text": [
      " 37%|███▋      | 615/1654 [12:19<23:43,  1.37s/it]"
     ]
    },
    {
     "name": "stdout",
     "output_type": "stream",
     "text": [
      "Saved 물환경보전법 to 법령별 directory\n"
     ]
    },
    {
     "name": "stderr",
     "output_type": "stream",
     "text": [
      " 37%|███▋      | 616/1654 [12:20<21:58,  1.27s/it]"
     ]
    },
    {
     "name": "stdout",
     "output_type": "stream",
     "text": [
      "Saved 미래자동차 부품산업의 전환촉진 및 생태계 육성에 관한 특별법 to 법령별 directory\n"
     ]
    },
    {
     "name": "stderr",
     "output_type": "stream",
     "text": [
      " 37%|███▋      | 617/1654 [12:21<20:18,  1.18s/it]"
     ]
    },
    {
     "name": "stdout",
     "output_type": "stream",
     "text": [
      "Saved 미세먼지 저감 및 관리에 관한 특별법 to 법령별 directory\n"
     ]
    },
    {
     "name": "stderr",
     "output_type": "stream",
     "text": [
      " 37%|███▋      | 618/1654 [12:22<21:24,  1.24s/it]"
     ]
    },
    {
     "name": "stdout",
     "output_type": "stream",
     "text": [
      "Saved 미술진흥법 to 법령별 directory\n"
     ]
    },
    {
     "name": "stderr",
     "output_type": "stream",
     "text": [
      " 37%|███▋      | 619/1654 [12:23<21:01,  1.22s/it]"
     ]
    },
    {
     "name": "stdout",
     "output_type": "stream",
     "text": [
      "Saved 민간인 통제선 이북지역의 산지관리에 관한 특별법 to 법령별 directory\n"
     ]
    },
    {
     "name": "stderr",
     "output_type": "stream",
     "text": [
      " 37%|███▋      | 620/1654 [12:25<23:06,  1.34s/it]"
     ]
    },
    {
     "name": "stdout",
     "output_type": "stream",
     "text": [
      "Saved 민간임대주택에 관한 특별법 to 법령별 directory\n"
     ]
    },
    {
     "name": "stderr",
     "output_type": "stream",
     "text": [
      " 38%|███▊      | 621/1654 [12:26<21:40,  1.26s/it]"
     ]
    },
    {
     "name": "stdout",
     "output_type": "stream",
     "text": [
      "Saved 민ㆍ군기술협력사업 촉진법 to 법령별 directory\n"
     ]
    },
    {
     "name": "stderr",
     "output_type": "stream",
     "text": [
      " 38%|███▊      | 622/1654 [12:27<20:28,  1.19s/it]"
     ]
    },
    {
     "name": "stdout",
     "output_type": "stream",
     "text": [
      "Saved 민방위기본법 to 법령별 directory\n"
     ]
    },
    {
     "name": "stderr",
     "output_type": "stream",
     "text": [
      " 38%|███▊      | 623/1654 [12:33<43:33,  2.54s/it]"
     ]
    },
    {
     "name": "stdout",
     "output_type": "stream",
     "text": [
      "No data found for 민법\n"
     ]
    },
    {
     "name": "stderr",
     "output_type": "stream",
     "text": [
      " 38%|███▊      | 624/1654 [12:33<34:25,  2.01s/it]"
     ]
    },
    {
     "name": "stdout",
     "output_type": "stream",
     "text": [
      "Saved 민사소송 등에서의 전자문서 이용 등에 관한 법률 to 법령별 directory\n"
     ]
    },
    {
     "name": "stderr",
     "output_type": "stream",
     "text": [
      " 38%|███▊      | 625/1654 [12:34<28:36,  1.67s/it]"
     ]
    },
    {
     "name": "stdout",
     "output_type": "stream",
     "text": [
      "No data found for 민사소송 등 인지법\n"
     ]
    },
    {
     "name": "stderr",
     "output_type": "stream",
     "text": [
      " 38%|███▊      | 626/1654 [12:38<38:12,  2.23s/it]"
     ]
    },
    {
     "name": "stdout",
     "output_type": "stream",
     "text": [
      "No data found for 민사소송법\n"
     ]
    },
    {
     "name": "stderr",
     "output_type": "stream",
     "text": [
      " 38%|███▊      | 627/1654 [12:39<30:51,  1.80s/it]"
     ]
    },
    {
     "name": "stdout",
     "output_type": "stream",
     "text": [
      "No data found for 민사소송비용법\n"
     ]
    },
    {
     "name": "stderr",
     "output_type": "stream",
     "text": [
      " 38%|███▊      | 628/1654 [12:40<27:04,  1.58s/it]"
     ]
    },
    {
     "name": "stdout",
     "output_type": "stream",
     "text": [
      "No data found for 민사조정법\n"
     ]
    },
    {
     "name": "stderr",
     "output_type": "stream",
     "text": [
      " 38%|███▊      | 629/1654 [12:42<29:28,  1.73s/it]"
     ]
    },
    {
     "name": "stdout",
     "output_type": "stream",
     "text": [
      "No data found for 민사집행법\n"
     ]
    },
    {
     "name": "stderr",
     "output_type": "stream",
     "text": [
      " 38%|███▊      | 630/1654 [12:43<25:53,  1.52s/it]"
     ]
    },
    {
     "name": "stdout",
     "output_type": "stream",
     "text": [
      "Saved 민영교도소 등의 설치ㆍ운영에 관한 법률 to 법령별 directory\n"
     ]
    },
    {
     "name": "stderr",
     "output_type": "stream",
     "text": [
      " 38%|███▊      | 631/1654 [12:44<23:37,  1.39s/it]"
     ]
    },
    {
     "name": "stdout",
     "output_type": "stream",
     "text": [
      "Saved 민원 처리에 관한 법률 to 법령별 directory\n"
     ]
    },
    {
     "name": "stderr",
     "output_type": "stream",
     "text": [
      " 38%|███▊      | 632/1654 [12:45<21:37,  1.27s/it]"
     ]
    },
    {
     "name": "stdout",
     "output_type": "stream",
     "text": [
      "No data found for 민주평화통일자문회의법\n"
     ]
    },
    {
     "name": "stderr",
     "output_type": "stream",
     "text": [
      " 38%|███▊      | 633/1654 [12:46<19:55,  1.17s/it]"
     ]
    },
    {
     "name": "stdout",
     "output_type": "stream",
     "text": [
      "Saved 민주화운동 관련자 명예회복 및 보상 등에 관한 법률 to 법령별 directory\n"
     ]
    },
    {
     "name": "stderr",
     "output_type": "stream",
     "text": [
      " 38%|███▊      | 634/1654 [12:47<18:28,  1.09s/it]"
     ]
    },
    {
     "name": "stdout",
     "output_type": "stream",
     "text": [
      "Saved 민주화운동기념사업회법 to 법령별 directory\n"
     ]
    },
    {
     "name": "stderr",
     "output_type": "stream",
     "text": [
      " 38%|███▊      | 635/1654 [12:48<18:00,  1.06s/it]"
     ]
    },
    {
     "name": "stdout",
     "output_type": "stream",
     "text": [
      "Saved 밀산업 육성법 to 법령별 directory\n"
     ]
    },
    {
     "name": "stderr",
     "output_type": "stream",
     "text": [
      " 38%|███▊      | 636/1654 [12:49<17:42,  1.04s/it]"
     ]
    },
    {
     "name": "stdout",
     "output_type": "stream",
     "text": [
      "Saved 밀항단속법 to 법령별 directory\n"
     ]
    },
    {
     "name": "stderr",
     "output_type": "stream",
     "text": [
      " 39%|███▊      | 637/1654 [12:50<16:55,  1.00it/s]"
     ]
    },
    {
     "name": "stdout",
     "output_type": "stream",
     "text": [
      "Saved 바둑 진흥법 to 법령별 directory\n"
     ]
    },
    {
     "name": "stderr",
     "output_type": "stream",
     "text": [
      " 39%|███▊      | 638/1654 [12:50<15:58,  1.06it/s]"
     ]
    },
    {
     "name": "stdout",
     "output_type": "stream",
     "text": [
      "Saved 바르게살기운동조직 육성법 to 법령별 directory\n"
     ]
    },
    {
     "name": "stderr",
     "output_type": "stream",
     "text": [
      " 39%|███▊      | 639/1654 [12:52<16:25,  1.03it/s]"
     ]
    },
    {
     "name": "stdout",
     "output_type": "stream",
     "text": [
      "No data found for 박근혜 정부의 최순실 등 민간인에 의한 국정농단 의혹 사건 규명을 위한 특별검사의 임명 등에 관한 법률\n"
     ]
    },
    {
     "name": "stderr",
     "output_type": "stream",
     "text": [
      " 39%|███▊      | 640/1654 [12:52<16:27,  1.03it/s]"
     ]
    },
    {
     "name": "stdout",
     "output_type": "stream",
     "text": [
      "Saved 박물관 및 미술관 진흥법 to 법령별 directory\n"
     ]
    },
    {
     "name": "stderr",
     "output_type": "stream",
     "text": [
      " 39%|███▉      | 641/1654 [12:54<16:47,  1.01it/s]"
     ]
    },
    {
     "name": "stdout",
     "output_type": "stream",
     "text": [
      "Saved 반도체집적회로의 배치설계에 관한 법률 to 법령별 directory\n"
     ]
    },
    {
     "name": "stderr",
     "output_type": "stream",
     "text": [
      " 39%|███▉      | 642/1654 [12:55<18:21,  1.09s/it]"
     ]
    },
    {
     "name": "stdout",
     "output_type": "stream",
     "text": [
      "Saved 발달장애인 권리보장 및 지원에 관한 법률 to 법령별 directory\n"
     ]
    },
    {
     "name": "stderr",
     "output_type": "stream",
     "text": [
      " 39%|███▉      | 643/1654 [12:56<17:06,  1.02s/it]"
     ]
    },
    {
     "name": "stdout",
     "output_type": "stream",
     "text": [
      "Saved 발명교육의 활성화 및 지원에 관한 법률 to 법령별 directory\n"
     ]
    },
    {
     "name": "stderr",
     "output_type": "stream",
     "text": [
      " 39%|███▉      | 644/1654 [12:57<19:19,  1.15s/it]"
     ]
    },
    {
     "name": "stdout",
     "output_type": "stream",
     "text": [
      "Saved 발명진흥법 to 법령별 directory\n"
     ]
    },
    {
     "name": "stderr",
     "output_type": "stream",
     "text": [
      " 39%|███▉      | 645/1654 [12:58<18:27,  1.10s/it]"
     ]
    },
    {
     "name": "stdout",
     "output_type": "stream",
     "text": [
      "Saved 발전소주변지역 지원에 관한 법률 to 법령별 directory\n"
     ]
    },
    {
     "name": "stderr",
     "output_type": "stream",
     "text": [
      " 39%|███▉      | 646/1654 [12:59<19:39,  1.17s/it]"
     ]
    },
    {
     "name": "stdout",
     "output_type": "stream",
     "text": [
      "Saved 방문판매 등에 관한 법률 to 법령별 directory\n"
     ]
    },
    {
     "name": "stderr",
     "output_type": "stream",
     "text": [
      " 39%|███▉      | 647/1654 [13:01<19:19,  1.15s/it]"
     ]
    },
    {
     "name": "stdout",
     "output_type": "stream",
     "text": [
      "Saved 방사선 및 방사성동위원소 이용진흥법 to 법령별 directory\n"
     ]
    },
    {
     "name": "stderr",
     "output_type": "stream",
     "text": [
      " 39%|███▉      | 648/1654 [13:02<19:52,  1.19s/it]"
     ]
    },
    {
     "name": "stdout",
     "output_type": "stream",
     "text": [
      "Saved 방사성폐기물 관리법 to 법령별 directory\n"
     ]
    },
    {
     "name": "stderr",
     "output_type": "stream",
     "text": [
      " 39%|███▉      | 649/1654 [13:03<19:07,  1.14s/it]"
     ]
    },
    {
     "name": "stdout",
     "output_type": "stream",
     "text": [
      "Saved 방송광고판매대행 등에 관한 법률 to 법령별 directory\n"
     ]
    },
    {
     "name": "stderr",
     "output_type": "stream",
     "text": [
      " 39%|███▉      | 650/1654 [13:04<17:45,  1.06s/it]"
     ]
    },
    {
     "name": "stdout",
     "output_type": "stream",
     "text": [
      "No data found for 방송문화진흥회법\n"
     ]
    },
    {
     "name": "stderr",
     "output_type": "stream",
     "text": [
      " 39%|███▉      | 651/1654 [13:06<21:25,  1.28s/it]"
     ]
    },
    {
     "name": "stdout",
     "output_type": "stream",
     "text": [
      "Saved 방송법 to 법령별 directory\n"
     ]
    },
    {
     "name": "stderr",
     "output_type": "stream",
     "text": [
      " 39%|███▉      | 652/1654 [13:07<22:35,  1.35s/it]"
     ]
    },
    {
     "name": "stdout",
     "output_type": "stream",
     "text": [
      "Saved 방송통신발전 기본법 to 법령별 directory\n"
     ]
    },
    {
     "name": "stderr",
     "output_type": "stream",
     "text": [
      " 39%|███▉      | 653/1654 [13:08<21:10,  1.27s/it]"
     ]
    },
    {
     "name": "stdout",
     "output_type": "stream",
     "text": [
      "No data found for 방송통신위원회의 설치 및 운영에 관한 법률\n"
     ]
    },
    {
     "name": "stderr",
     "output_type": "stream",
     "text": [
      " 40%|███▉      | 654/1654 [13:09<18:55,  1.14s/it]"
     ]
    },
    {
     "name": "stdout",
     "output_type": "stream",
     "text": [
      "No data found for 방어해면법\n"
     ]
    },
    {
     "name": "stderr",
     "output_type": "stream",
     "text": [
      " 40%|███▉      | 655/1654 [13:11<21:31,  1.29s/it]"
     ]
    },
    {
     "name": "stdout",
     "output_type": "stream",
     "text": [
      "Saved 방위사업법 to 법령별 directory\n"
     ]
    },
    {
     "name": "stderr",
     "output_type": "stream",
     "text": [
      " 40%|███▉      | 656/1654 [13:12<20:15,  1.22s/it]"
     ]
    },
    {
     "name": "stdout",
     "output_type": "stream",
     "text": [
      "Saved 방위산업기술 보호법 to 법령별 directory\n"
     ]
    },
    {
     "name": "stderr",
     "output_type": "stream",
     "text": [
      " 40%|███▉      | 657/1654 [13:13<19:33,  1.18s/it]"
     ]
    },
    {
     "name": "stdout",
     "output_type": "stream",
     "text": [
      "Saved 방위산업 발전 및 지원에 관한 법률 to 법령별 directory\n"
     ]
    },
    {
     "name": "stderr",
     "output_type": "stream",
     "text": [
      " 40%|███▉      | 658/1654 [13:14<18:27,  1.11s/it]"
     ]
    },
    {
     "name": "stdout",
     "output_type": "stream",
     "text": [
      "Saved 방조제 관리법 to 법령별 directory\n"
     ]
    },
    {
     "name": "stderr",
     "output_type": "stream",
     "text": [
      " 40%|███▉      | 659/1654 [13:14<16:51,  1.02s/it]"
     ]
    },
    {
     "name": "stdout",
     "output_type": "stream",
     "text": [
      "No data found for 배타적 경제수역 및 대륙붕에 관한 법률\n"
     ]
    },
    {
     "name": "stderr",
     "output_type": "stream",
     "text": [
      " 40%|███▉      | 660/1654 [13:15<16:30,  1.00it/s]"
     ]
    },
    {
     "name": "stdout",
     "output_type": "stream",
     "text": [
      "Saved 배타적 경제수역에서의 외국인어업 등에 대한 주권적 권리의 행사에 관한 법률 to 법령별 directory\n"
     ]
    },
    {
     "name": "stderr",
     "output_type": "stream",
     "text": [
      " 40%|███▉      | 661/1654 [13:16<15:47,  1.05it/s]"
     ]
    },
    {
     "name": "stdout",
     "output_type": "stream",
     "text": [
      "Saved 백두대간 보호에 관한 법률 to 법령별 directory\n"
     ]
    },
    {
     "name": "stderr",
     "output_type": "stream",
     "text": [
      " 40%|████      | 662/1654 [13:17<16:58,  1.03s/it]"
     ]
    },
    {
     "name": "stdout",
     "output_type": "stream",
     "text": [
      "No data found for 벌금 등 임시조치법\n"
     ]
    },
    {
     "name": "stderr",
     "output_type": "stream",
     "text": [
      " 40%|████      | 663/1654 [13:18<16:13,  1.02it/s]"
     ]
    },
    {
     "name": "stdout",
     "output_type": "stream",
     "text": [
      "No data found for 벌금 미납자의 사회봉사 집행에 관한 특례법\n"
     ]
    },
    {
     "name": "stderr",
     "output_type": "stream",
     "text": [
      " 40%|████      | 664/1654 [13:19<15:51,  1.04it/s]"
     ]
    },
    {
     "name": "stdout",
     "output_type": "stream",
     "text": [
      "Saved 범죄수익은닉의 규제 및 처벌 등에 관한 법률 to 법령별 directory\n"
     ]
    },
    {
     "name": "stderr",
     "output_type": "stream",
     "text": [
      " 40%|████      | 665/1654 [13:20<16:45,  1.02s/it]"
     ]
    },
    {
     "name": "stdout",
     "output_type": "stream",
     "text": [
      "Saved 범죄인 인도법 to 법령별 directory\n"
     ]
    },
    {
     "name": "stderr",
     "output_type": "stream",
     "text": [
      " 40%|████      | 666/1654 [13:21<16:08,  1.02it/s]"
     ]
    },
    {
     "name": "stdout",
     "output_type": "stream",
     "text": [
      "Saved 범죄피해자보호기금법 to 법령별 directory\n"
     ]
    },
    {
     "name": "stderr",
     "output_type": "stream",
     "text": [
      " 40%|████      | 667/1654 [13:22<16:16,  1.01it/s]"
     ]
    },
    {
     "name": "stdout",
     "output_type": "stream",
     "text": [
      "Saved 범죄피해자 보호법 to 법령별 directory\n"
     ]
    },
    {
     "name": "stderr",
     "output_type": "stream",
     "text": [
      " 40%|████      | 668/1654 [13:23<15:34,  1.06it/s]"
     ]
    },
    {
     "name": "stdout",
     "output_type": "stream",
     "text": [
      "No data found for 법관의 보수에 관한 법률\n"
     ]
    },
    {
     "name": "stderr",
     "output_type": "stream",
     "text": [
      " 40%|████      | 669/1654 [13:24<16:12,  1.01it/s]"
     ]
    },
    {
     "name": "stdout",
     "output_type": "stream",
     "text": [
      "No data found for 법관징계법\n"
     ]
    },
    {
     "name": "stderr",
     "output_type": "stream",
     "text": [
      " 41%|████      | 670/1654 [13:25<15:12,  1.08it/s]"
     ]
    },
    {
     "name": "stdout",
     "output_type": "stream",
     "text": [
      "No data found for 법교육지원법\n"
     ]
    },
    {
     "name": "stderr",
     "output_type": "stream",
     "text": [
      " 41%|████      | 671/1654 [13:26<15:45,  1.04it/s]"
     ]
    },
    {
     "name": "stdout",
     "output_type": "stream",
     "text": [
      "No data found for 법령 등 공포에 관한 법률\n"
     ]
    },
    {
     "name": "stderr",
     "output_type": "stream",
     "text": [
      " 41%|████      | 672/1654 [13:27<15:38,  1.05it/s]"
     ]
    },
    {
     "name": "stdout",
     "output_type": "stream",
     "text": [
      "Saved 법령정보의 관리 및 제공에 관한 법률 to 법령별 directory\n"
     ]
    },
    {
     "name": "stderr",
     "output_type": "stream",
     "text": [
      " 41%|████      | 673/1654 [13:28<16:19,  1.00it/s]"
     ]
    },
    {
     "name": "stdout",
     "output_type": "stream",
     "text": [
      "Saved 법률구조법 to 법령별 directory\n"
     ]
    },
    {
     "name": "stderr",
     "output_type": "stream",
     "text": [
      " 41%|████      | 674/1654 [13:29<17:37,  1.08s/it]"
     ]
    },
    {
     "name": "stdout",
     "output_type": "stream",
     "text": [
      "No data found for 법무사법\n"
     ]
    },
    {
     "name": "stderr",
     "output_type": "stream",
     "text": [
      " 41%|████      | 675/1654 [13:30<15:58,  1.02it/s]"
     ]
    },
    {
     "name": "stdout",
     "output_type": "stream",
     "text": [
      "No data found for 법원재난에 기인한 민형사사건 임시조치법\n"
     ]
    },
    {
     "name": "stderr",
     "output_type": "stream",
     "text": [
      " 41%|████      | 676/1654 [13:32<18:50,  1.16s/it]"
     ]
    },
    {
     "name": "stdout",
     "output_type": "stream",
     "text": [
      "No data found for 법원조직법\n"
     ]
    },
    {
     "name": "stderr",
     "output_type": "stream",
     "text": [
      " 41%|████      | 677/1654 [13:35<26:47,  1.65s/it]"
     ]
    },
    {
     "name": "stdout",
     "output_type": "stream",
     "text": [
      "Saved 법인세법 to 법령별 directory\n"
     ]
    },
    {
     "name": "stderr",
     "output_type": "stream",
     "text": [
      " 41%|████      | 678/1654 [13:35<22:30,  1.38s/it]"
     ]
    },
    {
     "name": "stdout",
     "output_type": "stream",
     "text": [
      "No data found for 법인의 등기사항에 관한 특례법\n"
     ]
    },
    {
     "name": "stderr",
     "output_type": "stream",
     "text": [
      " 41%|████      | 679/1654 [13:36<21:02,  1.29s/it]"
     ]
    },
    {
     "name": "stdout",
     "output_type": "stream",
     "text": [
      "No data found for 법학전문대학원 설치ㆍ운영에 관한 법률\n"
     ]
    },
    {
     "name": "stderr",
     "output_type": "stream",
     "text": [
      " 41%|████      | 680/1654 [13:38<22:42,  1.40s/it]"
     ]
    },
    {
     "name": "stdout",
     "output_type": "stream",
     "text": [
      "Saved 벤처기업육성에 관한 특별법 to 법령별 directory\n"
     ]
    },
    {
     "name": "stderr",
     "output_type": "stream",
     "text": [
      " 41%|████      | 681/1654 [13:39<23:05,  1.42s/it]"
     ]
    },
    {
     "name": "stdout",
     "output_type": "stream",
     "text": [
      "Saved 벤처투자 촉진에 관한 법률 to 법령별 directory\n"
     ]
    },
    {
     "name": "stderr",
     "output_type": "stream",
     "text": [
      " 41%|████      | 682/1654 [13:41<22:04,  1.36s/it]"
     ]
    },
    {
     "name": "stdout",
     "output_type": "stream",
     "text": [
      "No data found for 변리사법\n"
     ]
    },
    {
     "name": "stderr",
     "output_type": "stream",
     "text": [
      " 41%|████▏     | 683/1654 [13:42<23:47,  1.47s/it]"
     ]
    },
    {
     "name": "stdout",
     "output_type": "stream",
     "text": [
      "No data found for 변호사법\n"
     ]
    },
    {
     "name": "stderr",
     "output_type": "stream",
     "text": [
      " 41%|████▏     | 684/1654 [13:43<21:32,  1.33s/it]"
     ]
    },
    {
     "name": "stdout",
     "output_type": "stream",
     "text": [
      "No data found for 변호사시험법\n"
     ]
    },
    {
     "name": "stderr",
     "output_type": "stream",
     "text": [
      " 41%|████▏     | 685/1654 [13:45<21:20,  1.32s/it]"
     ]
    },
    {
     "name": "stdout",
     "output_type": "stream",
     "text": [
      "Saved 별정우체국법 to 법령별 directory\n"
     ]
    },
    {
     "name": "stderr",
     "output_type": "stream",
     "text": [
      " 41%|████▏     | 686/1654 [13:47<27:16,  1.69s/it]"
     ]
    },
    {
     "name": "stdout",
     "output_type": "stream",
     "text": [
      "No data found for 병역법\n"
     ]
    },
    {
     "name": "stderr",
     "output_type": "stream",
     "text": [
      " 42%|████▏     | 687/1654 [13:48<23:44,  1.47s/it]"
     ]
    },
    {
     "name": "stdout",
     "output_type": "stream",
     "text": [
      "Saved 병원체자원의 수집ㆍ관리 및 활용 촉진에 관한 법률 to 법령별 directory\n"
     ]
    },
    {
     "name": "stderr",
     "output_type": "stream",
     "text": [
      " 42%|████▏     | 688/1654 [13:49<20:44,  1.29s/it]"
     ]
    },
    {
     "name": "stdout",
     "output_type": "stream",
     "text": [
      "No data found for 보건범죄 단속에 관한 특별조치법\n"
     ]
    },
    {
     "name": "stderr",
     "output_type": "stream",
     "text": [
      " 42%|████▏     | 689/1654 [13:50<19:50,  1.23s/it]"
     ]
    },
    {
     "name": "stdout",
     "output_type": "stream",
     "text": [
      "Saved 보건의료기본법 to 법령별 directory\n"
     ]
    },
    {
     "name": "stderr",
     "output_type": "stream",
     "text": [
      " 42%|████▏     | 690/1654 [13:51<19:01,  1.18s/it]"
     ]
    },
    {
     "name": "stdout",
     "output_type": "stream",
     "text": [
      "Saved 보건의료기술 진흥법 to 법령별 directory\n"
     ]
    },
    {
     "name": "stderr",
     "output_type": "stream",
     "text": [
      " 42%|████▏     | 691/1654 [13:52<17:45,  1.11s/it]"
     ]
    },
    {
     "name": "stdout",
     "output_type": "stream",
     "text": [
      "Saved 보건의료인력지원법 to 법령별 directory\n"
     ]
    },
    {
     "name": "stderr",
     "output_type": "stream",
     "text": [
      " 42%|████▏     | 692/1654 [13:53<16:53,  1.05s/it]"
     ]
    },
    {
     "name": "stdout",
     "output_type": "stream",
     "text": [
      "No data found for 보건환경연구원법\n"
     ]
    },
    {
     "name": "stderr",
     "output_type": "stream",
     "text": [
      " 42%|████▏     | 693/1654 [13:54<16:36,  1.04s/it]"
     ]
    },
    {
     "name": "stdout",
     "output_type": "stream",
     "text": [
      "No data found for 보안관찰법\n"
     ]
    },
    {
     "name": "stderr",
     "output_type": "stream",
     "text": [
      " 42%|████▏     | 694/1654 [13:56<18:28,  1.15s/it]"
     ]
    },
    {
     "name": "stdout",
     "output_type": "stream",
     "text": [
      "Saved 보조금 관리에 관한 법률 to 법령별 directory\n"
     ]
    },
    {
     "name": "stderr",
     "output_type": "stream",
     "text": [
      " 42%|████▏     | 695/1654 [13:57<17:26,  1.09s/it]"
     ]
    },
    {
     "name": "stdout",
     "output_type": "stream",
     "text": [
      "Saved 보증인 보호를 위한 특별법 to 법령별 directory\n"
     ]
    },
    {
     "name": "stderr",
     "output_type": "stream",
     "text": [
      " 42%|████▏     | 696/1654 [13:58<17:37,  1.10s/it]"
     ]
    },
    {
     "name": "stdout",
     "output_type": "stream",
     "text": [
      "Saved 보행안전 및 편의증진에 관한 법률 to 법령별 directory\n"
     ]
    },
    {
     "name": "stderr",
     "output_type": "stream",
     "text": [
      " 42%|████▏     | 697/1654 [13:59<17:32,  1.10s/it]"
     ]
    },
    {
     "name": "stdout",
     "output_type": "stream",
     "text": [
      "Saved 보험사기방지 특별법 to 법령별 directory\n"
     ]
    },
    {
     "name": "stderr",
     "output_type": "stream",
     "text": [
      " 42%|████▏     | 698/1654 [14:01<23:47,  1.49s/it]"
     ]
    },
    {
     "name": "stdout",
     "output_type": "stream",
     "text": [
      "Saved 보험업법 to 법령별 directory\n"
     ]
    },
    {
     "name": "stderr",
     "output_type": "stream",
     "text": [
      " 42%|████▏     | 699/1654 [14:03<23:59,  1.51s/it]"
     ]
    },
    {
     "name": "stdout",
     "output_type": "stream",
     "text": [
      "No data found for 보호관찰 등에 관한 법률\n"
     ]
    },
    {
     "name": "stderr",
     "output_type": "stream",
     "text": [
      " 42%|████▏     | 700/1654 [14:04<22:36,  1.42s/it]"
     ]
    },
    {
     "name": "stdout",
     "output_type": "stream",
     "text": [
      "Saved 보호소년 등의 처우에 관한 법률 to 법령별 directory\n"
     ]
    },
    {
     "name": "stderr",
     "output_type": "stream",
     "text": [
      " 42%|████▏     | 701/1654 [14:05<20:02,  1.26s/it]"
     ]
    },
    {
     "name": "stdout",
     "output_type": "stream",
     "text": [
      "Saved 보호시설에 있는 미성년자의 후견 직무에 관한 법률 to 법령별 directory\n"
     ]
    },
    {
     "name": "stderr",
     "output_type": "stream",
     "text": [
      " 42%|████▏     | 702/1654 [14:06<20:09,  1.27s/it]"
     ]
    },
    {
     "name": "stdout",
     "output_type": "stream",
     "text": [
      "Saved 보훈기금법 to 법령별 directory\n"
     ]
    },
    {
     "name": "stderr",
     "output_type": "stream",
     "text": [
      " 43%|████▎     | 703/1654 [14:08<21:04,  1.33s/it]"
     ]
    },
    {
     "name": "stdout",
     "output_type": "stream",
     "text": [
      "No data found for 보훈보상대상자 지원에 관한 법률\n"
     ]
    },
    {
     "name": "stderr",
     "output_type": "stream",
     "text": [
      " 43%|████▎     | 704/1654 [14:09<20:30,  1.30s/it]"
     ]
    },
    {
     "name": "stdout",
     "output_type": "stream",
     "text": [
      "Saved 복권 및 복권기금법 to 법령별 directory\n"
     ]
    },
    {
     "name": "stderr",
     "output_type": "stream",
     "text": [
      " 43%|████▎     | 705/1654 [14:10<18:51,  1.19s/it]"
     ]
    },
    {
     "name": "stdout",
     "output_type": "stream",
     "text": [
      "Saved 본인서명사실 확인 등에 관한 법률 to 법령별 directory\n"
     ]
    },
    {
     "name": "stderr",
     "output_type": "stream",
     "text": [
      " 43%|████▎     | 706/1654 [14:11<20:35,  1.30s/it]"
     ]
    },
    {
     "name": "stdout",
     "output_type": "stream",
     "text": [
      "Saved 부가가치세법 to 법령별 directory\n"
     ]
    },
    {
     "name": "stderr",
     "output_type": "stream",
     "text": [
      " 43%|████▎     | 707/1654 [14:13<20:46,  1.32s/it]"
     ]
    },
    {
     "name": "stdout",
     "output_type": "stream",
     "text": [
      "Saved 부담금관리 기본법 to 법령별 directory\n"
     ]
    },
    {
     "name": "stderr",
     "output_type": "stream",
     "text": [
      " 43%|████▎     | 708/1654 [14:14<18:44,  1.19s/it]"
     ]
    },
    {
     "name": "stdout",
     "output_type": "stream",
     "text": [
      "No data found for 부도공공건설임대주택 임차인 보호를 위한 특별법\n"
     ]
    },
    {
     "name": "stderr",
     "output_type": "stream",
     "text": [
      " 43%|████▎     | 709/1654 [14:15<18:17,  1.16s/it]"
     ]
    },
    {
     "name": "stdout",
     "output_type": "stream",
     "text": [
      "Saved 부동산 가격공시에 관한 법률 to 법령별 directory\n"
     ]
    },
    {
     "name": "stderr",
     "output_type": "stream",
     "text": [
      " 43%|████▎     | 710/1654 [14:16<17:43,  1.13s/it]"
     ]
    },
    {
     "name": "stdout",
     "output_type": "stream",
     "text": [
      "Saved 부동산개발업의 관리 및 육성에 관한 법률 to 법령별 directory\n"
     ]
    },
    {
     "name": "stderr",
     "output_type": "stream",
     "text": [
      " 43%|████▎     | 711/1654 [14:17<18:04,  1.15s/it]"
     ]
    },
    {
     "name": "stdout",
     "output_type": "stream",
     "text": [
      "Saved 부동산 거래신고 등에 관한 법률 to 법령별 directory\n"
     ]
    },
    {
     "name": "stderr",
     "output_type": "stream",
     "text": [
      " 43%|████▎     | 712/1654 [14:18<19:48,  1.26s/it]"
     ]
    },
    {
     "name": "stdout",
     "output_type": "stream",
     "text": [
      "Saved 부동산등기법 to 법령별 directory\n"
     ]
    },
    {
     "name": "stderr",
     "output_type": "stream",
     "text": [
      " 43%|████▎     | 713/1654 [14:19<18:06,  1.16s/it]"
     ]
    },
    {
     "name": "stdout",
     "output_type": "stream",
     "text": [
      "No data found for 부동산등기 특별조치법\n"
     ]
    },
    {
     "name": "stderr",
     "output_type": "stream",
     "text": [
      " 43%|████▎     | 714/1654 [14:21<19:56,  1.27s/it]"
     ]
    },
    {
     "name": "stdout",
     "output_type": "stream",
     "text": [
      "Saved 부동산서비스산업 진흥법 to 법령별 directory\n"
     ]
    },
    {
     "name": "stderr",
     "output_type": "stream",
     "text": [
      " 43%|████▎     | 715/1654 [14:22<18:39,  1.19s/it]"
     ]
    },
    {
     "name": "stdout",
     "output_type": "stream",
     "text": [
      "Saved 부동산 실권리자명의 등기에 관한 법률 to 법령별 directory\n"
     ]
    },
    {
     "name": "stderr",
     "output_type": "stream",
     "text": [
      " 43%|████▎     | 716/1654 [14:23<20:00,  1.28s/it]"
     ]
    },
    {
     "name": "stdout",
     "output_type": "stream",
     "text": [
      "Saved 부동산투자회사법 to 법령별 directory\n"
     ]
    },
    {
     "name": "stderr",
     "output_type": "stream",
     "text": [
      " 43%|████▎     | 717/1654 [14:24<18:12,  1.17s/it]"
     ]
    },
    {
     "name": "stdout",
     "output_type": "stream",
     "text": [
      "Saved 부마민주항쟁 관련자의 명예회복 및 보상 등에 관한 법률 to 법령별 directory\n"
     ]
    },
    {
     "name": "stderr",
     "output_type": "stream",
     "text": [
      " 43%|████▎     | 718/1654 [14:25<16:12,  1.04s/it]"
     ]
    },
    {
     "name": "stdout",
     "output_type": "stream",
     "text": [
      "Saved 부재선고에 관한 특별조치법 to 법령별 directory\n"
     ]
    },
    {
     "name": "stderr",
     "output_type": "stream",
     "text": [
      " 43%|████▎     | 719/1654 [14:27<18:33,  1.19s/it]"
     ]
    },
    {
     "name": "stdout",
     "output_type": "stream",
     "text": [
      "Saved 부정경쟁방지 및 영업비밀보호에 관한 법률 to 법령별 directory\n"
     ]
    },
    {
     "name": "stderr",
     "output_type": "stream",
     "text": [
      " 44%|████▎     | 720/1654 [14:27<16:54,  1.09s/it]"
     ]
    },
    {
     "name": "stdout",
     "output_type": "stream",
     "text": [
      "No data found for 부정수표 단속법\n"
     ]
    },
    {
     "name": "stderr",
     "output_type": "stream",
     "text": [
      " 44%|████▎     | 721/1654 [14:28<16:43,  1.08s/it]"
     ]
    },
    {
     "name": "stdout",
     "output_type": "stream",
     "text": [
      "Saved 부정청탁 및 금품등 수수의 금지에 관한 법률 to 법령별 directory\n"
     ]
    },
    {
     "name": "stderr",
     "output_type": "stream",
     "text": [
      " 44%|████▎     | 722/1654 [14:30<17:55,  1.15s/it]"
     ]
    },
    {
     "name": "stdout",
     "output_type": "stream",
     "text": [
      "Saved 부패방지 및 국민권익위원회의 설치와 운영에 관한 법률 to 법령별 directory\n"
     ]
    },
    {
     "name": "stderr",
     "output_type": "stream",
     "text": [
      " 44%|████▎     | 723/1654 [14:31<16:32,  1.07s/it]"
     ]
    },
    {
     "name": "stdout",
     "output_type": "stream",
     "text": [
      "Saved 부패재산의 몰수 및 회복에 관한 특례법 to 법령별 directory\n"
     ]
    },
    {
     "name": "stderr",
     "output_type": "stream",
     "text": [
      " 44%|████▍     | 724/1654 [14:32<17:13,  1.11s/it]"
     ]
    },
    {
     "name": "stdout",
     "output_type": "stream",
     "text": [
      "Saved 북한이탈주민의 보호 및 정착지원에 관한 법률 to 법령별 directory\n"
     ]
    },
    {
     "name": "stderr",
     "output_type": "stream",
     "text": [
      " 44%|████▍     | 725/1654 [14:33<16:16,  1.05s/it]"
     ]
    },
    {
     "name": "stdout",
     "output_type": "stream",
     "text": [
      "Saved 북한인권법 to 법령별 directory\n"
     ]
    },
    {
     "name": "stderr",
     "output_type": "stream",
     "text": [
      " 44%|████▍     | 726/1654 [14:34<17:09,  1.11s/it]"
     ]
    },
    {
     "name": "stdout",
     "output_type": "stream",
     "text": [
      "Saved 분산에너지 활성화 특별법 to 법령별 directory\n"
     ]
    },
    {
     "name": "stderr",
     "output_type": "stream",
     "text": [
      " 44%|████▍     | 727/1654 [14:35<17:42,  1.15s/it]"
     ]
    },
    {
     "name": "stdout",
     "output_type": "stream",
     "text": [
      "Saved 불공정무역행위 조사 및 산업피해구제에 관한 법률 to 법령별 directory\n"
     ]
    },
    {
     "name": "stderr",
     "output_type": "stream",
     "text": [
      " 44%|████▍     | 728/1654 [14:36<17:20,  1.12s/it]"
     ]
    },
    {
     "name": "stdout",
     "output_type": "stream",
     "text": [
      "Saved 불법정치자금 등의 몰수에 관한 특례법 to 법령별 directory\n"
     ]
    },
    {
     "name": "stderr",
     "output_type": "stream",
     "text": [
      " 44%|████▍     | 729/1654 [14:38<17:47,  1.15s/it]"
     ]
    },
    {
     "name": "stdout",
     "output_type": "stream",
     "text": [
      "Saved 비료관리법 to 법령별 directory\n"
     ]
    },
    {
     "name": "stderr",
     "output_type": "stream",
     "text": [
      " 44%|████▍     | 730/1654 [14:39<17:16,  1.12s/it]"
     ]
    },
    {
     "name": "stdout",
     "output_type": "stream",
     "text": [
      "Saved 비상대비에 관한 법률 to 법령별 directory\n"
     ]
    },
    {
     "name": "stderr",
     "output_type": "stream",
     "text": [
      " 44%|████▍     | 731/1654 [14:39<16:08,  1.05s/it]"
     ]
    },
    {
     "name": "stdout",
     "output_type": "stream",
     "text": [
      "Saved 비상사태등에 대비하기 위한 해운 및 항만 기능 유지에 관한 법률 to 법령별 directory\n"
     ]
    },
    {
     "name": "stderr",
     "output_type": "stream",
     "text": [
      " 44%|████▍     | 732/1654 [14:42<21:42,  1.41s/it]"
     ]
    },
    {
     "name": "stdout",
     "output_type": "stream",
     "text": [
      "No data found for 비송사건절차법\n"
     ]
    },
    {
     "name": "stderr",
     "output_type": "stream",
     "text": [
      " 44%|████▍     | 733/1654 [14:43<18:55,  1.23s/it]"
     ]
    },
    {
     "name": "stdout",
     "output_type": "stream",
     "text": [
      "Saved 비영리민간단체 지원법 to 법령별 directory\n"
     ]
    },
    {
     "name": "stderr",
     "output_type": "stream",
     "text": [
      " 44%|████▍     | 734/1654 [14:43<16:31,  1.08s/it]"
     ]
    },
    {
     "name": "stdout",
     "output_type": "stream",
     "text": [
      "No data found for 비영리법인의 임원 처벌에 관한 법률\n"
     ]
    },
    {
     "name": "stderr",
     "output_type": "stream",
     "text": [
      " 44%|████▍     | 735/1654 [14:44<15:38,  1.02s/it]"
     ]
    },
    {
     "name": "stdout",
     "output_type": "stream",
     "text": [
      "Saved 비파괴검사기술의 진흥 및 관리에 관한 법률 to 법령별 directory\n"
     ]
    },
    {
     "name": "stderr",
     "output_type": "stream",
     "text": [
      " 44%|████▍     | 736/1654 [14:46<20:04,  1.31s/it]"
     ]
    },
    {
     "name": "stdout",
     "output_type": "stream",
     "text": [
      "Saved 빈집 및 소규모주택 정비에 관한 특례법 to 법령별 directory\n"
     ]
    },
    {
     "name": "stderr",
     "output_type": "stream",
     "text": [
      " 45%|████▍     | 737/1654 [14:47<18:55,  1.24s/it]"
     ]
    },
    {
     "name": "stdout",
     "output_type": "stream",
     "text": [
      "Saved 뿌리산업 진흥과 첨단화에 관한 법률 to 법령별 directory\n"
     ]
    },
    {
     "name": "stderr",
     "output_type": "stream",
     "text": [
      " 45%|████▍     | 738/1654 [14:48<17:30,  1.15s/it]"
     ]
    },
    {
     "name": "stdout",
     "output_type": "stream",
     "text": [
      "Saved 사격 및 사격장 안전관리에 관한 법률 to 법령별 directory\n"
     ]
    },
    {
     "name": "stderr",
     "output_type": "stream",
     "text": [
      " 45%|████▍     | 739/1654 [14:49<16:20,  1.07s/it]"
     ]
    },
    {
     "name": "stdout",
     "output_type": "stream",
     "text": [
      "No data found for 사관학교 설치법\n"
     ]
    },
    {
     "name": "stderr",
     "output_type": "stream",
     "text": [
      " 45%|████▍     | 740/1654 [14:51<18:17,  1.20s/it]"
     ]
    },
    {
     "name": "stdout",
     "output_type": "stream",
     "text": [
      "Saved 사도법 to 법령별 directory\n"
     ]
    },
    {
     "name": "stderr",
     "output_type": "stream",
     "text": [
      " 45%|████▍     | 741/1654 [14:52<17:47,  1.17s/it]"
     ]
    },
    {
     "name": "stdout",
     "output_type": "stream",
     "text": [
      "Saved 사료관리법 to 법령별 directory\n"
     ]
    },
    {
     "name": "stderr",
     "output_type": "stream",
     "text": [
      " 45%|████▍     | 742/1654 [14:53<16:58,  1.12s/it]"
     ]
    },
    {
     "name": "stdout",
     "output_type": "stream",
     "text": [
      "Saved 사료의 수집ㆍ편찬 및 한국사의 보급 등에 관한 법률 to 법령별 directory\n"
     ]
    },
    {
     "name": "stderr",
     "output_type": "stream",
     "text": [
      " 45%|████▍     | 743/1654 [14:54<18:22,  1.21s/it]"
     ]
    },
    {
     "name": "stdout",
     "output_type": "stream",
     "text": [
      "Saved 사립학교교직원 연금법 to 법령별 directory\n"
     ]
    },
    {
     "name": "stderr",
     "output_type": "stream",
     "text": [
      " 45%|████▍     | 744/1654 [14:56<20:46,  1.37s/it]"
     ]
    },
    {
     "name": "stdout",
     "output_type": "stream",
     "text": [
      "Saved 사립학교법 to 법령별 directory\n"
     ]
    },
    {
     "name": "stderr",
     "output_type": "stream",
     "text": [
      " 45%|████▌     | 745/1654 [14:57<18:42,  1.23s/it]"
     ]
    },
    {
     "name": "stdout",
     "output_type": "stream",
     "text": [
      "No data found for 사면법\n"
     ]
    },
    {
     "name": "stderr",
     "output_type": "stream",
     "text": [
      " 45%|████▌     | 746/1654 [14:58<18:40,  1.23s/it]"
     ]
    },
    {
     "name": "stdout",
     "output_type": "stream",
     "text": [
      "Saved 사방사업법 to 법령별 directory\n"
     ]
    },
    {
     "name": "stderr",
     "output_type": "stream",
     "text": [
      " 45%|████▌     | 747/1654 [14:59<19:10,  1.27s/it]"
     ]
    },
    {
     "name": "stdout",
     "output_type": "stream",
     "text": [
      "No data found for 사법경찰관리의 직무를 수행할 자와 그 직무범위에 관한 법률\n"
     ]
    },
    {
     "name": "stderr",
     "output_type": "stream",
     "text": [
      " 45%|████▌     | 748/1654 [15:00<17:52,  1.18s/it]"
     ]
    },
    {
     "name": "stdout",
     "output_type": "stream",
     "text": [
      "Saved 사할린동포 지원에 관한 특별법 to 법령별 directory\n"
     ]
    },
    {
     "name": "stderr",
     "output_type": "stream",
     "text": [
      " 45%|████▌     | 749/1654 [15:01<17:13,  1.14s/it]"
     ]
    },
    {
     "name": "stdout",
     "output_type": "stream",
     "text": [
      "Saved 사행산업통합감독위원회법 to 법령별 directory\n"
     ]
    },
    {
     "name": "stderr",
     "output_type": "stream",
     "text": [
      " 45%|████▌     | 750/1654 [15:02<17:07,  1.14s/it]"
     ]
    },
    {
     "name": "stdout",
     "output_type": "stream",
     "text": [
      "Saved 사행행위 등 규제 및 처벌 특례법 to 법령별 directory\n"
     ]
    },
    {
     "name": "stderr",
     "output_type": "stream",
     "text": [
      " 45%|████▌     | 751/1654 [15:04<19:36,  1.30s/it]"
     ]
    },
    {
     "name": "stdout",
     "output_type": "stream",
     "text": [
      "Saved 사회기반시설에 대한 민간투자법 to 법령별 directory\n"
     ]
    },
    {
     "name": "stderr",
     "output_type": "stream",
     "text": [
      " 45%|████▌     | 752/1654 [15:06<22:51,  1.52s/it]"
     ]
    },
    {
     "name": "stdout",
     "output_type": "stream",
     "text": [
      "Saved 사회보장급여의 이용ㆍ제공 및 수급권자 발굴에 관한 법률 to 법령별 directory\n"
     ]
    },
    {
     "name": "stderr",
     "output_type": "stream",
     "text": [
      " 46%|████▌     | 753/1654 [15:07<20:27,  1.36s/it]"
     ]
    },
    {
     "name": "stdout",
     "output_type": "stream",
     "text": [
      "Saved 사회보장기본법 to 법령별 directory\n"
     ]
    },
    {
     "name": "stderr",
     "output_type": "stream",
     "text": [
      " 46%|████▌     | 754/1654 [15:08<18:55,  1.26s/it]"
     ]
    },
    {
     "name": "stdout",
     "output_type": "stream",
     "text": [
      "Saved 사회복지공동모금회법 to 법령별 directory\n"
     ]
    },
    {
     "name": "stderr",
     "output_type": "stream",
     "text": [
      " 46%|████▌     | 755/1654 [15:09<17:45,  1.19s/it]"
     ]
    },
    {
     "name": "stdout",
     "output_type": "stream",
     "text": [
      "Saved 사회복지사 등의 처우 및 지위 향상을 위한 법률 to 법령별 directory\n"
     ]
    },
    {
     "name": "stderr",
     "output_type": "stream",
     "text": [
      " 46%|████▌     | 756/1654 [15:11<19:36,  1.31s/it]"
     ]
    },
    {
     "name": "stdout",
     "output_type": "stream",
     "text": [
      "Saved 사회복지사업법 to 법령별 directory\n"
     ]
    },
    {
     "name": "stderr",
     "output_type": "stream",
     "text": [
      " 46%|████▌     | 757/1654 [15:12<19:00,  1.27s/it]"
     ]
    },
    {
     "name": "stdout",
     "output_type": "stream",
     "text": [
      "Saved 사회서비스 이용 및 이용권 관리에 관한 법률 to 법령별 directory\n"
     ]
    },
    {
     "name": "stderr",
     "output_type": "stream",
     "text": [
      " 46%|████▌     | 758/1654 [15:13<18:55,  1.27s/it]"
     ]
    },
    {
     "name": "stdout",
     "output_type": "stream",
     "text": [
      "Saved 사회서비스 지원 및 사회서비스원 설립ㆍ운영에 관한 법률 to 법령별 directory\n"
     ]
    },
    {
     "name": "stderr",
     "output_type": "stream",
     "text": [
      " 46%|████▌     | 759/1654 [15:14<18:06,  1.21s/it]"
     ]
    },
    {
     "name": "stdout",
     "output_type": "stream",
     "text": [
      "Saved 사회적기업 육성법 to 법령별 directory\n"
     ]
    },
    {
     "name": "stderr",
     "output_type": "stream",
     "text": [
      " 46%|████▌     | 760/1654 [15:15<17:50,  1.20s/it]"
     ]
    },
    {
     "name": "stdout",
     "output_type": "stream",
     "text": [
      "Saved 사회적 참사의 진상규명 및 안전사회 건설 등을 위한 특별법 to 법령별 directory\n"
     ]
    },
    {
     "name": "stderr",
     "output_type": "stream",
     "text": [
      " 46%|████▌     | 761/1654 [15:17<17:10,  1.15s/it]"
     ]
    },
    {
     "name": "stdout",
     "output_type": "stream",
     "text": [
      "Saved 산림교육의 활성화에 관한 법률 to 법령별 directory\n"
     ]
    },
    {
     "name": "stderr",
     "output_type": "stream",
     "text": [
      " 46%|████▌     | 762/1654 [15:18<16:29,  1.11s/it]"
     ]
    },
    {
     "name": "stdout",
     "output_type": "stream",
     "text": [
      "Saved 산림기본법 to 법령별 directory\n"
     ]
    },
    {
     "name": "stderr",
     "output_type": "stream",
     "text": [
      " 46%|████▌     | 763/1654 [15:19<15:57,  1.07s/it]"
     ]
    },
    {
     "name": "stdout",
     "output_type": "stream",
     "text": [
      "Saved 산림기술 진흥 및 관리에 관한 법률 to 법령별 directory\n"
     ]
    },
    {
     "name": "stderr",
     "output_type": "stream",
     "text": [
      " 46%|████▌     | 764/1654 [15:20<16:54,  1.14s/it]"
     ]
    },
    {
     "name": "stdout",
     "output_type": "stream",
     "text": [
      "Saved 산림문화ㆍ휴양에 관한 법률 to 법령별 directory\n"
     ]
    },
    {
     "name": "stderr",
     "output_type": "stream",
     "text": [
      " 46%|████▋     | 765/1654 [15:21<19:03,  1.29s/it]"
     ]
    },
    {
     "name": "stdout",
     "output_type": "stream",
     "text": [
      "Saved 산림보호법 to 법령별 directory\n"
     ]
    },
    {
     "name": "stderr",
     "output_type": "stream",
     "text": [
      " 46%|████▋     | 766/1654 [15:23<18:35,  1.26s/it]"
     ]
    },
    {
     "name": "stdout",
     "output_type": "stream",
     "text": [
      "Saved 산림복지 진흥에 관한 법률 to 법령별 directory\n"
     ]
    },
    {
     "name": "stderr",
     "output_type": "stream",
     "text": [
      " 46%|████▋     | 767/1654 [15:24<20:59,  1.42s/it]"
     ]
    },
    {
     "name": "stdout",
     "output_type": "stream",
     "text": [
      "Saved 산림자원의 조성 및 관리에 관한 법률 to 법령별 directory\n"
     ]
    },
    {
     "name": "stderr",
     "output_type": "stream",
     "text": [
      " 46%|████▋     | 768/1654 [15:26<23:19,  1.58s/it]"
     ]
    },
    {
     "name": "stdout",
     "output_type": "stream",
     "text": [
      "Saved 산림조합법 to 법령별 directory\n"
     ]
    },
    {
     "name": "stderr",
     "output_type": "stream",
     "text": [
      " 46%|████▋     | 769/1654 [15:28<21:30,  1.46s/it]"
     ]
    },
    {
     "name": "stdout",
     "output_type": "stream",
     "text": [
      "Saved 산림조합의 구조개선에 관한 법률 to 법령별 directory\n"
     ]
    },
    {
     "name": "stderr",
     "output_type": "stream",
     "text": [
      " 47%|████▋     | 770/1654 [15:29<20:39,  1.40s/it]"
     ]
    },
    {
     "name": "stdout",
     "output_type": "stream",
     "text": [
      "Saved 산업교육진흥 및 산학연협력촉진에 관한 법률 to 법령별 directory\n"
     ]
    },
    {
     "name": "stderr",
     "output_type": "stream",
     "text": [
      " 47%|████▋     | 771/1654 [15:30<19:18,  1.31s/it]"
     ]
    },
    {
     "name": "stdout",
     "output_type": "stream",
     "text": [
      "Saved 산업기술단지 지원에 관한 특례법 to 법령별 directory\n"
     ]
    },
    {
     "name": "stderr",
     "output_type": "stream",
     "text": [
      " 47%|████▋     | 772/1654 [15:31<19:57,  1.36s/it]"
     ]
    },
    {
     "name": "stdout",
     "output_type": "stream",
     "text": [
      "No data found for 산업기술연구조합 육성법\n"
     ]
    },
    {
     "name": "stderr",
     "output_type": "stream",
     "text": [
      " 47%|████▋     | 773/1654 [15:33<18:59,  1.29s/it]"
     ]
    },
    {
     "name": "stdout",
     "output_type": "stream",
     "text": [
      "Saved 산업기술의 유출방지 및 보호에 관한 법률 to 법령별 directory\n"
     ]
    },
    {
     "name": "stderr",
     "output_type": "stream",
     "text": [
      " 47%|████▋     | 774/1654 [15:34<19:20,  1.32s/it]"
     ]
    },
    {
     "name": "stdout",
     "output_type": "stream",
     "text": [
      "Saved 산업기술혁신 촉진법 to 법령별 directory\n"
     ]
    },
    {
     "name": "stderr",
     "output_type": "stream",
     "text": [
      " 47%|████▋     | 775/1654 [15:35<18:47,  1.28s/it]"
     ]
    },
    {
     "name": "stdout",
     "output_type": "stream",
     "text": [
      "Saved 산업단지 인ㆍ허가 절차 간소화를 위한 특례법 to 법령별 directory\n"
     ]
    },
    {
     "name": "stderr",
     "output_type": "stream",
     "text": [
      " 47%|████▋     | 776/1654 [15:37<19:35,  1.34s/it]"
     ]
    },
    {
     "name": "stdout",
     "output_type": "stream",
     "text": [
      "Saved 산업디자인진흥법 to 법령별 directory\n"
     ]
    },
    {
     "name": "stderr",
     "output_type": "stream",
     "text": [
      " 47%|████▋     | 777/1654 [15:38<18:07,  1.24s/it]"
     ]
    },
    {
     "name": "stdout",
     "output_type": "stream",
     "text": [
      "Saved 산업 디지털 전환 촉진법 to 법령별 directory\n"
     ]
    },
    {
     "name": "stderr",
     "output_type": "stream",
     "text": [
      " 47%|████▋     | 778/1654 [15:39<17:29,  1.20s/it]"
     ]
    },
    {
     "name": "stdout",
     "output_type": "stream",
     "text": [
      "No data found for 산업발전법\n"
     ]
    },
    {
     "name": "stderr",
     "output_type": "stream",
     "text": [
      " 47%|████▋     | 779/1654 [15:41<21:32,  1.48s/it]"
     ]
    },
    {
     "name": "stdout",
     "output_type": "stream",
     "text": [
      "Saved 산업안전보건법 to 법령별 directory\n"
     ]
    },
    {
     "name": "stderr",
     "output_type": "stream",
     "text": [
      " 47%|████▋     | 780/1654 [15:42<20:09,  1.38s/it]"
     ]
    },
    {
     "name": "stdout",
     "output_type": "stream",
     "text": [
      "Saved 산업융합 촉진법 to 법령별 directory\n"
     ]
    },
    {
     "name": "stderr",
     "output_type": "stream",
     "text": [
      " 47%|████▋     | 781/1654 [15:44<22:25,  1.54s/it]"
     ]
    },
    {
     "name": "stdout",
     "output_type": "stream",
     "text": [
      "Saved 산업입지 및 개발에 관한 법률 to 법령별 directory\n"
     ]
    },
    {
     "name": "stderr",
     "output_type": "stream",
     "text": [
      " 47%|████▋     | 782/1654 [15:45<20:40,  1.42s/it]"
     ]
    },
    {
     "name": "stdout",
     "output_type": "stream",
     "text": [
      "Saved 산업재산 정보의 관리 및 활용 촉진에 관한 법률 to 법령별 directory\n"
     ]
    },
    {
     "name": "stderr",
     "output_type": "stream",
     "text": [
      " 47%|████▋     | 783/1654 [15:47<24:35,  1.69s/it]"
     ]
    },
    {
     "name": "stdout",
     "output_type": "stream",
     "text": [
      "Saved 산업재해보상보험법 to 법령별 directory\n"
     ]
    },
    {
     "name": "stderr",
     "output_type": "stream",
     "text": [
      " 47%|████▋     | 784/1654 [15:48<20:59,  1.45s/it]"
     ]
    },
    {
     "name": "stdout",
     "output_type": "stream",
     "text": [
      "Saved 산업전환에 따른 고용안정 지원 등에 관한 법률 to 법령별 directory\n"
     ]
    },
    {
     "name": "stderr",
     "output_type": "stream",
     "text": [
      " 47%|████▋     | 785/1654 [15:50<23:55,  1.65s/it]"
     ]
    },
    {
     "name": "stdout",
     "output_type": "stream",
     "text": [
      "Saved 산업집적활성화 및 공장설립에 관한 법률 to 법령별 directory\n"
     ]
    },
    {
     "name": "stderr",
     "output_type": "stream",
     "text": [
      " 48%|████▊     | 786/1654 [15:52<22:19,  1.54s/it]"
     ]
    },
    {
     "name": "stdout",
     "output_type": "stream",
     "text": [
      "Saved 산업표준화법 to 법령별 directory\n"
     ]
    },
    {
     "name": "stderr",
     "output_type": "stream",
     "text": [
      " 48%|████▊     | 787/1654 [15:53<19:55,  1.38s/it]"
     ]
    },
    {
     "name": "stdout",
     "output_type": "stream",
     "text": [
      "Saved 산업현장 일학습병행 지원에 관한 법률 to 법령별 directory\n"
     ]
    },
    {
     "name": "stderr",
     "output_type": "stream",
     "text": [
      " 48%|████▊     | 788/1654 [15:54<20:31,  1.42s/it]"
     ]
    },
    {
     "name": "stdout",
     "output_type": "stream",
     "text": [
      "Saved 산지관리법 to 법령별 directory\n"
     ]
    },
    {
     "name": "stderr",
     "output_type": "stream",
     "text": [
      " 48%|████▊     | 789/1654 [15:55<18:37,  1.29s/it]"
     ]
    },
    {
     "name": "stdout",
     "output_type": "stream",
     "text": [
      "Saved 삼차원프린팅산업 진흥법 to 법령별 directory\n"
     ]
    },
    {
     "name": "stderr",
     "output_type": "stream",
     "text": [
      " 48%|████▊     | 790/1654 [15:56<17:25,  1.21s/it]"
     ]
    },
    {
     "name": "stdout",
     "output_type": "stream",
     "text": [
      "Saved 삼청교육피해자의 명예회복 및 보상에 관한 법률 to 법령별 directory\n"
     ]
    },
    {
     "name": "stderr",
     "output_type": "stream",
     "text": [
      " 48%|████▊     | 791/1654 [15:58<17:59,  1.25s/it]"
     ]
    },
    {
     "name": "stdout",
     "output_type": "stream",
     "text": [
      "No data found for 상가건물 임대차보호법\n"
     ]
    },
    {
     "name": "stderr",
     "output_type": "stream",
     "text": [
      " 48%|████▊     | 792/1654 [15:59<16:53,  1.18s/it]"
     ]
    },
    {
     "name": "stdout",
     "output_type": "stream",
     "text": [
      "No data found for 상고심절차에 관한 특례법\n"
     ]
    },
    {
     "name": "stderr",
     "output_type": "stream",
     "text": [
      " 48%|████▊     | 793/1654 [16:00<17:39,  1.23s/it]"
     ]
    },
    {
     "name": "stdout",
     "output_type": "stream",
     "text": [
      "No data found for 상공회의소법\n"
     ]
    },
    {
     "name": "stderr",
     "output_type": "stream",
     "text": [
      " 48%|████▊     | 794/1654 [16:06<37:57,  2.65s/it]"
     ]
    },
    {
     "name": "stdout",
     "output_type": "stream",
     "text": [
      "No data found for 상법\n"
     ]
    },
    {
     "name": "stderr",
     "output_type": "stream",
     "text": [
      " 48%|████▊     | 795/1654 [16:07<30:41,  2.14s/it]"
     ]
    },
    {
     "name": "stdout",
     "output_type": "stream",
     "text": [
      "No data found for 상법시행법\n"
     ]
    },
    {
     "name": "stderr",
     "output_type": "stream",
     "text": [
      " 48%|████▊     | 796/1654 [16:09<29:22,  2.05s/it]"
     ]
    },
    {
     "name": "stdout",
     "output_type": "stream",
     "text": [
      "Saved 상속세 및 증여세법 to 법령별 directory\n"
     ]
    },
    {
     "name": "stderr",
     "output_type": "stream",
     "text": [
      " 48%|████▊     | 797/1654 [16:10<26:58,  1.89s/it]"
     ]
    },
    {
     "name": "stdout",
     "output_type": "stream",
     "text": [
      "Saved 상업등기법 to 법령별 directory\n"
     ]
    },
    {
     "name": "stderr",
     "output_type": "stream",
     "text": [
      " 48%|████▊     | 798/1654 [16:13<30:54,  2.17s/it]"
     ]
    },
    {
     "name": "stdout",
     "output_type": "stream",
     "text": [
      "Saved 상표법 to 법령별 directory\n"
     ]
    },
    {
     "name": "stderr",
     "output_type": "stream",
     "text": [
      " 48%|████▊     | 799/1654 [16:15<28:36,  2.01s/it]"
     ]
    },
    {
     "name": "stdout",
     "output_type": "stream",
     "text": [
      "Saved 상호저축은행법 to 법령별 directory\n"
     ]
    },
    {
     "name": "stderr",
     "output_type": "stream",
     "text": [
      " 48%|████▊     | 800/1654 [16:16<25:45,  1.81s/it]"
     ]
    },
    {
     "name": "stdout",
     "output_type": "stream",
     "text": [
      "No data found for 상훈법\n"
     ]
    },
    {
     "name": "stderr",
     "output_type": "stream",
     "text": [
      " 48%|████▊     | 801/1654 [16:18<25:17,  1.78s/it]"
     ]
    },
    {
     "name": "stdout",
     "output_type": "stream",
     "text": [
      "No data found for 새마을금고법\n"
     ]
    },
    {
     "name": "stderr",
     "output_type": "stream",
     "text": [
      " 48%|████▊     | 802/1654 [16:19<21:37,  1.52s/it]"
     ]
    },
    {
     "name": "stdout",
     "output_type": "stream",
     "text": [
      "Saved 새마을운동조직 육성법 to 법령별 directory\n"
     ]
    },
    {
     "name": "stderr",
     "output_type": "stream",
     "text": [
      " 49%|████▊     | 803/1654 [16:20<22:58,  1.62s/it]"
     ]
    },
    {
     "name": "stdout",
     "output_type": "stream",
     "text": [
      "Saved 새만금사업 추진 및 지원에 관한 특별법 to 법령별 directory\n"
     ]
    },
    {
     "name": "stderr",
     "output_type": "stream",
     "text": [
      " 49%|████▊     | 804/1654 [16:21<20:31,  1.45s/it]"
     ]
    },
    {
     "name": "stdout",
     "output_type": "stream",
     "text": [
      "Saved 생명공학육성법 to 법령별 directory\n"
     ]
    },
    {
     "name": "stderr",
     "output_type": "stream",
     "text": [
      " 49%|████▊     | 805/1654 [16:22<18:32,  1.31s/it]"
     ]
    },
    {
     "name": "stdout",
     "output_type": "stream",
     "text": [
      "Saved 생명연구자원의 확보ㆍ관리 및 활용에 관한 법률 to 법령별 directory\n"
     ]
    },
    {
     "name": "stderr",
     "output_type": "stream",
     "text": [
      " 49%|████▊     | 806/1654 [16:24<18:33,  1.31s/it]"
     ]
    },
    {
     "name": "stdout",
     "output_type": "stream",
     "text": [
      "Saved 생명윤리 및 안전에 관한 법률 to 법령별 directory\n"
     ]
    },
    {
     "name": "stderr",
     "output_type": "stream",
     "text": [
      " 49%|████▉     | 807/1654 [16:25<18:00,  1.28s/it]"
     ]
    },
    {
     "name": "stdout",
     "output_type": "stream",
     "text": [
      "Saved 생물다양성 보전 및 이용에 관한 법률 to 법령별 directory\n"
     ]
    },
    {
     "name": "stderr",
     "output_type": "stream",
     "text": [
      " 49%|████▉     | 808/1654 [16:26<17:20,  1.23s/it]"
     ]
    },
    {
     "name": "stdout",
     "output_type": "stream",
     "text": [
      "Saved 생물자원관의 설립 및 운영에 관한 법률 to 법령별 directory\n"
     ]
    },
    {
     "name": "stderr",
     "output_type": "stream",
     "text": [
      " 49%|████▉     | 809/1654 [16:27<16:56,  1.20s/it]"
     ]
    },
    {
     "name": "stdout",
     "output_type": "stream",
     "text": [
      "Saved 생활물류서비스산업발전법 to 법령별 directory\n"
     ]
    },
    {
     "name": "stderr",
     "output_type": "stream",
     "text": [
      " 49%|████▉     | 810/1654 [16:28<16:33,  1.18s/it]"
     ]
    },
    {
     "name": "stdout",
     "output_type": "stream",
     "text": [
      "Saved 생활주변방사선 안전관리법 to 법령별 directory\n"
     ]
    },
    {
     "name": "stderr",
     "output_type": "stream",
     "text": [
      " 49%|████▉     | 811/1654 [16:29<16:13,  1.16s/it]"
     ]
    },
    {
     "name": "stdout",
     "output_type": "stream",
     "text": [
      "Saved 생활체육진흥법 to 법령별 directory\n"
     ]
    },
    {
     "name": "stderr",
     "output_type": "stream",
     "text": [
      " 49%|████▉     | 812/1654 [16:31<19:18,  1.38s/it]"
     ]
    },
    {
     "name": "stdout",
     "output_type": "stream",
     "text": [
      "Saved 생활화학제품 및 살생물제의 안전관리에 관한 법률 to 법령별 directory\n"
     ]
    },
    {
     "name": "stderr",
     "output_type": "stream",
     "text": [
      " 49%|████▉     | 813/1654 [16:33<18:54,  1.35s/it]"
     ]
    },
    {
     "name": "stdout",
     "output_type": "stream",
     "text": [
      "Saved 서민의 금융생활 지원에 관한 법률 to 법령별 directory\n"
     ]
    },
    {
     "name": "stderr",
     "output_type": "stream",
     "text": [
      " 49%|████▉     | 814/1654 [16:34<17:03,  1.22s/it]"
     ]
    },
    {
     "name": "stdout",
     "output_type": "stream",
     "text": [
      "Saved 서예진흥에 관한 법률 to 법령별 directory\n"
     ]
    },
    {
     "name": "stderr",
     "output_type": "stream",
     "text": [
      " 49%|████▉     | 815/1654 [16:34<15:40,  1.12s/it]"
     ]
    },
    {
     "name": "stdout",
     "output_type": "stream",
     "text": [
      "No data found for 서울대학교병원 설치법\n"
     ]
    },
    {
     "name": "stderr",
     "output_type": "stream",
     "text": [
      " 49%|████▉     | 816/1654 [16:35<14:55,  1.07s/it]"
     ]
    },
    {
     "name": "stdout",
     "output_type": "stream",
     "text": [
      "No data found for 서울대학교치과병원 설치법\n"
     ]
    },
    {
     "name": "stderr",
     "output_type": "stream",
     "text": [
      " 49%|████▉     | 817/1654 [16:36<14:00,  1.00s/it]"
     ]
    },
    {
     "name": "stdout",
     "output_type": "stream",
     "text": [
      "No data found for 서울특별시 행정특례에 관한 법률\n"
     ]
    },
    {
     "name": "stderr",
     "output_type": "stream",
     "text": [
      " 49%|████▉     | 818/1654 [16:37<13:40,  1.02it/s]"
     ]
    },
    {
     "name": "stdout",
     "output_type": "stream",
     "text": [
      "Saved 서해 5도 지원 특별법 to 법령별 directory\n"
     ]
    },
    {
     "name": "stderr",
     "output_type": "stream",
     "text": [
      " 50%|████▉     | 819/1654 [16:39<15:30,  1.11s/it]"
     ]
    },
    {
     "name": "stdout",
     "output_type": "stream",
     "text": [
      "Saved 석면안전관리법 to 법령별 directory\n"
     ]
    },
    {
     "name": "stderr",
     "output_type": "stream",
     "text": [
      " 50%|████▉     | 820/1654 [16:40<15:59,  1.15s/it]"
     ]
    },
    {
     "name": "stdout",
     "output_type": "stream",
     "text": [
      "Saved 석면피해구제법 to 법령별 directory\n"
     ]
    },
    {
     "name": "stderr",
     "output_type": "stream",
     "text": [
      " 50%|████▉     | 821/1654 [16:41<17:07,  1.23s/it]"
     ]
    },
    {
     "name": "stdout",
     "output_type": "stream",
     "text": [
      "Saved 석유 및 석유대체연료 사업법 to 법령별 directory\n"
     ]
    },
    {
     "name": "stderr",
     "output_type": "stream",
     "text": [
      " 50%|████▉     | 822/1654 [16:42<16:09,  1.17s/it]"
     ]
    },
    {
     "name": "stdout",
     "output_type": "stream",
     "text": [
      "Saved 석재산업 진흥에 관한 법률 to 법령별 directory\n"
     ]
    },
    {
     "name": "stderr",
     "output_type": "stream",
     "text": [
      " 50%|████▉     | 823/1654 [16:44<16:34,  1.20s/it]"
     ]
    },
    {
     "name": "stdout",
     "output_type": "stream",
     "text": [
      "Saved 석탄산업법 to 법령별 directory\n"
     ]
    },
    {
     "name": "stderr",
     "output_type": "stream",
     "text": [
      " 50%|████▉     | 824/1654 [16:45<16:30,  1.19s/it]"
     ]
    },
    {
     "name": "stdout",
     "output_type": "stream",
     "text": [
      "No data found for 선거관리위원회법\n"
     ]
    },
    {
     "name": "stderr",
     "output_type": "stream",
     "text": [
      " 50%|████▉     | 825/1654 [16:46<15:30,  1.12s/it]"
     ]
    },
    {
     "name": "stdout",
     "output_type": "stream",
     "text": [
      "Saved 선박관리산업발전법 to 법령별 directory\n"
     ]
    },
    {
     "name": "stderr",
     "output_type": "stream",
     "text": [
      " 50%|████▉     | 826/1654 [16:47<14:26,  1.05s/it]"
     ]
    },
    {
     "name": "stdout",
     "output_type": "stream",
     "text": [
      "Saved 선박교통관제에 관한 법률 to 법령별 directory\n"
     ]
    },
    {
     "name": "stderr",
     "output_type": "stream",
     "text": [
      " 50%|█████     | 827/1654 [16:47<13:53,  1.01s/it]"
     ]
    },
    {
     "name": "stdout",
     "output_type": "stream",
     "text": [
      "No data found for 선박등기법\n"
     ]
    },
    {
     "name": "stderr",
     "output_type": "stream",
     "text": [
      " 50%|█████     | 828/1654 [16:49<15:14,  1.11s/it]"
     ]
    },
    {
     "name": "stdout",
     "output_type": "stream",
     "text": [
      "Saved 선박 및 해상구조물에 대한 위해행위의 처벌 등에 관한 법률 to 법령별 directory\n"
     ]
    },
    {
     "name": "stderr",
     "output_type": "stream",
     "text": [
      " 50%|█████     | 829/1654 [16:50<15:10,  1.10s/it]"
     ]
    },
    {
     "name": "stdout",
     "output_type": "stream",
     "text": [
      "Saved 선박법 to 법령별 directory\n"
     ]
    },
    {
     "name": "stderr",
     "output_type": "stream",
     "text": [
      " 50%|█████     | 830/1654 [16:51<15:59,  1.16s/it]"
     ]
    },
    {
     "name": "stdout",
     "output_type": "stream",
     "text": [
      "No data found for 선박소유자 등의 책임제한절차에 관한 법률\n"
     ]
    },
    {
     "name": "stderr",
     "output_type": "stream",
     "text": [
      " 50%|█████     | 831/1654 [16:53<17:13,  1.26s/it]"
     ]
    },
    {
     "name": "stdout",
     "output_type": "stream",
     "text": [
      "Saved 선박안전법 to 법령별 directory\n"
     ]
    },
    {
     "name": "stderr",
     "output_type": "stream",
     "text": [
      " 50%|█████     | 832/1654 [16:54<17:24,  1.27s/it]"
     ]
    },
    {
     "name": "stdout",
     "output_type": "stream",
     "text": [
      "Saved 선박의 입항 및 출항 등에 관한 법률 to 법령별 directory\n"
     ]
    },
    {
     "name": "stderr",
     "output_type": "stream",
     "text": [
      " 50%|█████     | 833/1654 [16:55<17:22,  1.27s/it]"
     ]
    },
    {
     "name": "stdout",
     "output_type": "stream",
     "text": [
      "Saved 선박직원법 to 법령별 directory\n"
     ]
    },
    {
     "name": "stderr",
     "output_type": "stream",
     "text": [
      " 50%|█████     | 834/1654 [16:56<17:08,  1.25s/it]"
     ]
    },
    {
     "name": "stdout",
     "output_type": "stream",
     "text": [
      "Saved 선박투자회사법 to 법령별 directory\n"
     ]
    },
    {
     "name": "stderr",
     "output_type": "stream",
     "text": [
      " 50%|█████     | 835/1654 [16:58<17:41,  1.30s/it]"
     ]
    },
    {
     "name": "stdout",
     "output_type": "stream",
     "text": [
      "Saved 선박평형수(船舶平衡水) 관리법 to 법령별 directory\n"
     ]
    },
    {
     "name": "stderr",
     "output_type": "stream",
     "text": [
      " 51%|█████     | 836/1654 [17:00<20:31,  1.51s/it]"
     ]
    },
    {
     "name": "stdout",
     "output_type": "stream",
     "text": [
      "Saved 선원법 to 법령별 directory\n"
     ]
    },
    {
     "name": "stderr",
     "output_type": "stream",
     "text": [
      " 51%|█████     | 837/1654 [17:01<19:00,  1.40s/it]"
     ]
    },
    {
     "name": "stdout",
     "output_type": "stream",
     "text": [
      "Saved 선주상호보험조합법 to 법령별 directory\n"
     ]
    },
    {
     "name": "stderr",
     "output_type": "stream",
     "text": [
      " 51%|█████     | 838/1654 [17:02<17:16,  1.27s/it]"
     ]
    },
    {
     "name": "stdout",
     "output_type": "stream",
     "text": [
      "Saved 섬 발전 촉진법 to 법령별 directory\n"
     ]
    },
    {
     "name": "stderr",
     "output_type": "stream",
     "text": [
      " 51%|█████     | 839/1654 [17:03<16:02,  1.18s/it]"
     ]
    },
    {
     "name": "stdout",
     "output_type": "stream",
     "text": [
      "Saved 성균관ㆍ향교ㆍ서원전통문화의 계승ㆍ발전 및 지원에 관한 법률 to 법령별 directory\n"
     ]
    },
    {
     "name": "stderr",
     "output_type": "stream",
     "text": [
      " 51%|█████     | 840/1654 [17:04<15:22,  1.13s/it]"
     ]
    },
    {
     "name": "stdout",
     "output_type": "stream",
     "text": [
      "Saved 성매매방지 및 피해자보호 등에 관한 법률 to 법령별 directory\n"
     ]
    },
    {
     "name": "stderr",
     "output_type": "stream",
     "text": [
      " 51%|█████     | 841/1654 [17:05<14:33,  1.07s/it]"
     ]
    },
    {
     "name": "stdout",
     "output_type": "stream",
     "text": [
      "Saved 성매매알선 등 행위의 처벌에 관한 법률 to 법령별 directory\n"
     ]
    },
    {
     "name": "stderr",
     "output_type": "stream",
     "text": [
      " 51%|█████     | 842/1654 [17:06<13:57,  1.03s/it]"
     ]
    },
    {
     "name": "stdout",
     "output_type": "stream",
     "text": [
      "Saved 성별영향평가법 to 법령별 directory\n"
     ]
    },
    {
     "name": "stderr",
     "output_type": "stream",
     "text": [
      " 51%|█████     | 843/1654 [17:07<14:49,  1.10s/it]"
     ]
    },
    {
     "name": "stdout",
     "output_type": "stream",
     "text": [
      "Saved 성폭력방지 및 피해자보호 등에 관한 법률 to 법령별 directory\n"
     ]
    },
    {
     "name": "stderr",
     "output_type": "stream",
     "text": [
      " 51%|█████     | 844/1654 [17:09<18:32,  1.37s/it]"
     ]
    },
    {
     "name": "stdout",
     "output_type": "stream",
     "text": [
      "Saved 성폭력범죄의 처벌 등에 관한 특례법 to 법령별 directory\n"
     ]
    },
    {
     "name": "stderr",
     "output_type": "stream",
     "text": [
      " 51%|█████     | 845/1654 [17:10<17:31,  1.30s/it]"
     ]
    },
    {
     "name": "stdout",
     "output_type": "stream",
     "text": [
      "Saved 성폭력범죄자의 성충동 약물치료에 관한 법률 to 법령별 directory\n"
     ]
    },
    {
     "name": "stderr",
     "output_type": "stream",
     "text": [
      " 51%|█████     | 846/1654 [17:12<17:30,  1.30s/it]"
     ]
    },
    {
     "name": "stdout",
     "output_type": "stream",
     "text": [
      "No data found for 세계무역기구협정의 이행에 관한 특별법\n"
     ]
    },
    {
     "name": "stderr",
     "output_type": "stream",
     "text": [
      " 51%|█████     | 847/1654 [17:12<15:32,  1.15s/it]"
     ]
    },
    {
     "name": "stdout",
     "output_type": "stream",
     "text": [
      "No data found for 세계선거기관협의회 지원에 관한 법률\n"
     ]
    },
    {
     "name": "stderr",
     "output_type": "stream",
     "text": [
      " 51%|█████▏    | 848/1654 [17:13<15:29,  1.15s/it]"
     ]
    },
    {
     "name": "stdout",
     "output_type": "stream",
     "text": [
      "Saved 세계유산의 보존ㆍ관리 및 활용에 관한 특별법 to 법령별 directory\n"
     ]
    },
    {
     "name": "stderr",
     "output_type": "stream",
     "text": [
      " 51%|█████▏    | 849/1654 [17:15<16:17,  1.21s/it]"
     ]
    },
    {
     "name": "stdout",
     "output_type": "stream",
     "text": [
      "Saved 세무사법 to 법령별 directory\n"
     ]
    },
    {
     "name": "stderr",
     "output_type": "stream",
     "text": [
      " 51%|█████▏    | 850/1654 [17:16<16:16,  1.21s/it]"
     ]
    },
    {
     "name": "stdout",
     "output_type": "stream",
     "text": [
      "Saved 세월호 선체조사위원회의 설치 및 운영에 관한 특별법 to 법령별 directory\n"
     ]
    },
    {
     "name": "stderr",
     "output_type": "stream",
     "text": [
      " 51%|█████▏    | 851/1654 [17:17<15:52,  1.19s/it]"
     ]
    },
    {
     "name": "stdout",
     "output_type": "stream",
     "text": [
      "No data found for 세종특별자치시 설치 등에 관한 특별법\n"
     ]
    },
    {
     "name": "stderr",
     "output_type": "stream",
     "text": [
      " 52%|█████▏    | 852/1654 [17:18<15:12,  1.14s/it]"
     ]
    },
    {
     "name": "stdout",
     "output_type": "stream",
     "text": [
      "Saved 소규모 공공시설 안전관리 등에 관한 법률 to 법령별 directory\n"
     ]
    },
    {
     "name": "stderr",
     "output_type": "stream",
     "text": [
      " 52%|█████▏    | 853/1654 [17:19<15:40,  1.17s/it]"
     ]
    },
    {
     "name": "stdout",
     "output_type": "stream",
     "text": [
      "Saved 소금산업 진흥법 to 법령별 directory\n"
     ]
    },
    {
     "name": "stderr",
     "output_type": "stream",
     "text": [
      " 52%|█████▏    | 854/1654 [17:21<15:46,  1.18s/it]"
     ]
    },
    {
     "name": "stdout",
     "output_type": "stream",
     "text": [
      "Saved 소나무재선충병 방제특별법 to 법령별 directory\n"
     ]
    },
    {
     "name": "stderr",
     "output_type": "stream",
     "text": [
      " 52%|█████▏    | 855/1654 [17:22<16:19,  1.23s/it]"
     ]
    },
    {
     "name": "stdout",
     "output_type": "stream",
     "text": [
      "No data found for 소년법\n"
     ]
    },
    {
     "name": "stderr",
     "output_type": "stream",
     "text": [
      " 52%|█████▏    | 856/1654 [17:26<25:31,  1.92s/it]"
     ]
    },
    {
     "name": "stdout",
     "output_type": "stream",
     "text": [
      "Saved 소득세법 to 법령별 directory\n"
     ]
    },
    {
     "name": "stderr",
     "output_type": "stream",
     "text": [
      " 52%|█████▏    | 857/1654 [17:27<22:06,  1.66s/it]"
     ]
    },
    {
     "name": "stdout",
     "output_type": "stream",
     "text": [
      "Saved 소방공무원법 to 법령별 directory\n"
     ]
    },
    {
     "name": "stderr",
     "output_type": "stream",
     "text": [
      " 52%|█████▏    | 858/1654 [17:28<19:05,  1.44s/it]"
     ]
    },
    {
     "name": "stdout",
     "output_type": "stream",
     "text": [
      "Saved 소방공무원 보건안전 및 복지 기본법 to 법령별 directory\n"
     ]
    },
    {
     "name": "stderr",
     "output_type": "stream",
     "text": [
      " 52%|█████▏    | 859/1654 [17:29<18:50,  1.42s/it]"
     ]
    },
    {
     "name": "stdout",
     "output_type": "stream",
     "text": [
      "Saved 소방기본법 to 법령별 directory\n"
     ]
    },
    {
     "name": "stderr",
     "output_type": "stream",
     "text": [
      " 52%|█████▏    | 860/1654 [17:30<17:00,  1.28s/it]"
     ]
    },
    {
     "name": "stdout",
     "output_type": "stream",
     "text": [
      "Saved 소방산업의 진흥에 관한 법률 to 법령별 directory\n"
     ]
    },
    {
     "name": "stderr",
     "output_type": "stream",
     "text": [
      " 52%|█████▏    | 861/1654 [17:31<17:20,  1.31s/it]"
     ]
    },
    {
     "name": "stdout",
     "output_type": "stream",
     "text": [
      "Saved 소방시설공사업법 to 법령별 directory\n"
     ]
    },
    {
     "name": "stderr",
     "output_type": "stream",
     "text": [
      " 52%|█████▏    | 862/1654 [17:32<17:00,  1.29s/it]"
     ]
    },
    {
     "name": "stdout",
     "output_type": "stream",
     "text": [
      "Saved 소방시설 설치 및 관리에 관한 법률 to 법령별 directory\n"
     ]
    },
    {
     "name": "stderr",
     "output_type": "stream",
     "text": [
      " 52%|█████▏    | 863/1654 [17:33<15:24,  1.17s/it]"
     ]
    },
    {
     "name": "stdout",
     "output_type": "stream",
     "text": [
      "Saved 소방의 화재조사에 관한 법률 to 법령별 directory\n"
     ]
    },
    {
     "name": "stderr",
     "output_type": "stream",
     "text": [
      " 52%|█████▏    | 864/1654 [17:34<14:34,  1.11s/it]"
     ]
    },
    {
     "name": "stdout",
     "output_type": "stream",
     "text": [
      "Saved 소방장비관리법 to 법령별 directory\n"
     ]
    },
    {
     "name": "stderr",
     "output_type": "stream",
     "text": [
      " 52%|█████▏    | 865/1654 [17:35<13:34,  1.03s/it]"
     ]
    },
    {
     "name": "stdout",
     "output_type": "stream",
     "text": [
      "Saved 소방재정지원 및 시ㆍ도 소방특별회계 설치법 to 법령별 directory\n"
     ]
    },
    {
     "name": "stderr",
     "output_type": "stream",
     "text": [
      " 52%|█████▏    | 866/1654 [17:37<14:59,  1.14s/it]"
     ]
    },
    {
     "name": "stdout",
     "output_type": "stream",
     "text": [
      "Saved 소비자기본법 to 법령별 directory\n"
     ]
    },
    {
     "name": "stderr",
     "output_type": "stream",
     "text": [
      " 52%|█████▏    | 867/1654 [17:38<15:50,  1.21s/it]"
     ]
    },
    {
     "name": "stdout",
     "output_type": "stream",
     "text": [
      "Saved 소비자생활협동조합법 to 법령별 directory\n"
     ]
    },
    {
     "name": "stderr",
     "output_type": "stream",
     "text": [
      " 52%|█████▏    | 868/1654 [17:39<14:53,  1.14s/it]"
     ]
    },
    {
     "name": "stdout",
     "output_type": "stream",
     "text": [
      "Saved 소상공인기본법 to 법령별 directory\n"
     ]
    },
    {
     "name": "stderr",
     "output_type": "stream",
     "text": [
      " 53%|█████▎    | 869/1654 [17:40<15:39,  1.20s/it]"
     ]
    },
    {
     "name": "stdout",
     "output_type": "stream",
     "text": [
      "Saved 소상공인 보호 및 지원에 관한 법률 to 법령별 directory\n"
     ]
    },
    {
     "name": "stderr",
     "output_type": "stream",
     "text": [
      " 53%|█████▎    | 870/1654 [17:41<14:29,  1.11s/it]"
     ]
    },
    {
     "name": "stdout",
     "output_type": "stream",
     "text": [
      "Saved 소상공인 생계형 적합업종 지정에 관한 특별법 to 법령별 directory\n"
     ]
    },
    {
     "name": "stderr",
     "output_type": "stream",
     "text": [
      " 53%|█████▎    | 871/1654 [17:42<14:45,  1.13s/it]"
     ]
    },
    {
     "name": "stdout",
     "output_type": "stream",
     "text": [
      "No data found for 소송촉진 등에 관한 특례법\n"
     ]
    },
    {
     "name": "stderr",
     "output_type": "stream",
     "text": [
      " 53%|█████▎    | 872/1654 [17:43<14:26,  1.11s/it]"
     ]
    },
    {
     "name": "stdout",
     "output_type": "stream",
     "text": [
      "No data found for 소액사건심판법\n"
     ]
    },
    {
     "name": "stderr",
     "output_type": "stream",
     "text": [
      " 53%|█████▎    | 873/1654 [17:45<14:58,  1.15s/it]"
     ]
    },
    {
     "name": "stdout",
     "output_type": "stream",
     "text": [
      "Saved 소음ㆍ진동관리법 to 법령별 directory\n"
     ]
    },
    {
     "name": "stderr",
     "output_type": "stream",
     "text": [
      " 53%|█████▎    | 874/1654 [17:46<15:19,  1.18s/it]"
     ]
    },
    {
     "name": "stdout",
     "output_type": "stream",
     "text": [
      "Saved 소재ㆍ부품ㆍ장비산업 경쟁력 강화 및 공급망 안정화를 위한 특별조치법 to 법령별 directory\n"
     ]
    },
    {
     "name": "stderr",
     "output_type": "stream",
     "text": [
      " 53%|█████▎    | 875/1654 [17:47<15:27,  1.19s/it]"
     ]
    },
    {
     "name": "stdout",
     "output_type": "stream",
     "text": [
      "Saved 소프트웨어 진흥법 to 법령별 directory\n"
     ]
    },
    {
     "name": "stderr",
     "output_type": "stream",
     "text": [
      " 53%|█████▎    | 876/1654 [17:48<15:09,  1.17s/it]"
     ]
    },
    {
     "name": "stdout",
     "output_type": "stream",
     "text": [
      "Saved 소하천정비법 to 법령별 directory\n"
     ]
    },
    {
     "name": "stderr",
     "output_type": "stream",
     "text": [
      " 53%|█████▎    | 877/1654 [17:49<13:36,  1.05s/it]"
     ]
    },
    {
     "name": "stdout",
     "output_type": "stream",
     "text": [
      "Saved 송ㆍ변전설비 주변지역의 보상 및 지원에 관한 법률 to 법령별 directory\n"
     ]
    },
    {
     "name": "stderr",
     "output_type": "stream",
     "text": [
      " 53%|█████▎    | 878/1654 [17:50<13:29,  1.04s/it]"
     ]
    },
    {
     "name": "stdout",
     "output_type": "stream",
     "text": [
      "Saved 송유관 안전관리법 to 법령별 directory\n"
     ]
    },
    {
     "name": "stderr",
     "output_type": "stream",
     "text": [
      " 53%|█████▎    | 879/1654 [17:52<15:59,  1.24s/it]"
     ]
    },
    {
     "name": "stdout",
     "output_type": "stream",
     "text": [
      "Saved 수도권매립지관리공사의 설립 및 운영 등에 관한 법률 to 법령별 directory\n"
     ]
    },
    {
     "name": "stderr",
     "output_type": "stream",
     "text": [
      " 53%|█████▎    | 880/1654 [17:53<15:08,  1.17s/it]"
     ]
    },
    {
     "name": "stdout",
     "output_type": "stream",
     "text": [
      "Saved 수도권정비계획법 to 법령별 directory\n"
     ]
    },
    {
     "name": "stderr",
     "output_type": "stream",
     "text": [
      " 53%|█████▎    | 881/1654 [17:54<16:41,  1.30s/it]"
     ]
    },
    {
     "name": "stdout",
     "output_type": "stream",
     "text": [
      "Saved 수도법 to 법령별 directory\n"
     ]
    },
    {
     "name": "stderr",
     "output_type": "stream",
     "text": [
      " 53%|█████▎    | 882/1654 [17:56<17:05,  1.33s/it]"
     ]
    },
    {
     "name": "stdout",
     "output_type": "stream",
     "text": [
      "Saved 수목원ㆍ정원의 조성 및 진흥에 관한 법률 to 법령별 directory\n"
     ]
    },
    {
     "name": "stderr",
     "output_type": "stream",
     "text": [
      " 53%|█████▎    | 883/1654 [17:57<15:14,  1.19s/it]"
     ]
    },
    {
     "name": "stdout",
     "output_type": "stream",
     "text": [
      "Saved 수복지역내소유자미복구토지의복구등록과보존등기등에관한특별조치법 to 법령별 directory\n"
     ]
    },
    {
     "name": "stderr",
     "output_type": "stream",
     "text": [
      " 53%|█████▎    | 884/1654 [17:58<14:18,  1.11s/it]"
     ]
    },
    {
     "name": "stdout",
     "output_type": "stream",
     "text": [
      "Saved 수산과학기술진흥을 위한 시험연구 등에 관한 법률 to 법령별 directory\n"
     ]
    },
    {
     "name": "stderr",
     "output_type": "stream",
     "text": [
      " 54%|█████▎    | 885/1654 [17:59<15:26,  1.20s/it]"
     ]
    },
    {
     "name": "stdout",
     "output_type": "stream",
     "text": [
      "Saved 수산물 유통의 관리 및 지원에 관한 법률 to 법령별 directory\n"
     ]
    },
    {
     "name": "stderr",
     "output_type": "stream",
     "text": [
      " 54%|█████▎    | 886/1654 [18:00<15:34,  1.22s/it]"
     ]
    },
    {
     "name": "stdout",
     "output_type": "stream",
     "text": [
      "Saved 수산부산물 재활용 촉진에 관한 법률 to 법령별 directory\n"
     ]
    },
    {
     "name": "stderr",
     "output_type": "stream",
     "text": [
      " 54%|█████▎    | 887/1654 [18:02<16:10,  1.26s/it]"
     ]
    },
    {
     "name": "stdout",
     "output_type": "stream",
     "text": [
      "Saved 수산생물질병 관리법 to 법령별 directory\n"
     ]
    },
    {
     "name": "stderr",
     "output_type": "stream",
     "text": [
      " 54%|█████▎    | 888/1654 [18:03<15:55,  1.25s/it]"
     ]
    },
    {
     "name": "stdout",
     "output_type": "stream",
     "text": [
      "Saved 수산식품산업의 육성 및 지원에 관한 법률 to 법령별 directory\n"
     ]
    },
    {
     "name": "stderr",
     "output_type": "stream",
     "text": [
      " 54%|█████▎    | 889/1654 [18:04<16:39,  1.31s/it]"
     ]
    },
    {
     "name": "stdout",
     "output_type": "stream",
     "text": [
      "Saved 수산업법 to 법령별 directory\n"
     ]
    },
    {
     "name": "stderr",
     "output_type": "stream",
     "text": [
      " 54%|█████▍    | 890/1654 [18:05<15:40,  1.23s/it]"
     ]
    },
    {
     "name": "stdout",
     "output_type": "stream",
     "text": [
      "Saved 수산업ㆍ어촌 공익기능 증진을 위한 직접지불제도 운영에 관한 법률 to 법령별 directory\n"
     ]
    },
    {
     "name": "stderr",
     "output_type": "stream",
     "text": [
      " 54%|█████▍    | 891/1654 [18:06<15:08,  1.19s/it]"
     ]
    },
    {
     "name": "stdout",
     "output_type": "stream",
     "text": [
      "Saved 수산업ㆍ어촌 발전 기본법 to 법령별 directory\n"
     ]
    },
    {
     "name": "stderr",
     "output_type": "stream",
     "text": [
      " 54%|█████▍    | 892/1654 [18:09<20:09,  1.59s/it]"
     ]
    },
    {
     "name": "stdout",
     "output_type": "stream",
     "text": [
      "Saved 수산업협동조합법 to 법령별 directory\n"
     ]
    },
    {
     "name": "stderr",
     "output_type": "stream",
     "text": [
      " 54%|█████▍    | 893/1654 [18:10<18:27,  1.46s/it]"
     ]
    },
    {
     "name": "stdout",
     "output_type": "stream",
     "text": [
      "Saved 수산업협동조합의 부실예방 및 구조개선에 관한 법률 to 법령별 directory\n"
     ]
    },
    {
     "name": "stderr",
     "output_type": "stream",
     "text": [
      " 54%|█████▍    | 894/1654 [18:12<18:50,  1.49s/it]"
     ]
    },
    {
     "name": "stdout",
     "output_type": "stream",
     "text": [
      "Saved 수산자원관리법 to 법령별 directory\n"
     ]
    },
    {
     "name": "stderr",
     "output_type": "stream",
     "text": [
      " 54%|█████▍    | 895/1654 [18:13<17:58,  1.42s/it]"
     ]
    },
    {
     "name": "stdout",
     "output_type": "stream",
     "text": [
      "Saved 수산종자산업육성법 to 법령별 directory\n"
     ]
    },
    {
     "name": "stderr",
     "output_type": "stream",
     "text": [
      " 54%|█████▍    | 896/1654 [18:14<16:27,  1.30s/it]"
     ]
    },
    {
     "name": "stdout",
     "output_type": "stream",
     "text": [
      "Saved 수상레저기구의 등록 및 검사에 관한 법률 to 법령별 directory\n"
     ]
    },
    {
     "name": "stderr",
     "output_type": "stream",
     "text": [
      " 54%|█████▍    | 897/1654 [18:15<15:51,  1.26s/it]"
     ]
    },
    {
     "name": "stdout",
     "output_type": "stream",
     "text": [
      "Saved 수상레저안전법 to 법령별 directory\n"
     ]
    },
    {
     "name": "stderr",
     "output_type": "stream",
     "text": [
      " 54%|█████▍    | 898/1654 [18:16<15:45,  1.25s/it]"
     ]
    },
    {
     "name": "stdout",
     "output_type": "stream",
     "text": [
      "Saved 수상에서의 수색ㆍ구조 등에 관한 법률 to 법령별 directory\n"
     ]
    },
    {
     "name": "stderr",
     "output_type": "stream",
     "text": [
      " 54%|█████▍    | 899/1654 [18:18<15:46,  1.25s/it]"
     ]
    },
    {
     "name": "stdout",
     "output_type": "stream",
     "text": [
      "Saved 수소경제 육성 및 수소 안전관리에 관한 법률 to 법령별 directory\n"
     ]
    },
    {
     "name": "stderr",
     "output_type": "stream",
     "text": [
      " 54%|█████▍    | 900/1654 [18:19<15:51,  1.26s/it]"
     ]
    },
    {
     "name": "stdout",
     "output_type": "stream",
     "text": [
      "Saved 수의사법 to 법령별 directory\n"
     ]
    },
    {
     "name": "stderr",
     "output_type": "stream",
     "text": [
      " 54%|█████▍    | 901/1654 [18:20<15:25,  1.23s/it]"
     ]
    },
    {
     "name": "stdout",
     "output_type": "stream",
     "text": [
      "Saved 수입식품안전관리 특별법 to 법령별 directory\n"
     ]
    },
    {
     "name": "stderr",
     "output_type": "stream",
     "text": [
      " 55%|█████▍    | 902/1654 [18:21<14:07,  1.13s/it]"
     ]
    },
    {
     "name": "stdout",
     "output_type": "stream",
     "text": [
      "No data found for 수입인지에 관한 법률\n"
     ]
    },
    {
     "name": "stderr",
     "output_type": "stream",
     "text": [
      " 55%|█████▍    | 903/1654 [18:22<13:52,  1.11s/it]"
     ]
    },
    {
     "name": "stdout",
     "output_type": "stream",
     "text": [
      "Saved 수자원의 조사ㆍ계획 및 관리에 관한 법률 to 법령별 directory\n"
     ]
    },
    {
     "name": "stderr",
     "output_type": "stream",
     "text": [
      " 55%|█████▍    | 904/1654 [18:23<13:24,  1.07s/it]"
     ]
    },
    {
     "name": "stdout",
     "output_type": "stream",
     "text": [
      "Saved 수중레저활동의 안전 및 활성화 등에 관한 법률 to 법령별 directory\n"
     ]
    },
    {
     "name": "stderr",
     "output_type": "stream",
     "text": [
      " 55%|█████▍    | 905/1654 [18:24<12:49,  1.03s/it]"
     ]
    },
    {
     "name": "stdout",
     "output_type": "stream",
     "text": [
      "Saved 수출용 원재료에 대한 관세 등 환급에 관한 특례법 to 법령별 directory\n"
     ]
    },
    {
     "name": "stderr",
     "output_type": "stream",
     "text": [
      " 55%|█████▍    | 906/1654 [18:25<13:17,  1.07s/it]"
     ]
    },
    {
     "name": "stdout",
     "output_type": "stream",
     "text": [
      "No data found for 수표법\n"
     ]
    },
    {
     "name": "stderr",
     "output_type": "stream",
     "text": [
      " 55%|█████▍    | 907/1654 [18:26<13:02,  1.05s/it]"
     ]
    },
    {
     "name": "stdout",
     "output_type": "stream",
     "text": [
      "Saved 숙련기술장려법 to 법령별 directory\n"
     ]
    },
    {
     "name": "stderr",
     "output_type": "stream",
     "text": [
      " 55%|█████▍    | 908/1654 [18:27<13:13,  1.06s/it]"
     ]
    },
    {
     "name": "stdout",
     "output_type": "stream",
     "text": [
      "Saved 순환경제사회 전환 촉진법 to 법령별 directory\n"
     ]
    },
    {
     "name": "stderr",
     "output_type": "stream",
     "text": [
      " 55%|█████▍    | 909/1654 [18:28<12:30,  1.01s/it]"
     ]
    },
    {
     "name": "stdout",
     "output_type": "stream",
     "text": [
      "Saved 스마트농업 육성 및 지원에 관한 법률 to 법령별 directory\n"
     ]
    },
    {
     "name": "stderr",
     "output_type": "stream",
     "text": [
      " 55%|█████▌    | 910/1654 [18:29<13:50,  1.12s/it]"
     ]
    },
    {
     "name": "stdout",
     "output_type": "stream",
     "text": [
      "Saved 스마트도시 조성 및 산업진흥 등에 관한 법률 to 법령별 directory\n"
     ]
    },
    {
     "name": "stderr",
     "output_type": "stream",
     "text": [
      " 55%|█████▌    | 911/1654 [18:31<15:51,  1.28s/it]"
     ]
    },
    {
     "name": "stdout",
     "output_type": "stream",
     "text": [
      "Saved 스카우트활동 육성에 관한 법률 to 법령별 directory\n"
     ]
    },
    {
     "name": "stderr",
     "output_type": "stream",
     "text": [
      " 55%|█████▌    | 912/1654 [18:33<17:04,  1.38s/it]"
     ]
    },
    {
     "name": "stdout",
     "output_type": "stream",
     "text": [
      "Saved 스토킹방지 및 피해자보호 등에 관한 법률 to 법령별 directory\n"
     ]
    },
    {
     "name": "stderr",
     "output_type": "stream",
     "text": [
      " 55%|█████▌    | 913/1654 [18:34<15:42,  1.27s/it]"
     ]
    },
    {
     "name": "stdout",
     "output_type": "stream",
     "text": [
      "Saved 스토킹범죄의 처벌 등에 관한 법률 to 법령별 directory\n"
     ]
    },
    {
     "name": "stderr",
     "output_type": "stream",
     "text": [
      " 55%|█████▌    | 914/1654 [18:35<14:24,  1.17s/it]"
     ]
    },
    {
     "name": "stdout",
     "output_type": "stream",
     "text": [
      "Saved 스포츠기본법 to 법령별 directory\n"
     ]
    },
    {
     "name": "stderr",
     "output_type": "stream",
     "text": [
      " 55%|█████▌    | 915/1654 [18:35<13:27,  1.09s/it]"
     ]
    },
    {
     "name": "stdout",
     "output_type": "stream",
     "text": [
      "Saved 스포츠산업 진흥법 to 법령별 directory\n"
     ]
    },
    {
     "name": "stderr",
     "output_type": "stream",
     "text": [
      " 55%|█████▌    | 916/1654 [18:36<13:06,  1.07s/it]"
     ]
    },
    {
     "name": "stdout",
     "output_type": "stream",
     "text": [
      "Saved 스포츠클럽법 to 법령별 directory\n"
     ]
    },
    {
     "name": "stderr",
     "output_type": "stream",
     "text": [
      " 55%|█████▌    | 917/1654 [18:38<13:13,  1.08s/it]"
     ]
    },
    {
     "name": "stdout",
     "output_type": "stream",
     "text": [
      "Saved 습지보전법 to 법령별 directory\n"
     ]
    },
    {
     "name": "stderr",
     "output_type": "stream",
     "text": [
      " 56%|█████▌    | 918/1654 [18:41<23:06,  1.88s/it]"
     ]
    },
    {
     "name": "stdout",
     "output_type": "stream",
     "text": [
      "Saved 승강기산업 진흥법 to 법령별 directory\n"
     ]
    },
    {
     "name": "stderr",
     "output_type": "stream",
     "text": [
      " 56%|█████▌    | 919/1654 [18:43<21:14,  1.73s/it]"
     ]
    },
    {
     "name": "stdout",
     "output_type": "stream",
     "text": [
      "Saved 승강기 안전관리법 to 법령별 directory\n"
     ]
    },
    {
     "name": "stderr",
     "output_type": "stream",
     "text": [
      " 56%|█████▌    | 920/1654 [18:44<18:23,  1.50s/it]"
     ]
    },
    {
     "name": "stdout",
     "output_type": "stream",
     "text": [
      "Saved 시국사건관련 임용제외 교원의 피해회복을 위한 조치에 관한 특별법 to 법령별 directory\n"
     ]
    },
    {
     "name": "stderr",
     "output_type": "stream",
     "text": [
      " 56%|█████▌    | 921/1654 [18:45<17:24,  1.43s/it]"
     ]
    },
    {
     "name": "stdout",
     "output_type": "stream",
     "text": [
      "Saved 시설물의 안전 및 유지관리에 관한 특별법 to 법령별 directory\n"
     ]
    },
    {
     "name": "stderr",
     "output_type": "stream",
     "text": [
      " 56%|█████▌    | 922/1654 [18:46<16:28,  1.35s/it]"
     ]
    },
    {
     "name": "stdout",
     "output_type": "stream",
     "text": [
      "No data found for 시체 해부 및 보존 등에 관한 법률\n"
     ]
    },
    {
     "name": "stderr",
     "output_type": "stream",
     "text": [
      " 56%|█████▌    | 923/1654 [18:47<16:27,  1.35s/it]"
     ]
    },
    {
     "name": "stdout",
     "output_type": "stream",
     "text": [
      "Saved 식물방역법 to 법령별 directory\n"
     ]
    },
    {
     "name": "stderr",
     "output_type": "stream",
     "text": [
      " 56%|█████▌    | 924/1654 [18:49<16:53,  1.39s/it]"
     ]
    },
    {
     "name": "stdout",
     "output_type": "stream",
     "text": [
      "Saved 식물신품종 보호법 to 법령별 directory\n"
     ]
    },
    {
     "name": "stderr",
     "output_type": "stream",
     "text": [
      " 56%|█████▌    | 925/1654 [18:50<15:52,  1.31s/it]"
     ]
    },
    {
     "name": "stdout",
     "output_type": "stream",
     "text": [
      "Saved 식생활교육지원법 to 법령별 directory\n"
     ]
    },
    {
     "name": "stderr",
     "output_type": "stream",
     "text": [
      " 56%|█████▌    | 926/1654 [18:52<16:23,  1.35s/it]"
     ]
    },
    {
     "name": "stdout",
     "output_type": "stream",
     "text": [
      "Saved 식품등 기부 활성화에 관한 법률 to 법령별 directory\n"
     ]
    },
    {
     "name": "stderr",
     "output_type": "stream",
     "text": [
      " 56%|█████▌    | 927/1654 [18:53<15:08,  1.25s/it]"
     ]
    },
    {
     "name": "stdout",
     "output_type": "stream",
     "text": [
      "Saved 식품 등의 표시ㆍ광고에 관한 법률 to 법령별 directory\n"
     ]
    },
    {
     "name": "stderr",
     "output_type": "stream",
     "text": [
      " 56%|█████▌    | 928/1654 [18:54<15:30,  1.28s/it]"
     ]
    },
    {
     "name": "stdout",
     "output_type": "stream",
     "text": [
      "Saved 식품산업진흥법 to 법령별 directory\n"
     ]
    },
    {
     "name": "stderr",
     "output_type": "stream",
     "text": [
      " 56%|█████▌    | 929/1654 [18:55<15:12,  1.26s/it]"
     ]
    },
    {
     "name": "stdout",
     "output_type": "stream",
     "text": [
      "Saved 식품안전기본법 to 법령별 directory\n"
     ]
    },
    {
     "name": "stderr",
     "output_type": "stream",
     "text": [
      " 56%|█████▌    | 930/1654 [18:57<17:36,  1.46s/it]"
     ]
    },
    {
     "name": "stdout",
     "output_type": "stream",
     "text": [
      "Saved 식품위생법 to 법령별 directory\n"
     ]
    },
    {
     "name": "stderr",
     "output_type": "stream",
     "text": [
      " 56%|█████▋    | 931/1654 [18:58<15:58,  1.33s/it]"
     ]
    },
    {
     "name": "stdout",
     "output_type": "stream",
     "text": [
      "Saved 식품ㆍ의약품 등의 안전 및 제품화 지원에 관한 규제과학혁신법 to 법령별 directory\n"
     ]
    },
    {
     "name": "stderr",
     "output_type": "stream",
     "text": [
      " 56%|█████▋    | 932/1654 [18:59<15:20,  1.28s/it]"
     ]
    },
    {
     "name": "stdout",
     "output_type": "stream",
     "text": [
      "Saved 식품ㆍ의약품분야 시험ㆍ검사 등에 관한 법률 to 법령별 directory\n"
     ]
    },
    {
     "name": "stderr",
     "output_type": "stream",
     "text": [
      " 56%|█████▋    | 933/1654 [19:00<13:57,  1.16s/it]"
     ]
    },
    {
     "name": "stdout",
     "output_type": "stream",
     "text": [
      "Saved 신라왕경 핵심유적 복원ㆍ정비에 관한 특별법 to 법령별 directory\n"
     ]
    },
    {
     "name": "stderr",
     "output_type": "stream",
     "text": [
      " 56%|█████▋    | 934/1654 [19:01<13:30,  1.13s/it]"
     ]
    },
    {
     "name": "stdout",
     "output_type": "stream",
     "text": [
      "Saved 신문 등의 진흥에 관한 법률 to 법령별 directory\n"
     ]
    },
    {
     "name": "stderr",
     "output_type": "stream",
     "text": [
      " 57%|█████▋    | 935/1654 [19:02<13:24,  1.12s/it]"
     ]
    },
    {
     "name": "stdout",
     "output_type": "stream",
     "text": [
      "Saved 신에너지 및 재생에너지 개발ㆍ이용ㆍ보급 촉진법 to 법령별 directory\n"
     ]
    },
    {
     "name": "stderr",
     "output_type": "stream",
     "text": [
      " 57%|█████▋    | 936/1654 [19:03<13:50,  1.16s/it]"
     ]
    },
    {
     "name": "stdout",
     "output_type": "stream",
     "text": [
      "Saved 신용보증기금법 to 법령별 directory\n"
     ]
    },
    {
     "name": "stderr",
     "output_type": "stream",
     "text": [
      " 57%|█████▋    | 937/1654 [19:05<16:05,  1.35s/it]"
     ]
    },
    {
     "name": "stdout",
     "output_type": "stream",
     "text": [
      "Saved 신용정보의 이용 및 보호에 관한 법률 to 법령별 directory\n"
     ]
    },
    {
     "name": "stderr",
     "output_type": "stream",
     "text": [
      " 57%|█████▋    | 938/1654 [19:07<17:37,  1.48s/it]"
     ]
    },
    {
     "name": "stdout",
     "output_type": "stream",
     "text": [
      "Saved 신용협동조합법 to 법령별 directory\n"
     ]
    },
    {
     "name": "stderr",
     "output_type": "stream",
     "text": [
      " 57%|█████▋    | 939/1654 [19:08<15:14,  1.28s/it]"
     ]
    },
    {
     "name": "stdout",
     "output_type": "stream",
     "text": [
      "Saved 신원보증법 to 법령별 directory\n"
     ]
    },
    {
     "name": "stderr",
     "output_type": "stream",
     "text": [
      " 57%|█████▋    | 940/1654 [19:09<16:01,  1.35s/it]"
     ]
    },
    {
     "name": "stdout",
     "output_type": "stream",
     "text": [
      "No data found for 신탁법\n"
     ]
    },
    {
     "name": "stderr",
     "output_type": "stream",
     "text": [
      " 57%|█████▋    | 941/1654 [19:11<17:27,  1.47s/it]"
     ]
    },
    {
     "name": "stdout",
     "output_type": "stream",
     "text": [
      "Saved 신항만건설 촉진법 to 법령별 directory\n"
     ]
    },
    {
     "name": "stderr",
     "output_type": "stream",
     "text": [
      " 57%|█████▋    | 942/1654 [19:13<18:15,  1.54s/it]"
     ]
    },
    {
     "name": "stdout",
     "output_type": "stream",
     "text": [
      "Saved 신행정수도 후속대책을 위한 연기ㆍ공주지역 행정중심복합도시 건설을 위한 특별법 to 법령별 directory\n"
     ]
    },
    {
     "name": "stderr",
     "output_type": "stream",
     "text": [
      " 57%|█████▋    | 943/1654 [19:14<16:37,  1.40s/it]"
     ]
    },
    {
     "name": "stdout",
     "output_type": "stream",
     "text": [
      "Saved 실내공기질 관리법 to 법령별 directory\n"
     ]
    },
    {
     "name": "stderr",
     "output_type": "stream",
     "text": [
      " 57%|█████▋    | 944/1654 [19:15<16:59,  1.44s/it]"
     ]
    },
    {
     "name": "stdout",
     "output_type": "stream",
     "text": [
      "Saved 실용신안법 to 법령별 directory\n"
     ]
    },
    {
     "name": "stderr",
     "output_type": "stream",
     "text": [
      " 57%|█████▋    | 945/1654 [19:17<16:01,  1.36s/it]"
     ]
    },
    {
     "name": "stdout",
     "output_type": "stream",
     "text": [
      "Saved 실종아동등의 보호 및 지원에 관한 법률 to 법령별 directory\n"
     ]
    },
    {
     "name": "stderr",
     "output_type": "stream",
     "text": [
      " 57%|█████▋    | 946/1654 [19:18<15:10,  1.29s/it]"
     ]
    },
    {
     "name": "stdout",
     "output_type": "stream",
     "text": [
      "Saved 실험동물에 관한 법률 to 법령별 directory\n"
     ]
    },
    {
     "name": "stderr",
     "output_type": "stream",
     "text": [
      " 57%|█████▋    | 947/1654 [19:19<13:45,  1.17s/it]"
     ]
    },
    {
     "name": "stdout",
     "output_type": "stream",
     "text": [
      "No data found for 실화책임에 관한 법률\n"
     ]
    },
    {
     "name": "stderr",
     "output_type": "stream",
     "text": [
      " 57%|█████▋    | 948/1654 [19:20<12:59,  1.10s/it]"
     ]
    },
    {
     "name": "stdout",
     "output_type": "stream",
     "text": [
      "Saved 심뇌혈관질환의 예방 및 관리에 관한 법률 to 법령별 directory\n"
     ]
    },
    {
     "name": "stderr",
     "output_type": "stream",
     "text": [
      " 57%|█████▋    | 949/1654 [19:21<12:39,  1.08s/it]"
     ]
    },
    {
     "name": "stdout",
     "output_type": "stream",
     "text": [
      "Saved 쌀가공산업 육성 및 쌀 이용 촉진에 관한 법률 to 법령별 directory\n"
     ]
    },
    {
     "name": "stderr",
     "output_type": "stream",
     "text": [
      " 57%|█████▋    | 950/1654 [19:21<11:40,  1.01it/s]"
     ]
    },
    {
     "name": "stdout",
     "output_type": "stream",
     "text": [
      "Saved 씨름 진흥법 to 법령별 directory\n"
     ]
    },
    {
     "name": "stderr",
     "output_type": "stream",
     "text": [
      " 57%|█████▋    | 951/1654 [19:23<14:31,  1.24s/it]"
     ]
    },
    {
     "name": "stdout",
     "output_type": "stream",
     "text": [
      "Saved 아동복지법 to 법령별 directory\n"
     ]
    },
    {
     "name": "stderr",
     "output_type": "stream",
     "text": [
      " 58%|█████▊    | 952/1654 [19:24<13:13,  1.13s/it]"
     ]
    },
    {
     "name": "stdout",
     "output_type": "stream",
     "text": [
      "Saved 아동수당법 to 법령별 directory\n"
     ]
    },
    {
     "name": "stderr",
     "output_type": "stream",
     "text": [
      " 58%|█████▊    | 953/1654 [19:25<12:46,  1.09s/it]"
     ]
    },
    {
     "name": "stdout",
     "output_type": "stream",
     "text": [
      "Saved 아동의 빈곤예방 및 지원 등에 관한 법률 to 법령별 directory\n"
     ]
    },
    {
     "name": "stderr",
     "output_type": "stream",
     "text": [
      " 58%|█████▊    | 954/1654 [19:27<14:07,  1.21s/it]"
     ]
    },
    {
     "name": "stdout",
     "output_type": "stream",
     "text": [
      "Saved 아동ㆍ청소년의 성보호에 관한 법률 to 법령별 directory\n"
     ]
    },
    {
     "name": "stderr",
     "output_type": "stream",
     "text": [
      " 58%|█████▊    | 955/1654 [19:28<14:28,  1.24s/it]"
     ]
    },
    {
     "name": "stdout",
     "output_type": "stream",
     "text": [
      "Saved 아동학대범죄의 처벌 등에 관한 특례법 to 법령별 directory\n"
     ]
    },
    {
     "name": "stderr",
     "output_type": "stream",
     "text": [
      " 58%|█████▊    | 956/1654 [19:29<14:32,  1.25s/it]"
     ]
    },
    {
     "name": "stdout",
     "output_type": "stream",
     "text": [
      "Saved 아시아문화중심도시 조성에 관한 특별법 to 법령별 directory\n"
     ]
    },
    {
     "name": "stderr",
     "output_type": "stream",
     "text": [
      " 58%|█████▊    | 957/1654 [19:30<14:00,  1.21s/it]"
     ]
    },
    {
     "name": "stdout",
     "output_type": "stream",
     "text": [
      "Saved 아이돌봄 지원법 to 법령별 directory\n"
     ]
    },
    {
     "name": "stderr",
     "output_type": "stream",
     "text": [
      " 58%|█████▊    | 958/1654 [19:31<13:58,  1.21s/it]"
     ]
    },
    {
     "name": "stdout",
     "output_type": "stream",
     "text": [
      "Saved 악취방지법 to 법령별 directory\n"
     ]
    },
    {
     "name": "stderr",
     "output_type": "stream",
     "text": [
      " 58%|█████▊    | 959/1654 [19:33<14:02,  1.21s/it]"
     ]
    },
    {
     "name": "stdout",
     "output_type": "stream",
     "text": [
      "No data found for 암관리법\n"
     ]
    },
    {
     "name": "stderr",
     "output_type": "stream",
     "text": [
      " 58%|█████▊    | 960/1654 [19:34<12:47,  1.11s/it]"
     ]
    },
    {
     "name": "stdout",
     "output_type": "stream",
     "text": [
      "Saved 애니메이션산업 진흥에 관한 법률 to 법령별 directory\n"
     ]
    },
    {
     "name": "stderr",
     "output_type": "stream",
     "text": [
      " 58%|█████▊    | 961/1654 [19:35<13:53,  1.20s/it]"
     ]
    },
    {
     "name": "stdout",
     "output_type": "stream",
     "text": [
      "Saved 액화석유가스의 안전관리 및 사업법 to 법령별 directory\n"
     ]
    },
    {
     "name": "stderr",
     "output_type": "stream",
     "text": [
      " 58%|█████▊    | 962/1654 [19:37<17:14,  1.50s/it]"
     ]
    },
    {
     "name": "stdout",
     "output_type": "stream",
     "text": [
      "Saved 야생생물 보호 및 관리에 관한 법률 to 법령별 directory\n"
     ]
    },
    {
     "name": "stderr",
     "output_type": "stream",
     "text": [
      " 58%|█████▊    | 963/1654 [19:38<16:03,  1.39s/it]"
     ]
    },
    {
     "name": "stdout",
     "output_type": "stream",
     "text": [
      "Saved 약관의 규제에 관한 법률 to 법령별 directory\n"
     ]
    },
    {
     "name": "stderr",
     "output_type": "stream",
     "text": [
      " 58%|█████▊    | 964/1654 [19:41<19:18,  1.68s/it]"
     ]
    },
    {
     "name": "stdout",
     "output_type": "stream",
     "text": [
      "Saved 약사법 to 법령별 directory\n"
     ]
    },
    {
     "name": "stderr",
     "output_type": "stream",
     "text": [
      " 58%|█████▊    | 965/1654 [19:42<17:56,  1.56s/it]"
     ]
    },
    {
     "name": "stdout",
     "output_type": "stream",
     "text": [
      "Saved 약식절차 등에서의 전자문서 이용 등에 관한 법률 to 법령별 directory\n"
     ]
    },
    {
     "name": "stderr",
     "output_type": "stream",
     "text": [
      " 58%|█████▊    | 966/1654 [19:43<16:59,  1.48s/it]"
     ]
    },
    {
     "name": "stdout",
     "output_type": "stream",
     "text": [
      "Saved 양곡관리법 to 법령별 directory\n"
     ]
    },
    {
     "name": "stderr",
     "output_type": "stream",
     "text": [
      " 58%|█████▊    | 967/1654 [19:44<15:18,  1.34s/it]"
     ]
    },
    {
     "name": "stdout",
     "output_type": "stream",
     "text": [
      "Saved 양봉산업의 육성 및 지원에 관한 법률 to 법령별 directory\n"
     ]
    },
    {
     "name": "stderr",
     "output_type": "stream",
     "text": [
      " 59%|█████▊    | 968/1654 [19:45<14:38,  1.28s/it]"
     ]
    },
    {
     "name": "stdout",
     "output_type": "stream",
     "text": [
      "Saved 양성평등기본법 to 법령별 directory\n"
     ]
    },
    {
     "name": "stderr",
     "output_type": "stream",
     "text": [
      " 59%|█████▊    | 969/1654 [19:47<14:53,  1.30s/it]"
     ]
    },
    {
     "name": "stdout",
     "output_type": "stream",
     "text": [
      "Saved 양식산업발전법 to 법령별 directory\n"
     ]
    },
    {
     "name": "stderr",
     "output_type": "stream",
     "text": [
      " 59%|█████▊    | 970/1654 [19:48<13:47,  1.21s/it]"
     ]
    },
    {
     "name": "stdout",
     "output_type": "stream",
     "text": [
      "Saved 양육비 이행확보 및 지원에 관한 법률 to 법령별 directory\n"
     ]
    },
    {
     "name": "stderr",
     "output_type": "stream",
     "text": [
      " 59%|█████▊    | 971/1654 [19:49<13:34,  1.19s/it]"
     ]
    },
    {
     "name": "stdout",
     "output_type": "stream",
     "text": [
      "Saved 어린이놀이시설 안전관리법 to 법령별 directory\n"
     ]
    },
    {
     "name": "stderr",
     "output_type": "stream",
     "text": [
      " 59%|█████▉    | 972/1654 [19:50<12:52,  1.13s/it]"
     ]
    },
    {
     "name": "stdout",
     "output_type": "stream",
     "text": [
      "Saved 어린이 식생활안전관리 특별법 to 법령별 directory\n"
     ]
    },
    {
     "name": "stderr",
     "output_type": "stream",
     "text": [
      " 59%|█████▉    | 973/1654 [19:51<11:46,  1.04s/it]"
     ]
    },
    {
     "name": "stdout",
     "output_type": "stream",
     "text": [
      "Saved 어린이안전관리에 관한 법률 to 법령별 directory\n"
     ]
    },
    {
     "name": "stderr",
     "output_type": "stream",
     "text": [
      " 59%|█████▉    | 974/1654 [19:52<13:52,  1.22s/it]"
     ]
    },
    {
     "name": "stdout",
     "output_type": "stream",
     "text": [
      "Saved 어린이제품 안전 특별법 to 법령별 directory\n"
     ]
    },
    {
     "name": "stderr",
     "output_type": "stream",
     "text": [
      " 59%|█████▉    | 975/1654 [19:54<14:15,  1.26s/it]"
     ]
    },
    {
     "name": "stdout",
     "output_type": "stream",
     "text": [
      "Saved 어선법 to 법령별 directory\n"
     ]
    },
    {
     "name": "stderr",
     "output_type": "stream",
     "text": [
      " 59%|█████▉    | 976/1654 [19:55<13:22,  1.18s/it]"
     ]
    },
    {
     "name": "stdout",
     "output_type": "stream",
     "text": [
      "Saved 어선안전조업법 to 법령별 directory\n"
     ]
    },
    {
     "name": "stderr",
     "output_type": "stream",
     "text": [
      " 59%|█████▉    | 977/1654 [19:57<18:45,  1.66s/it]"
     ]
    },
    {
     "name": "stdout",
     "output_type": "stream",
     "text": [
      "Saved 어선원 및 어선 재해보상보험법 to 법령별 directory\n"
     ]
    },
    {
     "name": "stderr",
     "output_type": "stream",
     "text": [
      " 59%|█████▉    | 978/1654 [19:58<15:32,  1.38s/it]"
     ]
    },
    {
     "name": "stdout",
     "output_type": "stream",
     "text": [
      "No data found for 어업자원보호법\n"
     ]
    },
    {
     "name": "stderr",
     "output_type": "stream",
     "text": [
      " 59%|█████▉    | 979/1654 [20:00<16:18,  1.45s/it]"
     ]
    },
    {
     "name": "stdout",
     "output_type": "stream",
     "text": [
      "No data found for 어음법\n"
     ]
    },
    {
     "name": "stderr",
     "output_type": "stream",
     "text": [
      " 59%|█████▉    | 980/1654 [20:01<15:12,  1.35s/it]"
     ]
    },
    {
     "name": "stdout",
     "output_type": "stream",
     "text": [
      "Saved 어장관리법 to 법령별 directory\n"
     ]
    },
    {
     "name": "stderr",
     "output_type": "stream",
     "text": [
      " 59%|█████▉    | 981/1654 [20:02<15:23,  1.37s/it]"
     ]
    },
    {
     "name": "stdout",
     "output_type": "stream",
     "text": [
      "Saved 어촌ㆍ어항법 to 법령별 directory\n"
     ]
    },
    {
     "name": "stderr",
     "output_type": "stream",
     "text": [
      " 59%|█████▉    | 982/1654 [20:04<14:58,  1.34s/it]"
     ]
    },
    {
     "name": "stdout",
     "output_type": "stream",
     "text": [
      "Saved 어촌특화발전 지원 특별법 to 법령별 directory\n"
     ]
    },
    {
     "name": "stderr",
     "output_type": "stream",
     "text": [
      " 59%|█████▉    | 983/1654 [20:05<14:13,  1.27s/it]"
     ]
    },
    {
     "name": "stdout",
     "output_type": "stream",
     "text": [
      "Saved 언론중재 및 피해구제 등에 관한 법률 to 법령별 directory\n"
     ]
    },
    {
     "name": "stderr",
     "output_type": "stream",
     "text": [
      " 59%|█████▉    | 984/1654 [20:06<13:48,  1.24s/it]"
     ]
    },
    {
     "name": "stdout",
     "output_type": "stream",
     "text": [
      "Saved 에너지 및 자원사업 특별회계법 to 법령별 directory\n"
     ]
    },
    {
     "name": "stderr",
     "output_type": "stream",
     "text": [
      " 60%|█████▉    | 985/1654 [20:07<13:30,  1.21s/it]"
     ]
    },
    {
     "name": "stdout",
     "output_type": "stream",
     "text": [
      "Saved 에너지법 to 법령별 directory\n"
     ]
    },
    {
     "name": "stderr",
     "output_type": "stream",
     "text": [
      " 60%|█████▉    | 986/1654 [20:08<12:49,  1.15s/it]"
     ]
    },
    {
     "name": "stdout",
     "output_type": "stream",
     "text": [
      "Saved 에너지산업융복합단지의 지정 및 육성에 관한 특별법 to 법령별 directory\n"
     ]
    },
    {
     "name": "stderr",
     "output_type": "stream",
     "text": [
      " 60%|█████▉    | 987/1654 [20:09<13:46,  1.24s/it]"
     ]
    },
    {
     "name": "stdout",
     "output_type": "stream",
     "text": [
      "Saved 에너지이용 합리화법 to 법령별 directory\n"
     ]
    },
    {
     "name": "stderr",
     "output_type": "stream",
     "text": [
      " 60%|█████▉    | 988/1654 [20:11<13:51,  1.25s/it]"
     ]
    },
    {
     "name": "stdout",
     "output_type": "stream",
     "text": [
      "Saved 엔지니어링산업 진흥법 to 법령별 directory\n"
     ]
    },
    {
     "name": "stderr",
     "output_type": "stream",
     "text": [
      " 60%|█████▉    | 989/1654 [20:13<17:16,  1.56s/it]"
     ]
    },
    {
     "name": "stdout",
     "output_type": "stream",
     "text": [
      "Saved 여객자동차 운수사업법 to 법령별 directory\n"
     ]
    },
    {
     "name": "stderr",
     "output_type": "stream",
     "text": [
      " 60%|█████▉    | 990/1654 [20:14<15:21,  1.39s/it]"
     ]
    },
    {
     "name": "stdout",
     "output_type": "stream",
     "text": [
      "No data found for 여권법\n"
     ]
    },
    {
     "name": "stderr",
     "output_type": "stream",
     "text": [
      " 60%|█████▉    | 991/1654 [20:15<14:31,  1.31s/it]"
     ]
    },
    {
     "name": "stdout",
     "output_type": "stream",
     "text": [
      "Saved 여성과학기술인 육성 및 지원에 관한 법률 to 법령별 directory\n"
     ]
    },
    {
     "name": "stderr",
     "output_type": "stream",
     "text": [
      " 60%|█████▉    | 992/1654 [20:17<15:31,  1.41s/it]"
     ]
    },
    {
     "name": "stdout",
     "output_type": "stream",
     "text": [
      "Saved 여성기업지원에 관한 법률 to 법령별 directory\n"
     ]
    },
    {
     "name": "stderr",
     "output_type": "stream",
     "text": [
      " 60%|██████    | 993/1654 [20:18<16:13,  1.47s/it]"
     ]
    },
    {
     "name": "stdout",
     "output_type": "stream",
     "text": [
      "Saved 여성농어업인 육성법 to 법령별 directory\n"
     ]
    },
    {
     "name": "stderr",
     "output_type": "stream",
     "text": [
      " 60%|██████    | 994/1654 [20:19<14:41,  1.34s/it]"
     ]
    },
    {
     "name": "stdout",
     "output_type": "stream",
     "text": [
      "Saved 여성의 경제활동 촉진과 경력단절 예방법 to 법령별 directory\n"
     ]
    },
    {
     "name": "stderr",
     "output_type": "stream",
     "text": [
      " 60%|██████    | 995/1654 [20:20<13:27,  1.23s/it]"
     ]
    },
    {
     "name": "stdout",
     "output_type": "stream",
     "text": [
      "Saved 여성폭력방지기본법 to 법령별 directory\n"
     ]
    },
    {
     "name": "stderr",
     "output_type": "stream",
     "text": [
      " 60%|██████    | 996/1654 [20:22<13:13,  1.21s/it]"
     ]
    },
    {
     "name": "stdout",
     "output_type": "stream",
     "text": [
      "Saved 여수세계박람회 기념 및 사후활용에 관한 특별법 to 법령별 directory\n"
     ]
    },
    {
     "name": "stderr",
     "output_type": "stream",
     "text": [
      " 60%|██████    | 997/1654 [20:23<12:20,  1.13s/it]"
     ]
    },
    {
     "name": "stdout",
     "output_type": "stream",
     "text": [
      "Saved 여수ㆍ순천 10ㆍ19사건 진상규명 및 희생자 명예회복에 관한 특별법 to 법령별 directory\n"
     ]
    },
    {
     "name": "stderr",
     "output_type": "stream",
     "text": [
      " 60%|██████    | 998/1654 [20:24<14:36,  1.34s/it]"
     ]
    },
    {
     "name": "stdout",
     "output_type": "stream",
     "text": [
      "Saved 여신전문금융업법 to 법령별 directory\n"
     ]
    },
    {
     "name": "stderr",
     "output_type": "stream",
     "text": [
      " 60%|██████    | 999/1654 [20:25<14:01,  1.28s/it]"
     ]
    },
    {
     "name": "stdout",
     "output_type": "stream",
     "text": [
      "Saved 역사문화권 정비 등에 관한 특별법 to 법령별 directory\n"
     ]
    },
    {
     "name": "stderr",
     "output_type": "stream",
     "text": [
      " 60%|██████    | 1000/1654 [20:27<13:49,  1.27s/it]"
     ]
    },
    {
     "name": "stdout",
     "output_type": "stream",
     "text": [
      "Saved 역세권의 개발 및 이용에 관한 법률 to 법령별 directory\n"
     ]
    },
    {
     "name": "stderr",
     "output_type": "stream",
     "text": [
      " 61%|██████    | 1001/1654 [20:29<15:30,  1.42s/it]"
     ]
    },
    {
     "name": "stdout",
     "output_type": "stream",
     "text": [
      "Saved 연구개발특구의 육성에 관한 특별법 to 법령별 directory\n"
     ]
    },
    {
     "name": "stderr",
     "output_type": "stream",
     "text": [
      " 61%|██████    | 1002/1654 [20:29<13:55,  1.28s/it]"
     ]
    },
    {
     "name": "stdout",
     "output_type": "stream",
     "text": [
      "Saved 연구산업진흥법 to 법령별 directory\n"
     ]
    },
    {
     "name": "stderr",
     "output_type": "stream",
     "text": [
      " 61%|██████    | 1003/1654 [20:30<13:02,  1.20s/it]"
     ]
    },
    {
     "name": "stdout",
     "output_type": "stream",
     "text": [
      "Saved 연구실 안전환경 조성에 관한 법률 to 법령별 directory\n"
     ]
    },
    {
     "name": "stderr",
     "output_type": "stream",
     "text": [
      " 61%|██████    | 1004/1654 [20:32<12:30,  1.15s/it]"
     ]
    },
    {
     "name": "stdout",
     "output_type": "stream",
     "text": [
      "Saved 연근해어업의 구조개선 및 지원에 관한 법률 to 법령별 directory\n"
     ]
    },
    {
     "name": "stderr",
     "output_type": "stream",
     "text": [
      " 61%|██████    | 1005/1654 [20:33<12:45,  1.18s/it]"
     ]
    },
    {
     "name": "stdout",
     "output_type": "stream",
     "text": [
      "Saved 연안관리법 to 법령별 directory\n"
     ]
    },
    {
     "name": "stderr",
     "output_type": "stream",
     "text": [
      " 61%|██████    | 1006/1654 [20:34<12:19,  1.14s/it]"
     ]
    },
    {
     "name": "stdout",
     "output_type": "stream",
     "text": [
      "Saved 연안사고 예방에 관한 법률 to 법령별 directory\n"
     ]
    },
    {
     "name": "stderr",
     "output_type": "stream",
     "text": [
      " 61%|██████    | 1007/1654 [20:35<11:20,  1.05s/it]"
     ]
    },
    {
     "name": "stdout",
     "output_type": "stream",
     "text": [
      "No data found for 연호에 관한 법률\n"
     ]
    },
    {
     "name": "stderr",
     "output_type": "stream",
     "text": [
      " 61%|██████    | 1008/1654 [20:37<14:40,  1.36s/it]"
     ]
    },
    {
     "name": "stdout",
     "output_type": "stream",
     "text": [
      "No data found for 염업조합법\n"
     ]
    },
    {
     "name": "stderr",
     "output_type": "stream",
     "text": [
      " 61%|██████    | 1009/1654 [20:39<16:10,  1.50s/it]"
     ]
    },
    {
     "name": "stdout",
     "output_type": "stream",
     "text": [
      "No data found for 엽연초생산협동조합법\n"
     ]
    },
    {
     "name": "stderr",
     "output_type": "stream",
     "text": [
      " 61%|██████    | 1010/1654 [20:40<15:21,  1.43s/it]"
     ]
    },
    {
     "name": "stdout",
     "output_type": "stream",
     "text": [
      "Saved 영산강ㆍ섬진강수계 물관리 및 주민지원 등에 관한 법률 to 법령별 directory\n"
     ]
    },
    {
     "name": "stderr",
     "output_type": "stream",
     "text": [
      " 61%|██████    | 1011/1654 [20:41<15:15,  1.42s/it]"
     ]
    },
    {
     "name": "stdout",
     "output_type": "stream",
     "text": [
      "Saved 영상진흥기본법 to 법령별 directory\n"
     ]
    },
    {
     "name": "stderr",
     "output_type": "stream",
     "text": [
      " 61%|██████    | 1012/1654 [20:43<16:06,  1.51s/it]"
     ]
    },
    {
     "name": "stdout",
     "output_type": "stream",
     "text": [
      "Saved 영유아보육법 to 법령별 directory\n"
     ]
    },
    {
     "name": "stderr",
     "output_type": "stream",
     "text": [
      " 61%|██████    | 1013/1654 [20:44<14:38,  1.37s/it]"
     ]
    },
    {
     "name": "stdout",
     "output_type": "stream",
     "text": [
      "No data found for 영재교육 진흥법\n"
     ]
    },
    {
     "name": "stderr",
     "output_type": "stream",
     "text": [
      " 61%|██████▏   | 1014/1654 [20:45<12:47,  1.20s/it]"
     ]
    },
    {
     "name": "stdout",
     "output_type": "stream",
     "text": [
      "No data found for 영해 및 접속수역법\n"
     ]
    },
    {
     "name": "stderr",
     "output_type": "stream",
     "text": [
      " 61%|██████▏   | 1015/1654 [20:47<16:25,  1.54s/it]"
     ]
    },
    {
     "name": "stdout",
     "output_type": "stream",
     "text": [
      "Saved 영화 및 비디오물의 진흥에 관한 법률 to 법령별 directory\n"
     ]
    },
    {
     "name": "stderr",
     "output_type": "stream",
     "text": [
      " 61%|██████▏   | 1016/1654 [20:48<15:42,  1.48s/it]"
     ]
    },
    {
     "name": "stdout",
     "output_type": "stream",
     "text": [
      "Saved 예금자보호법 to 법령별 directory\n"
     ]
    },
    {
     "name": "stderr",
     "output_type": "stream",
     "text": [
      " 61%|██████▏   | 1017/1654 [20:50<14:26,  1.36s/it]"
     ]
    },
    {
     "name": "stdout",
     "output_type": "stream",
     "text": [
      "No data found for 예비군법\n"
     ]
    },
    {
     "name": "stderr",
     "output_type": "stream",
     "text": [
      " 62%|██████▏   | 1018/1654 [20:50<12:33,  1.18s/it]"
     ]
    },
    {
     "name": "stdout",
     "output_type": "stream",
     "text": [
      "No data found for 예산회계에관한특례법\n"
     ]
    },
    {
     "name": "stderr",
     "output_type": "stream",
     "text": [
      " 62%|██████▏   | 1019/1654 [20:51<12:05,  1.14s/it]"
     ]
    },
    {
     "name": "stdout",
     "output_type": "stream",
     "text": [
      "Saved 예술인 복지법 to 법령별 directory\n"
     ]
    },
    {
     "name": "stderr",
     "output_type": "stream",
     "text": [
      " 62%|██████▏   | 1020/1654 [20:52<11:50,  1.12s/it]"
     ]
    },
    {
     "name": "stdout",
     "output_type": "stream",
     "text": [
      "Saved 예술인의 지위와 권리의 보장에 관한 법률 to 법령별 directory\n"
     ]
    },
    {
     "name": "stderr",
     "output_type": "stream",
     "text": [
      " 62%|██████▏   | 1021/1654 [20:54<11:44,  1.11s/it]"
     ]
    },
    {
     "name": "stdout",
     "output_type": "stream",
     "text": [
      "Saved 오존층 보호 등을 위한 특정물질의 관리에 관한 법률 to 법령별 directory\n"
     ]
    },
    {
     "name": "stderr",
     "output_type": "stream",
     "text": [
      " 62%|██████▏   | 1022/1654 [20:55<11:47,  1.12s/it]"
     ]
    },
    {
     "name": "stdout",
     "output_type": "stream",
     "text": [
      "Saved 옥외광고물 등의 관리와 옥외광고산업 진흥에 관한 법률 to 법령별 directory\n"
     ]
    },
    {
     "name": "stderr",
     "output_type": "stream",
     "text": [
      " 62%|██████▏   | 1023/1654 [20:56<12:03,  1.15s/it]"
     ]
    },
    {
     "name": "stdout",
     "output_type": "stream",
     "text": [
      "Saved 온라인투자연계금융업 및 이용자 보호에 관한 법률 to 법령별 directory\n"
     ]
    },
    {
     "name": "stderr",
     "output_type": "stream",
     "text": [
      " 62%|██████▏   | 1024/1654 [20:57<12:00,  1.14s/it]"
     ]
    },
    {
     "name": "stdout",
     "output_type": "stream",
     "text": [
      "Saved 온실가스 배출권의 할당 및 거래에 관한 법률 to 법령별 directory\n"
     ]
    },
    {
     "name": "stderr",
     "output_type": "stream",
     "text": [
      " 62%|██████▏   | 1025/1654 [20:58<12:30,  1.19s/it]"
     ]
    },
    {
     "name": "stdout",
     "output_type": "stream",
     "text": [
      "Saved 온천법 to 법령별 directory\n"
     ]
    },
    {
     "name": "stderr",
     "output_type": "stream",
     "text": [
      " 62%|██████▏   | 1026/1654 [21:00<13:30,  1.29s/it]"
     ]
    },
    {
     "name": "stdout",
     "output_type": "stream",
     "text": [
      "No data found for 외국법자문사법\n"
     ]
    },
    {
     "name": "stderr",
     "output_type": "stream",
     "text": [
      " 62%|██████▏   | 1027/1654 [21:01<12:36,  1.21s/it]"
     ]
    },
    {
     "name": "stdout",
     "output_type": "stream",
     "text": [
      "No data found for 외국인근로자의 고용 등에 관한 법률\n"
     ]
    },
    {
     "name": "stderr",
     "output_type": "stream",
     "text": [
      " 62%|██████▏   | 1028/1654 [21:02<10:55,  1.05s/it]"
     ]
    },
    {
     "name": "stdout",
     "output_type": "stream",
     "text": [
      "No data found for 외국인의 서명날인에 관한 법률\n"
     ]
    },
    {
     "name": "stderr",
     "output_type": "stream",
     "text": [
      " 62%|██████▏   | 1029/1654 [21:03<12:17,  1.18s/it]"
     ]
    },
    {
     "name": "stdout",
     "output_type": "stream",
     "text": [
      "Saved 외국인투자 촉진법 to 법령별 directory\n"
     ]
    },
    {
     "name": "stderr",
     "output_type": "stream",
     "text": [
      " 62%|██████▏   | 1030/1654 [21:04<11:57,  1.15s/it]"
     ]
    },
    {
     "name": "stdout",
     "output_type": "stream",
     "text": [
      "Saved 외국환거래법 to 법령별 directory\n"
     ]
    },
    {
     "name": "stderr",
     "output_type": "stream",
     "text": [
      " 62%|██████▏   | 1031/1654 [21:05<11:37,  1.12s/it]"
     ]
    },
    {
     "name": "stdout",
     "output_type": "stream",
     "text": [
      "No data found for 외무공무원법\n"
     ]
    },
    {
     "name": "stderr",
     "output_type": "stream",
     "text": [
      " 62%|██████▏   | 1032/1654 [21:06<11:45,  1.13s/it]"
     ]
    },
    {
     "name": "stdout",
     "output_type": "stream",
     "text": [
      "Saved 외식산업 진흥법 to 법령별 directory\n"
     ]
    },
    {
     "name": "stderr",
     "output_type": "stream",
     "text": [
      " 62%|██████▏   | 1033/1654 [21:08<12:27,  1.20s/it]"
     ]
    },
    {
     "name": "stdout",
     "output_type": "stream",
     "text": [
      "Saved 용산공원 조성 특별법 to 법령별 directory\n"
     ]
    },
    {
     "name": "stderr",
     "output_type": "stream",
     "text": [
      " 63%|██████▎   | 1034/1654 [21:09<12:23,  1.20s/it]"
     ]
    },
    {
     "name": "stdout",
     "output_type": "stream",
     "text": [
      "Saved 우정사업 운영에 관한 특례법 to 법령별 directory\n"
     ]
    },
    {
     "name": "stderr",
     "output_type": "stream",
     "text": [
      " 63%|██████▎   | 1035/1654 [21:10<12:07,  1.18s/it]"
     ]
    },
    {
     "name": "stdout",
     "output_type": "stream",
     "text": [
      "Saved 우주개발 진흥법 to 법령별 directory\n"
     ]
    },
    {
     "name": "stderr",
     "output_type": "stream",
     "text": [
      " 63%|██████▎   | 1036/1654 [21:11<11:08,  1.08s/it]"
     ]
    },
    {
     "name": "stdout",
     "output_type": "stream",
     "text": [
      "Saved 우주손해배상법 to 법령별 directory\n"
     ]
    },
    {
     "name": "stderr",
     "output_type": "stream",
     "text": [
      " 63%|██████▎   | 1037/1654 [21:12<10:55,  1.06s/it]"
     ]
    },
    {
     "name": "stdout",
     "output_type": "stream",
     "text": [
      "Saved 우주항공청의 설치 및 운영에 관한 특별법 to 법령별 directory\n"
     ]
    },
    {
     "name": "stderr",
     "output_type": "stream",
     "text": [
      " 63%|██████▎   | 1038/1654 [21:13<10:28,  1.02s/it]"
     ]
    },
    {
     "name": "stdout",
     "output_type": "stream",
     "text": [
      "No data found for 우체국보험특별회계법\n"
     ]
    },
    {
     "name": "stderr",
     "output_type": "stream",
     "text": [
      " 63%|██████▎   | 1039/1654 [21:14<11:35,  1.13s/it]"
     ]
    },
    {
     "name": "stdout",
     "output_type": "stream",
     "text": [
      "Saved 우체국예금ㆍ보험에 관한 법률 to 법령별 directory\n"
     ]
    },
    {
     "name": "stderr",
     "output_type": "stream",
     "text": [
      " 63%|██████▎   | 1040/1654 [21:15<10:57,  1.07s/it]"
     ]
    },
    {
     "name": "stdout",
     "output_type": "stream",
     "text": [
      "Saved 우체국창구업무의 위탁에 관한 법률 to 법령별 directory\n"
     ]
    },
    {
     "name": "stderr",
     "output_type": "stream",
     "text": [
      " 63%|██████▎   | 1041/1654 [21:16<11:18,  1.11s/it]"
     ]
    },
    {
     "name": "stdout",
     "output_type": "stream",
     "text": [
      "Saved 우편대체법 to 법령별 directory\n"
     ]
    },
    {
     "name": "stderr",
     "output_type": "stream",
     "text": [
      " 63%|██████▎   | 1042/1654 [21:18<12:10,  1.19s/it]"
     ]
    },
    {
     "name": "stdout",
     "output_type": "stream",
     "text": [
      "Saved 우편법 to 법령별 directory\n"
     ]
    },
    {
     "name": "stderr",
     "output_type": "stream",
     "text": [
      " 63%|██████▎   | 1043/1654 [21:19<11:33,  1.14s/it]"
     ]
    },
    {
     "name": "stdout",
     "output_type": "stream",
     "text": [
      "Saved 우편환법 to 법령별 directory\n"
     ]
    },
    {
     "name": "stderr",
     "output_type": "stream",
     "text": [
      " 63%|██████▎   | 1044/1654 [21:20<12:04,  1.19s/it]"
     ]
    },
    {
     "name": "stdout",
     "output_type": "stream",
     "text": [
      "No data found for 울산과학기술원법\n"
     ]
    },
    {
     "name": "stderr",
     "output_type": "stream",
     "text": [
      " 63%|██████▎   | 1045/1654 [21:21<10:52,  1.07s/it]"
     ]
    },
    {
     "name": "stdout",
     "output_type": "stream",
     "text": [
      "Saved 원격영상재판에 관한 특례법 to 법령별 directory\n"
     ]
    },
    {
     "name": "stderr",
     "output_type": "stream",
     "text": [
      " 63%|██████▎   | 1046/1654 [21:22<11:16,  1.11s/it]"
     ]
    },
    {
     "name": "stdout",
     "output_type": "stream",
     "text": [
      "Saved 원양산업발전법 to 법령별 directory\n"
     ]
    },
    {
     "name": "stderr",
     "output_type": "stream",
     "text": [
      " 63%|██████▎   | 1047/1654 [21:23<11:03,  1.09s/it]"
     ]
    },
    {
     "name": "stdout",
     "output_type": "stream",
     "text": [
      "Saved 원자력 손해배상법 to 법령별 directory\n"
     ]
    },
    {
     "name": "stderr",
     "output_type": "stream",
     "text": [
      " 63%|██████▎   | 1048/1654 [21:24<10:51,  1.08s/it]"
     ]
    },
    {
     "name": "stdout",
     "output_type": "stream",
     "text": [
      "Saved 원자력손해배상 보상계약에 관한 법률 to 법령별 directory\n"
     ]
    },
    {
     "name": "stderr",
     "output_type": "stream",
     "text": [
      " 63%|██████▎   | 1049/1654 [21:25<11:31,  1.14s/it]"
     ]
    },
    {
     "name": "stdout",
     "output_type": "stream",
     "text": [
      "Saved 원자력시설 등의 방호 및 방사능 방재 대책법 to 법령별 directory\n"
     ]
    },
    {
     "name": "stderr",
     "output_type": "stream",
     "text": [
      " 63%|██████▎   | 1050/1654 [21:27<13:20,  1.33s/it]"
     ]
    },
    {
     "name": "stdout",
     "output_type": "stream",
     "text": [
      "Saved 원자력안전법 to 법령별 directory\n"
     ]
    },
    {
     "name": "stderr",
     "output_type": "stream",
     "text": [
      " 64%|██████▎   | 1051/1654 [21:28<12:18,  1.22s/it]"
     ]
    },
    {
     "name": "stdout",
     "output_type": "stream",
     "text": [
      "No data found for 원자력안전위원회의 설치 및 운영에 관한 법률\n"
     ]
    },
    {
     "name": "stderr",
     "output_type": "stream",
     "text": [
      " 64%|██████▎   | 1052/1654 [21:29<11:18,  1.13s/it]"
     ]
    },
    {
     "name": "stdout",
     "output_type": "stream",
     "text": [
      "Saved 원자력안전 정보공개 및 소통에 관한 법률 to 법령별 directory\n"
     ]
    },
    {
     "name": "stderr",
     "output_type": "stream",
     "text": [
      " 64%|██████▎   | 1053/1654 [21:30<11:28,  1.14s/it]"
     ]
    },
    {
     "name": "stdout",
     "output_type": "stream",
     "text": [
      "Saved 원자력 진흥법 to 법령별 directory\n"
     ]
    },
    {
     "name": "stderr",
     "output_type": "stream",
     "text": [
      " 64%|██████▎   | 1054/1654 [21:31<10:41,  1.07s/it]"
     ]
    },
    {
     "name": "stdout",
     "output_type": "stream",
     "text": [
      "No data found for 원전비리 방지를 위한 원자력발전사업자등의 관리ㆍ감독에 관한 법률\n"
     ]
    },
    {
     "name": "stderr",
     "output_type": "stream",
     "text": [
      " 64%|██████▍   | 1055/1654 [21:32<09:33,  1.04it/s]"
     ]
    },
    {
     "name": "stdout",
     "output_type": "stream",
     "text": [
      "Saved 원호재산특별처리법 to 법령별 directory\n"
     ]
    },
    {
     "name": "stderr",
     "output_type": "stream",
     "text": [
      " 64%|██████▍   | 1056/1654 [21:33<09:57,  1.00it/s]"
     ]
    },
    {
     "name": "stdout",
     "output_type": "stream",
     "text": [
      "Saved 위기 임신 및 보호출산 지원과 아동 보호에 관한 특별법 to 법령별 directory\n"
     ]
    },
    {
     "name": "stderr",
     "output_type": "stream",
     "text": [
      " 64%|██████▍   | 1057/1654 [21:34<10:07,  1.02s/it]"
     ]
    },
    {
     "name": "stdout",
     "output_type": "stream",
     "text": [
      "Saved 위생용품 관리법 to 법령별 directory\n"
     ]
    },
    {
     "name": "stderr",
     "output_type": "stream",
     "text": [
      " 64%|██████▍   | 1058/1654 [21:35<10:55,  1.10s/it]"
     ]
    },
    {
     "name": "stdout",
     "output_type": "stream",
     "text": [
      "Saved 위치정보의 보호 및 이용 등에 관한 법률 to 법령별 directory\n"
     ]
    },
    {
     "name": "stderr",
     "output_type": "stream",
     "text": [
      " 64%|██████▍   | 1059/1654 [21:36<11:08,  1.12s/it]"
     ]
    },
    {
     "name": "stdout",
     "output_type": "stream",
     "text": [
      "Saved 위험물안전관리법 to 법령별 directory\n"
     ]
    },
    {
     "name": "stderr",
     "output_type": "stream",
     "text": [
      " 64%|██████▍   | 1060/1654 [21:37<10:31,  1.06s/it]"
     ]
    },
    {
     "name": "stdout",
     "output_type": "stream",
     "text": [
      "Saved 유기성 폐자원을 활용한 바이오가스의 생산 및 이용 촉진법 to 법령별 directory\n"
     ]
    },
    {
     "name": "stderr",
     "output_type": "stream",
     "text": [
      " 64%|██████▍   | 1061/1654 [21:38<10:20,  1.05s/it]"
     ]
    },
    {
     "name": "stdout",
     "output_type": "stream",
     "text": [
      "Saved 유네스코 활동에 관한 법률 to 법령별 directory\n"
     ]
    },
    {
     "name": "stderr",
     "output_type": "stream",
     "text": [
      " 64%|██████▍   | 1062/1654 [21:39<10:17,  1.04s/it]"
     ]
    },
    {
     "name": "stdout",
     "output_type": "stream",
     "text": [
      "Saved 유료도로법 to 법령별 directory\n"
     ]
    },
    {
     "name": "stderr",
     "output_type": "stream",
     "text": [
      " 64%|██████▍   | 1063/1654 [21:41<12:15,  1.25s/it]"
     ]
    },
    {
     "name": "stdout",
     "output_type": "stream",
     "text": [
      "Saved 유류오염손해배상 보장법 to 법령별 directory\n"
     ]
    },
    {
     "name": "stderr",
     "output_type": "stream",
     "text": [
      " 64%|██████▍   | 1064/1654 [21:42<11:11,  1.14s/it]"
     ]
    },
    {
     "name": "stdout",
     "output_type": "stream",
     "text": [
      "Saved 유사수신행위의 규제에 관한 법률 to 법령별 directory\n"
     ]
    },
    {
     "name": "stderr",
     "output_type": "stream",
     "text": [
      " 64%|██████▍   | 1065/1654 [21:43<11:11,  1.14s/it]"
     ]
    },
    {
     "name": "stdout",
     "output_type": "stream",
     "text": [
      "Saved 유선 및 도선 사업법 to 법령별 directory\n"
     ]
    },
    {
     "name": "stderr",
     "output_type": "stream",
     "text": [
      " 64%|██████▍   | 1066/1654 [21:44<10:18,  1.05s/it]"
     ]
    },
    {
     "name": "stdout",
     "output_type": "stream",
     "text": [
      "No data found for 유실물법\n"
     ]
    },
    {
     "name": "stderr",
     "output_type": "stream",
     "text": [
      " 65%|██████▍   | 1067/1654 [21:45<10:52,  1.11s/it]"
     ]
    },
    {
     "name": "stdout",
     "output_type": "stream",
     "text": [
      "Saved 유아교육법 to 법령별 directory\n"
     ]
    },
    {
     "name": "stderr",
     "output_type": "stream",
     "text": [
      " 65%|██████▍   | 1068/1654 [21:47<11:38,  1.19s/it]"
     ]
    },
    {
     "name": "stdout",
     "output_type": "stream",
     "text": [
      "No data found for 유아교육지원특별회계법\n"
     ]
    },
    {
     "name": "stderr",
     "output_type": "stream",
     "text": [
      " 65%|██████▍   | 1069/1654 [21:48<10:53,  1.12s/it]"
     ]
    },
    {
     "name": "stdout",
     "output_type": "stream",
     "text": [
      "Saved 유엔참전용사의 명예선양 등에 관한 법률 to 법령별 directory\n"
     ]
    },
    {
     "name": "stderr",
     "output_type": "stream",
     "text": [
      " 65%|██████▍   | 1070/1654 [21:49<10:47,  1.11s/it]"
     ]
    },
    {
     "name": "stdout",
     "output_type": "stream",
     "text": [
      "Saved 유전자변형생물체의 국가간 이동 등에 관한 법률 to 법령별 directory\n"
     ]
    },
    {
     "name": "stderr",
     "output_type": "stream",
     "text": [
      " 65%|██████▍   | 1071/1654 [21:50<09:58,  1.03s/it]"
     ]
    },
    {
     "name": "stdout",
     "output_type": "stream",
     "text": [
      "Saved 유전자원의 접근ㆍ이용 및 이익 공유에 관한 법률 to 법령별 directory\n"
     ]
    },
    {
     "name": "stderr",
     "output_type": "stream",
     "text": [
      " 65%|██████▍   | 1072/1654 [21:51<11:06,  1.15s/it]"
     ]
    },
    {
     "name": "stdout",
     "output_type": "stream",
     "text": [
      "Saved 유통산업발전법 to 법령별 directory\n"
     ]
    },
    {
     "name": "stderr",
     "output_type": "stream",
     "text": [
      " 65%|██████▍   | 1073/1654 [21:52<10:14,  1.06s/it]"
     ]
    },
    {
     "name": "stdout",
     "output_type": "stream",
     "text": [
      "No data found for 육군3사관학교 설치법\n"
     ]
    },
    {
     "name": "stderr",
     "output_type": "stream",
     "text": [
      " 65%|██████▍   | 1074/1654 [21:53<11:51,  1.23s/it]"
     ]
    },
    {
     "name": "stdout",
     "output_type": "stream",
     "text": [
      "Saved 은행법 to 법령별 directory\n"
     ]
    },
    {
     "name": "stderr",
     "output_type": "stream",
     "text": [
      " 65%|██████▍   | 1075/1654 [21:54<11:21,  1.18s/it]"
     ]
    },
    {
     "name": "stdout",
     "output_type": "stream",
     "text": [
      "Saved 음악산업진흥에 관한 법률 to 법령별 directory\n"
     ]
    },
    {
     "name": "stderr",
     "output_type": "stream",
     "text": [
      " 65%|██████▌   | 1076/1654 [21:56<12:31,  1.30s/it]"
     ]
    },
    {
     "name": "stdout",
     "output_type": "stream",
     "text": [
      "Saved 응급의료에 관한 법률 to 법령별 directory\n"
     ]
    },
    {
     "name": "stderr",
     "output_type": "stream",
     "text": [
      " 65%|██████▌   | 1077/1654 [21:57<12:11,  1.27s/it]"
     ]
    },
    {
     "name": "stdout",
     "output_type": "stream",
     "text": [
      "Saved 의료급여법 to 법령별 directory\n"
     ]
    },
    {
     "name": "stderr",
     "output_type": "stream",
     "text": [
      " 65%|██████▌   | 1078/1654 [21:59<13:04,  1.36s/it]"
     ]
    },
    {
     "name": "stdout",
     "output_type": "stream",
     "text": [
      "Saved 의료기기법 to 법령별 directory\n"
     ]
    },
    {
     "name": "stderr",
     "output_type": "stream",
     "text": [
      " 65%|██████▌   | 1079/1654 [22:01<14:25,  1.50s/it]"
     ]
    },
    {
     "name": "stdout",
     "output_type": "stream",
     "text": [
      "Saved 의료기기산업 육성 및 혁신의료기기 지원법 to 법령별 directory\n"
     ]
    },
    {
     "name": "stderr",
     "output_type": "stream",
     "text": [
      " 65%|██████▌   | 1080/1654 [22:02<13:09,  1.38s/it]"
     ]
    },
    {
     "name": "stdout",
     "output_type": "stream",
     "text": [
      "Saved 의료기사 등에 관한 법률 to 법령별 directory\n"
     ]
    },
    {
     "name": "stderr",
     "output_type": "stream",
     "text": [
      " 65%|██████▌   | 1081/1654 [22:03<13:57,  1.46s/it]"
     ]
    },
    {
     "name": "stdout",
     "output_type": "stream",
     "text": [
      "No data found for 의료법\n"
     ]
    },
    {
     "name": "stderr",
     "output_type": "stream",
     "text": [
      " 65%|██████▌   | 1082/1654 [22:05<13:29,  1.42s/it]"
     ]
    },
    {
     "name": "stdout",
     "output_type": "stream",
     "text": [
      "Saved 의료사고 피해구제 및 의료분쟁 조정 등에 관한 법률 to 법령별 directory\n"
     ]
    },
    {
     "name": "stderr",
     "output_type": "stream",
     "text": [
      " 65%|██████▌   | 1083/1654 [22:06<12:30,  1.31s/it]"
     ]
    },
    {
     "name": "stdout",
     "output_type": "stream",
     "text": [
      "Saved 의료 해외진출 및 외국인환자 유치 지원에 관한 법률 to 법령별 directory\n"
     ]
    },
    {
     "name": "stderr",
     "output_type": "stream",
     "text": [
      " 66%|██████▌   | 1084/1654 [22:07<11:48,  1.24s/it]"
     ]
    },
    {
     "name": "stdout",
     "output_type": "stream",
     "text": [
      "No data found for 의무경찰대 설치 및 운영에 관한 법률\n"
     ]
    },
    {
     "name": "stderr",
     "output_type": "stream",
     "text": [
      " 66%|██████▌   | 1085/1654 [22:08<11:03,  1.17s/it]"
     ]
    },
    {
     "name": "stdout",
     "output_type": "stream",
     "text": [
      "No data found for 의무소방대설치법\n"
     ]
    },
    {
     "name": "stderr",
     "output_type": "stream",
     "text": [
      " 66%|██████▌   | 1086/1654 [22:09<10:16,  1.09s/it]"
     ]
    },
    {
     "name": "stdout",
     "output_type": "stream",
     "text": [
      "Saved 의사상자 등 예우 및 지원에 관한 법률 to 법령별 directory\n"
     ]
    },
    {
     "name": "stderr",
     "output_type": "stream",
     "text": [
      " 66%|██████▌   | 1087/1654 [22:10<10:09,  1.08s/it]"
     ]
    },
    {
     "name": "stdout",
     "output_type": "stream",
     "text": [
      "No data found for 의용소방대 설치 및 운영에 관한 법률\n"
     ]
    },
    {
     "name": "stderr",
     "output_type": "stream",
     "text": [
      " 66%|██████▌   | 1088/1654 [22:11<10:02,  1.06s/it]"
     ]
    },
    {
     "name": "stdout",
     "output_type": "stream",
     "text": [
      "Saved 이동통신단말장치 유통구조 개선에 관한 법률 to 법령별 directory\n"
     ]
    },
    {
     "name": "stderr",
     "output_type": "stream",
     "text": [
      " 66%|██████▌   | 1089/1654 [22:12<09:50,  1.05s/it]"
     ]
    },
    {
     "name": "stdout",
     "output_type": "stream",
     "text": [
      "Saved 이러닝(전자학습)산업 발전 및 이러닝 활용 촉진에 관한 법률 to 법령별 directory\n"
     ]
    },
    {
     "name": "stderr",
     "output_type": "stream",
     "text": [
      " 66%|██████▌   | 1090/1654 [22:13<09:30,  1.01s/it]"
     ]
    },
    {
     "name": "stdout",
     "output_type": "stream",
     "text": [
      "Saved 이북5도 등에 관한 특별조치법 to 법령별 directory\n"
     ]
    },
    {
     "name": "stderr",
     "output_type": "stream",
     "text": [
      " 66%|██████▌   | 1091/1654 [22:14<09:14,  1.02it/s]"
     ]
    },
    {
     "name": "stdout",
     "output_type": "stream",
     "text": [
      "Saved 이스포츠(전자스포츠) 진흥에 관한 법률 to 법령별 directory\n"
     ]
    },
    {
     "name": "stderr",
     "output_type": "stream",
     "text": [
      " 66%|██████▌   | 1092/1654 [22:15<08:58,  1.04it/s]"
     ]
    },
    {
     "name": "stdout",
     "output_type": "stream",
     "text": [
      "No data found for 이자제한법\n"
     ]
    },
    {
     "name": "stderr",
     "output_type": "stream",
     "text": [
      " 66%|██████▌   | 1093/1654 [22:16<08:59,  1.04it/s]"
     ]
    },
    {
     "name": "stdout",
     "output_type": "stream",
     "text": [
      "Saved 이중상환청구권부 채권 발행에 관한 법률 to 법령별 directory\n"
     ]
    },
    {
     "name": "stderr",
     "output_type": "stream",
     "text": [
      " 66%|██████▌   | 1094/1654 [22:17<09:22,  1.00s/it]"
     ]
    },
    {
     "name": "stdout",
     "output_type": "stream",
     "text": [
      "No data found for 인감증명법\n"
     ]
    },
    {
     "name": "stderr",
     "output_type": "stream",
     "text": [
      " 66%|██████▌   | 1095/1654 [22:18<09:28,  1.02s/it]"
     ]
    },
    {
     "name": "stdout",
     "output_type": "stream",
     "text": [
      "Saved 인공조명에 의한 빛공해 방지법 to 법령별 directory\n"
     ]
    },
    {
     "name": "stderr",
     "output_type": "stream",
     "text": [
      " 66%|██████▋   | 1096/1654 [22:19<09:26,  1.02s/it]"
     ]
    },
    {
     "name": "stdout",
     "output_type": "stream",
     "text": [
      "Saved 인구감소지역 지원 특별법 to 법령별 directory\n"
     ]
    },
    {
     "name": "stderr",
     "output_type": "stream",
     "text": [
      " 66%|██████▋   | 1097/1654 [22:20<09:11,  1.01it/s]"
     ]
    },
    {
     "name": "stdout",
     "output_type": "stream",
     "text": [
      "Saved 인문학 및 인문정신문화의 진흥에 관한 법률 to 법령별 directory\n"
     ]
    },
    {
     "name": "stderr",
     "output_type": "stream",
     "text": [
      " 66%|██████▋   | 1098/1654 [22:21<11:06,  1.20s/it]"
     ]
    },
    {
     "name": "stdout",
     "output_type": "stream",
     "text": [
      "Saved 인사청문회법 to 법령별 directory\n"
     ]
    },
    {
     "name": "stderr",
     "output_type": "stream",
     "text": [
      " 66%|██████▋   | 1099/1654 [22:22<10:35,  1.14s/it]"
     ]
    },
    {
     "name": "stdout",
     "output_type": "stream",
     "text": [
      "Saved 인삼산업법 to 법령별 directory\n"
     ]
    },
    {
     "name": "stderr",
     "output_type": "stream",
     "text": [
      " 67%|██████▋   | 1100/1654 [22:23<10:03,  1.09s/it]"
     ]
    },
    {
     "name": "stdout",
     "output_type": "stream",
     "text": [
      "Saved 인성교육진흥법 to 법령별 directory\n"
     ]
    },
    {
     "name": "stderr",
     "output_type": "stream",
     "text": [
      " 67%|██████▋   | 1101/1654 [22:24<09:33,  1.04s/it]"
     ]
    },
    {
     "name": "stdout",
     "output_type": "stream",
     "text": [
      "Saved 인쇄문화산업 진흥법 to 법령별 directory\n"
     ]
    },
    {
     "name": "stderr",
     "output_type": "stream",
     "text": [
      " 67%|██████▋   | 1102/1654 [22:26<10:24,  1.13s/it]"
     ]
    },
    {
     "name": "stdout",
     "output_type": "stream",
     "text": [
      "Saved 인신매매등방지 및 피해자보호 등에 관한 법률 to 법령별 directory\n"
     ]
    },
    {
     "name": "stderr",
     "output_type": "stream",
     "text": [
      " 67%|██████▋   | 1103/1654 [22:26<09:28,  1.03s/it]"
     ]
    },
    {
     "name": "stdout",
     "output_type": "stream",
     "text": [
      "No data found for 인신보호법\n"
     ]
    },
    {
     "name": "stderr",
     "output_type": "stream",
     "text": [
      " 67%|██████▋   | 1104/1654 [22:27<09:08,  1.00it/s]"
     ]
    },
    {
     "name": "stdout",
     "output_type": "stream",
     "text": [
      "Saved 인적자원개발 기본법 to 법령별 directory\n"
     ]
    },
    {
     "name": "stderr",
     "output_type": "stream",
     "text": [
      " 67%|██████▋   | 1105/1654 [22:28<09:23,  1.03s/it]"
     ]
    },
    {
     "name": "stdout",
     "output_type": "stream",
     "text": [
      "Saved 인지세법 to 법령별 directory\n"
     ]
    },
    {
     "name": "stderr",
     "output_type": "stream",
     "text": [
      " 67%|██████▋   | 1106/1654 [22:29<08:44,  1.04it/s]"
     ]
    },
    {
     "name": "stdout",
     "output_type": "stream",
     "text": [
      "No data found for 인지 첩부·첨부 및 공탁 제공에 관한 특례법\n"
     ]
    },
    {
     "name": "stderr",
     "output_type": "stream",
     "text": [
      " 67%|██████▋   | 1107/1654 [22:30<08:12,  1.11it/s]"
     ]
    },
    {
     "name": "stdout",
     "output_type": "stream",
     "text": [
      "No data found for 인천광역시 남구 명칭 변경에 관한 법률\n"
     ]
    },
    {
     "name": "stderr",
     "output_type": "stream",
     "text": [
      " 67%|██████▋   | 1108/1654 [22:31<08:33,  1.06it/s]"
     ]
    },
    {
     "name": "stdout",
     "output_type": "stream",
     "text": [
      "No data found for 인천국제공항공사법\n"
     ]
    },
    {
     "name": "stderr",
     "output_type": "stream",
     "text": [
      " 67%|██████▋   | 1109/1654 [22:32<08:31,  1.07it/s]"
     ]
    },
    {
     "name": "stdout",
     "output_type": "stream",
     "text": [
      "Saved 인체적용제품의 위해성평가에 관한 법률 to 법령별 directory\n"
     ]
    },
    {
     "name": "stderr",
     "output_type": "stream",
     "text": [
      " 67%|██████▋   | 1110/1654 [22:33<08:56,  1.01it/s]"
     ]
    },
    {
     "name": "stdout",
     "output_type": "stream",
     "text": [
      "Saved 인체조직안전 및 관리 등에 관한 법률 to 법령별 directory\n"
     ]
    },
    {
     "name": "stderr",
     "output_type": "stream",
     "text": [
      " 67%|██████▋   | 1111/1654 [22:34<09:08,  1.01s/it]"
     ]
    },
    {
     "name": "stdout",
     "output_type": "stream",
     "text": [
      "Saved 인터넷 멀티미디어 방송사업법 to 법령별 directory\n"
     ]
    },
    {
     "name": "stderr",
     "output_type": "stream",
     "text": [
      " 67%|██████▋   | 1112/1654 [22:35<09:00,  1.00it/s]"
     ]
    },
    {
     "name": "stdout",
     "output_type": "stream",
     "text": [
      "Saved 인터넷전문은행 설립 및 운영에 관한 특례법 to 법령별 directory\n"
     ]
    },
    {
     "name": "stderr",
     "output_type": "stream",
     "text": [
      " 67%|██████▋   | 1113/1654 [22:36<09:28,  1.05s/it]"
     ]
    },
    {
     "name": "stdout",
     "output_type": "stream",
     "text": [
      "Saved 인터넷주소자원에 관한 법률 to 법령별 directory\n"
     ]
    },
    {
     "name": "stderr",
     "output_type": "stream",
     "text": [
      " 67%|██████▋   | 1114/1654 [22:37<09:05,  1.01s/it]"
     ]
    },
    {
     "name": "stdout",
     "output_type": "stream",
     "text": [
      "Saved 일제강점하 반민족행위 진상규명에 관한 특별법 to 법령별 directory\n"
     ]
    },
    {
     "name": "stderr",
     "output_type": "stream",
     "text": [
      " 67%|██████▋   | 1115/1654 [22:38<09:22,  1.04s/it]"
     ]
    },
    {
     "name": "stdout",
     "output_type": "stream",
     "text": [
      "Saved 일제하 일본군위안부 피해자에 대한 보호ㆍ지원 및 기념사업 등에 관한 법률 to 법령별 directory\n"
     ]
    },
    {
     "name": "stderr",
     "output_type": "stream",
     "text": [
      " 67%|██████▋   | 1116/1654 [22:40<09:54,  1.11s/it]"
     ]
    },
    {
     "name": "stdout",
     "output_type": "stream",
     "text": [
      "Saved 임금채권보장법 to 법령별 directory\n"
     ]
    },
    {
     "name": "stderr",
     "output_type": "stream",
     "text": [
      " 68%|██████▊   | 1117/1654 [22:40<08:59,  1.00s/it]"
     ]
    },
    {
     "name": "stdout",
     "output_type": "stream",
     "text": [
      "No data found for 임시수입부가세법\n"
     ]
    },
    {
     "name": "stderr",
     "output_type": "stream",
     "text": [
      " 68%|██████▊   | 1118/1654 [22:42<09:45,  1.09s/it]"
     ]
    },
    {
     "name": "stdout",
     "output_type": "stream",
     "text": [
      "Saved 임업 및 산촌 진흥촉진에 관한 법률 to 법령별 directory\n"
     ]
    },
    {
     "name": "stderr",
     "output_type": "stream",
     "text": [
      " 68%|██████▊   | 1119/1654 [22:43<09:29,  1.06s/it]"
     ]
    },
    {
     "name": "stdout",
     "output_type": "stream",
     "text": [
      "Saved 임업ㆍ산림 공익기능 증진을 위한 직접지불제도 운영에 관한 법률 to 법령별 directory\n"
     ]
    },
    {
     "name": "stderr",
     "output_type": "stream",
     "text": [
      " 68%|██████▊   | 1120/1654 [22:43<08:59,  1.01s/it]"
     ]
    },
    {
     "name": "stdout",
     "output_type": "stream",
     "text": [
      "Saved 임용결격공무원 등에 대한 퇴직보상금지급 등에 관한 특례법 to 법령별 directory\n"
     ]
    },
    {
     "name": "stderr",
     "output_type": "stream",
     "text": [
      " 68%|██████▊   | 1121/1654 [22:44<08:36,  1.03it/s]"
     ]
    },
    {
     "name": "stdout",
     "output_type": "stream",
     "text": [
      "No data found for 입목에 관한 법률\n"
     ]
    },
    {
     "name": "stderr",
     "output_type": "stream",
     "text": [
      " 68%|██████▊   | 1122/1654 [22:45<08:57,  1.01s/it]"
     ]
    },
    {
     "name": "stdout",
     "output_type": "stream",
     "text": [
      "Saved 입양특례법 to 법령별 directory\n"
     ]
    },
    {
     "name": "stderr",
     "output_type": "stream",
     "text": [
      " 68%|██████▊   | 1123/1654 [22:47<11:10,  1.26s/it]"
     ]
    },
    {
     "name": "stdout",
     "output_type": "stream",
     "text": [
      "Saved 자격기본법 to 법령별 directory\n"
     ]
    },
    {
     "name": "stderr",
     "output_type": "stream",
     "text": [
      " 68%|██████▊   | 1124/1654 [22:50<14:14,  1.61s/it]"
     ]
    },
    {
     "name": "stdout",
     "output_type": "stream",
     "text": [
      "Saved 자동차관리법 to 법령별 directory\n"
     ]
    },
    {
     "name": "stderr",
     "output_type": "stream",
     "text": [
      " 68%|██████▊   | 1125/1654 [22:51<12:24,  1.41s/it]"
     ]
    },
    {
     "name": "stdout",
     "output_type": "stream",
     "text": [
      "Saved 자동차 등 특정동산 저당법 to 법령별 directory\n"
     ]
    },
    {
     "name": "stderr",
     "output_type": "stream",
     "text": [
      " 68%|██████▊   | 1126/1654 [22:52<12:01,  1.37s/it]"
     ]
    },
    {
     "name": "stdout",
     "output_type": "stream",
     "text": [
      "Saved 자동차손해배상 보장법 to 법령별 directory\n"
     ]
    },
    {
     "name": "stderr",
     "output_type": "stream",
     "text": [
      " 68%|██████▊   | 1127/1654 [22:56<19:35,  2.23s/it]"
     ]
    },
    {
     "name": "stdout",
     "output_type": "stream",
     "text": [
      "No data found for 자본시장과 금융투자업에 관한 법률\n"
     ]
    },
    {
     "name": "stderr",
     "output_type": "stream",
     "text": [
      " 68%|██████▊   | 1128/1654 [22:58<17:15,  1.97s/it]"
     ]
    },
    {
     "name": "stdout",
     "output_type": "stream",
     "text": [
      "Saved 자산유동화에 관한 법률 to 법령별 directory\n"
     ]
    },
    {
     "name": "stderr",
     "output_type": "stream",
     "text": [
      " 68%|██████▊   | 1129/1654 [22:59<15:14,  1.74s/it]"
     ]
    },
    {
     "name": "stdout",
     "output_type": "stream",
     "text": [
      "Saved 자산재평가법 to 법령별 directory\n"
     ]
    },
    {
     "name": "stderr",
     "output_type": "stream",
     "text": [
      " 68%|██████▊   | 1130/1654 [23:00<13:42,  1.57s/it]"
     ]
    },
    {
     "name": "stdout",
     "output_type": "stream",
     "text": [
      "Saved 자살예방 및 생명존중문화 조성을 위한 법률 to 법령별 directory\n"
     ]
    },
    {
     "name": "stderr",
     "output_type": "stream",
     "text": [
      " 68%|██████▊   | 1131/1654 [23:01<13:37,  1.56s/it]"
     ]
    },
    {
     "name": "stdout",
     "output_type": "stream",
     "text": [
      "Saved 자연공원법 to 법령별 directory\n"
     ]
    },
    {
     "name": "stderr",
     "output_type": "stream",
     "text": [
      " 68%|██████▊   | 1132/1654 [23:03<13:07,  1.51s/it]"
     ]
    },
    {
     "name": "stdout",
     "output_type": "stream",
     "text": [
      "Saved 자연유산의 보존 및 활용에 관한 법률 to 법령별 directory\n"
     ]
    },
    {
     "name": "stderr",
     "output_type": "stream",
     "text": [
      " 69%|██████▊   | 1133/1654 [23:05<13:56,  1.60s/it]"
     ]
    },
    {
     "name": "stdout",
     "output_type": "stream",
     "text": [
      "Saved 자연재해대책법 to 법령별 directory\n"
     ]
    },
    {
     "name": "stderr",
     "output_type": "stream",
     "text": [
      " 69%|██████▊   | 1134/1654 [23:06<13:57,  1.61s/it]"
     ]
    },
    {
     "name": "stdout",
     "output_type": "stream",
     "text": [
      "Saved 자연환경보전법 to 법령별 directory\n"
     ]
    },
    {
     "name": "stderr",
     "output_type": "stream",
     "text": [
      " 69%|██████▊   | 1135/1654 [23:08<14:04,  1.63s/it]"
     ]
    },
    {
     "name": "stdout",
     "output_type": "stream",
     "text": [
      "Saved 자원봉사활동 기본법 to 법령별 directory\n"
     ]
    },
    {
     "name": "stderr",
     "output_type": "stream",
     "text": [
      " 69%|██████▊   | 1136/1654 [23:10<13:50,  1.60s/it]"
     ]
    },
    {
     "name": "stdout",
     "output_type": "stream",
     "text": [
      "Saved 자원의 절약과 재활용촉진에 관한 법률 to 법령별 directory\n"
     ]
    },
    {
     "name": "stderr",
     "output_type": "stream",
     "text": [
      " 69%|██████▊   | 1137/1654 [23:11<13:12,  1.53s/it]"
     ]
    },
    {
     "name": "stdout",
     "output_type": "stream",
     "text": [
      "Saved 자유무역지역의 지정 및 운영에 관한 법률 to 법령별 directory\n"
     ]
    },
    {
     "name": "stderr",
     "output_type": "stream",
     "text": [
      " 69%|██████▉   | 1138/1654 [23:12<12:20,  1.44s/it]"
     ]
    },
    {
     "name": "stdout",
     "output_type": "stream",
     "text": [
      "Saved 자유무역협정의 이행을 위한 관세법의 특례에 관한 법률 to 법령별 directory\n"
     ]
    },
    {
     "name": "stderr",
     "output_type": "stream",
     "text": [
      " 69%|██████▉   | 1139/1654 [23:13<11:46,  1.37s/it]"
     ]
    },
    {
     "name": "stdout",
     "output_type": "stream",
     "text": [
      "Saved 자유무역협정 체결에 따른 농어업인 등의 지원에 관한 특별법 to 법령별 directory\n"
     ]
    },
    {
     "name": "stderr",
     "output_type": "stream",
     "text": [
      " 69%|██████▉   | 1140/1654 [23:14<10:43,  1.25s/it]"
     ]
    },
    {
     "name": "stdout",
     "output_type": "stream",
     "text": [
      "Saved 자율관리어업 육성 및 지원에 관한 법률 to 법령별 directory\n"
     ]
    },
    {
     "name": "stderr",
     "output_type": "stream",
     "text": [
      " 69%|██████▉   | 1141/1654 [23:15<10:12,  1.19s/it]"
     ]
    },
    {
     "name": "stdout",
     "output_type": "stream",
     "text": [
      "Saved 자율방범대 설치 및 운영에 관한 법률 to 법령별 directory\n"
     ]
    },
    {
     "name": "stderr",
     "output_type": "stream",
     "text": [
      " 69%|██████▉   | 1142/1654 [23:17<10:08,  1.19s/it]"
     ]
    },
    {
     "name": "stdout",
     "output_type": "stream",
     "text": [
      "Saved 자율주행자동차 상용화 촉진 및 지원에 관한 법률 to 법령별 directory\n"
     ]
    },
    {
     "name": "stderr",
     "output_type": "stream",
     "text": [
      " 69%|██████▉   | 1143/1654 [23:18<09:59,  1.17s/it]"
     ]
    },
    {
     "name": "stdout",
     "output_type": "stream",
     "text": [
      "Saved 자전거 이용 활성화에 관한 법률 to 법령별 directory\n"
     ]
    },
    {
     "name": "stderr",
     "output_type": "stream",
     "text": [
      " 69%|██████▉   | 1144/1654 [23:19<09:20,  1.10s/it]"
     ]
    },
    {
     "name": "stdout",
     "output_type": "stream",
     "text": [
      "Saved 작은도서관 진흥법 to 법령별 directory\n"
     ]
    },
    {
     "name": "stderr",
     "output_type": "stream",
     "text": [
      " 69%|██████▉   | 1145/1654 [23:20<09:47,  1.15s/it]"
     ]
    },
    {
     "name": "stdout",
     "output_type": "stream",
     "text": [
      "Saved 잔류성오염물질 관리법 to 법령별 directory\n"
     ]
    },
    {
     "name": "stderr",
     "output_type": "stream",
     "text": [
      " 69%|██████▉   | 1146/1654 [23:21<09:41,  1.15s/it]"
     ]
    },
    {
     "name": "stdout",
     "output_type": "stream",
     "text": [
      "Saved 잡지 등 정기간행물의 진흥에 관한 법률 to 법령별 directory\n"
     ]
    },
    {
     "name": "stderr",
     "output_type": "stream",
     "text": [
      " 69%|██████▉   | 1147/1654 [23:22<09:21,  1.11s/it]"
     ]
    },
    {
     "name": "stdout",
     "output_type": "stream",
     "text": [
      "Saved 장기공공임대주택 입주자 삶의 질 향상 지원법 to 법령별 directory\n"
     ]
    },
    {
     "name": "stderr",
     "output_type": "stream",
     "text": [
      " 69%|██████▉   | 1148/1654 [23:23<09:42,  1.15s/it]"
     ]
    },
    {
     "name": "stdout",
     "output_type": "stream",
     "text": [
      "Saved 장기등 이식에 관한 법률 to 법령별 directory\n"
     ]
    },
    {
     "name": "stderr",
     "output_type": "stream",
     "text": [
      " 69%|██████▉   | 1149/1654 [23:24<09:52,  1.17s/it]"
     ]
    },
    {
     "name": "stdout",
     "output_type": "stream",
     "text": [
      "Saved 장사 등에 관한 법률 to 법령별 directory\n"
     ]
    },
    {
     "name": "stderr",
     "output_type": "stream",
     "text": [
      " 70%|██████▉   | 1150/1654 [23:26<11:16,  1.34s/it]"
     ]
    },
    {
     "name": "stdout",
     "output_type": "stream",
     "text": [
      "Saved 장애아동 복지지원법 to 법령별 directory\n"
     ]
    },
    {
     "name": "stderr",
     "output_type": "stream",
     "text": [
      " 70%|██████▉   | 1151/1654 [23:27<10:07,  1.21s/it]"
     ]
    },
    {
     "name": "stdout",
     "output_type": "stream",
     "text": [
      "Saved 장애예술인 문화예술 활동 지원에 관한 법률 to 법령별 directory\n"
     ]
    },
    {
     "name": "stderr",
     "output_type": "stream",
     "text": [
      " 70%|██████▉   | 1152/1654 [23:28<09:40,  1.16s/it]"
     ]
    },
    {
     "name": "stdout",
     "output_type": "stream",
     "text": [
      "Saved 장애인 건강권 및 의료접근성 보장에 관한 법률 to 법령별 directory\n"
     ]
    },
    {
     "name": "stderr",
     "output_type": "stream",
     "text": [
      " 70%|██████▉   | 1153/1654 [23:29<09:18,  1.12s/it]"
     ]
    },
    {
     "name": "stdout",
     "output_type": "stream",
     "text": [
      "Saved 장애인ㆍ고령자 등 주거약자 지원에 관한 법률 to 법령별 directory\n"
     ]
    },
    {
     "name": "stderr",
     "output_type": "stream",
     "text": [
      " 70%|██████▉   | 1154/1654 [23:31<10:13,  1.23s/it]"
     ]
    },
    {
     "name": "stdout",
     "output_type": "stream",
     "text": [
      "Saved 장애인고용촉진 및 직업재활법 to 법령별 directory\n"
     ]
    },
    {
     "name": "stderr",
     "output_type": "stream",
     "text": [
      " 70%|██████▉   | 1155/1654 [23:32<09:47,  1.18s/it]"
     ]
    },
    {
     "name": "stdout",
     "output_type": "stream",
     "text": [
      "Saved 장애인기업활동 촉진법 to 법령별 directory\n"
     ]
    },
    {
     "name": "stderr",
     "output_type": "stream",
     "text": [
      " 70%|██████▉   | 1156/1654 [23:33<09:08,  1.10s/it]"
     ]
    },
    {
     "name": "stdout",
     "output_type": "stream",
     "text": [
      "Saved 장애인ㆍ노인 등을 위한 보조기기 지원 및 활용촉진에 관한 법률 to 법령별 directory\n"
     ]
    },
    {
     "name": "stderr",
     "output_type": "stream",
     "text": [
      " 70%|██████▉   | 1157/1654 [23:34<09:44,  1.18s/it]"
     ]
    },
    {
     "name": "stdout",
     "output_type": "stream",
     "text": [
      "Saved 장애인ㆍ노인ㆍ임산부 등의 편의증진 보장에 관한 법률 to 법령별 directory\n"
     ]
    },
    {
     "name": "stderr",
     "output_type": "stream",
     "text": [
      " 70%|███████   | 1158/1654 [23:35<09:33,  1.16s/it]"
     ]
    },
    {
     "name": "stdout",
     "output_type": "stream",
     "text": [
      "Saved 장애인 등에 대한 특수교육법 to 법령별 directory\n"
     ]
    },
    {
     "name": "stderr",
     "output_type": "stream",
     "text": [
      " 70%|███████   | 1159/1654 [23:37<11:10,  1.35s/it]"
     ]
    },
    {
     "name": "stdout",
     "output_type": "stream",
     "text": [
      "No data found for 장애인복지법\n"
     ]
    },
    {
     "name": "stderr",
     "output_type": "stream",
     "text": [
      " 70%|███████   | 1160/1654 [23:38<10:26,  1.27s/it]"
     ]
    },
    {
     "name": "stdout",
     "output_type": "stream",
     "text": [
      "Saved 장애인연금법 to 법령별 directory\n"
     ]
    },
    {
     "name": "stderr",
     "output_type": "stream",
     "text": [
      " 70%|███████   | 1161/1654 [23:39<10:19,  1.26s/it]"
     ]
    },
    {
     "name": "stdout",
     "output_type": "stream",
     "text": [
      "Saved 장애인차별금지 및 권리구제 등에 관한 법률 to 법령별 directory\n"
     ]
    },
    {
     "name": "stderr",
     "output_type": "stream",
     "text": [
      " 70%|███████   | 1162/1654 [23:40<10:15,  1.25s/it]"
     ]
    },
    {
     "name": "stdout",
     "output_type": "stream",
     "text": [
      "Saved 장애인활동 지원에 관한 법률 to 법령별 directory\n"
     ]
    },
    {
     "name": "stderr",
     "output_type": "stream",
     "text": [
      " 70%|███████   | 1163/1654 [23:42<09:55,  1.21s/it]"
     ]
    },
    {
     "name": "stdout",
     "output_type": "stream",
     "text": [
      "Saved 재건축초과이익 환수에 관한 법률 to 법령별 directory\n"
     ]
    },
    {
     "name": "stderr",
     "output_type": "stream",
     "text": [
      " 70%|███████   | 1164/1654 [23:43<09:38,  1.18s/it]"
     ]
    },
    {
     "name": "stdout",
     "output_type": "stream",
     "text": [
      "Saved 재난관리자원의 관리 등에 관한 법률 to 법령별 directory\n"
     ]
    },
    {
     "name": "stderr",
     "output_type": "stream",
     "text": [
      " 70%|███████   | 1165/1654 [23:44<10:52,  1.33s/it]"
     ]
    },
    {
     "name": "stdout",
     "output_type": "stream",
     "text": [
      "Saved 재난 및 안전관리 기본법 to 법령별 directory\n"
     ]
    },
    {
     "name": "stderr",
     "output_type": "stream",
     "text": [
      " 70%|███████   | 1166/1654 [23:45<10:13,  1.26s/it]"
     ]
    },
    {
     "name": "stdout",
     "output_type": "stream",
     "text": [
      "Saved 재난안전산업 진흥법 to 법령별 directory\n"
     ]
    },
    {
     "name": "stderr",
     "output_type": "stream",
     "text": [
      " 71%|███████   | 1167/1654 [23:46<09:12,  1.13s/it]"
     ]
    },
    {
     "name": "stdout",
     "output_type": "stream",
     "text": [
      "Saved 재난안전통신망법 to 법령별 directory\n"
     ]
    },
    {
     "name": "stderr",
     "output_type": "stream",
     "text": [
      " 71%|███████   | 1168/1654 [23:47<08:33,  1.06s/it]"
     ]
    },
    {
     "name": "stdout",
     "output_type": "stream",
     "text": [
      "Saved 재난적의료비 지원에 관한 법률 to 법령별 directory\n"
     ]
    },
    {
     "name": "stderr",
     "output_type": "stream",
     "text": [
      " 71%|███████   | 1169/1654 [23:48<08:22,  1.04s/it]"
     ]
    },
    {
     "name": "stdout",
     "output_type": "stream",
     "text": [
      "No data found for 재외공관 공증법\n"
     ]
    },
    {
     "name": "stderr",
     "output_type": "stream",
     "text": [
      " 71%|███████   | 1170/1654 [23:50<09:23,  1.16s/it]"
     ]
    },
    {
     "name": "stdout",
     "output_type": "stream",
     "text": [
      "No data found for 재외공관 수입금 등 직접사용에 관한 법률\n"
     ]
    },
    {
     "name": "stderr",
     "output_type": "stream",
     "text": [
      " 71%|███████   | 1171/1654 [23:51<09:01,  1.12s/it]"
     ]
    },
    {
     "name": "stdout",
     "output_type": "stream",
     "text": [
      "No data found for 재외공관용 재산의 취득ㆍ관리 등에 관한 특례법\n"
     ]
    },
    {
     "name": "stderr",
     "output_type": "stream",
     "text": [
      " 71%|███████   | 1172/1654 [23:52<08:32,  1.06s/it]"
     ]
    },
    {
     "name": "stdout",
     "output_type": "stream",
     "text": [
      "No data found for 재외국민등록법\n"
     ]
    },
    {
     "name": "stderr",
     "output_type": "stream",
     "text": [
      " 71%|███████   | 1173/1654 [23:53<08:12,  1.02s/it]"
     ]
    },
    {
     "name": "stdout",
     "output_type": "stream",
     "text": [
      "Saved 재외국민보호를 위한 영사조력법 to 법령별 directory\n"
     ]
    },
    {
     "name": "stderr",
     "output_type": "stream",
     "text": [
      " 71%|███████   | 1174/1654 [23:53<07:55,  1.01it/s]"
     ]
    },
    {
     "name": "stdout",
     "output_type": "stream",
     "text": [
      "No data found for 재외국민의 가족관계등록 창설, 가족관계등록부 정정 및 가족관계등록부 정리에 관한 특례법\n"
     ]
    },
    {
     "name": "stderr",
     "output_type": "stream",
     "text": [
      " 71%|███████   | 1175/1654 [23:54<08:03,  1.01s/it]"
     ]
    },
    {
     "name": "stdout",
     "output_type": "stream",
     "text": [
      "Saved 재외국민의 교육지원 등에 관한 법률 to 법령별 directory\n"
     ]
    },
    {
     "name": "stderr",
     "output_type": "stream",
     "text": [
      " 71%|███████   | 1176/1654 [23:55<08:01,  1.01s/it]"
     ]
    },
    {
     "name": "stdout",
     "output_type": "stream",
     "text": [
      "Saved 재외동포기본법 to 법령별 directory\n"
     ]
    },
    {
     "name": "stderr",
     "output_type": "stream",
     "text": [
      " 71%|███████   | 1177/1654 [23:57<08:03,  1.01s/it]"
     ]
    },
    {
     "name": "stdout",
     "output_type": "stream",
     "text": [
      "Saved 재외동포의 출입국과 법적 지위에 관한 법률 to 법령별 directory\n"
     ]
    },
    {
     "name": "stderr",
     "output_type": "stream",
     "text": [
      " 71%|███████   | 1178/1654 [23:58<08:02,  1.01s/it]"
     ]
    },
    {
     "name": "stdout",
     "output_type": "stream",
     "text": [
      "Saved 재일교포 북송저지 특수임무수행자 보상에 관한 법률 to 법령별 directory\n"
     ]
    },
    {
     "name": "stderr",
     "output_type": "stream",
     "text": [
      " 71%|███████▏  | 1179/1654 [23:59<07:58,  1.01s/it]"
     ]
    },
    {
     "name": "stdout",
     "output_type": "stream",
     "text": [
      "Saved 재한외국인 처우 기본법 to 법령별 directory\n"
     ]
    },
    {
     "name": "stderr",
     "output_type": "stream",
     "text": [
      " 71%|███████▏  | 1180/1654 [24:00<08:51,  1.12s/it]"
     ]
    },
    {
     "name": "stdout",
     "output_type": "stream",
     "text": [
      "Saved 재해경감을 위한 기업의 자율활동 지원에 관한 법률 to 법령별 directory\n"
     ]
    },
    {
     "name": "stderr",
     "output_type": "stream",
     "text": [
      " 71%|███████▏  | 1181/1654 [24:01<09:00,  1.14s/it]"
     ]
    },
    {
     "name": "stdout",
     "output_type": "stream",
     "text": [
      "Saved 재해구호법 to 법령별 directory\n"
     ]
    },
    {
     "name": "stderr",
     "output_type": "stream",
     "text": [
      " 71%|███████▏  | 1182/1654 [24:02<08:53,  1.13s/it]"
     ]
    },
    {
     "name": "stdout",
     "output_type": "stream",
     "text": [
      "Saved 재해위험 개선사업 및 이주대책에 관한 특별법 to 법령별 directory\n"
     ]
    },
    {
     "name": "stderr",
     "output_type": "stream",
     "text": [
      " 72%|███████▏  | 1183/1654 [24:03<09:01,  1.15s/it]"
     ]
    },
    {
     "name": "stdout",
     "output_type": "stream",
     "text": [
      "Saved 저수지ㆍ댐의 안전관리 및 재해예방에 관한 법률 to 법령별 directory\n"
     ]
    },
    {
     "name": "stderr",
     "output_type": "stream",
     "text": [
      " 72%|███████▏  | 1184/1654 [24:06<12:24,  1.58s/it]"
     ]
    },
    {
     "name": "stdout",
     "output_type": "stream",
     "text": [
      "Saved 저작권법 to 법령별 directory\n"
     ]
    },
    {
     "name": "stderr",
     "output_type": "stream",
     "text": [
      " 72%|███████▏  | 1185/1654 [24:07<11:06,  1.42s/it]"
     ]
    },
    {
     "name": "stdout",
     "output_type": "stream",
     "text": [
      "Saved 저출산ㆍ고령사회기본법 to 법령별 directory\n"
     ]
    },
    {
     "name": "stderr",
     "output_type": "stream",
     "text": [
      " 72%|███████▏  | 1186/1654 [24:08<10:12,  1.31s/it]"
     ]
    },
    {
     "name": "stdout",
     "output_type": "stream",
     "text": [
      "Saved 적합성평가 관리 등에 관한 법률 to 법령별 directory\n"
     ]
    },
    {
     "name": "stderr",
     "output_type": "stream",
     "text": [
      " 72%|███████▏  | 1187/1654 [24:09<09:42,  1.25s/it]"
     ]
    },
    {
     "name": "stdout",
     "output_type": "stream",
     "text": [
      "Saved 전공의의 수련환경 개선 및 지위 향상을 위한 법률 to 법령별 directory\n"
     ]
    },
    {
     "name": "stderr",
     "output_type": "stream",
     "text": [
      " 72%|███████▏  | 1188/1654 [24:10<09:41,  1.25s/it]"
     ]
    },
    {
     "name": "stdout",
     "output_type": "stream",
     "text": [
      "Saved 전기공사공제조합법 to 법령별 directory\n"
     ]
    },
    {
     "name": "stderr",
     "output_type": "stream",
     "text": [
      " 72%|███████▏  | 1189/1654 [24:12<09:43,  1.25s/it]"
     ]
    },
    {
     "name": "stdout",
     "output_type": "stream",
     "text": [
      "Saved 전기공사업법 to 법령별 directory\n"
     ]
    },
    {
     "name": "stderr",
     "output_type": "stream",
     "text": [
      " 72%|███████▏  | 1190/1654 [24:14<11:24,  1.48s/it]"
     ]
    },
    {
     "name": "stdout",
     "output_type": "stream",
     "text": [
      "Saved 전기사업법 to 법령별 directory\n"
     ]
    },
    {
     "name": "stderr",
     "output_type": "stream",
     "text": [
      " 72%|███████▏  | 1191/1654 [24:15<10:44,  1.39s/it]"
     ]
    },
    {
     "name": "stdout",
     "output_type": "stream",
     "text": [
      "Saved 전기안전관리법 to 법령별 directory\n"
     ]
    },
    {
     "name": "stderr",
     "output_type": "stream",
     "text": [
      " 72%|███████▏  | 1192/1654 [24:16<10:20,  1.34s/it]"
     ]
    },
    {
     "name": "stdout",
     "output_type": "stream",
     "text": [
      "Saved 전기용품 및 생활용품 안전관리법 to 법령별 directory\n"
     ]
    },
    {
     "name": "stderr",
     "output_type": "stream",
     "text": [
      " 72%|███████▏  | 1193/1654 [24:17<10:14,  1.33s/it]"
     ]
    },
    {
     "name": "stdout",
     "output_type": "stream",
     "text": [
      "Saved 전기ㆍ전자제품 및 자동차의 자원순환에 관한 법률 to 법령별 directory\n"
     ]
    },
    {
     "name": "stderr",
     "output_type": "stream",
     "text": [
      " 72%|███████▏  | 1194/1654 [24:19<10:02,  1.31s/it]"
     ]
    },
    {
     "name": "stdout",
     "output_type": "stream",
     "text": [
      "Saved 전기통신금융사기 피해 방지 및 피해금 환급에 관한 특별법 to 법령별 directory\n"
     ]
    },
    {
     "name": "stderr",
     "output_type": "stream",
     "text": [
      " 72%|███████▏  | 1195/1654 [24:20<09:57,  1.30s/it]"
     ]
    },
    {
     "name": "stdout",
     "output_type": "stream",
     "text": [
      "Saved 전기통신기본법 to 법령별 directory\n"
     ]
    },
    {
     "name": "stderr",
     "output_type": "stream",
     "text": [
      " 72%|███████▏  | 1196/1654 [24:22<11:27,  1.50s/it]"
     ]
    },
    {
     "name": "stdout",
     "output_type": "stream",
     "text": [
      "Saved 전기통신사업법 to 법령별 directory\n"
     ]
    },
    {
     "name": "stderr",
     "output_type": "stream",
     "text": [
      " 72%|███████▏  | 1197/1654 [24:23<10:22,  1.36s/it]"
     ]
    },
    {
     "name": "stdout",
     "output_type": "stream",
     "text": [
      "Saved 전력기술관리법 to 법령별 directory\n"
     ]
    },
    {
     "name": "stderr",
     "output_type": "stream",
     "text": [
      " 72%|███████▏  | 1198/1654 [24:24<09:14,  1.22s/it]"
     ]
    },
    {
     "name": "stdout",
     "output_type": "stream",
     "text": [
      "No data found for 전북특별자치도 설치 등에 관한 특별법\n"
     ]
    },
    {
     "name": "stderr",
     "output_type": "stream",
     "text": [
      " 72%|███████▏  | 1199/1654 [24:25<07:59,  1.05s/it]"
     ]
    },
    {
     "name": "stdout",
     "output_type": "stream",
     "text": [
      "Saved 전사ㆍ순직한 진급예정자의 진급에 관한 특별법 to 법령별 directory\n"
     ]
    },
    {
     "name": "stderr",
     "output_type": "stream",
     "text": [
      " 73%|███████▎  | 1200/1654 [24:26<09:00,  1.19s/it]"
     ]
    },
    {
     "name": "stdout",
     "output_type": "stream",
     "text": [
      "Saved 전세사기피해자 지원 및 주거안정에 관한 특별법 to 법령별 directory\n"
     ]
    },
    {
     "name": "stderr",
     "output_type": "stream",
     "text": [
      " 73%|███████▎  | 1201/1654 [24:27<08:37,  1.14s/it]"
     ]
    },
    {
     "name": "stdout",
     "output_type": "stream",
     "text": [
      "Saved 전시산업발전법 to 법령별 directory\n"
     ]
    },
    {
     "name": "stderr",
     "output_type": "stream",
     "text": [
      " 73%|███████▎  | 1202/1654 [24:28<08:26,  1.12s/it]"
     ]
    },
    {
     "name": "stdout",
     "output_type": "stream",
     "text": [
      "Saved 전원개발촉진법 to 법령별 directory\n"
     ]
    },
    {
     "name": "stderr",
     "output_type": "stream",
     "text": [
      " 73%|███████▎  | 1203/1654 [24:29<08:55,  1.19s/it]"
     ]
    },
    {
     "name": "stdout",
     "output_type": "stream",
     "text": [
      "Saved 전자금융거래법 to 법령별 directory\n"
     ]
    },
    {
     "name": "stderr",
     "output_type": "stream",
     "text": [
      " 73%|███████▎  | 1204/1654 [24:31<08:42,  1.16s/it]"
     ]
    },
    {
     "name": "stdout",
     "output_type": "stream",
     "text": [
      "Saved 전자무역 촉진에 관한 법률 to 법령별 directory\n"
     ]
    },
    {
     "name": "stderr",
     "output_type": "stream",
     "text": [
      " 73%|███████▎  | 1205/1654 [24:32<09:22,  1.25s/it]"
     ]
    },
    {
     "name": "stdout",
     "output_type": "stream",
     "text": [
      "Saved 전자문서 및 전자거래 기본법 to 법령별 directory\n"
     ]
    },
    {
     "name": "stderr",
     "output_type": "stream",
     "text": [
      " 73%|███████▎  | 1206/1654 [24:33<09:25,  1.26s/it]"
     ]
    },
    {
     "name": "stdout",
     "output_type": "stream",
     "text": [
      "Saved 전자상거래 등에서의 소비자보호에 관한 법률 to 법령별 directory\n"
     ]
    },
    {
     "name": "stderr",
     "output_type": "stream",
     "text": [
      " 73%|███████▎  | 1207/1654 [24:34<08:40,  1.16s/it]"
     ]
    },
    {
     "name": "stdout",
     "output_type": "stream",
     "text": [
      "Saved 전자서명법 to 법령별 directory\n"
     ]
    },
    {
     "name": "stderr",
     "output_type": "stream",
     "text": [
      " 73%|███████▎  | 1208/1654 [24:35<08:11,  1.10s/it]"
     ]
    },
    {
     "name": "stdout",
     "output_type": "stream",
     "text": [
      "Saved 전자어음의 발행 및 유통에 관한 법률 to 법령별 directory\n"
     ]
    },
    {
     "name": "stderr",
     "output_type": "stream",
     "text": [
      " 73%|███████▎  | 1209/1654 [24:36<08:30,  1.15s/it]"
     ]
    },
    {
     "name": "stdout",
     "output_type": "stream",
     "text": [
      "Saved 전자장치 부착 등에 관한 법률 to 법령별 directory\n"
     ]
    },
    {
     "name": "stderr",
     "output_type": "stream",
     "text": [
      " 73%|███████▎  | 1210/1654 [24:38<09:25,  1.27s/it]"
     ]
    },
    {
     "name": "stdout",
     "output_type": "stream",
     "text": [
      "Saved 전자정부법 to 법령별 directory\n"
     ]
    },
    {
     "name": "stderr",
     "output_type": "stream",
     "text": [
      " 73%|███████▎  | 1211/1654 [24:39<08:43,  1.18s/it]"
     ]
    },
    {
     "name": "stdout",
     "output_type": "stream",
     "text": [
      "Saved 전자조달의 이용 및 촉진에 관한 법률 to 법령별 directory\n"
     ]
    },
    {
     "name": "stderr",
     "output_type": "stream",
     "text": [
      " 73%|███████▎  | 1212/1654 [24:40<08:19,  1.13s/it]"
     ]
    },
    {
     "name": "stdout",
     "output_type": "stream",
     "text": [
      "No data found for 전쟁기념사업회법\n"
     ]
    },
    {
     "name": "stderr",
     "output_type": "stream",
     "text": [
      " 73%|███████▎  | 1213/1654 [24:41<08:04,  1.10s/it]"
     ]
    },
    {
     "name": "stdout",
     "output_type": "stream",
     "text": [
      "Saved 전직대통령 예우에 관한 법률 to 법령별 directory\n"
     ]
    },
    {
     "name": "stderr",
     "output_type": "stream",
     "text": [
      " 73%|███████▎  | 1214/1654 [24:42<07:26,  1.01s/it]"
     ]
    },
    {
     "name": "stdout",
     "output_type": "stream",
     "text": [
      "Saved 전통무예진흥법 to 법령별 directory\n"
     ]
    },
    {
     "name": "stderr",
     "output_type": "stream",
     "text": [
      " 73%|███████▎  | 1215/1654 [24:43<07:13,  1.01it/s]"
     ]
    },
    {
     "name": "stdout",
     "output_type": "stream",
     "text": [
      "Saved 전통문화산업 진흥법 to 법령별 directory\n"
     ]
    },
    {
     "name": "stderr",
     "output_type": "stream",
     "text": [
      " 74%|███████▎  | 1216/1654 [24:44<07:26,  1.02s/it]"
     ]
    },
    {
     "name": "stdout",
     "output_type": "stream",
     "text": [
      "Saved 전통사찰의 보존 및 지원에 관한 법률 to 법령별 directory\n"
     ]
    },
    {
     "name": "stderr",
     "output_type": "stream",
     "text": [
      " 74%|███████▎  | 1217/1654 [24:45<07:20,  1.01s/it]"
     ]
    },
    {
     "name": "stdout",
     "output_type": "stream",
     "text": [
      "Saved 전통 소싸움경기에 관한 법률 to 법령별 directory\n"
     ]
    },
    {
     "name": "stderr",
     "output_type": "stream",
     "text": [
      " 74%|███████▎  | 1218/1654 [24:46<08:34,  1.18s/it]"
     ]
    },
    {
     "name": "stdout",
     "output_type": "stream",
     "text": [
      "Saved 전통시장 및 상점가 육성을 위한 특별법 to 법령별 directory\n"
     ]
    },
    {
     "name": "stderr",
     "output_type": "stream",
     "text": [
      " 74%|███████▎  | 1219/1654 [24:48<08:32,  1.18s/it]"
     ]
    },
    {
     "name": "stdout",
     "output_type": "stream",
     "text": [
      "Saved 전통주 등의 산업진흥에 관한 법률 to 법령별 directory\n"
     ]
    },
    {
     "name": "stderr",
     "output_type": "stream",
     "text": [
      " 74%|███████▍  | 1220/1654 [24:50<10:34,  1.46s/it]"
     ]
    },
    {
     "name": "stdout",
     "output_type": "stream",
     "text": [
      "Saved 전파법 to 법령별 directory\n"
     ]
    },
    {
     "name": "stderr",
     "output_type": "stream",
     "text": [
      " 74%|███████▍  | 1221/1654 [24:51<09:24,  1.30s/it]"
     ]
    },
    {
     "name": "stdout",
     "output_type": "stream",
     "text": [
      "Saved 점자법 to 법령별 directory\n"
     ]
    },
    {
     "name": "stderr",
     "output_type": "stream",
     "text": [
      " 74%|███████▍  | 1222/1654 [24:52<08:58,  1.25s/it]"
     ]
    },
    {
     "name": "stdout",
     "output_type": "stream",
     "text": [
      "Saved 접경지역 지원 특별법 to 법령별 directory\n"
     ]
    },
    {
     "name": "stderr",
     "output_type": "stream",
     "text": [
      " 74%|███████▍  | 1223/1654 [24:53<08:58,  1.25s/it]"
     ]
    },
    {
     "name": "stdout",
     "output_type": "stream",
     "text": [
      "Saved 정당법 to 법령별 directory\n"
     ]
    },
    {
     "name": "stderr",
     "output_type": "stream",
     "text": [
      " 74%|███████▍  | 1224/1654 [24:54<08:17,  1.16s/it]"
     ]
    },
    {
     "name": "stdout",
     "output_type": "stream",
     "text": [
      "Saved 정보보호산업의 진흥에 관한 법률 to 법령별 directory\n"
     ]
    },
    {
     "name": "stderr",
     "output_type": "stream",
     "text": [
      " 74%|███████▍  | 1225/1654 [24:55<08:54,  1.25s/it]"
     ]
    },
    {
     "name": "stdout",
     "output_type": "stream",
     "text": [
      "Saved 정보통신공사업법 to 법령별 directory\n"
     ]
    },
    {
     "name": "stderr",
     "output_type": "stream",
     "text": [
      " 74%|███████▍  | 1226/1654 [24:57<08:48,  1.23s/it]"
     ]
    },
    {
     "name": "stdout",
     "output_type": "stream",
     "text": [
      "Saved 정보통신기반 보호법 to 법령별 directory\n"
     ]
    },
    {
     "name": "stderr",
     "output_type": "stream",
     "text": [
      " 74%|███████▍  | 1227/1654 [24:59<10:30,  1.48s/it]"
     ]
    },
    {
     "name": "stdout",
     "output_type": "stream",
     "text": [
      "Saved 정보통신망 이용촉진 및 정보보호 등에 관한 법률 to 법령별 directory\n"
     ]
    },
    {
     "name": "stderr",
     "output_type": "stream",
     "text": [
      " 74%|███████▍  | 1228/1654 [25:00<10:08,  1.43s/it]"
     ]
    },
    {
     "name": "stdout",
     "output_type": "stream",
     "text": [
      "Saved 정보통신산업 진흥법 to 법령별 directory\n"
     ]
    },
    {
     "name": "stderr",
     "output_type": "stream",
     "text": [
      " 74%|███████▍  | 1229/1654 [25:01<09:26,  1.33s/it]"
     ]
    },
    {
     "name": "stdout",
     "output_type": "stream",
     "text": [
      "Saved 정보통신 진흥 및 융합 활성화 등에 관한 특별법 to 법령별 directory\n"
     ]
    },
    {
     "name": "stderr",
     "output_type": "stream",
     "text": [
      " 74%|███████▍  | 1230/1654 [25:03<09:44,  1.38s/it]"
     ]
    },
    {
     "name": "stdout",
     "output_type": "stream",
     "text": [
      "Saved 정부기관 및 공공법인 등의 광고시행에 관한 법률 to 법령별 directory\n"
     ]
    },
    {
     "name": "stderr",
     "output_type": "stream",
     "text": [
      " 74%|███████▍  | 1231/1654 [25:03<08:31,  1.21s/it]"
     ]
    },
    {
     "name": "stdout",
     "output_type": "stream",
     "text": [
      "No data found for 정부기업예산법\n"
     ]
    },
    {
     "name": "stderr",
     "output_type": "stream",
     "text": [
      " 74%|███████▍  | 1232/1654 [25:04<07:54,  1.13s/it]"
     ]
    },
    {
     "name": "stdout",
     "output_type": "stream",
     "text": [
      "No data found for 정부대표 및 특별사절의 임명과 권한에 관한 법률\n"
     ]
    },
    {
     "name": "stderr",
     "output_type": "stream",
     "text": [
      " 75%|███████▍  | 1233/1654 [25:06<08:13,  1.17s/it]"
     ]
    },
    {
     "name": "stdout",
     "output_type": "stream",
     "text": [
      "No data found for 정부법무공단법\n"
     ]
    },
    {
     "name": "stderr",
     "output_type": "stream",
     "text": [
      " 75%|███████▍  | 1234/1654 [25:06<07:17,  1.04s/it]"
     ]
    },
    {
     "name": "stdout",
     "output_type": "stream",
     "text": [
      "No data found for 정부보관금에 관한 법률\n"
     ]
    },
    {
     "name": "stderr",
     "output_type": "stream",
     "text": [
      " 75%|███████▍  | 1235/1654 [25:07<07:25,  1.06s/it]"
     ]
    },
    {
     "name": "stdout",
     "output_type": "stream",
     "text": [
      "Saved 정부업무평가 기본법 to 법령별 directory\n"
     ]
    },
    {
     "name": "stderr",
     "output_type": "stream",
     "text": [
      " 75%|███████▍  | 1236/1654 [25:09<08:32,  1.23s/it]"
     ]
    },
    {
     "name": "stdout",
     "output_type": "stream",
     "text": [
      "No data found for 정부조직법\n"
     ]
    },
    {
     "name": "stderr",
     "output_type": "stream",
     "text": [
      " 75%|███████▍  | 1237/1654 [25:10<08:26,  1.21s/it]"
     ]
    },
    {
     "name": "stdout",
     "output_type": "stream",
     "text": [
      "Saved 정부출연연구기관 등의 설립ㆍ운영 및 육성에 관한 법률 to 법령별 directory\n"
     ]
    },
    {
     "name": "stderr",
     "output_type": "stream",
     "text": [
      " 75%|███████▍  | 1238/1654 [25:12<09:19,  1.35s/it]"
     ]
    },
    {
     "name": "stdout",
     "output_type": "stream",
     "text": [
      "Saved 정신건강증진 및 정신질환자 복지서비스 지원에 관한 법률 to 법령별 directory\n"
     ]
    },
    {
     "name": "stderr",
     "output_type": "stream",
     "text": [
      " 75%|███████▍  | 1239/1654 [25:13<09:21,  1.35s/it]"
     ]
    },
    {
     "name": "stdout",
     "output_type": "stream",
     "text": [
      "Saved 정치자금법 to 법령별 directory\n"
     ]
    },
    {
     "name": "stderr",
     "output_type": "stream",
     "text": [
      " 75%|███████▍  | 1240/1654 [25:14<08:39,  1.26s/it]"
     ]
    },
    {
     "name": "stdout",
     "output_type": "stream",
     "text": [
      "Saved 제2연평해전 전사자 보상에 관한 특별법 to 법령별 directory\n"
     ]
    },
    {
     "name": "stderr",
     "output_type": "stream",
     "text": [
      " 75%|███████▌  | 1241/1654 [25:16<09:04,  1.32s/it]"
     ]
    },
    {
     "name": "stdout",
     "output_type": "stream",
     "text": [
      "Saved 제대군인지원에 관한 법률 to 법령별 directory\n"
     ]
    },
    {
     "name": "stderr",
     "output_type": "stream",
     "text": [
      " 75%|███████▌  | 1242/1654 [25:17<09:03,  1.32s/it]"
     ]
    },
    {
     "name": "stdout",
     "output_type": "stream",
     "text": [
      "Saved 제대혈 관리 및 연구에 관한 법률 to 법령별 directory\n"
     ]
    },
    {
     "name": "stderr",
     "output_type": "stream",
     "text": [
      " 75%|███████▌  | 1243/1654 [25:18<08:24,  1.23s/it]"
     ]
    },
    {
     "name": "stdout",
     "output_type": "stream",
     "text": [
      "Saved 제약산업 육성 및 지원에 관한 특별법 to 법령별 directory\n"
     ]
    },
    {
     "name": "stderr",
     "output_type": "stream",
     "text": [
      " 75%|███████▌  | 1244/1654 [25:19<07:37,  1.12s/it]"
     ]
    },
    {
     "name": "stdout",
     "output_type": "stream",
     "text": [
      "Saved 제조물 책임법 to 법령별 directory\n"
     ]
    },
    {
     "name": "stderr",
     "output_type": "stream",
     "text": [
      " 75%|███████▌  | 1245/1654 [25:20<07:21,  1.08s/it]"
     ]
    },
    {
     "name": "stdout",
     "output_type": "stream",
     "text": [
      "Saved 제주4ㆍ3사건 진상규명 및 희생자 명예회복에 관한 특별법 to 법령별 directory\n"
     ]
    },
    {
     "name": "stderr",
     "output_type": "stream",
     "text": [
      " 75%|███████▌  | 1246/1654 [25:24<13:05,  1.93s/it]"
     ]
    },
    {
     "name": "stdout",
     "output_type": "stream",
     "text": [
      "Saved 제주특별자치도 설치 및 국제자유도시 조성을 위한 특별법 to 법령별 directory\n"
     ]
    },
    {
     "name": "stderr",
     "output_type": "stream",
     "text": [
      " 75%|███████▌  | 1247/1654 [25:26<13:19,  1.96s/it]"
     ]
    },
    {
     "name": "stdout",
     "output_type": "stream",
     "text": [
      "Saved 제품안전기본법 to 법령별 directory\n"
     ]
    },
    {
     "name": "stderr",
     "output_type": "stream",
     "text": [
      " 75%|███████▌  | 1248/1654 [25:27<11:33,  1.71s/it]"
     ]
    },
    {
     "name": "stdout",
     "output_type": "stream",
     "text": [
      "Saved 조경진흥법 to 법령별 directory\n"
     ]
    },
    {
     "name": "stderr",
     "output_type": "stream",
     "text": [
      " 76%|███████▌  | 1249/1654 [25:28<10:07,  1.50s/it]"
     ]
    },
    {
     "name": "stdout",
     "output_type": "stream",
     "text": [
      "Saved 조달사업에 관한 법률 to 법령별 directory\n"
     ]
    },
    {
     "name": "stderr",
     "output_type": "stream",
     "text": [
      " 76%|███████▌  | 1250/1654 [25:29<08:56,  1.33s/it]"
     ]
    },
    {
     "name": "stdout",
     "output_type": "stream",
     "text": [
      "Saved 조세범 처벌법 to 법령별 directory\n"
     ]
    },
    {
     "name": "stderr",
     "output_type": "stream",
     "text": [
      " 76%|███████▌  | 1251/1654 [25:30<08:05,  1.20s/it]"
     ]
    },
    {
     "name": "stdout",
     "output_type": "stream",
     "text": [
      "Saved 조세범 처벌절차법 to 법령별 directory\n"
     ]
    },
    {
     "name": "stderr",
     "output_type": "stream",
     "text": [
      " 76%|███████▌  | 1252/1654 [25:35<15:50,  2.36s/it]"
     ]
    },
    {
     "name": "stdout",
     "output_type": "stream",
     "text": [
      "Saved 조세특례제한법 to 법령별 directory\n"
     ]
    },
    {
     "name": "stderr",
     "output_type": "stream",
     "text": [
      " 76%|███████▌  | 1253/1654 [25:36<13:45,  2.06s/it]"
     ]
    },
    {
     "name": "stdout",
     "output_type": "stream",
     "text": [
      "Saved 종자산업법 to 법령별 directory\n"
     ]
    },
    {
     "name": "stderr",
     "output_type": "stream",
     "text": [
      " 76%|███████▌  | 1254/1654 [25:38<12:12,  1.83s/it]"
     ]
    },
    {
     "name": "stdout",
     "output_type": "stream",
     "text": [
      "Saved 종합부동산세법 to 법령별 directory\n"
     ]
    },
    {
     "name": "stderr",
     "output_type": "stream",
     "text": [
      " 76%|███████▌  | 1255/1654 [25:38<10:16,  1.54s/it]"
     ]
    },
    {
     "name": "stdout",
     "output_type": "stream",
     "text": [
      "Saved 주거급여법 to 법령별 directory\n"
     ]
    },
    {
     "name": "stderr",
     "output_type": "stream",
     "text": [
      " 76%|███████▌  | 1256/1654 [25:40<09:26,  1.42s/it]"
     ]
    },
    {
     "name": "stdout",
     "output_type": "stream",
     "text": [
      "No data found for 주거기본법\n"
     ]
    },
    {
     "name": "stderr",
     "output_type": "stream",
     "text": [
      " 76%|███████▌  | 1257/1654 [25:41<08:51,  1.34s/it]"
     ]
    },
    {
     "name": "stdout",
     "output_type": "stream",
     "text": [
      "Saved 주류 면허 등에 관한 법률 to 법령별 directory\n"
     ]
    },
    {
     "name": "stderr",
     "output_type": "stream",
     "text": [
      " 76%|███████▌  | 1258/1654 [25:42<08:50,  1.34s/it]"
     ]
    },
    {
     "name": "stdout",
     "output_type": "stream",
     "text": [
      "No data found for 주민등록법\n"
     ]
    },
    {
     "name": "stderr",
     "output_type": "stream",
     "text": [
      " 76%|███████▌  | 1259/1654 [25:43<08:10,  1.24s/it]"
     ]
    },
    {
     "name": "stdout",
     "output_type": "stream",
     "text": [
      "No data found for 주민소환에 관한 법률\n"
     ]
    },
    {
     "name": "stderr",
     "output_type": "stream",
     "text": [
      " 76%|███████▌  | 1260/1654 [25:44<07:28,  1.14s/it]"
     ]
    },
    {
     "name": "stdout",
     "output_type": "stream",
     "text": [
      "No data found for 주민조례발안에 관한 법률\n"
     ]
    },
    {
     "name": "stderr",
     "output_type": "stream",
     "text": [
      " 76%|███████▌  | 1261/1654 [25:45<07:28,  1.14s/it]"
     ]
    },
    {
     "name": "stdout",
     "output_type": "stream",
     "text": [
      "No data found for 주민투표법\n"
     ]
    },
    {
     "name": "stderr",
     "output_type": "stream",
     "text": [
      " 76%|███████▋  | 1262/1654 [25:47<08:13,  1.26s/it]"
     ]
    },
    {
     "name": "stdout",
     "output_type": "stream",
     "text": [
      "Saved 주세법 to 법령별 directory\n"
     ]
    },
    {
     "name": "stderr",
     "output_type": "stream",
     "text": [
      " 76%|███████▋  | 1263/1654 [25:48<08:24,  1.29s/it]"
     ]
    },
    {
     "name": "stdout",
     "output_type": "stream",
     "text": [
      "Saved 주식ㆍ사채 등의 전자등록에 관한 법률 to 법령별 directory\n"
     ]
    },
    {
     "name": "stderr",
     "output_type": "stream",
     "text": [
      " 76%|███████▋  | 1264/1654 [25:49<08:15,  1.27s/it]"
     ]
    },
    {
     "name": "stdout",
     "output_type": "stream",
     "text": [
      "Saved 주식회사 등의 외부감사에 관한 법률 to 법령별 directory\n"
     ]
    },
    {
     "name": "stderr",
     "output_type": "stream",
     "text": [
      " 76%|███████▋  | 1265/1654 [25:51<08:58,  1.38s/it]"
     ]
    },
    {
     "name": "stdout",
     "output_type": "stream",
     "text": [
      "Saved 주차장법 to 법령별 directory\n"
     ]
    },
    {
     "name": "stderr",
     "output_type": "stream",
     "text": [
      " 77%|███████▋  | 1266/1654 [25:52<07:59,  1.24s/it]"
     ]
    },
    {
     "name": "stdout",
     "output_type": "stream",
     "text": [
      "No data found for 주타이베이 대한민국 대표부와 주한국 타이베이 대표부 간의 소득에 관한 조세의 이중과세 방지와 탈세 예방을 위한 약정의 이행에 관한 법률\n"
     ]
    },
    {
     "name": "stderr",
     "output_type": "stream",
     "text": [
      " 77%|███████▋  | 1267/1654 [25:53<07:45,  1.20s/it]"
     ]
    },
    {
     "name": "stdout",
     "output_type": "stream",
     "text": [
      "Saved 주택도시기금법 to 법령별 directory\n"
     ]
    },
    {
     "name": "stderr",
     "output_type": "stream",
     "text": [
      " 77%|███████▋  | 1268/1654 [25:55<08:55,  1.39s/it]"
     ]
    },
    {
     "name": "stdout",
     "output_type": "stream",
     "text": [
      "Saved 주택법 to 법령별 directory\n"
     ]
    },
    {
     "name": "stderr",
     "output_type": "stream",
     "text": [
      " 77%|███████▋  | 1269/1654 [25:56<08:47,  1.37s/it]"
     ]
    },
    {
     "name": "stdout",
     "output_type": "stream",
     "text": [
      "No data found for 주택임대차보호법\n"
     ]
    },
    {
     "name": "stderr",
     "output_type": "stream",
     "text": [
      " 77%|███████▋  | 1270/1654 [25:57<08:38,  1.35s/it]"
     ]
    },
    {
     "name": "stdout",
     "output_type": "stream",
     "text": [
      "Saved 주한미군 공여구역주변지역 등 지원 특별법 to 법령별 directory\n"
     ]
    },
    {
     "name": "stderr",
     "output_type": "stream",
     "text": [
      " 77%|███████▋  | 1271/1654 [25:59<08:43,  1.37s/it]"
     ]
    },
    {
     "name": "stdout",
     "output_type": "stream",
     "text": [
      "Saved 주한미군기지 이전에 따른 평택시 등의 지원 등에 관한 특별법 to 법령별 directory\n"
     ]
    },
    {
     "name": "stderr",
     "output_type": "stream",
     "text": [
      " 77%|███████▋  | 1272/1654 [26:00<07:45,  1.22s/it]"
     ]
    },
    {
     "name": "stdout",
     "output_type": "stream",
     "text": [
      "Saved 주한미군 소속 한국인 근로자의 지원을 위한 특별법 to 법령별 directory\n"
     ]
    },
    {
     "name": "stderr",
     "output_type": "stream",
     "text": [
      " 77%|███████▋  | 1273/1654 [26:01<07:36,  1.20s/it]"
     ]
    },
    {
     "name": "stdout",
     "output_type": "stream",
     "text": [
      "Saved 중견기업 성장촉진 및 경쟁력 강화에 관한 특별법 to 법령별 directory\n"
     ]
    },
    {
     "name": "stderr",
     "output_type": "stream",
     "text": [
      " 77%|███████▋  | 1274/1654 [26:02<07:25,  1.17s/it]"
     ]
    },
    {
     "name": "stdout",
     "output_type": "stream",
     "text": [
      "Saved 중대재해 처벌 등에 관한 법률 to 법령별 directory\n"
     ]
    },
    {
     "name": "stderr",
     "output_type": "stream",
     "text": [
      " 77%|███████▋  | 1275/1654 [26:03<07:31,  1.19s/it]"
     ]
    },
    {
     "name": "stdout",
     "output_type": "stream",
     "text": [
      "Saved 중부내륙연계발전지역 지원에 관한 특별법 to 법령별 directory\n"
     ]
    },
    {
     "name": "stderr",
     "output_type": "stream",
     "text": [
      " 77%|███████▋  | 1276/1654 [26:04<07:34,  1.20s/it]"
     ]
    },
    {
     "name": "stdout",
     "output_type": "stream",
     "text": [
      "No data found for 중소기업기본법\n"
     ]
    },
    {
     "name": "stderr",
     "output_type": "stream",
     "text": [
      " 77%|███████▋  | 1277/1654 [26:06<08:14,  1.31s/it]"
     ]
    },
    {
     "name": "stdout",
     "output_type": "stream",
     "text": [
      "Saved 중소기업기술 보호 지원에 관한 법률 to 법령별 directory\n"
     ]
    },
    {
     "name": "stderr",
     "output_type": "stream",
     "text": [
      " 77%|███████▋  | 1278/1654 [26:08<09:02,  1.44s/it]"
     ]
    },
    {
     "name": "stdout",
     "output_type": "stream",
     "text": [
      "Saved 중소기업 기술혁신 촉진법 to 법령별 directory\n"
     ]
    },
    {
     "name": "stderr",
     "output_type": "stream",
     "text": [
      " 77%|███████▋  | 1279/1654 [26:09<08:22,  1.34s/it]"
     ]
    },
    {
     "name": "stdout",
     "output_type": "stream",
     "text": [
      "Saved 중소기업 사업전환 촉진에 관한 특별법 to 법령별 directory\n"
     ]
    },
    {
     "name": "stderr",
     "output_type": "stream",
     "text": [
      " 77%|███████▋  | 1280/1654 [26:10<07:53,  1.27s/it]"
     ]
    },
    {
     "name": "stdout",
     "output_type": "stream",
     "text": [
      "Saved 중소기업 스마트제조혁신 촉진에 관한 법률 to 법령별 directory\n"
     ]
    },
    {
     "name": "stderr",
     "output_type": "stream",
     "text": [
      " 77%|███████▋  | 1281/1654 [26:11<08:13,  1.32s/it]"
     ]
    },
    {
     "name": "stdout",
     "output_type": "stream",
     "text": [
      "Saved 중소기업은행법 to 법령별 directory\n"
     ]
    },
    {
     "name": "stderr",
     "output_type": "stream",
     "text": [
      " 78%|███████▊  | 1282/1654 [26:13<08:03,  1.30s/it]"
     ]
    },
    {
     "name": "stdout",
     "output_type": "stream",
     "text": [
      "Saved 중소기업 인력지원 특별법 to 법령별 directory\n"
     ]
    },
    {
     "name": "stderr",
     "output_type": "stream",
     "text": [
      " 78%|███████▊  | 1283/1654 [26:14<07:51,  1.27s/it]"
     ]
    },
    {
     "name": "stdout",
     "output_type": "stream",
     "text": [
      "Saved 중소기업제품 구매촉진 및 판로지원에 관한 법률 to 법령별 directory\n"
     ]
    },
    {
     "name": "stderr",
     "output_type": "stream",
     "text": [
      " 78%|███████▊  | 1284/1654 [26:16<08:59,  1.46s/it]"
     ]
    },
    {
     "name": "stdout",
     "output_type": "stream",
     "text": [
      "Saved 중소기업진흥에 관한 법률 to 법령별 directory\n"
     ]
    },
    {
     "name": "stderr",
     "output_type": "stream",
     "text": [
      " 78%|███████▊  | 1285/1654 [26:17<08:31,  1.39s/it]"
     ]
    },
    {
     "name": "stdout",
     "output_type": "stream",
     "text": [
      "Saved 중소기업창업 지원법 to 법령별 directory\n"
     ]
    },
    {
     "name": "stderr",
     "output_type": "stream",
     "text": [
      " 78%|███████▊  | 1286/1654 [26:19<09:10,  1.50s/it]"
     ]
    },
    {
     "name": "stdout",
     "output_type": "stream",
     "text": [
      "Saved 중소기업협동조합법 to 법령별 directory\n"
     ]
    },
    {
     "name": "stderr",
     "output_type": "stream",
     "text": [
      " 78%|███████▊  | 1287/1654 [26:20<08:09,  1.33s/it]"
     ]
    },
    {
     "name": "stdout",
     "output_type": "stream",
     "text": [
      "No data found for 중앙지방협력회의의 구성 및 운영에 관한 법률\n"
     ]
    },
    {
     "name": "stderr",
     "output_type": "stream",
     "text": [
      " 78%|███████▊  | 1288/1654 [26:21<07:32,  1.23s/it]"
     ]
    },
    {
     "name": "stdout",
     "output_type": "stream",
     "text": [
      "Saved 중재법 to 법령별 directory\n"
     ]
    },
    {
     "name": "stderr",
     "output_type": "stream",
     "text": [
      " 78%|███████▊  | 1289/1654 [26:22<06:49,  1.12s/it]"
     ]
    },
    {
     "name": "stdout",
     "output_type": "stream",
     "text": [
      "No data found for 중재산업 진흥에 관한 법률\n"
     ]
    },
    {
     "name": "stderr",
     "output_type": "stream",
     "text": [
      " 78%|███████▊  | 1290/1654 [26:23<06:37,  1.09s/it]"
     ]
    },
    {
     "name": "stdout",
     "output_type": "stream",
     "text": [
      "Saved 중ㆍ저준위 방사성폐기물 처분시설의 유치지역지원에 관한 특별법 to 법령별 directory\n"
     ]
    },
    {
     "name": "stderr",
     "output_type": "stream",
     "text": [
      " 78%|███████▊  | 1291/1654 [26:24<06:28,  1.07s/it]"
     ]
    },
    {
     "name": "stdout",
     "output_type": "stream",
     "text": [
      "Saved 중증장애인생산품 우선구매 특별법 to 법령별 directory\n"
     ]
    },
    {
     "name": "stderr",
     "output_type": "stream",
     "text": [
      " 78%|███████▊  | 1292/1654 [26:24<06:13,  1.03s/it]"
     ]
    },
    {
     "name": "stdout",
     "output_type": "stream",
     "text": [
      "No data found for 즉결심판에 관한 절차법\n"
     ]
    },
    {
     "name": "stderr",
     "output_type": "stream",
     "text": [
      " 78%|███████▊  | 1293/1654 [26:25<06:06,  1.02s/it]"
     ]
    },
    {
     "name": "stdout",
     "output_type": "stream",
     "text": [
      "Saved 증권거래세법 to 법령별 directory\n"
     ]
    },
    {
     "name": "stderr",
     "output_type": "stream",
     "text": [
      " 78%|███████▊  | 1294/1654 [26:27<06:10,  1.03s/it]"
     ]
    },
    {
     "name": "stdout",
     "output_type": "stream",
     "text": [
      "Saved 증권관련 집단소송법 to 법령별 directory\n"
     ]
    },
    {
     "name": "stderr",
     "output_type": "stream",
     "text": [
      " 78%|███████▊  | 1295/1654 [26:28<06:39,  1.11s/it]"
     ]
    },
    {
     "name": "stdout",
     "output_type": "stream",
     "text": [
      "No data found for 증권에 의한 세입납부에 관한 법률\n"
     ]
    },
    {
     "name": "stderr",
     "output_type": "stream",
     "text": [
      " 78%|███████▊  | 1296/1654 [26:29<06:49,  1.15s/it]"
     ]
    },
    {
     "name": "stdout",
     "output_type": "stream",
     "text": [
      "Saved 지능정보화 기본법 to 법령별 directory\n"
     ]
    },
    {
     "name": "stderr",
     "output_type": "stream",
     "text": [
      " 78%|███████▊  | 1297/1654 [26:30<06:45,  1.14s/it]"
     ]
    },
    {
     "name": "stdout",
     "output_type": "stream",
     "text": [
      "Saved 지능형 로봇 개발 및 보급 촉진법 to 법령별 directory\n"
     ]
    },
    {
     "name": "stderr",
     "output_type": "stream",
     "text": [
      " 78%|███████▊  | 1298/1654 [26:31<06:37,  1.12s/it]"
     ]
    },
    {
     "name": "stdout",
     "output_type": "stream",
     "text": [
      "Saved 지능형전력망의 구축 및 이용촉진에 관한 법률 to 법령별 directory\n"
     ]
    },
    {
     "name": "stderr",
     "output_type": "stream",
     "text": [
      " 79%|███████▊  | 1299/1654 [26:32<06:33,  1.11s/it]"
     ]
    },
    {
     "name": "stdout",
     "output_type": "stream",
     "text": [
      "Saved 지능형 해상교통정보서비스의 제공 및 이용 활성화에 관한 법률 to 법령별 directory\n"
     ]
    },
    {
     "name": "stderr",
     "output_type": "stream",
     "text": [
      " 79%|███████▊  | 1300/1654 [26:33<06:05,  1.03s/it]"
     ]
    },
    {
     "name": "stdout",
     "output_type": "stream",
     "text": [
      "Saved 지뢰 등 특정 재래식무기 사용 및 이전의 규제에 관한 법률 to 법령별 directory\n"
     ]
    },
    {
     "name": "stderr",
     "output_type": "stream",
     "text": [
      " 79%|███████▊  | 1301/1654 [26:34<05:46,  1.02it/s]"
     ]
    },
    {
     "name": "stdout",
     "output_type": "stream",
     "text": [
      "Saved 지뢰피해자 지원에 관한 특별법 to 법령별 directory\n"
     ]
    },
    {
     "name": "stderr",
     "output_type": "stream",
     "text": [
      " 79%|███████▊  | 1302/1654 [26:36<06:43,  1.15s/it]"
     ]
    },
    {
     "name": "stdout",
     "output_type": "stream",
     "text": [
      "No data found for 지방공기업법\n"
     ]
    },
    {
     "name": "stderr",
     "output_type": "stream",
     "text": [
      " 79%|███████▉  | 1303/1654 [26:37<06:23,  1.09s/it]"
     ]
    },
    {
     "name": "stdout",
     "output_type": "stream",
     "text": [
      "No data found for 지방공무원 교육훈련법\n"
     ]
    },
    {
     "name": "stderr",
     "output_type": "stream",
     "text": [
      " 79%|███████▉  | 1304/1654 [26:38<07:37,  1.31s/it]"
     ]
    },
    {
     "name": "stdout",
     "output_type": "stream",
     "text": [
      "Saved 지방공무원법 to 법령별 directory\n"
     ]
    },
    {
     "name": "stderr",
     "output_type": "stream",
     "text": [
      " 79%|███████▉  | 1305/1654 [26:39<07:07,  1.23s/it]"
     ]
    },
    {
     "name": "stdout",
     "output_type": "stream",
     "text": [
      "Saved 지방교부세법 to 법령별 directory\n"
     ]
    },
    {
     "name": "stderr",
     "output_type": "stream",
     "text": [
      " 79%|███████▉  | 1306/1654 [26:41<07:22,  1.27s/it]"
     ]
    },
    {
     "name": "stdout",
     "output_type": "stream",
     "text": [
      "No data found for 지방교육자치에 관한 법률\n"
     ]
    },
    {
     "name": "stderr",
     "output_type": "stream",
     "text": [
      " 79%|███████▉  | 1307/1654 [26:42<06:55,  1.20s/it]"
     ]
    },
    {
     "name": "stdout",
     "output_type": "stream",
     "text": [
      "Saved 지방교육재정교부금법 to 법령별 directory\n"
     ]
    },
    {
     "name": "stderr",
     "output_type": "stream",
     "text": [
      " 79%|███████▉  | 1308/1654 [26:43<06:35,  1.14s/it]"
     ]
    },
    {
     "name": "stdout",
     "output_type": "stream",
     "text": [
      "Saved 지방대학 및 지역균형인재 육성에 관한 법률 to 법령별 directory\n"
     ]
    },
    {
     "name": "stderr",
     "output_type": "stream",
     "text": [
      " 79%|███████▉  | 1309/1654 [26:44<06:10,  1.08s/it]"
     ]
    },
    {
     "name": "stdout",
     "output_type": "stream",
     "text": [
      "Saved 지방문화원진흥법 to 법령별 directory\n"
     ]
    },
    {
     "name": "stderr",
     "output_type": "stream",
     "text": [
      " 79%|███████▉  | 1310/1654 [26:46<07:27,  1.30s/it]"
     ]
    },
    {
     "name": "stdout",
     "output_type": "stream",
     "text": [
      "Saved 지방세기본법 to 법령별 directory\n"
     ]
    },
    {
     "name": "stderr",
     "output_type": "stream",
     "text": [
      " 79%|███████▉  | 1311/1654 [26:48<09:39,  1.69s/it]"
     ]
    },
    {
     "name": "stdout",
     "output_type": "stream",
     "text": [
      "Saved 지방세법 to 법령별 directory\n"
     ]
    },
    {
     "name": "stderr",
     "output_type": "stream",
     "text": [
      " 79%|███████▉  | 1312/1654 [26:50<09:26,  1.66s/it]"
     ]
    },
    {
     "name": "stdout",
     "output_type": "stream",
     "text": [
      "Saved 지방세징수법 to 법령별 directory\n"
     ]
    },
    {
     "name": "stderr",
     "output_type": "stream",
     "text": [
      " 79%|███████▉  | 1313/1654 [26:53<12:23,  2.18s/it]"
     ]
    },
    {
     "name": "stdout",
     "output_type": "stream",
     "text": [
      "Saved 지방세특례제한법 to 법령별 directory\n"
     ]
    },
    {
     "name": "stderr",
     "output_type": "stream",
     "text": [
      " 79%|███████▉  | 1314/1654 [26:54<10:41,  1.89s/it]"
     ]
    },
    {
     "name": "stdout",
     "output_type": "stream",
     "text": [
      "No data found for 지방소도읍 육성 지원법\n"
     ]
    },
    {
     "name": "stderr",
     "output_type": "stream",
     "text": [
      " 80%|███████▉  | 1315/1654 [26:55<09:09,  1.62s/it]"
     ]
    },
    {
     "name": "stdout",
     "output_type": "stream",
     "text": [
      "Saved 지방의료원의 설립 및 운영에 관한 법률 to 법령별 directory\n"
     ]
    },
    {
     "name": "stderr",
     "output_type": "stream",
     "text": [
      " 80%|███████▉  | 1316/1654 [26:57<08:26,  1.50s/it]"
     ]
    },
    {
     "name": "stdout",
     "output_type": "stream",
     "text": [
      "Saved 지방자치단체 기금관리기본법 to 법령별 directory\n"
     ]
    },
    {
     "name": "stderr",
     "output_type": "stream",
     "text": [
      " 80%|███████▉  | 1317/1654 [26:58<07:57,  1.42s/it]"
     ]
    },
    {
     "name": "stdout",
     "output_type": "stream",
     "text": [
      "No data found for 지방자치단체를 당사자로 하는 계약에 관한 법률\n"
     ]
    },
    {
     "name": "stderr",
     "output_type": "stream",
     "text": [
      " 80%|███████▉  | 1318/1654 [26:59<07:37,  1.36s/it]"
     ]
    },
    {
     "name": "stdout",
     "output_type": "stream",
     "text": [
      "Saved 지방자치단체 보조금 관리에 관한 법률 to 법령별 directory\n"
     ]
    },
    {
     "name": "stderr",
     "output_type": "stream",
     "text": [
      " 80%|███████▉  | 1319/1654 [27:00<06:58,  1.25s/it]"
     ]
    },
    {
     "name": "stdout",
     "output_type": "stream",
     "text": [
      "No data found for 지방자치단체에 두는 국가공무원의 정원에 관한 법률\n"
     ]
    },
    {
     "name": "stderr",
     "output_type": "stream",
     "text": [
      " 80%|███████▉  | 1320/1654 [27:01<06:29,  1.17s/it]"
     ]
    },
    {
     "name": "stdout",
     "output_type": "stream",
     "text": [
      "Saved 지방자치단체출연 연구원의 설립 및 운영에 관한 법률 to 법령별 directory\n"
     ]
    },
    {
     "name": "stderr",
     "output_type": "stream",
     "text": [
      " 80%|███████▉  | 1321/1654 [27:02<06:14,  1.12s/it]"
     ]
    },
    {
     "name": "stdout",
     "output_type": "stream",
     "text": [
      "No data found for 지방자치단체 출자ㆍ출연 기관의 운영에 관한 법률\n"
     ]
    },
    {
     "name": "stderr",
     "output_type": "stream",
     "text": [
      " 80%|███████▉  | 1322/1654 [27:04<08:14,  1.49s/it]"
     ]
    },
    {
     "name": "stdout",
     "output_type": "stream",
     "text": [
      "No data found for 지방자치법\n"
     ]
    },
    {
     "name": "stderr",
     "output_type": "stream",
     "text": [
      " 80%|███████▉  | 1323/1654 [27:06<08:25,  1.53s/it]"
     ]
    },
    {
     "name": "stdout",
     "output_type": "stream",
     "text": [
      "Saved 지방자치분권 및 지역균형발전에 관한 특별법 to 법령별 directory\n"
     ]
    },
    {
     "name": "stderr",
     "output_type": "stream",
     "text": [
      " 80%|████████  | 1324/1654 [27:08<08:50,  1.61s/it]"
     ]
    },
    {
     "name": "stdout",
     "output_type": "stream",
     "text": [
      "Saved 지방재정법 to 법령별 directory\n"
     ]
    },
    {
     "name": "stderr",
     "output_type": "stream",
     "text": [
      " 80%|████████  | 1325/1654 [27:09<07:54,  1.44s/it]"
     ]
    },
    {
     "name": "stdout",
     "output_type": "stream",
     "text": [
      "No data found for 지방행정동우회법\n"
     ]
    },
    {
     "name": "stderr",
     "output_type": "stream",
     "text": [
      " 80%|████████  | 1326/1654 [27:10<07:26,  1.36s/it]"
     ]
    },
    {
     "name": "stdout",
     "output_type": "stream",
     "text": [
      "Saved 지방행정제재ㆍ부과금의 징수 등에 관한 법률 to 법령별 directory\n"
     ]
    },
    {
     "name": "stderr",
     "output_type": "stream",
     "text": [
      " 80%|████████  | 1327/1654 [27:11<06:59,  1.28s/it]"
     ]
    },
    {
     "name": "stdout",
     "output_type": "stream",
     "text": [
      "Saved 지방회계법 to 법령별 directory\n"
     ]
    },
    {
     "name": "stderr",
     "output_type": "stream",
     "text": [
      " 80%|████████  | 1328/1654 [27:12<07:04,  1.30s/it]"
     ]
    },
    {
     "name": "stdout",
     "output_type": "stream",
     "text": [
      "Saved 지속가능 교통물류 발전법 to 법령별 directory\n"
     ]
    },
    {
     "name": "stderr",
     "output_type": "stream",
     "text": [
      " 80%|████████  | 1329/1654 [27:14<07:14,  1.34s/it]"
     ]
    },
    {
     "name": "stdout",
     "output_type": "stream",
     "text": [
      "Saved 지속가능발전 기본법 to 법령별 directory\n"
     ]
    },
    {
     "name": "stderr",
     "output_type": "stream",
     "text": [
      " 80%|████████  | 1330/1654 [27:15<06:52,  1.27s/it]"
     ]
    },
    {
     "name": "stdout",
     "output_type": "stream",
     "text": [
      "Saved 지속가능한 기반시설 관리 기본법 to 법령별 directory\n"
     ]
    },
    {
     "name": "stderr",
     "output_type": "stream",
     "text": [
      " 80%|████████  | 1331/1654 [27:16<07:00,  1.30s/it]"
     ]
    },
    {
     "name": "stdout",
     "output_type": "stream",
     "text": [
      "Saved 지식재산 기본법 to 법령별 directory\n"
     ]
    },
    {
     "name": "stderr",
     "output_type": "stream",
     "text": [
      " 81%|████████  | 1332/1654 [27:18<07:21,  1.37s/it]"
     ]
    },
    {
     "name": "stdout",
     "output_type": "stream",
     "text": [
      "Saved 지역 개발 및 지원에 관한 법률 to 법령별 directory\n"
     ]
    },
    {
     "name": "stderr",
     "output_type": "stream",
     "text": [
      " 81%|████████  | 1333/1654 [27:19<06:31,  1.22s/it]"
     ]
    },
    {
     "name": "stdout",
     "output_type": "stream",
     "text": [
      "Saved 지역농림어업 발전사업 협력 촉진에 관한 법률 to 법령별 directory\n"
     ]
    },
    {
     "name": "stderr",
     "output_type": "stream",
     "text": [
      " 81%|████████  | 1334/1654 [27:20<06:24,  1.20s/it]"
     ]
    },
    {
     "name": "stdout",
     "output_type": "stream",
     "text": [
      "Saved 지역농산물 이용촉진 등 농산물 직거래 활성화에 관한 법률 to 법령별 directory\n"
     ]
    },
    {
     "name": "stderr",
     "output_type": "stream",
     "text": [
      " 81%|████████  | 1335/1654 [27:21<05:54,  1.11s/it]"
     ]
    },
    {
     "name": "stdout",
     "output_type": "stream",
     "text": [
      "Saved 지역문화진흥법 to 법령별 directory\n"
     ]
    },
    {
     "name": "stderr",
     "output_type": "stream",
     "text": [
      " 81%|████████  | 1336/1654 [27:22<05:44,  1.08s/it]"
     ]
    },
    {
     "name": "stdout",
     "output_type": "stream",
     "text": [
      "Saved 지역방송발전지원 특별법 to 법령별 directory\n"
     ]
    },
    {
     "name": "stderr",
     "output_type": "stream",
     "text": [
      " 81%|████████  | 1337/1654 [27:23<05:41,  1.08s/it]"
     ]
    },
    {
     "name": "stdout",
     "output_type": "stream",
     "text": [
      "Saved 지역보건법 to 법령별 directory\n"
     ]
    },
    {
     "name": "stderr",
     "output_type": "stream",
     "text": [
      " 81%|████████  | 1338/1654 [27:24<05:18,  1.01s/it]"
     ]
    },
    {
     "name": "stdout",
     "output_type": "stream",
     "text": [
      "Saved 지역사랑상품권 이용 활성화에 관한 법률 to 법령별 directory\n"
     ]
    },
    {
     "name": "stderr",
     "output_type": "stream",
     "text": [
      " 81%|████████  | 1339/1654 [27:25<05:24,  1.03s/it]"
     ]
    },
    {
     "name": "stdout",
     "output_type": "stream",
     "text": [
      "Saved 지역 산업위기 대응 및 지역경제 회복을 위한 특별법 to 법령별 directory\n"
     ]
    },
    {
     "name": "stderr",
     "output_type": "stream",
     "text": [
      " 81%|████████  | 1340/1654 [27:26<05:34,  1.06s/it]"
     ]
    },
    {
     "name": "stdout",
     "output_type": "stream",
     "text": [
      "Saved 지역상권 상생 및 활성화에 관한 법률 to 법령별 directory\n"
     ]
    },
    {
     "name": "stderr",
     "output_type": "stream",
     "text": [
      " 81%|████████  | 1341/1654 [27:27<05:15,  1.01s/it]"
     ]
    },
    {
     "name": "stdout",
     "output_type": "stream",
     "text": [
      "Saved 지역신문발전지원 특별법 to 법령별 directory\n"
     ]
    },
    {
     "name": "stderr",
     "output_type": "stream",
     "text": [
      " 81%|████████  | 1342/1654 [27:28<05:22,  1.03s/it]"
     ]
    },
    {
     "name": "stdout",
     "output_type": "stream",
     "text": [
      "Saved 지역신용보증재단법 to 법령별 directory\n"
     ]
    },
    {
     "name": "stderr",
     "output_type": "stream",
     "text": [
      " 81%|████████  | 1343/1654 [27:29<05:26,  1.05s/it]"
     ]
    },
    {
     "name": "stdout",
     "output_type": "stream",
     "text": [
      "Saved 지역중소기업 육성 및 혁신촉진 등에 관한 법률 to 법령별 directory\n"
     ]
    },
    {
     "name": "stderr",
     "output_type": "stream",
     "text": [
      " 81%|████████▏ | 1344/1654 [27:30<05:12,  1.01s/it]"
     ]
    },
    {
     "name": "stdout",
     "output_type": "stream",
     "text": [
      "Saved 지역특화작목 연구개발 및 육성에 관한 법률 to 법령별 directory\n"
     ]
    },
    {
     "name": "stderr",
     "output_type": "stream",
     "text": [
      " 81%|████████▏ | 1345/1654 [27:31<05:21,  1.04s/it]"
     ]
    },
    {
     "name": "stdout",
     "output_type": "stream",
     "text": [
      "Saved 지적재조사에 관한 특별법 to 법령별 directory\n"
     ]
    },
    {
     "name": "stderr",
     "output_type": "stream",
     "text": [
      " 81%|████████▏ | 1346/1654 [27:32<05:06,  1.00it/s]"
     ]
    },
    {
     "name": "stdout",
     "output_type": "stream",
     "text": [
      "Saved 지진ㆍ지진해일ㆍ화산의 관측 및 경보에 관한 법률 to 법령별 directory\n"
     ]
    },
    {
     "name": "stderr",
     "output_type": "stream",
     "text": [
      " 81%|████████▏ | 1347/1654 [27:34<06:43,  1.31s/it]"
     ]
    },
    {
     "name": "stdout",
     "output_type": "stream",
     "text": [
      "Saved 지진ㆍ화산재해대책법 to 법령별 directory\n"
     ]
    },
    {
     "name": "stderr",
     "output_type": "stream",
     "text": [
      " 81%|████████▏ | 1348/1654 [27:35<06:56,  1.36s/it]"
     ]
    },
    {
     "name": "stdout",
     "output_type": "stream",
     "text": [
      "Saved 지하수법 to 법령별 directory\n"
     ]
    },
    {
     "name": "stderr",
     "output_type": "stream",
     "text": [
      " 82%|████████▏ | 1349/1654 [27:37<06:46,  1.33s/it]"
     ]
    },
    {
     "name": "stdout",
     "output_type": "stream",
     "text": [
      "Saved 지하안전관리에 관한 특별법 to 법령별 directory\n"
     ]
    },
    {
     "name": "stderr",
     "output_type": "stream",
     "text": [
      " 82%|████████▏ | 1350/1654 [27:38<06:02,  1.19s/it]"
     ]
    },
    {
     "name": "stdout",
     "output_type": "stream",
     "text": [
      "No data found for 직능인 경제활동 지원에 관한 법률\n"
     ]
    },
    {
     "name": "stderr",
     "output_type": "stream",
     "text": [
      " 82%|████████▏ | 1351/1654 [27:39<05:57,  1.18s/it]"
     ]
    },
    {
     "name": "stdout",
     "output_type": "stream",
     "text": [
      "Saved 직업교육훈련 촉진법 to 법령별 directory\n"
     ]
    },
    {
     "name": "stderr",
     "output_type": "stream",
     "text": [
      " 82%|████████▏ | 1352/1654 [27:40<06:11,  1.23s/it]"
     ]
    },
    {
     "name": "stdout",
     "output_type": "stream",
     "text": [
      "Saved 직업안정법 to 법령별 directory\n"
     ]
    },
    {
     "name": "stderr",
     "output_type": "stream",
     "text": [
      " 82%|████████▏ | 1353/1654 [27:41<05:49,  1.16s/it]"
     ]
    },
    {
     "name": "stdout",
     "output_type": "stream",
     "text": [
      "Saved 진로교육법 to 법령별 directory\n"
     ]
    },
    {
     "name": "stderr",
     "output_type": "stream",
     "text": [
      " 82%|████████▏ | 1354/1654 [27:42<05:53,  1.18s/it]"
     ]
    },
    {
     "name": "stdout",
     "output_type": "stream",
     "text": [
      "No data found for 진실ㆍ화해를 위한 과거사정리 기본법\n"
     ]
    },
    {
     "name": "stderr",
     "output_type": "stream",
     "text": [
      " 82%|████████▏ | 1355/1654 [27:43<05:36,  1.13s/it]"
     ]
    },
    {
     "name": "stdout",
     "output_type": "stream",
     "text": [
      "Saved 진폐의 예방과 진폐근로자의 보호 등에 관한 법률 to 법령별 directory\n"
     ]
    },
    {
     "name": "stderr",
     "output_type": "stream",
     "text": [
      " 82%|████████▏ | 1356/1654 [27:44<05:34,  1.12s/it]"
     ]
    },
    {
     "name": "stdout",
     "output_type": "stream",
     "text": [
      "Saved 질서위반행위규제법 to 법령별 directory\n"
     ]
    },
    {
     "name": "stderr",
     "output_type": "stream",
     "text": [
      " 82%|████████▏ | 1357/1654 [27:46<05:51,  1.19s/it]"
     ]
    },
    {
     "name": "stdout",
     "output_type": "stream",
     "text": [
      "Saved 집단에너지사업법 to 법령별 directory\n"
     ]
    },
    {
     "name": "stderr",
     "output_type": "stream",
     "text": [
      " 82%|████████▏ | 1358/1654 [27:47<06:10,  1.25s/it]"
     ]
    },
    {
     "name": "stdout",
     "output_type": "stream",
     "text": [
      "Saved 집합건물의 소유 및 관리에 관한 법률 to 법령별 directory\n"
     ]
    },
    {
     "name": "stderr",
     "output_type": "stream",
     "text": [
      " 82%|████████▏ | 1359/1654 [27:48<05:28,  1.11s/it]"
     ]
    },
    {
     "name": "stdout",
     "output_type": "stream",
     "text": [
      "No data found for 집행관법\n"
     ]
    },
    {
     "name": "stderr",
     "output_type": "stream",
     "text": [
      " 82%|████████▏ | 1360/1654 [27:49<05:14,  1.07s/it]"
     ]
    },
    {
     "name": "stdout",
     "output_type": "stream",
     "text": [
      "Saved 집회 및 시위에 관한 법률 to 법령별 directory\n"
     ]
    },
    {
     "name": "stderr",
     "output_type": "stream",
     "text": [
      " 82%|████████▏ | 1361/1654 [27:50<05:14,  1.07s/it]"
     ]
    },
    {
     "name": "stdout",
     "output_type": "stream",
     "text": [
      "Saved 징발법 to 법령별 directory\n"
     ]
    },
    {
     "name": "stderr",
     "output_type": "stream",
     "text": [
      " 82%|████████▏ | 1362/1654 [27:51<04:56,  1.02s/it]"
     ]
    },
    {
     "name": "stdout",
     "output_type": "stream",
     "text": [
      "No data found for 징발재산 정리에 관한 특별조치법\n"
     ]
    },
    {
     "name": "stderr",
     "output_type": "stream",
     "text": [
      " 82%|████████▏ | 1363/1654 [27:52<05:24,  1.11s/it]"
     ]
    },
    {
     "name": "stdout",
     "output_type": "stream",
     "text": [
      "Saved 차산업 발전 및 차문화 진흥에 관한 법률 to 법령별 directory\n"
     ]
    },
    {
     "name": "stderr",
     "output_type": "stream",
     "text": [
      " 82%|████████▏ | 1364/1654 [27:54<06:04,  1.26s/it]"
     ]
    },
    {
     "name": "stdout",
     "output_type": "stream",
     "text": [
      "Saved 참전유공자 예우 및 단체설립에 관한 법률 to 법령별 directory\n"
     ]
    },
    {
     "name": "stderr",
     "output_type": "stream",
     "text": [
      " 83%|████████▎ | 1365/1654 [27:55<05:40,  1.18s/it]"
     ]
    },
    {
     "name": "stdout",
     "output_type": "stream",
     "text": [
      "Saved 채권의 공정한 추심에 관한 법률 to 법령별 directory\n"
     ]
    },
    {
     "name": "stderr",
     "output_type": "stream",
     "text": [
      " 83%|████████▎ | 1366/1654 [27:59<10:29,  2.19s/it]"
     ]
    },
    {
     "name": "stdout",
     "output_type": "stream",
     "text": [
      "Saved 채무자 회생 및 파산에 관한 법률 to 법령별 directory\n"
     ]
    },
    {
     "name": "stderr",
     "output_type": "stream",
     "text": [
      " 83%|████████▎ | 1367/1654 [28:00<08:45,  1.83s/it]"
     ]
    },
    {
     "name": "stdout",
     "output_type": "stream",
     "text": [
      "Saved 채용절차의 공정화에 관한 법률 to 법령별 directory\n"
     ]
    },
    {
     "name": "stderr",
     "output_type": "stream",
     "text": [
      " 83%|████████▎ | 1368/1654 [28:02<08:10,  1.72s/it]"
     ]
    },
    {
     "name": "stdout",
     "output_type": "stream",
     "text": [
      "Saved 책임운영기관의 설치ㆍ운영에 관한 법률 to 법령별 directory\n"
     ]
    },
    {
     "name": "stderr",
     "output_type": "stream",
     "text": [
      " 83%|████████▎ | 1369/1654 [28:03<07:11,  1.51s/it]"
     ]
    },
    {
     "name": "stdout",
     "output_type": "stream",
     "text": [
      "Saved 천문법 to 법령별 directory\n"
     ]
    },
    {
     "name": "stderr",
     "output_type": "stream",
     "text": [
      " 83%|████████▎ | 1370/1654 [28:04<06:20,  1.34s/it]"
     ]
    },
    {
     "name": "stdout",
     "output_type": "stream",
     "text": [
      "No data found for 천연물신약 연구개발 촉진법\n"
     ]
    },
    {
     "name": "stderr",
     "output_type": "stream",
     "text": [
      " 83%|████████▎ | 1371/1654 [28:05<05:49,  1.24s/it]"
     ]
    },
    {
     "name": "stdout",
     "output_type": "stream",
     "text": [
      "Saved 철도물류산업의 육성 및 지원에 관한 법률 to 법령별 directory\n"
     ]
    },
    {
     "name": "stderr",
     "output_type": "stream",
     "text": [
      " 83%|████████▎ | 1372/1654 [28:06<05:56,  1.26s/it]"
     ]
    },
    {
     "name": "stdout",
     "output_type": "stream",
     "text": [
      "Saved 철도사업법 to 법령별 directory\n"
     ]
    },
    {
     "name": "stderr",
     "output_type": "stream",
     "text": [
      " 83%|████████▎ | 1373/1654 [28:07<05:50,  1.25s/it]"
     ]
    },
    {
     "name": "stdout",
     "output_type": "stream",
     "text": [
      "Saved 철도산업발전기본법 to 법령별 directory\n"
     ]
    },
    {
     "name": "stderr",
     "output_type": "stream",
     "text": [
      " 83%|████████▎ | 1374/1654 [28:09<06:38,  1.42s/it]"
     ]
    },
    {
     "name": "stdout",
     "output_type": "stream",
     "text": [
      "Saved 철도안전법 to 법령별 directory\n"
     ]
    },
    {
     "name": "stderr",
     "output_type": "stream",
     "text": [
      " 83%|████████▎ | 1375/1654 [28:10<06:31,  1.40s/it]"
     ]
    },
    {
     "name": "stdout",
     "output_type": "stream",
     "text": [
      "Saved 철도의 건설 및 철도시설 유지관리에 관한 법률 to 법령별 directory\n"
     ]
    },
    {
     "name": "stderr",
     "output_type": "stream",
     "text": [
      " 83%|████████▎ | 1376/1654 [28:12<06:01,  1.30s/it]"
     ]
    },
    {
     "name": "stdout",
     "output_type": "stream",
     "text": [
      "Saved 첨단의료복합단지 육성에 관한 특별법 to 법령별 directory\n"
     ]
    },
    {
     "name": "stderr",
     "output_type": "stream",
     "text": [
      " 83%|████████▎ | 1377/1654 [28:13<05:51,  1.27s/it]"
     ]
    },
    {
     "name": "stdout",
     "output_type": "stream",
     "text": [
      "Saved 첨단재생의료 및 첨단바이오의약품 안전 및 지원에 관한 법률 to 법령별 directory\n"
     ]
    },
    {
     "name": "stderr",
     "output_type": "stream",
     "text": [
      " 83%|████████▎ | 1378/1654 [28:14<05:19,  1.16s/it]"
     ]
    },
    {
     "name": "stdout",
     "output_type": "stream",
     "text": [
      "Saved 청년고용촉진 특별법 to 법령별 directory\n"
     ]
    },
    {
     "name": "stderr",
     "output_type": "stream",
     "text": [
      " 83%|████████▎ | 1379/1654 [28:15<05:08,  1.12s/it]"
     ]
    },
    {
     "name": "stdout",
     "output_type": "stream",
     "text": [
      "Saved 청년기본법 to 법령별 directory\n"
     ]
    },
    {
     "name": "stderr",
     "output_type": "stream",
     "text": [
      " 83%|████████▎ | 1380/1654 [28:16<05:59,  1.31s/it]"
     ]
    },
    {
     "name": "stdout",
     "output_type": "stream",
     "text": [
      "Saved 청소년 기본법 to 법령별 directory\n"
     ]
    },
    {
     "name": "stderr",
     "output_type": "stream",
     "text": [
      " 83%|████████▎ | 1381/1654 [28:18<06:07,  1.35s/it]"
     ]
    },
    {
     "name": "stdout",
     "output_type": "stream",
     "text": [
      "Saved 청소년 보호법 to 법령별 directory\n"
     ]
    },
    {
     "name": "stderr",
     "output_type": "stream",
     "text": [
      " 84%|████████▎ | 1382/1654 [28:19<05:56,  1.31s/it]"
     ]
    },
    {
     "name": "stdout",
     "output_type": "stream",
     "text": [
      "Saved 청소년복지 지원법 to 법령별 directory\n"
     ]
    },
    {
     "name": "stderr",
     "output_type": "stream",
     "text": [
      " 84%|████████▎ | 1383/1654 [28:21<06:14,  1.38s/it]"
     ]
    },
    {
     "name": "stdout",
     "output_type": "stream",
     "text": [
      "Saved 청소년활동 진흥법 to 법령별 directory\n"
     ]
    },
    {
     "name": "stderr",
     "output_type": "stream",
     "text": [
      " 84%|████████▎ | 1384/1654 [28:22<05:38,  1.26s/it]"
     ]
    },
    {
     "name": "stdout",
     "output_type": "stream",
     "text": [
      "Saved 청원경찰법 to 법령별 directory\n"
     ]
    },
    {
     "name": "stderr",
     "output_type": "stream",
     "text": [
      " 84%|████████▎ | 1385/1654 [28:23<05:13,  1.17s/it]"
     ]
    },
    {
     "name": "stdout",
     "output_type": "stream",
     "text": [
      "No data found for 청원법\n"
     ]
    },
    {
     "name": "stderr",
     "output_type": "stream",
     "text": [
      " 84%|████████▍ | 1386/1654 [28:23<04:44,  1.06s/it]"
     ]
    },
    {
     "name": "stdout",
     "output_type": "stream",
     "text": [
      "No data found for 청원산림보호직원 배치에 관한 법률\n"
     ]
    },
    {
     "name": "stderr",
     "output_type": "stream",
     "text": [
      " 84%|████████▍ | 1387/1654 [28:24<04:37,  1.04s/it]"
     ]
    },
    {
     "name": "stdout",
     "output_type": "stream",
     "text": [
      "Saved 체외진단의료기기법 to 법령별 directory\n"
     ]
    },
    {
     "name": "stderr",
     "output_type": "stream",
     "text": [
      " 84%|████████▍ | 1388/1654 [28:25<04:40,  1.05s/it]"
     ]
    },
    {
     "name": "stdout",
     "output_type": "stream",
     "text": [
      "Saved 체육시설의 설치ㆍ이용에 관한 법률 to 법령별 directory\n"
     ]
    },
    {
     "name": "stderr",
     "output_type": "stream",
     "text": [
      " 84%|████████▍ | 1389/1654 [28:26<04:26,  1.00s/it]"
     ]
    },
    {
     "name": "stdout",
     "output_type": "stream",
     "text": [
      "Saved 체육인 복지법 to 법령별 directory\n"
     ]
    },
    {
     "name": "stderr",
     "output_type": "stream",
     "text": [
      " 84%|████████▍ | 1390/1654 [28:28<05:12,  1.18s/it]"
     ]
    },
    {
     "name": "stdout",
     "output_type": "stream",
     "text": [
      "Saved 초고층 및 지하연계 복합건축물 재난관리에 관한 특별법 to 법령별 directory\n"
     ]
    },
    {
     "name": "stderr",
     "output_type": "stream",
     "text": [
      " 84%|████████▍ | 1391/1654 [28:29<05:38,  1.29s/it]"
     ]
    },
    {
     "name": "stdout",
     "output_type": "stream",
     "text": [
      "No data found for 초ㆍ중등교육법\n"
     ]
    },
    {
     "name": "stderr",
     "output_type": "stream",
     "text": [
      " 84%|████████▍ | 1392/1654 [28:31<05:53,  1.35s/it]"
     ]
    },
    {
     "name": "stdout",
     "output_type": "stream",
     "text": [
      "Saved 초지법 to 법령별 directory\n"
     ]
    },
    {
     "name": "stderr",
     "output_type": "stream",
     "text": [
      " 84%|████████▍ | 1393/1654 [28:33<06:13,  1.43s/it]"
     ]
    },
    {
     "name": "stdout",
     "output_type": "stream",
     "text": [
      "Saved 총포ㆍ도검ㆍ화약류 등의 안전관리에 관한 법률 to 법령별 directory\n"
     ]
    },
    {
     "name": "stderr",
     "output_type": "stream",
     "text": [
      " 84%|████████▍ | 1394/1654 [28:33<05:29,  1.27s/it]"
     ]
    },
    {
     "name": "stdout",
     "output_type": "stream",
     "text": [
      "Saved 최저임금법 to 법령별 directory\n"
     ]
    },
    {
     "name": "stderr",
     "output_type": "stream",
     "text": [
      " 84%|████████▍ | 1395/1654 [28:34<04:46,  1.11s/it]"
     ]
    },
    {
     "name": "stdout",
     "output_type": "stream",
     "text": [
      "Saved 축사의 부동산등기에 관한 특례법 to 법령별 directory\n"
     ]
    },
    {
     "name": "stderr",
     "output_type": "stream",
     "text": [
      " 84%|████████▍ | 1396/1654 [28:35<04:50,  1.13s/it]"
     ]
    },
    {
     "name": "stdout",
     "output_type": "stream",
     "text": [
      "Saved 축산계열화사업에 관한 법률 to 법령별 directory\n"
     ]
    },
    {
     "name": "stderr",
     "output_type": "stream",
     "text": [
      " 84%|████████▍ | 1397/1654 [28:38<06:30,  1.52s/it]"
     ]
    },
    {
     "name": "stdout",
     "output_type": "stream",
     "text": [
      "Saved 축산물 위생관리법 to 법령별 directory\n"
     ]
    },
    {
     "name": "stderr",
     "output_type": "stream",
     "text": [
      " 85%|████████▍ | 1398/1654 [28:39<06:18,  1.48s/it]"
     ]
    },
    {
     "name": "stdout",
     "output_type": "stream",
     "text": [
      "Saved 축산법 to 법령별 directory\n"
     ]
    },
    {
     "name": "stderr",
     "output_type": "stream",
     "text": [
      " 85%|████████▍ | 1399/1654 [28:40<05:38,  1.33s/it]"
     ]
    },
    {
     "name": "stdout",
     "output_type": "stream",
     "text": [
      "Saved 축산자조금의 조성 및 운용에 관한 법률 to 법령별 directory\n"
     ]
    },
    {
     "name": "stderr",
     "output_type": "stream",
     "text": [
      " 85%|████████▍ | 1400/1654 [28:42<06:10,  1.46s/it]"
     ]
    },
    {
     "name": "stdout",
     "output_type": "stream",
     "text": [
      "Saved 출입국관리법 to 법령별 directory\n"
     ]
    },
    {
     "name": "stderr",
     "output_type": "stream",
     "text": [
      " 85%|████████▍ | 1401/1654 [28:43<05:37,  1.33s/it]"
     ]
    },
    {
     "name": "stdout",
     "output_type": "stream",
     "text": [
      "Saved 출판문화산업 진흥법 to 법령별 directory\n"
     ]
    },
    {
     "name": "stderr",
     "output_type": "stream",
     "text": [
      " 85%|████████▍ | 1402/1654 [28:44<05:00,  1.19s/it]"
     ]
    },
    {
     "name": "stdout",
     "output_type": "stream",
     "text": [
      "No data found for 충청북도 청주시 설치 및 지원특례에 관한 법률\n"
     ]
    },
    {
     "name": "stderr",
     "output_type": "stream",
     "text": [
      " 85%|████████▍ | 1403/1654 [28:45<04:49,  1.15s/it]"
     ]
    },
    {
     "name": "stdout",
     "output_type": "stream",
     "text": [
      "Saved 취업 후 학자금 상환 특별법 to 법령별 directory\n"
     ]
    },
    {
     "name": "stderr",
     "output_type": "stream",
     "text": [
      " 85%|████████▍ | 1404/1654 [28:46<04:52,  1.17s/it]"
     ]
    },
    {
     "name": "stdout",
     "output_type": "stream",
     "text": [
      "No data found for 치료감호 등에 관한 법률\n"
     ]
    },
    {
     "name": "stderr",
     "output_type": "stream",
     "text": [
      " 85%|████████▍ | 1405/1654 [28:47<04:38,  1.12s/it]"
     ]
    },
    {
     "name": "stdout",
     "output_type": "stream",
     "text": [
      "Saved 치매관리법 to 법령별 directory\n"
     ]
    },
    {
     "name": "stderr",
     "output_type": "stream",
     "text": [
      " 85%|████████▌ | 1406/1654 [28:48<04:17,  1.04s/it]"
     ]
    },
    {
     "name": "stdout",
     "output_type": "stream",
     "text": [
      "Saved 치유농업 연구개발 및 육성에 관한 법률 to 법령별 directory\n"
     ]
    },
    {
     "name": "stderr",
     "output_type": "stream",
     "text": [
      " 85%|████████▌ | 1407/1654 [28:49<04:15,  1.03s/it]"
     ]
    },
    {
     "name": "stdout",
     "output_type": "stream",
     "text": [
      "Saved 친수구역 활용에 관한 특별법 to 법령별 directory\n"
     ]
    },
    {
     "name": "stderr",
     "output_type": "stream",
     "text": [
      " 85%|████████▌ | 1408/1654 [28:50<04:05,  1.00it/s]"
     ]
    },
    {
     "name": "stdout",
     "output_type": "stream",
     "text": [
      "Saved 친일반민족행위자 재산의 국가귀속에 관한 특별법 to 법령별 directory\n"
     ]
    },
    {
     "name": "stderr",
     "output_type": "stream",
     "text": [
      " 85%|████████▌ | 1409/1654 [28:52<05:09,  1.26s/it]"
     ]
    },
    {
     "name": "stdout",
     "output_type": "stream",
     "text": [
      "Saved 친환경농어업 육성 및 유기식품 등의 관리ㆍ지원에 관한 법률 to 법령별 directory\n"
     ]
    },
    {
     "name": "stderr",
     "output_type": "stream",
     "text": [
      " 85%|████████▌ | 1410/1654 [28:53<04:59,  1.23s/it]"
     ]
    },
    {
     "name": "stdout",
     "output_type": "stream",
     "text": [
      "Saved 콘텐츠산업 진흥법 to 법령별 directory\n"
     ]
    },
    {
     "name": "stderr",
     "output_type": "stream",
     "text": [
      " 85%|████████▌ | 1411/1654 [28:54<04:38,  1.15s/it]"
     ]
    },
    {
     "name": "stdout",
     "output_type": "stream",
     "text": [
      "Saved 크루즈산업의 육성 및 지원에 관한 법률 to 법령별 directory\n"
     ]
    },
    {
     "name": "stderr",
     "output_type": "stream",
     "text": [
      " 85%|████████▌ | 1412/1654 [28:55<04:34,  1.14s/it]"
     ]
    },
    {
     "name": "stdout",
     "output_type": "stream",
     "text": [
      "Saved 클라우드컴퓨팅 발전 및 이용자 보호에 관한 법률 to 법령별 directory\n"
     ]
    },
    {
     "name": "stderr",
     "output_type": "stream",
     "text": [
      " 85%|████████▌ | 1413/1654 [28:56<04:16,  1.07s/it]"
     ]
    },
    {
     "name": "stdout",
     "output_type": "stream",
     "text": [
      "Saved 탄소소재 융복합기술 개발 및 기반 조성 지원에 관한 법률 to 법령별 directory\n"
     ]
    },
    {
     "name": "stderr",
     "output_type": "stream",
     "text": [
      " 85%|████████▌ | 1414/1654 [28:57<04:23,  1.10s/it]"
     ]
    },
    {
     "name": "stdout",
     "output_type": "stream",
     "text": [
      "Saved 탄소흡수원 유지 및 증진에 관한 법률 to 법령별 directory\n"
     ]
    },
    {
     "name": "stderr",
     "output_type": "stream",
     "text": [
      " 86%|████████▌ | 1415/1654 [28:58<04:18,  1.08s/it]"
     ]
    },
    {
     "name": "stdout",
     "output_type": "stream",
     "text": [
      "Saved 태권도 진흥 및 태권도공원 조성 등에 관한 법률 to 법령별 directory\n"
     ]
    },
    {
     "name": "stderr",
     "output_type": "stream",
     "text": [
      " 86%|████████▌ | 1416/1654 [28:59<04:19,  1.09s/it]"
     ]
    },
    {
     "name": "stdout",
     "output_type": "stream",
     "text": [
      "Saved 택시운송사업의 발전에 관한 법률 to 법령별 directory\n"
     ]
    },
    {
     "name": "stderr",
     "output_type": "stream",
     "text": [
      " 86%|████████▌ | 1417/1654 [29:01<04:35,  1.16s/it]"
     ]
    },
    {
     "name": "stdout",
     "output_type": "stream",
     "text": [
      "No data found for 택지개발촉진법\n"
     ]
    },
    {
     "name": "stderr",
     "output_type": "stream",
     "text": [
      " 86%|████████▌ | 1418/1654 [29:02<04:50,  1.23s/it]"
     ]
    },
    {
     "name": "stdout",
     "output_type": "stream",
     "text": [
      "Saved 토양환경보전법 to 법령별 directory\n"
     ]
    },
    {
     "name": "stderr",
     "output_type": "stream",
     "text": [
      " 86%|████████▌ | 1419/1654 [29:03<04:57,  1.27s/it]"
     ]
    },
    {
     "name": "stdout",
     "output_type": "stream",
     "text": [
      "Saved 토지이용규제 기본법 to 법령별 directory\n"
     ]
    },
    {
     "name": "stderr",
     "output_type": "stream",
     "text": [
      " 86%|████████▌ | 1420/1654 [29:04<04:40,  1.20s/it]"
     ]
    },
    {
     "name": "stdout",
     "output_type": "stream",
     "text": [
      "Saved 토지이용 인ㆍ허가 절차 간소화를 위한 특별법 to 법령별 directory\n"
     ]
    },
    {
     "name": "stderr",
     "output_type": "stream",
     "text": [
      " 86%|████████▌ | 1421/1654 [29:06<04:42,  1.21s/it]"
     ]
    },
    {
     "name": "stdout",
     "output_type": "stream",
     "text": [
      "Saved 통계법 to 법령별 directory\n"
     ]
    },
    {
     "name": "stderr",
     "output_type": "stream",
     "text": [
      " 86%|████████▌ | 1422/1654 [29:06<04:19,  1.12s/it]"
     ]
    },
    {
     "name": "stdout",
     "output_type": "stream",
     "text": [
      "Saved 통상조약의 체결절차 및 이행에 관한 법률 to 법령별 directory\n"
     ]
    },
    {
     "name": "stderr",
     "output_type": "stream",
     "text": [
      " 86%|████████▌ | 1423/1654 [29:08<04:27,  1.16s/it]"
     ]
    },
    {
     "name": "stdout",
     "output_type": "stream",
     "text": [
      "Saved 통신비밀보호법 to 법령별 directory\n"
     ]
    },
    {
     "name": "stderr",
     "output_type": "stream",
     "text": [
      " 86%|████████▌ | 1424/1654 [29:09<04:18,  1.12s/it]"
     ]
    },
    {
     "name": "stdout",
     "output_type": "stream",
     "text": [
      "Saved 통일교육 지원법 to 법령별 directory\n"
     ]
    },
    {
     "name": "stderr",
     "output_type": "stream",
     "text": [
      " 86%|████████▌ | 1425/1654 [29:10<04:22,  1.15s/it]"
     ]
    },
    {
     "name": "stdout",
     "output_type": "stream",
     "text": [
      "Saved 통합방위법 to 법령별 directory\n"
     ]
    },
    {
     "name": "stderr",
     "output_type": "stream",
     "text": [
      " 86%|████████▌ | 1426/1654 [29:11<04:01,  1.06s/it]"
     ]
    },
    {
     "name": "stdout",
     "output_type": "stream",
     "text": [
      "No data found for 퇴직교원 평생교육활동 지원법\n"
     ]
    },
    {
     "name": "stderr",
     "output_type": "stream",
     "text": [
      " 86%|████████▋ | 1427/1654 [29:12<03:53,  1.03s/it]"
     ]
    },
    {
     "name": "stdout",
     "output_type": "stream",
     "text": [
      "No data found for 특별감찰관법\n"
     ]
    },
    {
     "name": "stderr",
     "output_type": "stream",
     "text": [
      " 86%|████████▋ | 1428/1654 [29:13<03:49,  1.01s/it]"
     ]
    },
    {
     "name": "stdout",
     "output_type": "stream",
     "text": [
      "No data found for 특별검사의 임명 등에 관한 법률\n"
     ]
    },
    {
     "name": "stderr",
     "output_type": "stream",
     "text": [
      " 86%|████████▋ | 1429/1654 [29:14<03:42,  1.01it/s]"
     ]
    },
    {
     "name": "stdout",
     "output_type": "stream",
     "text": [
      "Saved 특수외국어 교육 진흥에 관한 법률 to 법령별 directory\n"
     ]
    },
    {
     "name": "stderr",
     "output_type": "stream",
     "text": [
      " 86%|████████▋ | 1430/1654 [29:15<03:43,  1.00it/s]"
     ]
    },
    {
     "name": "stdout",
     "output_type": "stream",
     "text": [
      "Saved 특수임무수행자 보상에 관한 법률 to 법령별 directory\n"
     ]
    },
    {
     "name": "stderr",
     "output_type": "stream",
     "text": [
      " 87%|████████▋ | 1431/1654 [29:16<04:27,  1.20s/it]"
     ]
    },
    {
     "name": "stdout",
     "output_type": "stream",
     "text": [
      "Saved 특수임무유공자 예우 및 단체설립에 관한 법률 to 법령별 directory\n"
     ]
    },
    {
     "name": "stderr",
     "output_type": "stream",
     "text": [
      " 87%|████████▋ | 1432/1654 [29:17<04:09,  1.12s/it]"
     ]
    },
    {
     "name": "stdout",
     "output_type": "stream",
     "text": [
      "No data found for 특정강력범죄의 처벌에 관한 특례법\n"
     ]
    },
    {
     "name": "stderr",
     "output_type": "stream",
     "text": [
      " 87%|████████▋ | 1433/1654 [29:19<04:28,  1.21s/it]"
     ]
    },
    {
     "name": "stdout",
     "output_type": "stream",
     "text": [
      "No data found for 특정경제범죄 가중처벌 등에 관한 법률\n"
     ]
    },
    {
     "name": "stderr",
     "output_type": "stream",
     "text": [
      " 87%|████████▋ | 1434/1654 [29:20<04:21,  1.19s/it]"
     ]
    },
    {
     "name": "stdout",
     "output_type": "stream",
     "text": [
      "Saved 특정 금융거래정보의 보고 및 이용 등에 관한 법률 to 법령별 directory\n"
     ]
    },
    {
     "name": "stderr",
     "output_type": "stream",
     "text": [
      " 87%|████████▋ | 1435/1654 [29:21<04:10,  1.14s/it]"
     ]
    },
    {
     "name": "stdout",
     "output_type": "stream",
     "text": [
      "No data found for 특정범죄 가중처벌 등에 관한 법률\n"
     ]
    },
    {
     "name": "stderr",
     "output_type": "stream",
     "text": [
      " 87%|████████▋ | 1436/1654 [29:22<04:00,  1.10s/it]"
     ]
    },
    {
     "name": "stdout",
     "output_type": "stream",
     "text": [
      "Saved 특정범죄신고자 등 보호법 to 법령별 directory\n"
     ]
    },
    {
     "name": "stderr",
     "output_type": "stream",
     "text": [
      " 87%|████████▋ | 1437/1654 [29:23<03:47,  1.05s/it]"
     ]
    },
    {
     "name": "stdout",
     "output_type": "stream",
     "text": [
      "No data found for 특정연구기관 육성법\n"
     ]
    },
    {
     "name": "stderr",
     "output_type": "stream",
     "text": [
      " 87%|████████▋ | 1438/1654 [29:24<03:31,  1.02it/s]"
     ]
    },
    {
     "name": "stdout",
     "output_type": "stream",
     "text": [
      "Saved 특정중대범죄 피의자 등 신상정보 공개에 관한 법률 to 법령별 directory\n"
     ]
    },
    {
     "name": "stderr",
     "output_type": "stream",
     "text": [
      " 87%|████████▋ | 1439/1654 [29:26<05:08,  1.43s/it]"
     ]
    },
    {
     "name": "stdout",
     "output_type": "stream",
     "text": [
      "Saved 특허법 to 법령별 directory\n"
     ]
    },
    {
     "name": "stderr",
     "output_type": "stream",
     "text": [
      " 87%|████████▋ | 1440/1654 [29:27<04:46,  1.34s/it]"
     ]
    },
    {
     "name": "stdout",
     "output_type": "stream",
     "text": [
      "Saved 파견근로자 보호 등에 관한 법률 to 법령별 directory\n"
     ]
    },
    {
     "name": "stderr",
     "output_type": "stream",
     "text": [
      " 87%|████████▋ | 1441/1654 [29:28<04:16,  1.20s/it]"
     ]
    },
    {
     "name": "stdout",
     "output_type": "stream",
     "text": [
      "No data found for 파독 광부ㆍ간호사ㆍ간호조무사에 대한 지원 및 기념사업에 관한 법률\n"
     ]
    },
    {
     "name": "stderr",
     "output_type": "stream",
     "text": [
      " 87%|████████▋ | 1442/1654 [29:29<04:19,  1.23s/it]"
     ]
    },
    {
     "name": "stdout",
     "output_type": "stream",
     "text": [
      "Saved 평생교육법 to 법령별 directory\n"
     ]
    },
    {
     "name": "stderr",
     "output_type": "stream",
     "text": [
      " 87%|████████▋ | 1443/1654 [29:31<04:17,  1.22s/it]"
     ]
    },
    {
     "name": "stdout",
     "output_type": "stream",
     "text": [
      "Saved 평화경제특별구역의 지정 및 운영에 관한 법률 to 법령별 directory\n"
     ]
    },
    {
     "name": "stderr",
     "output_type": "stream",
     "text": [
      " 87%|████████▋ | 1444/1654 [29:32<04:14,  1.21s/it]"
     ]
    },
    {
     "name": "stdout",
     "output_type": "stream",
     "text": [
      "Saved 폐광지역 개발 지원에 관한 특별법 to 법령별 directory\n"
     ]
    },
    {
     "name": "stderr",
     "output_type": "stream",
     "text": [
      " 87%|████████▋ | 1445/1654 [29:33<04:03,  1.16s/it]"
     ]
    },
    {
     "name": "stdout",
     "output_type": "stream",
     "text": [
      "Saved 폐교재산의 활용촉진을 위한 특별법 to 법령별 directory\n"
     ]
    },
    {
     "name": "stderr",
     "output_type": "stream",
     "text": [
      " 87%|████████▋ | 1446/1654 [29:35<04:34,  1.32s/it]"
     ]
    },
    {
     "name": "stdout",
     "output_type": "stream",
     "text": [
      "Saved 폐기물관리법 to 법령별 directory\n"
     ]
    },
    {
     "name": "stderr",
     "output_type": "stream",
     "text": [
      " 87%|████████▋ | 1447/1654 [29:36<04:26,  1.29s/it]"
     ]
    },
    {
     "name": "stdout",
     "output_type": "stream",
     "text": [
      "Saved 폐기물의 국가 간 이동 및 그 처리에 관한 법률 to 법령별 directory\n"
     ]
    },
    {
     "name": "stderr",
     "output_type": "stream",
     "text": [
      " 88%|████████▊ | 1448/1654 [29:37<04:21,  1.27s/it]"
     ]
    },
    {
     "name": "stdout",
     "output_type": "stream",
     "text": [
      "Saved 폐기물처리시설 설치촉진 및 주변지역지원 등에 관한 법률 to 법령별 directory\n"
     ]
    },
    {
     "name": "stderr",
     "output_type": "stream",
     "text": [
      " 88%|████████▊ | 1449/1654 [29:38<04:03,  1.19s/it]"
     ]
    },
    {
     "name": "stdout",
     "output_type": "stream",
     "text": [
      "Saved 포항지진의 진상조사 및 피해구제 등을 위한 특별법 to 법령별 directory\n"
     ]
    },
    {
     "name": "stderr",
     "output_type": "stream",
     "text": [
      " 88%|████████▊ | 1450/1654 [29:39<03:52,  1.14s/it]"
     ]
    },
    {
     "name": "stdout",
     "output_type": "stream",
     "text": [
      "No data found for 폭력행위 등 처벌에 관한 법률\n"
     ]
    },
    {
     "name": "stderr",
     "output_type": "stream",
     "text": [
      " 88%|████████▊ | 1451/1654 [29:40<04:03,  1.20s/it]"
     ]
    },
    {
     "name": "stdout",
     "output_type": "stream",
     "text": [
      "Saved 표시ㆍ광고의 공정화에 관한 법률 to 법령별 directory\n"
     ]
    },
    {
     "name": "stderr",
     "output_type": "stream",
     "text": [
      " 88%|████████▊ | 1452/1654 [29:41<03:31,  1.05s/it]"
     ]
    },
    {
     "name": "stdout",
     "output_type": "stream",
     "text": [
      "No data found for 표준시에 관한 법률\n"
     ]
    },
    {
     "name": "stderr",
     "output_type": "stream",
     "text": [
      " 88%|████████▊ | 1453/1654 [29:42<03:10,  1.05it/s]"
     ]
    },
    {
     "name": "stdout",
     "output_type": "stream",
     "text": [
      "Saved 풍납토성 보존 및 관리에 관한 특별법 to 법령별 directory\n"
     ]
    },
    {
     "name": "stderr",
     "output_type": "stream",
     "text": [
      " 88%|████████▊ | 1454/1654 [29:43<03:08,  1.06it/s]"
     ]
    },
    {
     "name": "stdout",
     "output_type": "stream",
     "text": [
      "No data found for 풍속영업의 규제에 관한 법률\n"
     ]
    },
    {
     "name": "stderr",
     "output_type": "stream",
     "text": [
      " 88%|████████▊ | 1455/1654 [29:44<03:20,  1.01s/it]"
     ]
    },
    {
     "name": "stdout",
     "output_type": "stream",
     "text": [
      "Saved 풍수해ㆍ지진재해보험법 to 법령별 directory\n"
     ]
    },
    {
     "name": "stderr",
     "output_type": "stream",
     "text": [
      " 88%|████████▊ | 1456/1654 [29:45<03:14,  1.02it/s]"
     ]
    },
    {
     "name": "stdout",
     "output_type": "stream",
     "text": [
      "Saved 필수업무 지정 및 종사자 보호ㆍ지원에 관한 법률 to 법령별 directory\n"
     ]
    },
    {
     "name": "stderr",
     "output_type": "stream",
     "text": [
      " 88%|████████▊ | 1457/1654 [29:46<03:42,  1.13s/it]"
     ]
    },
    {
     "name": "stdout",
     "output_type": "stream",
     "text": [
      "Saved 하도급거래 공정화에 관한 법률 to 법령별 directory\n"
     ]
    },
    {
     "name": "stderr",
     "output_type": "stream",
     "text": [
      " 88%|████████▊ | 1458/1654 [29:48<04:00,  1.23s/it]"
     ]
    },
    {
     "name": "stdout",
     "output_type": "stream",
     "text": [
      "Saved 하수도법 to 법령별 directory\n"
     ]
    },
    {
     "name": "stderr",
     "output_type": "stream",
     "text": [
      " 88%|████████▊ | 1459/1654 [29:49<04:14,  1.31s/it]"
     ]
    },
    {
     "name": "stdout",
     "output_type": "stream",
     "text": [
      "Saved 하천법 to 법령별 directory\n"
     ]
    },
    {
     "name": "stderr",
     "output_type": "stream",
     "text": [
      " 88%|████████▊ | 1460/1654 [29:50<03:47,  1.17s/it]"
     ]
    },
    {
     "name": "stdout",
     "output_type": "stream",
     "text": [
      "No data found for 하천편입토지 보상 등에 관한 특별조치법\n"
     ]
    },
    {
     "name": "stderr",
     "output_type": "stream",
     "text": [
      " 88%|████████▊ | 1461/1654 [29:51<03:36,  1.12s/it]"
     ]
    },
    {
     "name": "stdout",
     "output_type": "stream",
     "text": [
      "Saved 학교급식법 to 법령별 directory\n"
     ]
    },
    {
     "name": "stderr",
     "output_type": "stream",
     "text": [
      " 88%|████████▊ | 1462/1654 [29:52<03:46,  1.18s/it]"
     ]
    },
    {
     "name": "stdout",
     "output_type": "stream",
     "text": [
      "Saved 학교도서관진흥법 to 법령별 directory\n"
     ]
    },
    {
     "name": "stderr",
     "output_type": "stream",
     "text": [
      " 88%|████████▊ | 1463/1654 [29:53<03:27,  1.09s/it]"
     ]
    },
    {
     "name": "stdout",
     "output_type": "stream",
     "text": [
      "Saved 학교 밖 청소년 지원에 관한 법률 to 법령별 directory\n"
     ]
    },
    {
     "name": "stderr",
     "output_type": "stream",
     "text": [
      " 89%|████████▊ | 1464/1654 [29:54<03:30,  1.11s/it]"
     ]
    },
    {
     "name": "stdout",
     "output_type": "stream",
     "text": [
      "Saved 학교보건법 to 법령별 directory\n"
     ]
    },
    {
     "name": "stderr",
     "output_type": "stream",
     "text": [
      " 89%|████████▊ | 1465/1654 [29:55<03:12,  1.02s/it]"
     ]
    },
    {
     "name": "stdout",
     "output_type": "stream",
     "text": [
      "Saved 학교복합시설 설치 및 운영ㆍ관리에 관한 법률 to 법령별 directory\n"
     ]
    },
    {
     "name": "stderr",
     "output_type": "stream",
     "text": [
      " 89%|████████▊ | 1466/1654 [29:56<03:10,  1.01s/it]"
     ]
    },
    {
     "name": "stdout",
     "output_type": "stream",
     "text": [
      "Saved 학교시설사업 촉진법 to 법령별 directory\n"
     ]
    },
    {
     "name": "stderr",
     "output_type": "stream",
     "text": [
      " 89%|████████▊ | 1467/1654 [29:58<03:30,  1.12s/it]"
     ]
    },
    {
     "name": "stdout",
     "output_type": "stream",
     "text": [
      "Saved 학교안전사고 예방 및 보상에 관한 법률 to 법령별 directory\n"
     ]
    },
    {
     "name": "stderr",
     "output_type": "stream",
     "text": [
      " 89%|████████▉ | 1468/1654 [29:59<03:20,  1.08s/it]"
     ]
    },
    {
     "name": "stdout",
     "output_type": "stream",
     "text": [
      "Saved 학교용지 확보 등에 관한 특례법 to 법령별 directory\n"
     ]
    },
    {
     "name": "stderr",
     "output_type": "stream",
     "text": [
      " 89%|████████▉ | 1469/1654 [30:00<03:11,  1.04s/it]"
     ]
    },
    {
     "name": "stdout",
     "output_type": "stream",
     "text": [
      "Saved 학교체육 진흥법 to 법령별 directory\n"
     ]
    },
    {
     "name": "stderr",
     "output_type": "stream",
     "text": [
      " 89%|████████▉ | 1470/1654 [30:01<03:33,  1.16s/it]"
     ]
    },
    {
     "name": "stdout",
     "output_type": "stream",
     "text": [
      "Saved 학교폭력예방 및 대책에 관한 법률 to 법령별 directory\n"
     ]
    },
    {
     "name": "stderr",
     "output_type": "stream",
     "text": [
      " 89%|████████▉ | 1471/1654 [30:02<03:19,  1.09s/it]"
     ]
    },
    {
     "name": "stdout",
     "output_type": "stream",
     "text": [
      "Saved 학술진흥법 to 법령별 directory\n"
     ]
    },
    {
     "name": "stderr",
     "output_type": "stream",
     "text": [
      " 89%|████████▉ | 1472/1654 [30:03<03:25,  1.13s/it]"
     ]
    },
    {
     "name": "stdout",
     "output_type": "stream",
     "text": [
      "Saved 학원의 설립ㆍ운영 및 과외교습에 관한 법률 to 법령별 directory\n"
     ]
    },
    {
     "name": "stderr",
     "output_type": "stream",
     "text": [
      " 89%|████████▉ | 1473/1654 [30:04<03:17,  1.09s/it]"
     ]
    },
    {
     "name": "stdout",
     "output_type": "stream",
     "text": [
      "Saved 학점인정 등에 관한 법률 to 법령별 directory\n"
     ]
    },
    {
     "name": "stderr",
     "output_type": "stream",
     "text": [
      " 89%|████████▉ | 1474/1654 [30:05<03:31,  1.18s/it]"
     ]
    },
    {
     "name": "stdout",
     "output_type": "stream",
     "text": [
      "Saved 한강수계 상수원수질개선 및 주민지원 등에 관한 법률 to 법령별 directory\n"
     ]
    },
    {
     "name": "stderr",
     "output_type": "stream",
     "text": [
      " 89%|████████▉ | 1475/1654 [30:06<03:14,  1.08s/it]"
     ]
    },
    {
     "name": "stdout",
     "output_type": "stream",
     "text": [
      "Saved 한국4에이치활동 지원법 to 법령별 directory\n"
     ]
    },
    {
     "name": "stderr",
     "output_type": "stream",
     "text": [
      " 89%|████████▉ | 1476/1654 [30:08<03:16,  1.10s/it]"
     ]
    },
    {
     "name": "stdout",
     "output_type": "stream",
     "text": [
      "No data found for 한국가스공사법\n"
     ]
    },
    {
     "name": "stderr",
     "output_type": "stream",
     "text": [
      " 89%|████████▉ | 1477/1654 [30:09<03:09,  1.07s/it]"
     ]
    },
    {
     "name": "stdout",
     "output_type": "stream",
     "text": [
      "No data found for 한국고용노동교육원법\n"
     ]
    },
    {
     "name": "stderr",
     "output_type": "stream",
     "text": [
      " 89%|████████▉ | 1478/1654 [30:09<02:59,  1.02s/it]"
     ]
    },
    {
     "name": "stdout",
     "output_type": "stream",
     "text": [
      "Saved 한국고전번역원법 to 법령별 directory\n"
     ]
    },
    {
     "name": "stderr",
     "output_type": "stream",
     "text": [
      " 89%|████████▉ | 1479/1654 [30:10<02:54,  1.00it/s]"
     ]
    },
    {
     "name": "stdout",
     "output_type": "stream",
     "text": [
      "No data found for 한국공항공사법\n"
     ]
    },
    {
     "name": "stderr",
     "output_type": "stream",
     "text": [
      " 89%|████████▉ | 1480/1654 [30:12<03:06,  1.07s/it]"
     ]
    },
    {
     "name": "stdout",
     "output_type": "stream",
     "text": [
      "No data found for 한국과학기술원법\n"
     ]
    },
    {
     "name": "stderr",
     "output_type": "stream",
     "text": [
      " 90%|████████▉ | 1481/1654 [30:12<02:52,  1.00it/s]"
     ]
    },
    {
     "name": "stdout",
     "output_type": "stream",
     "text": [
      "No data found for 한국과학우주청소년단 육성에 관한 법률\n"
     ]
    },
    {
     "name": "stderr",
     "output_type": "stream",
     "text": [
      " 90%|████████▉ | 1482/1654 [30:13<02:51,  1.00it/s]"
     ]
    },
    {
     "name": "stdout",
     "output_type": "stream",
     "text": [
      "No data found for 한국관광공사법\n"
     ]
    },
    {
     "name": "stderr",
     "output_type": "stream",
     "text": [
      " 90%|████████▉ | 1483/1654 [30:14<02:46,  1.03it/s]"
     ]
    },
    {
     "name": "stdout",
     "output_type": "stream",
     "text": [
      "No data found for 한국광해광업공단법\n"
     ]
    },
    {
     "name": "stderr",
     "output_type": "stream",
     "text": [
      " 90%|████████▉ | 1484/1654 [30:15<02:53,  1.02s/it]"
     ]
    },
    {
     "name": "stdout",
     "output_type": "stream",
     "text": [
      "No data found for 한국교육방송공사법\n"
     ]
    },
    {
     "name": "stderr",
     "output_type": "stream",
     "text": [
      " 90%|████████▉ | 1485/1654 [30:17<02:53,  1.02s/it]"
     ]
    },
    {
     "name": "stdout",
     "output_type": "stream",
     "text": [
      "Saved 한국교육학술정보원법 to 법령별 directory\n"
     ]
    },
    {
     "name": "stderr",
     "output_type": "stream",
     "text": [
      " 90%|████████▉ | 1486/1654 [30:17<02:49,  1.01s/it]"
     ]
    },
    {
     "name": "stdout",
     "output_type": "stream",
     "text": [
      "No data found for 한국교직원공제회법\n"
     ]
    },
    {
     "name": "stderr",
     "output_type": "stream",
     "text": [
      " 90%|████████▉ | 1487/1654 [30:19<02:51,  1.03s/it]"
     ]
    },
    {
     "name": "stdout",
     "output_type": "stream",
     "text": [
      "No data found for 한국교통안전공단법\n"
     ]
    },
    {
     "name": "stderr",
     "output_type": "stream",
     "text": [
      " 90%|████████▉ | 1488/1654 [30:19<02:45,  1.00it/s]"
     ]
    },
    {
     "name": "stdout",
     "output_type": "stream",
     "text": [
      "No data found for 한국국방연구원법\n"
     ]
    },
    {
     "name": "stderr",
     "output_type": "stream",
     "text": [
      " 90%|█████████ | 1489/1654 [30:21<02:51,  1.04s/it]"
     ]
    },
    {
     "name": "stdout",
     "output_type": "stream",
     "text": [
      "No data found for 한국국제교류재단법\n"
     ]
    },
    {
     "name": "stderr",
     "output_type": "stream",
     "text": [
      " 90%|█████████ | 1490/1654 [30:22<02:45,  1.01s/it]"
     ]
    },
    {
     "name": "stdout",
     "output_type": "stream",
     "text": [
      "Saved 한국국제보건의료재단법 to 법령별 directory\n"
     ]
    },
    {
     "name": "stderr",
     "output_type": "stream",
     "text": [
      " 90%|█████████ | 1491/1654 [30:23<02:49,  1.04s/it]"
     ]
    },
    {
     "name": "stdout",
     "output_type": "stream",
     "text": [
      "Saved 한국국제협력단법 to 법령별 directory\n"
     ]
    },
    {
     "name": "stderr",
     "output_type": "stream",
     "text": [
      " 90%|█████████ | 1492/1654 [30:23<02:37,  1.03it/s]"
     ]
    },
    {
     "name": "stdout",
     "output_type": "stream",
     "text": [
      "No data found for 한국농수산대학교 설치법\n"
     ]
    },
    {
     "name": "stderr",
     "output_type": "stream",
     "text": [
      " 90%|█████████ | 1493/1654 [30:24<02:32,  1.06it/s]"
     ]
    },
    {
     "name": "stdout",
     "output_type": "stream",
     "text": [
      "No data found for 한국농수산식품유통공사법\n"
     ]
    },
    {
     "name": "stderr",
     "output_type": "stream",
     "text": [
      " 90%|█████████ | 1494/1654 [30:26<02:53,  1.08s/it]"
     ]
    },
    {
     "name": "stdout",
     "output_type": "stream",
     "text": [
      "Saved 한국농어촌공사 및 농지관리기금법 to 법령별 directory\n"
     ]
    },
    {
     "name": "stderr",
     "output_type": "stream",
     "text": [
      " 90%|█████████ | 1495/1654 [30:27<02:42,  1.02s/it]"
     ]
    },
    {
     "name": "stdout",
     "output_type": "stream",
     "text": [
      "No data found for 한국대학교육협의회법\n"
     ]
    },
    {
     "name": "stderr",
     "output_type": "stream",
     "text": [
      " 90%|█████████ | 1496/1654 [30:28<02:42,  1.03s/it]"
     ]
    },
    {
     "name": "stdout",
     "output_type": "stream",
     "text": [
      "No data found for 한국도로공사법\n"
     ]
    },
    {
     "name": "stderr",
     "output_type": "stream",
     "text": [
      " 91%|█████████ | 1497/1654 [30:29<02:35,  1.01it/s]"
     ]
    },
    {
     "name": "stdout",
     "output_type": "stream",
     "text": [
      "No data found for 한국도로교통공단법\n"
     ]
    },
    {
     "name": "stderr",
     "output_type": "stream",
     "text": [
      " 91%|█████████ | 1498/1654 [30:30<02:57,  1.14s/it]"
     ]
    },
    {
     "name": "stdout",
     "output_type": "stream",
     "text": [
      "Saved 한국마사회법 to 법령별 directory\n"
     ]
    },
    {
     "name": "stderr",
     "output_type": "stream",
     "text": [
      " 91%|█████████ | 1499/1654 [30:31<02:41,  1.04s/it]"
     ]
    },
    {
     "name": "stdout",
     "output_type": "stream",
     "text": [
      "No data found for 한국방송통신대학교 설립 및 운영에 관한 법률\n"
     ]
    },
    {
     "name": "stderr",
     "output_type": "stream",
     "text": [
      " 91%|█████████ | 1500/1654 [30:32<02:30,  1.03it/s]"
     ]
    },
    {
     "name": "stdout",
     "output_type": "stream",
     "text": [
      "No data found for 한국법학원 육성법\n"
     ]
    },
    {
     "name": "stderr",
     "output_type": "stream",
     "text": [
      " 91%|█████████ | 1501/1654 [30:33<02:34,  1.01s/it]"
     ]
    },
    {
     "name": "stdout",
     "output_type": "stream",
     "text": [
      "No data found for 한국보건복지인재원법\n"
     ]
    },
    {
     "name": "stderr",
     "output_type": "stream",
     "text": [
      " 91%|█████████ | 1502/1654 [30:34<02:29,  1.02it/s]"
     ]
    },
    {
     "name": "stdout",
     "output_type": "stream",
     "text": [
      "No data found for 한국보건산업진흥원법\n"
     ]
    },
    {
     "name": "stderr",
     "output_type": "stream",
     "text": [
      " 91%|█████████ | 1503/1654 [30:35<02:25,  1.04it/s]"
     ]
    },
    {
     "name": "stdout",
     "output_type": "stream",
     "text": [
      "No data found for 한국보건의료인국가시험원법\n"
     ]
    },
    {
     "name": "stderr",
     "output_type": "stream",
     "text": [
      " 91%|█████████ | 1504/1654 [30:36<02:27,  1.01it/s]"
     ]
    },
    {
     "name": "stdout",
     "output_type": "stream",
     "text": [
      "No data found for 한국보훈복지의료공단법\n"
     ]
    },
    {
     "name": "stderr",
     "output_type": "stream",
     "text": [
      " 91%|█████████ | 1505/1654 [30:37<02:23,  1.04it/s]"
     ]
    },
    {
     "name": "stdout",
     "output_type": "stream",
     "text": [
      "No data found for 한국부동산원법\n"
     ]
    },
    {
     "name": "stderr",
     "output_type": "stream",
     "text": [
      " 91%|█████████ | 1506/1654 [30:38<02:25,  1.02it/s]"
     ]
    },
    {
     "name": "stdout",
     "output_type": "stream",
     "text": [
      "Saved 한국사학진흥재단법 to 법령별 directory\n"
     ]
    },
    {
     "name": "stderr",
     "output_type": "stream",
     "text": [
      " 91%|█████████ | 1507/1654 [30:39<02:21,  1.04it/s]"
     ]
    },
    {
     "name": "stdout",
     "output_type": "stream",
     "text": [
      "No data found for 한국산업안전보건공단법\n"
     ]
    },
    {
     "name": "stderr",
     "output_type": "stream",
     "text": [
      " 91%|█████████ | 1508/1654 [30:40<02:23,  1.01it/s]"
     ]
    },
    {
     "name": "stdout",
     "output_type": "stream",
     "text": [
      "No data found for 한국산업은행법\n"
     ]
    },
    {
     "name": "stderr",
     "output_type": "stream",
     "text": [
      " 91%|█████████ | 1509/1654 [30:41<02:28,  1.03s/it]"
     ]
    },
    {
     "name": "stdout",
     "output_type": "stream",
     "text": [
      "No data found for 한국산업인력공단법\n"
     ]
    },
    {
     "name": "stderr",
     "output_type": "stream",
     "text": [
      " 91%|█████████▏| 1510/1654 [30:42<02:27,  1.02s/it]"
     ]
    },
    {
     "name": "stdout",
     "output_type": "stream",
     "text": [
      "No data found for 한국석유공사법\n"
     ]
    },
    {
     "name": "stderr",
     "output_type": "stream",
     "text": [
      " 91%|█████████▏| 1511/1654 [30:43<02:53,  1.21s/it]"
     ]
    },
    {
     "name": "stdout",
     "output_type": "stream",
     "text": [
      "No data found for 한국수자원공사법\n"
     ]
    },
    {
     "name": "stderr",
     "output_type": "stream",
     "text": [
      " 91%|█████████▏| 1512/1654 [30:44<02:48,  1.19s/it]"
     ]
    },
    {
     "name": "stdout",
     "output_type": "stream",
     "text": [
      "No data found for 한국수출입은행법\n"
     ]
    },
    {
     "name": "stderr",
     "output_type": "stream",
     "text": [
      " 91%|█████████▏| 1513/1654 [30:45<02:30,  1.07s/it]"
     ]
    },
    {
     "name": "stdout",
     "output_type": "stream",
     "text": [
      "Saved 한국수화언어법 to 법령별 directory\n"
     ]
    },
    {
     "name": "stderr",
     "output_type": "stream",
     "text": [
      " 92%|█████████▏| 1514/1654 [30:46<02:20,  1.00s/it]"
     ]
    },
    {
     "name": "stdout",
     "output_type": "stream",
     "text": [
      "No data found for 한국식품안전관리인증원의 설립 및 운영에 관한 법률\n"
     ]
    },
    {
     "name": "stderr",
     "output_type": "stream",
     "text": [
      " 92%|█████████▏| 1515/1654 [30:47<02:13,  1.04it/s]"
     ]
    },
    {
     "name": "stdout",
     "output_type": "stream",
     "text": [
      "No data found for 한국에너지공과대학교법\n"
     ]
    },
    {
     "name": "stderr",
     "output_type": "stream",
     "text": [
      " 92%|█████████▏| 1516/1654 [30:48<02:21,  1.02s/it]"
     ]
    },
    {
     "name": "stdout",
     "output_type": "stream",
     "text": [
      "No data found for 한국연구재단법\n"
     ]
    },
    {
     "name": "stderr",
     "output_type": "stream",
     "text": [
      " 92%|█████████▏| 1517/1654 [30:49<02:18,  1.01s/it]"
     ]
    },
    {
     "name": "stdout",
     "output_type": "stream",
     "text": [
      "No data found for 한국원자력안전기술원법\n"
     ]
    },
    {
     "name": "stderr",
     "output_type": "stream",
     "text": [
      " 92%|█████████▏| 1518/1654 [30:50<02:29,  1.10s/it]"
     ]
    },
    {
     "name": "stdout",
     "output_type": "stream",
     "text": [
      "No data found for 한국은행법\n"
     ]
    },
    {
     "name": "stderr",
     "output_type": "stream",
     "text": [
      " 92%|█████████▏| 1519/1654 [30:51<02:23,  1.06s/it]"
     ]
    },
    {
     "name": "stdout",
     "output_type": "stream",
     "text": [
      "No data found for 한국은행 통화안정증권법\n"
     ]
    },
    {
     "name": "stderr",
     "output_type": "stream",
     "text": [
      " 92%|█████████▏| 1520/1654 [30:53<02:24,  1.08s/it]"
     ]
    },
    {
     "name": "stdout",
     "output_type": "stream",
     "text": [
      "Saved 한국인 원자폭탄 피해자 지원을 위한 특별법 to 법령별 directory\n"
     ]
    },
    {
     "name": "stderr",
     "output_type": "stream",
     "text": [
      " 92%|█████████▏| 1521/1654 [30:54<02:29,  1.13s/it]"
     ]
    },
    {
     "name": "stdout",
     "output_type": "stream",
     "text": [
      "Saved 한국자산관리공사 설립 등에 관한 법률 to 법령별 directory\n"
     ]
    },
    {
     "name": "stderr",
     "output_type": "stream",
     "text": [
      " 92%|█████████▏| 1522/1654 [30:55<02:20,  1.06s/it]"
     ]
    },
    {
     "name": "stdout",
     "output_type": "stream",
     "text": [
      "No data found for 한국자유총연맹 육성에 관한 법률\n"
     ]
    },
    {
     "name": "stderr",
     "output_type": "stream",
     "text": [
      " 92%|█████████▏| 1523/1654 [30:56<02:26,  1.12s/it]"
     ]
    },
    {
     "name": "stdout",
     "output_type": "stream",
     "text": [
      "Saved 한국장학재단 설립 등에 관한 법률 to 법령별 directory\n"
     ]
    },
    {
     "name": "stderr",
     "output_type": "stream",
     "text": [
      " 92%|█████████▏| 1524/1654 [30:57<02:15,  1.04s/it]"
     ]
    },
    {
     "name": "stdout",
     "output_type": "stream",
     "text": [
      "No data found for 한국재정정보원법\n"
     ]
    },
    {
     "name": "stderr",
     "output_type": "stream",
     "text": [
      " 92%|█████████▏| 1525/1654 [30:58<02:08,  1.00it/s]"
     ]
    },
    {
     "name": "stdout",
     "output_type": "stream",
     "text": [
      "No data found for 한국전력공사법\n"
     ]
    },
    {
     "name": "stderr",
     "output_type": "stream",
     "text": [
      " 92%|█████████▏| 1526/1654 [30:59<02:07,  1.00it/s]"
     ]
    },
    {
     "name": "stdout",
     "output_type": "stream",
     "text": [
      "No data found for 한국전문대학교육협의회법\n"
     ]
    },
    {
     "name": "stderr",
     "output_type": "stream",
     "text": [
      " 92%|█████████▏| 1527/1654 [31:00<02:03,  1.03it/s]"
     ]
    },
    {
     "name": "stdout",
     "output_type": "stream",
     "text": [
      "No data found for 한국전통문화대학교 설치법\n"
     ]
    },
    {
     "name": "stderr",
     "output_type": "stream",
     "text": [
      " 92%|█████████▏| 1528/1654 [31:01<02:00,  1.04it/s]"
     ]
    },
    {
     "name": "stdout",
     "output_type": "stream",
     "text": [
      "No data found for 한국조폐공사법\n"
     ]
    },
    {
     "name": "stderr",
     "output_type": "stream",
     "text": [
      " 92%|█████████▏| 1529/1654 [31:02<02:12,  1.06s/it]"
     ]
    },
    {
     "name": "stdout",
     "output_type": "stream",
     "text": [
      "Saved 한국주택금융공사법 to 법령별 directory\n"
     ]
    },
    {
     "name": "stderr",
     "output_type": "stream",
     "text": [
      " 93%|█████████▎| 1530/1654 [31:03<02:04,  1.00s/it]"
     ]
    },
    {
     "name": "stdout",
     "output_type": "stream",
     "text": [
      "No data found for 한국지방재정공제회법\n"
     ]
    },
    {
     "name": "stderr",
     "output_type": "stream",
     "text": [
      " 93%|█████████▎| 1531/1654 [31:04<01:59,  1.03it/s]"
     ]
    },
    {
     "name": "stdout",
     "output_type": "stream",
     "text": [
      "No data found for 한국지방행정연구원 육성법\n"
     ]
    },
    {
     "name": "stderr",
     "output_type": "stream",
     "text": [
      " 93%|█████████▎| 1532/1654 [31:05<01:57,  1.04it/s]"
     ]
    },
    {
     "name": "stdout",
     "output_type": "stream",
     "text": [
      "Saved 한국진도개 보호ㆍ육성법 to 법령별 directory\n"
     ]
    },
    {
     "name": "stderr",
     "output_type": "stream",
     "text": [
      " 93%|█████████▎| 1533/1654 [31:06<02:02,  1.01s/it]"
     ]
    },
    {
     "name": "stdout",
     "output_type": "stream",
     "text": [
      "No data found for 한국철도공사법\n"
     ]
    },
    {
     "name": "stderr",
     "output_type": "stream",
     "text": [
      " 93%|█████████▎| 1534/1654 [31:06<01:53,  1.05it/s]"
     ]
    },
    {
     "name": "stdout",
     "output_type": "stream",
     "text": [
      "No data found for 한국청소년연맹 육성에 관한 법률\n"
     ]
    },
    {
     "name": "stderr",
     "output_type": "stream",
     "text": [
      " 93%|█████████▎| 1535/1654 [31:08<02:07,  1.07s/it]"
     ]
    },
    {
     "name": "stdout",
     "output_type": "stream",
     "text": [
      "No data found for 한국토지주택공사법\n"
     ]
    },
    {
     "name": "stderr",
     "output_type": "stream",
     "text": [
      " 93%|█████████▎| 1536/1654 [31:09<02:15,  1.15s/it]"
     ]
    },
    {
     "name": "stdout",
     "output_type": "stream",
     "text": [
      "Saved 한국투자공사법 to 법령별 directory\n"
     ]
    },
    {
     "name": "stderr",
     "output_type": "stream",
     "text": [
      " 93%|█████████▎| 1537/1654 [31:10<02:09,  1.10s/it]"
     ]
    },
    {
     "name": "stdout",
     "output_type": "stream",
     "text": [
      "No data found for 한국학중앙연구원 육성법\n"
     ]
    },
    {
     "name": "stderr",
     "output_type": "stream",
     "text": [
      " 93%|█████████▎| 1538/1654 [31:11<02:05,  1.08s/it]"
     ]
    },
    {
     "name": "stdout",
     "output_type": "stream",
     "text": [
      "No data found for 한국해양과학기술원법\n"
     ]
    },
    {
     "name": "stderr",
     "output_type": "stream",
     "text": [
      " 93%|█████████▎| 1539/1654 [31:12<02:02,  1.06s/it]"
     ]
    },
    {
     "name": "stdout",
     "output_type": "stream",
     "text": [
      "No data found for 한국해양교통안전공단법\n"
     ]
    },
    {
     "name": "stderr",
     "output_type": "stream",
     "text": [
      " 93%|█████████▎| 1540/1654 [31:13<02:06,  1.11s/it]"
     ]
    },
    {
     "name": "stdout",
     "output_type": "stream",
     "text": [
      "No data found for 한국해양소년단연맹 육성에 관한 법률\n"
     ]
    },
    {
     "name": "stderr",
     "output_type": "stream",
     "text": [
      " 93%|█████████▎| 1541/1654 [31:14<02:02,  1.09s/it]"
     ]
    },
    {
     "name": "stdout",
     "output_type": "stream",
     "text": [
      "No data found for 한국해양수산연수원법\n"
     ]
    },
    {
     "name": "stderr",
     "output_type": "stream",
     "text": [
      " 93%|█████████▎| 1542/1654 [31:16<02:03,  1.10s/it]"
     ]
    },
    {
     "name": "stdout",
     "output_type": "stream",
     "text": [
      "Saved 한국해양진흥공사법 to 법령별 directory\n"
     ]
    },
    {
     "name": "stderr",
     "output_type": "stream",
     "text": [
      " 93%|█████████▎| 1543/1654 [31:17<02:10,  1.18s/it]"
     ]
    },
    {
     "name": "stdout",
     "output_type": "stream",
     "text": [
      "No data found for 한국해운조합법\n"
     ]
    },
    {
     "name": "stderr",
     "output_type": "stream",
     "text": [
      " 93%|█████████▎| 1544/1654 [31:18<02:07,  1.16s/it]"
     ]
    },
    {
     "name": "stdout",
     "output_type": "stream",
     "text": [
      "No data found for 한국환경공단법\n"
     ]
    },
    {
     "name": "stderr",
     "output_type": "stream",
     "text": [
      " 93%|█████████▎| 1545/1654 [31:19<02:01,  1.12s/it]"
     ]
    },
    {
     "name": "stdout",
     "output_type": "stream",
     "text": [
      "No data found for 한국환경산업기술원법\n"
     ]
    },
    {
     "name": "stderr",
     "output_type": "stream",
     "text": [
      " 93%|█████████▎| 1546/1654 [31:20<02:05,  1.16s/it]"
     ]
    },
    {
     "name": "stdout",
     "output_type": "stream",
     "text": [
      "Saved 한부모가족지원법 to 법령별 directory\n"
     ]
    },
    {
     "name": "stderr",
     "output_type": "stream",
     "text": [
      " 94%|█████████▎| 1547/1654 [31:21<01:56,  1.09s/it]"
     ]
    },
    {
     "name": "stdout",
     "output_type": "stream",
     "text": [
      "Saved 한센인피해사건의 진상규명 및 피해자 지원 등에 관한 법률 to 법령별 directory\n"
     ]
    },
    {
     "name": "stderr",
     "output_type": "stream",
     "text": [
      " 94%|█████████▎| 1548/1654 [31:22<01:51,  1.05s/it]"
     ]
    },
    {
     "name": "stdout",
     "output_type": "stream",
     "text": [
      "Saved 한식진흥법 to 법령별 directory\n"
     ]
    },
    {
     "name": "stderr",
     "output_type": "stream",
     "text": [
      " 94%|█████████▎| 1549/1654 [31:23<01:56,  1.11s/it]"
     ]
    },
    {
     "name": "stdout",
     "output_type": "stream",
     "text": [
      "Saved 한ㆍ아프리카재단법 to 법령별 directory\n"
     ]
    },
    {
     "name": "stderr",
     "output_type": "stream",
     "text": [
      " 94%|█████████▎| 1550/1654 [31:25<01:56,  1.12s/it]"
     ]
    },
    {
     "name": "stdout",
     "output_type": "stream",
     "text": [
      "Saved 한옥 등 건축자산의 진흥에 관한 법률 to 법령별 directory\n"
     ]
    },
    {
     "name": "stderr",
     "output_type": "stream",
     "text": [
      " 94%|█████████▍| 1551/1654 [31:26<01:49,  1.06s/it]"
     ]
    },
    {
     "name": "stdout",
     "output_type": "stream",
     "text": [
      "Saved 한의약 육성법 to 법령별 directory\n"
     ]
    },
    {
     "name": "stderr",
     "output_type": "stream",
     "text": [
      " 94%|█████████▍| 1552/1654 [31:27<01:54,  1.12s/it]"
     ]
    },
    {
     "name": "stdout",
     "output_type": "stream",
     "text": [
      "Saved 할부거래에 관한 법률 to 법령별 directory\n"
     ]
    },
    {
     "name": "stderr",
     "output_type": "stream",
     "text": [
      " 94%|█████████▍| 1553/1654 [31:28<02:02,  1.21s/it]"
     ]
    },
    {
     "name": "stdout",
     "output_type": "stream",
     "text": [
      "Saved 항공보안법 to 법령별 directory\n"
     ]
    },
    {
     "name": "stderr",
     "output_type": "stream",
     "text": [
      " 94%|█████████▍| 1554/1654 [31:30<02:07,  1.27s/it]"
     ]
    },
    {
     "name": "stdout",
     "output_type": "stream",
     "text": [
      "Saved 항공사업법 to 법령별 directory\n"
     ]
    },
    {
     "name": "stderr",
     "output_type": "stream",
     "text": [
      " 94%|█████████▍| 1555/1654 [31:31<01:55,  1.16s/it]"
     ]
    },
    {
     "name": "stdout",
     "output_type": "stream",
     "text": [
      "No data found for 항공안전기술원법\n"
     ]
    },
    {
     "name": "stderr",
     "output_type": "stream",
     "text": [
      " 94%|█████████▍| 1556/1654 [31:33<02:29,  1.52s/it]"
     ]
    },
    {
     "name": "stdout",
     "output_type": "stream",
     "text": [
      "Saved 항공안전법 to 법령별 directory\n"
     ]
    },
    {
     "name": "stderr",
     "output_type": "stream",
     "text": [
      " 94%|█████████▍| 1557/1654 [31:34<02:28,  1.53s/it]"
     ]
    },
    {
     "name": "stdout",
     "output_type": "stream",
     "text": [
      "Saved 항공우주산업개발 촉진법 to 법령별 directory\n"
     ]
    },
    {
     "name": "stderr",
     "output_type": "stream",
     "text": [
      " 94%|█████████▍| 1558/1654 [31:35<02:12,  1.38s/it]"
     ]
    },
    {
     "name": "stdout",
     "output_type": "stream",
     "text": [
      "Saved 항공ㆍ철도 사고조사에 관한 법률 to 법령별 directory\n"
     ]
    },
    {
     "name": "stderr",
     "output_type": "stream",
     "text": [
      " 94%|█████████▍| 1559/1654 [31:37<02:06,  1.34s/it]"
     ]
    },
    {
     "name": "stdout",
     "output_type": "stream",
     "text": [
      "Saved 항로표지법 to 법령별 directory\n"
     ]
    },
    {
     "name": "stderr",
     "output_type": "stream",
     "text": [
      " 94%|█████████▍| 1560/1654 [31:38<02:03,  1.31s/it]"
     ]
    },
    {
     "name": "stdout",
     "output_type": "stream",
     "text": [
      "No data found for 항만공사법\n"
     ]
    },
    {
     "name": "stderr",
     "output_type": "stream",
     "text": [
      " 94%|█████████▍| 1561/1654 [31:40<02:08,  1.39s/it]"
     ]
    },
    {
     "name": "stdout",
     "output_type": "stream",
     "text": [
      "Saved 항만법 to 법령별 directory\n"
     ]
    },
    {
     "name": "stderr",
     "output_type": "stream",
     "text": [
      " 94%|█████████▍| 1562/1654 [31:40<01:52,  1.22s/it]"
     ]
    },
    {
     "name": "stdout",
     "output_type": "stream",
     "text": [
      "Saved 항만안전특별법 to 법령별 directory\n"
     ]
    },
    {
     "name": "stderr",
     "output_type": "stream",
     "text": [
      " 94%|█████████▍| 1563/1654 [31:42<01:52,  1.23s/it]"
     ]
    },
    {
     "name": "stdout",
     "output_type": "stream",
     "text": [
      "Saved 항만운송사업법 to 법령별 directory\n"
     ]
    },
    {
     "name": "stderr",
     "output_type": "stream",
     "text": [
      " 95%|█████████▍| 1564/1654 [31:42<01:37,  1.08s/it]"
     ]
    },
    {
     "name": "stdout",
     "output_type": "stream",
     "text": [
      "Saved 항만인력공급체제의 개편을 위한 지원특별법 to 법령별 directory\n"
     ]
    },
    {
     "name": "stderr",
     "output_type": "stream",
     "text": [
      " 95%|█████████▍| 1565/1654 [31:43<01:37,  1.09s/it]"
     ]
    },
    {
     "name": "stdout",
     "output_type": "stream",
     "text": [
      "Saved 항만 재개발 및 주변지역 발전에 관한 법률 to 법령별 directory\n"
     ]
    },
    {
     "name": "stderr",
     "output_type": "stream",
     "text": [
      " 95%|█████████▍| 1566/1654 [31:44<01:29,  1.01s/it]"
     ]
    },
    {
     "name": "stdout",
     "output_type": "stream",
     "text": [
      "Saved 항만지역등 대기질 개선에 관한 특별법 to 법령별 directory\n"
     ]
    },
    {
     "name": "stderr",
     "output_type": "stream",
     "text": [
      " 95%|█████████▍| 1567/1654 [31:45<01:25,  1.01it/s]"
     ]
    },
    {
     "name": "stdout",
     "output_type": "stream",
     "text": [
      "Saved 해사안전기본법 to 법령별 directory\n"
     ]
    },
    {
     "name": "stderr",
     "output_type": "stream",
     "text": [
      " 95%|█████████▍| 1568/1654 [31:47<01:42,  1.19s/it]"
     ]
    },
    {
     "name": "stdout",
     "output_type": "stream",
     "text": [
      "Saved 해상교통안전법 to 법령별 directory\n"
     ]
    },
    {
     "name": "stderr",
     "output_type": "stream",
     "text": [
      " 95%|█████████▍| 1569/1654 [31:48<01:39,  1.18s/it]"
     ]
    },
    {
     "name": "stdout",
     "output_type": "stream",
     "text": [
      "Saved 해수욕장의 이용 및 관리에 관한 법률 to 법령별 directory\n"
     ]
    },
    {
     "name": "stderr",
     "output_type": "stream",
     "text": [
      " 95%|█████████▍| 1570/1654 [31:49<01:30,  1.08s/it]"
     ]
    },
    {
     "name": "stdout",
     "output_type": "stream",
     "text": [
      "Saved 해양경비법 to 법령별 directory\n"
     ]
    },
    {
     "name": "stderr",
     "output_type": "stream",
     "text": [
      " 95%|█████████▍| 1571/1654 [31:50<01:30,  1.09s/it]"
     ]
    },
    {
     "name": "stdout",
     "output_type": "stream",
     "text": [
      "No data found for 해양경찰법\n"
     ]
    },
    {
     "name": "stderr",
     "output_type": "stream",
     "text": [
      " 95%|█████████▌| 1572/1654 [31:51<01:24,  1.03s/it]"
     ]
    },
    {
     "name": "stdout",
     "output_type": "stream",
     "text": [
      "Saved 해양경찰장비 도입 및 관리에 관한 법률 to 법령별 directory\n"
     ]
    },
    {
     "name": "stderr",
     "output_type": "stream",
     "text": [
      " 95%|█████████▌| 1573/1654 [31:52<01:37,  1.20s/it]"
     ]
    },
    {
     "name": "stdout",
     "output_type": "stream",
     "text": [
      "Saved 해양공간계획 및 관리에 관한 법률 to 법령별 directory\n"
     ]
    },
    {
     "name": "stderr",
     "output_type": "stream",
     "text": [
      " 95%|█████████▌| 1574/1654 [31:53<01:28,  1.11s/it]"
     ]
    },
    {
     "name": "stdout",
     "output_type": "stream",
     "text": [
      "Saved 해양과학조사법 to 법령별 directory\n"
     ]
    },
    {
     "name": "stderr",
     "output_type": "stream",
     "text": [
      " 95%|█████████▌| 1575/1654 [31:55<01:37,  1.24s/it]"
     ]
    },
    {
     "name": "stdout",
     "output_type": "stream",
     "text": [
      "Saved 해양교육 및 해양문화의 활성화에 관한 법률 to 법령별 directory\n"
     ]
    },
    {
     "name": "stderr",
     "output_type": "stream",
     "text": [
      " 95%|█████████▌| 1576/1654 [31:57<01:44,  1.35s/it]"
     ]
    },
    {
     "name": "stdout",
     "output_type": "stream",
     "text": [
      "Saved 해양사고의 조사 및 심판에 관한 법률 to 법령별 directory\n"
     ]
    },
    {
     "name": "stderr",
     "output_type": "stream",
     "text": [
      " 95%|█████████▌| 1577/1654 [31:58<01:39,  1.30s/it]"
     ]
    },
    {
     "name": "stdout",
     "output_type": "stream",
     "text": [
      "Saved 해양산업클러스터의 지정 및 육성 등에 관한 특별법 to 법령별 directory\n"
     ]
    },
    {
     "name": "stderr",
     "output_type": "stream",
     "text": [
      " 95%|█████████▌| 1578/1654 [31:59<01:42,  1.35s/it]"
     ]
    },
    {
     "name": "stdout",
     "output_type": "stream",
     "text": [
      "Saved 해양생태계의 보전 및 관리에 관한 법률 to 법령별 directory\n"
     ]
    },
    {
     "name": "stderr",
     "output_type": "stream",
     "text": [
      " 95%|█████████▌| 1579/1654 [32:00<01:39,  1.33s/it]"
     ]
    },
    {
     "name": "stdout",
     "output_type": "stream",
     "text": [
      "Saved 해양수산과학기술 육성법 to 법령별 directory\n"
     ]
    },
    {
     "name": "stderr",
     "output_type": "stream",
     "text": [
      " 96%|█████████▌| 1580/1654 [32:01<01:31,  1.24s/it]"
     ]
    },
    {
     "name": "stdout",
     "output_type": "stream",
     "text": [
      "Saved 해양수산발전 기본법 to 법령별 directory\n"
     ]
    },
    {
     "name": "stderr",
     "output_type": "stream",
     "text": [
      " 96%|█████████▌| 1581/1654 [32:03<01:30,  1.24s/it]"
     ]
    },
    {
     "name": "stdout",
     "output_type": "stream",
     "text": [
      "Saved 해양수산생명자원의 확보ㆍ관리 및 이용 등에 관한 법률 to 법령별 directory\n"
     ]
    },
    {
     "name": "stderr",
     "output_type": "stream",
     "text": [
      " 96%|█████████▌| 1582/1654 [32:04<01:31,  1.28s/it]"
     ]
    },
    {
     "name": "stdout",
     "output_type": "stream",
     "text": [
      "Saved 해양심층수의 개발 및 관리에 관한 법률 to 법령별 directory\n"
     ]
    },
    {
     "name": "stderr",
     "output_type": "stream",
     "text": [
      " 96%|█████████▌| 1583/1654 [32:05<01:31,  1.29s/it]"
     ]
    },
    {
     "name": "stdout",
     "output_type": "stream",
     "text": [
      "Saved 해양조사와 해양정보 활용에 관한 법률 to 법령별 directory\n"
     ]
    },
    {
     "name": "stderr",
     "output_type": "stream",
     "text": [
      " 96%|█████████▌| 1584/1654 [32:07<01:28,  1.27s/it]"
     ]
    },
    {
     "name": "stdout",
     "output_type": "stream",
     "text": [
      "Saved 해양치유자원의 관리 및 활용에 관한 법률 to 법령별 directory\n"
     ]
    },
    {
     "name": "stderr",
     "output_type": "stream",
     "text": [
      " 96%|█████████▌| 1585/1654 [32:08<01:24,  1.22s/it]"
     ]
    },
    {
     "name": "stdout",
     "output_type": "stream",
     "text": [
      "Saved 해양폐기물 및 해양오염퇴적물 관리법 to 법령별 directory\n"
     ]
    },
    {
     "name": "stderr",
     "output_type": "stream",
     "text": [
      " 96%|█████████▌| 1586/1654 [32:10<01:38,  1.45s/it]"
     ]
    },
    {
     "name": "stdout",
     "output_type": "stream",
     "text": [
      "Saved 해양환경관리법 to 법령별 directory\n"
     ]
    },
    {
     "name": "stderr",
     "output_type": "stream",
     "text": [
      " 96%|█████████▌| 1587/1654 [32:11<01:27,  1.30s/it]"
     ]
    },
    {
     "name": "stdout",
     "output_type": "stream",
     "text": [
      "Saved 해양환경 보전 및 활용에 관한 법률 to 법령별 directory\n"
     ]
    },
    {
     "name": "stderr",
     "output_type": "stream",
     "text": [
      " 96%|█████████▌| 1588/1654 [32:12<01:29,  1.35s/it]"
     ]
    },
    {
     "name": "stdout",
     "output_type": "stream",
     "text": [
      "Saved 해외건설 촉진법 to 법령별 directory\n"
     ]
    },
    {
     "name": "stderr",
     "output_type": "stream",
     "text": [
      " 96%|█████████▌| 1589/1654 [32:13<01:20,  1.24s/it]"
     ]
    },
    {
     "name": "stdout",
     "output_type": "stream",
     "text": [
      "Saved 해외긴급구호에 관한 법률 to 법령별 directory\n"
     ]
    },
    {
     "name": "stderr",
     "output_type": "stream",
     "text": [
      " 96%|█████████▌| 1590/1654 [32:15<01:33,  1.46s/it]"
     ]
    },
    {
     "name": "stdout",
     "output_type": "stream",
     "text": [
      "Saved 해외농업ㆍ산림자원 개발협력법 to 법령별 directory\n"
     ]
    },
    {
     "name": "stderr",
     "output_type": "stream",
     "text": [
      " 96%|█████████▌| 1591/1654 [32:16<01:23,  1.33s/it]"
     ]
    },
    {
     "name": "stdout",
     "output_type": "stream",
     "text": [
      "Saved 해외이주법 to 법령별 directory\n"
     ]
    },
    {
     "name": "stderr",
     "output_type": "stream",
     "text": [
      " 96%|█████████▋| 1592/1654 [32:17<01:20,  1.30s/it]"
     ]
    },
    {
     "name": "stdout",
     "output_type": "stream",
     "text": [
      "Saved 해외자원개발 사업법 to 법령별 directory\n"
     ]
    },
    {
     "name": "stderr",
     "output_type": "stream",
     "text": [
      " 96%|█████████▋| 1593/1654 [32:18<01:15,  1.25s/it]"
     ]
    },
    {
     "name": "stdout",
     "output_type": "stream",
     "text": [
      "Saved 해외진출기업의 국내복귀 지원에 관한 법률 to 법령별 directory\n"
     ]
    },
    {
     "name": "stderr",
     "output_type": "stream",
     "text": [
      " 96%|█████████▋| 1594/1654 [32:20<01:20,  1.35s/it]"
     ]
    },
    {
     "name": "stdout",
     "output_type": "stream",
     "text": [
      "Saved 해운법 to 법령별 directory\n"
     ]
    },
    {
     "name": "stderr",
     "output_type": "stream",
     "text": [
      " 96%|█████████▋| 1595/1654 [32:21<01:20,  1.36s/it]"
     ]
    },
    {
     "name": "stdout",
     "output_type": "stream",
     "text": [
      "Saved 해저광물자원 개발법 to 법령별 directory\n"
     ]
    },
    {
     "name": "stderr",
     "output_type": "stream",
     "text": [
      " 96%|█████████▋| 1596/1654 [32:22<01:11,  1.23s/it]"
     ]
    },
    {
     "name": "stdout",
     "output_type": "stream",
     "text": [
      "Saved 핵융합에너지 개발진흥법 to 법령별 directory\n"
     ]
    },
    {
     "name": "stderr",
     "output_type": "stream",
     "text": [
      " 97%|█████████▋| 1597/1654 [32:24<01:09,  1.23s/it]"
     ]
    },
    {
     "name": "stdout",
     "output_type": "stream",
     "text": [
      "Saved 행정규제기본법 to 법령별 directory\n"
     ]
    },
    {
     "name": "stderr",
     "output_type": "stream",
     "text": [
      " 97%|█████████▋| 1598/1654 [32:25<01:03,  1.13s/it]"
     ]
    },
    {
     "name": "stdout",
     "output_type": "stream",
     "text": [
      "No data found for 행정기관 소속 위원회의 설치ㆍ운영에 관한 법률\n"
     ]
    },
    {
     "name": "stderr",
     "output_type": "stream",
     "text": [
      " 97%|█████████▋| 1599/1654 [32:26<01:00,  1.10s/it]"
     ]
    },
    {
     "name": "stdout",
     "output_type": "stream",
     "text": [
      "Saved 행정기본법 to 법령별 directory\n"
     ]
    },
    {
     "name": "stderr",
     "output_type": "stream",
     "text": [
      " 97%|█████████▋| 1600/1654 [32:26<00:55,  1.03s/it]"
     ]
    },
    {
     "name": "stdout",
     "output_type": "stream",
     "text": [
      "No data found for 행정대집행법\n"
     ]
    },
    {
     "name": "stderr",
     "output_type": "stream",
     "text": [
      " 97%|█████████▋| 1601/1654 [32:28<00:55,  1.05s/it]"
     ]
    },
    {
     "name": "stdout",
     "output_type": "stream",
     "text": [
      "No data found for 행정사법\n"
     ]
    },
    {
     "name": "stderr",
     "output_type": "stream",
     "text": [
      " 97%|█████████▋| 1602/1654 [32:29<00:55,  1.07s/it]"
     ]
    },
    {
     "name": "stdout",
     "output_type": "stream",
     "text": [
      "Saved 행정소송법 to 법령별 directory\n"
     ]
    },
    {
     "name": "stderr",
     "output_type": "stream",
     "text": [
      " 97%|█████████▋| 1603/1654 [32:30<01:05,  1.28s/it]"
     ]
    },
    {
     "name": "stdout",
     "output_type": "stream",
     "text": [
      "Saved 행정심판법 to 법령별 directory\n"
     ]
    },
    {
     "name": "stderr",
     "output_type": "stream",
     "text": [
      " 97%|█████████▋| 1604/1654 [32:32<01:02,  1.25s/it]"
     ]
    },
    {
     "name": "stdout",
     "output_type": "stream",
     "text": [
      "Saved 행정절차법 to 법령별 directory\n"
     ]
    },
    {
     "name": "stderr",
     "output_type": "stream",
     "text": [
      " 97%|█████████▋| 1605/1654 [32:33<00:58,  1.19s/it]"
     ]
    },
    {
     "name": "stdout",
     "output_type": "stream",
     "text": [
      "Saved 행정조사기본법 to 법령별 directory\n"
     ]
    },
    {
     "name": "stderr",
     "output_type": "stream",
     "text": [
      " 97%|█████████▋| 1606/1654 [32:34<00:54,  1.14s/it]"
     ]
    },
    {
     "name": "stdout",
     "output_type": "stream",
     "text": [
      "Saved 행정중심복합도시 국립박물관단지 운영 및 지원에 관한 법률 to 법령별 directory\n"
     ]
    },
    {
     "name": "stderr",
     "output_type": "stream",
     "text": [
      " 97%|█████████▋| 1607/1654 [32:35<00:52,  1.12s/it]"
     ]
    },
    {
     "name": "stdout",
     "output_type": "stream",
     "text": [
      "Saved 향교재산법 to 법령별 directory\n"
     ]
    },
    {
     "name": "stderr",
     "output_type": "stream",
     "text": [
      " 97%|█████████▋| 1608/1654 [32:36<00:56,  1.23s/it]"
     ]
    },
    {
     "name": "stdout",
     "output_type": "stream",
     "text": [
      "Saved 허베이 스피리트호 유류오염사고 피해주민의 지원 및 해양환경의 복원 등에 관한 특별법 to 법령별 directory\n"
     ]
    },
    {
     "name": "stderr",
     "output_type": "stream",
     "text": [
      " 97%|█████████▋| 1609/1654 [32:38<01:04,  1.43s/it]"
     ]
    },
    {
     "name": "stdout",
     "output_type": "stream",
     "text": [
      "No data found for 헌법재판소법\n"
     ]
    },
    {
     "name": "stderr",
     "output_type": "stream",
     "text": [
      " 97%|█████████▋| 1610/1654 [32:39<01:00,  1.38s/it]"
     ]
    },
    {
     "name": "stdout",
     "output_type": "stream",
     "text": [
      "Saved 헌정질서 파괴범죄의 공소시효 등에 관한 특례법 to 법령별 directory\n"
     ]
    },
    {
     "name": "stderr",
     "output_type": "stream",
     "text": [
      " 97%|█████████▋| 1611/1654 [32:40<00:53,  1.24s/it]"
     ]
    },
    {
     "name": "stdout",
     "output_type": "stream",
     "text": [
      "Saved 헤이그 국제아동탈취협약 이행에 관한 법률 to 법령별 directory\n"
     ]
    },
    {
     "name": "stderr",
     "output_type": "stream",
     "text": [
      " 97%|█████████▋| 1612/1654 [32:42<00:56,  1.36s/it]"
     ]
    },
    {
     "name": "stdout",
     "output_type": "stream",
     "text": [
      "Saved 혁신도시 조성 및 발전에 관한 특별법 to 법령별 directory\n"
     ]
    },
    {
     "name": "stderr",
     "output_type": "stream",
     "text": [
      " 98%|█████████▊| 1613/1654 [32:43<00:52,  1.27s/it]"
     ]
    },
    {
     "name": "stdout",
     "output_type": "stream",
     "text": [
      "Saved 혈액관리법 to 법령별 directory\n"
     ]
    },
    {
     "name": "stderr",
     "output_type": "stream",
     "text": [
      " 98%|█████████▊| 1614/1654 [32:44<00:47,  1.19s/it]"
     ]
    },
    {
     "name": "stdout",
     "output_type": "stream",
     "text": [
      "Saved 협동연구개발촉진법 to 법령별 directory\n"
     ]
    },
    {
     "name": "stderr",
     "output_type": "stream",
     "text": [
      " 98%|█████████▊| 1615/1654 [32:46<01:01,  1.57s/it]"
     ]
    },
    {
     "name": "stdout",
     "output_type": "stream",
     "text": [
      "Saved 협동조합 기본법 to 법령별 directory\n"
     ]
    },
    {
     "name": "stderr",
     "output_type": "stream",
     "text": [
      " 98%|█████████▊| 1616/1654 [32:49<01:11,  1.87s/it]"
     ]
    },
    {
     "name": "stdout",
     "output_type": "stream",
     "text": [
      "No data found for 형법\n"
     ]
    },
    {
     "name": "stderr",
     "output_type": "stream",
     "text": [
      " 98%|█████████▊| 1617/1654 [32:50<00:59,  1.61s/it]"
     ]
    },
    {
     "name": "stdout",
     "output_type": "stream",
     "text": [
      "No data found for 형사보상 및 명예회복에 관한 법률\n"
     ]
    },
    {
     "name": "stderr",
     "output_type": "stream",
     "text": [
      " 98%|█████████▊| 1618/1654 [32:51<00:50,  1.40s/it]"
     ]
    },
    {
     "name": "stdout",
     "output_type": "stream",
     "text": [
      "Saved 형사사법절차 전자화 촉진법 to 법령별 directory\n"
     ]
    },
    {
     "name": "stderr",
     "output_type": "stream",
     "text": [
      " 98%|█████████▊| 1619/1654 [32:54<01:09,  1.99s/it]"
     ]
    },
    {
     "name": "stdout",
     "output_type": "stream",
     "text": [
      "No data found for 형사소송법\n"
     ]
    },
    {
     "name": "stderr",
     "output_type": "stream",
     "text": [
      " 98%|█████████▊| 1620/1654 [32:55<00:59,  1.74s/it]"
     ]
    },
    {
     "name": "stdout",
     "output_type": "stream",
     "text": [
      "No data found for 형사소송비용 등에 관한 법률\n"
     ]
    },
    {
     "name": "stderr",
     "output_type": "stream",
     "text": [
      " 98%|█████████▊| 1621/1654 [32:56<00:48,  1.48s/it]"
     ]
    },
    {
     "name": "stdout",
     "output_type": "stream",
     "text": [
      "Saved 형의 실효 등에 관한 법률 to 법령별 directory\n"
     ]
    },
    {
     "name": "stderr",
     "output_type": "stream",
     "text": [
      " 98%|█████████▊| 1622/1654 [32:58<00:48,  1.51s/it]"
     ]
    },
    {
     "name": "stdout",
     "output_type": "stream",
     "text": [
      "Saved 형의 집행 및 수용자의 처우에 관한 법률 to 법령별 directory\n"
     ]
    },
    {
     "name": "stderr",
     "output_type": "stream",
     "text": [
      " 98%|█████████▊| 1623/1654 [32:59<00:44,  1.43s/it]"
     ]
    },
    {
     "name": "stdout",
     "output_type": "stream",
     "text": [
      "Saved 호스피스ㆍ완화의료 및 임종과정에 있는 환자의 연명의료결정에 관한 법률 to 법령별 directory\n"
     ]
    },
    {
     "name": "stderr",
     "output_type": "stream",
     "text": [
      " 98%|█████████▊| 1624/1654 [33:00<00:37,  1.25s/it]"
     ]
    },
    {
     "name": "stdout",
     "output_type": "stream",
     "text": [
      "No data found for 혼인신고특례법\n"
     ]
    },
    {
     "name": "stderr",
     "output_type": "stream",
     "text": [
      " 98%|█████████▊| 1625/1654 [33:02<00:41,  1.42s/it]"
     ]
    },
    {
     "name": "stdout",
     "output_type": "stream",
     "text": [
      "Saved 화물자동차 운수사업법 to 법령별 directory\n"
     ]
    },
    {
     "name": "stderr",
     "output_type": "stream",
     "text": [
      " 98%|█████████▊| 1626/1654 [33:03<00:34,  1.25s/it]"
     ]
    },
    {
     "name": "stdout",
     "output_type": "stream",
     "text": [
      "Saved 화염병 사용 등의 처벌에 관한 법률 to 법령별 directory\n"
     ]
    },
    {
     "name": "stderr",
     "output_type": "stream",
     "text": [
      " 98%|█████████▊| 1627/1654 [33:04<00:33,  1.23s/it]"
     ]
    },
    {
     "name": "stdout",
     "output_type": "stream",
     "text": [
      "Saved 화장품법 to 법령별 directory\n"
     ]
    },
    {
     "name": "stderr",
     "output_type": "stream",
     "text": [
      " 98%|█████████▊| 1628/1654 [33:05<00:30,  1.18s/it]"
     ]
    },
    {
     "name": "stdout",
     "output_type": "stream",
     "text": [
      "Saved 화재로 인한 재해보상과 보험가입에 관한 법률 to 법령별 directory\n"
     ]
    },
    {
     "name": "stderr",
     "output_type": "stream",
     "text": [
      " 98%|█████████▊| 1629/1654 [33:06<00:29,  1.16s/it]"
     ]
    },
    {
     "name": "stdout",
     "output_type": "stream",
     "text": [
      "Saved 화재의 예방 및 안전관리에 관한 법률 to 법령별 directory\n"
     ]
    },
    {
     "name": "stderr",
     "output_type": "stream",
     "text": [
      " 99%|█████████▊| 1630/1654 [33:08<00:31,  1.30s/it]"
     ]
    },
    {
     "name": "stdout",
     "output_type": "stream",
     "text": [
      "Saved 화학무기ㆍ생물무기의 금지와 특정화학물질ㆍ생물작용제 등의 제조ㆍ수출입 규제 등에 관한 법률 to 법령별 directory\n"
     ]
    },
    {
     "name": "stderr",
     "output_type": "stream",
     "text": [
      " 99%|█████████▊| 1631/1654 [33:09<00:31,  1.37s/it]"
     ]
    },
    {
     "name": "stdout",
     "output_type": "stream",
     "text": [
      "Saved 화학물질관리법 to 법령별 directory\n"
     ]
    },
    {
     "name": "stderr",
     "output_type": "stream",
     "text": [
      " 99%|█████████▊| 1632/1654 [33:10<00:29,  1.34s/it]"
     ]
    },
    {
     "name": "stdout",
     "output_type": "stream",
     "text": [
      "Saved 화학물질의 등록 및 평가 등에 관한 법률 to 법령별 directory\n"
     ]
    },
    {
     "name": "stderr",
     "output_type": "stream",
     "text": [
      " 99%|█████████▊| 1633/1654 [33:11<00:25,  1.23s/it]"
     ]
    },
    {
     "name": "stdout",
     "output_type": "stream",
     "text": [
      "Saved 화훼산업 발전 및 화훼문화 진흥에 관한 법률 to 법령별 directory\n"
     ]
    },
    {
     "name": "stderr",
     "output_type": "stream",
     "text": [
      " 99%|█████████▉| 1634/1654 [33:12<00:23,  1.17s/it]"
     ]
    },
    {
     "name": "stdout",
     "output_type": "stream",
     "text": [
      "No data found for 환경개선비용 부담법\n"
     ]
    },
    {
     "name": "stderr",
     "output_type": "stream",
     "text": [
      " 99%|█████████▉| 1635/1654 [33:13<00:21,  1.13s/it]"
     ]
    },
    {
     "name": "stdout",
     "output_type": "stream",
     "text": [
      "Saved 환경교육의 활성화 및 지원에 관한 법률 to 법령별 directory\n"
     ]
    },
    {
     "name": "stderr",
     "output_type": "stream",
     "text": [
      " 99%|█████████▉| 1636/1654 [33:15<00:22,  1.25s/it]"
     ]
    },
    {
     "name": "stdout",
     "output_type": "stream",
     "text": [
      "Saved 환경기술 및 환경산업 지원법 to 법령별 directory\n"
     ]
    },
    {
     "name": "stderr",
     "output_type": "stream",
     "text": [
      " 99%|█████████▉| 1637/1654 [33:16<00:21,  1.28s/it]"
     ]
    },
    {
     "name": "stdout",
     "output_type": "stream",
     "text": [
      "Saved 환경범죄 등의 단속 및 가중처벌에 관한 법률 to 법령별 directory\n"
     ]
    },
    {
     "name": "stderr",
     "output_type": "stream",
     "text": [
      " 99%|█████████▉| 1638/1654 [33:18<00:23,  1.45s/it]"
     ]
    },
    {
     "name": "stdout",
     "output_type": "stream",
     "text": [
      "Saved 환경보건법 to 법령별 directory\n"
     ]
    },
    {
     "name": "stderr",
     "output_type": "stream",
     "text": [
      " 99%|█████████▉| 1639/1654 [33:19<00:20,  1.39s/it]"
     ]
    },
    {
     "name": "stdout",
     "output_type": "stream",
     "text": [
      "Saved 환경분야 시험ㆍ검사 등에 관한 법률 to 법령별 directory\n"
     ]
    },
    {
     "name": "stderr",
     "output_type": "stream",
     "text": [
      " 99%|█████████▉| 1640/1654 [33:21<00:19,  1.39s/it]"
     ]
    },
    {
     "name": "stdout",
     "output_type": "stream",
     "text": [
      "Saved 환경분쟁 조정법 to 법령별 directory\n"
     ]
    },
    {
     "name": "stderr",
     "output_type": "stream",
     "text": [
      " 99%|█████████▉| 1641/1654 [33:22<00:18,  1.42s/it]"
     ]
    },
    {
     "name": "stdout",
     "output_type": "stream",
     "text": [
      "Saved 환경영향평가법 to 법령별 directory\n"
     ]
    },
    {
     "name": "stderr",
     "output_type": "stream",
     "text": [
      " 99%|█████████▉| 1642/1654 [33:24<00:16,  1.39s/it]"
     ]
    },
    {
     "name": "stdout",
     "output_type": "stream",
     "text": [
      "Saved 환경오염시설의 통합관리에 관한 법률 to 법령별 directory\n"
     ]
    },
    {
     "name": "stderr",
     "output_type": "stream",
     "text": [
      " 99%|█████████▉| 1643/1654 [33:25<00:14,  1.35s/it]"
     ]
    },
    {
     "name": "stdout",
     "output_type": "stream",
     "text": [
      "Saved 환경오염피해 배상책임 및 구제에 관한 법률 to 법령별 directory\n"
     ]
    },
    {
     "name": "stderr",
     "output_type": "stream",
     "text": [
      " 99%|█████████▉| 1644/1654 [33:26<00:13,  1.36s/it]"
     ]
    },
    {
     "name": "stdout",
     "output_type": "stream",
     "text": [
      "Saved 환경정책기본법 to 법령별 directory\n"
     ]
    },
    {
     "name": "stderr",
     "output_type": "stream",
     "text": [
      " 99%|█████████▉| 1645/1654 [33:27<00:11,  1.29s/it]"
     ]
    },
    {
     "name": "stdout",
     "output_type": "stream",
     "text": [
      "Saved 환경친화적 산업구조로의 전환촉진에 관한 법률 to 법령별 directory\n"
     ]
    },
    {
     "name": "stderr",
     "output_type": "stream",
     "text": [
      "100%|█████████▉| 1646/1654 [33:28<00:09,  1.17s/it]"
     ]
    },
    {
     "name": "stdout",
     "output_type": "stream",
     "text": [
      "Saved 환경친화적 선박의 개발 및 보급 촉진에 관한 법률 to 법령별 directory\n"
     ]
    },
    {
     "name": "stderr",
     "output_type": "stream",
     "text": [
      "100%|█████████▉| 1647/1654 [33:29<00:07,  1.14s/it]"
     ]
    },
    {
     "name": "stdout",
     "output_type": "stream",
     "text": [
      "Saved 환경친화적 자동차의 개발 및 보급 촉진에 관한 법률 to 법령별 directory\n"
     ]
    },
    {
     "name": "stderr",
     "output_type": "stream",
     "text": [
      "100%|█████████▉| 1648/1654 [33:30<00:06,  1.10s/it]"
     ]
    },
    {
     "name": "stdout",
     "output_type": "stream",
     "text": [
      "Saved 환자안전법 to 법령별 directory\n"
     ]
    },
    {
     "name": "stderr",
     "output_type": "stream",
     "text": [
      "100%|█████████▉| 1649/1654 [33:31<00:05,  1.05s/it]"
     ]
    },
    {
     "name": "stdout",
     "output_type": "stream",
     "text": [
      "Saved 회계관계직원 등의 책임에 관한 법률 to 법령별 directory\n"
     ]
    },
    {
     "name": "stderr",
     "output_type": "stream",
     "text": [
      "100%|█████████▉| 1650/1654 [33:32<00:03,  1.00it/s]"
     ]
    },
    {
     "name": "stdout",
     "output_type": "stream",
     "text": [
      "No data found for 효행 장려 및 지원에 관한 법률\n"
     ]
    },
    {
     "name": "stderr",
     "output_type": "stream",
     "text": [
      "100%|█████████▉| 1651/1654 [33:33<00:03,  1.04s/it]"
     ]
    },
    {
     "name": "stdout",
     "output_type": "stream",
     "text": [
      "No data found for 후견등기에 관한 법률\n"
     ]
    },
    {
     "name": "stderr",
     "output_type": "stream",
     "text": [
      "100%|█████████▉| 1652/1654 [33:34<00:02,  1.00s/it]"
     ]
    },
    {
     "name": "stdout",
     "output_type": "stream",
     "text": [
      "Saved 후계농어업인 및 청년농어업인 육성ㆍ지원에 관한 법률 to 법령별 directory\n"
     ]
    },
    {
     "name": "stderr",
     "output_type": "stream",
     "text": [
      "100%|█████████▉| 1653/1654 [33:35<00:01,  1.01s/it]"
     ]
    },
    {
     "name": "stdout",
     "output_type": "stream",
     "text": [
      "Saved 후천성면역결핍증 예방법 to 법령별 directory\n"
     ]
    },
    {
     "name": "stderr",
     "output_type": "stream",
     "text": [
      "100%|██████████| 1654/1654 [33:36<00:00,  1.22s/it]"
     ]
    },
    {
     "name": "stdout",
     "output_type": "stream",
     "text": [
      "Saved 희귀질환관리법 to 법령별 directory\n",
      "Saved list of laws without content to '법령별/법령내용없음목록.csv'\n"
     ]
    },
    {
     "name": "stderr",
     "output_type": "stream",
     "text": [
      "\n"
     ]
    }
   ],
   "source": [
    "import pandas as pd\n",
    "import re\n",
    "import os\n",
    "import xml.etree.ElementTree as ET\n",
    "from urllib.request import urlopen\n",
    "from tqdm import trange\n",
    "\n",
    "# '법령별' 디렉터리 생성 확인\n",
    "if not os.path.exists('법령별2트'):\n",
    "    os.makedirs('법령별2트')\n",
    "\n",
    "# CSV 파일 로드\n",
    "law_list = pd.read_csv(\"법령목록_정보통합.csv\")\n",
    "\n",
    "def remove_tag(content):\n",
    "    return re.sub('<.*?>', '', content)\n",
    "\n",
    "all_rows = []  # 모든 법령의 모든 조문, 항, 호, 목 데이터를 저장할 리스트\n",
    "laws_without_content = []  # '조문내용'이 없는 법령을 저장할 리스트\n",
    "\n",
    "for i in trange(len(law_list)):\n",
    "    url = \"https://www.law.go.kr\"\n",
    "    link = law_list.loc[i]['법령상세링크'].replace('HTML', 'XML')\n",
    "    url += link\n",
    "    try:\n",
    "        response = urlopen(url).read()\n",
    "        root = ET.fromstring(response)\n",
    "    except Exception as e:\n",
    "        print(f\"Error fetching or parsing XML for {law_list.loc[i]['법령명한글']}: {e}\")\n",
    "        continue\n",
    "\n",
    "    법령명한글 = law_list.loc[i]['법령명한글'].strip()\n",
    "\n",
    "    법령_내용_있음 = False  # 법령에 '조문내용'이 있는지 여부를 추적\n",
    "\n",
    "    for n in range(len(root[1])):\n",
    "        # <조문제목>이 <![CDATA[ 정의 ]]>인지 확인\n",
    "        조문제목 = root[1][n].find('조문제목')\n",
    "        if 조문제목 is not None and remove_tag(조문제목.text.strip()) == '정의':\n",
    "            # 조문 공통 정보\n",
    "            조문정보 = {'법령명한글': 법령명한글}\n",
    "            for content in ['조문번호', '조문가지번호', '조문여부', '조문제목', '조문시행일자', '조문이동이전', '조문이동이후', '조문변경여부', '조문제개정유형', '조문내용', '조문참고자료']:\n",
    "                element = root[1][n].find(content)\n",
    "                if element is not None and element.text:\n",
    "                    조문정보[content] = remove_tag(element.text.strip())\n",
    "                else:\n",
    "                    조문정보[content] = ''\n",
    "\n",
    "            # '조문내용'이 있을 경우 저장\n",
    "            if 조문정보.get('조문내용', ''):\n",
    "                법령_내용_있음 = True\n",
    "                all_rows.append({**조문정보, '항': '', '호': '', '목': ''})\n",
    "\n",
    "            # 각 '항'을 독립된 행으로 처리\n",
    "            for depth1 in root[1][n].findall('항'):\n",
    "                항내용 = depth1.find('항내용').text.strip() if depth1.find('항내용') is not None else ''\n",
    "                if not any(d.get('항', '') == 항내용 for d in all_rows):\n",
    "                    항_row = {'항': 항내용, '호': '', '목': ''}\n",
    "                    all_rows.append({**조문정보, **항_row})\n",
    "\n",
    "                for depth2 in depth1.findall('호'):\n",
    "                    호내용 = depth2.find('호내용').text.strip() if depth2.find('호내용') is not None else ''\n",
    "                    if not any(d.get('호', '') == 호내용 and d.get('항', '') == 항내용 for d in all_rows):\n",
    "                        호_row = {'항': 항내용, '호': 호내용, '목': ''}\n",
    "                        all_rows.append({**조문정보, **호_row})\n",
    "\n",
    "                    for depth3 in depth2.findall('목'):\n",
    "                        목내용 = depth3.find('목내용').text.strip() if depth3.find('목내용') is not None else ''\n",
    "                        if not any(d.get('목', '') == 목내용 and d.get('호', '') == 호내용 and d.get('항', '') == 항내용 for d in all_rows):\n",
    "                            목_row = {'항': 항내용, '호': 호내용, '목': 목내용}\n",
    "                            all_rows.append({**조문정보, **목_row})\n",
    "\n",
    "    # '조문내용'이 없는 법령을 리스트에 추가\n",
    "    if not 법령_내용_있음:\n",
    "        laws_without_content.append(법령명한글)\n",
    "\n",
    "    # 각 법령의 모든 데이터 수집 후 CSV 파일로 저장\n",
    "    if all_rows:  # 데이터가 있을 경우에만 저장\n",
    "        file_name = 법령명한글\n",
    "        file_path = f'./법령별/{file_name}.csv'\n",
    "        pd.DataFrame(all_rows).to_csv(file_path, index=False, encoding='utf-8-sig',sep='\\t')\n",
    "        print(f\"Saved {file_name} to 법령별 directory\")\n",
    "    else:\n",
    "        print(f\"No data found for {법령명한글}\")\n",
    "\n",
    "    all_rows = []  # 다음 법령을 위해 리스트 초기화\n",
    "\n",
    "# '조문내용'이 없는 법령 목록을 CSV 파일로 저장\n",
    "if laws_without_content:\n",
    "    df_laws_without_content = pd.DataFrame(laws_without_content, columns=['법령명한글'])\n",
    "    df_laws_without_content.to_csv('./법령별/법령내용없음목록.csv', index=False, encoding='utf-8-sig')\n",
    "    print(\"Saved list of laws without content to '법령별/법령내용없음목록.csv'\")\n",
    "else:\n",
    "    print(\"All laws have content.\")\n"
   ]
  },
  {
   "cell_type": "markdown",
   "metadata": {},
   "source": [
    "출처 :https://velog.io/@suba0113/%EB%B2%95%EB%A0%B9-API-%EB%B6%88%EB%9F%AC%EC%98%A4%EA%B8%B0-%ED%81%AC%EB%A1%A4%EB%A7%81-%EC%BD%94%EB%93%9C"
   ]
  },
  {
   "cell_type": "code",
   "execution_count": null,
   "metadata": {},
   "outputs": [],
   "source": [
    "for file in os.listdir('./법령별2트'):\n",
    "    if file.startswith('._') and file.endswith('.csv'):\n",
    "        os.remove(os.path.join('./법령별2트', file))\n",
    "        print(f\"Removed unintended file: {file}\")"
   ]
  },
  {
   "cell_type": "markdown",
   "metadata": {},
   "source": [
    "### 동일한 행 내용이 반복적으로 등장하지 않도록 중복제거"
   ]
  },
  {
   "cell_type": "code",
   "execution_count": null,
   "metadata": {},
   "outputs": [
    {
     "name": "stdout",
     "output_type": "stream",
     "text": [
      "Processing : 법령별/10ㆍ27법난 피해자의 명예회복 등에 관한 법률.csv\n",
      "Updated file saved to: 법령별_중복제거/10ㆍ27법난 피해자의 명예회복 등에 관한 법률.csv\n",
      "Processing : 법령별/10ㆍ29이태원참사 피해자 권리보장과 진상규명 및 재발방지를 위한 특별법.csv\n",
      "Updated file saved to: 법령별_중복제거/10ㆍ29이태원참사 피해자 권리보장과 진상규명 및 재발방지를 위한 특별법.csv\n",
      "Processing : 법령별/112신고의 운영 및 처리에 관한 법률.csv\n",
      "Updated file saved to: 법령별_중복제거/112신고의 운영 및 처리에 관한 법률.csv\n",
      "Processing : 법령별/119구조ㆍ구급에 관한 법률.csv\n",
      "Updated file saved to: 법령별_중복제거/119구조ㆍ구급에 관한 법률.csv\n",
      "Processing : 법령별/119긴급신고의 관리 및 운영에 관한 법률.csv\n",
      "Updated file saved to: 법령별_중복제거/119긴급신고의 관리 및 운영에 관한 법률.csv\n",
      "Processing : 법령별/1959년 12월 31일 이전에 퇴직한 군인의 퇴직급여금지급에 관한 특별법.csv\n",
      "Updated file saved to: 법령별_중복제거/1959년 12월 31일 이전에 퇴직한 군인의 퇴직급여금지급에 관한 특별법.csv\n",
      "Processing : 법령별/1인 창조기업 육성에 관한 법률.csv\n",
      "Updated file saved to: 법령별_중복제거/1인 창조기업 육성에 관한 법률.csv\n",
      "Processing : 법령별/2018 평창 동계올림픽대회 및 동계패럴림픽대회 지원 등에 관한 특별법.csv\n",
      "Updated file saved to: 법령별_중복제거/2018 평창 동계올림픽대회 및 동계패럴림픽대회 지원 등에 관한 특별법.csv\n",
      "Processing : 법령별/2023 새만금 세계스카우트잼버리 지원 특별법.csv\n",
      "Updated file saved to: 법령별_중복제거/2023 새만금 세계스카우트잼버리 지원 특별법.csv\n",
      "Processing : 법령별/2023 순천만국제정원박람회 지원 및 사후활용에 관한 특별법.csv\n",
      "Updated file saved to: 법령별_중복제거/2023 순천만국제정원박람회 지원 및 사후활용에 관한 특별법.csv\n",
      "Processing : 법령별/30개월 이상 복무한 상등병 만기전역자의 특별진급을 위한 특별법.csv\n",
      "Updated file saved to: 법령별_중복제거/30개월 이상 복무한 상등병 만기전역자의 특별진급을 위한 특별법.csv\n",
      "Processing : 법령별/3ㆍ15의거 참여자의 명예회복 등에 관한 법률.csv\n",
      "Updated file saved to: 법령별_중복제거/3ㆍ15의거 참여자의 명예회복 등에 관한 법률.csv\n",
      "Processing : 법령별/4ㆍ16세월호참사 진상규명 및 안전사회 건설 등을 위한 특별법.csv\n",
      "Updated file saved to: 법령별_중복제거/4ㆍ16세월호참사 진상규명 및 안전사회 건설 등을 위한 특별법.csv\n",
      "Processing : 법령별/4ㆍ16세월호참사 피해구제 및 지원 등을 위한 특별법.csv\n",
      "Updated file saved to: 법령별_중복제거/4ㆍ16세월호참사 피해구제 및 지원 등을 위한 특별법.csv\n",
      "Processing : 법령별/5ㆍ18민주화운동 관련자 보상 등에 관한 법률.csv\n",
      "Updated file saved to: 법령별_중복제거/5ㆍ18민주화운동 관련자 보상 등에 관한 법률.csv\n",
      "Processing : 법령별/5ㆍ18민주화운동 등에 관한 특별법.csv\n",
      "Updated file saved to: 법령별_중복제거/5ㆍ18민주화운동 등에 관한 특별법.csv\n",
      "Processing : 법령별/5ㆍ18민주화운동 진상규명을 위한 특별법.csv\n",
      "Updated file saved to: 법령별_중복제거/5ㆍ18민주화운동 진상규명을 위한 특별법.csv\n",
      "Processing : 법령별/6ㆍ25 전사자유해의 발굴 등에 관한 법률.csv\n",
      "Updated file saved to: 법령별_중복제거/6ㆍ25 전사자유해의 발굴 등에 관한 법률.csv\n",
      "Processing : 법령별/6ㆍ25전쟁 무공훈장 수여 등에 관한 법률.csv\n",
      "Updated file saved to: 법령별_중복제거/6ㆍ25전쟁 무공훈장 수여 등에 관한 법률.csv\n",
      "Processing : 법령별/6ㆍ25전쟁 전후 적 지역에서 활동한 비정규군 공로자 보상에 관한 법률.csv\n",
      "Updated file saved to: 법령별_중복제거/6ㆍ25전쟁 전후 적 지역에서 활동한 비정규군 공로자 보상에 관한 법률.csv\n",
      "Processing : 법령별/가덕도신공항건설공단법.csv\n",
      "Updated file saved to: 법령별_중복제거/가덕도신공항건설공단법.csv\n",
      "Processing : 법령별/가덕도신공항 건설을 위한 특별법.csv\n",
      "Updated file saved to: 법령별_중복제거/가덕도신공항 건설을 위한 특별법.csv\n",
      "Processing : 법령별/가등기담보 등에 관한 법률.csv\n",
      "Updated file saved to: 법령별_중복제거/가등기담보 등에 관한 법률.csv\n",
      "Processing : 법령별/가맹사업거래의 공정화에 관한 법률.csv\n",
      "Updated file saved to: 법령별_중복제거/가맹사업거래의 공정화에 관한 법률.csv\n",
      "Processing : 법령별/가맹사업 진흥에 관한 법률.csv\n",
      "Updated file saved to: 법령별_중복제거/가맹사업 진흥에 관한 법률.csv\n",
      "Processing : 법령별/가사근로자의 고용개선 등에 관한 법률.csv\n",
      "Updated file saved to: 법령별_중복제거/가사근로자의 고용개선 등에 관한 법률.csv\n",
      "Processing : 법령별/가상융합산업 진흥법.csv\n",
      "Updated file saved to: 법령별_중복제거/가상융합산업 진흥법.csv\n",
      "Processing : 법령별/가상자산 이용자 보호 등에 관한 법률.csv\n",
      "Updated file saved to: 법령별_중복제거/가상자산 이용자 보호 등에 관한 법률.csv\n",
      "Processing : 법령별/가습기살균제 피해구제를 위한 특별법.csv\n",
      "Updated file saved to: 법령별_중복제거/가습기살균제 피해구제를 위한 특별법.csv\n",
      "Processing : 법령별/가정폭력방지 및 피해자보호 등에 관한 법률.csv\n",
      "Updated file saved to: 법령별_중복제거/가정폭력방지 및 피해자보호 등에 관한 법률.csv\n",
      "Processing : 법령별/가정폭력범죄의 처벌 등에 관한 특례법.csv\n",
      "Updated file saved to: 법령별_중복제거/가정폭력범죄의 처벌 등에 관한 특례법.csv\n",
      "Processing : 법령별/가족친화 사회환경의 조성 촉진에 관한 법률.csv\n",
      "Updated file saved to: 법령별_중복제거/가족친화 사회환경의 조성 촉진에 관한 법률.csv\n",
      "Processing : 법령별/가축 및 축산물 이력관리에 관한 법률.csv\n",
      "Updated file saved to: 법령별_중복제거/가축 및 축산물 이력관리에 관한 법률.csv\n",
      "Processing : 법령별/가축분뇨의 관리 및 이용에 관한 법률.csv\n",
      "Updated file saved to: 법령별_중복제거/가축분뇨의 관리 및 이용에 관한 법률.csv\n",
      "Processing : 법령별/가축전염병 예방법.csv\n",
      "Updated file saved to: 법령별_중복제거/가축전염병 예방법.csv\n",
      "Processing : 법령별/간선급행버스체계의 건설 및 운영에 관한 특별법.csv\n",
      "Updated file saved to: 법령별_중복제거/간선급행버스체계의 건설 및 운영에 관한 특별법.csv\n",
      "Processing : 법령별/간척지의 농어업적 이용 및 관리에 관한 법률.csv\n",
      "Updated file saved to: 법령별_중복제거/간척지의 농어업적 이용 및 관리에 관한 법률.csv\n",
      "Processing : 법령별/감염병의 예방 및 관리에 관한 법률.csv\n",
      "Updated file saved to: 법령별_중복제거/감염병의 예방 및 관리에 관한 법률.csv\n",
      "Processing : 법령별/감정평가 및 감정평가사에 관한 법률.csv\n",
      "Updated file saved to: 법령별_중복제거/감정평가 및 감정평가사에 관한 법률.csv\n",
      "Processing : 법령별/강원특별자치도 설치 및 미래산업글로벌도시 조성을 위한 특별법.csv\n",
      "Updated file saved to: 법령별_중복제거/강원특별자치도 설치 및 미래산업글로벌도시 조성을 위한 특별법.csv\n",
      "Processing : 법령별/개발도상국 산림을 통한 온실가스 배출 감축 및 탄소 축적 증진 지원에 관한 법률.csv\n",
      "Updated file saved to: 법령별_중복제거/개발도상국 산림을 통한 온실가스 배출 감축 및 탄소 축적 증진 지원에 관한 법률.csv\n",
      "Processing : 법령별/개발이익 환수에 관한 법률.csv\n",
      "Updated file saved to: 법령별_중복제거/개발이익 환수에 관한 법률.csv\n",
      "Processing : 법령별/개성공업지구 지원에 관한 법률.csv\n",
      "Updated file saved to: 법령별_중복제거/개성공업지구 지원에 관한 법률.csv\n",
      "Processing : 법령별/개의 식용 목적의 사육ㆍ도살 및 유통 등 종식에 관한 특별법.csv\n",
      "Updated file saved to: 법령별_중복제거/개의 식용 목적의 사육ㆍ도살 및 유통 등 종식에 관한 특별법.csv\n",
      "Processing : 법령별/개인정보 보호법.csv\n",
      "Updated file saved to: 법령별_중복제거/개인정보 보호법.csv\n",
      "Processing : 법령별/갯벌 및 그 주변지역의 지속가능한 관리와 복원에 관한 법률.csv\n",
      "Updated file saved to: 법령별_중복제거/갯벌 및 그 주변지역의 지속가능한 관리와 복원에 관한 법률.csv\n",
      "Processing : 법령별/거창사건등 관련자의 명예회복에 관한 특별조치법.csv\n",
      "Updated file saved to: 법령별_중복제거/거창사건등 관련자의 명예회복에 관한 특별조치법.csv\n",
      "Processing : 법령별/건강가정기본법.csv\n",
      "Updated file saved to: 법령별_중복제거/건강가정기본법.csv\n",
      "Processing : 법령별/건강검진기본법.csv\n",
      "Updated file saved to: 법령별_중복제거/건강검진기본법.csv\n",
      "Processing : 법령별/건강기능식품에 관한 법률.csv\n",
      "Updated file saved to: 법령별_중복제거/건강기능식품에 관한 법률.csv\n",
      "Processing : 법령별/건설근로자의 고용개선 등에 관한 법률.csv\n",
      "Updated file saved to: 법령별_중복제거/건설근로자의 고용개선 등에 관한 법률.csv\n",
      "Processing : 법령별/건설기술 진흥법.csv\n",
      "Updated file saved to: 법령별_중복제거/건설기술 진흥법.csv\n",
      "Processing : 법령별/건설산업기본법.csv\n",
      "Updated file saved to: 법령별_중복제거/건설산업기본법.csv\n",
      "Processing : 법령별/건설폐기물의 재활용촉진에 관한 법률.csv\n",
      "Updated file saved to: 법령별_중복제거/건설폐기물의 재활용촉진에 관한 법률.csv\n",
      "Processing : 법령별/건축기본법.csv\n",
      "Updated file saved to: 법령별_중복제거/건축기본법.csv\n",
      "Processing : 법령별/건축물관리법.csv\n",
      "Updated file saved to: 법령별_중복제거/건축물관리법.csv\n",
      "Processing : 법령별/건축물의 분양에 관한 법률.csv\n",
      "Updated file saved to: 법령별_중복제거/건축물의 분양에 관한 법률.csv\n",
      "Processing : 법령별/건축법.csv\n",
      "Updated file saved to: 법령별_중복제거/건축법.csv\n",
      "Processing : 법령별/건축사법.csv\n",
      "Updated file saved to: 법령별_중복제거/건축사법.csv\n",
      "Processing : 법령별/건축서비스산업 진흥법.csv\n",
      "Updated file saved to: 법령별_중복제거/건축서비스산업 진흥법.csv\n",
      "Processing : 법령별/검역법.csv\n",
      "Updated file saved to: 법령별_중복제거/검역법.csv\n",
      "Processing : 법령별/게임산업진흥에 관한 법률.csv\n",
      "Updated file saved to: 법령별_중복제거/게임산업진흥에 관한 법률.csv\n",
      "Processing : 법령별/겨레말큰사전남북공동편찬사업회법.csv\n",
      "Updated file saved to: 법령별_중복제거/겨레말큰사전남북공동편찬사업회법.csv\n",
      "Processing : 법령별/결핵예방법.csv\n",
      "Updated file saved to: 법령별_중복제거/결핵예방법.csv\n",
      "Processing : 법령별/결혼중개업의 관리에 관한 법률.csv\n",
      "Updated file saved to: 법령별_중복제거/결혼중개업의 관리에 관한 법률.csv\n",
      "Processing : 법령별/경륜ㆍ경정법.csv\n",
      "Updated file saved to: 법령별_중복제거/경륜ㆍ경정법.csv\n",
      "Processing : 법령별/경범죄 처벌법.csv\n",
      "Updated file saved to: 법령별_중복제거/경범죄 처벌법.csv\n",
      "Processing : 법령별/경비교도대 폐지에 따른 보상 등에 관한 법률.csv\n",
      "Updated file saved to: 법령별_중복제거/경비교도대 폐지에 따른 보상 등에 관한 법률.csv\n",
      "Processing : 법령별/경비업법.csv\n",
      "Updated file saved to: 법령별_중복제거/경비업법.csv\n",
      "Processing : 법령별/경제안보를 위한 공급망 안정화 지원 기본법.csv\n",
      "Updated file saved to: 법령별_중복제거/경제안보를 위한 공급망 안정화 지원 기본법.csv\n",
      "Processing : 법령별/경제자유구역 및 제주국제자유도시의 외국교육기관 설립ㆍ운영에 관한 특별법.csv\n",
      "Updated file saved to: 법령별_중복제거/경제자유구역 및 제주국제자유도시의 외국교육기관 설립ㆍ운영에 관한 특별법.csv\n",
      "Processing : 법령별/경제자유구역의 지정 및 운영에 관한 특별법.csv\n",
      "Updated file saved to: 법령별_중복제거/경제자유구역의 지정 및 운영에 관한 특별법.csv\n",
      "Processing : 법령별/경찰공무원법.csv\n",
      "Updated file saved to: 법령별_중복제거/경찰공무원법.csv\n",
      "Processing : 법령별/경찰공무원 보건안전 및 복지 기본법.csv\n",
      "Updated file saved to: 법령별_중복제거/경찰공무원 보건안전 및 복지 기본법.csv\n",
      "Processing : 법령별/경찰제복 및 경찰장비의 규제에 관한 법률.csv\n",
      "Updated file saved to: 법령별_중복제거/경찰제복 및 경찰장비의 규제에 관한 법률.csv\n",
      "Processing : 법령별/계량에 관한 법률.csv\n",
      "Updated file saved to: 법령별_중복제거/계량에 관한 법률.csv\n",
      "Processing : 법령별/고도 보존 및 육성에 관한 특별법.csv\n",
      "Updated file saved to: 법령별_중복제거/고도 보존 및 육성에 관한 특별법.csv\n",
      "Processing : 법령별/고독사 예방 및 관리에 관한 법률.csv\n",
      "Updated file saved to: 법령별_중복제거/고독사 예방 및 관리에 관한 법률.csv\n",
      "Processing : 법령별/고등ㆍ평생교육지원특별회계법.csv\n",
      "Updated file saved to: 법령별_중복제거/고등ㆍ평생교육지원특별회계법.csv\n",
      "Processing : 법령별/고려인동포 합법적 체류자격 취득 및 정착 지원을 위한 특별법.csv\n",
      "Updated file saved to: 법령별_중복제거/고려인동포 합법적 체류자격 취득 및 정착 지원을 위한 특별법.csv\n",
      "Processing : 법령별/고령친화산업 진흥법.csv\n",
      "Updated file saved to: 법령별_중복제거/고령친화산업 진흥법.csv\n",
      "Processing : 법령별/고압가스 안전관리법.csv\n",
      "Updated file saved to: 법령별_중복제거/고압가스 안전관리법.csv\n",
      "Processing : 법령별/고엽제후유의증 등 환자지원 및 단체설립에 관한 법률.csv\n",
      "Updated file saved to: 법령별_중복제거/고엽제후유의증 등 환자지원 및 단체설립에 관한 법률.csv\n",
      "Processing : 법령별/고용보험 및 산업재해보상보험의 보험료징수 등에 관한 법률.csv\n",
      "Updated file saved to: 법령별_중복제거/고용보험 및 산업재해보상보험의 보험료징수 등에 관한 법률.csv\n",
      "Processing : 법령별/고용보험법.csv\n",
      "Updated file saved to: 법령별_중복제거/고용보험법.csv\n",
      "Processing : 법령별/고용상 연령차별금지 및 고령자고용촉진에 관한 법률.csv\n",
      "Updated file saved to: 법령별_중복제거/고용상 연령차별금지 및 고령자고용촉진에 관한 법률.csv\n",
      "Processing : 법령별/고용정책 기본법.csv\n",
      "Updated file saved to: 법령별_중복제거/고용정책 기본법.csv\n",
      "Processing : 법령별/고위공직자범죄수사처 설치 및 운영에 관한 법률.csv\n",
      "Updated file saved to: 법령별_중복제거/고위공직자범죄수사처 설치 및 운영에 관한 법률.csv\n",
      "Processing : 법령별/고향사랑 기부금에 관한 법률.csv\n",
      "Updated file saved to: 법령별_중복제거/고향사랑 기부금에 관한 법률.csv\n",
      "Processing : 법령별/곤충산업의 육성 및 지원에 관한 법률.csv\n",
      "Updated file saved to: 법령별_중복제거/곤충산업의 육성 및 지원에 관한 법률.csv\n",
      "Processing : 법령별/골재채취법.csv\n",
      "Updated file saved to: 법령별_중복제거/골재채취법.csv\n",
      "Processing : 법령별/공간정보산업 진흥법.csv\n",
      "Updated file saved to: 법령별_중복제거/공간정보산업 진흥법.csv\n",
      "Processing : 법령별/공간정보의 구축 및 관리 등에 관한 법률.csv\n",
      "Updated file saved to: 법령별_중복제거/공간정보의 구축 및 관리 등에 관한 법률.csv\n",
      "Processing : 법령별/공공감사에 관한 법률.csv\n",
      "Updated file saved to: 법령별_중복제거/공공감사에 관한 법률.csv\n",
      "Processing : 법령별/공공기관의 정보공개에 관한 법률.csv\n",
      "Updated file saved to: 법령별_중복제거/공공기관의 정보공개에 관한 법률.csv\n",
      "Processing : 법령별/공공기록물 관리에 관한 법률.csv\n",
      "Updated file saved to: 법령별_중복제거/공공기록물 관리에 관한 법률.csv\n",
      "Processing : 법령별/공공단체등 위탁선거에 관한 법률.csv\n",
      "Updated file saved to: 법령별_중복제거/공공단체등 위탁선거에 관한 법률.csv\n",
      "Processing : 법령별/공공데이터의 제공 및 이용 활성화에 관한 법률.csv\n",
      "Updated file saved to: 법령별_중복제거/공공데이터의 제공 및 이용 활성화에 관한 법률.csv\n",
      "Processing : 법령별/공공디자인의 진흥에 관한 법률.csv\n",
      "Updated file saved to: 법령별_중복제거/공공디자인의 진흥에 관한 법률.csv\n",
      "Processing : 법령별/공공보건의료에 관한 법률.csv\n",
      "Updated file saved to: 법령별_중복제거/공공보건의료에 관한 법률.csv\n",
      "Processing : 법령별/공공외교법.csv\n",
      "Updated file saved to: 법령별_중복제거/공공외교법.csv\n",
      "Processing : 법령별/공공자금관리기금법.csv\n",
      "Updated file saved to: 법령별_중복제거/공공자금관리기금법.csv\n",
      "Processing : 법령별/공공재정 부정청구 금지 및 부정이익 환수 등에 관한 법률.csv\n",
      "Updated file saved to: 법령별_중복제거/공공재정 부정청구 금지 및 부정이익 환수 등에 관한 법률.csv\n",
      "Processing : 법령별/공공주택 특별법.csv\n",
      "Updated file saved to: 법령별_중복제거/공공주택 특별법.csv\n",
      "Processing : 법령별/공공차관의 도입 및 관리에 관한 법률.csv\n",
      "Updated file saved to: 법령별_중복제거/공공차관의 도입 및 관리에 관한 법률.csv\n",
      "Processing : 법령별/공공토지의 비축에 관한 법률.csv\n",
      "Updated file saved to: 법령별_중복제거/공공토지의 비축에 관한 법률.csv\n",
      "Processing : 법령별/공공폐자원관리시설의 설치ㆍ운영 및 주민지원 등에 관한 특별법.csv\n",
      "Updated file saved to: 법령별_중복제거/공공폐자원관리시설의 설치ㆍ운영 및 주민지원 등에 관한 특별법.csv\n",
      "Processing : 법령별/공교육 정상화 촉진 및 선행교육 규제에 관한 특별법.csv\n",
      "Updated file saved to: 법령별_중복제거/공교육 정상화 촉진 및 선행교육 규제에 관한 특별법.csv\n",
      "Processing : 법령별/공동주택관리법.csv\n",
      "Updated file saved to: 법령별_중복제거/공동주택관리법.csv\n",
      "Processing : 법령별/공무원 노동조합 관련 해직공무원등의 복직 등에 관한 특별법.csv\n",
      "Updated file saved to: 법령별_중복제거/공무원 노동조합 관련 해직공무원등의 복직 등에 관한 특별법.csv\n",
      "Processing : 법령별/공무원범죄에 관한 몰수 특례법.csv\n",
      "Updated file saved to: 법령별_중복제거/공무원범죄에 관한 몰수 특례법.csv\n",
      "Processing : 법령별/공무원연금법.csv\n",
      "Updated file saved to: 법령별_중복제거/공무원연금법.csv\n",
      "Processing : 법령별/공무원의 노동조합 설립 및 운영 등에 관한 법률.csv\n",
      "Updated file saved to: 법령별_중복제거/공무원의 노동조합 설립 및 운영 등에 관한 법률.csv\n",
      "Processing : 법령별/공무원 재해보상법.csv\n",
      "Updated file saved to: 법령별_중복제거/공무원 재해보상법.csv\n",
      "Processing : 법령별/공사중단 장기방치 건축물의 정비 등에 관한 특별조치법.csv\n",
      "Updated file saved to: 법령별_중복제거/공사중단 장기방치 건축물의 정비 등에 관한 특별조치법.csv\n",
      "Processing : 법령별/공연법.csv\n",
      "Updated file saved to: 법령별_중복제거/공연법.csv\n",
      "Processing : 법령별/공예문화산업 진흥법.csv\n",
      "Updated file saved to: 법령별_중복제거/공예문화산업 진흥법.csv\n",
      "Processing : 법령별/공유수면 관리 및 매립에 관한 법률.csv\n",
      "Updated file saved to: 법령별_중복제거/공유수면 관리 및 매립에 관한 법률.csv\n",
      "Processing : 법령별/공유재산 및 물품 관리법.csv\n",
      "Updated file saved to: 법령별_중복제거/공유재산 및 물품 관리법.csv\n",
      "Processing : 법령별/공익법무관에 관한 법률.csv\n",
      "Updated file saved to: 법령별_중복제거/공익법무관에 관한 법률.csv\n",
      "Processing : 법령별/공익사업을 위한 토지 등의 취득 및 보상에 관한 법률.csv\n",
      "Updated file saved to: 법령별_중복제거/공익사업을 위한 토지 등의 취득 및 보상에 관한 법률.csv\n",
      "Processing : 법령별/공익신고자 보호법.csv\n",
      "Updated file saved to: 법령별_중복제거/공익신고자 보호법.csv\n",
      "Processing : 법령별/공인중개사법.csv\n",
      "Updated file saved to: 법령별_중복제거/공인중개사법.csv\n",
      "Processing : 법령별/공인회계사법.csv\n",
      "Updated file saved to: 법령별_중복제거/공인회계사법.csv\n",
      "Processing : 법령별/공장 및 광업재단 저당법.csv\n",
      "Updated file saved to: 법령별_중복제거/공장 및 광업재단 저당법.csv\n",
      "Processing : 법령별/공적자금관리 특별법.csv\n",
      "Updated file saved to: 법령별_중복제거/공적자금관리 특별법.csv\n",
      "Processing : 법령별/공적자금상환기금법.csv\n",
      "Updated file saved to: 법령별_중복제거/공적자금상환기금법.csv\n",
      "Processing : 법령별/공중 등 협박목적 및 대량살상무기확산을 위한 자금조달행위의 금지에 관한 법률.csv\n",
      "Updated file saved to: 법령별_중복제거/공중 등 협박목적 및 대량살상무기확산을 위한 자금조달행위의 금지에 관한 법률.csv\n",
      "Processing : 법령별/공중방역수의사에 관한 법률.csv\n",
      "Updated file saved to: 법령별_중복제거/공중방역수의사에 관한 법률.csv\n",
      "Processing : 법령별/공중보건 위기대응 의료제품의 개발 촉진 및 긴급 공급을 위한 특별법.csv\n",
      "Updated file saved to: 법령별_중복제거/공중보건 위기대응 의료제품의 개발 촉진 및 긴급 공급을 위한 특별법.csv\n",
      "Processing : 법령별/공중위생관리법.csv\n",
      "Updated file saved to: 법령별_중복제거/공중위생관리법.csv\n",
      "Processing : 법령별/공중화장실 등에 관한 법률.csv\n",
      "Updated file saved to: 법령별_중복제거/공중화장실 등에 관한 법률.csv\n",
      "Processing : 법령별/공직자의 이해충돌 방지법.csv\n",
      "Updated file saved to: 법령별_중복제거/공직자의 이해충돌 방지법.csv\n",
      "Processing : 법령별/공항소음 방지 및 소음대책지역 지원에 관한 법률.csv\n",
      "Updated file saved to: 법령별_중복제거/공항소음 방지 및 소음대책지역 지원에 관한 법률.csv\n",
      "Processing : 법령별/공항시설법.csv\n",
      "Updated file saved to: 법령별_중복제거/공항시설법.csv\n",
      "Processing : 법령별/과세자료의 제출 및 관리에 관한 법률.csv\n",
      "Updated file saved to: 법령별_중복제거/과세자료의 제출 및 관리에 관한 법률.csv\n",
      "Processing : 법령별/과학관의 설립ㆍ운영 및 육성에 관한 법률.csv\n",
      "Updated file saved to: 법령별_중복제거/과학관의 설립ㆍ운영 및 육성에 관한 법률.csv\n",
      "Processing : 법령별/과학기술분야 정부출연연구기관 등의 설립ㆍ운영 및 육성에 관한 법률.csv\n",
      "Updated file saved to: 법령별_중복제거/과학기술분야 정부출연연구기관 등의 설립ㆍ운영 및 육성에 관한 법률.csv\n",
      "Processing : 법령별/과학기술유공자 예우 및 지원에 관한 법률.csv\n",
      "Updated file saved to: 법령별_중복제거/과학기술유공자 예우 및 지원에 관한 법률.csv\n",
      "Processing : 법령별/과학ㆍ수학ㆍ정보 교육 진흥법.csv\n",
      "Updated file saved to: 법령별_중복제거/과학ㆍ수학ㆍ정보 교육 진흥법.csv\n",
      "Processing : 법령별/관광진흥법.csv\n",
      "Updated file saved to: 법령별_중복제거/관광진흥법.csv\n",
      "Processing : 법령별/관상어산업의 육성 및 지원에 관한 법률.csv\n",
      "Updated file saved to: 법령별_중복제거/관상어산업의 육성 및 지원에 관한 법률.csv\n",
      "Processing : 법령별/관세법.csv\n",
      "Updated file saved to: 법령별_중복제거/관세법.csv\n",
      "Processing : 법령별/광산안전법.csv\n",
      "Updated file saved to: 법령별_중복제거/광산안전법.csv\n",
      "Processing : 법령별/광산피해의 방지 및 복구에 관한 법률.csv\n",
      "Updated file saved to: 법령별_중복제거/광산피해의 방지 및 복구에 관한 법률.csv\n",
      "Processing : 법령별/광업법.csv\n",
      "Updated file saved to: 법령별_중복제거/광업법.csv\n",
      "Processing : 법령별/광주 군 공항 이전 및 종전부지 개발 등에 관한 특별법.csv\n",
      "Updated file saved to: 법령별_중복제거/광주 군 공항 이전 및 종전부지 개발 등에 관한 특별법.csv\n",
      "Processing : 법령별/교도작업의 운영 및 특별회계에 관한 법률.csv\n",
      "Updated file saved to: 법령별_중복제거/교도작업의 운영 및 특별회계에 관한 법률.csv\n",
      "Processing : 법령별/교원의 노동조합 설립 및 운영 등에 관한 법률.csv\n",
      "Updated file saved to: 법령별_중복제거/교원의 노동조합 설립 및 운영 등에 관한 법률.csv\n",
      "Processing : 법령별/교육공무원법.csv\n",
      "Updated file saved to: 법령별_중복제거/교육공무원법.csv\n",
      "Processing : 법령별/교육관련기관의 정보공개에 관한 특례법.csv\n",
      "Updated file saved to: 법령별_중복제거/교육관련기관의 정보공개에 관한 특례법.csv\n",
      "Processing : 법령별/교육국제화특구의 지정ㆍ운영 및 육성에 관한 특별법.csv\n",
      "Updated file saved to: 법령별_중복제거/교육국제화특구의 지정ㆍ운영 및 육성에 관한 특별법.csv\n",
      "Processing : 법령별/교육세법.csv\n",
      "Updated file saved to: 법령별_중복제거/교육세법.csv\n",
      "Processing : 법령별/교육시설 등의 안전 및 유지관리 등에 관한 법률.csv\n",
      "Updated file saved to: 법령별_중복제거/교육시설 등의 안전 및 유지관리 등에 관한 법률.csv\n",
      "Processing : 법령별/교육환경 보호에 관한 법률.csv\n",
      "Updated file saved to: 법령별_중복제거/교육환경 보호에 관한 법률.csv\n",
      "Processing : 법령별/교통사고처리 특례법.csv\n",
      "Updated file saved to: 법령별_중복제거/교통사고처리 특례법.csv\n",
      "Processing : 법령별/교통시설특별회계법.csv\n",
      "Updated file saved to: 법령별_중복제거/교통시설특별회계법.csv\n",
      "Processing : 법령별/교통안전법.csv\n",
      "Updated file saved to: 법령별_중복제거/교통안전법.csv\n",
      "Processing : 법령별/교통약자의 이동편의 증진법.csv\n",
      "Updated file saved to: 법령별_중복제거/교통약자의 이동편의 증진법.csv\n",
      "Processing : 법령별/구강보건법.csv\n",
      "Updated file saved to: 법령별_중복제거/구강보건법.csv\n",
      "Processing : 법령별/구직자 취업촉진 및 생활안정지원에 관한 법률.csv\n",
      "Updated file saved to: 법령별_중복제거/구직자 취업촉진 및 생활안정지원에 관한 법률.csv\n",
      "Processing : 법령별/국가공간정보 기본법.csv\n",
      "Updated file saved to: 법령별_중복제거/국가공간정보 기본법.csv\n",
      "Processing : 법령별/국가공무원법.csv\n",
      "Updated file saved to: 법령별_중복제거/국가공무원법.csv\n",
      "Processing : 법령별/국가과학기술 경쟁력 강화를 위한 이공계지원 특별법.csv\n",
      "Updated file saved to: 법령별_중복제거/국가과학기술 경쟁력 강화를 위한 이공계지원 특별법.csv\n",
      "Processing : 법령별/국가기술자격법.csv\n",
      "Updated file saved to: 법령별_중복제거/국가기술자격법.csv\n",
      "Processing : 법령별/국가보안법.csv\n",
      "Updated file saved to: 법령별_중복제거/국가보안법.csv\n",
      "Processing : 법령별/국가보훈 기본법.csv\n",
      "Updated file saved to: 법령별_중복제거/국가보훈 기본법.csv\n",
      "Processing : 법령별/국가연구개발사업 등의 성과평가 및 성과관리에 관한 법률.csv\n",
      "Updated file saved to: 법령별_중복제거/국가연구개발사업 등의 성과평가 및 성과관리에 관한 법률.csv\n",
      "Processing : 법령별/국가연구개발혁신법.csv\n",
      "Updated file saved to: 법령별_중복제거/국가연구개발혁신법.csv\n",
      "Processing : 법령별/국가유산기본법.csv\n",
      "Updated file saved to: 법령별_중복제거/국가유산기본법.csv\n",
      "Processing : 법령별/국가유산보호기금법.csv\n",
      "Updated file saved to: 법령별_중복제거/국가유산보호기금법.csv\n",
      "Processing : 법령별/국가유산수리 등에 관한 법률.csv\n",
      "Updated file saved to: 법령별_중복제거/국가유산수리 등에 관한 법률.csv\n",
      "Processing : 법령별/국가인권위원회법.csv\n",
      "Updated file saved to: 법령별_중복제거/국가인권위원회법.csv\n",
      "Processing : 법령별/국가전략기술 육성에 관한 특별법.csv\n",
      "Updated file saved to: 법령별_중복제거/국가전략기술 육성에 관한 특별법.csv\n",
      "Processing : 법령별/국가정보원직원법.csv\n",
      "Updated file saved to: 법령별_중복제거/국가정보원직원법.csv\n",
      "Processing : 법령별/국가지식정보 연계 및 활용 촉진에 관한 법률.csv\n",
      "Updated file saved to: 법령별_중복제거/국가지식정보 연계 및 활용 촉진에 관한 법률.csv\n",
      "Processing : 법령별/국가채권 관리법.csv\n",
      "Updated file saved to: 법령별_중복제거/국가채권 관리법.csv\n",
      "Processing : 법령별/국가철도공단법.csv\n",
      "Updated file saved to: 법령별_중복제거/국가철도공단법.csv\n",
      "Processing : 법령별/국가첨단전략산업 경쟁력 강화 및 보호에 관한 특별조치법.csv\n",
      "Updated file saved to: 법령별_중복제거/국가첨단전략산업 경쟁력 강화 및 보호에 관한 특별조치법.csv\n",
      "Processing : 법령별/국가초고성능컴퓨터 활용 및 육성에 관한 법률.csv\n",
      "Updated file saved to: 법령별_중복제거/국가초고성능컴퓨터 활용 및 육성에 관한 법률.csv\n",
      "Processing : 법령별/국가통합교통체계효율화법.csv\n",
      "Updated file saved to: 법령별_중복제거/국가통합교통체계효율화법.csv\n",
      "Processing : 법령별/국가회계법.csv\n",
      "Updated file saved to: 법령별_중복제거/국가회계법.csv\n",
      "Processing : 법령별/국고금 관리법.csv\n",
      "Updated file saved to: 법령별_중복제거/국고금 관리법.csv\n",
      "Processing : 법령별/국군포로의 송환 및 대우 등에 관한 법률.csv\n",
      "Updated file saved to: 법령별_중복제거/국군포로의 송환 및 대우 등에 관한 법률.csv\n",
      "Processing : 법령별/국립국가폭력트라우마치유센터의 설립 및 운영에 관한 법률.csv\n",
      "Updated file saved to: 법령별_중복제거/국립국가폭력트라우마치유센터의 설립 및 운영에 관한 법률.csv\n",
      "Processing : 법령별/국립묘지의 설치 및 운영에 관한 법률.csv\n",
      "Updated file saved to: 법령별_중복제거/국립묘지의 설치 및 운영에 관한 법률.csv\n",
      "Processing : 법령별/국민건강보험법.csv\n",
      "Updated file saved to: 법령별_중복제거/국민건강보험법.csv\n",
      "Processing : 법령별/국민건강증진법.csv\n",
      "Updated file saved to: 법령별_중복제거/국민건강증진법.csv\n",
      "Processing : 법령별/국민기초생활 보장법.csv\n",
      "Updated file saved to: 법령별_중복제거/국민기초생활 보장법.csv\n",
      "Processing : 법령별/국민보호와 공공안전을 위한 테러방지법.csv\n",
      "Updated file saved to: 법령별_중복제거/국민보호와 공공안전을 위한 테러방지법.csv\n",
      "Processing : 법령별/국민 안전교육 진흥 기본법.csv\n",
      "Updated file saved to: 법령별_중복제거/국민 안전교육 진흥 기본법.csv\n",
      "Processing : 법령별/국민여가활성화기본법.csv\n",
      "Updated file saved to: 법령별_중복제거/국민여가활성화기본법.csv\n",
      "Processing : 법령별/국민연금과 직역연금의 연계에 관한 법률.csv\n",
      "Updated file saved to: 법령별_중복제거/국민연금과 직역연금의 연계에 관한 법률.csv\n",
      "Processing : 법령별/국민영양관리법.csv\n",
      "Updated file saved to: 법령별_중복제거/국민영양관리법.csv\n",
      "Processing : 법령별/국민의 형사재판 참여에 관한 법률.csv\n",
      "Updated file saved to: 법령별_중복제거/국민의 형사재판 참여에 관한 법률.csv\n",
      "Processing : 법령별/국민체육진흥법.csv\n",
      "Updated file saved to: 법령별_중복제거/국민체육진흥법.csv\n",
      "Processing : 법령별/국민투표법.csv\n",
      "Updated file saved to: 법령별_중복제거/국민투표법.csv\n",
      "Processing : 법령별/국민 평생 직업능력 개발법.csv\n",
      "Updated file saved to: 법령별_중복제거/국민 평생 직업능력 개발법.csv\n",
      "Processing : 법령별/국방개혁에 관한 법률.csv\n",
      "Updated file saved to: 법령별_중복제거/국방개혁에 관한 법률.csv\n",
      "Processing : 법령별/국방과학기술혁신 촉진법.csv\n",
      "Updated file saved to: 법령별_중복제거/국방과학기술혁신 촉진법.csv\n",
      "Processing : 법령별/국방ㆍ군사시설 사업에 관한 법률.csv\n",
      "Updated file saved to: 법령별_중복제거/국방ㆍ군사시설 사업에 관한 법률.csv\n",
      "Processing : 법령별/국방ㆍ군사시설이전 특별회계법.csv\n",
      "Updated file saved to: 법령별_중복제거/국방ㆍ군사시설이전 특별회계법.csv\n",
      "Processing : 법령별/국방정보화 기반조성 및 국방정보자원관리에 관한 법률.csv\n",
      "Updated file saved to: 법령별_중복제거/국방정보화 기반조성 및 국방정보자원관리에 관한 법률.csv\n",
      "Processing : 법령별/국세기본법.csv\n",
      "Updated file saved to: 법령별_중복제거/국세기본법.csv\n",
      "Processing : 법령별/국세징수법.csv\n",
      "Updated file saved to: 법령별_중복제거/국세징수법.csv\n",
      "Processing : 법령별/국악진흥법.csv\n",
      "Updated file saved to: 법령별_중복제거/국악진흥법.csv\n",
      "Processing : 법령별/국어기본법.csv\n",
      "Updated file saved to: 법령별_중복제거/국어기본법.csv\n",
      "Processing : 법령별/국유림의 경영 및 관리에 관한 법률.csv\n",
      "Updated file saved to: 법령별_중복제거/국유림의 경영 및 관리에 관한 법률.csv\n",
      "Processing : 법령별/국유재산법.csv\n",
      "Updated file saved to: 법령별_중복제거/국유재산법.csv\n",
      "Processing : 법령별/국유재산특례제한법.csv\n",
      "Updated file saved to: 법령별_중복제거/국유재산특례제한법.csv\n",
      "Processing : 법령별/국제개발협력기본법.csv\n",
      "Updated file saved to: 법령별_중복제거/국제개발협력기본법.csv\n",
      "Processing : 법령별/국제경기대회 지원법.csv\n",
      "Updated file saved to: 법령별_중복제거/국제경기대회 지원법.csv\n",
      "Processing : 법령별/국제과학비즈니스벨트 조성 및 지원에 관한 특별법.csv\n",
      "Updated file saved to: 법령별_중복제거/국제과학비즈니스벨트 조성 및 지원에 관한 특별법.csv\n",
      "Processing : 법령별/국제기구 분담금 관리에 관한 법률.csv\n",
      "Updated file saved to: 법령별_중복제거/국제기구 분담금 관리에 관한 법률.csv\n",
      "Processing : 법령별/국제문화교류 진흥법.csv\n",
      "Updated file saved to: 법령별_중복제거/국제문화교류 진흥법.csv\n",
      "Processing : 법령별/국제연합 평화유지활동 참여에 관한 법률.csv\n",
      "Updated file saved to: 법령별_중복제거/국제연합 평화유지활동 참여에 관한 법률.csv\n",
      "Processing : 법령별/국제조세조정에 관한 법률.csv\n",
      "Updated file saved to: 법령별_중복제거/국제조세조정에 관한 법률.csv\n",
      "Processing : 법령별/국제질병퇴치기금법.csv\n",
      "Updated file saved to: 법령별_중복제거/국제질병퇴치기금법.csv\n",
      "Processing : 법령별/국제항공 탄소 배출량 관리에 관한 법률.csv\n",
      "Updated file saved to: 법령별_중복제거/국제항공 탄소 배출량 관리에 관한 법률.csv\n",
      "Processing : 법령별/국제항해선박 등에 대한 해적행위 피해예방에 관한 법률.csv\n",
      "Updated file saved to: 법령별_중복제거/국제항해선박 등에 대한 해적행위 피해예방에 관한 법률.csv\n",
      "Processing : 법령별/국제항해선박 및 항만시설의 보안에 관한 법률.csv\n",
      "Updated file saved to: 법령별_중복제거/국제항해선박 및 항만시설의 보안에 관한 법률.csv\n",
      "Processing : 법령별/국제협력요원 제도 폐지에 따른 순직 심사 등에 관한 법률.csv\n",
      "Updated file saved to: 법령별_중복제거/국제협력요원 제도 폐지에 따른 순직 심사 등에 관한 법률.csv\n",
      "Processing : 법령별/국제형사사법 공조법.csv\n",
      "Updated file saved to: 법령별_중복제거/국제형사사법 공조법.csv\n",
      "Processing : 법령별/국제회의산업 육성에 관한 법률.csv\n",
      "Updated file saved to: 법령별_중복제거/국제회의산업 육성에 관한 법률.csv\n",
      "Processing : 법령별/국채법.csv\n",
      "Updated file saved to: 법령별_중복제거/국채법.csv\n",
      "Processing : 법령별/국토의 계획 및 이용에 관한 법률.csv\n",
      "Updated file saved to: 법령별_중복제거/국토의 계획 및 이용에 관한 법률.csv\n",
      "Processing : 법령별/군 공항 이전 및 지원에 관한 특별법.csv\n",
      "Updated file saved to: 법령별_중복제거/군 공항 이전 및 지원에 관한 특별법.csv\n",
      "Processing : 법령별/군보건의료에 관한 법률.csv\n",
      "Updated file saved to: 법령별_중복제거/군보건의료에 관한 법률.csv\n",
      "Processing : 법령별/군복 및 군용장구의 단속에 관한 법률.csv\n",
      "Updated file saved to: 법령별_중복제거/군복 및 군용장구의 단속에 관한 법률.csv\n",
      "Processing : 법령별/군사경찰의 직무수행에 관한 법률.csv\n",
      "Updated file saved to: 법령별_중복제거/군사경찰의 직무수행에 관한 법률.csv\n",
      "Processing : 법령별/군사기밀 보호법.csv\n",
      "Updated file saved to: 법령별_중복제거/군사기밀 보호법.csv\n",
      "Processing : 법령별/군사기지 및 군사시설 보호법.csv\n",
      "Updated file saved to: 법령별_중복제거/군사기지 및 군사시설 보호법.csv\n",
      "Processing : 법령별/군사정전에 관한 협정 체결 이후 납북피해자의 보상 및 지원에 관한 법률.csv\n",
      "Updated file saved to: 법령별_중복제거/군사정전에 관한 협정 체결 이후 납북피해자의 보상 및 지원에 관한 법률.csv\n",
      "Processing : 법령별/군수품관리법.csv\n",
      "Updated file saved to: 법령별_중복제거/군수품관리법.csv\n",
      "Processing : 법령별/군용비행장ㆍ군사격장 소음 방지 및 피해 보상에 관한 법률.csv\n",
      "Updated file saved to: 법령별_중복제거/군용비행장ㆍ군사격장 소음 방지 및 피해 보상에 관한 법률.csv\n",
      "Processing : 법령별/군용전기통신법.csv\n",
      "Updated file saved to: 법령별_중복제거/군용전기통신법.csv\n",
      "Processing : 법령별/군용항공기 비행안전성 인증에 관한 법률.csv\n",
      "Updated file saved to: 법령별_중복제거/군용항공기 비행안전성 인증에 관한 법률.csv\n",
      "Processing : 법령별/군용항공기 운용 등에 관한 법률.csv\n",
      "Updated file saved to: 법령별_중복제거/군용항공기 운용 등에 관한 법률.csv\n",
      "Processing : 법령별/군인복지기본법.csv\n",
      "Updated file saved to: 법령별_중복제거/군인복지기본법.csv\n",
      "Processing : 법령별/군인연금법.csv\n",
      "Updated file saved to: 법령별_중복제거/군인연금법.csv\n",
      "Processing : 법령별/군인의 지위 및 복무에 관한 기본법.csv\n",
      "Updated file saved to: 법령별_중복제거/군인의 지위 및 복무에 관한 기본법.csv\n",
      "Processing : 법령별/군인 재해보상법.csv\n",
      "Updated file saved to: 법령별_중복제거/군인 재해보상법.csv\n",
      "Processing : 법령별/군 책임운영기관의 지정ㆍ운영에 관한 법률.csv\n",
      "Updated file saved to: 법령별_중복제거/군 책임운영기관의 지정ㆍ운영에 관한 법률.csv\n",
      "Processing : 법령별/궤도운송법.csv\n",
      "Updated file saved to: 법령별_중복제거/궤도운송법.csv\n",
      "Processing : 법령별/귀농어ㆍ귀촌 활성화 및 지원에 관한 법률.csv\n",
      "Updated file saved to: 법령별_중복제거/귀농어ㆍ귀촌 활성화 및 지원에 관한 법률.csv\n",
      "Processing : 법령별/규제자유특구 및 지역특화발전특구에 관한 규제특례법.csv\n",
      "Updated file saved to: 법령별_중복제거/규제자유특구 및 지역특화발전특구에 관한 규제특례법.csv\n",
      "Processing : 법령별/극지활동 진흥법.csv\n",
      "Updated file saved to: 법령별_중복제거/극지활동 진흥법.csv\n",
      "Processing : 법령별/근로기준법.csv\n",
      "Updated file saved to: 법령별_중복제거/근로기준법.csv\n",
      "Processing : 법령별/근로복지기본법.csv\n",
      "Updated file saved to: 법령별_중복제거/근로복지기본법.csv\n",
      "Processing : 법령별/근로자참여 및 협력증진에 관한 법률.csv\n",
      "Updated file saved to: 법령별_중복제거/근로자참여 및 협력증진에 관한 법률.csv\n",
      "Processing : 법령별/근로자퇴직급여 보장법.csv\n",
      "Updated file saved to: 법령별_중복제거/근로자퇴직급여 보장법.csv\n",
      "Processing : 법령별/근현대문화유산의 보존 및 활용에 관한 법률.csv\n",
      "Updated file saved to: 법령별_중복제거/근현대문화유산의 보존 및 활용에 관한 법률.csv\n",
      "Processing : 법령별/금강수계 물관리 및 주민지원 등에 관한 법률.csv\n",
      "Updated file saved to: 법령별_중복제거/금강수계 물관리 및 주민지원 등에 관한 법률.csv\n",
      "Processing : 법령별/금융거래지표의 관리에 관한 법률.csv\n",
      "Updated file saved to: 법령별_중복제거/금융거래지표의 관리에 관한 법률.csv\n",
      "Processing : 법령별/금융복합기업집단의 감독에 관한 법률.csv\n",
      "Updated file saved to: 법령별_중복제거/금융복합기업집단의 감독에 관한 법률.csv\n",
      "Processing : 법령별/금융산업의 구조개선에 관한 법률.csv\n",
      "Updated file saved to: 법령별_중복제거/금융산업의 구조개선에 관한 법률.csv\n",
      "Processing : 법령별/금융소비자 보호에 관한 법률.csv\n",
      "Updated file saved to: 법령별_중복제거/금융소비자 보호에 관한 법률.csv\n",
      "Processing : 법령별/금융실명거래 및 비밀보장에 관한 법률.csv\n",
      "Updated file saved to: 법령별_중복제거/금융실명거래 및 비밀보장에 관한 법률.csv\n",
      "Processing : 법령별/금융지주회사법.csv\n",
      "Updated file saved to: 법령별_중복제거/금융지주회사법.csv\n",
      "Processing : 법령별/금융혁신지원 특별법.csv\n",
      "Updated file saved to: 법령별_중복제거/금융혁신지원 특별법.csv\n",
      "Processing : 법령별/금융회사의 지배구조에 관한 법률.csv\n",
      "Updated file saved to: 법령별_중복제거/금융회사의 지배구조에 관한 법률.csv\n",
      "Processing : 법령별/급경사지 재해예방에 관한 법률.csv\n",
      "Updated file saved to: 법령별_중복제거/급경사지 재해예방에 관한 법률.csv\n",
      "Processing : 법령별/기간제 및 단시간근로자 보호 등에 관한 법률.csv\n",
      "Updated file saved to: 법령별_중복제거/기간제 및 단시간근로자 보호 등에 관한 법률.csv\n",
      "Processing : 법령별/기계설비법.csv\n",
      "Updated file saved to: 법령별_중복제거/기계설비법.csv\n",
      "Processing : 법령별/기능성 양잠산업 육성 및 지원에 관한 법률.csv\n",
      "Updated file saved to: 법령별_중복제거/기능성 양잠산업 육성 및 지원에 관한 법률.csv\n",
      "Processing : 법령별/기부금품의 모집ㆍ사용 및 기부문화 활성화에 관한 법률.csv\n",
      "Updated file saved to: 법령별_중복제거/기부금품의 모집ㆍ사용 및 기부문화 활성화에 관한 법률.csv\n",
      "Processing : 법령별/기상관측표준화법.csv\n",
      "Updated file saved to: 법령별_중복제거/기상관측표준화법.csv\n",
      "Processing : 법령별/기상법.csv\n",
      "Updated file saved to: 법령별_중복제거/기상법.csv\n",
      "Processing : 법령별/기상산업진흥법.csv\n",
      "Updated file saved to: 법령별_중복제거/기상산업진흥법.csv\n",
      "Processing : 법령별/기술보증기금법.csv\n",
      "Updated file saved to: 법령별_중복제거/기술보증기금법.csv\n",
      "Processing : 법령별/기술사법.csv\n",
      "Updated file saved to: 법령별_중복제거/기술사법.csv\n",
      "Processing : 법령별/기술의 이전 및 사업화 촉진에 관한 법률.csv\n",
      "Updated file saved to: 법령별_중복제거/기술의 이전 및 사업화 촉진에 관한 법률.csv\n",
      "Processing : 법령별/기업구조조정 촉진법.csv\n",
      "Updated file saved to: 법령별_중복제거/기업구조조정 촉진법.csv\n",
      "Processing : 법령별/기업구조조정투자회사법.csv\n",
      "Updated file saved to: 법령별_중복제거/기업구조조정투자회사법.csv\n",
      "Processing : 법령별/기업도시개발 특별법.csv\n",
      "Updated file saved to: 법령별_중복제거/기업도시개발 특별법.csv\n",
      "Processing : 법령별/기업활동 규제완화에 관한 특별조치법.csv\n",
      "Updated file saved to: 법령별_중복제거/기업활동 규제완화에 관한 특별조치법.csv\n",
      "Processing : 법령별/기업 활력 제고를 위한 특별법.csv\n",
      "Updated file saved to: 법령별_중복제거/기업 활력 제고를 위한 특별법.csv\n",
      "Processing : 법령별/기초연구진흥 및 기술개발지원에 관한 법률.csv\n",
      "Updated file saved to: 법령별_중복제거/기초연구진흥 및 기술개발지원에 관한 법률.csv\n",
      "Processing : 법령별/기초연금법.csv\n",
      "Updated file saved to: 법령별_중복제거/기초연금법.csv\n",
      "Processing : 법령별/기초학력 보장법.csv\n",
      "Updated file saved to: 법령별_중복제거/기초학력 보장법.csv\n",
      "Processing : 법령별/기후변화대응 기술개발 촉진법.csv\n",
      "Updated file saved to: 법령별_중복제거/기후변화대응 기술개발 촉진법.csv\n",
      "Processing : 법령별/기후위기 대응을 위한 탄소중립ㆍ녹색성장 기본법.csv\n",
      "Updated file saved to: 법령별_중복제거/기후위기 대응을 위한 탄소중립ㆍ녹색성장 기본법.csv\n",
      "Processing : 법령별/긴급복지지원법.csv\n",
      "Updated file saved to: 법령별_중복제거/긴급복지지원법.csv\n",
      "Processing : 법령별/김산업의 육성 및 지원에 관한 법률.csv\n",
      "Updated file saved to: 법령별_중복제거/김산업의 육성 및 지원에 관한 법률.csv\n",
      "Processing : 법령별/김치산업 진흥법.csv\n",
      "Updated file saved to: 법령별_중복제거/김치산업 진흥법.csv\n",
      "Processing : 법령별/나노기술개발 촉진법.csv\n",
      "Updated file saved to: 법령별_중복제거/나노기술개발 촉진법.csv\n",
      "Processing : 법령별/낙농진흥법.csv\n",
      "Updated file saved to: 법령별_중복제거/낙농진흥법.csv\n",
      "Processing : 법령별/낙동강수계 물관리 및 주민지원 등에 관한 법률.csv\n",
      "Updated file saved to: 법령별_중복제거/낙동강수계 물관리 및 주민지원 등에 관한 법률.csv\n",
      "Processing : 법령별/낚시 관리 및 육성법.csv\n",
      "Updated file saved to: 법령별_중복제거/낚시 관리 및 육성법.csv\n",
      "Processing : 법령별/난민법.csv\n",
      "Updated file saved to: 법령별_중복제거/난민법.csv\n",
      "Processing : 법령별/남극활동 및 환경보호에 관한 법률.csv\n",
      "Updated file saved to: 법령별_중복제거/남극활동 및 환경보호에 관한 법률.csv\n",
      "Processing : 법령별/남녀고용평등과 일ㆍ가정 양립 지원에 관한 법률.csv\n",
      "Updated file saved to: 법령별_중복제거/남녀고용평등과 일ㆍ가정 양립 지원에 관한 법률.csv\n",
      "Processing : 법령별/남북관계 발전에 관한 법률.csv\n",
      "Updated file saved to: 법령별_중복제거/남북관계 발전에 관한 법률.csv\n",
      "Processing : 법령별/남북교류협력에 관한 법률.csv\n",
      "Updated file saved to: 법령별_중복제거/남북교류협력에 관한 법률.csv\n",
      "Processing : 법령별/남북 이산가족 생사확인 및 교류 촉진에 관한 법률.csv\n",
      "Updated file saved to: 법령별_중복제거/남북 이산가족 생사확인 및 교류 촉진에 관한 법률.csv\n",
      "Processing : 법령별/남북협력기금법.csv\n",
      "Updated file saved to: 법령별_중복제거/남북협력기금법.csv\n",
      "Processing : 법령별/내수면 가두리양식어업 면허기간 연장불허에 따른 손실보상에 관한 특별법.csv\n",
      "Updated file saved to: 법령별_중복제거/내수면 가두리양식어업 면허기간 연장불허에 따른 손실보상에 관한 특별법.csv\n",
      "Processing : 법령별/내수면어업법.csv\n",
      "Updated file saved to: 법령별_중복제거/내수면어업법.csv\n",
      "Processing : 법령별/노근리사건 희생자심사 및 명예회복에 관한 특별법.csv\n",
      "Updated file saved to: 법령별_중복제거/노근리사건 희생자심사 및 명예회복에 관한 특별법.csv\n",
      "Processing : 법령별/노동조합 및 노동관계조정법.csv\n",
      "Updated file saved to: 법령별_중복제거/노동조합 및 노동관계조정법.csv\n",
      "Processing : 법령별/노숙인 등의 복지 및 자립지원에 관한 법률.csv\n",
      "Updated file saved to: 법령별_중복제거/노숙인 등의 복지 및 자립지원에 관한 법률.csv\n",
      "Processing : 법령별/노인복지법.csv\n",
      "Updated file saved to: 법령별_중복제거/노인복지법.csv\n",
      "Processing : 법령별/노인장기요양보험법.csv\n",
      "Updated file saved to: 법령별_중복제거/노인장기요양보험법.csv\n",
      "Processing : 법령별/노인ㆍ장애인 등 사회복지시설의 급식안전 지원에 관한 법률.csv\n",
      "Updated file saved to: 법령별_중복제거/노인ㆍ장애인 등 사회복지시설의 급식안전 지원에 관한 법률.csv\n",
      "Processing : 법령별/노후거점산업단지의 활력증진 및 경쟁력강화를 위한 특별법.csv\n",
      "Updated file saved to: 법령별_중복제거/노후거점산업단지의 활력증진 및 경쟁력강화를 위한 특별법.csv\n",
      "Processing : 법령별/노후계획도시 정비 및 지원에 관한 특별법.csv\n",
      "Updated file saved to: 법령별_중복제거/노후계획도시 정비 및 지원에 관한 특별법.csv\n",
      "Processing : 법령별/노후준비 지원법.csv\n",
      "Updated file saved to: 법령별_중복제거/노후준비 지원법.csv\n",
      "Processing : 법령별/녹색건축물 조성 지원법.csv\n",
      "Updated file saved to: 법령별_중복제거/녹색건축물 조성 지원법.csv\n",
      "Processing : 법령별/녹색융합클러스터의 조성 및 육성에 관한 법률.csv\n",
      "Updated file saved to: 법령별_중복제거/녹색융합클러스터의 조성 및 육성에 관한 법률.csv\n",
      "Processing : 법령별/녹색제품 구매촉진에 관한 법률.csv\n",
      "Updated file saved to: 법령별_중복제거/녹색제품 구매촉진에 관한 법률.csv\n",
      "Processing : 법령별/농림수산식품투자조합 결성 및 운용에 관한 법률.csv\n",
      "Updated file saved to: 법령별_중복제거/농림수산식품투자조합 결성 및 운용에 관한 법률.csv\n",
      "Processing : 법령별/농림수산업자 신용보증법.csv\n",
      "Updated file saved to: 법령별_중복제거/농림수산업자 신용보증법.csv\n",
      "Processing : 법령별/농림식품과학기술 육성법.csv\n",
      "Updated file saved to: 법령별_중복제거/농림식품과학기술 육성법.csv\n",
      "Processing : 법령별/농수산물 유통 및 가격안정에 관한 법률.csv\n",
      "Updated file saved to: 법령별_중복제거/농수산물 유통 및 가격안정에 관한 법률.csv\n",
      "Processing : 법령별/농수산물의 원산지 표시 등에 관한 법률.csv\n",
      "Updated file saved to: 법령별_중복제거/농수산물의 원산지 표시 등에 관한 법률.csv\n",
      "Processing : 법령별/농수산물 품질관리법.csv\n",
      "Updated file saved to: 법령별_중복제거/농수산물 품질관리법.csv\n",
      "Processing : 법령별/농수산자조금의 조성 및 운용에 관한 법률.csv\n",
      "Updated file saved to: 법령별_중복제거/농수산자조금의 조성 및 운용에 관한 법률.csv\n",
      "Processing : 법령별/농약관리법.csv\n",
      "Updated file saved to: 법령별_중복제거/농약관리법.csv\n",
      "Processing : 법령별/농어가목돈마련저축에 관한 법률.csv\n",
      "Updated file saved to: 법령별_중복제거/농어가목돈마련저축에 관한 법률.csv\n",
      "Processing : 법령별/농어업경영체 육성 및 지원에 관한 법률.csv\n",
      "Updated file saved to: 법령별_중복제거/농어업경영체 육성 및 지원에 관한 법률.csv\n",
      "Processing : 법령별/농어업고용인력 지원 특별법.csv\n",
      "Updated file saved to: 법령별_중복제거/농어업고용인력 지원 특별법.csv\n",
      "Processing : 법령별/농어업인 부채경감에 관한 특별조치법.csv\n",
      "Updated file saved to: 법령별_중복제거/농어업인 부채경감에 관한 특별조치법.csv\n",
      "Processing : 법령별/농어업인 삶의 질 향상 및 농어촌지역 개발촉진에 관한 특별법.csv\n",
      "Updated file saved to: 법령별_중복제거/농어업인 삶의 질 향상 및 농어촌지역 개발촉진에 관한 특별법.csv\n",
      "Processing : 법령별/농어업인의 안전보험 및 안전재해예방에 관한 법률.csv\n",
      "Updated file saved to: 법령별_중복제거/농어업인의 안전보험 및 안전재해예방에 관한 법률.csv\n",
      "Processing : 법령별/농어업재해대책법.csv\n",
      "Updated file saved to: 법령별_중복제거/농어업재해대책법.csv\n",
      "Processing : 법령별/농어업재해보험법.csv\n",
      "Updated file saved to: 법령별_중복제거/농어업재해보험법.csv\n",
      "Processing : 법령별/농어촌도로 정비법.csv\n",
      "Updated file saved to: 법령별_중복제거/농어촌도로 정비법.csv\n",
      "Processing : 법령별/농어촌 등 보건의료를 위한 특별조치법.csv\n",
      "Updated file saved to: 법령별_중복제거/농어촌 등 보건의료를 위한 특별조치법.csv\n",
      "Processing : 법령별/농어촌마을 주거환경 개선 및 리모델링 촉진을 위한 특별법.csv\n",
      "Updated file saved to: 법령별_중복제거/농어촌마을 주거환경 개선 및 리모델링 촉진을 위한 특별법.csv\n",
      "Processing : 법령별/농어촌 전기공급사업 촉진법.csv\n",
      "Updated file saved to: 법령별_중복제거/농어촌 전기공급사업 촉진법.csv\n",
      "Processing : 법령별/농어촌정비법.csv\n",
      "Updated file saved to: 법령별_중복제거/농어촌정비법.csv\n",
      "Processing : 법령별/농어촌주민의 보건복지 증진을 위한 특별법.csv\n",
      "Updated file saved to: 법령별_중복제거/농어촌주민의 보건복지 증진을 위한 특별법.csv\n",
      "Processing : 법령별/농어촌특별세법.csv\n",
      "Updated file saved to: 법령별_중복제거/농어촌특별세법.csv\n",
      "Processing : 법령별/농업과학기술정보서비스의 제공 및 이용 활성화에 관한 법률.csv\n",
      "Updated file saved to: 법령별_중복제거/농업과학기술정보서비스의 제공 및 이용 활성화에 관한 법률.csv\n",
      "Processing : 법령별/농업기계화 촉진법.csv\n",
      "Updated file saved to: 법령별_중복제거/농업기계화 촉진법.csv\n",
      "Processing : 법령별/농업ㆍ농촌 공익기능 증진 직접지불제도 운영에 관한 법률.csv\n",
      "Updated file saved to: 법령별_중복제거/농업ㆍ농촌 공익기능 증진 직접지불제도 운영에 관한 법률.csv\n",
      "Processing : 법령별/농업ㆍ농촌 및 식품산업 기본법.csv\n",
      "Updated file saved to: 법령별_중복제거/농업ㆍ농촌 및 식품산업 기본법.csv\n",
      "Processing : 법령별/농업생명자원의 보존ㆍ관리 및 이용에 관한 법률.csv\n",
      "Updated file saved to: 법령별_중복제거/농업생명자원의 보존ㆍ관리 및 이용에 관한 법률.csv\n",
      "Processing : 법령별/농업생산기반시설 및 주변지역 활용에 관한 특별법.csv\n",
      "Updated file saved to: 법령별_중복제거/농업생산기반시설 및 주변지역 활용에 관한 특별법.csv\n",
      "Processing : 법령별/농업인등의 농외소득 활동 지원에 관한 법률.csv\n",
      "Updated file saved to: 법령별_중복제거/농업인등의 농외소득 활동 지원에 관한 법률.csv\n",
      "Processing : 법령별/농업협동조합법.csv\n",
      "Updated file saved to: 법령별_중복제거/농업협동조합법.csv\n",
      "Processing : 법령별/농업협동조합의 구조개선에 관한 법률.csv\n",
      "Updated file saved to: 법령별_중복제거/농업협동조합의 구조개선에 관한 법률.csv\n",
      "Processing : 법령별/농지법.csv\n",
      "Updated file saved to: 법령별_중복제거/농지법.csv\n",
      "Processing : 법령별/농촌공간 재구조화 및 재생지원에 관한 법률.csv\n",
      "Updated file saved to: 법령별_중복제거/농촌공간 재구조화 및 재생지원에 관한 법률.csv\n",
      "Processing : 법령별/농촌융복합산업 육성 및 지원에 관한 법률.csv\n",
      "Updated file saved to: 법령별_중복제거/농촌융복합산업 육성 및 지원에 관한 법률.csv\n",
      "Processing : 법령별/농촌 지역 공동체 기반 경제ㆍ사회 서비스 활성화에 관한 법률.csv\n",
      "Updated file saved to: 법령별_중복제거/농촌 지역 공동체 기반 경제ㆍ사회 서비스 활성화에 관한 법률.csv\n",
      "Processing : 법령별/농촌진흥법.csv\n",
      "Updated file saved to: 법령별_중복제거/농촌진흥법.csv\n",
      "Processing : 법령별/뇌연구 촉진법.csv\n",
      "Updated file saved to: 법령별_중복제거/뇌연구 촉진법.csv\n",
      "Processing : 법령별/뉴스통신 진흥에 관한 법률.csv\n",
      "Updated file saved to: 법령별_중복제거/뉴스통신 진흥에 관한 법률.csv\n",
      "Processing : 법령별/다문화가족지원법.csv\n",
      "Updated file saved to: 법령별_중복제거/다문화가족지원법.csv\n",
      "Processing : 법령별/다중이용업소의 안전관리에 관한 특별법.csv\n",
      "Updated file saved to: 법령별_중복제거/다중이용업소의 안전관리에 관한 특별법.csv\n",
      "Processing : 법령별/달빛철도 건설을 위한 특별법.csv\n",
      "Updated file saved to: 법령별_중복제거/달빛철도 건설을 위한 특별법.csv\n",
      "Processing : 법령별/담배사업법.csv\n",
      "Updated file saved to: 법령별_중복제거/담배사업법.csv\n",
      "Processing : 법령별/담보부사채신탁법.csv\n",
      "Updated file saved to: 법령별_중복제거/담보부사채신탁법.csv\n",
      "Processing : 법령별/대구경북통합신공항 건설을 위한 특별법.csv\n",
      "Updated file saved to: 법령별_중복제거/대구경북통합신공항 건설을 위한 특별법.csv\n",
      "Processing : 법령별/대규모유통업에서의 거래 공정화에 관한 법률.csv\n",
      "Updated file saved to: 법령별_중복제거/대규모유통업에서의 거래 공정화에 관한 법률.csv\n",
      "Processing : 법령별/대기관리권역의 대기환경개선에 관한 특별법.csv\n",
      "Updated file saved to: 법령별_중복제거/대기관리권역의 대기환경개선에 관한 특별법.csv\n",
      "Processing : 법령별/대기환경보전법.csv\n",
      "Updated file saved to: 법령별_중복제거/대기환경보전법.csv\n",
      "Processing : 법령별/대도시권 광역교통 관리에 관한 특별법.csv\n",
      "Updated file saved to: 법령별_중복제거/대도시권 광역교통 관리에 관한 특별법.csv\n",
      "Processing : 법령별/대리점거래의 공정화에 관한 법률.csv\n",
      "Updated file saved to: 법령별_중복제거/대리점거래의 공정화에 관한 법률.csv\n",
      "Processing : 법령별/대부업 등의 등록 및 금융이용자 보호에 관한 법률.csv\n",
      "Updated file saved to: 법령별_중복제거/대부업 등의 등록 및 금융이용자 보호에 관한 법률.csv\n",
      "Processing : 법령별/대안교육기관에 관한 법률.csv\n",
      "Updated file saved to: 법령별_중복제거/대안교육기관에 관한 법률.csv\n",
      "Processing : 법령별/대외경제협력기금법.csv\n",
      "Updated file saved to: 법령별_중복제거/대외경제협력기금법.csv\n",
      "Processing : 법령별/대외무역법.csv\n",
      "Updated file saved to: 법령별_중복제거/대외무역법.csv\n",
      "Processing : 법령별/대일항쟁기 강제동원 피해조사 및 국외강제동원 희생자 등 지원에 관한 특별법.csv\n",
      "Updated file saved to: 법령별_중복제거/대일항쟁기 강제동원 피해조사 및 국외강제동원 희생자 등 지원에 관한 특별법.csv\n",
      "Processing : 법령별/대중교통의 육성 및 이용촉진에 관한 법률.csv\n",
      "Updated file saved to: 법령별_중복제거/대중교통의 육성 및 이용촉진에 관한 법률.csv\n",
      "Processing : 법령별/대중문화예술산업발전법.csv\n",
      "Updated file saved to: 법령별_중복제거/대중문화예술산업발전법.csv\n",
      "Processing : 법령별/대ㆍ중소기업 상생협력 촉진에 관한 법률.csv\n",
      "Updated file saved to: 법령별_중복제거/대ㆍ중소기업 상생협력 촉진에 관한 법률.csv\n",
      "Processing : 법령별/대통령기록물 관리에 관한 법률.csv\n",
      "Updated file saved to: 법령별_중복제거/대통령기록물 관리에 관한 법률.csv\n",
      "Processing : 법령별/대통령 등의 경호에 관한 법률.csv\n",
      "Updated file saved to: 법령별_중복제거/대통령 등의 경호에 관한 법률.csv\n",
      "Processing : 법령별/대통령직 인수에 관한 법률.csv\n",
      "Updated file saved to: 법령별_중복제거/대통령직 인수에 관한 법률.csv\n",
      "Processing : 법령별/대학교원 기간임용제 탈락자 구제를 위한 특별법.csv\n",
      "Updated file saved to: 법령별_중복제거/대학교원 기간임용제 탈락자 구제를 위한 특별법.csv\n",
      "Processing : 법령별/대학도서관진흥법.csv\n",
      "Updated file saved to: 법령별_중복제거/대학도서관진흥법.csv\n",
      "Processing : 법령별/대한민국과 아메리카합중국 간의 상호방위조약 제4조에 의한 시설과 구역 및 대한민국에서의 합중국군대의 지위에 관한 협정의 실시에 따른 관세법 등의 임시특례에 관한 법률.csv\n",
      "Updated file saved to: 법령별_중복제거/대한민국과 아메리카합중국 간의 상호방위조약 제4조에 의한 시설과 구역 및 대한민국에서의 합중국군대의 지위에 관한 협정의 실시에 따른 관세법 등의 임시특례에 관한 법률.csv\n",
      "Processing : 법령별/대한민국국기법.csv\n",
      "Updated file saved to: 법령별_중복제거/대한민국국기법.csv\n",
      "Processing : 법령별/댐건설ㆍ관리 및 주변지역지원 등에 관한 법률.csv\n",
      "Updated file saved to: 법령별_중복제거/댐건설ㆍ관리 및 주변지역지원 등에 관한 법률.csv\n",
      "Processing : 법령별/댐 주변지역 친환경 보전 및 활용에 관한 특별법.csv\n",
      "Updated file saved to: 법령별_중복제거/댐 주변지역 친환경 보전 및 활용에 관한 특별법.csv\n",
      "Processing : 법령별/데이터기반행정 활성화에 관한 법률.csv\n",
      "Updated file saved to: 법령별_중복제거/데이터기반행정 활성화에 관한 법률.csv\n",
      "Processing : 법령별/데이터 산업진흥 및 이용촉진에 관한 기본법.csv\n",
      "Updated file saved to: 법령별_중복제거/데이터 산업진흥 및 이용촉진에 관한 기본법.csv\n",
      "Processing : 법령별/도로교통법.csv\n",
      "Updated file saved to: 법령별_중복제거/도로교통법.csv\n",
      "Processing : 법령별/도로명주소법.csv\n",
      "Updated file saved to: 법령별_중복제거/도로명주소법.csv\n",
      "Processing : 법령별/도로법.csv\n",
      "Updated file saved to: 법령별_중복제거/도로법.csv\n",
      "Processing : 법령별/도서관법.csv\n",
      "Updated file saved to: 법령별_중복제거/도서관법.csv\n",
      "Processing : 법령별/도서ㆍ벽지 교육진흥법.csv\n",
      "Updated file saved to: 법령별_중복제거/도서ㆍ벽지 교육진흥법.csv\n",
      "Processing : 법령별/도선법.csv\n",
      "Updated file saved to: 법령별_중복제거/도선법.csv\n",
      "Processing : 법령별/도시가스사업법.csv\n",
      "Updated file saved to: 법령별_중복제거/도시가스사업법.csv\n",
      "Processing : 법령별/도시개발법.csv\n",
      "Updated file saved to: 법령별_중복제거/도시개발법.csv\n",
      "Processing : 법령별/도시 공업지역의 관리 및 활성화에 관한 특별법.csv\n",
      "Updated file saved to: 법령별_중복제거/도시 공업지역의 관리 및 활성화에 관한 특별법.csv\n",
      "Processing : 법령별/도시공원 및 녹지 등에 관한 법률.csv\n",
      "Updated file saved to: 법령별_중복제거/도시공원 및 녹지 등에 관한 법률.csv\n",
      "Processing : 법령별/도시교통정비 촉진법.csv\n",
      "Updated file saved to: 법령별_중복제거/도시교통정비 촉진법.csv\n",
      "Processing : 법령별/도시농업의 육성 및 지원에 관한 법률.csv\n",
      "Updated file saved to: 법령별_중복제거/도시농업의 육성 및 지원에 관한 법률.csv\n",
      "Processing : 법령별/도시 및 주거환경정비법.csv\n",
      "Updated file saved to: 법령별_중복제거/도시 및 주거환경정비법.csv\n",
      "Processing : 법령별/도시숲 등의 조성 및 관리에 관한 법률.csv\n",
      "Updated file saved to: 법령별_중복제거/도시숲 등의 조성 및 관리에 관한 법률.csv\n",
      "Processing : 법령별/도시와 농어촌 간의 교류촉진에 관한 법률.csv\n",
      "Updated file saved to: 법령별_중복제거/도시와 농어촌 간의 교류촉진에 관한 법률.csv\n",
      "Processing : 법령별/도시재생 활성화 및 지원에 관한 특별법.csv\n",
      "Updated file saved to: 법령별_중복제거/도시재생 활성화 및 지원에 관한 특별법.csv\n",
      "Processing : 법령별/도시재정비 촉진을 위한 특별법.csv\n",
      "Updated file saved to: 법령별_중복제거/도시재정비 촉진을 위한 특별법.csv\n",
      "Processing : 법령별/도시철도법.csv\n",
      "Updated file saved to: 법령별_중복제거/도시철도법.csv\n",
      "Processing : 법령별/도시하천유역 침수피해방지대책법.csv\n",
      "Updated file saved to: 법령별_중복제거/도시하천유역 침수피해방지대책법.csv\n",
      "Processing : 법령별/도시형소공인 지원에 관한 특별법.csv\n",
      "Updated file saved to: 법령별_중복제거/도시형소공인 지원에 관한 특별법.csv\n",
      "Processing : 법령별/도심융합특구 조성 및 육성에 관한 특별법.csv\n",
      "Updated file saved to: 법령별_중복제거/도심융합특구 조성 및 육성에 관한 특별법.csv\n",
      "Processing : 법령별/도심항공교통 활용 촉진 및 지원에 관한 법률.csv\n",
      "Updated file saved to: 법령별_중복제거/도심항공교통 활용 촉진 및 지원에 관한 법률.csv\n",
      "Processing : 법령별/도청이전을 위한 도시건설 및 지원에 관한 특별법.csv\n",
      "Updated file saved to: 법령별_중복제거/도청이전을 위한 도시건설 및 지원에 관한 특별법.csv\n",
      "Processing : 법령별/독도 등 도서지역의 생태계 보전에 관한 특별법.csv\n",
      "Updated file saved to: 법령별_중복제거/독도 등 도서지역의 생태계 보전에 관한 특별법.csv\n",
      "Processing : 법령별/독도의용수비대 지원법.csv\n",
      "Updated file saved to: 법령별_중복제거/독도의용수비대 지원법.csv\n",
      "Processing : 법령별/독도의 지속가능한 이용에 관한 법률.csv\n",
      "Updated file saved to: 법령별_중복제거/독도의 지속가능한 이용에 관한 법률.csv\n",
      "Processing : 법령별/독립공채상환에 관한 특별조치법.csv\n",
      "Updated file saved to: 법령별_중복제거/독립공채상환에 관한 특별조치법.csv\n",
      "Processing : 법령별/독서문화진흥법.csv\n",
      "Updated file saved to: 법령별_중복제거/독서문화진흥법.csv\n",
      "Processing : 법령별/독점규제 및 공정거래에 관한 법률.csv\n",
      "Updated file saved to: 법령별_중복제거/독점규제 및 공정거래에 관한 법률.csv\n",
      "Processing : 법령별/동물보호법.csv\n",
      "Updated file saved to: 법령별_중복제거/동물보호법.csv\n",
      "Processing : 법령별/동물원 및 수족관의 관리에 관한 법률.csv\n",
      "Updated file saved to: 법령별_중복제거/동물원 및 수족관의 관리에 관한 법률.csv\n",
      "Processing : 법령별/동산ㆍ채권 등의 담보에 관한 법률.csv\n",
      "Updated file saved to: 법령별_중복제거/동산ㆍ채권 등의 담보에 관한 법률.csv\n",
      "Processing : 법령별/동ㆍ서ㆍ남해안 및 내륙권 발전 특별법.csv\n",
      "Updated file saved to: 법령별_중복제거/동ㆍ서ㆍ남해안 및 내륙권 발전 특별법.csv\n",
      "Processing : 법령별/동의대 사건 희생자의 명예회복 및 보상에 관한 법률.csv\n",
      "Updated file saved to: 법령별_중복제거/동의대 사건 희생자의 명예회복 및 보상에 관한 법률.csv\n",
      "Processing : 법령별/드론 활용의 촉진 및 기반조성에 관한 법률.csv\n",
      "Updated file saved to: 법령별_중복제거/드론 활용의 촉진 및 기반조성에 관한 법률.csv\n",
      "Processing : 법령별/디엔에이신원확인정보의 이용 및 보호에 관한 법률.csv\n",
      "Updated file saved to: 법령별_중복제거/디엔에이신원확인정보의 이용 및 보호에 관한 법률.csv\n",
      "Processing : 법령별/디자인보호법.csv\n",
      "Updated file saved to: 법령별_중복제거/디자인보호법.csv\n",
      "Processing : 법령별/디지털 기반의 원격교육 활성화 기본법.csv\n",
      "Updated file saved to: 법령별_중복제거/디지털 기반의 원격교육 활성화 기본법.csv\n",
      "Processing : 법령별/마리나항만의 조성 및 관리 등에 관한 법률.csv\n",
      "Updated file saved to: 법령별_중복제거/마리나항만의 조성 및 관리 등에 관한 법률.csv\n",
      "Processing : 법령별/마약류 관리에 관한 법률.csv\n",
      "Updated file saved to: 법령별_중복제거/마약류 관리에 관한 법률.csv\n",
      "Processing : 법령별/마약류 불법거래 방지에 관한 특례법.csv\n",
      "Updated file saved to: 법령별_중복제거/마약류 불법거래 방지에 관한 특례법.csv\n",
      "Processing : 법령별/만화진흥에 관한 법률.csv\n",
      "Updated file saved to: 법령별_중복제거/만화진흥에 관한 법률.csv\n",
      "Processing : 법령별/말산업 육성법.csv\n",
      "Updated file saved to: 법령별_중복제거/말산업 육성법.csv\n",
      "Processing : 법령별/매장유산 보호 및 조사에 관한 법률.csv\n",
      "Updated file saved to: 법령별_중복제거/매장유산 보호 및 조사에 관한 법률.csv\n",
      "Processing : 법령별/먹는물관리법.csv\n",
      "Updated file saved to: 법령별_중복제거/먹는물관리법.csv\n",
      "Processing : 법령별/모빌리티 혁신 및 활성화 지원에 관한 법률.csv\n",
      "Updated file saved to: 법령별_중복제거/모빌리티 혁신 및 활성화 지원에 관한 법률.csv\n",
      "Processing : 법령별/모자보건법.csv\n",
      "Updated file saved to: 법령별_중복제거/모자보건법.csv\n",
      "Processing : 법령별/목재의 지속가능한 이용에 관한 법률.csv\n",
      "Updated file saved to: 법령별_중복제거/목재의 지속가능한 이용에 관한 법률.csv\n",
      "Processing : 법령별/무역거래기반 조성에 관한 법률.csv\n",
      "Updated file saved to: 법령별_중복제거/무역거래기반 조성에 관한 법률.csv\n",
      "Processing : 법령별/무역보험법.csv\n",
      "Updated file saved to: 법령별_중복제거/무역보험법.csv\n",
      "Processing : 법령별/무역조정 지원 등에 관한 법률.csv\n",
      "Updated file saved to: 법령별_중복제거/무역조정 지원 등에 관한 법률.csv\n",
      "Processing : 법령별/무인도서의 보전 및 관리에 관한 법률.csv\n",
      "Updated file saved to: 법령별_중복제거/무인도서의 보전 및 관리에 관한 법률.csv\n",
      "Processing : 법령별/무형유산의 보전 및 진흥에 관한 법률.csv\n",
      "Updated file saved to: 법령별_중복제거/무형유산의 보전 및 진흥에 관한 법률.csv\n",
      "Processing : 법령별/문학진흥법.csv\n",
      "Updated file saved to: 법령별_중복제거/문학진흥법.csv\n",
      "Processing : 법령별/문화기본법.csv\n",
      "Updated file saved to: 법령별_중복제거/문화기본법.csv\n",
      "Processing : 법령별/문화다양성의 보호와 증진에 관한 법률.csv\n",
      "Updated file saved to: 법령별_중복제거/문화다양성의 보호와 증진에 관한 법률.csv\n",
      "Processing : 법령별/문화산업진흥 기본법.csv\n",
      "Updated file saved to: 법령별_중복제거/문화산업진흥 기본법.csv\n",
      "Processing : 법령별/문화예술교육 지원법.csv\n",
      "Updated file saved to: 법령별_중복제거/문화예술교육 지원법.csv\n",
      "Processing : 법령별/문화예술진흥법.csv\n",
      "Updated file saved to: 법령별_중복제거/문화예술진흥법.csv\n",
      "Processing : 법령별/문화예술후원 활성화에 관한 법률.csv\n",
      "Updated file saved to: 법령별_중복제거/문화예술후원 활성화에 관한 법률.csv\n",
      "Processing : 법령별/문화유산과 자연환경자산에 관한 국민신탁법.csv\n",
      "Updated file saved to: 법령별_중복제거/문화유산과 자연환경자산에 관한 국민신탁법.csv\n",
      "Processing : 법령별/문화유산의 보존 및 활용에 관한 법률.csv\n",
      "Updated file saved to: 법령별_중복제거/문화유산의 보존 및 활용에 관한 법률.csv\n",
      "Processing : 법령별/물관리기본법.csv\n",
      "Updated file saved to: 법령별_중복제거/물관리기본법.csv\n",
      "Processing : 법령별/물관리기술 발전 및 물산업 진흥에 관한 법률.csv\n",
      "Updated file saved to: 법령별_중복제거/물관리기술 발전 및 물산업 진흥에 관한 법률.csv\n",
      "Processing : 법령별/물류시설의 개발 및 운영에 관한 법률.csv\n",
      "Updated file saved to: 법령별_중복제거/물류시설의 개발 및 운영에 관한 법률.csv\n",
      "Processing : 법령별/물류정책기본법.csv\n",
      "Updated file saved to: 법령별_중복제거/물류정책기본법.csv\n",
      "Processing : 법령별/물의 재이용 촉진 및 지원에 관한 법률.csv\n",
      "Updated file saved to: 법령별_중복제거/물의 재이용 촉진 및 지원에 관한 법률.csv\n",
      "Processing : 법령별/물품관리법.csv\n",
      "Updated file saved to: 법령별_중복제거/물품관리법.csv\n",
      "Processing : 법령별/물품목록정보의 관리 및 이용에 관한 법률.csv\n",
      "Updated file saved to: 법령별_중복제거/물품목록정보의 관리 및 이용에 관한 법률.csv\n",
      "Processing : 법령별/물환경보전법.csv\n",
      "Updated file saved to: 법령별_중복제거/물환경보전법.csv\n",
      "Processing : 법령별/미래자동차 부품산업의 전환촉진 및 생태계 육성에 관한 특별법.csv\n",
      "Updated file saved to: 법령별_중복제거/미래자동차 부품산업의 전환촉진 및 생태계 육성에 관한 특별법.csv\n",
      "Processing : 법령별/미세먼지 저감 및 관리에 관한 특별법.csv\n",
      "Updated file saved to: 법령별_중복제거/미세먼지 저감 및 관리에 관한 특별법.csv\n",
      "Processing : 법령별/미술진흥법.csv\n",
      "Updated file saved to: 법령별_중복제거/미술진흥법.csv\n",
      "Processing : 법령별/민간인 통제선 이북지역의 산지관리에 관한 특별법.csv\n",
      "Updated file saved to: 법령별_중복제거/민간인 통제선 이북지역의 산지관리에 관한 특별법.csv\n",
      "Processing : 법령별/민간임대주택에 관한 특별법.csv\n",
      "Updated file saved to: 법령별_중복제거/민간임대주택에 관한 특별법.csv\n",
      "Processing : 법령별/민ㆍ군기술협력사업 촉진법.csv\n",
      "Updated file saved to: 법령별_중복제거/민ㆍ군기술협력사업 촉진법.csv\n",
      "Processing : 법령별/민방위기본법.csv\n",
      "Updated file saved to: 법령별_중복제거/민방위기본법.csv\n",
      "Processing : 법령별/민사소송 등에서의 전자문서 이용 등에 관한 법률.csv\n",
      "Updated file saved to: 법령별_중복제거/민사소송 등에서의 전자문서 이용 등에 관한 법률.csv\n",
      "Processing : 법령별/민영교도소 등의 설치ㆍ운영에 관한 법률.csv\n",
      "Updated file saved to: 법령별_중복제거/민영교도소 등의 설치ㆍ운영에 관한 법률.csv\n",
      "Processing : 법령별/민원 처리에 관한 법률.csv\n",
      "Updated file saved to: 법령별_중복제거/민원 처리에 관한 법률.csv\n",
      "Processing : 법령별/민주화운동 관련자 명예회복 및 보상 등에 관한 법률.csv\n",
      "Updated file saved to: 법령별_중복제거/민주화운동 관련자 명예회복 및 보상 등에 관한 법률.csv\n",
      "Processing : 법령별/민주화운동기념사업회법.csv\n",
      "Updated file saved to: 법령별_중복제거/민주화운동기념사업회법.csv\n",
      "Processing : 법령별/밀산업 육성법.csv\n",
      "Updated file saved to: 법령별_중복제거/밀산업 육성법.csv\n",
      "Processing : 법령별/밀항단속법.csv\n",
      "Updated file saved to: 법령별_중복제거/밀항단속법.csv\n",
      "Processing : 법령별/바둑 진흥법.csv\n",
      "Updated file saved to: 법령별_중복제거/바둑 진흥법.csv\n",
      "Processing : 법령별/바르게살기운동조직 육성법.csv\n",
      "Updated file saved to: 법령별_중복제거/바르게살기운동조직 육성법.csv\n",
      "Processing : 법령별/박물관 및 미술관 진흥법.csv\n",
      "Updated file saved to: 법령별_중복제거/박물관 및 미술관 진흥법.csv\n",
      "Processing : 법령별/반도체집적회로의 배치설계에 관한 법률.csv\n",
      "Updated file saved to: 법령별_중복제거/반도체집적회로의 배치설계에 관한 법률.csv\n",
      "Processing : 법령별/발달장애인 권리보장 및 지원에 관한 법률.csv\n",
      "Updated file saved to: 법령별_중복제거/발달장애인 권리보장 및 지원에 관한 법률.csv\n",
      "Processing : 법령별/발명교육의 활성화 및 지원에 관한 법률.csv\n",
      "Updated file saved to: 법령별_중복제거/발명교육의 활성화 및 지원에 관한 법률.csv\n",
      "Processing : 법령별/발명진흥법.csv\n",
      "Updated file saved to: 법령별_중복제거/발명진흥법.csv\n",
      "Processing : 법령별/발전소주변지역 지원에 관한 법률.csv\n",
      "Updated file saved to: 법령별_중복제거/발전소주변지역 지원에 관한 법률.csv\n",
      "Processing : 법령별/방문판매 등에 관한 법률.csv\n",
      "Updated file saved to: 법령별_중복제거/방문판매 등에 관한 법률.csv\n",
      "Processing : 법령별/방사선 및 방사성동위원소 이용진흥법.csv\n",
      "Updated file saved to: 법령별_중복제거/방사선 및 방사성동위원소 이용진흥법.csv\n",
      "Processing : 법령별/방사성폐기물 관리법.csv\n",
      "Updated file saved to: 법령별_중복제거/방사성폐기물 관리법.csv\n",
      "Processing : 법령별/방송광고판매대행 등에 관한 법률.csv\n",
      "Updated file saved to: 법령별_중복제거/방송광고판매대행 등에 관한 법률.csv\n",
      "Processing : 법령별/방송법.csv\n",
      "Updated file saved to: 법령별_중복제거/방송법.csv\n",
      "Processing : 법령별/방송통신발전 기본법.csv\n",
      "Updated file saved to: 법령별_중복제거/방송통신발전 기본법.csv\n",
      "Processing : 법령별/방위사업법.csv\n",
      "Updated file saved to: 법령별_중복제거/방위사업법.csv\n",
      "Processing : 법령별/방위산업기술 보호법.csv\n",
      "Updated file saved to: 법령별_중복제거/방위산업기술 보호법.csv\n",
      "Processing : 법령별/방위산업 발전 및 지원에 관한 법률.csv\n",
      "Updated file saved to: 법령별_중복제거/방위산업 발전 및 지원에 관한 법률.csv\n",
      "Processing : 법령별/방조제 관리법.csv\n",
      "Updated file saved to: 법령별_중복제거/방조제 관리법.csv\n",
      "Processing : 법령별/배타적 경제수역에서의 외국인어업 등에 대한 주권적 권리의 행사에 관한 법률.csv\n",
      "Updated file saved to: 법령별_중복제거/배타적 경제수역에서의 외국인어업 등에 대한 주권적 권리의 행사에 관한 법률.csv\n",
      "Processing : 법령별/백두대간 보호에 관한 법률.csv\n",
      "Updated file saved to: 법령별_중복제거/백두대간 보호에 관한 법률.csv\n",
      "Processing : 법령별/범죄수익은닉의 규제 및 처벌 등에 관한 법률.csv\n",
      "Updated file saved to: 법령별_중복제거/범죄수익은닉의 규제 및 처벌 등에 관한 법률.csv\n",
      "Processing : 법령별/범죄인 인도법.csv\n",
      "Updated file saved to: 법령별_중복제거/범죄인 인도법.csv\n",
      "Processing : 법령별/범죄피해자보호기금법.csv\n",
      "Updated file saved to: 법령별_중복제거/범죄피해자보호기금법.csv\n",
      "Processing : 법령별/범죄피해자 보호법.csv\n",
      "Updated file saved to: 법령별_중복제거/범죄피해자 보호법.csv\n",
      "Processing : 법령별/법령정보의 관리 및 제공에 관한 법률.csv\n",
      "Updated file saved to: 법령별_중복제거/법령정보의 관리 및 제공에 관한 법률.csv\n",
      "Processing : 법령별/법률구조법.csv\n",
      "Updated file saved to: 법령별_중복제거/법률구조법.csv\n",
      "Processing : 법령별/법인세법.csv\n",
      "Updated file saved to: 법령별_중복제거/법인세법.csv\n",
      "Processing : 법령별/벤처기업육성에 관한 특별법.csv\n",
      "Updated file saved to: 법령별_중복제거/벤처기업육성에 관한 특별법.csv\n",
      "Processing : 법령별/벤처투자 촉진에 관한 법률.csv\n",
      "Updated file saved to: 법령별_중복제거/벤처투자 촉진에 관한 법률.csv\n",
      "Processing : 법령별/별정우체국법.csv\n",
      "Updated file saved to: 법령별_중복제거/별정우체국법.csv\n",
      "Processing : 법령별/병원체자원의 수집ㆍ관리 및 활용 촉진에 관한 법률.csv\n",
      "Updated file saved to: 법령별_중복제거/병원체자원의 수집ㆍ관리 및 활용 촉진에 관한 법률.csv\n",
      "Processing : 법령별/보건의료기본법.csv\n",
      "Updated file saved to: 법령별_중복제거/보건의료기본법.csv\n",
      "Processing : 법령별/보건의료기술 진흥법.csv\n",
      "Updated file saved to: 법령별_중복제거/보건의료기술 진흥법.csv\n",
      "Processing : 법령별/보건의료인력지원법.csv\n",
      "Updated file saved to: 법령별_중복제거/보건의료인력지원법.csv\n",
      "Processing : 법령별/보조금 관리에 관한 법률.csv\n",
      "Updated file saved to: 법령별_중복제거/보조금 관리에 관한 법률.csv\n",
      "Processing : 법령별/보증인 보호를 위한 특별법.csv\n",
      "Updated file saved to: 법령별_중복제거/보증인 보호를 위한 특별법.csv\n",
      "Processing : 법령별/보행안전 및 편의증진에 관한 법률.csv\n",
      "Updated file saved to: 법령별_중복제거/보행안전 및 편의증진에 관한 법률.csv\n",
      "Processing : 법령별/보험사기방지 특별법.csv\n",
      "Updated file saved to: 법령별_중복제거/보험사기방지 특별법.csv\n",
      "Processing : 법령별/보험업법.csv\n",
      "Updated file saved to: 법령별_중복제거/보험업법.csv\n",
      "Processing : 법령별/보호소년 등의 처우에 관한 법률.csv\n",
      "Updated file saved to: 법령별_중복제거/보호소년 등의 처우에 관한 법률.csv\n",
      "Processing : 법령별/보호시설에 있는 미성년자의 후견 직무에 관한 법률.csv\n",
      "Updated file saved to: 법령별_중복제거/보호시설에 있는 미성년자의 후견 직무에 관한 법률.csv\n",
      "Processing : 법령별/보훈기금법.csv\n",
      "Updated file saved to: 법령별_중복제거/보훈기금법.csv\n",
      "Processing : 법령별/복권 및 복권기금법.csv\n",
      "Updated file saved to: 법령별_중복제거/복권 및 복권기금법.csv\n",
      "Processing : 법령별/본인서명사실 확인 등에 관한 법률.csv\n",
      "Updated file saved to: 법령별_중복제거/본인서명사실 확인 등에 관한 법률.csv\n",
      "Processing : 법령별/부가가치세법.csv\n",
      "Updated file saved to: 법령별_중복제거/부가가치세법.csv\n",
      "Processing : 법령별/부담금관리 기본법.csv\n",
      "Updated file saved to: 법령별_중복제거/부담금관리 기본법.csv\n",
      "Processing : 법령별/부동산 가격공시에 관한 법률.csv\n",
      "Updated file saved to: 법령별_중복제거/부동산 가격공시에 관한 법률.csv\n",
      "Processing : 법령별/부동산개발업의 관리 및 육성에 관한 법률.csv\n",
      "Updated file saved to: 법령별_중복제거/부동산개발업의 관리 및 육성에 관한 법률.csv\n",
      "Processing : 법령별/부동산 거래신고 등에 관한 법률.csv\n",
      "Updated file saved to: 법령별_중복제거/부동산 거래신고 등에 관한 법률.csv\n",
      "Processing : 법령별/부동산등기법.csv\n",
      "Updated file saved to: 법령별_중복제거/부동산등기법.csv\n",
      "Processing : 법령별/부동산서비스산업 진흥법.csv\n",
      "Updated file saved to: 법령별_중복제거/부동산서비스산업 진흥법.csv\n",
      "Processing : 법령별/부동산 실권리자명의 등기에 관한 법률.csv\n",
      "Updated file saved to: 법령별_중복제거/부동산 실권리자명의 등기에 관한 법률.csv\n",
      "Processing : 법령별/부동산투자회사법.csv\n",
      "Updated file saved to: 법령별_중복제거/부동산투자회사법.csv\n",
      "Processing : 법령별/부마민주항쟁 관련자의 명예회복 및 보상 등에 관한 법률.csv\n",
      "Updated file saved to: 법령별_중복제거/부마민주항쟁 관련자의 명예회복 및 보상 등에 관한 법률.csv\n",
      "Processing : 법령별/부재선고에 관한 특별조치법.csv\n",
      "Updated file saved to: 법령별_중복제거/부재선고에 관한 특별조치법.csv\n",
      "Processing : 법령별/부정경쟁방지 및 영업비밀보호에 관한 법률.csv\n",
      "Updated file saved to: 법령별_중복제거/부정경쟁방지 및 영업비밀보호에 관한 법률.csv\n",
      "Processing : 법령별/부정청탁 및 금품등 수수의 금지에 관한 법률.csv\n",
      "Updated file saved to: 법령별_중복제거/부정청탁 및 금품등 수수의 금지에 관한 법률.csv\n",
      "Processing : 법령별/부패방지 및 국민권익위원회의 설치와 운영에 관한 법률.csv\n",
      "Updated file saved to: 법령별_중복제거/부패방지 및 국민권익위원회의 설치와 운영에 관한 법률.csv\n",
      "Processing : 법령별/부패재산의 몰수 및 회복에 관한 특례법.csv\n",
      "Updated file saved to: 법령별_중복제거/부패재산의 몰수 및 회복에 관한 특례법.csv\n",
      "Processing : 법령별/북한이탈주민의 보호 및 정착지원에 관한 법률.csv\n",
      "Updated file saved to: 법령별_중복제거/북한이탈주민의 보호 및 정착지원에 관한 법률.csv\n",
      "Processing : 법령별/북한인권법.csv\n",
      "Updated file saved to: 법령별_중복제거/북한인권법.csv\n",
      "Processing : 법령별/분산에너지 활성화 특별법.csv\n",
      "Updated file saved to: 법령별_중복제거/분산에너지 활성화 특별법.csv\n",
      "Processing : 법령별/불공정무역행위 조사 및 산업피해구제에 관한 법률.csv\n",
      "Updated file saved to: 법령별_중복제거/불공정무역행위 조사 및 산업피해구제에 관한 법률.csv\n",
      "Processing : 법령별/불법정치자금 등의 몰수에 관한 특례법.csv\n",
      "Updated file saved to: 법령별_중복제거/불법정치자금 등의 몰수에 관한 특례법.csv\n",
      "Processing : 법령별/비료관리법.csv\n",
      "Updated file saved to: 법령별_중복제거/비료관리법.csv\n",
      "Processing : 법령별/비상대비에 관한 법률.csv\n",
      "Updated file saved to: 법령별_중복제거/비상대비에 관한 법률.csv\n",
      "Processing : 법령별/비상사태등에 대비하기 위한 해운 및 항만 기능 유지에 관한 법률.csv\n",
      "Updated file saved to: 법령별_중복제거/비상사태등에 대비하기 위한 해운 및 항만 기능 유지에 관한 법률.csv\n",
      "Processing : 법령별/비영리민간단체 지원법.csv\n",
      "Updated file saved to: 법령별_중복제거/비영리민간단체 지원법.csv\n",
      "Processing : 법령별/비파괴검사기술의 진흥 및 관리에 관한 법률.csv\n",
      "Updated file saved to: 법령별_중복제거/비파괴검사기술의 진흥 및 관리에 관한 법률.csv\n",
      "Processing : 법령별/빈집 및 소규모주택 정비에 관한 특례법.csv\n",
      "Updated file saved to: 법령별_중복제거/빈집 및 소규모주택 정비에 관한 특례법.csv\n",
      "Processing : 법령별/뿌리산업 진흥과 첨단화에 관한 법률.csv\n",
      "Updated file saved to: 법령별_중복제거/뿌리산업 진흥과 첨단화에 관한 법률.csv\n",
      "Processing : 법령별/사격 및 사격장 안전관리에 관한 법률.csv\n",
      "Updated file saved to: 법령별_중복제거/사격 및 사격장 안전관리에 관한 법률.csv\n",
      "Processing : 법령별/사도법.csv\n",
      "Updated file saved to: 법령별_중복제거/사도법.csv\n",
      "Processing : 법령별/사료관리법.csv\n",
      "Updated file saved to: 법령별_중복제거/사료관리법.csv\n",
      "Processing : 법령별/사료의 수집ㆍ편찬 및 한국사의 보급 등에 관한 법률.csv\n",
      "Updated file saved to: 법령별_중복제거/사료의 수집ㆍ편찬 및 한국사의 보급 등에 관한 법률.csv\n",
      "Processing : 법령별/사립학교교직원 연금법.csv\n",
      "Updated file saved to: 법령별_중복제거/사립학교교직원 연금법.csv\n",
      "Processing : 법령별/사립학교법.csv\n",
      "Updated file saved to: 법령별_중복제거/사립학교법.csv\n",
      "Processing : 법령별/사방사업법.csv\n",
      "Updated file saved to: 법령별_중복제거/사방사업법.csv\n",
      "Processing : 법령별/사할린동포 지원에 관한 특별법.csv\n",
      "Updated file saved to: 법령별_중복제거/사할린동포 지원에 관한 특별법.csv\n",
      "Processing : 법령별/사행산업통합감독위원회법.csv\n",
      "Updated file saved to: 법령별_중복제거/사행산업통합감독위원회법.csv\n",
      "Processing : 법령별/사행행위 등 규제 및 처벌 특례법.csv\n",
      "Updated file saved to: 법령별_중복제거/사행행위 등 규제 및 처벌 특례법.csv\n",
      "Processing : 법령별/사회기반시설에 대한 민간투자법.csv\n",
      "Updated file saved to: 법령별_중복제거/사회기반시설에 대한 민간투자법.csv\n",
      "Processing : 법령별/사회보장급여의 이용ㆍ제공 및 수급권자 발굴에 관한 법률.csv\n",
      "Updated file saved to: 법령별_중복제거/사회보장급여의 이용ㆍ제공 및 수급권자 발굴에 관한 법률.csv\n",
      "Processing : 법령별/사회보장기본법.csv\n",
      "Updated file saved to: 법령별_중복제거/사회보장기본법.csv\n",
      "Processing : 법령별/사회복지공동모금회법.csv\n",
      "Updated file saved to: 법령별_중복제거/사회복지공동모금회법.csv\n",
      "Processing : 법령별/사회복지사 등의 처우 및 지위 향상을 위한 법률.csv\n",
      "Updated file saved to: 법령별_중복제거/사회복지사 등의 처우 및 지위 향상을 위한 법률.csv\n",
      "Processing : 법령별/사회복지사업법.csv\n",
      "Updated file saved to: 법령별_중복제거/사회복지사업법.csv\n",
      "Processing : 법령별/사회서비스 이용 및 이용권 관리에 관한 법률.csv\n",
      "Updated file saved to: 법령별_중복제거/사회서비스 이용 및 이용권 관리에 관한 법률.csv\n",
      "Processing : 법령별/사회서비스 지원 및 사회서비스원 설립ㆍ운영에 관한 법률.csv\n",
      "Updated file saved to: 법령별_중복제거/사회서비스 지원 및 사회서비스원 설립ㆍ운영에 관한 법률.csv\n",
      "Processing : 법령별/사회적기업 육성법.csv\n",
      "Updated file saved to: 법령별_중복제거/사회적기업 육성법.csv\n",
      "Processing : 법령별/사회적 참사의 진상규명 및 안전사회 건설 등을 위한 특별법.csv\n",
      "Updated file saved to: 법령별_중복제거/사회적 참사의 진상규명 및 안전사회 건설 등을 위한 특별법.csv\n",
      "Processing : 법령별/산림교육의 활성화에 관한 법률.csv\n",
      "Updated file saved to: 법령별_중복제거/산림교육의 활성화에 관한 법률.csv\n",
      "Processing : 법령별/산림기본법.csv\n",
      "Updated file saved to: 법령별_중복제거/산림기본법.csv\n",
      "Processing : 법령별/산림기술 진흥 및 관리에 관한 법률.csv\n",
      "Updated file saved to: 법령별_중복제거/산림기술 진흥 및 관리에 관한 법률.csv\n",
      "Processing : 법령별/산림문화ㆍ휴양에 관한 법률.csv\n",
      "Updated file saved to: 법령별_중복제거/산림문화ㆍ휴양에 관한 법률.csv\n",
      "Processing : 법령별/산림보호법.csv\n",
      "Updated file saved to: 법령별_중복제거/산림보호법.csv\n",
      "Processing : 법령별/산림복지 진흥에 관한 법률.csv\n",
      "Updated file saved to: 법령별_중복제거/산림복지 진흥에 관한 법률.csv\n",
      "Processing : 법령별/산림자원의 조성 및 관리에 관한 법률.csv\n",
      "Updated file saved to: 법령별_중복제거/산림자원의 조성 및 관리에 관한 법률.csv\n",
      "Processing : 법령별/산림조합법.csv\n",
      "Updated file saved to: 법령별_중복제거/산림조합법.csv\n",
      "Processing : 법령별/산림조합의 구조개선에 관한 법률.csv\n",
      "Updated file saved to: 법령별_중복제거/산림조합의 구조개선에 관한 법률.csv\n",
      "Processing : 법령별/산업교육진흥 및 산학연협력촉진에 관한 법률.csv\n",
      "Updated file saved to: 법령별_중복제거/산업교육진흥 및 산학연협력촉진에 관한 법률.csv\n",
      "Processing : 법령별/산업기술단지 지원에 관한 특례법.csv\n",
      "Updated file saved to: 법령별_중복제거/산업기술단지 지원에 관한 특례법.csv\n",
      "Processing : 법령별/산업기술의 유출방지 및 보호에 관한 법률.csv\n",
      "Updated file saved to: 법령별_중복제거/산업기술의 유출방지 및 보호에 관한 법률.csv\n",
      "Processing : 법령별/산업기술혁신 촉진법.csv\n",
      "Updated file saved to: 법령별_중복제거/산업기술혁신 촉진법.csv\n",
      "Processing : 법령별/산업단지 인ㆍ허가 절차 간소화를 위한 특례법.csv\n",
      "Updated file saved to: 법령별_중복제거/산업단지 인ㆍ허가 절차 간소화를 위한 특례법.csv\n",
      "Processing : 법령별/산업디자인진흥법.csv\n",
      "Updated file saved to: 법령별_중복제거/산업디자인진흥법.csv\n",
      "Processing : 법령별/산업 디지털 전환 촉진법.csv\n",
      "Updated file saved to: 법령별_중복제거/산업 디지털 전환 촉진법.csv\n",
      "Processing : 법령별/산업안전보건법.csv\n",
      "Updated file saved to: 법령별_중복제거/산업안전보건법.csv\n",
      "Processing : 법령별/산업융합 촉진법.csv\n",
      "Updated file saved to: 법령별_중복제거/산업융합 촉진법.csv\n",
      "Processing : 법령별/산업입지 및 개발에 관한 법률.csv\n",
      "Updated file saved to: 법령별_중복제거/산업입지 및 개발에 관한 법률.csv\n",
      "Processing : 법령별/산업재산 정보의 관리 및 활용 촉진에 관한 법률.csv\n",
      "Updated file saved to: 법령별_중복제거/산업재산 정보의 관리 및 활용 촉진에 관한 법률.csv\n",
      "Processing : 법령별/산업재해보상보험법.csv\n",
      "Updated file saved to: 법령별_중복제거/산업재해보상보험법.csv\n",
      "Processing : 법령별/산업전환에 따른 고용안정 지원 등에 관한 법률.csv\n",
      "Updated file saved to: 법령별_중복제거/산업전환에 따른 고용안정 지원 등에 관한 법률.csv\n",
      "Processing : 법령별/산업집적활성화 및 공장설립에 관한 법률.csv\n",
      "Updated file saved to: 법령별_중복제거/산업집적활성화 및 공장설립에 관한 법률.csv\n",
      "Processing : 법령별/산업표준화법.csv\n",
      "Updated file saved to: 법령별_중복제거/산업표준화법.csv\n",
      "Processing : 법령별/산업현장 일학습병행 지원에 관한 법률.csv\n",
      "Updated file saved to: 법령별_중복제거/산업현장 일학습병행 지원에 관한 법률.csv\n",
      "Processing : 법령별/산지관리법.csv\n",
      "Updated file saved to: 법령별_중복제거/산지관리법.csv\n",
      "Processing : 법령별/삼차원프린팅산업 진흥법.csv\n",
      "Updated file saved to: 법령별_중복제거/삼차원프린팅산업 진흥법.csv\n",
      "Processing : 법령별/삼청교육피해자의 명예회복 및 보상에 관한 법률.csv\n",
      "Updated file saved to: 법령별_중복제거/삼청교육피해자의 명예회복 및 보상에 관한 법률.csv\n",
      "Processing : 법령별/상속세 및 증여세법.csv\n",
      "Updated file saved to: 법령별_중복제거/상속세 및 증여세법.csv\n",
      "Processing : 법령별/상업등기법.csv\n",
      "Updated file saved to: 법령별_중복제거/상업등기법.csv\n",
      "Processing : 법령별/상표법.csv\n",
      "Updated file saved to: 법령별_중복제거/상표법.csv\n",
      "Processing : 법령별/상호저축은행법.csv\n",
      "Updated file saved to: 법령별_중복제거/상호저축은행법.csv\n",
      "Processing : 법령별/새마을운동조직 육성법.csv\n",
      "Updated file saved to: 법령별_중복제거/새마을운동조직 육성법.csv\n",
      "Processing : 법령별/새만금사업 추진 및 지원에 관한 특별법.csv\n",
      "Updated file saved to: 법령별_중복제거/새만금사업 추진 및 지원에 관한 특별법.csv\n",
      "Processing : 법령별/생명공학육성법.csv\n",
      "Updated file saved to: 법령별_중복제거/생명공학육성법.csv\n",
      "Processing : 법령별/생명연구자원의 확보ㆍ관리 및 활용에 관한 법률.csv\n",
      "Updated file saved to: 법령별_중복제거/생명연구자원의 확보ㆍ관리 및 활용에 관한 법률.csv\n",
      "Processing : 법령별/생명윤리 및 안전에 관한 법률.csv\n",
      "Updated file saved to: 법령별_중복제거/생명윤리 및 안전에 관한 법률.csv\n",
      "Processing : 법령별/생물다양성 보전 및 이용에 관한 법률.csv\n",
      "Updated file saved to: 법령별_중복제거/생물다양성 보전 및 이용에 관한 법률.csv\n",
      "Processing : 법령별/생물자원관의 설립 및 운영에 관한 법률.csv\n",
      "Updated file saved to: 법령별_중복제거/생물자원관의 설립 및 운영에 관한 법률.csv\n",
      "Processing : 법령별/생활물류서비스산업발전법.csv\n",
      "Updated file saved to: 법령별_중복제거/생활물류서비스산업발전법.csv\n",
      "Processing : 법령별/생활주변방사선 안전관리법.csv\n",
      "Updated file saved to: 법령별_중복제거/생활주변방사선 안전관리법.csv\n",
      "Processing : 법령별/생활체육진흥법.csv\n",
      "Updated file saved to: 법령별_중복제거/생활체육진흥법.csv\n",
      "Processing : 법령별/생활화학제품 및 살생물제의 안전관리에 관한 법률.csv\n",
      "Updated file saved to: 법령별_중복제거/생활화학제품 및 살생물제의 안전관리에 관한 법률.csv\n",
      "Processing : 법령별/서민의 금융생활 지원에 관한 법률.csv\n",
      "Updated file saved to: 법령별_중복제거/서민의 금융생활 지원에 관한 법률.csv\n",
      "Processing : 법령별/서예진흥에 관한 법률.csv\n",
      "Updated file saved to: 법령별_중복제거/서예진흥에 관한 법률.csv\n",
      "Processing : 법령별/서해 5도 지원 특별법.csv\n",
      "Updated file saved to: 법령별_중복제거/서해 5도 지원 특별법.csv\n",
      "Processing : 법령별/석면안전관리법.csv\n",
      "Updated file saved to: 법령별_중복제거/석면안전관리법.csv\n",
      "Processing : 법령별/석면피해구제법.csv\n",
      "Updated file saved to: 법령별_중복제거/석면피해구제법.csv\n",
      "Processing : 법령별/석유 및 석유대체연료 사업법.csv\n",
      "Updated file saved to: 법령별_중복제거/석유 및 석유대체연료 사업법.csv\n",
      "Processing : 법령별/석재산업 진흥에 관한 법률.csv\n",
      "Updated file saved to: 법령별_중복제거/석재산업 진흥에 관한 법률.csv\n",
      "Processing : 법령별/석탄산업법.csv\n",
      "Updated file saved to: 법령별_중복제거/석탄산업법.csv\n",
      "Processing : 법령별/선박관리산업발전법.csv\n",
      "Updated file saved to: 법령별_중복제거/선박관리산업발전법.csv\n",
      "Processing : 법령별/선박교통관제에 관한 법률.csv\n",
      "Updated file saved to: 법령별_중복제거/선박교통관제에 관한 법률.csv\n",
      "Processing : 법령별/선박 및 해상구조물에 대한 위해행위의 처벌 등에 관한 법률.csv\n",
      "Updated file saved to: 법령별_중복제거/선박 및 해상구조물에 대한 위해행위의 처벌 등에 관한 법률.csv\n",
      "Processing : 법령별/선박법.csv\n",
      "Updated file saved to: 법령별_중복제거/선박법.csv\n",
      "Processing : 법령별/선박안전법.csv\n",
      "Updated file saved to: 법령별_중복제거/선박안전법.csv\n",
      "Processing : 법령별/선박의 입항 및 출항 등에 관한 법률.csv\n",
      "Updated file saved to: 법령별_중복제거/선박의 입항 및 출항 등에 관한 법률.csv\n",
      "Processing : 법령별/선박직원법.csv\n",
      "Updated file saved to: 법령별_중복제거/선박직원법.csv\n",
      "Processing : 법령별/선박투자회사법.csv\n",
      "Updated file saved to: 법령별_중복제거/선박투자회사법.csv\n",
      "Processing : 법령별/선박평형수(船舶平衡水) 관리법.csv\n",
      "Updated file saved to: 법령별_중복제거/선박평형수(船舶平衡水) 관리법.csv\n",
      "Processing : 법령별/선원법.csv\n",
      "Updated file saved to: 법령별_중복제거/선원법.csv\n",
      "Processing : 법령별/선주상호보험조합법.csv\n",
      "Updated file saved to: 법령별_중복제거/선주상호보험조합법.csv\n",
      "Processing : 법령별/섬 발전 촉진법.csv\n",
      "Updated file saved to: 법령별_중복제거/섬 발전 촉진법.csv\n",
      "Processing : 법령별/성균관ㆍ향교ㆍ서원전통문화의 계승ㆍ발전 및 지원에 관한 법률.csv\n",
      "Updated file saved to: 법령별_중복제거/성균관ㆍ향교ㆍ서원전통문화의 계승ㆍ발전 및 지원에 관한 법률.csv\n",
      "Processing : 법령별/성매매방지 및 피해자보호 등에 관한 법률.csv\n",
      "Updated file saved to: 법령별_중복제거/성매매방지 및 피해자보호 등에 관한 법률.csv\n",
      "Processing : 법령별/성매매알선 등 행위의 처벌에 관한 법률.csv\n",
      "Updated file saved to: 법령별_중복제거/성매매알선 등 행위의 처벌에 관한 법률.csv\n",
      "Processing : 법령별/성별영향평가법.csv\n",
      "Updated file saved to: 법령별_중복제거/성별영향평가법.csv\n",
      "Processing : 법령별/성폭력방지 및 피해자보호 등에 관한 법률.csv\n",
      "Updated file saved to: 법령별_중복제거/성폭력방지 및 피해자보호 등에 관한 법률.csv\n",
      "Processing : 법령별/성폭력범죄의 처벌 등에 관한 특례법.csv\n",
      "Updated file saved to: 법령별_중복제거/성폭력범죄의 처벌 등에 관한 특례법.csv\n",
      "Processing : 법령별/성폭력범죄자의 성충동 약물치료에 관한 법률.csv\n",
      "Updated file saved to: 법령별_중복제거/성폭력범죄자의 성충동 약물치료에 관한 법률.csv\n",
      "Processing : 법령별/세계유산의 보존ㆍ관리 및 활용에 관한 특별법.csv\n",
      "Updated file saved to: 법령별_중복제거/세계유산의 보존ㆍ관리 및 활용에 관한 특별법.csv\n",
      "Processing : 법령별/세무사법.csv\n",
      "Updated file saved to: 법령별_중복제거/세무사법.csv\n",
      "Processing : 법령별/세월호 선체조사위원회의 설치 및 운영에 관한 특별법.csv\n",
      "Updated file saved to: 법령별_중복제거/세월호 선체조사위원회의 설치 및 운영에 관한 특별법.csv\n",
      "Processing : 법령별/소규모 공공시설 안전관리 등에 관한 법률.csv\n",
      "Updated file saved to: 법령별_중복제거/소규모 공공시설 안전관리 등에 관한 법률.csv\n",
      "Processing : 법령별/소금산업 진흥법.csv\n",
      "Updated file saved to: 법령별_중복제거/소금산업 진흥법.csv\n",
      "Processing : 법령별/소나무재선충병 방제특별법.csv\n",
      "Updated file saved to: 법령별_중복제거/소나무재선충병 방제특별법.csv\n",
      "Processing : 법령별/소득세법.csv\n",
      "Updated file saved to: 법령별_중복제거/소득세법.csv\n",
      "Processing : 법령별/소방공무원법.csv\n",
      "Updated file saved to: 법령별_중복제거/소방공무원법.csv\n",
      "Processing : 법령별/소방공무원 보건안전 및 복지 기본법.csv\n",
      "Updated file saved to: 법령별_중복제거/소방공무원 보건안전 및 복지 기본법.csv\n",
      "Processing : 법령별/소방기본법.csv\n",
      "Updated file saved to: 법령별_중복제거/소방기본법.csv\n",
      "Processing : 법령별/소방산업의 진흥에 관한 법률.csv\n",
      "Updated file saved to: 법령별_중복제거/소방산업의 진흥에 관한 법률.csv\n",
      "Processing : 법령별/소방시설공사업법.csv\n",
      "Updated file saved to: 법령별_중복제거/소방시설공사업법.csv\n",
      "Processing : 법령별/소방시설 설치 및 관리에 관한 법률.csv\n",
      "Updated file saved to: 법령별_중복제거/소방시설 설치 및 관리에 관한 법률.csv\n",
      "Processing : 법령별/소방의 화재조사에 관한 법률.csv\n",
      "Updated file saved to: 법령별_중복제거/소방의 화재조사에 관한 법률.csv\n",
      "Processing : 법령별/소방장비관리법.csv\n",
      "Updated file saved to: 법령별_중복제거/소방장비관리법.csv\n",
      "Processing : 법령별/소방재정지원 및 시ㆍ도 소방특별회계 설치법.csv\n",
      "Updated file saved to: 법령별_중복제거/소방재정지원 및 시ㆍ도 소방특별회계 설치법.csv\n",
      "Processing : 법령별/소비자기본법.csv\n",
      "Updated file saved to: 법령별_중복제거/소비자기본법.csv\n",
      "Processing : 법령별/소비자생활협동조합법.csv\n",
      "Updated file saved to: 법령별_중복제거/소비자생활협동조합법.csv\n",
      "Processing : 법령별/소상공인기본법.csv\n",
      "Updated file saved to: 법령별_중복제거/소상공인기본법.csv\n",
      "Processing : 법령별/소상공인 보호 및 지원에 관한 법률.csv\n",
      "Updated file saved to: 법령별_중복제거/소상공인 보호 및 지원에 관한 법률.csv\n",
      "Processing : 법령별/소상공인 생계형 적합업종 지정에 관한 특별법.csv\n",
      "Updated file saved to: 법령별_중복제거/소상공인 생계형 적합업종 지정에 관한 특별법.csv\n",
      "Processing : 법령별/소음ㆍ진동관리법.csv\n",
      "Updated file saved to: 법령별_중복제거/소음ㆍ진동관리법.csv\n",
      "Processing : 법령별/소재ㆍ부품ㆍ장비산업 경쟁력 강화 및 공급망 안정화를 위한 특별조치법.csv\n",
      "Updated file saved to: 법령별_중복제거/소재ㆍ부품ㆍ장비산업 경쟁력 강화 및 공급망 안정화를 위한 특별조치법.csv\n",
      "Processing : 법령별/소프트웨어 진흥법.csv\n",
      "Updated file saved to: 법령별_중복제거/소프트웨어 진흥법.csv\n",
      "Processing : 법령별/소하천정비법.csv\n",
      "Updated file saved to: 법령별_중복제거/소하천정비법.csv\n",
      "Processing : 법령별/송ㆍ변전설비 주변지역의 보상 및 지원에 관한 법률.csv\n",
      "Updated file saved to: 법령별_중복제거/송ㆍ변전설비 주변지역의 보상 및 지원에 관한 법률.csv\n",
      "Processing : 법령별/송유관 안전관리법.csv\n",
      "Updated file saved to: 법령별_중복제거/송유관 안전관리법.csv\n",
      "Processing : 법령별/수도권매립지관리공사의 설립 및 운영 등에 관한 법률.csv\n",
      "Updated file saved to: 법령별_중복제거/수도권매립지관리공사의 설립 및 운영 등에 관한 법률.csv\n",
      "Processing : 법령별/수도권정비계획법.csv\n",
      "Updated file saved to: 법령별_중복제거/수도권정비계획법.csv\n",
      "Processing : 법령별/수도법.csv\n",
      "Updated file saved to: 법령별_중복제거/수도법.csv\n",
      "Processing : 법령별/수목원ㆍ정원의 조성 및 진흥에 관한 법률.csv\n",
      "Updated file saved to: 법령별_중복제거/수목원ㆍ정원의 조성 및 진흥에 관한 법률.csv\n",
      "Processing : 법령별/수복지역내소유자미복구토지의복구등록과보존등기등에관한특별조치법.csv\n",
      "Updated file saved to: 법령별_중복제거/수복지역내소유자미복구토지의복구등록과보존등기등에관한특별조치법.csv\n",
      "Processing : 법령별/수산과학기술진흥을 위한 시험연구 등에 관한 법률.csv\n",
      "Updated file saved to: 법령별_중복제거/수산과학기술진흥을 위한 시험연구 등에 관한 법률.csv\n",
      "Processing : 법령별/수산물 유통의 관리 및 지원에 관한 법률.csv\n",
      "Updated file saved to: 법령별_중복제거/수산물 유통의 관리 및 지원에 관한 법률.csv\n",
      "Processing : 법령별/수산부산물 재활용 촉진에 관한 법률.csv\n",
      "Updated file saved to: 법령별_중복제거/수산부산물 재활용 촉진에 관한 법률.csv\n",
      "Processing : 법령별/수산생물질병 관리법.csv\n",
      "Updated file saved to: 법령별_중복제거/수산생물질병 관리법.csv\n",
      "Processing : 법령별/수산식품산업의 육성 및 지원에 관한 법률.csv\n",
      "Updated file saved to: 법령별_중복제거/수산식품산업의 육성 및 지원에 관한 법률.csv\n",
      "Processing : 법령별/수산업법.csv\n",
      "Updated file saved to: 법령별_중복제거/수산업법.csv\n",
      "Processing : 법령별/수산업ㆍ어촌 공익기능 증진을 위한 직접지불제도 운영에 관한 법률.csv\n",
      "Updated file saved to: 법령별_중복제거/수산업ㆍ어촌 공익기능 증진을 위한 직접지불제도 운영에 관한 법률.csv\n",
      "Processing : 법령별/수산업ㆍ어촌 발전 기본법.csv\n",
      "Updated file saved to: 법령별_중복제거/수산업ㆍ어촌 발전 기본법.csv\n",
      "Processing : 법령별/수산업협동조합법.csv\n",
      "Updated file saved to: 법령별_중복제거/수산업협동조합법.csv\n",
      "Processing : 법령별/수산업협동조합의 부실예방 및 구조개선에 관한 법률.csv\n",
      "Updated file saved to: 법령별_중복제거/수산업협동조합의 부실예방 및 구조개선에 관한 법률.csv\n",
      "Processing : 법령별/수산자원관리법.csv\n",
      "Updated file saved to: 법령별_중복제거/수산자원관리법.csv\n",
      "Processing : 법령별/수산종자산업육성법.csv\n",
      "Updated file saved to: 법령별_중복제거/수산종자산업육성법.csv\n",
      "Processing : 법령별/수상레저기구의 등록 및 검사에 관한 법률.csv\n",
      "Updated file saved to: 법령별_중복제거/수상레저기구의 등록 및 검사에 관한 법률.csv\n",
      "Processing : 법령별/수상레저안전법.csv\n",
      "Updated file saved to: 법령별_중복제거/수상레저안전법.csv\n",
      "Processing : 법령별/수상에서의 수색ㆍ구조 등에 관한 법률.csv\n",
      "Updated file saved to: 법령별_중복제거/수상에서의 수색ㆍ구조 등에 관한 법률.csv\n",
      "Processing : 법령별/수소경제 육성 및 수소 안전관리에 관한 법률.csv\n",
      "Updated file saved to: 법령별_중복제거/수소경제 육성 및 수소 안전관리에 관한 법률.csv\n",
      "Processing : 법령별/수의사법.csv\n",
      "Updated file saved to: 법령별_중복제거/수의사법.csv\n",
      "Processing : 법령별/수입식품안전관리 특별법.csv\n",
      "Updated file saved to: 법령별_중복제거/수입식품안전관리 특별법.csv\n",
      "Processing : 법령별/수자원의 조사ㆍ계획 및 관리에 관한 법률.csv\n",
      "Updated file saved to: 법령별_중복제거/수자원의 조사ㆍ계획 및 관리에 관한 법률.csv\n",
      "Processing : 법령별/수중레저활동의 안전 및 활성화 등에 관한 법률.csv\n",
      "Updated file saved to: 법령별_중복제거/수중레저활동의 안전 및 활성화 등에 관한 법률.csv\n",
      "Processing : 법령별/수출용 원재료에 대한 관세 등 환급에 관한 특례법.csv\n",
      "Updated file saved to: 법령별_중복제거/수출용 원재료에 대한 관세 등 환급에 관한 특례법.csv\n",
      "Processing : 법령별/숙련기술장려법.csv\n",
      "Updated file saved to: 법령별_중복제거/숙련기술장려법.csv\n",
      "Processing : 법령별/순환경제사회 전환 촉진법.csv\n",
      "Updated file saved to: 법령별_중복제거/순환경제사회 전환 촉진법.csv\n",
      "Processing : 법령별/스마트농업 육성 및 지원에 관한 법률.csv\n",
      "Updated file saved to: 법령별_중복제거/스마트농업 육성 및 지원에 관한 법률.csv\n",
      "Processing : 법령별/스마트도시 조성 및 산업진흥 등에 관한 법률.csv\n",
      "Updated file saved to: 법령별_중복제거/스마트도시 조성 및 산업진흥 등에 관한 법률.csv\n",
      "Processing : 법령별/스카우트활동 육성에 관한 법률.csv\n",
      "Updated file saved to: 법령별_중복제거/스카우트활동 육성에 관한 법률.csv\n",
      "Processing : 법령별/스토킹방지 및 피해자보호 등에 관한 법률.csv\n",
      "Updated file saved to: 법령별_중복제거/스토킹방지 및 피해자보호 등에 관한 법률.csv\n",
      "Processing : 법령별/스토킹범죄의 처벌 등에 관한 법률.csv\n",
      "Updated file saved to: 법령별_중복제거/스토킹범죄의 처벌 등에 관한 법률.csv\n",
      "Processing : 법령별/스포츠기본법.csv\n",
      "Updated file saved to: 법령별_중복제거/스포츠기본법.csv\n",
      "Processing : 법령별/스포츠산업 진흥법.csv\n",
      "Updated file saved to: 법령별_중복제거/스포츠산업 진흥법.csv\n",
      "Processing : 법령별/스포츠클럽법.csv\n",
      "Updated file saved to: 법령별_중복제거/스포츠클럽법.csv\n",
      "Processing : 법령별/습지보전법.csv\n",
      "Updated file saved to: 법령별_중복제거/습지보전법.csv\n",
      "Processing : 법령별/승강기산업 진흥법.csv\n",
      "Updated file saved to: 법령별_중복제거/승강기산업 진흥법.csv\n",
      "Processing : 법령별/승강기 안전관리법.csv\n",
      "Updated file saved to: 법령별_중복제거/승강기 안전관리법.csv\n",
      "Processing : 법령별/시국사건관련 임용제외 교원의 피해회복을 위한 조치에 관한 특별법.csv\n",
      "Updated file saved to: 법령별_중복제거/시국사건관련 임용제외 교원의 피해회복을 위한 조치에 관한 특별법.csv\n",
      "Processing : 법령별/시설물의 안전 및 유지관리에 관한 특별법.csv\n",
      "Updated file saved to: 법령별_중복제거/시설물의 안전 및 유지관리에 관한 특별법.csv\n",
      "Processing : 법령별/식물방역법.csv\n",
      "Updated file saved to: 법령별_중복제거/식물방역법.csv\n",
      "Processing : 법령별/식물신품종 보호법.csv\n",
      "Updated file saved to: 법령별_중복제거/식물신품종 보호법.csv\n",
      "Processing : 법령별/식생활교육지원법.csv\n",
      "Updated file saved to: 법령별_중복제거/식생활교육지원법.csv\n",
      "Processing : 법령별/식품등 기부 활성화에 관한 법률.csv\n",
      "Updated file saved to: 법령별_중복제거/식품등 기부 활성화에 관한 법률.csv\n",
      "Processing : 법령별/식품 등의 표시ㆍ광고에 관한 법률.csv\n",
      "Updated file saved to: 법령별_중복제거/식품 등의 표시ㆍ광고에 관한 법률.csv\n",
      "Processing : 법령별/식품산업진흥법.csv\n",
      "Updated file saved to: 법령별_중복제거/식품산업진흥법.csv\n",
      "Processing : 법령별/식품안전기본법.csv\n",
      "Updated file saved to: 법령별_중복제거/식품안전기본법.csv\n",
      "Processing : 법령별/식품위생법.csv\n",
      "Updated file saved to: 법령별_중복제거/식품위생법.csv\n",
      "Processing : 법령별/식품ㆍ의약품 등의 안전 및 제품화 지원에 관한 규제과학혁신법.csv\n",
      "Updated file saved to: 법령별_중복제거/식품ㆍ의약품 등의 안전 및 제품화 지원에 관한 규제과학혁신법.csv\n",
      "Processing : 법령별/식품ㆍ의약품분야 시험ㆍ검사 등에 관한 법률.csv\n",
      "Updated file saved to: 법령별_중복제거/식품ㆍ의약품분야 시험ㆍ검사 등에 관한 법률.csv\n",
      "Processing : 법령별/신라왕경 핵심유적 복원ㆍ정비에 관한 특별법.csv\n",
      "Updated file saved to: 법령별_중복제거/신라왕경 핵심유적 복원ㆍ정비에 관한 특별법.csv\n",
      "Processing : 법령별/신문 등의 진흥에 관한 법률.csv\n",
      "Updated file saved to: 법령별_중복제거/신문 등의 진흥에 관한 법률.csv\n",
      "Processing : 법령별/신에너지 및 재생에너지 개발ㆍ이용ㆍ보급 촉진법.csv\n",
      "Updated file saved to: 법령별_중복제거/신에너지 및 재생에너지 개발ㆍ이용ㆍ보급 촉진법.csv\n",
      "Processing : 법령별/신용보증기금법.csv\n",
      "Updated file saved to: 법령별_중복제거/신용보증기금법.csv\n",
      "Processing : 법령별/신용정보의 이용 및 보호에 관한 법률.csv\n",
      "Updated file saved to: 법령별_중복제거/신용정보의 이용 및 보호에 관한 법률.csv\n",
      "Processing : 법령별/신용협동조합법.csv\n",
      "Updated file saved to: 법령별_중복제거/신용협동조합법.csv\n",
      "Processing : 법령별/신원보증법.csv\n",
      "Updated file saved to: 법령별_중복제거/신원보증법.csv\n",
      "Processing : 법령별/신항만건설 촉진법.csv\n",
      "Updated file saved to: 법령별_중복제거/신항만건설 촉진법.csv\n",
      "Processing : 법령별/신행정수도 후속대책을 위한 연기ㆍ공주지역 행정중심복합도시 건설을 위한 특별법.csv\n",
      "Updated file saved to: 법령별_중복제거/신행정수도 후속대책을 위한 연기ㆍ공주지역 행정중심복합도시 건설을 위한 특별법.csv\n",
      "Processing : 법령별/실내공기질 관리법.csv\n",
      "Updated file saved to: 법령별_중복제거/실내공기질 관리법.csv\n",
      "Processing : 법령별/실용신안법.csv\n",
      "Updated file saved to: 법령별_중복제거/실용신안법.csv\n",
      "Processing : 법령별/실종아동등의 보호 및 지원에 관한 법률.csv\n",
      "Updated file saved to: 법령별_중복제거/실종아동등의 보호 및 지원에 관한 법률.csv\n",
      "Processing : 법령별/실험동물에 관한 법률.csv\n",
      "Updated file saved to: 법령별_중복제거/실험동물에 관한 법률.csv\n",
      "Processing : 법령별/심뇌혈관질환의 예방 및 관리에 관한 법률.csv\n",
      "Updated file saved to: 법령별_중복제거/심뇌혈관질환의 예방 및 관리에 관한 법률.csv\n",
      "Processing : 법령별/쌀가공산업 육성 및 쌀 이용 촉진에 관한 법률.csv\n",
      "Updated file saved to: 법령별_중복제거/쌀가공산업 육성 및 쌀 이용 촉진에 관한 법률.csv\n",
      "Processing : 법령별/씨름 진흥법.csv\n",
      "Updated file saved to: 법령별_중복제거/씨름 진흥법.csv\n",
      "Processing : 법령별/아동복지법.csv\n",
      "Updated file saved to: 법령별_중복제거/아동복지법.csv\n",
      "Processing : 법령별/아동수당법.csv\n",
      "Updated file saved to: 법령별_중복제거/아동수당법.csv\n",
      "Processing : 법령별/아동의 빈곤예방 및 지원 등에 관한 법률.csv\n",
      "Updated file saved to: 법령별_중복제거/아동의 빈곤예방 및 지원 등에 관한 법률.csv\n",
      "Processing : 법령별/아동ㆍ청소년의 성보호에 관한 법률.csv\n",
      "Updated file saved to: 법령별_중복제거/아동ㆍ청소년의 성보호에 관한 법률.csv\n",
      "Processing : 법령별/아동학대범죄의 처벌 등에 관한 특례법.csv\n",
      "Updated file saved to: 법령별_중복제거/아동학대범죄의 처벌 등에 관한 특례법.csv\n",
      "Processing : 법령별/아시아문화중심도시 조성에 관한 특별법.csv\n",
      "Updated file saved to: 법령별_중복제거/아시아문화중심도시 조성에 관한 특별법.csv\n",
      "Processing : 법령별/아이돌봄 지원법.csv\n",
      "Updated file saved to: 법령별_중복제거/아이돌봄 지원법.csv\n",
      "Processing : 법령별/악취방지법.csv\n",
      "Updated file saved to: 법령별_중복제거/악취방지법.csv\n",
      "Processing : 법령별/애니메이션산업 진흥에 관한 법률.csv\n",
      "Updated file saved to: 법령별_중복제거/애니메이션산업 진흥에 관한 법률.csv\n",
      "Processing : 법령별/액화석유가스의 안전관리 및 사업법.csv\n",
      "Updated file saved to: 법령별_중복제거/액화석유가스의 안전관리 및 사업법.csv\n",
      "Processing : 법령별/야생생물 보호 및 관리에 관한 법률.csv\n",
      "Updated file saved to: 법령별_중복제거/야생생물 보호 및 관리에 관한 법률.csv\n",
      "Processing : 법령별/약관의 규제에 관한 법률.csv\n",
      "Updated file saved to: 법령별_중복제거/약관의 규제에 관한 법률.csv\n",
      "Processing : 법령별/약사법.csv\n",
      "Updated file saved to: 법령별_중복제거/약사법.csv\n",
      "Processing : 법령별/약식절차 등에서의 전자문서 이용 등에 관한 법률.csv\n",
      "Updated file saved to: 법령별_중복제거/약식절차 등에서의 전자문서 이용 등에 관한 법률.csv\n",
      "Processing : 법령별/양곡관리법.csv\n",
      "Updated file saved to: 법령별_중복제거/양곡관리법.csv\n",
      "Processing : 법령별/양봉산업의 육성 및 지원에 관한 법률.csv\n",
      "Updated file saved to: 법령별_중복제거/양봉산업의 육성 및 지원에 관한 법률.csv\n",
      "Processing : 법령별/양성평등기본법.csv\n",
      "Updated file saved to: 법령별_중복제거/양성평등기본법.csv\n",
      "Processing : 법령별/양식산업발전법.csv\n",
      "Updated file saved to: 법령별_중복제거/양식산업발전법.csv\n",
      "Processing : 법령별/양육비 이행확보 및 지원에 관한 법률.csv\n",
      "Updated file saved to: 법령별_중복제거/양육비 이행확보 및 지원에 관한 법률.csv\n",
      "Processing : 법령별/어린이놀이시설 안전관리법.csv\n",
      "Updated file saved to: 법령별_중복제거/어린이놀이시설 안전관리법.csv\n",
      "Processing : 법령별/어린이 식생활안전관리 특별법.csv\n",
      "Updated file saved to: 법령별_중복제거/어린이 식생활안전관리 특별법.csv\n",
      "Processing : 법령별/어린이안전관리에 관한 법률.csv\n",
      "Updated file saved to: 법령별_중복제거/어린이안전관리에 관한 법률.csv\n",
      "Processing : 법령별/어린이제품 안전 특별법.csv\n",
      "Updated file saved to: 법령별_중복제거/어린이제품 안전 특별법.csv\n",
      "Processing : 법령별/어선법.csv\n",
      "Updated file saved to: 법령별_중복제거/어선법.csv\n",
      "Processing : 법령별/어선안전조업법.csv\n",
      "Updated file saved to: 법령별_중복제거/어선안전조업법.csv\n",
      "Processing : 법령별/어선원 및 어선 재해보상보험법.csv\n",
      "Updated file saved to: 법령별_중복제거/어선원 및 어선 재해보상보험법.csv\n",
      "Processing : 법령별/어장관리법.csv\n",
      "Updated file saved to: 법령별_중복제거/어장관리법.csv\n",
      "Processing : 법령별/어촌ㆍ어항법.csv\n",
      "Updated file saved to: 법령별_중복제거/어촌ㆍ어항법.csv\n",
      "Processing : 법령별/어촌특화발전 지원 특별법.csv\n",
      "Updated file saved to: 법령별_중복제거/어촌특화발전 지원 특별법.csv\n",
      "Processing : 법령별/언론중재 및 피해구제 등에 관한 법률.csv\n",
      "Updated file saved to: 법령별_중복제거/언론중재 및 피해구제 등에 관한 법률.csv\n",
      "Processing : 법령별/에너지 및 자원사업 특별회계법.csv\n",
      "Updated file saved to: 법령별_중복제거/에너지 및 자원사업 특별회계법.csv\n",
      "Processing : 법령별/에너지법.csv\n",
      "Updated file saved to: 법령별_중복제거/에너지법.csv\n",
      "Processing : 법령별/에너지산업융복합단지의 지정 및 육성에 관한 특별법.csv\n",
      "Updated file saved to: 법령별_중복제거/에너지산업융복합단지의 지정 및 육성에 관한 특별법.csv\n",
      "Processing : 법령별/에너지이용 합리화법.csv\n",
      "Updated file saved to: 법령별_중복제거/에너지이용 합리화법.csv\n",
      "Processing : 법령별/엔지니어링산업 진흥법.csv\n",
      "Updated file saved to: 법령별_중복제거/엔지니어링산업 진흥법.csv\n",
      "Processing : 법령별/여객자동차 운수사업법.csv\n",
      "Updated file saved to: 법령별_중복제거/여객자동차 운수사업법.csv\n",
      "Processing : 법령별/여성과학기술인 육성 및 지원에 관한 법률.csv\n",
      "Updated file saved to: 법령별_중복제거/여성과학기술인 육성 및 지원에 관한 법률.csv\n",
      "Processing : 법령별/여성기업지원에 관한 법률.csv\n",
      "Updated file saved to: 법령별_중복제거/여성기업지원에 관한 법률.csv\n",
      "Processing : 법령별/여성농어업인 육성법.csv\n",
      "Updated file saved to: 법령별_중복제거/여성농어업인 육성법.csv\n",
      "Processing : 법령별/여성의 경제활동 촉진과 경력단절 예방법.csv\n",
      "Updated file saved to: 법령별_중복제거/여성의 경제활동 촉진과 경력단절 예방법.csv\n",
      "Processing : 법령별/여성폭력방지기본법.csv\n",
      "Updated file saved to: 법령별_중복제거/여성폭력방지기본법.csv\n",
      "Processing : 법령별/여수세계박람회 기념 및 사후활용에 관한 특별법.csv\n",
      "Updated file saved to: 법령별_중복제거/여수세계박람회 기념 및 사후활용에 관한 특별법.csv\n",
      "Processing : 법령별/여수ㆍ순천 10ㆍ19사건 진상규명 및 희생자 명예회복에 관한 특별법.csv\n",
      "Updated file saved to: 법령별_중복제거/여수ㆍ순천 10ㆍ19사건 진상규명 및 희생자 명예회복에 관한 특별법.csv\n",
      "Processing : 법령별/여신전문금융업법.csv\n",
      "Updated file saved to: 법령별_중복제거/여신전문금융업법.csv\n",
      "Processing : 법령별/역사문화권 정비 등에 관한 특별법.csv\n",
      "Updated file saved to: 법령별_중복제거/역사문화권 정비 등에 관한 특별법.csv\n",
      "Processing : 법령별/역세권의 개발 및 이용에 관한 법률.csv\n",
      "Updated file saved to: 법령별_중복제거/역세권의 개발 및 이용에 관한 법률.csv\n",
      "Processing : 법령별/연구개발특구의 육성에 관한 특별법.csv\n",
      "Updated file saved to: 법령별_중복제거/연구개발특구의 육성에 관한 특별법.csv\n",
      "Processing : 법령별/연구산업진흥법.csv\n",
      "Updated file saved to: 법령별_중복제거/연구산업진흥법.csv\n",
      "Processing : 법령별/연구실 안전환경 조성에 관한 법률.csv\n",
      "Updated file saved to: 법령별_중복제거/연구실 안전환경 조성에 관한 법률.csv\n",
      "Processing : 법령별/연근해어업의 구조개선 및 지원에 관한 법률.csv\n",
      "Updated file saved to: 법령별_중복제거/연근해어업의 구조개선 및 지원에 관한 법률.csv\n",
      "Processing : 법령별/연안관리법.csv\n",
      "Updated file saved to: 법령별_중복제거/연안관리법.csv\n",
      "Processing : 법령별/연안사고 예방에 관한 법률.csv\n",
      "Updated file saved to: 법령별_중복제거/연안사고 예방에 관한 법률.csv\n",
      "Processing : 법령별/영산강ㆍ섬진강수계 물관리 및 주민지원 등에 관한 법률.csv\n",
      "Updated file saved to: 법령별_중복제거/영산강ㆍ섬진강수계 물관리 및 주민지원 등에 관한 법률.csv\n",
      "Processing : 법령별/영상진흥기본법.csv\n",
      "Updated file saved to: 법령별_중복제거/영상진흥기본법.csv\n",
      "Processing : 법령별/영유아보육법.csv\n",
      "Updated file saved to: 법령별_중복제거/영유아보육법.csv\n",
      "Processing : 법령별/영화 및 비디오물의 진흥에 관한 법률.csv\n",
      "Updated file saved to: 법령별_중복제거/영화 및 비디오물의 진흥에 관한 법률.csv\n",
      "Processing : 법령별/예금자보호법.csv\n",
      "Updated file saved to: 법령별_중복제거/예금자보호법.csv\n",
      "Processing : 법령별/예술인 복지법.csv\n",
      "Updated file saved to: 법령별_중복제거/예술인 복지법.csv\n",
      "Processing : 법령별/예술인의 지위와 권리의 보장에 관한 법률.csv\n",
      "Updated file saved to: 법령별_중복제거/예술인의 지위와 권리의 보장에 관한 법률.csv\n",
      "Processing : 법령별/오존층 보호 등을 위한 특정물질의 관리에 관한 법률.csv\n",
      "Updated file saved to: 법령별_중복제거/오존층 보호 등을 위한 특정물질의 관리에 관한 법률.csv\n",
      "Processing : 법령별/옥외광고물 등의 관리와 옥외광고산업 진흥에 관한 법률.csv\n",
      "Updated file saved to: 법령별_중복제거/옥외광고물 등의 관리와 옥외광고산업 진흥에 관한 법률.csv\n",
      "Processing : 법령별/온라인투자연계금융업 및 이용자 보호에 관한 법률.csv\n",
      "Updated file saved to: 법령별_중복제거/온라인투자연계금융업 및 이용자 보호에 관한 법률.csv\n",
      "Processing : 법령별/온실가스 배출권의 할당 및 거래에 관한 법률.csv\n",
      "Updated file saved to: 법령별_중복제거/온실가스 배출권의 할당 및 거래에 관한 법률.csv\n",
      "Processing : 법령별/온천법.csv\n",
      "Updated file saved to: 법령별_중복제거/온천법.csv\n",
      "Processing : 법령별/외국인투자 촉진법.csv\n",
      "Updated file saved to: 법령별_중복제거/외국인투자 촉진법.csv\n",
      "Processing : 법령별/외국환거래법.csv\n",
      "Updated file saved to: 법령별_중복제거/외국환거래법.csv\n",
      "Processing : 법령별/외식산업 진흥법.csv\n",
      "Updated file saved to: 법령별_중복제거/외식산업 진흥법.csv\n",
      "Processing : 법령별/용산공원 조성 특별법.csv\n",
      "Updated file saved to: 법령별_중복제거/용산공원 조성 특별법.csv\n",
      "Processing : 법령별/우정사업 운영에 관한 특례법.csv\n",
      "Updated file saved to: 법령별_중복제거/우정사업 운영에 관한 특례법.csv\n",
      "Processing : 법령별/우주개발 진흥법.csv\n",
      "Updated file saved to: 법령별_중복제거/우주개발 진흥법.csv\n",
      "Processing : 법령별/우주손해배상법.csv\n",
      "Updated file saved to: 법령별_중복제거/우주손해배상법.csv\n",
      "Processing : 법령별/우주항공청의 설치 및 운영에 관한 특별법.csv\n",
      "Updated file saved to: 법령별_중복제거/우주항공청의 설치 및 운영에 관한 특별법.csv\n",
      "Processing : 법령별/우체국예금ㆍ보험에 관한 법률.csv\n",
      "Updated file saved to: 법령별_중복제거/우체국예금ㆍ보험에 관한 법률.csv\n",
      "Processing : 법령별/우체국창구업무의 위탁에 관한 법률.csv\n",
      "Updated file saved to: 법령별_중복제거/우체국창구업무의 위탁에 관한 법률.csv\n",
      "Processing : 법령별/우편대체법.csv\n",
      "Updated file saved to: 법령별_중복제거/우편대체법.csv\n",
      "Processing : 법령별/우편법.csv\n",
      "Updated file saved to: 법령별_중복제거/우편법.csv\n",
      "Processing : 법령별/우편환법.csv\n",
      "Updated file saved to: 법령별_중복제거/우편환법.csv\n",
      "Processing : 법령별/원격영상재판에 관한 특례법.csv\n",
      "Updated file saved to: 법령별_중복제거/원격영상재판에 관한 특례법.csv\n",
      "Processing : 법령별/원양산업발전법.csv\n",
      "Updated file saved to: 법령별_중복제거/원양산업발전법.csv\n",
      "Processing : 법령별/원자력 손해배상법.csv\n",
      "Updated file saved to: 법령별_중복제거/원자력 손해배상법.csv\n",
      "Processing : 법령별/원자력손해배상 보상계약에 관한 법률.csv\n",
      "Updated file saved to: 법령별_중복제거/원자력손해배상 보상계약에 관한 법률.csv\n",
      "Processing : 법령별/원자력시설 등의 방호 및 방사능 방재 대책법.csv\n",
      "Updated file saved to: 법령별_중복제거/원자력시설 등의 방호 및 방사능 방재 대책법.csv\n",
      "Processing : 법령별/원자력안전법.csv\n",
      "Updated file saved to: 법령별_중복제거/원자력안전법.csv\n",
      "Processing : 법령별/원자력안전 정보공개 및 소통에 관한 법률.csv\n",
      "Updated file saved to: 법령별_중복제거/원자력안전 정보공개 및 소통에 관한 법률.csv\n",
      "Processing : 법령별/원자력 진흥법.csv\n",
      "Updated file saved to: 법령별_중복제거/원자력 진흥법.csv\n",
      "Processing : 법령별/원호재산특별처리법.csv\n",
      "Updated file saved to: 법령별_중복제거/원호재산특별처리법.csv\n",
      "Processing : 법령별/위기 임신 및 보호출산 지원과 아동 보호에 관한 특별법.csv\n",
      "Updated file saved to: 법령별_중복제거/위기 임신 및 보호출산 지원과 아동 보호에 관한 특별법.csv\n",
      "Processing : 법령별/위생용품 관리법.csv\n",
      "Updated file saved to: 법령별_중복제거/위생용품 관리법.csv\n",
      "Processing : 법령별/위치정보의 보호 및 이용 등에 관한 법률.csv\n",
      "Updated file saved to: 법령별_중복제거/위치정보의 보호 및 이용 등에 관한 법률.csv\n",
      "Processing : 법령별/위험물안전관리법.csv\n",
      "Updated file saved to: 법령별_중복제거/위험물안전관리법.csv\n",
      "Processing : 법령별/유기성 폐자원을 활용한 바이오가스의 생산 및 이용 촉진법.csv\n",
      "Updated file saved to: 법령별_중복제거/유기성 폐자원을 활용한 바이오가스의 생산 및 이용 촉진법.csv\n",
      "Processing : 법령별/유네스코 활동에 관한 법률.csv\n",
      "Updated file saved to: 법령별_중복제거/유네스코 활동에 관한 법률.csv\n",
      "Processing : 법령별/유료도로법.csv\n",
      "Updated file saved to: 법령별_중복제거/유료도로법.csv\n",
      "Processing : 법령별/유류오염손해배상 보장법.csv\n",
      "Updated file saved to: 법령별_중복제거/유류오염손해배상 보장법.csv\n",
      "Processing : 법령별/유사수신행위의 규제에 관한 법률.csv\n",
      "Updated file saved to: 법령별_중복제거/유사수신행위의 규제에 관한 법률.csv\n",
      "Processing : 법령별/유선 및 도선 사업법.csv\n",
      "Updated file saved to: 법령별_중복제거/유선 및 도선 사업법.csv\n",
      "Processing : 법령별/유아교육법.csv\n",
      "Updated file saved to: 법령별_중복제거/유아교육법.csv\n",
      "Processing : 법령별/유엔참전용사의 명예선양 등에 관한 법률.csv\n",
      "Updated file saved to: 법령별_중복제거/유엔참전용사의 명예선양 등에 관한 법률.csv\n",
      "Processing : 법령별/유전자변형생물체의 국가간 이동 등에 관한 법률.csv\n",
      "Updated file saved to: 법령별_중복제거/유전자변형생물체의 국가간 이동 등에 관한 법률.csv\n",
      "Processing : 법령별/유전자원의 접근ㆍ이용 및 이익 공유에 관한 법률.csv\n",
      "Updated file saved to: 법령별_중복제거/유전자원의 접근ㆍ이용 및 이익 공유에 관한 법률.csv\n",
      "Processing : 법령별/유통산업발전법.csv\n",
      "Updated file saved to: 법령별_중복제거/유통산업발전법.csv\n",
      "Processing : 법령별/은행법.csv\n",
      "Updated file saved to: 법령별_중복제거/은행법.csv\n",
      "Processing : 법령별/음악산업진흥에 관한 법률.csv\n",
      "Updated file saved to: 법령별_중복제거/음악산업진흥에 관한 법률.csv\n",
      "Processing : 법령별/응급의료에 관한 법률.csv\n",
      "Updated file saved to: 법령별_중복제거/응급의료에 관한 법률.csv\n",
      "Processing : 법령별/의료급여법.csv\n",
      "Updated file saved to: 법령별_중복제거/의료급여법.csv\n",
      "Processing : 법령별/의료기기법.csv\n",
      "Updated file saved to: 법령별_중복제거/의료기기법.csv\n",
      "Processing : 법령별/의료기기산업 육성 및 혁신의료기기 지원법.csv\n",
      "Updated file saved to: 법령별_중복제거/의료기기산업 육성 및 혁신의료기기 지원법.csv\n",
      "Processing : 법령별/의료기사 등에 관한 법률.csv\n",
      "Updated file saved to: 법령별_중복제거/의료기사 등에 관한 법률.csv\n",
      "Processing : 법령별/의료사고 피해구제 및 의료분쟁 조정 등에 관한 법률.csv\n",
      "Updated file saved to: 법령별_중복제거/의료사고 피해구제 및 의료분쟁 조정 등에 관한 법률.csv\n",
      "Processing : 법령별/의료 해외진출 및 외국인환자 유치 지원에 관한 법률.csv\n",
      "Updated file saved to: 법령별_중복제거/의료 해외진출 및 외국인환자 유치 지원에 관한 법률.csv\n",
      "Processing : 법령별/의사상자 등 예우 및 지원에 관한 법률.csv\n",
      "Updated file saved to: 법령별_중복제거/의사상자 등 예우 및 지원에 관한 법률.csv\n",
      "Processing : 법령별/이동통신단말장치 유통구조 개선에 관한 법률.csv\n",
      "Updated file saved to: 법령별_중복제거/이동통신단말장치 유통구조 개선에 관한 법률.csv\n",
      "Processing : 법령별/이러닝(전자학습)산업 발전 및 이러닝 활용 촉진에 관한 법률.csv\n",
      "Updated file saved to: 법령별_중복제거/이러닝(전자학습)산업 발전 및 이러닝 활용 촉진에 관한 법률.csv\n",
      "Processing : 법령별/이북5도 등에 관한 특별조치법.csv\n",
      "Updated file saved to: 법령별_중복제거/이북5도 등에 관한 특별조치법.csv\n",
      "Processing : 법령별/이스포츠(전자스포츠) 진흥에 관한 법률.csv\n",
      "Updated file saved to: 법령별_중복제거/이스포츠(전자스포츠) 진흥에 관한 법률.csv\n",
      "Processing : 법령별/이중상환청구권부 채권 발행에 관한 법률.csv\n",
      "Updated file saved to: 법령별_중복제거/이중상환청구권부 채권 발행에 관한 법률.csv\n",
      "Processing : 법령별/인공조명에 의한 빛공해 방지법.csv\n",
      "Updated file saved to: 법령별_중복제거/인공조명에 의한 빛공해 방지법.csv\n",
      "Processing : 법령별/인구감소지역 지원 특별법.csv\n",
      "Updated file saved to: 법령별_중복제거/인구감소지역 지원 특별법.csv\n",
      "Processing : 법령별/인문학 및 인문정신문화의 진흥에 관한 법률.csv\n",
      "Updated file saved to: 법령별_중복제거/인문학 및 인문정신문화의 진흥에 관한 법률.csv\n",
      "Processing : 법령별/인사청문회법.csv\n",
      "Updated file saved to: 법령별_중복제거/인사청문회법.csv\n",
      "Processing : 법령별/인삼산업법.csv\n",
      "Updated file saved to: 법령별_중복제거/인삼산업법.csv\n",
      "Processing : 법령별/인성교육진흥법.csv\n",
      "Updated file saved to: 법령별_중복제거/인성교육진흥법.csv\n",
      "Processing : 법령별/인쇄문화산업 진흥법.csv\n",
      "Updated file saved to: 법령별_중복제거/인쇄문화산업 진흥법.csv\n",
      "Processing : 법령별/인신매매등방지 및 피해자보호 등에 관한 법률.csv\n",
      "Updated file saved to: 법령별_중복제거/인신매매등방지 및 피해자보호 등에 관한 법률.csv\n",
      "Processing : 법령별/인적자원개발 기본법.csv\n",
      "Updated file saved to: 법령별_중복제거/인적자원개발 기본법.csv\n",
      "Processing : 법령별/인지세법.csv\n",
      "Updated file saved to: 법령별_중복제거/인지세법.csv\n",
      "Processing : 법령별/인체적용제품의 위해성평가에 관한 법률.csv\n",
      "Updated file saved to: 법령별_중복제거/인체적용제품의 위해성평가에 관한 법률.csv\n",
      "Processing : 법령별/인체조직안전 및 관리 등에 관한 법률.csv\n",
      "Updated file saved to: 법령별_중복제거/인체조직안전 및 관리 등에 관한 법률.csv\n",
      "Processing : 법령별/인터넷 멀티미디어 방송사업법.csv\n",
      "Updated file saved to: 법령별_중복제거/인터넷 멀티미디어 방송사업법.csv\n",
      "Processing : 법령별/인터넷전문은행 설립 및 운영에 관한 특례법.csv\n",
      "Updated file saved to: 법령별_중복제거/인터넷전문은행 설립 및 운영에 관한 특례법.csv\n",
      "Processing : 법령별/인터넷주소자원에 관한 법률.csv\n",
      "Updated file saved to: 법령별_중복제거/인터넷주소자원에 관한 법률.csv\n",
      "Processing : 법령별/일제강점하 반민족행위 진상규명에 관한 특별법.csv\n",
      "Updated file saved to: 법령별_중복제거/일제강점하 반민족행위 진상규명에 관한 특별법.csv\n",
      "Processing : 법령별/일제하 일본군위안부 피해자에 대한 보호ㆍ지원 및 기념사업 등에 관한 법률.csv\n",
      "Updated file saved to: 법령별_중복제거/일제하 일본군위안부 피해자에 대한 보호ㆍ지원 및 기념사업 등에 관한 법률.csv\n",
      "Processing : 법령별/임금채권보장법.csv\n",
      "Updated file saved to: 법령별_중복제거/임금채권보장법.csv\n",
      "Processing : 법령별/임업 및 산촌 진흥촉진에 관한 법률.csv\n",
      "Updated file saved to: 법령별_중복제거/임업 및 산촌 진흥촉진에 관한 법률.csv\n",
      "Processing : 법령별/임업ㆍ산림 공익기능 증진을 위한 직접지불제도 운영에 관한 법률.csv\n",
      "Updated file saved to: 법령별_중복제거/임업ㆍ산림 공익기능 증진을 위한 직접지불제도 운영에 관한 법률.csv\n",
      "Processing : 법령별/임용결격공무원 등에 대한 퇴직보상금지급 등에 관한 특례법.csv\n",
      "Updated file saved to: 법령별_중복제거/임용결격공무원 등에 대한 퇴직보상금지급 등에 관한 특례법.csv\n",
      "Processing : 법령별/입양특례법.csv\n",
      "Updated file saved to: 법령별_중복제거/입양특례법.csv\n",
      "Processing : 법령별/자격기본법.csv\n",
      "Updated file saved to: 법령별_중복제거/자격기본법.csv\n",
      "Processing : 법령별/자동차관리법.csv\n",
      "Updated file saved to: 법령별_중복제거/자동차관리법.csv\n",
      "Processing : 법령별/자동차 등 특정동산 저당법.csv\n",
      "Updated file saved to: 법령별_중복제거/자동차 등 특정동산 저당법.csv\n",
      "Processing : 법령별/자동차손해배상 보장법.csv\n",
      "Updated file saved to: 법령별_중복제거/자동차손해배상 보장법.csv\n",
      "Processing : 법령별/자산유동화에 관한 법률.csv\n",
      "Updated file saved to: 법령별_중복제거/자산유동화에 관한 법률.csv\n",
      "Processing : 법령별/자산재평가법.csv\n",
      "Updated file saved to: 법령별_중복제거/자산재평가법.csv\n",
      "Processing : 법령별/자살예방 및 생명존중문화 조성을 위한 법률.csv\n",
      "Updated file saved to: 법령별_중복제거/자살예방 및 생명존중문화 조성을 위한 법률.csv\n",
      "Processing : 법령별/자연공원법.csv\n",
      "Updated file saved to: 법령별_중복제거/자연공원법.csv\n",
      "Processing : 법령별/자연유산의 보존 및 활용에 관한 법률.csv\n",
      "Updated file saved to: 법령별_중복제거/자연유산의 보존 및 활용에 관한 법률.csv\n",
      "Processing : 법령별/자연재해대책법.csv\n",
      "Updated file saved to: 법령별_중복제거/자연재해대책법.csv\n",
      "Processing : 법령별/자연환경보전법.csv\n",
      "Updated file saved to: 법령별_중복제거/자연환경보전법.csv\n",
      "Processing : 법령별/자원봉사활동 기본법.csv\n",
      "Updated file saved to: 법령별_중복제거/자원봉사활동 기본법.csv\n",
      "Processing : 법령별/자원의 절약과 재활용촉진에 관한 법률.csv\n",
      "Updated file saved to: 법령별_중복제거/자원의 절약과 재활용촉진에 관한 법률.csv\n",
      "Processing : 법령별/자유무역지역의 지정 및 운영에 관한 법률.csv\n",
      "Updated file saved to: 법령별_중복제거/자유무역지역의 지정 및 운영에 관한 법률.csv\n",
      "Processing : 법령별/자유무역협정의 이행을 위한 관세법의 특례에 관한 법률.csv\n",
      "Updated file saved to: 법령별_중복제거/자유무역협정의 이행을 위한 관세법의 특례에 관한 법률.csv\n",
      "Processing : 법령별/자유무역협정 체결에 따른 농어업인 등의 지원에 관한 특별법.csv\n",
      "Updated file saved to: 법령별_중복제거/자유무역협정 체결에 따른 농어업인 등의 지원에 관한 특별법.csv\n",
      "Processing : 법령별/자율관리어업 육성 및 지원에 관한 법률.csv\n",
      "Updated file saved to: 법령별_중복제거/자율관리어업 육성 및 지원에 관한 법률.csv\n",
      "Processing : 법령별/자율방범대 설치 및 운영에 관한 법률.csv\n",
      "Updated file saved to: 법령별_중복제거/자율방범대 설치 및 운영에 관한 법률.csv\n",
      "Processing : 법령별/자율주행자동차 상용화 촉진 및 지원에 관한 법률.csv\n",
      "Updated file saved to: 법령별_중복제거/자율주행자동차 상용화 촉진 및 지원에 관한 법률.csv\n",
      "Processing : 법령별/자전거 이용 활성화에 관한 법률.csv\n",
      "Updated file saved to: 법령별_중복제거/자전거 이용 활성화에 관한 법률.csv\n",
      "Processing : 법령별/작은도서관 진흥법.csv\n",
      "Updated file saved to: 법령별_중복제거/작은도서관 진흥법.csv\n",
      "Processing : 법령별/잔류성오염물질 관리법.csv\n",
      "Updated file saved to: 법령별_중복제거/잔류성오염물질 관리법.csv\n",
      "Processing : 법령별/잡지 등 정기간행물의 진흥에 관한 법률.csv\n",
      "Updated file saved to: 법령별_중복제거/잡지 등 정기간행물의 진흥에 관한 법률.csv\n",
      "Processing : 법령별/장기공공임대주택 입주자 삶의 질 향상 지원법.csv\n",
      "Updated file saved to: 법령별_중복제거/장기공공임대주택 입주자 삶의 질 향상 지원법.csv\n",
      "Processing : 법령별/장기등 이식에 관한 법률.csv\n",
      "Updated file saved to: 법령별_중복제거/장기등 이식에 관한 법률.csv\n",
      "Processing : 법령별/장사 등에 관한 법률.csv\n",
      "Updated file saved to: 법령별_중복제거/장사 등에 관한 법률.csv\n",
      "Processing : 법령별/장애아동 복지지원법.csv\n",
      "Updated file saved to: 법령별_중복제거/장애아동 복지지원법.csv\n",
      "Processing : 법령별/장애예술인 문화예술 활동 지원에 관한 법률.csv\n",
      "Updated file saved to: 법령별_중복제거/장애예술인 문화예술 활동 지원에 관한 법률.csv\n",
      "Processing : 법령별/장애인 건강권 및 의료접근성 보장에 관한 법률.csv\n",
      "Updated file saved to: 법령별_중복제거/장애인 건강권 및 의료접근성 보장에 관한 법률.csv\n",
      "Processing : 법령별/장애인ㆍ고령자 등 주거약자 지원에 관한 법률.csv\n",
      "Updated file saved to: 법령별_중복제거/장애인ㆍ고령자 등 주거약자 지원에 관한 법률.csv\n",
      "Processing : 법령별/장애인고용촉진 및 직업재활법.csv\n",
      "Updated file saved to: 법령별_중복제거/장애인고용촉진 및 직업재활법.csv\n",
      "Processing : 법령별/장애인기업활동 촉진법.csv\n",
      "Updated file saved to: 법령별_중복제거/장애인기업활동 촉진법.csv\n",
      "Processing : 법령별/장애인ㆍ노인 등을 위한 보조기기 지원 및 활용촉진에 관한 법률.csv\n",
      "Updated file saved to: 법령별_중복제거/장애인ㆍ노인 등을 위한 보조기기 지원 및 활용촉진에 관한 법률.csv\n",
      "Processing : 법령별/장애인ㆍ노인ㆍ임산부 등의 편의증진 보장에 관한 법률.csv\n",
      "Updated file saved to: 법령별_중복제거/장애인ㆍ노인ㆍ임산부 등의 편의증진 보장에 관한 법률.csv\n",
      "Processing : 법령별/장애인 등에 대한 특수교육법.csv\n",
      "Updated file saved to: 법령별_중복제거/장애인 등에 대한 특수교육법.csv\n",
      "Processing : 법령별/장애인연금법.csv\n",
      "Updated file saved to: 법령별_중복제거/장애인연금법.csv\n",
      "Processing : 법령별/장애인차별금지 및 권리구제 등에 관한 법률.csv\n",
      "Updated file saved to: 법령별_중복제거/장애인차별금지 및 권리구제 등에 관한 법률.csv\n",
      "Processing : 법령별/장애인활동 지원에 관한 법률.csv\n",
      "Updated file saved to: 법령별_중복제거/장애인활동 지원에 관한 법률.csv\n",
      "Processing : 법령별/재건축초과이익 환수에 관한 법률.csv\n",
      "Updated file saved to: 법령별_중복제거/재건축초과이익 환수에 관한 법률.csv\n",
      "Processing : 법령별/재난관리자원의 관리 등에 관한 법률.csv\n",
      "Updated file saved to: 법령별_중복제거/재난관리자원의 관리 등에 관한 법률.csv\n",
      "Processing : 법령별/재난 및 안전관리 기본법.csv\n",
      "Updated file saved to: 법령별_중복제거/재난 및 안전관리 기본법.csv\n",
      "Processing : 법령별/재난안전산업 진흥법.csv\n",
      "Updated file saved to: 법령별_중복제거/재난안전산업 진흥법.csv\n",
      "Processing : 법령별/재난안전통신망법.csv\n",
      "Updated file saved to: 법령별_중복제거/재난안전통신망법.csv\n",
      "Processing : 법령별/재난적의료비 지원에 관한 법률.csv\n",
      "Updated file saved to: 법령별_중복제거/재난적의료비 지원에 관한 법률.csv\n",
      "Processing : 법령별/재외국민보호를 위한 영사조력법.csv\n",
      "Updated file saved to: 법령별_중복제거/재외국민보호를 위한 영사조력법.csv\n",
      "Processing : 법령별/재외국민의 교육지원 등에 관한 법률.csv\n",
      "Updated file saved to: 법령별_중복제거/재외국민의 교육지원 등에 관한 법률.csv\n",
      "Processing : 법령별/재외동포기본법.csv\n",
      "Updated file saved to: 법령별_중복제거/재외동포기본법.csv\n",
      "Processing : 법령별/재외동포의 출입국과 법적 지위에 관한 법률.csv\n",
      "Updated file saved to: 법령별_중복제거/재외동포의 출입국과 법적 지위에 관한 법률.csv\n",
      "Processing : 법령별/재일교포 북송저지 특수임무수행자 보상에 관한 법률.csv\n",
      "Updated file saved to: 법령별_중복제거/재일교포 북송저지 특수임무수행자 보상에 관한 법률.csv\n",
      "Processing : 법령별/재한외국인 처우 기본법.csv\n",
      "Updated file saved to: 법령별_중복제거/재한외국인 처우 기본법.csv\n",
      "Processing : 법령별/재해경감을 위한 기업의 자율활동 지원에 관한 법률.csv\n",
      "Updated file saved to: 법령별_중복제거/재해경감을 위한 기업의 자율활동 지원에 관한 법률.csv\n",
      "Processing : 법령별/재해구호법.csv\n",
      "Updated file saved to: 법령별_중복제거/재해구호법.csv\n",
      "Processing : 법령별/재해위험 개선사업 및 이주대책에 관한 특별법.csv\n",
      "Updated file saved to: 법령별_중복제거/재해위험 개선사업 및 이주대책에 관한 특별법.csv\n",
      "Processing : 법령별/저수지ㆍ댐의 안전관리 및 재해예방에 관한 법률.csv\n",
      "Updated file saved to: 법령별_중복제거/저수지ㆍ댐의 안전관리 및 재해예방에 관한 법률.csv\n",
      "Processing : 법령별/저작권법.csv\n",
      "Updated file saved to: 법령별_중복제거/저작권법.csv\n",
      "Processing : 법령별/저출산ㆍ고령사회기본법.csv\n",
      "Updated file saved to: 법령별_중복제거/저출산ㆍ고령사회기본법.csv\n",
      "Processing : 법령별/적합성평가 관리 등에 관한 법률.csv\n",
      "Updated file saved to: 법령별_중복제거/적합성평가 관리 등에 관한 법률.csv\n",
      "Processing : 법령별/전공의의 수련환경 개선 및 지위 향상을 위한 법률.csv\n",
      "Updated file saved to: 법령별_중복제거/전공의의 수련환경 개선 및 지위 향상을 위한 법률.csv\n",
      "Processing : 법령별/전기공사공제조합법.csv\n",
      "Updated file saved to: 법령별_중복제거/전기공사공제조합법.csv\n",
      "Processing : 법령별/전기공사업법.csv\n",
      "Updated file saved to: 법령별_중복제거/전기공사업법.csv\n",
      "Processing : 법령별/전기사업법.csv\n",
      "Updated file saved to: 법령별_중복제거/전기사업법.csv\n",
      "Processing : 법령별/전기안전관리법.csv\n",
      "Updated file saved to: 법령별_중복제거/전기안전관리법.csv\n",
      "Processing : 법령별/전기용품 및 생활용품 안전관리법.csv\n",
      "Updated file saved to: 법령별_중복제거/전기용품 및 생활용품 안전관리법.csv\n",
      "Processing : 법령별/전기ㆍ전자제품 및 자동차의 자원순환에 관한 법률.csv\n",
      "Updated file saved to: 법령별_중복제거/전기ㆍ전자제품 및 자동차의 자원순환에 관한 법률.csv\n",
      "Processing : 법령별/전기통신금융사기 피해 방지 및 피해금 환급에 관한 특별법.csv\n",
      "Updated file saved to: 법령별_중복제거/전기통신금융사기 피해 방지 및 피해금 환급에 관한 특별법.csv\n",
      "Processing : 법령별/전기통신기본법.csv\n",
      "Updated file saved to: 법령별_중복제거/전기통신기본법.csv\n",
      "Processing : 법령별/전기통신사업법.csv\n",
      "Updated file saved to: 법령별_중복제거/전기통신사업법.csv\n",
      "Processing : 법령별/전력기술관리법.csv\n",
      "Updated file saved to: 법령별_중복제거/전력기술관리법.csv\n",
      "Processing : 법령별/전사ㆍ순직한 진급예정자의 진급에 관한 특별법.csv\n",
      "Updated file saved to: 법령별_중복제거/전사ㆍ순직한 진급예정자의 진급에 관한 특별법.csv\n",
      "Processing : 법령별/전세사기피해자 지원 및 주거안정에 관한 특별법.csv\n",
      "Updated file saved to: 법령별_중복제거/전세사기피해자 지원 및 주거안정에 관한 특별법.csv\n",
      "Processing : 법령별/전시산업발전법.csv\n",
      "Updated file saved to: 법령별_중복제거/전시산업발전법.csv\n",
      "Processing : 법령별/전원개발촉진법.csv\n",
      "Updated file saved to: 법령별_중복제거/전원개발촉진법.csv\n",
      "Processing : 법령별/전자금융거래법.csv\n",
      "Updated file saved to: 법령별_중복제거/전자금융거래법.csv\n",
      "Processing : 법령별/전자무역 촉진에 관한 법률.csv\n",
      "Updated file saved to: 법령별_중복제거/전자무역 촉진에 관한 법률.csv\n",
      "Processing : 법령별/전자문서 및 전자거래 기본법.csv\n",
      "Updated file saved to: 법령별_중복제거/전자문서 및 전자거래 기본법.csv\n",
      "Processing : 법령별/전자상거래 등에서의 소비자보호에 관한 법률.csv\n",
      "Updated file saved to: 법령별_중복제거/전자상거래 등에서의 소비자보호에 관한 법률.csv\n",
      "Processing : 법령별/전자서명법.csv\n",
      "Updated file saved to: 법령별_중복제거/전자서명법.csv\n",
      "Processing : 법령별/전자어음의 발행 및 유통에 관한 법률.csv\n",
      "Updated file saved to: 법령별_중복제거/전자어음의 발행 및 유통에 관한 법률.csv\n",
      "Processing : 법령별/전자장치 부착 등에 관한 법률.csv\n",
      "Updated file saved to: 법령별_중복제거/전자장치 부착 등에 관한 법률.csv\n",
      "Processing : 법령별/전자정부법.csv\n",
      "Updated file saved to: 법령별_중복제거/전자정부법.csv\n",
      "Processing : 법령별/전자조달의 이용 및 촉진에 관한 법률.csv\n",
      "Updated file saved to: 법령별_중복제거/전자조달의 이용 및 촉진에 관한 법률.csv\n",
      "Processing : 법령별/전직대통령 예우에 관한 법률.csv\n",
      "Updated file saved to: 법령별_중복제거/전직대통령 예우에 관한 법률.csv\n",
      "Processing : 법령별/전통무예진흥법.csv\n",
      "Updated file saved to: 법령별_중복제거/전통무예진흥법.csv\n",
      "Processing : 법령별/전통문화산업 진흥법.csv\n",
      "Updated file saved to: 법령별_중복제거/전통문화산업 진흥법.csv\n",
      "Processing : 법령별/전통사찰의 보존 및 지원에 관한 법률.csv\n",
      "Updated file saved to: 법령별_중복제거/전통사찰의 보존 및 지원에 관한 법률.csv\n",
      "Processing : 법령별/전통 소싸움경기에 관한 법률.csv\n",
      "Updated file saved to: 법령별_중복제거/전통 소싸움경기에 관한 법률.csv\n",
      "Processing : 법령별/전통시장 및 상점가 육성을 위한 특별법.csv\n",
      "Updated file saved to: 법령별_중복제거/전통시장 및 상점가 육성을 위한 특별법.csv\n",
      "Processing : 법령별/전통주 등의 산업진흥에 관한 법률.csv\n",
      "Updated file saved to: 법령별_중복제거/전통주 등의 산업진흥에 관한 법률.csv\n",
      "Processing : 법령별/전파법.csv\n",
      "Updated file saved to: 법령별_중복제거/전파법.csv\n",
      "Processing : 법령별/점자법.csv\n",
      "Updated file saved to: 법령별_중복제거/점자법.csv\n",
      "Processing : 법령별/접경지역 지원 특별법.csv\n",
      "Updated file saved to: 법령별_중복제거/접경지역 지원 특별법.csv\n",
      "Processing : 법령별/정당법.csv\n",
      "Updated file saved to: 법령별_중복제거/정당법.csv\n",
      "Processing : 법령별/정보보호산업의 진흥에 관한 법률.csv\n",
      "Updated file saved to: 법령별_중복제거/정보보호산업의 진흥에 관한 법률.csv\n",
      "Processing : 법령별/정보통신공사업법.csv\n",
      "Updated file saved to: 법령별_중복제거/정보통신공사업법.csv\n",
      "Processing : 법령별/정보통신기반 보호법.csv\n",
      "Updated file saved to: 법령별_중복제거/정보통신기반 보호법.csv\n",
      "Processing : 법령별/정보통신망 이용촉진 및 정보보호 등에 관한 법률.csv\n",
      "Updated file saved to: 법령별_중복제거/정보통신망 이용촉진 및 정보보호 등에 관한 법률.csv\n",
      "Processing : 법령별/정보통신산업 진흥법.csv\n",
      "Updated file saved to: 법령별_중복제거/정보통신산업 진흥법.csv\n",
      "Processing : 법령별/정보통신 진흥 및 융합 활성화 등에 관한 특별법.csv\n",
      "Updated file saved to: 법령별_중복제거/정보통신 진흥 및 융합 활성화 등에 관한 특별법.csv\n",
      "Processing : 법령별/정부기관 및 공공법인 등의 광고시행에 관한 법률.csv\n",
      "Updated file saved to: 법령별_중복제거/정부기관 및 공공법인 등의 광고시행에 관한 법률.csv\n",
      "Processing : 법령별/정부업무평가 기본법.csv\n",
      "Updated file saved to: 법령별_중복제거/정부업무평가 기본법.csv\n",
      "Processing : 법령별/정부출연연구기관 등의 설립ㆍ운영 및 육성에 관한 법률.csv\n",
      "Updated file saved to: 법령별_중복제거/정부출연연구기관 등의 설립ㆍ운영 및 육성에 관한 법률.csv\n",
      "Processing : 법령별/정신건강증진 및 정신질환자 복지서비스 지원에 관한 법률.csv\n",
      "Updated file saved to: 법령별_중복제거/정신건강증진 및 정신질환자 복지서비스 지원에 관한 법률.csv\n",
      "Processing : 법령별/정치자금법.csv\n",
      "Updated file saved to: 법령별_중복제거/정치자금법.csv\n",
      "Processing : 법령별/제2연평해전 전사자 보상에 관한 특별법.csv\n",
      "Updated file saved to: 법령별_중복제거/제2연평해전 전사자 보상에 관한 특별법.csv\n",
      "Processing : 법령별/제대군인지원에 관한 법률.csv\n",
      "Updated file saved to: 법령별_중복제거/제대군인지원에 관한 법률.csv\n",
      "Processing : 법령별/제대혈 관리 및 연구에 관한 법률.csv\n",
      "Updated file saved to: 법령별_중복제거/제대혈 관리 및 연구에 관한 법률.csv\n",
      "Processing : 법령별/제약산업 육성 및 지원에 관한 특별법.csv\n",
      "Updated file saved to: 법령별_중복제거/제약산업 육성 및 지원에 관한 특별법.csv\n",
      "Processing : 법령별/제조물 책임법.csv\n",
      "Updated file saved to: 법령별_중복제거/제조물 책임법.csv\n",
      "Processing : 법령별/제주4ㆍ3사건 진상규명 및 희생자 명예회복에 관한 특별법.csv\n",
      "Updated file saved to: 법령별_중복제거/제주4ㆍ3사건 진상규명 및 희생자 명예회복에 관한 특별법.csv\n",
      "Processing : 법령별/제주특별자치도 설치 및 국제자유도시 조성을 위한 특별법.csv\n",
      "Updated file saved to: 법령별_중복제거/제주특별자치도 설치 및 국제자유도시 조성을 위한 특별법.csv\n",
      "Processing : 법령별/제품안전기본법.csv\n",
      "Updated file saved to: 법령별_중복제거/제품안전기본법.csv\n",
      "Processing : 법령별/조경진흥법.csv\n",
      "Updated file saved to: 법령별_중복제거/조경진흥법.csv\n",
      "Processing : 법령별/조달사업에 관한 법률.csv\n",
      "Updated file saved to: 법령별_중복제거/조달사업에 관한 법률.csv\n",
      "Processing : 법령별/조세범 처벌법.csv\n",
      "Updated file saved to: 법령별_중복제거/조세범 처벌법.csv\n",
      "Processing : 법령별/조세범 처벌절차법.csv\n",
      "Updated file saved to: 법령별_중복제거/조세범 처벌절차법.csv\n",
      "Processing : 법령별/조세특례제한법.csv\n",
      "Updated file saved to: 법령별_중복제거/조세특례제한법.csv\n",
      "Processing : 법령별/종자산업법.csv\n",
      "Updated file saved to: 법령별_중복제거/종자산업법.csv\n",
      "Processing : 법령별/종합부동산세법.csv\n",
      "Updated file saved to: 법령별_중복제거/종합부동산세법.csv\n",
      "Processing : 법령별/주거급여법.csv\n",
      "Updated file saved to: 법령별_중복제거/주거급여법.csv\n",
      "Processing : 법령별/주류 면허 등에 관한 법률.csv\n",
      "Updated file saved to: 법령별_중복제거/주류 면허 등에 관한 법률.csv\n",
      "Processing : 법령별/주세법.csv\n",
      "Updated file saved to: 법령별_중복제거/주세법.csv\n",
      "Processing : 법령별/주식ㆍ사채 등의 전자등록에 관한 법률.csv\n",
      "Updated file saved to: 법령별_중복제거/주식ㆍ사채 등의 전자등록에 관한 법률.csv\n",
      "Processing : 법령별/주식회사 등의 외부감사에 관한 법률.csv\n",
      "Updated file saved to: 법령별_중복제거/주식회사 등의 외부감사에 관한 법률.csv\n",
      "Processing : 법령별/주차장법.csv\n",
      "Updated file saved to: 법령별_중복제거/주차장법.csv\n",
      "Processing : 법령별/주택도시기금법.csv\n",
      "Updated file saved to: 법령별_중복제거/주택도시기금법.csv\n",
      "Processing : 법령별/주택법.csv\n",
      "Updated file saved to: 법령별_중복제거/주택법.csv\n",
      "Processing : 법령별/주한미군 공여구역주변지역 등 지원 특별법.csv\n",
      "Updated file saved to: 법령별_중복제거/주한미군 공여구역주변지역 등 지원 특별법.csv\n",
      "Processing : 법령별/주한미군기지 이전에 따른 평택시 등의 지원 등에 관한 특별법.csv\n",
      "Updated file saved to: 법령별_중복제거/주한미군기지 이전에 따른 평택시 등의 지원 등에 관한 특별법.csv\n",
      "Processing : 법령별/주한미군 소속 한국인 근로자의 지원을 위한 특별법.csv\n",
      "Updated file saved to: 법령별_중복제거/주한미군 소속 한국인 근로자의 지원을 위한 특별법.csv\n",
      "Processing : 법령별/중견기업 성장촉진 및 경쟁력 강화에 관한 특별법.csv\n",
      "Updated file saved to: 법령별_중복제거/중견기업 성장촉진 및 경쟁력 강화에 관한 특별법.csv\n",
      "Processing : 법령별/중대재해 처벌 등에 관한 법률.csv\n",
      "Updated file saved to: 법령별_중복제거/중대재해 처벌 등에 관한 법률.csv\n",
      "Processing : 법령별/중부내륙연계발전지역 지원에 관한 특별법.csv\n",
      "Updated file saved to: 법령별_중복제거/중부내륙연계발전지역 지원에 관한 특별법.csv\n",
      "Processing : 법령별/중소기업기술 보호 지원에 관한 법률.csv\n",
      "Updated file saved to: 법령별_중복제거/중소기업기술 보호 지원에 관한 법률.csv\n",
      "Processing : 법령별/중소기업 기술혁신 촉진법.csv\n",
      "Updated file saved to: 법령별_중복제거/중소기업 기술혁신 촉진법.csv\n",
      "Processing : 법령별/중소기업 사업전환 촉진에 관한 특별법.csv\n",
      "Updated file saved to: 법령별_중복제거/중소기업 사업전환 촉진에 관한 특별법.csv\n",
      "Processing : 법령별/중소기업 스마트제조혁신 촉진에 관한 법률.csv\n",
      "Updated file saved to: 법령별_중복제거/중소기업 스마트제조혁신 촉진에 관한 법률.csv\n",
      "Processing : 법령별/중소기업은행법.csv\n",
      "Updated file saved to: 법령별_중복제거/중소기업은행법.csv\n",
      "Processing : 법령별/중소기업 인력지원 특별법.csv\n",
      "Updated file saved to: 법령별_중복제거/중소기업 인력지원 특별법.csv\n",
      "Processing : 법령별/중소기업제품 구매촉진 및 판로지원에 관한 법률.csv\n",
      "Updated file saved to: 법령별_중복제거/중소기업제품 구매촉진 및 판로지원에 관한 법률.csv\n",
      "Processing : 법령별/중소기업진흥에 관한 법률.csv\n",
      "Updated file saved to: 법령별_중복제거/중소기업진흥에 관한 법률.csv\n",
      "Processing : 법령별/중소기업창업 지원법.csv\n",
      "Updated file saved to: 법령별_중복제거/중소기업창업 지원법.csv\n",
      "Processing : 법령별/중소기업협동조합법.csv\n",
      "Updated file saved to: 법령별_중복제거/중소기업협동조합법.csv\n",
      "Processing : 법령별/중재법.csv\n",
      "Updated file saved to: 법령별_중복제거/중재법.csv\n",
      "Processing : 법령별/중ㆍ저준위 방사성폐기물 처분시설의 유치지역지원에 관한 특별법.csv\n",
      "Updated file saved to: 법령별_중복제거/중ㆍ저준위 방사성폐기물 처분시설의 유치지역지원에 관한 특별법.csv\n",
      "Processing : 법령별/중증장애인생산품 우선구매 특별법.csv\n",
      "Updated file saved to: 법령별_중복제거/중증장애인생산품 우선구매 특별법.csv\n",
      "Processing : 법령별/증권거래세법.csv\n",
      "Updated file saved to: 법령별_중복제거/증권거래세법.csv\n",
      "Processing : 법령별/증권관련 집단소송법.csv\n",
      "Updated file saved to: 법령별_중복제거/증권관련 집단소송법.csv\n",
      "Processing : 법령별/지능정보화 기본법.csv\n",
      "Updated file saved to: 법령별_중복제거/지능정보화 기본법.csv\n",
      "Processing : 법령별/지능형 로봇 개발 및 보급 촉진법.csv\n",
      "Updated file saved to: 법령별_중복제거/지능형 로봇 개발 및 보급 촉진법.csv\n",
      "Processing : 법령별/지능형전력망의 구축 및 이용촉진에 관한 법률.csv\n",
      "Updated file saved to: 법령별_중복제거/지능형전력망의 구축 및 이용촉진에 관한 법률.csv\n",
      "Processing : 법령별/지능형 해상교통정보서비스의 제공 및 이용 활성화에 관한 법률.csv\n",
      "Updated file saved to: 법령별_중복제거/지능형 해상교통정보서비스의 제공 및 이용 활성화에 관한 법률.csv\n",
      "Processing : 법령별/지뢰 등 특정 재래식무기 사용 및 이전의 규제에 관한 법률.csv\n",
      "Updated file saved to: 법령별_중복제거/지뢰 등 특정 재래식무기 사용 및 이전의 규제에 관한 법률.csv\n",
      "Processing : 법령별/지뢰피해자 지원에 관한 특별법.csv\n",
      "Updated file saved to: 법령별_중복제거/지뢰피해자 지원에 관한 특별법.csv\n",
      "Processing : 법령별/지방공무원법.csv\n",
      "Updated file saved to: 법령별_중복제거/지방공무원법.csv\n",
      "Processing : 법령별/지방교부세법.csv\n",
      "Updated file saved to: 법령별_중복제거/지방교부세법.csv\n",
      "Processing : 법령별/지방교육재정교부금법.csv\n",
      "Updated file saved to: 법령별_중복제거/지방교육재정교부금법.csv\n",
      "Processing : 법령별/지방대학 및 지역균형인재 육성에 관한 법률.csv\n",
      "Updated file saved to: 법령별_중복제거/지방대학 및 지역균형인재 육성에 관한 법률.csv\n",
      "Processing : 법령별/지방문화원진흥법.csv\n",
      "Updated file saved to: 법령별_중복제거/지방문화원진흥법.csv\n",
      "Processing : 법령별/지방세기본법.csv\n",
      "Updated file saved to: 법령별_중복제거/지방세기본법.csv\n",
      "Processing : 법령별/지방세법.csv\n",
      "Updated file saved to: 법령별_중복제거/지방세법.csv\n",
      "Processing : 법령별/지방세징수법.csv\n",
      "Updated file saved to: 법령별_중복제거/지방세징수법.csv\n",
      "Processing : 법령별/지방세특례제한법.csv\n",
      "Updated file saved to: 법령별_중복제거/지방세특례제한법.csv\n",
      "Processing : 법령별/지방의료원의 설립 및 운영에 관한 법률.csv\n",
      "Updated file saved to: 법령별_중복제거/지방의료원의 설립 및 운영에 관한 법률.csv\n",
      "Processing : 법령별/지방자치단체 기금관리기본법.csv\n",
      "Updated file saved to: 법령별_중복제거/지방자치단체 기금관리기본법.csv\n",
      "Processing : 법령별/지방자치단체 보조금 관리에 관한 법률.csv\n",
      "Updated file saved to: 법령별_중복제거/지방자치단체 보조금 관리에 관한 법률.csv\n",
      "Processing : 법령별/지방자치단체출연 연구원의 설립 및 운영에 관한 법률.csv\n",
      "Updated file saved to: 법령별_중복제거/지방자치단체출연 연구원의 설립 및 운영에 관한 법률.csv\n",
      "Processing : 법령별/지방자치분권 및 지역균형발전에 관한 특별법.csv\n",
      "Updated file saved to: 법령별_중복제거/지방자치분권 및 지역균형발전에 관한 특별법.csv\n",
      "Processing : 법령별/지방재정법.csv\n",
      "Updated file saved to: 법령별_중복제거/지방재정법.csv\n",
      "Processing : 법령별/지방행정제재ㆍ부과금의 징수 등에 관한 법률.csv\n",
      "Updated file saved to: 법령별_중복제거/지방행정제재ㆍ부과금의 징수 등에 관한 법률.csv\n",
      "Processing : 법령별/지방회계법.csv\n",
      "Updated file saved to: 법령별_중복제거/지방회계법.csv\n",
      "Processing : 법령별/지속가능 교통물류 발전법.csv\n",
      "Updated file saved to: 법령별_중복제거/지속가능 교통물류 발전법.csv\n",
      "Processing : 법령별/지속가능발전 기본법.csv\n",
      "Updated file saved to: 법령별_중복제거/지속가능발전 기본법.csv\n",
      "Processing : 법령별/지속가능한 기반시설 관리 기본법.csv\n",
      "Updated file saved to: 법령별_중복제거/지속가능한 기반시설 관리 기본법.csv\n",
      "Processing : 법령별/지식재산 기본법.csv\n",
      "Updated file saved to: 법령별_중복제거/지식재산 기본법.csv\n",
      "Processing : 법령별/지역 개발 및 지원에 관한 법률.csv\n",
      "Updated file saved to: 법령별_중복제거/지역 개발 및 지원에 관한 법률.csv\n",
      "Processing : 법령별/지역농림어업 발전사업 협력 촉진에 관한 법률.csv\n",
      "Updated file saved to: 법령별_중복제거/지역농림어업 발전사업 협력 촉진에 관한 법률.csv\n",
      "Processing : 법령별/지역농산물 이용촉진 등 농산물 직거래 활성화에 관한 법률.csv\n",
      "Updated file saved to: 법령별_중복제거/지역농산물 이용촉진 등 농산물 직거래 활성화에 관한 법률.csv\n",
      "Processing : 법령별/지역문화진흥법.csv\n",
      "Updated file saved to: 법령별_중복제거/지역문화진흥법.csv\n",
      "Processing : 법령별/지역방송발전지원 특별법.csv\n",
      "Updated file saved to: 법령별_중복제거/지역방송발전지원 특별법.csv\n",
      "Processing : 법령별/지역보건법.csv\n",
      "Updated file saved to: 법령별_중복제거/지역보건법.csv\n",
      "Processing : 법령별/지역사랑상품권 이용 활성화에 관한 법률.csv\n",
      "Updated file saved to: 법령별_중복제거/지역사랑상품권 이용 활성화에 관한 법률.csv\n",
      "Processing : 법령별/지역 산업위기 대응 및 지역경제 회복을 위한 특별법.csv\n",
      "Updated file saved to: 법령별_중복제거/지역 산업위기 대응 및 지역경제 회복을 위한 특별법.csv\n",
      "Processing : 법령별/지역상권 상생 및 활성화에 관한 법률.csv\n",
      "Updated file saved to: 법령별_중복제거/지역상권 상생 및 활성화에 관한 법률.csv\n",
      "Processing : 법령별/지역신문발전지원 특별법.csv\n",
      "Updated file saved to: 법령별_중복제거/지역신문발전지원 특별법.csv\n",
      "Processing : 법령별/지역신용보증재단법.csv\n",
      "Updated file saved to: 법령별_중복제거/지역신용보증재단법.csv\n",
      "Processing : 법령별/지역중소기업 육성 및 혁신촉진 등에 관한 법률.csv\n",
      "Updated file saved to: 법령별_중복제거/지역중소기업 육성 및 혁신촉진 등에 관한 법률.csv\n",
      "Processing : 법령별/지역특화작목 연구개발 및 육성에 관한 법률.csv\n",
      "Updated file saved to: 법령별_중복제거/지역특화작목 연구개발 및 육성에 관한 법률.csv\n",
      "Processing : 법령별/지적재조사에 관한 특별법.csv\n",
      "Updated file saved to: 법령별_중복제거/지적재조사에 관한 특별법.csv\n",
      "Processing : 법령별/지진ㆍ지진해일ㆍ화산의 관측 및 경보에 관한 법률.csv\n",
      "Updated file saved to: 법령별_중복제거/지진ㆍ지진해일ㆍ화산의 관측 및 경보에 관한 법률.csv\n",
      "Processing : 법령별/지진ㆍ화산재해대책법.csv\n",
      "Updated file saved to: 법령별_중복제거/지진ㆍ화산재해대책법.csv\n",
      "Processing : 법령별/지하수법.csv\n",
      "Updated file saved to: 법령별_중복제거/지하수법.csv\n",
      "Processing : 법령별/지하안전관리에 관한 특별법.csv\n",
      "Updated file saved to: 법령별_중복제거/지하안전관리에 관한 특별법.csv\n",
      "Processing : 법령별/직업교육훈련 촉진법.csv\n",
      "Updated file saved to: 법령별_중복제거/직업교육훈련 촉진법.csv\n",
      "Processing : 법령별/직업안정법.csv\n",
      "Updated file saved to: 법령별_중복제거/직업안정법.csv\n",
      "Processing : 법령별/진로교육법.csv\n",
      "Updated file saved to: 법령별_중복제거/진로교육법.csv\n",
      "Processing : 법령별/진폐의 예방과 진폐근로자의 보호 등에 관한 법률.csv\n",
      "Updated file saved to: 법령별_중복제거/진폐의 예방과 진폐근로자의 보호 등에 관한 법률.csv\n",
      "Processing : 법령별/질서위반행위규제법.csv\n",
      "Updated file saved to: 법령별_중복제거/질서위반행위규제법.csv\n",
      "Processing : 법령별/집단에너지사업법.csv\n",
      "Updated file saved to: 법령별_중복제거/집단에너지사업법.csv\n",
      "Processing : 법령별/집합건물의 소유 및 관리에 관한 법률.csv\n",
      "Updated file saved to: 법령별_중복제거/집합건물의 소유 및 관리에 관한 법률.csv\n",
      "Processing : 법령별/집회 및 시위에 관한 법률.csv\n",
      "Updated file saved to: 법령별_중복제거/집회 및 시위에 관한 법률.csv\n",
      "Processing : 법령별/징발법.csv\n",
      "Updated file saved to: 법령별_중복제거/징발법.csv\n",
      "Processing : 법령별/차산업 발전 및 차문화 진흥에 관한 법률.csv\n",
      "Updated file saved to: 법령별_중복제거/차산업 발전 및 차문화 진흥에 관한 법률.csv\n",
      "Processing : 법령별/참전유공자 예우 및 단체설립에 관한 법률.csv\n",
      "Updated file saved to: 법령별_중복제거/참전유공자 예우 및 단체설립에 관한 법률.csv\n",
      "Processing : 법령별/채권의 공정한 추심에 관한 법률.csv\n",
      "Updated file saved to: 법령별_중복제거/채권의 공정한 추심에 관한 법률.csv\n",
      "Processing : 법령별/채무자 회생 및 파산에 관한 법률.csv\n",
      "Updated file saved to: 법령별_중복제거/채무자 회생 및 파산에 관한 법률.csv\n",
      "Processing : 법령별/채용절차의 공정화에 관한 법률.csv\n",
      "Updated file saved to: 법령별_중복제거/채용절차의 공정화에 관한 법률.csv\n",
      "Processing : 법령별/책임운영기관의 설치ㆍ운영에 관한 법률.csv\n",
      "Updated file saved to: 법령별_중복제거/책임운영기관의 설치ㆍ운영에 관한 법률.csv\n",
      "Processing : 법령별/천문법.csv\n",
      "Updated file saved to: 법령별_중복제거/천문법.csv\n",
      "Processing : 법령별/철도물류산업의 육성 및 지원에 관한 법률.csv\n",
      "Updated file saved to: 법령별_중복제거/철도물류산업의 육성 및 지원에 관한 법률.csv\n",
      "Processing : 법령별/철도사업법.csv\n",
      "Updated file saved to: 법령별_중복제거/철도사업법.csv\n",
      "Processing : 법령별/철도산업발전기본법.csv\n",
      "Updated file saved to: 법령별_중복제거/철도산업발전기본법.csv\n",
      "Processing : 법령별/철도안전법.csv\n",
      "Updated file saved to: 법령별_중복제거/철도안전법.csv\n",
      "Processing : 법령별/철도의 건설 및 철도시설 유지관리에 관한 법률.csv\n",
      "Updated file saved to: 법령별_중복제거/철도의 건설 및 철도시설 유지관리에 관한 법률.csv\n",
      "Processing : 법령별/첨단의료복합단지 육성에 관한 특별법.csv\n",
      "Updated file saved to: 법령별_중복제거/첨단의료복합단지 육성에 관한 특별법.csv\n",
      "Processing : 법령별/첨단재생의료 및 첨단바이오의약품 안전 및 지원에 관한 법률.csv\n",
      "Updated file saved to: 법령별_중복제거/첨단재생의료 및 첨단바이오의약품 안전 및 지원에 관한 법률.csv\n",
      "Processing : 법령별/청년고용촉진 특별법.csv\n",
      "Updated file saved to: 법령별_중복제거/청년고용촉진 특별법.csv\n",
      "Processing : 법령별/청년기본법.csv\n",
      "Updated file saved to: 법령별_중복제거/청년기본법.csv\n",
      "Processing : 법령별/청소년 기본법.csv\n",
      "Updated file saved to: 법령별_중복제거/청소년 기본법.csv\n",
      "Processing : 법령별/청소년 보호법.csv\n",
      "Updated file saved to: 법령별_중복제거/청소년 보호법.csv\n",
      "Processing : 법령별/청소년복지 지원법.csv\n",
      "Updated file saved to: 법령별_중복제거/청소년복지 지원법.csv\n",
      "Processing : 법령별/청소년활동 진흥법.csv\n",
      "Updated file saved to: 법령별_중복제거/청소년활동 진흥법.csv\n",
      "Processing : 법령별/청원경찰법.csv\n",
      "Updated file saved to: 법령별_중복제거/청원경찰법.csv\n",
      "Processing : 법령별/체외진단의료기기법.csv\n",
      "Updated file saved to: 법령별_중복제거/체외진단의료기기법.csv\n",
      "Processing : 법령별/체육시설의 설치ㆍ이용에 관한 법률.csv\n",
      "Updated file saved to: 법령별_중복제거/체육시설의 설치ㆍ이용에 관한 법률.csv\n",
      "Processing : 법령별/체육인 복지법.csv\n",
      "Updated file saved to: 법령별_중복제거/체육인 복지법.csv\n",
      "Processing : 법령별/초고층 및 지하연계 복합건축물 재난관리에 관한 특별법.csv\n",
      "Updated file saved to: 법령별_중복제거/초고층 및 지하연계 복합건축물 재난관리에 관한 특별법.csv\n",
      "Processing : 법령별/초지법.csv\n",
      "Updated file saved to: 법령별_중복제거/초지법.csv\n",
      "Processing : 법령별/총포ㆍ도검ㆍ화약류 등의 안전관리에 관한 법률.csv\n",
      "Updated file saved to: 법령별_중복제거/총포ㆍ도검ㆍ화약류 등의 안전관리에 관한 법률.csv\n",
      "Processing : 법령별/최저임금법.csv\n",
      "Updated file saved to: 법령별_중복제거/최저임금법.csv\n",
      "Processing : 법령별/축사의 부동산등기에 관한 특례법.csv\n",
      "Updated file saved to: 법령별_중복제거/축사의 부동산등기에 관한 특례법.csv\n",
      "Processing : 법령별/축산계열화사업에 관한 법률.csv\n",
      "Updated file saved to: 법령별_중복제거/축산계열화사업에 관한 법률.csv\n",
      "Processing : 법령별/축산물 위생관리법.csv\n",
      "Updated file saved to: 법령별_중복제거/축산물 위생관리법.csv\n",
      "Processing : 법령별/축산법.csv\n",
      "Updated file saved to: 법령별_중복제거/축산법.csv\n",
      "Processing : 법령별/축산자조금의 조성 및 운용에 관한 법률.csv\n",
      "Updated file saved to: 법령별_중복제거/축산자조금의 조성 및 운용에 관한 법률.csv\n",
      "Processing : 법령별/출입국관리법.csv\n",
      "Updated file saved to: 법령별_중복제거/출입국관리법.csv\n",
      "Processing : 법령별/출판문화산업 진흥법.csv\n",
      "Updated file saved to: 법령별_중복제거/출판문화산업 진흥법.csv\n",
      "Processing : 법령별/취업 후 학자금 상환 특별법.csv\n",
      "Updated file saved to: 법령별_중복제거/취업 후 학자금 상환 특별법.csv\n",
      "Processing : 법령별/치매관리법.csv\n",
      "Updated file saved to: 법령별_중복제거/치매관리법.csv\n",
      "Processing : 법령별/치유농업 연구개발 및 육성에 관한 법률.csv\n",
      "Updated file saved to: 법령별_중복제거/치유농업 연구개발 및 육성에 관한 법률.csv\n",
      "Processing : 법령별/친수구역 활용에 관한 특별법.csv\n",
      "Updated file saved to: 법령별_중복제거/친수구역 활용에 관한 특별법.csv\n",
      "Processing : 법령별/친일반민족행위자 재산의 국가귀속에 관한 특별법.csv\n",
      "Updated file saved to: 법령별_중복제거/친일반민족행위자 재산의 국가귀속에 관한 특별법.csv\n",
      "Processing : 법령별/친환경농어업 육성 및 유기식품 등의 관리ㆍ지원에 관한 법률.csv\n",
      "Updated file saved to: 법령별_중복제거/친환경농어업 육성 및 유기식품 등의 관리ㆍ지원에 관한 법률.csv\n",
      "Processing : 법령별/콘텐츠산업 진흥법.csv\n",
      "Updated file saved to: 법령별_중복제거/콘텐츠산업 진흥법.csv\n",
      "Processing : 법령별/크루즈산업의 육성 및 지원에 관한 법률.csv\n",
      "Updated file saved to: 법령별_중복제거/크루즈산업의 육성 및 지원에 관한 법률.csv\n",
      "Processing : 법령별/클라우드컴퓨팅 발전 및 이용자 보호에 관한 법률.csv\n",
      "Updated file saved to: 법령별_중복제거/클라우드컴퓨팅 발전 및 이용자 보호에 관한 법률.csv\n",
      "Processing : 법령별/탄소소재 융복합기술 개발 및 기반 조성 지원에 관한 법률.csv\n",
      "Updated file saved to: 법령별_중복제거/탄소소재 융복합기술 개발 및 기반 조성 지원에 관한 법률.csv\n",
      "Processing : 법령별/탄소흡수원 유지 및 증진에 관한 법률.csv\n",
      "Updated file saved to: 법령별_중복제거/탄소흡수원 유지 및 증진에 관한 법률.csv\n",
      "Processing : 법령별/태권도 진흥 및 태권도공원 조성 등에 관한 법률.csv\n",
      "Updated file saved to: 법령별_중복제거/태권도 진흥 및 태권도공원 조성 등에 관한 법률.csv\n",
      "Processing : 법령별/택시운송사업의 발전에 관한 법률.csv\n",
      "Updated file saved to: 법령별_중복제거/택시운송사업의 발전에 관한 법률.csv\n",
      "Processing : 법령별/토양환경보전법.csv\n",
      "Updated file saved to: 법령별_중복제거/토양환경보전법.csv\n",
      "Processing : 법령별/토지이용규제 기본법.csv\n",
      "Updated file saved to: 법령별_중복제거/토지이용규제 기본법.csv\n",
      "Processing : 법령별/토지이용 인ㆍ허가 절차 간소화를 위한 특별법.csv\n",
      "Updated file saved to: 법령별_중복제거/토지이용 인ㆍ허가 절차 간소화를 위한 특별법.csv\n",
      "Processing : 법령별/통계법.csv\n",
      "Updated file saved to: 법령별_중복제거/통계법.csv\n",
      "Processing : 법령별/통상조약의 체결절차 및 이행에 관한 법률.csv\n",
      "Updated file saved to: 법령별_중복제거/통상조약의 체결절차 및 이행에 관한 법률.csv\n",
      "Processing : 법령별/통신비밀보호법.csv\n",
      "Updated file saved to: 법령별_중복제거/통신비밀보호법.csv\n",
      "Processing : 법령별/통일교육 지원법.csv\n",
      "Updated file saved to: 법령별_중복제거/통일교육 지원법.csv\n",
      "Processing : 법령별/통합방위법.csv\n",
      "Updated file saved to: 법령별_중복제거/통합방위법.csv\n",
      "Processing : 법령별/특수외국어 교육 진흥에 관한 법률.csv\n",
      "Updated file saved to: 법령별_중복제거/특수외국어 교육 진흥에 관한 법률.csv\n",
      "Processing : 법령별/특수임무수행자 보상에 관한 법률.csv\n",
      "Updated file saved to: 법령별_중복제거/특수임무수행자 보상에 관한 법률.csv\n",
      "Processing : 법령별/특수임무유공자 예우 및 단체설립에 관한 법률.csv\n",
      "Updated file saved to: 법령별_중복제거/특수임무유공자 예우 및 단체설립에 관한 법률.csv\n",
      "Processing : 법령별/특정 금융거래정보의 보고 및 이용 등에 관한 법률.csv\n",
      "Updated file saved to: 법령별_중복제거/특정 금융거래정보의 보고 및 이용 등에 관한 법률.csv\n",
      "Processing : 법령별/특정범죄신고자 등 보호법.csv\n",
      "Updated file saved to: 법령별_중복제거/특정범죄신고자 등 보호법.csv\n",
      "Processing : 법령별/특정중대범죄 피의자 등 신상정보 공개에 관한 법률.csv\n",
      "Updated file saved to: 법령별_중복제거/특정중대범죄 피의자 등 신상정보 공개에 관한 법률.csv\n",
      "Processing : 법령별/특허법.csv\n",
      "Updated file saved to: 법령별_중복제거/특허법.csv\n",
      "Processing : 법령별/파견근로자 보호 등에 관한 법률.csv\n",
      "Updated file saved to: 법령별_중복제거/파견근로자 보호 등에 관한 법률.csv\n",
      "Processing : 법령별/평생교육법.csv\n",
      "Updated file saved to: 법령별_중복제거/평생교육법.csv\n",
      "Processing : 법령별/평화경제특별구역의 지정 및 운영에 관한 법률.csv\n",
      "Updated file saved to: 법령별_중복제거/평화경제특별구역의 지정 및 운영에 관한 법률.csv\n",
      "Processing : 법령별/폐광지역 개발 지원에 관한 특별법.csv\n",
      "Updated file saved to: 법령별_중복제거/폐광지역 개발 지원에 관한 특별법.csv\n",
      "Processing : 법령별/폐교재산의 활용촉진을 위한 특별법.csv\n",
      "Updated file saved to: 법령별_중복제거/폐교재산의 활용촉진을 위한 특별법.csv\n",
      "Processing : 법령별/폐기물관리법.csv\n",
      "Updated file saved to: 법령별_중복제거/폐기물관리법.csv\n",
      "Processing : 법령별/폐기물의 국가 간 이동 및 그 처리에 관한 법률.csv\n",
      "Updated file saved to: 법령별_중복제거/폐기물의 국가 간 이동 및 그 처리에 관한 법률.csv\n",
      "Processing : 법령별/폐기물처리시설 설치촉진 및 주변지역지원 등에 관한 법률.csv\n",
      "Updated file saved to: 법령별_중복제거/폐기물처리시설 설치촉진 및 주변지역지원 등에 관한 법률.csv\n",
      "Processing : 법령별/포항지진의 진상조사 및 피해구제 등을 위한 특별법.csv\n",
      "Updated file saved to: 법령별_중복제거/포항지진의 진상조사 및 피해구제 등을 위한 특별법.csv\n",
      "Processing : 법령별/표시ㆍ광고의 공정화에 관한 법률.csv\n",
      "Updated file saved to: 법령별_중복제거/표시ㆍ광고의 공정화에 관한 법률.csv\n",
      "Processing : 법령별/풍납토성 보존 및 관리에 관한 특별법.csv\n",
      "Updated file saved to: 법령별_중복제거/풍납토성 보존 및 관리에 관한 특별법.csv\n",
      "Processing : 법령별/풍수해ㆍ지진재해보험법.csv\n",
      "Updated file saved to: 법령별_중복제거/풍수해ㆍ지진재해보험법.csv\n",
      "Processing : 법령별/필수업무 지정 및 종사자 보호ㆍ지원에 관한 법률.csv\n",
      "Updated file saved to: 법령별_중복제거/필수업무 지정 및 종사자 보호ㆍ지원에 관한 법률.csv\n",
      "Processing : 법령별/하도급거래 공정화에 관한 법률.csv\n",
      "Updated file saved to: 법령별_중복제거/하도급거래 공정화에 관한 법률.csv\n",
      "Processing : 법령별/하수도법.csv\n",
      "Updated file saved to: 법령별_중복제거/하수도법.csv\n",
      "Processing : 법령별/하천법.csv\n",
      "Updated file saved to: 법령별_중복제거/하천법.csv\n",
      "Processing : 법령별/학교급식법.csv\n",
      "Updated file saved to: 법령별_중복제거/학교급식법.csv\n",
      "Processing : 법령별/학교도서관진흥법.csv\n",
      "Updated file saved to: 법령별_중복제거/학교도서관진흥법.csv\n",
      "Processing : 법령별/학교 밖 청소년 지원에 관한 법률.csv\n",
      "Updated file saved to: 법령별_중복제거/학교 밖 청소년 지원에 관한 법률.csv\n",
      "Processing : 법령별/학교보건법.csv\n",
      "Updated file saved to: 법령별_중복제거/학교보건법.csv\n",
      "Processing : 법령별/학교복합시설 설치 및 운영ㆍ관리에 관한 법률.csv\n",
      "Updated file saved to: 법령별_중복제거/학교복합시설 설치 및 운영ㆍ관리에 관한 법률.csv\n",
      "Processing : 법령별/학교시설사업 촉진법.csv\n",
      "Updated file saved to: 법령별_중복제거/학교시설사업 촉진법.csv\n",
      "Processing : 법령별/학교안전사고 예방 및 보상에 관한 법률.csv\n",
      "Updated file saved to: 법령별_중복제거/학교안전사고 예방 및 보상에 관한 법률.csv\n",
      "Processing : 법령별/학교용지 확보 등에 관한 특례법.csv\n",
      "Updated file saved to: 법령별_중복제거/학교용지 확보 등에 관한 특례법.csv\n",
      "Processing : 법령별/학교체육 진흥법.csv\n",
      "Updated file saved to: 법령별_중복제거/학교체육 진흥법.csv\n",
      "Processing : 법령별/학교폭력예방 및 대책에 관한 법률.csv\n",
      "Updated file saved to: 법령별_중복제거/학교폭력예방 및 대책에 관한 법률.csv\n",
      "Processing : 법령별/학술진흥법.csv\n",
      "Updated file saved to: 법령별_중복제거/학술진흥법.csv\n",
      "Processing : 법령별/학원의 설립ㆍ운영 및 과외교습에 관한 법률.csv\n",
      "Updated file saved to: 법령별_중복제거/학원의 설립ㆍ운영 및 과외교습에 관한 법률.csv\n",
      "Processing : 법령별/학점인정 등에 관한 법률.csv\n",
      "Updated file saved to: 법령별_중복제거/학점인정 등에 관한 법률.csv\n",
      "Processing : 법령별/한강수계 상수원수질개선 및 주민지원 등에 관한 법률.csv\n",
      "Updated file saved to: 법령별_중복제거/한강수계 상수원수질개선 및 주민지원 등에 관한 법률.csv\n",
      "Processing : 법령별/한국4에이치활동 지원법.csv\n",
      "Updated file saved to: 법령별_중복제거/한국4에이치활동 지원법.csv\n",
      "Processing : 법령별/한국고전번역원법.csv\n",
      "Updated file saved to: 법령별_중복제거/한국고전번역원법.csv\n",
      "Processing : 법령별/한국교육학술정보원법.csv\n",
      "Updated file saved to: 법령별_중복제거/한국교육학술정보원법.csv\n",
      "Processing : 법령별/한국국제보건의료재단법.csv\n",
      "Updated file saved to: 법령별_중복제거/한국국제보건의료재단법.csv\n",
      "Processing : 법령별/한국국제협력단법.csv\n",
      "Updated file saved to: 법령별_중복제거/한국국제협력단법.csv\n",
      "Processing : 법령별/한국농어촌공사 및 농지관리기금법.csv\n",
      "Updated file saved to: 법령별_중복제거/한국농어촌공사 및 농지관리기금법.csv\n",
      "Processing : 법령별/한국마사회법.csv\n",
      "Updated file saved to: 법령별_중복제거/한국마사회법.csv\n",
      "Processing : 법령별/한국사학진흥재단법.csv\n",
      "Updated file saved to: 법령별_중복제거/한국사학진흥재단법.csv\n",
      "Processing : 법령별/한국수화언어법.csv\n",
      "Updated file saved to: 법령별_중복제거/한국수화언어법.csv\n",
      "Processing : 법령별/한국인 원자폭탄 피해자 지원을 위한 특별법.csv\n",
      "Updated file saved to: 법령별_중복제거/한국인 원자폭탄 피해자 지원을 위한 특별법.csv\n",
      "Processing : 법령별/한국자산관리공사 설립 등에 관한 법률.csv\n",
      "Updated file saved to: 법령별_중복제거/한국자산관리공사 설립 등에 관한 법률.csv\n",
      "Processing : 법령별/한국장학재단 설립 등에 관한 법률.csv\n",
      "Updated file saved to: 법령별_중복제거/한국장학재단 설립 등에 관한 법률.csv\n",
      "Processing : 법령별/한국주택금융공사법.csv\n",
      "Updated file saved to: 법령별_중복제거/한국주택금융공사법.csv\n",
      "Processing : 법령별/한국진도개 보호ㆍ육성법.csv\n",
      "Updated file saved to: 법령별_중복제거/한국진도개 보호ㆍ육성법.csv\n",
      "Processing : 법령별/한국투자공사법.csv\n",
      "Updated file saved to: 법령별_중복제거/한국투자공사법.csv\n",
      "Processing : 법령별/한국해양진흥공사법.csv\n",
      "Updated file saved to: 법령별_중복제거/한국해양진흥공사법.csv\n",
      "Processing : 법령별/한부모가족지원법.csv\n",
      "Updated file saved to: 법령별_중복제거/한부모가족지원법.csv\n",
      "Processing : 법령별/한센인피해사건의 진상규명 및 피해자 지원 등에 관한 법률.csv\n",
      "Updated file saved to: 법령별_중복제거/한센인피해사건의 진상규명 및 피해자 지원 등에 관한 법률.csv\n",
      "Processing : 법령별/한식진흥법.csv\n",
      "Updated file saved to: 법령별_중복제거/한식진흥법.csv\n",
      "Processing : 법령별/한ㆍ아프리카재단법.csv\n",
      "Updated file saved to: 법령별_중복제거/한ㆍ아프리카재단법.csv\n",
      "Processing : 법령별/한옥 등 건축자산의 진흥에 관한 법률.csv\n",
      "Updated file saved to: 법령별_중복제거/한옥 등 건축자산의 진흥에 관한 법률.csv\n",
      "Processing : 법령별/한의약 육성법.csv\n",
      "Updated file saved to: 법령별_중복제거/한의약 육성법.csv\n",
      "Processing : 법령별/할부거래에 관한 법률.csv\n",
      "Updated file saved to: 법령별_중복제거/할부거래에 관한 법률.csv\n",
      "Processing : 법령별/항공보안법.csv\n",
      "Updated file saved to: 법령별_중복제거/항공보안법.csv\n",
      "Processing : 법령별/항공사업법.csv\n",
      "Updated file saved to: 법령별_중복제거/항공사업법.csv\n",
      "Processing : 법령별/항공안전법.csv\n",
      "Updated file saved to: 법령별_중복제거/항공안전법.csv\n",
      "Processing : 법령별/항공우주산업개발 촉진법.csv\n",
      "Updated file saved to: 법령별_중복제거/항공우주산업개발 촉진법.csv\n",
      "Processing : 법령별/항공ㆍ철도 사고조사에 관한 법률.csv\n",
      "Updated file saved to: 법령별_중복제거/항공ㆍ철도 사고조사에 관한 법률.csv\n",
      "Processing : 법령별/항로표지법.csv\n",
      "Updated file saved to: 법령별_중복제거/항로표지법.csv\n",
      "Processing : 법령별/항만법.csv\n",
      "Updated file saved to: 법령별_중복제거/항만법.csv\n",
      "Processing : 법령별/항만안전특별법.csv\n",
      "Updated file saved to: 법령별_중복제거/항만안전특별법.csv\n",
      "Processing : 법령별/항만운송사업법.csv\n",
      "Updated file saved to: 법령별_중복제거/항만운송사업법.csv\n",
      "Processing : 법령별/항만인력공급체제의 개편을 위한 지원특별법.csv\n",
      "Updated file saved to: 법령별_중복제거/항만인력공급체제의 개편을 위한 지원특별법.csv\n",
      "Processing : 법령별/항만 재개발 및 주변지역 발전에 관한 법률.csv\n",
      "Updated file saved to: 법령별_중복제거/항만 재개발 및 주변지역 발전에 관한 법률.csv\n",
      "Processing : 법령별/항만지역등 대기질 개선에 관한 특별법.csv\n",
      "Updated file saved to: 법령별_중복제거/항만지역등 대기질 개선에 관한 특별법.csv\n",
      "Processing : 법령별/해사안전기본법.csv\n",
      "Updated file saved to: 법령별_중복제거/해사안전기본법.csv\n",
      "Processing : 법령별/해상교통안전법.csv\n",
      "Updated file saved to: 법령별_중복제거/해상교통안전법.csv\n",
      "Processing : 법령별/해수욕장의 이용 및 관리에 관한 법률.csv\n",
      "Updated file saved to: 법령별_중복제거/해수욕장의 이용 및 관리에 관한 법률.csv\n",
      "Processing : 법령별/해양경비법.csv\n",
      "Updated file saved to: 법령별_중복제거/해양경비법.csv\n",
      "Processing : 법령별/해양경찰장비 도입 및 관리에 관한 법률.csv\n",
      "Updated file saved to: 법령별_중복제거/해양경찰장비 도입 및 관리에 관한 법률.csv\n",
      "Processing : 법령별/해양공간계획 및 관리에 관한 법률.csv\n",
      "Updated file saved to: 법령별_중복제거/해양공간계획 및 관리에 관한 법률.csv\n",
      "Processing : 법령별/해양과학조사법.csv\n",
      "Updated file saved to: 법령별_중복제거/해양과학조사법.csv\n",
      "Processing : 법령별/해양교육 및 해양문화의 활성화에 관한 법률.csv\n",
      "Updated file saved to: 법령별_중복제거/해양교육 및 해양문화의 활성화에 관한 법률.csv\n",
      "Processing : 법령별/해양사고의 조사 및 심판에 관한 법률.csv\n",
      "Updated file saved to: 법령별_중복제거/해양사고의 조사 및 심판에 관한 법률.csv\n",
      "Processing : 법령별/해양산업클러스터의 지정 및 육성 등에 관한 특별법.csv\n",
      "Updated file saved to: 법령별_중복제거/해양산업클러스터의 지정 및 육성 등에 관한 특별법.csv\n",
      "Processing : 법령별/해양생태계의 보전 및 관리에 관한 법률.csv\n",
      "Updated file saved to: 법령별_중복제거/해양생태계의 보전 및 관리에 관한 법률.csv\n",
      "Processing : 법령별/해양수산과학기술 육성법.csv\n",
      "Updated file saved to: 법령별_중복제거/해양수산과학기술 육성법.csv\n",
      "Processing : 법령별/해양수산발전 기본법.csv\n",
      "Updated file saved to: 법령별_중복제거/해양수산발전 기본법.csv\n",
      "Processing : 법령별/해양수산생명자원의 확보ㆍ관리 및 이용 등에 관한 법률.csv\n",
      "Updated file saved to: 법령별_중복제거/해양수산생명자원의 확보ㆍ관리 및 이용 등에 관한 법률.csv\n",
      "Processing : 법령별/해양심층수의 개발 및 관리에 관한 법률.csv\n",
      "Updated file saved to: 법령별_중복제거/해양심층수의 개발 및 관리에 관한 법률.csv\n",
      "Processing : 법령별/해양조사와 해양정보 활용에 관한 법률.csv\n",
      "Updated file saved to: 법령별_중복제거/해양조사와 해양정보 활용에 관한 법률.csv\n",
      "Processing : 법령별/해양치유자원의 관리 및 활용에 관한 법률.csv\n",
      "Updated file saved to: 법령별_중복제거/해양치유자원의 관리 및 활용에 관한 법률.csv\n",
      "Processing : 법령별/해양폐기물 및 해양오염퇴적물 관리법.csv\n",
      "Updated file saved to: 법령별_중복제거/해양폐기물 및 해양오염퇴적물 관리법.csv\n",
      "Processing : 법령별/해양환경관리법.csv\n",
      "Updated file saved to: 법령별_중복제거/해양환경관리법.csv\n",
      "Processing : 법령별/해양환경 보전 및 활용에 관한 법률.csv\n",
      "Updated file saved to: 법령별_중복제거/해양환경 보전 및 활용에 관한 법률.csv\n",
      "Processing : 법령별/해외건설 촉진법.csv\n",
      "Updated file saved to: 법령별_중복제거/해외건설 촉진법.csv\n",
      "Processing : 법령별/해외긴급구호에 관한 법률.csv\n",
      "Updated file saved to: 법령별_중복제거/해외긴급구호에 관한 법률.csv\n",
      "Processing : 법령별/해외농업ㆍ산림자원 개발협력법.csv\n",
      "Updated file saved to: 법령별_중복제거/해외농업ㆍ산림자원 개발협력법.csv\n",
      "Processing : 법령별/해외이주법.csv\n",
      "Updated file saved to: 법령별_중복제거/해외이주법.csv\n",
      "Processing : 법령별/해외자원개발 사업법.csv\n",
      "Updated file saved to: 법령별_중복제거/해외자원개발 사업법.csv\n",
      "Processing : 법령별/해외진출기업의 국내복귀 지원에 관한 법률.csv\n",
      "Updated file saved to: 법령별_중복제거/해외진출기업의 국내복귀 지원에 관한 법률.csv\n",
      "Processing : 법령별/해운법.csv\n",
      "Updated file saved to: 법령별_중복제거/해운법.csv\n",
      "Processing : 법령별/해저광물자원 개발법.csv\n",
      "Updated file saved to: 법령별_중복제거/해저광물자원 개발법.csv\n",
      "Processing : 법령별/핵융합에너지 개발진흥법.csv\n",
      "Updated file saved to: 법령별_중복제거/핵융합에너지 개발진흥법.csv\n",
      "Processing : 법령별/행정규제기본법.csv\n",
      "Updated file saved to: 법령별_중복제거/행정규제기본법.csv\n",
      "Processing : 법령별/행정기본법.csv\n",
      "Updated file saved to: 법령별_중복제거/행정기본법.csv\n",
      "Processing : 법령별/행정소송법.csv\n",
      "Updated file saved to: 법령별_중복제거/행정소송법.csv\n",
      "Processing : 법령별/행정심판법.csv\n",
      "Updated file saved to: 법령별_중복제거/행정심판법.csv\n",
      "Processing : 법령별/행정절차법.csv\n",
      "Updated file saved to: 법령별_중복제거/행정절차법.csv\n",
      "Processing : 법령별/행정조사기본법.csv\n",
      "Updated file saved to: 법령별_중복제거/행정조사기본법.csv\n",
      "Processing : 법령별/행정중심복합도시 국립박물관단지 운영 및 지원에 관한 법률.csv\n",
      "Updated file saved to: 법령별_중복제거/행정중심복합도시 국립박물관단지 운영 및 지원에 관한 법률.csv\n",
      "Processing : 법령별/향교재산법.csv\n",
      "Updated file saved to: 법령별_중복제거/향교재산법.csv\n",
      "Processing : 법령별/허베이 스피리트호 유류오염사고 피해주민의 지원 및 해양환경의 복원 등에 관한 특별법.csv\n",
      "Updated file saved to: 법령별_중복제거/허베이 스피리트호 유류오염사고 피해주민의 지원 및 해양환경의 복원 등에 관한 특별법.csv\n",
      "Processing : 법령별/헌정질서 파괴범죄의 공소시효 등에 관한 특례법.csv\n",
      "Updated file saved to: 법령별_중복제거/헌정질서 파괴범죄의 공소시효 등에 관한 특례법.csv\n",
      "Processing : 법령별/헤이그 국제아동탈취협약 이행에 관한 법률.csv\n",
      "Updated file saved to: 법령별_중복제거/헤이그 국제아동탈취협약 이행에 관한 법률.csv\n",
      "Processing : 법령별/혁신도시 조성 및 발전에 관한 특별법.csv\n",
      "Updated file saved to: 법령별_중복제거/혁신도시 조성 및 발전에 관한 특별법.csv\n",
      "Processing : 법령별/혈액관리법.csv\n",
      "Updated file saved to: 법령별_중복제거/혈액관리법.csv\n",
      "Processing : 법령별/협동연구개발촉진법.csv\n",
      "Updated file saved to: 법령별_중복제거/협동연구개발촉진법.csv\n",
      "Processing : 법령별/협동조합 기본법.csv\n",
      "Updated file saved to: 법령별_중복제거/협동조합 기본법.csv\n",
      "Processing : 법령별/형사사법절차 전자화 촉진법.csv\n",
      "Updated file saved to: 법령별_중복제거/형사사법절차 전자화 촉진법.csv\n",
      "Processing : 법령별/형의 실효 등에 관한 법률.csv\n",
      "Updated file saved to: 법령별_중복제거/형의 실효 등에 관한 법률.csv\n",
      "Processing : 법령별/형의 집행 및 수용자의 처우에 관한 법률.csv\n",
      "Updated file saved to: 법령별_중복제거/형의 집행 및 수용자의 처우에 관한 법률.csv\n",
      "Processing : 법령별/호스피스ㆍ완화의료 및 임종과정에 있는 환자의 연명의료결정에 관한 법률.csv\n",
      "Updated file saved to: 법령별_중복제거/호스피스ㆍ완화의료 및 임종과정에 있는 환자의 연명의료결정에 관한 법률.csv\n",
      "Processing : 법령별/화물자동차 운수사업법.csv\n",
      "Updated file saved to: 법령별_중복제거/화물자동차 운수사업법.csv\n",
      "Processing : 법령별/화염병 사용 등의 처벌에 관한 법률.csv\n",
      "Updated file saved to: 법령별_중복제거/화염병 사용 등의 처벌에 관한 법률.csv\n",
      "Processing : 법령별/화장품법.csv\n",
      "Updated file saved to: 법령별_중복제거/화장품법.csv\n",
      "Processing : 법령별/화재로 인한 재해보상과 보험가입에 관한 법률.csv\n",
      "Updated file saved to: 법령별_중복제거/화재로 인한 재해보상과 보험가입에 관한 법률.csv\n",
      "Processing : 법령별/화재의 예방 및 안전관리에 관한 법률.csv\n",
      "Updated file saved to: 법령별_중복제거/화재의 예방 및 안전관리에 관한 법률.csv\n",
      "Processing : 법령별/화학무기ㆍ생물무기의 금지와 특정화학물질ㆍ생물작용제 등의 제조ㆍ수출입 규제 등에 관한 법률.csv\n",
      "Updated file saved to: 법령별_중복제거/화학무기ㆍ생물무기의 금지와 특정화학물질ㆍ생물작용제 등의 제조ㆍ수출입 규제 등에 관한 법률.csv\n",
      "Processing : 법령별/화학물질관리법.csv\n",
      "Updated file saved to: 법령별_중복제거/화학물질관리법.csv\n",
      "Processing : 법령별/화학물질의 등록 및 평가 등에 관한 법률.csv\n",
      "Updated file saved to: 법령별_중복제거/화학물질의 등록 및 평가 등에 관한 법률.csv\n",
      "Processing : 법령별/화훼산업 발전 및 화훼문화 진흥에 관한 법률.csv\n",
      "Updated file saved to: 법령별_중복제거/화훼산업 발전 및 화훼문화 진흥에 관한 법률.csv\n",
      "Processing : 법령별/환경교육의 활성화 및 지원에 관한 법률.csv\n",
      "Updated file saved to: 법령별_중복제거/환경교육의 활성화 및 지원에 관한 법률.csv\n",
      "Processing : 법령별/환경기술 및 환경산업 지원법.csv\n",
      "Updated file saved to: 법령별_중복제거/환경기술 및 환경산업 지원법.csv\n",
      "Processing : 법령별/환경범죄 등의 단속 및 가중처벌에 관한 법률.csv\n",
      "Updated file saved to: 법령별_중복제거/환경범죄 등의 단속 및 가중처벌에 관한 법률.csv\n",
      "Processing : 법령별/환경보건법.csv\n",
      "Updated file saved to: 법령별_중복제거/환경보건법.csv\n",
      "Processing : 법령별/환경분야 시험ㆍ검사 등에 관한 법률.csv\n",
      "Updated file saved to: 법령별_중복제거/환경분야 시험ㆍ검사 등에 관한 법률.csv\n",
      "Processing : 법령별/환경분쟁 조정법.csv\n",
      "Updated file saved to: 법령별_중복제거/환경분쟁 조정법.csv\n",
      "Processing : 법령별/환경영향평가법.csv\n",
      "Updated file saved to: 법령별_중복제거/환경영향평가법.csv\n",
      "Processing : 법령별/환경오염시설의 통합관리에 관한 법률.csv\n",
      "Updated file saved to: 법령별_중복제거/환경오염시설의 통합관리에 관한 법률.csv\n",
      "Processing : 법령별/환경오염피해 배상책임 및 구제에 관한 법률.csv\n",
      "Updated file saved to: 법령별_중복제거/환경오염피해 배상책임 및 구제에 관한 법률.csv\n",
      "Processing : 법령별/환경정책기본법.csv\n",
      "Updated file saved to: 법령별_중복제거/환경정책기본법.csv\n",
      "Processing : 법령별/환경친화적 산업구조로의 전환촉진에 관한 법률.csv\n",
      "Updated file saved to: 법령별_중복제거/환경친화적 산업구조로의 전환촉진에 관한 법률.csv\n",
      "Processing : 법령별/환경친화적 선박의 개발 및 보급 촉진에 관한 법률.csv\n",
      "Updated file saved to: 법령별_중복제거/환경친화적 선박의 개발 및 보급 촉진에 관한 법률.csv\n",
      "Processing : 법령별/환경친화적 자동차의 개발 및 보급 촉진에 관한 법률.csv\n",
      "Updated file saved to: 법령별_중복제거/환경친화적 자동차의 개발 및 보급 촉진에 관한 법률.csv\n",
      "Processing : 법령별/환자안전법.csv\n",
      "Updated file saved to: 법령별_중복제거/환자안전법.csv\n",
      "Processing : 법령별/회계관계직원 등의 책임에 관한 법률.csv\n",
      "Updated file saved to: 법령별_중복제거/회계관계직원 등의 책임에 관한 법률.csv\n",
      "Processing : 법령별/후계농어업인 및 청년농어업인 육성ㆍ지원에 관한 법률.csv\n",
      "Updated file saved to: 법령별_중복제거/후계농어업인 및 청년농어업인 육성ㆍ지원에 관한 법률.csv\n",
      "Processing : 법령별/후천성면역결핍증 예방법.csv\n",
      "Updated file saved to: 법령별_중복제거/후천성면역결핍증 예방법.csv\n",
      "Processing : 법령별/희귀질환관리법.csv\n",
      "Updated file saved to: 법령별_중복제거/희귀질환관리법.csv\n",
      "Processing : 법령별/법령내용없음목록.csv\n",
      "Error processing file 법령내용없음목록.csv: '조문내용'\n"
     ]
    }
   ],
   "source": [
    "import pandas as pd\n",
    "import os\n",
    "\n",
    "def process_files(folder_path, target_folder):\n",
    "    # Ensure target directory exists\n",
    "    if not os.path.exists(target_folder):\n",
    "        os.makedirs(target_folder)\n",
    "    \n",
    "    # Process each file in the folder\n",
    "    for file_name in os.listdir(folder_path):\n",
    "        try:\n",
    "            if file_name.endswith('.csv'):\n",
    "                file_path = os.path.join(folder_path, file_name)\n",
    "                df = pd.read_csv(file_path, encoding='utf-8-sig', sep='\\t')\n",
    "                print(f\"Processing : {file_path}\")\n",
    "                # Remove duplicate cell contents and replace NaN values with ' '\n",
    "                df = remove_duplicate_cell_contents(df, ['조문내용', '항', '호', '목'])\n",
    "                \n",
    "                # Replace NaN values with ''\n",
    "                df = df.fillna('')\n",
    "\n",
    "                # Save the updated file to the target folder with the same name\n",
    "                target_file_path = os.path.join(target_folder, file_name)\n",
    "                df.to_csv(target_file_path, index=False, encoding='utf-8-sig', sep='\\t')\n",
    "                print(f\"Updated file saved to: {target_file_path}\")\n",
    "        except Exception as e:\n",
    "            print(f\"Error processing file {file_name}: {e}\")\n",
    "            continue\n",
    "\n",
    "def remove_duplicate_cell_contents(df, columns):\n",
    "    # Remove duplicates in specified columns\n",
    "    for column in columns:\n",
    "        last_seen = None\n",
    "        for idx in df.index:\n",
    "            current_value = df.at[idx, column]\n",
    "            if current_value == last_seen:\n",
    "                df.at[idx, column] = ''\n",
    "            else:\n",
    "                last_seen = current_value\n",
    "    return df\n",
    "\n",
    "# Set source and target folder paths\n",
    "folder_path = '법령별'\n",
    "target_folder = '법령별_중복제거'\n",
    "process_files(folder_path, target_folder)\n"
   ]
  },
  {
   "cell_type": "code",
   "execution_count": null,
   "metadata": {},
   "outputs": [
    {
     "name": "stdout",
     "output_type": "stream",
     "text": [
      "Processing : 법령별2트/10ㆍ27법난 피해자의 명예회복 등에 관한 법률.csv\n",
      "Error processing file 10ㆍ27법난 피해자의 명예회복 등에 관한 법률.csv: '조문내용'\n",
      "Error processing file 10ㆍ29이태원참사 피해자 권리보장과 진상규명 및 재발방지를 위한 특별법.csv: Error tokenizing data. C error: Expected 1 fields in line 7, saw 7\n",
      "\n",
      "Processing : 법령별2트/112신고의 운영 및 처리에 관한 법률.csv\n",
      "Error processing file 112신고의 운영 및 처리에 관한 법률.csv: '조문내용'\n",
      "Processing : 법령별2트/119구조ㆍ구급에 관한 법률.csv\n",
      "Error processing file 119구조ㆍ구급에 관한 법률.csv: '조문내용'\n",
      "Processing : 법령별2트/119긴급신고의 관리 및 운영에 관한 법률.csv\n",
      "Error processing file 119긴급신고의 관리 및 운영에 관한 법률.csv: '조문내용'\n",
      "Processing : 법령별2트/1959년 12월 31일 이전에 퇴직한 군인의 퇴직급여금지급에 관한 특별법.csv\n",
      "Error processing file 1959년 12월 31일 이전에 퇴직한 군인의 퇴직급여금지급에 관한 특별법.csv: '조문내용'\n",
      "Processing : 법령별2트/1인 창조기업 육성에 관한 법률.csv\n",
      "Error processing file 1인 창조기업 육성에 관한 법률.csv: '조문내용'\n",
      "Processing : 법령별2트/2018 평창 동계올림픽대회 및 동계패럴림픽대회 지원 등에 관한 특별법.csv\n",
      "Error processing file 2018 평창 동계올림픽대회 및 동계패럴림픽대회 지원 등에 관한 특별법.csv: '조문내용'\n",
      "Processing : 법령별2트/2023 새만금 세계스카우트잼버리 지원 특별법.csv\n",
      "Error processing file 2023 새만금 세계스카우트잼버리 지원 특별법.csv: '조문내용'\n",
      "Processing : 법령별2트/2023 순천만국제정원박람회 지원 및 사후활용에 관한 특별법.csv\n",
      "Error processing file 2023 순천만국제정원박람회 지원 및 사후활용에 관한 특별법.csv: '조문내용'\n",
      "Processing : 법령별2트/30개월 이상 복무한 상등병 만기전역자의 특별진급을 위한 특별법.csv\n",
      "Error processing file 30개월 이상 복무한 상등병 만기전역자의 특별진급을 위한 특별법.csv: '조문내용'\n",
      "Processing : 법령별2트/3ㆍ15의거 참여자의 명예회복 등에 관한 법률.csv\n",
      "Error processing file 3ㆍ15의거 참여자의 명예회복 등에 관한 법률.csv: '조문내용'\n",
      "Processing : 법령별2트/4ㆍ16세월호참사 진상규명 및 안전사회 건설 등을 위한 특별법.csv\n",
      "Error processing file 4ㆍ16세월호참사 진상규명 및 안전사회 건설 등을 위한 특별법.csv: '조문내용'\n",
      "Processing : 법령별2트/4ㆍ16세월호참사 피해구제 및 지원 등을 위한 특별법.csv\n",
      "Error processing file 4ㆍ16세월호참사 피해구제 및 지원 등을 위한 특별법.csv: '조문내용'\n",
      "Error processing file 5ㆍ18민주화운동 관련자 보상 등에 관한 법률.csv: Error tokenizing data. C error: Expected 1 fields in line 3, saw 3\n",
      "\n",
      "Processing : 법령별2트/5ㆍ18민주화운동 등에 관한 특별법.csv\n",
      "Error processing file 5ㆍ18민주화운동 등에 관한 특별법.csv: '조문내용'\n",
      "Processing : 법령별2트/5ㆍ18민주화운동 진상규명을 위한 특별법.csv\n",
      "Error processing file 5ㆍ18민주화운동 진상규명을 위한 특별법.csv: '조문내용'\n",
      "Processing : 법령별2트/6ㆍ25 전사자유해의 발굴 등에 관한 법률.csv\n",
      "Error processing file 6ㆍ25 전사자유해의 발굴 등에 관한 법률.csv: '조문내용'\n",
      "Processing : 법령별2트/6ㆍ25전쟁 무공훈장 수여 등에 관한 법률.csv\n",
      "Error processing file 6ㆍ25전쟁 무공훈장 수여 등에 관한 법률.csv: '조문내용'\n",
      "Processing : 법령별2트/6ㆍ25전쟁 전후 적 지역에서 활동한 비정규군 공로자 보상에 관한 법률.csv\n",
      "Error processing file 6ㆍ25전쟁 전후 적 지역에서 활동한 비정규군 공로자 보상에 관한 법률.csv: '조문내용'\n",
      "Processing : 법령별2트/가덕도신공항건설공단법.csv\n",
      "Error processing file 가덕도신공항건설공단법.csv: '조문내용'\n",
      "Processing : 법령별2트/가덕도신공항 건설을 위한 특별법.csv\n",
      "Error processing file 가덕도신공항 건설을 위한 특별법.csv: '조문내용'\n",
      "Processing : 법령별2트/가등기담보 등에 관한 법률.csv\n",
      "Error processing file 가등기담보 등에 관한 법률.csv: '조문내용'\n",
      "Error processing file 가맹사업거래의 공정화에 관한 법률.csv: Error tokenizing data. C error: Expected 1 fields in line 20, saw 7\n",
      "\n",
      "Processing : 법령별2트/가맹사업 진흥에 관한 법률.csv\n",
      "Error processing file 가맹사업 진흥에 관한 법률.csv: '조문내용'\n",
      "Processing : 법령별2트/가사근로자의 고용개선 등에 관한 법률.csv\n",
      "Error processing file 가사근로자의 고용개선 등에 관한 법률.csv: '조문내용'\n",
      "Processing : 법령별2트/가상융합산업 진흥법.csv\n",
      "Error processing file 가상융합산업 진흥법.csv: '조문내용'\n",
      "Processing : 법령별2트/가상자산 이용자 보호 등에 관한 법률.csv\n",
      "Error processing file 가상자산 이용자 보호 등에 관한 법률.csv: '조문내용'\n",
      "Processing : 법령별2트/가습기살균제 피해구제를 위한 특별법.csv\n",
      "Error processing file 가습기살균제 피해구제를 위한 특별법.csv: '조문내용'\n",
      "Processing : 법령별2트/가정폭력방지 및 피해자보호 등에 관한 법률.csv\n",
      "Error processing file 가정폭력방지 및 피해자보호 등에 관한 법률.csv: '조문내용'\n",
      "Processing : 법령별2트/가정폭력범죄의 처벌 등에 관한 특례법.csv\n",
      "Error processing file 가정폭력범죄의 처벌 등에 관한 특례법.csv: '조문내용'\n",
      "Processing : 법령별2트/가족친화 사회환경의 조성 촉진에 관한 법률.csv\n",
      "Error processing file 가족친화 사회환경의 조성 촉진에 관한 법률.csv: '조문내용'\n",
      "Error processing file 가축 및 축산물 이력관리에 관한 법률.csv: Error tokenizing data. C error: Expected 1 fields in line 13, saw 7\n",
      "\n",
      "Processing : 법령별2트/가축분뇨의 관리 및 이용에 관한 법률.csv\n",
      "Error processing file 가축분뇨의 관리 및 이용에 관한 법률.csv: '조문내용'\n",
      "Processing : 법령별2트/가축전염병 예방법.csv\n",
      "Error processing file 가축전염병 예방법.csv: '조문내용'\n",
      "Processing : 법령별2트/간선급행버스체계의 건설 및 운영에 관한 특별법.csv\n",
      "Error processing file 간선급행버스체계의 건설 및 운영에 관한 특별법.csv: '조문내용'\n",
      "Processing : 법령별2트/간척지의 농어업적 이용 및 관리에 관한 법률.csv\n",
      "Error processing file 간척지의 농어업적 이용 및 관리에 관한 법률.csv: '조문내용'\n",
      "Processing : 법령별2트/감염병의 예방 및 관리에 관한 법률.csv\n",
      "Error processing file 감염병의 예방 및 관리에 관한 법률.csv: '조문내용'\n",
      "Processing : 법령별2트/감정평가 및 감정평가사에 관한 법률.csv\n",
      "Error processing file 감정평가 및 감정평가사에 관한 법률.csv: '조문내용'\n",
      "Processing : 법령별2트/강원특별자치도 설치 및 미래산업글로벌도시 조성을 위한 특별법.csv\n",
      "Error processing file 강원특별자치도 설치 및 미래산업글로벌도시 조성을 위한 특별법.csv: '조문내용'\n",
      "Processing : 법령별2트/개발도상국 산림을 통한 온실가스 배출 감축 및 탄소 축적 증진 지원에 관한 법률.csv\n",
      "Error processing file 개발도상국 산림을 통한 온실가스 배출 감축 및 탄소 축적 증진 지원에 관한 법률.csv: '조문내용'\n",
      "Processing : 법령별2트/개발이익 환수에 관한 법률.csv\n",
      "Error processing file 개발이익 환수에 관한 법률.csv: '조문내용'\n",
      "Processing : 법령별2트/개성공업지구 지원에 관한 법률.csv\n",
      "Error processing file 개성공업지구 지원에 관한 법률.csv: '조문내용'\n",
      "Processing : 법령별2트/개의 식용 목적의 사육ㆍ도살 및 유통 등 종식에 관한 특별법.csv\n",
      "Error processing file 개의 식용 목적의 사육ㆍ도살 및 유통 등 종식에 관한 특별법.csv: '조문내용'\n",
      "Processing : 법령별2트/개인정보 보호법.csv\n",
      "Error processing file 개인정보 보호법.csv: '조문내용'\n",
      "Processing : 법령별2트/갯벌 및 그 주변지역의 지속가능한 관리와 복원에 관한 법률.csv\n",
      "Error processing file 갯벌 및 그 주변지역의 지속가능한 관리와 복원에 관한 법률.csv: '조문내용'\n",
      "Processing : 법령별2트/거창사건등 관련자의 명예회복에 관한 특별조치법.csv\n",
      "Error processing file 거창사건등 관련자의 명예회복에 관한 특별조치법.csv: '조문내용'\n",
      "Processing : 법령별2트/건강가정기본법.csv\n",
      "Error processing file 건강가정기본법.csv: '조문내용'\n",
      "Processing : 법령별2트/건강검진기본법.csv\n",
      "Error processing file 건강검진기본법.csv: '조문내용'\n",
      "Processing : 법령별2트/건강기능식품에 관한 법률.csv\n",
      "Error processing file 건강기능식품에 관한 법률.csv: '조문내용'\n",
      "Processing : 법령별2트/건설근로자의 고용개선 등에 관한 법률.csv\n",
      "Error processing file 건설근로자의 고용개선 등에 관한 법률.csv: '조문내용'\n",
      "Processing : 법령별2트/건설기술 진흥법.csv\n",
      "Error processing file 건설기술 진흥법.csv: '조문내용'\n",
      "Processing : 법령별2트/건설산업기본법.csv\n",
      "Error processing file 건설산업기본법.csv: '조문내용'\n",
      "Processing : 법령별2트/건설폐기물의 재활용촉진에 관한 법률.csv\n",
      "Error processing file 건설폐기물의 재활용촉진에 관한 법률.csv: '조문내용'\n",
      "Processing : 법령별2트/건축기본법.csv\n",
      "Error processing file 건축기본법.csv: '조문내용'\n",
      "Processing : 법령별2트/건축물관리법.csv\n",
      "Error processing file 건축물관리법.csv: '조문내용'\n",
      "Processing : 법령별2트/건축물의 분양에 관한 법률.csv\n",
      "Error processing file 건축물의 분양에 관한 법률.csv: '조문내용'\n",
      "Processing : 법령별2트/건축법.csv\n",
      "Error processing file 건축법.csv: '조문내용'\n",
      "Processing : 법령별2트/건축사법.csv\n",
      "Error processing file 건축사법.csv: '조문내용'\n",
      "Processing : 법령별2트/건축서비스산업 진흥법.csv\n",
      "Error processing file 건축서비스산업 진흥법.csv: '조문내용'\n",
      "Processing : 법령별2트/검역법.csv\n",
      "Error processing file 검역법.csv: '조문내용'\n",
      "Processing : 법령별2트/게임산업진흥에 관한 법률.csv\n",
      "Error processing file 게임산업진흥에 관한 법률.csv: '조문내용'\n",
      "Processing : 법령별2트/겨레말큰사전남북공동편찬사업회법.csv\n",
      "Error processing file 겨레말큰사전남북공동편찬사업회법.csv: '조문내용'\n",
      "Processing : 법령별2트/결핵예방법.csv\n",
      "Error processing file 결핵예방법.csv: '조문내용'\n",
      "Processing : 법령별2트/결혼중개업의 관리에 관한 법률.csv\n",
      "Error processing file 결혼중개업의 관리에 관한 법률.csv: '조문내용'\n",
      "Processing : 법령별2트/경륜ㆍ경정법.csv\n",
      "Error processing file 경륜ㆍ경정법.csv: '조문내용'\n",
      "Processing : 법령별2트/경범죄 처벌법.csv\n",
      "Error processing file 경범죄 처벌법.csv: '조문내용'\n",
      "Processing : 법령별2트/경비교도대 폐지에 따른 보상 등에 관한 법률.csv\n",
      "Error processing file 경비교도대 폐지에 따른 보상 등에 관한 법률.csv: '조문내용'\n",
      "Processing : 법령별2트/경비업법.csv\n",
      "Error processing file 경비업법.csv: '조문내용'\n",
      "Processing : 법령별2트/경제안보를 위한 공급망 안정화 지원 기본법.csv\n",
      "Error processing file 경제안보를 위한 공급망 안정화 지원 기본법.csv: '조문내용'\n",
      "Processing : 법령별2트/경제자유구역 및 제주국제자유도시의 외국교육기관 설립ㆍ운영에 관한 특별법.csv\n",
      "Error processing file 경제자유구역 및 제주국제자유도시의 외국교육기관 설립ㆍ운영에 관한 특별법.csv: '조문내용'\n",
      "Processing : 법령별2트/경제자유구역의 지정 및 운영에 관한 특별법.csv\n",
      "Error processing file 경제자유구역의 지정 및 운영에 관한 특별법.csv: '조문내용'\n",
      "Processing : 법령별2트/경찰공무원법.csv\n",
      "Error processing file 경찰공무원법.csv: '조문내용'\n",
      "Processing : 법령별2트/경찰공무원 보건안전 및 복지 기본법.csv\n",
      "Error processing file 경찰공무원 보건안전 및 복지 기본법.csv: '조문내용'\n",
      "Processing : 법령별2트/경찰제복 및 경찰장비의 규제에 관한 법률.csv\n",
      "Error processing file 경찰제복 및 경찰장비의 규제에 관한 법률.csv: '조문내용'\n",
      "Processing : 법령별2트/계량에 관한 법률.csv\n",
      "Error processing file 계량에 관한 법률.csv: '조문내용'\n",
      "Processing : 법령별2트/고도 보존 및 육성에 관한 특별법.csv\n",
      "Error processing file 고도 보존 및 육성에 관한 특별법.csv: '조문내용'\n",
      "Processing : 법령별2트/고독사 예방 및 관리에 관한 법률.csv\n",
      "Error processing file 고독사 예방 및 관리에 관한 법률.csv: '조문내용'\n",
      "Processing : 법령별2트/고등ㆍ평생교육지원특별회계법.csv\n",
      "Error processing file 고등ㆍ평생교육지원특별회계법.csv: '조문내용'\n",
      "Processing : 법령별2트/고려인동포 합법적 체류자격 취득 및 정착 지원을 위한 특별법.csv\n",
      "Error processing file 고려인동포 합법적 체류자격 취득 및 정착 지원을 위한 특별법.csv: '조문내용'\n",
      "Processing : 법령별2트/고령친화산업 진흥법.csv\n",
      "Error processing file 고령친화산업 진흥법.csv: '조문내용'\n",
      "Processing : 법령별2트/고압가스 안전관리법.csv\n",
      "Error processing file 고압가스 안전관리법.csv: '조문내용'\n",
      "Processing : 법령별2트/고엽제후유의증 등 환자지원 및 단체설립에 관한 법률.csv\n",
      "Error processing file 고엽제후유의증 등 환자지원 및 단체설립에 관한 법률.csv: '조문내용'\n",
      "Processing : 법령별2트/고용보험 및 산업재해보상보험의 보험료징수 등에 관한 법률.csv\n",
      "Error processing file 고용보험 및 산업재해보상보험의 보험료징수 등에 관한 법률.csv: '조문내용'\n",
      "Processing : 법령별2트/고용보험법.csv\n",
      "Error processing file 고용보험법.csv: '조문내용'\n",
      "Processing : 법령별2트/고용상 연령차별금지 및 고령자고용촉진에 관한 법률.csv\n",
      "Error processing file 고용상 연령차별금지 및 고령자고용촉진에 관한 법률.csv: '조문내용'\n",
      "Processing : 법령별2트/고용정책 기본법.csv\n",
      "Error processing file 고용정책 기본법.csv: '조문내용'\n",
      "Processing : 법령별2트/고위공직자범죄수사처 설치 및 운영에 관한 법률.csv\n",
      "Error processing file 고위공직자범죄수사처 설치 및 운영에 관한 법률.csv: '조문내용'\n",
      "Processing : 법령별2트/고향사랑 기부금에 관한 법률.csv\n",
      "Error processing file 고향사랑 기부금에 관한 법률.csv: '조문내용'\n",
      "Processing : 법령별2트/곤충산업의 육성 및 지원에 관한 법률.csv\n",
      "Error processing file 곤충산업의 육성 및 지원에 관한 법률.csv: '조문내용'\n",
      "Processing : 법령별2트/골재채취법.csv\n",
      "Error processing file 골재채취법.csv: '조문내용'\n",
      "Processing : 법령별2트/공간정보산업 진흥법.csv\n",
      "Error processing file 공간정보산업 진흥법.csv: '조문내용'\n",
      "Processing : 법령별2트/공간정보의 구축 및 관리 등에 관한 법률.csv\n",
      "Error processing file 공간정보의 구축 및 관리 등에 관한 법률.csv: '조문내용'\n",
      "Processing : 법령별2트/공공감사에 관한 법률.csv\n",
      "Error processing file 공공감사에 관한 법률.csv: '조문내용'\n",
      "Error processing file 공공기관의 정보공개에 관한 법률.csv: Error tokenizing data. C error: Expected 1 fields in line 6, saw 7\n",
      "\n",
      "Processing : 법령별2트/공공기록물 관리에 관한 법률.csv\n",
      "Error processing file 공공기록물 관리에 관한 법률.csv: '조문내용'\n",
      "Processing : 법령별2트/공공단체등 위탁선거에 관한 법률.csv\n",
      "Error processing file 공공단체등 위탁선거에 관한 법률.csv: '조문내용'\n",
      "Processing : 법령별2트/공공데이터의 제공 및 이용 활성화에 관한 법률.csv\n",
      "Error processing file 공공데이터의 제공 및 이용 활성화에 관한 법률.csv: '조문내용'\n",
      "Processing : 법령별2트/공공디자인의 진흥에 관한 법률.csv\n",
      "Error processing file 공공디자인의 진흥에 관한 법률.csv: '조문내용'\n",
      "Processing : 법령별2트/공공보건의료에 관한 법률.csv\n",
      "Error processing file 공공보건의료에 관한 법률.csv: '조문내용'\n",
      "Processing : 법령별2트/공공외교법.csv\n",
      "Error processing file 공공외교법.csv: '조문내용'\n",
      "Processing : 법령별2트/공공자금관리기금법.csv\n",
      "Error processing file 공공자금관리기금법.csv: '조문내용'\n",
      "Processing : 법령별2트/공공재정 부정청구 금지 및 부정이익 환수 등에 관한 법률.csv\n",
      "Error processing file 공공재정 부정청구 금지 및 부정이익 환수 등에 관한 법률.csv: '조문내용'\n",
      "Processing : 법령별2트/공공주택 특별법.csv\n",
      "Error processing file 공공주택 특별법.csv: '조문내용'\n",
      "Processing : 법령별2트/공공차관의 도입 및 관리에 관한 법률.csv\n",
      "Error processing file 공공차관의 도입 및 관리에 관한 법률.csv: '조문내용'\n",
      "Processing : 법령별2트/공공토지의 비축에 관한 법률.csv\n",
      "Error processing file 공공토지의 비축에 관한 법률.csv: '조문내용'\n",
      "Processing : 법령별2트/공공폐자원관리시설의 설치ㆍ운영 및 주민지원 등에 관한 특별법.csv\n",
      "Error processing file 공공폐자원관리시설의 설치ㆍ운영 및 주민지원 등에 관한 특별법.csv: '조문내용'\n",
      "Processing : 법령별2트/공교육 정상화 촉진 및 선행교육 규제에 관한 특별법.csv\n",
      "Error processing file 공교육 정상화 촉진 및 선행교육 규제에 관한 특별법.csv: '조문내용'\n",
      "Processing : 법령별2트/공동주택관리법.csv\n",
      "Error processing file 공동주택관리법.csv: '조문내용'\n",
      "Processing : 법령별2트/공무원 노동조합 관련 해직공무원등의 복직 등에 관한 특별법.csv\n",
      "Error processing file 공무원 노동조합 관련 해직공무원등의 복직 등에 관한 특별법.csv: '조문내용'\n",
      "Processing : 법령별2트/공무원범죄에 관한 몰수 특례법.csv\n",
      "Error processing file 공무원범죄에 관한 몰수 특례법.csv: '조문내용'\n",
      "Processing : 법령별2트/공무원연금법.csv\n",
      "Error processing file 공무원연금법.csv: '조문내용'\n",
      "Processing : 법령별2트/공무원의 노동조합 설립 및 운영 등에 관한 법률.csv\n",
      "Error processing file 공무원의 노동조합 설립 및 운영 등에 관한 법률.csv: '조문내용'\n",
      "Processing : 법령별2트/공무원 재해보상법.csv\n",
      "Error processing file 공무원 재해보상법.csv: '조문내용'\n",
      "Processing : 법령별2트/공사중단 장기방치 건축물의 정비 등에 관한 특별조치법.csv\n",
      "Error processing file 공사중단 장기방치 건축물의 정비 등에 관한 특별조치법.csv: '조문내용'\n",
      "Processing : 법령별2트/공연법.csv\n",
      "Error processing file 공연법.csv: '조문내용'\n",
      "Processing : 법령별2트/공예문화산업 진흥법.csv\n",
      "Error processing file 공예문화산업 진흥법.csv: '조문내용'\n",
      "Processing : 법령별2트/공유수면 관리 및 매립에 관한 법률.csv\n",
      "Error processing file 공유수면 관리 및 매립에 관한 법률.csv: '조문내용'\n",
      "Processing : 법령별2트/공유재산 및 물품 관리법.csv\n",
      "Error processing file 공유재산 및 물품 관리법.csv: '조문내용'\n",
      "Processing : 법령별2트/공익법무관에 관한 법률.csv\n",
      "Error processing file 공익법무관에 관한 법률.csv: '조문내용'\n",
      "Processing : 법령별2트/공익사업을 위한 토지 등의 취득 및 보상에 관한 법률.csv\n",
      "Error processing file 공익사업을 위한 토지 등의 취득 및 보상에 관한 법률.csv: '조문내용'\n",
      "Processing : 법령별2트/공익신고자 보호법.csv\n",
      "Error processing file 공익신고자 보호법.csv: '조문내용'\n",
      "Processing : 법령별2트/공인중개사법.csv\n",
      "Error processing file 공인중개사법.csv: '조문내용'\n",
      "Processing : 법령별2트/공인회계사법.csv\n",
      "Error processing file 공인회계사법.csv: '조문내용'\n",
      "Processing : 법령별2트/공장 및 광업재단 저당법.csv\n",
      "Error processing file 공장 및 광업재단 저당법.csv: '조문내용'\n",
      "Error processing file 공적자금관리 특별법.csv: Error tokenizing data. C error: Expected 1 fields in line 4, saw 7\n",
      "\n",
      "Processing : 법령별2트/공적자금상환기금법.csv\n",
      "Error processing file 공적자금상환기금법.csv: '조문내용'\n",
      "Error processing file 공중 등 협박목적 및 대량살상무기확산을 위한 자금조달행위의 금지에 관한 법률.csv: Error tokenizing data. C error: Expected 1 fields in line 5, saw 7\n",
      "\n",
      "Processing : 법령별2트/공중방역수의사에 관한 법률.csv\n",
      "Error processing file 공중방역수의사에 관한 법률.csv: '조문내용'\n",
      "Processing : 법령별2트/공중보건 위기대응 의료제품의 개발 촉진 및 긴급 공급을 위한 특별법.csv\n",
      "Error processing file 공중보건 위기대응 의료제품의 개발 촉진 및 긴급 공급을 위한 특별법.csv: '조문내용'\n",
      "Processing : 법령별2트/공중위생관리법.csv\n",
      "Error processing file 공중위생관리법.csv: '조문내용'\n",
      "Processing : 법령별2트/공중화장실 등에 관한 법률.csv\n",
      "Error processing file 공중화장실 등에 관한 법률.csv: '조문내용'\n",
      "Processing : 법령별2트/공직자의 이해충돌 방지법.csv\n",
      "Error processing file 공직자의 이해충돌 방지법.csv: '조문내용'\n",
      "Processing : 법령별2트/공항소음 방지 및 소음대책지역 지원에 관한 법률.csv\n",
      "Error processing file 공항소음 방지 및 소음대책지역 지원에 관한 법률.csv: '조문내용'\n",
      "Processing : 법령별2트/공항시설법.csv\n",
      "Error processing file 공항시설법.csv: '조문내용'\n",
      "Processing : 법령별2트/과세자료의 제출 및 관리에 관한 법률.csv\n",
      "Error processing file 과세자료의 제출 및 관리에 관한 법률.csv: '조문내용'\n",
      "Processing : 법령별2트/과학관의 설립ㆍ운영 및 육성에 관한 법률.csv\n",
      "Error processing file 과학관의 설립ㆍ운영 및 육성에 관한 법률.csv: '조문내용'\n",
      "Processing : 법령별2트/과학기술분야 정부출연연구기관 등의 설립ㆍ운영 및 육성에 관한 법률.csv\n",
      "Error processing file 과학기술분야 정부출연연구기관 등의 설립ㆍ운영 및 육성에 관한 법률.csv: '조문내용'\n",
      "Processing : 법령별2트/과학기술유공자 예우 및 지원에 관한 법률.csv\n",
      "Error processing file 과학기술유공자 예우 및 지원에 관한 법률.csv: '조문내용'\n",
      "Processing : 법령별2트/과학ㆍ수학ㆍ정보 교육 진흥법.csv\n",
      "Error processing file 과학ㆍ수학ㆍ정보 교육 진흥법.csv: '조문내용'\n",
      "Processing : 법령별2트/관광진흥법.csv\n",
      "Error processing file 관광진흥법.csv: '조문내용'\n",
      "Processing : 법령별2트/관상어산업의 육성 및 지원에 관한 법률.csv\n",
      "Error processing file 관상어산업의 육성 및 지원에 관한 법률.csv: '조문내용'\n",
      "Processing : 법령별2트/관세법.csv\n",
      "Error processing file 관세법.csv: '조문내용'\n",
      "Processing : 법령별2트/광산안전법.csv\n",
      "Error processing file 광산안전법.csv: '조문내용'\n",
      "Processing : 법령별2트/광산피해의 방지 및 복구에 관한 법률.csv\n",
      "Error processing file 광산피해의 방지 및 복구에 관한 법률.csv: '조문내용'\n",
      "Processing : 법령별2트/광업법.csv\n",
      "Error processing file 광업법.csv: '조문내용'\n",
      "Processing : 법령별2트/광주 군 공항 이전 및 종전부지 개발 등에 관한 특별법.csv\n",
      "Error processing file 광주 군 공항 이전 및 종전부지 개발 등에 관한 특별법.csv: '조문내용'\n",
      "Processing : 법령별2트/교도작업의 운영 및 특별회계에 관한 법률.csv\n",
      "Error processing file 교도작업의 운영 및 특별회계에 관한 법률.csv: '조문내용'\n",
      "Error processing file 교원의 노동조합 설립 및 운영 등에 관한 법률.csv: Error tokenizing data. C error: Expected 1 fields in line 3, saw 3\n",
      "\n",
      "Processing : 법령별2트/교육공무원법.csv\n",
      "Error processing file 교육공무원법.csv: '조문내용'\n",
      "Processing : 법령별2트/교육관련기관의 정보공개에 관한 특례법.csv\n",
      "Error processing file 교육관련기관의 정보공개에 관한 특례법.csv: '조문내용'\n",
      "Processing : 법령별2트/교육국제화특구의 지정ㆍ운영 및 육성에 관한 특별법.csv\n",
      "Error processing file 교육국제화특구의 지정ㆍ운영 및 육성에 관한 특별법.csv: '조문내용'\n",
      "Processing : 법령별2트/교육세법.csv\n",
      "Error processing file 교육세법.csv: '조문내용'\n",
      "Processing : 법령별2트/교육시설 등의 안전 및 유지관리 등에 관한 법률.csv\n",
      "Error processing file 교육시설 등의 안전 및 유지관리 등에 관한 법률.csv: '조문내용'\n",
      "Processing : 법령별2트/교육환경 보호에 관한 법률.csv\n",
      "Error processing file 교육환경 보호에 관한 법률.csv: '조문내용'\n",
      "Processing : 법령별2트/교통사고처리 특례법.csv\n",
      "Error processing file 교통사고처리 특례법.csv: '조문내용'\n",
      "Processing : 법령별2트/교통시설특별회계법.csv\n",
      "Error processing file 교통시설특별회계법.csv: '조문내용'\n",
      "Processing : 법령별2트/교통안전법.csv\n",
      "Error processing file 교통안전법.csv: '조문내용'\n",
      "Processing : 법령별2트/교통약자의 이동편의 증진법.csv\n",
      "Error processing file 교통약자의 이동편의 증진법.csv: '조문내용'\n",
      "Processing : 법령별2트/구강보건법.csv\n",
      "Error processing file 구강보건법.csv: '조문내용'\n",
      "Processing : 법령별2트/구직자 취업촉진 및 생활안정지원에 관한 법률.csv\n",
      "Error processing file 구직자 취업촉진 및 생활안정지원에 관한 법률.csv: '조문내용'\n",
      "Processing : 법령별2트/국가공간정보 기본법.csv\n",
      "Error processing file 국가공간정보 기본법.csv: '조문내용'\n",
      "Processing : 법령별2트/국가공무원법.csv\n",
      "Error processing file 국가공무원법.csv: '조문내용'\n",
      "Processing : 법령별2트/국가과학기술 경쟁력 강화를 위한 이공계지원 특별법.csv\n",
      "Error processing file 국가과학기술 경쟁력 강화를 위한 이공계지원 특별법.csv: '조문내용'\n",
      "Processing : 법령별2트/국가기술자격법.csv\n",
      "Error processing file 국가기술자격법.csv: '조문내용'\n",
      "Processing : 법령별2트/국가보안법.csv\n",
      "Error processing file 국가보안법.csv: '조문내용'\n",
      "Processing : 법령별2트/국가보훈 기본법.csv\n",
      "Error processing file 국가보훈 기본법.csv: '조문내용'\n",
      "Processing : 법령별2트/국가연구개발사업 등의 성과평가 및 성과관리에 관한 법률.csv\n",
      "Error processing file 국가연구개발사업 등의 성과평가 및 성과관리에 관한 법률.csv: '조문내용'\n",
      "Processing : 법령별2트/국가연구개발혁신법.csv\n",
      "Error processing file 국가연구개발혁신법.csv: '조문내용'\n",
      "Processing : 법령별2트/국가유산기본법.csv\n",
      "Error processing file 국가유산기본법.csv: '조문내용'\n",
      "Processing : 법령별2트/국가유산보호기금법.csv\n",
      "Error processing file 국가유산보호기금법.csv: '조문내용'\n",
      "Processing : 법령별2트/국가유산수리 등에 관한 법률.csv\n",
      "Error processing file 국가유산수리 등에 관한 법률.csv: '조문내용'\n",
      "Processing : 법령별2트/국가인권위원회법.csv\n",
      "Error processing file 국가인권위원회법.csv: '조문내용'\n",
      "Processing : 법령별2트/국가전략기술 육성에 관한 특별법.csv\n",
      "Error processing file 국가전략기술 육성에 관한 특별법.csv: '조문내용'\n",
      "Processing : 법령별2트/국가정보원직원법.csv\n",
      "Error processing file 국가정보원직원법.csv: '조문내용'\n",
      "Processing : 법령별2트/국가지식정보 연계 및 활용 촉진에 관한 법률.csv\n",
      "Error processing file 국가지식정보 연계 및 활용 촉진에 관한 법률.csv: '조문내용'\n",
      "Processing : 법령별2트/국가채권 관리법.csv\n",
      "Error processing file 국가채권 관리법.csv: '조문내용'\n",
      "Processing : 법령별2트/국가철도공단법.csv\n",
      "Error processing file 국가철도공단법.csv: '조문내용'\n",
      "Processing : 법령별2트/국가첨단전략산업 경쟁력 강화 및 보호에 관한 특별조치법.csv\n",
      "Error processing file 국가첨단전략산업 경쟁력 강화 및 보호에 관한 특별조치법.csv: '조문내용'\n",
      "Processing : 법령별2트/국가초고성능컴퓨터 활용 및 육성에 관한 법률.csv\n",
      "Error processing file 국가초고성능컴퓨터 활용 및 육성에 관한 법률.csv: '조문내용'\n",
      "Processing : 법령별2트/국가통합교통체계효율화법.csv\n",
      "Error processing file 국가통합교통체계효율화법.csv: '조문내용'\n",
      "Processing : 법령별2트/국가회계법.csv\n",
      "Error processing file 국가회계법.csv: '조문내용'\n",
      "Processing : 법령별2트/국고금 관리법.csv\n",
      "Error processing file 국고금 관리법.csv: '조문내용'\n",
      "Processing : 법령별2트/국군포로의 송환 및 대우 등에 관한 법률.csv\n",
      "Error processing file 국군포로의 송환 및 대우 등에 관한 법률.csv: '조문내용'\n",
      "Processing : 법령별2트/국립국가폭력트라우마치유센터의 설립 및 운영에 관한 법률.csv\n",
      "Error processing file 국립국가폭력트라우마치유센터의 설립 및 운영에 관한 법률.csv: '조문내용'\n",
      "Processing : 법령별2트/국립묘지의 설치 및 운영에 관한 법률.csv\n",
      "Error processing file 국립묘지의 설치 및 운영에 관한 법률.csv: '조문내용'\n",
      "Processing : 법령별2트/국민건강보험법.csv\n",
      "Error processing file 국민건강보험법.csv: '조문내용'\n",
      "Processing : 법령별2트/국민건강증진법.csv\n",
      "Error processing file 국민건강증진법.csv: '조문내용'\n",
      "Processing : 법령별2트/국민기초생활 보장법.csv\n",
      "Error processing file 국민기초생활 보장법.csv: '조문내용'\n",
      "Error processing file 국민보호와 공공안전을 위한 테러방지법.csv: Error tokenizing data. C error: Expected 1 fields in line 5, saw 7\n",
      "\n",
      "Processing : 법령별2트/국민 안전교육 진흥 기본법.csv\n",
      "Error processing file 국민 안전교육 진흥 기본법.csv: '조문내용'\n",
      "Processing : 법령별2트/국민여가활성화기본법.csv\n",
      "Error processing file 국민여가활성화기본법.csv: '조문내용'\n",
      "Processing : 법령별2트/국민연금과 직역연금의 연계에 관한 법률.csv\n",
      "Error processing file 국민연금과 직역연금의 연계에 관한 법률.csv: '조문내용'\n",
      "Processing : 법령별2트/국민영양관리법.csv\n",
      "Error processing file 국민영양관리법.csv: '조문내용'\n",
      "Processing : 법령별2트/국민의 형사재판 참여에 관한 법률.csv\n",
      "Error processing file 국민의 형사재판 참여에 관한 법률.csv: '조문내용'\n",
      "Processing : 법령별2트/국민체육진흥법.csv\n",
      "Error processing file 국민체육진흥법.csv: '조문내용'\n",
      "Processing : 법령별2트/국민투표법.csv\n",
      "Error processing file 국민투표법.csv: '조문내용'\n",
      "Processing : 법령별2트/국민 평생 직업능력 개발법.csv\n",
      "Error processing file 국민 평생 직업능력 개발법.csv: '조문내용'\n",
      "Processing : 법령별2트/국방개혁에 관한 법률.csv\n",
      "Error processing file 국방개혁에 관한 법률.csv: '조문내용'\n",
      "Processing : 법령별2트/국방과학기술혁신 촉진법.csv\n",
      "Error processing file 국방과학기술혁신 촉진법.csv: '조문내용'\n",
      "Processing : 법령별2트/국방ㆍ군사시설 사업에 관한 법률.csv\n",
      "Error processing file 국방ㆍ군사시설 사업에 관한 법률.csv: '조문내용'\n",
      "Processing : 법령별2트/국방ㆍ군사시설이전 특별회계법.csv\n",
      "Error processing file 국방ㆍ군사시설이전 특별회계법.csv: '조문내용'\n",
      "Processing : 법령별2트/국방정보화 기반조성 및 국방정보자원관리에 관한 법률.csv\n",
      "Error processing file 국방정보화 기반조성 및 국방정보자원관리에 관한 법률.csv: '조문내용'\n",
      "Processing : 법령별2트/국세기본법.csv\n",
      "Error processing file 국세기본법.csv: '조문내용'\n",
      "Processing : 법령별2트/국세징수법.csv\n",
      "Error processing file 국세징수법.csv: '조문내용'\n",
      "Processing : 법령별2트/국악진흥법.csv\n",
      "Error processing file 국악진흥법.csv: '조문내용'\n",
      "Processing : 법령별2트/국어기본법.csv\n",
      "Error processing file 국어기본법.csv: '조문내용'\n",
      "Processing : 법령별2트/국유림의 경영 및 관리에 관한 법률.csv\n",
      "Error processing file 국유림의 경영 및 관리에 관한 법률.csv: '조문내용'\n",
      "Processing : 법령별2트/국유재산법.csv\n",
      "Error processing file 국유재산법.csv: '조문내용'\n",
      "Processing : 법령별2트/국유재산특례제한법.csv\n",
      "Error processing file 국유재산특례제한법.csv: '조문내용'\n",
      "Processing : 법령별2트/국제개발협력기본법.csv\n",
      "Error processing file 국제개발협력기본법.csv: '조문내용'\n",
      "Processing : 법령별2트/국제경기대회 지원법.csv\n",
      "Error processing file 국제경기대회 지원법.csv: '조문내용'\n",
      "Processing : 법령별2트/국제과학비즈니스벨트 조성 및 지원에 관한 특별법.csv\n",
      "Error processing file 국제과학비즈니스벨트 조성 및 지원에 관한 특별법.csv: '조문내용'\n",
      "Processing : 법령별2트/국제기구 분담금 관리에 관한 법률.csv\n",
      "Error processing file 국제기구 분담금 관리에 관한 법률.csv: '조문내용'\n",
      "Processing : 법령별2트/국제문화교류 진흥법.csv\n",
      "Error processing file 국제문화교류 진흥법.csv: '조문내용'\n",
      "Processing : 법령별2트/국제연합 평화유지활동 참여에 관한 법률.csv\n",
      "Error processing file 국제연합 평화유지활동 참여에 관한 법률.csv: '조문내용'\n",
      "Error processing file 국제조세조정에 관한 법률.csv: Error tokenizing data. C error: Expected 1 fields in line 38, saw 3\n",
      "\n",
      "Processing : 법령별2트/국제질병퇴치기금법.csv\n",
      "Error processing file 국제질병퇴치기금법.csv: '조문내용'\n",
      "Processing : 법령별2트/국제항공 탄소 배출량 관리에 관한 법률.csv\n",
      "Error processing file 국제항공 탄소 배출량 관리에 관한 법률.csv: '조문내용'\n",
      "Processing : 법령별2트/국제항해선박 등에 대한 해적행위 피해예방에 관한 법률.csv\n",
      "Error processing file 국제항해선박 등에 대한 해적행위 피해예방에 관한 법률.csv: '조문내용'\n",
      "Processing : 법령별2트/국제항해선박 및 항만시설의 보안에 관한 법률.csv\n",
      "Error processing file 국제항해선박 및 항만시설의 보안에 관한 법률.csv: '조문내용'\n",
      "Processing : 법령별2트/국제협력요원 제도 폐지에 따른 순직 심사 등에 관한 법률.csv\n",
      "Error processing file 국제협력요원 제도 폐지에 따른 순직 심사 등에 관한 법률.csv: '조문내용'\n",
      "Processing : 법령별2트/국제형사사법 공조법.csv\n",
      "Error processing file 국제형사사법 공조법.csv: '조문내용'\n",
      "Processing : 법령별2트/국제회의산업 육성에 관한 법률.csv\n",
      "Error processing file 국제회의산업 육성에 관한 법률.csv: '조문내용'\n",
      "Processing : 법령별2트/국채법.csv\n",
      "Error processing file 국채법.csv: '조문내용'\n",
      "Error processing file 국토의 계획 및 이용에 관한 법률.csv: Error tokenizing data. C error: Expected 1 fields in line 3, saw 3\n",
      "\n",
      "Processing : 법령별2트/군 공항 이전 및 지원에 관한 특별법.csv\n",
      "Error processing file 군 공항 이전 및 지원에 관한 특별법.csv: '조문내용'\n",
      "Processing : 법령별2트/군보건의료에 관한 법률.csv\n",
      "Error processing file 군보건의료에 관한 법률.csv: '조문내용'\n",
      "Processing : 법령별2트/군복 및 군용장구의 단속에 관한 법률.csv\n",
      "Error processing file 군복 및 군용장구의 단속에 관한 법률.csv: '조문내용'\n",
      "Processing : 법령별2트/군사경찰의 직무수행에 관한 법률.csv\n",
      "Error processing file 군사경찰의 직무수행에 관한 법률.csv: '조문내용'\n",
      "Processing : 법령별2트/군사기밀 보호법.csv\n",
      "Error processing file 군사기밀 보호법.csv: '조문내용'\n",
      "Processing : 법령별2트/군사기지 및 군사시설 보호법.csv\n",
      "Error processing file 군사기지 및 군사시설 보호법.csv: '조문내용'\n",
      "Processing : 법령별2트/군사정전에 관한 협정 체결 이후 납북피해자의 보상 및 지원에 관한 법률.csv\n",
      "Error processing file 군사정전에 관한 협정 체결 이후 납북피해자의 보상 및 지원에 관한 법률.csv: '조문내용'\n",
      "Processing : 법령별2트/군수품관리법.csv\n",
      "Error processing file 군수품관리법.csv: '조문내용'\n",
      "Processing : 법령별2트/군용비행장ㆍ군사격장 소음 방지 및 피해 보상에 관한 법률.csv\n",
      "Error processing file 군용비행장ㆍ군사격장 소음 방지 및 피해 보상에 관한 법률.csv: '조문내용'\n",
      "Processing : 법령별2트/군용전기통신법.csv\n",
      "Error processing file 군용전기통신법.csv: '조문내용'\n",
      "Error processing file 군용항공기 비행안전성 인증에 관한 법률.csv: Error tokenizing data. C error: Expected 1 fields in line 4, saw 7\n",
      "\n",
      "Processing : 법령별2트/군용항공기 운용 등에 관한 법률.csv\n",
      "Error processing file 군용항공기 운용 등에 관한 법률.csv: '조문내용'\n",
      "Processing : 법령별2트/군인복지기본법.csv\n",
      "Error processing file 군인복지기본법.csv: '조문내용'\n",
      "Processing : 법령별2트/군인연금법.csv\n",
      "Error processing file 군인연금법.csv: '조문내용'\n",
      "Processing : 법령별2트/군인의 지위 및 복무에 관한 기본법.csv\n",
      "Error processing file 군인의 지위 및 복무에 관한 기본법.csv: '조문내용'\n",
      "Processing : 법령별2트/군인 재해보상법.csv\n",
      "Error processing file 군인 재해보상법.csv: '조문내용'\n",
      "Processing : 법령별2트/군 책임운영기관의 지정ㆍ운영에 관한 법률.csv\n",
      "Error processing file 군 책임운영기관의 지정ㆍ운영에 관한 법률.csv: '조문내용'\n",
      "Processing : 법령별2트/궤도운송법.csv\n",
      "Error processing file 궤도운송법.csv: '조문내용'\n",
      "Processing : 법령별2트/귀농어ㆍ귀촌 활성화 및 지원에 관한 법률.csv\n",
      "Error processing file 귀농어ㆍ귀촌 활성화 및 지원에 관한 법률.csv: '조문내용'\n",
      "Processing : 법령별2트/규제자유특구 및 지역특화발전특구에 관한 규제특례법.csv\n",
      "Error processing file 규제자유특구 및 지역특화발전특구에 관한 규제특례법.csv: '조문내용'\n",
      "Processing : 법령별2트/극지활동 진흥법.csv\n",
      "Error processing file 극지활동 진흥법.csv: '조문내용'\n",
      "Processing : 법령별2트/근로기준법.csv\n",
      "Error processing file 근로기준법.csv: '조문내용'\n",
      "Processing : 법령별2트/근로복지기본법.csv\n",
      "Error processing file 근로복지기본법.csv: '조문내용'\n",
      "Processing : 법령별2트/근로자참여 및 협력증진에 관한 법률.csv\n",
      "Error processing file 근로자참여 및 협력증진에 관한 법률.csv: '조문내용'\n",
      "Processing : 법령별2트/근로자퇴직급여 보장법.csv\n",
      "Error processing file 근로자퇴직급여 보장법.csv: '조문내용'\n",
      "Processing : 법령별2트/근현대문화유산의 보존 및 활용에 관한 법률.csv\n",
      "Error processing file 근현대문화유산의 보존 및 활용에 관한 법률.csv: '조문내용'\n",
      "Processing : 법령별2트/금강수계 물관리 및 주민지원 등에 관한 법률.csv\n",
      "Error processing file 금강수계 물관리 및 주민지원 등에 관한 법률.csv: '조문내용'\n",
      "Processing : 법령별2트/금융거래지표의 관리에 관한 법률.csv\n",
      "Error processing file 금융거래지표의 관리에 관한 법률.csv: '조문내용'\n",
      "Processing : 법령별2트/금융복합기업집단의 감독에 관한 법률.csv\n",
      "Error processing file 금융복합기업집단의 감독에 관한 법률.csv: '조문내용'\n",
      "Processing : 법령별2트/금융산업의 구조개선에 관한 법률.csv\n",
      "Error processing file 금융산업의 구조개선에 관한 법률.csv: '조문내용'\n",
      "Processing : 법령별2트/금융소비자 보호에 관한 법률.csv\n",
      "Error processing file 금융소비자 보호에 관한 법률.csv: '조문내용'\n",
      "Processing : 법령별2트/금융실명거래 및 비밀보장에 관한 법률.csv\n",
      "Error processing file 금융실명거래 및 비밀보장에 관한 법률.csv: '조문내용'\n",
      "Error processing file 금융지주회사법.csv: Error tokenizing data. C error: Expected 1 fields in line 32, saw 7\n",
      "\n",
      "Processing : 법령별2트/금융혁신지원 특별법.csv\n",
      "Error processing file 금융혁신지원 특별법.csv: '조문내용'\n",
      "Error processing file 금융회사의 지배구조에 관한 법률.csv: Error tokenizing data. C error: Expected 1 fields in line 17, saw 7\n",
      "\n",
      "Processing : 법령별2트/급경사지 재해예방에 관한 법률.csv\n",
      "Error processing file 급경사지 재해예방에 관한 법률.csv: '조문내용'\n",
      "Processing : 법령별2트/기간제 및 단시간근로자 보호 등에 관한 법률.csv\n",
      "Error processing file 기간제 및 단시간근로자 보호 등에 관한 법률.csv: '조문내용'\n",
      "Processing : 법령별2트/기계설비법.csv\n",
      "Error processing file 기계설비법.csv: '조문내용'\n",
      "Processing : 법령별2트/기능성 양잠산업 육성 및 지원에 관한 법률.csv\n",
      "Error processing file 기능성 양잠산업 육성 및 지원에 관한 법률.csv: '조문내용'\n",
      "Error processing file 기부금품의 모집ㆍ사용 및 기부문화 활성화에 관한 법률.csv: Error tokenizing data. C error: Expected 1 fields in line 7, saw 7\n",
      "\n",
      "Processing : 법령별2트/기상관측표준화법.csv\n",
      "Error processing file 기상관측표준화법.csv: '조문내용'\n",
      "Processing : 법령별2트/기상법.csv\n",
      "Error processing file 기상법.csv: '조문내용'\n",
      "Processing : 법령별2트/기상산업진흥법.csv\n",
      "Error processing file 기상산업진흥법.csv: '조문내용'\n",
      "Processing : 법령별2트/기술보증기금법.csv\n",
      "Error processing file 기술보증기금법.csv: '조문내용'\n",
      "Processing : 법령별2트/기술사법.csv\n",
      "Error processing file 기술사법.csv: '조문내용'\n",
      "Processing : 법령별2트/기술의 이전 및 사업화 촉진에 관한 법률.csv\n",
      "Error processing file 기술의 이전 및 사업화 촉진에 관한 법률.csv: '조문내용'\n",
      "Processing : 법령별2트/기업구조조정 촉진법.csv\n",
      "Error processing file 기업구조조정 촉진법.csv: '조문내용'\n",
      "Processing : 법령별2트/기업구조조정투자회사법.csv\n",
      "Error processing file 기업구조조정투자회사법.csv: '조문내용'\n",
      "Processing : 법령별2트/기업도시개발 특별법.csv\n",
      "Error processing file 기업도시개발 특별법.csv: '조문내용'\n",
      "Processing : 법령별2트/기업활동 규제완화에 관한 특별조치법.csv\n",
      "Error processing file 기업활동 규제완화에 관한 특별조치법.csv: '조문내용'\n",
      "Processing : 법령별2트/기업 활력 제고를 위한 특별법.csv\n",
      "Error processing file 기업 활력 제고를 위한 특별법.csv: '조문내용'\n",
      "Processing : 법령별2트/기초연구진흥 및 기술개발지원에 관한 법률.csv\n",
      "Error processing file 기초연구진흥 및 기술개발지원에 관한 법률.csv: '조문내용'\n",
      "Processing : 법령별2트/기초연금법.csv\n",
      "Error processing file 기초연금법.csv: '조문내용'\n",
      "Processing : 법령별2트/기초학력 보장법.csv\n",
      "Error processing file 기초학력 보장법.csv: '조문내용'\n",
      "Processing : 법령별2트/기후변화대응 기술개발 촉진법.csv\n",
      "Error processing file 기후변화대응 기술개발 촉진법.csv: '조문내용'\n",
      "Processing : 법령별2트/기후위기 대응을 위한 탄소중립ㆍ녹색성장 기본법.csv\n",
      "Error processing file 기후위기 대응을 위한 탄소중립ㆍ녹색성장 기본법.csv: '조문내용'\n",
      "Processing : 법령별2트/긴급복지지원법.csv\n",
      "Error processing file 긴급복지지원법.csv: '조문내용'\n",
      "Processing : 법령별2트/김산업의 육성 및 지원에 관한 법률.csv\n",
      "Error processing file 김산업의 육성 및 지원에 관한 법률.csv: '조문내용'\n",
      "Processing : 법령별2트/김치산업 진흥법.csv\n",
      "Error processing file 김치산업 진흥법.csv: '조문내용'\n",
      "Processing : 법령별2트/나노기술개발 촉진법.csv\n",
      "Error processing file 나노기술개발 촉진법.csv: '조문내용'\n",
      "Processing : 법령별2트/낙농진흥법.csv\n",
      "Error processing file 낙농진흥법.csv: '조문내용'\n",
      "Processing : 법령별2트/낙동강수계 물관리 및 주민지원 등에 관한 법률.csv\n",
      "Error processing file 낙동강수계 물관리 및 주민지원 등에 관한 법률.csv: '조문내용'\n",
      "Processing : 법령별2트/낚시 관리 및 육성법.csv\n",
      "Error processing file 낚시 관리 및 육성법.csv: '조문내용'\n",
      "Processing : 법령별2트/난민법.csv\n",
      "Error processing file 난민법.csv: '조문내용'\n",
      "Processing : 법령별2트/남극활동 및 환경보호에 관한 법률.csv\n",
      "Error processing file 남극활동 및 환경보호에 관한 법률.csv: '조문내용'\n",
      "Processing : 법령별2트/남녀고용평등과 일ㆍ가정 양립 지원에 관한 법률.csv\n",
      "Error processing file 남녀고용평등과 일ㆍ가정 양립 지원에 관한 법률.csv: '조문내용'\n",
      "Processing : 법령별2트/남북관계 발전에 관한 법률.csv\n",
      "Error processing file 남북관계 발전에 관한 법률.csv: '조문내용'\n",
      "Processing : 법령별2트/남북교류협력에 관한 법률.csv\n",
      "Error processing file 남북교류협력에 관한 법률.csv: '조문내용'\n",
      "Processing : 법령별2트/남북 이산가족 생사확인 및 교류 촉진에 관한 법률.csv\n",
      "Error processing file 남북 이산가족 생사확인 및 교류 촉진에 관한 법률.csv: '조문내용'\n",
      "Processing : 법령별2트/남북협력기금법.csv\n",
      "Error processing file 남북협력기금법.csv: '조문내용'\n",
      "Processing : 법령별2트/내수면 가두리양식어업 면허기간 연장불허에 따른 손실보상에 관한 특별법.csv\n",
      "Error processing file 내수면 가두리양식어업 면허기간 연장불허에 따른 손실보상에 관한 특별법.csv: '조문내용'\n",
      "Processing : 법령별2트/내수면어업법.csv\n",
      "Error processing file 내수면어업법.csv: '조문내용'\n",
      "Processing : 법령별2트/노근리사건 희생자심사 및 명예회복에 관한 특별법.csv\n",
      "Error processing file 노근리사건 희생자심사 및 명예회복에 관한 특별법.csv: '조문내용'\n",
      "Processing : 법령별2트/노동조합 및 노동관계조정법.csv\n",
      "Error processing file 노동조합 및 노동관계조정법.csv: '조문내용'\n",
      "Processing : 법령별2트/노숙인 등의 복지 및 자립지원에 관한 법률.csv\n",
      "Error processing file 노숙인 등의 복지 및 자립지원에 관한 법률.csv: '조문내용'\n",
      "Processing : 법령별2트/노인복지법.csv\n",
      "Error processing file 노인복지법.csv: '조문내용'\n",
      "Processing : 법령별2트/노인장기요양보험법.csv\n",
      "Error processing file 노인장기요양보험법.csv: '조문내용'\n",
      "Processing : 법령별2트/노인ㆍ장애인 등 사회복지시설의 급식안전 지원에 관한 법률.csv\n",
      "Error processing file 노인ㆍ장애인 등 사회복지시설의 급식안전 지원에 관한 법률.csv: '조문내용'\n",
      "Error processing file 노후거점산업단지의 활력증진 및 경쟁력강화를 위한 특별법.csv: Error tokenizing data. C error: Expected 1 fields in line 17, saw 7\n",
      "\n",
      "Processing : 법령별2트/노후계획도시 정비 및 지원에 관한 특별법.csv\n",
      "Error processing file 노후계획도시 정비 및 지원에 관한 특별법.csv: '조문내용'\n",
      "Processing : 법령별2트/노후준비 지원법.csv\n",
      "Error processing file 노후준비 지원법.csv: '조문내용'\n",
      "Processing : 법령별2트/녹색건축물 조성 지원법.csv\n",
      "Error processing file 녹색건축물 조성 지원법.csv: '조문내용'\n",
      "Processing : 법령별2트/녹색융합클러스터의 조성 및 육성에 관한 법률.csv\n",
      "Error processing file 녹색융합클러스터의 조성 및 육성에 관한 법률.csv: '조문내용'\n",
      "Processing : 법령별2트/녹색제품 구매촉진에 관한 법률.csv\n",
      "Error processing file 녹색제품 구매촉진에 관한 법률.csv: '조문내용'\n",
      "Processing : 법령별2트/농림수산식품투자조합 결성 및 운용에 관한 법률.csv\n",
      "Error processing file 농림수산식품투자조합 결성 및 운용에 관한 법률.csv: '조문내용'\n",
      "Processing : 법령별2트/농림수산업자 신용보증법.csv\n",
      "Error processing file 농림수산업자 신용보증법.csv: '조문내용'\n",
      "Processing : 법령별2트/농림식품과학기술 육성법.csv\n",
      "Error processing file 농림식품과학기술 육성법.csv: '조문내용'\n",
      "Processing : 법령별2트/농수산물 유통 및 가격안정에 관한 법률.csv\n",
      "Error processing file 농수산물 유통 및 가격안정에 관한 법률.csv: '조문내용'\n",
      "Processing : 법령별2트/농수산물의 원산지 표시 등에 관한 법률.csv\n",
      "Error processing file 농수산물의 원산지 표시 등에 관한 법률.csv: '조문내용'\n",
      "Error processing file 농수산물 품질관리법.csv: Error tokenizing data. C error: Expected 1 fields in line 15, saw 7\n",
      "\n",
      "Processing : 법령별2트/농수산자조금의 조성 및 운용에 관한 법률.csv\n",
      "Error processing file 농수산자조금의 조성 및 운용에 관한 법률.csv: '조문내용'\n",
      "Processing : 법령별2트/농약관리법.csv\n",
      "Error processing file 농약관리법.csv: '조문내용'\n",
      "Processing : 법령별2트/농어가목돈마련저축에 관한 법률.csv\n",
      "Error processing file 농어가목돈마련저축에 관한 법률.csv: '조문내용'\n",
      "Processing : 법령별2트/농어업경영체 육성 및 지원에 관한 법률.csv\n",
      "Error processing file 농어업경영체 육성 및 지원에 관한 법률.csv: '조문내용'\n",
      "Processing : 법령별2트/농어업고용인력 지원 특별법.csv\n",
      "Error processing file 농어업고용인력 지원 특별법.csv: '조문내용'\n",
      "Processing : 법령별2트/농어업인 부채경감에 관한 특별조치법.csv\n",
      "Error processing file 농어업인 부채경감에 관한 특별조치법.csv: '조문내용'\n",
      "Processing : 법령별2트/농어업인 삶의 질 향상 및 농어촌지역 개발촉진에 관한 특별법.csv\n",
      "Error processing file 농어업인 삶의 질 향상 및 농어촌지역 개발촉진에 관한 특별법.csv: '조문내용'\n",
      "Processing : 법령별2트/농어업인의 안전보험 및 안전재해예방에 관한 법률.csv\n",
      "Error processing file 농어업인의 안전보험 및 안전재해예방에 관한 법률.csv: '조문내용'\n",
      "Processing : 법령별2트/농어업재해대책법.csv\n",
      "Error processing file 농어업재해대책법.csv: '조문내용'\n",
      "Processing : 법령별2트/농어업재해보험법.csv\n",
      "Error processing file 농어업재해보험법.csv: '조문내용'\n",
      "Processing : 법령별2트/농어촌도로 정비법.csv\n",
      "Error processing file 농어촌도로 정비법.csv: '조문내용'\n",
      "Processing : 법령별2트/농어촌 등 보건의료를 위한 특별조치법.csv\n",
      "Error processing file 농어촌 등 보건의료를 위한 특별조치법.csv: '조문내용'\n",
      "Processing : 법령별2트/농어촌마을 주거환경 개선 및 리모델링 촉진을 위한 특별법.csv\n",
      "Error processing file 농어촌마을 주거환경 개선 및 리모델링 촉진을 위한 특별법.csv: '조문내용'\n",
      "Processing : 법령별2트/농어촌 전기공급사업 촉진법.csv\n",
      "Error processing file 농어촌 전기공급사업 촉진법.csv: '조문내용'\n",
      "Processing : 법령별2트/농어촌정비법.csv\n",
      "Error processing file 농어촌정비법.csv: '조문내용'\n",
      "Processing : 법령별2트/농어촌주민의 보건복지 증진을 위한 특별법.csv\n",
      "Error processing file 농어촌주민의 보건복지 증진을 위한 특별법.csv: '조문내용'\n",
      "Processing : 법령별2트/농어촌특별세법.csv\n",
      "Error processing file 농어촌특별세법.csv: '조문내용'\n",
      "Error processing file 농업과학기술정보서비스의 제공 및 이용 활성화에 관한 법률.csv: Error tokenizing data. C error: Expected 1 fields in line 6, saw 7\n",
      "\n",
      "Processing : 법령별2트/농업기계화 촉진법.csv\n",
      "Error processing file 농업기계화 촉진법.csv: '조문내용'\n",
      "Processing : 법령별2트/농업ㆍ농촌 공익기능 증진 직접지불제도 운영에 관한 법률.csv\n",
      "Error processing file 농업ㆍ농촌 공익기능 증진 직접지불제도 운영에 관한 법률.csv: '조문내용'\n",
      "Processing : 법령별2트/농업ㆍ농촌 및 식품산업 기본법.csv\n",
      "Error processing file 농업ㆍ농촌 및 식품산업 기본법.csv: '조문내용'\n",
      "Processing : 법령별2트/농업생명자원의 보존ㆍ관리 및 이용에 관한 법률.csv\n",
      "Error processing file 농업생명자원의 보존ㆍ관리 및 이용에 관한 법률.csv: '조문내용'\n",
      "Processing : 법령별2트/농업생산기반시설 및 주변지역 활용에 관한 특별법.csv\n",
      "Error processing file 농업생산기반시설 및 주변지역 활용에 관한 특별법.csv: '조문내용'\n",
      "Processing : 법령별2트/농업인등의 농외소득 활동 지원에 관한 법률.csv\n",
      "Error processing file 농업인등의 농외소득 활동 지원에 관한 법률.csv: '조문내용'\n",
      "Processing : 법령별2트/농업협동조합법.csv\n",
      "Error processing file 농업협동조합법.csv: '조문내용'\n",
      "Processing : 법령별2트/농업협동조합의 구조개선에 관한 법률.csv\n",
      "Error processing file 농업협동조합의 구조개선에 관한 법률.csv: '조문내용'\n",
      "Processing : 법령별2트/농지법.csv\n",
      "Error processing file 농지법.csv: '조문내용'\n",
      "Processing : 법령별2트/농촌공간 재구조화 및 재생지원에 관한 법률.csv\n",
      "Error processing file 농촌공간 재구조화 및 재생지원에 관한 법률.csv: '조문내용'\n",
      "Processing : 법령별2트/농촌융복합산업 육성 및 지원에 관한 법률.csv\n",
      "Error processing file 농촌융복합산업 육성 및 지원에 관한 법률.csv: '조문내용'\n",
      "Processing : 법령별2트/농촌 지역 공동체 기반 경제ㆍ사회 서비스 활성화에 관한 법률.csv\n",
      "Error processing file 농촌 지역 공동체 기반 경제ㆍ사회 서비스 활성화에 관한 법률.csv: '조문내용'\n",
      "Processing : 법령별2트/농촌진흥법.csv\n",
      "Error processing file 농촌진흥법.csv: '조문내용'\n",
      "Processing : 법령별2트/뇌연구 촉진법.csv\n",
      "Error processing file 뇌연구 촉진법.csv: '조문내용'\n",
      "Processing : 법령별2트/뉴스통신 진흥에 관한 법률.csv\n",
      "Error processing file 뉴스통신 진흥에 관한 법률.csv: '조문내용'\n",
      "Processing : 법령별2트/다문화가족지원법.csv\n",
      "Error processing file 다문화가족지원법.csv: '조문내용'\n",
      "Processing : 법령별2트/다중이용업소의 안전관리에 관한 특별법.csv\n",
      "Error processing file 다중이용업소의 안전관리에 관한 특별법.csv: '조문내용'\n",
      "Processing : 법령별2트/달빛철도 건설을 위한 특별법.csv\n",
      "Error processing file 달빛철도 건설을 위한 특별법.csv: '조문내용'\n",
      "Processing : 법령별2트/담배사업법.csv\n",
      "Error processing file 담배사업법.csv: '조문내용'\n",
      "Processing : 법령별2트/담보부사채신탁법.csv\n",
      "Error processing file 담보부사채신탁법.csv: '조문내용'\n",
      "Processing : 법령별2트/대구경북통합신공항 건설을 위한 특별법.csv\n",
      "Error processing file 대구경북통합신공항 건설을 위한 특별법.csv: '조문내용'\n",
      "Processing : 법령별2트/대규모유통업에서의 거래 공정화에 관한 법률.csv\n",
      "Error processing file 대규모유통업에서의 거래 공정화에 관한 법률.csv: '조문내용'\n",
      "Processing : 법령별2트/대기관리권역의 대기환경개선에 관한 특별법.csv\n",
      "Error processing file 대기관리권역의 대기환경개선에 관한 특별법.csv: '조문내용'\n",
      "Processing : 법령별2트/대기환경보전법.csv\n",
      "Error processing file 대기환경보전법.csv: '조문내용'\n",
      "Processing : 법령별2트/대도시권 광역교통 관리에 관한 특별법.csv\n",
      "Error processing file 대도시권 광역교통 관리에 관한 특별법.csv: '조문내용'\n",
      "Processing : 법령별2트/대리점거래의 공정화에 관한 법률.csv\n",
      "Error processing file 대리점거래의 공정화에 관한 법률.csv: '조문내용'\n",
      "Error processing file 대부업 등의 등록 및 금융이용자 보호에 관한 법률.csv: Error tokenizing data. C error: Expected 1 fields in line 11, saw 7\n",
      "\n",
      "Processing : 법령별2트/대안교육기관에 관한 법률.csv\n",
      "Error processing file 대안교육기관에 관한 법률.csv: '조문내용'\n",
      "Processing : 법령별2트/대외경제협력기금법.csv\n",
      "Error processing file 대외경제협력기금법.csv: '조문내용'\n",
      "Processing : 법령별2트/대외무역법.csv\n",
      "Error processing file 대외무역법.csv: '조문내용'\n",
      "Processing : 법령별2트/대일항쟁기 강제동원 피해조사 및 국외강제동원 희생자 등 지원에 관한 특별법.csv\n",
      "Error processing file 대일항쟁기 강제동원 피해조사 및 국외강제동원 희생자 등 지원에 관한 특별법.csv: '조문내용'\n",
      "Processing : 법령별2트/대중교통의 육성 및 이용촉진에 관한 법률.csv\n",
      "Error processing file 대중교통의 육성 및 이용촉진에 관한 법률.csv: '조문내용'\n",
      "Processing : 법령별2트/대중문화예술산업발전법.csv\n",
      "Error processing file 대중문화예술산업발전법.csv: '조문내용'\n",
      "Processing : 법령별2트/대ㆍ중소기업 상생협력 촉진에 관한 법률.csv\n",
      "Error processing file 대ㆍ중소기업 상생협력 촉진에 관한 법률.csv: '조문내용'\n",
      "Processing : 법령별2트/대통령기록물 관리에 관한 법률.csv\n",
      "Error processing file 대통령기록물 관리에 관한 법률.csv: '조문내용'\n",
      "Processing : 법령별2트/대통령 등의 경호에 관한 법률.csv\n",
      "Error processing file 대통령 등의 경호에 관한 법률.csv: '조문내용'\n",
      "Processing : 법령별2트/대통령직 인수에 관한 법률.csv\n",
      "Error processing file 대통령직 인수에 관한 법률.csv: '조문내용'\n",
      "Processing : 법령별2트/대학교원 기간임용제 탈락자 구제를 위한 특별법.csv\n",
      "Error processing file 대학교원 기간임용제 탈락자 구제를 위한 특별법.csv: '조문내용'\n",
      "Processing : 법령별2트/대학도서관진흥법.csv\n",
      "Error processing file 대학도서관진흥법.csv: '조문내용'\n",
      "Processing : 법령별2트/대한민국과 아메리카합중국 간의 상호방위조약 제4조에 의한 시설과 구역 및 대한민국에서의 합중국군대의 지위에 관한 협정의 실시에 따른 관세법 등의 임시특례에 관한 법률.csv\n",
      "Error processing file 대한민국과 아메리카합중국 간의 상호방위조약 제4조에 의한 시설과 구역 및 대한민국에서의 합중국군대의 지위에 관한 협정의 실시에 따른 관세법 등의 임시특례에 관한 법률.csv: '조문내용'\n",
      "Processing : 법령별2트/대한민국국기법.csv\n",
      "Error processing file 대한민국국기법.csv: '조문내용'\n",
      "Processing : 법령별2트/댐건설ㆍ관리 및 주변지역지원 등에 관한 법률.csv\n",
      "Error processing file 댐건설ㆍ관리 및 주변지역지원 등에 관한 법률.csv: '조문내용'\n",
      "Processing : 법령별2트/댐 주변지역 친환경 보전 및 활용에 관한 특별법.csv\n",
      "Error processing file 댐 주변지역 친환경 보전 및 활용에 관한 특별법.csv: '조문내용'\n",
      "Processing : 법령별2트/데이터기반행정 활성화에 관한 법률.csv\n",
      "Error processing file 데이터기반행정 활성화에 관한 법률.csv: '조문내용'\n",
      "Processing : 법령별2트/데이터 산업진흥 및 이용촉진에 관한 기본법.csv\n",
      "Error processing file 데이터 산업진흥 및 이용촉진에 관한 기본법.csv: '조문내용'\n",
      "Error processing file 도로교통법.csv: Error tokenizing data. C error: Expected 1 fields in line 26, saw 7\n",
      "\n",
      "Processing : 법령별2트/도로명주소법.csv\n",
      "Error processing file 도로명주소법.csv: '조문내용'\n",
      "Processing : 법령별2트/도로법.csv\n",
      "Error processing file 도로법.csv: '조문내용'\n",
      "Processing : 법령별2트/도서관법.csv\n",
      "Error processing file 도서관법.csv: '조문내용'\n",
      "Processing : 법령별2트/도서ㆍ벽지 교육진흥법.csv\n",
      "Error processing file 도서ㆍ벽지 교육진흥법.csv: '조문내용'\n",
      "Processing : 법령별2트/도선법.csv\n",
      "Error processing file 도선법.csv: '조문내용'\n",
      "Processing : 법령별2트/도시가스사업법.csv\n",
      "Error processing file 도시가스사업법.csv: '조문내용'\n",
      "Processing : 법령별2트/도시개발법.csv\n",
      "Error processing file 도시개발법.csv: '조문내용'\n",
      "Processing : 법령별2트/도시 공업지역의 관리 및 활성화에 관한 특별법.csv\n",
      "Error processing file 도시 공업지역의 관리 및 활성화에 관한 특별법.csv: '조문내용'\n",
      "Processing : 법령별2트/도시공원 및 녹지 등에 관한 법률.csv\n",
      "Error processing file 도시공원 및 녹지 등에 관한 법률.csv: '조문내용'\n",
      "Processing : 법령별2트/도시교통정비 촉진법.csv\n",
      "Error processing file 도시교통정비 촉진법.csv: '조문내용'\n",
      "Processing : 법령별2트/도시농업의 육성 및 지원에 관한 법률.csv\n",
      "Error processing file 도시농업의 육성 및 지원에 관한 법률.csv: '조문내용'\n",
      "Error processing file 도시 및 주거환경정비법.csv: Error tokenizing data. C error: Expected 1 fields in line 6, saw 7\n",
      "\n",
      "Processing : 법령별2트/도시숲 등의 조성 및 관리에 관한 법률.csv\n",
      "Error processing file 도시숲 등의 조성 및 관리에 관한 법률.csv: '조문내용'\n",
      "Processing : 법령별2트/도시와 농어촌 간의 교류촉진에 관한 법률.csv\n",
      "Error processing file 도시와 농어촌 간의 교류촉진에 관한 법률.csv: '조문내용'\n",
      "Error processing file 도시재생 활성화 및 지원에 관한 특별법.csv: Error tokenizing data. C error: Expected 1 fields in line 17, saw 7\n",
      "\n",
      "Processing : 법령별2트/도시재정비 촉진을 위한 특별법.csv\n",
      "Error processing file 도시재정비 촉진을 위한 특별법.csv: '조문내용'\n",
      "Processing : 법령별2트/도시철도법.csv\n",
      "Error processing file 도시철도법.csv: '조문내용'\n",
      "Processing : 법령별2트/도시하천유역 침수피해방지대책법.csv\n",
      "Error processing file 도시하천유역 침수피해방지대책법.csv: '조문내용'\n",
      "Processing : 법령별2트/도시형소공인 지원에 관한 특별법.csv\n",
      "Error processing file 도시형소공인 지원에 관한 특별법.csv: '조문내용'\n",
      "Processing : 법령별2트/도심융합특구 조성 및 육성에 관한 특별법.csv\n",
      "Error processing file 도심융합특구 조성 및 육성에 관한 특별법.csv: '조문내용'\n",
      "Error processing file 도심항공교통 활용 촉진 및 지원에 관한 법률.csv: Error tokenizing data. C error: Expected 1 fields in line 13, saw 7\n",
      "\n",
      "Processing : 법령별2트/도청이전을 위한 도시건설 및 지원에 관한 특별법.csv\n",
      "Error processing file 도청이전을 위한 도시건설 및 지원에 관한 특별법.csv: '조문내용'\n",
      "Processing : 법령별2트/독도 등 도서지역의 생태계 보전에 관한 특별법.csv\n",
      "Error processing file 독도 등 도서지역의 생태계 보전에 관한 특별법.csv: '조문내용'\n",
      "Processing : 법령별2트/독도의용수비대 지원법.csv\n",
      "Error processing file 독도의용수비대 지원법.csv: '조문내용'\n",
      "Processing : 법령별2트/독도의 지속가능한 이용에 관한 법률.csv\n",
      "Error processing file 독도의 지속가능한 이용에 관한 법률.csv: '조문내용'\n",
      "Processing : 법령별2트/독립공채상환에 관한 특별조치법.csv\n",
      "Error processing file 독립공채상환에 관한 특별조치법.csv: '조문내용'\n",
      "Processing : 법령별2트/독서문화진흥법.csv\n",
      "Error processing file 독서문화진흥법.csv: '조문내용'\n",
      "Processing : 법령별2트/독점규제 및 공정거래에 관한 법률.csv\n",
      "Error processing file 독점규제 및 공정거래에 관한 법률.csv: '조문내용'\n",
      "Processing : 법령별2트/동물보호법.csv\n",
      "Error processing file 동물보호법.csv: '조문내용'\n",
      "Processing : 법령별2트/동물원 및 수족관의 관리에 관한 법률.csv\n",
      "Error processing file 동물원 및 수족관의 관리에 관한 법률.csv: '조문내용'\n",
      "Processing : 법령별2트/동산ㆍ채권 등의 담보에 관한 법률.csv\n",
      "Error processing file 동산ㆍ채권 등의 담보에 관한 법률.csv: '조문내용'\n",
      "Processing : 법령별2트/동ㆍ서ㆍ남해안 및 내륙권 발전 특별법.csv\n",
      "Error processing file 동ㆍ서ㆍ남해안 및 내륙권 발전 특별법.csv: '조문내용'\n",
      "Processing : 법령별2트/동의대 사건 희생자의 명예회복 및 보상에 관한 법률.csv\n",
      "Error processing file 동의대 사건 희생자의 명예회복 및 보상에 관한 법률.csv: '조문내용'\n",
      "Processing : 법령별2트/드론 활용의 촉진 및 기반조성에 관한 법률.csv\n",
      "Error processing file 드론 활용의 촉진 및 기반조성에 관한 법률.csv: '조문내용'\n",
      "Processing : 법령별2트/디엔에이신원확인정보의 이용 및 보호에 관한 법률.csv\n",
      "Error processing file 디엔에이신원확인정보의 이용 및 보호에 관한 법률.csv: '조문내용'\n",
      "Processing : 법령별2트/디자인보호법.csv\n",
      "Error processing file 디자인보호법.csv: '조문내용'\n",
      "Processing : 법령별2트/디지털 기반의 원격교육 활성화 기본법.csv\n",
      "Error processing file 디지털 기반의 원격교육 활성화 기본법.csv: '조문내용'\n",
      "Processing : 법령별2트/마리나항만의 조성 및 관리 등에 관한 법률.csv\n",
      "Error processing file 마리나항만의 조성 및 관리 등에 관한 법률.csv: '조문내용'\n",
      "Processing : 법령별2트/마약류 관리에 관한 법률.csv\n",
      "Error processing file 마약류 관리에 관한 법률.csv: '조문내용'\n",
      "Processing : 법령별2트/마약류 불법거래 방지에 관한 특례법.csv\n",
      "Error processing file 마약류 불법거래 방지에 관한 특례법.csv: '조문내용'\n",
      "Processing : 법령별2트/만화진흥에 관한 법률.csv\n",
      "Error processing file 만화진흥에 관한 법률.csv: '조문내용'\n",
      "Processing : 법령별2트/말산업 육성법.csv\n",
      "Error processing file 말산업 육성법.csv: '조문내용'\n",
      "Processing : 법령별2트/매장유산 보호 및 조사에 관한 법률.csv\n",
      "Error processing file 매장유산 보호 및 조사에 관한 법률.csv: '조문내용'\n",
      "Processing : 법령별2트/먹는물관리법.csv\n",
      "Error processing file 먹는물관리법.csv: '조문내용'\n",
      "Processing : 법령별2트/모빌리티 혁신 및 활성화 지원에 관한 법률.csv\n",
      "Error processing file 모빌리티 혁신 및 활성화 지원에 관한 법률.csv: '조문내용'\n",
      "Processing : 법령별2트/모자보건법.csv\n",
      "Error processing file 모자보건법.csv: '조문내용'\n",
      "Processing : 법령별2트/목재의 지속가능한 이용에 관한 법률.csv\n",
      "Error processing file 목재의 지속가능한 이용에 관한 법률.csv: '조문내용'\n",
      "Processing : 법령별2트/무역거래기반 조성에 관한 법률.csv\n",
      "Error processing file 무역거래기반 조성에 관한 법률.csv: '조문내용'\n",
      "Processing : 법령별2트/무역보험법.csv\n",
      "Error processing file 무역보험법.csv: '조문내용'\n",
      "Processing : 법령별2트/무역조정 지원 등에 관한 법률.csv\n",
      "Error processing file 무역조정 지원 등에 관한 법률.csv: '조문내용'\n",
      "Processing : 법령별2트/무인도서의 보전 및 관리에 관한 법률.csv\n",
      "Error processing file 무인도서의 보전 및 관리에 관한 법률.csv: '조문내용'\n",
      "Processing : 법령별2트/무형유산의 보전 및 진흥에 관한 법률.csv\n",
      "Error processing file 무형유산의 보전 및 진흥에 관한 법률.csv: '조문내용'\n",
      "Processing : 법령별2트/문학진흥법.csv\n",
      "Error processing file 문학진흥법.csv: '조문내용'\n",
      "Processing : 법령별2트/문화기본법.csv\n",
      "Error processing file 문화기본법.csv: '조문내용'\n",
      "Processing : 법령별2트/문화다양성의 보호와 증진에 관한 법률.csv\n",
      "Error processing file 문화다양성의 보호와 증진에 관한 법률.csv: '조문내용'\n",
      "Processing : 법령별2트/문화산업진흥 기본법.csv\n",
      "Error processing file 문화산업진흥 기본법.csv: '조문내용'\n",
      "Processing : 법령별2트/문화예술교육 지원법.csv\n",
      "Error processing file 문화예술교육 지원법.csv: '조문내용'\n",
      "Processing : 법령별2트/문화예술진흥법.csv\n",
      "Error processing file 문화예술진흥법.csv: '조문내용'\n",
      "Processing : 법령별2트/문화예술후원 활성화에 관한 법률.csv\n",
      "Error processing file 문화예술후원 활성화에 관한 법률.csv: '조문내용'\n",
      "Processing : 법령별2트/문화유산과 자연환경자산에 관한 국민신탁법.csv\n",
      "Error processing file 문화유산과 자연환경자산에 관한 국민신탁법.csv: '조문내용'\n",
      "Processing : 법령별2트/문화유산의 보존 및 활용에 관한 법률.csv\n",
      "Error processing file 문화유산의 보존 및 활용에 관한 법률.csv: '조문내용'\n",
      "Processing : 법령별2트/물관리기본법.csv\n",
      "Error processing file 물관리기본법.csv: '조문내용'\n",
      "Processing : 법령별2트/물관리기술 발전 및 물산업 진흥에 관한 법률.csv\n",
      "Error processing file 물관리기술 발전 및 물산업 진흥에 관한 법률.csv: '조문내용'\n",
      "Processing : 법령별2트/물류시설의 개발 및 운영에 관한 법률.csv\n",
      "Error processing file 물류시설의 개발 및 운영에 관한 법률.csv: '조문내용'\n",
      "Processing : 법령별2트/물류정책기본법.csv\n",
      "Error processing file 물류정책기본법.csv: '조문내용'\n",
      "Processing : 법령별2트/물의 재이용 촉진 및 지원에 관한 법률.csv\n",
      "Error processing file 물의 재이용 촉진 및 지원에 관한 법률.csv: '조문내용'\n",
      "Processing : 법령별2트/물품관리법.csv\n",
      "Error processing file 물품관리법.csv: '조문내용'\n",
      "Processing : 법령별2트/물품목록정보의 관리 및 이용에 관한 법률.csv\n",
      "Error processing file 물품목록정보의 관리 및 이용에 관한 법률.csv: '조문내용'\n",
      "Processing : 법령별2트/물환경보전법.csv\n",
      "Error processing file 물환경보전법.csv: '조문내용'\n",
      "Processing : 법령별2트/미래자동차 부품산업의 전환촉진 및 생태계 육성에 관한 특별법.csv\n",
      "Error processing file 미래자동차 부품산업의 전환촉진 및 생태계 육성에 관한 특별법.csv: '조문내용'\n",
      "Processing : 법령별2트/미세먼지 저감 및 관리에 관한 특별법.csv\n",
      "Error processing file 미세먼지 저감 및 관리에 관한 특별법.csv: '조문내용'\n",
      "Processing : 법령별2트/미술진흥법.csv\n",
      "Error processing file 미술진흥법.csv: '조문내용'\n",
      "Processing : 법령별2트/민간인 통제선 이북지역의 산지관리에 관한 특별법.csv\n",
      "Error processing file 민간인 통제선 이북지역의 산지관리에 관한 특별법.csv: '조문내용'\n",
      "Processing : 법령별2트/민간임대주택에 관한 특별법.csv\n",
      "Error processing file 민간임대주택에 관한 특별법.csv: '조문내용'\n",
      "Processing : 법령별2트/민ㆍ군기술협력사업 촉진법.csv\n",
      "Error processing file 민ㆍ군기술협력사업 촉진법.csv: '조문내용'\n",
      "Processing : 법령별2트/민방위기본법.csv\n",
      "Error processing file 민방위기본법.csv: '조문내용'\n",
      "Processing : 법령별2트/민사소송 등에서의 전자문서 이용 등에 관한 법률.csv\n",
      "Error processing file 민사소송 등에서의 전자문서 이용 등에 관한 법률.csv: '조문내용'\n",
      "Processing : 법령별2트/민영교도소 등의 설치ㆍ운영에 관한 법률.csv\n",
      "Error processing file 민영교도소 등의 설치ㆍ운영에 관한 법률.csv: '조문내용'\n",
      "Error processing file 민원 처리에 관한 법률.csv: Error tokenizing data. C error: Expected 1 fields in line 4, saw 7\n",
      "\n",
      "Processing : 법령별2트/민주화운동 관련자 명예회복 및 보상 등에 관한 법률.csv\n",
      "Error processing file 민주화운동 관련자 명예회복 및 보상 등에 관한 법률.csv: '조문내용'\n",
      "Processing : 법령별2트/민주화운동기념사업회법.csv\n",
      "Error processing file 민주화운동기념사업회법.csv: '조문내용'\n",
      "Processing : 법령별2트/밀산업 육성법.csv\n",
      "Error processing file 밀산업 육성법.csv: '조문내용'\n",
      "Processing : 법령별2트/밀항단속법.csv\n",
      "Error processing file 밀항단속법.csv: '조문내용'\n",
      "Processing : 법령별2트/바둑 진흥법.csv\n",
      "Error processing file 바둑 진흥법.csv: '조문내용'\n",
      "Processing : 법령별2트/바르게살기운동조직 육성법.csv\n",
      "Error processing file 바르게살기운동조직 육성법.csv: '조문내용'\n",
      "Processing : 법령별2트/박물관 및 미술관 진흥법.csv\n",
      "Error processing file 박물관 및 미술관 진흥법.csv: '조문내용'\n",
      "Processing : 법령별2트/반도체집적회로의 배치설계에 관한 법률.csv\n",
      "Error processing file 반도체집적회로의 배치설계에 관한 법률.csv: '조문내용'\n",
      "Processing : 법령별2트/발달장애인 권리보장 및 지원에 관한 법률.csv\n",
      "Error processing file 발달장애인 권리보장 및 지원에 관한 법률.csv: '조문내용'\n",
      "Processing : 법령별2트/발명교육의 활성화 및 지원에 관한 법률.csv\n",
      "Error processing file 발명교육의 활성화 및 지원에 관한 법률.csv: '조문내용'\n",
      "Processing : 법령별2트/발명진흥법.csv\n",
      "Error processing file 발명진흥법.csv: '조문내용'\n",
      "Processing : 법령별2트/발전소주변지역 지원에 관한 법률.csv\n",
      "Error processing file 발전소주변지역 지원에 관한 법률.csv: '조문내용'\n",
      "Processing : 법령별2트/방문판매 등에 관한 법률.csv\n",
      "Error processing file 방문판매 등에 관한 법률.csv: '조문내용'\n",
      "Processing : 법령별2트/방사선 및 방사성동위원소 이용진흥법.csv\n",
      "Error processing file 방사선 및 방사성동위원소 이용진흥법.csv: '조문내용'\n",
      "Processing : 법령별2트/방사성폐기물 관리법.csv\n",
      "Error processing file 방사성폐기물 관리법.csv: '조문내용'\n",
      "Processing : 법령별2트/방송광고판매대행 등에 관한 법률.csv\n",
      "Error processing file 방송광고판매대행 등에 관한 법률.csv: '조문내용'\n",
      "Processing : 법령별2트/방송법.csv\n",
      "Error processing file 방송법.csv: '조문내용'\n",
      "Processing : 법령별2트/방송통신발전 기본법.csv\n",
      "Error processing file 방송통신발전 기본법.csv: '조문내용'\n",
      "Error processing file 방위사업법.csv: Error tokenizing data. C error: Expected 1 fields in line 19, saw 7\n",
      "\n",
      "Processing : 법령별2트/방위산업기술 보호법.csv\n",
      "Error processing file 방위산업기술 보호법.csv: '조문내용'\n",
      "Processing : 법령별2트/방위산업 발전 및 지원에 관한 법률.csv\n",
      "Error processing file 방위산업 발전 및 지원에 관한 법률.csv: '조문내용'\n",
      "Processing : 법령별2트/방조제 관리법.csv\n",
      "Error processing file 방조제 관리법.csv: '조문내용'\n",
      "Processing : 법령별2트/배타적 경제수역에서의 외국인어업 등에 대한 주권적 권리의 행사에 관한 법률.csv\n",
      "Error processing file 배타적 경제수역에서의 외국인어업 등에 대한 주권적 권리의 행사에 관한 법률.csv: '조문내용'\n",
      "Processing : 법령별2트/백두대간 보호에 관한 법률.csv\n",
      "Error processing file 백두대간 보호에 관한 법률.csv: '조문내용'\n",
      "Error processing file 범죄수익은닉의 규제 및 처벌 등에 관한 법률.csv: Error tokenizing data. C error: Expected 1 fields in line 11, saw 7\n",
      "\n",
      "Processing : 법령별2트/범죄인 인도법.csv\n",
      "Error processing file 범죄인 인도법.csv: '조문내용'\n",
      "Processing : 법령별2트/범죄피해자보호기금법.csv\n",
      "Error processing file 범죄피해자보호기금법.csv: '조문내용'\n",
      "Processing : 법령별2트/범죄피해자 보호법.csv\n",
      "Error processing file 범죄피해자 보호법.csv: '조문내용'\n",
      "Processing : 법령별2트/법령정보의 관리 및 제공에 관한 법률.csv\n",
      "Error processing file 법령정보의 관리 및 제공에 관한 법률.csv: '조문내용'\n",
      "Processing : 법령별2트/법률구조법.csv\n",
      "Error processing file 법률구조법.csv: '조문내용'\n",
      "Error processing file 법인세법.csv: Error tokenizing data. C error: Expected 1 fields in line 3, saw 3\n",
      "\n",
      "Processing : 법령별2트/벤처기업육성에 관한 특별법.csv\n",
      "Error processing file 벤처기업육성에 관한 특별법.csv: '조문내용'\n",
      "Processing : 법령별2트/벤처투자 촉진에 관한 법률.csv\n",
      "Error processing file 벤처투자 촉진에 관한 법률.csv: '조문내용'\n",
      "Processing : 법령별2트/별정우체국법.csv\n",
      "Error processing file 별정우체국법.csv: '조문내용'\n",
      "Processing : 법령별2트/병원체자원의 수집ㆍ관리 및 활용 촉진에 관한 법률.csv\n",
      "Error processing file 병원체자원의 수집ㆍ관리 및 활용 촉진에 관한 법률.csv: '조문내용'\n",
      "Processing : 법령별2트/보건의료기본법.csv\n",
      "Error processing file 보건의료기본법.csv: '조문내용'\n",
      "Processing : 법령별2트/보건의료기술 진흥법.csv\n",
      "Error processing file 보건의료기술 진흥법.csv: '조문내용'\n",
      "Processing : 법령별2트/보건의료인력지원법.csv\n",
      "Error processing file 보건의료인력지원법.csv: '조문내용'\n",
      "Processing : 법령별2트/보조금 관리에 관한 법률.csv\n",
      "Error processing file 보조금 관리에 관한 법률.csv: '조문내용'\n",
      "Processing : 법령별2트/보증인 보호를 위한 특별법.csv\n",
      "Error processing file 보증인 보호를 위한 특별법.csv: '조문내용'\n",
      "Processing : 법령별2트/보행안전 및 편의증진에 관한 법률.csv\n",
      "Error processing file 보행안전 및 편의증진에 관한 법률.csv: '조문내용'\n",
      "Processing : 법령별2트/보험사기방지 특별법.csv\n",
      "Error processing file 보험사기방지 특별법.csv: '조문내용'\n",
      "Processing : 법령별2트/보험업법.csv\n",
      "Error processing file 보험업법.csv: '조문내용'\n",
      "Processing : 법령별2트/보호소년 등의 처우에 관한 법률.csv\n",
      "Error processing file 보호소년 등의 처우에 관한 법률.csv: '조문내용'\n",
      "Processing : 법령별2트/보호시설에 있는 미성년자의 후견 직무에 관한 법률.csv\n",
      "Error processing file 보호시설에 있는 미성년자의 후견 직무에 관한 법률.csv: '조문내용'\n",
      "Processing : 법령별2트/보훈기금법.csv\n",
      "Error processing file 보훈기금법.csv: '조문내용'\n",
      "Processing : 법령별2트/복권 및 복권기금법.csv\n",
      "Error processing file 복권 및 복권기금법.csv: '조문내용'\n",
      "Processing : 법령별2트/본인서명사실 확인 등에 관한 법률.csv\n",
      "Error processing file 본인서명사실 확인 등에 관한 법률.csv: '조문내용'\n",
      "Processing : 법령별2트/부가가치세법.csv\n",
      "Error processing file 부가가치세법.csv: '조문내용'\n",
      "Processing : 법령별2트/부담금관리 기본법.csv\n",
      "Error processing file 부담금관리 기본법.csv: '조문내용'\n",
      "Processing : 법령별2트/부동산 가격공시에 관한 법률.csv\n",
      "Error processing file 부동산 가격공시에 관한 법률.csv: '조문내용'\n",
      "Processing : 법령별2트/부동산개발업의 관리 및 육성에 관한 법률.csv\n",
      "Error processing file 부동산개발업의 관리 및 육성에 관한 법률.csv: '조문내용'\n",
      "Processing : 법령별2트/부동산 거래신고 등에 관한 법률.csv\n",
      "Error processing file 부동산 거래신고 등에 관한 법률.csv: '조문내용'\n",
      "Processing : 법령별2트/부동산등기법.csv\n",
      "Error processing file 부동산등기법.csv: '조문내용'\n",
      "Processing : 법령별2트/부동산서비스산업 진흥법.csv\n",
      "Error processing file 부동산서비스산업 진흥법.csv: '조문내용'\n",
      "Processing : 법령별2트/부동산 실권리자명의 등기에 관한 법률.csv\n",
      "Error processing file 부동산 실권리자명의 등기에 관한 법률.csv: '조문내용'\n",
      "Processing : 법령별2트/부동산투자회사법.csv\n",
      "Error processing file 부동산투자회사법.csv: '조문내용'\n",
      "Processing : 법령별2트/부마민주항쟁 관련자의 명예회복 및 보상 등에 관한 법률.csv\n",
      "Error processing file 부마민주항쟁 관련자의 명예회복 및 보상 등에 관한 법률.csv: '조문내용'\n",
      "Processing : 법령별2트/부재선고에 관한 특별조치법.csv\n",
      "Error processing file 부재선고에 관한 특별조치법.csv: '조문내용'\n",
      "Error processing file 부정경쟁방지 및 영업비밀보호에 관한 법률.csv: Error tokenizing data. C error: Expected 1 fields in line 4, saw 7\n",
      "\n",
      "Processing : 법령별2트/부정청탁 및 금품등 수수의 금지에 관한 법률.csv\n",
      "Error processing file 부정청탁 및 금품등 수수의 금지에 관한 법률.csv: '조문내용'\n",
      "Processing : 법령별2트/부패방지 및 국민권익위원회의 설치와 운영에 관한 법률.csv\n",
      "Error processing file 부패방지 및 국민권익위원회의 설치와 운영에 관한 법률.csv: '조문내용'\n",
      "Processing : 법령별2트/부패재산의 몰수 및 회복에 관한 특례법.csv\n",
      "Error processing file 부패재산의 몰수 및 회복에 관한 특례법.csv: '조문내용'\n",
      "Processing : 법령별2트/북한이탈주민의 보호 및 정착지원에 관한 법률.csv\n",
      "Error processing file 북한이탈주민의 보호 및 정착지원에 관한 법률.csv: '조문내용'\n",
      "Processing : 법령별2트/북한인권법.csv\n",
      "Error processing file 북한인권법.csv: '조문내용'\n",
      "Processing : 법령별2트/분산에너지 활성화 특별법.csv\n",
      "Error processing file 분산에너지 활성화 특별법.csv: '조문내용'\n",
      "Processing : 법령별2트/불공정무역행위 조사 및 산업피해구제에 관한 법률.csv\n",
      "Error processing file 불공정무역행위 조사 및 산업피해구제에 관한 법률.csv: '조문내용'\n",
      "Processing : 법령별2트/불법정치자금 등의 몰수에 관한 특례법.csv\n",
      "Error processing file 불법정치자금 등의 몰수에 관한 특례법.csv: '조문내용'\n",
      "Processing : 법령별2트/비료관리법.csv\n",
      "Error processing file 비료관리법.csv: '조문내용'\n",
      "Processing : 법령별2트/비상대비에 관한 법률.csv\n",
      "Error processing file 비상대비에 관한 법률.csv: '조문내용'\n",
      "Processing : 법령별2트/비상사태등에 대비하기 위한 해운 및 항만 기능 유지에 관한 법률.csv\n",
      "Error processing file 비상사태등에 대비하기 위한 해운 및 항만 기능 유지에 관한 법률.csv: '조문내용'\n",
      "Processing : 법령별2트/비영리민간단체 지원법.csv\n",
      "Error processing file 비영리민간단체 지원법.csv: '조문내용'\n",
      "Processing : 법령별2트/비파괴검사기술의 진흥 및 관리에 관한 법률.csv\n",
      "Error processing file 비파괴검사기술의 진흥 및 관리에 관한 법률.csv: '조문내용'\n",
      "Error processing file 빈집 및 소규모주택 정비에 관한 특례법.csv: Error tokenizing data. C error: Expected 1 fields in line 9, saw 7\n",
      "\n",
      "Processing : 법령별2트/뿌리산업 진흥과 첨단화에 관한 법률.csv\n",
      "Error processing file 뿌리산업 진흥과 첨단화에 관한 법률.csv: '조문내용'\n",
      "Processing : 법령별2트/사격 및 사격장 안전관리에 관한 법률.csv\n",
      "Error processing file 사격 및 사격장 안전관리에 관한 법률.csv: '조문내용'\n",
      "Processing : 법령별2트/사도법.csv\n",
      "Error processing file 사도법.csv: '조문내용'\n",
      "Processing : 법령별2트/사료관리법.csv\n",
      "Error processing file 사료관리법.csv: '조문내용'\n",
      "Processing : 법령별2트/사료의 수집ㆍ편찬 및 한국사의 보급 등에 관한 법률.csv\n",
      "Error processing file 사료의 수집ㆍ편찬 및 한국사의 보급 등에 관한 법률.csv: '조문내용'\n",
      "Processing : 법령별2트/사립학교교직원 연금법.csv\n",
      "Error processing file 사립학교교직원 연금법.csv: '조문내용'\n",
      "Processing : 법령별2트/사립학교법.csv\n",
      "Error processing file 사립학교법.csv: '조문내용'\n",
      "Processing : 법령별2트/사방사업법.csv\n",
      "Error processing file 사방사업법.csv: '조문내용'\n",
      "Processing : 법령별2트/사할린동포 지원에 관한 특별법.csv\n",
      "Error processing file 사할린동포 지원에 관한 특별법.csv: '조문내용'\n",
      "Processing : 법령별2트/사행산업통합감독위원회법.csv\n",
      "Error processing file 사행산업통합감독위원회법.csv: '조문내용'\n",
      "Processing : 법령별2트/사행행위 등 규제 및 처벌 특례법.csv\n",
      "Error processing file 사행행위 등 규제 및 처벌 특례법.csv: '조문내용'\n",
      "Processing : 법령별2트/사회기반시설에 대한 민간투자법.csv\n",
      "Error processing file 사회기반시설에 대한 민간투자법.csv: '조문내용'\n",
      "Processing : 법령별2트/사회보장급여의 이용ㆍ제공 및 수급권자 발굴에 관한 법률.csv\n",
      "Error processing file 사회보장급여의 이용ㆍ제공 및 수급권자 발굴에 관한 법률.csv: '조문내용'\n",
      "Processing : 법령별2트/사회보장기본법.csv\n",
      "Error processing file 사회보장기본법.csv: '조문내용'\n",
      "Processing : 법령별2트/사회복지공동모금회법.csv\n",
      "Error processing file 사회복지공동모금회법.csv: '조문내용'\n",
      "Processing : 법령별2트/사회복지사 등의 처우 및 지위 향상을 위한 법률.csv\n",
      "Error processing file 사회복지사 등의 처우 및 지위 향상을 위한 법률.csv: '조문내용'\n",
      "Processing : 법령별2트/사회복지사업법.csv\n",
      "Error processing file 사회복지사업법.csv: '조문내용'\n",
      "Processing : 법령별2트/사회서비스 이용 및 이용권 관리에 관한 법률.csv\n",
      "Error processing file 사회서비스 이용 및 이용권 관리에 관한 법률.csv: '조문내용'\n",
      "Processing : 법령별2트/사회서비스 지원 및 사회서비스원 설립ㆍ운영에 관한 법률.csv\n",
      "Error processing file 사회서비스 지원 및 사회서비스원 설립ㆍ운영에 관한 법률.csv: '조문내용'\n",
      "Processing : 법령별2트/사회적기업 육성법.csv\n",
      "Error processing file 사회적기업 육성법.csv: '조문내용'\n",
      "Processing : 법령별2트/사회적 참사의 진상규명 및 안전사회 건설 등을 위한 특별법.csv\n",
      "Error processing file 사회적 참사의 진상규명 및 안전사회 건설 등을 위한 특별법.csv: '조문내용'\n",
      "Processing : 법령별2트/산림교육의 활성화에 관한 법률.csv\n",
      "Error processing file 산림교육의 활성화에 관한 법률.csv: '조문내용'\n",
      "Processing : 법령별2트/산림기본법.csv\n",
      "Error processing file 산림기본법.csv: '조문내용'\n",
      "Processing : 법령별2트/산림기술 진흥 및 관리에 관한 법률.csv\n",
      "Error processing file 산림기술 진흥 및 관리에 관한 법률.csv: '조문내용'\n",
      "Processing : 법령별2트/산림문화ㆍ휴양에 관한 법률.csv\n",
      "Error processing file 산림문화ㆍ휴양에 관한 법률.csv: '조문내용'\n",
      "Processing : 법령별2트/산림보호법.csv\n",
      "Error processing file 산림보호법.csv: '조문내용'\n",
      "Processing : 법령별2트/산림복지 진흥에 관한 법률.csv\n",
      "Error processing file 산림복지 진흥에 관한 법률.csv: '조문내용'\n",
      "Processing : 법령별2트/산림자원의 조성 및 관리에 관한 법률.csv\n",
      "Error processing file 산림자원의 조성 및 관리에 관한 법률.csv: '조문내용'\n",
      "Processing : 법령별2트/산림조합법.csv\n",
      "Error processing file 산림조합법.csv: '조문내용'\n",
      "Processing : 법령별2트/산림조합의 구조개선에 관한 법률.csv\n",
      "Error processing file 산림조합의 구조개선에 관한 법률.csv: '조문내용'\n",
      "Processing : 법령별2트/산업교육진흥 및 산학연협력촉진에 관한 법률.csv\n",
      "Error processing file 산업교육진흥 및 산학연협력촉진에 관한 법률.csv: '조문내용'\n",
      "Processing : 법령별2트/산업기술단지 지원에 관한 특례법.csv\n",
      "Error processing file 산업기술단지 지원에 관한 특례법.csv: '조문내용'\n",
      "Processing : 법령별2트/산업기술의 유출방지 및 보호에 관한 법률.csv\n",
      "Error processing file 산업기술의 유출방지 및 보호에 관한 법률.csv: '조문내용'\n",
      "Processing : 법령별2트/산업기술혁신 촉진법.csv\n",
      "Error processing file 산업기술혁신 촉진법.csv: '조문내용'\n",
      "Processing : 법령별2트/산업단지 인ㆍ허가 절차 간소화를 위한 특례법.csv\n",
      "Error processing file 산업단지 인ㆍ허가 절차 간소화를 위한 특례법.csv: '조문내용'\n",
      "Processing : 법령별2트/산업디자인진흥법.csv\n",
      "Error processing file 산업디자인진흥법.csv: '조문내용'\n",
      "Processing : 법령별2트/산업 디지털 전환 촉진법.csv\n",
      "Error processing file 산업 디지털 전환 촉진법.csv: '조문내용'\n",
      "Processing : 법령별2트/산업안전보건법.csv\n",
      "Error processing file 산업안전보건법.csv: '조문내용'\n",
      "Processing : 법령별2트/산업융합 촉진법.csv\n",
      "Error processing file 산업융합 촉진법.csv: '조문내용'\n",
      "Processing : 법령별2트/산업입지 및 개발에 관한 법률.csv\n",
      "Error processing file 산업입지 및 개발에 관한 법률.csv: '조문내용'\n",
      "Processing : 법령별2트/산업재산 정보의 관리 및 활용 촉진에 관한 법률.csv\n",
      "Error processing file 산업재산 정보의 관리 및 활용 촉진에 관한 법률.csv: '조문내용'\n",
      "Processing : 법령별2트/산업재해보상보험법.csv\n",
      "Error processing file 산업재해보상보험법.csv: '조문내용'\n",
      "Processing : 법령별2트/산업전환에 따른 고용안정 지원 등에 관한 법률.csv\n",
      "Error processing file 산업전환에 따른 고용안정 지원 등에 관한 법률.csv: '조문내용'\n",
      "Processing : 법령별2트/산업집적활성화 및 공장설립에 관한 법률.csv\n",
      "Error processing file 산업집적활성화 및 공장설립에 관한 법률.csv: '조문내용'\n",
      "Processing : 법령별2트/산업표준화법.csv\n",
      "Error processing file 산업표준화법.csv: '조문내용'\n",
      "Processing : 법령별2트/산업현장 일학습병행 지원에 관한 법률.csv\n",
      "Error processing file 산업현장 일학습병행 지원에 관한 법률.csv: '조문내용'\n",
      "Processing : 법령별2트/산지관리법.csv\n",
      "Error processing file 산지관리법.csv: '조문내용'\n",
      "Processing : 법령별2트/삼차원프린팅산업 진흥법.csv\n",
      "Error processing file 삼차원프린팅산업 진흥법.csv: '조문내용'\n",
      "Processing : 법령별2트/삼청교육피해자의 명예회복 및 보상에 관한 법률.csv\n",
      "Error processing file 삼청교육피해자의 명예회복 및 보상에 관한 법률.csv: '조문내용'\n",
      "Error processing file 상속세 및 증여세법.csv: Error tokenizing data. C error: Expected 1 fields in line 3, saw 3\n",
      "\n",
      "Processing : 법령별2트/상업등기법.csv\n",
      "Error processing file 상업등기법.csv: '조문내용'\n",
      "Processing : 법령별2트/상표법.csv\n",
      "Error processing file 상표법.csv: '조문내용'\n",
      "Processing : 법령별2트/상호저축은행법.csv\n",
      "Error processing file 상호저축은행법.csv: '조문내용'\n",
      "Processing : 법령별2트/새마을운동조직 육성법.csv\n",
      "Error processing file 새마을운동조직 육성법.csv: '조문내용'\n",
      "Processing : 법령별2트/새만금사업 추진 및 지원에 관한 특별법.csv\n",
      "Error processing file 새만금사업 추진 및 지원에 관한 특별법.csv: '조문내용'\n",
      "Processing : 법령별2트/생명공학육성법.csv\n",
      "Error processing file 생명공학육성법.csv: '조문내용'\n",
      "Processing : 법령별2트/생명연구자원의 확보ㆍ관리 및 활용에 관한 법률.csv\n",
      "Error processing file 생명연구자원의 확보ㆍ관리 및 활용에 관한 법률.csv: '조문내용'\n",
      "Processing : 법령별2트/생명윤리 및 안전에 관한 법률.csv\n",
      "Error processing file 생명윤리 및 안전에 관한 법률.csv: '조문내용'\n",
      "Processing : 법령별2트/생물다양성 보전 및 이용에 관한 법률.csv\n",
      "Error processing file 생물다양성 보전 및 이용에 관한 법률.csv: '조문내용'\n",
      "Error processing file 생물자원관의 설립 및 운영에 관한 법률.csv: Error tokenizing data. C error: Expected 1 fields in line 3, saw 3\n",
      "\n",
      "Processing : 법령별2트/생활물류서비스산업발전법.csv\n",
      "Error processing file 생활물류서비스산업발전법.csv: '조문내용'\n",
      "Processing : 법령별2트/생활주변방사선 안전관리법.csv\n",
      "Error processing file 생활주변방사선 안전관리법.csv: '조문내용'\n",
      "Processing : 법령별2트/생활체육진흥법.csv\n",
      "Error processing file 생활체육진흥법.csv: '조문내용'\n",
      "Processing : 법령별2트/생활화학제품 및 살생물제의 안전관리에 관한 법률.csv\n",
      "Error processing file 생활화학제품 및 살생물제의 안전관리에 관한 법률.csv: '조문내용'\n",
      "Processing : 법령별2트/서민의 금융생활 지원에 관한 법률.csv\n",
      "Error processing file 서민의 금융생활 지원에 관한 법률.csv: '조문내용'\n",
      "Processing : 법령별2트/서예진흥에 관한 법률.csv\n",
      "Error processing file 서예진흥에 관한 법률.csv: '조문내용'\n",
      "Processing : 법령별2트/서해 5도 지원 특별법.csv\n",
      "Error processing file 서해 5도 지원 특별법.csv: '조문내용'\n",
      "Processing : 법령별2트/석면안전관리법.csv\n",
      "Error processing file 석면안전관리법.csv: '조문내용'\n",
      "Processing : 법령별2트/석면피해구제법.csv\n",
      "Error processing file 석면피해구제법.csv: '조문내용'\n",
      "Processing : 법령별2트/석유 및 석유대체연료 사업법.csv\n",
      "Error processing file 석유 및 석유대체연료 사업법.csv: '조문내용'\n",
      "Processing : 법령별2트/석재산업 진흥에 관한 법률.csv\n",
      "Error processing file 석재산업 진흥에 관한 법률.csv: '조문내용'\n",
      "Processing : 법령별2트/석탄산업법.csv\n",
      "Error processing file 석탄산업법.csv: '조문내용'\n",
      "Processing : 법령별2트/선박관리산업발전법.csv\n",
      "Error processing file 선박관리산업발전법.csv: '조문내용'\n",
      "Processing : 법령별2트/선박교통관제에 관한 법률.csv\n",
      "Error processing file 선박교통관제에 관한 법률.csv: '조문내용'\n",
      "Processing : 법령별2트/선박 및 해상구조물에 대한 위해행위의 처벌 등에 관한 법률.csv\n",
      "Error processing file 선박 및 해상구조물에 대한 위해행위의 처벌 등에 관한 법률.csv: '조문내용'\n",
      "Processing : 법령별2트/선박법.csv\n",
      "Error processing file 선박법.csv: '조문내용'\n",
      "Processing : 법령별2트/선박안전법.csv\n",
      "Error processing file 선박안전법.csv: '조문내용'\n",
      "Processing : 법령별2트/선박의 입항 및 출항 등에 관한 법률.csv\n",
      "Error processing file 선박의 입항 및 출항 등에 관한 법률.csv: '조문내용'\n",
      "Error processing file 선박직원법.csv: Error tokenizing data. C error: Expected 1 fields in line 4, saw 7\n",
      "\n",
      "Processing : 법령별2트/선박투자회사법.csv\n",
      "Error processing file 선박투자회사법.csv: '조문내용'\n",
      "Processing : 법령별2트/선박평형수(船舶平衡水) 관리법.csv\n",
      "Error processing file 선박평형수(船舶平衡水) 관리법.csv: '조문내용'\n",
      "Processing : 법령별2트/선원법.csv\n",
      "Error processing file 선원법.csv: '조문내용'\n",
      "Processing : 법령별2트/선주상호보험조합법.csv\n",
      "Error processing file 선주상호보험조합법.csv: '조문내용'\n",
      "Processing : 법령별2트/섬 발전 촉진법.csv\n",
      "Error processing file 섬 발전 촉진법.csv: '조문내용'\n",
      "Processing : 법령별2트/성균관ㆍ향교ㆍ서원전통문화의 계승ㆍ발전 및 지원에 관한 법률.csv\n",
      "Error processing file 성균관ㆍ향교ㆍ서원전통문화의 계승ㆍ발전 및 지원에 관한 법률.csv: '조문내용'\n",
      "Processing : 법령별2트/성매매방지 및 피해자보호 등에 관한 법률.csv\n",
      "Error processing file 성매매방지 및 피해자보호 등에 관한 법률.csv: '조문내용'\n",
      "Processing : 법령별2트/성매매알선 등 행위의 처벌에 관한 법률.csv\n",
      "Error processing file 성매매알선 등 행위의 처벌에 관한 법률.csv: '조문내용'\n",
      "Processing : 법령별2트/성별영향평가법.csv\n",
      "Error processing file 성별영향평가법.csv: '조문내용'\n",
      "Processing : 법령별2트/성폭력방지 및 피해자보호 등에 관한 법률.csv\n",
      "Error processing file 성폭력방지 및 피해자보호 등에 관한 법률.csv: '조문내용'\n",
      "Processing : 법령별2트/성폭력범죄의 처벌 등에 관한 특례법.csv\n",
      "Error processing file 성폭력범죄의 처벌 등에 관한 특례법.csv: '조문내용'\n",
      "Processing : 법령별2트/성폭력범죄자의 성충동 약물치료에 관한 법률.csv\n",
      "Error processing file 성폭력범죄자의 성충동 약물치료에 관한 법률.csv: '조문내용'\n",
      "Processing : 법령별2트/세계유산의 보존ㆍ관리 및 활용에 관한 특별법.csv\n",
      "Error processing file 세계유산의 보존ㆍ관리 및 활용에 관한 특별법.csv: '조문내용'\n",
      "Processing : 법령별2트/세무사법.csv\n",
      "Error processing file 세무사법.csv: '조문내용'\n",
      "Processing : 법령별2트/세월호 선체조사위원회의 설치 및 운영에 관한 특별법.csv\n",
      "Error processing file 세월호 선체조사위원회의 설치 및 운영에 관한 특별법.csv: '조문내용'\n",
      "Processing : 법령별2트/소규모 공공시설 안전관리 등에 관한 법률.csv\n",
      "Error processing file 소규모 공공시설 안전관리 등에 관한 법률.csv: '조문내용'\n",
      "Processing : 법령별2트/소금산업 진흥법.csv\n",
      "Error processing file 소금산업 진흥법.csv: '조문내용'\n",
      "Processing : 법령별2트/소나무재선충병 방제특별법.csv\n",
      "Error processing file 소나무재선충병 방제특별법.csv: '조문내용'\n",
      "Processing : 법령별2트/소득세법.csv\n",
      "Error processing file 소득세법.csv: '조문내용'\n",
      "Processing : 법령별2트/소방공무원법.csv\n",
      "Error processing file 소방공무원법.csv: '조문내용'\n",
      "Processing : 법령별2트/소방공무원 보건안전 및 복지 기본법.csv\n",
      "Error processing file 소방공무원 보건안전 및 복지 기본법.csv: '조문내용'\n",
      "Processing : 법령별2트/소방기본법.csv\n",
      "Error processing file 소방기본법.csv: '조문내용'\n",
      "Processing : 법령별2트/소방산업의 진흥에 관한 법률.csv\n",
      "Error processing file 소방산업의 진흥에 관한 법률.csv: '조문내용'\n",
      "Processing : 법령별2트/소방시설공사업법.csv\n",
      "Error processing file 소방시설공사업법.csv: '조문내용'\n",
      "Processing : 법령별2트/소방시설 설치 및 관리에 관한 법률.csv\n",
      "Error processing file 소방시설 설치 및 관리에 관한 법률.csv: '조문내용'\n",
      "Processing : 법령별2트/소방의 화재조사에 관한 법률.csv\n",
      "Error processing file 소방의 화재조사에 관한 법률.csv: '조문내용'\n",
      "Processing : 법령별2트/소방장비관리법.csv\n",
      "Error processing file 소방장비관리법.csv: '조문내용'\n",
      "Processing : 법령별2트/소방재정지원 및 시ㆍ도 소방특별회계 설치법.csv\n",
      "Error processing file 소방재정지원 및 시ㆍ도 소방특별회계 설치법.csv: '조문내용'\n",
      "Processing : 법령별2트/소비자기본법.csv\n",
      "Error processing file 소비자기본법.csv: '조문내용'\n",
      "Processing : 법령별2트/소비자생활협동조합법.csv\n",
      "Error processing file 소비자생활협동조합법.csv: '조문내용'\n",
      "Processing : 법령별2트/소상공인기본법.csv\n",
      "Error processing file 소상공인기본법.csv: '조문내용'\n",
      "Processing : 법령별2트/소상공인 보호 및 지원에 관한 법률.csv\n",
      "Error processing file 소상공인 보호 및 지원에 관한 법률.csv: '조문내용'\n",
      "Processing : 법령별2트/소상공인 생계형 적합업종 지정에 관한 특별법.csv\n",
      "Error processing file 소상공인 생계형 적합업종 지정에 관한 특별법.csv: '조문내용'\n",
      "Processing : 법령별2트/소음ㆍ진동관리법.csv\n",
      "Error processing file 소음ㆍ진동관리법.csv: '조문내용'\n",
      "Processing : 법령별2트/소재ㆍ부품ㆍ장비산업 경쟁력 강화 및 공급망 안정화를 위한 특별조치법.csv\n",
      "Error processing file 소재ㆍ부품ㆍ장비산업 경쟁력 강화 및 공급망 안정화를 위한 특별조치법.csv: '조문내용'\n",
      "Processing : 법령별2트/소프트웨어 진흥법.csv\n",
      "Error processing file 소프트웨어 진흥법.csv: '조문내용'\n",
      "Processing : 법령별2트/소하천정비법.csv\n",
      "Error processing file 소하천정비법.csv: '조문내용'\n",
      "Error processing file 송ㆍ변전설비 주변지역의 보상 및 지원에 관한 법률.csv: Error tokenizing data. C error: Expected 1 fields in line 5, saw 7\n",
      "\n",
      "Processing : 법령별2트/송유관 안전관리법.csv\n",
      "Error processing file 송유관 안전관리법.csv: '조문내용'\n",
      "Processing : 법령별2트/수도권매립지관리공사의 설립 및 운영 등에 관한 법률.csv\n",
      "Error processing file 수도권매립지관리공사의 설립 및 운영 등에 관한 법률.csv: '조문내용'\n",
      "Processing : 법령별2트/수도권정비계획법.csv\n",
      "Error processing file 수도권정비계획법.csv: '조문내용'\n",
      "Processing : 법령별2트/수도법.csv\n",
      "Error processing file 수도법.csv: '조문내용'\n",
      "Processing : 법령별2트/수목원ㆍ정원의 조성 및 진흥에 관한 법률.csv\n",
      "Error processing file 수목원ㆍ정원의 조성 및 진흥에 관한 법률.csv: '조문내용'\n",
      "Processing : 법령별2트/수복지역내소유자미복구토지의복구등록과보존등기등에관한특별조치법.csv\n",
      "Error processing file 수복지역내소유자미복구토지의복구등록과보존등기등에관한특별조치법.csv: '조문내용'\n",
      "Processing : 법령별2트/수산과학기술진흥을 위한 시험연구 등에 관한 법률.csv\n",
      "Error processing file 수산과학기술진흥을 위한 시험연구 등에 관한 법률.csv: '조문내용'\n",
      "Processing : 법령별2트/수산물 유통의 관리 및 지원에 관한 법률.csv\n",
      "Error processing file 수산물 유통의 관리 및 지원에 관한 법률.csv: '조문내용'\n",
      "Processing : 법령별2트/수산부산물 재활용 촉진에 관한 법률.csv\n",
      "Error processing file 수산부산물 재활용 촉진에 관한 법률.csv: '조문내용'\n",
      "Processing : 법령별2트/수산생물질병 관리법.csv\n",
      "Error processing file 수산생물질병 관리법.csv: '조문내용'\n",
      "Processing : 법령별2트/수산식품산업의 육성 및 지원에 관한 법률.csv\n",
      "Error processing file 수산식품산업의 육성 및 지원에 관한 법률.csv: '조문내용'\n",
      "Processing : 법령별2트/수산업법.csv\n",
      "Error processing file 수산업법.csv: '조문내용'\n",
      "Processing : 법령별2트/수산업ㆍ어촌 공익기능 증진을 위한 직접지불제도 운영에 관한 법률.csv\n",
      "Error processing file 수산업ㆍ어촌 공익기능 증진을 위한 직접지불제도 운영에 관한 법률.csv: '조문내용'\n",
      "Processing : 법령별2트/수산업ㆍ어촌 발전 기본법.csv\n",
      "Error processing file 수산업ㆍ어촌 발전 기본법.csv: '조문내용'\n",
      "Processing : 법령별2트/수산업협동조합법.csv\n",
      "Error processing file 수산업협동조합법.csv: '조문내용'\n",
      "Processing : 법령별2트/수산업협동조합의 부실예방 및 구조개선에 관한 법률.csv\n",
      "Error processing file 수산업협동조합의 부실예방 및 구조개선에 관한 법률.csv: '조문내용'\n",
      "Processing : 법령별2트/수산자원관리법.csv\n",
      "Error processing file 수산자원관리법.csv: '조문내용'\n",
      "Processing : 법령별2트/수산종자산업육성법.csv\n",
      "Error processing file 수산종자산업육성법.csv: '조문내용'\n",
      "Processing : 법령별2트/수상레저기구의 등록 및 검사에 관한 법률.csv\n",
      "Error processing file 수상레저기구의 등록 및 검사에 관한 법률.csv: '조문내용'\n",
      "Processing : 법령별2트/수상레저안전법.csv\n",
      "Error processing file 수상레저안전법.csv: '조문내용'\n",
      "Processing : 법령별2트/수상에서의 수색ㆍ구조 등에 관한 법률.csv\n",
      "Error processing file 수상에서의 수색ㆍ구조 등에 관한 법률.csv: '조문내용'\n",
      "Processing : 법령별2트/수소경제 육성 및 수소 안전관리에 관한 법률.csv\n",
      "Error processing file 수소경제 육성 및 수소 안전관리에 관한 법률.csv: '조문내용'\n",
      "Processing : 법령별2트/수의사법.csv\n",
      "Error processing file 수의사법.csv: '조문내용'\n",
      "Processing : 법령별2트/수입식품안전관리 특별법.csv\n",
      "Error processing file 수입식품안전관리 특별법.csv: '조문내용'\n",
      "Processing : 법령별2트/수자원의 조사ㆍ계획 및 관리에 관한 법률.csv\n",
      "Error processing file 수자원의 조사ㆍ계획 및 관리에 관한 법률.csv: '조문내용'\n",
      "Processing : 법령별2트/수중레저활동의 안전 및 활성화 등에 관한 법률.csv\n",
      "Error processing file 수중레저활동의 안전 및 활성화 등에 관한 법률.csv: '조문내용'\n",
      "Processing : 법령별2트/수출용 원재료에 대한 관세 등 환급에 관한 특례법.csv\n",
      "Error processing file 수출용 원재료에 대한 관세 등 환급에 관한 특례법.csv: '조문내용'\n",
      "Processing : 법령별2트/숙련기술장려법.csv\n",
      "Error processing file 숙련기술장려법.csv: '조문내용'\n",
      "Processing : 법령별2트/순환경제사회 전환 촉진법.csv\n",
      "Error processing file 순환경제사회 전환 촉진법.csv: '조문내용'\n",
      "Processing : 법령별2트/스마트농업 육성 및 지원에 관한 법률.csv\n",
      "Error processing file 스마트농업 육성 및 지원에 관한 법률.csv: '조문내용'\n",
      "Processing : 법령별2트/스마트도시 조성 및 산업진흥 등에 관한 법률.csv\n",
      "Error processing file 스마트도시 조성 및 산업진흥 등에 관한 법률.csv: '조문내용'\n",
      "Processing : 법령별2트/스카우트활동 육성에 관한 법률.csv\n",
      "Error processing file 스카우트활동 육성에 관한 법률.csv: '조문내용'\n",
      "Processing : 법령별2트/스토킹방지 및 피해자보호 등에 관한 법률.csv\n",
      "Error processing file 스토킹방지 및 피해자보호 등에 관한 법률.csv: '조문내용'\n",
      "Error processing file 스토킹범죄의 처벌 등에 관한 법률.csv: Error tokenizing data. C error: Expected 1 fields in line 9, saw 7\n",
      "\n",
      "Processing : 법령별2트/스포츠기본법.csv\n",
      "Error processing file 스포츠기본법.csv: '조문내용'\n",
      "Processing : 법령별2트/스포츠산업 진흥법.csv\n",
      "Error processing file 스포츠산업 진흥법.csv: '조문내용'\n",
      "Processing : 법령별2트/스포츠클럽법.csv\n",
      "Error processing file 스포츠클럽법.csv: '조문내용'\n",
      "Processing : 법령별2트/습지보전법.csv\n",
      "Error processing file 습지보전법.csv: '조문내용'\n",
      "Processing : 법령별2트/승강기산업 진흥법.csv\n",
      "Error processing file 승강기산업 진흥법.csv: '조문내용'\n",
      "Processing : 법령별2트/승강기 안전관리법.csv\n",
      "Error processing file 승강기 안전관리법.csv: '조문내용'\n",
      "Processing : 법령별2트/시국사건관련 임용제외 교원의 피해회복을 위한 조치에 관한 특별법.csv\n",
      "Error processing file 시국사건관련 임용제외 교원의 피해회복을 위한 조치에 관한 특별법.csv: '조문내용'\n",
      "Processing : 법령별2트/시설물의 안전 및 유지관리에 관한 특별법.csv\n",
      "Error processing file 시설물의 안전 및 유지관리에 관한 특별법.csv: '조문내용'\n",
      "Processing : 법령별2트/식물방역법.csv\n",
      "Error processing file 식물방역법.csv: '조문내용'\n",
      "Processing : 법령별2트/식물신품종 보호법.csv\n",
      "Error processing file 식물신품종 보호법.csv: '조문내용'\n",
      "Processing : 법령별2트/식생활교육지원법.csv\n",
      "Error processing file 식생활교육지원법.csv: '조문내용'\n",
      "Processing : 법령별2트/식품등 기부 활성화에 관한 법률.csv\n",
      "Error processing file 식품등 기부 활성화에 관한 법률.csv: '조문내용'\n",
      "Processing : 법령별2트/식품 등의 표시ㆍ광고에 관한 법률.csv\n",
      "Error processing file 식품 등의 표시ㆍ광고에 관한 법률.csv: '조문내용'\n",
      "Processing : 법령별2트/식품산업진흥법.csv\n",
      "Error processing file 식품산업진흥법.csv: '조문내용'\n",
      "Processing : 법령별2트/식품안전기본법.csv\n",
      "Error processing file 식품안전기본법.csv: '조문내용'\n",
      "Processing : 법령별2트/식품위생법.csv\n",
      "Error processing file 식품위생법.csv: '조문내용'\n",
      "Processing : 법령별2트/식품ㆍ의약품 등의 안전 및 제품화 지원에 관한 규제과학혁신법.csv\n",
      "Error processing file 식품ㆍ의약품 등의 안전 및 제품화 지원에 관한 규제과학혁신법.csv: '조문내용'\n",
      "Processing : 법령별2트/식품ㆍ의약품분야 시험ㆍ검사 등에 관한 법률.csv\n",
      "Error processing file 식품ㆍ의약품분야 시험ㆍ검사 등에 관한 법률.csv: '조문내용'\n",
      "Processing : 법령별2트/신라왕경 핵심유적 복원ㆍ정비에 관한 특별법.csv\n",
      "Error processing file 신라왕경 핵심유적 복원ㆍ정비에 관한 특별법.csv: '조문내용'\n",
      "Processing : 법령별2트/신문 등의 진흥에 관한 법률.csv\n",
      "Error processing file 신문 등의 진흥에 관한 법률.csv: '조문내용'\n",
      "Processing : 법령별2트/신에너지 및 재생에너지 개발ㆍ이용ㆍ보급 촉진법.csv\n",
      "Error processing file 신에너지 및 재생에너지 개발ㆍ이용ㆍ보급 촉진법.csv: '조문내용'\n",
      "Processing : 법령별2트/신용보증기금법.csv\n",
      "Error processing file 신용보증기금법.csv: '조문내용'\n",
      "Error processing file 신용정보의 이용 및 보호에 관한 법률.csv: Error tokenizing data. C error: Expected 1 fields in line 10, saw 7\n",
      "\n",
      "Processing : 법령별2트/신용협동조합법.csv\n",
      "Error processing file 신용협동조합법.csv: '조문내용'\n",
      "Processing : 법령별2트/신원보증법.csv\n",
      "Error processing file 신원보증법.csv: '조문내용'\n",
      "Processing : 법령별2트/신항만건설 촉진법.csv\n",
      "Error processing file 신항만건설 촉진법.csv: '조문내용'\n",
      "Processing : 법령별2트/신행정수도 후속대책을 위한 연기ㆍ공주지역 행정중심복합도시 건설을 위한 특별법.csv\n",
      "Error processing file 신행정수도 후속대책을 위한 연기ㆍ공주지역 행정중심복합도시 건설을 위한 특별법.csv: '조문내용'\n",
      "Processing : 법령별2트/실내공기질 관리법.csv\n",
      "Error processing file 실내공기질 관리법.csv: '조문내용'\n",
      "Processing : 법령별2트/실용신안법.csv\n",
      "Error processing file 실용신안법.csv: '조문내용'\n",
      "Processing : 법령별2트/실종아동등의 보호 및 지원에 관한 법률.csv\n",
      "Error processing file 실종아동등의 보호 및 지원에 관한 법률.csv: '조문내용'\n",
      "Processing : 법령별2트/실험동물에 관한 법률.csv\n",
      "Error processing file 실험동물에 관한 법률.csv: '조문내용'\n",
      "Processing : 법령별2트/심뇌혈관질환의 예방 및 관리에 관한 법률.csv\n",
      "Error processing file 심뇌혈관질환의 예방 및 관리에 관한 법률.csv: '조문내용'\n",
      "Processing : 법령별2트/쌀가공산업 육성 및 쌀 이용 촉진에 관한 법률.csv\n",
      "Error processing file 쌀가공산업 육성 및 쌀 이용 촉진에 관한 법률.csv: '조문내용'\n",
      "Processing : 법령별2트/씨름 진흥법.csv\n",
      "Error processing file 씨름 진흥법.csv: '조문내용'\n",
      "Processing : 법령별2트/아동복지법.csv\n",
      "Error processing file 아동복지법.csv: '조문내용'\n",
      "Processing : 법령별2트/아동수당법.csv\n",
      "Error processing file 아동수당법.csv: '조문내용'\n",
      "Processing : 법령별2트/아동의 빈곤예방 및 지원 등에 관한 법률.csv\n",
      "Error processing file 아동의 빈곤예방 및 지원 등에 관한 법률.csv: '조문내용'\n",
      "Processing : 법령별2트/아동ㆍ청소년의 성보호에 관한 법률.csv\n",
      "Error processing file 아동ㆍ청소년의 성보호에 관한 법률.csv: '조문내용'\n",
      "Processing : 법령별2트/아동학대범죄의 처벌 등에 관한 특례법.csv\n",
      "Error processing file 아동학대범죄의 처벌 등에 관한 특례법.csv: '조문내용'\n",
      "Processing : 법령별2트/아시아문화중심도시 조성에 관한 특별법.csv\n",
      "Error processing file 아시아문화중심도시 조성에 관한 특별법.csv: '조문내용'\n",
      "Processing : 법령별2트/아이돌봄 지원법.csv\n",
      "Error processing file 아이돌봄 지원법.csv: '조문내용'\n",
      "Processing : 법령별2트/악취방지법.csv\n",
      "Error processing file 악취방지법.csv: '조문내용'\n",
      "Processing : 법령별2트/애니메이션산업 진흥에 관한 법률.csv\n",
      "Error processing file 애니메이션산업 진흥에 관한 법률.csv: '조문내용'\n",
      "Processing : 법령별2트/액화석유가스의 안전관리 및 사업법.csv\n",
      "Error processing file 액화석유가스의 안전관리 및 사업법.csv: '조문내용'\n",
      "Processing : 법령별2트/야생생물 보호 및 관리에 관한 법률.csv\n",
      "Error processing file 야생생물 보호 및 관리에 관한 법률.csv: '조문내용'\n",
      "Processing : 법령별2트/약관의 규제에 관한 법률.csv\n",
      "Error processing file 약관의 규제에 관한 법률.csv: '조문내용'\n",
      "Processing : 법령별2트/약사법.csv\n",
      "Error processing file 약사법.csv: '조문내용'\n",
      "Processing : 법령별2트/약식절차 등에서의 전자문서 이용 등에 관한 법률.csv\n",
      "Error processing file 약식절차 등에서의 전자문서 이용 등에 관한 법률.csv: '조문내용'\n",
      "Processing : 법령별2트/양곡관리법.csv\n",
      "Error processing file 양곡관리법.csv: '조문내용'\n",
      "Processing : 법령별2트/양봉산업의 육성 및 지원에 관한 법률.csv\n",
      "Error processing file 양봉산업의 육성 및 지원에 관한 법률.csv: '조문내용'\n",
      "Processing : 법령별2트/양성평등기본법.csv\n",
      "Error processing file 양성평등기본법.csv: '조문내용'\n",
      "Processing : 법령별2트/양식산업발전법.csv\n",
      "Error processing file 양식산업발전법.csv: '조문내용'\n",
      "Processing : 법령별2트/양육비 이행확보 및 지원에 관한 법률.csv\n",
      "Error processing file 양육비 이행확보 및 지원에 관한 법률.csv: '조문내용'\n",
      "Processing : 법령별2트/어린이놀이시설 안전관리법.csv\n",
      "Error processing file 어린이놀이시설 안전관리법.csv: '조문내용'\n",
      "Processing : 법령별2트/어린이 식생활안전관리 특별법.csv\n",
      "Error processing file 어린이 식생활안전관리 특별법.csv: '조문내용'\n",
      "Processing : 법령별2트/어린이안전관리에 관한 법률.csv\n",
      "Error processing file 어린이안전관리에 관한 법률.csv: '조문내용'\n",
      "Processing : 법령별2트/어린이제품 안전 특별법.csv\n",
      "Error processing file 어린이제품 안전 특별법.csv: '조문내용'\n",
      "Processing : 법령별2트/어선법.csv\n",
      "Error processing file 어선법.csv: '조문내용'\n",
      "Processing : 법령별2트/어선안전조업법.csv\n",
      "Error processing file 어선안전조업법.csv: '조문내용'\n",
      "Processing : 법령별2트/어선원 및 어선 재해보상보험법.csv\n",
      "Error processing file 어선원 및 어선 재해보상보험법.csv: '조문내용'\n",
      "Processing : 법령별2트/어장관리법.csv\n",
      "Error processing file 어장관리법.csv: '조문내용'\n",
      "Error processing file 어촌ㆍ어항법.csv: Error tokenizing data. C error: Expected 1 fields in line 15, saw 7\n",
      "\n",
      "Processing : 법령별2트/어촌특화발전 지원 특별법.csv\n",
      "Error processing file 어촌특화발전 지원 특별법.csv: '조문내용'\n",
      "Processing : 법령별2트/언론중재 및 피해구제 등에 관한 법률.csv\n",
      "Error processing file 언론중재 및 피해구제 등에 관한 법률.csv: '조문내용'\n",
      "Processing : 법령별2트/에너지 및 자원사업 특별회계법.csv\n",
      "Error processing file 에너지 및 자원사업 특별회계법.csv: '조문내용'\n",
      "Processing : 법령별2트/에너지법.csv\n",
      "Error processing file 에너지법.csv: '조문내용'\n",
      "Processing : 법령별2트/에너지산업융복합단지의 지정 및 육성에 관한 특별법.csv\n",
      "Error processing file 에너지산업융복합단지의 지정 및 육성에 관한 특별법.csv: '조문내용'\n",
      "Processing : 법령별2트/에너지이용 합리화법.csv\n",
      "Error processing file 에너지이용 합리화법.csv: '조문내용'\n",
      "Processing : 법령별2트/엔지니어링산업 진흥법.csv\n",
      "Error processing file 엔지니어링산업 진흥법.csv: '조문내용'\n",
      "Processing : 법령별2트/여객자동차 운수사업법.csv\n",
      "Error processing file 여객자동차 운수사업법.csv: '조문내용'\n",
      "Processing : 법령별2트/여성과학기술인 육성 및 지원에 관한 법률.csv\n",
      "Error processing file 여성과학기술인 육성 및 지원에 관한 법률.csv: '조문내용'\n",
      "Processing : 법령별2트/여성기업지원에 관한 법률.csv\n",
      "Error processing file 여성기업지원에 관한 법률.csv: '조문내용'\n",
      "Processing : 법령별2트/여성농어업인 육성법.csv\n",
      "Error processing file 여성농어업인 육성법.csv: '조문내용'\n",
      "Processing : 법령별2트/여성의 경제활동 촉진과 경력단절 예방법.csv\n",
      "Error processing file 여성의 경제활동 촉진과 경력단절 예방법.csv: '조문내용'\n",
      "Error processing file 여성폭력방지기본법.csv: Error tokenizing data. C error: Expected 1 fields in line 8, saw 7\n",
      "\n",
      "Processing : 법령별2트/여수세계박람회 기념 및 사후활용에 관한 특별법.csv\n",
      "Error processing file 여수세계박람회 기념 및 사후활용에 관한 특별법.csv: '조문내용'\n",
      "Processing : 법령별2트/여수ㆍ순천 10ㆍ19사건 진상규명 및 희생자 명예회복에 관한 특별법.csv\n",
      "Error processing file 여수ㆍ순천 10ㆍ19사건 진상규명 및 희생자 명예회복에 관한 특별법.csv: '조문내용'\n",
      "Processing : 법령별2트/여신전문금융업법.csv\n",
      "Error processing file 여신전문금융업법.csv: '조문내용'\n",
      "Processing : 법령별2트/역사문화권 정비 등에 관한 특별법.csv\n",
      "Error processing file 역사문화권 정비 등에 관한 특별법.csv: '조문내용'\n",
      "Processing : 법령별2트/역세권의 개발 및 이용에 관한 법률.csv\n",
      "Error processing file 역세권의 개발 및 이용에 관한 법률.csv: '조문내용'\n",
      "Processing : 법령별2트/연구개발특구의 육성에 관한 특별법.csv\n",
      "Error processing file 연구개발특구의 육성에 관한 특별법.csv: '조문내용'\n",
      "Processing : 법령별2트/연구산업진흥법.csv\n",
      "Error processing file 연구산업진흥법.csv: '조문내용'\n",
      "Processing : 법령별2트/연구실 안전환경 조성에 관한 법률.csv\n",
      "Error processing file 연구실 안전환경 조성에 관한 법률.csv: '조문내용'\n",
      "Processing : 법령별2트/연근해어업의 구조개선 및 지원에 관한 법률.csv\n",
      "Error processing file 연근해어업의 구조개선 및 지원에 관한 법률.csv: '조문내용'\n",
      "Processing : 법령별2트/연안관리법.csv\n",
      "Error processing file 연안관리법.csv: '조문내용'\n",
      "Processing : 법령별2트/연안사고 예방에 관한 법률.csv\n",
      "Error processing file 연안사고 예방에 관한 법률.csv: '조문내용'\n",
      "Processing : 법령별2트/영산강ㆍ섬진강수계 물관리 및 주민지원 등에 관한 법률.csv\n",
      "Error processing file 영산강ㆍ섬진강수계 물관리 및 주민지원 등에 관한 법률.csv: '조문내용'\n",
      "Processing : 법령별2트/영상진흥기본법.csv\n",
      "Error processing file 영상진흥기본법.csv: '조문내용'\n",
      "Processing : 법령별2트/영유아보육법.csv\n",
      "Error processing file 영유아보육법.csv: '조문내용'\n",
      "Processing : 법령별2트/영화 및 비디오물의 진흥에 관한 법률.csv\n",
      "Error processing file 영화 및 비디오물의 진흥에 관한 법률.csv: '조문내용'\n",
      "Processing : 법령별2트/예금자보호법.csv\n",
      "Error processing file 예금자보호법.csv: '조문내용'\n",
      "Processing : 법령별2트/예술인 복지법.csv\n",
      "Error processing file 예술인 복지법.csv: '조문내용'\n",
      "Processing : 법령별2트/예술인의 지위와 권리의 보장에 관한 법률.csv\n",
      "Error processing file 예술인의 지위와 권리의 보장에 관한 법률.csv: '조문내용'\n",
      "Processing : 법령별2트/오존층 보호 등을 위한 특정물질의 관리에 관한 법률.csv\n",
      "Error processing file 오존층 보호 등을 위한 특정물질의 관리에 관한 법률.csv: '조문내용'\n",
      "Processing : 법령별2트/옥외광고물 등의 관리와 옥외광고산업 진흥에 관한 법률.csv\n",
      "Error processing file 옥외광고물 등의 관리와 옥외광고산업 진흥에 관한 법률.csv: '조문내용'\n",
      "Error processing file 온라인투자연계금융업 및 이용자 보호에 관한 법률.csv: Error tokenizing data. C error: Expected 1 fields in line 14, saw 7\n",
      "\n",
      "Processing : 법령별2트/온실가스 배출권의 할당 및 거래에 관한 법률.csv\n",
      "Error processing file 온실가스 배출권의 할당 및 거래에 관한 법률.csv: '조문내용'\n",
      "Processing : 법령별2트/온천법.csv\n",
      "Error processing file 온천법.csv: '조문내용'\n",
      "Error processing file 외국인투자 촉진법.csv: Error tokenizing data. C error: Expected 1 fields in line 8, saw 7\n",
      "\n",
      "Processing : 법령별2트/외국환거래법.csv\n",
      "Error processing file 외국환거래법.csv: '조문내용'\n",
      "Processing : 법령별2트/외식산업 진흥법.csv\n",
      "Error processing file 외식산업 진흥법.csv: '조문내용'\n",
      "Processing : 법령별2트/용산공원 조성 특별법.csv\n",
      "Error processing file 용산공원 조성 특별법.csv: '조문내용'\n",
      "Processing : 법령별2트/우정사업 운영에 관한 특례법.csv\n",
      "Error processing file 우정사업 운영에 관한 특례법.csv: '조문내용'\n",
      "Processing : 법령별2트/우주개발 진흥법.csv\n",
      "Error processing file 우주개발 진흥법.csv: '조문내용'\n",
      "Processing : 법령별2트/우주손해배상법.csv\n",
      "Error processing file 우주손해배상법.csv: '조문내용'\n",
      "Processing : 법령별2트/우주항공청의 설치 및 운영에 관한 특별법.csv\n",
      "Error processing file 우주항공청의 설치 및 운영에 관한 특별법.csv: '조문내용'\n",
      "Processing : 법령별2트/우체국예금ㆍ보험에 관한 법률.csv\n",
      "Error processing file 우체국예금ㆍ보험에 관한 법률.csv: '조문내용'\n",
      "Processing : 법령별2트/우체국창구업무의 위탁에 관한 법률.csv\n",
      "Error processing file 우체국창구업무의 위탁에 관한 법률.csv: '조문내용'\n",
      "Processing : 법령별2트/우편대체법.csv\n",
      "Error processing file 우편대체법.csv: '조문내용'\n",
      "Processing : 법령별2트/우편법.csv\n",
      "Error processing file 우편법.csv: '조문내용'\n",
      "Processing : 법령별2트/우편환법.csv\n",
      "Error processing file 우편환법.csv: '조문내용'\n",
      "Processing : 법령별2트/원격영상재판에 관한 특례법.csv\n",
      "Error processing file 원격영상재판에 관한 특례법.csv: '조문내용'\n",
      "Processing : 법령별2트/원양산업발전법.csv\n",
      "Error processing file 원양산업발전법.csv: '조문내용'\n",
      "Processing : 법령별2트/원자력 손해배상법.csv\n",
      "Error processing file 원자력 손해배상법.csv: '조문내용'\n",
      "Processing : 법령별2트/원자력손해배상 보상계약에 관한 법률.csv\n",
      "Error processing file 원자력손해배상 보상계약에 관한 법률.csv: '조문내용'\n",
      "Processing : 법령별2트/원자력시설 등의 방호 및 방사능 방재 대책법.csv\n",
      "Error processing file 원자력시설 등의 방호 및 방사능 방재 대책법.csv: '조문내용'\n",
      "Processing : 법령별2트/원자력안전법.csv\n",
      "Error processing file 원자력안전법.csv: '조문내용'\n",
      "Processing : 법령별2트/원자력안전 정보공개 및 소통에 관한 법률.csv\n",
      "Error processing file 원자력안전 정보공개 및 소통에 관한 법률.csv: '조문내용'\n",
      "Processing : 법령별2트/원자력 진흥법.csv\n",
      "Error processing file 원자력 진흥법.csv: '조문내용'\n",
      "Processing : 법령별2트/원호재산특별처리법.csv\n",
      "Error processing file 원호재산특별처리법.csv: '조문내용'\n",
      "Processing : 법령별2트/위기 임신 및 보호출산 지원과 아동 보호에 관한 특별법.csv\n",
      "Error processing file 위기 임신 및 보호출산 지원과 아동 보호에 관한 특별법.csv: '조문내용'\n",
      "Error processing file 위생용품 관리법.csv: Error tokenizing data. C error: Expected 1 fields in line 4, saw 7\n",
      "\n",
      "Processing : 법령별2트/위치정보의 보호 및 이용 등에 관한 법률.csv\n",
      "Error processing file 위치정보의 보호 및 이용 등에 관한 법률.csv: '조문내용'\n",
      "Processing : 법령별2트/위험물안전관리법.csv\n",
      "Error processing file 위험물안전관리법.csv: '조문내용'\n",
      "Processing : 법령별2트/유기성 폐자원을 활용한 바이오가스의 생산 및 이용 촉진법.csv\n",
      "Error processing file 유기성 폐자원을 활용한 바이오가스의 생산 및 이용 촉진법.csv: '조문내용'\n",
      "Processing : 법령별2트/유네스코 활동에 관한 법률.csv\n",
      "Error processing file 유네스코 활동에 관한 법률.csv: '조문내용'\n",
      "Processing : 법령별2트/유료도로법.csv\n",
      "Error processing file 유료도로법.csv: '조문내용'\n",
      "Processing : 법령별2트/유류오염손해배상 보장법.csv\n",
      "Error processing file 유류오염손해배상 보장법.csv: '조문내용'\n",
      "Processing : 법령별2트/유사수신행위의 규제에 관한 법률.csv\n",
      "Error processing file 유사수신행위의 규제에 관한 법률.csv: '조문내용'\n",
      "Processing : 법령별2트/유선 및 도선 사업법.csv\n",
      "Error processing file 유선 및 도선 사업법.csv: '조문내용'\n",
      "Processing : 법령별2트/유아교육법.csv\n",
      "Error processing file 유아교육법.csv: '조문내용'\n",
      "Processing : 법령별2트/유엔참전용사의 명예선양 등에 관한 법률.csv\n",
      "Error processing file 유엔참전용사의 명예선양 등에 관한 법률.csv: '조문내용'\n",
      "Processing : 법령별2트/유전자변형생물체의 국가간 이동 등에 관한 법률.csv\n",
      "Error processing file 유전자변형생물체의 국가간 이동 등에 관한 법률.csv: '조문내용'\n",
      "Processing : 법령별2트/유전자원의 접근ㆍ이용 및 이익 공유에 관한 법률.csv\n",
      "Error processing file 유전자원의 접근ㆍ이용 및 이익 공유에 관한 법률.csv: '조문내용'\n",
      "Error processing file 유통산업발전법.csv: Error tokenizing data. C error: Expected 1 fields in line 3, saw 3\n",
      "\n",
      "Error processing file 은행법.csv: Error tokenizing data. C error: Expected 1 fields in line 16, saw 7\n",
      "\n",
      "Processing : 법령별2트/음악산업진흥에 관한 법률.csv\n",
      "Error processing file 음악산업진흥에 관한 법률.csv: '조문내용'\n",
      "Processing : 법령별2트/응급의료에 관한 법률.csv\n",
      "Error processing file 응급의료에 관한 법률.csv: '조문내용'\n",
      "Processing : 법령별2트/의료급여법.csv\n",
      "Error processing file 의료급여법.csv: '조문내용'\n",
      "Processing : 법령별2트/의료기기법.csv\n",
      "Error processing file 의료기기법.csv: '조문내용'\n",
      "Processing : 법령별2트/의료기기산업 육성 및 혁신의료기기 지원법.csv\n",
      "Error processing file 의료기기산업 육성 및 혁신의료기기 지원법.csv: '조문내용'\n",
      "Processing : 법령별2트/의료기사 등에 관한 법률.csv\n",
      "Error processing file 의료기사 등에 관한 법률.csv: '조문내용'\n",
      "Processing : 법령별2트/의료사고 피해구제 및 의료분쟁 조정 등에 관한 법률.csv\n",
      "Error processing file 의료사고 피해구제 및 의료분쟁 조정 등에 관한 법률.csv: '조문내용'\n",
      "Processing : 법령별2트/의료 해외진출 및 외국인환자 유치 지원에 관한 법률.csv\n",
      "Error processing file 의료 해외진출 및 외국인환자 유치 지원에 관한 법률.csv: '조문내용'\n",
      "Processing : 법령별2트/의사상자 등 예우 및 지원에 관한 법률.csv\n",
      "Error processing file 의사상자 등 예우 및 지원에 관한 법률.csv: '조문내용'\n",
      "Processing : 법령별2트/이동통신단말장치 유통구조 개선에 관한 법률.csv\n",
      "Error processing file 이동통신단말장치 유통구조 개선에 관한 법률.csv: '조문내용'\n",
      "Processing : 법령별2트/이러닝(전자학습)산업 발전 및 이러닝 활용 촉진에 관한 법률.csv\n",
      "Error processing file 이러닝(전자학습)산업 발전 및 이러닝 활용 촉진에 관한 법률.csv: '조문내용'\n",
      "Processing : 법령별2트/이북5도 등에 관한 특별조치법.csv\n",
      "Error processing file 이북5도 등에 관한 특별조치법.csv: '조문내용'\n",
      "Processing : 법령별2트/이스포츠(전자스포츠) 진흥에 관한 법률.csv\n",
      "Error processing file 이스포츠(전자스포츠) 진흥에 관한 법률.csv: '조문내용'\n",
      "Processing : 법령별2트/이중상환청구권부 채권 발행에 관한 법률.csv\n",
      "Error processing file 이중상환청구권부 채권 발행에 관한 법률.csv: '조문내용'\n",
      "Processing : 법령별2트/인공조명에 의한 빛공해 방지법.csv\n",
      "Error processing file 인공조명에 의한 빛공해 방지법.csv: '조문내용'\n",
      "Processing : 법령별2트/인구감소지역 지원 특별법.csv\n",
      "Error processing file 인구감소지역 지원 특별법.csv: '조문내용'\n",
      "Processing : 법령별2트/인문학 및 인문정신문화의 진흥에 관한 법률.csv\n",
      "Error processing file 인문학 및 인문정신문화의 진흥에 관한 법률.csv: '조문내용'\n",
      "Processing : 법령별2트/인사청문회법.csv\n",
      "Error processing file 인사청문회법.csv: '조문내용'\n",
      "Processing : 법령별2트/인삼산업법.csv\n",
      "Error processing file 인삼산업법.csv: '조문내용'\n",
      "Processing : 법령별2트/인성교육진흥법.csv\n",
      "Error processing file 인성교육진흥법.csv: '조문내용'\n",
      "Processing : 법령별2트/인쇄문화산업 진흥법.csv\n",
      "Error processing file 인쇄문화산업 진흥법.csv: '조문내용'\n",
      "Processing : 법령별2트/인신매매등방지 및 피해자보호 등에 관한 법률.csv\n",
      "Error processing file 인신매매등방지 및 피해자보호 등에 관한 법률.csv: '조문내용'\n",
      "Processing : 법령별2트/인적자원개발 기본법.csv\n",
      "Error processing file 인적자원개발 기본법.csv: '조문내용'\n",
      "Processing : 법령별2트/인지세법.csv\n",
      "Error processing file 인지세법.csv: '조문내용'\n",
      "Processing : 법령별2트/인체적용제품의 위해성평가에 관한 법률.csv\n",
      "Error processing file 인체적용제품의 위해성평가에 관한 법률.csv: '조문내용'\n",
      "Processing : 법령별2트/인체조직안전 및 관리 등에 관한 법률.csv\n",
      "Error processing file 인체조직안전 및 관리 등에 관한 법률.csv: '조문내용'\n",
      "Processing : 법령별2트/인터넷 멀티미디어 방송사업법.csv\n",
      "Error processing file 인터넷 멀티미디어 방송사업법.csv: '조문내용'\n",
      "Processing : 법령별2트/인터넷전문은행 설립 및 운영에 관한 특례법.csv\n",
      "Error processing file 인터넷전문은행 설립 및 운영에 관한 특례법.csv: '조문내용'\n",
      "Processing : 법령별2트/인터넷주소자원에 관한 법률.csv\n",
      "Error processing file 인터넷주소자원에 관한 법률.csv: '조문내용'\n",
      "Processing : 법령별2트/일제강점하 반민족행위 진상규명에 관한 특별법.csv\n",
      "Error processing file 일제강점하 반민족행위 진상규명에 관한 특별법.csv: '조문내용'\n",
      "Processing : 법령별2트/일제하 일본군위안부 피해자에 대한 보호ㆍ지원 및 기념사업 등에 관한 법률.csv\n",
      "Error processing file 일제하 일본군위안부 피해자에 대한 보호ㆍ지원 및 기념사업 등에 관한 법률.csv: '조문내용'\n",
      "Processing : 법령별2트/임금채권보장법.csv\n",
      "Error processing file 임금채권보장법.csv: '조문내용'\n",
      "Processing : 법령별2트/임업 및 산촌 진흥촉진에 관한 법률.csv\n",
      "Error processing file 임업 및 산촌 진흥촉진에 관한 법률.csv: '조문내용'\n",
      "Processing : 법령별2트/임업ㆍ산림 공익기능 증진을 위한 직접지불제도 운영에 관한 법률.csv\n",
      "Error processing file 임업ㆍ산림 공익기능 증진을 위한 직접지불제도 운영에 관한 법률.csv: '조문내용'\n",
      "Processing : 법령별2트/임용결격공무원 등에 대한 퇴직보상금지급 등에 관한 특례법.csv\n",
      "Error processing file 임용결격공무원 등에 대한 퇴직보상금지급 등에 관한 특례법.csv: '조문내용'\n",
      "Processing : 법령별2트/입양특례법.csv\n",
      "Error processing file 입양특례법.csv: '조문내용'\n",
      "Processing : 법령별2트/자격기본법.csv\n",
      "Error processing file 자격기본법.csv: '조문내용'\n",
      "Processing : 법령별2트/자동차관리법.csv\n",
      "Error processing file 자동차관리법.csv: '조문내용'\n",
      "Processing : 법령별2트/자동차 등 특정동산 저당법.csv\n",
      "Error processing file 자동차 등 특정동산 저당법.csv: '조문내용'\n",
      "Processing : 법령별2트/자동차손해배상 보장법.csv\n",
      "Error processing file 자동차손해배상 보장법.csv: '조문내용'\n",
      "Processing : 법령별2트/자산유동화에 관한 법률.csv\n",
      "Error processing file 자산유동화에 관한 법률.csv: '조문내용'\n",
      "Processing : 법령별2트/자산재평가법.csv\n",
      "Error processing file 자산재평가법.csv: '조문내용'\n",
      "Processing : 법령별2트/자살예방 및 생명존중문화 조성을 위한 법률.csv\n",
      "Error processing file 자살예방 및 생명존중문화 조성을 위한 법률.csv: '조문내용'\n",
      "Processing : 법령별2트/자연공원법.csv\n",
      "Error processing file 자연공원법.csv: '조문내용'\n",
      "Processing : 법령별2트/자연유산의 보존 및 활용에 관한 법률.csv\n",
      "Error processing file 자연유산의 보존 및 활용에 관한 법률.csv: '조문내용'\n",
      "Processing : 법령별2트/자연재해대책법.csv\n",
      "Error processing file 자연재해대책법.csv: '조문내용'\n",
      "Processing : 법령별2트/자연환경보전법.csv\n",
      "Error processing file 자연환경보전법.csv: '조문내용'\n",
      "Processing : 법령별2트/자원봉사활동 기본법.csv\n",
      "Error processing file 자원봉사활동 기본법.csv: '조문내용'\n",
      "Processing : 법령별2트/자원의 절약과 재활용촉진에 관한 법률.csv\n",
      "Error processing file 자원의 절약과 재활용촉진에 관한 법률.csv: '조문내용'\n",
      "Processing : 법령별2트/자유무역지역의 지정 및 운영에 관한 법률.csv\n",
      "Error processing file 자유무역지역의 지정 및 운영에 관한 법률.csv: '조문내용'\n",
      "Processing : 법령별2트/자유무역협정의 이행을 위한 관세법의 특례에 관한 법률.csv\n",
      "Error processing file 자유무역협정의 이행을 위한 관세법의 특례에 관한 법률.csv: '조문내용'\n",
      "Processing : 법령별2트/자유무역협정 체결에 따른 농어업인 등의 지원에 관한 특별법.csv\n",
      "Error processing file 자유무역협정 체결에 따른 농어업인 등의 지원에 관한 특별법.csv: '조문내용'\n",
      "Processing : 법령별2트/자율관리어업 육성 및 지원에 관한 법률.csv\n",
      "Error processing file 자율관리어업 육성 및 지원에 관한 법률.csv: '조문내용'\n",
      "Processing : 법령별2트/자율방범대 설치 및 운영에 관한 법률.csv\n",
      "Error processing file 자율방범대 설치 및 운영에 관한 법률.csv: '조문내용'\n",
      "Processing : 법령별2트/자율주행자동차 상용화 촉진 및 지원에 관한 법률.csv\n",
      "Error processing file 자율주행자동차 상용화 촉진 및 지원에 관한 법률.csv: '조문내용'\n",
      "Processing : 법령별2트/자전거 이용 활성화에 관한 법률.csv\n",
      "Error processing file 자전거 이용 활성화에 관한 법률.csv: '조문내용'\n",
      "Processing : 법령별2트/작은도서관 진흥법.csv\n",
      "Error processing file 작은도서관 진흥법.csv: '조문내용'\n",
      "Processing : 법령별2트/잔류성오염물질 관리법.csv\n",
      "Error processing file 잔류성오염물질 관리법.csv: '조문내용'\n",
      "Processing : 법령별2트/잡지 등 정기간행물의 진흥에 관한 법률.csv\n",
      "Error processing file 잡지 등 정기간행물의 진흥에 관한 법률.csv: '조문내용'\n",
      "Processing : 법령별2트/장기공공임대주택 입주자 삶의 질 향상 지원법.csv\n",
      "Error processing file 장기공공임대주택 입주자 삶의 질 향상 지원법.csv: '조문내용'\n",
      "Processing : 법령별2트/장기등 이식에 관한 법률.csv\n",
      "Error processing file 장기등 이식에 관한 법률.csv: '조문내용'\n",
      "Processing : 법령별2트/장사 등에 관한 법률.csv\n",
      "Error processing file 장사 등에 관한 법률.csv: '조문내용'\n",
      "Processing : 법령별2트/장애아동 복지지원법.csv\n",
      "Error processing file 장애아동 복지지원법.csv: '조문내용'\n",
      "Processing : 법령별2트/장애예술인 문화예술 활동 지원에 관한 법률.csv\n",
      "Error processing file 장애예술인 문화예술 활동 지원에 관한 법률.csv: '조문내용'\n",
      "Processing : 법령별2트/장애인 건강권 및 의료접근성 보장에 관한 법률.csv\n",
      "Error processing file 장애인 건강권 및 의료접근성 보장에 관한 법률.csv: '조문내용'\n",
      "Processing : 법령별2트/장애인ㆍ고령자 등 주거약자 지원에 관한 법률.csv\n",
      "Error processing file 장애인ㆍ고령자 등 주거약자 지원에 관한 법률.csv: '조문내용'\n",
      "Processing : 법령별2트/장애인고용촉진 및 직업재활법.csv\n",
      "Error processing file 장애인고용촉진 및 직업재활법.csv: '조문내용'\n",
      "Processing : 법령별2트/장애인기업활동 촉진법.csv\n",
      "Error processing file 장애인기업활동 촉진법.csv: '조문내용'\n",
      "Processing : 법령별2트/장애인ㆍ노인 등을 위한 보조기기 지원 및 활용촉진에 관한 법률.csv\n",
      "Error processing file 장애인ㆍ노인 등을 위한 보조기기 지원 및 활용촉진에 관한 법률.csv: '조문내용'\n",
      "Processing : 법령별2트/장애인ㆍ노인ㆍ임산부 등의 편의증진 보장에 관한 법률.csv\n",
      "Error processing file 장애인ㆍ노인ㆍ임산부 등의 편의증진 보장에 관한 법률.csv: '조문내용'\n",
      "Processing : 법령별2트/장애인 등에 대한 특수교육법.csv\n",
      "Error processing file 장애인 등에 대한 특수교육법.csv: '조문내용'\n",
      "Processing : 법령별2트/장애인연금법.csv\n",
      "Error processing file 장애인연금법.csv: '조문내용'\n",
      "Processing : 법령별2트/장애인차별금지 및 권리구제 등에 관한 법률.csv\n",
      "Error processing file 장애인차별금지 및 권리구제 등에 관한 법률.csv: '조문내용'\n",
      "Processing : 법령별2트/장애인활동 지원에 관한 법률.csv\n",
      "Error processing file 장애인활동 지원에 관한 법률.csv: '조문내용'\n",
      "Processing : 법령별2트/재건축초과이익 환수에 관한 법률.csv\n",
      "Error processing file 재건축초과이익 환수에 관한 법률.csv: '조문내용'\n",
      "Processing : 법령별2트/재난관리자원의 관리 등에 관한 법률.csv\n",
      "Error processing file 재난관리자원의 관리 등에 관한 법률.csv: '조문내용'\n",
      "Processing : 법령별2트/재난 및 안전관리 기본법.csv\n",
      "Error processing file 재난 및 안전관리 기본법.csv: '조문내용'\n",
      "Processing : 법령별2트/재난안전산업 진흥법.csv\n",
      "Error processing file 재난안전산업 진흥법.csv: '조문내용'\n",
      "Processing : 법령별2트/재난안전통신망법.csv\n",
      "Error processing file 재난안전통신망법.csv: '조문내용'\n",
      "Processing : 법령별2트/재난적의료비 지원에 관한 법률.csv\n",
      "Error processing file 재난적의료비 지원에 관한 법률.csv: '조문내용'\n",
      "Processing : 법령별2트/재외국민보호를 위한 영사조력법.csv\n",
      "Error processing file 재외국민보호를 위한 영사조력법.csv: '조문내용'\n",
      "Processing : 법령별2트/재외국민의 교육지원 등에 관한 법률.csv\n",
      "Error processing file 재외국민의 교육지원 등에 관한 법률.csv: '조문내용'\n",
      "Processing : 법령별2트/재외동포기본법.csv\n",
      "Error processing file 재외동포기본법.csv: '조문내용'\n",
      "Processing : 법령별2트/재외동포의 출입국과 법적 지위에 관한 법률.csv\n",
      "Error processing file 재외동포의 출입국과 법적 지위에 관한 법률.csv: '조문내용'\n",
      "Processing : 법령별2트/재일교포 북송저지 특수임무수행자 보상에 관한 법률.csv\n",
      "Error processing file 재일교포 북송저지 특수임무수행자 보상에 관한 법률.csv: '조문내용'\n",
      "Processing : 법령별2트/재한외국인 처우 기본법.csv\n",
      "Error processing file 재한외국인 처우 기본법.csv: '조문내용'\n",
      "Processing : 법령별2트/재해경감을 위한 기업의 자율활동 지원에 관한 법률.csv\n",
      "Error processing file 재해경감을 위한 기업의 자율활동 지원에 관한 법률.csv: '조문내용'\n",
      "Processing : 법령별2트/재해구호법.csv\n",
      "Error processing file 재해구호법.csv: '조문내용'\n",
      "Processing : 법령별2트/재해위험 개선사업 및 이주대책에 관한 특별법.csv\n",
      "Error processing file 재해위험 개선사업 및 이주대책에 관한 특별법.csv: '조문내용'\n",
      "Processing : 법령별2트/저수지ㆍ댐의 안전관리 및 재해예방에 관한 법률.csv\n",
      "Error processing file 저수지ㆍ댐의 안전관리 및 재해예방에 관한 법률.csv: '조문내용'\n",
      "Processing : 법령별2트/저작권법.csv\n",
      "Error processing file 저작권법.csv: '조문내용'\n",
      "Processing : 법령별2트/저출산ㆍ고령사회기본법.csv\n",
      "Error processing file 저출산ㆍ고령사회기본법.csv: '조문내용'\n",
      "Processing : 법령별2트/적합성평가 관리 등에 관한 법률.csv\n",
      "Error processing file 적합성평가 관리 등에 관한 법률.csv: '조문내용'\n",
      "Processing : 법령별2트/전공의의 수련환경 개선 및 지위 향상을 위한 법률.csv\n",
      "Error processing file 전공의의 수련환경 개선 및 지위 향상을 위한 법률.csv: '조문내용'\n",
      "Processing : 법령별2트/전기공사공제조합법.csv\n",
      "Error processing file 전기공사공제조합법.csv: '조문내용'\n",
      "Processing : 법령별2트/전기공사업법.csv\n",
      "Error processing file 전기공사업법.csv: '조문내용'\n",
      "Processing : 법령별2트/전기사업법.csv\n",
      "Error processing file 전기사업법.csv: '조문내용'\n",
      "Processing : 법령별2트/전기안전관리법.csv\n",
      "Error processing file 전기안전관리법.csv: '조문내용'\n",
      "Processing : 법령별2트/전기용품 및 생활용품 안전관리법.csv\n",
      "Error processing file 전기용품 및 생활용품 안전관리법.csv: '조문내용'\n",
      "Processing : 법령별2트/전기ㆍ전자제품 및 자동차의 자원순환에 관한 법률.csv\n",
      "Error processing file 전기ㆍ전자제품 및 자동차의 자원순환에 관한 법률.csv: '조문내용'\n",
      "Processing : 법령별2트/전기통신금융사기 피해 방지 및 피해금 환급에 관한 특별법.csv\n",
      "Error processing file 전기통신금융사기 피해 방지 및 피해금 환급에 관한 특별법.csv: '조문내용'\n",
      "Processing : 법령별2트/전기통신기본법.csv\n",
      "Error processing file 전기통신기본법.csv: '조문내용'\n",
      "Processing : 법령별2트/전기통신사업법.csv\n",
      "Error processing file 전기통신사업법.csv: '조문내용'\n",
      "Processing : 법령별2트/전력기술관리법.csv\n",
      "Error processing file 전력기술관리법.csv: '조문내용'\n",
      "Processing : 법령별2트/전사ㆍ순직한 진급예정자의 진급에 관한 특별법.csv\n",
      "Error processing file 전사ㆍ순직한 진급예정자의 진급에 관한 특별법.csv: '조문내용'\n",
      "Processing : 법령별2트/전세사기피해자 지원 및 주거안정에 관한 특별법.csv\n",
      "Error processing file 전세사기피해자 지원 및 주거안정에 관한 특별법.csv: '조문내용'\n",
      "Processing : 법령별2트/전시산업발전법.csv\n",
      "Error processing file 전시산업발전법.csv: '조문내용'\n",
      "Processing : 법령별2트/전원개발촉진법.csv\n",
      "Error processing file 전원개발촉진법.csv: '조문내용'\n",
      "Processing : 법령별2트/전자금융거래법.csv\n",
      "Error processing file 전자금융거래법.csv: '조문내용'\n",
      "Processing : 법령별2트/전자무역 촉진에 관한 법률.csv\n",
      "Error processing file 전자무역 촉진에 관한 법률.csv: '조문내용'\n",
      "Processing : 법령별2트/전자문서 및 전자거래 기본법.csv\n",
      "Error processing file 전자문서 및 전자거래 기본법.csv: '조문내용'\n",
      "Processing : 법령별2트/전자상거래 등에서의 소비자보호에 관한 법률.csv\n",
      "Error processing file 전자상거래 등에서의 소비자보호에 관한 법률.csv: '조문내용'\n",
      "Processing : 법령별2트/전자서명법.csv\n",
      "Error processing file 전자서명법.csv: '조문내용'\n",
      "Processing : 법령별2트/전자어음의 발행 및 유통에 관한 법률.csv\n",
      "Error processing file 전자어음의 발행 및 유통에 관한 법률.csv: '조문내용'\n",
      "Processing : 법령별2트/전자장치 부착 등에 관한 법률.csv\n",
      "Error processing file 전자장치 부착 등에 관한 법률.csv: '조문내용'\n",
      "Processing : 법령별2트/전자정부법.csv\n",
      "Error processing file 전자정부법.csv: '조문내용'\n",
      "Processing : 법령별2트/전자조달의 이용 및 촉진에 관한 법률.csv\n",
      "Error processing file 전자조달의 이용 및 촉진에 관한 법률.csv: '조문내용'\n",
      "Processing : 법령별2트/전직대통령 예우에 관한 법률.csv\n",
      "Error processing file 전직대통령 예우에 관한 법률.csv: '조문내용'\n",
      "Processing : 법령별2트/전통무예진흥법.csv\n",
      "Error processing file 전통무예진흥법.csv: '조문내용'\n",
      "Processing : 법령별2트/전통문화산업 진흥법.csv\n",
      "Error processing file 전통문화산업 진흥법.csv: '조문내용'\n",
      "Processing : 법령별2트/전통사찰의 보존 및 지원에 관한 법률.csv\n",
      "Error processing file 전통사찰의 보존 및 지원에 관한 법률.csv: '조문내용'\n",
      "Processing : 법령별2트/전통 소싸움경기에 관한 법률.csv\n",
      "Error processing file 전통 소싸움경기에 관한 법률.csv: '조문내용'\n",
      "Processing : 법령별2트/전통시장 및 상점가 육성을 위한 특별법.csv\n",
      "Error processing file 전통시장 및 상점가 육성을 위한 특별법.csv: '조문내용'\n",
      "Processing : 법령별2트/전통주 등의 산업진흥에 관한 법률.csv\n",
      "Error processing file 전통주 등의 산업진흥에 관한 법률.csv: '조문내용'\n",
      "Processing : 법령별2트/전파법.csv\n",
      "Error processing file 전파법.csv: '조문내용'\n",
      "Processing : 법령별2트/점자법.csv\n",
      "Error processing file 점자법.csv: '조문내용'\n",
      "Processing : 법령별2트/접경지역 지원 특별법.csv\n",
      "Error processing file 접경지역 지원 특별법.csv: '조문내용'\n",
      "Processing : 법령별2트/정당법.csv\n",
      "Error processing file 정당법.csv: '조문내용'\n",
      "Processing : 법령별2트/정보보호산업의 진흥에 관한 법률.csv\n",
      "Error processing file 정보보호산업의 진흥에 관한 법률.csv: '조문내용'\n",
      "Processing : 법령별2트/정보통신공사업법.csv\n",
      "Error processing file 정보통신공사업법.csv: '조문내용'\n",
      "Processing : 법령별2트/정보통신기반 보호법.csv\n",
      "Error processing file 정보통신기반 보호법.csv: '조문내용'\n",
      "Processing : 법령별2트/정보통신망 이용촉진 및 정보보호 등에 관한 법률.csv\n",
      "Error processing file 정보통신망 이용촉진 및 정보보호 등에 관한 법률.csv: '조문내용'\n",
      "Processing : 법령별2트/정보통신산업 진흥법.csv\n",
      "Error processing file 정보통신산업 진흥법.csv: '조문내용'\n",
      "Processing : 법령별2트/정보통신 진흥 및 융합 활성화 등에 관한 특별법.csv\n",
      "Error processing file 정보통신 진흥 및 융합 활성화 등에 관한 특별법.csv: '조문내용'\n",
      "Processing : 법령별2트/정부기관 및 공공법인 등의 광고시행에 관한 법률.csv\n",
      "Error processing file 정부기관 및 공공법인 등의 광고시행에 관한 법률.csv: '조문내용'\n",
      "Processing : 법령별2트/정부업무평가 기본법.csv\n",
      "Error processing file 정부업무평가 기본법.csv: '조문내용'\n",
      "Processing : 법령별2트/정부출연연구기관 등의 설립ㆍ운영 및 육성에 관한 법률.csv\n",
      "Error processing file 정부출연연구기관 등의 설립ㆍ운영 및 육성에 관한 법률.csv: '조문내용'\n",
      "Processing : 법령별2트/정신건강증진 및 정신질환자 복지서비스 지원에 관한 법률.csv\n",
      "Error processing file 정신건강증진 및 정신질환자 복지서비스 지원에 관한 법률.csv: '조문내용'\n",
      "Processing : 법령별2트/정치자금법.csv\n",
      "Error processing file 정치자금법.csv: '조문내용'\n",
      "Processing : 법령별2트/제2연평해전 전사자 보상에 관한 특별법.csv\n",
      "Error processing file 제2연평해전 전사자 보상에 관한 특별법.csv: '조문내용'\n",
      "Processing : 법령별2트/제대군인지원에 관한 법률.csv\n",
      "Error processing file 제대군인지원에 관한 법률.csv: '조문내용'\n",
      "Processing : 법령별2트/제대혈 관리 및 연구에 관한 법률.csv\n",
      "Error processing file 제대혈 관리 및 연구에 관한 법률.csv: '조문내용'\n",
      "Processing : 법령별2트/제약산업 육성 및 지원에 관한 특별법.csv\n",
      "Error processing file 제약산업 육성 및 지원에 관한 특별법.csv: '조문내용'\n",
      "Processing : 법령별2트/제조물 책임법.csv\n",
      "Error processing file 제조물 책임법.csv: '조문내용'\n",
      "Processing : 법령별2트/제주4ㆍ3사건 진상규명 및 희생자 명예회복에 관한 특별법.csv\n",
      "Error processing file 제주4ㆍ3사건 진상규명 및 희생자 명예회복에 관한 특별법.csv: '조문내용'\n",
      "Processing : 법령별2트/제주특별자치도 설치 및 국제자유도시 조성을 위한 특별법.csv\n",
      "Error processing file 제주특별자치도 설치 및 국제자유도시 조성을 위한 특별법.csv: '조문내용'\n",
      "Processing : 법령별2트/제품안전기본법.csv\n",
      "Error processing file 제품안전기본법.csv: '조문내용'\n",
      "Processing : 법령별2트/조경진흥법.csv\n",
      "Error processing file 조경진흥법.csv: '조문내용'\n",
      "Processing : 법령별2트/조달사업에 관한 법률.csv\n",
      "Error processing file 조달사업에 관한 법률.csv: '조문내용'\n",
      "Processing : 법령별2트/조세범 처벌법.csv\n",
      "Error processing file 조세범 처벌법.csv: '조문내용'\n",
      "Processing : 법령별2트/조세범 처벌절차법.csv\n",
      "Error processing file 조세범 처벌절차법.csv: '조문내용'\n",
      "Error processing file 조세특례제한법.csv: Error tokenizing data. C error: Expected 1 fields in line 11, saw 6\n",
      "\n",
      "Processing : 법령별2트/종자산업법.csv\n",
      "Error processing file 종자산업법.csv: '조문내용'\n",
      "Processing : 법령별2트/종합부동산세법.csv\n",
      "Error processing file 종합부동산세법.csv: '조문내용'\n",
      "Processing : 법령별2트/주거급여법.csv\n",
      "Error processing file 주거급여법.csv: '조문내용'\n",
      "Processing : 법령별2트/주류 면허 등에 관한 법률.csv\n",
      "Error processing file 주류 면허 등에 관한 법률.csv: '조문내용'\n",
      "Processing : 법령별2트/주세법.csv\n",
      "Error processing file 주세법.csv: '조문내용'\n",
      "Processing : 법령별2트/주식ㆍ사채 등의 전자등록에 관한 법률.csv\n",
      "Error processing file 주식ㆍ사채 등의 전자등록에 관한 법률.csv: '조문내용'\n",
      "Processing : 법령별2트/주식회사 등의 외부감사에 관한 법률.csv\n",
      "Error processing file 주식회사 등의 외부감사에 관한 법률.csv: '조문내용'\n",
      "Processing : 법령별2트/주차장법.csv\n",
      "Error processing file 주차장법.csv: '조문내용'\n",
      "Processing : 법령별2트/주택도시기금법.csv\n",
      "Error processing file 주택도시기금법.csv: '조문내용'\n",
      "Error processing file 주택법.csv: Error tokenizing data. C error: Expected 1 fields in line 20, saw 7\n",
      "\n",
      "Processing : 법령별2트/주한미군 공여구역주변지역 등 지원 특별법.csv\n",
      "Error processing file 주한미군 공여구역주변지역 등 지원 특별법.csv: '조문내용'\n",
      "Processing : 법령별2트/주한미군기지 이전에 따른 평택시 등의 지원 등에 관한 특별법.csv\n",
      "Error processing file 주한미군기지 이전에 따른 평택시 등의 지원 등에 관한 특별법.csv: '조문내용'\n",
      "Processing : 법령별2트/주한미군 소속 한국인 근로자의 지원을 위한 특별법.csv\n",
      "Error processing file 주한미군 소속 한국인 근로자의 지원을 위한 특별법.csv: '조문내용'\n",
      "Processing : 법령별2트/중견기업 성장촉진 및 경쟁력 강화에 관한 특별법.csv\n",
      "Error processing file 중견기업 성장촉진 및 경쟁력 강화에 관한 특별법.csv: '조문내용'\n",
      "Processing : 법령별2트/중대재해 처벌 등에 관한 법률.csv\n",
      "Error processing file 중대재해 처벌 등에 관한 법률.csv: '조문내용'\n",
      "Processing : 법령별2트/중부내륙연계발전지역 지원에 관한 특별법.csv\n",
      "Error processing file 중부내륙연계발전지역 지원에 관한 특별법.csv: '조문내용'\n",
      "Processing : 법령별2트/중소기업기술 보호 지원에 관한 법률.csv\n",
      "Error processing file 중소기업기술 보호 지원에 관한 법률.csv: '조문내용'\n",
      "Processing : 법령별2트/중소기업 기술혁신 촉진법.csv\n",
      "Error processing file 중소기업 기술혁신 촉진법.csv: '조문내용'\n",
      "Processing : 법령별2트/중소기업 사업전환 촉진에 관한 특별법.csv\n",
      "Error processing file 중소기업 사업전환 촉진에 관한 특별법.csv: '조문내용'\n",
      "Processing : 법령별2트/중소기업 스마트제조혁신 촉진에 관한 법률.csv\n",
      "Error processing file 중소기업 스마트제조혁신 촉진에 관한 법률.csv: '조문내용'\n",
      "Processing : 법령별2트/중소기업은행법.csv\n",
      "Error processing file 중소기업은행법.csv: '조문내용'\n",
      "Processing : 법령별2트/중소기업 인력지원 특별법.csv\n",
      "Error processing file 중소기업 인력지원 특별법.csv: '조문내용'\n",
      "Processing : 법령별2트/중소기업제품 구매촉진 및 판로지원에 관한 법률.csv\n",
      "Error processing file 중소기업제품 구매촉진 및 판로지원에 관한 법률.csv: '조문내용'\n",
      "Processing : 법령별2트/중소기업진흥에 관한 법률.csv\n",
      "Error processing file 중소기업진흥에 관한 법률.csv: '조문내용'\n",
      "Processing : 법령별2트/중소기업창업 지원법.csv\n",
      "Error processing file 중소기업창업 지원법.csv: '조문내용'\n",
      "Processing : 법령별2트/중소기업협동조합법.csv\n",
      "Error processing file 중소기업협동조합법.csv: '조문내용'\n",
      "Processing : 법령별2트/중재법.csv\n",
      "Error processing file 중재법.csv: '조문내용'\n",
      "Processing : 법령별2트/중ㆍ저준위 방사성폐기물 처분시설의 유치지역지원에 관한 특별법.csv\n",
      "Error processing file 중ㆍ저준위 방사성폐기물 처분시설의 유치지역지원에 관한 특별법.csv: '조문내용'\n",
      "Processing : 법령별2트/중증장애인생산품 우선구매 특별법.csv\n",
      "Error processing file 중증장애인생산품 우선구매 특별법.csv: '조문내용'\n",
      "Error processing file 증권거래세법.csv: Error tokenizing data. C error: Expected 1 fields in line 3, saw 3\n",
      "\n",
      "Processing : 법령별2트/증권관련 집단소송법.csv\n",
      "Error processing file 증권관련 집단소송법.csv: '조문내용'\n",
      "Processing : 법령별2트/지능정보화 기본법.csv\n",
      "Error processing file 지능정보화 기본법.csv: '조문내용'\n",
      "Processing : 법령별2트/지능형 로봇 개발 및 보급 촉진법.csv\n",
      "Error processing file 지능형 로봇 개발 및 보급 촉진법.csv: '조문내용'\n",
      "Processing : 법령별2트/지능형전력망의 구축 및 이용촉진에 관한 법률.csv\n",
      "Error processing file 지능형전력망의 구축 및 이용촉진에 관한 법률.csv: '조문내용'\n",
      "Processing : 법령별2트/지능형 해상교통정보서비스의 제공 및 이용 활성화에 관한 법률.csv\n",
      "Error processing file 지능형 해상교통정보서비스의 제공 및 이용 활성화에 관한 법률.csv: '조문내용'\n",
      "Processing : 법령별2트/지뢰 등 특정 재래식무기 사용 및 이전의 규제에 관한 법률.csv\n",
      "Error processing file 지뢰 등 특정 재래식무기 사용 및 이전의 규제에 관한 법률.csv: '조문내용'\n",
      "Processing : 법령별2트/지뢰피해자 지원에 관한 특별법.csv\n",
      "Error processing file 지뢰피해자 지원에 관한 특별법.csv: '조문내용'\n",
      "Processing : 법령별2트/지방공무원법.csv\n",
      "Error processing file 지방공무원법.csv: '조문내용'\n",
      "Processing : 법령별2트/지방교부세법.csv\n",
      "Error processing file 지방교부세법.csv: '조문내용'\n",
      "Processing : 법령별2트/지방교육재정교부금법.csv\n",
      "Error processing file 지방교육재정교부금법.csv: '조문내용'\n",
      "Processing : 법령별2트/지방대학 및 지역균형인재 육성에 관한 법률.csv\n",
      "Error processing file 지방대학 및 지역균형인재 육성에 관한 법률.csv: '조문내용'\n",
      "Processing : 법령별2트/지방문화원진흥법.csv\n",
      "Error processing file 지방문화원진흥법.csv: '조문내용'\n",
      "Processing : 법령별2트/지방세기본법.csv\n",
      "Error processing file 지방세기본법.csv: '조문내용'\n",
      "Processing : 법령별2트/지방세법.csv\n",
      "Error processing file 지방세법.csv: '조문내용'\n",
      "Processing : 법령별2트/지방세징수법.csv\n",
      "Error processing file 지방세징수법.csv: '조문내용'\n",
      "Processing : 법령별2트/지방세특례제한법.csv\n",
      "Error processing file 지방세특례제한법.csv: '조문내용'\n",
      "Processing : 법령별2트/지방의료원의 설립 및 운영에 관한 법률.csv\n",
      "Error processing file 지방의료원의 설립 및 운영에 관한 법률.csv: '조문내용'\n",
      "Processing : 법령별2트/지방자치단체 기금관리기본법.csv\n",
      "Error processing file 지방자치단체 기금관리기본법.csv: '조문내용'\n",
      "Processing : 법령별2트/지방자치단체 보조금 관리에 관한 법률.csv\n",
      "Error processing file 지방자치단체 보조금 관리에 관한 법률.csv: '조문내용'\n",
      "Processing : 법령별2트/지방자치단체출연 연구원의 설립 및 운영에 관한 법률.csv\n",
      "Error processing file 지방자치단체출연 연구원의 설립 및 운영에 관한 법률.csv: '조문내용'\n",
      "Processing : 법령별2트/지방자치분권 및 지역균형발전에 관한 특별법.csv\n",
      "Error processing file 지방자치분권 및 지역균형발전에 관한 특별법.csv: '조문내용'\n",
      "Processing : 법령별2트/지방재정법.csv\n",
      "Error processing file 지방재정법.csv: '조문내용'\n",
      "Processing : 법령별2트/지방행정제재ㆍ부과금의 징수 등에 관한 법률.csv\n",
      "Error processing file 지방행정제재ㆍ부과금의 징수 등에 관한 법률.csv: '조문내용'\n",
      "Processing : 법령별2트/지방회계법.csv\n",
      "Error processing file 지방회계법.csv: '조문내용'\n",
      "Processing : 법령별2트/지속가능 교통물류 발전법.csv\n",
      "Error processing file 지속가능 교통물류 발전법.csv: '조문내용'\n",
      "Processing : 법령별2트/지속가능발전 기본법.csv\n",
      "Error processing file 지속가능발전 기본법.csv: '조문내용'\n",
      "Processing : 법령별2트/지속가능한 기반시설 관리 기본법.csv\n",
      "Error processing file 지속가능한 기반시설 관리 기본법.csv: '조문내용'\n",
      "Processing : 법령별2트/지식재산 기본법.csv\n",
      "Error processing file 지식재산 기본법.csv: '조문내용'\n",
      "Processing : 법령별2트/지역 개발 및 지원에 관한 법률.csv\n",
      "Error processing file 지역 개발 및 지원에 관한 법률.csv: '조문내용'\n",
      "Processing : 법령별2트/지역농림어업 발전사업 협력 촉진에 관한 법률.csv\n",
      "Error processing file 지역농림어업 발전사업 협력 촉진에 관한 법률.csv: '조문내용'\n",
      "Processing : 법령별2트/지역농산물 이용촉진 등 농산물 직거래 활성화에 관한 법률.csv\n",
      "Error processing file 지역농산물 이용촉진 등 농산물 직거래 활성화에 관한 법률.csv: '조문내용'\n",
      "Processing : 법령별2트/지역문화진흥법.csv\n",
      "Error processing file 지역문화진흥법.csv: '조문내용'\n",
      "Processing : 법령별2트/지역방송발전지원 특별법.csv\n",
      "Error processing file 지역방송발전지원 특별법.csv: '조문내용'\n",
      "Processing : 법령별2트/지역보건법.csv\n",
      "Error processing file 지역보건법.csv: '조문내용'\n",
      "Processing : 법령별2트/지역사랑상품권 이용 활성화에 관한 법률.csv\n",
      "Error processing file 지역사랑상품권 이용 활성화에 관한 법률.csv: '조문내용'\n",
      "Processing : 법령별2트/지역 산업위기 대응 및 지역경제 회복을 위한 특별법.csv\n",
      "Error processing file 지역 산업위기 대응 및 지역경제 회복을 위한 특별법.csv: '조문내용'\n",
      "Processing : 법령별2트/지역상권 상생 및 활성화에 관한 법률.csv\n",
      "Error processing file 지역상권 상생 및 활성화에 관한 법률.csv: '조문내용'\n",
      "Processing : 법령별2트/지역신문발전지원 특별법.csv\n",
      "Error processing file 지역신문발전지원 특별법.csv: '조문내용'\n",
      "Processing : 법령별2트/지역신용보증재단법.csv\n",
      "Error processing file 지역신용보증재단법.csv: '조문내용'\n",
      "Processing : 법령별2트/지역중소기업 육성 및 혁신촉진 등에 관한 법률.csv\n",
      "Error processing file 지역중소기업 육성 및 혁신촉진 등에 관한 법률.csv: '조문내용'\n",
      "Processing : 법령별2트/지역특화작목 연구개발 및 육성에 관한 법률.csv\n",
      "Error processing file 지역특화작목 연구개발 및 육성에 관한 법률.csv: '조문내용'\n",
      "Processing : 법령별2트/지적재조사에 관한 특별법.csv\n",
      "Error processing file 지적재조사에 관한 특별법.csv: '조문내용'\n",
      "Processing : 법령별2트/지진ㆍ지진해일ㆍ화산의 관측 및 경보에 관한 법률.csv\n",
      "Error processing file 지진ㆍ지진해일ㆍ화산의 관측 및 경보에 관한 법률.csv: '조문내용'\n",
      "Processing : 법령별2트/지진ㆍ화산재해대책법.csv\n",
      "Error processing file 지진ㆍ화산재해대책법.csv: '조문내용'\n",
      "Processing : 법령별2트/지하수법.csv\n",
      "Error processing file 지하수법.csv: '조문내용'\n",
      "Processing : 법령별2트/지하안전관리에 관한 특별법.csv\n",
      "Error processing file 지하안전관리에 관한 특별법.csv: '조문내용'\n",
      "Processing : 법령별2트/직업교육훈련 촉진법.csv\n",
      "Error processing file 직업교육훈련 촉진법.csv: '조문내용'\n",
      "Error processing file 직업안정법.csv: Error tokenizing data. C error: Expected 1 fields in line 3, saw 3\n",
      "\n",
      "Processing : 법령별2트/진로교육법.csv\n",
      "Error processing file 진로교육법.csv: '조문내용'\n",
      "Processing : 법령별2트/진폐의 예방과 진폐근로자의 보호 등에 관한 법률.csv\n",
      "Error processing file 진폐의 예방과 진폐근로자의 보호 등에 관한 법률.csv: '조문내용'\n",
      "Processing : 법령별2트/질서위반행위규제법.csv\n",
      "Error processing file 질서위반행위규제법.csv: '조문내용'\n",
      "Processing : 법령별2트/집단에너지사업법.csv\n",
      "Error processing file 집단에너지사업법.csv: '조문내용'\n",
      "Processing : 법령별2트/집합건물의 소유 및 관리에 관한 법률.csv\n",
      "Error processing file 집합건물의 소유 및 관리에 관한 법률.csv: '조문내용'\n",
      "Processing : 법령별2트/집회 및 시위에 관한 법률.csv\n",
      "Error processing file 집회 및 시위에 관한 법률.csv: '조문내용'\n",
      "Processing : 법령별2트/징발법.csv\n",
      "Error processing file 징발법.csv: '조문내용'\n",
      "Processing : 법령별2트/차산업 발전 및 차문화 진흥에 관한 법률.csv\n",
      "Error processing file 차산업 발전 및 차문화 진흥에 관한 법률.csv: '조문내용'\n",
      "Processing : 법령별2트/참전유공자 예우 및 단체설립에 관한 법률.csv\n",
      "Error processing file 참전유공자 예우 및 단체설립에 관한 법률.csv: '조문내용'\n",
      "Processing : 법령별2트/채권의 공정한 추심에 관한 법률.csv\n",
      "Error processing file 채권의 공정한 추심에 관한 법률.csv: '조문내용'\n",
      "Processing : 법령별2트/채무자 회생 및 파산에 관한 법률.csv\n",
      "Error processing file 채무자 회생 및 파산에 관한 법률.csv: '조문내용'\n",
      "Processing : 법령별2트/채용절차의 공정화에 관한 법률.csv\n",
      "Error processing file 채용절차의 공정화에 관한 법률.csv: '조문내용'\n",
      "Processing : 법령별2트/책임운영기관의 설치ㆍ운영에 관한 법률.csv\n",
      "Error processing file 책임운영기관의 설치ㆍ운영에 관한 법률.csv: '조문내용'\n",
      "Processing : 법령별2트/천문법.csv\n",
      "Error processing file 천문법.csv: '조문내용'\n",
      "Processing : 법령별2트/철도물류산업의 육성 및 지원에 관한 법률.csv\n",
      "Error processing file 철도물류산업의 육성 및 지원에 관한 법률.csv: '조문내용'\n",
      "Processing : 법령별2트/철도사업법.csv\n",
      "Error processing file 철도사업법.csv: '조문내용'\n",
      "Processing : 법령별2트/철도산업발전기본법.csv\n",
      "Error processing file 철도산업발전기본법.csv: '조문내용'\n",
      "Processing : 법령별2트/철도안전법.csv\n",
      "Error processing file 철도안전법.csv: '조문내용'\n",
      "Processing : 법령별2트/철도의 건설 및 철도시설 유지관리에 관한 법률.csv\n",
      "Error processing file 철도의 건설 및 철도시설 유지관리에 관한 법률.csv: '조문내용'\n",
      "Error processing file 첨단의료복합단지 육성에 관한 특별법.csv: Error tokenizing data. C error: Expected 1 fields in line 10, saw 7\n",
      "\n",
      "Processing : 법령별2트/첨단재생의료 및 첨단바이오의약품 안전 및 지원에 관한 법률.csv\n",
      "Error processing file 첨단재생의료 및 첨단바이오의약품 안전 및 지원에 관한 법률.csv: '조문내용'\n",
      "Processing : 법령별2트/청년고용촉진 특별법.csv\n",
      "Error processing file 청년고용촉진 특별법.csv: '조문내용'\n",
      "Processing : 법령별2트/청년기본법.csv\n",
      "Error processing file 청년기본법.csv: '조문내용'\n",
      "Processing : 법령별2트/청소년 기본법.csv\n",
      "Error processing file 청소년 기본법.csv: '조문내용'\n",
      "Error processing file 청소년 보호법.csv: Error tokenizing data. C error: Expected 1 fields in line 20, saw 7\n",
      "\n",
      "Processing : 법령별2트/청소년복지 지원법.csv\n",
      "Error processing file 청소년복지 지원법.csv: '조문내용'\n",
      "Processing : 법령별2트/청소년활동 진흥법.csv\n",
      "Error processing file 청소년활동 진흥법.csv: '조문내용'\n",
      "Processing : 법령별2트/청원경찰법.csv\n",
      "Error processing file 청원경찰법.csv: '조문내용'\n",
      "Processing : 법령별2트/체외진단의료기기법.csv\n",
      "Error processing file 체외진단의료기기법.csv: '조문내용'\n",
      "Processing : 법령별2트/체육시설의 설치ㆍ이용에 관한 법률.csv\n",
      "Error processing file 체육시설의 설치ㆍ이용에 관한 법률.csv: '조문내용'\n",
      "Processing : 법령별2트/체육인 복지법.csv\n",
      "Error processing file 체육인 복지법.csv: '조문내용'\n",
      "Processing : 법령별2트/초고층 및 지하연계 복합건축물 재난관리에 관한 특별법.csv\n",
      "Error processing file 초고층 및 지하연계 복합건축물 재난관리에 관한 특별법.csv: '조문내용'\n",
      "Processing : 법령별2트/초지법.csv\n",
      "Error processing file 초지법.csv: '조문내용'\n",
      "Processing : 법령별2트/총포ㆍ도검ㆍ화약류 등의 안전관리에 관한 법률.csv\n",
      "Error processing file 총포ㆍ도검ㆍ화약류 등의 안전관리에 관한 법률.csv: '조문내용'\n",
      "Processing : 법령별2트/최저임금법.csv\n",
      "Error processing file 최저임금법.csv: '조문내용'\n",
      "Processing : 법령별2트/축사의 부동산등기에 관한 특례법.csv\n",
      "Error processing file 축사의 부동산등기에 관한 특례법.csv: '조문내용'\n",
      "Processing : 법령별2트/축산계열화사업에 관한 법률.csv\n",
      "Error processing file 축산계열화사업에 관한 법률.csv: '조문내용'\n",
      "Processing : 법령별2트/축산물 위생관리법.csv\n",
      "Error processing file 축산물 위생관리법.csv: '조문내용'\n",
      "Processing : 법령별2트/축산법.csv\n",
      "Error processing file 축산법.csv: '조문내용'\n",
      "Processing : 법령별2트/축산자조금의 조성 및 운용에 관한 법률.csv\n",
      "Error processing file 축산자조금의 조성 및 운용에 관한 법률.csv: '조문내용'\n",
      "Processing : 법령별2트/출입국관리법.csv\n",
      "Error processing file 출입국관리법.csv: '조문내용'\n",
      "Processing : 법령별2트/출판문화산업 진흥법.csv\n",
      "Error processing file 출판문화산업 진흥법.csv: '조문내용'\n",
      "Processing : 법령별2트/취업 후 학자금 상환 특별법.csv\n",
      "Error processing file 취업 후 학자금 상환 특별법.csv: '조문내용'\n",
      "Processing : 법령별2트/치매관리법.csv\n",
      "Error processing file 치매관리법.csv: '조문내용'\n",
      "Processing : 법령별2트/치유농업 연구개발 및 육성에 관한 법률.csv\n",
      "Error processing file 치유농업 연구개발 및 육성에 관한 법률.csv: '조문내용'\n",
      "Processing : 법령별2트/친수구역 활용에 관한 특별법.csv\n",
      "Error processing file 친수구역 활용에 관한 특별법.csv: '조문내용'\n",
      "Processing : 법령별2트/친일반민족행위자 재산의 국가귀속에 관한 특별법.csv\n",
      "Error processing file 친일반민족행위자 재산의 국가귀속에 관한 특별법.csv: '조문내용'\n",
      "Processing : 법령별2트/친환경농어업 육성 및 유기식품 등의 관리ㆍ지원에 관한 법률.csv\n",
      "Error processing file 친환경농어업 육성 및 유기식품 등의 관리ㆍ지원에 관한 법률.csv: '조문내용'\n",
      "Processing : 법령별2트/콘텐츠산업 진흥법.csv\n",
      "Error processing file 콘텐츠산업 진흥법.csv: '조문내용'\n",
      "Processing : 법령별2트/크루즈산업의 육성 및 지원에 관한 법률.csv\n",
      "Error processing file 크루즈산업의 육성 및 지원에 관한 법률.csv: '조문내용'\n",
      "Processing : 법령별2트/클라우드컴퓨팅 발전 및 이용자 보호에 관한 법률.csv\n",
      "Error processing file 클라우드컴퓨팅 발전 및 이용자 보호에 관한 법률.csv: '조문내용'\n",
      "Processing : 법령별2트/탄소소재 융복합기술 개발 및 기반 조성 지원에 관한 법률.csv\n",
      "Error processing file 탄소소재 융복합기술 개발 및 기반 조성 지원에 관한 법률.csv: '조문내용'\n",
      "Processing : 법령별2트/탄소흡수원 유지 및 증진에 관한 법률.csv\n",
      "Error processing file 탄소흡수원 유지 및 증진에 관한 법률.csv: '조문내용'\n",
      "Processing : 법령별2트/태권도 진흥 및 태권도공원 조성 등에 관한 법률.csv\n",
      "Error processing file 태권도 진흥 및 태권도공원 조성 등에 관한 법률.csv: '조문내용'\n",
      "Processing : 법령별2트/택시운송사업의 발전에 관한 법률.csv\n",
      "Error processing file 택시운송사업의 발전에 관한 법률.csv: '조문내용'\n",
      "Processing : 법령별2트/토양환경보전법.csv\n",
      "Error processing file 토양환경보전법.csv: '조문내용'\n",
      "Processing : 법령별2트/토지이용규제 기본법.csv\n",
      "Error processing file 토지이용규제 기본법.csv: '조문내용'\n",
      "Processing : 법령별2트/토지이용 인ㆍ허가 절차 간소화를 위한 특별법.csv\n",
      "Error processing file 토지이용 인ㆍ허가 절차 간소화를 위한 특별법.csv: '조문내용'\n",
      "Processing : 법령별2트/통계법.csv\n",
      "Error processing file 통계법.csv: '조문내용'\n",
      "Processing : 법령별2트/통상조약의 체결절차 및 이행에 관한 법률.csv\n",
      "Error processing file 통상조약의 체결절차 및 이행에 관한 법률.csv: '조문내용'\n",
      "Processing : 법령별2트/통신비밀보호법.csv\n",
      "Error processing file 통신비밀보호법.csv: '조문내용'\n",
      "Processing : 법령별2트/통일교육 지원법.csv\n",
      "Error processing file 통일교육 지원법.csv: '조문내용'\n",
      "Processing : 법령별2트/통합방위법.csv\n",
      "Error processing file 통합방위법.csv: '조문내용'\n",
      "Processing : 법령별2트/특수외국어 교육 진흥에 관한 법률.csv\n",
      "Error processing file 특수외국어 교육 진흥에 관한 법률.csv: '조문내용'\n",
      "Processing : 법령별2트/특수임무수행자 보상에 관한 법률.csv\n",
      "Error processing file 특수임무수행자 보상에 관한 법률.csv: '조문내용'\n",
      "Processing : 법령별2트/특수임무유공자 예우 및 단체설립에 관한 법률.csv\n",
      "Error processing file 특수임무유공자 예우 및 단체설립에 관한 법률.csv: '조문내용'\n",
      "Processing : 법령별2트/특정 금융거래정보의 보고 및 이용 등에 관한 법률.csv\n",
      "Error processing file 특정 금융거래정보의 보고 및 이용 등에 관한 법률.csv: '조문내용'\n",
      "Processing : 법령별2트/특정범죄신고자 등 보호법.csv\n",
      "Error processing file 특정범죄신고자 등 보호법.csv: '조문내용'\n",
      "Processing : 법령별2트/특정중대범죄 피의자 등 신상정보 공개에 관한 법률.csv\n",
      "Error processing file 특정중대범죄 피의자 등 신상정보 공개에 관한 법률.csv: '조문내용'\n",
      "Processing : 법령별2트/특허법.csv\n",
      "Error processing file 특허법.csv: '조문내용'\n",
      "Processing : 법령별2트/파견근로자 보호 등에 관한 법률.csv\n",
      "Error processing file 파견근로자 보호 등에 관한 법률.csv: '조문내용'\n",
      "Processing : 법령별2트/평생교육법.csv\n",
      "Error processing file 평생교육법.csv: '조문내용'\n",
      "Processing : 법령별2트/평화경제특별구역의 지정 및 운영에 관한 법률.csv\n",
      "Error processing file 평화경제특별구역의 지정 및 운영에 관한 법률.csv: '조문내용'\n",
      "Processing : 법령별2트/폐광지역 개발 지원에 관한 특별법.csv\n",
      "Error processing file 폐광지역 개발 지원에 관한 특별법.csv: '조문내용'\n",
      "Processing : 법령별2트/폐교재산의 활용촉진을 위한 특별법.csv\n",
      "Error processing file 폐교재산의 활용촉진을 위한 특별법.csv: '조문내용'\n",
      "Processing : 법령별2트/폐기물관리법.csv\n",
      "Error processing file 폐기물관리법.csv: '조문내용'\n",
      "Processing : 법령별2트/폐기물의 국가 간 이동 및 그 처리에 관한 법률.csv\n",
      "Error processing file 폐기물의 국가 간 이동 및 그 처리에 관한 법률.csv: '조문내용'\n",
      "Error processing file 폐기물처리시설 설치촉진 및 주변지역지원 등에 관한 법률.csv: Error tokenizing data. C error: Expected 1 fields in line 5, saw 7\n",
      "\n",
      "Processing : 법령별2트/포항지진의 진상조사 및 피해구제 등을 위한 특별법.csv\n",
      "Error processing file 포항지진의 진상조사 및 피해구제 등을 위한 특별법.csv: '조문내용'\n",
      "Processing : 법령별2트/표시ㆍ광고의 공정화에 관한 법률.csv\n",
      "Error processing file 표시ㆍ광고의 공정화에 관한 법률.csv: '조문내용'\n",
      "Processing : 법령별2트/풍납토성 보존 및 관리에 관한 특별법.csv\n",
      "Error processing file 풍납토성 보존 및 관리에 관한 특별법.csv: '조문내용'\n",
      "Processing : 법령별2트/풍수해ㆍ지진재해보험법.csv\n",
      "Error processing file 풍수해ㆍ지진재해보험법.csv: '조문내용'\n",
      "Processing : 법령별2트/필수업무 지정 및 종사자 보호ㆍ지원에 관한 법률.csv\n",
      "Error processing file 필수업무 지정 및 종사자 보호ㆍ지원에 관한 법률.csv: '조문내용'\n",
      "Processing : 법령별2트/하도급거래 공정화에 관한 법률.csv\n",
      "Error processing file 하도급거래 공정화에 관한 법률.csv: '조문내용'\n",
      "Processing : 법령별2트/하수도법.csv\n",
      "Error processing file 하수도법.csv: '조문내용'\n",
      "Processing : 법령별2트/하천법.csv\n",
      "Error processing file 하천법.csv: '조문내용'\n",
      "Processing : 법령별2트/학교급식법.csv\n",
      "Error processing file 학교급식법.csv: '조문내용'\n",
      "Processing : 법령별2트/학교도서관진흥법.csv\n",
      "Error processing file 학교도서관진흥법.csv: '조문내용'\n",
      "Processing : 법령별2트/학교 밖 청소년 지원에 관한 법률.csv\n",
      "Error processing file 학교 밖 청소년 지원에 관한 법률.csv: '조문내용'\n",
      "Processing : 법령별2트/학교보건법.csv\n",
      "Error processing file 학교보건법.csv: '조문내용'\n",
      "Processing : 법령별2트/학교복합시설 설치 및 운영ㆍ관리에 관한 법률.csv\n",
      "Error processing file 학교복합시설 설치 및 운영ㆍ관리에 관한 법률.csv: '조문내용'\n",
      "Processing : 법령별2트/학교시설사업 촉진법.csv\n",
      "Error processing file 학교시설사업 촉진법.csv: '조문내용'\n",
      "Processing : 법령별2트/학교안전사고 예방 및 보상에 관한 법률.csv\n",
      "Error processing file 학교안전사고 예방 및 보상에 관한 법률.csv: '조문내용'\n",
      "Processing : 법령별2트/학교용지 확보 등에 관한 특례법.csv\n",
      "Error processing file 학교용지 확보 등에 관한 특례법.csv: '조문내용'\n",
      "Processing : 법령별2트/학교체육 진흥법.csv\n",
      "Error processing file 학교체육 진흥법.csv: '조문내용'\n",
      "Processing : 법령별2트/학교폭력예방 및 대책에 관한 법률.csv\n",
      "Error processing file 학교폭력예방 및 대책에 관한 법률.csv: '조문내용'\n",
      "Processing : 법령별2트/학술진흥법.csv\n",
      "Error processing file 학술진흥법.csv: '조문내용'\n",
      "Processing : 법령별2트/학원의 설립ㆍ운영 및 과외교습에 관한 법률.csv\n",
      "Error processing file 학원의 설립ㆍ운영 및 과외교습에 관한 법률.csv: '조문내용'\n",
      "Processing : 법령별2트/학점인정 등에 관한 법률.csv\n",
      "Error processing file 학점인정 등에 관한 법률.csv: '조문내용'\n",
      "Processing : 법령별2트/한강수계 상수원수질개선 및 주민지원 등에 관한 법률.csv\n",
      "Error processing file 한강수계 상수원수질개선 및 주민지원 등에 관한 법률.csv: '조문내용'\n",
      "Processing : 법령별2트/한국4에이치활동 지원법.csv\n",
      "Error processing file 한국4에이치활동 지원법.csv: '조문내용'\n",
      "Processing : 법령별2트/한국고전번역원법.csv\n",
      "Error processing file 한국고전번역원법.csv: '조문내용'\n",
      "Processing : 법령별2트/한국교육학술정보원법.csv\n",
      "Error processing file 한국교육학술정보원법.csv: '조문내용'\n",
      "Processing : 법령별2트/한국국제보건의료재단법.csv\n",
      "Error processing file 한국국제보건의료재단법.csv: '조문내용'\n",
      "Processing : 법령별2트/한국국제협력단법.csv\n",
      "Error processing file 한국국제협력단법.csv: '조문내용'\n",
      "Processing : 법령별2트/한국농어촌공사 및 농지관리기금법.csv\n",
      "Error processing file 한국농어촌공사 및 농지관리기금법.csv: '조문내용'\n",
      "Processing : 법령별2트/한국마사회법.csv\n",
      "Error processing file 한국마사회법.csv: '조문내용'\n",
      "Processing : 법령별2트/한국사학진흥재단법.csv\n",
      "Error processing file 한국사학진흥재단법.csv: '조문내용'\n",
      "Processing : 법령별2트/한국수화언어법.csv\n",
      "Error processing file 한국수화언어법.csv: '조문내용'\n",
      "Processing : 법령별2트/한국인 원자폭탄 피해자 지원을 위한 특별법.csv\n",
      "Error processing file 한국인 원자폭탄 피해자 지원을 위한 특별법.csv: '조문내용'\n",
      "Processing : 법령별2트/한국자산관리공사 설립 등에 관한 법률.csv\n",
      "Error processing file 한국자산관리공사 설립 등에 관한 법률.csv: '조문내용'\n",
      "Error processing file 한국장학재단 설립 등에 관한 법률.csv: Error tokenizing data. C error: Expected 1 fields in line 3, saw 3\n",
      "\n",
      "Processing : 법령별2트/한국주택금융공사법.csv\n",
      "Error processing file 한국주택금융공사법.csv: '조문내용'\n",
      "Processing : 법령별2트/한국진도개 보호ㆍ육성법.csv\n",
      "Error processing file 한국진도개 보호ㆍ육성법.csv: '조문내용'\n",
      "Processing : 법령별2트/한국투자공사법.csv\n",
      "Error processing file 한국투자공사법.csv: '조문내용'\n",
      "Processing : 법령별2트/한국해양진흥공사법.csv\n",
      "Error processing file 한국해양진흥공사법.csv: '조문내용'\n",
      "Processing : 법령별2트/한부모가족지원법.csv\n",
      "Error processing file 한부모가족지원법.csv: '조문내용'\n",
      "Processing : 법령별2트/한센인피해사건의 진상규명 및 피해자 지원 등에 관한 법률.csv\n",
      "Error processing file 한센인피해사건의 진상규명 및 피해자 지원 등에 관한 법률.csv: '조문내용'\n",
      "Processing : 법령별2트/한식진흥법.csv\n",
      "Error processing file 한식진흥법.csv: '조문내용'\n",
      "Processing : 법령별2트/한ㆍ아프리카재단법.csv\n",
      "Error processing file 한ㆍ아프리카재단법.csv: '조문내용'\n",
      "Processing : 법령별2트/한옥 등 건축자산의 진흥에 관한 법률.csv\n",
      "Error processing file 한옥 등 건축자산의 진흥에 관한 법률.csv: '조문내용'\n",
      "Processing : 법령별2트/한의약 육성법.csv\n",
      "Error processing file 한의약 육성법.csv: '조문내용'\n",
      "Processing : 법령별2트/할부거래에 관한 법률.csv\n",
      "Error processing file 할부거래에 관한 법률.csv: '조문내용'\n",
      "Processing : 법령별2트/항공보안법.csv\n",
      "Error processing file 항공보안법.csv: '조문내용'\n",
      "Error processing file 항공사업법.csv: Error tokenizing data. C error: Expected 1 fields in line 36, saw 7\n",
      "\n",
      "Processing : 법령별2트/항공안전법.csv\n",
      "Error processing file 항공안전법.csv: '조문내용'\n",
      "Processing : 법령별2트/항공우주산업개발 촉진법.csv\n",
      "Error processing file 항공우주산업개발 촉진법.csv: '조문내용'\n",
      "Processing : 법령별2트/항공ㆍ철도 사고조사에 관한 법률.csv\n",
      "Error processing file 항공ㆍ철도 사고조사에 관한 법률.csv: '조문내용'\n",
      "Processing : 법령별2트/항로표지법.csv\n",
      "Error processing file 항로표지법.csv: '조문내용'\n",
      "Error processing file 항만법.csv: Error tokenizing data. C error: Expected 1 fields in line 8, saw 7\n",
      "\n",
      "Processing : 법령별2트/항만안전특별법.csv\n",
      "Error processing file 항만안전특별법.csv: '조문내용'\n",
      "Processing : 법령별2트/항만운송사업법.csv\n",
      "Error processing file 항만운송사업법.csv: '조문내용'\n",
      "Processing : 법령별2트/항만인력공급체제의 개편을 위한 지원특별법.csv\n",
      "Error processing file 항만인력공급체제의 개편을 위한 지원특별법.csv: '조문내용'\n",
      "Processing : 법령별2트/항만 재개발 및 주변지역 발전에 관한 법률.csv\n",
      "Error processing file 항만 재개발 및 주변지역 발전에 관한 법률.csv: '조문내용'\n",
      "Processing : 법령별2트/항만지역등 대기질 개선에 관한 특별법.csv\n",
      "Error processing file 항만지역등 대기질 개선에 관한 특별법.csv: '조문내용'\n",
      "Processing : 법령별2트/해사안전기본법.csv\n",
      "Error processing file 해사안전기본법.csv: '조문내용'\n",
      "Processing : 법령별2트/해상교통안전법.csv\n",
      "Error processing file 해상교통안전법.csv: '조문내용'\n",
      "Error processing file 해수욕장의 이용 및 관리에 관한 법률.csv: Error tokenizing data. C error: Expected 1 fields in line 5, saw 7\n",
      "\n",
      "Processing : 법령별2트/해양경비법.csv\n",
      "Error processing file 해양경비법.csv: '조문내용'\n",
      "Processing : 법령별2트/해양경찰장비 도입 및 관리에 관한 법률.csv\n",
      "Error processing file 해양경찰장비 도입 및 관리에 관한 법률.csv: '조문내용'\n",
      "Processing : 법령별2트/해양공간계획 및 관리에 관한 법률.csv\n",
      "Error processing file 해양공간계획 및 관리에 관한 법률.csv: '조문내용'\n",
      "Processing : 법령별2트/해양과학조사법.csv\n",
      "Error processing file 해양과학조사법.csv: '조문내용'\n",
      "Processing : 법령별2트/해양교육 및 해양문화의 활성화에 관한 법률.csv\n",
      "Error processing file 해양교육 및 해양문화의 활성화에 관한 법률.csv: '조문내용'\n",
      "Processing : 법령별2트/해양사고의 조사 및 심판에 관한 법률.csv\n",
      "Error processing file 해양사고의 조사 및 심판에 관한 법률.csv: '조문내용'\n",
      "Processing : 법령별2트/해양산업클러스터의 지정 및 육성 등에 관한 특별법.csv\n",
      "Error processing file 해양산업클러스터의 지정 및 육성 등에 관한 특별법.csv: '조문내용'\n",
      "Processing : 법령별2트/해양생태계의 보전 및 관리에 관한 법률.csv\n",
      "Error processing file 해양생태계의 보전 및 관리에 관한 법률.csv: '조문내용'\n",
      "Processing : 법령별2트/해양수산과학기술 육성법.csv\n",
      "Error processing file 해양수산과학기술 육성법.csv: '조문내용'\n",
      "Processing : 법령별2트/해양수산발전 기본법.csv\n",
      "Error processing file 해양수산발전 기본법.csv: '조문내용'\n",
      "Processing : 법령별2트/해양수산생명자원의 확보ㆍ관리 및 이용 등에 관한 법률.csv\n",
      "Error processing file 해양수산생명자원의 확보ㆍ관리 및 이용 등에 관한 법률.csv: '조문내용'\n",
      "Processing : 법령별2트/해양심층수의 개발 및 관리에 관한 법률.csv\n",
      "Error processing file 해양심층수의 개발 및 관리에 관한 법률.csv: '조문내용'\n",
      "Processing : 법령별2트/해양조사와 해양정보 활용에 관한 법률.csv\n",
      "Error processing file 해양조사와 해양정보 활용에 관한 법률.csv: '조문내용'\n",
      "Processing : 법령별2트/해양치유자원의 관리 및 활용에 관한 법률.csv\n",
      "Error processing file 해양치유자원의 관리 및 활용에 관한 법률.csv: '조문내용'\n",
      "Processing : 법령별2트/해양폐기물 및 해양오염퇴적물 관리법.csv\n",
      "Error processing file 해양폐기물 및 해양오염퇴적물 관리법.csv: '조문내용'\n",
      "Processing : 법령별2트/해양환경관리법.csv\n",
      "Error processing file 해양환경관리법.csv: '조문내용'\n",
      "Processing : 법령별2트/해양환경 보전 및 활용에 관한 법률.csv\n",
      "Error processing file 해양환경 보전 및 활용에 관한 법률.csv: '조문내용'\n",
      "Processing : 법령별2트/해외건설 촉진법.csv\n",
      "Error processing file 해외건설 촉진법.csv: '조문내용'\n",
      "Processing : 법령별2트/해외긴급구호에 관한 법률.csv\n",
      "Error processing file 해외긴급구호에 관한 법률.csv: '조문내용'\n",
      "Processing : 법령별2트/해외농업ㆍ산림자원 개발협력법.csv\n",
      "Error processing file 해외농업ㆍ산림자원 개발협력법.csv: '조문내용'\n",
      "Processing : 법령별2트/해외이주법.csv\n",
      "Error processing file 해외이주법.csv: '조문내용'\n",
      "Processing : 법령별2트/해외자원개발 사업법.csv\n",
      "Error processing file 해외자원개발 사업법.csv: '조문내용'\n",
      "Processing : 법령별2트/해외진출기업의 국내복귀 지원에 관한 법률.csv\n",
      "Error processing file 해외진출기업의 국내복귀 지원에 관한 법률.csv: '조문내용'\n",
      "Processing : 법령별2트/해운법.csv\n",
      "Error processing file 해운법.csv: '조문내용'\n",
      "Processing : 법령별2트/해저광물자원 개발법.csv\n",
      "Error processing file 해저광물자원 개발법.csv: '조문내용'\n",
      "Processing : 법령별2트/핵융합에너지 개발진흥법.csv\n",
      "Error processing file 핵융합에너지 개발진흥법.csv: '조문내용'\n",
      "Processing : 법령별2트/행정규제기본법.csv\n",
      "Error processing file 행정규제기본법.csv: '조문내용'\n",
      "Error processing file 행정기본법.csv: Error tokenizing data. C error: Expected 1 fields in line 4, saw 7\n",
      "\n",
      "Processing : 법령별2트/행정소송법.csv\n",
      "Error processing file 행정소송법.csv: '조문내용'\n",
      "Processing : 법령별2트/행정심판법.csv\n",
      "Error processing file 행정심판법.csv: '조문내용'\n",
      "Processing : 법령별2트/행정절차법.csv\n",
      "Error processing file 행정절차법.csv: '조문내용'\n",
      "Processing : 법령별2트/행정조사기본법.csv\n",
      "Error processing file 행정조사기본법.csv: '조문내용'\n",
      "Processing : 법령별2트/행정중심복합도시 국립박물관단지 운영 및 지원에 관한 법률.csv\n",
      "Error processing file 행정중심복합도시 국립박물관단지 운영 및 지원에 관한 법률.csv: '조문내용'\n",
      "Processing : 법령별2트/향교재산법.csv\n",
      "Error processing file 향교재산법.csv: '조문내용'\n",
      "Processing : 법령별2트/허베이 스피리트호 유류오염사고 피해주민의 지원 및 해양환경의 복원 등에 관한 특별법.csv\n",
      "Error processing file 허베이 스피리트호 유류오염사고 피해주민의 지원 및 해양환경의 복원 등에 관한 특별법.csv: '조문내용'\n",
      "Processing : 법령별2트/헌정질서 파괴범죄의 공소시효 등에 관한 특례법.csv\n",
      "Error processing file 헌정질서 파괴범죄의 공소시효 등에 관한 특례법.csv: '조문내용'\n",
      "Processing : 법령별2트/헤이그 국제아동탈취협약 이행에 관한 법률.csv\n",
      "Error processing file 헤이그 국제아동탈취협약 이행에 관한 법률.csv: '조문내용'\n",
      "Processing : 법령별2트/혁신도시 조성 및 발전에 관한 특별법.csv\n",
      "Error processing file 혁신도시 조성 및 발전에 관한 특별법.csv: '조문내용'\n",
      "Processing : 법령별2트/혈액관리법.csv\n",
      "Error processing file 혈액관리법.csv: '조문내용'\n",
      "Processing : 법령별2트/협동연구개발촉진법.csv\n",
      "Error processing file 협동연구개발촉진법.csv: '조문내용'\n",
      "Processing : 법령별2트/협동조합 기본법.csv\n",
      "Error processing file 협동조합 기본법.csv: '조문내용'\n",
      "Processing : 법령별2트/형사사법절차 전자화 촉진법.csv\n",
      "Error processing file 형사사법절차 전자화 촉진법.csv: '조문내용'\n",
      "Processing : 법령별2트/형의 실효 등에 관한 법률.csv\n",
      "Error processing file 형의 실효 등에 관한 법률.csv: '조문내용'\n",
      "Processing : 법령별2트/형의 집행 및 수용자의 처우에 관한 법률.csv\n",
      "Error processing file 형의 집행 및 수용자의 처우에 관한 법률.csv: '조문내용'\n",
      "Processing : 법령별2트/호스피스ㆍ완화의료 및 임종과정에 있는 환자의 연명의료결정에 관한 법률.csv\n",
      "Error processing file 호스피스ㆍ완화의료 및 임종과정에 있는 환자의 연명의료결정에 관한 법률.csv: '조문내용'\n",
      "Processing : 법령별2트/화물자동차 운수사업법.csv\n",
      "Error processing file 화물자동차 운수사업법.csv: '조문내용'\n",
      "Processing : 법령별2트/화염병 사용 등의 처벌에 관한 법률.csv\n",
      "Error processing file 화염병 사용 등의 처벌에 관한 법률.csv: '조문내용'\n",
      "Processing : 법령별2트/화장품법.csv\n",
      "Error processing file 화장품법.csv: '조문내용'\n",
      "Processing : 법령별2트/화재로 인한 재해보상과 보험가입에 관한 법률.csv\n",
      "Error processing file 화재로 인한 재해보상과 보험가입에 관한 법률.csv: '조문내용'\n",
      "Processing : 법령별2트/화재의 예방 및 안전관리에 관한 법률.csv\n",
      "Error processing file 화재의 예방 및 안전관리에 관한 법률.csv: '조문내용'\n",
      "Processing : 법령별2트/화학무기ㆍ생물무기의 금지와 특정화학물질ㆍ생물작용제 등의 제조ㆍ수출입 규제 등에 관한 법률.csv\n",
      "Error processing file 화학무기ㆍ생물무기의 금지와 특정화학물질ㆍ생물작용제 등의 제조ㆍ수출입 규제 등에 관한 법률.csv: '조문내용'\n",
      "Processing : 법령별2트/화학물질관리법.csv\n",
      "Error processing file 화학물질관리법.csv: '조문내용'\n",
      "Processing : 법령별2트/화학물질의 등록 및 평가 등에 관한 법률.csv\n",
      "Error processing file 화학물질의 등록 및 평가 등에 관한 법률.csv: '조문내용'\n",
      "Processing : 법령별2트/화훼산업 발전 및 화훼문화 진흥에 관한 법률.csv\n",
      "Error processing file 화훼산업 발전 및 화훼문화 진흥에 관한 법률.csv: '조문내용'\n",
      "Processing : 법령별2트/환경교육의 활성화 및 지원에 관한 법률.csv\n",
      "Error processing file 환경교육의 활성화 및 지원에 관한 법률.csv: '조문내용'\n",
      "Error processing file 환경기술 및 환경산업 지원법.csv: Error tokenizing data. C error: Expected 1 fields in line 4, saw 7\n",
      "\n",
      "Processing : 법령별2트/환경범죄 등의 단속 및 가중처벌에 관한 법률.csv\n",
      "Error processing file 환경범죄 등의 단속 및 가중처벌에 관한 법률.csv: '조문내용'\n",
      "Processing : 법령별2트/환경보건법.csv\n",
      "Error processing file 환경보건법.csv: '조문내용'\n",
      "Processing : 법령별2트/환경분야 시험ㆍ검사 등에 관한 법률.csv\n",
      "Error processing file 환경분야 시험ㆍ검사 등에 관한 법률.csv: '조문내용'\n",
      "Processing : 법령별2트/환경분쟁 조정법.csv\n",
      "Error processing file 환경분쟁 조정법.csv: '조문내용'\n",
      "Processing : 법령별2트/환경영향평가법.csv\n",
      "Error processing file 환경영향평가법.csv: '조문내용'\n",
      "Processing : 법령별2트/환경오염시설의 통합관리에 관한 법률.csv\n",
      "Error processing file 환경오염시설의 통합관리에 관한 법률.csv: '조문내용'\n",
      "Processing : 법령별2트/환경오염피해 배상책임 및 구제에 관한 법률.csv\n",
      "Error processing file 환경오염피해 배상책임 및 구제에 관한 법률.csv: '조문내용'\n",
      "Processing : 법령별2트/환경정책기본법.csv\n",
      "Error processing file 환경정책기본법.csv: '조문내용'\n",
      "Processing : 법령별2트/환경친화적 산업구조로의 전환촉진에 관한 법률.csv\n",
      "Error processing file 환경친화적 산업구조로의 전환촉진에 관한 법률.csv: '조문내용'\n",
      "Processing : 법령별2트/환경친화적 선박의 개발 및 보급 촉진에 관한 법률.csv\n",
      "Error processing file 환경친화적 선박의 개발 및 보급 촉진에 관한 법률.csv: '조문내용'\n",
      "Processing : 법령별2트/환경친화적 자동차의 개발 및 보급 촉진에 관한 법률.csv\n",
      "Error processing file 환경친화적 자동차의 개발 및 보급 촉진에 관한 법률.csv: '조문내용'\n",
      "Processing : 법령별2트/환자안전법.csv\n",
      "Error processing file 환자안전법.csv: '조문내용'\n",
      "Processing : 법령별2트/회계관계직원 등의 책임에 관한 법률.csv\n",
      "Error processing file 회계관계직원 등의 책임에 관한 법률.csv: '조문내용'\n",
      "Processing : 법령별2트/후계농어업인 및 청년농어업인 육성ㆍ지원에 관한 법률.csv\n",
      "Error processing file 후계농어업인 및 청년농어업인 육성ㆍ지원에 관한 법률.csv: '조문내용'\n",
      "Processing : 법령별2트/후천성면역결핍증 예방법.csv\n",
      "Error processing file 후천성면역결핍증 예방법.csv: '조문내용'\n",
      "Processing : 법령별2트/희귀질환관리법.csv\n",
      "Error processing file 희귀질환관리법.csv: '조문내용'\n",
      "Processing : 법령별2트/법령내용없음목록.csv\n",
      "Error processing file 법령내용없음목록.csv: '조문내용'\n"
     ]
    }
   ],
   "source": [
    "import pandas as pd\n",
    "import os\n",
    "\n",
    "def process_files(folder_path, target_folder):\n",
    "    # Ensure target directory exists\n",
    "    if not os.path.exists(target_folder):\n",
    "        os.makedirs(target_folder)\n",
    "    \n",
    "    # Process each file in the folder\n",
    "    for file_name in os.listdir(folder_path):\n",
    "        try:\n",
    "            if file_name.endswith('.csv'):\n",
    "                file_path = os.path.join(folder_path, file_name)\n",
    "                df = pd.read_csv(file_path, encoding='utf-8-sig', sep='\\t')\n",
    "                print(f\"Processing : {file_path}\")\n",
    "\n",
    "                # Remove duplicate cell contents and replace NaN values with ' '\n",
    "                df = remove_duplicate_cell_contents(df, ['조문내용', '항', '호', '목'])\n",
    "                \n",
    "                # Replace NaN values with ''\n",
    "                df = df.fillna('')\n",
    "\n",
    "                # Ensure columns are of type str\n",
    "                for column in ['조문내용', '항', '호', '목']:\n",
    "                    df[column] = df[column].astype(str)\n",
    "\n",
    "                # Save the updated file to the target folder with the same name\n",
    "                target_file_path = os.path.join(target_folder, file_name)\n",
    "                df.to_csv(target_file_path, index=False, encoding='utf-8-sig', sep='\\t')\n",
    "                print(f\"Updated file saved to: {target_file_path}\")\n",
    "        except Exception as e:\n",
    "            print(f\"Error processing file {file_name}: {e}\")\n",
    "            continue\n",
    "\n",
    "def remove_duplicate_cell_contents(df, columns):\n",
    "    # Remove duplicates in specified columns\n",
    "    for column in columns:\n",
    "        last_seen = None\n",
    "        for idx in df.index:\n",
    "            current_value = df.at[idx, column]\n",
    "            if current_value == last_seen:\n",
    "                df.at[idx, column] = ''\n",
    "            else:\n",
    "                last_seen = current_value\n",
    "    return df\n",
    "\n",
    "# Set source and target folder paths\n",
    "folder_path = '법령별2트'\n",
    "target_folder = '법령별_중복제거'\n",
    "process_files(folder_path, target_folder)\n"
   ]
  },
  {
   "cell_type": "code",
   "execution_count": null,
   "metadata": {},
   "outputs": [
    {
     "name": "stdout",
     "output_type": "stream",
     "text": [
      "All files have been merged into '법률_통합.csv'.\n"
     ]
    }
   ],
   "source": [
    "# import pandas as pd\n",
    "# import glob\n",
    "\n",
    "# # 폴더 경로 설정\n",
    "# folder_path = f'./법령별_중복제거_각각처리'\n",
    "\n",
    "# # 모든 CSV 파일 경로 리스트\n",
    "# csv_files = glob.glob(f'{folder_path}/*.csv')\n",
    "\n",
    "# # 사용하고자 하는 컬럼 목록\n",
    "# use_cols = ['법령명한글','조문번호', '조문여부', '조문제목', '조문시행일자', '조문내용', '항', '호', '목']\n",
    "\n",
    "# # 빈 데이터프레임 생성\n",
    "# all_data = pd.DataFrame()\n",
    "\n",
    "# # 에러가 발생한 파일들을 저장할 리스트\n",
    "# error_files = []\n",
    "\n",
    "# # 모든 CSV 파일을 읽어서 하나의 데이터프레임으로 합치기\n",
    "# for file in csv_files:\n",
    "#     try:\n",
    "#         df = pd.read_csv(file, usecols=use_cols,sep='\\t')\n",
    "#         all_data = pd.concat([all_data, df], ignore_index=True)\n",
    "#     except Exception as e:\n",
    "#         print(f\"Error reading {file}: {e}\")\n",
    "#         error_files.append({'file': file, 'error': str(e)})\n",
    "#         continue\n",
    "\n",
    "# # 결과를 CSV 파일로 저장\n",
    "# all_data.to_csv('법률_통합.csv', index=False, encoding='utf-8-sig')\n",
    "\n",
    "# # 에러 파일 목록을 데이터프레임으로 변환 후 CSV 파일로 저장\n",
    "# if error_files:\n",
    "#     error_df = pd.DataFrame(error_files)\n",
    "#     error_df.to_csv('에러_파일_목록.csv', index=False, encoding='utf-8-sig')\n",
    "\n",
    "# print(\"All files have been merged into '법률_통합.csv'.\")\n",
    "# if error_files:\n",
    "#     print(\"Some files encountered errors and have been logged in '에러_파일_목록.csv'.\")\n"
   ]
  },
  {
   "cell_type": "markdown",
   "metadata": {},
   "source": [
    "### 각목/각호/각항"
   ]
  },
  {
   "cell_type": "code",
   "execution_count": null,
   "metadata": {},
   "outputs": [],
   "source": [
    "# import pandas as pd\n",
    "\n",
    "# # CSV 파일 읽기\n",
    "# df = pd.read_csv('법률_통합.csv')\n",
    "\n",
    "# # ---------------------------------\n",
    "# # 1. '호' 칼럼 처리\n",
    "# # ---------------------------------\n",
    "# for i in range(len(df)):\n",
    "#     # 현재 행의 '호' 칼럼 값을 가져오고, NaN은 빈 문자열로 처리\n",
    "#     ho_val = df.at[i, '호'] if pd.notna(df.at[i, '호']) else \"\"\n",
    "#     ho_str = str(ho_val).strip()\n",
    "    \n",
    "#     # '각 목의'가 포함된 행인 경우에만 처리\n",
    "#     if '각 목' in ho_str:\n",
    "#         group_text = ho_str  # 시작 행의 기존 내용\n",
    "#         acc_text = \"\"        # '목' 칼럼 내용을 누적할 변수\n",
    "        \n",
    "#         # 현재 행(i) 이후의 행들(j)을 순회\n",
    "#         for j in range(i + 1, len(df)):\n",
    "#             # 다음 행의 '호' 칼럼 값 (NaN은 빈 문자열)\n",
    "#             next_ho_val = df.at[j, '호'] if pd.notna(df.at[j, '호']) else \"\"\n",
    "#             next_ho_str = str(next_ho_val).strip()\n",
    "            \n",
    "#             # 만약 다음 행의 '호' 칼럼이 공백이 아니라면(새 그룹의 시작이라면) 중단\n",
    "#             if next_ho_str != \"\":\n",
    "#                 break\n",
    "            \n",
    "#             # 그렇지 않다면, 해당 행의 '목' 칼럼 내용을 가져와 누적\n",
    "#             mok_val = df.at[j, '목'] if pd.notna(df.at[j, '목']) else \"\"\n",
    "#             mok_str = str(mok_val).strip()\n",
    "#             if mok_str != \"\":\n",
    "#                 if acc_text:\n",
    "#                     acc_text += \" \" + mok_str\n",
    "#                 else:\n",
    "#                     acc_text = mok_str\n",
    "        \n",
    "#         # 누적된 '목' 내용이 있다면 원래 '호' 칼럼 값 뒤에 추가\n",
    "#         if acc_text:\n",
    "#             df.at[i, '호'] = group_text + \" \" + acc_text\n",
    "\n",
    "# # ---------------------------------\n",
    "# # 2. '항' 칼럼 처리\n",
    "# # ---------------------------------\n",
    "# for i in range(len(df)):\n",
    "#     hang_val = df.at[i, '항'] if pd.notna(df.at[i, '항']) else \"\"\n",
    "#     hang_str = str(hang_val).strip()\n",
    "    \n",
    "#     # '각 목의' 또는 '각 호의'가 포함된 행인 경우에만 처리\n",
    "#     if '각 목의' in hang_str or '각 호의' in hang_str:\n",
    "#         group_text = hang_str  # 시작 행의 기존 내용\n",
    "#         acc_text = \"\"          # 누적할 텍스트 변수\n",
    "        \n",
    "#         # '각 목의'가 포함된 경우에는 '목' 칼럼, '각 호의'가 포함된 경우에는 '호' 칼럼 데이터를 누적\n",
    "#         source_col = '목' if '각 목의' in hang_str else '호'\n",
    "        \n",
    "#         # 현재 행(i) 이후의 행들을 순회\n",
    "#         for j in range(i + 1, len(df)):\n",
    "#             next_hang_val = df.at[j, '항'] if pd.notna(df.at[j, '항']) else \"\"\n",
    "#             next_hang_str = str(next_hang_val).strip()\n",
    "            \n",
    "#             # 다음 행의 '항' 칼럼이 비어있지 않으면 새로운 그룹이 시작된 것으로 판단하고 중단\n",
    "#             if next_hang_str != \"\":\n",
    "#                 break\n",
    "            \n",
    "#             # 지정된 source_col ('목' 또는 '호') 의 데이터를 누적\n",
    "#             source_val = df.at[j, source_col] if pd.notna(df.at[j, source_col]) else \"\"\n",
    "#             source_str = str(source_val).strip()\n",
    "#             if source_str != \"\":\n",
    "#                 if acc_text:\n",
    "#                     acc_text += \" \" + source_str\n",
    "#                 else:\n",
    "#                     acc_text = source_str\n",
    "        \n",
    "#         # 누적된 데이터가 있다면 기존 '항' 칼럼 값에 병합\n",
    "#         if acc_text:\n",
    "#             df.at[i, '항'] = group_text + \" \" + acc_text\n",
    "\n",
    "\n",
    "# # ---------------------------------\n",
    "# # 결과 저장\n",
    "# # ---------------------------------\n",
    "# df.to_csv('법률_통합_중간결과.csv', index=False)\n"
   ]
  },
  {
   "cell_type": "code",
   "execution_count": null,
   "metadata": {},
   "outputs": [],
   "source": [
    "# import pandas as pd\n",
    "\n",
    "# # CSV 파일 읽기\n",
    "# df = pd.read_csv('법률_통합_중간결과.csv')\n",
    "\n",
    "# # 삭제할 행 인덱스를 저장할 집합\n",
    "# rows_to_drop = set()\n",
    "\n",
    "# # ---------------------------------\n",
    "# # 1. '호' 칼럼 처리 (각 목의)\n",
    "# # ---------------------------------\n",
    "# for i in range(len(df)):\n",
    "#     # 현재 행의 '호' 칼럼 값 (NaN은 빈 문자열로 처리)\n",
    "#     ho_val = df.at[i, '호'] if pd.notna(df.at[i, '호']) else \"\"\n",
    "#     ho_str = str(ho_val).strip()\n",
    "    \n",
    "#     # '각 목의'가 포함된 행을 기준으로 처리\n",
    "#     if '각 목의' in ho_str:\n",
    "#         group_text = ho_str  # 그룹 시작 행의 기존 내용\n",
    "#         acc_text = \"\"        # 이후 행들의 '목' 칼럼 내용을 누적할 변수\n",
    "        \n",
    "#         # 현재 행(i) 이후의 행들을 순회\n",
    "#         for j in range(i + 1, len(df)):\n",
    "#             next_ho_val = df.at[j, '호'] if pd.notna(df.at[j, '호']) else \"\"\n",
    "#             next_ho_str = str(next_ho_val).strip()\n",
    "            \n",
    "#             # 다음 행의 '호' 칼럼이 공백이 아니라면 그룹 종료\n",
    "#             if next_ho_str != \"\":\n",
    "#                 break\n",
    "            \n",
    "#             # 그렇지 않으면 '목' 칼럼의 내용을 가져와 누적\n",
    "#             mok_val = df.at[j, '목'] if pd.notna(df.at[j, '목']) else \"\"\n",
    "#             mok_str = str(mok_val).strip()\n",
    "#             if mok_str != \"\":\n",
    "#                 if acc_text:\n",
    "#                     acc_text += \" \" + mok_str\n",
    "#                 else:\n",
    "#                     acc_text = mok_str\n",
    "#                 # 해당 행(j)은 통합에 사용되었으므로 삭제 대상에 추가\n",
    "#                 rows_to_drop.add(j)\n",
    "        \n",
    "#         # 누적된 '목' 내용이 있다면 원래 '호' 칼럼 값에 추가\n",
    "#         if acc_text:\n",
    "#             df.at[i, '호'] = group_text + \" \" + acc_text\n",
    "\n",
    "# # ---------------------------------\n",
    "# # 2. '항' 칼럼 처리 (각 호의)\n",
    "# # ---------------------------------\n",
    "# for i in range(len(df)):\n",
    "#     # 현재 행의 '항' 칼럼 값 (NaN은 빈 문자열로 처리)\n",
    "#     hang_val = df.at[i, '항'] if pd.notna(df.at[i, '항']) else \"\"\n",
    "#     hang_str = str(hang_val).strip()\n",
    "    \n",
    "#     # '각 호의'가 포함된 행을 기준으로 처리\n",
    "#     if '각 호의' in hang_str:\n",
    "#         group_text = hang_str  # 그룹 시작 행의 기존 내용\n",
    "#         acc_text = \"\"          # 이후 행들의 '호' 칼럼 내용을 누적할 변수\n",
    "        \n",
    "#         # 현재 행(i) 이후의 행들을 순회\n",
    "#         for j in range(i + 1, len(df)):\n",
    "#             next_hang_val = df.at[j, '항'] if pd.notna(df.at[j, '항']) else \"\"\n",
    "#             next_hang_str = str(next_hang_val).strip()\n",
    "            \n",
    "#             # 다음 행의 '항' 칼럼이 공백이 아니라면 그룹 종료\n",
    "#             if next_hang_str != \"\":\n",
    "#                 break\n",
    "            \n",
    "#             # 그렇지 않으면 '호' 칼럼의 내용을 가져와 누적\n",
    "#             ho_val = df.at[j, '호'] if pd.notna(df.at[j, '호']) else \"\"\n",
    "#             ho_str = str(ho_val).strip()\n",
    "#             if ho_str != \"\":\n",
    "#                 if acc_text:\n",
    "#                     acc_text += \" \" + ho_str\n",
    "#                 else:\n",
    "#                     acc_text = ho_str\n",
    "#                 # 해당 행(j)은 통합에 사용되었으므로 삭제 대상에 추가\n",
    "#                 rows_to_drop.add(j)\n",
    "        \n",
    "#         # 누적된 '호' 내용이 있다면 원래 '항' 칼럼 값에 추가\n",
    "#         if acc_text:\n",
    "#             df.at[i, '항'] = group_text + \" \" + acc_text\n",
    "\n",
    "# # ---------------------------------\n",
    "# # 통합에 사용된 행들 제거\n",
    "# # ---------------------------------\n",
    "# df.drop(index=list(rows_to_drop), inplace=True)\n",
    "\n",
    "# # ---------------------------------\n",
    "# # 결과 저장\n",
    "# # ---------------------------------\n",
    "# df.to_csv('법률_통합_최종결과.csv', index=False)\n"
   ]
  },
  {
   "cell_type": "code",
   "execution_count": null,
   "metadata": {},
   "outputs": [],
   "source": [
    "import os\n",
    "import glob\n",
    "import pandas as pd\n",
    "\n",
    "def process_csv_files(input_folder, output_folder):\n",
    "    # output_folder가 없으면 생성\n",
    "    if not os.path.exists(output_folder):\n",
    "        os.makedirs(output_folder)\n",
    "    \n",
    "    # input_folder 내의 모든 CSV 파일 리스트\n",
    "    csv_files = glob.glob(os.path.join(input_folder, \"*.csv\"))\n",
    "    \n",
    "    for file in csv_files:\n",
    "        # CSV 파일 읽기\n",
    "        df = pd.read_csv(file,sep = '\\t')\n",
    "        \n",
    "        # ---------------------------------\n",
    "        # 1. '호' 칼럼 처리\n",
    "        # ---------------------------------\n",
    "        for i in range(len(df)):\n",
    "            # 현재 행의 '호' 칼럼 값을 가져오고, NaN은 빈 문자열로 처리\n",
    "            ho_val = df.at[i, '호'] if pd.notna(df.at[i, '호']) else \"\"\n",
    "            ho_str = str(ho_val).strip()\n",
    "            \n",
    "            # '각 목의'가 포함된 행인 경우에만 처리\n",
    "            if '각 목' in ho_str:\n",
    "                group_text = ho_str  # 시작 행의 기존 내용\n",
    "                acc_text = \"\"        # '목' 칼럼 내용을 누적할 변수\n",
    "                \n",
    "                # 현재 행(i) 이후의 행들(j)을 순회\n",
    "                for j in range(i + 1, len(df)):\n",
    "                    # 다음 행의 '호' 칼럼 값 (NaN은 빈 문자열)\n",
    "                    next_ho_val = df.at[j, '호'] if pd.notna(df.at[j, '호']) else \"\"\n",
    "                    next_ho_str = str(next_ho_val).strip()\n",
    "                    \n",
    "                    # 만약 다음 행의 '호' 칼럼이 공백이 아니라면(새 그룹의 시작이라면) 중단\n",
    "                    if next_ho_str != \"\":\n",
    "                        break\n",
    "                    \n",
    "                    # 그렇지 않다면, 해당 행의 '목' 칼럼 내용을 가져와 누적\n",
    "                    mok_val = df.at[j, '목'] if pd.notna(df.at[j, '목']) else \"\"\n",
    "                    mok_str = str(mok_val).strip()\n",
    "                    if mok_str != \"\":\n",
    "                        if acc_text:\n",
    "                            acc_text += \" \" + mok_str\n",
    "                        else:\n",
    "                            acc_text = mok_str\n",
    "                \n",
    "                # 누적된 '목' 내용이 있다면 원래 '호' 칼럼 값 뒤에 추가\n",
    "                if acc_text:\n",
    "                    df.at[i, '호'] = group_text + \" \" + acc_text\n",
    "        \n",
    "        # ---------------------------------\n",
    "        # 2. '항' 칼럼 처리\n",
    "        # ---------------------------------\n",
    "        for i in range(len(df)):\n",
    "            hang_val = df.at[i, '항'] if pd.notna(df.at[i, '항']) else \"\"\n",
    "            hang_str = str(hang_val).strip()\n",
    "            \n",
    "            # '각 목의' 또는 '각 호의'가 포함된 행인 경우에만 처리\n",
    "            if '각 목의' in hang_str or '각 호의' in hang_str:\n",
    "                group_text = hang_str  # 시작 행의 기존 내용\n",
    "                acc_text = \"\"          # 누적할 텍스트 변수\n",
    "                \n",
    "                # '각 목의'가 포함된 경우에는 '목' 칼럼, '각 호의'가 포함된 경우에는 '호' 칼럼 데이터를 누적\n",
    "                source_col = '목' if '각 목의' in hang_str else '호'\n",
    "                \n",
    "                # 현재 행(i) 이후의 행들을 순회\n",
    "                for j in range(i + 1, len(df)):\n",
    "                    next_hang_val = df.at[j, '항'] if pd.notna(df.at[j, '항']) else \"\"\n",
    "                    next_hang_str = str(next_hang_val).strip()\n",
    "                    \n",
    "                    # 다음 행의 '항' 칼럼이 비어있지 않으면 새로운 그룹이 시작된 것으로 판단하고 중단\n",
    "                    if next_hang_str != \"\":\n",
    "                        break\n",
    "                    \n",
    "                    # 지정된 source_col ('목' 또는 '호')의 데이터를 누적\n",
    "                    source_val = df.at[j, source_col] if pd.notna(df.at[j, source_col]) else \"\"\n",
    "                    source_str = str(source_val).strip()\n",
    "                    if source_str != \"\":\n",
    "                        if acc_text:\n",
    "                            acc_text += \" \" + source_str\n",
    "                        else:\n",
    "                            acc_text = source_str\n",
    "                \n",
    "                # 누적된 데이터가 있다면 기존 '항' 칼럼 값에 병합\n",
    "                if acc_text:\n",
    "                    df.at[i, '항'] = group_text + \" \" + acc_text\n",
    "        \n",
    "        # ---------------------------------\n",
    "        # 결과 저장 (출력 폴더에 원래 파일명으로 저장)\n",
    "        # ---------------------------------\n",
    "        base_filename = os.path.basename(file)\n",
    "        output_file = os.path.join(output_folder, base_filename)\n",
    "        df.to_csv(output_file, index=False, encoding='utf-8-sig',sep='\\t')"
   ]
  },
  {
   "cell_type": "code",
   "execution_count": null,
   "metadata": {},
   "outputs": [],
   "source": [
    "# 예시 사용:\n",
    "process_csv_files('과학기술', '과학기술_조항호목통합')"
   ]
  },
  {
   "cell_type": "markdown",
   "metadata": {},
   "source": [
    "### 형태소 분석"
   ]
  },
  {
   "cell_type": "code",
   "execution_count": null,
   "metadata": {},
   "outputs": [],
   "source": [
    "import pandas as pd"
   ]
  },
  {
   "cell_type": "code",
   "execution_count": null,
   "metadata": {},
   "outputs": [],
   "source": [
    "df = pd.read_csv(\"법률_통합.csv\")"
   ]
  },
  {
   "cell_type": "code",
   "execution_count": null,
   "metadata": {},
   "outputs": [],
   "source": [
    "import konlpy\n",
    "from konlpy.tag import Kkma, Komoran, Okt, Hannanum\n",
    "import pandas as pd"
   ]
  },
  {
   "cell_type": "code",
   "execution_count": null,
   "metadata": {},
   "outputs": [],
   "source": [
    "# Initialize the Okt morphological analyzer\n",
    "kom = Komoran()\n",
    "\n",
    "def analyze_text(text):\n",
    "    try:\n",
    "        return kom.pos(text)\n",
    "    except Exception as e:\n",
    "        print(f\"Error processing text: {text} with error {e}\")\n",
    "        return []  # 빈 리스트나 기본값을 반환"
   ]
  },
  {
   "cell_type": "code",
   "execution_count": null,
   "metadata": {},
   "outputs": [],
   "source": [
    "# Load the CSV file\n",
    "df = pd.read_csv('법률_통합.csv', encoding='utf-8-sig')\n",
    "\n",
    "# Check if '조문내용' column exists and analyze it\n",
    "if '조문내용' in df.columns:\n",
    "    df['조문분석'] = df['조문내용'].apply(analyze_text)\n",
    "else:\n",
    "    print(\"Column '조문내용' not found in the DataFrame.\")\n",
    "\n",
    "# Check if '항' column exists and analyze it\n",
    "try: \n",
    "    df['항분석'] = df['항'].apply(analyze_text)\n",
    "except:\n",
    "    pass\n",
    "\n",
    "# Check if '호' column exists and analyze it\n",
    "try:\n",
    "    df['호분석'] = df['호'].apply(analyze_text)\n",
    "except:\n",
    "    pass\n",
    "\n",
    "# Check if '목' column exists and analyze it\n",
    "try:\n",
    "    df['목분석'] = df['목'].apply(analyze_text)\n",
    "except:\n",
    "    pass"
   ]
  },
  {
   "cell_type": "code",
   "execution_count": null,
   "metadata": {},
   "outputs": [],
   "source": [
    "# 형태소를 저장할 집합\n",
    "unique_morphemes = set()\n",
    "\n",
    "# 각 칼럼에 대해 unique한 형태소를 수집\n",
    "for column in ['조문분석', '항분석', '호분석', '목분석']:\n",
    "    if column in df.columns:\n",
    "        for morpheme_list in df[column]:\n",
    "            unique_morphemes.update(morpheme_list)\n",
    "\n",
    "# unique한 형태소의 개수 출력\n",
    "print(f\"Number of unique morphemes: {len(unique_morphemes)}\")\n"
   ]
  },
  {
   "cell_type": "code",
   "execution_count": null,
   "metadata": {},
   "outputs": [],
   "source": [
    "df.to_csv(f\"법률_꼬마_형태소분석_dict없음.csv\", index=False, encoding='utf-8-sig')"
   ]
  },
  {
   "cell_type": "code",
   "execution_count": null,
   "metadata": {},
   "outputs": [],
   "source": []
  }
 ],
 "metadata": {
  "kernelspec": {
   "display_name": "bylaw",
   "language": "python",
   "name": "python3"
  },
  "language_info": {
   "codemirror_mode": {
    "name": "ipython",
    "version": 3
   },
   "file_extension": ".py",
   "mimetype": "text/x-python",
   "name": "python",
   "nbconvert_exporter": "python",
   "pygments_lexer": "ipython3",
   "version": "3.10.17"
  }
 },
 "nbformat": 4,
 "nbformat_minor": 2
}
